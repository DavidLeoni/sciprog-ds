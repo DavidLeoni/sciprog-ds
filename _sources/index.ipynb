{
 "cells": [
  {
   "cell_type": "markdown",
   "metadata": {},
   "source": [
    "# Scientific Programming Lab\n",
    "\n",
    "**Data Science Master @University of Trento** - AA 2021/22\n",
    "\n"
   ]
  },
  {
   "cell_type": "raw",
   "metadata": {
    "raw_mimetype": "text/latex"
   },
   "source": [
    "% Latex fixes, DO NOT DELETE THIS !!!!\n",
    "\n",
    "% need to demote chapters to sections because sphinx promotes them *just in the home* :-/\n",
    "% https://tex.stackexchange.com/questions/161259/macro-for-promoting-sections-to-chapters\n",
    "% for alternatives, see https://texfaq.org/FAQ-patch\n",
    "\n",
    "\\let\\truechapter\\chapter\n",
    "\\let\\truesection\\section\n",
    "\\let\\truesubsection\\subsection\n",
    "\\let\\truesubsubsection\\subsubsection\n",
    "\\let\\truethesection\\thesection\n",
    "\n",
    "\\let\\chapter\\truesection\n",
    "\\let\\section\\truesubsection\n",
    "% suspend number printing , according to   https://tex.stackexchange.com/a/80114\n",
    "\\renewcommand\\thesection{}\n",
    "\n",
    "\\truesection{About}"
   ]
  },
  {
   "cell_type": "raw",
   "metadata": {
    "raw_mimetype": "text/html"
   },
   "source": [
    "<!-- HTML download links -->\n",
    "\n",
    " DOWNLOAD: &nbsp;&nbsp; <a href=\"https://sciprog.davidleoni.it/sciprog-ds.pdf\" target=\"_blank\">PDF</a>\n",
    "           &nbsp;&nbsp; <a href=\"https://sciprog.davidleoni.it/sciprog-ds.epub\" target=\"_blank\"> EPUB </a>\n",
    "           &nbsp;&nbsp; <a href=\"https://github.com/DavidLeoni/sciprog-ds/archive/sciprog.davidleoni.it.zip\" target=\"_blank\"> HTML </a>\n",
    "           &nbsp;&nbsp; <a href=\"https://github.com/DavidLeoni/sciprog-ds\" target=\"_blank\"> Github </a>\n",
    " <br/>\n",
    " <br/>"
   ]
  },
  {
   "cell_type": "markdown",
   "metadata": {},
   "source": [
    "Teaching assistant: David Leoni  david.leoni@unitn.it  website: [davidleoni.it](http://www.davidleoni.it)\n",
    "\n",
    "This work is licensed under a Creative Commons Attribution 4.0 License  [CC-BY](https://creativecommons.org/licenses/by/4.0/) \n",
    "\n",
    "![cc-by jiu99](_static/img/cc-by.png)\n"
   ]
  },
  {
   "cell_type": "raw",
   "metadata": {
    "raw_mimetype": "text/latex"
   },
   "source": [
    "% Latex: preface for book\n",
    "\n",
    "\\truesection{Preface}\n",
    "\n",
    "\\begin{quote}\n",
    "\n",
    "Once men turned their thinking over to machines in the hope that this would set them free. But that only permitted other men with machines to enslave them. ― Frank Herbert, Dune, 1965\n",
    "\\end{quote}\n",
    "\n",
    "You can let your smart devices decide what you should see and think, or you can understand how they work.\n",
    "\n",
    "Make your choice."
   ]
  },
  {
   "cell_type": "markdown",
   "metadata": {},
   "source": [
    "## Timetable and lecture rooms\n",
    "\n",
    "**DS Labs:**\n",
    "\n",
    "- Thursdays 15.30-17.30 room B106\n",
    "- Fridays 17.30-19.30 room A207\n",
    "\n",
    "This year practicals will take place in person. This first part of the course will run from Thursday, September 23rd\n",
    "\n",
    "**Tutoring:** by Gabriele Masina  (gabriele.masina (guess what) studenti.unitn.it)\n",
    "\n",
    "starting from Monday 15 november until Wednesday 15 december (included):\n",
    "\n",
    "- Mondays: 9:30-11:30 A202\n",
    "\n",
    "- Wednesdays: 9:30-11:30 A202\n",
    "\n",
    "\n",
    "**Complete timetable:**\n",
    "\n",
    "* Part A: [Andrea Passerini's course site](http://disi.unitn.it/~passerini/teaching/2021-2022/sci-pro/)\n",
    "* Part B: Erik Dassi's course material is [on Moodle](https://didatticaonline.unitn.it/dol/course/view.php?id=32585)"
   ]
  },
  {
   "cell_type": "markdown",
   "metadata": {},
   "source": [
    "**Moodle**: In the [Moodle page of the course](https://didatticaonline.unitn.it/dol/course/view.php?id=32585) you can find announcements and your repl links.\n",
    "\n",
    "<!--### Zoom links\n",
    "\n",
    "The zoom links for the practicals can be found in the [announcement on Moodle](https://didatticaonline.unitn.it/dol/mod/forum/discuss.php?d=164489)\n",
    "-->"
   ]
  },
  {
   "cell_type": "markdown",
   "metadata": {
    "raw_mimetype": "text/markdown"
   },
   "source": [
    "## [Lab slides](slides.ipynb)"
   ]
  },
  {
   "cell_type": "markdown",
   "metadata": {},
   "source": [
    "\n",
    "## News\n",
    "\n",
    "**Wed 12, Jan 2022**: Published [exam solutions](exams/2022-01-12/solutions/exam-2022-01-12-sol.ipynb)\n",
    "\n",
    "**Thu 16, Dec 2021**: Published [exam solutions](exams/2021-12-16/solutions/exam-2021-12-16.ipynb)\n",
    "\n",
    "**Fri 12, Nov 2021**: Published [exam solutions](exams/2021-11-12/solutions/exam-2021-11-12-sol.ipynb)\n",
    "\n",
    "- I fixed the expected output and tests for cartels\n",
    "\n",
    "**5 November 2021**: Published [midterm simulation solutions](exams/2021-11-05/solutions/exam-2021-11-05-sol.ipynb):\n",
    "\n",
    "- I fixed the tests\n",
    "- to display filled nodes you also need to add the property `style='filled'`\n",
    "\n",
    "24 Friday September lab is cancelled. Regular meetings will start again from Thursday 30 September\n",
    "\n",
    "6 September 2021: Published [exam solutions](exams/2021-09-06/solutions/exam-2021-09-06-sol.ipynb)\n",
    "\n",
    "12 July 2021:  Published [exam solutions](exams/2021-07-12/solutions/exam-2021-07-12-sol.ipynb)\n",
    "\n",
    "11 June 2021:  Published [exam solutions](exams/2021-06-11/solutions/exam-2021-06-11-sol.ipynb)"
   ]
  },
  {
   "cell_type": "markdown",
   "metadata": {},
   "source": [
    "**12 September 2020:**\n",
    "\n",
    "- Moved DS Lab website to [sciprog.davidleoni.it](https://sciprog.davidleoni.it)\n",
    "- Simplified exercises structure\n",
    "\n",
    "\n",
    "[Old news](old-news.ipynb)"
   ]
  },
  {
   "cell_type": "raw",
   "metadata": {
    "raw_mimetype": "text/latex"
   },
   "source": [
    "% Latex: fix for book structure\n",
    "\n",
    "\\let\\thesection\\truethesection\n",
    "\\truechapter{Overview}\n"
   ]
  },
  {
   "cell_type": "markdown",
   "metadata": {},
   "source": [
    "## Office hours\n",
    "\n",
    "To schedule a meeting, [see here](http://www.davidleoni.it/office-hours)"
   ]
  },
  {
   "cell_type": "markdown",
   "metadata": {},
   "source": [
    "\n",
    "## References\n",
    "\n",
    "### Part A  References\n",
    "\n",
    "\n",
    "* Part A [Theory slides](http://disi.unitn.it/~passerini/teaching/2021-2022/sci-pro/)  by Andrea Passerini\n",
    "\n",
    "* See [References on SoftPython website](http://en.softpython.org/references.html)"
   ]
  },
  {
   "cell_type": "markdown",
   "metadata": {},
   "source": [
    "### [Part B References page](references.ipynb)"
   ]
  },
  {
   "cell_type": "markdown",
   "metadata": {},
   "source": [
    "### Editors\n",
    "\n",
    "* [Visual Studio Code](https://code.visualstudio.com/): the course official editor. \n",
    "* [Spyder](https://pythonhosted.org/spyder/): Seems like a fine and simple editor\n",
    "* [PyCharme Community Edition](https://www.jetbrains.com/pycharm/download/#section=linux)\n",
    "* [Jupyter Notebook](http://jupyter.org): Nice environment to execute Python commands and display results like graphs. Allows to include documentation in Markdown format\n",
    "* [JupyterLab](https://github.com/jupyterlab/jupyterlab) : next and much better version of Jupyter, although as of Sept 2018 is still in beta\n",
    "* [PythonTutor](http://www.pythontutor.com/visualize.html#mode=edit), a visual virtual machine (_very useful_! can also be found in examples inside the book!)\n",
    "\n",
    "\n"
   ]
  },
  {
   "cell_type": "markdown",
   "metadata": {},
   "source": [
    "\n",
    "## Exams\n",
    "\n"
   ]
  },
  {
   "cell_type": "markdown",
   "metadata": {},
   "source": [
    "### Past exams\n",
    "\n",
    "* [Past exams page](past-exams.ipynb)\n"
   ]
  },
  {
   "cell_type": "markdown",
   "metadata": {},
   "source": [
    "### Exam modalities\n",
    "\n",
    "**Make practice with the lab computers !!** \n",
    "\n",
    "Exam will be in Linux Ubuntu environment (even when online) - so learn how to browse folders there and if in presence also typing with noisy lab keyboards :-)\n",
    "\n",
    "**Exams are open book**: You will only be given online access to this documentation (you **can't** bring printed notes):\n",
    "\n",
    "* [Sciprog lab website](https://sciprog.davidleoni.it)\n",
    "* [Andrea Passerini slides](http://disi.unitn.it/~passerini/teaching/2021-2022/sci-pro/) and Erik Dassi slides\n",
    "* [Python 3 documentation](https://docs.python.org/3/)\n",
    "    * In particular, [Unittest docs](https://docs.python.org/3/library/unittest.html)\n",
    "    * If you need to look up some Python function, please start today learning how to search documentation on Python website.\n",
    "* Part A: [Think Python](https://runestone.academy/runestone/static/thinkcspy/index.html) book\n",
    "* Part B: [Problem Solving with Algorithms and Data Structures using Python](https://runestone.academy/runestone/static/pythonds/index.html) book\n"
   ]
  },
  {
   "cell_type": "markdown",
   "metadata": {},
   "source": [
    "### Expectations\n",
    "\n",
    "This is a data science master, so you must learn to be a proficient programmer - no matter the background you have. \n",
    "\n",
    "Exercises proposed during labs are an example of what you will get during the exam, BUT **there is no way you can learn the required level of programming  only doing exercises on this website or softpython**. Fortunately, since Python is so trendy nowadays there are a zillion good resources to hone your skills - you can find some in [References](#References)\n",
    "\n",
    "To successfully pass the exam, you should be able to quickly solve exercises proposed during labs with difficulty ranging from ✪ to ✪✪✪ stars. By quickly I mean in half on hour you should be able to solve a three star exercise ✪✪✪. \n",
    "\n",
    "Before getting scared, keep in mind I'm most interested in your capability to understand the problem and find your way to the solution. In real life, junior programmers are often given by senior colleagues functions to implement based on specifications and possibly tests to make sure what they are implementing meets the specifications. Also, programmers copy code all of the time.  This is why during the exam I give you tests for the functions to implement so you can quickly spot errors, and also let you use the course material (see [exam modalities](#Exam-modalities)). "
   ]
  },
  {
   "cell_type": "markdown",
   "metadata": {},
   "source": [
    "**Part A expectations**: performance does _not_ matters: if you are able to run the required algorithm on your computer and the tests pass, it should be fine. Just be careful when given a 100Mb file, in that case sometimes bad code may lead to very slow execution and/or clog the memory. \n",
    "\n",
    "In particular, in lab computers the whole system can even hang, so watch out for errors such as:\n",
    "\n",
    "- infinite `while` which keeps adding new elements to lists - whenever possible, prefer `for` loops\n",
    "- scanning a big pandas dataframe using a `for in` instead of pandas native transformations \n",
    "\n"
   ]
  },
  {
   "cell_type": "markdown",
   "metadata": {},
   "source": [
    "**Part B expectations:** performance _does_ matters (i.e. finding the diagonal of a matrix should take a time linearly proportional to $n$, not $n^2$). Also, in this part we will deal with more complex data structures. Here we generally follow the _Do It Yourself_ method, reimplementing things from scratch. So please, use the brain:\n",
    "\n",
    "* if the exercise is about _sorting,_ _do not_ call Python `.sort()` method !!!\n",
    "* if the exercise is about data structures, and you are thinking about converting the whole data structure (or part of it) into  python lists, _first,_ think about the computational cost of such conversion, and _second,_ do ask the instructor for permission.\n"
   ]
  },
  {
   "cell_type": "markdown",
   "metadata": {},
   "source": [
    "### Grading\n",
    "\n",
    "**Taking part to an exam erases** ***any*** **vote you had before** (except for Midterm B which of course doesn't erase Midterm A taken in the same academic year)\n",
    "\n",
    "**Correct implementations**: Correct implementations with the required complexity grant you full grade.\n",
    "\n",
    "**Partial implementations**: Partial implementations _might_ still give you a few points. If you just can't solve an exercise,  try to solve it at least for some subcase (i.e. array of fixed size 2) commenting why you did so. \n",
    "\n",
    "\n",
    "When all tests pass hopefully should get full grade (although tests are never exhaustive!), but if the code is not correct you will still get a percentage. Percentage of course is _subjective,_ and may depend on unfathomable factors such as the quantity of jam I found in the morning croissant that particular day. Jokes aside, the percentage you get is usually inversely proportional to the amount of time I spend fixing your algorithm. \n",
    "\n",
    "After exams I publish the code with corrections. If all tests pass and you still don't get 100% grade, you may come to my office questioning the grade. If tests _don't_  pass I'm less available for debating - I don't like much complaints like 'my colleague did the same error as me and got more points' - even worse is complaining without having read the corrections."
   ]
  },
  {
   "cell_type": "markdown",
   "metadata": {},
   "source": [
    "### Exams FAQ\n",
    "\n",
    "First and foremost, I'm not the boss here, please refer to exam rules explained by [Andrea Passerini](http://disi.unitn.it/~passerini/teaching/2021-2022/sci-pro/slides/00-introcorso.pdf) slides.\n",
    "\n",
    "I add here some further questions I sometimes receive - luckily, answers are pretty easy to remember.\n",
    "\n",
    "**Can I have additional retake just for me?**\n",
    "\n",
    "No way. \n",
    "\n",
    "**Can I have additional oral to increase the grade?**\n",
    "\n",
    "No way. \n",
    "\n",
    "**I have** $\\pi + \\sqrt{7}$ **INF credits from a Summer School in Applied Calculonics, can I please give only Part B?**  \n",
    "\n",
    "I'm not into credits engineering, please ask the administrative office or/and Passerini.\n",
    "\n",
    "**I have another request which does not concern corrections / possibly wrong grading**\n",
    "\n",
    "I'm not the boss, ask Passerini.\n",
    "\n",
    "**I've got 26.99 but this is my last exam and I really need 27 so I can get good master final outcome, could you please raise the grade of just that little 0.01?**\n",
    "\n",
    "Preposterous requests like this will be forwarded to our [T-800 assistent](_static/img/judgement-day.png), _it's very efficient_ "
   ]
  },
  {
   "cell_type": "markdown",
   "metadata": {},
   "source": [
    "### Exams How To"
   ]
  },
  {
   "cell_type": "markdown",
   "metadata": {
    "scrolled": true
   },
   "source": [
    "\n",
    "**Make sure all exercises at least compile!**\n",
    "\n",
    "**Don't forget duplicated code around!** \n",
    "\n",
    "If I see duplicated code, I don't know what to grade, I waste time, and you don't want me angry while grading.\n",
    "\n",
    "\n",
    "\n",
    "**Only implementations of provided function signatures will be evaluated !!**"
   ]
  },
  {
   "cell_type": "markdown",
   "metadata": {},
   "source": [
    "\n",
    "For example, if you are given to implement: \n",
    "\n",
    "```python\n",
    "    def f(x):\n",
    "        raise Exception(\"TODO implement me\")\n",
    "```\n",
    "\n",
    "and you ship this code:\n",
    "\n",
    "``` python\n",
    "def my_f(x):\n",
    "    # a super fast, correct and stylish implementation\n",
    "\n",
    "def f(x):\n",
    "    raise Exception(\"TODO implement me\")\n",
    "```\n",
    "\n",
    "We will assess only the latter one `f(x)`, and conclude it doesn't work at all :P   !!!!!!!\n",
    "\n",
    "**Helper functions**\n",
    "\n",
    "Still, you are allowed to define any extra helper function you might need. If your `f(x)` implementation calls some other function you defined like `my_f` here, it is ok:\n",
    "\n",
    "```python\n",
    "# Not called by f, will get ignored:\n",
    "def my_g(x):\n",
    "    # bla\n",
    "\n",
    "# Called by f, will be graded:\n",
    "def my_f(y,z):\n",
    "    # bla\n",
    "\n",
    "def f(x):\n",
    "    my_f(x,5)\n",
    "    \n",
    "\n",
    "```\n",
    "\n",
    "\n",
    "\n",
    "#### How to edit and run\n",
    "\n",
    "Look in _Applications->Programming:_\n",
    "\n",
    "* Part A: **Jupyter**: open `Terminal` and type `jupyter notebook`\n",
    "* Part B: open **Visual Studio Code**\n",
    "\n",
    "If for whatever reason tests don't work in Visual Studio Code, be prepared to run them in the Terminal."
   ]
  },
  {
   "cell_type": "markdown",
   "metadata": {},
   "source": [
    "\n",
    "**PAY close attention to function comments!**\n",
    "\n",
    "**DON'T modify function signatures!** Just provide the implementation\n",
    "\n",
    "**DON'T change existing test methods.** If you want, you can add tests\n",
    "\n",
    "**DON'T create other files.** If you still do it, they won't be evaluated"
   ]
  },
  {
   "cell_type": "markdown",
   "metadata": {},
   "source": [
    "#### Debugging \n",
    "\n",
    "If you need to print some debugging information, you are allowed to put extra <code>print</code>\n",
    "    statements in the function bodies"
   ]
  },
  {
   "cell_type": "markdown",
   "metadata": {},
   "source": [
    "Even if print statements are allowed, be careful with prints that might break your function! For example, avoid stuff like this: "
   ]
  },
  {
   "cell_type": "markdown",
   "metadata": {},
   "source": [
    "```python\n",
    "x = 0\n",
    "print(1/x)\n",
    "```"
   ]
  },
  {
   "cell_type": "markdown",
   "metadata": {},
   "source": [
    "\n",
    "## Acknowledgements\n",
    "\n",
    "This website and related courses were funded mainly by [Department of Information Engineering and Computer Science (DISI)](https://www.disi.unitn.it), University of Trento, and also [Mathematics](https://www.maths.unitn.it/en) and [CIBIO](https://www.cibio.unitn.it/) departments.\n",
    "\n",
    "![unitn-843724](_static/img/third-parties/disi-unitn-en-logo.png)\n",
    "\n",
    "![cc-by-7172829](_static/img/cc-by.png)\n",
    "\n",
    "I wish also to thank Dr. Luca Bianco for the introductory material on Visual Studio Code and Python, and Dr. Alberto Montresor for having introduced me to first labs and slides on graphs.\n",
    "\n",
    "All the material in this website is distributed with license CC-BY 4.0 International Attribution [creativecommons.org/licenses/by/4.0/deed.en](https://creativecommons.org/licenses/by/4.0/deed.en) Basically, you can freely redistribute and modify the content, just remember to cite Universit of Trento and the present author. \n",
    "\n",
    "Technical notes: all website pages are easily modifiable Jupyter notebooks, that were  converted to web pages using [NBSphinx](https://nbsphinx.readthedocs.io) using [Jupman](https://github.com/DavidLeoni/jupman) template. Text sources are on Github:  [github.com/DavidLeoni/sciprog-ds](https://github.com/DavidLeoni/sciprog-ds)"
   ]
  },
  {
   "cell_type": "raw",
   "metadata": {
    "raw_mimetype": "text/latex"
   },
   "source": [
    "% Latex: Restores all the previous substitutions \n",
    "% DO NOT DELETE THIS !!!!\n",
    " \n",
    "\\let\\chapter\\truechapter\n",
    "\\let\\section\\truesection\n",
    "\\let\\subsection\\truesubsection\n",
    "\\let\\subsubsection\\truesubsubsection"
   ]
  }
 ],
 "metadata": {
  "celltoolbar": "Raw Cell Format",
  "kernelspec": {
   "display_name": "Python 3 (ipykernel)",
   "language": "python",
   "name": "python3"
  },
  "language_info": {
   "codemirror_mode": {
    "name": "ipython",
    "version": 3
   },
   "file_extension": ".py",
   "mimetype": "text/x-python",
   "name": "python",
   "nbconvert_exporter": "python",
   "pygments_lexer": "ipython3",
   "version": "3.7.10"
  },
  "toc": {
   "base_numbering": 1,
   "nav_menu": {},
   "number_sections": false,
   "sideBar": true,
   "skip_h1_title": false,
   "title_cell": "Table of Contents",
   "title_sidebar": "Contents",
   "toc_cell": false,
   "toc_position": {},
   "toc_section_display": true,
   "toc_window_display": true
  }
 },
 "nbformat": 4,
 "nbformat_minor": 2
}
