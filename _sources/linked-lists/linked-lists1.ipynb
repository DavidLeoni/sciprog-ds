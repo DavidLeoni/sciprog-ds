{
 "cells": [
  {
   "cell_type": "code",
   "execution_count": 1,
   "metadata": {},
   "outputs": [],
   "source": [
    "#jupman-preprocess\n",
    "#jupman-purge-io\n",
    "import sys;\n",
    "sys.path.append('../'); \n",
    "import jupman;"
   ]
  },
  {
   "cell_type": "markdown",
   "metadata": {},
   "source": [
    "# Linked lists\n",
    "\n",
    "## [Download exercises zip](../_static/generated/linked-lists.zip)\n",
    "\n",
    "[Browse files online](https://github.com/DavidLeoni/sciprog-ds/tree/master/linked-lists)\n"
   ]
  },
  {
   "cell_type": "markdown",
   "metadata": {
    "collapsed": true
   },
   "source": [
    "\n",
    "## 0 Introduction\n",
    "\n",
    "In these exercises, you will be implementing several versions of a `LinkedList`, improving its performances with each new version. \n",
    "\n",
    "### References\n",
    "\n",
    "* [Luca Bianco's theory slides](https://sciproalgo2020.readthedocs.io/en/latest/slides/Lecture4.pdf) (Monodirectional list)\n",
    "* [LinkedList Abstract Data Type](http://interactivepython.org/runestone/static/pythonds/BasicDS/TheUnorderedListAbstractDataType.html) on the book\n",
    "* [Implementing LinkedListLinkedLists](http://interactivepython.org/runestone/static/pythonds/BasicDS/ImplementinganUnorderedListLinkedLists.html) on the book\n",
    "\n",
    "**NOTE**: What the book calls `UnorderedList`, in this lab is just called `LinkedList`. May look confusing, but in the wild you will never find code called `UnorderedList` so let's get rid of the weird name right now!\n"
   ]
  },
  {
   "cell_type": "markdown",
   "metadata": {},
   "source": [
    "\n",
    "### What to do\n",
    "\n",
    "- unzip exercises in a folder, you should get something like this: \n",
    "\n",
    "```\n",
    "linked-lists\n",
    "    linked-lists.ipynb         \n",
    "    linked_list_test.py\n",
    "    linked_list.py               \n",
    "    linked_list_sol.py         \n",
    "    linked_list_v2_sol.py         \n",
    "    linked_list_v2_test_sol.py         \n",
    "    linked_list_v3_sol.py         \n",
    "    linked_list_v3_test_sol.py         \n",
    "    jupman.py\n",
    "    sciprog.py         \n",
    "```\n",
    "\n",
    "\n",
    "- open the editor of your choice (for example Visual Studio Code, Spyder or PyCharme), you will edit the files ending in `.py` files\n",
    "- Go on reading this notebook, and follow instuctions inside.\n"
   ]
  },
  {
   "cell_type": "markdown",
   "metadata": {},
   "source": [
    "### 0.1 Initialization\n",
    "\n",
    "A `LinkedList` for us is a linked list starting with a pointer called _head_ that points to the first `Node` (if the list is empty the pointer points to `None`). Think of the list as a chain where each `Node` can contain some data retriavable with `Node.get_data()` method and you can access one `Node` at a time by calling the method `Node.get_next()` on each node.\n",
    "\n",
    "Let's see how a LinkedList should behave:"
   ]
  },
  {
   "cell_type": "code",
   "execution_count": 2,
   "metadata": {},
   "outputs": [],
   "source": [
    "from linked_list_sol import *"
   ]
  },
  {
   "cell_type": "code",
   "execution_count": 3,
   "metadata": {},
   "outputs": [],
   "source": [
    "ll = LinkedList()"
   ]
  },
  {
   "cell_type": "markdown",
   "metadata": {},
   "source": [
    "At the beginning the `LinkedList` is empty:"
   ]
  },
  {
   "cell_type": "code",
   "execution_count": 4,
   "metadata": {},
   "outputs": [
    {
     "name": "stdout",
     "output_type": "stream",
     "text": [
      "LinkedList: \n"
     ]
    }
   ],
   "source": [
    "print(ll)"
   ]
  },
  {
   "cell_type": "markdown",
   "metadata": {},
   "source": [
    "**NOTE**: `print` calls `__str__` method, which in our implementation was overridden to produce a nice string you've just seen. Still, we did not override `__repr__` method which is the default one used by Jupyter when displaying on object without using `print`, so if you omit it you won't get nice display:"
   ]
  },
  {
   "cell_type": "code",
   "execution_count": 5,
   "metadata": {},
   "outputs": [
    {
     "data": {
      "text/plain": [
       "<linked_list_sol.LinkedList at 0x7fba5c3ab710>"
      ]
     },
     "execution_count": 5,
     "metadata": {},
     "output_type": "execute_result"
    }
   ],
   "source": [
    "ll"
   ]
  },
  {
   "cell_type": "markdown",
   "metadata": {},
   "source": [
    "### 0.2 Growing \n",
    "\n",
    "Main way to grow a `LinkedList` is by using the `.add` method, which executes in costant time $O(1)$:"
   ]
  },
  {
   "cell_type": "code",
   "execution_count": 6,
   "metadata": {},
   "outputs": [],
   "source": [
    "ll.add('a')"
   ]
  },
  {
   "cell_type": "markdown",
   "metadata": {},
   "source": [
    "Internally, each time you call `.add` a new `Node` object is created which will hold the actual data that you are passing. In this implementation, users of the class are supposed to never get instances of `Node`, they will just be able to see the actual data contained in the `Node`s:"
   ]
  },
  {
   "cell_type": "code",
   "execution_count": 7,
   "metadata": {},
   "outputs": [
    {
     "name": "stdout",
     "output_type": "stream",
     "text": [
      "LinkedList: a\n"
     ]
    }
   ],
   "source": [
    "print(ll)"
   ]
  },
  {
   "cell_type": "markdown",
   "metadata": {},
   "source": [
    "Notice that `.add` actually inserts nodes _at the beginning_ :"
   ]
  },
  {
   "cell_type": "code",
   "execution_count": 8,
   "metadata": {},
   "outputs": [],
   "source": [
    "ll.add('b')"
   ]
  },
  {
   "cell_type": "code",
   "execution_count": 9,
   "metadata": {},
   "outputs": [
    {
     "name": "stdout",
     "output_type": "stream",
     "text": [
      "LinkedList: b,a\n"
     ]
    }
   ],
   "source": [
    "print(ll)"
   ]
  },
  {
   "cell_type": "code",
   "execution_count": 10,
   "metadata": {},
   "outputs": [],
   "source": [
    "ll.add('c')"
   ]
  },
  {
   "cell_type": "code",
   "execution_count": 11,
   "metadata": {},
   "outputs": [
    {
     "name": "stdout",
     "output_type": "stream",
     "text": [
      "LinkedList: c,b,a\n"
     ]
    }
   ],
   "source": [
    "print(ll)"
   ]
  },
  {
   "cell_type": "markdown",
   "metadata": {},
   "source": [
    "Our basic `LinkedList` instance will only hold a pointer to the _first_ `Node` of the chain (such pointer is called `_next`). When you add an element:\n",
    "\n",
    "1. a new Node is created\n",
    "2. provided data is stored inside new node\n",
    "3. the new node `_next` field is set to point to current first Node\n",
    "4. the new node becomes the first node of the `LinkedList`, by setting `LinkedList._next` to new node\n"
   ]
  },
  {
   "cell_type": "markdown",
   "metadata": {},
   "source": [
    "### 0.3 Visiting\n",
    "\n",
    "Any method that needs to visit the `LinkedList` will have to start from the first Node pointed by `LinkedList._next` and then follow the chain of `_next` links from one Node to the next one. This is why the data structure is called 'linked'. While insertion at the beginning is very fast, retrieving an element at arbitrary position requires a linear scan which in worst case costs $O(n)$."
   ]
  },
  {
   "cell_type": "markdown",
   "metadata": {},
   "source": [
    "\n",
    "## 1 v1: a slow LinkedList\n",
    "\n",
    "Implement the missing methods in `linked_list.py`, in the order they are presented in the skeleton. **Before implementing, read carefully all this point 1) and all its subsections (1.a,b and c)**\n",
    "\n"
   ]
  },
  {
   "cell_type": "markdown",
   "metadata": {},
   "source": [
    "### 1.a) Testing\n",
    "\n",
    "You will have two files to look at, the code in `linked_list.py` and the test code in a separate `linked_list_test.py` file: \n",
    "\n",
    "* `linked_list.py`\n",
    "* `linked_list_test.py`\n",
    "\n",
    "\n",
    "You can run tests with this shell command:\n",
    "\n",
    "\n",
    "```bash\n",
    "python3 -m unittest linked_list_test\n",
    "```\n",
    "\n",
    "Let's look inside the first lines of `linked_list_test.py` code, you will see a structure like this:\n",
    "\n",
    "```python\n",
    "from linked_list import *\n",
    "import unittest\n",
    "\n",
    "class LinkedListTest(unittest.TestCase):\n",
    "\n",
    "    def myAssert(self, linked_list, python_list):\n",
    "        #####  etc #####\n",
    "    \n",
    "\n",
    "class AddTest(LinkedListTest):\n",
    "    \n",
    "    def test_01_init(self):\n",
    "        #####  etc #####\n",
    "\n",
    "    def test_04_add(self):\n",
    "        #####  etc #####\n",
    "\n",
    "class SizeTest(LinkedListTest):\n",
    "    #####  etc  #####\n",
    "\n",
    "```\n",
    "\n",
    "Note: \n",
    "\n",
    "* the test automatically imports everything from first module `linked_list`, so when you run the test, it automatically loads the file you will be working on.) :\n",
    "\n",
    "```python\n",
    "from linked_list import *\n",
    "```\n",
    "\n",
    "* there is a base class for testing called `LinkedListTest`\n",
    "* there are many classes for testing individual methods, each class inherits from `LinkedListTest`\n",
    "* You will be writing several versions of the linked list. For the first one, you won't need `myAssert`\n",
    "* This time there is not much Python code to find around, you should rely solely on theory from the slides and book, method definitions and your intuition "
   ]
  },
  {
   "cell_type": "markdown",
   "metadata": {},
   "source": [
    "### 1.b) Differences with the book\n",
    "\n",
    "* We don't assume the list has all different values\n",
    "* We used [more pythonic names](https://www.python.org/dev/peps/pep-0008/#id45) for properties and methods, so for example private attribute `Node.data` was renamed to `Node._data` and accessor method `Node.getData()` was renamed to `Node.get_data()`. There are nicer ways to handle these kind of getters/setters pairs called 'properties' but we won't address them here.\n",
    "* In boundary cases like removing a non-existing element we prefer to raise an `LookupError` with the command \n",
    "\n",
    "```python\n",
    "    raise LookupError(\"Some error occurred!\")\n",
    "```\n",
    "\n",
    "In general, this is the behaviour you also find in regular Python lists.   \n"
   ]
  },
  {
   "cell_type": "markdown",
   "metadata": {},
   "source": [
    "### 1.c) Please remember..."
   ]
  },
  {
   "cell_type": "markdown",
   "metadata": {},
   "source": [
    "\n",
    "\n",
    "<div class=\"alert alert-warning\" >\n",
    "\n",
    "**WARNING:** Methods of the class `LinkedList` are _never_ supposed to return instances of `Node`.\n",
    "    \n",
    "If you see them returned in the tests, then you are making some mistake. Users of `LinkedList` are\n",
    "    should only be able to get access to items inside the Node `data` fields. \n",
    "</div>\n",
    "\n",
    "<div class=\"alert alert-warning\">\n",
    "\n",
    "**WARNING**: Do _not_ use a Python list to hold data inside the data structure \n",
    "    \n",
    "Differently from the `CappedStack` exercise, here you can only use `Node` class. Each `Node` in the `_data` field can hold only one element which is provided by the user of the class, and we don't care about the type of the value the user gives us (so it can be an `int`, a `float`, a `string`, or even a Python list !)\n",
    "</div>"
   ]
  },
  {
   "cell_type": "markdown",
   "metadata": {},
   "source": [
    "\n",
    "<div class=\"alert alert-info\" >\n",
    "\n",
    "[VII COMMANDMENT](https://en.softpython.org/commandments.html#VII-COMMANDMENT): **You shall also draw lists on paper**\n",
    "    \n",
    "Helps a lot avoiding mistakes!\n",
    "</div>"
   ]
  },
  {
   "cell_type": "markdown",
   "metadata": {},
   "source": [
    "\n",
    "\n",
    "<div class=\"alert alert-info\">\n",
    "\n",
    "[VIII COMMANDMENT](https://en.softpython.org/commandments.html#VIII-COMMANDMENT) **You shall never ever reassing** `self` **!**\n",
    "</div>\n",
    "\n",
    "Never write horrors such as this:\n"
   ]
  },
  {
   "cell_type": "code",
   "execution_count": 12,
   "metadata": {},
   "outputs": [],
   "source": [
    "class LinkedList:\n",
    "    def my_method(self):\n",
    "        self = {'my_field':666}    # SIN"
   ]
  },
  {
   "cell_type": "markdown",
   "metadata": {},
   "source": [
    "<div class=\"alert alert-info\" >\n",
    "\n",
    "[VI COMMANDMENT](https://en.softpython.org/commandments.html#VI-COMMANDMENT): **You shall use** `return` **command only if you see written RETURN in function description!**\n",
    "</div>\n",
    "\n",
    "If there is no `return` in the description, it is intended to return `None`. In this case you don't even need to write `return None`, as Python will do it implicitly for you."
   ]
  },
  {
   "cell_type": "code",
   "execution_count": 13,
   "metadata": {},
   "outputs": [
    {
     "name": "stderr",
     "output_type": "stream",
     "text": [
      ".......................\n",
      "----------------------------------------------------------------------\n",
      "Ran 23 tests in 0.010s\n",
      "\n",
      "OK\n"
     ]
    }
   ],
   "source": [
    "#jupman-purge-io\n",
    "import sys\n",
    "import linked_list_sol\n",
    "# while this monkey-patching is not strictly mandatory here, we put it anyway \n",
    "# because we will have several versions of the same file\n",
    "sys.modules['linked_list_sol'] = linked_list_sol\n",
    "sys.modules['linked_list'] = linked_list_sol\n",
    "import linked_list_test\n",
    "jupman.run(linked_list_test)"
   ]
  },
  {
   "cell_type": "markdown",
   "metadata": {},
   "source": [
    "\n",
    "## 2 v2 faster size\n",
    "\n",
    "### 2.1 Save a copy of your work\n",
    "\n",
    "You already wrote a lot of code, and you don't want to lose it, right? Since we are going to make many modifications, when you reach a point when the code does something useful, it is good practice to save a copy of what you have done somewhere, so if you later screw up something, you can always restore the copy.\n",
    "\n",
    "* Copy the whole folder `linked-lists` in a new folder `linked-lists-v1` \n",
    "* Add also in the copied folder a separate `README.txt` file, writing inside the version (like `1.0`), the date, and a description of the main features you implemented (for example \"Simple linked list, not particularly performant\").\n",
    "* Backing up the work is a form of the so-called _versioning_ : there are much better ways to do it (like using [git](https://git-scm.com)) but we don't address them here.\n",
    "\n",
    "<br/>\n",
    "<div class=\"alert alert-warning\" >\n",
    "\n",
    "**WARNING:** **DO NOT SKIP THIS STEP!** \n",
    "\n",
    "No matter how smart you are, you _will_ fail, and a backup may be the only way out. \n",
    "</div>\n",
    "\n",
    "\n",
    "<div class=\"alert alert-warning\" >\n",
    "\n",
    "**WARNING:** **HAVE YOU READ WHAT I JUST WROTE ????** \n",
    "\n",
    "Just. Copy. The. Folder.\n",
    "</div>\n",
    "\n",
    "\n",
    "### 2.2. Improve size\n",
    "\n",
    "Once you saved your precious work in the copy folder `linked-lists-v1`, you can now more freely improve the current folder `linked-lists`, being sure your previous efforts are not going to get lost!\n",
    "\n",
    "As a first step, in `linked-lists/linked_list.py` implement a `size()` method that works in `O(1)`. To make this work without going through the whole list each time, we will need a new `_size` field that keeps track of the size. When the list is mutated with methods like `add`, `append`, etc you will also need to update the `_size` field accordingly. Proceed like this:\n",
    "\n",
    "2.2.1) add a new field `_size` in the class constructor and initialize it to zero\n",
    "\n",
    "2.2.2) modify the `size()` method to just return the `_size` field.\n",
    "\n",
    "2.2.3) The data structure starts to be complex, and we need better testing. If you look at the tests, very often there are lines of code like `self.assertEquals(to_py(ul), ['a', 'b'])` in the `test_add` method: \n",
    "\n",
    "\n",
    "```python\n",
    "    def test_add(self):                \n",
    "        ul = LinkedList()\n",
    "        self.myAssert(ul, [])\n",
    "        ul.add('b')\n",
    "        self.assertEquals(to_py(ul), ['b'])\n",
    "        ul.add('a')\n",
    "        self.assertEquals(to_py(ul), ['a', 'b'])\n",
    "```\n",
    "\n",
    "\n",
    "Last line checks our linked list `ul` contains a sequence of linked nodes that once transformed to a python list actually equals `['a', 'b']`. Since in the new implementation we are going to mutate `_size` field a lot, it could be smart to also check that `ul.size()` equals `len([\"a\", \"b\"])`. Repeating this check in every test method could be quite verbose. Instead, we can do a smarter thing, and develop in the `LinkedListTest` class a new assertion method on our own: \n",
    "\n",
    "If you noticed, there is a  method `myAssert` in `LinkedListTest` class (in the current `linked-lists/linked_list_test.py` file) which we never used so far, which performs a more thourough check:\n",
    "\n",
    "```python\n",
    "\n",
    "class LinkedListTest(unittest.TestCase):\n",
    "\n",
    "    def myAssert(self, linked_list, python_list):\n",
    "        \"\"\" Checks provided linked_list can be represented as the given python_list. Since v2.\n",
    "        \"\"\"\n",
    "        self.assertEquals(to_py(linked_list), python_list)\n",
    "        # check this new invariant about the size        \n",
    "        self.assertEquals(linked_list.size(), len(python_list)) \n",
    "```\n",
    "\n",
    "<div class=\"alert alert-warning\">\n",
    "\n",
    "**WARNING:** method `myAssert` must _not_ start with `test`, otherwise `unittest` \n",
    "will run it as a test!\n",
    "</div>"
   ]
  },
  {
   "cell_type": "markdown",
   "metadata": {},
   "source": [
    "2.3.4) Now, how to use this powerful new `myAssert` method? In the test class, just replace every occurence of\n",
    "\n",
    "```python \n",
    "    self.assertEquals(to_py(ul), ['a', 'b'])\n",
    "```\n",
    "\n",
    "into calls like this:\n",
    "\n",
    "```python\n",
    "    self.myAssert(ul, ['a', 'b'])\n",
    "```\n",
    "\n",
    "<div class=\"alert alert-warning\">\n",
    "\n",
    "**WARNING:** Notice the `to_py(  )` enclosing `ul` is gone.\n",
    "</div>\n",
    "\n",
    "2.3.5) Actually update `_size` in the various methods where data is mutated, like `add`, `insert`, etc.\n",
    "\n",
    "2.3.6) Run the tests and hope for the best ;-)\n",
    "\n",
    "```bash\n",
    "python3 -m unittest linked_list_test\n",
    "```\n"
   ]
  },
  {
   "cell_type": "code",
   "execution_count": 14,
   "metadata": {},
   "outputs": [
    {
     "name": "stderr",
     "output_type": "stream",
     "text": [
      ".......................\n",
      "----------------------------------------------------------------------\n",
      "Ran 23 tests in 0.014s\n",
      "\n",
      "OK\n"
     ]
    }
   ],
   "source": [
    "#jupman-purge-io\n",
    "import linked_list_v2_solution\n",
    "sys.modules['linked_list_sol'] = linked_list_v2_solution\n",
    "sys.modules['linked_list'] = linked_list_v2_solution\n",
    "import linked_list_v2_test_solution\n",
    "jupman.run(linked_list_v2_test_solution)"
   ]
  },
  {
   "cell_type": "markdown",
   "metadata": {},
   "source": [
    "\n",
    "## 3 v3 Faster append\n",
    "\n",
    "We are now better equipped to make further improvements. Once you're done implementing the above and made sure everything works, you can implement an `append` method that works in $O(1)$ by adding an additional pointer in the data structure that always point at the last node. To further exploit the pointer, you can also add a fast `last(self)` method that returns the last value in the list. Proceed like this:\n",
    "\n",
    "### 3.1 Save a copy of your work\n",
    "\n",
    "* Copy the whole folder `linked-lists` in a new folder `linked-lists-v2` \n",
    "* Add also in the copied folder a separate `README.txt` file, writing inside the version (like `2.0`), the date, and a description of the main features you implemented (for example \"Simple linked list, not particularly performant\").\n",
    "\n",
    "<div class=\"alert alert-warning\" >\n",
    "\n",
    "**WARNING:** **DO NOT SKIP THIS STEP!** \n",
    "\n",
    "</div>\n",
    "\n",
    "### 3.2 add `_last` field\n",
    "\n",
    "Work on `linked_list.py` and simply add an additional pointer called `_last` in the constructor. \n",
    "\n",
    "### 3.3 add method skeleton\n",
    "\n",
    "Copy this method `last` into the class. Just copy it, don't implement it for now.\n",
    "\n",
    "```python \n",
    "    def last(self):\n",
    "        \"\"\" Returns the last element in the list, in O(1). \n",
    "        \n",
    "            - If list is empty, raises a ValueError. Since v3. \n",
    "        \"\"\"\n",
    "        raise ValueError(\"TODO implement me!\")\n",
    "```    \n",
    "\n",
    "\n",
    "### 3.4 test driven development\n",
    "\n",
    "Let's do some so-called _test driven development_, that is, first we write the tests, then we write the implementation. \n",
    "\n",
    "<div class=\"alert alert-warning\">\n",
    "\n",
    "**WARNING:** During the exam you _may_ be asked to write tests, so don't skip writing them now !!    \n",
    "</div>\n",
    "\n",
    "### 3.4.1 LastTest\n",
    "\n",
    "Create a class `LastTest` which inherits from `LinkedListTest`, and add this method Implement a test for `last()` method, by adding this to `LinkedListTest` class:\n",
    "\n",
    "```python\n",
    "    def test_01_last(self):\n",
    "        raise Exception(\"TODO IMPLEMENT ME !\")\n",
    "```\n",
    "In the method, create a list and add elements using only calls to `add` method and checks using the `myAssert` method. When done, ask your instructor if the test is correct (or look at the proposed solution), it is important you get it right otherwise you won't be able to properly test your code.\n",
    "\n",
    "### 3.4.2 improve myAssert\n",
    "\n",
    "You already have a test for the `append()` method, but, how can you be sure the `_last` pointer is updated correctly throughout the code? When you implemented the fast `size()` method you wrote some invariant in the `myAssert` method. We can do the same this time, too. Find the invariant and add the corresponding check to the `myAssert` method. When done, ask your instructor if the invariant is correct (or look at the proposed solution): it is important you get it right otherwise you won't be able to properly test your code.\n",
    "\n",
    "### 3.5 update methods that mutate the LinkedList\n",
    "\n",
    "Update the methods that mutate the data structure (`add`, `insert`, `remove` ...) so they keep `_last` pointed to last element. If the list is empty, `_last` will point to `None`. Take particular care of corner cases such as empty list and one element list. \n",
    "\n",
    "### 3.6 Run tests\n",
    "\n",
    "Cross your fingers and run the tests!\n",
    "\n",
    "```bash\n",
    "python3 -m unittest linked_list_test\n",
    "```\n"
   ]
  },
  {
   "cell_type": "code",
   "execution_count": 15,
   "metadata": {
    "scrolled": true
   },
   "outputs": [
    {
     "name": "stderr",
     "output_type": "stream",
     "text": [
      "........................\n",
      "----------------------------------------------------------------------\n",
      "Ran 24 tests in 0.012s\n",
      "\n",
      "OK\n"
     ]
    }
   ],
   "source": [
    "#jupman-purge-io\n",
    "import linked_list_v3_solution\n",
    "sys.modules['linked_list_sol'] = linked_list_v3_solution\n",
    "sys.modules['linked_list'] = linked_list_v3_solution\n",
    "import linked_list_v3_test_solution\n",
    "jupman.run(linked_list_v3_test_solution)"
   ]
  },
  {
   "cell_type": "markdown",
   "metadata": {},
   "source": [
    "\n",
    "## 4 v4 Go bidirectional\n",
    "\n",
    "Our list so far has links that allow us to traverse it fast in one direction. But what if we want fast traversal in the reverse direction, from last to first element? What if we want a `pop()` that works in $O(1)$ ? To speed up these operations we could add  backward links to each `Node`. Note no solution is provided for this part (yet).\n",
    "\n",
    "\n",
    "Proceed in the following way:\n",
    "\n",
    "### 4.1 Save your work \n",
    "\n",
    "Once you're done with previous points, save the version you have in a folder `linked-list-v3` somewhere adding in the `README.txt` comments about the improvements done so far, the version number (like 3.0) and the date. Then start working on a new copy. \n",
    "\n",
    "### 4.2 Node backlinks\n",
    "\n",
    "In `Node` class, add backlinks by adding the attribute `_prev` and methods `get_prev(self)` and `set_prev(self, pointer)`.\n",
    "\n"
   ]
  },
  {
   "cell_type": "markdown",
   "metadata": {},
   "source": [
    "### 4.3 Better __str__\n",
    "\n",
    "Improve `__str__` method so it shows presence or absence of links, along with the size of the list (note you might need to adapt the test for str method):\n",
    "\n",
    "* `next` pointers presence must be represented with `>` character , absence with `*` character. They must be put after the item representation. \n",
    "* `prev` pointers presence must be represented with `<` character , absence with `*` character. They must be put befor the item representation.\n",
    "\n",
    "For example, for the list `['a','b','c']`, you would have the following representation:\n",
    "\n",
    "```\n",
    "LinkedList(size=3):*a><b><c*  \n",
    "\n",
    "```\n",
    "\n",
    "As a special case for empty list you should print the following:\n",
    "\n",
    "```\n",
    "LinkedList(size=0):**\n",
    "```\n",
    "\n",
    "Other examples of proper lists, with 3, 2, and 1 element can be: \n",
    "```\n",
    "LinkedList(size=3):*a><b><c*  \n",
    "LinkedList(size=2):*a><b*\n",
    "LinkedList(size=1):*a*\n",
    "```\n",
    "This new `__str__` method should help you to spot broken lists like the following, were some pointers are not correct:\n",
    "```\n",
    "Broken list, all prev pointers are missing:\n",
    "LinkedList(size=3):*a>*b>*c*\n",
    "\n",
    "Broken list, size = 3 but shows only one element with next pointer set to None:\n",
    "LinkedList(size=3):*a*\n",
    "\n",
    "Broken list, first backward pointer points to something other than None \n",
    "LinkedList(size=3):<a>*b><c*\n",
    "\n",
    "```"
   ]
  },
  {
   "cell_type": "markdown",
   "metadata": {},
   "source": [
    "### 4.4 Modify add\n",
    "\n",
    "Update the `LinkedList` `add` method to take into account you now have backlinks. Take particular care for the boundary cases when the list is empty, has one element, or for nodes at the head and at the tail of the list.\n",
    "    \n",
    "### 4.5  Add to_python_reversed\n",
    "\n",
    "Implement `to_python_reversed` method with a linear scan by using the newly added backlinks:\n",
    "        \n",
    "```python\n",
    "    def to_python_reversed(self):\n",
    "        \"\"\" Returns a regular Python list with the elements in reverse order,\n",
    "            from last to first. Since v3. \"\"\"\n",
    "        raise Exception(\"TODO implement me\")\n",
    "```\n",
    "\n",
    "  Add also this test, and make sure it pass:\n",
    "\n",
    "```python\n",
    "    def test_to_python_reversed(self):    \n",
    "        ul = LinkedList()\n",
    "        ul.add('c')\n",
    "        ul.add('b')\n",
    "        ul.add('a')\n",
    "        pr = to_py(ul)\n",
    "        pr.reverse()  # we are reversing pr with Python's 'reverse()' method\n",
    "        self.assertEquals(pr, ul.to_python_reversed())\n",
    "```\n",
    "\n"
   ]
  },
  {
   "cell_type": "markdown",
   "metadata": {},
   "source": [
    "### 4.6 Add invariant\n",
    "\n",
    "By using the method `to_python_reversed()`, add a new invariant to the `myAssert` method. If implemented correctly, this will surely spot a lot of possible errors in the code.\n",
    "\n",
    "### 4.7 Modify other methods\n",
    "\n",
    "Modify all other methods that mutate the data structure (`insert`, `remove`, etc) so that they update the backward links properly. \n",
    "\n",
    "### 4.8 Run the tests\n",
    "\n",
    "If you wrote meaningful tests and all pass, congrats!\n"
   ]
  },
  {
   "cell_type": "markdown",
   "metadata": {},
   "source": [
    "## 5 EqList\n",
    "\n",
    "Open file `eqlist.py` , which is a simple linked list, and start editing the following methods.\n",
    "\n",
    "### 5.1 eq\n",
    "\n",
    "Implement the method `__eq__` (with TWO underscores before and TWO underscores after 'eq') !:\n",
    "\n",
    "```python\n",
    "\n",
    "    def __eq__(self, other):\n",
    "        \"\"\" Returns True if self is equal to other, that is, if all the data elements in the respective\n",
    "            nodes are the same. Otherwise, return False.\n",
    "            \n",
    "            NOTE: compares the *data* in the nodes, NOT the nodes themselves !\n",
    "        \"\"\"\n",
    "    \n",
    "```\n",
    "\n",
    "**Testing**: `python -m unittest eqlist_test.EqTest`\n"
   ]
  },
  {
   "cell_type": "markdown",
   "metadata": {},
   "source": [
    "\n",
    "### 5.2 remsub\n",
    "\n",
    "Implement the method `remsub`:\n",
    "\n",
    "```python\n",
    "    def remsub(self, rem):\n",
    "        \"\"\" Removes the first elements found in this LinkedList that match subsequence rem\n",
    "            Parameter rem is the subsequence to eliminate, which is also a LinkedList.\n",
    "            \n",
    "            Examples:\n",
    "                aabca  remsub ac  =  aba \n",
    "                aabca  remsub cxa =  aaba  # when we find a never matching character in rem like 'x' here, \n",
    "                                             the rest of rem after 'x' is not considered.\n",
    "                aabca  remsub ba  =  aac\n",
    "                aabca  remsub a   =  abca\n",
    "                abcbab remsub bb  =  acab\n",
    "        \"\"\"\n",
    "```\n",
    "\n",
    "**Testing**: `python3 -m unittest eqlist_test.RemsubTest`\n"
   ]
  },
  {
   "cell_type": "code",
   "execution_count": 16,
   "metadata": {
    "scrolled": true
   },
   "outputs": [
    {
     "name": "stderr",
     "output_type": "stream",
     "text": [
      ".....................\n",
      "----------------------------------------------------------------------\n",
      "Ran 21 tests in 0.013s\n",
      "\n",
      "OK\n"
     ]
    }
   ],
   "source": [
    "#jupman-purge-io\n",
    "import eqlist_test\n",
    "jupman.run(eqlist_test)"
   ]
  },
  {
   "cell_type": "markdown",
   "metadata": {},
   "source": [
    "## 6 Cloning\n",
    "\n",
    "Start editing the file `cloning.py`, which contains a simplified LinkedList.\n",
    "\n",
    "### 6.1 rev\n",
    "\n",
    "Implement the method `rev(self)` that you find in the skeleton and check provided tests pass.\n",
    "\n",
    "**Testing**: `python3 -m unittest cloning_test.RevTest`\n",
    "\n",
    "```python\n",
    "def rev(self):\n",
    "    \"\"\" Returns a *new* LinkedList, which is the reversed version of this one.\n",
    "        Function must run in O(n), and try to make this function as fast as possible,\n",
    "        without using python lists or extra fields.        \n",
    "    \"\"\"\n",
    "```    "
   ]
  },
  {
   "cell_type": "code",
   "execution_count": 17,
   "metadata": {},
   "outputs": [],
   "source": [
    "from cloning_sol import *"
   ]
  },
  {
   "cell_type": "code",
   "execution_count": 18,
   "metadata": {},
   "outputs": [
    {
     "name": "stdout",
     "output_type": "stream",
     "text": [
      "LinkedList: a,b,c\n"
     ]
    }
   ],
   "source": [
    "lla = LinkedList()\n",
    "lla.add('c')\n",
    "lla.add('b')\n",
    "lla.add('a')            \n",
    "print(lla)"
   ]
  },
  {
   "cell_type": "code",
   "execution_count": 19,
   "metadata": {},
   "outputs": [],
   "source": [
    "llb = lla.rev()"
   ]
  },
  {
   "cell_type": "code",
   "execution_count": 20,
   "metadata": {},
   "outputs": [
    {
     "name": "stdout",
     "output_type": "stream",
     "text": [
      "LinkedList: c,b,a\n"
     ]
    }
   ],
   "source": [
    "print(llb)"
   ]
  },
  {
   "cell_type": "code",
   "execution_count": 21,
   "metadata": {},
   "outputs": [
    {
     "name": "stdout",
     "output_type": "stream",
     "text": [
      "LinkedList: a,b,c\n"
     ]
    }
   ],
   "source": [
    "print(lla)"
   ]
  },
  {
   "cell_type": "markdown",
   "metadata": {},
   "source": [
    "\n",
    "### 6.2 clone\n",
    "\n",
    "Implement the method `clone(self)` that you find in the skeleton and check provided tests pass.\n",
    "\n",
    "\n",
    "```python\n",
    "            \n",
    "    def clone(self):\n",
    "        \"\"\" Return a *copy* of this LinkedList in O(n)\n",
    "            NOTE: since we are making a copy, the output of this function \n",
    "            won't contain any Node instance from the original list. Still, new Node \n",
    "            instances will point to the same data items of the original list                    \n",
    "        \"\"\"        \n",
    "```\n",
    "\n",
    "**Testing**: `python3 -m unittest cloning_test.CloneTest`\n",
    "\n",
    "Example (for more examples look at the tests): "
   ]
  },
  {
   "cell_type": "code",
   "execution_count": 22,
   "metadata": {},
   "outputs": [
    {
     "name": "stdout",
     "output_type": "stream",
     "text": [
      "LinkedList: a,b,c\n"
     ]
    }
   ],
   "source": [
    "orig = LinkedList()\n",
    "orig.add('c')\n",
    "orig.add('b')\n",
    "orig.add('a')            \n",
    "print(orig)"
   ]
  },
  {
   "cell_type": "code",
   "execution_count": 23,
   "metadata": {},
   "outputs": [
    {
     "name": "stdout",
     "output_type": "stream",
     "text": [
      "LinkedList: a,b,c\n"
     ]
    }
   ],
   "source": [
    "cp = orig.clone()\n",
    "print(cp)"
   ]
  },
  {
   "cell_type": "code",
   "execution_count": 24,
   "metadata": {},
   "outputs": [],
   "source": [
    "cp.remove('b')            "
   ]
  },
  {
   "cell_type": "code",
   "execution_count": 25,
   "metadata": {},
   "outputs": [
    {
     "name": "stdout",
     "output_type": "stream",
     "text": [
      "LinkedList: a,c\n"
     ]
    }
   ],
   "source": [
    "print(cp)"
   ]
  },
  {
   "cell_type": "code",
   "execution_count": 26,
   "metadata": {},
   "outputs": [
    {
     "name": "stdout",
     "output_type": "stream",
     "text": [
      "LinkedList: a,b,c\n"
     ]
    }
   ],
   "source": [
    "print(orig)"
   ]
  },
  {
   "cell_type": "markdown",
   "metadata": {},
   "source": [
    "### 6.3 Slice\n",
    "\n",
    "Implement the method `slice`:\n",
    "\n",
    "```python\n",
    "    def slice(self, start, end):\n",
    "        \"\"\" RETURN a NEW LinkedList created by copying nodes of this list\n",
    "            from index start INCLUDED to index end EXCLUDED\n",
    "        \n",
    "            - if start is greater or equal than end, returns an empty LinkedList\n",
    "            - if start is greater than available nodes, returns an empty LinkedList\n",
    "            - if end is greater than the available nodes, copies all items until the tail without errors\n",
    "            - if start index is negative, raises ValueError\n",
    "            - if end index is negative, raises ValueError            \n",
    "\n",
    "            - IMPORTANT: All nodes in the returned LinkedList MUST be NEW\n",
    "            - DO *NOT* modify original linked list\n",
    "            - DO *NOT* add an extra size field\n",
    "            - MUST execute in O(n), where n is the size of the list\n",
    "            \n",
    "        \"\"\"\n",
    "```\n",
    "\n",
    "**Testing**: `python3 -m unittest cloning_test.SliceTest`\n",
    "\n",
    "**Example**:"
   ]
  },
  {
   "cell_type": "code",
   "execution_count": 27,
   "metadata": {},
   "outputs": [],
   "source": [
    "from cloning_sol import *"
   ]
  },
  {
   "cell_type": "code",
   "execution_count": 28,
   "metadata": {},
   "outputs": [],
   "source": [
    "la = LinkedList()\n",
    "la.add('g')\n",
    "la.add('f')\n",
    "la.add('e')\n",
    "la.add('d')\n",
    "la.add('c')\n",
    "la.add('b')\n",
    "la.add('a')"
   ]
  },
  {
   "cell_type": "code",
   "execution_count": 29,
   "metadata": {},
   "outputs": [
    {
     "name": "stdout",
     "output_type": "stream",
     "text": [
      "LinkedList: a,b,c,d,e,f,g\n"
     ]
    }
   ],
   "source": [
    "print(la)"
   ]
  },
  {
   "cell_type": "markdown",
   "metadata": {},
   "source": [
    "Creates a **NEW** `LinkedList` copying nodes from index `2` INCLUDED up to index `5` EXCLUDED:"
   ]
  },
  {
   "cell_type": "code",
   "execution_count": 30,
   "metadata": {},
   "outputs": [],
   "source": [
    "lb = la.slice(2,5)"
   ]
  },
  {
   "cell_type": "code",
   "execution_count": 31,
   "metadata": {},
   "outputs": [
    {
     "name": "stdout",
     "output_type": "stream",
     "text": [
      "LinkedList: c,d,e\n"
     ]
    }
   ],
   "source": [
    "print(lb)"
   ]
  },
  {
   "cell_type": "markdown",
   "metadata": {},
   "source": [
    "Note original `LinkedList` is still intact:"
   ]
  },
  {
   "cell_type": "code",
   "execution_count": 32,
   "metadata": {},
   "outputs": [
    {
     "name": "stdout",
     "output_type": "stream",
     "text": [
      "LinkedList: a,b,c,d,e,f,g\n"
     ]
    }
   ],
   "source": [
    "print(la)"
   ]
  },
  {
   "cell_type": "markdown",
   "metadata": {},
   "source": [
    "#### Special cases"
   ]
  },
  {
   "cell_type": "markdown",
   "metadata": {},
   "source": [
    "If `start` is greater or equal then `end`, you get an empty `LinkedList`:"
   ]
  },
  {
   "cell_type": "code",
   "execution_count": 33,
   "metadata": {},
   "outputs": [
    {
     "name": "stdout",
     "output_type": "stream",
     "text": [
      "LinkedList: \n"
     ]
    }
   ],
   "source": [
    "print(la.slice(5,3))"
   ]
  },
  {
   "cell_type": "markdown",
   "metadata": {},
   "source": [
    "If `start` is greater than available nodes, you get an empty `LinkedList`:"
   ]
  },
  {
   "cell_type": "code",
   "execution_count": 34,
   "metadata": {},
   "outputs": [
    {
     "name": "stdout",
     "output_type": "stream",
     "text": [
      "LinkedList: \n"
     ]
    }
   ],
   "source": [
    "print(la.slice(10,15))"
   ]
  },
  {
   "cell_type": "markdown",
   "metadata": {},
   "source": [
    "If `end` is greater than the available nodes, you get a copy of all the nodes until the tail without errors:"
   ]
  },
  {
   "cell_type": "code",
   "execution_count": 35,
   "metadata": {},
   "outputs": [
    {
     "name": "stdout",
     "output_type": "stream",
     "text": [
      "LinkedList: d,e,f,g\n"
     ]
    }
   ],
   "source": [
    "print(la.slice(3,10))"
   ]
  },
  {
   "cell_type": "markdown",
   "metadata": {},
   "source": [
    "Using negative indexes for either `start` , `end` or both raises `ValueError`:"
   ]
  },
  {
   "cell_type": "markdown",
   "metadata": {},
   "source": [
    "```python\n",
    "la.slice(-3,4)\n",
    "\n",
    "---------------------------------------------------------------------------\n",
    "ValueError                                Traceback (most recent call last)\n",
    "<ipython-input-184-e3380bb66e77> in <module>()\n",
    "----> 1 la.slice(-3,4)\n",
    "\n",
    "~/Da/prj/sciprog-ds/prj/exams/2020-06-16/linked_list_sol.py in slice(self, start, end)\n",
    "     63 \n",
    "     64         if start < 0:\n",
    "---> 65             raise ValueError('Negative values for start are not supported! %s ' % start)\n",
    "     66         if end < 0:\n",
    "     67             raise ValueError('Negative values for end are not supported: %s' % end)\n",
    "\n",
    "ValueError: Negative values for start are not supported! -3 \n",
    "```"
   ]
  },
  {
   "cell_type": "markdown",
   "metadata": {},
   "source": [
    "```python\n",
    "la.slice(1,-2)\n",
    "\n",
    "---------------------------------------------------------------------------\n",
    "ValueError                                Traceback (most recent call last)\n",
    "<ipython-input-185-8e09ec468c30> in <module>()\n",
    "----> 1 la.slice(1,-2)\n",
    "\n",
    "~/Da/prj/sciprog-ds/prj/exams/2020-06-16/linked_list_sol.py in slice(self, start, end)\n",
    "     65             raise ValueError('Negative values for start are not supported! %s ' % start)\n",
    "     66         if end < 0:\n",
    "---> 67             raise ValueError('Negative values for end are not supported: %s' % end)\n",
    "     68 \n",
    "     69         ret = LinkedList()\n",
    "\n",
    "ValueError: Negative values for end are not supported: -2\n",
    "```    "
   ]
  },
  {
   "cell_type": "code",
   "execution_count": 36,
   "metadata": {
    "scrolled": true
   },
   "outputs": [
    {
     "name": "stderr",
     "output_type": "stream",
     "text": [
      ".............................\n",
      "----------------------------------------------------------------------\n",
      "Ran 29 tests in 0.016s\n",
      "\n",
      "OK\n"
     ]
    }
   ],
   "source": [
    "#jupman-purge-io\n",
    "import cloning_test\n",
    "jupman.run(cloning_test)"
   ]
  },
  {
   "cell_type": "markdown",
   "metadata": {},
   "source": [
    "## 7 More exercises\n",
    "\n",
    "Start editing the file `more.py`, which contains a simplified LinkedList.\n"
   ]
  },
  {
   "cell_type": "markdown",
   "metadata": {},
   "source": [
    "### 7.1 occurrences\n",
    "\n",
    "Implement this method:\n",
    "\n",
    "```python\n",
    "    def occurrences(self, item):\n",
    "        \"\"\" \n",
    "            Returns the number of occurrences of item in the list.\n",
    "            \n",
    "            - MUST execute in O(n) where 'n' is the length of the list.\n",
    "        \"\"\"\n",
    "```   \n",
    "\n",
    "**Testing**: `python3 -m unittest more_test.CloneTest`\n",
    "\n",
    "\n",
    "**Examples: **"
   ]
  },
  {
   "cell_type": "code",
   "execution_count": 37,
   "metadata": {},
   "outputs": [
    {
     "name": "stdout",
     "output_type": "stream",
     "text": [
      "LinkedList: a,b,c,a\n"
     ]
    }
   ],
   "source": [
    "from more_sol import *\n",
    "\n",
    "ul = LinkedList()\n",
    "ul.add('a')\n",
    "ul.add('c')\n",
    "ul.add('b')\n",
    "ul.add('a')\n",
    "print(ul)"
   ]
  },
  {
   "cell_type": "code",
   "execution_count": 38,
   "metadata": {},
   "outputs": [
    {
     "name": "stdout",
     "output_type": "stream",
     "text": [
      "2\n"
     ]
    }
   ],
   "source": [
    "print(ul.occurrences('a'))"
   ]
  },
  {
   "cell_type": "code",
   "execution_count": 39,
   "metadata": {},
   "outputs": [
    {
     "name": "stdout",
     "output_type": "stream",
     "text": [
      "1\n"
     ]
    }
   ],
   "source": [
    "print(ul.occurrences('c'))"
   ]
  },
  {
   "cell_type": "code",
   "execution_count": 40,
   "metadata": {},
   "outputs": [
    {
     "name": "stdout",
     "output_type": "stream",
     "text": [
      "0\n"
     ]
    }
   ],
   "source": [
    "print(ul.occurrences('z'))"
   ]
  },
  {
   "cell_type": "markdown",
   "metadata": {
    "collapsed": true
   },
   "source": [
    "### 7.2 shrink"
   ]
  },
  {
   "cell_type": "markdown",
   "metadata": {},
   "source": [
    "\n",
    "Implement this method in `LinkedList` class:\n",
    "\n",
    "```python\n",
    "\n",
    "    def shrink(self):\n",
    "        \"\"\" \n",
    "            Removes from this LinkedList all nodes at odd indeces (1, 3, 5, ...), \n",
    "            supposing that the first node has index zero, the second node \n",
    "            has index one, and so on. \n",
    "            \n",
    "            So if the LinkedList is \n",
    "                'a','b','c','d','e' \n",
    "            a call to shrink will transform the LinkedList into \n",
    "                'a','c','e'\n",
    "            \n",
    "            - MUST execute in O(n) where 'n' is the length of the list.\n",
    "            - Does *not* return anything.\n",
    "        \"\"\"\n",
    "        raise Exception(\"TODO IMPLEMENT ME!\")\n",
    "```\n",
    "\n",
    "**Testing**: `python3 -m unittest more_test.ShrinkTest`"
   ]
  },
  {
   "cell_type": "code",
   "execution_count": 41,
   "metadata": {},
   "outputs": [
    {
     "name": "stdout",
     "output_type": "stream",
     "text": [
      "LinkedList: a,b,c,d,e\n"
     ]
    }
   ],
   "source": [
    "ul = LinkedList()\n",
    "ul.add('e')\n",
    "ul.add('d')\n",
    "ul.add('c')\n",
    "ul.add('b')\n",
    "ul.add('a')\n",
    "print(ul)"
   ]
  },
  {
   "cell_type": "code",
   "execution_count": 42,
   "metadata": {},
   "outputs": [
    {
     "name": "stdout",
     "output_type": "stream",
     "text": [
      "LinkedList: a,c,e\n"
     ]
    }
   ],
   "source": [
    "ul.shrink()\n",
    "print(ul)"
   ]
  },
  {
   "cell_type": "markdown",
   "metadata": {},
   "source": [
    "\n",
    "### 7.3 dup_first\n",
    "\n",
    "Implement the method `dup_first`:\n",
    "\n",
    "```python\n",
    "    def dup_first(self):\n",
    "        \"\"\" MODIFIES this list by adding a duplicate of first node right after it. \n",
    "        \n",
    "            For example, the list 'a','b','c' should become 'a','a','b','c'.            \n",
    "            An empty list remains unmodified.            \n",
    "\n",
    "            - DOES NOT RETURN ANYTHING !!!     \n",
    "\n",
    "        \"\"\"\n",
    "        \n",
    "        raise Exception(\"TODO IMPLEMENT ME !\")\n",
    "```\n",
    "\n",
    "**Testing:** `python3 -m unittest more_test.DupFirstTest`"
   ]
  },
  {
   "cell_type": "markdown",
   "metadata": {},
   "source": [
    "### 7.4 dup_all\n",
    "\n",
    "Implement the method `dup_all`:\n",
    "\n",
    "```python\n",
    "    def dup_all(self):\n",
    "        \"\"\" Modifies this list by adding a duplicate of each node right after it.\n",
    "        \n",
    "            For example, the list 'a','b','c' should become 'a','a','b','b','c','c'.\n",
    "            An empty list remains unmodified.      \n",
    "            \n",
    "            - MUST PERFORM IN O(n) WHERE n is the length of the list.\n",
    "            \n",
    "            - DOES NOT RETURN ANYTHING !!!\n",
    "        \"\"\"\n",
    "\n",
    "        raise Exception(\"TODO IMPLEMENT ME !\")\n",
    "```\n",
    "\n",
    "**Testing:** `python3 -m unittest more_test.DupAllTest`\n",
    "    "
   ]
  },
  {
   "cell_type": "markdown",
   "metadata": {},
   "source": [
    "### 7.5 mirror\n",
    "\n",
    "Implement following `mirror` function. **NOTE**: the function is external to class `LinkedList`.\n",
    "\n",
    "```python\n",
    "def mirror(lst):\n",
    "    \"\"\" Returns a new LinkedList having double the nodes of provided lst\n",
    "        First nodes will have same elements of lst, following nodes will \n",
    "        have the same elements but in reversed order.\n",
    "        \n",
    "        For example:\n",
    "            \n",
    "            >>> mirror(['a'])\n",
    "            LinkedList: a,a            \n",
    "            \n",
    "            >>> mirror(['a','b'])\n",
    "            LinkedList: a,b,b,a\n",
    "\n",
    "            >>> mirror(['a','c','b'])\n",
    "            LinkedList: a,c,b,b,c,a\n",
    "    \n",
    "    \"\"\"\n",
    "    raise Exception(\"TODO IMPLEMENT ME !\")        \n",
    "        \n",
    "```\n",
    "\n",
    "**Testing:** `python -m unittest more_test.MirrorTest`"
   ]
  },
  {
   "cell_type": "markdown",
   "metadata": {},
   "source": [
    "### 7.6 norep\n",
    "\n",
    "Implement the method `norep`:\n",
    "\n",
    "```python\n",
    "    def norep(self):\n",
    "        \"\"\" MODIFIES this list by removing all the consecutive \n",
    "            repetitions from it.\n",
    "\n",
    "            - MUST perform in O(n), where n is the list size.\n",
    "\n",
    "            For example, after calling norep:\n",
    "\n",
    "            'a','a','b','c','c','c'   will become  'a','b','c'\n",
    "\n",
    "            'a','a','b','a'   will become   'a','b','a'            \n",
    "\n",
    "        \"\"\"\n",
    "        \n",
    "        raise Exception(\"TODO IMPLEMENT ME !\")\n",
    "```\n",
    "\n",
    "**Testing:** `python -m unittest more_test.NorepTest`\n",
    "    "
   ]
  },
  {
   "cell_type": "markdown",
   "metadata": {},
   "source": [
    "\n",
    "### 7.8 find_couple\n",
    "\n",
    "Implement following `find_couple` method. \n",
    "\n",
    "```python\n",
    "    def find_couple(self,a,b):\n",
    "        \"\"\" Search the list for the first two consecutive elements having data equal to \n",
    "            provided a and b, respectively. If such elements are found, the position\n",
    "            of the first one is returned, otherwise raises LookupError.\n",
    "            \n",
    "            - MUST run in O(n), where n is the size of the list.\n",
    "            - Returned index start from 0 included\n",
    "            \n",
    "        \"\"\"                \n",
    "```\n",
    "\n",
    "**Testing:** `python3 -m unittest more_test.FindCoupleTest`"
   ]
  },
  {
   "cell_type": "markdown",
   "metadata": {},
   "source": [
    "### 7.9 swap\n",
    "\n",
    "Implement the method `swap`:\n",
    "\n",
    "```python\n",
    "    def swap (self, i, j):\n",
    "        \"\"\"\n",
    "            Swap the data of nodes at index i and j. Indeces start from 0 included.\n",
    "            If any of the indeces is out of bounds, rises IndexError.\n",
    "            \n",
    "            NOTE: You MUST implement this function with a single scan of the list.\n",
    "            \n",
    "        \"\"\"\n",
    "```\n",
    "\n",
    "**Testing:** `python3 -m unittest more_test.SwapTest`    "
   ]
  },
  {
   "cell_type": "markdown",
   "metadata": {},
   "source": [
    "\n",
    "### 7.10 gaps\n",
    "\n",
    "Given a linked list of size n which only contains integers, a gap is an **index** `i`, `0<i<n`, such that `L[i−1]<L[i]`. \n",
    "For the purpose of this exercise, we assume an empy list or a list with one element have zero gaps\n",
    "\n",
    "\n",
    "**Example**: \n",
    "\n",
    "```\n",
    "   data:  9 7 6 8 9 2 2 5 \n",
    "  index:  0 1 2 3 4 5 6 7  \n",
    "```\n",
    "\n",
    "contains three gaps [3,4,7] because:\n",
    "\n",
    "- number 8 at index 3 is greater than previous number 6 at index 2\n",
    "- number 9 at index 4 is greater than previous number 8 at index 3\n",
    "- number 5 at index 7 is greater than previous number 2 at index 6"
   ]
  },
  {
   "cell_type": "markdown",
   "metadata": {},
   "source": [
    "Implement this method:\n",
    "\n",
    "```python\n",
    "    def gaps(self):\n",
    "        \"\"\" Assuming all the data in the linked list is made by numbers,\n",
    "            finds the gaps in the LinkedList and return them as a Python list.\n",
    "            \n",
    "            - we assume empty list and list of one element have zero gaps\n",
    "            - MUST perform in O(n) where n is the length of the list\n",
    "\n",
    "            NOTE: gaps to return are *indeces* , *not* data!!!!\n",
    "        \"\"\"\n",
    "```\n",
    "\n",
    "**Testing**: `python3 -m unittest more_test.GapsTest`"
   ]
  },
  {
   "cell_type": "markdown",
   "metadata": {},
   "source": [
    "### 7.11 flatv\n",
    "\n",
    "Suppose a `LinkedList` only contains integer numbers, say 3,8,8,7,5,8,6,3,9.\n",
    "Implement method `flatv` which scans the list: when it finds the *first* occurence of a node which contains a number which is less then the previous one, and the  less than successive one, it inserts after the current one another node with the same data as the current one, and exits.\n",
    "\n",
    "Example: \n",
    "\n",
    "for Linked list 3,8,8,7,5,8,6,3,9\n",
    "\n",
    "calling `flatv` should modify the linked list so that it becomes\n",
    "\n",
    "Linked list 3,8,8,7,5,5,8,6,3,9\n",
    "\n",
    "Note that it only modifies the first occurrence found 7,5,8 to 7,5,5,8  and the successive sequence 6,3,9  is not altered\n",
    "\n",
    "Implement this method:\n",
    "\n",
    "```python\n",
    "    def flatv(self):\n",
    "```\n",
    "\n",
    "**Testing:** `python3 -m unittest more_test.FlatvTest`    \n"
   ]
  },
  {
   "cell_type": "markdown",
   "metadata": {},
   "source": [
    "### 7.12 bubble_sort\n",
    "\n",
    "You will implement bubble sort on a `LinkedList`. \n",
    "\n",
    "    def bubble_sort(self):\n",
    "        \"\"\" Sorts in-place this linked list using the method of bubble sort\n",
    "        \n",
    "            - MUST execute in O(n^2) where n is the length of the linked list\n",
    "        \"\"\"\n",
    "\n",
    "\n",
    "As a reference, you can look at this `example_bubble` implementation below that operates on regular python lists. Basically, you will have to translate the `for` cycles into two suitable `while` and use node pointers.\n",
    "\n",
    "**NOTE**: this version of the algorithm is inefficient as we do not use `j` in the inner loop: your linked list implementation can have this inefficiency as well.\n",
    "\n",
    "**Testing**: `python3 -m unittest more_test.BubbleSortTest`"
   ]
  },
  {
   "cell_type": "code",
   "execution_count": 43,
   "metadata": {},
   "outputs": [
    {
     "name": "stdout",
     "output_type": "stream",
     "text": [
      "[1, 2, 3, 23, 32, 34, 55, 98, 7777]\n"
     ]
    }
   ],
   "source": [
    "def example_bubble(plist):\n",
    "    for j in range(len(plist)):\n",
    "        for i in range(len(plist)):\n",
    "            if i + 1 < len(plist) and plist[i]>plist[i+1]:\n",
    "                temp = plist[i]\n",
    "                plist[i] = plist[i+1]\n",
    "                plist[i+1] = temp\n",
    "\n",
    "my_list = [23, 34, 55, 32, 7777, 98, 3, 2, 1]\n",
    "example_bubble(my_list)\n",
    "print(my_list)\n"
   ]
  },
  {
   "cell_type": "markdown",
   "metadata": {},
   "source": [
    "\n",
    "### 7.13 merge\n",
    "\n",
    "Implement this method:\n",
    "\n",
    "```python\n",
    "    def merge(self,l2):\n",
    "        \"\"\" Assumes this linkedlist and l2 linkedlist contain integer numbers\n",
    "            sorted in ASCENDING order, and  RETURN a NEW LinkedList with\n",
    "            all the numbers from this and l2 sorted in DESCENDING order\n",
    "\n",
    "            IMPORTANT 1: *MUST* EXECUTE IN O(n1+n2) TIME where n1 and n2 are\n",
    "                         the sizes of this and l2 linked_list, respectively\n",
    "                         \n",
    "            IMPORTANT 2: *DO NOT* attempt to convert linked lists to\n",
    "                         python lists!\n",
    "        \"\"\"\n",
    "```\n",
    "\n",
    "**Testing**: `python3 -m unittest more_test.MergeTest`"
   ]
  },
  {
   "cell_type": "markdown",
   "metadata": {},
   "source": [
    "### 7.14 couple_sort\n",
    "\n",
    "Implement this method:\n",
    "\n",
    "```python\n",
    "def couple_sort(self):\n",
    "        \"\"\"MODIFIES the linked list by considering couples of nodes at *even* indexes\n",
    "           and their successors: if a node data is lower than its successor data, swaps \n",
    "           the nodes *data*.\n",
    "           \n",
    "           - ONLY swap *data*, DO NOT change node links.\n",
    "           - if linked list has odd size, simply ignore the exceeding node.           \n",
    "           - MUST execute in O(n), where n is the size of the list             \n",
    "        \"\"\"\n",
    "```\n",
    "\n",
    "**Testing**: `python3 -m unittest more_test.CoupleSortTest`\n",
    "\n"
   ]
  },
  {
   "cell_type": "code",
   "execution_count": 44,
   "metadata": {},
   "outputs": [],
   "source": [
    "from more_sol import *\n",
    "from more_test import to_ll"
   ]
  },
  {
   "cell_type": "code",
   "execution_count": 45,
   "metadata": {},
   "outputs": [],
   "source": [
    "ll = to_ll([4,3,5,2,6,7,6,3,2,4,5,3,2])"
   ]
  },
  {
   "cell_type": "code",
   "execution_count": 46,
   "metadata": {},
   "outputs": [
    {
     "name": "stdout",
     "output_type": "stream",
     "text": [
      "LinkedList: 4,3,5,2,6,7,6,3,2,4,5,3,2\n"
     ]
    }
   ],
   "source": [
    "print(ll)"
   ]
  },
  {
   "cell_type": "code",
   "execution_count": 47,
   "metadata": {},
   "outputs": [],
   "source": [
    "ll.couple_sort()"
   ]
  },
  {
   "cell_type": "code",
   "execution_count": 48,
   "metadata": {},
   "outputs": [
    {
     "name": "stdout",
     "output_type": "stream",
     "text": [
      "LinkedList: 3,4,2,5,6,7,3,6,2,4,3,5,2\n"
     ]
    }
   ],
   "source": [
    "print(ll)"
   ]
  },
  {
   "cell_type": "markdown",
   "metadata": {},
   "source": [
    "Notice it sorted each couple at even positions. This particular linked list has odd size (13 items), so last item 2 was not considered."
   ]
  },
  {
   "cell_type": "markdown",
   "metadata": {},
   "source": [
    "## 7.15 linked algebra\n",
    "\n",
    "Implement this method:"
   ]
  },
  {
   "cell_type": "code",
   "execution_count": 49,
   "metadata": {},
   "outputs": [
    {
     "name": "stdout",
     "output_type": "stream",
     "text": [
      "def linalg(self):\n",
      "    \"\"\" Assume nodes hold data as a string \"kc\" where k is a single digit \n",
      "        and c any character.\n",
      "        \n",
      "        MODIFY the linked list by stripping the k from original nodes, \n",
      "        and inserting k-1 new nodes next to each node.\n",
      "                \n",
      "        - ASSUME every k is >= 1\n",
      "        - MUST execute in O(s) where s is the sum of all k found.\n",
      "    \"\"\"\n"
     ]
    }
   ],
   "source": [
    "#jupman-purge-input\n",
    "\n",
    "from more_sol import *\n",
    "print(jupman.get_doc(LinkedList.linalg))"
   ]
  },
  {
   "cell_type": "markdown",
   "metadata": {},
   "source": [
    "\n",
    "**Testing**: `python3 -m unittest more_test.LinAlgTest`\n",
    "\n",
    "**Example:**"
   ]
  },
  {
   "cell_type": "code",
   "execution_count": 50,
   "metadata": {},
   "outputs": [
    {
     "name": "stdout",
     "output_type": "stream",
     "text": [
      "LinkedList: 3a,5b,2c\n"
     ]
    }
   ],
   "source": [
    "from more_sol import *\n",
    "\n",
    "ll = LinkedList()\n",
    "\n",
    "ll.add('2c')\n",
    "ll.add('5b')\n",
    "ll.add('3a')\n",
    "\n",
    "print(ll)"
   ]
  },
  {
   "cell_type": "code",
   "execution_count": 51,
   "metadata": {},
   "outputs": [],
   "source": [
    "ll.linalg()   # returns NOTHING!"
   ]
  },
  {
   "cell_type": "code",
   "execution_count": 52,
   "metadata": {},
   "outputs": [
    {
     "name": "stdout",
     "output_type": "stream",
     "text": [
      "LinkedList: a,a,a,b,b,b,b,b,c,c\n"
     ]
    }
   ],
   "source": [
    "print(ll)"
   ]
  },
  {
   "cell_type": "markdown",
   "metadata": {},
   "source": [
    "with 3 nodes modified and 7 new nodes inserted"
   ]
  },
  {
   "cell_type": "markdown",
   "metadata": {},
   "source": [
    "### 7.15 - sepel\n",
    "\n",
    "Implement this method:"
   ]
  },
  {
   "cell_type": "code",
   "execution_count": 53,
   "metadata": {},
   "outputs": [
    {
     "name": "stdout",
     "output_type": "stream",
     "text": [
      "def sepel(self, el):\n",
      "    \"\"\" Separates this list into two lists:\n",
      "        \n",
      "        - this list will have all nodes without el as data\n",
      "        - the other list will contain all nodes with el as data\n",
      "        \n",
      "        - IMPORTANT: DO *NOT* create new nodes, REUSE existing ones!!\n",
      "        - MUST execute in O(n), where n is the length of the list\n",
      "    \"\"\"\n"
     ]
    }
   ],
   "source": [
    "#jupman-purge-input\n",
    "from more_sol import *\n",
    "print(jupman.get_doc(LinkedList.sepel))"
   ]
  },
  {
   "cell_type": "markdown",
   "metadata": {},
   "source": [
    "**Testing**: `python3 -m unittest more_test.SepelTest`\n",
    "\n",
    "**Example**:"
   ]
  },
  {
   "cell_type": "code",
   "execution_count": 54,
   "metadata": {},
   "outputs": [],
   "source": [
    "from more_sol import *\n",
    "la = LinkedList()\n",
    "la.add('c')\n",
    "la.add('e')\n",
    "la.add('c')\n",
    "la.add('d')\n",
    "la.add('c')\n",
    "la.add('c')\n",
    "la.add('b')\n",
    "la.add('a')\n",
    "la.add('c')"
   ]
  },
  {
   "cell_type": "code",
   "execution_count": 55,
   "metadata": {},
   "outputs": [
    {
     "name": "stdout",
     "output_type": "stream",
     "text": [
      "LinkedList: c,a,b,c,c,d,c,e,c\n"
     ]
    }
   ],
   "source": [
    "print(la)"
   ]
  },
  {
   "cell_type": "code",
   "execution_count": 56,
   "metadata": {},
   "outputs": [],
   "source": [
    "lb = la.sepel('c')"
   ]
  },
  {
   "cell_type": "code",
   "execution_count": 57,
   "metadata": {},
   "outputs": [
    {
     "name": "stdout",
     "output_type": "stream",
     "text": [
      "LinkedList: a,b,d,e\n"
     ]
    }
   ],
   "source": [
    "print(la) "
   ]
  },
  {
   "cell_type": "code",
   "execution_count": 58,
   "metadata": {
    "scrolled": true
   },
   "outputs": [
    {
     "name": "stdout",
     "output_type": "stream",
     "text": [
      "LinkedList: c,c,c,c,c\n"
     ]
    }
   ],
   "source": [
    "print(lb)  "
   ]
  },
  {
   "cell_type": "markdown",
   "metadata": {},
   "source": [
    "\n",
    "### 7.16 LinkedList pivot\n",
    "\n",
    "Implement this method:"
   ]
  },
  {
   "cell_type": "code",
   "execution_count": 59,
   "metadata": {},
   "outputs": [
    {
     "name": "stdout",
     "output_type": "stream",
     "text": [
      "def pivot(self):\n",
      "    \"\"\" Selects first node data as pivot, and then MOVES before the pivot\n",
      "        all the nodes which have data value STRICTLY LESS (<) than the pivot.\n",
      "        Finally, RETURN the number of moved nodes.\n",
      "        \n",
      "        IMPORTANT:\n",
      "        - *DO NOT* create new nodes\n",
      "        - nodes less than pivot must be in the reversed order they were found\n",
      "        - nodes greater or equal than pivot will maintain the original order\n",
      "        - MUST EXECUTE in O(n), where n is the list size\n",
      "    \"\"\"\n"
     ]
    }
   ],
   "source": [
    "#jupman-purge-input\n",
    "from more_sol import *\n",
    "print(jupman.get_doc(LinkedList.pivot))"
   ]
  },
  {
   "cell_type": "markdown",
   "metadata": {},
   "source": [
    "**Testing**: `python3 -m unittest more_test.PivotTest`\n",
    "\n",
    "Example: "
   ]
  },
  {
   "cell_type": "code",
   "execution_count": 60,
   "metadata": {},
   "outputs": [],
   "source": [
    "from more_sol import *\n",
    "from more_test import to_ll\n",
    "\n",
    "ll = to_ll([7, 12, 1, 3, 8, 9, 6, 4, 7, 2, 10])"
   ]
  },
  {
   "cell_type": "code",
   "execution_count": 61,
   "metadata": {},
   "outputs": [
    {
     "name": "stdout",
     "output_type": "stream",
     "text": [
      "LinkedList: 7,12,1,3,8,9,6,4,7,2,10\n"
     ]
    }
   ],
   "source": [
    "print(ll)"
   ]
  },
  {
   "cell_type": "code",
   "execution_count": 62,
   "metadata": {},
   "outputs": [],
   "source": [
    "res = ll.pivot()"
   ]
  },
  {
   "cell_type": "code",
   "execution_count": 63,
   "metadata": {},
   "outputs": [
    {
     "data": {
      "text/plain": [
       "5"
      ]
     },
     "execution_count": 63,
     "metadata": {},
     "output_type": "execute_result"
    }
   ],
   "source": [
    "res   # there were 5 elements strictly less than pivot 7"
   ]
  },
  {
   "cell_type": "markdown",
   "metadata": {},
   "source": [
    "Note elements $< 7$ are in reverse order in which they were found, elements $\\geq7$ are in the original order"
   ]
  },
  {
   "cell_type": "code",
   "execution_count": 64,
   "metadata": {},
   "outputs": [
    {
     "name": "stdout",
     "output_type": "stream",
     "text": [
      "LinkedList: 2,4,6,3,1,7,12,8,9,7,10\n"
     ]
    }
   ],
   "source": [
    "print(ll)  "
   ]
  },
  {
   "cell_type": "code",
   "execution_count": 65,
   "metadata": {
    "nbsphinx": "hidden",
    "scrolled": true
   },
   "outputs": [
    {
     "name": "stderr",
     "output_type": "stream",
     "text": [
      ".........................................................................................................................\n",
      "----------------------------------------------------------------------\n",
      "Ran 121 tests in 0.097s\n",
      "\n",
      "OK\n"
     ]
    }
   ],
   "source": [
    "#jupman-purge-io\n",
    "import more_test\n",
    "jupman.run(more_test)"
   ]
  },
  {
   "cell_type": "markdown",
   "metadata": {},
   "source": [
    "## 8 Last exercises\n",
    "\n",
    "For these exercises, you also need to take care about attributes `size` and `_last` pointer."
   ]
  },
  {
   "cell_type": "markdown",
   "metadata": {},
   "source": [
    "### 8.1 rotate\n",
    "\n",
    "✪✪ Now implement this method:\n",
    "\n",
    "\n",
    "<div class=\"alert alert-warning\">\n",
    "    \n",
    "Remember to update also `_last` and `_size` attributes !!!    \n",
    "</div>\n",
    "\n",
    "\n",
    "```python\n",
    "    def rotate(self):\n",
    "        \"\"\" Rotate the list of 1 element, that is, removes last node and\n",
    "            inserts it as the first one.\n",
    "\n",
    "           - MUST execute in O(n) where n is the length of the list\n",
    "           - Remember to also update _last pointer\n",
    "           - WARNING: DO *NOT* try to convert whole linked list to a python list      \n",
    "           - WARNING: DO *NOT* swap node data or create nodes, I want you to\n",
    "                      change existing node links !!\n",
    "        \"\"\"\n",
    "```        \n",
    "\n",
    "**Testing**: `python3 -m unittest last_test.RotateTest`\n",
    "\n",
    "**Example**: "
   ]
  },
  {
   "cell_type": "code",
   "execution_count": 66,
   "metadata": {},
   "outputs": [],
   "source": [
    "from last_sol import *"
   ]
  },
  {
   "cell_type": "code",
   "execution_count": 67,
   "metadata": {},
   "outputs": [
    {
     "name": "stdout",
     "output_type": "stream",
     "text": [
      "LinkedList: a,b,c,d\n"
     ]
    }
   ],
   "source": [
    "\n",
    "ll = LinkedList()\n",
    "ll.add('d')\n",
    "ll.add('c')\n",
    "ll.add('b')\n",
    "ll.add('a')\n",
    "print(ll)"
   ]
  },
  {
   "cell_type": "code",
   "execution_count": 68,
   "metadata": {},
   "outputs": [],
   "source": [
    "ll.rotate()"
   ]
  },
  {
   "cell_type": "code",
   "execution_count": 69,
   "metadata": {},
   "outputs": [
    {
     "name": "stdout",
     "output_type": "stream",
     "text": [
      "LinkedList: d,a,b,c\n"
     ]
    }
   ],
   "source": [
    "print(ll)"
   ]
  },
  {
   "cell_type": "markdown",
   "metadata": {},
   "source": [
    "### 8.2 rotaten\n",
    "\n",
    "✪✪✪ Implement this method:\n",
    "\n",
    "```python\n",
    "    def rotaten(self, k):\n",
    "        \"\"\" Rotate k times the linkedlist\n",
    "        \n",
    "            - k can range from 0 to any positive integer number (even greater than list size)\n",
    "            - if k < 0 raise ValueError\n",
    "        \n",
    "            - MUST execute in O( n-(k%n) ) where n is the length of the list\n",
    "            - WARNING: DO *NOT* call .rotate() k times !!!!\n",
    "            - WARNING: DO *NOT* try to convert whole linked list to a python list           \n",
    "            - WARNING: DO *NOT* swap node data or create nodes, I want you to\n",
    "                       change node links !!\n",
    "        \"\"\"\n",
    "```\n",
    "\n",
    "**Testing**: `python3 -m unittest last_test.RotatenTest`\n",
    "\n",
    "<div class=\"alert alert-warning\">\n",
    "\n",
    "**IMPORTANT HINT**\n",
    "\n",
    "The line \"MUST execute in `O( n-(k%n) )` where `n` is the length of the list\" means that you have to calculate `m = k%n`, and then only scan first `n-m` nodes!\n",
    "</div>\n",
    "\n",
    "**Example**:      "
   ]
  },
  {
   "cell_type": "code",
   "execution_count": 70,
   "metadata": {},
   "outputs": [
    {
     "name": "stdout",
     "output_type": "stream",
     "text": [
      "LinkedList: a,b,c,d,e,f,g,h\n"
     ]
    }
   ],
   "source": [
    "ll = LinkedList()\n",
    "ll.add('h')\n",
    "ll.add('g')\n",
    "ll.add('f')\n",
    "ll.add('e')\n",
    "ll.add('d')\n",
    "ll.add('c')\n",
    "ll.add('b')\n",
    "ll.add('a')\n",
    "print(ll)"
   ]
  },
  {
   "cell_type": "code",
   "execution_count": 71,
   "metadata": {},
   "outputs": [],
   "source": [
    "ll.rotaten(0)  # changes nothing"
   ]
  },
  {
   "cell_type": "code",
   "execution_count": 72,
   "metadata": {},
   "outputs": [
    {
     "name": "stdout",
     "output_type": "stream",
     "text": [
      "LinkedList: a,b,c,d,e,f,g,h\n"
     ]
    }
   ],
   "source": [
    "print(ll)"
   ]
  },
  {
   "cell_type": "code",
   "execution_count": 73,
   "metadata": {},
   "outputs": [],
   "source": [
    "ll.rotaten(3)"
   ]
  },
  {
   "cell_type": "code",
   "execution_count": 74,
   "metadata": {},
   "outputs": [
    {
     "name": "stdout",
     "output_type": "stream",
     "text": [
      "LinkedList: f,g,h,a,b,c,d,e\n"
     ]
    }
   ],
   "source": [
    "print(ll)"
   ]
  },
  {
   "cell_type": "code",
   "execution_count": 75,
   "metadata": {},
   "outputs": [],
   "source": [
    "ll.rotaten(8)  # changes nothing"
   ]
  },
  {
   "cell_type": "code",
   "execution_count": 76,
   "metadata": {},
   "outputs": [
    {
     "name": "stdout",
     "output_type": "stream",
     "text": [
      "LinkedList: f,g,h,a,b,c,d,e\n"
     ]
    }
   ],
   "source": [
    "print(ll)"
   ]
  },
  {
   "cell_type": "code",
   "execution_count": 77,
   "metadata": {},
   "outputs": [],
   "source": [
    "ll.rotaten(5)"
   ]
  },
  {
   "cell_type": "code",
   "execution_count": 78,
   "metadata": {},
   "outputs": [
    {
     "name": "stdout",
     "output_type": "stream",
     "text": [
      "LinkedList: a,b,c,d,e,f,g,h\n"
     ]
    }
   ],
   "source": [
    "print(ll)"
   ]
  },
  {
   "cell_type": "code",
   "execution_count": 79,
   "metadata": {},
   "outputs": [],
   "source": [
    "ll.rotaten(11)  # 11 = 8 + 3 , only rotates 3 nodes"
   ]
  },
  {
   "cell_type": "code",
   "execution_count": 80,
   "metadata": {
    "scrolled": true
   },
   "outputs": [
    {
     "name": "stdout",
     "output_type": "stream",
     "text": [
      "LinkedList: f,g,h,a,b,c,d,e\n"
     ]
    }
   ],
   "source": [
    "print(ll)"
   ]
  },
  {
   "cell_type": "markdown",
   "metadata": {},
   "source": [
    "<div class=\"alert alert-warning\">\n",
    "    \n",
    "**IMPORTANT: MUST WORK WITH HUGE** `k` \n",
    "    \n",
    "It should terminate real fast even with a humongous `k`, if you don't implement it with the required complexity rest assured this will never print `'Finished!'` \n",
    "    \n",
    "</div>    "
   ]
  },
  {
   "cell_type": "code",
   "execution_count": 81,
   "metadata": {},
   "outputs": [
    {
     "name": "stdout",
     "output_type": "stream",
     "text": [
      "Finished! Result is LinkedList: e,f,g,h,a,b,c,d\n"
     ]
    }
   ],
   "source": [
    "ll.rotaten(11**18)               \n",
    "print('Finished! Result is', ll)"
   ]
  },
  {
   "cell_type": "markdown",
   "metadata": {},
   "source": [
    "### 8.3 plus_one\n",
    "\n",
    "Supposing the list can only hold digits from `0` to `9` as node data, implement this method:"
   ]
  },
  {
   "cell_type": "markdown",
   "metadata": {},
   "source": [
    "```python\n",
    "    def plus_one(self):\n",
    "        \"\"\" MODIFIES the list by summing one to the integer number it represents                    \n",
    "            - you are allowed to perform multiple scans of the linked list\n",
    "            - remember the list has a _last pointer\n",
    "            \n",
    "            - MUST execute in O(N) where N is the size of the list          \n",
    "            - DO *NOT* create new nodes EXCEPT for special cases:\n",
    "                a. empty list ( [] -> [5] )\n",
    "                b. all nines ( [9,9,9] -> [1,0,0,0] )                     \n",
    "            - DO *NOT* convert the digi list to a python int            \n",
    "            - DO *NOT* convert the digi list to a python list            \n",
    "            - DO *NOT* reverse the digi list            \n",
    "        \"\"\"\n",
    "``` \n",
    "\n",
    "**Test**: `python3 -m unittest last_test.PlusOneTest`\n",
    "\n",
    "**Example**: "
   ]
  },
  {
   "cell_type": "code",
   "execution_count": 82,
   "metadata": {},
   "outputs": [
    {
     "name": "stdout",
     "output_type": "stream",
     "text": [
      "LinkedList: 2,9,3,7,9,9\n"
     ]
    }
   ],
   "source": [
    "from last_sol import *\n",
    "\n",
    "dl = LinkedList()\n",
    "\n",
    "dl.add(9)\n",
    "dl.add(9)\n",
    "dl.add(7)\n",
    "dl.add(3)\n",
    "dl.add(9)\n",
    "dl.add(2)\n",
    "\n",
    "print(dl)"
   ]
  },
  {
   "cell_type": "code",
   "execution_count": 83,
   "metadata": {},
   "outputs": [
    {
     "data": {
      "text/plain": [
       "9"
      ]
     },
     "execution_count": 83,
     "metadata": {},
     "output_type": "execute_result"
    }
   ],
   "source": [
    "dl.last()"
   ]
  },
  {
   "cell_type": "code",
   "execution_count": 84,
   "metadata": {},
   "outputs": [],
   "source": [
    "dl.plus_one()"
   ]
  },
  {
   "cell_type": "code",
   "execution_count": 85,
   "metadata": {},
   "outputs": [
    {
     "name": "stdout",
     "output_type": "stream",
     "text": [
      "LinkedList: 2,9,3,8,0,0\n"
     ]
    }
   ],
   "source": [
    "print(dl)"
   ]
  },
  {
   "cell_type": "code",
   "execution_count": 86,
   "metadata": {
    "nbsphinx": "hidden"
   },
   "outputs": [
    {
     "name": "stderr",
     "output_type": "stream",
     "text": [
      "..............................................\n",
      "----------------------------------------------------------------------\n",
      "Ran 46 tests in 0.042s\n",
      "\n",
      "OK\n"
     ]
    }
   ],
   "source": [
    "#jupman-purge-io\n",
    "import last_test\n",
    "jupman.run(last_test)"
   ]
  },
  {
   "cell_type": "markdown",
   "metadata": {},
   "source": [
    "## Challenge\n",
    "\n",
    "Ready for the challanges? Go on with [Challenge worksheet](https://sciprog.davidleoni.it/linked-lists/linked-lists-chal.html)"
   ]
  },
  {
   "cell_type": "code",
   "execution_count": null,
   "metadata": {},
   "outputs": [],
   "source": []
  }
 ],
 "metadata": {
  "celltoolbar": "Edit Metadata",
  "kernelspec": {
   "display_name": "Python 3 (ipykernel)",
   "language": "python",
   "name": "python3"
  },
  "language_info": {
   "codemirror_mode": {
    "name": "ipython",
    "version": 3
   },
   "file_extension": ".py",
   "mimetype": "text/x-python",
   "name": "python",
   "nbconvert_exporter": "python",
   "pygments_lexer": "ipython3",
   "version": "3.7.10"
  },
  "toc": {
   "base_numbering": 1,
   "nav_menu": {},
   "number_sections": false,
   "sideBar": true,
   "skip_h1_title": false,
   "title_cell": "Table of Contents",
   "title_sidebar": "Contents",
   "toc_cell": false,
   "toc_position": {},
   "toc_section_display": true,
   "toc_window_display": true
  }
 },
 "nbformat": 4,
 "nbformat_minor": 1
}
