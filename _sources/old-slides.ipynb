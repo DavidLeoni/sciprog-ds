{
 "cells": [
  {
   "cell_type": "markdown",
   "metadata": {},
   "source": [
    "# Slides 2020/21\n",
    "\n",
    "## For latest ones, see [here](slides.ipynb)"
   ]
  },
  {
   "cell_type": "markdown",
   "metadata": {},
   "source": [
    "\n",
    "## Part A\n",
    "\n",
    "## Lab A.1\n",
    "\n",
    "Wednesday 23 Sep 2020\n",
    "\n",
    "### Links\n",
    "\n",
    "lab site:  [sciprog.davidleoni.it](https://sciprog.davidleoni.it)\n",
    "\n",
    "* [Installation](installation.ipynb) from sciprog, with links to relevant SoftPython stuff\n",
    "* [Tools and Scripts on SoftPython](https://en.softpython.org/tools/tools-sol.html) : describes Jupyter and other things are described more in detail\n",
    "* [Python basics](https://en.softpython.org/basics/basics-sol.html) : hopefully we will see something (try doing them at home anyway)"
   ]
  },
  {
   "cell_type": "markdown",
   "metadata": {},
   "source": [
    "\n",
    "\n",
    "#### What I expect\n",
    "\n",
    "- if you don't program in Python, you don't learn Python\n",
    "- you don't learn Python if you don't program in Python\n",
    "- to be a successful data scientist, you must know programming\n",
    "- **Exercise**: now put the right priorities in your TODO list ;-)\n",
    "\n",
    "#### Course contents\n",
    "\n",
    "- Hands-on approach\n",
    "\n",
    "**Part A - python intro**\n",
    "\n",
    "- logic basics\n",
    "- discrete structures basics\n",
    "- python basics\n",
    "- data cleaning\n",
    "- format conversion (matrices, tables, graphs, ...)\n",
    "- visualization (matplotlib, graphviz)\n",
    "- some analytics (with pandas)\n",
    "- focus on correct code, don't care about performance\n",
    "- plus: some software engineering wisdom\n",
    "\n",
    "**Part A exams**: \n",
    "\n",
    "There will always be some practical structured exercise.\n",
    "\n",
    "Examples:\n",
    "\n",
    "- [analizing employees of University of Trento](https://sciprog.davidleoni.it/exams/2019-08-26/solutions/exam-2019-08-26-sol.html#Part-A---University-of-Trento-staff)\n",
    "- [visualizing intercity bus network](https://sciprog.davidleoni.it/exams/2019-02-13/solutions/exam-2019-02-13-sol.html#Part-A---Bus-network-visualization)\n",
    "- [extracting categories from workshops of Trentino](https://sciprog.davidleoni.it/exams/2019-07-02/solutions/exam-2019-07-02-sol.html#A1-Botteghe-storiche)\n",
    "\n",
    "Sometimes, there can also be a more abstract thing with matrices / relations, (i.e.  [surjective relation](https://sciprog.davidleoni.it/exams/2018-11-16/solutions/exam-2018-11-16-sol.html#A2-surjective))\n",
    "    \n",
    "\n",
    "[DO read the exam rules](https://sciprog.davidleoni.it/#Exams)\n",
    "\n",
    "**Part B - algorithms**\n",
    "\n",
    "- going from theory taught by Prof. Luca Bianco to Python 3 implementation\n",
    "- performance matters\n",
    "- few Python functions\n",
    "\n",
    " "
   ]
  },
  {
   "cell_type": "markdown",
   "metadata": {},
   "source": [
    "## Lab A.2\n",
    "\n",
    "Monday 28 Sep 2020\n",
    "\n",
    "Worksheets\n",
    "\n",
    "- [Finish Basics](basics/basics-sol.ipynb) (NOTE: redownload it, was updated)  \n",
    "- [Strings1 - Introduction](https://en.softpython.org/strings/strings1-sol.html)\n",
    "- [Strings2 - Operators](https://en.softpython.org/strings/strings2-sol.html)\n",
    "- [Strings3 - Methods](https://en.softpython.org/strings/strings3-sol.html) \n",
    "- (a fourth page remains to be added)\n",
    "\n",
    "References:\n",
    "\n",
    "- [Andrea Passerini - Introduction to Python slides](http://disi.unitn.it/~passerini/teaching/2020-2021/sci-pro/slides/A01-introduction.pdf)\n",
    "- [Andrea Passerini - data structures slides](http://disi.unitn.it/~passerini/teaching/2020-2021/sci-pro/slides/A02-datastructures.pdf)\n"
   ]
  },
  {
   "cell_type": "markdown",
   "metadata": {},
   "source": [
    "## Lab A.3\n",
    "\n",
    "Wednesday 30 Set 2020\n",
    "\n",
    "Worksheets: \n",
    "\n",
    "- [Lists1 - Introduction](https://en.softpython.org/lists/lists1-sol.html)\n",
    "- [Lists2 - Operators](https://en.softpython.org/lists/lists2-sol.html)\n",
    "- [Lists3 - Methods](https://en.softpython.org/lists/lists3-sol.html) \n",
    "- (a fourth page remains to be added)\n",
    "\n",
    "References: [Andrea Passerini - data structures slides](http://disi.unitn.it/~passerini/teaching/2020-2021/sci-pro/slides/A02-datastructures.pdf)\n",
    "    \n",
    "**For Realtime stuff during the lab, see this repl:** \n",
    "\n",
    "https://repl.it/@DavidLeoniWork/sciprog-ds-lab-2020-21\n"
   ]
  },
  {
   "cell_type": "markdown",
   "metadata": {},
   "source": [
    "## Lab A.4\n",
    "\n",
    "Monday 5 Oct 2020\n",
    "\n",
    "Worksheets (now English links are finally online!)\n",
    "\n",
    "- [Tuples](https://en.softpython.org/tuples/tuples-sol.html)\n",
    "- [Sets](https://en.softpython.org/sets/sets-sol.html)\n",
    "- [Dictionaries1 - Introduction](https://en.softpython.org/dictionaries/dictionaries1-sol.html)\n",
    "- [Dictionaries2 - Operators](https://en.softpython.org/dictionaries/dictionaries2-sol.html)\n",
    "- [Dictionaries3 - Methods](https://en.softpython.org/dictionaries/dictionaries3-sol.html) \n",
    "- (a fourth and fifth pages remain to be added)\n",
    "\n",
    "References:\n",
    "\n",
    "- [Andrea Passerini - data structures slides](http://disi.unitn.it/~passerini/teaching/2020-2021/sci-pro/slides/A02-datastructures.pdf)\n",
    "- [Real Python sets](https://realpython.com/python-sets/)\n",
    "    \n",
    "**For realtime stuff during the lab, see this repl:** \n",
    "\n",
    "https://repl.it/@DavidLeoniWork/sciprog-ds-lab-2020-21\n",
    "\n",
    "\n",
    "I copy here last weekend announcment:\n",
    "\n",
    "I added here some links to exercises:   https://en.softpython.org/references.html\n",
    "\n",
    "- Beginners:  try  W3Resources\n",
    "- Intermediate: exercises from LeetCode and first tutorial from Software Carpentry\n",
    "- Math-oriented people:  try Introduction to Scientific Programming with Python by Joakim Sundnes\n"
   ]
  },
  {
   "cell_type": "markdown",
   "metadata": {},
   "source": [
    "## Lab A.5\n",
    "\n",
    "Wednesday 7 Oct 2020\n",
    "\n",
    "* Worksheets (now English links are finally online!)\n",
    "    - [Control Flow 1 - ifs](https://en.softpython.org/control-flow/flow1-if-sol.html)\n",
    "    - [Control Flow 2 - for](https://en.softpython.org/control-flow/flow2-for-sol.html)\n",
    "    - [Control Flow 3 - while](https://en.softpython.org/control-flow/flow3-while-sol.html)\n",
    "    - [Errors and testing](https://en.softpython.org/errors-and-testing/errors-and-testing-sol.html) Note: SoftPython tutorial only talks about quick testing with `assert` which is fine for Part A of this course. In Part B we will use more sophisticated testing with `unittest`\n",
    "    - References: [Andrea Passerini - complex statements](http://disi.unitn.it/~passerini/teaching/2020-2021/sci-pro/slides/A03-controlflow.pdf)    \n",
    "    \n",
    "**For realtime stuff during the lab, see this repl:** \n",
    "\n",
    "https://repl.it/@DavidLeoniWork/sciprog-ds-lab-2020-21\n"
   ]
  },
  {
   "cell_type": "markdown",
   "metadata": {},
   "source": [
    "## Lab A.6\n",
    "\n",
    "Monday 12 Oct 2020\n",
    "\n",
    "Worksheets\n",
    "\n",
    "- More on functions\n",
    "- [Matrices - list of lists](https://en.softpython.org/matrices-lists/matrices-lists-sol.html)\n",
    "- [Errors and testing](https://en.softpython.org/errors-and-testing/errors-and-testing-sol.html) Note: SoftPython tutorial only talks about quick testing with `assert` which is fine for Part A of this course. In Part B we will use more sophisticated testing with `unittest`\n",
    "\n",
    "References:\n",
    "\n",
    "* [Andrea Passerini - complex statements](http://disi.unitn.it/~passerini/teaching/2020-2021/sci-pro/slides/A03-controlflow.pdf)    \n",
    "* [Andrea Passerini - functions](http://disi.unitn.it/~passerini/teaching/2020-2021/sci-pro/slides/A04-functions.pdf) \n",
    " \n",
    "**For realtime stuff during the lab, see this repl:** \n",
    "\n",
    "https://repl.it/@DavidLeoniWork/sciprog-ds-lab-2020-21\n"
   ]
  },
  {
   "cell_type": "markdown",
   "metadata": {},
   "source": [
    "## Lab A.7\n",
    "\n",
    "Wednesday 14 Oct 2020\n",
    "\n",
    "Worksheets\n",
    "\n",
    "- [Sequences](https://en.softpython.org/sequences/sequences-sol.html) (already translated)\n",
    "- [Data formats](https://en.softpython.org/formats/formats-sol.html) (already translated)\n",
    "\n",
    "References:\n",
    "\n",
    "- Andrea Passerini - [Modules and programs ](http://disi.unitn.it/~passerini/teaching/2020-2021/sci-pro/slides/A05-programs.pdf)\n",
    "\n",
    "**For realtime stuff during the lab, see this repl:** \n",
    "\n",
    "https://repl.it/@DavidLeoniWork/sciprog-ds-lab-2020-21\n"
   ]
  },
  {
   "cell_type": "markdown",
   "metadata": {},
   "source": [
    "## Lab A.8\n",
    "\n",
    "Monday 19 Oct 2020\n",
    "\n",
    "Worksheets:\n",
    "\n",
    "- [Graph formats](https://en.softpython.org/graph-formats/graph-formats-sol.html)\n",
    "    * graph matrices, adjacency lists (we will use networkx next lab)\n",
    "- [Binary relations](https://en.softpython.org/binary-relations/binary-relations-sol.html) (finish at home)\n",
    "\n",
    "**NOTE**: In Part A we will limit ourselves to graph formats and see some theory in separate binary relations notebook, while in Part B of the course will focus on [graph algorithms](https://sciprog.davidleoni.it/graph-algos/graph-algos.html)\n",
    "\n",
    "**For realtime stuff during the lab:** \n",
    "\n",
    "* [sciprog repl](https://repl.it/@DavidLeoniWork/sciprog-ds-lab-2020-21)\n",
    "* [graphviz repl](https://repl.it/@DavidLeoniWork/softgraphviz)\n",
    "* [graph drawings and challenges](https://docs.google.com/presentation/d/1rnSWMikHWAgxyVpFWI1NouB7iQiZNYUKwgF9IHL0MdU/edit?usp=sharing)"
   ]
  },
  {
   "cell_type": "markdown",
   "metadata": {},
   "source": [
    "### How to see graphviz on repl.it\n",
    "\n",
    "Since we're online, I came up with this solution \n",
    "\n",
    "**NOTE**: this is a shaky experiment only to share code during the lab, but you won't need if you do the worksheets above alone."
   ]
  },
  {
   "cell_type": "markdown",
   "metadata": {},
   "source": [
    "\n",
    "1. Go to this NEW repl:   https://repl.it/@DavidLeoniWork/softgraphviz\n",
    "\n",
    "2. Fork the project (**DO NOT** copy paste files in your projects, you **really** need to fork !)\n",
    "\n",
    "![replit-fork](_static/img/graph-formats/replit-fork.png)"
   ]
  },
  {
   "cell_type": "markdown",
   "metadata": {},
   "source": [
    "3. Run the script - you will have to wait some time until it loads all the packages:\n",
    "\n",
    "**NOTE**: this will activate a _server,_ which means from now on the server will be kept running and you shouldn't need to click on Run again (unless of course something is seriously compromised)\n",
    "\n",
    "![replit-run](_static/img/graph-formats/replit-run.png)"
   ]
  },
  {
   "cell_type": "markdown",
   "metadata": {},
   "source": [
    "4. Try making changes to `example.py` and then, instead of hitting the usual Run in repl, click the Reload button. Reload will run the script `example.py`, which at the end regenerates the `output.dot` file used in the visualization\n",
    "\n",
    "**NOTE:**  that after a while of inactivity, the server might stop and repl will need to reload all the packages.\n",
    "\n",
    "![replit-reload](_static/img/graph-formats/replit-reload.png)"
   ]
  },
  {
   "cell_type": "markdown",
   "metadata": {},
   "source": [
    "## Lab A.9\n",
    "\n",
    "Wednesday 21 Oct 2020\n",
    "\n",
    "**EXAM - Save the date:**\n",
    "\n",
    "- Simulation: Monday 2 November, 14:30-16:30 (online)  \n",
    "- Midterm Part A: Friday 6 November, 11.30-13.30 (online) - please login 15 mins before and allocate some time after the end in case we have technical problems\n",
    "\n",
    "**Simulation attendance is recommended!**: during the simulation and the exam you will connect online to a linux environment (but you **do not** need to install linux!), so the simulation is your chance to try the system. \n",
    "\n",
    "You will receive official communication with details in a short time. For now **please read** [exam guidelines from previous years](https://sciprog.davidleoni.it/#Exams)\n",
    "\n",
    "**WORKSHEETS**:\n",
    "\n",
    "Today we focus on graphs as adjacency lists,  networkx\n",
    "\n",
    "- [Graph formats](https://en.softpython.org/graph-formats/graph-formats-sol.html)\n",
    "- [Binary relations](https://en.softpython.org/binary-relations/binary-relations-sol.html) \n",
    "\n",
    "**NOTE**: In Part A we will limit ourselves to graph formats and see some theory in separate binary relations notebook, while in Part B of the course will focus on [graph algorithms](https://sciprog.davidleoni.it/graph-algos/graph-algos.html)\n",
    "\n",
    "**For realtime stuff during the lab:** \n",
    "\n",
    "* [sciprog repl](https://repl.it/@DavidLeoniWork/sciprog-ds-lab-2020-21)\n",
    "* [graphviz repl](https://repl.it/@DavidLeoniWork/softgraphviz) (to use, see instructions of [previous lab](#How-to-see-graphviz-on-repl.it))\n",
    "* [graph drawings and challenges](https://docs.google.com/presentation/d/1rnSWMikHWAgxyVpFWI1NouB7iQiZNYUKwgF9IHL0MdU/edit?usp=sharing) "
   ]
  },
  {
   "cell_type": "markdown",
   "metadata": {},
   "source": [
    "## Lab A.10\n",
    "\n",
    "Monday 26 Oct 2020\n",
    "\n",
    "**Worksheets**:\n",
    "\n",
    "Today we focus on numpy and matplotlib\n",
    "\n",
    "* [Matrices - Numpy](https://en.softpython.org/matrices-numpy/matrices-numpy-sol.html) - actually we don't do that much of numpy, it's more an introduction to things needed for visualization\n",
    "* [Visualization with matplotlib](https://en.softpython.org/visualization/visualization-sol.html) \n",
    "* [The AlgoRythm Opera Challenge](https://en.softpython.org/visualization/algorythm-opera-chal.html)\n",
    "\n",
    "\n",
    "**NOTE 1:** Visualization worksheet is different from Italian version!  Contains also some statistics on networks.\n",
    "\n",
    "**NOTE 2:** after the lab I put on softpython a revised version of the The AlgoRythm Opera Challenge. In particular even if you were at the lab, make sure to try [this new last part of the challenge](https://en.softpython.org/visualization/algorythm-opera-chal.html#Final-result-2), with changed variables: most probably you will discover there is some constant in your code which should be a variable instead.\n",
    "\n",
    "**References**:\n",
    "\n",
    "- [Andrea Passerini Numpy and Matplotlib slides](http://disi.unitn.it/~passerini/teaching/2020-2021/sci-pro/slides/A08-numpy.pdf)\n",
    "\n",
    "\n",
    "**For realtime stuff during the lab:** \n",
    "\n",
    "* [sciprog repl](https://repl.it/@DavidLeoniWork/sciprog-ds-lab-2020-21)\n",
    "* [graph drawings and challenges](https://docs.google.com/presentation/d/1rnSWMikHWAgxyVpFWI1NouB7iQiZNYUKwgF9IHL0MdU/edit?usp=sharing) "
   ]
  },
  {
   "cell_type": "markdown",
   "metadata": {},
   "source": [
    "## Lab A.11\n",
    "\n",
    "Wednesday 28 Oct 2020\n",
    "\n",
    "**Worksheets**:\n",
    "\n",
    "* [Matrices - Numpy images (new!)](https://en.softpython.org/matrices-numpy/numpy-images-sol.html) - was proposed as a challenge during the lab, now on the website you can find a revised version with solutions. Notice images may look like an application,  but actually they are matrices, only much nicer to see!\n",
    "\n",
    "**References**:\n",
    "\n",
    "- [Andrea Passerini Numpy and Matplotlib slides](http://disi.unitn.it/~passerini/teaching/2020-2021/sci-pro/slides/A08-numpy.pdf)\n",
    "\n",
    "\n",
    "**For realtime stuff during the lab:** \n",
    "\n",
    "* [sciprog repl](https://repl.it/@DavidLeoniWork/sciprog-ds-lab-2020-21)\n",
    "* [graph drawings and challenges](https://docs.google.com/presentation/d/1rnSWMikHWAgxyVpFWI1NouB7iQiZNYUKwgF9IHL0MdU/edit?usp=sharing) "
   ]
  },
  {
   "cell_type": "markdown",
   "metadata": {},
   "source": [
    "## Lab A.12\n",
    "\n",
    "Wednesday 4 Nov 2020\n",
    "\n",
    "**Worksheets**:\n",
    "\n",
    "* [Pandas tutorial](https://en.softpython.org/pandas/pandas-sol.html)\n",
    "* [Pandas case study: EURES job offers](https://en.softpython.org/pandas/eures-jobs-sol.html)\n",
    "* [Pandas: Italian Poets challenge](https://en.softpython.org/pandas/italian-poets-chal.html)\n",
    "* Exercises from Edabit, I put a selection on [SoftPython References page](https://en.softpython.org/references.html#Edabit) (if you don't see it refresh the page with ctrl-R or ctrl-F5)\n",
    "\n",
    "Note there won't be pandas during midterm for part A, at most I will use it only to show some data. For you, it could be useful to quickly gain an understanding of dataset contents.\n",
    "\n",
    "**References**:\n",
    "\n",
    "- [Andrea Passerini Pandas slides](http://disi.unitn.it/~passerini/teaching/2020-2021/sci-pro/slides/A07-pandas.pdf)\n",
    "\n",
    "\n",
    "**For realtime stuff during the lab:** \n",
    "\n",
    "* [sciprog repl](https://repl.it/@DavidLeoniWork/sciprog-ds-lab-2020-21)\n",
    "* [graph drawings and challenges](https://docs.google.com/presentation/d/1rnSWMikHWAgxyVpFWI1NouB7iQiZNYUKwgF9IHL0MdU/edit?usp=sharing) "
   ]
  },
  {
   "cell_type": "markdown",
   "metadata": {},
   "source": [
    "## Part B\n",
    "\n",
    "![hard-python](_static/img/hard-python.png)"
   ]
  },
  {
   "cell_type": "markdown",
   "metadata": {},
   "source": [
    "## Lab B.1\n",
    "\n",
    "Monday 9 Nov 2020\n",
    "\n",
    "* Remember that from now on we only use Visual Studio Code, possibly with the Live Share extension, so get familiar with it by reading [installation](installation.ipynb#Visual-Studio-Code)\n",
    "* [Testing with unittest](errors-and-testing/errors-and-testing-sol.ipynb#Testing-with-Unittest)\n",
    "* [OOP](oop/oop.ipynb) (probably only first part)"
   ]
  },
  {
   "cell_type": "markdown",
   "metadata": {},
   "source": [
    "## Lab B.2\n",
    "\n",
    "Wednesday 11 Nov 2020\n",
    "\n",
    "Worksheets:\n",
    "\n",
    "* [OOP](oop/oop.ipynb) Finished ComplexNumber, try doing Multiset on your own.\n",
    "* [OOP Matrix Challenge](oop/oop-matrix-chal.ipynb): (updated after the lab, please use this version). Try solving this for next week. Tests are not provided, you are invited to collaboratively write at least some in the new 'REPL Test Playground'. You can access the link [on Moodle](https://didatticaonline.unitn.it/dol/mod/url/view.php?id=721545)"
   ]
  },
  {
   "cell_type": "markdown",
   "metadata": {},
   "source": [
    "## Lab B.3\n",
    "\n",
    "Monday 16 Nov 2020\n",
    "\n",
    "Worksheets:\n",
    "\n",
    "* [Complexity](complexity/complexity-sol.ipynb): the invisible enemy\n",
    "* [Sorting Challenge](sorting/sorting-chal.ipynb)\n",
    "* [Sorting](sorting/sorting.ipynb) Selection sort and Insertion sort"
   ]
  },
  {
   "cell_type": "markdown",
   "metadata": {},
   "source": [
    "## Lab B.4\n",
    "\n",
    "Wednesday 18 Nov 2020\n",
    "\n",
    "Worksheets:\n",
    "\n",
    "* [Complexity](complexity/complexity-sol.ipynb): the invisible enemy\n",
    "* [Sorting Challenge](sorting/sorting-chal.ipynb) - I added Partitocracy challenge (a kind of quicksort)\n",
    "* [Sorting](sorting/sorting.ipynb) in lab we will see quicksort and mergesort, finish the rest at home"
   ]
  },
  {
   "cell_type": "markdown",
   "metadata": {},
   "source": [
    "## Lab B.5\n",
    "\n",
    "Monday 23 November\n",
    "\n",
    "* [LinkedList v1](linked-lists/linked-lists.ipynb) \n",
    "* [Little LinkedList challenge](linked-lists/linked-lists-chal.ipynb)\n",
    "\n",
    "At home: try to finish whole LinkedList worksheet"
   ]
  },
  {
   "cell_type": "markdown",
   "metadata": {},
   "source": [
    "## Lab B.6\n",
    "\n",
    "Wednesday 25 November\n",
    "\n",
    "* [LinkedList v2](linked-lists/linked-lists.ipynb) , other linked lists exercises\n",
    "* [Stacks](stacks/stacks.ipynb)\n",
    "\n",
    "At home: try to finish whole LinkedList and stacks worksheets"
   ]
  },
  {
   "cell_type": "markdown",
   "metadata": {},
   "source": [
    "## Lab B.7\n",
    "\n",
    "Monday 30 November\n",
    "\n",
    "* [Queues](queues/queues.ipynb) (CircularQueue and ItalianQueue)\n",
    "* I added some exercises about linked lists and queues on [Part B References](references.ipynb) page on Sciprog\n",
    "\n",
    "At home: try to finish whole Queues worksheet"
   ]
  },
  {
   "cell_type": "markdown",
   "metadata": {},
   "source": [
    "## Lab B.8\n",
    "\n",
    "Wednesday 2 December\n",
    "\n",
    "* [Binary trees](trees/bin-trees.ipynb)\n",
    "\n",
    "At home: try to finish whole Binary trees worksheet"
   ]
  },
  {
   "cell_type": "markdown",
   "metadata": {},
   "source": [
    "## Lab B.9\n",
    "\n",
    "Wednesday 9 December\n",
    "\n",
    "[Generic trees](trees/gen-trees.ipynb), at home: try to finish whole Generic trees worksheet\n",
    "\n",
    "Also:\n",
    "\n",
    "* during 'extra' lab on Monday we've seen tree visit using queues, I wrote something about in [bintree page](trees/bin-trees.ipynb#4.-Queue-visit)\n",
    "* Also: I updated [references sections](references.ipynb#LeetCode-Trees) with exercises from LeetCode about binary trees, adding also some note you might find helpful\n",
    "* As a further exercise, you  might try doing them also on generic trees."
   ]
  },
  {
   "cell_type": "markdown",
   "metadata": {},
   "source": [
    "### Lab B.10\n",
    "\n",
    "Monday 14 December\n",
    "\n",
    "* [Graphs algos worksheet](graph-algos/graph-algos.ipynb)\n",
    "* Will put more material ...\n",
    "\n",
    "NOTE: although past years I didn't give much exercises on graphs, this year you _may_ get one on BFS, DFS, topsort, connected components ..."
   ]
  },
  {
   "cell_type": "code",
   "execution_count": null,
   "metadata": {},
   "outputs": [],
   "source": []
  }
 ],
 "metadata": {
  "kernelspec": {
   "display_name": "Python 3 (ipykernel)",
   "language": "python",
   "name": "python3"
  },
  "language_info": {
   "codemirror_mode": {
    "name": "ipython",
    "version": 3
   },
   "file_extension": ".py",
   "mimetype": "text/x-python",
   "name": "python",
   "nbconvert_exporter": "python",
   "pygments_lexer": "ipython3",
   "version": "3.7.10"
  },
  "toc": {
   "base_numbering": 1,
   "nav_menu": {},
   "number_sections": false,
   "sideBar": true,
   "skip_h1_title": false,
   "title_cell": "Table of Contents",
   "title_sidebar": "Contents",
   "toc_cell": false,
   "toc_position": {},
   "toc_section_display": true,
   "toc_window_display": true
  }
 },
 "nbformat": 4,
 "nbformat_minor": 2
}
