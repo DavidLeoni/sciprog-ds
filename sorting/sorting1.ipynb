{
 "cells": [
  {
   "cell_type": "code",
   "execution_count": 1,
   "metadata": {},
   "outputs": [],
   "source": [
    "#jupman-purge-io\n",
    "#Please execute this cell\n",
    "import sys;\n",
    "sys.path.append('../'); \n",
    "import jupman;"
   ]
  },
  {
   "cell_type": "markdown",
   "metadata": {},
   "source": [
    "# Sorting\n",
    "\n",
    "## [Download exercises zip](../_static/generated/sorting.zip)\n",
    "\n",
    "[Browse files online](https://github.com/DavidLeoni/sciprog-ds/tree/master/sorting)\n",
    "\n",
    "## Introduction\n",
    "\n",
    "We will see several algorithms for sorting and discuss their time and space complexity along the way.\n",
    "\n",
    "<div class=\"alert alert-warning\">\n",
    "\n",
    "**BEFORE CONTINUING, READ FIRST THE WORKSHEETS ON** [RECURSION](https://sciprog.davidleoni.it/recursion/recursion1-simplefp-sol.html) **AND** [ON ALGORITHM ANALYSIS](https://sciprog.davidleoni.it/algo-analysis/algo-analysis-sol.html)\n",
    "    \n",
    "</div>    \n",
    "\n",
    "### References\n",
    "\n",
    "- Erik Dassi's Algorithm analysis slides 1 and 2, sorting\n",
    "- Python DS Chapter 2.6: Algorithm analysis"
   ]
  },
  {
   "cell_type": "markdown",
   "metadata": {},
   "source": [
    "\n",
    "### What to do\n",
    "\n",
    "- unzip exercises in a folder, you should get something like this: \n",
    "\n",
    "```\n",
    "\n",
    "\n",
    "sorting\n",
    "    sorting.ipynb         \n",
    "    insertion_sort.py\n",
    "    insertion_sort_test.py\n",
    "    insertion_sort_sol.py\n",
    "    selection_sort.py      \n",
    "    selection_sort_test.py\n",
    "    selection_sort_sol.py         \n",
    "    jupman.py\n",
    "    sciprog.py             \n",
    "    .\n",
    "    .\n",
    "    .    \n",
    "```\n",
    "\n",
    "- open the editor of your choice (for example Visual Studio Code, Spyder or PyCharme), you will edit the files ending in `.py` files\n",
    "- Go on reading this notebook, and follow instuctions inside."
   ]
  },
  {
   "cell_type": "markdown",
   "metadata": {},
   "source": [
    "## Exercises\n",
    "\n",
    "## 1 Selection Sort\n",
    "\n",
    "We will try to implement Selection Sort on our own. Don't look at existing solutions. In this exercises, you will only be allowed to look at this picture:\n",
    "\n",
    "![sleection sort matrix 34hh4u](img/selection-sort-matrix.png)\n",
    "\n",
    "Image credits: dr Alberto Montresor\n",
    "\n",
    "To start with, open  `selection_sort.py` in an editor of your choice.\n",
    "\n",
    "\n",
    "Now proceed reading. \n",
    "\n",
    "### 1.1 Implement `swap`\n",
    "\n"
   ]
  },
  {
   "cell_type": "code",
   "execution_count": 2,
   "metadata": {},
   "outputs": [],
   "source": [
    "def swap(A, i, j):\n",
    "    \"\"\" MODIFIES the array A by swapping the elements at position i and j\n",
    "    \"\"\"\n",
    "    raise Exception(\"TODO implement me!\")"
   ]
  },
  {
   "cell_type": "markdown",
   "metadata": {},
   "source": [
    "In order to succeed in this part of the course, you are strongly invited to _first_ think hard about a function, and _then_ code! So to start with, pay particular attention at the required inputs and expected outputs of functions.\n",
    "_Before_ start coding, answer these questions:"
   ]
  },
  {
   "cell_type": "markdown",
   "metadata": {},
   "source": [
    "**QUESTION 1.1.1**: What are the input types of `swap`? In particular\n",
    "\n",
    "* What is the type of the elements in `A`? \n",
    "    * Can we have both strings and floats inside `A` ?\n",
    "* What is the type of `i` and `j` ? \n",
    "\n",
    "<br/>\n",
    "<div class=\"alert alert-info\" >\n",
    "\n",
    "[VII COMMANDMENT](https://en.softpython.org/commandments.html#VII-COMMANDMENT): **You shall also write on paper!**\n",
    "</div>\n",
    "\n",
    "Help yourself by drawing a representation of input array. Staring at the monitor doesn't always work, so help yourself and draw a representation of the state sof the program. Tables, nodes, arrows, all can help figuring out a solution for the problem. \n",
    "<br/>"
   ]
  },
  {
   "cell_type": "markdown",
   "metadata": {},
   "source": [
    "**QUESTION 1.1.2**: What should be the result of the three prints here? Should the function `swap` _return_ something at all ? Try to answer this question before proceeding. \n",
    "\n",
    "\n",
    "```python\n",
    "A = ['a','b','c']\n",
    "print(A)\n",
    "print(swap(A, 0, 2))\n",
    "print(A)\n",
    "```"
   ]
  },
  {
   "cell_type": "markdown",
   "metadata": {},
   "source": [
    "**HINT**: Remember this:\n",
    "\n",
    "<div class=\"alert alert-info\" >\n",
    "\n",
    "[VI COMMANDMENT](https://en.softpython.org/commandments.html#VI-COMMANDMENT) **You shall use** `return` **command only if you see written RETURN in the function description!**\n",
    "\n",
    "If there is no `return` in function description, the function is intended to return `None`.\n",
    "</div>"
   ]
  },
  {
   "cell_type": "markdown",
   "metadata": {},
   "source": [
    "\n",
    "**QUESTION 1.1.3**:  Try to answer this question before proceeding:\n",
    "\n",
    "* What is the result of the first and second print down here?\n",
    "* What is the result of the final print if we have arbitrary indeces $i$ and $j$ with $0 \\leq i,j \\leq 2$  ?\n",
    "\n",
    "```python\n",
    "A = ['a','b','c']\n",
    "swap(A, 0, 2)\n",
    "print(A)\n",
    "swap(A, 2, 0)\n",
    "print(A)\n",
    "```"
   ]
  },
  {
   "cell_type": "markdown",
   "metadata": {},
   "source": [
    "**QUESTION 1.1.4**: What is the result of the final print here? Try to answer this question before proceeding:\n",
    "\n",
    "```python\n",
    "A = ['a','b','c']\n",
    "swap(A, 1, 1)\n",
    "print(A)\n",
    "```"
   ]
  },
  {
   "cell_type": "markdown",
   "metadata": {},
   "source": [
    "**QUESTION 1.1.5**: \n",
    "\n",
    "* In the same file `selection_sort.py` copy at the end the test code at the end of this question.\n",
    "* Read carefully all the test cases, in particular `test_swap_property` and `test_double_swap`. They show two important properties of the swap function that you should have discovered while ansering the questions before. \n",
    "    * Why should these tests succeed with implemented code? Make sure to answer.\n",
    "\n"
   ]
  },
  {
   "cell_type": "markdown",
   "metadata": {},
   "source": [
    "**EXERCISE**: implement swap\n",
    "\n",
    "Proceed implementing the `swap` function\n",
    "\n",
    "**To test the function**, run:\n",
    "\n",
    "```bash\n",
    "python3  -m unittest selection_sort_test.SwapTest\n",
    "```\n",
    "\n",
    "Notice that:\n",
    "\n",
    "* In the command above there is no `.py` at the end of `selection_sort_test`\n",
    "* We are executing the command in the operating system shell, not Python (there must _not_ be  `>>>` at the beginning)\n",
    "* At the end of the filename, there is a dot followed by a test class name `SwapTest`, which means Python will only execute tests contained in `SwapTest`. Of course, in this case those are all the tests we have, but if we add many test classes to our file, it will be useful to able to filter executed tests.\n",
    "* According to your distribution (i.e. Anaconda), you might need to write `python` instead of  `python3` "
   ]
  },
  {
   "cell_type": "markdown",
   "metadata": {},
   "source": [
    "\n",
    "**QUESTION 1.1.6**: Read [Error kinds](https://sciprog.davidleoni.it/errors-and-testing/errors-and-testing-sol.html#Error-kinds) section in Testing. Suppose you will be the only one calling `swap`, and you suspect your program somewhere is calling swap with wrong parameters. Which kind of error would that be? Add to `swap` some appropriate _precondition checking_.  "
   ]
  },
  {
   "cell_type": "markdown",
   "metadata": {},
   "source": [
    "### 1.2 Implement `argmin`\n",
    "\n",
    "Try to code and test the partial `argmin` pos function:\n"
   ]
  },
  {
   "cell_type": "code",
   "execution_count": 3,
   "metadata": {},
   "outputs": [],
   "source": [
    "def argmin(A, i):\n",
    "    \"\"\" RETURN the *index* of the element in list A which is lesser than or equal\n",
    "        to all other elements in A that start from index i included\n",
    "    \n",
    "        - MUST execute in O(n) where n is the length of A\n",
    "    \"\"\"\n",
    "    raise Exception(\"TODO implement me!\")\n"
   ]
  },
  {
   "cell_type": "markdown",
   "metadata": {},
   "source": [
    "\n",
    "**QUESTION 1.2.1**: What are the input types of `argmin`? In particular\n",
    "\n",
    "* What could be the type of the elements in `A`? \n",
    "    * Can we have both strings and floats inside `A` ?\n",
    "* What is the type of `i`  ? \n",
    "    * What is the range of `i` ?\n",
    "\n",
    "**QUESTION 1.2.2**: Should the function `argmin` _return_ something  ? What would be the result type? Try to answer this question before proceeding.\n",
    "\n",
    "**QUESTION 1.2.3**: Look again at the `selection_sort` matrix, and compare it to the `argmin` function definition:\n",
    "\n",
    "![selection sort matrix jk34j34](img/selection-sort-matrix.png)\n",
    "\n",
    "* Can you understand the meaning of orange and white boxes?  \n",
    "* What does the yellow box represent?\n",
    "\n",
    "**QUESTION 1.2.4**: \n",
    "\n",
    "* Draw a matrix like the above for the array `A = ['b','a','c']`, adding the corresponding row and column numbers for `i` and `j`\n",
    "* What should be the result of the three prints here?  \n",
    "\n",
    "\n",
    "```python\n",
    "A = ['a','b','c']\n",
    "print(argmin(A,0))\n",
    "print(argmin(A,1))\n",
    "print(argmin(A,2))\n",
    "print(A)\n",
    "```\n",
    "    \n",
    "**EXERCISE 1.2.5**: Copy the following test code at the end of the file `selection_sort.py`, and start coding a solution. \n",
    "\n",
    "**To test the function**, run:\n",
    "\n",
    "```bash\n",
    "python3  -m unittest selection_sort_test.ArgminTest\n",
    "```\n",
    "\n",
    "Notice how now we are appending `.ArgminTest` at the end of the command.\n",
    "\n",
    "<br/>\n",
    "<div class=\"alert alert-warning\" >\n",
    "\n",
    "**Warning:** _Don't_ use slices ! Remember their computational complexity, and that in these labs we do care about performances!\n",
    "</div>\n",
    "\n"
   ]
  },
  {
   "cell_type": "markdown",
   "metadata": {},
   "source": [
    "### 1.3: Full `selection_sort`\n",
    "\n",
    "\n",
    "![selection sort matrix g9gf](img/selection-sort-matrix.png)\n",
    "\n",
    "Let's talks about implementing `selection_sort` function in `selection_sort.py`"
   ]
  },
  {
   "cell_type": "code",
   "execution_count": 4,
   "metadata": {},
   "outputs": [],
   "source": [
    "\n",
    "def selection_sort(A):\n",
    "    \"\"\" Sorts the list A in-place in O(n^2) time this ways:\n",
    "        1. Looks at minimal element in the array [i:n],\n",
    "           and swaps it with first element.\n",
    "        2. Repeats step 1, but considering the subarray [i+1:n]\n",
    "        \n",
    "        Remember selection sort has complexity O(n^2) where n is the \n",
    "        size of the list.\n",
    "    \"\"\"\n",
    "\n",
    "    raise Exception(\"TODO implement me!\")\n"
   ]
  },
  {
   "cell_type": "markdown",
   "metadata": {},
   "source": [
    "Note: on the book website there is [an implementation of the selection sort](http://interactivepython.org/runestone/static/pythonds/SortSearch/TheSelectionSort.html) with a nice animated histogram showing a sorting process. Differently from the slides, instead of selecting the minimal element the algorithm on the book selects the _maximal_ element and puts it to the right of the array.\n",
    "\n",
    "\n",
    "**QUESTION 1.3.1**: \n",
    "\n",
    "* What is the expected _return_ type? Does it return anything at all?\n",
    "* What is the meaning of 'Sorts the list A in-place' ?\n",
    "\n",
    "**QUESTION 1.3.2**: \n",
    "\n",
    "* At the beginning, which array indeces are considered?\n",
    "* At the end, which array indeces are considered ? Is `A[len(A) - 1:len(A)]` ever considered ?\n",
    "\n",
    "**EXERCISE 1.3.3**: \n",
    "\n",
    "Try now to implement `selection_sort` in `selection_sort.py`, using the two previously defined functions `swap` and `argmin`. \n",
    "\n",
    "**HINT**: If you are having troubles because your selection sort passes wrong arguments to either swap or argmin, feel free to add further assertions to both. They are much more effective than prints !\n",
    "\n",
    "**To test the function**, run:\n",
    "\n",
    "```bash\n",
    "python3  -m unittest selection_sort_test.SelectionSortTest\n",
    "```\n"
   ]
  },
  {
   "cell_type": "markdown",
   "metadata": {},
   "source": [
    "\n",
    "##  2 Insertion sort\n",
    "\n",
    "Insertion sort is a basic sorting algorithm. [This animation](https://github.com/DavidLeoni/sciprog-ds/blob/master/sorting/img/insertion-sort-example.gif) gives you an idea of how it works"
   ]
  },
  {
   "cell_type": "raw",
   "metadata": {
    "raw_mimetype": "text/html"
   },
   "source": [
    "<img src=\"https://raw.githubusercontent.com/DavidLeoni/sciprog-ds/master/sorting/img/insertion-sort-example.gif\">"
   ]
  },
  {
   "cell_type": "markdown",
   "metadata": {},
   "source": [
    "From the animation, you can see these things are going on: \n",
    "\n",
    "1. The red square selects one number starting from the leftomost (question: does it actually need to be the leftmost ? Can we save one iteration?). Let's say it starts at position `i`.\n",
    "2. _While_ the number in the red square is lesser then the previous one, it is shifted back one position at a time\n",
    "3. The red square now selects the number immediately following the previous starting point of the red square, that is, selects position `i + 1`\n",
    "\n",
    "From the analysis above:\n",
    "\n",
    "- how many cycles do we need ? One, Two, Three?\n",
    "- Are they nested? \n",
    "- Is there one cycle with a fixed number of iterations ? Is there one with an unknown number of iterations? \n",
    "- What is the worst-case complexity of the algorithm?\n"
   ]
  },
  {
   "cell_type": "markdown",
   "metadata": {},
   "source": [
    "As always, if you have troubles finding a generic solution, take a fixed list and manually write down all the steps to do the algorithm. Here we give a sketch:\n",
    "\n",
    "```\n",
    "\n",
    "   i=0,1,2,3,4,5\n",
    "A = [3,8,9,7,6,2]\n",
    "\n",
    "```\n"
   ]
  },
  {
   "cell_type": "markdown",
   "metadata": {},
   "source": [
    "Let's say we have red square at `i=4`\n",
    "\n",
    "```python\n",
    "i = 4\n",
    "red =  A[4]   # in red we put the value in A[4] which is 6\n",
    "\n",
    "              #  0,1,2,3,4,5\n",
    "              # [3,7,8,9,6,2]  start\n",
    "A[4] = A[3]   # [3,7,8,9,9,2]\n",
    "A[3] = A[2]   # [3,7,8,8,9,2]\n",
    "A[2] = A[1]   # [3,7,7,8,9,2]\n",
    "A[1] = red    # [3,6,7,8,9,2]  A[1] < red, stop\n",
    "\n",
    "```\n",
    "\n",
    "We can generalize A index with a `j`:\n",
    "\n",
    "```python\n",
    "i = 4\n",
    "red = A[4]\n",
    "j = 4\n",
    "while ...\n",
    "    A[j] = A[j-1]\n",
    "    j -= 1\n",
    "    \n",
    "A[j] = red\n",
    "```\n",
    "\n",
    "Start editing the file `insertion_sort.py` and implement  `insertion_sort` without looking at theory slides. \n",
    "\n",
    "```python\n",
    "def insertion_sort(A):\n",
    "    \"\"\" Sorts in-place list A with insertion sort  \n",
    "    \"\"\"\n",
    "```"
   ]
  },
  {
   "cell_type": "markdown",
   "metadata": {},
   "source": [
    "## 3 Merge sort"
   ]
  },
  {
   "cell_type": "markdown",
   "metadata": {},
   "source": [
    "With merge sort we model lists to ordered as stacks, so it is important to understand how to take elements from the end of a list and how to reverse a list to change its order."
   ]
  },
  {
   "cell_type": "markdown",
   "metadata": {},
   "source": [
    "### Taking last element\n",
    "\n",
    "To take last element from a list you may use `[-1]`: "
   ]
  },
  {
   "cell_type": "code",
   "execution_count": 5,
   "metadata": {},
   "outputs": [
    {
     "data": {
      "text/plain": [
       "8"
      ]
     },
     "execution_count": 5,
     "metadata": {},
     "output_type": "execute_result"
    }
   ],
   "source": [
    "[9,7,8][-1]"
   ]
  },
  {
   "cell_type": "markdown",
   "metadata": {},
   "source": [
    "\n",
    "#### Reversing a list\n",
    "\n",
    "REMEMBER: `.reverse()` method MODIFIES the list it is called on and returns `None` !"
   ]
  },
  {
   "cell_type": "code",
   "execution_count": 6,
   "metadata": {},
   "outputs": [],
   "source": [
    "lst = [9,7,8]\n",
    "lst.reverse()"
   ]
  },
  {
   "cell_type": "markdown",
   "metadata": {},
   "source": [
    "Notice how above Jupyter did not show anything, because implicitly the result of the call was `None`. Still, we have an effect, `lst` is now reversed:"
   ]
  },
  {
   "cell_type": "code",
   "execution_count": 7,
   "metadata": {},
   "outputs": [
    {
     "data": {
      "text/plain": [
       "[8, 7, 9]"
      ]
     },
     "execution_count": 7,
     "metadata": {},
     "output_type": "execute_result"
    }
   ],
   "source": [
    "lst"
   ]
  },
  {
   "cell_type": "markdown",
   "metadata": {},
   "source": [
    "If you want to reversed version of a list without actually changing it, you can use `reversed` function:"
   ]
  },
  {
   "cell_type": "code",
   "execution_count": 8,
   "metadata": {},
   "outputs": [
    {
     "data": {
      "text/plain": [
       "<list_reverseiterator at 0x7f95d2a6a210>"
      ]
     },
     "execution_count": 8,
     "metadata": {},
     "output_type": "execute_result"
    }
   ],
   "source": [
    "lst = [9,7,8]\n",
    "reversed(lst)"
   ]
  },
  {
   "cell_type": "markdown",
   "metadata": {},
   "source": [
    "The returned value is an iterator, so something which is able to produce a reversed version of the list but it is still not a list. If you actually want to get back a list, you need to explicitly cast it to `list`:"
   ]
  },
  {
   "cell_type": "code",
   "execution_count": 9,
   "metadata": {},
   "outputs": [
    {
     "data": {
      "text/plain": [
       "[8, 7, 9]"
      ]
     },
     "execution_count": 9,
     "metadata": {},
     "output_type": "execute_result"
    }
   ],
   "source": [
    "lst = [9,7,8]\n",
    "list(reversed(lst))"
   ]
  },
  {
   "cell_type": "markdown",
   "metadata": {},
   "source": [
    "Notice `lst` itself was not changed:"
   ]
  },
  {
   "cell_type": "code",
   "execution_count": 10,
   "metadata": {},
   "outputs": [
    {
     "data": {
      "text/plain": [
       "[9, 7, 8]"
      ]
     },
     "execution_count": 10,
     "metadata": {},
     "output_type": "execute_result"
    }
   ],
   "source": [
    "lst"
   ]
  },
  {
   "cell_type": "markdown",
   "metadata": {},
   "source": [
    "#### Removing last element with .pop()"
   ]
  },
  {
   "cell_type": "markdown",
   "metadata": {},
   "source": [
    "To remove an element, you can use `.pop()` method, which does two things:\n",
    "\n",
    "1. if not given any argument, removes the **last** element **in** $O(1)$ **time**\n",
    "2. returns it to the caller of the method, so for example we can conveniently store it in a variable"
   ]
  },
  {
   "cell_type": "code",
   "execution_count": 11,
   "metadata": {},
   "outputs": [],
   "source": [
    "\n",
    "A = [9,7,8]\n",
    "x = A.pop()"
   ]
  },
  {
   "cell_type": "code",
   "execution_count": 12,
   "metadata": {},
   "outputs": [
    {
     "name": "stdout",
     "output_type": "stream",
     "text": [
      "[9, 7]\n"
     ]
    }
   ],
   "source": [
    "print(A)"
   ]
  },
  {
   "cell_type": "code",
   "execution_count": 13,
   "metadata": {},
   "outputs": [
    {
     "name": "stdout",
     "output_type": "stream",
     "text": [
      "8\n"
     ]
    }
   ],
   "source": [
    "print(x)"
   ]
  },
  {
   "cell_type": "markdown",
   "metadata": {},
   "source": [
    "<div class=\"alert alert-warning\">\n",
    "\n",
    "**WARNING**: internal deletion is expensive !\n",
    "\n",
    "If you pay attention to performance (and in this course part you are), whenever you have to remove elements from a Python list be very careful about the complexity! Removal at the end is a very fast O(1), but internal removal is O(n) !\n",
    "</div>"
   ]
  },
  {
   "cell_type": "markdown",
   "metadata": {},
   "source": [
    "### Costly internal del"
   ]
  },
  {
   "cell_type": "markdown",
   "metadata": {},
   "source": [
    "You can remove an internal element with `del`\n",
    "\n",
    "**NOTE**: `del` returns `None`"
   ]
  },
  {
   "cell_type": "code",
   "execution_count": 14,
   "metadata": {},
   "outputs": [],
   "source": [
    "lst = [9,5,6,7]\n",
    "del lst[2]     # internal delete is O(n)"
   ]
  },
  {
   "cell_type": "code",
   "execution_count": 15,
   "metadata": {},
   "outputs": [
    {
     "data": {
      "text/plain": [
       "[9, 5, 7]"
      ]
     },
     "execution_count": 15,
     "metadata": {},
     "output_type": "execute_result"
    }
   ],
   "source": [
    "lst"
   ]
  },
  {
   "cell_type": "markdown",
   "metadata": {},
   "source": [
    "### Costly internal pop\n",
    "\n",
    "You can remove an internal element with `pop(i)`"
   ]
  },
  {
   "cell_type": "code",
   "execution_count": 16,
   "metadata": {},
   "outputs": [
    {
     "data": {
      "text/plain": [
       "6"
      ]
     },
     "execution_count": 16,
     "metadata": {},
     "output_type": "execute_result"
    }
   ],
   "source": [
    "lst = [9,5,6,7]\n",
    "\n",
    "lst.pop(2)  # internal pop is O(n)"
   ]
  },
  {
   "cell_type": "code",
   "execution_count": 17,
   "metadata": {},
   "outputs": [
    {
     "data": {
      "text/plain": [
       "[9, 5, 7]"
      ]
     },
     "execution_count": 17,
     "metadata": {},
     "output_type": "execute_result"
    }
   ],
   "source": [
    "lst"
   ]
  },
  {
   "cell_type": "markdown",
   "metadata": {},
   "source": [
    "### 3.1 merge 1\n",
    "\n",
    "Start editing `merge_sort.py`\n",
    "\n",
    "`merge1` takes two *already ordered* lists of size `n` and `m` and return a new one made with the elements of both in $O(n+m)$ time. For example: \n"
   ]
  },
  {
   "cell_type": "code",
   "execution_count": 18,
   "metadata": {},
   "outputs": [
    {
     "data": {
      "text/plain": [
       "[2, 3, 4, 6, 8, 9, 9, 13, 15]"
      ]
     },
     "execution_count": 18,
     "metadata": {},
     "output_type": "execute_result"
    }
   ],
   "source": [
    "from merge_sort_sol import *\n",
    "\n",
    "merge1([3,6,9,13,15], [2,4,8,9])\n"
   ]
  },
  {
   "cell_type": "markdown",
   "metadata": {},
   "source": [
    "\n",
    "To implement it, keep comparing the last elements of the two lists, and at each round  append the greatest in a temporary list, which you shall return at the end of the function (remember to reverse it!).\n",
    "\n",
    "       \n",
    "Example:\n",
    "\n",
    "If we imagine the numbers as ordered card decks, we can picture them like this:\n",
    "\n",
    "```\n",
    "                              2                15\n",
    "                              4                13\n",
    "                              4                10\n",
    "                              6                9\n",
    "          15                  8                8\n",
    "          13      10          9                6\n",
    "          9       8           10               4\n",
    "          6       4           13               4\n",
    "          4       2           15               2\n",
    "          \n",
    "          A       B           TMP            RESULT\n",
    "\n",
    "As Python lists, they would look like: \n",
    "\n",
    "A=[4,6,9,13,15]\n",
    "B=[2,4,8,10]\n",
    "TMP=[15,13,10,9,8,6,4,4,2]\n",
    "RESULT=[2,4,4,6,8,9,10,13,15]\n",
    "\n",
    "```          \n",
    "\n",
    "The algorithm would:\n",
    "\n",
    "1. compare 15 and 10, pop 15 and put it in TMP\n",
    "2. compare 13 and 10, pop 13 and put it in TMP\n",
    "3. compare 9 and 10, pop 10 and put it in TMP\n",
    "4. compare 9 and 8, pop 9 and put it in TMP\n",
    "5. etc ...\n",
    "6. finally return a reversed TMP\n",
    "\n",
    "It remains to decide what to do when one of the two lists remains empty, but this is up to you.\n",
    "\n",
    "\n",
    "To test: \n",
    "\n",
    "```\n",
    "python3 -m unittest merge_sort_test.Merge1Test\n",
    "```\n"
   ]
  },
  {
   "cell_type": "markdown",
   "metadata": {},
   "source": [
    "### 3.2 merge2\n",
    "\n",
    "`merge2` takes A and B as two ordered lists (from smallest to greatest) of (possibly negative) integers.\n",
    "Lists are of size n and m respectively, and RETURN  a NEW list composed of the items in A and B ordered\n",
    "from smallest to greatest\n",
    "\n",
    "- MUST RUN IN $O(m+n)$\n",
    "- in this version, do **NOT** use `.pop()` on input lists to reduce their size. Instead, **use indeces to track at which point you are**, starting at zero and  putting **minimal** elements in result list, so this time you don't even need a temporary list.\n",
    "   \n",
    "\n",
    "```\n",
    "\n",
    "  8                           15\n",
    "  7                           13\n",
    "  6                           10\n",
    "  5                           9\n",
    "  4       15                  8\n",
    "  3       13      10          6\n",
    "  2       9       8           4\n",
    "  1       6       4           4\n",
    "  0       4       2           2\n",
    "          \n",
    "index     A       B           RESULT\n",
    "\n",
    "```          \n",
    "Sketch:\n",
    "\n",
    "0. set i=0 (left index) and j=0 (right index)\n",
    "1. compare 4 and 2, put 2 in RESULT, set  i=0, j=1\n",
    "2. compare 4 and 4, put 4 in RESULT, set  i=1, j=1\n",
    "3. compare 6 and 4, put 4 in RESULT, set  i=1, j=2\n",
    "4. compare 6 and 8, put 6 in RESULT, set  i=2, j=2\n",
    "5. etc ...\n",
    "6. finally return RESULT\n",
    "\n",
    "   \n",
    "To test:\n",
    "```\n",
    "python3 -m unittest merge_sort_test.Merge2Test\n",
    "```\n",
    "             "
   ]
  },
  {
   "cell_type": "markdown",
   "metadata": {},
   "source": [
    "## 4 quick sort\n",
    "\n",
    "\n",
    "Quick sort is a widely used sorting algorithm and in this exercise you will implement it following the pseudo code."
   ]
  },
  {
   "cell_type": "markdown",
   "metadata": {},
   "source": [
    "<div class=\"alert alert-info\">\n",
    "\n",
    "**IMPORTANT**: Array `A` in the pseudo code has indexes starting from zero **included**\n",
    "</div>\n",
    "\n",
    "<div class=\"alert alert-info\">\n",
    "    \n",
    "**IMPORTANT**: The functions `pivot` and `quicksort` operate an a subarray that goes from indeces `first` **included** and `last` **included** !!!\n",
    "</div>"
   ]
  },
  {
   "cell_type": "markdown",
   "metadata": {},
   "source": [
    "Start editing the file `quick_sort.py`:\n",
    "\n",
    "\n",
    "### 4.1 pivot\n",
    "\n",
    "Try look at this pseudocode and implement `pivot` method.\n",
    "\n",
    "<div class=\"alert alert-info\">\n",
    "\n",
    "**IMPORTANT**: If something goes wrong (it will), find the problem using the debugger !\n",
    "</div>\n",
    "\n",
    "![](img/quicksort-pivot.png)\n",
    "\n",
    "```python\n",
    "def pivot(A, first, last):\n",
    "    \"\"\" MODIFIES in-place the slice of the array A with indeces between first included \n",
    "        and last **included**. RETURN the new pivot index.\n",
    "        \n",
    "    \"\"\"\n",
    "    raise Exception(\"TODO IMPLEMENT ME!\")\n",
    "\n",
    "```\n",
    "\n",
    "You can run tests only for `pivot` with this command:\n",
    "\n",
    "```bash\n",
    "    python3 -m unittest quick_sort_test.PivotTest\n",
    "```\n"
   ]
  },
  {
   "cell_type": "markdown",
   "metadata": {},
   "source": [
    "### 4.2 quicksort and qs\n",
    "\n",
    "Implement `quicksort` and `qs` method:\n",
    "\n",
    "![quicksort jiu5y45](img/quicksort.png)\n",
    "\n",
    "```python\n",
    "def quicksort(A, first, last):\n",
    "    \"\"\"\n",
    "        Sorts in-place the slice of the array A with indeces between \n",
    "        first included and last included.\n",
    "    \"\"\"\n",
    "    raise Exception(\"TODO IMPLEMENT ME !\")\n",
    "\n",
    "def qs(A):\n",
    "    \"\"\"\n",
    "        Sorts in-place the array A by calling quicksort function on the \n",
    "        full array.\n",
    "    \"\"\"\n",
    "    raise Exception(\"TODO IMPLEMENT ME !\")\n",
    "```\n",
    "\n",
    "You can run tests only for both `quicksort` and `qs` with this command:\n",
    "\n",
    "```bash\n",
    "    python3 -m unittest quick_sort_test.QuicksortTest\n",
    "```\n"
   ]
  },
  {
   "cell_type": "markdown",
   "metadata": {},
   "source": [
    "## 5 SwapArray\n",
    "\n",
    "<div class=\"alert alert-warning\">\n",
    "\n",
    "**NOTE: This exercise was given at an exam. Solving it could have been quite easy, if students had just read** [the book](https://runestone.academy/runestone/static/pythonds/SortSearch/sorting.html) (which is available when doing the exam)! \n",
    "\n",
    "Interpret it as a warning that reading these worksheets alone is _not_ enough to pass the exam.\n",
    "</div>\n",
    "\n",
    "You are given a class `SwapArray` that models an array where the only modification you can do is to swap an element with the successive one.  \n"
   ]
  },
  {
   "cell_type": "code",
   "execution_count": 19,
   "metadata": {},
   "outputs": [],
   "source": [
    "from swap_array_sol import *"
   ]
  },
  {
   "cell_type": "markdown",
   "metadata": {},
   "source": [
    "To create a `SwapArray`, just call it passing a python list:"
   ]
  },
  {
   "cell_type": "code",
   "execution_count": 20,
   "metadata": {},
   "outputs": [
    {
     "name": "stdout",
     "output_type": "stream",
     "text": [
      "SwapArray: [7, 8, 6]\n"
     ]
    }
   ],
   "source": [
    "sarr = SwapArray([7,8,6])\n",
    "print(sarr)"
   ]
  },
  {
   "cell_type": "markdown",
   "metadata": {},
   "source": [
    "Then you can query in $O(1)$ it by calling `get()` and `get_last()`"
   ]
  },
  {
   "cell_type": "code",
   "execution_count": 21,
   "metadata": {},
   "outputs": [
    {
     "data": {
      "text/plain": [
       "7"
      ]
     },
     "execution_count": 21,
     "metadata": {},
     "output_type": "execute_result"
    }
   ],
   "source": [
    "sarr.get(0)"
   ]
  },
  {
   "cell_type": "code",
   "execution_count": 22,
   "metadata": {},
   "outputs": [
    {
     "data": {
      "text/plain": [
       "8"
      ]
     },
     "execution_count": 22,
     "metadata": {},
     "output_type": "execute_result"
    }
   ],
   "source": [
    "sarr.get(1)"
   ]
  },
  {
   "cell_type": "code",
   "execution_count": 23,
   "metadata": {},
   "outputs": [
    {
     "data": {
      "text/plain": [
       "6"
      ]
     },
     "execution_count": 23,
     "metadata": {},
     "output_type": "execute_result"
    }
   ],
   "source": [
    "sarr.get_last()"
   ]
  },
  {
   "cell_type": "markdown",
   "metadata": {},
   "source": [
    "You can know the size in $O(1)$ with `size()` method:"
   ]
  },
  {
   "cell_type": "code",
   "execution_count": 24,
   "metadata": {},
   "outputs": [
    {
     "data": {
      "text/plain": [
       "3"
      ]
     },
     "execution_count": 24,
     "metadata": {},
     "output_type": "execute_result"
    }
   ],
   "source": [
    "sarr.size()"
   ]
  },
  {
   "cell_type": "markdown",
   "metadata": {},
   "source": [
    "As we said, the only modification you can do to the internal array is to call `swap_next` method:\n",
    "\n",
    "```python\n",
    "\n",
    "def swap_next(self, i):\n",
    "\"\"\" Swaps the elements at indeces i and i + 1\n",
    "        \n",
    "            If index is negative or greater or equal of the last index, raises \n",
    "            an IndexError\n",
    "        \n",
    "        \"\"\"\n",
    "```\n",
    "\n",
    "For example:"
   ]
  },
  {
   "cell_type": "code",
   "execution_count": 25,
   "metadata": {},
   "outputs": [
    {
     "name": "stdout",
     "output_type": "stream",
     "text": [
      "SwapArray: [7, 8, 6, 3]\n"
     ]
    }
   ],
   "source": [
    "sarr = SwapArray([7,8,6,3])\n",
    "print(sarr)"
   ]
  },
  {
   "cell_type": "code",
   "execution_count": 26,
   "metadata": {},
   "outputs": [
    {
     "name": "stdout",
     "output_type": "stream",
     "text": [
      "SwapArray: [7, 8, 3, 6]\n"
     ]
    }
   ],
   "source": [
    "sarr.swap_next(2)\n",
    "print(sarr)"
   ]
  },
  {
   "cell_type": "code",
   "execution_count": 27,
   "metadata": {},
   "outputs": [
    {
     "name": "stdout",
     "output_type": "stream",
     "text": [
      "SwapArray: [8, 7, 3, 6]\n"
     ]
    }
   ],
   "source": [
    "sarr.swap_next(0)\n",
    "print(sarr)"
   ]
  },
  {
   "cell_type": "markdown",
   "metadata": {},
   "source": [
    "Now start editing the file `swap_array.py`:\n",
    "\n",
    "\n",
    "### 5.1 is_sorted\n",
    "\n",
    "Implement the `is_sorted` function, which is a function *external* to the class `SwapArray`: \n",
    "\n",
    "```python\n",
    "\n",
    "def is_sorted(sarr):  \n",
    "    \"\"\" Returns True if the provided SwapArray sarr is sorted, False otherwise\n",
    "    \n",
    "        NOTE: Here you are a user of SwapArray, so you *MUST NOT* access\n",
    "              directly the field _arr.\n",
    "        NOTE: MUST run in O(n) where n is the length of the array\n",
    "    \"\"\"\n",
    "    raise Exception(\"TODO IMPLEMENT ME !\")\n",
    "```\n",
    "\n",
    "\n",
    "Once done, running this will run only the tests in `IsSortedTest` class and hopefully they will pass. \n",
    "\n",
    "\n",
    "```bash\n",
    "\n",
    " python3 -m unittest swap_array_test.IsSortedTest\n",
    "\n",
    "```\n",
    "\n",
    "**Example usage:**\n"
   ]
  },
  {
   "cell_type": "code",
   "execution_count": 28,
   "metadata": {},
   "outputs": [
    {
     "data": {
      "text/plain": [
       "False"
      ]
     },
     "execution_count": 28,
     "metadata": {},
     "output_type": "execute_result"
    }
   ],
   "source": [
    "is_sorted(SwapArray([8,5,6]))"
   ]
  },
  {
   "cell_type": "code",
   "execution_count": 29,
   "metadata": {},
   "outputs": [
    {
     "data": {
      "text/plain": [
       "True"
      ]
     },
     "execution_count": 29,
     "metadata": {},
     "output_type": "execute_result"
    }
   ],
   "source": [
    "is_sorted(SwapArray([5,6,6,8]))"
   ]
  },
  {
   "cell_type": "markdown",
   "metadata": {},
   "source": [
    "\n",
    "\n",
    "### 5.2 max_to_right\n",
    "\n",
    "Implement `max_to_right` function, which is a function *external* to the class `SwapArray`. There are two ways to implement it, try to minimize the reads from the `SwapArray`.\n",
    "\n",
    "\n",
    "```python\n",
    "def max_to_right(sarr,i):\n",
    "    \"\"\" Modifies the provided SwapArray sarr so that its biggest element\n",
    "        in the subarray from 0 to i is moved at index i.\n",
    "        Elements *after* i are *not* considered.\n",
    "        \n",
    "        The order in which the other elements will be after a call\n",
    "        to this function is left unspecified (so it could be any).\n",
    "        \n",
    "        NOTE: Here you are a user of SwapArray, so you *MUST NOT* access\n",
    "              directly the field _arr. To do changes, you can only use \n",
    "              the method swap_next(self, i).   \n",
    "        NOTE: does *not* return anything!  \n",
    "        NOTE: MUST run in O(n) where n is the length of the array\n",
    "                     \n",
    "    \"\"\"\n",
    "```\n",
    "\n",
    "**Testing**: `  python3 -m unittest swap_array_test.MaxToRightTest`\n",
    "\n",
    "**Example usage:**"
   ]
  },
  {
   "cell_type": "code",
   "execution_count": 30,
   "metadata": {},
   "outputs": [
    {
     "name": "stdout",
     "output_type": "stream",
     "text": [
      "SwapArray: [7, 9, 6, 5, 8]\n"
     ]
    }
   ],
   "source": [
    "sarr = SwapArray([7, 9, 6, 5, 8])\n",
    "print(sarr)"
   ]
  },
  {
   "cell_type": "code",
   "execution_count": 31,
   "metadata": {},
   "outputs": [
    {
     "name": "stdout",
     "output_type": "stream",
     "text": [
      "SwapArray: [7, 6, 5, 8, 9]\n"
     ]
    }
   ],
   "source": [
    "max_to_right(sarr,4)  # 4 is an *index* \n",
    "print(sarr)"
   ]
  },
  {
   "cell_type": "code",
   "execution_count": 32,
   "metadata": {},
   "outputs": [
    {
     "name": "stdout",
     "output_type": "stream",
     "text": [
      "SwapArray: [7, 9, 6, 5, 8]\n"
     ]
    }
   ],
   "source": [
    "sarr = SwapArray([7, 9, 6, 5, 8])\n",
    "print(sarr)"
   ]
  },
  {
   "cell_type": "code",
   "execution_count": 33,
   "metadata": {},
   "outputs": [
    {
     "name": "stdout",
     "output_type": "stream",
     "text": [
      "SwapArray: [7, 6, 5, 9, 8]\n"
     ]
    }
   ],
   "source": [
    "max_to_right(sarr,3)\n",
    "print(sarr)"
   ]
  },
  {
   "cell_type": "code",
   "execution_count": 34,
   "metadata": {},
   "outputs": [
    {
     "name": "stdout",
     "output_type": "stream",
     "text": [
      "SwapArray: [7, 9, 6, 5, 8]\n"
     ]
    }
   ],
   "source": [
    "sarr = SwapArray([7, 9, 6, 5, 8])\n",
    "print(sarr)"
   ]
  },
  {
   "cell_type": "code",
   "execution_count": 35,
   "metadata": {},
   "outputs": [
    {
     "name": "stdout",
     "output_type": "stream",
     "text": [
      "SwapArray: [7, 9, 6, 5, 8]\n"
     ]
    }
   ],
   "source": [
    "max_to_right(sarr,1)  \n",
    "print(sarr)"
   ]
  },
  {
   "cell_type": "code",
   "execution_count": 36,
   "metadata": {},
   "outputs": [
    {
     "name": "stdout",
     "output_type": "stream",
     "text": [
      "SwapArray: [7, 9, 6, 5, 8]\n"
     ]
    }
   ],
   "source": [
    "sarr = SwapArray([7, 9, 6, 5, 8])\n",
    "print(sarr)"
   ]
  },
  {
   "cell_type": "code",
   "execution_count": 37,
   "metadata": {},
   "outputs": [
    {
     "name": "stdout",
     "output_type": "stream",
     "text": [
      "SwapArray: [7, 9, 6, 5, 8]\n"
     ]
    }
   ],
   "source": [
    "max_to_right(sarr,0)   # changes nothing\n",
    "print(sarr)"
   ]
  },
  {
   "cell_type": "markdown",
   "metadata": {},
   "source": [
    "### 5.3 swapsort\n",
    "\n",
    "When you know how to push a maximum element to the rightmost position of an array, you almost have a sorting algorithm. So now you can try to implement `swapsort` function, taking inspiration from `max_to_right`.\n",
    "Note `swapsort` is a function *external* to the class `SwapArray`: \n",
    "\n",
    "\n",
    "```python\n",
    "def swapsort(sarr):\n",
    "    \"\"\" Sorts in-place provided SwapArray.\n",
    "\n",
    "        NOTE: Here you are a user of SwapArray, so you *MUST NOT* access\n",
    "              directly the field _arr. To do changes, you can only use \n",
    "              the method swap_next(self, i).      \n",
    "        NOTE: does *not* return anything! \n",
    "        NOTE: MUST execute in O(n^2), where n is the length of the array\n",
    "    \"\"\"\n",
    "\n",
    "    raise Exception(\"TODO IMPLEMENT ME !\")\n",
    "```\n",
    "\n",
    "You can run tests only for `swapsort` with this command:\n",
    "\n",
    "```bash\n",
    "    python3 -m unittest swap_array_test.SwapSortTest\n",
    "```\n",
    "\n",
    "**Example usage:**"
   ]
  },
  {
   "cell_type": "code",
   "execution_count": 38,
   "metadata": {},
   "outputs": [],
   "source": [
    "sar = SwapArray([8,4,2,4,2,7,3])"
   ]
  },
  {
   "cell_type": "code",
   "execution_count": 39,
   "metadata": {},
   "outputs": [],
   "source": [
    "swapsort(sar)"
   ]
  },
  {
   "cell_type": "code",
   "execution_count": 40,
   "metadata": {},
   "outputs": [
    {
     "name": "stdout",
     "output_type": "stream",
     "text": [
      "SwapArray: [2, 2, 3, 4, 4, 7, 8]\n"
     ]
    }
   ],
   "source": [
    "print(sar)"
   ]
  },
  {
   "cell_type": "markdown",
   "metadata": {},
   "source": [
    "## Challenges\n",
    "\n",
    "See [Sorting challenges](https://sciprog.davidleoni.it/sorting/sorting2-chal.html) worksheet"
   ]
  },
  {
   "cell_type": "code",
   "execution_count": 41,
   "metadata": {},
   "outputs": [
    {
     "name": "stderr",
     "output_type": "stream",
     "text": [
      "...............\n",
      "----------------------------------------------------------------------\n",
      "Ran 15 tests in 0.009s\n",
      "\n",
      "OK\n",
      "......\n",
      "----------------------------------------------------------------------\n",
      "Ran 6 tests in 0.005s\n",
      "\n",
      "OK\n",
      "..............\n",
      "----------------------------------------------------------------------\n",
      "Ran 14 tests in 0.008s\n",
      "\n",
      "OK\n",
      ".................\n",
      "----------------------------------------------------------------------\n",
      "Ran 17 tests in 0.010s\n",
      "\n",
      "OK\n",
      "...............................\n",
      "----------------------------------------------------------------------\n",
      "Ran 31 tests in 0.022s\n",
      "\n",
      "OK\n"
     ]
    }
   ],
   "source": [
    "#jupman-purge-io\n",
    "import selection_sort_test\n",
    "jupman.run(selection_sort_test)\n",
    "import insertion_sort_test\n",
    "jupman.run(insertion_sort_test)\n",
    "import merge_sort_test\n",
    "jupman.run(merge_sort_test)\n",
    "import quick_sort_test\n",
    "jupman.run(quick_sort_test)\n",
    "import swap_array_test\n",
    "jupman.run(swap_array_test)"
   ]
  },
  {
   "cell_type": "code",
   "execution_count": null,
   "metadata": {},
   "outputs": [],
   "source": []
  }
 ],
 "metadata": {
  "celltoolbar": "Edit Metadata",
  "kernelspec": {
   "display_name": "Python 3 (ipykernel)",
   "language": "python",
   "name": "python3"
  },
  "language_info": {
   "codemirror_mode": {
    "name": "ipython",
    "version": 3
   },
   "file_extension": ".py",
   "mimetype": "text/x-python",
   "name": "python",
   "nbconvert_exporter": "python",
   "pygments_lexer": "ipython3",
   "version": "3.7.10"
  },
  "toc": {
   "base_numbering": 1,
   "nav_menu": {},
   "number_sections": false,
   "sideBar": true,
   "skip_h1_title": false,
   "title_cell": "Table of Contents",
   "title_sidebar": "Contents",
   "toc_cell": false,
   "toc_position": {},
   "toc_section_display": true,
   "toc_window_display": true
  }
 },
 "nbformat": 4,
 "nbformat_minor": 1
}
