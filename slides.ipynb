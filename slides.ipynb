{
 "cells": [
  {
   "cell_type": "markdown",
   "metadata": {},
   "source": [
    "# Slides 2021/22\n",
    "\n",
    "[old 2020/21 slides](old-slides.ipynb)"
   ]
  },
  {
   "cell_type": "markdown",
   "metadata": {},
   "source": [
    "\n",
    "## Part A\n",
    "\n",
    "## Lab A.1\n",
    "\n",
    "Thursday 23 Sep 2021\n",
    "\n",
    "### Links\n",
    "\n",
    "lab site:  [sciprog.davidleoni.it](https://sciprog.davidleoni.it)\n",
    "\n",
    "* [lab presentation](https://sciprog.davidleoni.it/sciprog-dslab-slides-1.pdf) (slides)\n",
    "* [Installation](installation.ipynb) from sciprog, with links to relevant SoftPython stuff\n",
    "    * in particular, try installing [the toc2 extension](https://en.softpython.org/installation.html#Navigating-notebooks) for Jupyter for easy navigation \n",
    "* [Tools and Scripts](https://en.softpython.org/tools/tools-sol.html) on softpython: Jupyter usage and other things are described more in detail, try finishing it at home."
   ]
  },
  {
   "cell_type": "markdown",
   "metadata": {},
   "source": [
    "**IMPORTANT: Friday 24 September lab is cancelled**. Regular meetings will start again from Thursday 30 September."
   ]
  },
  {
   "cell_type": "markdown",
   "metadata": {},
   "source": [
    "## Lab A.2\n",
    "\n",
    "Thursday, Sep 30th, 2021"
   ]
  },
  {
   "cell_type": "markdown",
   "metadata": {},
   "source": [
    "**Tools recap**\n",
    "\n",
    "- [Python Tutor](https://pythontutor.com/visualize.html#mode=edit)\n",
    "- Visual Studio Code mention\n",
    "- **lab repl:** https://replit.com/@DavidLeoni2/sciprog-ds-lab-2021-22"
   ]
  },
  {
   "cell_type": "markdown",
   "metadata": {},
   "source": [
    "**Exercises how to:**\n",
    "\n",
    "* I will update softpython / sciprog often, so please download stuff on lab day\n",
    "\n",
    "* **NOTE 1**: when I ask you think what a certain code does, **write down** the answer, don't just think about it - to pass the exam you must have **zero** uncertainties about syntax & expressions\n",
    "\n",
    "* **NOTE 2**: many times I will ask you to **not** use `if` statements, even if that solution would be more elegant & short: the reason is I want you to get familiar with boolean expressions, even if they may look ugly."
   ]
  },
  {
   "cell_type": "markdown",
   "metadata": {},
   "source": [
    "**Basics**\n",
    "\n",
    "In class: [Basics 4 challenge](https://en.softpython.org/basics/basics4-chal.html)\n",
    "\n",
    "The rest is left as homework:\n",
    "\n",
    "- [Basics 1 ints](https://en.softpython.org/basics/basics1-ints-sol.html)\n",
    "- [Basics 2 bools](https://en.softpython.org/basics/basics2-bools-sol.html)\n",
    "- [Basics 3 floats](https://en.softpython.org/basics/basics3-floats-sol.html)"
   ]
  },
  {
   "cell_type": "markdown",
   "metadata": {},
   "source": [
    "**Strings**\n",
    "\n",
    "In class: [Strings 5 - Challenge](https://en.softpython.org/strings/strings5-chal.html) \n",
    "\n",
    "\n",
    "The rest is left as  homework:\n",
    "\n",
    "- [Strings 1 - Introduction](https://en.softpython.org/strings/strings1-sol.html)\n",
    "- [Strings 2 - Operators](https://en.softpython.org/strings/strings2-sol.html)\n",
    "- [Strings 3 - Basic methods](https://en.softpython.org/strings/strings3-sol.html) \n",
    "- [Strings 4 - Search methods](https://en.softpython.org/strings/strings4-sol.html) "
   ]
  },
  {
   "cell_type": "markdown",
   "metadata": {},
   "source": [
    "**References**\n",
    "\n",
    "- [Andrea Passerini - Introduction to Python slides](http://disi.unitn.it/~passerini/teaching/2021-2022/sci-pro/slides/A01-introduction.pdf)\n",
    "- [Andrea Passerini - data structures slides](http://disi.unitn.it/~passerini/teaching/2021-2022/sci-pro/slides/A02-datastructures.pdf)"
   ]
  },
  {
   "cell_type": "markdown",
   "metadata": {},
   "source": [
    "## Lab A.3\n",
    "\n",
    "Friday, Oct 1st, 2021\n",
    "\n",
    "**Lists**:\n",
    "\n",
    "In class: [Lists 5 - Challenges](https://en.softpython.org/lists/lists5-chal.html) \n",
    "\n",
    "\n",
    "The rest is left as  homework:\n",
    "\n",
    "- [Lists 1 - Introduction](https://en.softpython.org/lists/lists1-sol.html)\n",
    "- [Lists 2 - Operators](https://en.softpython.org/lists/lists2-sol.html)\n",
    "- [Lists 3 - Basic methods](https://en.softpython.org/lists/lists3-sol.html) \n",
    "- [Lists 4 - Search methods](https://en.softpython.org/lists/lists4-sol.html) \n",
    "\n",
    "**Tuples**:\n",
    "\n",
    "In class: [Tuples 2 - Challenges](https://en.softpython.org/tuples/tuples2-chal.html) \n",
    "\n",
    "\n",
    "The rest is left as  homework:\n",
    "\n",
    "- [Tuples 1 - Introduction](https://en.softpython.org/tuples/tuples1-sol.html)"
   ]
  },
  {
   "cell_type": "markdown",
   "metadata": {},
   "source": [
    "**References**\n",
    "\n",
    "- [Andrea Passerini - Introduction to Python slides](http://disi.unitn.it/~passerini/teaching/2021-2022/sci-pro/slides/A01-introduction.pdf)\n",
    "- [Andrea Passerini - data structures slides](http://disi.unitn.it/~passerini/teaching/2021-2022/sci-pro/slides/A02-datastructures.pdf)"
   ]
  },
  {
   "cell_type": "markdown",
   "metadata": {},
   "source": [
    "**EXTRA challenges**\n",
    "\n",
    "Since for now I want you to focus on expressions, first challenges on softpython don't require loops. Still, if you want, you can generalize them with following extra tasks:\n",
    "\n",
    "- **Lists - Super DUPER sorted:** 2) Generalize previous approach so it works with and number of words. For this you will need cycles and/or if statements"
   ]
  },
  {
   "cell_type": "markdown",
   "metadata": {},
   "source": [
    "\n",
    "- **Lists - Toys in the Attic**: 2) Generalize the previous approach. Imagine you have an `attic`\n",
    " which has an unspecified number of categories (here it's 5 but it could 1000):\n",
    "\n",
    "```python\n",
    "attic = [3, 'doll',     'lego',      'minicar',\n",
    "         2, 'frame',    'brushes',\n",
    "         4, 'bike',     'pump',      'racket',  'ball',\n",
    "         2, 'vase',     'fertilizer', \n",
    "         3, 'old chair','lamp deco', 'stool']\n",
    "```\n",
    "\n",
    "and you want to obtain a list of lists like this:\n",
    "\n",
    "```python\n",
    "[\n",
    "    ['doll','lego','minicar'],\n",
    "    ['frame', 'brushes'],\n",
    "    ['bike', 'pump', 'racket', 'ball'],\n",
    "    ['vase','fertilizer'],\n",
    "    ['old chair','lamp deco','stool']\n",
    "]\n",
    "```\n",
    "\n",
    "(without caring about the variables `toys`, `painting` and `sports`)\n",
    "\n",
    "* In this case, **you can and should** use cycles and/or if statements when needed."
   ]
  },
  {
   "cell_type": "markdown",
   "metadata": {},
   "source": [
    "## Lab A.4\n",
    "\n",
    "Thursday, Oct 7th, 2021\n",
    "\n",
    "**References**\n",
    "\n",
    "- [Andrea Passerini - Introduction to Python slides](http://disi.unitn.it/~passerini/teaching/2021-2022/sci-pro/slides/A01-introduction.pdf)\n",
    "- [Andrea Passerini - data structures slides](http://disi.unitn.it/~passerini/teaching/2021-2022/sci-pro/slides/A02-datastructures.pdf)\n",
    "\n",
    "### (sets)\n",
    "\n",
    "Passerini didn't cover them, _if you want_ have a look at\n",
    "\n",
    "- [Sets 1 - Intro](https://en.softpython.org/sets/sets1-sol.html)\n",
    "\n",
    "- Sets 2 - Challenge **NOTE**: I moved the challenge to [for 5 - sets](https://en.softpython.org/for/for5-sets-sol.html)\n",
    "\n",
    "They may be useful to start, since keys in dictionaries behave much like sets.\n",
    "\n",
    "### Dictionaries \n",
    "\n",
    "In class: [Dictionaries 5 - Challenges](https://en.softpython.org/dictionaries/dictionaries5-chal.html) \n",
    "\n",
    "- they always have a fixed number of inputs, but you may wish to generalize them with loops\n",
    "\n",
    "The rest is left as  homework:\n",
    "\n",
    "- [Dictionaries 1 - Introduction](https://en.softpython.org/dictionaries/dictionaries1-sol.html)\n",
    "- [Dictionaries 2 - Operators](https://en.softpython.org/dictionaries/dictionaries2-sol.html)\n",
    "- [Dictionaries 3 - methods](https://en.softpython.org/dictionaries/dictionaries3-sol.html) \n",
    "- [Dictionaries 4 - special dictionaries](https://en.softpython.org/dictionaries/dictionaries4-sol.html) \n",
    "\n",
    "\n",
    "### Conditionals\n",
    "\n",
    "In class: [if 2: challenge](https://en.softpython.org/if/if2-chal.html)\n",
    "\n",
    "The rest is left as  homework:\n",
    "\n",
    "- [if 1: intro](https://en.softpython.org/if/if1-sol.html)\n",
    "\n",
    "**References:** [Andrea Passerini - complex statements](http://disi.unitn.it/~passerini/teaching/2021-2022/sci-pro/slides/A03-controlflow.pdf)   \n",
    "\n",
    "### only for the pros\n",
    "\n",
    "on repl: [fill_sides](https://replit.com/@DavidLeoni2/sciprog-ds-lab-2021-22#a4_4.py)"
   ]
  },
  {
   "cell_type": "markdown",
   "metadata": {},
   "source": [
    "## Lab A.5\n",
    "\n",
    "Friday, Oct 8th, 2021\n",
    "\n",
    "### In class:\n",
    "\n",
    "- [for challenge](https://en.softpython.org/for/for8-chal.html) \n",
    "- [while challenge](https://en.softpython.org/while/while2-chal.html)\n",
    "- [sequences challenge](https://en.softpython.org/sequences/sequences2-chal.html)\n",
    "\n",
    "**References:** [Andrea Passerini - complex statements](http://disi.unitn.it/~passerini/teaching/2021-2022/sci-pro/slides/A03-controlflow.pdf)   "
   ]
  },
  {
   "cell_type": "markdown",
   "metadata": {},
   "source": [
    "### At home:\n",
    "\n",
    "**for loops**\n",
    "\n",
    "- [1. intro](https://en.softpython.org/for/for1-intro-sol.html)\n",
    "- [2. strings iteration](https://en.softpython.org/for/for2-strings-sol.html) \n",
    "- [3. lists iteration](https://en.softpython.org/for/for3-lists-sol.html) \n",
    "- [4. tuples iteration](https://en.softpython.org/for/for4-tuples-sol.html) \n",
    "- [5. sets iteration](https://en.softpython.org/for/for5-sets-sol.html) \n",
    "- [6. dictionaries iteration](https://en.softpython.org/for/for6-dictionaries-sol.html) \n",
    "\n",
    "**while loops**: [while 1. intro](https://en.softpython.org/while/while1-sol.html)\n",
    "\n",
    "**sequences**: [sequences 1. intro](https://en.softpython.org/sequences/sequences1-sol.html)"
   ]
  },
  {
   "cell_type": "markdown",
   "metadata": {},
   "source": [
    "## Lab A.6\n",
    "\n",
    "Thursday, Oct 14th, 2021\n",
    "\n",
    "### In class:\n",
    "\n",
    "- [functions intro](https://en.softpython.org/functions/fun1-intro-sol.html): some discussion on function categories\n",
    "- [functions - error handling and testing](https://en.softpython.org/functions/fun2-errors-and-testing-sol.html): when to use them\n",
    "- [matrices as lists challenge](https://en.softpython.org/matrices-lists/matrices-lists3-chal.html)\n",
    "- [mixed structures challenge](https://en.softpython.org/mixed-structures/mixed-structures2-chal.html)\n",
    "\n",
    "**References:** [Andrea Passerini slides - functions](http://disi.unitn.it/~passerini/teaching/2021-2022/sci-pro/slides/A04-functions.pdf)\n",
    "\n",
    "### At home:\n",
    "\n",
    "**Functions**:\n",
    "\n",
    "- [1. intro](https://en.softpython.org/functions/fun1-intro-sol.html)\n",
    "- [2. error handling and testing](https://en.softpython.org/functions/fun2-errors-and-testing-sol.html)\n",
    "- [3. on strings](https://en.softpython.org/functions/fun3-strings-sol.html) \n",
    "- [4. on lists](https://en.softpython.org/functions/fun4-lists-sol.html) \n",
    "- [5. on tuples](https://en.softpython.org/functions/fun5-tuples-sol.html)\n",
    "- [6. on sets](https://en.softpython.org/functions/fun6-sets-sol.html)\n",
    "\n",
    "**Matrices as lists**:\n",
    "\n",
    "- [matrices 1 - intro](https://en.softpython.org/matrices-lists/matrices-lists1-sol.html)\n",
    "- [matrices 2 - more exercises](https://en.softpython.org/matrices-lists/matrices-lists2-sol.html)\n",
    "\n",
    "**Mixed structures**:\n",
    "\n",
    "- [mixed-structures 1 - intro](https://en.softpython.org/mixed-structures/mixed-structures1-sol.html)"
   ]
  },
  {
   "cell_type": "markdown",
   "metadata": {},
   "source": [
    "## Lab A.7\n",
    "\n",
    "Friday, Oct 15th, 2021\n",
    "\n",
    "### In class:\n",
    "\n",
    "- Some exercise on matrices (to decide together)\n",
    "- [File formats challenge](https://en.softpython.org/formats/formats4-chal.html) (Spam Killer and Over the Top)\n",
    "\n",
    "**References**: [Andrea Passerini Modules and programs slides](http://disi.unitn.it/~passerini/teaching/2021-2022/sci-pro/slides/A05-programs.pdf)\n",
    "\n",
    "### At home:\n",
    "\n",
    "File formats:\n",
    "\n",
    "- [1. line files](https://en.softpython.org/formats/formats1-lines-sol.html)\n",
    "- [2. CSV files](https://en.softpython.org/formats/formats2-csv-sol.html)\n",
    "- [3. JSON files](https://en.softpython.org/formats/formats3-json-sol.html)\n",
    "- [4. Formats challenge](https://en.softpython.org/formats/formats4-chal.html) (markdown parsing, other parsing)\n"
   ]
  },
  {
   "cell_type": "code",
   "execution_count": null,
   "metadata": {},
   "outputs": [],
   "source": []
  }
 ],
 "metadata": {
  "kernelspec": {
   "display_name": "Python 3 (ipykernel)",
   "language": "python",
   "name": "python3"
  },
  "language_info": {
   "codemirror_mode": {
    "name": "ipython",
    "version": 3
   },
   "file_extension": ".py",
   "mimetype": "text/x-python",
   "name": "python",
   "nbconvert_exporter": "python",
   "pygments_lexer": "ipython3",
   "version": "3.7.10"
  },
  "toc": {
   "base_numbering": 1,
   "nav_menu": {},
   "number_sections": false,
   "sideBar": true,
   "skip_h1_title": false,
   "title_cell": "Table of Contents",
   "title_sidebar": "Contents",
   "toc_cell": false,
   "toc_position": {},
   "toc_section_display": true,
   "toc_window_display": true
  }
 },
 "nbformat": 4,
 "nbformat_minor": 2
}
