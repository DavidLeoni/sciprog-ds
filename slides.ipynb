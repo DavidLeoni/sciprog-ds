{
 "cells": [
  {
   "cell_type": "markdown",
   "metadata": {},
   "source": [
    "# Slides 2021/22\n",
    "\n",
    "[old 2020/21 slides](old-slides.ipynb)"
   ]
  },
  {
   "cell_type": "markdown",
   "metadata": {},
   "source": [
    "\n",
    "## Part A\n",
    "\n",
    "## Lab A.1\n",
    "\n",
    "Thursday 23 Sep 2021\n",
    "\n",
    "### Links\n",
    "\n",
    "lab site:  [sciprog.davidleoni.it](https://sciprog.davidleoni.it)\n",
    "\n",
    "* [lab presentation](https://sciprog.davidleoni.it/sciprog-dslab-slides-1.pdf) (slides)\n",
    "* [Installation](installation.ipynb) from sciprog, with links to relevant SoftPython stuff\n",
    "    * in particular, try installing [the toc2 extension](https://en.softpython.org/installation.html#Navigating-notebooks) for Jupyter for easy navigation \n",
    "* [Tools and Scripts](https://en.softpython.org/tools/tools-sol.html) on softpython: Jupyter usage and other things are described more in detail, try finishing it at home."
   ]
  },
  {
   "cell_type": "markdown",
   "metadata": {},
   "source": [
    "**IMPORTANT: Friday 24 September lab is cancelled**. Regular meetings will start again from Thursday 30 September."
   ]
  },
  {
   "cell_type": "markdown",
   "metadata": {},
   "source": [
    "## Lab A.2\n",
    "\n",
    "Thursday 30 Sep 2021"
   ]
  },
  {
   "cell_type": "markdown",
   "metadata": {},
   "source": [
    "**Tools recap**\n",
    "\n",
    "- [Python Tutor](https://pythontutor.com/visualize.html#mode=edit)\n",
    "- Visual Studio Code mention\n",
    "- **lab repl:** https://replit.com/@DavidLeoni2/sciprog-ds-lab-2021-22"
   ]
  },
  {
   "cell_type": "markdown",
   "metadata": {},
   "source": [
    "**Exercises how to:**\n",
    "\n",
    "* I will update softpython / sciprog often, so please download stuff on lab day\n",
    "\n",
    "* **NOTE 1**: when I ask you think what a certain code does, **write down** the answer, don't just think about it - to pass the exam you must have **zero** uncertainties about syntax & expressions\n",
    "\n",
    "* **NOTE 2**: many times I will ask you to **not** use `if` statements, even if that solution would be more elegant & short: the reason is I want you to get familiar with boolean expressions, even if they may look ugly."
   ]
  },
  {
   "cell_type": "markdown",
   "metadata": {},
   "source": [
    "**Basics**\n",
    "\n",
    "In class: [Basics 4 challenge](https://en.softpython.org/basics/basics4-chal.html)\n",
    "\n",
    "The rest is left as homework:\n",
    "\n",
    "- [Basics 1 ints](https://en.softpython.org/basics/basics1-ints-sol.html)\n",
    "- [Basics 2 bools](https://en.softpython.org/basics/basics2-bools-sol.html)\n",
    "- [Basics 3 floats](https://en.softpython.org/basics/basics3-floats-sol.html)"
   ]
  },
  {
   "cell_type": "markdown",
   "metadata": {},
   "source": [
    "**Strings**\n",
    "\n",
    "In class: [Strings 5 - Challenge](https://en.softpython.org/strings/strings5-chal.html) \n",
    "\n",
    "\n",
    "The rest is left as  homework:\n",
    "\n",
    "- [Strings 1 - Introduction](https://en.softpython.org/strings/strings1-sol.html)\n",
    "- [Strings 2 - Operators](https://en.softpython.org/strings/strings2-sol.html)\n",
    "- [Strings 3 - Basic methods](https://en.softpython.org/strings/strings3-sol.html) \n",
    "- [Strings 4 - Search methods](https://en.softpython.org/strings/strings4-sol.html) "
   ]
  },
  {
   "cell_type": "markdown",
   "metadata": {},
   "source": [
    "**References**\n",
    "\n",
    "- [Andrea Passerini - Introduction to Python slides](http://disi.unitn.it/~passerini/teaching/2021-2022/sci-pro/slides/A01-introduction.pdf)\n",
    "- [Andrea Passerini - data structures slides](http://disi.unitn.it/~passerini/teaching/2021-2022/sci-pro/slides/A02-datastructures.pdf)"
   ]
  },
  {
   "cell_type": "code",
   "execution_count": null,
   "metadata": {},
   "outputs": [],
   "source": []
  }
 ],
 "metadata": {
  "kernelspec": {
   "display_name": "Python 3 (ipykernel)",
   "language": "python",
   "name": "python3"
  },
  "language_info": {
   "codemirror_mode": {
    "name": "ipython",
    "version": 3
   },
   "file_extension": ".py",
   "mimetype": "text/x-python",
   "name": "python",
   "nbconvert_exporter": "python",
   "pygments_lexer": "ipython3",
   "version": "3.7.10"
  },
  "toc": {
   "base_numbering": 1,
   "nav_menu": {},
   "number_sections": false,
   "sideBar": true,
   "skip_h1_title": false,
   "title_cell": "Table of Contents",
   "title_sidebar": "Contents",
   "toc_cell": false,
   "toc_position": {},
   "toc_section_display": true,
   "toc_window_display": true
  }
 },
 "nbformat": 4,
 "nbformat_minor": 2
}
