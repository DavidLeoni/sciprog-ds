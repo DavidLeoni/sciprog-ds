{
 "cells": [
  {
   "cell_type": "markdown",
   "metadata": {},
   "source": [
    "# Slides 2021/22\n",
    "\n",
    "[old 2020/21 slides](old-slides.ipynb)"
   ]
  },
  {
   "cell_type": "markdown",
   "metadata": {},
   "source": [
    "\n",
    "## Part A\n",
    "\n",
    "## Lab A.1\n",
    "\n",
    "Thursday 23 Sep 2021\n",
    "\n",
    "### Links\n",
    "\n",
    "lab site:  [sciprog.davidleoni.it](https://sciprog.davidleoni.it)\n",
    "\n",
    "* [lab presentation](https://sciprog.davidleoni.it/sciprog-dslab-slides-1.pdf) (slides)\n",
    "* [Installation](installation.ipynb) from sciprog, with links to relevant SoftPython stuff\n",
    "    * in particular, try installing [the toc2 extension](https://en.softpython.org/installation.html#Navigating-notebooks) for Jupyter for easy navigation \n",
    "* [Tools and Scripts](https://en.softpython.org/tools/tools-sol.html) on softpython: Jupyter usage and other things are described more in detail, try finishing it at home."
   ]
  },
  {
   "cell_type": "markdown",
   "metadata": {},
   "source": [
    "**IMPORTANT: Friday 24 September lab is cancelled**. Regular meetings will start again from Thursday 30 September."
   ]
  }
 ],
 "metadata": {
  "kernelspec": {
   "display_name": "Python 3 (ipykernel)",
   "language": "python",
   "name": "python3"
  },
  "language_info": {
   "codemirror_mode": {
    "name": "ipython",
    "version": 3
   },
   "file_extension": ".py",
   "mimetype": "text/x-python",
   "name": "python",
   "nbconvert_exporter": "python",
   "pygments_lexer": "ipython3",
   "version": "3.7.10"
  },
  "toc": {
   "base_numbering": 1,
   "nav_menu": {},
   "number_sections": false,
   "sideBar": true,
   "skip_h1_title": false,
   "title_cell": "Table of Contents",
   "title_sidebar": "Contents",
   "toc_cell": false,
   "toc_position": {},
   "toc_section_display": true,
   "toc_window_display": true
  }
 },
 "nbformat": 4,
 "nbformat_minor": 2
}
