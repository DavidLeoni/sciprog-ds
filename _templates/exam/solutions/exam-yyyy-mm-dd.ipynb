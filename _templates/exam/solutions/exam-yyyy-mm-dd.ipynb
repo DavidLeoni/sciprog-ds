{
 "cells": [
  {
   "cell_type": "code",
   "execution_count": 1,
   "metadata": {
    "nbsphinx": "hidden"
   },
   "outputs": [
    {
     "name": "stdout",
     "output_type": "stream",
     "text": [
      "Free mem: 2604 MB  Limiting to: 1302 MB\n"
     ]
    }
   ],
   "source": [
    "#Please execute this cell\n",
    "import sys;\n",
    "sys.path.append('../../../'); \n",
    "import jupman;\n",
    "jupman.mem_limit()"
   ]
  },
  {
   "cell_type": "markdown",
   "metadata": {},
   "source": [
    "# Exam -  _JM_{exam.date_human}\n",
    "\n",
    "**Scientific Programming - _JM_{conf.jm.degree}**\n",
    "\n",
    "<!-- ## [Download exercises and solutions](../../../_static/generated/sciprog-ds-_JM_{exam.date}-exam.zip) \n",
    "\n",
    "**_JM_{exam.date_human}**: Published [exam solutions](exams/_JM_{exam.date}/solutions/exam-_JM_{exam.date}-sol.ipynb)\n",
    "-->"
   ]
  },
  {
   "cell_type": "markdown",
   "metadata": {},
   "source": [
    "## Part A\n",
    "\n",
    "Open Jupyter and start editing this notebook `exam-_JM_{exam.date}.ipynb`\n"
   ]
  },
  {
   "cell_type": "code",
   "execution_count": null,
   "metadata": {},
   "outputs": [],
   "source": []
  },
  {
   "cell_type": "markdown",
   "metadata": {},
   "source": [
    "## Part B\n"
   ]
  },
  {
   "cell_type": "markdown",
   "metadata": {},
   "source": [
    "### B1 Theory\n",
    "\n",
    "**Write the solution in separate `theory.txt` file**\n",
    "\n",
    "```python\n",
    "```"
   ]
  },
  {
   "cell_type": "markdown",
   "metadata": {},
   "source": [
    "### B2\n",
    "\n",
    "* Open Visual Studio Code and start editing the folder on your desktop\n",
    "* For running tests: open _Accessories -> Terminal_ "
   ]
  },
  {
   "cell_type": "code",
   "execution_count": null,
   "metadata": {
    "nbsphinx": "hidden"
   },
   "outputs": [],
   "source": [
    "#ignore this\n",
    "import sys\n",
    "sys.path.append('../../../')\n",
    "import jupman\n",
    "import pyrastack_test\n",
    "import pyrastack_sol\n",
    "pyrastack_sol.DEBUG = False\n",
    "jupman.run(pyrastack_test)\n",
    "#import linked_list_test\n",
    "import bin_tree_test\n",
    "jupman.run(bin_tree_test)\n",
    "#jupman.run(linked_list_test)"
   ]
  }
 ],
 "metadata": {
  "celltoolbar": "Edit Metadata",
  "kernelspec": {
   "display_name": "Python 3 (ipykernel)",
   "language": "python",
   "name": "python3"
  },
  "language_info": {
   "codemirror_mode": {
    "name": "ipython",
    "version": 3
   },
   "file_extension": ".py",
   "mimetype": "text/x-python",
   "name": "python",
   "nbconvert_exporter": "python",
   "pygments_lexer": "ipython3",
   "version": "3.7.10"
  },
  "toc": {
   "base_numbering": 1,
   "nav_menu": {},
   "number_sections": false,
   "sideBar": true,
   "skip_h1_title": false,
   "title_cell": "Table of Contents",
   "title_sidebar": "Contents",
   "toc_cell": false,
   "toc_position": {},
   "toc_section_display": true,
   "toc_window_display": false
  }
 },
 "nbformat": 4,
 "nbformat_minor": 1
}
