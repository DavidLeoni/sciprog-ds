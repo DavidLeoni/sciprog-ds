{
 "cells": [
  {
   "cell_type": "markdown",
   "metadata": {},
   "source": [
    "# Linked lists Challenge\n",
    "\n",
    "## [Download exercises zip](../_static/generated/linked-lists.zip)\n",
    "\n",
    "[Browse files online](https://github.com/DavidLeoni/sciprog-ds/tree/master/linked-lists)\n",
    "\n",
    "\n",
    "Open `linked_chal.py` with a text editor and implement the following methods"
   ]
  },
  {
   "cell_type": "markdown",
   "metadata": {},
   "source": [
    "## rshift\n",
    "\n",
    "```python\n",
    "    def rshift(self, el):\n",
    "        \"\"\" Shifts toward right the *data* of all nodes by one,\n",
    "            writing el as data in first node and finally \n",
    "            RETURN the data that was in last node \n",
    "                        \n",
    "            - if list is empty, raises ValueError\n",
    "            \n",
    "            - DO NOT create new nodes nor rearrange links\n",
    "            - ONLY write node *data*            \n",
    "            - MUST execute in O(n) where n is the list size            \n",
    "        \"\"\"\n",
    "```\n",
    "\n",
    "**Testing:** `python3 -m unittest linked_chal_test.RShiftTest`"
   ]
  },
  {
   "cell_type": "code",
   "execution_count": 1,
   "metadata": {},
   "outputs": [],
   "source": [
    "from linked_chal_sol import *\n",
    "\n",
    "ll = LinkedList()\n",
    "ll.add('a')\n",
    "ll.add('d')\n",
    "ll.add('a')\n",
    "ll.add('c')\n",
    "ll.add('b')\n",
    "ll.add('d')        \n",
    "ll.add('e')\n"
   ]
  },
  {
   "cell_type": "code",
   "execution_count": 2,
   "metadata": {},
   "outputs": [
    {
     "data": {
      "text/plain": [
       "'a'"
      ]
     },
     "execution_count": 2,
     "metadata": {},
     "output_type": "execute_result"
    }
   ],
   "source": [
    "ll.rshift('p')"
   ]
  },
  {
   "cell_type": "code",
   "execution_count": 3,
   "metadata": {},
   "outputs": [
    {
     "name": "stdout",
     "output_type": "stream",
     "text": [
      "LinkedList: p,e,d,b,c,a,d\n"
     ]
    }
   ],
   "source": [
    "print(ll)"
   ]
  },
  {
   "cell_type": "code",
   "execution_count": 4,
   "metadata": {},
   "outputs": [
    {
     "data": {
      "text/plain": [
       "'d'"
      ]
     },
     "execution_count": 4,
     "metadata": {},
     "output_type": "execute_result"
    }
   ],
   "source": [
    "ll.rshift('q')"
   ]
  },
  {
   "cell_type": "code",
   "execution_count": 5,
   "metadata": {},
   "outputs": [
    {
     "name": "stdout",
     "output_type": "stream",
     "text": [
      "LinkedList: q,p,e,d,b,c,a\n"
     ]
    }
   ],
   "source": [
    "print(ll)"
   ]
  },
  {
   "cell_type": "code",
   "execution_count": 6,
   "metadata": {},
   "outputs": [
    {
     "data": {
      "text/plain": [
       "'a'"
      ]
     },
     "execution_count": 6,
     "metadata": {},
     "output_type": "execute_result"
    }
   ],
   "source": [
    "ll.rshift('r')"
   ]
  },
  {
   "cell_type": "code",
   "execution_count": 7,
   "metadata": {},
   "outputs": [
    {
     "name": "stdout",
     "output_type": "stream",
     "text": [
      "LinkedList: r,q,p,e,d,b,c\n"
     ]
    }
   ],
   "source": [
    "print(ll)"
   ]
  },
  {
   "cell_type": "code",
   "execution_count": 8,
   "metadata": {},
   "outputs": [
    {
     "data": {
      "text/plain": [
       "'p'"
      ]
     },
     "execution_count": 8,
     "metadata": {},
     "output_type": "execute_result"
    }
   ],
   "source": [
    "ll.rshift('s')\n",
    "ll.rshift('t')\n",
    "ll.rshift('u')\n",
    "ll.rshift('v')\n",
    "ll.rshift('z')"
   ]
  },
  {
   "cell_type": "code",
   "execution_count": 9,
   "metadata": {},
   "outputs": [
    {
     "name": "stdout",
     "output_type": "stream",
     "text": [
      "LinkedList: z,v,u,t,s,r,q\n"
     ]
    }
   ],
   "source": [
    "print(ll)"
   ]
  },
  {
   "cell_type": "markdown",
   "metadata": {},
   "source": [
    "## lshift\n",
    "\n",
    "Implement shifting _toward the left:_\n",
    "\n",
    "```python\n",
    "def lshift(self, el):\n",
    "        \"\"\" Shifts toward left the *data* of all nodes by one,\n",
    "            writing el as data in last node and finally \n",
    "            RETURN the data that was in first node \n",
    "            \n",
    "            - if list is empty, raises ValueError\n",
    "            \n",
    "            - DO NOT create new nodes nor rearrange links\n",
    "            - ONLY write node *data*            \n",
    "            - MUST execute in O(n) where n is the list size            \n",
    "        \"\"\"\n",
    "```"
   ]
  },
  {
   "cell_type": "code",
   "execution_count": 10,
   "metadata": {},
   "outputs": [
    {
     "name": "stdout",
     "output_type": "stream",
     "text": [
      "LinkedList: e,d,b,c,a,d,a\n"
     ]
    }
   ],
   "source": [
    "ll = LinkedList()\n",
    "ll.add('a')\n",
    "ll.add('d')\n",
    "ll.add('a')\n",
    "ll.add('c')\n",
    "ll.add('b')\n",
    "ll.add('d')        \n",
    "ll.add('e')\n",
    "\n",
    "print(ll)"
   ]
  },
  {
   "cell_type": "code",
   "execution_count": 11,
   "metadata": {},
   "outputs": [
    {
     "data": {
      "text/plain": [
       "'e'"
      ]
     },
     "execution_count": 11,
     "metadata": {},
     "output_type": "execute_result"
    }
   ],
   "source": [
    "ll.lshift('p')"
   ]
  },
  {
   "cell_type": "code",
   "execution_count": 12,
   "metadata": {},
   "outputs": [
    {
     "name": "stdout",
     "output_type": "stream",
     "text": [
      "LinkedList: d,b,c,a,d,a,p\n"
     ]
    }
   ],
   "source": [
    "print(ll)"
   ]
  },
  {
   "cell_type": "code",
   "execution_count": 13,
   "metadata": {},
   "outputs": [
    {
     "data": {
      "text/plain": [
       "'d'"
      ]
     },
     "execution_count": 13,
     "metadata": {},
     "output_type": "execute_result"
    }
   ],
   "source": [
    "ll.lshift('q')"
   ]
  },
  {
   "cell_type": "code",
   "execution_count": 14,
   "metadata": {},
   "outputs": [
    {
     "name": "stdout",
     "output_type": "stream",
     "text": [
      "LinkedList: b,c,a,d,a,p,q\n"
     ]
    }
   ],
   "source": [
    "print(ll)"
   ]
  },
  {
   "cell_type": "code",
   "execution_count": 15,
   "metadata": {},
   "outputs": [
    {
     "data": {
      "text/plain": [
       "'p'"
      ]
     },
     "execution_count": 15,
     "metadata": {},
     "output_type": "execute_result"
    }
   ],
   "source": [
    "ll.lshift('r')\n",
    "ll.lshift('s')\n",
    "ll.lshift('t')\n",
    "ll.lshift('u')\n",
    "ll.lshift('v')\n",
    "ll.lshift('z')"
   ]
  },
  {
   "cell_type": "code",
   "execution_count": 16,
   "metadata": {},
   "outputs": [
    {
     "name": "stdout",
     "output_type": "stream",
     "text": [
      "LinkedList: q,r,s,t,u,v,z\n"
     ]
    }
   ],
   "source": [
    "print(ll)"
   ]
  },
  {
   "cell_type": "code",
   "execution_count": 17,
   "metadata": {
    "nbsphinx": "hidden"
   },
   "outputs": [
    {
     "name": "stderr",
     "output_type": "stream",
     "text": [
      "........\n",
      "----------------------------------------------------------------------\n",
      "Ran 8 tests in 0.006s\n",
      "\n",
      "OK\n"
     ]
    }
   ],
   "source": [
    "#jupman-purge\n",
    "import sys;\n",
    "sys.path.append('../'); \n",
    "import jupman;\n",
    "from conf import jm\n",
    "jm.generate_exercise('linked_chal_sol.py')\n",
    "import linked_chal_test\n",
    "\n",
    "jupman.run(linked_chal_test)\n",
    "#/jupman-purge"
   ]
  },
  {
   "cell_type": "code",
   "execution_count": null,
   "metadata": {},
   "outputs": [],
   "source": []
  }
 ],
 "metadata": {
  "celltoolbar": "Edit Metadata",
  "kernelspec": {
   "display_name": "Python 3",
   "language": "python",
   "name": "python3"
  },
  "language_info": {
   "codemirror_mode": {
    "name": "ipython",
    "version": 3
   },
   "file_extension": ".py",
   "mimetype": "text/x-python",
   "name": "python",
   "nbconvert_exporter": "python",
   "pygments_lexer": "ipython3",
   "version": "3.5.2"
  },
  "toc": {
   "base_numbering": 1,
   "nav_menu": {},
   "number_sections": false,
   "sideBar": true,
   "skip_h1_title": false,
   "title_cell": "Table of Contents",
   "title_sidebar": "Contents",
   "toc_cell": false,
   "toc_position": {},
   "toc_section_display": true,
   "toc_window_display": true
  }
 },
 "nbformat": 4,
 "nbformat_minor": 4
}
