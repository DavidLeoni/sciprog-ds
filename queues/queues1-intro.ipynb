{
 "cells": [
  {
   "cell_type": "markdown",
   "metadata": {
    "collapsed": true
   },
   "source": [
    "\n",
    "#  Queues\n",
    "\n",
    "## [Download exercises zip](../_static/generated/queues.zip) \n",
    "\n",
    "[Browse files online](https://github.com/DavidLeoni/sciprog-ds/tree/master/queues)"
   ]
  },
  {
   "cell_type": "markdown",
   "metadata": {},
   "source": [
    "## Introduction\n",
    "\n",
    "In these exercises, you will be implementing several queues.\n",
    "\n",
    "* [Luca Bianco's theory slides](https://sciproalgo2020.readthedocs.io/en/latest/slides/Lecture5.pdf) \n",
    "* [Python DS book: Queue Abstract Data Type](https://runestone.academy/runestone/books/published/pythonds/BasicDS/WhatIsaQueue.html)\n",
    "* [Python DS book: Implementing a Queue in Python](https://runestone.academy/runestone/books/published/pythonds/BasicDS/ImplementingaQueueinPython.html) "
   ]
  },
  {
   "cell_type": "markdown",
   "metadata": {},
   "source": [
    "### What to do\n",
    "\n",
    "- unzip exercises in a folder, you should get something like this: \n",
    "\n",
    "```\n",
    "\n",
    "queues    \n",
    "    queues.ipynb         \n",
    "    circular_queue.py\n",
    "    circular_queue_test.py\n",
    "    circular_queue_sol.py    \n",
    "    jupman.py\n",
    "    sciprog.py\n",
    "         \n",
    "```\n",
    "\n",
    "\n",
    "- open the editor of your choice (for example Visual Studio Code, Spyder or PyCharme), you will edit the files ending in `.py` files\n",
    "- Go on reading this notebook, and follow instuctions inside.\n",
    "\n"
   ]
  },
  {
   "cell_type": "markdown",
   "metadata": {},
   "source": [
    "## 1. LinkedQueue \n",
    "\n",
    "Open `linked_queue.py`. \n",
    "\n",
    "You are given a queue implemented as a \n",
    "linked list, with usual `_head` pointer plus additional `_tail` pointer and `_size` counter\n",
    "\n",
    "- Data in enqueued at the right, in the tail\n",
    "- Data is dequeued at the left, removing it from the head\n",
    "\n",
    "Example, where the arrows represent _next pointers:\n",
    "\n",
    "```\n",
    "_head                        _tail\n",
    "    a -> b -> c -> d -> e -> f\n",
    "```\n",
    "\n",
    "In this exercise you will implement the methods `enqn(lst)` and `deqn(n)` which respectively enqueue a python list of `n` elements and dequeue `n` elements, returning python a list of them.\n",
    "\n",
    "Here we show an example usage, see to next points for detailed instructions.\n",
    "\n",
    "**Example:**"
   ]
  },
  {
   "cell_type": "code",
   "execution_count": 1,
   "metadata": {},
   "outputs": [],
   "source": [
    "from linked_queue_sol import *"
   ]
  },
  {
   "cell_type": "code",
   "execution_count": 2,
   "metadata": {},
   "outputs": [],
   "source": [
    "q = LinkedQueue()"
   ]
  },
  {
   "cell_type": "code",
   "execution_count": 3,
   "metadata": {},
   "outputs": [
    {
     "name": "stdout",
     "output_type": "stream",
     "text": [
      "LinkedQueue: \n"
     ]
    }
   ],
   "source": [
    "print(q)"
   ]
  },
  {
   "cell_type": "code",
   "execution_count": 4,
   "metadata": {},
   "outputs": [],
   "source": [
    "q.enqn(['a','b','c'])"
   ]
  },
  {
   "cell_type": "markdown",
   "metadata": {},
   "source": [
    "Returns nothing, queue becomes:        \n",
    "\n",
    "```\n",
    "         _head         _tail\n",
    "              a -> b -> c\n",
    "```\n"
   ]
  },
  {
   "cell_type": "code",
   "execution_count": 5,
   "metadata": {},
   "outputs": [],
   "source": [
    "q.enqn(['d'])"
   ]
  },
  {
   "cell_type": "markdown",
   "metadata": {},
   "source": [
    "Returns nothing, queue becomes:\n",
    "\n",
    "```        \n",
    "          _head              _tail\n",
    "              a -> b -> c -> d\n",
    "```        "
   ]
  },
  {
   "cell_type": "code",
   "execution_count": 6,
   "metadata": {},
   "outputs": [],
   "source": [
    "q.enqn(['e','f'])\n",
    "\n"
   ]
  },
  {
   "cell_type": "markdown",
   "metadata": {},
   "source": [
    "Returns nothing, queue becomes:\n",
    "\n",
    "```\n",
    "          _head                        _tail\n",
    "              a -> b -> c -> d -> e -> f\n",
    "```\n",
    "\n"
   ]
  },
  {
   "cell_type": "code",
   "execution_count": 7,
   "metadata": {},
   "outputs": [
    {
     "data": {
      "text/plain": [
       "['a', 'b', 'c']"
      ]
     },
     "execution_count": 7,
     "metadata": {},
     "output_type": "execute_result"
    }
   ],
   "source": [
    "q.deqn(3)"
   ]
  },
  {
   "cell_type": "markdown",
   "metadata": {},
   "source": [
    "Returns ['d', 'e', 'f'] and queue becomes:\n",
    "\n",
    "```\n",
    "        _head         _tail\n",
    "              a -> b -> c\n",
    "```\n"
   ]
  },
  {
   "cell_type": "code",
   "execution_count": 8,
   "metadata": {},
   "outputs": [
    {
     "data": {
      "text/plain": [
       "['d']"
      ]
     },
     "execution_count": 8,
     "metadata": {},
     "output_type": "execute_result"
    }
   ],
   "source": [
    "q.deqn(1)"
   ]
  },
  {
   "cell_type": "markdown",
   "metadata": {},
   "source": [
    "Returns `['c']` and queue becomes:\n",
    "\n",
    "```\n",
    "          _head    _tail\n",
    "              a -> b\n",
    "```\n"
   ]
  },
  {
   "cell_type": "markdown",
   "metadata": {},
   "source": [
    "```python\n",
    "q.deqn(5)\n",
    "\n",
    "---------------------------------------------------------------------------\n",
    "LookupError                               Traceback (most recent call last)\n",
    "<ipython-input-55-e68c2e9949d0> in <module>()\n",
    "      1 \n",
    "----> 2 q.deqn(5)\n",
    "\n",
    "~/Da/prj/sciprog-ds/prj/queues/linked_queue_sol.py in deqn(self, n)\n",
    "    202         #jupman-raise\n",
    "    203         if n > self._size:\n",
    "--> 204             raise LookupError('Asked to dequeue %s elements, but only %s are available!' % (n, self._size))\n",
    "    205 \n",
    "    206         ret = []\n",
    "\n",
    "LookupError: Asked to dequeue 5 elements, but only 2 are available!\n",
    "\n",
    "```"
   ]
  },
  {
   "cell_type": "markdown",
   "metadata": {},
   "source": [
    "Raises `LookupError` as there aren't enough elements to remove\n"
   ]
  },
  {
   "cell_type": "markdown",
   "metadata": {},
   "source": [
    "### 1.1 enqn\n",
    "\n",
    "Implement the method `enqn`:\n",
    "\n",
    "```python\n",
    "    def enqn(self, lst):\n",
    "        \"\"\" Enqueues provided list of elements at the tail of the queue\n",
    "\n",
    "            - Required complexity: O(len(lst))\n",
    "            - NOTE: remember to update the _size and _tail\n",
    "\n",
    "            Example: supposing arrows represent _next pointers:\n",
    "\n",
    "          _head         _tail\n",
    "              a -> b -> c\n",
    "\n",
    "            Calling\n",
    "\n",
    "            q.enqn(['d', 'e', 'f', 'g'])\n",
    "\n",
    "            will produce the queue:\n",
    "\n",
    "          _head                             _tail\n",
    "              a -> b -> c -> d -> e -> f -> g\n",
    "\n",
    "```\n",
    "\n",
    "**Testing**: `python3 -m unittest linked_queue_test.EnqnTest`"
   ]
  },
  {
   "cell_type": "markdown",
   "metadata": {},
   "source": [
    "### 1.2 deqn\n",
    "\n",
    "\n",
    "Implement the method `deqn`:\n",
    "\n",
    "```python\n",
    "\n",
    "    def deqn(self, n):\n",
    "        \"\"\" Removes n elements from the head, and return them as a Python list,\n",
    "            where the first element that was enqueued will appear at the\n",
    "            *beginning* of the returned Python list.\n",
    "\n",
    "            - if n is greater than the size of the queue, raises a LookupError.\n",
    "            - required complexity: O(n)\n",
    "\n",
    "            NOTE 1: return a list of the *DATA* in the nodes, *NOT* the nodes\n",
    "                    themselves\n",
    "            NOTE 2: DO NOT try to convert the whole queue to a Python \n",
    "                    list for playing with splices.\n",
    "            NOTE 3: remember to update _size, _head and _tail when needed.\n",
    "\n",
    "\n",
    "            For example, supposing arrows represent _next pointers:\n",
    "\n",
    "\n",
    "          _head                             _tail\n",
    "              a -> b -> c -> d -> e -> f -> g\n",
    "\n",
    "            q.deqn(3) will return the Python list ['a', 'b', 'c']\n",
    "\n",
    "            After the call, the queue will be like this:\n",
    "\n",
    "          _head              _tail\n",
    "              d -> e -> f -> g\n",
    "\n",
    "        \"\"\"\n",
    "\n",
    "```\n",
    "\n",
    "**Testing**: `python3 -m unittest linked_queue_test.DeqnTest`"
   ]
  },
  {
   "cell_type": "markdown",
   "metadata": {},
   "source": [
    "\n",
    "## 2. CircularQueue\n",
    "\n",
    "We moved this section to [a separate worksheet](https://sciprog.davidleoni.it/queues/circular-queues.html)"
   ]
  },
  {
   "cell_type": "markdown",
   "metadata": {},
   "source": [
    "## 3. ItalianQueue\n",
    "\n",
    "You will implement an `ItalianQueue`, modelled as a LinkedList with two pointers, a `_head` and a `_tail`.\n",
    "\n",
    "* an element is enqueued scanning from `_head` until a matching group is found, in which case are inserted after (that is, at the right) of the matching group, otherwise the element is appended at the `_tail` \n",
    "* an element is dequeued from the `_head`\n",
    "\n",
    "\n",
    "### 3.1 Slow v1\n",
    "\n",
    "To gain some understanding about the data structure, look at the following excerpts.\n"
   ]
  },
  {
   "cell_type": "markdown",
   "metadata": {},
   "source": [
    "Excerpt from `Node`:\n",
    "\n",
    "```python\n",
    "\n",
    "class Node:\n",
    "    \"\"\" A Node of an ItalianQueue. \n",
    "        Holds both data and group provided by the user. \n",
    "    \"\"\"\n",
    "    \n",
    "    def __init__(self, initdata, initgroup):\n",
    "    def get_data(self):\n",
    "    def get_group(self):    \n",
    "    def get_next(self):\n",
    "    \n",
    "    # etc ..\n",
    "```\n"
   ]
  },
  {
   "cell_type": "markdown",
   "metadata": {},
   "source": [
    "Excerpt from `ItalianQueue` class:\n",
    "\n",
    "```python\n",
    "\n",
    "class ItalianQueue:\n",
    "    \"\"\" An Italian queue, v1.  \n",
    "    \n",
    "        - Implemented as a LinkedList\n",
    "        - Worst case enqueue is O(n)\n",
    "        - has extra methods, for accessing groups and tail:\n",
    "            - top_group()\n",
    "            - tail()\n",
    "            - tail_group()\n",
    "                        \n",
    "        Each element is assigned a group; during enqueing, queue is scanned\n",
    "        from head to tail to find if there is another element with a \n",
    "        matching group. \n",
    "            - If there is, element to be enqueued is inserted after the last \n",
    "              element in the same group sequence (that is, to the right of \n",
    "              the group)\n",
    "            - otherwise the element is inserted at the end of the queue\n",
    "    \"\"\"\n",
    "    \n",
    "    def __init__(self):\n",
    "        \"\"\" Initializes the queue. Note there is no capacity as parameter\n",
    "                \n",
    "            - MUST run in O(1)\n",
    "        \"\"\"\n",
    "```\n",
    "\n",
    "\n",
    "\n"
   ]
  },
  {
   "cell_type": "markdown",
   "metadata": {},
   "source": [
    "**Example**:"
   ]
  },
  {
   "cell_type": "code",
   "execution_count": 9,
   "metadata": {},
   "outputs": [
    {
     "name": "stdout",
     "output_type": "stream",
     "text": [
      "ItalianQueue: \n",
      "              \n",
      "       _head: None\n",
      "       _tail: None\n"
     ]
    }
   ],
   "source": [
    "from italian_queue_sol import *\n",
    "\n",
    "q = ItalianQueue()\n",
    "print(q)"
   ]
  },
  {
   "cell_type": "code",
   "execution_count": 10,
   "metadata": {},
   "outputs": [],
   "source": [
    "q.enqueue('a','x')   # 'a' is the element,'x' is the group"
   ]
  },
  {
   "cell_type": "code",
   "execution_count": 11,
   "metadata": {},
   "outputs": [
    {
     "name": "stdout",
     "output_type": "stream",
     "text": [
      "ItalianQueue: a\n",
      "              x\n",
      "       _head: Node(a,x)\n",
      "       _tail: Node(a,x)\n"
     ]
    }
   ],
   "source": [
    "print(q)"
   ]
  },
  {
   "cell_type": "code",
   "execution_count": 12,
   "metadata": {},
   "outputs": [],
   "source": [
    "q.enqueue('c','y')    # 'c' belongs to new group 'y', goes to the end of the queue"
   ]
  },
  {
   "cell_type": "code",
   "execution_count": 13,
   "metadata": {},
   "outputs": [
    {
     "name": "stdout",
     "output_type": "stream",
     "text": [
      "ItalianQueue: a->c\n",
      "              x  y\n",
      "       _head: Node(a,x)\n",
      "       _tail: Node(c,y)\n"
     ]
    }
   ],
   "source": [
    "print(q)"
   ]
  },
  {
   "cell_type": "code",
   "execution_count": 14,
   "metadata": {},
   "outputs": [],
   "source": [
    "q.enqueue('d','y')    # 'd' belongs to existing group 'y', goes to the end of the group"
   ]
  },
  {
   "cell_type": "code",
   "execution_count": 15,
   "metadata": {},
   "outputs": [
    {
     "name": "stdout",
     "output_type": "stream",
     "text": [
      "ItalianQueue: a->c->d\n",
      "              x  y  y\n",
      "       _head: Node(a,x)\n",
      "       _tail: Node(d,y)\n"
     ]
    }
   ],
   "source": [
    "print(q)"
   ]
  },
  {
   "cell_type": "code",
   "execution_count": 16,
   "metadata": {},
   "outputs": [],
   "source": [
    "q.enqueue('b','x')    # 'b' belongs to existing group 'x', goes to the end of the group"
   ]
  },
  {
   "cell_type": "code",
   "execution_count": 17,
   "metadata": {},
   "outputs": [
    {
     "name": "stdout",
     "output_type": "stream",
     "text": [
      "ItalianQueue: a->b->c->d\n",
      "              x  x  y  y\n",
      "       _head: Node(a,x)\n",
      "       _tail: Node(d,y)\n"
     ]
    }
   ],
   "source": [
    "print(q)"
   ]
  },
  {
   "cell_type": "code",
   "execution_count": 18,
   "metadata": {},
   "outputs": [],
   "source": [
    "q.enqueue('f','z')    # 'f' belongs to new group, goes to the end of the queue"
   ]
  },
  {
   "cell_type": "code",
   "execution_count": 19,
   "metadata": {},
   "outputs": [
    {
     "name": "stdout",
     "output_type": "stream",
     "text": [
      "ItalianQueue: a->b->c->d->f\n",
      "              x  x  y  y  z\n",
      "       _head: Node(a,x)\n",
      "       _tail: Node(f,z)\n"
     ]
    }
   ],
   "source": [
    "print(q)"
   ]
  },
  {
   "cell_type": "code",
   "execution_count": 20,
   "metadata": {},
   "outputs": [],
   "source": [
    "q.enqueue('e','y')   # 'e' belongs to an existing group 'y', goes to the end of the group"
   ]
  },
  {
   "cell_type": "code",
   "execution_count": 21,
   "metadata": {},
   "outputs": [
    {
     "name": "stdout",
     "output_type": "stream",
     "text": [
      "ItalianQueue: a->b->c->d->e->f\n",
      "              x  x  y  y  y  z\n",
      "       _head: Node(a,x)\n",
      "       _tail: Node(f,z)\n"
     ]
    }
   ],
   "source": [
    "print(q)"
   ]
  },
  {
   "cell_type": "code",
   "execution_count": 22,
   "metadata": {},
   "outputs": [],
   "source": [
    "q.enqueue('g','z')   # 'g' belongs to an existing group 'z', goes to the end of the group"
   ]
  },
  {
   "cell_type": "code",
   "execution_count": 23,
   "metadata": {},
   "outputs": [
    {
     "name": "stdout",
     "output_type": "stream",
     "text": [
      "ItalianQueue: a->b->c->d->e->f->g\n",
      "              x  x  y  y  y  z  z\n",
      "       _head: Node(a,x)\n",
      "       _tail: Node(g,z)\n"
     ]
    }
   ],
   "source": [
    "print(q)"
   ]
  },
  {
   "cell_type": "code",
   "execution_count": 24,
   "metadata": {},
   "outputs": [],
   "source": [
    "q.enqueue('h','z')  # 'h' belongs to an existing group 'z', goes to the end of the group"
   ]
  },
  {
   "cell_type": "code",
   "execution_count": 25,
   "metadata": {},
   "outputs": [
    {
     "name": "stdout",
     "output_type": "stream",
     "text": [
      "ItalianQueue: a->b->c->d->e->f->g->h\n",
      "              x  x  y  y  y  z  z  z\n",
      "       _head: Node(a,x)\n",
      "       _tail: Node(h,z)\n"
     ]
    }
   ],
   "source": [
    "print(q)"
   ]
  },
  {
   "cell_type": "markdown",
   "metadata": {},
   "source": [
    "Dequeue is always from the head, without taking in consideration the group:"
   ]
  },
  {
   "cell_type": "code",
   "execution_count": 26,
   "metadata": {},
   "outputs": [
    {
     "data": {
      "text/plain": [
       "'a'"
      ]
     },
     "execution_count": 26,
     "metadata": {},
     "output_type": "execute_result"
    }
   ],
   "source": [
    "q.dequeue()"
   ]
  },
  {
   "cell_type": "code",
   "execution_count": 27,
   "metadata": {},
   "outputs": [
    {
     "name": "stdout",
     "output_type": "stream",
     "text": [
      "ItalianQueue: b->c->d->e->f->g->h\n",
      "              x  y  y  y  z  z  z\n",
      "       _head: Node(b,x)\n",
      "       _tail: Node(h,z)\n"
     ]
    }
   ],
   "source": [
    "print(q)"
   ]
  },
  {
   "cell_type": "code",
   "execution_count": 28,
   "metadata": {},
   "outputs": [
    {
     "data": {
      "text/plain": [
       "'b'"
      ]
     },
     "execution_count": 28,
     "metadata": {},
     "output_type": "execute_result"
    }
   ],
   "source": [
    "q.dequeue()"
   ]
  },
  {
   "cell_type": "code",
   "execution_count": 29,
   "metadata": {},
   "outputs": [
    {
     "name": "stdout",
     "output_type": "stream",
     "text": [
      "ItalianQueue: c->d->e->f->g->h\n",
      "              y  y  y  z  z  z\n",
      "       _head: Node(c,y)\n",
      "       _tail: Node(h,z)\n"
     ]
    }
   ],
   "source": [
    "print(q)"
   ]
  },
  {
   "cell_type": "code",
   "execution_count": 30,
   "metadata": {
    "scrolled": true
   },
   "outputs": [
    {
     "data": {
      "text/plain": [
       "'c'"
      ]
     },
     "execution_count": 30,
     "metadata": {},
     "output_type": "execute_result"
    }
   ],
   "source": [
    "q.dequeue()"
   ]
  },
  {
   "cell_type": "code",
   "execution_count": 31,
   "metadata": {},
   "outputs": [
    {
     "name": "stdout",
     "output_type": "stream",
     "text": [
      "ItalianQueue: d->e->f->g->h\n",
      "              y  y  z  z  z\n",
      "       _head: Node(d,y)\n",
      "       _tail: Node(h,z)\n"
     ]
    }
   ],
   "source": [
    "print(q)"
   ]
  },
  {
   "cell_type": "markdown",
   "metadata": {},
   "source": [
    "### 3.1.1 init\n",
    "\n",
    "Implement methods in file `italian_queue.py` in the order they are presented **up until** `enqueue` **excluded**\n",
    "\n",
    "**Testing**: `python3 -m unittest italian_queue_test.InitEmptyTest`\n",
    "\n"
   ]
  },
  {
   "cell_type": "markdown",
   "metadata": {},
   "source": [
    "### 3.1.2  Slow enqueue\n",
    "\n",
    "Implement version 1 of  `enqueue` running in $O(n)$ where $n$ is the queue size.  \n",
    "\n",
    "```python\n",
    "    def enqueue(self, v, g):\n",
    "        \"\"\" Enqueues provided element v having group g, with the following \n",
    "            criteria:\n",
    "        \n",
    "            Queue is scanned from head to find if there is another element \n",
    "            with a matching group:\n",
    "                - if there is, v is inserted after the last element in the \n",
    "                  same group sequence (so to the right of the group)\n",
    "                - otherwise v is inserted at the end of the queue\n",
    "\n",
    "            - MUST run in O(n)\n",
    "        \"\"\"\n",
    "```\n",
    "\n",
    "**Testing**: `python3 -m unittest italian_queue_test.EnqueueTest`\n",
    "\n",
    "**QUESTION**: The ItalianQueue was implemented as a LinkedList. Even if this time we don't care much about perfomance, if we wanted an efficient `enqueue` operation, could we start with a circular data structure ? Or would you prefer improving a LinkedList ?"
   ]
  },
  {
   "cell_type": "markdown",
   "metadata": {},
   "source": [
    "### 3.1.2  dequeue\n",
    "\n",
    "Implement version 1 of  `dequeue` running in $O(1)$ \n",
    "\n",
    "```python\n",
    "    def dequeue(self):\n",
    "        \"\"\" Removes head element and returns it.\n",
    "            \n",
    "            - If the queue is empty, raises a LookupError.\n",
    "            - MUST run in O(1)\n",
    "        \"\"\"\n",
    "```\n",
    "\n",
    "**Testing**: `python3 -m unittest italian_queue_test.DequeueTest`"
   ]
  },
  {
   "cell_type": "markdown",
   "metadata": {},
   "source": [
    "### 3.2 Fast v2\n",
    "\n",
    "### 3.2.1 Save a copy\n",
    "\n",
    "You already wrote a lot of code, and you don't want to lose it, right? Since we are going to make many modifications, when you reach a point when the code does something useful, it is good practice to save a copy of what you have done somewhere, so if you later screw up something, you can always restore the copy.\n",
    "\n",
    "* Copy the whole folder `queues` in a new folder `queues_v1` \n",
    "* Add also in the copied folder a separate `README.txt` file, writing inside the version (like `1.0`), the date, and a description of the main features you implemented (for example \"Simple Italian Queue, not particularly performant\").\n",
    "* Backing up the work is a form of the so-called _versioning_ : there are much better ways to do it (like using [git](https://git-scm.com)) but we don't address them here.\n",
    "\n",
    "<br/>\n",
    "\n",
    "<div class=\"alert alert-warning\" >\n",
    "\n",
    "**WARNING:** **DO NOT SKIP THIS STEP!** \n",
    "\n",
    "No matter how smart you are, you _will_ fail, and a backup may be the only way out. \n",
    "</div>\n",
    "\n",
    "<div class=\"alert alert-warning\" >\n",
    "\n",
    "**WARNING: NOT CONVINCED YET?** \n",
    "\n",
    "If you still don't understand why you should spend time with this copy bureaucracy, to help you enter the right mood imagine tomorrow is demo day with your best client and you screw up the only working version: your boss will _skin you alive_.\n",
    "\n",
    "</div>\n"
   ]
  },
  {
   "cell_type": "markdown",
   "metadata": {},
   "source": [
    "### 3.2.2 make it fast\n",
    "\n",
    "Improve `enqueue`  adn `dequeue` so they work both in $O(1)$ \n",
    "\n",
    "**HINT**: \n",
    "\n",
    "* You will need an extra data structure that keeps track of the starting points of each group and how they are ordered\n",
    "* You will also need to update this data structure as `enqueue` and `dequeue` calls are made\n",
    "\n",
    "**SOLUTION**: This exercise was proposed during [this exam](https://sciprog.davidleoni.it/exams/2020-02-10/solutions/exam-2020-02-10-sol.html#B2-ItalianQueue-v2)"
   ]
  },
  {
   "cell_type": "markdown",
   "metadata": {},
   "source": [
    "## 4. Supermarket queues\n",
    "\n",
    "\n",
    "In this exercises, you will try to model a supermarket containing several cash queues. \n",
    "\n",
    "\n",
    "### CashQueue \n",
    "\n",
    "\n",
    "<div class=\"alert alert-warning\">\n",
    "\n",
    "**WARNING: DO _NOT_ MODIFY CashQueue CLASS**\n",
    "</div>\n",
    "\n",
    "For us, a `CashQueue` is a simple queue of clients represented as strings. A `CashQueue`\n",
    "supports the `enqueue`, `dequeue`, `size` and `is_empty` operations:\n",
    "\n",
    "\n",
    "- Clients are enqueued at the right, in the tail\n",
    "- Clients are dequeued from the left, removing them from the head\n",
    "\n",
    "For example:\n",
    "\n",
    "```python\n",
    "q = CashQueue()\n",
    "\n",
    "q.is_empty()      # True\n",
    "\n",
    "q.enqueue('a')    #  a\n",
    "q.enqueue('b')    #  a,b\n",
    "q.enqueue('c')    #  a,b,c\n",
    "\n",
    "q.size()          # 3\n",
    "\n",
    "q.dequeue()   #       returns:  a\n",
    "              # queue becomes:  [b,c]\n",
    "\n",
    "q.dequeue()   #       returns:  b\n",
    "              # queue becomes:  [c]\n",
    "\n",
    "q.dequeue()   #       returns:  c\n",
    "              # queue becomes:  []\n",
    "\n",
    "q.dequeue()   # raises LookupError as there aren't enough elements to remove\n",
    "```\n",
    "\n",
    "### Supermarket \n",
    "\n",
    "A `Supermarket` contains several cash queues. It is possible to initialize a `Supermarket` by providing queues as simple python lists, where the first clients arrived are on the left, and the last clients are on the right. \n",
    "\n",
    "For example, by calling:\n",
    "\n",
    "```python\n",
    "s = Supermarket([\n",
    "    ['a','b','c'],     # <------ clients arrive from right\n",
    "    ['d'],\n",
    "    ['f','g']\n",
    "])\n",
    "```\n",
    "\n",
    "internally three `CashQueue` objects are created. Looking at the first queue with clients `['a','b','c']`, `a` at the head arrived first and `c` at the tail arrived last\n",
    "\n",
    "```python\n",
    ">>> print(s)\n",
    "\n",
    "Supermarket\n",
    "0 CashQueue: ['a', 'b', 'c']\n",
    "1 CashQueue: ['d']\n",
    "2 CashQueue: ['f', 'g']\n",
    "\n",
    "```\n",
    "\n",
    "Note a supermarket must have at least one queue, which may be empty:\n",
    "\n",
    "```python\n",
    "\n",
    "s = Supermarket( [[]] )\n",
    "\n",
    ">>> print(s)\n",
    "\n",
    "Supermarket\n",
    "0 CashQueue: []\n",
    "```\n",
    "\n",
    "### Supermarket as a queue\n",
    "\n",
    "Our `Supermarket` should maximize the number of served clients (we assume each clients is served in an equal amount of time). To do so, the whole supermarket itself can be seen as a particular kind of queue, which allows the `enqueue` and `dequeue` operations described as follows:\n",
    "\n",
    "* by calling `supermarket.enqueue(client)` a client gets enqueued in the shortest `CashQueue`.\n",
    "\n",
    "* by calling `supermarket.dequeue()`, all clients which are at the heads of non-empty `CashQueue`s are dequeued all at once, and their list is returned (this simulates parallelism).\n",
    "\n",
    "### Implementation \n",
    "\n",
    "Now start editing `supermarket.py` implementing methods in the following points."
   ]
  },
  {
   "cell_type": "markdown",
   "metadata": {},
   "source": [
    "### 4.1 Supermarket  size\n",
    "\n",
    "Implement `Supermarket.size` : \n",
    "\n",
    "```python\n",
    "    def size(self):\n",
    "        \"\"\" Return the total number of clients present in all cash queues.\n",
    "        \"\"\"\n",
    "```\n",
    "\n",
    "**Testing**: `python3 -m unittest supermarket_test.SizeTest`\n",
    "\n"
   ]
  },
  {
   "cell_type": "markdown",
   "metadata": {},
   "source": [
    "### 4.2 Supermarket dequeue\n",
    "\n",
    "Implement `Supermarket.dequeue` : \n",
    "\n",
    "```python\n",
    "    def dequeue(self):\n",
    "        \"\"\" Dequeue all the clients which are at the heads of non-empty cash queues,\n",
    "            and return a list of such clients.\n",
    "\n",
    "            - clients are returned in the same order as found in the queues\n",
    "            - if supermarket is empty, an empty list is returned\n",
    "\n",
    "            For example, suppose we have following supermarket:\n",
    "\n",
    "            0  ['a','b','c']\n",
    "            1  []\n",
    "            2  ['d','e']\n",
    "            3  ['f']\n",
    "            \n",
    "\n",
    "            A call to deque() will return ['a','d','f']\n",
    "            and the supermarket will now look like this:\n",
    "            \n",
    "            0  ['b','c']\n",
    "            1  []\n",
    "            2  ['e']\n",
    "            3  []         \n",
    "         \"\"\"\n",
    "\n",
    "```\n",
    "\n",
    "**Testing**: `python3 -m unittest supermarket_test.DequeueTest`\n",
    "\n"
   ]
  },
  {
   "cell_type": "markdown",
   "metadata": {},
   "source": [
    "### 4.3 Supermarket enqueue\n",
    "\n",
    "Implement `Supermarket.enqueue` : \n",
    "\n",
    "```python\n",
    "    def enqueue(self, client):    \n",
    "        \"\"\" Enqueue provided client in the cash queue with minimal length.\n",
    "            \n",
    "            If more than one minimal length cash queue is available, the one\n",
    "            with smallest index is chosen. \n",
    "            \n",
    "            For example:\n",
    "\n",
    "            If we have supermarket\n",
    "\n",
    "            0  ['a','b','c']\n",
    "            1  ['d','e','f','g']\n",
    "            2  ['h','i']\n",
    "            3  ['m','n']\n",
    "\n",
    "            since queues 2 and 3 have both minimal length 2, \n",
    "            supermarket.enqueue('z') will enqueue the client on queue 2: \n",
    "\n",
    "            0  ['a','b','c']\n",
    "            1  ['d','e','f','g']\n",
    "            2  ['h','i','z']\n",
    "            3  ['m','n']\n",
    "        \"\"\"\n",
    "```\n",
    "\n",
    "**Testing**: `python3 -m unittest supermarket_test.EnqueueTest`"
   ]
  },
  {
   "cell_type": "markdown",
   "metadata": {},
   "source": [
    "## 5. Shopping mall queues\n",
    "\n",
    "\n",
    "In this exercises, you will try to model a shopping mall containing several shops and clients. \n",
    "\n",
    "### Client\n",
    "\n",
    "<div class=\"alert alert-warning\">\n",
    "\n",
    "**WARNING: DO _NOT_ MODIFY Client CLASS**\n",
    "</div>\n",
    "\n",
    "For us, a `Client` is composed by a name (in the exercise we will use `a`, `b`, `c` ...) and a list of shops he wants to visit as a list. We will identify the shops with letters such as `x`, `y`, `z` ...\n",
    "\n",
    "Note: shops to visit are a Python list intended as a stack, so **the first shop to visit is at end (top) of the list**\n",
    "\n",
    "Example:\n",
    "\n",
    "```python\n",
    "c = Client('f', ['y','x','z'])\n",
    "```\n",
    "creates a `Client` named `f` who wants to visit first the shop `z`, then `x` and finally `y`\n",
    "\n",
    "Methods: \n",
    "\n",
    "```python\n",
    ">>> print(c.name()) \n",
    "a\n",
    ">>> print(c.to_visit())\n",
    "['z','x','y']\n",
    "```"
   ]
  },
  {
   "cell_type": "markdown",
   "metadata": {},
   "source": [
    "### Shop\n",
    "\n",
    "\n",
    "<div class=\"alert alert-warning\">\n",
    "\n",
    "**WARNING: DO _NOT_ MODIFY Shop CLASS**\n",
    "</div>\n",
    "\n",
    "For us, a `Shop` is a class with a name and a queue of clients.\n",
    "A `Shop` supports the `name`, `enqueue`, `dequeue`, `size` and `is_empty` operations:\n",
    "\n",
    "\n",
    "- Clients are enqueued at the right, in the tail\n",
    "- Clients are dequeued from the left, removing them from the head\n",
    "\n",
    "For example:\n",
    "\n",
    "\n",
    "```python\n",
    "s = Shop('x')  # creates a shop named 'x'\n",
    "\n",
    "print(s.name())   # prints  x\n",
    "\n",
    "s.is_empty()      # True\n",
    "\n",
    "s.enqueue('a')    #  a        enqueues client 'a'\n",
    "s.enqueue('b')    #  a,b\n",
    "s.enqueue('c')    #  a,b,c\n",
    "\n",
    "s.size()          # 3\n",
    "\n",
    "s.dequeue()   #       returns:  a\n",
    "              # queue becomes:  [b,c]\n",
    "\n",
    "s.dequeue()   #       returns:  b\n",
    "              # queue becomes:  [c]\n",
    "\n",
    "s.dequeue()   #       returns:  c\n",
    "              # queue becomes:  []\n",
    "\n",
    "s.dequeue()   # raises LookupError as there aren't enough elements to remove\n",
    "```\n",
    "\n"
   ]
  },
  {
   "cell_type": "markdown",
   "metadata": {},
   "source": [
    "### Mall \n",
    "\n",
    "A shopping `Mall` contains several shops and clients. It is possible to initialize a `Mall` by providing \n",
    "\n",
    "1. shops as a list of values `shop name , client list`, where the first clients arrived are on the left, and the last clients are on the right. \n",
    "2. clients as a list of values `client name , shop to visit list`\n",
    "\n",
    "For example, by calling:\n",
    "\n",
    "```python\n",
    "m = Mall(\n",
    "[\n",
    "    'x', ['a','b','c'],     # <------ clients arrive from right\n",
    "    'y', ['d'],\n",
    "    'z', ['f','g']\n",
    "],\n",
    "[                         \n",
    "    'a',['y','x'],        \n",
    "    'b',['x'],\n",
    "    'c',['x'],\n",
    "    'd',['z','y'],        # IMPORTANT: shops to visit stack grows from right, so\n",
    "    'f',['y','x','z'],    # client 'f' wants to visit first shop 'z', then 'x', and finally 'y'\n",
    "    'g',['x','z']\n",
    "])\n",
    "\n",
    "```\n",
    "\n",
    "Internally:\n",
    "\n",
    "* three `Shop` objects are created in an `OrderedDict`. Looking at the first queue with clients `['a','b','c']`, `a` at the head arrived first and `c` at the tail arrived last.\n",
    "* 6 `Client` objects are created in an `OrderedDict`. Note if a client is in a particular shop queue, that shop must be his top desired shop to visit in its stack.\n",
    "\n",
    "```python\n",
    ">>> print(s)\n",
    "\n",
    "Mall\n",
    "  Shop x: ['a', 'b', 'c']\n",
    "  Shop y: ['d']\n",
    "  Shop z: ['f', 'g']\n",
    "\n",
    "  Client a: ['y','x']\n",
    "  Client b: ['x']\n",
    "  Client c: ['x']\n",
    "  Client d: ['z','y']\n",
    "  Client f: ['x','y','z']\n",
    "  Client g: ['x','z']\n",
    "    \n",
    "```\n",
    "\n",
    "Methods:\n",
    "\n",
    "```python\n",
    ">>> m.shops()\n",
    "\n",
    "OrderedDict([\n",
    "              ('x', Shop x: ['a', 'b', 'c'])\n",
    "              ('y', Shop y: ['d'])\n",
    "              ('z', Shop z: ['f', 'g'])    \n",
    "            ])\n",
    "\n",
    ">>> m.clients()\n",
    "\n",
    "OrderedDict([\n",
    "  ('a', Client a: ['y','x']),\n",
    "  ('b', Client b: ['x']),\n",
    "  ('c', Client c: ['x']),\n",
    "  ('d', Client d: ['z','y']),\n",
    "  ('f', Client f: ['x','y','z']),\n",
    "  ('g', Client g: ['x','z'])  \n",
    "])\n",
    "\n",
    "```\n",
    "\n",
    "\n",
    "Note a mall must have at least one shop and may have zero clients:\n",
    "\n",
    "```python\n",
    "\n",
    "m = Mall( {'x':[]}, {} )\n",
    "\n",
    ">>> print(m)\n",
    "\n",
    "Mall\n",
    "   Shop x: []\n",
    "```"
   ]
  },
  {
   "cell_type": "markdown",
   "metadata": {},
   "source": [
    "### Mall as a queue\n",
    "\n",
    "Our `Mall` should maximize the number of served clients (we assume each clients is served in an equal amount of time). To do so, the whole mall itself can be seen as a particular kind of queue, which allows the `enqueue` and `dequeue` operations described as follows:\n",
    "\n",
    "* by calling `mall.enqueue(client)` a client gets enqueued in the top `Shop` he wants to visit (its desired shop to visit list doesn't change)\n",
    "\n",
    "* by calling `mall.dequeue()`\n",
    "    - all clients which are at the heads of non-empty `Shop`s are dequeued all at once \n",
    "    - their top desired shop to visit is removed\n",
    "    - if a client has any shop to visit left, he is automatically enqueued in that `Shop`\n",
    "    - the list of clients with no shops to visit is returned (this simulates parallelism)\n"
   ]
  },
  {
   "cell_type": "markdown",
   "metadata": {},
   "source": [
    "### Implementation \n",
    "\n",
    "Now start editing `mall.py` implementing methods in the following points."
   ]
  },
  {
   "cell_type": "markdown",
   "metadata": {},
   "source": [
    "\n",
    "### 6.1 Mall enqueue\n",
    "\n",
    "Implement `Mall.enqueue` method: \n",
    "\n",
    "```python\n",
    "    def enqueue(self, client):    \n",
    "        \"\"\" Enqueue provided client in the top shop he wants to visit\n",
    "\n",
    "            - If client is already in the mall, raise ValueError \n",
    "            - if client has no shop to visit, raise ValueError\n",
    "            - If any of the shops to visit are not in the mall, raise ValueError\n",
    "\n",
    "            For example:\n",
    "\n",
    "            If we have this mall:\n",
    "\n",
    "            Mall\n",
    "                Shop x: ['a','b']\n",
    "                Shop y: ['c']\n",
    "\n",
    "                Client a: ['y','x']\n",
    "                Client b: ['x']\n",
    "                Client c: ['x','y']\n",
    "                \n",
    "            mall.enqueue(Client('d',['x','y'])) will enqueue the client in Shop y : \n",
    "\n",
    "            Mall\n",
    "                Shop x: ['a','b']\n",
    "                Shop y: ['c','d']\n",
    "\n",
    "                Client a: ['y','x']\n",
    "                Client b: ['x']\n",
    "                Client c: ['x','y']\n",
    "                Client d: ['x','y']\n",
    "\n",
    "        \"\"\"    \n",
    "       \n",
    "```\n",
    "\n",
    "**Testing**: `python3 -m unittest mall_test.EnqueueTest` \n"
   ]
  },
  {
   "cell_type": "markdown",
   "metadata": {},
   "source": [
    "\n",
    "\n",
    "\n",
    "### 6.2 Mall dequeue\n",
    "\n",
    "Implement `Mall.dequeue` method:\n",
    "\n",
    "```python\n",
    "    def dequeue(self):\n",
    "        \"\"\" Dequeue all the clients which are at the heads of non-empty \n",
    "            shop queues,enqueues clients in their next shop to visit and return \n",
    "            a list of names of clients that exit the mall.\n",
    "\n",
    "            In detail: \n",
    "            - shop list is scanned, and all clients which are at the heads \n",
    "              of non-empty Shops are dequeued\n",
    "              \n",
    "              VERY IMPORTANT HINT: FIRST put all this clients in a list, \n",
    "                                   THEN using that list do all of the following\n",
    "\n",
    "            - for each dequeued client, his top desired shop is removed from \n",
    "              his visit list\n",
    "            - if a client has a shop to visit left, he is automatically \n",
    "              enqueued in that Shop\n",
    "                - clients are enqueued in the same order they were dequeued \n",
    "                  from shops\n",
    "            - the list of clients with no shops to visit anymore \n",
    "              is returned (this  simulates parallelism)\n",
    "                - clients are returned in the same order they were dequeued \n",
    "                  from shops\n",
    "            - if mall has no clients, an empty list is returned\n",
    "\n",
    "        \"\"\"\n",
    "```\n",
    "\n",
    "**Testing**: `python3 -m unittest mall_test.DequeueTest` \n",
    "\n",
    "\n",
    "For example, suppose we have following mall:\n",
    "\n"
   ]
  },
  {
   "cell_type": "code",
   "execution_count": 32,
   "metadata": {},
   "outputs": [],
   "source": [
    "from mall_sol import *"
   ]
  },
  {
   "cell_type": "code",
   "execution_count": 33,
   "metadata": {},
   "outputs": [],
   "source": [
    "m = Mall([\n",
    "            'x', ['a', 'b', 'c'],\n",
    "            'y', ['d'],\n",
    "            'z', ['f', 'g']\n",
    "        ],\n",
    "        [\n",
    "            'a', ['y', 'x'],\n",
    "            'b', ['x'],\n",
    "            'c', ['x'],\n",
    "            'd', ['z','y'],\n",
    "            'f', ['y','x','z'],\n",
    "            'g', ['x','z']\n",
    "        ])"
   ]
  },
  {
   "cell_type": "code",
   "execution_count": 34,
   "metadata": {},
   "outputs": [
    {
     "name": "stdout",
     "output_type": "stream",
     "text": [
      "Mall\n",
      "  Shop x : ['a', 'b', 'c']\n",
      "  Shop y : ['d']\n",
      "  Shop z : ['f', 'g']\n",
      "\n",
      "  Client a : ['y', 'x']\n",
      "  Client b : ['x']\n",
      "  Client c : ['x']\n",
      "  Client d : ['z', 'y']\n",
      "  Client f : ['y', 'x', 'z']\n",
      "  Client g : ['x', 'z']\n",
      "\n"
     ]
    }
   ],
   "source": [
    "print(m)"
   ]
  },
  {
   "cell_type": "code",
   "execution_count": 35,
   "metadata": {},
   "outputs": [
    {
     "data": {
      "text/plain": [
       "[]"
      ]
     },
     "execution_count": 35,
     "metadata": {},
     "output_type": "execute_result"
    }
   ],
   "source": [
    "m.dequeue()  # first call"
   ]
  },
  {
   "cell_type": "markdown",
   "metadata": {},
   "source": [
    "Clients 'a', 'd' and 'f' change shop, the others stay in their current shop.\n",
    "The mall will now look like this:\n"
   ]
  },
  {
   "cell_type": "code",
   "execution_count": 36,
   "metadata": {},
   "outputs": [
    {
     "name": "stdout",
     "output_type": "stream",
     "text": [
      "Mall\n",
      "  Shop x : ['b', 'c', 'f']\n",
      "  Shop y : ['a']\n",
      "  Shop z : ['g', 'd']\n",
      "\n",
      "  Client a : ['y']\n",
      "  Client b : ['x']\n",
      "  Client c : ['x']\n",
      "  Client d : ['z']\n",
      "  Client f : ['y', 'x']\n",
      "  Client g : ['x', 'z']\n",
      "\n"
     ]
    }
   ],
   "source": [
    "print(m)"
   ]
  },
  {
   "cell_type": "code",
   "execution_count": 37,
   "metadata": {},
   "outputs": [
    {
     "data": {
      "text/plain": [
       "['b', 'a']"
      ]
     },
     "execution_count": 37,
     "metadata": {},
     "output_type": "execute_result"
    }
   ],
   "source": [
    "m.dequeue()  # second call"
   ]
  },
  {
   "cell_type": "markdown",
   "metadata": {},
   "source": [
    "because client 'b' was top shop in the list, 'a' in the second, and both clients\n",
    "had nothing else to visit. Client 'g' changes shop, the others remain in their current shop.\n",
    "\n",
    "The mall will now look like this:\n"
   ]
  },
  {
   "cell_type": "code",
   "execution_count": 38,
   "metadata": {},
   "outputs": [
    {
     "name": "stdout",
     "output_type": "stream",
     "text": [
      "Mall\n",
      "  Shop x : ['c', 'f', 'g']\n",
      "  Shop y : []\n",
      "  Shop z : ['d']\n",
      "\n",
      "  Client c : ['x']\n",
      "  Client d : ['z']\n",
      "  Client f : ['y', 'x']\n",
      "  Client g : ['x']\n",
      "\n"
     ]
    }
   ],
   "source": [
    "print(m)   # Clients a and b are gone"
   ]
  },
  {
   "cell_type": "code",
   "execution_count": 39,
   "metadata": {},
   "outputs": [
    {
     "data": {
      "text/plain": [
       "['c', 'd']"
      ]
     },
     "execution_count": 39,
     "metadata": {},
     "output_type": "execute_result"
    }
   ],
   "source": [
    "m.dequeue() # third call"
   ]
  },
  {
   "cell_type": "code",
   "execution_count": 40,
   "metadata": {},
   "outputs": [
    {
     "name": "stdout",
     "output_type": "stream",
     "text": [
      "Mall\n",
      "  Shop x : ['f', 'g']\n",
      "  Shop y : []\n",
      "  Shop z : []\n",
      "\n",
      "  Client f : ['y', 'x']\n",
      "  Client g : ['x']\n",
      "\n"
     ]
    }
   ],
   "source": [
    "print(m)"
   ]
  },
  {
   "cell_type": "code",
   "execution_count": 41,
   "metadata": {},
   "outputs": [
    {
     "data": {
      "text/plain": [
       "[]"
      ]
     },
     "execution_count": 41,
     "metadata": {},
     "output_type": "execute_result"
    }
   ],
   "source": [
    "m.dequeue()  # fourth call"
   ]
  },
  {
   "cell_type": "code",
   "execution_count": 42,
   "metadata": {},
   "outputs": [
    {
     "name": "stdout",
     "output_type": "stream",
     "text": [
      "Mall\n",
      "  Shop x : ['g']\n",
      "  Shop y : ['f']\n",
      "  Shop z : []\n",
      "\n",
      "  Client f : ['y']\n",
      "  Client g : ['x']\n",
      "\n"
     ]
    }
   ],
   "source": [
    "print(m)"
   ]
  },
  {
   "cell_type": "code",
   "execution_count": 43,
   "metadata": {},
   "outputs": [
    {
     "data": {
      "text/plain": [
       "['g', 'f']"
      ]
     },
     "execution_count": 43,
     "metadata": {},
     "output_type": "execute_result"
    }
   ],
   "source": [
    "m.dequeue()  # fifth call"
   ]
  },
  {
   "cell_type": "code",
   "execution_count": 44,
   "metadata": {},
   "outputs": [
    {
     "name": "stdout",
     "output_type": "stream",
     "text": [
      "Mall\n",
      "  Shop x : []\n",
      "  Shop y : []\n",
      "  Shop z : []\n",
      "\n",
      "\n"
     ]
    }
   ],
   "source": [
    "print(m)"
   ]
  },
  {
   "cell_type": "code",
   "execution_count": 45,
   "metadata": {},
   "outputs": [
    {
     "data": {
      "text/plain": [
       "[]"
      ]
     },
     "execution_count": 45,
     "metadata": {},
     "output_type": "execute_result"
    }
   ],
   "source": [
    " m.dequeue()  # no clients left"
   ]
  },
  {
   "cell_type": "markdown",
   "metadata": {},
   "source": [
    "## 6. Company queues\n",
    "\n",
    "We can model a company as a list of many employees ordered by their rank, the highest ranking being the first in the list. We assume all employees have different rank. Each employee has a name, a rank, and a queue of tasks to perform (as a Python deque).\n",
    "\n",
    "When a new employee arrives, it is inserted in the list in the right position according to his rank:"
   ]
  },
  {
   "cell_type": "code",
   "execution_count": 46,
   "metadata": {},
   "outputs": [
    {
     "name": "stdout",
     "output_type": "stream",
     "text": [
      "\n",
      "Company:\n",
      "  name  rank  tasks \n",
      "\n"
     ]
    }
   ],
   "source": [
    "from company_sol import *\n",
    "\n",
    "c = Company()\n",
    "print(c)"
   ]
  },
  {
   "cell_type": "code",
   "execution_count": 47,
   "metadata": {},
   "outputs": [],
   "source": [
    "c.add_employee('x',9)"
   ]
  },
  {
   "cell_type": "code",
   "execution_count": 48,
   "metadata": {},
   "outputs": [
    {
     "name": "stdout",
     "output_type": "stream",
     "text": [
      "\n",
      "Company:\n",
      "  name  rank  tasks \n",
      "  x     9     deque([])\n",
      "\n"
     ]
    }
   ],
   "source": [
    "print(c)"
   ]
  },
  {
   "cell_type": "code",
   "execution_count": 49,
   "metadata": {},
   "outputs": [],
   "source": [
    "c.add_employee('z',2)\n"
   ]
  },
  {
   "cell_type": "code",
   "execution_count": 50,
   "metadata": {},
   "outputs": [
    {
     "name": "stdout",
     "output_type": "stream",
     "text": [
      "\n",
      "Company:\n",
      "  name  rank  tasks \n",
      "  x     9     deque([])\n",
      "  z     2     deque([])\n",
      "\n"
     ]
    }
   ],
   "source": [
    "print(c)"
   ]
  },
  {
   "cell_type": "code",
   "execution_count": 51,
   "metadata": {},
   "outputs": [],
   "source": [
    "c.add_employee('y',6)"
   ]
  },
  {
   "cell_type": "code",
   "execution_count": 52,
   "metadata": {},
   "outputs": [
    {
     "name": "stdout",
     "output_type": "stream",
     "text": [
      "\n",
      "Company:\n",
      "  name  rank  tasks \n",
      "  x     9     deque([])\n",
      "  y     6     deque([])\n",
      "  z     2     deque([])\n",
      "\n"
     ]
    }
   ],
   "source": [
    "print(c)"
   ]
  },
  {
   "cell_type": "markdown",
   "metadata": {},
   "source": [
    "### 7.1 add_employee\n",
    "\n",
    "Implement this method:\n",
    "\n",
    "```python\n",
    "def add_employee(self, name, rank):\n",
    "    \"\"\"\n",
    "        Adds employee with name and rank to the company, maintaining \n",
    "        the _employees list sorted by rank (higher rank comes first)\n",
    "\n",
    "        Represent the employee as a dictionary with keys 'name', 'rank' \n",
    "        and 'tasks' (a Python deque)\n",
    "\n",
    "        - here we don't mind about complexity, feel free to use a \n",
    "          linear scan and .insert \n",
    "        - If an employee of the same rank already exists, raise ValueError\n",
    "        - if an employee of the same name already exists, raise ValueError\n",
    "    \"\"\"   \n",
    "```\n",
    "\n",
    "**Testing**: `python3 -m unittest company_test.AddEmployeeTest`"
   ]
  },
  {
   "cell_type": "markdown",
   "metadata": {},
   "source": [
    "### 7.2 add_task\n",
    "\n",
    "Each employee has a queue of tasks to perform. Tasks enter from the right and leave from the left. Each task has associated a required rank to perform it, but when it is assigned to an employee the required rank may exceed the employee rank or be far below the employee rank. Still, when the company receives the task, it is scheduled in the given employee queue, ignoring the task rank. \n"
   ]
  },
  {
   "cell_type": "code",
   "execution_count": 53,
   "metadata": {},
   "outputs": [],
   "source": [
    "c.add_task('a',3,'x')"
   ]
  },
  {
   "cell_type": "code",
   "execution_count": 54,
   "metadata": {},
   "outputs": [
    {
     "data": {
      "text/plain": [
       "\n",
       "Company:\n",
       "  name  rank  tasks \n",
       "  x     9     deque([('a', 3)])\n",
       "  y     6     deque([])\n",
       "  z     2     deque([])"
      ]
     },
     "execution_count": 54,
     "metadata": {},
     "output_type": "execute_result"
    }
   ],
   "source": [
    "c"
   ]
  },
  {
   "cell_type": "code",
   "execution_count": 55,
   "metadata": {},
   "outputs": [],
   "source": [
    "c.add_task('b',5,'x')\n"
   ]
  },
  {
   "cell_type": "code",
   "execution_count": 56,
   "metadata": {},
   "outputs": [
    {
     "data": {
      "text/plain": [
       "\n",
       "Company:\n",
       "  name  rank  tasks \n",
       "  x     9     deque([('a', 3), ('b', 5)])\n",
       "  y     6     deque([])\n",
       "  z     2     deque([])"
      ]
     },
     "execution_count": 56,
     "metadata": {},
     "output_type": "execute_result"
    }
   ],
   "source": [
    "c"
   ]
  },
  {
   "cell_type": "code",
   "execution_count": 57,
   "metadata": {},
   "outputs": [],
   "source": [
    "c.add_task('c',12,'x')\n",
    "c.add_task('d',1,'x')\n",
    "c.add_task('e',8,'y')\n",
    "c.add_task('f',2,'y')\n",
    "c.add_task('g',8,'y')\n",
    "c.add_task('h',10,'z')\n"
   ]
  },
  {
   "cell_type": "code",
   "execution_count": 58,
   "metadata": {},
   "outputs": [
    {
     "data": {
      "text/plain": [
       "\n",
       "Company:\n",
       "  name  rank  tasks \n",
       "  x     9     deque([('a', 3), ('b', 5), ('c', 12), ('d', 1)])\n",
       "  y     6     deque([('e', 8), ('f', 2), ('g', 8)])\n",
       "  z     2     deque([('h', 10)])"
      ]
     },
     "execution_count": 58,
     "metadata": {},
     "output_type": "execute_result"
    }
   ],
   "source": [
    "c"
   ]
  },
  {
   "cell_type": "markdown",
   "metadata": {},
   "source": [
    "Implement this function: \n",
    "    \n",
    "```python\n",
    "def add_task(self, task_name, task_rank, employee_name):\n",
    "    \"\"\" Append the task as a (name, rank) tuple to the tasks of \n",
    "        given employee\n",
    "\n",
    "        - If employee does not exist, raise ValueError\n",
    "    \"\"\"\n",
    "```\n",
    "**Testing**: `python3 -m unittest company_test.AddTaskTest`\n"
   ]
  },
  {
   "cell_type": "markdown",
   "metadata": {},
   "source": [
    "### 7.3 work\n",
    "\n",
    "Work in the company is produced in work steps. Each work step produces a list of all task names executed by the company in that work step. \n",
    "\n",
    "A work step is done this way:\n",
    "\n",
    "For each employee, starting from the highest ranking one, dequeue its current task (from the left), and than compare the task required rank with the employee rank according to these rules:\n",
    "\n",
    "- When an employee discovers a task requires a rank strictly greater than his rank, he will append the task to his supervisor tasks. Note the highest ranking employee may be forced to do tasks that are greater than his rank. \n",
    "- When an employee discovers he should do a task requiring a rank strictly less than his, he will try to see if the next lower ranking employee can do the task, and if so append the task to that employee tasks. \n",
    "- When an employee cannot pass the task to the supervisor nor the next lower ranking employee, he will actually execute the task, adding it to the work step list\n",
    "\n",
    "\n",
    "**Example**:"
   ]
  },
  {
   "cell_type": "code",
   "execution_count": 59,
   "metadata": {},
   "outputs": [
    {
     "data": {
      "text/plain": [
       "\n",
       "Company:\n",
       "  name  rank  tasks \n",
       "  x     9     deque([('a', 3), ('b', 5), ('c', 12), ('d', 1)])\n",
       "  y     6     deque([('e', 8), ('f', 2), ('g', 8)])\n",
       "  z     2     deque([('h', 10)])"
      ]
     },
     "execution_count": 59,
     "metadata": {},
     "output_type": "execute_result"
    }
   ],
   "source": [
    "c"
   ]
  },
  {
   "cell_type": "code",
   "execution_count": 60,
   "metadata": {},
   "outputs": [
    {
     "name": "stdout",
     "output_type": "stream",
     "text": [
      "DEBUG: Employee x gives task ('a', 3) to employee y\n",
      "DEBUG: Employee y gives task ('e', 8) to employee x\n",
      "DEBUG: Employee z gives task ('h', 10) to employee y\n",
      "DEBUG: Total performed work this step: []\n"
     ]
    },
    {
     "data": {
      "text/plain": [
       "[]"
      ]
     },
     "execution_count": 60,
     "metadata": {},
     "output_type": "execute_result"
    }
   ],
   "source": [
    "c.work()"
   ]
  },
  {
   "cell_type": "code",
   "execution_count": 61,
   "metadata": {},
   "outputs": [
    {
     "data": {
      "text/plain": [
       "\n",
       "Company:\n",
       "  name  rank  tasks \n",
       "  x     9     deque([('b', 5), ('c', 12), ('d', 1), ('e', 8)])\n",
       "  y     6     deque([('f', 2), ('g', 8), ('a', 3), ('h', 10)])\n",
       "  z     2     deque([])"
      ]
     },
     "execution_count": 61,
     "metadata": {},
     "output_type": "execute_result"
    }
   ],
   "source": [
    "c"
   ]
  },
  {
   "cell_type": "code",
   "execution_count": 62,
   "metadata": {},
   "outputs": [
    {
     "name": "stdout",
     "output_type": "stream",
     "text": [
      "DEBUG: Employee x gives task ('b', 5) to employee y\n",
      "DEBUG: Employee y gives task ('f', 2) to employee z\n",
      "DEBUG: Employee z executes task ('f', 2)\n",
      "DEBUG: Total performed work this step: ['f']\n"
     ]
    },
    {
     "data": {
      "text/plain": [
       "['f']"
      ]
     },
     "execution_count": 62,
     "metadata": {},
     "output_type": "execute_result"
    }
   ],
   "source": [
    "c.work()"
   ]
  },
  {
   "cell_type": "code",
   "execution_count": 63,
   "metadata": {},
   "outputs": [
    {
     "data": {
      "text/plain": [
       "\n",
       "Company:\n",
       "  name  rank  tasks \n",
       "  x     9     deque([('c', 12), ('d', 1), ('e', 8)])\n",
       "  y     6     deque([('g', 8), ('a', 3), ('h', 10), ('b', 5)])\n",
       "  z     2     deque([])"
      ]
     },
     "execution_count": 63,
     "metadata": {},
     "output_type": "execute_result"
    }
   ],
   "source": [
    "c"
   ]
  },
  {
   "cell_type": "code",
   "execution_count": 64,
   "metadata": {},
   "outputs": [
    {
     "name": "stdout",
     "output_type": "stream",
     "text": [
      "DEBUG: Employee x executes task ('c', 12)\n",
      "DEBUG: Employee y gives task ('g', 8) to employee x\n",
      "DEBUG: Total performed work this step: ['c']\n"
     ]
    },
    {
     "data": {
      "text/plain": [
       "['c']"
      ]
     },
     "execution_count": 64,
     "metadata": {},
     "output_type": "execute_result"
    }
   ],
   "source": [
    "c.work()"
   ]
  },
  {
   "cell_type": "code",
   "execution_count": 65,
   "metadata": {},
   "outputs": [
    {
     "data": {
      "text/plain": [
       "\n",
       "Company:\n",
       "  name  rank  tasks \n",
       "  x     9     deque([('d', 1), ('e', 8), ('g', 8)])\n",
       "  y     6     deque([('a', 3), ('h', 10), ('b', 5)])\n",
       "  z     2     deque([])"
      ]
     },
     "execution_count": 65,
     "metadata": {},
     "output_type": "execute_result"
    }
   ],
   "source": [
    "c"
   ]
  },
  {
   "cell_type": "code",
   "execution_count": 66,
   "metadata": {},
   "outputs": [
    {
     "name": "stdout",
     "output_type": "stream",
     "text": [
      "DEBUG: Employee x gives task ('d', 1) to employee y\n",
      "DEBUG: Employee y executes task ('a', 3)\n",
      "DEBUG: Total performed work this step: ['a']\n"
     ]
    },
    {
     "data": {
      "text/plain": [
       "['a']"
      ]
     },
     "execution_count": 66,
     "metadata": {},
     "output_type": "execute_result"
    }
   ],
   "source": [
    "c.work()"
   ]
  },
  {
   "cell_type": "code",
   "execution_count": 67,
   "metadata": {},
   "outputs": [
    {
     "data": {
      "text/plain": [
       "\n",
       "Company:\n",
       "  name  rank  tasks \n",
       "  x     9     deque([('e', 8), ('g', 8)])\n",
       "  y     6     deque([('h', 10), ('b', 5), ('d', 1)])\n",
       "  z     2     deque([])"
      ]
     },
     "execution_count": 67,
     "metadata": {},
     "output_type": "execute_result"
    }
   ],
   "source": [
    "c"
   ]
  },
  {
   "cell_type": "code",
   "execution_count": 68,
   "metadata": {},
   "outputs": [
    {
     "name": "stdout",
     "output_type": "stream",
     "text": [
      "DEBUG: Employee x executes task ('e', 8)\n",
      "DEBUG: Employee y gives task ('h', 10) to employee x\n",
      "DEBUG: Total performed work this step: ['e']\n"
     ]
    },
    {
     "data": {
      "text/plain": [
       "['e']"
      ]
     },
     "execution_count": 68,
     "metadata": {},
     "output_type": "execute_result"
    }
   ],
   "source": [
    "c.work()"
   ]
  },
  {
   "cell_type": "code",
   "execution_count": 69,
   "metadata": {},
   "outputs": [
    {
     "data": {
      "text/plain": [
       "\n",
       "Company:\n",
       "  name  rank  tasks \n",
       "  x     9     deque([('g', 8), ('h', 10)])\n",
       "  y     6     deque([('b', 5), ('d', 1)])\n",
       "  z     2     deque([])"
      ]
     },
     "execution_count": 69,
     "metadata": {},
     "output_type": "execute_result"
    }
   ],
   "source": [
    "c"
   ]
  },
  {
   "cell_type": "code",
   "execution_count": 70,
   "metadata": {
    "scrolled": true
   },
   "outputs": [
    {
     "name": "stdout",
     "output_type": "stream",
     "text": [
      "DEBUG: Employee x executes task ('g', 8)\n",
      "DEBUG: Employee y executes task ('b', 5)\n",
      "DEBUG: Total performed work this step: ['g', 'b']\n"
     ]
    },
    {
     "data": {
      "text/plain": [
       "['g', 'b']"
      ]
     },
     "execution_count": 70,
     "metadata": {},
     "output_type": "execute_result"
    }
   ],
   "source": [
    "c.work()"
   ]
  },
  {
   "cell_type": "code",
   "execution_count": 71,
   "metadata": {},
   "outputs": [
    {
     "data": {
      "text/plain": [
       "\n",
       "Company:\n",
       "  name  rank  tasks \n",
       "  x     9     deque([('h', 10)])\n",
       "  y     6     deque([('d', 1)])\n",
       "  z     2     deque([])"
      ]
     },
     "execution_count": 71,
     "metadata": {},
     "output_type": "execute_result"
    }
   ],
   "source": [
    "c"
   ]
  },
  {
   "cell_type": "code",
   "execution_count": 72,
   "metadata": {},
   "outputs": [
    {
     "name": "stdout",
     "output_type": "stream",
     "text": [
      "DEBUG: Employee x executes task ('h', 10)\n",
      "DEBUG: Employee y gives task ('d', 1) to employee z\n",
      "DEBUG: Employee z executes task ('d', 1)\n",
      "DEBUG: Total performed work this step: ['h', 'd']\n"
     ]
    },
    {
     "data": {
      "text/plain": [
       "['h', 'd']"
      ]
     },
     "execution_count": 72,
     "metadata": {},
     "output_type": "execute_result"
    }
   ],
   "source": [
    "c.work()"
   ]
  },
  {
   "cell_type": "code",
   "execution_count": 73,
   "metadata": {},
   "outputs": [
    {
     "data": {
      "text/plain": [
       "\n",
       "Company:\n",
       "  name  rank  tasks \n",
       "  x     9     deque([])\n",
       "  y     6     deque([])\n",
       "  z     2     deque([])"
      ]
     },
     "execution_count": 73,
     "metadata": {},
     "output_type": "execute_result"
    }
   ],
   "source": [
    "c"
   ]
  },
  {
   "cell_type": "markdown",
   "metadata": {},
   "source": [
    "\n",
    "Now implement this method:\n",
    "\n",
    "```python\n",
    "def work(self):\n",
    "    \"\"\" Performs a work step and RETURN a list of performed task names.\n",
    "\n",
    "        For each employee, dequeue its current task from the left and:\n",
    "        - if the task rank is greater than the rank of the\n",
    "          current employee, append the task to his supervisor queue \n",
    "          (the highest ranking employee must execute the task)\n",
    "        - if the task rank is lower or equal to the rank of the\n",
    "          next lower ranking employee, append the task to that employee\n",
    "          queue\n",
    "        - otherwise, add the task name to the list of\n",
    "          performed tasks to return\n",
    "    \"\"\"\n",
    "\n",
    "```\n",
    "\n",
    "**Testing**: `python3 -m unittest company_test.WorkTest`"
   ]
  },
  {
   "cell_type": "markdown",
   "metadata": {},
   "source": [
    "## 7. Concert\n",
    "\n",
    "Start editing file `concert.py`.\n",
    "\n",
    "During events with lots of potential visitors such as concerts, for speeding up check-in there are at least two queues: cash queue where tickets are sold, and entrance queue for actually entering the event.\n",
    "\n",
    "Each visitor may or may not have a ticket. Also, since people usually attend in groups (couples, families, and so on), in the queue lines each group tends to move as a whole.\n",
    "\n",
    "In Python, we will model a `Person` as a class you can create like this:\n"
   ]
  },
  {
   "cell_type": "code",
   "execution_count": 74,
   "metadata": {},
   "outputs": [],
   "source": [
    "from concert_sol import *"
   ]
  },
  {
   "cell_type": "code",
   "execution_count": 75,
   "metadata": {},
   "outputs": [
    {
     "data": {
      "text/plain": [
       "Person(a,x,False)"
      ]
     },
     "execution_count": 75,
     "metadata": {},
     "output_type": "execute_result"
    }
   ],
   "source": [
    "Person('a', 'x', False)"
   ]
  },
  {
   "cell_type": "markdown",
   "metadata": {},
   "source": [
    "`'a'` is the name, `'x'` is the group, and `False` indicates the person doesn't have ticket"
   ]
  },
  {
   "cell_type": "markdown",
   "metadata": {},
   "source": [
    "To model the two queues, in `Concert` class we have these fields and methods:\n",
    "\n",
    "```python3 \n",
    "\n",
    "class Concert:\n",
    "\n",
    "    def __init__(self):\n",
    "        self._cash = deque()\n",
    "        self._entrance = deque()\n",
    "\n",
    "    \n",
    "    def enqc(self, person):        \n",
    "        \"\"\" Enqueues at the cash from the right \"\"\"\n",
    "        \n",
    "        self._cash.append(person)\n",
    "        \n",
    "    def enqe(self, person):\n",
    "        \"\"\" Enqueues at the entrance from the right \"\"\"\n",
    "        \n",
    "        self._entrance.append(person)\n",
    "```"
   ]
  },
  {
   "cell_type": "markdown",
   "metadata": {},
   "source": [
    "\n",
    "### 7.1 dequeue\n",
    "\n",
    "✪✪✪ Implement `dequeue`.  If you want, you can add debug prints by calling the `debug` function.\n",
    "\n",
    "```python\n",
    "    \n",
    "    def dequeue(self):\n",
    "        \"\"\" RETURN the names of people admitted to concert  \n",
    "\n",
    "            Dequeuing for the whole queue system is done in groups, that is, \n",
    "            with a _single_ call to dequeue, these steps happen, in order:\n",
    "\n",
    "            1. entrance queue: all people belonging to the same group at \n",
    "               the front of entrance queue who have the ticket exit the queue \n",
    "               and are admitted to concert. People in the group without the \n",
    "               ticket are sent to cash.\n",
    "            2. cash queue: all people belonging to the same group at the front \n",
    "               of cash queue are given a ticket, and are queued at the entrance queue\n",
    "        \"\"\"\n",
    "\n",
    "```\n",
    "\n",
    "**Testing**: `python3 -m unittest concert_test.DequeueTest`\n",
    "\n",
    "\n",
    "**Example**: "
   ]
  },
  {
   "cell_type": "code",
   "execution_count": 76,
   "metadata": {},
   "outputs": [],
   "source": [
    "con = Concert()\n",
    "\n",
    "con.enqc(Person('a','x',False))  # a,b,c belong to same group x\n",
    "con.enqc(Person('b','x',False))\n",
    "con.enqc(Person('c','x',False))\n",
    "con.enqc(Person('d','y',False))  # d belongs to group y\n",
    "con.enqc(Person('e','z',False))  # e,f belongs to group z\n",
    "con.enqc(Person('f','z',False))  \n",
    "con.enqc(Person('g','w',False))  # g belongs to group w\n"
   ]
  },
  {
   "cell_type": "code",
   "execution_count": 77,
   "metadata": {},
   "outputs": [
    {
     "data": {
      "text/plain": [
       "Concert: \n",
       "      cash: deque([Person(a,x,False),\n",
       "                   Person(b,x,False),\n",
       "                   Person(c,x,False),\n",
       "                   Person(d,y,False),\n",
       "                   Person(e,z,False),\n",
       "                   Person(f,z,False),\n",
       "                   Person(g,w,False)])\n",
       "  entrance: deque([])"
      ]
     },
     "execution_count": 77,
     "metadata": {},
     "output_type": "execute_result"
    }
   ],
   "source": [
    "con"
   ]
  },
  {
   "cell_type": "markdown",
   "metadata": {},
   "source": [
    "First time we dequeue, entrance queue is empty so no one enters concert, while at the cash queue people in group `x` are given a ticket and enqueued at the entrance queue\n",
    "\n",
    "**NOTE**: The messages on the console are just debug print, the function `dequeue` only return name sof people  admitted to concert"
   ]
  },
  {
   "cell_type": "code",
   "execution_count": 78,
   "metadata": {},
   "outputs": [
    {
     "name": "stdout",
     "output_type": "stream",
     "text": [
      "DEBUG:  DEQUEUING ..\n",
      "DEBUG:  giving ticket to a (group x)\n",
      "DEBUG:  giving ticket to b (group x)\n",
      "DEBUG:  giving ticket to c (group x)\n",
      "DEBUG:  Concert: \n",
      "              cash: deque([Person(d,y,False),\n",
      "                           Person(e,z,False),\n",
      "                           Person(f,z,False),\n",
      "                           Person(g,w,False)])\n",
      "          entrance: deque([Person(a,x,True),\n",
      "                           Person(b,x,True),\n",
      "                           Person(c,x,True)])\n"
     ]
    },
    {
     "data": {
      "text/plain": [
       "[]"
      ]
     },
     "execution_count": 78,
     "metadata": {},
     "output_type": "execute_result"
    }
   ],
   "source": [
    "con.dequeue()"
   ]
  },
  {
   "cell_type": "code",
   "execution_count": 79,
   "metadata": {},
   "outputs": [
    {
     "name": "stdout",
     "output_type": "stream",
     "text": [
      "DEBUG:  DEQUEUING ..\n",
      "DEBUG:  a (group x) admitted to concert\n",
      "DEBUG:  b (group x) admitted to concert\n",
      "DEBUG:  c (group x) admitted to concert\n",
      "DEBUG:  giving ticket to d (group y)\n",
      "DEBUG:  Concert: \n",
      "              cash: deque([Person(e,z,False),\n",
      "                           Person(f,z,False),\n",
      "                           Person(g,w,False)])\n",
      "          entrance: deque([Person(d,y,True)])\n"
     ]
    },
    {
     "data": {
      "text/plain": [
       "['a', 'b', 'c']"
      ]
     },
     "execution_count": 79,
     "metadata": {},
     "output_type": "execute_result"
    }
   ],
   "source": [
    "con.dequeue()"
   ]
  },
  {
   "cell_type": "code",
   "execution_count": 80,
   "metadata": {},
   "outputs": [
    {
     "name": "stdout",
     "output_type": "stream",
     "text": [
      "DEBUG:  DEQUEUING ..\n",
      "DEBUG:  d (group y) admitted to concert\n",
      "DEBUG:  giving ticket to e (group z)\n",
      "DEBUG:  giving ticket to f (group z)\n",
      "DEBUG:  Concert: \n",
      "              cash: deque([Person(g,w,False)])\n",
      "          entrance: deque([Person(e,z,True),\n",
      "                           Person(f,z,True)])\n"
     ]
    },
    {
     "data": {
      "text/plain": [
       "['d']"
      ]
     },
     "execution_count": 80,
     "metadata": {},
     "output_type": "execute_result"
    }
   ],
   "source": [
    "con.dequeue()"
   ]
  },
  {
   "cell_type": "code",
   "execution_count": 81,
   "metadata": {},
   "outputs": [
    {
     "name": "stdout",
     "output_type": "stream",
     "text": [
      "DEBUG:  DEQUEUING ..\n",
      "DEBUG:  e (group z) admitted to concert\n",
      "DEBUG:  f (group z) admitted to concert\n",
      "DEBUG:  giving ticket to g (group w)\n",
      "DEBUG:  Concert: \n",
      "              cash: deque([])\n",
      "          entrance: deque([Person(g,w,True)])\n"
     ]
    },
    {
     "data": {
      "text/plain": [
       "['e', 'f']"
      ]
     },
     "execution_count": 81,
     "metadata": {},
     "output_type": "execute_result"
    }
   ],
   "source": [
    "con.dequeue()"
   ]
  },
  {
   "cell_type": "code",
   "execution_count": 82,
   "metadata": {},
   "outputs": [
    {
     "name": "stdout",
     "output_type": "stream",
     "text": [
      "DEBUG:  DEQUEUING ..\n",
      "DEBUG:  g (group w) admitted to concert\n",
      "DEBUG:  Concert: \n",
      "              cash: deque([])\n",
      "          entrance: deque([])\n"
     ]
    },
    {
     "data": {
      "text/plain": [
       "['g']"
      ]
     },
     "execution_count": 82,
     "metadata": {},
     "output_type": "execute_result"
    }
   ],
   "source": [
    "con.dequeue()"
   ]
  },
  {
   "cell_type": "code",
   "execution_count": 83,
   "metadata": {},
   "outputs": [
    {
     "name": "stdout",
     "output_type": "stream",
     "text": [
      "DEBUG:  DEQUEUING ..\n",
      "DEBUG:  Concert: \n",
      "              cash: deque([])\n",
      "          entrance: deque([])\n"
     ]
    },
    {
     "data": {
      "text/plain": [
       "[]"
      ]
     },
     "execution_count": 83,
     "metadata": {},
     "output_type": "execute_result"
    }
   ],
   "source": [
    "# calling dequeue on empty lines gives empty list:\n",
    "con.dequeue()"
   ]
  },
  {
   "cell_type": "markdown",
   "metadata": {},
   "source": [
    "#### Special dequeue case: broken group\n",
    "\n",
    "In the special case when there is a group at the entrance with one or more members without a ticket, it is assumed that the group gets broken, so whoever has the ticket enters and the others get enqueued at the cash."
   ]
  },
  {
   "cell_type": "code",
   "execution_count": 84,
   "metadata": {},
   "outputs": [
    {
     "data": {
      "text/plain": [
       "Concert: \n",
       "      cash: deque([Person(f,y,False)])\n",
       "  entrance: deque([Person(a,x,True),\n",
       "                   Person(b,x,False),\n",
       "                   Person(c,x,True)])"
      ]
     },
     "execution_count": 84,
     "metadata": {},
     "output_type": "execute_result"
    }
   ],
   "source": [
    "con = Concert()\n",
    "\n",
    "con.enqe(Person('a','x',True))  \n",
    "con.enqe(Person('b','x',False))\n",
    "con.enqe(Person('c','x',True)) \n",
    "con.enqc(Person('f','y',False)) \n",
    "\n",
    "con"
   ]
  },
  {
   "cell_type": "code",
   "execution_count": 85,
   "metadata": {},
   "outputs": [
    {
     "name": "stdout",
     "output_type": "stream",
     "text": [
      "DEBUG:  DEQUEUING ..\n",
      "DEBUG:  a (group x) admitted to concert\n",
      "DEBUG:  b (group x) has no ticket! Sending to cash\n",
      "DEBUG:  c (group x) admitted to concert\n",
      "DEBUG:  giving ticket to f (group y)\n",
      "DEBUG:  Concert: \n",
      "              cash: deque([Person(b,x,False)])\n",
      "          entrance: deque([Person(f,y,True)])\n"
     ]
    },
    {
     "data": {
      "text/plain": [
       "['a', 'c']"
      ]
     },
     "execution_count": 85,
     "metadata": {},
     "output_type": "execute_result"
    }
   ],
   "source": [
    "con.dequeue()"
   ]
  },
  {
   "cell_type": "code",
   "execution_count": 86,
   "metadata": {},
   "outputs": [
    {
     "name": "stdout",
     "output_type": "stream",
     "text": [
      "DEBUG:  DEQUEUING ..\n",
      "DEBUG:  f (group y) admitted to concert\n",
      "DEBUG:  giving ticket to b (group x)\n",
      "DEBUG:  Concert: \n",
      "              cash: deque([])\n",
      "          entrance: deque([Person(b,x,True)])\n"
     ]
    },
    {
     "data": {
      "text/plain": [
       "['f']"
      ]
     },
     "execution_count": 86,
     "metadata": {},
     "output_type": "execute_result"
    }
   ],
   "source": [
    "con.dequeue()"
   ]
  },
  {
   "cell_type": "code",
   "execution_count": 87,
   "metadata": {},
   "outputs": [
    {
     "name": "stdout",
     "output_type": "stream",
     "text": [
      "DEBUG:  DEQUEUING ..\n",
      "DEBUG:  b (group x) admitted to concert\n",
      "DEBUG:  Concert: \n",
      "              cash: deque([])\n",
      "          entrance: deque([])\n"
     ]
    },
    {
     "data": {
      "text/plain": [
       "['b']"
      ]
     },
     "execution_count": 87,
     "metadata": {},
     "output_type": "execute_result"
    }
   ],
   "source": [
    "con.dequeue()"
   ]
  },
  {
   "cell_type": "code",
   "execution_count": 88,
   "metadata": {
    "scrolled": true
   },
   "outputs": [
    {
     "data": {
      "text/plain": [
       "Concert: \n",
       "      cash: deque([])\n",
       "  entrance: deque([])"
      ]
     },
     "execution_count": 88,
     "metadata": {},
     "output_type": "execute_result"
    }
   ],
   "source": [
    "con"
   ]
  },
  {
   "cell_type": "markdown",
   "metadata": {},
   "source": [
    "## 8. OfficeQueue\n"
   ]
  },
  {
   "cell_type": "markdown",
   "metadata": {},
   "source": [
    "An office offers services `'x'`, `'y'` and `'z'`. When people arrive at the office, they state which service they need, get a ticket and enqueue. Suppose at the beginning of the day we are considering there is only one queue. \n",
    "\n",
    "The office knows on average how much time each service requires:"
   ]
  },
  {
   "cell_type": "code",
   "execution_count": 89,
   "metadata": {},
   "outputs": [],
   "source": [
    "SERVICES = { 'x':5,   # minutes\n",
    "             'y':20,\n",
    "             'z':30\n",
    "           }"
   ]
  },
  {
   "cell_type": "markdown",
   "metadata": {},
   "source": [
    "\n",
    "With this information it is able to inform new clients approximately how long they will need to wait."
   ]
  },
  {
   "cell_type": "markdown",
   "metadata": {},
   "source": [
    "\n",
    "`OfficeQueue` is implemented as a linked list, where people enter the queue from the tail and leave from the head. We can represent it like this (**NOTE**: 'cumulative wait' is not actually stored in the queue):\n",
    "\n",
    "```\n",
    "    wait time: 155 minutes\n",
    "    \n",
    "    cumulative wait:  5    10   15   45   50   55   85   105  110  130  150  155    \n",
    "    wait times:       5    5    5    30   5    5    30   20   5    20   20   5\n",
    "                      x    x    x    z    x    x    z    y    x    y    y    x\n",
    "                      a -> b -> c -> d -> e -> f -> g -> h -> i -> l -> m -> n\n",
    "                      ^                                                      ^\n",
    "                      |                                                      |\n",
    "                     head                                                   tail\n",
    "```"
   ]
  },
  {
   "cell_type": "markdown",
   "metadata": {},
   "source": [
    "Each node holds the client identifier `'a'`, `'b'`, `'c'`, and the service label (like `'x'`) requested by the client:\n",
    "\n",
    "```python\n",
    "class Node:\n",
    "    def __init__(self, initdata, service):\n",
    "        self._data = initdata\n",
    "        self._service = service\n",
    "        self._next = None        \n",
    "```        "
   ]
  },
  {
   "cell_type": "markdown",
   "metadata": {},
   "source": [
    "`OfficeQueue` keeps fields `_services`, `_size` and a field `_wait_time` which holds the total wait time of the queue:\n",
    "\n",
    "```python\n",
    "class OfficeQueue:    \n",
    "    def __init__(self, services):\n",
    "        self._head = None\n",
    "        self._tail = None        \n",
    "        self._size = 0\n",
    "        self._wait_time = 0\n",
    "        self._services = dict(services)\n",
    "```"
   ]
  },
  {
   "cell_type": "code",
   "execution_count": 90,
   "metadata": {},
   "outputs": [
    {
     "name": "stdout",
     "output_type": "stream",
     "text": [
      "OfficeQueue: \n",
      "  \n",
      "  \n"
     ]
    }
   ],
   "source": [
    "from office_queue_sol import *\n",
    "SERVICES = { 'x':5,   # minutes\n",
    "             'y':20,\n",
    "             'z':30\n",
    "           }\n",
    "\n",
    "\n",
    "oq = OfficeQueue(SERVICES)\n",
    "print(oq)"
   ]
  },
  {
   "cell_type": "code",
   "execution_count": 91,
   "metadata": {},
   "outputs": [],
   "source": [
    "oq.enqueue('a','x')\n",
    "oq.enqueue('b','x')\n",
    "oq.enqueue('c','x')\n",
    "oq.enqueue('d','z')\n",
    "oq.enqueue('e','x')\n",
    "oq.enqueue('f','x')\n",
    "oq.enqueue('g','z')\n",
    "oq.enqueue('h','y')\n",
    "oq.enqueue('i','x')\n",
    "oq.enqueue('l','y')\n",
    "oq.enqueue('m','y')\n",
    "oq.enqueue('n','x')"
   ]
  },
  {
   "cell_type": "code",
   "execution_count": 92,
   "metadata": {},
   "outputs": [
    {
     "name": "stdout",
     "output_type": "stream",
     "text": [
      "OfficeQueue: \n",
      "  x    x    x    z    x    x    z    y    x    y    y    x\n",
      "  a -> b -> c -> d -> e -> f -> g -> h -> i -> l -> m -> n\n"
     ]
    }
   ],
   "source": [
    "print(oq)"
   ]
  },
  {
   "cell_type": "code",
   "execution_count": 93,
   "metadata": {},
   "outputs": [
    {
     "data": {
      "text/plain": [
       "12"
      ]
     },
     "execution_count": 93,
     "metadata": {},
     "output_type": "execute_result"
    }
   ],
   "source": [
    "oq.size()"
   ]
  },
  {
   "cell_type": "markdown",
   "metadata": {},
   "source": [
    "Total wait time can be accessed from outside with the method `wait_time()`:"
   ]
  },
  {
   "cell_type": "code",
   "execution_count": 94,
   "metadata": {},
   "outputs": [
    {
     "data": {
      "text/plain": [
       "155"
      ]
     },
     "execution_count": 94,
     "metadata": {},
     "output_type": "execute_result"
    }
   ],
   "source": [
    "oq.wait_time()"
   ]
  },
  {
   "cell_type": "markdown",
   "metadata": {},
   "source": [
    "<div class=\"alert alert-warning\">\n",
    "\n",
    "**ATTENTION**: you only need to implement the methods `time_to_service` and `split`\n",
    "\n",
    "**DO NOT** touch other methods.\n",
    "\n",
    "</div>"
   ]
  },
  {
   "cell_type": "markdown",
   "metadata": {},
   "source": [
    "### 8.1 - time_to_service\n",
    "\n",
    "Open file `office_queue_exercise.py` with and start editing.\n",
    "\n",
    "In order to schedule work and pauses, for each service office employees want to know after how long they will have to process the first client requiring that particular service.           \n",
    "\n",
    "First service encountered will always have a zero time interval (in this example it's `x`):\n",
    "\n",
    "\n",
    "```\n",
    "wait time: 155\n",
    "\n",
    "cumulative wait:  5    10   15   45   50   55   85   105  110  130  150  155\n",
    "wait times:       5    5    5    30   5    5    30   20   5    20   20   5\n",
    "                  x    x    x    z    x    x    z    y    x    y    y    x\n",
    "                  a -> b -> c -> d -> e -> f -> g -> h -> i -> l -> m -> n\n",
    "                 ||              |                   |\n",
    "                 x : 0           |                   |\n",
    "                 |               |                   |\n",
    "                 |---------------|                   |\n",
    "                 |     z : 15                        | \n",
    "                 |                                   |\n",
    "                 |-----------------------------------|\n",
    "                                  y : 85\n",
    "```"
   ]
  },
  {
   "cell_type": "code",
   "execution_count": 95,
   "metadata": {},
   "outputs": [
    {
     "name": "stdout",
     "output_type": "stream",
     "text": [
      "OfficeQueue: \n",
      "  \n",
      "  \n"
     ]
    }
   ],
   "source": [
    "SERVICES = { 'x':5,   # minutes\n",
    "             'y':20,\n",
    "             'z':30\n",
    "           }\n",
    "\n",
    "oq = OfficeQueue(SERVICES)\n",
    "print(oq)"
   ]
  },
  {
   "cell_type": "code",
   "execution_count": 96,
   "metadata": {},
   "outputs": [
    {
     "name": "stdout",
     "output_type": "stream",
     "text": [
      "OfficeQueue: \n",
      "  x    x    x    z    x    x    z    y    x    y    y    x\n",
      "  a -> b -> c -> d -> e -> f -> g -> h -> i -> l -> m -> n\n"
     ]
    }
   ],
   "source": [
    "oq.enqueue('a','x')\n",
    "oq.enqueue('b','x')\n",
    "oq.enqueue('c','x')\n",
    "oq.enqueue('d','z')\n",
    "oq.enqueue('e','x')\n",
    "oq.enqueue('f','x')\n",
    "oq.enqueue('g','z')\n",
    "oq.enqueue('h','y')\n",
    "oq.enqueue('i','x')\n",
    "oq.enqueue('l','y')\n",
    "oq.enqueue('m','y')\n",
    "oq.enqueue('n','x')\n",
    "\n",
    "print(oq)"
   ]
  },
  {
   "cell_type": "markdown",
   "metadata": {},
   "source": [
    "Method to implement will return a dictionary mapping each service to the time interval after which the service is first required:"
   ]
  },
  {
   "cell_type": "code",
   "execution_count": 97,
   "metadata": {},
   "outputs": [
    {
     "data": {
      "text/plain": [
       "{'x': 0, 'y': 85, 'z': 15}"
      ]
     },
     "execution_count": 97,
     "metadata": {},
     "output_type": "execute_result"
    }
   ],
   "source": [
    "oq.time_to_service()"
   ]
  },
  {
   "cell_type": "markdown",
   "metadata": {},
   "source": [
    "#### Services not required by any client\n",
    "\n",
    "As a special case, if a service is not required by any client, its time interval is set to the queue total wait time (because a client requiring that service might still show up in the future and get enqueued)"
   ]
  },
  {
   "cell_type": "code",
   "execution_count": 98,
   "metadata": {},
   "outputs": [
    {
     "name": "stdout",
     "output_type": "stream",
     "text": [
      "OfficeQueue: \n",
      "  x    y\n",
      "  a -> b\n"
     ]
    }
   ],
   "source": [
    "    \n",
    "oq = OfficeQueue(SERVICES)\n",
    "oq.enqueue('a','x')   # completed after 5 mins\n",
    "oq.enqueue('b','y')   # completed after 5 + 20 mins\n",
    "print(oq)"
   ]
  },
  {
   "cell_type": "code",
   "execution_count": 99,
   "metadata": {},
   "outputs": [
    {
     "name": "stdout",
     "output_type": "stream",
     "text": [
      "25\n"
     ]
    }
   ],
   "source": [
    "print(oq.wait_time())"
   ]
  },
  {
   "cell_type": "code",
   "execution_count": 100,
   "metadata": {},
   "outputs": [
    {
     "data": {
      "text/plain": [
       "{'x': 0, 'y': 5, 'z': 25}"
      ]
     },
     "execution_count": 100,
     "metadata": {},
     "output_type": "execute_result"
    }
   ],
   "source": [
    "oq.time_to_service()   # note z is set to total wait time"
   ]
  },
  {
   "cell_type": "markdown",
   "metadata": {},
   "source": [
    "\n",
    "Now implement this:\n",
    "\n",
    "```python\n",
    "    def time_to_service(self):\n",
    "        \"\"\" RETURN a dictionary mapping each service to the time interval after which\n",
    "            the service is first required.\n",
    "\n",
    "            - the first service encountered will always have a zero time interval\n",
    "            - If a service is not required by any client, time interval is set to \n",
    "              the queue total wait time\n",
    "            - MUST run in O(n) where n is the size of the queue.\n",
    "        \"\"\"\n",
    "```        \n",
    "\n",
    "**Testing**: `python3 -m unittest office_queue_test.TestTimeToService`\n"
   ]
  },
  {
   "cell_type": "markdown",
   "metadata": {},
   "source": [
    "### 8.2 split\n",
    "\n",
    "Suppose a new desk is opened: to reduce waiting times the office will comunicate on a screen to some people in the current queue to move to the new desk, thereby creating a new queue. The current queue will be split in two according to this criteria: after the cut, the total waiting time of the current queue should be the same or slightly bigger than the waiting time in the new queue:\n",
    "\n",
    "<div class=\"alert alert-warning\">\n",
    "    \n",
    "**ATTENTION**: This example is **different** from previous one!\n",
    "    \n",
    "Total wait time here is 150 instead of 155\n",
    "</div>\n",
    "\n",
    "```\n",
    "ORIGINAL QUEUE:\n",
    "\n",
    "wait time = 150 minutes\n",
    "wait time / 2 = 75 minutes\n",
    "\n",
    "\n",
    "cumulative wait:  30   50   80   110  115  120  140  145  150  \n",
    "wait times:       30   20   30   30   5    5    20   5    5\n",
    "                  z    y    z    z    x    x    y    x    x\n",
    "                  a -> b -> c -> d -> e -> f -> g -> h -> i                    \n",
    "                  ^            ^                          ^\n",
    "                  |            |                          |\n",
    "                 head       cut here                     tail\n",
    "\n",
    "\n",
    "MODIFIED QUEUE: \n",
    "\n",
    "wait time: 80 minutes\n",
    "\n",
    "wait times:       30   20   30   \n",
    "cumulative wait:  30   50   80   \n",
    "                  z    y    z    \n",
    "                  a -> b -> c \n",
    "                  ^         ^  \n",
    "                  |         |  \n",
    "                 head      tail\n",
    "\n",
    "\n",
    "NEW QUEUE: \n",
    "\n",
    "wait time: 75 minutes\n",
    "\n",
    "wait times:       30   5    5    20   5    5\n",
    "cumulative wait:  30   35   40   60   65   70\n",
    "                  z    x    x    y    x    x\n",
    "                  d -> e -> f -> g -> h -> i                    \n",
    "                  ^                        ^\n",
    "                  |                        |\n",
    "                 head                     tail\n",
    "```"
   ]
  },
  {
   "cell_type": "markdown",
   "metadata": {},
   "source": [
    "Implement this method:\n",
    "\n",
    "```python\n",
    "    def split(self):\n",
    "        \"\"\" Perform two operations:\n",
    "            - MODIFY the queue by cutting it so that the wait time of this cut\n",
    "              will be half (or slightly more) of wait time for the whole original queue\n",
    "            - RETURN a NEW queue holding remaining nodes after the cut - the wait time of  \n",
    "              new queue will be half (or slightly less) than original wait time\n",
    "\n",
    "            - If queue to split is empty or has only one element, modify nothing\n",
    "              and RETURN a NEW empty queue\n",
    "            - After the call, present queue wait time should be equal or slightly bigger \n",
    "              than returned queue.\n",
    "            - DO *NOT* create new nodes, just reuse existing ones\n",
    "            - REMEMBER to set _size, _wait_time, _tail in both original and new queue\n",
    "            - MUST execute in O(n) where n is the size of the queue\n",
    "        \"\"\"\n",
    "```\n",
    "\n",
    "**Testing**: `python3 -m unittest office_queue_test.SplitTest`"
   ]
  },
  {
   "cell_type": "code",
   "execution_count": 101,
   "metadata": {
    "nbsphinx": "hidden"
   },
   "outputs": [
    {
     "name": "stderr",
     "output_type": "stream",
     "text": [
      "..........\n",
      "----------------------------------------------------------------------\n",
      "Ran 10 tests in 0.010s\n",
      "\n",
      "OK\n",
      ".........\n",
      "----------------------------------------------------------------------\n",
      "Ran 9 tests in 0.008s\n",
      "\n",
      "OK\n",
      "...............\n",
      "----------------------------------------------------------------------\n",
      "Ran 15 tests in 0.016s\n",
      "\n",
      "OK\n",
      ".................\n",
      "----------------------------------------------------------------------\n",
      "Ran 17 tests in 0.016s\n",
      "\n",
      "OK\n",
      "..............\n",
      "----------------------------------------------------------------------\n",
      "Ran 14 tests in 0.013s\n",
      "\n",
      "OK\n",
      ".......\n",
      "----------------------------------------------------------------------\n",
      "Ran 7 tests in 0.006s\n",
      "\n",
      "OK\n",
      ".................\n",
      "----------------------------------------------------------------------\n",
      "Ran 17 tests in 0.016s\n",
      "\n",
      "OK\n"
     ]
    }
   ],
   "source": [
    "# ignore this cell\n",
    "import sys;\n",
    "sys.path.append('../'); \n",
    "import jupman;\n",
    "import linked_queue_test\n",
    "jupman.run(linked_queue_test)\n",
    "import italian_queue_test\n",
    "jupman.run(italian_queue_test)\n",
    "import supermarket_test\n",
    "jupman.run(supermarket_test)\n",
    "import mall_test\n",
    "jupman.run(mall_test)\n",
    "import company_sol\n",
    "company_sol.DEBUG = False\n",
    "import company_test\n",
    "jupman.run(company_test)\n",
    "import concert_sol\n",
    "concert_sol.DEBUG = False\n",
    "import concert_test\n",
    "jupman.run(concert_test)\n",
    "import office_queue_test\n",
    "jupman.run(office_queue_test)"
   ]
  },
  {
   "cell_type": "code",
   "execution_count": null,
   "metadata": {},
   "outputs": [],
   "source": []
  }
 ],
 "metadata": {
  "celltoolbar": "Edit Metadata",
  "kernelspec": {
   "display_name": "Python 3",
   "language": "python",
   "name": "python3"
  },
  "language_info": {
   "codemirror_mode": {
    "name": "ipython",
    "version": 3
   },
   "file_extension": ".py",
   "mimetype": "text/x-python",
   "name": "python",
   "nbconvert_exporter": "python",
   "pygments_lexer": "ipython3",
   "version": "3.7.10"
  },
  "toc": {
   "base_numbering": 1,
   "nav_menu": {},
   "number_sections": false,
   "sideBar": true,
   "skip_h1_title": false,
   "title_cell": "Table of Contents",
   "title_sidebar": "Contents",
   "toc_cell": false,
   "toc_position": {},
   "toc_section_display": true,
   "toc_window_display": true
  }
 },
 "nbformat": 4,
 "nbformat_minor": 2
}
