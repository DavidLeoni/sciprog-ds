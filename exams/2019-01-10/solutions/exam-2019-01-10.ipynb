{
 "cells": [
  {
   "cell_type": "code",
   "execution_count": 1,
   "metadata": {
    "nbsphinx": "hidden"
   },
   "outputs": [],
   "source": [
    "#Please execute this cell\n",
    "import sys;\n",
    "sys.path.append('../../../'); \n",
    "import jupman;"
   ]
  },
  {
   "cell_type": "markdown",
   "metadata": {},
   "source": [
    "# Midterm - Thu 10, Jan 2019\n",
    "\n",
    "**Scientific Programming - Data Science Master @ University of Trento**\n",
    "\n",
    "## [Download exercises and solution](../../../_static/generated/sciprog-ds-2019-01-10-exam.zip)"
   ]
  },
  {
   "cell_type": "markdown",
   "metadata": {},
   "source": [
    "### What to do\n",
    "\n",
    "1) Download  `sciprog-ds-2019-01-10-exam.zip` and extract it <b>on your desktop</b>. Folder content should be like this:\n",
    "\n",
    "```\n",
    "sciprog-ds-2019-01-10-FIRSTNAME-LASTNAME-ID\n",
    "    gaps.py\n",
    "    gaps_test.py\n",
    "    tasks.py\n",
    "    tasks_test.py\n",
    "    exits.py\n",
    "    exits_test.py\n",
    "    jupman.py\n",
    "    sciprog.py            \n",
    "```\n",
    "\n",
    "2) Rename `sciprog-ds-2019-01-10-FIRSTNAME-LASTNAME-ID` folder: put your name, lastname an id number, like `sciprog-ds-2019-01-10-john-doe-432432`\n",
    "\n",
    "From now on, you will be editing the files in that folder. At the end of the exam, that is what will be evaluated.\n",
    "\n",
    "3) Edit the files following the instructions in this worksheet for each exercise. Every exercise should take max 25 mins. If it takes longer, leave it and try another exercise.\n",
    "\n",
    "4) When done:\n",
    "\n",
    "if you have unitn login:  zip and send to [examina.icts.unitn.it](http://examina.icts.unitn.it)\n",
    "  \n",
    "If you don't have unitn login: tell instructors and we will download your work manually\n",
    " \n"
   ]
  },
  {
   "cell_type": "markdown",
   "metadata": {
    "collapsed": true
   },
   "source": [
    "## Introduction\n",
    "\n",
    "## B1 Theory\n",
    "\n",
    "Please write the solution in the text file `theory.txt`\n",
    "\n",
    "Given the following function:\n",
    "\n",
    "```python\n",
    "def fun(N, M):\n",
    "    S1 = set(N)\n",
    "    S2 = set(M)\n",
    "    res = []\n",
    "    for x in S1:\n",
    "        if x in S2:\n",
    "            for i in range(N.count(x)):\n",
    "                res.append(x)\n",
    "    return res\n",
    "```\n",
    "\n",
    "let `N` and `M` be two lists of length `n` and `m`, respectively. What is the computational complexity of function `fun()` with respect to `n` and `m`?\n"
   ]
  },
  {
   "cell_type": "markdown",
   "metadata": {},
   "source": [
    "\n",
    "## B2 Gaps linked list\n",
    "\n",
    "Given a linked list of size n which only contains integers, a gap is an **index** `i`, `0<i<n`, such that `L[i−1]<L[i]`. \n",
    "For the purpose of this exercise, we assume an empy list or a list with one element have zero gaps\n",
    "\n",
    "\n",
    "**Example**: \n",
    "\n",
    "```\n",
    "   data:  9 7 6 8 9 2 2 5 \n",
    "  index:  0 1 2 3 4 5 6 7  \n",
    "```\n",
    "\n",
    "contains three gaps [3,4,7] because:\n",
    "\n",
    "- number 8 at index 3 is greater than previous number 6 at index 2\n",
    "- number 9 at index 4 is greater than previous number 8 at index 3\n",
    "- number 5 at index 7 is greater than previous number 2 at index 6\n",
    "\n",
    "\n"
   ]
  },
  {
   "cell_type": "markdown",
   "metadata": {},
   "source": [
    "\n",
    "Open file `gaps.py` and implement this method:\n",
    "\n",
    "```python\n",
    "    def gaps(self):\n",
    "        \"\"\" Assuming all the data in the linked list is made by numbers,\n",
    "            finds the gaps in the LinkedList and return them as a Python list.\n",
    "            \n",
    "            - we assume empty list and list of one element have zero gaps\n",
    "            - MUST perform in O(n) where n is the length of the list\n",
    "\n",
    "            NOTE: gaps to return are *indeces* , *not* data!!!!\n",
    "        \"\"\"\n",
    "```\n",
    "\n",
    "**Testing**: `python3 -m unittest gaps_test.GapsTest`"
   ]
  },
  {
   "cell_type": "markdown",
   "metadata": {},
   "source": [
    "## B3 Tasks stack\n",
    "\n",
    "Very often, you begin to do a task just to discover it requires doing 3 other tasks, so you start carrying them out one at a time and discover one of them actually requires to do yet another two other subtasks....\n",
    "\n",
    "To represent the fact a task may have subtasks, we will use a dictionary mapping a task label to a list of subtasks, each represented as a label. For example:"
   ]
  },
  {
   "cell_type": "code",
   "execution_count": 2,
   "metadata": {},
   "outputs": [],
   "source": [
    "subtasks = {\n",
    "        'a':['b','g'],\n",
    "        'b':['c','d','e'],\n",
    "        'c':['f'],\n",
    "        'd':['g'],\n",
    "        'e':[],\n",
    "        'f':[],\n",
    "        'g':[]\n",
    "    }"
   ]
  },
  {
   "cell_type": "markdown",
   "metadata": {},
   "source": [
    "Task `a` requires subtasks `b` and`g` to be carried out (in this order), but task `b` requires subtasks `c`, `d` and `e` to be done. `c` requires `f` to be done, and `d`  requires `g`. \n",
    "\n",
    "You will have to implement a function called `do` and use a Stack data structure, which is already provided and you don't need to implement. Let's see an example of execution. \n",
    "\n",
    "**IMPORTANT**: In the execution example, there are many prints just to help you understand what's going on, but the only thing we actually care about is the final list returned by the function!\n",
    "\n",
    "**IMPORTANT**: notice subtasks are scheduled in reversed order, so the item on top of the stack will be the first to get executed !"
   ]
  },
  {
   "cell_type": "code",
   "execution_count": 3,
   "metadata": {},
   "outputs": [
    {
     "name": "stdout",
     "output_type": "stream",
     "text": [
      "DEBUG:  Stack:   elements=['a']\n",
      "DEBUG:  Doing task a, scheduling subtasks ['b', 'g']\n",
      "DEBUG:           Stack:   elements=['g', 'b']\n",
      "DEBUG:  Doing task b, scheduling subtasks ['c', 'd', 'e']\n",
      "DEBUG:           Stack:   elements=['g', 'e', 'd', 'c']\n",
      "DEBUG:  Doing task c, scheduling subtasks ['f']\n",
      "DEBUG:           Stack:   elements=['g', 'e', 'd', 'f']\n",
      "DEBUG:  Doing task f, scheduling subtasks []\n",
      "DEBUG:           Nothing else to do!\n",
      "DEBUG:           Stack:   elements=['g', 'e', 'd']\n",
      "DEBUG:  Doing task d, scheduling subtasks ['g']\n",
      "DEBUG:           Stack:   elements=['g', 'e', 'g']\n",
      "DEBUG:  Doing task g, scheduling subtasks []\n",
      "DEBUG:           Nothing else to do!\n",
      "DEBUG:           Stack:   elements=['g', 'e']\n",
      "DEBUG:  Doing task e, scheduling subtasks []\n",
      "DEBUG:           Nothing else to do!\n",
      "DEBUG:           Stack:   elements=['g']\n",
      "DEBUG:  Doing task g, scheduling subtasks []\n",
      "DEBUG:           Nothing else to do!\n",
      "DEBUG:           Stack:   elements=[]\n"
     ]
    },
    {
     "data": {
      "text/plain": [
       "['a', 'b', 'c', 'f', 'd', 'g', 'e', 'g']"
      ]
     },
     "execution_count": 3,
     "metadata": {},
     "output_type": "execute_result"
    }
   ],
   "source": [
    "from tasks_sol import *\n",
    "\n",
    "do('a', subtasks)"
   ]
  },
  {
   "cell_type": "markdown",
   "metadata": {},
   "source": [
    "The `Stack` you must use is simple and supports `push`, `pop`, and `is_empty` operations:"
   ]
  },
  {
   "cell_type": "code",
   "execution_count": 4,
   "metadata": {},
   "outputs": [],
   "source": [
    "s = Stack()"
   ]
  },
  {
   "cell_type": "code",
   "execution_count": 5,
   "metadata": {},
   "outputs": [
    {
     "name": "stdout",
     "output_type": "stream",
     "text": [
      "Stack:   elements=[]\n"
     ]
    }
   ],
   "source": [
    "print(s)"
   ]
  },
  {
   "cell_type": "code",
   "execution_count": 6,
   "metadata": {},
   "outputs": [
    {
     "data": {
      "text/plain": [
       "True"
      ]
     },
     "execution_count": 6,
     "metadata": {},
     "output_type": "execute_result"
    }
   ],
   "source": [
    "s.is_empty()"
   ]
  },
  {
   "cell_type": "code",
   "execution_count": 7,
   "metadata": {},
   "outputs": [],
   "source": [
    "s.push('a')"
   ]
  },
  {
   "cell_type": "code",
   "execution_count": 8,
   "metadata": {},
   "outputs": [
    {
     "name": "stdout",
     "output_type": "stream",
     "text": [
      "Stack:   elements=['a']\n"
     ]
    }
   ],
   "source": [
    "print(s) "
   ]
  },
  {
   "cell_type": "code",
   "execution_count": 9,
   "metadata": {},
   "outputs": [],
   "source": [
    "s.push('b')"
   ]
  },
  {
   "cell_type": "code",
   "execution_count": 10,
   "metadata": {},
   "outputs": [
    {
     "name": "stdout",
     "output_type": "stream",
     "text": [
      "Stack:   elements=['a', 'b']\n"
     ]
    }
   ],
   "source": [
    "print(s)"
   ]
  },
  {
   "cell_type": "code",
   "execution_count": 11,
   "metadata": {},
   "outputs": [
    {
     "data": {
      "text/plain": [
       "'b'"
      ]
     },
     "execution_count": 11,
     "metadata": {},
     "output_type": "execute_result"
    }
   ],
   "source": [
    "s.pop()"
   ]
  },
  {
   "cell_type": "code",
   "execution_count": 12,
   "metadata": {},
   "outputs": [
    {
     "name": "stdout",
     "output_type": "stream",
     "text": [
      "Stack:   elements=['a']\n"
     ]
    }
   ],
   "source": [
    "print(s)"
   ]
  },
  {
   "cell_type": "markdown",
   "metadata": {},
   "source": [
    "### B3.1 do\n",
    "\n",
    "Now open `tasks_stack.py` and implement function `do`:\n",
    "\n",
    "```python\n",
    "def do(task, subtasks):\n",
    "    \"\"\" Takes a task to perform and a dictionary of subtasks, \n",
    "        and RETURN a list of performed tasks\n",
    "         \n",
    "        - To implement it, inside create a Stack instance and a while cycle. \n",
    "        - DO *NOT* use a recursive function\n",
    "        - Inside the function, you can use a print like \"I'm doing task a', \n",
    "          but that is only to help yourself in debugging, only the\n",
    "          list returned by the function will be considered in the evaluation!\n",
    "    \"\"\"\n",
    "\n",
    "```\n",
    "\n",
    "\n",
    "**Testing**: `python3 -m unittest tasks_test.DoTest`"
   ]
  },
  {
   "cell_type": "markdown",
   "metadata": {},
   "source": [
    "### B3.2 do_level\n",
    "\n",
    "In this exercise, you are asked to implement a slightly more complex version of the previous function where on the `Stack` you push two-valued tuples, containing the task label and the associated level. The first task has level 0, the immediate subtask has level 1, the subtask of the subtask has level 2 and so on and so forth. In the list returned by the function, you will put such tuples. \n",
    "\n",
    "One possibile use is to display the executed tasks as an indented tree, where the indentation is determined by the level. Here we see an example:\n",
    "\n",
    "**IMPORTANT**: Again, the prints are only to let you understand what's going on, and you are _not_ required to code them. The only thing that really matters is the list the function must return !"
   ]
  },
  {
   "cell_type": "code",
   "execution_count": 13,
   "metadata": {},
   "outputs": [
    {
     "name": "stdout",
     "output_type": "stream",
     "text": [
      "DEBUG:  \t\t\t\t\t\tStack:   elements=[('a', 0)]\n",
      "DEBUG:  I'm doing \ta\t\tlevel=0 Stack:   elements=[('g', 1), ('b', 1)]\n",
      "DEBUG:  I'm doing \t  b\t\tlevel=1 Stack:   elements=[('g', 1), ('e', 2), ('d', 2), ('c', 2)]\n",
      "DEBUG:  I'm doing \t    c\t\tlevel=2 Stack:   elements=[('g', 1), ('e', 2), ('d', 2), ('f', 3)]\n",
      "DEBUG:  I'm doing \t      f\t\tlevel=3 Stack:   elements=[('g', 1), ('e', 2), ('d', 2)]\n",
      "DEBUG:  I'm doing \t    d\t\tlevel=2 Stack:   elements=[('g', 1), ('e', 2), ('g', 3)]\n",
      "DEBUG:  I'm doing \t      g\t\tlevel=3 Stack:   elements=[('g', 1), ('e', 2)]\n",
      "DEBUG:  I'm doing \t    e\t\tlevel=2 Stack:   elements=[('g', 1)]\n",
      "DEBUG:  I'm doing \t  g\t\tlevel=1 Stack:   elements=[]\n"
     ]
    },
    {
     "data": {
      "text/plain": [
       "[('a', 0),\n",
       " ('b', 1),\n",
       " ('c', 2),\n",
       " ('f', 3),\n",
       " ('d', 2),\n",
       " ('g', 3),\n",
       " ('e', 2),\n",
       " ('g', 1)]"
      ]
     },
     "execution_count": 13,
     "metadata": {},
     "output_type": "execute_result"
    }
   ],
   "source": [
    "subtasks = {\n",
    "        'a':['b','g'],\n",
    "        'b':['c','d','e'],\n",
    "        'c':['f'],\n",
    "        'd':['g'],\n",
    "        'e':[],\n",
    "        'f':[],\n",
    "        'g':[]\n",
    "    }\n",
    "        \n",
    "do_level('a', subtasks)"
   ]
  },
  {
   "cell_type": "markdown",
   "metadata": {},
   "source": [
    "\n",
    "Now implement the function: \n",
    "\n",
    "```python\n",
    "def do_level(task, subtasks):\n",
    "    \"\"\" Takes a task to perform and a dictionary of subtasks, \n",
    "        and RETURN a list of performed tasks, as tuples (task label, level)\n",
    "         \n",
    "        - To implement it, use a Stack and a while cycle\n",
    "        - DO *NOT* use a recursive function\n",
    "        - Inside the function, you can use a print like \"I'm doing task a', \n",
    "          but that is only to help yourself in debugging, only the\n",
    "          list returned by the function will be considered in the evaluation\n",
    "    \"\"\"\n",
    "```\n",
    "\n",
    "**Testing**: `python3 -m unittest tasks_test.DoLevelTest`"
   ]
  },
  {
   "cell_type": "markdown",
   "metadata": {},
   "source": [
    "## B4 Exits graph\n",
    "\n",
    "\n",
    "There is a place nearby Trento called Silent Hill, where people always study and do little else. Unfortunately, one day an unethical biotech AI experiment goes wrong and a buggy cyborg is left free to roam in the building. To avoid panic, you are quickly asked to devise an evacuation plan. The place is a well known labyrinth, with endless corridors also looping into cycles. But you know you can model this network as a digraph, and decide to represent crossings as nodes. When a crossing has a door to leave the building, its label starts with letter `e`, while when there is no such door the label starts with letter `n`.\n",
    "\n",
    "In the example below, there are three exits `e1`, `e2`, and `e3`.  Given a node, say `n1`, you want to tell the crowd in that node the **shortest** paths leading to the three exits. To avoid congestion, one third of the crowd may be told to go to  `e2`, one third to reach `e1` and  the remaining third will go to `e3` even if they are farther than `e2`.\n",
    "\n",
    "In python terms, we would like to obtain a dictionary of paths like the following, where as keys we have the exits and as values the shortest sequence of nodes from `n1` leading to that exit\n",
    "\n",
    "```python\n",
    "{\n",
    "    'e1': ['n1', 'n2', 'e1'], \n",
    "    'e2': ['n1', 'e2'], \n",
    "    'e3': ['n1', 'e2', 'n3', 'e3']\n",
    "}\n",
    "```"
   ]
  },
  {
   "cell_type": "code",
   "execution_count": 14,
   "metadata": {},
   "outputs": [],
   "source": [
    "from sciprog import draw_dig\n",
    "from exits_sol import *\n",
    "from exits_test import dig\n"
   ]
  },
  {
   "cell_type": "code",
   "execution_count": 15,
   "metadata": {},
   "outputs": [
    {
     "data": {
      "image/png": "[encoded data removed]",
      "text/plain": [
       "<IPython.core.display.Image object>"
      ]
     },
     "metadata": {},
     "output_type": "display_data"
    }
   ],
   "source": [
    "G = dig({'n1':['n2','e2'],\n",
    "         'n2':['e1'],\n",
    "         'e1':['n1'],\n",
    "         'e2':['n2','n3', 'n4'],\n",
    "         'n3':['e3'],\n",
    "         'n4':['n1']})\n",
    "draw_dig(G)"
   ]
  },
  {
   "cell_type": "markdown",
   "metadata": {},
   "source": [
    "\n",
    "You will solve the exercise in steps, so open `exits_sol.py` and proceed reading the following points.\n",
    "\n",
    "### B4.1 cp\n",
    "\n",
    "Implement this method\n",
    "\n",
    "```python\n",
    "    def cp(self, source):\n",
    "        \"\"\" Performs a BFS search starting from provided node label source and \n",
    "            RETURN a dictionary of nodes representing the visit tree in the \n",
    "            child-to-parent format, that is, each key is a node label and as value \n",
    "            has the node label from which it was discovered for the first time\n",
    "\n",
    "            So if node \"n2\" was discovered for the first time while\n",
    "            inspecting the neighbors of \"n1\", then in the output dictionary there \n",
    "            will be the pair \"n2\":\"n1\".\n",
    "\n",
    "            The source node will have None as parent, so if source is \"n1\" in the \n",
    "            output dictionary there will be the pair  \"n1\": None\n",
    "\n",
    "            NOTE: This method must *NOT* distinguish between exits \n",
    "                  and normal nodes, in the tests we label them n1, e1 etc just\n",
    "                  because we will reuse in next exercise\n",
    "            NOTE: You are allowed to put debug prints, but the only thing that\n",
    "                  matters for the evaluation and tests to pass is the returned \n",
    "                  dictionary\n",
    "        \"\"\"\n",
    "```\n",
    "\n",
    "**Testing**: `python3 -m unittest exits_test.CpTest`\n",
    "\n",
    "**Example:**"
   ]
  },
  {
   "cell_type": "code",
   "execution_count": 16,
   "metadata": {},
   "outputs": [
    {
     "name": "stdout",
     "output_type": "stream",
     "text": [
      "DEBUG:  Removed from queue: n1\n",
      "DEBUG:    Found neighbor: n2\n",
      "DEBUG:      not yet visited, enqueueing ..\n",
      "DEBUG:    Found neighbor: e2\n",
      "DEBUG:      not yet visited, enqueueing ..\n",
      "DEBUG:    Queue is: ['n2', 'e2'] \n",
      "DEBUG:  Removed from queue: n2\n",
      "DEBUG:    Found neighbor: e1\n",
      "DEBUG:      not yet visited, enqueueing ..\n",
      "DEBUG:    Queue is: ['e2', 'e1'] \n",
      "DEBUG:  Removed from queue: e2\n",
      "DEBUG:    Found neighbor: n2\n",
      "DEBUG:      already visited\n",
      "DEBUG:    Found neighbor: n3\n",
      "DEBUG:      not yet visited, enqueueing ..\n",
      "DEBUG:    Found neighbor: n4\n",
      "DEBUG:      not yet visited, enqueueing ..\n",
      "DEBUG:    Queue is: ['e1', 'n3', 'n4'] \n",
      "DEBUG:  Removed from queue: e1\n",
      "DEBUG:    Found neighbor: n1\n",
      "DEBUG:      already visited\n",
      "DEBUG:    Queue is: ['n3', 'n4'] \n",
      "DEBUG:  Removed from queue: n3\n",
      "DEBUG:    Found neighbor: e3\n",
      "DEBUG:      not yet visited, enqueueing ..\n",
      "DEBUG:    Queue is: ['n4', 'e3'] \n",
      "DEBUG:  Removed from queue: n4\n",
      "DEBUG:    Found neighbor: n1\n",
      "DEBUG:      already visited\n",
      "DEBUG:    Queue is: ['e3'] \n",
      "DEBUG:  Removed from queue: e3\n",
      "DEBUG:    Queue is: [] \n"
     ]
    },
    {
     "data": {
      "text/plain": [
       "{'n1': None,\n",
       " 'n2': 'n1',\n",
       " 'e2': 'n1',\n",
       " 'e1': 'n2',\n",
       " 'n3': 'e2',\n",
       " 'n4': 'e2',\n",
       " 'e3': 'n3'}"
      ]
     },
     "execution_count": 16,
     "metadata": {},
     "output_type": "execute_result"
    }
   ],
   "source": [
    "G.cp('n1')"
   ]
  },
  {
   "cell_type": "markdown",
   "metadata": {},
   "source": [
    "Basically, the dictionary above represents this visit tree:\n",
    "\n",
    "```\n",
    "              n1\n",
    "             /   \\\n",
    "           n2     e2\n",
    "            \\    /  \\\n",
    "            e1   n3  n4\n",
    "                 |\n",
    "                 e3\n",
    "```\n",
    "\n"
   ]
  },
  {
   "cell_type": "markdown",
   "metadata": {},
   "source": [
    "### B4.2 exits\n",
    "\n",
    "Implement this function. **NOTE**: the function is external to class DiGraph.\n",
    "\n",
    "```python\n",
    "def exits(cp):\n",
    "    \"\"\"\n",
    "        INPUT: a dictionary of nodes representing a visit tree in the \n",
    "        child-to-parent format, that is, each key is a node label and as value \n",
    "        has its parent as a node label. The root has associated None as parent.\n",
    "\n",
    "        OUTPUT: a dictionary mapping node labels of exits to the shortest path\n",
    "                from the root to the exit (root and exit included)\n",
    "                \n",
    "    \"\"\"\n",
    "```\n",
    "\n",
    "**Testing**: `python3 -m unittest exits_test.ExitsTest`\n",
    "\n",
    "**Example**: "
   ]
  },
  {
   "cell_type": "code",
   "execution_count": 17,
   "metadata": {},
   "outputs": [
    {
     "data": {
      "text/plain": [
       "{'e1': ['n1', 'n2', 'e1'], 'e2': ['n1', 'e2'], 'e3': ['n1', 'e2', 'n3', 'e3']}"
      ]
     },
     "execution_count": 17,
     "metadata": {},
     "output_type": "execute_result"
    }
   ],
   "source": [
    "# as example we can use the same dictionary outputted by the cp call in the previous exercise\n",
    "\n",
    "visit_cp = { 'e1': 'n2',\n",
    "             'e2': 'n1',\n",
    "             'e3': 'n3',\n",
    "             'n1': None,\n",
    "             'n2': 'n1',\n",
    "             'n3': 'e2',\n",
    "             'n4': 'e2'\n",
    "            }\n",
    "exits(visit_cp)"
   ]
  },
  {
   "cell_type": "code",
   "execution_count": 18,
   "metadata": {
    "nbsphinx": "hidden",
    "scrolled": true
   },
   "outputs": [
    {
     "name": "stderr",
     "output_type": "stream",
     "text": [
      "...........................\n",
      "----------------------------------------------------------------------\n",
      "Ran 27 tests in 0.040s\n",
      "\n",
      "OK\n"
     ]
    }
   ],
   "source": [
    "# ignore this cell\n",
    "import exits_sol\n",
    "exits_sol.DEBUG = False\n",
    "import exits_test\n",
    "jupman.run(exits_test)\n"
   ]
  },
  {
   "cell_type": "code",
   "execution_count": 19,
   "metadata": {
    "nbsphinx": "hidden"
   },
   "outputs": [
    {
     "name": "stderr",
     "output_type": "stream",
     "text": [
      "....................\n",
      "----------------------------------------------------------------------\n",
      "Ran 20 tests in 0.011s\n",
      "\n",
      "OK\n"
     ]
    }
   ],
   "source": [
    "#Ignore this cell\n",
    "import tasks_sol\n",
    "tasks_sol.DEBUG = False\n",
    "import tasks_test\n",
    "\n",
    "jupman.run(tasks_test)"
   ]
  },
  {
   "cell_type": "code",
   "execution_count": null,
   "metadata": {},
   "outputs": [],
   "source": []
  }
 ],
 "metadata": {
  "celltoolbar": "Edit Metadata",
  "kernelspec": {
   "display_name": "Python 3 (ipykernel)",
   "language": "python",
   "name": "python3"
  },
  "language_info": {
   "codemirror_mode": {
    "name": "ipython",
    "version": 3
   },
   "file_extension": ".py",
   "mimetype": "text/x-python",
   "name": "python",
   "nbconvert_exporter": "python",
   "pygments_lexer": "ipython3",
   "version": "3.7.10"
  },
  "toc": {
   "base_numbering": 1,
   "nav_menu": {},
   "number_sections": false,
   "sideBar": true,
   "skip_h1_title": false,
   "title_cell": "Table of Contents",
   "title_sidebar": "Contents",
   "toc_cell": false,
   "toc_position": {},
   "toc_section_display": true,
   "toc_window_display": true
  }
 },
 "nbformat": 4,
 "nbformat_minor": 1
}
