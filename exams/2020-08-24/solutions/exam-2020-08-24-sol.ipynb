{
 "cells": [
  {
   "cell_type": "markdown",
   "metadata": {},
   "source": [
    "# Exam -  Mon 24, Aug 2020\n",
    "\n",
    "**Scientific Programming - Data Science @ University of Trento**\n",
    "\n",
    "## [Download exercises and solutions](../../../_static/generated/sciprog-ds-2020-08-24-exam.zip)"
   ]
  },
  {
   "cell_type": "markdown",
   "metadata": {
    "collapsed": true
   },
   "source": [
    "## Introduction\n",
    "\n",
    "* **Taking part to this exam erases any vote you had before**\n"
   ]
  },
  {
   "cell_type": "markdown",
   "metadata": {},
   "source": [
    "### What to do\n",
    "\n",
    "1) Download  `sciprog-ds-2020-08-24-exam.zip` and extract it <b>on your desktop</b>. Folder content should be like this:\n",
    "\n",
    "2) Rename `sciprog-ds-2020-08-24-FIRSTNAME-LASTNAME-ID` folder: put your name, lastname an id number, like `sciprog-ds-2020-08-24-john-doe-432432`\n",
    "\n",
    "From now on, you will be editing the files in that folder. At the end of the exam, that is what will be evaluated.\n",
    "\n",
    "3) Edit the files following the instructions in this worksheet for each exercise. Every exercise should take max 25 mins. If it takes longer, leave it and try another exercise.\n",
    "\n",
    "4) When done:\n",
    "\n",
    "- if you have unitn login:  zip and send to [examina.icts.unitn.it/studente](http://examina.icts.unitn.it/studente)\n",
    "  \n",
    "- If you don't have unitn login: tell instructors and we will download your work manually\n",
    " \n"
   ]
  },
  {
   "cell_type": "markdown",
   "metadata": {},
   "source": [
    "## Part A - Prezzario\n",
    "\n",
    "Open Jupyter and start editing this notebook `exam-2020-08-24.ipynb`\n",
    "\n",
    "You are going to analyze the dataset `EPPAT-2018-new-compact.csv`, which is the price list for all products and services the Autonomous Province of Trento may require. Source: [dati.trentino.it](https://dati.trentino.it/dataset/prezziario-dei-lavori-pubblici-della-provincia-autonoma-di-trento) \n",
    "\n",
    "<div class=\"alert alert-warning\">\n",
    "    \n",
    "**DO NOT WASTE TIME LOOKING AT THE WHOLE DATASET!**\n",
    "    \n",
    "The dataset is quite complex, please focus on the few examples we provide\n",
    "</div>\n",
    "\n",
    "We will show examples with pandas, but it is not required to solve the exercises."
   ]
  },
  {
   "cell_type": "code",
   "execution_count": 1,
   "metadata": {},
   "outputs": [],
   "source": [
    "import pandas as pd   \n",
    "import numpy as np    \n",
    "\n",
    "pd.set_option('display.max_colwidth', -1)\n",
    "\n",
    "df = pd.read_csv('EPPAT-2018-new-compact.csv', encoding='latin-1')"
   ]
  },
  {
   "cell_type": "markdown",
   "metadata": {},
   "source": [
    "The dataset contains several columns, but we will consider the following ones:"
   ]
  },
  {
   "cell_type": "code",
   "execution_count": 2,
   "metadata": {},
   "outputs": [
    {
     "data": {
      "text/html": [
       "<div>\n",
       "<style scoped>\n",
       "    .dataframe tbody tr th:only-of-type {\n",
       "        vertical-align: middle;\n",
       "    }\n",
       "\n",
       "    .dataframe tbody tr th {\n",
       "        vertical-align: top;\n",
       "    }\n",
       "\n",
       "    .dataframe thead th {\n",
       "        text-align: right;\n",
       "    }\n",
       "</style>\n",
       "<table border=\"1\" class=\"dataframe\">\n",
       "  <thead>\n",
       "    <tr style=\"text-align: right;\">\n",
       "      <th></th>\n",
       "      <th>Codice Prodotto</th>\n",
       "      <th>Descrizione Breve Prodotto</th>\n",
       "      <th>Categoria</th>\n",
       "      <th>Prezzo</th>\n",
       "    </tr>\n",
       "  </thead>\n",
       "  <tbody>\n",
       "    <tr>\n",
       "      <th>0</th>\n",
       "      <td>A.02.35.0050</td>\n",
       "      <td>ATTREZZATURA PER INFISSIONE PALI PILOTI</td>\n",
       "      <td>NaN</td>\n",
       "      <td>NaN</td>\n",
       "    </tr>\n",
       "    <tr>\n",
       "      <th>1</th>\n",
       "      <td>A.02.35.0050.010</td>\n",
       "      <td>Attrezzatura per infissione pali piloti.</td>\n",
       "      <td>Noli e trasporti</td>\n",
       "      <td>109.09</td>\n",
       "    </tr>\n",
       "    <tr>\n",
       "      <th>2</th>\n",
       "      <td>A.02.40</td>\n",
       "      <td>ATTREZZATURE SPECIALI</td>\n",
       "      <td>NaN</td>\n",
       "      <td>NaN</td>\n",
       "    </tr>\n",
       "    <tr>\n",
       "      <th>3</th>\n",
       "      <td>A.02.40.0010</td>\n",
       "      <td>POMPA COMPLETA DI MOTORE</td>\n",
       "      <td>NaN</td>\n",
       "      <td>NaN</td>\n",
       "    </tr>\n",
       "    <tr>\n",
       "      <th>4</th>\n",
       "      <td>A.02.40.0010.010</td>\n",
       "      <td>fino a mm 50.</td>\n",
       "      <td>Noli e trasporti</td>\n",
       "      <td>2.21</td>\n",
       "    </tr>\n",
       "    <tr>\n",
       "      <th>5</th>\n",
       "      <td>A.02.40.0010.020</td>\n",
       "      <td>oltre mm 50 fino a mm 100.</td>\n",
       "      <td>Noli e trasporti</td>\n",
       "      <td>3.36</td>\n",
       "    </tr>\n",
       "    <tr>\n",
       "      <th>6</th>\n",
       "      <td>A.02.40.0010.030</td>\n",
       "      <td>oltre mm 100 fino a mm 150.</td>\n",
       "      <td>Noli e trasporti</td>\n",
       "      <td>4.42</td>\n",
       "    </tr>\n",
       "    <tr>\n",
       "      <th>7</th>\n",
       "      <td>A.02.40.0010.040</td>\n",
       "      <td>oltre mm 150 fino a mm 200.</td>\n",
       "      <td>Noli e trasporti</td>\n",
       "      <td>5.63</td>\n",
       "    </tr>\n",
       "    <tr>\n",
       "      <th>8</th>\n",
       "      <td>A.02.40.0010.050</td>\n",
       "      <td>oltre mm 200.</td>\n",
       "      <td>Noli e trasporti</td>\n",
       "      <td>6.84</td>\n",
       "    </tr>\n",
       "    <tr>\n",
       "      <th>9</th>\n",
       "      <td>A.02.40.0020</td>\n",
       "      <td>GRUPPO ELETTROGENO</td>\n",
       "      <td>NaN</td>\n",
       "      <td>NaN</td>\n",
       "    </tr>\n",
       "    <tr>\n",
       "      <th>10</th>\n",
       "      <td>A.02.40.0020.010</td>\n",
       "      <td>fino a 10 KW</td>\n",
       "      <td>Noli e trasporti</td>\n",
       "      <td>8.77</td>\n",
       "    </tr>\n",
       "    <tr>\n",
       "      <th>11</th>\n",
       "      <td>A.02.40.0020.020</td>\n",
       "      <td>oltre 10 fino a 13 KW</td>\n",
       "      <td>Noli e trasporti</td>\n",
       "      <td>9.94</td>\n",
       "    </tr>\n",
       "    <tr>\n",
       "      <th>12</th>\n",
       "      <td>A.02.40.0020.030</td>\n",
       "      <td>oltre 13 fino a 20 KW</td>\n",
       "      <td>Noli e trasporti</td>\n",
       "      <td>14.66</td>\n",
       "    </tr>\n",
       "    <tr>\n",
       "      <th>13</th>\n",
       "      <td>A.02.40.0020.040</td>\n",
       "      <td>oltre 20 fino a 28 KW</td>\n",
       "      <td>Noli e trasporti</td>\n",
       "      <td>15.62</td>\n",
       "    </tr>\n",
       "    <tr>\n",
       "      <th>14</th>\n",
       "      <td>A.02.40.0020.050</td>\n",
       "      <td>oltre 28 fino a 36 KW</td>\n",
       "      <td>Noli e trasporti</td>\n",
       "      <td>16.40</td>\n",
       "    </tr>\n",
       "    <tr>\n",
       "      <th>15</th>\n",
       "      <td>A.02.40.0020.060</td>\n",
       "      <td>oltre 36 fino a 56 KW</td>\n",
       "      <td>Noli e trasporti</td>\n",
       "      <td>28.53</td>\n",
       "    </tr>\n",
       "    <tr>\n",
       "      <th>16</th>\n",
       "      <td>A.02.40.0020.070</td>\n",
       "      <td>oltre 56 fino a 80 KW</td>\n",
       "      <td>Noli e trasporti</td>\n",
       "      <td>44.06</td>\n",
       "    </tr>\n",
       "    <tr>\n",
       "      <th>17</th>\n",
       "      <td>A.02.40.0020.080</td>\n",
       "      <td>oltre 80 fino a 100 KW</td>\n",
       "      <td>Noli e trasporti</td>\n",
       "      <td>50.86</td>\n",
       "    </tr>\n",
       "    <tr>\n",
       "      <th>18</th>\n",
       "      <td>A.02.40.0020.090</td>\n",
       "      <td>oltre 100 fino a 120 KW</td>\n",
       "      <td>Noli e trasporti</td>\n",
       "      <td>55.88</td>\n",
       "    </tr>\n",
       "    <tr>\n",
       "      <th>19</th>\n",
       "      <td>A.02.40.0020.100</td>\n",
       "      <td>oltre 120 fino a 156 KW</td>\n",
       "      <td>Noli e trasporti</td>\n",
       "      <td>80.47</td>\n",
       "    </tr>\n",
       "    <tr>\n",
       "      <th>20</th>\n",
       "      <td>A.02.40.0020.110</td>\n",
       "      <td>oltre 156 fino a 184 KW</td>\n",
       "      <td>Noli e trasporti</td>\n",
       "      <td>94.00</td>\n",
       "    </tr>\n",
       "    <tr>\n",
       "      <th>21</th>\n",
       "      <td>A.02.40.0030</td>\n",
       "      <td>NASTRO TRASPORTATORE CON MOTORE AD ARIA COMPRESSA</td>\n",
       "      <td>NaN</td>\n",
       "      <td>NaN</td>\n",
       "    </tr>\n",
       "  </tbody>\n",
       "</table>\n",
       "</div>"
      ],
      "text/plain": [
       "     Codice Prodotto                         Descrizione Breve Prodotto  \\\n",
       "0   A.02.35.0050      ATTREZZATURA PER INFISSIONE PALI PILOTI             \n",
       "1   A.02.35.0050.010  Attrezzatura per infissione pali piloti.            \n",
       "2   A.02.40           ATTREZZATURE SPECIALI                               \n",
       "3   A.02.40.0010      POMPA COMPLETA DI MOTORE                            \n",
       "4   A.02.40.0010.010  fino a mm 50.                                       \n",
       "5   A.02.40.0010.020  oltre mm 50 fino a mm 100.                          \n",
       "6   A.02.40.0010.030  oltre mm 100 fino a mm 150.                         \n",
       "7   A.02.40.0010.040  oltre mm 150 fino a mm 200.                         \n",
       "8   A.02.40.0010.050  oltre mm 200.                                       \n",
       "9   A.02.40.0020      GRUPPO ELETTROGENO                                  \n",
       "10  A.02.40.0020.010  fino a 10 KW                                        \n",
       "11  A.02.40.0020.020  oltre 10 fino a 13 KW                               \n",
       "12  A.02.40.0020.030  oltre 13 fino a 20 KW                               \n",
       "13  A.02.40.0020.040  oltre 20 fino a 28 KW                               \n",
       "14  A.02.40.0020.050  oltre 28 fino a 36 KW                               \n",
       "15  A.02.40.0020.060  oltre 36 fino a 56 KW                               \n",
       "16  A.02.40.0020.070  oltre 56 fino a 80 KW                               \n",
       "17  A.02.40.0020.080  oltre 80 fino a 100 KW                              \n",
       "18  A.02.40.0020.090  oltre 100 fino a 120 KW                             \n",
       "19  A.02.40.0020.100  oltre 120 fino a 156 KW                             \n",
       "20  A.02.40.0020.110  oltre 156 fino a 184 KW                             \n",
       "21  A.02.40.0030      NASTRO TRASPORTATORE CON MOTORE AD ARIA COMPRESSA   \n",
       "\n",
       "           Categoria  Prezzo  \n",
       "0   NaN               NaN     \n",
       "1   Noli e trasporti  109.09  \n",
       "2   NaN               NaN     \n",
       "3   NaN               NaN     \n",
       "4   Noli e trasporti  2.21    \n",
       "5   Noli e trasporti  3.36    \n",
       "6   Noli e trasporti  4.42    \n",
       "7   Noli e trasporti  5.63    \n",
       "8   Noli e trasporti  6.84    \n",
       "9   NaN               NaN     \n",
       "10  Noli e trasporti  8.77    \n",
       "11  Noli e trasporti  9.94    \n",
       "12  Noli e trasporti  14.66   \n",
       "13  Noli e trasporti  15.62   \n",
       "14  Noli e trasporti  16.40   \n",
       "15  Noli e trasporti  28.53   \n",
       "16  Noli e trasporti  44.06   \n",
       "17  Noli e trasporti  50.86   \n",
       "18  Noli e trasporti  55.88   \n",
       "19  Noli e trasporti  80.47   \n",
       "20  Noli e trasporti  94.00   \n",
       "21  NaN               NaN     "
      ]
     },
     "execution_count": 2,
     "metadata": {},
     "output_type": "execute_result"
    }
   ],
   "source": [
    "df = df[['Codice Prodotto', 'Descrizione Breve Prodotto', 'Categoria', 'Prezzo']]\n",
    "df[:22]"
   ]
  },
  {
   "cell_type": "markdown",
   "metadata": {},
   "source": [
    "### Pompa completa a motore Example\n",
    "\n",
    "If we look at the dataset, in some cases we can spot a pattern like the following (rows 3 to 8 included):"
   ]
  },
  {
   "cell_type": "code",
   "execution_count": 3,
   "metadata": {},
   "outputs": [
    {
     "data": {
      "text/html": [
       "<div>\n",
       "<style scoped>\n",
       "    .dataframe tbody tr th:only-of-type {\n",
       "        vertical-align: middle;\n",
       "    }\n",
       "\n",
       "    .dataframe tbody tr th {\n",
       "        vertical-align: top;\n",
       "    }\n",
       "\n",
       "    .dataframe thead th {\n",
       "        text-align: right;\n",
       "    }\n",
       "</style>\n",
       "<table border=\"1\" class=\"dataframe\">\n",
       "  <thead>\n",
       "    <tr style=\"text-align: right;\">\n",
       "      <th></th>\n",
       "      <th>Codice Prodotto</th>\n",
       "      <th>Descrizione Breve Prodotto</th>\n",
       "      <th>Categoria</th>\n",
       "      <th>Prezzo</th>\n",
       "    </tr>\n",
       "  </thead>\n",
       "  <tbody>\n",
       "    <tr>\n",
       "      <th>3</th>\n",
       "      <td>A.02.40.0010</td>\n",
       "      <td>POMPA COMPLETA DI MOTORE</td>\n",
       "      <td>NaN</td>\n",
       "      <td>NaN</td>\n",
       "    </tr>\n",
       "    <tr>\n",
       "      <th>4</th>\n",
       "      <td>A.02.40.0010.010</td>\n",
       "      <td>fino a mm 50.</td>\n",
       "      <td>Noli e trasporti</td>\n",
       "      <td>2.21</td>\n",
       "    </tr>\n",
       "    <tr>\n",
       "      <th>5</th>\n",
       "      <td>A.02.40.0010.020</td>\n",
       "      <td>oltre mm 50 fino a mm 100.</td>\n",
       "      <td>Noli e trasporti</td>\n",
       "      <td>3.36</td>\n",
       "    </tr>\n",
       "    <tr>\n",
       "      <th>6</th>\n",
       "      <td>A.02.40.0010.030</td>\n",
       "      <td>oltre mm 100 fino a mm 150.</td>\n",
       "      <td>Noli e trasporti</td>\n",
       "      <td>4.42</td>\n",
       "    </tr>\n",
       "    <tr>\n",
       "      <th>7</th>\n",
       "      <td>A.02.40.0010.040</td>\n",
       "      <td>oltre mm 150 fino a mm 200.</td>\n",
       "      <td>Noli e trasporti</td>\n",
       "      <td>5.63</td>\n",
       "    </tr>\n",
       "    <tr>\n",
       "      <th>8</th>\n",
       "      <td>A.02.40.0010.050</td>\n",
       "      <td>oltre mm 200.</td>\n",
       "      <td>Noli e trasporti</td>\n",
       "      <td>6.84</td>\n",
       "    </tr>\n",
       "    <tr>\n",
       "      <th>9</th>\n",
       "      <td>A.02.40.0020</td>\n",
       "      <td>GRUPPO ELETTROGENO</td>\n",
       "      <td>NaN</td>\n",
       "      <td>NaN</td>\n",
       "    </tr>\n",
       "    <tr>\n",
       "      <th>10</th>\n",
       "      <td>A.02.40.0020.010</td>\n",
       "      <td>fino a 10 KW</td>\n",
       "      <td>Noli e trasporti</td>\n",
       "      <td>8.77</td>\n",
       "    </tr>\n",
       "    <tr>\n",
       "      <th>11</th>\n",
       "      <td>A.02.40.0020.020</td>\n",
       "      <td>oltre 10 fino a 13 KW</td>\n",
       "      <td>Noli e trasporti</td>\n",
       "      <td>9.94</td>\n",
       "    </tr>\n",
       "  </tbody>\n",
       "</table>\n",
       "</div>"
      ],
      "text/plain": [
       "     Codice Prodotto   Descrizione Breve Prodotto         Categoria Prezzo\n",
       "3   A.02.40.0010      POMPA COMPLETA DI MOTORE     NaN               NaN  \n",
       "4   A.02.40.0010.010  fino a mm 50.                Noli e trasporti  2.21 \n",
       "5   A.02.40.0010.020  oltre mm 50 fino a mm 100.   Noli e trasporti  3.36 \n",
       "6   A.02.40.0010.030  oltre mm 100 fino a mm 150.  Noli e trasporti  4.42 \n",
       "7   A.02.40.0010.040  oltre mm 150 fino a mm 200.  Noli e trasporti  5.63 \n",
       "8   A.02.40.0010.050  oltre mm 200.                Noli e trasporti  6.84 \n",
       "9   A.02.40.0020      GRUPPO ELETTROGENO           NaN               NaN  \n",
       "10  A.02.40.0020.010  fino a 10 KW                 Noli e trasporti  8.77 \n",
       "11  A.02.40.0020.020  oltre 10 fino a 13 KW        Noli e trasporti  9.94 "
      ]
     },
     "execution_count": 3,
     "metadata": {},
     "output_type": "execute_result"
    }
   ],
   "source": [
    "df[3:12]"
   ]
  },
  {
   "cell_type": "markdown",
   "metadata": {},
   "source": [
    "We see the first column holds product codes. If two rows share a code prefix, they belong to the same product type. As an example, we can take product `A.02.40.0010`, which has `'POMPA COMPLETA A MOTORE'` as description ('Descrizione Breve Prodotto' column). The first row is basically telling us the product type, while the following rows are specifying several products of the same type (notice they all share the `A.02.40.0010` prefix code until `'GRUPPO ELETTROGENO'` excluded). Each description specifies a range of values for that product: _fino a_ means _until to_ , and _oltre_ means _beyond_.\n",
    "\n",
    "Notice that:\n",
    "\n",
    "- first row has only one number\n",
    "- intermediate rows have two numbers\n",
    "- last row of the product series (row 8) has only one number and contains the word _oltre_ ( _beyond_ )\n",
    "  (in some other cases, last row of product series may have two numbers)"
   ]
  },
  {
   "cell_type": "markdown",
   "metadata": {},
   "source": [
    "## A1 extract_bounds\n",
    "\n",
    "Write a function that given a Descrizione Breve Prodotto **as a single string** extracts the range contained within as a tuple.\n",
    "\n",
    "If the string contains only one number `n`:\n",
    "\n",
    "- if it contains `UNTIL` ( 'fino' ) it is considered a first row with bounds `(0,n)`\n",
    "- if it contains `BEYOND` ( 'oltre' ) it is considered a last row with bounds `(n, math.inf)`\n",
    "\n",
    "**DO NOT** use constants like measure units 'mm', 'KW', etc in the code"
   ]
  },
  {
   "cell_type": "raw",
   "id": "d2ea950f",
   "metadata": {
    "format": "text/html"
   },
   "source": [
    "<a  class=\"jupman-sol jupman-sol-toggler\" \n",
    " onclick=\"jupman.toggleSolution(this);\" \n",
    " data-jupman-show=\"Show solution\" data-jupman-hide=\"Hide\">Show solution</a><div class=\"jupman-sol jupman-sol-code\" style=\"display:none\">  "
   ]
  },
  {
   "cell_type": "code",
   "execution_count": 4,
   "metadata": {},
   "outputs": [],
   "source": [
    "import math \n",
    "\n",
    "\n",
    "#use this list to rmeove unneeded stuff\n",
    "PUNCTUATION=[',','-','.','%']\n",
    "UNTIL = 'fino'\n",
    "BEYOND = 'oltre'\n",
    "\n",
    "def extract_bounds(text):\n",
    "    \n",
    "   \n",
    "    \n",
    "    fixed_text = text\n",
    "    for pun in PUNCTUATION:\n",
    "        fixed_text = fixed_text.replace(pun, ' ')\n",
    "    words = fixed_text.split()\n",
    "    i = 0\n",
    "    left = None\n",
    "    right = None\n",
    "    \n",
    "    while i < len(words) and (not left or not right):        \n",
    "        \n",
    "        if words[i].isdigit():            \n",
    "            if not left:\n",
    "                left = int(words[i])\n",
    "            elif not right:\n",
    "                right = int(words[i])\n",
    "        i += 1\n",
    "        \n",
    "    if not right:\n",
    "        if BEYOND in text:\n",
    "            right = math.inf\n",
    "        else:\n",
    "            right = left\n",
    "            left = 0            \n",
    "        \n",
    "    return (left,right)    \n",
    "    \n",
    "\n",
    "assert extract_bounds('fino a mm 50.') == (0,50)\n",
    "assert extract_bounds('oltre mm 50 fino a mm 100.') == (50,100)\n",
    "assert extract_bounds('oltre mm 200.') == (200, math.inf)\n",
    "assert extract_bounds('da diametro 63 mm a diametro 127 mm') == (63, 127)\n",
    "assert extract_bounds('fino a 10 KW') ==  (0,10)\n",
    "assert extract_bounds('oltre 156 fino a 184 KW') ==  (156,184)\n",
    "assert extract_bounds('fino a 170 A, avviamento elettrico') == (0,170)\n",
    "assert extract_bounds('oltre 170 A fino a 250 A, avviamento elettrico') == (170, 250)\n",
    "assert extract_bounds('oltre 300 A, avviamento elettrico')  == (300, math.inf)\n",
    "assert extract_bounds('tetti piani o con bassa pendenza - fino al 10%') == (0,10)\n",
    "assert extract_bounds('tetti a media pendenza - oltre al 10% e fino al 45%') == (10,45)\n",
    "assert extract_bounds('tetti ad alta pendenza - oltre al 45%') == (45, math.inf)"
   ]
  },
  {
   "cell_type": "raw",
   "id": "7419af5f",
   "metadata": {
    "format": "text/html"
   },
   "source": [
    "</div>"
   ]
  },
  {
   "cell_type": "code",
   "execution_count": 4,
   "metadata": {},
   "outputs": [],
   "source": [
    "import math \n",
    "\n",
    "\n",
    "#use this list to rmeove unneeded stuff\n",
    "PUNCTUATION=[',','-','.','%']\n",
    "UNTIL = 'fino'\n",
    "BEYOND = 'oltre'\n",
    "\n",
    "def extract_bounds(text):\n",
    "    raise Exception('TODO IMPLEMENT ME !')\n",
    "\n",
    "assert extract_bounds('fino a mm 50.') == (0,50)\n",
    "assert extract_bounds('oltre mm 50 fino a mm 100.') == (50,100)\n",
    "assert extract_bounds('oltre mm 200.') == (200, math.inf)\n",
    "assert extract_bounds('da diametro 63 mm a diametro 127 mm') == (63, 127)\n",
    "assert extract_bounds('fino a 10 KW') ==  (0,10)\n",
    "assert extract_bounds('oltre 156 fino a 184 KW') ==  (156,184)\n",
    "assert extract_bounds('fino a 170 A, avviamento elettrico') == (0,170)\n",
    "assert extract_bounds('oltre 170 A fino a 250 A, avviamento elettrico') == (170, 250)\n",
    "assert extract_bounds('oltre 300 A, avviamento elettrico')  == (300, math.inf)\n",
    "assert extract_bounds('tetti piani o con bassa pendenza - fino al 10%') == (0,10)\n",
    "assert extract_bounds('tetti a media pendenza - oltre al 10% e fino al 45%') == (10,45)\n",
    "assert extract_bounds('tetti ad alta pendenza - oltre al 45%') == (45, math.inf)"
   ]
  },
  {
   "cell_type": "markdown",
   "metadata": {},
   "source": [
    "## A2 extract_product\n",
    "\n",
    "Write a function that given a `filename`, a `code` and a `unit`, parses the csv until it finds the corresponding code and RETURNS **one** dictionary with relevant information for that product\n",
    "\n",
    "- _Prezzo_ ( _price_ ) **must be converted to float**\n",
    "- **implement the parsing with a** `csv.DictReader`, [see example](https://sciprog.davidleoni.it/formats/formats-sol.html#Reading-as-dictionaries)\n",
    "- **as encoding, use** `latin-1`\n",
    "\n"
   ]
  },
  {
   "cell_type": "code",
   "execution_count": 5,
   "metadata": {},
   "outputs": [
    {
     "data": {
      "text/html": [
       "<div>\n",
       "<style scoped>\n",
       "    .dataframe tbody tr th:only-of-type {\n",
       "        vertical-align: middle;\n",
       "    }\n",
       "\n",
       "    .dataframe tbody tr th {\n",
       "        vertical-align: top;\n",
       "    }\n",
       "\n",
       "    .dataframe thead th {\n",
       "        text-align: right;\n",
       "    }\n",
       "</style>\n",
       "<table border=\"1\" class=\"dataframe\">\n",
       "  <thead>\n",
       "    <tr style=\"text-align: right;\">\n",
       "      <th></th>\n",
       "      <th>Codice Prodotto</th>\n",
       "      <th>Descrizione Breve Prodotto</th>\n",
       "      <th>Categoria</th>\n",
       "      <th>Prezzo</th>\n",
       "    </tr>\n",
       "  </thead>\n",
       "  <tbody>\n",
       "    <tr>\n",
       "      <th>3</th>\n",
       "      <td>A.02.40.0010</td>\n",
       "      <td>POMPA COMPLETA DI MOTORE</td>\n",
       "      <td>NaN</td>\n",
       "      <td>NaN</td>\n",
       "    </tr>\n",
       "    <tr>\n",
       "      <th>4</th>\n",
       "      <td>A.02.40.0010.010</td>\n",
       "      <td>fino a mm 50.</td>\n",
       "      <td>Noli e trasporti</td>\n",
       "      <td>2.21</td>\n",
       "    </tr>\n",
       "    <tr>\n",
       "      <th>5</th>\n",
       "      <td>A.02.40.0010.020</td>\n",
       "      <td>oltre mm 50 fino a mm 100.</td>\n",
       "      <td>Noli e trasporti</td>\n",
       "      <td>3.36</td>\n",
       "    </tr>\n",
       "    <tr>\n",
       "      <th>6</th>\n",
       "      <td>A.02.40.0010.030</td>\n",
       "      <td>oltre mm 100 fino a mm 150.</td>\n",
       "      <td>Noli e trasporti</td>\n",
       "      <td>4.42</td>\n",
       "    </tr>\n",
       "    <tr>\n",
       "      <th>7</th>\n",
       "      <td>A.02.40.0010.040</td>\n",
       "      <td>oltre mm 150 fino a mm 200.</td>\n",
       "      <td>Noli e trasporti</td>\n",
       "      <td>5.63</td>\n",
       "    </tr>\n",
       "    <tr>\n",
       "      <th>8</th>\n",
       "      <td>A.02.40.0010.050</td>\n",
       "      <td>oltre mm 200.</td>\n",
       "      <td>Noli e trasporti</td>\n",
       "      <td>6.84</td>\n",
       "    </tr>\n",
       "    <tr>\n",
       "      <th>9</th>\n",
       "      <td>A.02.40.0020</td>\n",
       "      <td>GRUPPO ELETTROGENO</td>\n",
       "      <td>NaN</td>\n",
       "      <td>NaN</td>\n",
       "    </tr>\n",
       "    <tr>\n",
       "      <th>10</th>\n",
       "      <td>A.02.40.0020.010</td>\n",
       "      <td>fino a 10 KW</td>\n",
       "      <td>Noli e trasporti</td>\n",
       "      <td>8.77</td>\n",
       "    </tr>\n",
       "    <tr>\n",
       "      <th>11</th>\n",
       "      <td>A.02.40.0020.020</td>\n",
       "      <td>oltre 10 fino a 13 KW</td>\n",
       "      <td>Noli e trasporti</td>\n",
       "      <td>9.94</td>\n",
       "    </tr>\n",
       "  </tbody>\n",
       "</table>\n",
       "</div>"
      ],
      "text/plain": [
       "     Codice Prodotto   Descrizione Breve Prodotto         Categoria Prezzo\n",
       "3   A.02.40.0010      POMPA COMPLETA DI MOTORE     NaN               NaN  \n",
       "4   A.02.40.0010.010  fino a mm 50.                Noli e trasporti  2.21 \n",
       "5   A.02.40.0010.020  oltre mm 50 fino a mm 100.   Noli e trasporti  3.36 \n",
       "6   A.02.40.0010.030  oltre mm 100 fino a mm 150.  Noli e trasporti  4.42 \n",
       "7   A.02.40.0010.040  oltre mm 150 fino a mm 200.  Noli e trasporti  5.63 \n",
       "8   A.02.40.0010.050  oltre mm 200.                Noli e trasporti  6.84 \n",
       "9   A.02.40.0020      GRUPPO ELETTROGENO           NaN               NaN  \n",
       "10  A.02.40.0020.010  fino a 10 KW                 Noli e trasporti  8.77 \n",
       "11  A.02.40.0020.020  oltre 10 fino a 13 KW        Noli e trasporti  9.94 "
      ]
     },
     "execution_count": 5,
     "metadata": {},
     "output_type": "execute_result"
    }
   ],
   "source": [
    "# Suppose we want to get all info about A.02.40.0010 prefix:\n",
    "df[3:12]"
   ]
  },
  {
   "cell_type": "markdown",
   "metadata": {},
   "source": [
    "A call to \n",
    "\n",
    "```python\n",
    "pprint(extract_product('EPPAT-2018-new-compact.csv', 'A.02.40.0010', 'mm'))\n",
    "```\n",
    "\n",
    "Must produce: \n",
    "    \n",
    "```python\n",
    "{'category': 'Noli e trasporti',\n",
    " 'code': 'A.02.40.0010',\n",
    " 'description': 'POMPA COMPLETA DI MOTORE',\n",
    " 'measure_unit': 'mm',\n",
    " 'models': [{'bounds': (0, 50),        'price': 2.21, 'subcode': '010'},\n",
    "            {'bounds': (50, 100),      'price': 3.36, 'subcode': '020'},\n",
    "            {'bounds': (100, 150),     'price': 4.42, 'subcode': '030'},\n",
    "            {'bounds': (150, 200),     'price': 5.63, 'subcode': '040'},\n",
    "            {'bounds': (200, math.inf),'price': 6.84, 'subcode': '050'}]}\n",
    "```\n",
    "\n",
    "Notice that if we append `subcode` to `code` (with a dot) we obtain the full product code."
   ]
  },
  {
   "cell_type": "raw",
   "id": "f915c5f5",
   "metadata": {
    "format": "text/html"
   },
   "source": [
    "<a  class=\"jupman-sol jupman-sol-toggler\" \n",
    " onclick=\"jupman.toggleSolution(this);\" \n",
    " data-jupman-show=\"Show solution\" data-jupman-hide=\"Hide\">Show solution</a><div class=\"jupman-sol jupman-sol-code\" style=\"display:none\">  "
   ]
  },
  {
   "cell_type": "code",
   "execution_count": 6,
   "metadata": {},
   "outputs": [
    {
     "name": "stdout",
     "output_type": "stream",
     "text": [
      "{'category': 'Noli e trasporti',\n",
      " 'code': 'A.02.40.0010',\n",
      " 'description': 'POMPA COMPLETA DI MOTORE',\n",
      " 'measure_unit': 'mm',\n",
      " 'models': [{'bounds': (0, 50), 'price': 2.21, 'subcode': '010'},\n",
      "            {'bounds': (50, 100), 'price': 3.36, 'subcode': '020'},\n",
      "            {'bounds': (100, 150), 'price': 4.42, 'subcode': '030'},\n",
      "            {'bounds': (150, 200), 'price': 5.63, 'subcode': '040'},\n",
      "            {'bounds': (200, inf), 'price': 6.84, 'subcode': '050'}]}\n"
     ]
    }
   ],
   "source": [
    "import csv\n",
    "from pprint import pprint\n",
    "\n",
    "def extract_product(filename, code, measure_unit): \n",
    "    \n",
    "    \n",
    "    c = 0\n",
    "    with open(filename, encoding='latin-1', newline='') as f:    \n",
    "        my_reader = csv.DictReader(f, delimiter=',')   # Notice we now used DictReader\n",
    "        for d in my_reader:            \n",
    "            \n",
    "            if d['Codice Prodotto'] == code:\n",
    "                ret = {}            \n",
    "                ret['description'] = d['Descrizione Breve Prodotto']\n",
    "                ret['code'] = code\n",
    "                ret['measure_unit'] = measure_unit\n",
    "                ret['models'] = []\n",
    "                \n",
    "            if d['Codice Prodotto'].startswith(code + '.'):                                \n",
    "                ret['category'] = d['Categoria']\n",
    "                subdiz = {}\n",
    "                subdiz['price'] = float(d['Prezzo'])\n",
    "                subdiz['subcode'] = d['Codice Prodotto'][len(code)+1:]\n",
    "                subdiz['bounds'] = extract_bounds(d['Descrizione Breve Prodotto'])                \n",
    "                ret['models'].append(subdiz)\n",
    "                \n",
    "    return ret\n",
    "    \n",
    "\n",
    "pprint(extract_product('EPPAT-2018-new-compact.csv', 'A.02.40.0010', 'mm'))\n",
    "assert extract_product('EPPAT-2018-new-compact.csv', 'A.02.40.0010', 'mm') == \\\n",
    "    {'category': 'Noli e trasporti',\n",
    "     'code': 'A.02.40.0010',\n",
    "     'description': 'POMPA COMPLETA DI MOTORE',\n",
    "     'measure_unit': 'mm',\n",
    "     'models': [{'bounds': (0, 50),        'price': 2.21, 'subcode': '010'},\n",
    "                {'bounds': (50, 100),      'price': 3.36, 'subcode': '020'},\n",
    "                {'bounds': (100, 150),     'price': 4.42, 'subcode': '030'},\n",
    "                {'bounds': (150, 200),     'price': 5.63, 'subcode': '040'},\n",
    "                {'bounds': (200, math.inf),'price': 6.84, 'subcode': '050'}]}\n",
    "\n",
    "#pprint(extract_product('EPPAT-2018-new-compact.csv', 'A.02.40.0020', 'KW'))\n",
    "#pprint(extract_product('EPPAT-2018-new-compact.csv', 'B.02.10.0042', 'mm'))\n",
    "#pprint(extract_product('EPPAT-2018-new-compact.csv','B.30.10.0010', '%'))"
   ]
  },
  {
   "cell_type": "raw",
   "id": "706f280f",
   "metadata": {
    "format": "text/html"
   },
   "source": [
    "</div>"
   ]
  },
  {
   "cell_type": "code",
   "execution_count": 6,
   "metadata": {},
   "outputs": [
    {
     "name": "stdout",
     "output_type": "stream",
     "text": [
      "{'category': 'Noli e trasporti',\n",
      " 'code': 'A.02.40.0010',\n",
      " 'description': 'POMPA COMPLETA DI MOTORE',\n",
      " 'measure_unit': 'mm',\n",
      " 'models': [{'bounds': (0, 50), 'price': 2.21, 'subcode': '010'},\n",
      "            {'bounds': (50, 100), 'price': 3.36, 'subcode': '020'},\n",
      "            {'bounds': (100, 150), 'price': 4.42, 'subcode': '030'},\n",
      "            {'bounds': (150, 200), 'price': 5.63, 'subcode': '040'},\n",
      "            {'bounds': (200, inf), 'price': 6.84, 'subcode': '050'}]}\n"
     ]
    }
   ],
   "source": [
    "import csv\n",
    "from pprint import pprint\n",
    "\n",
    "def extract_product(filename, code, measure_unit): \n",
    "    raise Exception('TODO IMPLEMENT ME !')\n",
    "\n",
    "pprint(extract_product('EPPAT-2018-new-compact.csv', 'A.02.40.0010', 'mm'))\n",
    "assert extract_product('EPPAT-2018-new-compact.csv', 'A.02.40.0010', 'mm') == \\\n",
    "    {'category': 'Noli e trasporti',\n",
    "     'code': 'A.02.40.0010',\n",
    "     'description': 'POMPA COMPLETA DI MOTORE',\n",
    "     'measure_unit': 'mm',\n",
    "     'models': [{'bounds': (0, 50),        'price': 2.21, 'subcode': '010'},\n",
    "                {'bounds': (50, 100),      'price': 3.36, 'subcode': '020'},\n",
    "                {'bounds': (100, 150),     'price': 4.42, 'subcode': '030'},\n",
    "                {'bounds': (150, 200),     'price': 5.63, 'subcode': '040'},\n",
    "                {'bounds': (200, math.inf),'price': 6.84, 'subcode': '050'}]}\n",
    "\n",
    "#pprint(extract_product('EPPAT-2018-new-compact.csv', 'A.02.40.0020', 'KW'))\n",
    "#pprint(extract_product('EPPAT-2018-new-compact.csv', 'B.02.10.0042', 'mm'))\n",
    "#pprint(extract_product('EPPAT-2018-new-compact.csv','B.30.10.0010', '%'))"
   ]
  },
  {
   "cell_type": "markdown",
   "metadata": {},
   "source": [
    "## A3 plot_product\n",
    "\n",
    "Implement following function that takes a dictionary as output by previous `extract_product` and shows its price ranges.\n",
    "\n",
    "- pay attention to display title and axis labels as shown, using input data and **not** constants.\n",
    "- in case last range holds a `math.inf`, show a `>` sign\n",
    "- **if you don't have a working** `extract_product`, **just copy paste data from previous asserts**."
   ]
  },
  {
   "cell_type": "raw",
   "id": "e5c731f0",
   "metadata": {
    "format": "text/html"
   },
   "source": [
    "<a  class=\"jupman-sol jupman-sol-toggler\" \n",
    " onclick=\"jupman.toggleSolution(this);\" \n",
    " data-jupman-show=\"Show solution\" data-jupman-hide=\"Hide\">Show solution</a><div class=\"jupman-sol jupman-sol-code\" style=\"display:none\">  "
   ]
  },
  {
   "cell_type": "code",
   "execution_count": 7,
   "metadata": {},
   "outputs": [
    {
     "data": {
      "image/png": "[encoded data removed]",
      "text/plain": [
       "<Figure size 792x576 with 1 Axes>"
      ]
     },
     "metadata": {},
     "output_type": "display_data"
    }
   ],
   "source": [
    "%matplotlib inline\n",
    "\n",
    "import numpy as np\n",
    "import matplotlib.pyplot as plt\n",
    "    \n",
    "def plot_product(product):\n",
    "    \n",
    "    \n",
    "    models = product['models']\n",
    "    xs = np.arange(len(models))\n",
    "    ys = [ model[\"price\"] for model in models]\n",
    "    \n",
    "\n",
    "    plt.bar(xs, ys, 0.5, align='center')\n",
    "\n",
    "    plt.title('%s  (%s) SOLUTION' % (product['description'], product['code']) )\n",
    "    \n",
    "    ticks = []\n",
    "    for model in models:\n",
    "        bounds = model[\"bounds\"]\n",
    "        if bounds[1] == math.inf:\n",
    "            ticks.append('>%s' % bounds[0])\n",
    "        else:\n",
    "            ticks.append('%s - %s' % (bounds[0], bounds[1]))                \n",
    "\n",
    "    plt.xticks(xs, ticks)\n",
    "    plt.gcf().set_size_inches(11,8)    \n",
    "    plt.xlabel(product['measure_unit'])\n",
    "    plt.ylabel('Price (€)')    \n",
    "    \n",
    "    plt.savefig('pompa-a-motore-solution.png')\n",
    "    plt.show()\n",
    "    \n",
    "\n",
    "\n",
    "product = extract_product('EPPAT-2018-new-compact.csv', 'A.02.40.0010', 'mm')\n",
    "#product = extract_product('EPPAT-2018-new-compact.csv', 'A.02.40.0020', 'KW')\n",
    "#product = extract_product('EPPAT-2018-new-compact.csv', 'B.02.10.0042', 'mm')\n",
    "#product = extract_product('EPPAT-2018-new-compact.csv','B.30.10.0010', '%')\n",
    "\n",
    "plot_product(product)\n"
   ]
  },
  {
   "cell_type": "raw",
   "id": "131b6a86",
   "metadata": {
    "format": "text/html"
   },
   "source": [
    "</div>"
   ]
  },
  {
   "cell_type": "code",
   "execution_count": 7,
   "metadata": {},
   "outputs": [
    {
     "data": {
      "image/png": "[encoded data removed]",
      "text/plain": [
       "<Figure size 792x576 with 1 Axes>"
      ]
     },
     "metadata": {},
     "output_type": "display_data"
    }
   ],
   "source": [
    "%matplotlib inline\n",
    "\n",
    "import numpy as np\n",
    "import matplotlib.pyplot as plt\n",
    "    \n",
    "def plot_product(product):\n",
    "    raise Exception('TODO IMPLEMENT ME !')\n",
    "\n",
    "\n",
    "product = extract_product('EPPAT-2018-new-compact.csv', 'A.02.40.0010', 'mm')\n",
    "#product = extract_product('EPPAT-2018-new-compact.csv', 'A.02.40.0020', 'KW')\n",
    "#product = extract_product('EPPAT-2018-new-compact.csv', 'B.02.10.0042', 'mm')\n",
    "#product = extract_product('EPPAT-2018-new-compact.csv','B.30.10.0010', '%')\n",
    "\n",
    "plot_product(product)\n"
   ]
  },
  {
   "cell_type": "markdown",
   "metadata": {},
   "source": [
    "![](pompa-a-motore-solution.png)"
   ]
  },
  {
   "cell_type": "markdown",
   "metadata": {},
   "source": [
    "## Part B"
   ]
  },
  {
   "cell_type": "markdown",
   "metadata": {},
   "source": [
    "## B1 Theory\n",
    "\n",
    "**Write the solution in separate `theory.txt` file**\n",
    "\n",
    "### B1.1 complexity\n",
    "\n",
    "Given a list `L` of `n` elements, please compute the asymptotic computational complexity of the following function, explaining your reasoning.\n",
    "\n",
    "```python\n",
    "def my_fun(L):\n",
    "    n = len(L)\n",
    "    tmp = []\n",
    "    for i in range(int(n)):\n",
    "        tmp.insert(0,L[i]-L[int(n/3)])\n",
    "    return sum(tmp)\n",
    "```\n",
    "\n",
    "### B1.2 describe\n",
    "\n",
    "Briefly describe what a graph is and the two classic ways that can be used to represent it as a data structure."
   ]
  },
  {
   "cell_type": "markdown",
   "metadata": {},
   "source": [
    "## B2 couple_sort\n",
    "\n",
    "**Open a text editor** and edit file `linked_list.py`. Implement this method:"
   ]
  },
  {
   "cell_type": "markdown",
   "metadata": {},
   "source": [
    "```python\n",
    "def couple_sort(self):\n",
    "        \"\"\"MODIFIES the linked list by considering couples of nodes at *even* indexes\n",
    "           and their successors: if a node data is lower than its successor data, swaps \n",
    "           the nodes *data*.\n",
    "           \n",
    "           - ONLY swap *data*, DO NOT change node links.\n",
    "           - if linked list has odd size, simply ignore the exceeding node.           \n",
    "           - MUST execute in O(n), where n is the size of the list             \n",
    "        \"\"\"\n",
    "```\n",
    "\n",
    "**Testing**: `python3 -m unittest linked_list_Test.CoupleSortTest`\n",
    "\n",
    "**Example**:"
   ]
  },
  {
   "cell_type": "code",
   "execution_count": 8,
   "metadata": {},
   "outputs": [],
   "source": [
    "from linked_list_sol import *\n",
    "from linked_list_test import to_ll"
   ]
  },
  {
   "cell_type": "code",
   "execution_count": 9,
   "metadata": {},
   "outputs": [],
   "source": [
    "\n",
    "ll = to_ll([4,3,5,2,6,7,6,3,2,4,5,3,2])"
   ]
  },
  {
   "cell_type": "code",
   "execution_count": 10,
   "metadata": {},
   "outputs": [
    {
     "name": "stdout",
     "output_type": "stream",
     "text": [
      "LinkedList: 4,3,5,2,6,7,6,3,2,4,5,3,2\n"
     ]
    }
   ],
   "source": [
    "print(ll)"
   ]
  },
  {
   "cell_type": "code",
   "execution_count": 11,
   "metadata": {},
   "outputs": [],
   "source": [
    "ll.couple_sort()"
   ]
  },
  {
   "cell_type": "code",
   "execution_count": 12,
   "metadata": {},
   "outputs": [
    {
     "name": "stdout",
     "output_type": "stream",
     "text": [
      "LinkedList: 3,4,2,5,6,7,3,6,2,4,3,5,2\n"
     ]
    }
   ],
   "source": [
    "print(ll)"
   ]
  },
  {
   "cell_type": "markdown",
   "metadata": {},
   "source": [
    "Notice it sorted each couple at even positions. This particular linked list has odd size (13 items), so last item 2 was not considered."
   ]
  },
  {
   "cell_type": "markdown",
   "metadata": {},
   "source": [
    "## B3 schedule_rec\n",
    "\n",
    "Suppose the nodes of a binary tree represent tasks (nodes data is the task label). Each task may have up to two subtasks, represented by its children. To be declared as completed, each task requires first the completion of all of its subtasks.\n",
    "\n",
    "We want to create a schedule of tasks, so that to declare completed the task at the root of the tree, before all tasks below it must be  completed, specifically first the tasks on the left side, and then the tasks on the right side. If you apply this reasoning recursively, you can obtain a schedule of tasks to be executed.\n",
    "\n",
    "Open `bin_tree.py` and implement this method:\n",
    "\n",
    "```python\n",
    "    def schedule_rec(self):\n",
    "        \"\"\" RETURN a list of task labels in the order they will be completed.\n",
    "\n",
    "            - Implement it with recursive calls.\n",
    "            - MUST run in O(n) where n is the size of the tree\n",
    "            \n",
    "            NOTE: with big trees a recursive solution would surely\n",
    "                  exceed the call stack, but here we don't mind\n",
    "        \"\"\"\n",
    "```\n",
    "\n",
    "**Testing**: `python3 -m unittest bin_tree_test.ScheduleRecTest`"
   ]
  },
  {
   "cell_type": "markdown",
   "metadata": {},
   "source": [
    "**Example**:\n",
    "\n",
    "For this tree, it should return the schedule `['a', 'b', 'c', 'd', 'e', 'f', 'g', 'h', 'i']`\n",
    "\n",
    "![abc](img/bt-tasks.png)"
   ]
  },
  {
   "cell_type": "markdown",
   "metadata": {},
   "source": [
    "Here we show code execution with the same tree:"
   ]
  },
  {
   "cell_type": "code",
   "execution_count": 13,
   "metadata": {},
   "outputs": [],
   "source": [
    "from bin_tree_sol import *\n",
    "from bin_tree_test import bt"
   ]
  },
  {
   "cell_type": "code",
   "execution_count": 14,
   "metadata": {},
   "outputs": [],
   "source": [
    "tasks = bt('i',\n",
    "                bt('d', \n",
    "                        bt('b',\n",
    "                                bt('a')),\n",
    "                        bt('c')),\n",
    "                bt('h',\n",
    "                        bt('f',\n",
    "                                None,\n",
    "                                bt('e')),\n",
    "                        bt('g')))\n"
   ]
  },
  {
   "cell_type": "code",
   "execution_count": 15,
   "metadata": {},
   "outputs": [
    {
     "name": "stdout",
     "output_type": "stream",
     "text": [
      "i\n",
      "├d\n",
      "│├b\n",
      "││├a\n",
      "││└\n",
      "│└c\n",
      "└h\n",
      " ├f\n",
      " │├\n",
      " │└e\n",
      " └g\n"
     ]
    }
   ],
   "source": [
    "print(tasks)"
   ]
  },
  {
   "cell_type": "code",
   "execution_count": 16,
   "metadata": {
    "scrolled": true
   },
   "outputs": [
    {
     "data": {
      "text/plain": [
       "['a', 'b', 'c', 'd', 'e', 'f', 'g', 'h', 'i']"
      ]
     },
     "execution_count": 16,
     "metadata": {},
     "output_type": "execute_result"
    }
   ],
   "source": [
    "tasks.schedule_rec()"
   ]
  },
  {
   "cell_type": "code",
   "execution_count": 17,
   "metadata": {
    "nbsphinx": "hidden"
   },
   "outputs": [
    {
     "name": "stderr",
     "output_type": "stream",
     "text": [
      "............\n",
      "----------------------------------------------------------------------\n",
      "Ran 12 tests in 0.010s\n",
      "\n",
      "OK\n"
     ]
    }
   ],
   "source": [
    "import jupman\n",
    "import bin_tree_test\n",
    "\n",
    "jupman.run(bin_tree_test)"
   ]
  }
 ],
 "metadata": {
  "celltoolbar": "Edit Metadata",
  "kernelspec": {
   "display_name": "Python 3",
   "language": "python",
   "name": "python3"
  },
  "language_info": {
   "codemirror_mode": {
    "name": "ipython",
    "version": 3
   },
   "file_extension": ".py",
   "mimetype": "text/x-python",
   "name": "python",
   "nbconvert_exporter": "python",
   "pygments_lexer": "ipython3",
   "version": "3.5.2"
  },
  "toc": {
   "base_numbering": 1,
   "nav_menu": {},
   "number_sections": false,
   "sideBar": true,
   "skip_h1_title": false,
   "title_cell": "Table of Contents",
   "title_sidebar": "Contents",
   "toc_cell": false,
   "toc_position": {},
   "toc_section_display": true,
   "toc_window_display": true
  }
 },
 "nbformat": 4,
 "nbformat_minor": 1
}
