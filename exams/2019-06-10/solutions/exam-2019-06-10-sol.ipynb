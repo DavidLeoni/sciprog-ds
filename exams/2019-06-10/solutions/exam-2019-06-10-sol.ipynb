{
 "cells": [
  {
   "cell_type": "code",
   "execution_count": 1,
   "metadata": {
    "nbsphinx": "hidden"
   },
   "outputs": [],
   "source": [
    "#Please execute this cell\n",
    "import jupman;"
   ]
  },
  {
   "cell_type": "markdown",
   "metadata": {},
   "source": [
    "# Exam -  Mon 10, Jun 2019\n",
    "\n",
    "**Scientific Programming - Data Science @ University of Trento**\n",
    "\n",
    "\n",
    "## [Download exercises and solution](../../../_static/generated/sciprog-ds-2019-06-10-exam.zip)"
   ]
  },
  {
   "cell_type": "markdown",
   "metadata": {
    "collapsed": true
   },
   "source": [
    "## Introduction\n",
    "\n",
    "* **Taking part to this exam erases any vote you had before**"
   ]
  },
  {
   "cell_type": "markdown",
   "metadata": {},
   "source": [
    "### What to do\n",
    "\n",
    "1) Download  `sciprog-ds-2019-06-10-exam.zip` and extract it <b>on your desktop</b>. Folder content should be like this:\n",
    "\n",
    "```\n",
    "sciprog-ds-2019-06-10-FIRSTNAME-LASTNAME-ID\n",
    "    exam-2019-06-10.ipynb\n",
    "    stack.py\n",
    "    stack_test.py\n",
    "    tree.py\n",
    "    tree_test.py\n",
    "    jupman.py\n",
    "    sciprog.py\n",
    "```\n",
    "\n",
    "2) Rename `sciprog-ds-2019-06-10-FIRSTNAME-LASTNAME-ID` folder: put your name, lastname an id number, like `sciprog-ds-2019-06-10-john-doe-432432`\n",
    "\n",
    "From now on, you will be editing the files in that folder. At the end of the exam, that is what will be evaluated.\n",
    "\n",
    "3) Edit the files following the instructions in this worksheet for each exercise. Every exercise should take max 25 mins. If it takes longer, leave it and try another exercise.\n",
    "\n",
    "4) When done:\n",
    "\n",
    "- if you have unitn login:  zip and send to [examina.icts.unitn.it/studente](http://examina.icts.unitn.it/studente)\n",
    "  \n",
    "- If you don't have unitn login: tell instructors and we will download your work manually\n",
    " \n"
   ]
  },
  {
   "cell_type": "markdown",
   "metadata": {},
   "source": [
    "## Part A\n",
    "\n",
    "Open Jupyter and start editing this notebook `exam-2019-06-10.ipynb`\n"
   ]
  },
  {
   "cell_type": "markdown",
   "metadata": {},
   "source": [
    "## A1 ITEA real estate\n",
    "\n",
    "You will now analyze public real estates in Trentino, which are managed by ITEA agency. Every real estate has a type, and we will find the type distribution.\n",
    "\n",
    "Data provider: [ITEA - dati.trentino.it](https://dati.trentino.it/dataset/patrimonio-immobiliare)\n",
    "\n",
    "A function `load_itea` is given to load the dataset (you don't need to implement it):"
   ]
  },
  {
   "cell_type": "code",
   "execution_count": 2,
   "metadata": {},
   "outputs": [],
   "source": [
    "def load_itea():\n",
    "    \"\"\"Loads file data and RETURN a list of dictionaries with the stop times\n",
    "    \"\"\"\n",
    "    \n",
    "    import csv\n",
    "    with open('data/itea.csv', newline='',  encoding='latin-1',) as csvfile:\n",
    "        reader = csv.DictReader(csvfile,  delimiter=';')\n",
    "        lst = []\n",
    "        for d in reader:\n",
    "            lst.append(d)\n",
    "    return lst\n",
    "\n",
    "\n",
    "itea = load_itea()\n"
   ]
  },
  {
   "cell_type": "markdown",
   "metadata": {},
   "source": [
    "<div class=\"alert alert-warning\">\n",
    "\n",
    "**IMPORTANT**: look at the dataset by yourself !\n",
    "\n",
    "Here we show only first 5 rows, but to get a clear picture of the dataset you need to study it a bit by yourself\n",
    "\n",
    "</div>\n"
   ]
  },
  {
   "cell_type": "code",
   "execution_count": 3,
   "metadata": {},
   "outputs": [
    {
     "data": {
      "text/plain": [
       "[OrderedDict([('Tipologia', 'ALTRO'),\n",
       "              ('Proprietà', 'ITEA'),\n",
       "              ('Indirizzo', \"Codice unita': 30100049\"),\n",
       "              ('Frazione', ''),\n",
       "              ('Comune', \"BASELGA DI PINE'\")]),\n",
       " OrderedDict([('Tipologia', 'ALLOGGIO'),\n",
       "              ('Proprietà', 'ITEA'),\n",
       "              ('Indirizzo', \"Codice unita': 43100011\"),\n",
       "              ('Frazione', ''),\n",
       "              ('Comune', 'TRENTO')]),\n",
       " OrderedDict([('Tipologia', 'ALLOGGIO'),\n",
       "              ('Proprietà', 'ITEA'),\n",
       "              ('Indirizzo', \"Codice unita': 43100002\"),\n",
       "              ('Frazione', ''),\n",
       "              ('Comune', 'TRENTO')]),\n",
       " OrderedDict([('Tipologia', 'ALLOGGIO'),\n",
       "              ('Proprietà', 'ITEA'),\n",
       "              ('Indirizzo', 'VIALE DELLE ROBINIE 26'),\n",
       "              ('Frazione', ''),\n",
       "              ('Comune', 'TRENTO')]),\n",
       " OrderedDict([('Tipologia', 'ALLOGGIO'),\n",
       "              ('Proprietà', 'ITEA'),\n",
       "              ('Indirizzo', 'VIALE DELLE ROBINIE 26'),\n",
       "              ('Frazione', ''),\n",
       "              ('Comune', 'TRENTO')])]"
      ]
     },
     "execution_count": 3,
     "metadata": {},
     "output_type": "execute_result"
    }
   ],
   "source": [
    "itea[:5]"
   ]
  },
  {
   "cell_type": "markdown",
   "metadata": {},
   "source": [
    "### A1.1 calc_types_hist\n",
    "\n",
    "Implement function `calc_types_hist` to extract the types (`'Tipologia'`) of ITEA real estate and RETURN a histogram which associates to each type its frequency.\n",
    "\n",
    "- You will discover there are three types of apartments: 'ALLOGGIO', 'ALLOGGIO  DUPLEX' and 'ALLOGGIO MONOLOCALE'. In the resulting histogram you must place only the key 'ALLOGGIO' which will be the sum of all of them.\n",
    "- Same goes for 'POSTO MACCHINA' (parking lot): there are many of them ( 'POSTO MACCHINA COMUNE ESTERNO',\n",
    " 'POSTO MACCHINA COMUNE INTERNO', 'POSTO MACCHINA ESTERNO', 'POSTO MACCHINA INTERNO', 'POSTO MACCHINA SOTTO TETTOIA') but we only want to see 'POSTO MACCHINA' as key with the sum of all of them.\n",
    " NOTE: Please don't use 5 ifs, try to come up with some generic code to catch all these cases ..)"
   ]
  },
  {
   "cell_type": "raw",
   "id": "0a5509d5",
   "metadata": {
    "format": "text/html"
   },
   "source": [
    "<a  class=\"jupman-sol jupman-sol-toggler\" \n",
    " onclick=\"jupman.toggleSolution(this);\" \n",
    " data-jupman-show=\"Show solution\" data-jupman-hide=\"Hide\">Show solution</a><div class=\"jupman-sol jupman-sol-code\" style=\"display:none\">  "
   ]
  },
  {
   "cell_type": "code",
   "execution_count": 4,
   "metadata": {},
   "outputs": [
    {
     "data": {
      "text/plain": [
       "{'ALTRO': 64,\n",
       " 'ALLOGGIO': 10778,\n",
       " 'POSTO MACCHINA': 3147,\n",
       " 'MAGAZZINO': 143,\n",
       " 'CABINA ELETTRICA': 41,\n",
       " 'LOCALE COMUNE': 28,\n",
       " 'NEGOZIO': 139,\n",
       " 'CANTINA': 40,\n",
       " 'GARAGE': 2221,\n",
       " 'CENTRALE TERMICA': 4,\n",
       " 'UFFICIO': 29,\n",
       " 'TETTOIA': 2,\n",
       " 'ARCHIVIO ITEA': 10,\n",
       " 'SALA / ATTIVITA SOCIALI': 45,\n",
       " 'AREA URBANA': 6,\n",
       " 'ASILO': 1,\n",
       " 'CASERMA': 2,\n",
       " 'LABORATORIO PER ARTI E MESTIERI': 3,\n",
       " 'MUSEO': 1,\n",
       " 'SOFFITTA': 3,\n",
       " 'AMBULATORIO': 1,\n",
       " 'LEGNAIA': 3,\n",
       " 'RUDERE': 1}"
      ]
     },
     "execution_count": 4,
     "metadata": {},
     "output_type": "execute_result"
    }
   ],
   "source": [
    "def calc_types_hist(db):\n",
    "    \n",
    "    \n",
    "    tipologie = {}\n",
    "    for diz in db:\n",
    "        if diz['Tipologia'].startswith('ALLOGGIO'):\n",
    "            chiave = 'ALLOGGIO'\n",
    "        elif diz['Tipologia'].startswith('POSTO MACCHINA'):\n",
    "            chiave = 'POSTO MACCHINA'\n",
    "        else: \n",
    "            chiave = diz['Tipologia']\n",
    "            \n",
    "        if chiave in tipologie:            \n",
    "            tipologie[chiave] += 1\n",
    "        else:\n",
    "            tipologie[chiave] = 1\n",
    "        \n",
    "    return tipologie\n",
    "    \n",
    "    \n",
    "calc_types_hist(itea)"
   ]
  },
  {
   "cell_type": "raw",
   "id": "2ace44f1",
   "metadata": {
    "format": "text/html"
   },
   "source": [
    "</div>"
   ]
  },
  {
   "cell_type": "code",
   "execution_count": 4,
   "metadata": {},
   "outputs": [
    {
     "data": {
      "text/plain": [
       "{'ALTRO': 64,\n",
       " 'ALLOGGIO': 10778,\n",
       " 'POSTO MACCHINA': 3147,\n",
       " 'MAGAZZINO': 143,\n",
       " 'CABINA ELETTRICA': 41,\n",
       " 'LOCALE COMUNE': 28,\n",
       " 'NEGOZIO': 139,\n",
       " 'CANTINA': 40,\n",
       " 'GARAGE': 2221,\n",
       " 'CENTRALE TERMICA': 4,\n",
       " 'UFFICIO': 29,\n",
       " 'TETTOIA': 2,\n",
       " 'ARCHIVIO ITEA': 10,\n",
       " 'SALA / ATTIVITA SOCIALI': 45,\n",
       " 'AREA URBANA': 6,\n",
       " 'ASILO': 1,\n",
       " 'CASERMA': 2,\n",
       " 'LABORATORIO PER ARTI E MESTIERI': 3,\n",
       " 'MUSEO': 1,\n",
       " 'SOFFITTA': 3,\n",
       " 'AMBULATORIO': 1,\n",
       " 'LEGNAIA': 3,\n",
       " 'RUDERE': 1}"
      ]
     },
     "execution_count": 4,
     "metadata": {},
     "output_type": "execute_result"
    }
   ],
   "source": [
    "def calc_types_hist(db):\n",
    "    raise Exception('TODO IMPLEMENT ME !')\n",
    "    \n",
    "calc_types_hist(itea)"
   ]
  },
  {
   "cell_type": "markdown",
   "metadata": {},
   "source": [
    "\n",
    "    \n",
    "### A1.2 calc_types_series\n",
    "\n",
    "Takes a dictionary histogram and RETURN a list of tuples containing key/value pairs, sorted from most frequent iyems to least frequent.\n",
    "\n",
    "**HINT**: if you don't remember how to sort by an element of a tuple, look at [this example](https://sciprog.davidleoni.it/visualization/visualization-sol.html#indegree-per-node-sorted) and also in python documentation about sorting."
   ]
  },
  {
   "cell_type": "raw",
   "id": "c6a7307f",
   "metadata": {
    "format": "text/html"
   },
   "source": [
    "<a  class=\"jupman-sol jupman-sol-toggler\" \n",
    " onclick=\"jupman.toggleSolution(this);\" \n",
    " data-jupman-show=\"Show solution\" data-jupman-hide=\"Hide\">Show solution</a><div class=\"jupman-sol jupman-sol-code\" style=\"display:none\">  "
   ]
  },
  {
   "cell_type": "code",
   "execution_count": 5,
   "metadata": {},
   "outputs": [
    {
     "data": {
      "text/plain": [
       "[('ALLOGGIO', 10778),\n",
       " ('POSTO MACCHINA', 3147),\n",
       " ('GARAGE', 2221),\n",
       " ('MAGAZZINO', 143),\n",
       " ('NEGOZIO', 139),\n",
       " ('ALTRO', 64),\n",
       " ('SALA / ATTIVITA SOCIALI', 45),\n",
       " ('CABINA ELETTRICA', 41),\n",
       " ('CANTINA', 40),\n",
       " ('UFFICIO', 29)]"
      ]
     },
     "execution_count": 5,
     "metadata": {},
     "output_type": "execute_result"
    }
   ],
   "source": [
    "def calc_types_series(hist):\n",
    "    \n",
    "    ret = []\n",
    "    \n",
    "    for key in hist:\n",
    "        ret.append((key, hist[key]))\n",
    "    \n",
    "    ret.sort(key=lambda c: c[1],reverse=True)\n",
    "    return ret[:10]\n",
    "    \n",
    "\n",
    "tipologie = calc_types_series(calc_types_hist(itea))\n",
    "\n",
    "tipologie"
   ]
  },
  {
   "cell_type": "raw",
   "id": "57f68e3d",
   "metadata": {
    "format": "text/html"
   },
   "source": [
    "</div>"
   ]
  },
  {
   "cell_type": "code",
   "execution_count": 5,
   "metadata": {},
   "outputs": [
    {
     "data": {
      "text/plain": [
       "[('ALLOGGIO', 10778),\n",
       " ('POSTO MACCHINA', 3147),\n",
       " ('GARAGE', 2221),\n",
       " ('MAGAZZINO', 143),\n",
       " ('NEGOZIO', 139),\n",
       " ('ALTRO', 64),\n",
       " ('SALA / ATTIVITA SOCIALI', 45),\n",
       " ('CABINA ELETTRICA', 41),\n",
       " ('CANTINA', 40),\n",
       " ('UFFICIO', 29)]"
      ]
     },
     "execution_count": 5,
     "metadata": {},
     "output_type": "execute_result"
    }
   ],
   "source": [
    "def calc_types_series(hist):\n",
    "    raise Exception('TODO IMPLEMENT ME !')\n",
    "\n",
    "tipologie = calc_types_series(calc_types_hist(itea))\n",
    "\n",
    "tipologie"
   ]
  },
  {
   "cell_type": "markdown",
   "metadata": {},
   "source": [
    "### A1.3 Real estates plot\n",
    "\n",
    "Once you obtained the series as above, plot the first 10 most frequent items, in decreasing order.\n",
    "\n",
    "- please pay attention to plot title, width and height, axis labels. Everything MUST display in a readable way.\n",
    "\n",
    "- try also to print nice the labels, if they are too long / overlap like for 'SALA / ATTIVITA SOCIALI' put carriage returns in a generic way."
   ]
  },
  {
   "cell_type": "code",
   "execution_count": 6,
   "metadata": {},
   "outputs": [],
   "source": [
    "# write here\n"
   ]
  },
  {
   "cell_type": "raw",
   "id": "89596a5f",
   "metadata": {
    "format": "text/html"
   },
   "source": [
    "<a  class=\"jupman-sol jupman-sol-toggler\" \n",
    " onclick=\"jupman.toggleSolution(this);\" \n",
    " data-jupman-show=\"Show solution\" data-jupman-hide=\"Hide\">Show solution</a><div class=\"jupman-sol jupman-sol-code\" style=\"display:none\">  "
   ]
  },
  {
   "cell_type": "code",
   "execution_count": 7,
   "metadata": {},
   "outputs": [
    {
     "data": {
      "image/png": "[encoded data removed]",
      "text/plain": [
       "<Figure size 1080x360 with 1 Axes>"
      ]
     },
     "metadata": {
      "needs_background": "light"
     },
     "output_type": "display_data"
    }
   ],
   "source": [
    "# SOLUTION\n",
    "\n",
    "%matplotlib inline\n",
    "import numpy as np\n",
    "import matplotlib.pyplot as plt\n",
    "\n",
    "\n",
    "xs = np.arange(len(tipologie))\n",
    "\n",
    "xs_labels = [t[0].replace('/', '/\\n') for t in tipologie]\n",
    "\n",
    "ys = [t[1] for t in tipologie]\n",
    "\n",
    "fig = plt.figure(figsize=(15,5))\n",
    "\n",
    "plt.bar(xs, ys, 0.5, align='center')\n",
    "\n",
    "plt.title(\"ITEA real estates SOLUTION\")\n",
    "plt.xticks(xs, xs_labels)\n",
    "\n",
    "plt.xlabel('name')\n",
    "plt.ylabel('quantity')\n",
    "\n",
    "plt.show()"
   ]
  },
  {
   "cell_type": "raw",
   "id": "dfc1dd09",
   "metadata": {
    "format": "text/html"
   },
   "source": [
    "</div>"
   ]
  },
  {
   "cell_type": "code",
   "execution_count": 7,
   "metadata": {},
   "outputs": [
    {
     "data": {
      "image/png": "[encoded data removed]",
      "text/plain": [
       "<Figure size 1080x360 with 1 Axes>"
      ]
     },
     "metadata": {
      "needs_background": "light"
     },
     "output_type": "display_data"
    }
   ],
   "source": []
  },
  {
   "cell_type": "markdown",
   "metadata": {},
   "source": [
    "## A2 Air quality\n",
    "\n",
    "You will now analyze air_quality in Trentino. You are given a dataset which records various pollutants  ('Inquinante') at various stations (`'Stazione'`) in Trentino. Pollutants values can be `'PM10'`, `'Biossido Zolfo'`, and a few others. Each station records some set of pollutants. For each pollutant values are recorded (`'Valore'`) 24 times per day.\n",
    "\n",
    "Data provider: [PAT Ag. Provinciale per la protezione dell'Ambiente - dati.trentino.it](https://dati.trentino.it/dataset/qualita-dell-aria-rilevazioni-delle-stazioni-monitoraggio) \n",
    "\n",
    "A function `load_air_quality` is given to load the dataset (you don't need to implement it):"
   ]
  },
  {
   "cell_type": "code",
   "execution_count": 8,
   "metadata": {},
   "outputs": [],
   "source": [
    "def load_air_quality():\n",
    "    \"\"\"Loads file data and RETURN a list of dictionaries with the stop times\n",
    "    \"\"\"\n",
    "    \n",
    "    import csv\n",
    "    with open('data/air-quality.csv', newline='', encoding='latin-1') as csvfile:\n",
    "        reader = csv.DictReader(csvfile)\n",
    "        lst = []\n",
    "        for d in reader:\n",
    "            lst.append(d)\n",
    "    return lst\n",
    "\n",
    "\n",
    "air_quality = load_air_quality()\n"
   ]
  },
  {
   "cell_type": "markdown",
   "metadata": {},
   "source": [
    "<div class=\"alert alert-warning\">\n",
    "\n",
    "**IMPORTANT 1**: look at the dataset by yourself !\n",
    "\n",
    "Here we show only first 5 rows, but to get a clear picture of the dataset you need to study it a bit by yourself\n",
    "\n",
    "</div>\n",
    "\n",
    "\n",
    "<div class=\"alert alert-warning\">\n",
    "\n",
    "**IMPORTANT 2**: EVERY field is a STRING, including 'Valore' !\n",
    "\n",
    "</div>\n"
   ]
  },
  {
   "cell_type": "code",
   "execution_count": 9,
   "metadata": {
    "scrolled": true
   },
   "outputs": [
    {
     "data": {
      "text/plain": [
       "[OrderedDict([('Stazione', 'Parco S. Chiara'),\n",
       "              ('Inquinante', 'PM10'),\n",
       "              ('Data', '2019-05-04'),\n",
       "              ('Ora', '1'),\n",
       "              ('Valore', '17'),\n",
       "              ('Unità di misura', 'µg/mc')]),\n",
       " OrderedDict([('Stazione', 'Parco S. Chiara'),\n",
       "              ('Inquinante', 'PM10'),\n",
       "              ('Data', '2019-05-04'),\n",
       "              ('Ora', '2'),\n",
       "              ('Valore', '19'),\n",
       "              ('Unità di misura', 'µg/mc')]),\n",
       " OrderedDict([('Stazione', 'Parco S. Chiara'),\n",
       "              ('Inquinante', 'PM10'),\n",
       "              ('Data', '2019-05-04'),\n",
       "              ('Ora', '3'),\n",
       "              ('Valore', '17'),\n",
       "              ('Unità di misura', 'µg/mc')]),\n",
       " OrderedDict([('Stazione', 'Parco S. Chiara'),\n",
       "              ('Inquinante', 'PM10'),\n",
       "              ('Data', '2019-05-04'),\n",
       "              ('Ora', '4'),\n",
       "              ('Valore', '15'),\n",
       "              ('Unità di misura', 'µg/mc')]),\n",
       " OrderedDict([('Stazione', 'Parco S. Chiara'),\n",
       "              ('Inquinante', 'PM10'),\n",
       "              ('Data', '2019-05-04'),\n",
       "              ('Ora', '5'),\n",
       "              ('Valore', '13'),\n",
       "              ('Unità di misura', 'µg/mc')])]"
      ]
     },
     "execution_count": 9,
     "metadata": {},
     "output_type": "execute_result"
    }
   ],
   "source": [
    "air_quality[:5]"
   ]
  },
  {
   "cell_type": "markdown",
   "metadata": {},
   "source": [
    "\n",
    "Now implement the following function:"
   ]
  },
  {
   "cell_type": "raw",
   "id": "db7ddbac",
   "metadata": {
    "format": "text/html"
   },
   "source": [
    "<a  class=\"jupman-sol jupman-sol-toggler\" \n",
    " onclick=\"jupman.toggleSolution(this);\" \n",
    " data-jupman-show=\"Show solution\" data-jupman-hide=\"Hide\">Show solution</a><div class=\"jupman-sol jupman-sol-code\" style=\"display:none\">  "
   ]
  },
  {
   "cell_type": "code",
   "execution_count": 10,
   "metadata": {},
   "outputs": [
    {
     "data": {
      "text/plain": [
       "{('Parco S. Chiara', 'PM10'): 11.385752688172044,\n",
       " ('Parco S. Chiara', 'PM2.5'): 7.9471544715447155,\n",
       " ('Parco S. Chiara', 'Biossido di Azoto'): 20.828146143437078,\n",
       " ('Parco S. Chiara', 'Ozono'): 66.69541778975741,\n",
       " ('Parco S. Chiara', 'Biossido Zolfo'): 1.2918918918918918,\n",
       " ('Via Bolzano', 'PM10'): 12.526881720430108,\n",
       " ('Via Bolzano', 'Biossido di Azoto'): 29.28493894165536,\n",
       " ('Via Bolzano', 'Ossido di Carbonio'): 0.5964769647696474,\n",
       " ('Piana Rotaliana', 'PM10'): 9.728744939271255,\n",
       " ('Piana Rotaliana', 'Biossido di Azoto'): 15.170068027210885,\n",
       " ('Piana Rotaliana', 'Ozono'): 67.03633916554509,\n",
       " ('Rovereto', 'PM10'): 9.475806451612904,\n",
       " ('Rovereto', 'PM2.5'): 7.764784946236559,\n",
       " ('Rovereto', 'Biossido di Azoto'): 16.284167794316645,\n",
       " ('Rovereto', 'Ozono'): 70.54655870445345,\n",
       " ('Borgo Valsugana', 'PM10'): 11.819407008086253,\n",
       " ('Borgo Valsugana', 'PM2.5'): 7.413746630727763,\n",
       " ('Borgo Valsugana', 'Biossido di Azoto'): 15.73806275579809,\n",
       " ('Borgo Valsugana', 'Ozono'): 58.599730458221025,\n",
       " ('Riva del Garda', 'PM10'): 9.912398921832883,\n",
       " ('Riva del Garda', 'Biossido di Azoto'): 17.125845737483086,\n",
       " ('Riva del Garda', 'Ozono'): 68.38159675236807,\n",
       " ('A22 (Avio)', 'PM10'): 9.651821862348179,\n",
       " ('A22 (Avio)', 'Biossido di Azoto'): 33.0650406504065,\n",
       " ('A22 (Avio)', 'Ossido di Carbonio'): 0.4228848821081822,\n",
       " ('Monte Gaza', 'PM10'): 7.794520547945205,\n",
       " ('Monte Gaza', 'Biossido di Azoto'): 4.34412955465587,\n",
       " ('Monte Gaza', 'Ozono'): 99.0858310626703}"
      ]
     },
     "execution_count": 10,
     "metadata": {},
     "output_type": "execute_result"
    }
   ],
   "source": [
    "def calc_avg_pollution(db):\n",
    "    \"\"\" RETURN a dictionary containing two elements tuples as keys: \n",
    "        -  first tuple element is the station ('Stazione'),\n",
    "        - second tuple element  is the name of a pollutant ('Inquinante')\n",
    "        \n",
    "        To each tuple key, you must associate as value the average for that station \n",
    "        _and_ pollutant over all days.\n",
    "    \n",
    "    \"\"\"\n",
    "    \n",
    "    ret = {}\n",
    "    counts = {}\n",
    "    for diz in db:\n",
    "        t = (diz['Stazione'], diz['Inquinante'])\n",
    "        if t in ret:\n",
    "            ret[t] += float(diz['Valore'])\n",
    "            counts[t] += 1\n",
    "        else:\n",
    "            ret[t] = float(diz['Valore'])\n",
    "            counts[t] = 1\n",
    "            \n",
    "        \n",
    "    for t in ret:\n",
    "        ret[t] /= counts[t]\n",
    "    return ret\n",
    "    \n",
    "\n",
    "calc_avg_pollution(air_quality)"
   ]
  },
  {
   "cell_type": "raw",
   "id": "e01ada66",
   "metadata": {
    "format": "text/html"
   },
   "source": [
    "</div>"
   ]
  },
  {
   "cell_type": "code",
   "execution_count": 10,
   "metadata": {},
   "outputs": [
    {
     "data": {
      "text/plain": [
       "{('Parco S. Chiara', 'PM10'): 11.385752688172044,\n",
       " ('Parco S. Chiara', 'PM2.5'): 7.9471544715447155,\n",
       " ('Parco S. Chiara', 'Biossido di Azoto'): 20.828146143437078,\n",
       " ('Parco S. Chiara', 'Ozono'): 66.69541778975741,\n",
       " ('Parco S. Chiara', 'Biossido Zolfo'): 1.2918918918918918,\n",
       " ('Via Bolzano', 'PM10'): 12.526881720430108,\n",
       " ('Via Bolzano', 'Biossido di Azoto'): 29.28493894165536,\n",
       " ('Via Bolzano', 'Ossido di Carbonio'): 0.5964769647696474,\n",
       " ('Piana Rotaliana', 'PM10'): 9.728744939271255,\n",
       " ('Piana Rotaliana', 'Biossido di Azoto'): 15.170068027210885,\n",
       " ('Piana Rotaliana', 'Ozono'): 67.03633916554509,\n",
       " ('Rovereto', 'PM10'): 9.475806451612904,\n",
       " ('Rovereto', 'PM2.5'): 7.764784946236559,\n",
       " ('Rovereto', 'Biossido di Azoto'): 16.284167794316645,\n",
       " ('Rovereto', 'Ozono'): 70.54655870445345,\n",
       " ('Borgo Valsugana', 'PM10'): 11.819407008086253,\n",
       " ('Borgo Valsugana', 'PM2.5'): 7.413746630727763,\n",
       " ('Borgo Valsugana', 'Biossido di Azoto'): 15.73806275579809,\n",
       " ('Borgo Valsugana', 'Ozono'): 58.599730458221025,\n",
       " ('Riva del Garda', 'PM10'): 9.912398921832883,\n",
       " ('Riva del Garda', 'Biossido di Azoto'): 17.125845737483086,\n",
       " ('Riva del Garda', 'Ozono'): 68.38159675236807,\n",
       " ('A22 (Avio)', 'PM10'): 9.651821862348179,\n",
       " ('A22 (Avio)', 'Biossido di Azoto'): 33.0650406504065,\n",
       " ('A22 (Avio)', 'Ossido di Carbonio'): 0.4228848821081822,\n",
       " ('Monte Gaza', 'PM10'): 7.794520547945205,\n",
       " ('Monte Gaza', 'Biossido di Azoto'): 4.34412955465587,\n",
       " ('Monte Gaza', 'Ozono'): 99.0858310626703}"
      ]
     },
     "execution_count": 10,
     "metadata": {},
     "output_type": "execute_result"
    }
   ],
   "source": [
    "def calc_avg_pollution(db):\n",
    "    \"\"\" RETURN a dictionary containing two elements tuples as keys: \n",
    "        -  first tuple element is the station ('Stazione'),\n",
    "        - second tuple element  is the name of a pollutant ('Inquinante')\n",
    "        \n",
    "        To each tuple key, you must associate as value the average for that station \n",
    "        _and_ pollutant over all days.\n",
    "    \n",
    "    \"\"\"\n",
    "    raise Exception('TODO IMPLEMENT ME !')\n",
    "\n",
    "calc_avg_pollution(air_quality)"
   ]
  },
  {
   "cell_type": "markdown",
   "metadata": {},
   "source": [
    "## Part B"
   ]
  },
  {
   "cell_type": "markdown",
   "metadata": {},
   "source": [
    "## B1 Theory\n",
    "\n",
    "Let `L` be a list containing `n` lists, each of them of size `m`. Return the computational complexity of function `fun()` with respect to `n` and `m`.\n",
    "\n",
    "**Write the solution in separate `theory.txt` file**\n",
    "\n",
    "```python\n",
    "def fun(L):\n",
    "    for r1 in L:\n",
    "        for r2 in L:\n",
    "            if r1 != r2 and sum(r1) == sum(r2):\n",
    "                print(\"Similar:\")\n",
    "                print(r1)\n",
    "                print(r2)\n",
    "```"
   ]
  },
  {
   "cell_type": "raw",
   "id": "23861a78",
   "metadata": {
    "format": "text/html"
   },
   "source": [
    "<a  class=\"jupman-sol jupman-sol-toggler\" \n",
    " onclick=\"jupman.toggleSolution(this);\" \n",
    " data-jupman-show=\"Show answer\" data-jupman-hide=\"Hide\">Show answer</a><div class=\"jupman-sol jupman-sol-question\" style=\"display:none\">  "
   ]
  },
  {
   "cell_type": "markdown",
   "metadata": {},
   "source": [
    "**ANSWER**: $\\Theta(m \\cdot n^2 )$"
   ]
  },
  {
   "cell_type": "raw",
   "id": "73bf4a8d",
   "metadata": {
    "format": "text/html"
   },
   "source": [
    "</div>"
   ]
  },
  {
   "cell_type": "markdown",
   "metadata": {},
   "source": [
    "## B2 WStack\n",
    "\n",
    "\n",
    "**Using a text editor**, open file `stack.py`. You will find a `WStack` class skeleton which represents a simple stack that can only contain integers.\n",
    "\n",
    "### B2.1 implement class WStack\n",
    "\n",
    "Fill in missing methods in class `WStack` in the order they are presented  so to have a `.weight()` method that returns the total sum of integers in the stack in `O(1)` time. \n",
    "\n"
   ]
  },
  {
   "cell_type": "markdown",
   "metadata": {},
   "source": [
    "Example:"
   ]
  },
  {
   "cell_type": "code",
   "execution_count": 11,
   "metadata": {},
   "outputs": [],
   "source": [
    "from stack_sol import *"
   ]
  },
  {
   "cell_type": "code",
   "execution_count": 12,
   "metadata": {},
   "outputs": [],
   "source": [
    "s = WStack()"
   ]
  },
  {
   "cell_type": "code",
   "execution_count": 13,
   "metadata": {},
   "outputs": [
    {
     "name": "stdout",
     "output_type": "stream",
     "text": [
      "WStack: weight=0 elements=[]\n"
     ]
    }
   ],
   "source": [
    "print(s)"
   ]
  },
  {
   "cell_type": "code",
   "execution_count": 14,
   "metadata": {},
   "outputs": [],
   "source": [
    "s.push(7)"
   ]
  },
  {
   "cell_type": "code",
   "execution_count": 15,
   "metadata": {},
   "outputs": [
    {
     "name": "stdout",
     "output_type": "stream",
     "text": [
      "WStack: weight=7 elements=[7]\n"
     ]
    }
   ],
   "source": [
    "print(s)"
   ]
  },
  {
   "cell_type": "code",
   "execution_count": 16,
   "metadata": {},
   "outputs": [],
   "source": [
    "s.push(4)"
   ]
  },
  {
   "cell_type": "code",
   "execution_count": 17,
   "metadata": {},
   "outputs": [
    {
     "name": "stdout",
     "output_type": "stream",
     "text": [
      "WStack: weight=11 elements=[7, 4]\n"
     ]
    }
   ],
   "source": [
    "print(s)"
   ]
  },
  {
   "cell_type": "code",
   "execution_count": 18,
   "metadata": {},
   "outputs": [],
   "source": [
    "s.push(2)"
   ]
  },
  {
   "cell_type": "code",
   "execution_count": 19,
   "metadata": {},
   "outputs": [
    {
     "data": {
      "text/plain": [
       "2"
      ]
     },
     "execution_count": 19,
     "metadata": {},
     "output_type": "execute_result"
    }
   ],
   "source": [
    "s.pop()"
   ]
  },
  {
   "cell_type": "code",
   "execution_count": 20,
   "metadata": {},
   "outputs": [
    {
     "name": "stdout",
     "output_type": "stream",
     "text": [
      "WStack: weight=11 elements=[7, 4]\n"
     ]
    }
   ],
   "source": [
    "print(s)"
   ]
  },
  {
   "cell_type": "markdown",
   "metadata": {},
   "source": [
    "### B2.2 accumulate\n",
    "\n",
    "Implement function `accumulate`:\n",
    "\n",
    "```python\n",
    "def accumulate(stack1, stack2, min_amount):\n",
    "    \"\"\" Pushes on stack2 elements taken from stack1 until the weight of\n",
    "        stack2 is equal or exceeds the given min_amount\n",
    "\n",
    "        - if the given min_amount cannot possibly be reached because \n",
    "          stack1 has not enough weight, raises early ValueError without \n",
    "          changing stack1.\n",
    "        - DO NOT access internal fields of stacks, only use class methods.\n",
    "        - MUST perform in O(n) where n is the size of stack1\n",
    "        - NOTE: this function is defined *outside* the class !\n",
    "    \"\"\"\n",
    "```\n",
    "**Testing**: `python -m unittest stacks_test.AccumulateTest`"
   ]
  },
  {
   "cell_type": "markdown",
   "metadata": {},
   "source": [
    "**Example**:"
   ]
  },
  {
   "cell_type": "code",
   "execution_count": 21,
   "metadata": {},
   "outputs": [
    {
     "name": "stdout",
     "output_type": "stream",
     "text": [
      "WStack: weight=0 elements=[]\n"
     ]
    }
   ],
   "source": [
    "\n",
    "\n",
    "s1 = WStack()\n",
    "\n",
    "\n",
    "print(s1)\n"
   ]
  },
  {
   "cell_type": "code",
   "execution_count": 22,
   "metadata": {},
   "outputs": [],
   "source": [
    "s1.push(2)\n",
    "s1.push(9)\n",
    "s1.push(5)\n",
    "s1.push(3)\n"
   ]
  },
  {
   "cell_type": "code",
   "execution_count": 23,
   "metadata": {},
   "outputs": [
    {
     "name": "stdout",
     "output_type": "stream",
     "text": [
      "WStack: weight=19 elements=[2, 9, 5, 3]\n"
     ]
    }
   ],
   "source": [
    "print(s1)"
   ]
  },
  {
   "cell_type": "code",
   "execution_count": 24,
   "metadata": {},
   "outputs": [
    {
     "name": "stdout",
     "output_type": "stream",
     "text": [
      "WStack: weight=0 elements=[]\n"
     ]
    }
   ],
   "source": [
    "s2 = WStack()\n",
    "print(s2)"
   ]
  },
  {
   "cell_type": "code",
   "execution_count": 25,
   "metadata": {},
   "outputs": [],
   "source": [
    "s2.push(1)\n",
    "s2.push(7)\n",
    "s2.push(4)\n"
   ]
  },
  {
   "cell_type": "code",
   "execution_count": 26,
   "metadata": {},
   "outputs": [
    {
     "name": "stdout",
     "output_type": "stream",
     "text": [
      "WStack: weight=12 elements=[1, 7, 4]\n"
     ]
    }
   ],
   "source": [
    "print(s2)\n"
   ]
  },
  {
   "cell_type": "code",
   "execution_count": 27,
   "metadata": {},
   "outputs": [],
   "source": [
    "# attempts to reach in s2 a weight of at least 17"
   ]
  },
  {
   "cell_type": "code",
   "execution_count": 28,
   "metadata": {},
   "outputs": [],
   "source": [
    "accumulate(s1,s2,17)"
   ]
  },
  {
   "cell_type": "code",
   "execution_count": 29,
   "metadata": {},
   "outputs": [
    {
     "name": "stdout",
     "output_type": "stream",
     "text": [
      "WStack: weight=11 elements=[2, 9]\n"
     ]
    }
   ],
   "source": [
    "print(s1)"
   ]
  },
  {
   "cell_type": "markdown",
   "metadata": {},
   "source": [
    "Two top elements were taken from s1 and now s2 has a weight of 20, which is >= 17"
   ]
  },
  {
   "cell_type": "code",
   "execution_count": 30,
   "metadata": {
    "scrolled": true
   },
   "outputs": [
    {
     "name": "stdout",
     "output_type": "stream",
     "text": [
      "WStack: weight=20 elements=[1, 7, 4, 3, 5]\n"
     ]
    }
   ],
   "source": [
    "print(s2)   "
   ]
  },
  {
   "cell_type": "markdown",
   "metadata": {},
   "source": [
    "## B3 GenericTree\n",
    "\n",
    "Open file `tree.py` in a text editor and read following instructions.\n",
    "\n",
    "## B3.1  is_triangle\n",
    "\n",
    "A _triangle_ is a node which has _exactly_ two children. \n",
    "\n",
    "Let's see some example: \n",
    "\n",
    "\n",
    "```\n",
    "         a\n",
    "       /   \\\n",
    "      /     \\\n",
    "     b ----- c\n",
    "    /|\\     /  \n",
    "   d-e-f   g\n",
    "          / \\\n",
    "         h---i\n",
    "            / \n",
    "           l\n",
    "```\n",
    "\n",
    "The tree above can also be represented like this:\n",
    "\n",
    "``` \n",
    "    a\n",
    "    ├b\n",
    "    |├d\n",
    "    |├e\n",
    "    |└f\n",
    "    └c\n",
    "     └g\n",
    "      ├h\n",
    "      └i\n",
    "       └l\n",
    "```    \n",
    "\n",
    "\n",
    "- node `a` is a triangle because has _exactly_ two children `b` and `c`, note it doesn't matter if `b` or `c` have children)\n",
    "- `b` is _not_ a triangle (has 3 children)\n",
    "- `c` and `i` are _not_ triangles (have only 1 child)\n",
    "- `g` is a triangle as it has _exactly_ two children `h` and `i`\n",
    "- `d`, `e`, `f`, `h` and `l` are not triangles, because they have zero children\n",
    "\n",
    "\n",
    "Now implement this method:"
   ]
  },
  {
   "cell_type": "markdown",
   "metadata": {},
   "source": [
    "```python\n",
    "    def is_triangle(self, elems):\n",
    "        \"\"\" RETURN True if this node is a triangle matching the data  \n",
    "            given by list elems. \n",
    "            \n",
    "            In order to match:\n",
    "            - first list item must be equal to this node data\n",
    "            - second list item must be equal to this node first child data\n",
    "            - third list item must be equal to this node second child data\n",
    "\n",
    "            - if elems has less than three elements, raises ValueError\n",
    "        \"\"\"\n",
    "```\n",
    "\n",
    "**Testing**: `python -m unittest tree_test.IsTriangleTest`"
   ]
  },
  {
   "cell_type": "markdown",
   "metadata": {},
   "source": [
    "**Examples**: \n"
   ]
  },
  {
   "cell_type": "code",
   "execution_count": 31,
   "metadata": {},
   "outputs": [],
   "source": [
    "from tree_test import gt"
   ]
  },
  {
   "cell_type": "code",
   "execution_count": 32,
   "metadata": {},
   "outputs": [
    {
     "data": {
      "text/plain": [
       "True"
      ]
     },
     "execution_count": 32,
     "metadata": {},
     "output_type": "execute_result"
    }
   ],
   "source": [
    "\n",
    "# this is the tree from the example above\n",
    "\n",
    "tb = gt('b', gt('d', gt('e'), gt('f')))\n",
    "tg = gt('g', gt('h'), gt('i', gt('l')))\n",
    "ta = gt('a', tb, gt('c', tg))\n",
    "\n",
    "ta.is_triangle(['a','b','c'])    "
   ]
  },
  {
   "cell_type": "code",
   "execution_count": 33,
   "metadata": {},
   "outputs": [
    {
     "data": {
      "text/plain": [
       "False"
      ]
     },
     "execution_count": 33,
     "metadata": {},
     "output_type": "execute_result"
    }
   ],
   "source": [
    "ta.is_triangle(['b','c','a'])    "
   ]
  },
  {
   "cell_type": "code",
   "execution_count": 34,
   "metadata": {},
   "outputs": [
    {
     "data": {
      "text/plain": [
       "False"
      ]
     },
     "execution_count": 34,
     "metadata": {},
     "output_type": "execute_result"
    }
   ],
   "source": [
    "tb.is_triangle(['b','d','e'])    "
   ]
  },
  {
   "cell_type": "code",
   "execution_count": 35,
   "metadata": {},
   "outputs": [
    {
     "data": {
      "text/plain": [
       "True"
      ]
     },
     "execution_count": 35,
     "metadata": {},
     "output_type": "execute_result"
    }
   ],
   "source": [
    "tg.is_triangle(['g','h','i']) "
   ]
  },
  {
   "cell_type": "code",
   "execution_count": 36,
   "metadata": {},
   "outputs": [
    {
     "data": {
      "text/plain": [
       "False"
      ]
     },
     "execution_count": 36,
     "metadata": {},
     "output_type": "execute_result"
    }
   ],
   "source": [
    "tg.is_triangle(['g','i','h'])"
   ]
  },
  {
   "cell_type": "markdown",
   "metadata": {},
   "source": [
    "## B3.2 has_triangle\n",
    "\n",
    "Implement this method: \n",
    "\n",
    "\n",
    "```python\n",
    "\n",
    "    def has_triangle(self, elems):\n",
    "        \"\"\" RETURN True if this node *or one of its descendants* is a triangle\n",
    "            matching given elems. Otherwise, return False.\n",
    "\n",
    "            - a recursive solution is acceptable\n",
    "        \"\"\"\n",
    "```\n",
    "\n",
    "**Testing**: `python -m unittest tree_test.HasTriangleTest`\n",
    "\n",
    "**Examples**:\n",
    "\n"
   ]
  },
  {
   "cell_type": "code",
   "execution_count": 37,
   "metadata": {},
   "outputs": [
    {
     "data": {
      "text/plain": [
       "True"
      ]
     },
     "execution_count": 37,
     "metadata": {},
     "output_type": "execute_result"
    }
   ],
   "source": [
    "\n",
    "# example tree seen at the beginning\n",
    "\n",
    "tb = gt('b', gt('d', gt('e'), gt('f')))\n",
    "tg = gt('g', gt('h'), gt('i', gt('l')))\n",
    "tc = gt('c', tg)\n",
    "ta = gt('a', tb, tc)\n",
    "\n",
    "\n",
    "ta.has_triangle(['a','b','c'])\n"
   ]
  },
  {
   "cell_type": "code",
   "execution_count": 38,
   "metadata": {},
   "outputs": [
    {
     "data": {
      "text/plain": [
       "False"
      ]
     },
     "execution_count": 38,
     "metadata": {},
     "output_type": "execute_result"
    }
   ],
   "source": [
    "ta.has_triangle(['a','c','b'])    \n"
   ]
  },
  {
   "cell_type": "code",
   "execution_count": 39,
   "metadata": {},
   "outputs": [
    {
     "data": {
      "text/plain": [
       "False"
      ]
     },
     "execution_count": 39,
     "metadata": {},
     "output_type": "execute_result"
    }
   ],
   "source": [
    "ta.has_triangle(['b','c','a'])    \n"
   ]
  },
  {
   "cell_type": "code",
   "execution_count": 40,
   "metadata": {},
   "outputs": [
    {
     "data": {
      "text/plain": [
       "False"
      ]
     },
     "execution_count": 40,
     "metadata": {},
     "output_type": "execute_result"
    }
   ],
   "source": [
    "tb.is_triangle(['b','d','e'])   \n"
   ]
  },
  {
   "cell_type": "code",
   "execution_count": 41,
   "metadata": {},
   "outputs": [
    {
     "data": {
      "text/plain": [
       "True"
      ]
     },
     "execution_count": 41,
     "metadata": {},
     "output_type": "execute_result"
    }
   ],
   "source": [
    "tg.has_triangle(['g','h','i'])  \n"
   ]
  },
  {
   "cell_type": "code",
   "execution_count": 42,
   "metadata": {},
   "outputs": [
    {
     "data": {
      "text/plain": [
       "True"
      ]
     },
     "execution_count": 42,
     "metadata": {},
     "output_type": "execute_result"
    }
   ],
   "source": [
    "tc.has_triangle(['g','h','i'])  # check recursion \n"
   ]
  },
  {
   "cell_type": "code",
   "execution_count": 43,
   "metadata": {},
   "outputs": [
    {
     "data": {
      "text/plain": [
       "True"
      ]
     },
     "execution_count": 43,
     "metadata": {},
     "output_type": "execute_result"
    }
   ],
   "source": [
    "ta.has_triangle(['g','h','i'])  # check recursion     "
   ]
  },
  {
   "cell_type": "code",
   "execution_count": 44,
   "metadata": {
    "nbsphinx": "hidden"
   },
   "outputs": [
    {
     "name": "stderr",
     "output_type": "stream",
     "text": [
      "..............\n",
      "----------------------------------------------------------------------\n",
      "Ran 14 tests in 0.010s\n",
      "\n",
      "OK\n",
      "...................\n",
      "----------------------------------------------------------------------\n",
      "Ran 19 tests in 0.017s\n",
      "\n",
      "OK\n"
     ]
    }
   ],
   "source": [
    "#ignore this cell\n",
    "import stack_sol\n",
    "import stack_test\n",
    "jupman.run(stack_test)\n",
    "import tree_sol\n",
    "import tree_test\n",
    "jupman.run(tree_test)\n"
   ]
  }
 ],
 "metadata": {
  "celltoolbar": "Edit Metadata",
  "kernelspec": {
   "display_name": "Python 3",
   "language": "python",
   "name": "python3"
  },
  "language_info": {
   "codemirror_mode": {
    "name": "ipython",
    "version": 3
   },
   "file_extension": ".py",
   "mimetype": "text/x-python",
   "name": "python",
   "nbconvert_exporter": "python",
   "pygments_lexer": "ipython3",
   "version": "3.5.2"
  },
  "toc": {
   "base_numbering": 1,
   "nav_menu": {},
   "number_sections": false,
   "sideBar": true,
   "skip_h1_title": false,
   "title_cell": "Table of Contents",
   "title_sidebar": "Contents",
   "toc_cell": false,
   "toc_position": {
    "height": "calc(100% - 180px)",
    "left": "10px",
    "top": "150px",
    "width": "284px"
   },
   "toc_section_display": true,
   "toc_window_display": true
  }
 },
 "nbformat": 4,
 "nbformat_minor": 1
}
