{
 "cells": [
  {
   "cell_type": "markdown",
   "metadata": {},
   "source": [
    "# Exam -  Tue 14, Jan 2021\n",
    "\n",
    "**Scientific Programming - Data Science Master @ University of Trento**\n",
    "\n",
    "\n",
    "## Download [exercises and solutions](../../../_static/generated/sciprog-ds-2021-01-14-exam.zip)\n"
   ]
  },
  {
   "cell_type": "markdown",
   "metadata": {},
   "source": [
    "## Part A - Witchcraft\n",
    "\n",
    "The early sixteenth century saw a dramatic rise in awareness and terror of witchcraft in the troubled lands of [early modern Scotland](https://www.youtube.com/watch?v=4s9Hd8onAKQ): thousands of people were executed, imprisoned, tortured, banished, and had lands and possessions confiscated. Persecution took place in courts of law: you shall analyze the evidence gathered during those dark days.\n",
    "\n",
    "Data source: Julian Goodare, Lauren Martin, Joyce Miller and Louise Yeoman, 'The Survey of Scottish Witchcraft'  http://www.shca.ed.ac.uk/witches/  (archived January 2003, accessed ’11/1/2016’).\n",
    "\n",
    "In particular, we took [WDB_Case.csv](WDB_Case.csv) as published on [data.world](https://data.world/history/scottish-witchcraft), which contains cases brought against suspected witches, along with annotations by researchers, mostly as boolean fields.\n",
    "\n",
    "The dataset has lots of columns, we show here only the relevant ones `Case_date`, `CaseCommonName`, `Suspects_text` and an excerpt of the many boolean columns:"
   ]
  },
  {
   "cell_type": "code",
   "execution_count": 1,
   "metadata": {},
   "outputs": [],
   "source": [
    "import pandas as pd\n",
    "case_df = pd.read_csv('WDB_Case.csv', encoding='UTF-8')"
   ]
  },
  {
   "cell_type": "code",
   "execution_count": 2,
   "metadata": {
    "scrolled": true
   },
   "outputs": [
    {
     "data": {
      "text/html": [
       "<div>\n",
       "<style scoped>\n",
       "    .dataframe tbody tr th:only-of-type {\n",
       "        vertical-align: middle;\n",
       "    }\n",
       "\n",
       "    .dataframe tbody tr th {\n",
       "        vertical-align: top;\n",
       "    }\n",
       "\n",
       "    .dataframe thead th {\n",
       "        text-align: right;\n",
       "    }\n",
       "</style>\n",
       "<table border=\"1\" class=\"dataframe\">\n",
       "  <thead>\n",
       "    <tr style=\"text-align: right;\">\n",
       "      <th></th>\n",
       "      <th>Case_date</th>\n",
       "      <th>CaseCommonName</th>\n",
       "      <th>Suspects_text</th>\n",
       "      <th>Demonic_p</th>\n",
       "      <th>Demonic_s</th>\n",
       "      <th>Maleficium_p</th>\n",
       "      <th>Maleficium_s</th>\n",
       "      <th>WitchesMeeting</th>\n",
       "    </tr>\n",
       "  </thead>\n",
       "  <tbody>\n",
       "    <tr>\n",
       "      <th>1986</th>\n",
       "      <td>29/6/1649</td>\n",
       "      <td>3 unnamed witches</td>\n",
       "      <td>3.0</td>\n",
       "      <td>0</td>\n",
       "      <td>0</td>\n",
       "      <td>0</td>\n",
       "      <td>0</td>\n",
       "      <td>0</td>\n",
       "    </tr>\n",
       "    <tr>\n",
       "      <th>1987</th>\n",
       "      <td>19/8/1590</td>\n",
       "      <td>Leslie,William</td>\n",
       "      <td>NaN</td>\n",
       "      <td>0</td>\n",
       "      <td>0</td>\n",
       "      <td>0</td>\n",
       "      <td>1</td>\n",
       "      <td>0</td>\n",
       "    </tr>\n",
       "    <tr>\n",
       "      <th>1988</th>\n",
       "      <td>1679</td>\n",
       "      <td>McGuffock,Margaret</td>\n",
       "      <td>NaN</td>\n",
       "      <td>0</td>\n",
       "      <td>0</td>\n",
       "      <td>0</td>\n",
       "      <td>1</td>\n",
       "      <td>0</td>\n",
       "    </tr>\n",
       "    <tr>\n",
       "      <th>1989</th>\n",
       "      <td>1679</td>\n",
       "      <td>Rae,Grissell</td>\n",
       "      <td>NaN</td>\n",
       "      <td>0</td>\n",
       "      <td>0</td>\n",
       "      <td>0</td>\n",
       "      <td>0</td>\n",
       "      <td>0</td>\n",
       "    </tr>\n",
       "    <tr>\n",
       "      <th>1990</th>\n",
       "      <td>1679</td>\n",
       "      <td>Howat,Jonet</td>\n",
       "      <td>NaN</td>\n",
       "      <td>0</td>\n",
       "      <td>0</td>\n",
       "      <td>0</td>\n",
       "      <td>0</td>\n",
       "      <td>0</td>\n",
       "    </tr>\n",
       "    <tr>\n",
       "      <th>1991</th>\n",
       "      <td>15/10/1673</td>\n",
       "      <td>McNicol,Janet</td>\n",
       "      <td>NaN</td>\n",
       "      <td>1</td>\n",
       "      <td>1</td>\n",
       "      <td>0</td>\n",
       "      <td>1</td>\n",
       "      <td>1</td>\n",
       "    </tr>\n",
       "    <tr>\n",
       "      <th>1992</th>\n",
       "      <td>4/6/1674</td>\n",
       "      <td>Clerk,Margaret</td>\n",
       "      <td>NaN</td>\n",
       "      <td>0</td>\n",
       "      <td>0</td>\n",
       "      <td>0</td>\n",
       "      <td>0</td>\n",
       "      <td>0</td>\n",
       "    </tr>\n",
       "    <tr>\n",
       "      <th>1993</th>\n",
       "      <td>29/7/1675</td>\n",
       "      <td>Hendrie,Agnes</td>\n",
       "      <td>NaN</td>\n",
       "      <td>0</td>\n",
       "      <td>1</td>\n",
       "      <td>0</td>\n",
       "      <td>0</td>\n",
       "      <td>1</td>\n",
       "    </tr>\n",
       "  </tbody>\n",
       "</table>\n",
       "</div>"
      ],
      "text/plain": [
       "       Case_date      CaseCommonName  Suspects_text  Demonic_p  Demonic_s  \\\n",
       "1986   29/6/1649   3 unnamed witches            3.0          0          0   \n",
       "1987   19/8/1590      Leslie,William            NaN          0          0   \n",
       "1988        1679  McGuffock,Margaret            NaN          0          0   \n",
       "1989        1679        Rae,Grissell            NaN          0          0   \n",
       "1990        1679         Howat,Jonet            NaN          0          0   \n",
       "1991  15/10/1673       McNicol,Janet            NaN          1          1   \n",
       "1992    4/6/1674      Clerk,Margaret            NaN          0          0   \n",
       "1993   29/7/1675       Hendrie,Agnes            NaN          0          1   \n",
       "\n",
       "      Maleficium_p  Maleficium_s  WitchesMeeting  \n",
       "1986             0             0               0  \n",
       "1987             0             1               0  \n",
       "1988             0             1               0  \n",
       "1989             0             0               0  \n",
       "1990             0             0               0  \n",
       "1991             0             1               1  \n",
       "1992             0             0               0  \n",
       "1993             0             0               1  "
      ]
     },
     "execution_count": 2,
     "metadata": {},
     "output_type": "execute_result"
    }
   ],
   "source": [
    "sel_case_df = case_df[['Case_date', 'CaseCommonName', 'Suspects_text', 'Demonic_p', 'Demonic_s', 'Maleficium_p','Maleficium_s', 'WitchesMeeting']]\n",
    "sel_case_df[1986:1994]"
   ]
  },
  {
   "cell_type": "markdown",
   "metadata": {},
   "source": [
    "## A1 parse_bool_cols\n",
    "\n",
    "Open Jupyter and start editing this notebook `exam-2021-01-14.ipynb`\n",
    "\n",
    "Since boolean columns are so many, as a first step you will build a recognizer for them. \n",
    "\n",
    "* Consider a column as boolean if **all** of its values are either `0` or `1`. \n",
    "* Parse with [CSV DictReader](https://en.softpython.org/formats/formats-sol.html#Reading-as-dictionaries)"
   ]
  },
  {
   "cell_type": "raw",
   "id": "a6726e9f",
   "metadata": {
    "format": "text/html"
   },
   "source": [
    "<a  class=\"jupman-sol jupman-sol-toggler\" \n",
    " onclick=\"jupman.toggleSolution(this);\" \n",
    " data-jupman-show=\"Show solution\" data-jupman-hide=\"Hide\">Show solution</a><div class=\"jupman-sol jupman-sol-code\" style=\"display:none\">  "
   ]
  },
  {
   "cell_type": "code",
   "execution_count": 3,
   "metadata": {},
   "outputs": [
    {
     "name": "stdout",
     "output_type": "stream",
     "text": [
      "Found 77 cols. EXCERPT: \n",
      "AdmitLesserCharge AggravatingDisease AnimalDeath AnimalIllness ClaimedBewitched ClaimedNaturalCauses ClaimedPossessed CommunalSex Consulting_p Consulting_s Cursing Dancing DemonicPact Demonic_p Demonic_possess_p Demonic_possess_s Demonic_s ...\n"
     ]
    }
   ],
   "source": [
    "def get_bool_cols(filename):\n",
    "    \"\"\"RETURN a sorted list of all the names of boolean columns\"\"\"\n",
    "    \n",
    "    import csv\n",
    "    with open(filename, encoding='utf-8', newline='') as f:\n",
    "    \n",
    "        cols = set(next(csv.DictReader(f, delimiter=',')).keys())\n",
    "        \n",
    "    with open(filename, encoding='utf-8', newline='') as f:        \n",
    "        my_reader = csv.DictReader(f, delimiter=',')   # Notice we now used DictReader\n",
    "        for diz in my_reader:\n",
    "            for k in diz:\n",
    "                \n",
    "                if not (diz[k] == '0' or diz[k] == '1'):\n",
    "                    if k in cols:\n",
    "                        cols.remove(k)\n",
    "        \n",
    "        return sorted(cols)        \n",
    "    \n",
    "    \n",
    "bool_cols = get_bool_cols('WDB_Case.csv')\n",
    "print('Found', len(bool_cols), 'cols.', 'EXCERPT: ',)\n",
    "print( ' '.join(bool_cols[:17]), '...')\n",
    "\n",
    "from expected_bool_cols import expected_bool_cols\n",
    "assert bool_cols == expected_bool_cols"
   ]
  },
  {
   "cell_type": "raw",
   "id": "e813efec",
   "metadata": {
    "format": "text/html"
   },
   "source": [
    "</div>"
   ]
  },
  {
   "cell_type": "code",
   "execution_count": 3,
   "metadata": {},
   "outputs": [
    {
     "name": "stdout",
     "output_type": "stream",
     "text": [
      "Found 77 cols. EXCERPT: \n",
      "AdmitLesserCharge AggravatingDisease AnimalDeath AnimalIllness ClaimedBewitched ClaimedNaturalCauses ClaimedPossessed CommunalSex Consulting_p Consulting_s Cursing Dancing DemonicPact Demonic_p Demonic_possess_p Demonic_possess_s Demonic_s ...\n"
     ]
    }
   ],
   "source": [
    "def get_bool_cols(filename):\n",
    "    \"\"\"RETURN a sorted list of all the names of boolean columns\"\"\"\n",
    "    raise Exception('TODO IMPLEMENT ME !')\n",
    "    \n",
    "bool_cols = get_bool_cols('WDB_Case.csv')\n",
    "print('Found', len(bool_cols), 'cols.', 'EXCERPT: ',)\n",
    "print( ' '.join(bool_cols[:17]), '...')\n",
    "\n",
    "from expected_bool_cols import expected_bool_cols\n",
    "assert bool_cols == expected_bool_cols"
   ]
  },
  {
   "cell_type": "markdown",
   "metadata": {},
   "source": [
    "## A2 fix_date\n",
    "\n",
    "Implement `fix_date`, which takes a possibly partial date as a string `m/d/yyyy` and RETURN a string formatted as `dd/mm/yyyy`. If data is missing, omits it in the output as well, see examples."
   ]
  },
  {
   "cell_type": "raw",
   "id": "94e949be",
   "metadata": {
    "format": "text/html"
   },
   "source": [
    "<a  class=\"jupman-sol jupman-sol-toggler\" \n",
    " onclick=\"jupman.toggleSolution(this);\" \n",
    " data-jupman-show=\"Show solution\" data-jupman-hide=\"Hide\">Show solution</a><div class=\"jupman-sol jupman-sol-code\" style=\"display:none\">  "
   ]
  },
  {
   "cell_type": "code",
   "execution_count": 4,
   "metadata": {},
   "outputs": [],
   "source": [
    "def fix_date(d):\n",
    "    \n",
    "    if '/' in d:\n",
    "        case_date = d.split('/')\n",
    "        if len(case_date) == 3:\n",
    "            d = case_date[1]\n",
    "            m = case_date[0]\n",
    "            y = case_date[2]\n",
    "            return \"%02d/%02d/%04d\" % (int(d),int(m),int(y))\n",
    "        elif len(case_date) == 2:\n",
    "            m = case_date[0]\n",
    "            y = case_date[1]\n",
    "            return \"%02d/%04d\" % (int(m),int(y))                    \n",
    "    return d\n",
    "    \n",
    "\n",
    "assert fix_date('2/8/1649') == '08/02/1649'\n",
    "assert fix_date('25/4/1627') == '04/25/1627'\n",
    "assert fix_date('6/11/1629') == '11/06/1629'\n",
    "assert fix_date('12/1649') == '12/1649'\n",
    "assert fix_date('7/1652') == '07/1652'\n",
    "assert fix_date('1560') == '1560'\n",
    "assert fix_date('') == ''"
   ]
  },
  {
   "cell_type": "raw",
   "id": "51dca9e1",
   "metadata": {
    "format": "text/html"
   },
   "source": [
    "</div>"
   ]
  },
  {
   "cell_type": "code",
   "execution_count": 4,
   "metadata": {},
   "outputs": [],
   "source": [
    "def fix_date(d):\n",
    "    raise Exception('TODO IMPLEMENT ME !')\n",
    "\n",
    "assert fix_date('2/8/1649') == '08/02/1649'\n",
    "assert fix_date('25/4/1627') == '04/25/1627'\n",
    "assert fix_date('6/11/1629') == '11/06/1629'\n",
    "assert fix_date('12/1649') == '12/1649'\n",
    "assert fix_date('7/1652') == '07/1652'\n",
    "assert fix_date('1560') == '1560'\n",
    "assert fix_date('') == ''"
   ]
  },
  {
   "cell_type": "markdown",
   "metadata": {},
   "source": [
    "## A3 parse_db\n",
    "\n",
    "Given a CSV of cases, outputs a list of dictionaries, each representing a case with these fields:\n",
    "\n",
    "* `name`: the isolated name of the witch taken from `CaseCommonName` column if parseable, otherwise the full cell content\n",
    "* `surname`: the isolated surname of the witch taken from `CaseCommonName` column if parseable, otherwise empty string\n",
    "* `case_date`: `Case_date` column corrected with `fix_date`\n",
    "* `suspects`: number of suspects as **integer**,  to be taken from the column `Suspects_text`. If column is empty, use `1`\n",
    "\n",
    "`primary`, `secondary` and `tags` fields are to be filled with names of **boolean** columns for which the corresponding cell is marked with `'1'` according to these criteria:\n",
    "\n",
    "* `primary`: if a column ending with `_p` is marked `'1'`, this field contains that column name without the `'_p'`. If column name is `'NotEnoughInfo_p'` or in other cases, use `None`.\n",
    "* `secondary`: **sorted** column names ending with `_s`. If col name is `'NotEnoughInfo_s'` or it's already present as `primary`, it's discarded. Remove trailing `_s` from values in the list.\n",
    "* `tags`: **sorted** column names which are not primary nor secondary \n",
    "\n",
    "Parse with [CSV DictReader](https://en.softpython.org/formats/formats-sol.html#Reading-as-dictionaries)"
   ]
  },
  {
   "cell_type": "raw",
   "id": "6d40d685",
   "metadata": {
    "format": "text/html"
   },
   "source": [
    "<a  class=\"jupman-sol jupman-sol-toggler\" \n",
    " onclick=\"jupman.toggleSolution(this);\" \n",
    " data-jupman-show=\"Show solution\" data-jupman-hide=\"Hide\">Show solution</a><div class=\"jupman-sol jupman-sol-code\" style=\"display:none\">  "
   ]
  },
  {
   "cell_type": "code",
   "execution_count": 5,
   "metadata": {},
   "outputs": [],
   "source": [
    "import csv \n",
    "\n",
    "def parse_db(filename):\n",
    "    \n",
    "    \n",
    "    characterisations = [c[:-2] for c in bool_cols if c.endswith('_p')]    \n",
    "    other_bool_fields = [c for c in bool_cols if not (c.endswith('_p') or c.endswith('_s'))]    \n",
    "    \n",
    "    with open(filename, encoding='utf-8', newline='') as f:        \n",
    "        my_reader = csv.DictReader(f, delimiter=',')  \n",
    "\n",
    "        ret = []\n",
    "        found = {}\n",
    "        for diz in my_reader:\n",
    "            work = {'primary': None,\n",
    "                    'secondary':[],\n",
    "                    'tags':[],\n",
    "                   }\n",
    "            for c in characterisations:\n",
    "                if diz[c + '_p'] == '1':\n",
    "                    if c != 'NotEnoughInfo':\n",
    "                        work['primary'] = c  \n",
    "                if diz[c + '_s'] == '1':\n",
    "                    if c != 'NotEnoughInfo':\n",
    "                        if c != work['primary']:\n",
    "                            work['secondary'].append(c)                                   \n",
    "                cn = diz['CaseCommonName']\n",
    "                if ',' in cn:                    \n",
    "                    work['name'] = cn.split(',')[1]\n",
    "                    work['surname'] = cn.split(',')[0]\n",
    "                else:\n",
    "                    work['name'] = cn\n",
    "                    work['surname'] = ''\n",
    "                    \n",
    "                sus = diz['Suspects_text']\n",
    "                if sus:\n",
    "                    work['suspects'] = int(sus)\n",
    "                else:\n",
    "                    work['suspects'] = 1\n",
    "                    \n",
    "            for c in other_bool_fields:\n",
    "                if diz[c] == '1':\n",
    "                    work['tags'].append(c)\n",
    "                          \n",
    "            work['case_date'] = fix_date(diz['Case_date'])            \n",
    "            ret.append(work)\n",
    "            \n",
    "        return ret\n",
    "    \n",
    "\n",
    "cases_db = parse_db('WDB_Case.csv')"
   ]
  },
  {
   "cell_type": "raw",
   "id": "3865057e",
   "metadata": {
    "format": "text/html"
   },
   "source": [
    "</div>"
   ]
  },
  {
   "cell_type": "code",
   "execution_count": 5,
   "metadata": {},
   "outputs": [],
   "source": [
    "import csv \n",
    "\n",
    "def parse_db(filename):\n",
    "    raise Exception('TODO IMPLEMENT ME !')\n",
    "\n",
    "cases_db = parse_db('WDB_Case.csv')"
   ]
  },
  {
   "cell_type": "code",
   "execution_count": 6,
   "metadata": {
    "nbsphinx": "hidden"
   },
   "outputs": [],
   "source": [],
   "transient": {
    "remove_source": true
   }
  },
  {
   "cell_type": "markdown",
   "metadata": {},
   "source": [
    "**Example** (full output is in [expected_cases_db.py](expected_cases_db.py)):"
   ]
  },
  {
   "cell_type": "code",
   "execution_count": 7,
   "metadata": {},
   "outputs": [
    {
     "data": {
      "text/plain": [
       "[{'primary': None,\n",
       "  'secondary': [],\n",
       "  'tags': [],\n",
       "  'name': 'Margaret',\n",
       "  'surname': 'Clerk',\n",
       "  'suspects': 1,\n",
       "  'case_date': '06/04/1674'},\n",
       " {'primary': None,\n",
       "  'secondary': ['Demonic'],\n",
       "  'tags': ['Dancing', 'DevilPresent', 'Singing', 'WitchesMeeting'],\n",
       "  'name': 'Agnes',\n",
       "  'surname': 'Hendrie',\n",
       "  'suspects': 1,\n",
       "  'case_date': '07/29/1675'}]"
      ]
     },
     "execution_count": 7,
     "metadata": {},
     "output_type": "execute_result"
    }
   ],
   "source": [
    "cases_db[1992:1994]"
   ]
  },
  {
   "cell_type": "code",
   "execution_count": 8,
   "metadata": {},
   "outputs": [],
   "source": [
    "assert cases_db[0]['primary'] == None\n",
    "assert cases_db[0]['secondary'] == []\n",
    "assert cases_db[0]['name'] == '3 unnamed witches'\n",
    "assert cases_db[0]['surname'] == ''\n",
    "assert cases_db[0]['suspects'] == 3  # int !\n",
    "assert cases_db[0]['case_date'] == '08/02/1649'\n",
    "\n",
    "assert cases_db[1]['primary'] == None\n",
    "assert cases_db[1]['secondary'] ==  ['ImplicatedByAnother']\n",
    "assert cases_db[1]['tags'] ==  []\n",
    "assert cases_db[1]['name'] ==  'Cristine'\n",
    "assert cases_db[1]['surname'] ==  'Kerington'\n",
    "assert cases_db[1]['suspects'] ==  1    # Suspects_text is '', we put 1\n",
    "assert cases_db[1]['case_date'] == '05/08/1591'\n",
    "\n",
    "assert cases_db[1991]['primary'] == 'Demonic'\n",
    "#NOTE: since 'Demonic' is already 'primary', we removed it from 'secondary'\n",
    "assert cases_db[1991]['secondary'] == ['ImplicatedByAnother', 'Maleficium', 'UNorthodoxRelPract']\n",
    "assert cases_db[1991]['tags'] == ['DevilPresent', 'UnorthodoxReligiousPractice', 'WitchesMeeting']\n",
    "assert cases_db[1991]['name'] == 'Janet'\n",
    "assert cases_db[1991]['surname'] == 'McNicol'\n",
    "assert cases_db[1991]['suspects'] == 1    #  Suspects_text is '', we put 1\n",
    "assert cases_db[1991]['case_date'] == '10/15/1673'\n",
    "\n",
    "assert cases_db[0]['case_date'] == '08/02/1649'  # 2/8/1649\n",
    "assert cases_db[1143]['case_date'] == '1560'     # 1560\n",
    "assert cases_db[924]['case_date'] ==  '07/1652'  # 7/1652\n",
    "assert cases_db[491]['suspects'] == 15           # 15\n",
    "\n",
    "from expected_cases_db import expected_cases_db\n",
    "assert cases_db == expected_cases_db"
   ]
  },
  {
   "cell_type": "markdown",
   "metadata": {},
   "source": [
    "## A4 plot_cases\n",
    "\n",
    "Given the previously computed db, plot the number of cases per year.\n",
    "\n",
    "* plot the ticks with 10 years intervals, according to the actual data (**DO NOT use constants like** `1560` **!!**)\n",
    "* careful some cases have no year"
   ]
  },
  {
   "cell_type": "raw",
   "id": "915ff767",
   "metadata": {
    "format": "text/html"
   },
   "source": [
    "<a  class=\"jupman-sol jupman-sol-toggler\" \n",
    " onclick=\"jupman.toggleSolution(this);\" \n",
    " data-jupman-show=\"Show solution\" data-jupman-hide=\"Hide\">Show solution</a><div class=\"jupman-sol jupman-sol-code\" style=\"display:none\">  "
   ]
  },
  {
   "cell_type": "code",
   "execution_count": 9,
   "metadata": {},
   "outputs": [],
   "source": [
    "\n",
    "def plot_cases(db):\n",
    "    \n",
    "    import numpy as np\n",
    "    import matplotlib.pyplot as plt\n",
    "    from collections import Counter\n",
    "\n",
    "    years = [int(diz['case_date'].split('/')[-1]) for diz in db if diz['case_date']]\n",
    "    hist = Counter(years)\n",
    "    xs = sorted(hist.keys())    \n",
    "    ys = [hist[x] for x in xs]\n",
    "    \n",
    "    fig = plt.figure(figsize=(18,5))\n",
    "    plt.plot(xs, ys, color='purple')\n",
    "\n",
    "    plt.title(\"Witchcraft cases per year SOLUTION\")\n",
    "    plt.xlabel('Year')\n",
    "    plt.ylabel('Number of cases')\n",
    "\n",
    "    tks = np.arange(min(xs), max(xs), 10)    \n",
    "    plt.xticks(tks, tks)    \n",
    "        \n",
    "    plt.show()\n",
    "    \n",
    "    \n",
    "#plot_cases(cases_db)    "
   ]
  },
  {
   "cell_type": "raw",
   "id": "0353c683",
   "metadata": {
    "format": "text/html"
   },
   "source": [
    "</div>"
   ]
  },
  {
   "cell_type": "code",
   "execution_count": 9,
   "metadata": {},
   "outputs": [],
   "source": [
    "\n",
    "def plot_cases(db):\n",
    "    raise Exception('TODO IMPLEMENT ME !')\n",
    "    \n",
    "#plot_cases(cases_db)    "
   ]
  },
  {
   "cell_type": "code",
   "execution_count": 10,
   "metadata": {},
   "outputs": [
    {
     "data": {
      "image/png": "[encoded data removed]",
      "text/plain": [
       "<Figure size 1296x360 with 1 Axes>"
      ]
     },
     "metadata": {
      "needs_background": "light"
     },
     "output_type": "display_data"
    }
   ],
   "source": [
    "plot_cases(cases_db)"
   ]
  },
  {
   "cell_type": "markdown",
   "metadata": {},
   "source": [
    "## Part B\n"
   ]
  },
  {
   "cell_type": "markdown",
   "metadata": {},
   "source": [
    "## B1.1 Theory - Complexity\n",
    "\n",
    "**Write the solution in separate `theory.txt` file**\n",
    "\n",
    "1.  Given a list $L$ of $n$ elements, please compute the asymptotic computational complexity of the following function, explaining your reasoning.\n",
    "\n",
    "```python\n",
    "\n",
    "\tdef my_fun(L):\n",
    "    \t\tn = len(L)\n",
    "    \t\tif n <= 1:\n",
    "        \t\treturn 1\n",
    "    \t\telse:\n",
    "        \t\tL1 = L[0:n//2]\n",
    "        \t\tL2 = L[n//2:]\n",
    "        \t\ta = my_fun(L1) + min(L1)\n",
    "        \t\tb = my_fun(L2) + min(L2)\n",
    "        \t\treturn max(a, b)\n",
    "```"
   ]
  },
  {
   "cell_type": "markdown",
   "metadata": {},
   "source": [
    "## B1.2 Theory - Graph\n",
    "\n",
    "Briefly describe what a BFS visit of a graph is. Please provide the order of visited nodes of a possible BFS visit on the following graph (starting from node 'a'):\n",
    "\n",
    "![bfs](img/bfs.jpg)"
   ]
  },
  {
   "cell_type": "markdown",
   "metadata": {},
   "source": [
    "## B2 Bank\n",
    "\n",
    "A bank stores all its transactions in a log: possible types of transactions are opening an account, transfering some amount of money, withdrawal, etc. For simplicity, we represent each transaction type with a character, and in the log which is a Python list we put only such characters (we don't care about their meaning).\n",
    "\n",
    "The bank knows some sequences of events are extremely rare, and probably denote suspicious activity. For simplicitly, we assume such sequences only contain two transactions and represent them in tuples called _biseqs_. \n",
    "\n",
    "**NOTE**: a biseq can occur multiple times, but you can consider the number of repetitions negligible with respect to log size."
   ]
  },
  {
   "cell_type": "markdown",
   "metadata": {},
   "source": [
    "**THESE EXERCISES ARE ABOUT CUSTOM INDEXING, NOT STRINGS: DO NOT** convert everything to a string, use regexes, nor use string methods like `.index()`, `.replace()`, etc"
   ]
  },
  {
   "cell_type": "markdown",
   "metadata": {},
   "source": [
    "## B2.1 constructor,  log and pos\n",
    " \n",
    "Implement following methods, adding some appropriate indexing data structure.\n",
    " \n",
    "```python \n",
    "\n",
    "class Bank:\n",
    "\n",
    "    def __init__(self):\n",
    "        \"\"\" Initializes an empty bank\n",
    "        \n",
    "            Add a data structure of your choice for indexing the log\n",
    "        \"\"\"\n",
    "        self._trans = []\n",
    "        raise Exception(\"TODO IMPLEMENT ME!\")\n",
    "        \n",
    "    def log(self, transaction):\n",
    "        \"\"\" Appends transaction to the log\n",
    "        \n",
    "            - REMEMBER to also update the index\n",
    "            - MUST EXECUTE IN O(1)\n",
    "        \"\"\"\n",
    "```        \n",
    " \n",
    "```python\n",
    "    def pos(self, biseq):\n",
    "        \"\"\" RETURN a NEW list with all the indeces where the sequence of \n",
    "            two transactions can be found\n",
    "        \n",
    "            - MUST execute in O(1)\n",
    "        \"\"\"\n",
    "```\n",
    "\n",
    "**Testing**: `python3 -m unittest bank_test.LogTest`\n",
    "\n",
    "**Example**:"
   ]
  },
  {
   "cell_type": "code",
   "execution_count": 11,
   "metadata": {},
   "outputs": [
    {
     "name": "stdout",
     "output_type": "stream",
     "text": [
      "Bank: \n"
     ]
    }
   ],
   "source": [
    "from bank_sol import *\n",
    "\n",
    "bank = Bank()\n",
    "print(bank)"
   ]
  },
  {
   "cell_type": "code",
   "execution_count": 12,
   "metadata": {},
   "outputs": [],
   "source": [
    "bank.log('a')"
   ]
  },
  {
   "cell_type": "code",
   "execution_count": 13,
   "metadata": {},
   "outputs": [
    {
     "name": "stdout",
     "output_type": "stream",
     "text": [
      "Bank: a\n"
     ]
    }
   ],
   "source": [
    "print(bank)"
   ]
  },
  {
   "cell_type": "code",
   "execution_count": 14,
   "metadata": {},
   "outputs": [
    {
     "name": "stdout",
     "output_type": "stream",
     "text": [
      "[]\n"
     ]
    }
   ],
   "source": [
    "print(bank.pos( ('a','b') ))  # <-- a biseq is a tuple"
   ]
  },
  {
   "cell_type": "code",
   "execution_count": 15,
   "metadata": {},
   "outputs": [],
   "source": [
    "bank.log('b')"
   ]
  },
  {
   "cell_type": "code",
   "execution_count": 16,
   "metadata": {},
   "outputs": [
    {
     "name": "stdout",
     "output_type": "stream",
     "text": [
      "[0]\n"
     ]
    }
   ],
   "source": [
    "print(bank.pos( ('a','b') ))"
   ]
  },
  {
   "cell_type": "code",
   "execution_count": 17,
   "metadata": {},
   "outputs": [
    {
     "name": "stdout",
     "output_type": "stream",
     "text": [
      "Bank: a,b,a,a,a,a,b\n"
     ]
    }
   ],
   "source": [
    "bank.log('a')\n",
    "bank.log('a')\n",
    "bank.log('a')\n",
    "bank.log('a')\n",
    "bank.log('b')\n",
    "print(bank)"
   ]
  },
  {
   "cell_type": "code",
   "execution_count": 18,
   "metadata": {},
   "outputs": [
    {
     "name": "stdout",
     "output_type": "stream",
     "text": [
      "[0, 5]\n"
     ]
    }
   ],
   "source": [
    "print(bank.pos(('a','b')))"
   ]
  },
  {
   "cell_type": "code",
   "execution_count": 19,
   "metadata": {},
   "outputs": [
    {
     "name": "stdout",
     "output_type": "stream",
     "text": [
      "[2, 3, 4]\n"
     ]
    }
   ],
   "source": [
    "print(bank.pos(('a','a')))"
   ]
  },
  {
   "cell_type": "markdown",
   "metadata": {},
   "source": [
    "## B2.2 revert\n",
    "\n",
    "```python\n",
    "    def revert(self):\n",
    "        \"\"\" Completely eliminates last transaction and RETURN it\n",
    "        \n",
    "            - if bank is empty, raises IndexError\n",
    "            \n",
    "            - REMEMBER to update any index referring to it\n",
    "            - *MUST* EXECUTE IN O(1)             \n",
    "        \"\"\"\n",
    "```\n",
    "**Testing**: `python3 -m unittest RevertTest`\n",
    "\n",
    "**Example:**"
   ]
  },
  {
   "cell_type": "code",
   "execution_count": 20,
   "metadata": {},
   "outputs": [
    {
     "name": "stdout",
     "output_type": "stream",
     "text": [
      "[0, 3]\n"
     ]
    }
   ],
   "source": [
    "bank = Bank()\n",
    "bank.log('a')\n",
    "bank.log('b')\n",
    "bank.log('c')\n",
    "bank.log('a')\n",
    "bank.log('b')\n",
    "print(bank.pos(('a','b')))"
   ]
  },
  {
   "cell_type": "code",
   "execution_count": 21,
   "metadata": {},
   "outputs": [
    {
     "data": {
      "text/plain": [
       "'b'"
      ]
     },
     "execution_count": 21,
     "metadata": {},
     "output_type": "execute_result"
    }
   ],
   "source": [
    "bank.revert()"
   ]
  },
  {
   "cell_type": "code",
   "execution_count": 22,
   "metadata": {},
   "outputs": [
    {
     "name": "stdout",
     "output_type": "stream",
     "text": [
      "Bank: a,b,c,a\n"
     ]
    }
   ],
   "source": [
    "print(bank)"
   ]
  },
  {
   "cell_type": "code",
   "execution_count": 23,
   "metadata": {},
   "outputs": [
    {
     "name": "stdout",
     "output_type": "stream",
     "text": [
      "[0]\n"
     ]
    }
   ],
   "source": [
    "print(bank.pos(('a','b')))"
   ]
  },
  {
   "cell_type": "markdown",
   "metadata": {},
   "source": [
    "##  B2.3 max_interval\n",
    "\n",
    "Typically, there is a biseq which triggers a period of suspicious activity, and there is another biseq which ends it. So given a start and an end biseq, the bank wants a report of all the transactions that happened in between:"
   ]
  },
  {
   "cell_type": "markdown",
   "metadata": {},
   "source": [
    "```python\n",
    "    def max_interval(self, bi_start, bi_end):\n",
    "        \"\"\" RETURN a list with all the transactions occurred between \n",
    "            the *largest* interval among bi-sequences bi_start and bi_end\n",
    "        \n",
    "            - bi_start and bi_end are EXCLUDED \n",
    "            - if bi_start / bi_end are not found, or if bi_end is before/includes bi_start, \n",
    "              raise LookupError\n",
    "            \n",
    "            - DO *NOT* MODIFY the data structure\n",
    "            - MUST EXECUTE IN O(k) where k is the length of the *largest* interval\n",
    "              you can return\n",
    "            - consider number of repetitions a negligible size\n",
    "        \"\"\"\n",
    "```\n",
    "**Testing**: `python -m unittest bank_test.MaxIntervalTest`\n",
    "\n",
    "**Example**: "
   ]
  },
  {
   "cell_type": "code",
   "execution_count": 24,
   "metadata": {},
   "outputs": [
    {
     "data": {
      "text/plain": [
       "['f', 'a', 'f', 'c', 'b']"
      ]
     },
     "execution_count": 24,
     "metadata": {},
     "output_type": "execute_result"
    }
   ],
   "source": [
    "bank = Bank()\n",
    "bank.log('c')\n",
    "bank.log('d')\n",
    "bank.log('c')\n",
    "bank.log('a')\n",
    "bank.log('b') # <--- b \n",
    "bank.log('e') #      e\n",
    "bank.log('f') #      --- f     |\n",
    "bank.log('a') #          a     |\n",
    "bank.log('f') #          f     | k\n",
    "bank.log('c') #          c     |\n",
    "bank.log('b') #      --- b     |\n",
    "bank.log('a') # <--- a \n",
    "bank.log('f') #      f\n",
    "bank.log('b')\n",
    "bank.log('e')\n",
    "bank.log('l')\n",
    "bank.max_interval( ('b','e'), ('a','f') )"
   ]
  },
  {
   "cell_type": "code",
   "execution_count": 25,
   "metadata": {
    "nbsphinx": "hidden"
   },
   "outputs": [
    {
     "name": "stderr",
     "output_type": "stream",
     "text": [
      ".................\n",
      "----------------------------------------------------------------------\n",
      "Ran 17 tests in 0.018s\n",
      "\n",
      "OK\n"
     ]
    }
   ],
   "source": [
    "#ignore this\n",
    "import jupman\n",
    "\n",
    "import bank_test \n",
    "jupman.run(bank_test)"
   ]
  },
  {
   "cell_type": "code",
   "execution_count": null,
   "metadata": {},
   "outputs": [],
   "source": []
  }
 ],
 "metadata": {
  "celltoolbar": "Edit Metadata",
  "kernelspec": {
   "display_name": "Python 3",
   "language": "python",
   "name": "python3"
  },
  "language_info": {
   "codemirror_mode": {
    "name": "ipython",
    "version": 3
   },
   "file_extension": ".py",
   "mimetype": "text/x-python",
   "name": "python",
   "nbconvert_exporter": "python",
   "pygments_lexer": "ipython3",
   "version": "3.7.9"
  },
  "toc": {
   "base_numbering": 1,
   "nav_menu": {},
   "number_sections": false,
   "sideBar": true,
   "skip_h1_title": false,
   "title_cell": "Table of Contents",
   "title_sidebar": "Contents",
   "toc_cell": false,
   "toc_position": {},
   "toc_section_display": true,
   "toc_window_display": true
  }
 },
 "nbformat": 4,
 "nbformat_minor": 1
}
