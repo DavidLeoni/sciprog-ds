{
 "cells": [
  {
   "cell_type": "markdown",
   "metadata": {
    "collapsed": true
   },
   "source": [
    "# Midterm A -  Fri 06, Nov 2020\n",
    "\n",
    "**Scientific Programming - Data Science @ University of Trento**\n",
    "\n",
    "## Download [exercises and solutions](../../../_static/generated/sciprog-ds-2020-11-06-exam.zip)\n",
    "\n",
    "\n",
    "\n",
    "**Taking part to this exam erases any vote you had before**\n",
    "\n",
    "\n",
    "1) Download  `sciprog-ds-2020-11-06-exam.zip` and extract it <b>on your desktop</b>.\n",
    "\n",
    "2) Rename `sciprog-ds-2020-11-06-FIRSTNAME-LASTNAME-ID` folder: put your name, lastname an id number, like `sciprog-ds-2020-11-06-john-doe-432432`\n",
    "\n",
    "From now on, you will be editing the files in that folder. At the end of the exam, that is what will be evaluated.\n",
    "\n",
    "3) Edit the files following the instructions in this worksheet for each exercise. \n",
    "\n",
    "4) When done zip and send to [examina.icts.unitn.it/studente](http://examina.icts.unitn.it/studente)"
   ]
  },
  {
   "cell_type": "markdown",
   "metadata": {},
   "source": [
    "## Music Sequencer\n",
    "\n",
    "<div class=\"alert alert-warning\">\n",
    "    \n",
    "**NOTICE: this part of the exam was ported to** [softpython](https://en.softpython.org/projects/music-sequencer/music-sequencer-sol.html) **website**\n",
    "    \n",
    "There you can find a more curated version (notice it may be longer than here)\n",
    "</div>    \n",
    "\n",
    "Open Jupyter and start editing this notebook `exam-2020-11-06.ipynb`\n",
    "\n",
    "[ABC](http://abcnotation.com/wiki/abc:standard:v2.1#rrhythm) is a popular format to write music notation in plain text files, you can see an example by openining `tunes.abc` with a text editor. A music sequencer is an editor software which typically displays notes as a matrix: you will parse simplified abc tunes and display their melodies in a matrix."
   ]
  },
  {
   "cell_type": "markdown",
   "metadata": {},
   "source": [
    "## 1. parse_melody\n",
    "\n",
    "Write a function which given a melody as a string of notes translates it to a list of tuples:\n",
    "\n",
    "```python\n",
    ">>> parse_melody(\"|A4      C2  E2 |C4      E D C2 |C3    B3    G2 |\")\n",
    "[(0, 8), (2, 4), (4, 4), (2, 8), (4, 2), (3, 2), (2, 4), (2, 6), (1, 6), (6, 4)]\n",
    "```\n",
    "\n",
    "Each melody note is followed by its duration. If no duration number is specified, we assume it is one. \n",
    "\n",
    "Each tuple first element represents a note as a number from `0` (`A`) to `6` (`G`) and the second element is the note length in the sequencer. We assume our sequencer has a resolution of two beats per note, so for us a note `A` would have length `2`, a note `A2` a length `4`, a note `A3` a length `6` and so on.\n",
    "\n",
    "* **DO NOT** care about spaces nor bars `|`, they have no meaning at all\n",
    "* To get a character position, use `ord` python function"
   ]
  },
  {
   "cell_type": "raw",
   "id": "c13f7959",
   "metadata": {
    "format": "text/html"
   },
   "source": [
    "<a  class=\"jupman-sol jupman-sol-toggler\" \n",
    " onclick=\"jupman.toggleSolution(this);\" \n",
    " data-jupman-show=\"Show solution\" data-jupman-hide=\"Hide\">Show solution</a><div class=\"jupman-sol jupman-sol-code\" style=\"display:none\">  "
   ]
  },
  {
   "cell_type": "code",
   "execution_count": 1,
   "metadata": {},
   "outputs": [
    {
     "name": "stdout",
     "output_type": "stream",
     "text": [
      "[(0, 8), (2, 4), (4, 4), (2, 8), (4, 2), (3, 2), (2, 4), (2, 6), (1, 6), (6, 4)]\n"
     ]
    }
   ],
   "source": [
    "\n",
    "def parse_melody(melody):\n",
    "    \n",
    "    notes = melody.replace('|',' ').split()\n",
    "    \n",
    "    ret = []\n",
    "    for note in notes:        \n",
    "        n = ord(note[0])-ord('A')\n",
    "        if len(note) == 1:\n",
    "            ret.append((n,2))\n",
    "        else:\n",
    "            ret.append((n,2*int(note[1])))\n",
    "    \n",
    "    return ret\n",
    "    \n",
    "\n",
    "from pprint import pprint\n",
    "melody1 = \"|A4      C2  E2 |C4      E D C2 |C3    B3    G2 |\"\n",
    "pprint(parse_melody(melody1) )\n",
    "\n",
    "assert parse_melody(\"||\") == []\n",
    "assert parse_melody(\"|A|\") == [(0,2)]\n",
    "assert parse_melody(\"|A3|\") == [(0,6)]\n",
    "assert parse_melody(\"|A B|\") == [(0,2), (1,2)]\n",
    "assert parse_melody(\"|C D|\") == [(2,2), (3,2)]\n",
    "assert parse_melody(\" | G    F  |   \") == [(6,2), (5,2)]\n",
    "assert parse_melody(\"|D|B|\") == [(3,2), (1,2)]\n",
    "assert parse_melody(\"|D3 E4|\") == [(3,6),(4,8)]\n",
    "assert parse_melody(\"|F|A2 B|\") == [(5,2),(0,4),(1,2)]\n",
    "assert parse_melody(\"|A4      C2  E2 |C4      E D C2 |C3    B3    G2 |\") == \\\n",
    "       [(0, 8), (2, 4), (4, 4), (2, 8), (4, 2), (3, 2), (2, 4), (2, 6), (1, 6), (6, 4)]"
   ]
  },
  {
   "cell_type": "raw",
   "id": "50488906",
   "metadata": {
    "format": "text/html"
   },
   "source": [
    "</div>"
   ]
  },
  {
   "cell_type": "code",
   "execution_count": 1,
   "metadata": {},
   "outputs": [
    {
     "name": "stdout",
     "output_type": "stream",
     "text": [
      "[(0, 8), (2, 4), (4, 4), (2, 8), (4, 2), (3, 2), (2, 4), (2, 6), (1, 6), (6, 4)]\n"
     ]
    }
   ],
   "source": [
    "\n",
    "def parse_melody(melody):\n",
    "    raise Exception('TODO IMPLEMENT ME !')\n",
    "\n",
    "from pprint import pprint\n",
    "melody1 = \"|A4      C2  E2 |C4      E D C2 |C3    B3    G2 |\"\n",
    "pprint(parse_melody(melody1) )\n",
    "\n",
    "assert parse_melody(\"||\") == []\n",
    "assert parse_melody(\"|A|\") == [(0,2)]\n",
    "assert parse_melody(\"|A3|\") == [(0,6)]\n",
    "assert parse_melody(\"|A B|\") == [(0,2), (1,2)]\n",
    "assert parse_melody(\"|C D|\") == [(2,2), (3,2)]\n",
    "assert parse_melody(\" | G    F  |   \") == [(6,2), (5,2)]\n",
    "assert parse_melody(\"|D|B|\") == [(3,2), (1,2)]\n",
    "assert parse_melody(\"|D3 E4|\") == [(3,6),(4,8)]\n",
    "assert parse_melody(\"|F|A2 B|\") == [(5,2),(0,4),(1,2)]\n",
    "assert parse_melody(\"|A4      C2  E2 |C4      E D C2 |C3    B3    G2 |\") == \\\n",
    "       [(0, 8), (2, 4), (4, 4), (2, 8), (4, 2), (3, 2), (2, 4), (2, 6), (1, 6), (6, 4)]"
   ]
  },
  {
   "cell_type": "markdown",
   "metadata": {},
   "source": [
    "## 2. parse_tunes\n",
    "\n",
    "An `.abc` file is a series of key:value fields. Keys are always one character long. Anything after a `%` is a comment and must be ignored\n",
    "\n",
    "File `tunes.abc` excerpt:"
   ]
  },
  {
   "cell_type": "code",
   "execution_count": 2,
   "metadata": {},
   "outputs": [
    {
     "name": "stdout",
     "output_type": "stream",
     "text": [
      "%abc-2.1\n",
      "H:Tune made in a dark algorithmic night    % history and origin in header, so replicated in all tunes!\n",
      "O:Trento                                   \n",
      "\n",
      "X:1                      % index\n",
      "T:Algorave               % title\n",
      "C:The Lord of the Loop   % composer\n",
      "M:4/4                    % meter\n",
      "K:C                      % key\n",
      "|A4      C2  E2 |C4      E D C2 |C3    B3    G2 |   % melodies can also have a comment\n",
      "\n",
      "X:2                      \n",
      "T:Transpose Your Head\n",
      "C:Matrix Queen  \n",
      "M:3/4    \n",
      "K:G\n",
      "|F2  G4     |E4      E F|A2  B2  D2 |D3    E3   |C3    C3   |   \n",
      "\n"
     ]
    }
   ],
   "source": [
    "with open(\"tunes.abc\", encoding='utf-8') as f: print(''.join(f.readlines()[0:17]))"
   ]
  },
  {
   "cell_type": "markdown",
   "metadata": {},
   "source": [
    "First lines (3 in the example) are the file header, separated by tunes with a blank line.\n",
    "\n",
    "* first line must always be ignored\n",
    "* fields specified in the file header must be copied in _all_ tunes\n",
    "\n",
    "After the first blank line, there is the first tune:\n",
    "\n",
    "* `X` is the tune index, convert it to integer\n",
    "* `M` is the meter, convert it to a tuple of two integers\n",
    "* `K` is the last field of metadata\n",
    "*  melody line has no field key, it always follows line with `K` and it immediately begins with a pipe: convert it to list by calling `parse_melody`\n",
    "\n",
    "Following tunes are separated by blank lines\n",
    "\n",
    "Write a function `parse_tunes` which parses the file and outputs a list of dictionaries, one per tune. Use provided `field_names` to obtain dictionary keys. Full expected db is in `expected_db.py` file.\n",
    "\n",
    "<div class=\"alert alert-warning\">\n",
    "  \n",
    "**DO NOT write hundreds of** `ifs` \n",
    "    \n",
    "Special keys are listed above, all others should be treated in a generic way        \n",
    "</div>            \n",
    "\n",
    "<div class=\"alert alert-warning\">\n",
    "  \n",
    "**DO NOT assume header always contains** `'origin'` **and** `'history'`\n",
    "    \n",
    "It can contain _any_ field, which has to be then copied in all the tunes.\n",
    "</div>            "
   ]
  },
  {
   "cell_type": "raw",
   "id": "91a418b4",
   "metadata": {
    "format": "text/html"
   },
   "source": [
    "<a  class=\"jupman-sol jupman-sol-toggler\" \n",
    " onclick=\"jupman.toggleSolution(this);\" \n",
    " data-jupman-show=\"Show solution\" data-jupman-hide=\"Hide\">Show solution</a><div class=\"jupman-sol jupman-sol-code\" style=\"display:none\">  "
   ]
  },
  {
   "cell_type": "code",
   "execution_count": 3,
   "metadata": {},
   "outputs": [
    {
     "name": "stdout",
     "output_type": "stream",
     "text": [
      "[{'composer': 'The Lord of the Loop',\n",
      "  'history': 'Tune made in a dark algorithmic night',\n",
      "  'index': 1,\n",
      "  'key': 'C',\n",
      "  'melody': [(0, 8), (2, 4), (4, 4), (2, 8), (4, 2), (3, 2), (2, 4), (2, 6), (1, 6), (6, 4)],\n",
      "  'meter': (4, 4),\n",
      "  'origin': 'Trento',\n",
      "  'title': 'Algorave'},\n",
      " {'composer': 'Matrix Queen',\n",
      "  'history': 'Tune made in a dark algorithmic night',\n",
      "  'index': 2,\n",
      "  'key': 'G',\n",
      "  'melody': [(5, 4), (6, 8), (4, 8), (4, 2), (5, 2), (0, 4), (1, 4), (3, 4), (3, 6), (4, 6), (2, 6), (2, 6)],\n",
      "  'meter': (3, 4),\n",
      "  'origin': 'Trento',\n",
      "  'title': 'Transpose Your Head'}]\n"
     ]
    }
   ],
   "source": [
    "field_names = {\n",
    "    'O':'origin',\n",
    "    'H':'history',\n",
    "    'X':'index',\n",
    "    'T':'title',    \n",
    "    'C':'composer',\n",
    "    'M':'meter',\n",
    "    'K':'key',        \n",
    "}\n",
    "\n",
    "def parse_tunes(filename):\n",
    "    \n",
    "   \n",
    "    with open('tunes.abc', encoding='utf-8') as f:\n",
    "        f.readline()  # skips %abc-2.1\n",
    "        tunes = []\n",
    "        common = {}\n",
    "        for line in f:\n",
    "            #pprint(line)\n",
    "            clean_line = line.split('%')[0].strip()\n",
    "            if clean_line == '':\n",
    "                tune = common.copy()\n",
    "                tunes.append(tune)            \n",
    "            elif len(tunes) > 0:      \n",
    "                if 'key' in tune:\n",
    "                    tune['melody'] = parse_melody(clean_line)\n",
    "                else:                 \n",
    "                    k,v = clean_line.split(':')\n",
    "                    if k == 'X':    # index\n",
    "                        vp = int(v)\n",
    "                    elif k == 'M':  # meter\n",
    "                        s = v.split('/')\n",
    "                        vp = (int(s[0]), int(s[1]))\n",
    "                    else:\n",
    "                        vp = v\n",
    "                    tune[field_names[k]] = vp\n",
    "            else: # header\n",
    "                couple = clean_line.split(':')\n",
    "                common[field_names[couple[0]]] = couple[1]\n",
    "\n",
    "        return tunes\n",
    "    \n",
    "    \n",
    "tunes_db = parse_tunes('tunes.abc')\n",
    "pprint(tunes_db[:2],width=150)\n"
   ]
  },
  {
   "cell_type": "raw",
   "id": "eba35b43",
   "metadata": {
    "format": "text/html"
   },
   "source": [
    "</div>"
   ]
  },
  {
   "cell_type": "code",
   "execution_count": 3,
   "metadata": {},
   "outputs": [
    {
     "name": "stdout",
     "output_type": "stream",
     "text": [
      "[{'composer': 'The Lord of the Loop',\n",
      "  'history': 'Tune made in a dark algorithmic night',\n",
      "  'index': 1,\n",
      "  'key': 'C',\n",
      "  'melody': [(0, 8), (2, 4), (4, 4), (2, 8), (4, 2), (3, 2), (2, 4), (2, 6), (1, 6), (6, 4)],\n",
      "  'meter': (4, 4),\n",
      "  'origin': 'Trento',\n",
      "  'title': 'Algorave'},\n",
      " {'composer': 'Matrix Queen',\n",
      "  'history': 'Tune made in a dark algorithmic night',\n",
      "  'index': 2,\n",
      "  'key': 'G',\n",
      "  'melody': [(5, 4), (6, 8), (4, 8), (4, 2), (5, 2), (0, 4), (1, 4), (3, 4), (3, 6), (4, 6), (2, 6), (2, 6)],\n",
      "  'meter': (3, 4),\n",
      "  'origin': 'Trento',\n",
      "  'title': 'Transpose Your Head'}]\n"
     ]
    }
   ],
   "source": [
    "field_names = {\n",
    "    'O':'origin',\n",
    "    'H':'history',\n",
    "    'X':'index',\n",
    "    'T':'title',    \n",
    "    'C':'composer',\n",
    "    'M':'meter',\n",
    "    'K':'key',        \n",
    "}\n",
    "\n",
    "def parse_tunes(filename):\n",
    "    raise Exception('TODO IMPLEMENT ME !')\n",
    "    \n",
    "tunes_db = parse_tunes('tunes.abc')\n",
    "pprint(tunes_db[:2],width=150)\n"
   ]
  },
  {
   "cell_type": "code",
   "execution_count": 4,
   "metadata": {},
   "outputs": [],
   "source": [
    "assert tunes_db[0]['history']=='Tune made in a dark algorithmic night'\n",
    "assert tunes_db[0]['origin']=='Trento'\n",
    "assert tunes_db[0]['index']==1\n",
    "assert tunes_db[0]['title']=='Algorave'\n",
    "assert tunes_db[0]['composer']=='The Lord of the Loop'\n",
    "assert tunes_db[0]['meter']==(4,4)\n",
    "assert tunes_db[0]['key']== 'C'\n",
    "assert tunes_db[0]['melody']==\\\n",
    "[(0, 8), (2, 4), (4, 4), (2, 8), (4, 2), (3, 2), (2, 4), (2, 6), (1, 6), (6, 4)]\n",
    "assert tunes_db[1]['history']=='Tune made in a dark algorithmic night'\n",
    "assert tunes_db[1]['origin']=='Trento'\n",
    "assert tunes_db[1]['index']==2\n",
    "assert tunes_db[1]['title']=='Transpose Your Head'\n",
    "assert tunes_db[1]['composer']=='Matrix Queen'\n",
    "assert tunes_db[1]['meter']==(3,4)\n",
    "assert tunes_db[1]['key']== 'G'\n",
    "assert tunes_db[1]['melody']==\\\n",
    "[(5, 4), (6, 8), (4, 8), (4, 2), (5, 2), (0, 4), (1, 4), (3, 4), (3, 6), (4, 6), (2, 6), (2, 6)]"
   ]
  },
  {
   "cell_type": "markdown",
   "metadata": {},
   "source": [
    "## 3. sequencer\n",
    "\n",
    "Write a function `sequencer` which takes a melody in text format and outputs a matrix of note events, as a list of strings.\n",
    "\n",
    "The rows are all the notes on keyboard (we assume 7 notes without black keys) and the columns represent the duration of a note.\n",
    "\n",
    "* a note start is marked with `<` character, a sustain with `=` character and end with `>`\n",
    "* **HINT 1**: call `parse_melody` to obtain notes as a list of tuples (if you didn't manage to implement it copy expected list from `expected_db.py`)\n",
    "* **HINT 2**: build first a list of list of characters, and only at the very end convert to a list of strings\n",
    "* **HINT 3**: try obtaining the note letters for first column by using `ord` and `chr`"
   ]
  },
  {
   "cell_type": "raw",
   "id": "68a83498",
   "metadata": {
    "format": "text/html"
   },
   "source": [
    "<a  class=\"jupman-sol jupman-sol-toggler\" \n",
    " onclick=\"jupman.toggleSolution(this);\" \n",
    " data-jupman-show=\"Show solution\" data-jupman-hide=\"Hide\">Show solution</a><div class=\"jupman-sol jupman-sol-code\" style=\"display:none\">  "
   ]
  },
  {
   "cell_type": "code",
   "execution_count": 5,
   "metadata": {},
   "outputs": [
    {
     "name": "stdout",
     "output_type": "stream",
     "text": [
      "  |A4      C2  E2 |C4      E D C2 |C3    B3    G2  |\n",
      "\n",
      "['A<======>                                        ',\n",
      " 'B                                      <====>    ',\n",
      " 'C        <==>    <======>    <==><====>          ',\n",
      " 'D                          <>                    ',\n",
      " 'E            <==>        <>                      ',\n",
      " 'F                                                ',\n",
      " 'G                                            <==>']\n"
     ]
    }
   ],
   "source": [
    "def sequencer(melody):\n",
    "    \n",
    "    notes = parse_melody(melody)\n",
    "    length = 0\n",
    "    for note in notes:\n",
    "        length += note[1]\n",
    "    ret = []\n",
    "    \n",
    "    work = [[' ']*(length+1) for i in range(7)]\n",
    "    \n",
    "    for i in range(7):\n",
    "        work[i][0] = chr(ord('A')+i)\n",
    "    \n",
    "    j = 0\n",
    "    for n,d in notes:        \n",
    "        work[n][j+1] = '<'\n",
    "        eqlen = d-2\n",
    "        work[n][j+2 : j+eqlen+2] = '=' * eqlen   # cool slice writing\n",
    "        work[n][j+d] = '>'\n",
    "        j += d\n",
    "    return [''.join(w) for w in work]\n",
    "    \n",
    "\n",
    "from pprint import pprint\n",
    "melody1 =  \"|A4      C2  E2 |C4      E D C2 |C3    B3    G2  |\"\n",
    "exp1 = [\n",
    "           'A<======>                                        ', \n",
    "           'B                                      <====>    ', \n",
    "           'C        <==>    <======>    <==><====>          ', \n",
    "           'D                          <>                    ', \n",
    "           'E            <==>        <>                      ', \n",
    "           'F                                                ', \n",
    "           'G                                            <==>']\n",
    "\n",
    "res1 = sequencer(melody1) \n",
    "print('  ' + melody1)\n",
    "print()\n",
    "pprint(res1)\n",
    "assert res1 == exp1"
   ]
  },
  {
   "cell_type": "raw",
   "id": "fe665c6a",
   "metadata": {
    "format": "text/html"
   },
   "source": [
    "</div>"
   ]
  },
  {
   "cell_type": "code",
   "execution_count": 5,
   "metadata": {},
   "outputs": [
    {
     "name": "stdout",
     "output_type": "stream",
     "text": [
      "  |A4      C2  E2 |C4      E D C2 |C3    B3    G2  |\n",
      "\n",
      "['A<======>                                        ',\n",
      " 'B                                      <====>    ',\n",
      " 'C        <==>    <======>    <==><====>          ',\n",
      " 'D                          <>                    ',\n",
      " 'E            <==>        <>                      ',\n",
      " 'F                                                ',\n",
      " 'G                                            <==>']\n"
     ]
    }
   ],
   "source": [
    "def sequencer(melody):\n",
    "    raise Exception('TODO IMPLEMENT ME !')\n",
    "\n",
    "from pprint import pprint\n",
    "melody1 =  \"|A4      C2  E2 |C4      E D C2 |C3    B3    G2  |\"\n",
    "exp1 = [\n",
    "           'A<======>                                        ', \n",
    "           'B                                      <====>    ', \n",
    "           'C        <==>    <======>    <==><====>          ', \n",
    "           'D                          <>                    ', \n",
    "           'E            <==>        <>                      ', \n",
    "           'F                                                ', \n",
    "           'G                                            <==>']\n",
    "\n",
    "res1 = sequencer(melody1) \n",
    "print('  ' + melody1)\n",
    "print()\n",
    "pprint(res1)\n",
    "assert res1 == exp1"
   ]
  },
  {
   "cell_type": "code",
   "execution_count": 6,
   "metadata": {},
   "outputs": [
    {
     "name": "stdout",
     "output_type": "stream",
     "text": [
      "  |F2  G4     |E4      E F|A2  B2  D2 |D3    E3   |C3    C3   |\n",
      "\n",
      "['A                        <==>                                ',\n",
      " 'B                            <==>                            ',\n",
      " 'C                                                <====><====>',\n",
      " 'D                                <==><====>                  ',\n",
      " 'E            <======><>                    <====>            ',\n",
      " 'F<==>                  <>                                    ',\n",
      " 'G    <======>                                                ']\n"
     ]
    }
   ],
   "source": [
    "from pprint import pprint\n",
    "melody2 =  \"|F2  G4     |E4      E F|A2  B2  D2 |D3    E3   |C3    C3   |\"\n",
    "exp2 =    ['A                        <==>                                ',\n",
    "           'B                            <==>                            ',\n",
    "           'C                                                <====><====>',\n",
    "           'D                                <==><====>                  ',\n",
    "           'E            <======><>                    <====>            ',\n",
    "           'F<==>                  <>                                    ',\n",
    "           'G    <======>                                                ']\n",
    "\n",
    "res2 = sequencer(melody2) \n",
    "print('  ' + melody2)\n",
    "print()\n",
    "pprint(res2)\n",
    "assert res2 == exp2"
   ]
  },
  {
   "cell_type": "markdown",
   "metadata": {},
   "source": [
    "## 4. plot_tune\n",
    "\n",
    "Make it fancy: write a function which takes a tune dictionary from the db and outputs a plot\n",
    "\n",
    "* use beats as xs, remembering the shortest note has two beats\n",
    "* to increase thickness, use `linewidth=5` parameter"
   ]
  },
  {
   "cell_type": "raw",
   "id": "3396ce08",
   "metadata": {
    "format": "text/html"
   },
   "source": [
    "<a  class=\"jupman-sol jupman-sol-toggler\" \n",
    " onclick=\"jupman.toggleSolution(this);\" \n",
    " data-jupman-show=\"Show solution\" data-jupman-hide=\"Hide\">Show solution</a><div class=\"jupman-sol jupman-sol-code\" style=\"display:none\">  "
   ]
  },
  {
   "cell_type": "code",
   "execution_count": 7,
   "metadata": {},
   "outputs": [
    {
     "data": {
      "image/png": "[encoded data removed]",
      "text/plain": [
       "<Figure size 432x288 with 1 Axes>"
      ]
     },
     "metadata": {},
     "output_type": "display_data"
    }
   ],
   "source": [
    "%matplotlib inline\n",
    "import matplotlib.pyplot as plt\n",
    "\n",
    "def plot_tune(tune):\n",
    "    \n",
    "   \n",
    "    \n",
    "    j = 0\n",
    "    for n,d in tune['melody']:\n",
    "        r = 6 - n\n",
    "        xs = [j, j+d-1]\n",
    "        ys = [r, r]\n",
    "        j += d    \n",
    "        plt.plot(xs, ys, linewidth=5)\n",
    "    \n",
    "    plt.title('%s \\nby \\n %s' %(tune['title'], tune['composer']))\n",
    "    plt.ylim(-0.5,6.5)\n",
    "    plt.yticks(range(7), [chr(ord('G')-i) for i in range(7)])\n",
    "    plt.xlabel('beats')\n",
    "    plt.ylabel('keyboard')\n",
    "    \n",
    "    \n",
    "plot_tune(tunes_db[0])"
   ]
  },
  {
   "cell_type": "raw",
   "id": "a76a54c5",
   "metadata": {
    "format": "text/html"
   },
   "source": [
    "</div>"
   ]
  },
  {
   "cell_type": "code",
   "execution_count": 7,
   "metadata": {},
   "outputs": [
    {
     "data": {
      "image/png": "[encoded data removed]",
      "text/plain": [
       "<Figure size 432x288 with 1 Axes>"
      ]
     },
     "metadata": {},
     "output_type": "display_data"
    }
   ],
   "source": [
    "%matplotlib inline\n",
    "import matplotlib.pyplot as plt\n",
    "\n",
    "def plot_tune(tune):\n",
    "    raise Exception('TODO IMPLEMENT ME !')\n",
    "    \n",
    "plot_tune(tunes_db[0])"
   ]
  },
  {
   "cell_type": "code",
   "execution_count": null,
   "metadata": {},
   "outputs": [],
   "source": []
  }
 ],
 "metadata": {
  "celltoolbar": "Edit Metadata",
  "kernelspec": {
   "display_name": "Python 3 (ipykernel)",
   "language": "python",
   "name": "python3"
  },
  "language_info": {
   "codemirror_mode": {
    "name": "ipython",
    "version": 3
   },
   "file_extension": ".py",
   "mimetype": "text/x-python",
   "name": "python",
   "nbconvert_exporter": "python",
   "pygments_lexer": "ipython3",
   "version": "3.7.10"
  },
  "toc": {
   "base_numbering": 1,
   "nav_menu": {},
   "number_sections": false,
   "sideBar": true,
   "skip_h1_title": false,
   "title_cell": "Table of Contents",
   "title_sidebar": "Contents",
   "toc_cell": false,
   "toc_position": {},
   "toc_section_display": true,
   "toc_window_display": true
  }
 },
 "nbformat": 4,
 "nbformat_minor": 1
}
