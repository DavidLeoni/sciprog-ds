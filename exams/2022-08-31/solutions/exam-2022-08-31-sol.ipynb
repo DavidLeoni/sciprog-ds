{
 "cells": [
  {
   "cell_type": "code",
   "execution_count": 1,
   "id": "3fbc373a",
   "metadata": {
    "nbsphinx": "hidden"
   },
   "outputs": [],
   "source": [
    "#Please execute this cell\n",
    "import sys;\n",
    "sys.path.append('../../../'); \n",
    "import jupman;"
   ]
  },
  {
   "cell_type": "markdown",
   "id": "ad5fbe07",
   "metadata": {},
   "source": [
    "# Exam -  Wed 31, Aug 2022\n",
    "\n",
    "**Scientific Programming - Data Science Master @ University of Trento**\n",
    "\n",
    "## [Download exercises and solutions](../../../_static/generated/sciprog-ds-2022-08-31-exam.zip) \n",
    "\n",
    "<div class=\"alert alert-warning\">\n",
    "    \n",
    "**NOTICE: this part of the exam was** [ported to softpython](https://en.softpython.org/projects/iching/iching-sol.html) **website**\n",
    "    \n",
    "There you can find a more curated version (notice it may be longer than here)\n",
    "</div>    "
   ]
  },
  {
   "cell_type": "markdown",
   "id": "a94c13fb",
   "metadata": {},
   "source": [
    "# Part A - I CHING Divination (32 points)\n",
    "\n",
    "\n",
    "The I Ching or Book of Changes, is a chinese divination manual and one of the world's oldest books, dating from over 3,000 years ago. The great mathematician Gottfried Wilhelm Leibniz (1646 - 1716) is considered the first information theorist, and extensively documented the binary numeral system. Leibniz was also interested in Chinese culture, and [saw in the I Ching](https://en.wikipedia.org/wiki/Gottfried_Wilhelm_Leibniz#Sinophile) diagrams showing solid and broken lines called yin and yang, which progressed in a sequence: that was unmistakably a binary encoding.  You will parse a dataset of hexagrams and develop a divinator software which will predict the outcome of your exam. Open Jupyter and start editing this notebook `exam-2022-08-31.ipynb`\n",
    "\n",
    "Data source: [Wikipedia, July 2021, Bagua page](https://en.wikipedia.org/wiki/Bagua)"
   ]
  },
  {
   "cell_type": "markdown",
   "id": "646314eb",
   "metadata": {},
   "source": [
    "## The dataset"
   ]
  },
  {
   "cell_type": "markdown",
   "id": "3f81d054",
   "metadata": {},
   "source": [
    "**Yin and yang**: Yin and yang are represented by lines: \n",
    "\n",
    "|name|line|bit|\n",
    "|----|-----|---|\n",
    "|yin |`- -`| 0 |\n",
    "|yang|`---`| 1 |"
   ]
  },
  {
   "cell_type": "markdown",
   "id": "441a2c60",
   "metadata": {},
   "source": [
    "**Trigrams**: Different constructions of three yin and yang lines lead to 8 trigrams. We can express a trigram as a sequence of bits, reading lines from bottom to top. For example _Fire_ is `101`, _Thunder_ is `100`.\n",
    "\n",
    "![iching-lookup-table-header.png](img/iching-lookup-table-header.png)"
   ]
  },
  {
   "cell_type": "markdown",
   "id": "9cc2f56a",
   "metadata": {},
   "source": [
    "**Hexagrams**: Combining a lower trigram with an upper trigram leads to 64 hexagrams. Each hexagram can be represented as a sequence of bits and the outcome of a divination. For example trigrams _Fire_ (lower) and _Thunder_ (upper) gives outcome hexagram _Abounding_: `101100`"
   ]
  },
  {
   "cell_type": "markdown",
   "id": "6878e365",
   "metadata": {},
   "source": [
    "![iching-lookup-table.png](img/iching-lookup-table.png)"
   ]
  },
  {
   "cell_type": "markdown",
   "id": "725e3a82",
   "metadata": {},
   "source": [
    "## 1. load_db  (14 points)\n",
    "\n",
    "Parse [iching.csv](iching.csv) and output a dictionary mapping each sequence to a dictionary with all the information you can extract. Use CSV reader.\n",
    "\n",
    "- in headers and first column you will find a bit sequence like `011`\n",
    "- in body cells, you will **not** find a bit sequence: you will have to determine it according to the corresponding tri-sequences from the header and first column\n",
    "- note for hexagrams you must extract **only** `name-en`, ignore the decimal numbers\n",
    "\n",
    "**Example** (complete output is in file [expected_iching_db.py](expected_iching_db.py)):\n",
    "\n",
    "```python\n",
    ">>> load_db('iching.csv')\n",
    "{\n",
    "    '111': {'name-en': 'Heaven', 'name-ch': '乾', 'spelling': 'Qián'}\n",
    "    '000': {'name-en': 'Earth', 'name-ch': '坤', 'spelling': 'Kūn'}\n",
    "    '100': {'name-en': 'Thunder', 'name-ch': '震', 'spelling': 'Zhèn'}\n",
    "    '010': {'name-en': 'Water', 'name-ch': '坎', 'spelling': 'Kǎn'}\n",
    "    '001': {'name-en': 'Mountain', 'name-ch': '艮', 'spelling': 'Gèn'}\n",
    "    '011': {'name-en': 'Air', 'name-ch': '巽', 'spelling': 'Xùn'}\n",
    "    '101': {'name-en': 'Fire', 'name-ch': '離', 'spelling': 'Lí'}\n",
    "    '110': {'name-en': 'Lake', 'name-ch': '兌', 'spelling': 'Duì'}\n",
    " '111111': {'name-en': 'Force'}\n",
    " '111000': {'name-en': 'Pervading'}\n",
    " '111100': {'name-en': 'Great Invigorating'}\n",
    " '111010': {'name-en': 'Attending'}\n",
    " '111001': {'name-en': 'Great Accumulating'}\n",
    " '111011': {'name-en': 'Small Harvest'}\n",
    " '111101': {'name-en': 'Great Possessing'}\n",
    "     .\n",
    "     .\n",
    "}\n",
    "```"
   ]
  },
  {
   "cell_type": "code",
   "execution_count": 2,
   "id": "6a55d3e3",
   "metadata": {
    "scrolled": false
   },
   "outputs": [],
   "source": [
    "import csv\n",
    "\n",
    "def load_db(filepath):\n",
    "    #jupman-raise\n",
    "    with open(filepath, encoding='utf-8', newline='') as f:        \n",
    "        my_reader = csv.reader(f, delimiter=',')\n",
    "        header = next(my_reader)    \n",
    "        ret = {}\n",
    "        \n",
    "        linear = []\n",
    "        \n",
    "        for s in header[1:]:\n",
    "            diz = {}\n",
    "            tokens = s.split('\\n')\n",
    "            tks = tokens[0].split('\\xa0')\n",
    "            diz['name-en'] = tokens[2] \n",
    "            diz['name-ch'] = tks[0]\n",
    "            diz['spelling'] = tks[1]\n",
    "            code = tokens[1]\n",
    "            ret[code] = diz\n",
    "            linear.append(code)\n",
    "            \n",
    "        i = 1\n",
    "        for row in my_reader:                                \n",
    "            for j in range(1,len(row)):                \n",
    "                tokens = row[j].replace('\\n','').split()\n",
    "                num = int(tokens[0])\n",
    "                bottom = linear[i-1]\n",
    "                upper = linear[j-1]\n",
    "                ret[bottom + upper] = {\n",
    "                    'name-en':' '.join(tokens[1:])\n",
    "                }\n",
    "            i += 1            \n",
    "        return ret\n",
    "    #/jupman-raise\n",
    "\n",
    "iching_db = load_db('iching.csv')   \n",
    "iching_db\n",
    "#jupman-purge\n",
    "import sys\n",
    "sys.path.append('../../')\n",
    "import jupman\n",
    "jupman.save_py('expected_iching_db.py', iching_db)\n",
    "#/jupman-purge"
   ]
  },
  {
   "cell_type": "code",
   "execution_count": 3,
   "id": "a57eedfe",
   "metadata": {},
   "outputs": [
    {
     "name": "stdout",
     "output_type": "stream",
     "text": [
      "EXERPT:\n",
      "\n",
      "{'111': {'name-en': 'Heaven', 'name-ch': '乾', 'spelling': 'Qián'}\n",
      " '000': {'name-en': 'Earth', 'name-ch': '坤', 'spelling': 'Kūn'}\n",
      " '100': {'name-en': 'Thunder', 'name-ch': '震', 'spelling': 'Zhèn'}\n",
      " '010': {'name-en': 'Water', 'name-ch': '坎', 'spelling': 'Kǎn'}\n",
      " '001': {'name-en': 'Mountain', 'name-ch': '艮', 'spelling': 'Gèn'}\n",
      " '011': {'name-en': 'Air', 'name-ch': '巽', 'spelling': 'Xùn'}\n",
      " '101': {'name-en': 'Fire', 'name-ch': '離', 'spelling': 'Lí'}\n",
      " '110': {'name-en': 'Lake', 'name-ch': '兌', 'spelling': 'Duì'}\n",
      " '111111': {'name-en': 'Force'}\n",
      " '111000': {'name-en': 'Pervading'}\n",
      " '111100': {'name-en': 'Great Invigorating'}\n",
      " '111010': {'name-en': 'Attending'}\n",
      " '111001': {'name-en': 'Great Accumulating'}\n",
      " '111011': {'name-en': 'Small Harvest'}\n",
      " '111101': {'name-en': 'Great Possessing'}\n",
      "     .\n",
      "     .\n",
      "}\n"
     ]
    }
   ],
   "source": [
    "#jupman-purge-io\n",
    "print('EXERPT:\\n')\n",
    "print('{', end='')\n",
    "for k,v in list(iching_db.items())[:15]: print(\"'%s': %s\" % (k,v), end='\\n ')\n",
    "print('    .', end='\\n ')\n",
    "print('    .')\n",
    "print('}')"
   ]
  },
  {
   "cell_type": "code",
   "execution_count": 4,
   "id": "25fb4379",
   "metadata": {},
   "outputs": [],
   "source": [
    "# EXECUTE FOR TESTING\n",
    "from pprint import pformat; from expected_iching_db import expected_iching_db\n",
    "for seq in expected_iching_db.keys():\n",
    "    if seq not in iching_db: print('\\nERROR: MISSING sequence', seq); break    \n",
    "    for k in expected_iching_db[seq]:\n",
    "        if k not in iching_db[seq]:\n",
    "            print('\\nERROR at sequence', seq,'\\n\\n   MISSING key:', k); break    \n",
    "        if expected_iching_db[seq][k] != iching_db[seq][k]:\n",
    "            print('\\nERROR at sequence', seq, 'key:',k)\n",
    "            print('  ACTUAL:\\n', pformat(iching_db[seq][k]))\n",
    "            print('  EXPECTED:\\n', pformat(expected_iching_db[seq][k]))\n",
    "            break"
   ]
  },
  {
   "cell_type": "markdown",
   "id": "17aad431",
   "metadata": {},
   "source": [
    "## 2. divine (10 points)\n",
    "\n",
    "A divination is done by flipping 3 coins to determine the bottom trigram (**bottom up order**), flipping other three coins for the upper trigram (again **bottom up order**), and then the union gives the resulting hexagram. Write a function that PRINTS the process as in the example and RETURNS a string of bits representing the resulting hexagram\n",
    "\n",
    "**HINT**: to flip coins use `random.randint(0,1)`"
   ]
  },
  {
   "cell_type": "markdown",
   "id": "06166ce9",
   "metadata": {},
   "source": [
    "**Example**: \n",
    "\n",
    "\n",
    "\n",
    "```python\n",
    ">>> divination = divine(iching_db, \"Will I pass the exam?\")\n",
    ">>> print(\"\\nRETURNED:\", divination)\n",
    "```\n",
    "```\n",
    "Dear stranger, welcome to SCIPROG I CHING 易經 DIVINATOR\n",
    "\n",
    "Tell me your question...\n",
    "\n",
    "        Will I pass the exam?\n",
    "\n",
    "The coin says 'heads' : we get a yang ---\n",
    "The coin says 'tails' : we get a  yin - -\n",
    "The coin says 'heads' : we get a yang ---\n",
    "\n",
    "The sacred bottom trigram is:\n",
    "\n",
    "Fire\n",
    "\n",
    "   ---\n",
    "   - -\n",
    "   ---\n",
    "\n",
    "The coin says 'heads' : we get a yang ---\n",
    "The coin says 'tails' : we get a  yin - -\n",
    "The coin says 'tails' : we get a  yin - -\n",
    "\n",
    "The sacred upper trigram is:\n",
    "\n",
    "Thunder\n",
    "\n",
    "   - -\n",
    "   - -\n",
    "   ---\n",
    "\n",
    "The final response hexagram is...\n",
    "\n",
    "Abounding\n",
    "\n",
    "   - -\n",
    "   - -\n",
    "   ---\n",
    "   ---\n",
    "   - -\n",
    "   ---\n",
    "\n",
    "RETURNED: 101100\n",
    "```"
   ]
  },
  {
   "cell_type": "code",
   "execution_count": 5,
   "id": "d1a472c1",
   "metadata": {},
   "outputs": [
    {
     "name": "stdout",
     "output_type": "stream",
     "text": [
      "\n",
      "Dear stranger, welcome to SCIPROG I CHING 易經 DIVINATOR\n",
      "\n",
      "Tell me your question...\n",
      "\n",
      "        Will I pass the exam?\n",
      "\n",
      "The coin says 'heads' : we get a yang ---\n",
      "The coin says 'tails' : we get a  yin - -\n",
      "The coin says 'heads' : we get a yang ---\n",
      "\n",
      "The sacred bottom trigram is:\n",
      "\n",
      "Fire\n",
      "\n",
      "   ---\n",
      "   - -\n",
      "   ---\n",
      "\n",
      "The coin says 'heads' : we get a yang ---\n",
      "The coin says 'tails' : we get a  yin - -\n",
      "The coin says 'tails' : we get a  yin - -\n",
      "\n",
      "The sacred upper trigram is:\n",
      "\n",
      "Thunder\n",
      "\n",
      "   - -\n",
      "   - -\n",
      "   ---\n",
      "\n",
      "The final response hexagram is...\n",
      "\n",
      "Abounding\n",
      "\n",
      "   - -\n",
      "   - -\n",
      "   ---\n",
      "   ---\n",
      "   - -\n",
      "   ---\n",
      "\n",
      "RETURNED: 101100\n"
     ]
    }
   ],
   "source": [
    "#jupman-purge-output\n",
    "import random\n",
    "\n",
    "def divine(iching, question):\n",
    "    \n",
    "    #THE SEED DETERMINES FOLLOWING randint RESULTS\n",
    "    random.seed(109)      # Abounding\n",
    "                          # Thunder  \n",
    "                          # Fire\n",
    "        \n",
    "    #IMPORTANT: try also this seed to check lines visualization order\n",
    "    #random.seed(1)                                  \n",
    "    #\n",
    "    # Infiltrating 001011\n",
    "    # Air        ---\n",
    "    #            ---\n",
    "    #            - -\n",
    "    # Mountaion  ---\n",
    "    #            - -\n",
    "    #            - -            \n",
    "    \n",
    "    #jupman-raise\n",
    "    print()\n",
    "    print(\"Dear stranger, welcome to SCIPROG I CHING 易經 DIVINATOR\")\n",
    "    print()\n",
    "    print(\"Tell me your question...\")\n",
    "    print()    \n",
    "    print('       ', question)\n",
    "    print()\n",
    "    \n",
    "    def get_trigram(part):\n",
    "        lst = []\n",
    "        stack = []\n",
    "        for i in range(3):\n",
    "            r = random.randint(0,1)\n",
    "            kind = 'yang' if r else ' yin'\n",
    "            line = '---' if r else '- -'\n",
    "            coin = \"'heads'\" if r else \"'tails'\"\n",
    "            print('The coin says', coin, ': we get a', kind, line)\n",
    "            stack.append(line)\n",
    "            lst.append(str(r))\n",
    "        stack.reverse()\n",
    "        digits = ''.join(lst)\n",
    "        print()    \n",
    "        print(\"The sacred\", part, \"trigram is:\",)\n",
    "        print()    \n",
    "\n",
    "        print(iching[digits]['name-en'])\n",
    "        print()\n",
    "        print('   ' + '\\n   '.join(stack))\n",
    "            \n",
    "        return (stack, ''.join(lst))\n",
    "    \n",
    "    bottom = get_trigram('bottom')\n",
    "    print()\n",
    "    upper = get_trigram('upper')        \n",
    "            \n",
    "    print()\n",
    "    print('The final response hexagram is...')\n",
    "    print()\n",
    "    print(iching[bottom[1] + upper[1]]['name-en'])\n",
    "    print()\n",
    "    print('   ' + '\\n   '.join(upper[0] + bottom[0]))\n",
    "        \n",
    "    return bottom[1] + upper[1]\n",
    "    #/jupman-raise\n",
    "\n",
    "divination = divine(iching_db, \"Will I pass the exam?\")\n",
    "print(\"\\nRETURNED:\", divination)"
   ]
  },
  {
   "cell_type": "markdown",
   "id": "28b51fa8",
   "metadata": {},
   "source": [
    "## 3. plot_divination (8 points)\n",
    "\n",
    "Given a divination as a string of bits, plot the divination. First draw the lines, then the rest if you have time. Make it fancy with these [examples](https://spex.altervista.org/server/softpython-en/visualization/visualization1-sol.html#Fancy-plots). To center text you can use these parameters: `ha='center', va='center'`\n",
    "\n",
    "![expected-plot-Will-I-pass-programming-exam-101100.png](expected-plot-Will-I-pass-sciprog-exam-101100.png)"
   ]
  },
  {
   "cell_type": "code",
   "execution_count": 6,
   "id": "0963de5c",
   "metadata": {
    "scrolled": false
   },
   "outputs": [
    {
     "data": {
      "image/png": "[encoded data removed]",
      "text/plain": [
       "<Figure size 720x360 with 1 Axes>"
      ]
     },
     "metadata": {
      "needs_background": "light"
     },
     "output_type": "display_data"
    }
   ],
   "source": [
    "#jupman-purge-output\n",
    "%matplotlib inline\n",
    "import matplotlib.pyplot as plt\n",
    "\n",
    "def plot_divination(iching, question, divination):\n",
    "    #jupman-raise\n",
    "    \n",
    "    fig = plt.figure(figsize=(10,5))\n",
    "    \n",
    "    plt.xlim(0,750)\n",
    "    plt.ylim(0,700)\n",
    "    \n",
    "    xl = 150\n",
    "    yd = 50\n",
    "    segw = 100\n",
    "    midx = 400\n",
    "\n",
    "    def plot_trigram(seq, yl):\n",
    "        plt.text(xl-35,\n",
    "                 yl + yd*2,\n",
    "                 iching[seq]['name-en'],\n",
    "                 fontsize=25,\n",
    "                 fontweight='bold',\n",
    "                 color=\"darkgray\",\n",
    "                 ha='center',\n",
    "                 va='center')\n",
    "\n",
    "        lw = 15\n",
    "        for i in range(3):\n",
    "            h = yl + yd*(i+1)\n",
    "            if seq[i] == '0':\n",
    "                plt.plot([xl + segw,xl + segw*2], [h,h],\n",
    "                         color='black',\n",
    "                         linewidth=lw)                \n",
    "                \n",
    "                plt.plot([xl + segw*3, xl + segw*4], [h,h],\n",
    "                         color='black',\n",
    "                         linewidth=lw)\n",
    "            else:\n",
    "                plt.plot([xl + segw,xl + segw*4], [h,h],\n",
    "                         color='black',\n",
    "                         linewidth=lw)\n",
    "\n",
    "    plt.text(midx,\n",
    "             570,\n",
    "             question,\n",
    "             fontsize=26,\n",
    "             fontweight='bold',\n",
    "             color=\"CornflowerBlue\", \n",
    "             ha='center')\n",
    "                \n",
    "    plot_trigram(divination[:3], 0)\n",
    "    plot_trigram(divination[3:], 170)\n",
    "        \n",
    "    plt.text(midx,\n",
    "             420,\n",
    "             iching[divination]['name-en'],\n",
    "             fontsize=32,\n",
    "             fontweight='bold',\n",
    "             color=\"orange\",\n",
    "             ha='center')\n",
    "                    \n",
    "    #jupman-purge\n",
    "    plt.savefig(\"expected-plot-%s-%s\" % (question.replace('?','').replace(' ','-'), divination))\n",
    "    #/jupman-purge\n",
    "    plt.show()\n",
    "    #/jupman-raise\n",
    "    \n",
    "plot_divination(iching_db, \"Will I pass sciprog exam?\", '101100')  # Abounding\n",
    "#plot_divination(iching_db, \"Will I pass programming exam?\", '111011') # Small Harvest\n",
    "#plot_divination(iching_db, \"Will I pass programming exam?\",'001011')  # Infiltrating"
   ]
  },
  {
   "cell_type": "markdown",
   "id": "de3e480c",
   "metadata": {},
   "source": [
    "## Part B (32 points)\n",
    "\n",
    "* Open Visual Studio Code and start editing the folder on your desktop"
   ]
  },
  {
   "cell_type": "markdown",
   "id": "2953f1f1",
   "metadata": {},
   "source": [
    "## B1.1 Complexity (8 points)\n",
    "\n",
    "Given a list `L` of _n_ elements, please compute the asymptotic computational complexity of the `myFun` function, explaining your reasoning. \n",
    "\n",
    "**Write the solution in separate `theory.txt` file**\n",
    "\n",
    "```python\n",
    "def my_fun2(L):\n",
    "    n = len(L)\n",
    "    tmp = []\n",
    "    for i in range(n):\n",
    "        for j in range(n):\n",
    "            tmp.append(L[i]/(1+L[j]))\n",
    "    return tmp         \n",
    "\n",
    "def my_fun(L):\n",
    "    n = len(L)\n",
    "    if n <= 1:\n",
    "        return 1\n",
    "    else:\n",
    "        L1 = L[0:n//4]\n",
    "        L2 = L[n//4:]\n",
    "        a = my_fun(L1) + max(my_fun2(L1))\n",
    "        b = my_fun(L2) + max(my_fun2(L2))\n",
    "        return a - b\n",
    "```"
   ]
  },
  {
   "cell_type": "markdown",
   "id": "28cb29fb",
   "metadata": {},
   "source": [
    "## B1.2 Graphs (8 points)\n",
    "\n",
    "Describe the differences between the Depth-First and the Breadth-First Search algorithms for visiting graphs. Then, apply BFS to the graph below (write down the visit order only).\n",
    "\n",
    "![](img/graph.png)"
   ]
  },
  {
   "cell_type": "markdown",
   "id": "2969093d",
   "metadata": {},
   "source": [
    "## B2. Exercise - chains  (8 points)"
   ]
  },
  {
   "cell_type": "code",
   "execution_count": 7,
   "id": "db343fcf",
   "metadata": {},
   "outputs": [
    {
     "name": "stdout",
     "output_type": "stream",
     "text": [
      "def chain(external_list):\n",
      "    \"\"\" Takes a list of list of strings and return a list containing all \n",
      "        the strings  from external_list in sequence, joined by the ending \n",
      "        and starting strings of the internal lists. See tests for more examples.\n",
      "        \n",
      "        INPUT: a list of list of strings , like:\n",
      "        \n",
      "                [\n",
      "                    ['ab', 'c', 'de'],\n",
      "                    ['gh', 'i'],\n",
      "                    ['de', 'f', 'gh']\n",
      "                ]\n",
      "                \n",
      "        OUTPUT: a list of strings, like   ['ab', 'c', 'de', 'f', 'gh', 'i']\n",
      "    \"\"\"\n"
     ]
    }
   ],
   "source": [
    "#jupman-purge-input\n",
    "import chains_sol\n",
    "print(jupman.get_doc(chains_sol.chain))"
   ]
  },
  {
   "cell_type": "markdown",
   "id": "c4dc4cc5",
   "metadata": {},
   "source": [
    "Assume that:\n",
    "\n",
    "- `external_list` always contains at least one internal list\n",
    "- internal lists always contain at least two strings\n",
    "- no string is duplicated among all internal lists  \n",
    "\n",
    "Output sequence is constructed as follows:\n",
    "\n",
    "- it starts will all the items from the first internal list\n",
    "- successive items are taken from an internal list which starts with \n",
    "  a string equal to the previous taken internal list last string\n",
    "- sequence must not contain repetitions (so joint strings are taken \n",
    "  only once). \n",
    "- _all_ internal lists must be used. If this is not possible (because \n",
    "  there are no joint strings), raise `ValueError`      "
   ]
  },
  {
   "cell_type": "markdown",
   "id": "8b7a9bee",
   "metadata": {},
   "source": [
    "- **MUST RUN IN** $O(m * n)$, where $m$ is the number of internal lists and $n$ is \n",
    "  the length of the longest internal list (just to calculate complexity think about\n",
    "  the scenario where all lists have equal size)\n",
    "- **DO NOT** use python search methods (so no `.index`, `.find`, `.count` ...) nor regexes\n",
    "- **HINT**: Given the above constraints, whenever you find a string, you **cannot** start another for loop to check if the string exists elsewhere (that would likely introduce a quadratic $m^2$ factor)\n",
    "\n",
    "**Testing**: `python3 -m unittest chains_test.TestChain`"
   ]
  },
  {
   "cell_type": "markdown",
   "id": "8c269fd2",
   "metadata": {},
   "source": [
    "\n",
    "## B3 linked list pivot (8 points)"
   ]
  },
  {
   "cell_type": "code",
   "execution_count": 8,
   "id": "1db4943a",
   "metadata": {},
   "outputs": [
    {
     "name": "stdout",
     "output_type": "stream",
     "text": [
      "def pivot(self):\n",
      "    \"\"\" Selects first node data as pivot, and then MOVES before the pivot\n",
      "        all the nodes which have data value STRICTLY LESS (<) than the pivot.\n",
      "        Finally, RETURN the number of moved nodes.\n",
      "        \n",
      "        IMPORTANT:\n",
      "        - *DO NOT* create new nodes\n",
      "        - nodes less than pivot must be in the reversed order they were found\n",
      "        - nodes greater or equal than pivot will maintain the original order\n",
      "        - MUST EXECUTE in O(n), where n is the list size\n",
      "    \"\"\"\n"
     ]
    }
   ],
   "source": [
    "#jupman-purge-input\n",
    "from linked_list_sol import *\n",
    "print(jupman.get_doc(LinkedList.pivot))"
   ]
  },
  {
   "cell_type": "markdown",
   "id": "295b174f",
   "metadata": {},
   "source": [
    "**Testing**: `python3 -m unittest linked_list_test.PivotTest`\n",
    "\n",
    "Example: "
   ]
  },
  {
   "cell_type": "code",
   "execution_count": 9,
   "id": "a4722519",
   "metadata": {},
   "outputs": [],
   "source": [
    "from linked_list_sol import *\n",
    "from linked_list_test import to_ll\n",
    "\n",
    "ll = to_ll([7, 12, 1, 3, 8, 9, 6, 4, 7, 2, 10])"
   ]
  },
  {
   "cell_type": "code",
   "execution_count": 10,
   "id": "26143927",
   "metadata": {},
   "outputs": [
    {
     "name": "stdout",
     "output_type": "stream",
     "text": [
      "LinkedList: 7,12,1,3,8,9,6,4,7,2,10\n"
     ]
    }
   ],
   "source": [
    "print(ll)"
   ]
  },
  {
   "cell_type": "code",
   "execution_count": 11,
   "id": "938df0f9",
   "metadata": {},
   "outputs": [],
   "source": [
    "res = ll.pivot()"
   ]
  },
  {
   "cell_type": "code",
   "execution_count": 12,
   "id": "6f16462c",
   "metadata": {},
   "outputs": [
    {
     "data": {
      "text/plain": [
       "5"
      ]
     },
     "execution_count": 12,
     "metadata": {},
     "output_type": "execute_result"
    }
   ],
   "source": [
    "res   # there were 5 elements strictly less than pivot 7"
   ]
  },
  {
   "cell_type": "markdown",
   "id": "230b3efe",
   "metadata": {},
   "source": [
    "Note elements $< 7$ are in reverse order in which they were found, elements $\\geq7$ are in the original order"
   ]
  },
  {
   "cell_type": "code",
   "execution_count": 13,
   "id": "a2011970",
   "metadata": {},
   "outputs": [
    {
     "name": "stdout",
     "output_type": "stream",
     "text": [
      "LinkedList: 2,4,6,3,1,7,12,8,9,7,10\n"
     ]
    }
   ],
   "source": [
    "print(ll)  "
   ]
  },
  {
   "cell_type": "code",
   "execution_count": 14,
   "id": "78503357",
   "metadata": {
    "nbsphinx": "hidden"
   },
   "outputs": [
    {
     "name": "stderr",
     "output_type": "stream",
     "text": [
      "..............\n",
      "----------------------------------------------------------------------\n",
      "Ran 14 tests in 0.010s\n",
      "\n",
      "OK\n",
      "........\n",
      "----------------------------------------------------------------------\n",
      "Ran 8 tests in 0.007s\n",
      "\n",
      "OK\n"
     ]
    }
   ],
   "source": [
    "#ignore this\n",
    "import sys\n",
    "sys.path.append('../../../')\n",
    "import jupman\n",
    "import linked_list_test\n",
    "jupman.run(linked_list_test)\n",
    "import chains_test\n",
    "jupman.run(chains_test)"
   ]
  },
  {
   "cell_type": "code",
   "execution_count": null,
   "id": "bb4818ee",
   "metadata": {},
   "outputs": [],
   "source": []
  },
  {
   "cell_type": "code",
   "execution_count": null,
   "id": "bed3f4d6",
   "metadata": {},
   "outputs": [],
   "source": []
  }
 ],
 "metadata": {
  "kernelspec": {
   "display_name": "Python 3 (ipykernel)",
   "language": "python",
   "name": "python3"
  },
  "language_info": {
   "codemirror_mode": {
    "name": "ipython",
    "version": 3
   },
   "file_extension": ".py",
   "mimetype": "text/x-python",
   "name": "python",
   "nbconvert_exporter": "python",
   "pygments_lexer": "ipython3",
   "version": "3.7.13"
  },
  "toc": {
   "base_numbering": 1,
   "nav_menu": {},
   "number_sections": false,
   "sideBar": true,
   "skip_h1_title": false,
   "title_cell": "Table of Contents",
   "title_sidebar": "Contents",
   "toc_cell": false,
   "toc_position": {},
   "toc_section_display": true,
   "toc_window_display": false
  }
 },
 "nbformat": 4,
 "nbformat_minor": 5
}
