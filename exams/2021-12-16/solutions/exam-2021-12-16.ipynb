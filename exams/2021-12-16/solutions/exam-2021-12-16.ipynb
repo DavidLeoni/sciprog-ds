{
 "cells": [
  {
   "cell_type": "code",
   "execution_count": 1,
   "metadata": {
    "nbsphinx": "hidden"
   },
   "outputs": [],
   "source": [
    "import sys;\n",
    "sys.path.append('../../../'); \n",
    "import jupman;"
   ]
  },
  {
   "cell_type": "markdown",
   "metadata": {},
   "source": [
    "# Midterm B-  Thu 16, Dec 2021\n",
    "\n",
    "**Scientific Programming - Data Science Master @ University of Trento**\n",
    "\n",
    "## [Download exercises and solutions](../../../_static/generated/sciprog-ds-2021-12-16-exam.zip) "
   ]
  },
  {
   "cell_type": "markdown",
   "metadata": {},
   "source": [
    "## B1 Theory\n",
    "\n",
    "**Write the solution in separate `theory.txt` file**"
   ]
  },
  {
   "cell_type": "markdown",
   "metadata": {},
   "source": [
    "## B1.1 complexity"
   ]
  },
  {
   "cell_type": "markdown",
   "metadata": {},
   "source": [
    "Given a list $L$ of $n$ elements, please compute the asymptotic computational complexity of the `my_fun` function, explaining your reasoning. "
   ]
  },
  {
   "cell_type": "code",
   "execution_count": 2,
   "metadata": {},
   "outputs": [],
   "source": [
    "def my_fun2(L):\n",
    "    n = len(L)\n",
    "    tmp = []\n",
    "    for i in range(n):\n",
    "        for j in range(n):\n",
    "            tmp.append(L[i]/(L[j]))\n",
    "    return tmp         \n",
    "\n",
    "def my_fun(L):\n",
    "    n = len(L)\n",
    "    if n <= 1:\n",
    "        return 1\n",
    "    else:\n",
    "        L1 = L[0:n//3]\n",
    "        L2 = L[2*(n//3):]\n",
    "        a = my_fun(L1) + max(my_fun2(L1))\n",
    "        b = my_fun(L2) + max(my_fun2(L2))\n",
    "        return a - b"
   ]
  },
  {
   "cell_type": "markdown",
   "metadata": {},
   "source": [
    "## B1.2 postfix\n",
    "\n",
    "Postfix notation is used by compilers to process expressions efficiently, respecting operator precedence without needing to scan the whole expression multiple times (programming languages let us write expressions using the infix notation for simplicity). Think of a function implementing the evaluation of expressions in postfix notation. Which data structure would you use, and why? Explain your reasoning.\n",
    "\n",
    "```\n",
    "Infix notation:\ta op1 b\t(e.g. 7 * 4)\n",
    "Postfix notation:\ta b op1 \t(e.g. 7 4 *)\n",
    "\n",
    "Infix notation: \ta op1 b op2 c op3 d\t(e.g. 7 + 4 * 5 + 9)\n",
    "Postfix notation:\ta b c op1 op2 d op3\t\t(e.g. 7 4 5 * + 9 +)\n",
    "```\n",
    " \n"
   ]
  },
  {
   "cell_type": "markdown",
   "metadata": {},
   "source": [
    "### B2\n",
    "\n",
    "* Open Visual Studio Code and start editing the folder on your desktop\n",
    "* For running tests: open _Accessories -> Terminal_ "
   ]
  },
  {
   "cell_type": "markdown",
   "metadata": {},
   "source": [
    "### norep\n",
    "\n",
    "Open file `linked_list.py` and implement the method `norep`:"
   ]
  },
  {
   "cell_type": "markdown",
   "metadata": {},
   "source": [
    "```python\n",
    "def norep(self):\n",
    "    \"\"\" MODIFIES this list by removing all the consecutive \n",
    "        repetitions from it.\n",
    "        \n",
    "        - MUST perform in O(n), where n is the list size.\n",
    "    \"\"\"\n",
    "```"
   ]
  },
  {
   "cell_type": "markdown",
   "metadata": {},
   "source": [
    "**Testing:** `python3 -m unittest more_test.NorepTest`\n",
    "\n",
    "**Example:**    "
   ]
  },
  {
   "cell_type": "code",
   "execution_count": 3,
   "metadata": {},
   "outputs": [
    {
     "name": "stdout",
     "output_type": "stream",
     "text": [
      "Free mem: 6281 MB  Limiting to: 3140 MB\n"
     ]
    }
   ],
   "source": [
    "from linked_list_sol import *"
   ]
  },
  {
   "cell_type": "code",
   "execution_count": 4,
   "metadata": {},
   "outputs": [],
   "source": [
    "ll = LinkedList()                                               \n",
    "ll.add('e')\n",
    "ll.add('c')\n",
    "ll.add('c')\n",
    "ll.add('c')\n",
    "ll.add('d')\n",
    "ll.add('d')\n",
    "ll.add('b')\n",
    "ll.add('a')\n",
    "ll.add('a')\n",
    "ll.add('c')\n",
    "ll.add('c')\n",
    "ll.add('a')\n",
    "ll.add('a')        \n",
    "ll.add('a')"
   ]
  },
  {
   "cell_type": "code",
   "execution_count": 5,
   "metadata": {},
   "outputs": [
    {
     "name": "stdout",
     "output_type": "stream",
     "text": [
      "LinkedList: a,a,a,c,c,a,a,b,d,d,c,c,c,e\n"
     ]
    }
   ],
   "source": [
    "print(ll)"
   ]
  },
  {
   "cell_type": "code",
   "execution_count": 6,
   "metadata": {},
   "outputs": [],
   "source": [
    "ll.norep()   "
   ]
  },
  {
   "cell_type": "code",
   "execution_count": 7,
   "metadata": {},
   "outputs": [
    {
     "name": "stdout",
     "output_type": "stream",
     "text": [
      "LinkedList: a,c,a,b,d,c,e\n"
     ]
    }
   ],
   "source": [
    "print(ll)"
   ]
  },
  {
   "cell_type": "markdown",
   "metadata": {},
   "source": [
    "\n",
    "### family_sum_rec\n",
    "\n",
    "Open `bin_tree.py` and implement this method:"
   ]
  },
  {
   "cell_type": "markdown",
   "metadata": {},
   "source": [
    "```python\n",
    "def family_sum_rec(self):\n",
    "    \"\"\" MODIFIES the tree by adding to each node data its *original* parent and children data\n",
    "        \n",
    "        - MUST execute in O(n) where n is the size of the tree\n",
    "        - a recursive implementation is acceptable\n",
    "        - HINT: you will probably want to define a helper function\n",
    "    \"\"\"\n",
    "```    "
   ]
  },
  {
   "cell_type": "markdown",
   "metadata": {},
   "source": [
    "**Testing**: `python3 -m unittest bin_tree_test.FamilySumRec`\n",
    "\n",
    "**Example:**"
   ]
  },
  {
   "cell_type": "code",
   "execution_count": 8,
   "metadata": {},
   "outputs": [
    {
     "name": "stdout",
     "output_type": "stream",
     "text": [
      "Free mem: 6278 MB  Limiting to: 3139 MB\n"
     ]
    }
   ],
   "source": [
    "from bin_tree_test import bt"
   ]
  },
  {
   "cell_type": "code",
   "execution_count": 9,
   "metadata": {},
   "outputs": [],
   "source": [
    "t = bt(5,\n",
    "         bt(1,\n",
    "              bt(4,\n",
    "                   None,\n",
    "                   bt(3)),\n",
    "              bt(2)),\n",
    "         bt(9,\n",
    "              bt(11)))"
   ]
  },
  {
   "cell_type": "code",
   "execution_count": 10,
   "metadata": {},
   "outputs": [
    {
     "data": {
      "image/png": "[encoded data removed]",
      "text/plain": [
       "<IPython.core.display.Image object>"
      ]
     },
     "metadata": {},
     "output_type": "display_data"
    }
   ],
   "source": [
    "from sciprog import draw_bt\n",
    "draw_bt(t)"
   ]
  },
  {
   "cell_type": "code",
   "execution_count": 11,
   "metadata": {},
   "outputs": [],
   "source": [
    "t.family_sum_rec()"
   ]
  },
  {
   "cell_type": "code",
   "execution_count": 12,
   "metadata": {},
   "outputs": [
    {
     "data": {
      "image/png": "[encoded data removed]",
      "text/plain": [
       "<IPython.core.display.Image object>"
      ]
     },
     "metadata": {},
     "output_type": "display_data"
    }
   ],
   "source": [
    "draw_bt(t)"
   ]
  },
  {
   "cell_type": "markdown",
   "metadata": {},
   "source": [
    "You need to sum to each node data its original parent data + original left child data + original right child data , for example:\n",
    "\n",
    "* Root: 15 = 5 + 0 + 1 + 9\n",
    "* left child of root: 12 = 1 + 5 + 4 + 2\n",
    "* right child of root: 25 = 9 + 5 + 11 + 0\n",
    "* leftmost grandchild of root: 8 = 4 + 1 + 0 + 3"
   ]
  },
  {
   "cell_type": "code",
   "execution_count": 13,
   "metadata": {
    "nbsphinx": "hidden"
   },
   "outputs": [
    {
     "name": "stderr",
     "output_type": "stream",
     "text": [
      "..........\n",
      "----------------------------------------------------------------------\n",
      "Ran 10 tests in 0.008s\n",
      "\n",
      "OK\n",
      "...............\n",
      "----------------------------------------------------------------------\n",
      "Ran 15 tests in 0.008s\n",
      "\n",
      "OK\n"
     ]
    }
   ],
   "source": [
    "import sys\n",
    "sys.path.append('../../../')\n",
    "import jupman\n",
    "import linked_list_test\n",
    "jupman.run(linked_list_test)\n",
    "import bin_tree_test\n",
    "jupman.run(bin_tree_test)"
   ]
  }
 ],
 "metadata": {
  "celltoolbar": "Edit Metadata",
  "kernelspec": {
   "display_name": "Python 3 (ipykernel)",
   "language": "python",
   "name": "python3"
  },
  "language_info": {
   "codemirror_mode": {
    "name": "ipython",
    "version": 3
   },
   "file_extension": ".py",
   "mimetype": "text/x-python",
   "name": "python",
   "nbconvert_exporter": "python",
   "pygments_lexer": "ipython3",
   "version": "3.7.10"
  },
  "toc": {
   "base_numbering": 1,
   "nav_menu": {},
   "number_sections": false,
   "sideBar": true,
   "skip_h1_title": false,
   "title_cell": "Table of Contents",
   "title_sidebar": "Contents",
   "toc_cell": false,
   "toc_position": {},
   "toc_section_display": true,
   "toc_window_display": true
  }
 },
 "nbformat": 4,
 "nbformat_minor": 1
}
