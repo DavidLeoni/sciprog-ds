{
 "cells": [
  {
   "cell_type": "code",
   "execution_count": 1,
   "metadata": {
    "nbsphinx": "hidden"
   },
   "outputs": [],
   "source": [
    "#Please execute this cell\n",
    "import jupman;"
   ]
  },
  {
   "cell_type": "markdown",
   "metadata": {},
   "source": [
    "# Midterm -  Thu 07, Nov 2019\n",
    "\n",
    "**Scientific Programming - Data Science @ University of Trento**\n",
    "\n",
    "## [Download exercises and solution](../../../_static/generated/sciprog-ds-2019-11-07-exam.zip)"
   ]
  },
  {
   "cell_type": "markdown",
   "metadata": {
    "collapsed": true
   },
   "source": [
    "## Introduction\n",
    "\n",
    "* **Taking part to this exam erases any vote you had before**\n"
   ]
  },
  {
   "cell_type": "markdown",
   "metadata": {},
   "source": [
    "### What to do\n",
    "\n",
    "1) Download  `sciprog-ds-2019-11-07-exam.zip` and extract it <b>on your desktop</b>. Folder content should be like this:\n",
    "\n",
    "```\n",
    "sciprog-ds-2019-11-07-FIRSTNAME-LASTNAME-ID\n",
    "    jupman.py\n",
    "    sciprog.py    \n",
    "    exam-2019-11-07.ipynb                                 \n",
    "```\n",
    "\n",
    "2) Rename `sciprog-ds-2019-11-07-FIRSTNAME-LASTNAME-ID` folder: put your name, lastname an id number, like `sciprog-ds-2019-11-07-john-doe-432432`\n",
    "\n",
    "From now on, you will be editing the files in that folder. At the end of the exam, that is what will be evaluated.\n",
    "\n",
    "3) Edit the files following the instructions in this worksheet for each exercise. Every exercise should take max 25 mins. If it takes longer, leave it and try another exercise.\n",
    "\n",
    "4) When done:\n",
    "\n",
    "- if you have unitn login:  zip and send to [examina.icts.unitn.it/studente](http://examina.icts.unitn.it/studente)\n",
    "  \n",
    "- If you don't have unitn login: tell instructors and we will download your work manually\n",
    " \n"
   ]
  },
  {
   "cell_type": "markdown",
   "metadata": {},
   "source": [
    "## Part A - Town events\n",
    "\n",
    "\n",
    "<div class=\"alert alert-warning\">\n",
    "    \n",
    "**NOTICE: this part of the exam was ported to** [softpython](https://en.softpython.org/projects/town-events/town-events-sol.html) **website**\n",
    "    \n",
    "There you can find a more curated version (notice it may be longer than here)\n",
    "</div>    \n",
    "\n",
    "\n",
    "\n",
    "Open Jupyter and start editing this notebook `exam-2019-11-07.ipynb`\n",
    "\n",
    "You will work on a dataset of events which occur in the Municipality of Trento, in years 2019-20. Each event can be held during a particular day, two days, or many specified as a range. Events are written using natural language, so we will try to extract such dates, taking into account that information sometimes can be partial or absent.\n",
    "\n",
    "Data provider: [Comune di Trento](https://dati.trentino.it/dataset/eventi-del-comune-di-trento)\n",
    "\n",
    "License: [Creative Commons Attribution 4.0](http://creativecommons.org/licenses/by/4.0/deed.it)\n",
    "\n",
    "<div class=\"alert alert-warning\">\n",
    "\n",
    "**WARNING: avoid constants in function bodies !!**\n",
    "\n",
    "In the exercises data you will find many names and connectives such as 'Giovedì', 'Novembre', 'e', 'a', etc. DO NOT put such constant names inside body of functions !! You have to write generic code which works with any input.\n",
    "\n",
    "</div>\n",
    "\n"
   ]
  },
  {
   "cell_type": "code",
   "execution_count": 2,
   "metadata": {},
   "outputs": [
    {
     "name": "stdout",
     "output_type": "stream",
     "text": [
      "<class 'pandas.core.frame.DataFrame'>\n",
      "RangeIndex: 253 entries, 0 to 252\n",
      "Data columns (total 35 columns):\n",
      " #   Column                       Non-Null Count  Dtype  \n",
      "---  ------                       --------------  -----  \n",
      " 0   remoteId                     253 non-null    object \n",
      " 1   published                    253 non-null    object \n",
      " 2   modified                     253 non-null    object \n",
      " 3   Priorità                     253 non-null    int64  \n",
      " 4   Evento speciale              0 non-null      float64\n",
      " 5   Titolo                       253 non-null    object \n",
      " 6   Titolo breve                 1 non-null      object \n",
      " 7   Sottotitolo                  227 non-null    object \n",
      " 8   Descrizione                  224 non-null    object \n",
      " 9   Locandina                    16 non-null     object \n",
      " 10  Inizio                       253 non-null    object \n",
      " 11  Termine                      252 non-null    object \n",
      " 12  Quando                       253 non-null    object \n",
      " 13  Orario                       251 non-null    object \n",
      " 14  Durata                       6 non-null      object \n",
      " 15  Dove                         252 non-null    object \n",
      " 16  lat                          253 non-null    float64\n",
      " 17  lon                          253 non-null    float64\n",
      " 18  address                      241 non-null    object \n",
      " 19  Pagina web                   201 non-null    object \n",
      " 20  Contatto email               196 non-null    object \n",
      " 21  Contatto telefonico          196 non-null    object \n",
      " 22  Informazioni                 62 non-null     object \n",
      " 23  Costi                        132 non-null    object \n",
      " 24  Immagine                     252 non-null    object \n",
      " 25  Evento - manifestazione      252 non-null    object \n",
      " 26  Manifestazione cui fa parte  108 non-null    object \n",
      " 27  Tipologia                    252 non-null    object \n",
      " 28  Materia                      252 non-null    object \n",
      " 29  Destinatari                  24 non-null     object \n",
      " 30  Circoscrizione               109 non-null    object \n",
      " 31  Struttura ospitante          220 non-null    object \n",
      " 32  Associazione                 1 non-null      object \n",
      " 33  Ente organizzatore           0 non-null      float64\n",
      " 34  Identificativo               0 non-null      float64\n",
      "dtypes: float64(5), int64(1), object(29)\n",
      "memory usage: 69.3+ KB\n"
     ]
    }
   ],
   "source": [
    "import pandas as pd   # we import pandas and for ease we rename it to 'pd'\n",
    "import numpy as np    # we import numpy and for ease we rename it to 'np'\n",
    "\n",
    "# remember the encoding !\n",
    "eventi = pd.read_csv('data/eventi.csv', encoding='UTF-8')\n",
    "eventi.info()"
   ]
  },
  {
   "cell_type": "markdown",
   "metadata": {},
   "source": [
    "We will concentrate on `Quando` (_When_) column:"
   ]
  },
  {
   "cell_type": "code",
   "execution_count": 3,
   "metadata": {},
   "outputs": [
    {
     "data": {
      "text/plain": [
       "0      venerdì 5 aprile alle 20:30 in via degli Olmi ...\n",
       "1                                Giovedì 7 novembre 2019\n",
       "2                               Giovedì 14 novembre 2019\n",
       "3                               Giovedì 21 novembre 2019\n",
       "4                               Giovedì 28 novembre 2019\n",
       "                             ...                        \n",
       "248                               sabato 9 novembre 2019\n",
       "249             da venerdì 8 a domenica 10 novembre 2019\n",
       "250                              giovedì 7 novembre 2019\n",
       "251                             giovedì 28 novembre 2019\n",
       "252                             giovedì 21 novembre 2019\n",
       "Name: Quando, Length: 253, dtype: object"
      ]
     },
     "execution_count": 3,
     "metadata": {},
     "output_type": "execute_result"
    }
   ],
   "source": [
    "eventi['Quando']"
   ]
  },
  {
   "cell_type": "markdown",
   "metadata": {},
   "source": [
    "\n",
    "## A.1 leap_year\n",
    "\n",
    "✪ A leap year has 366 days instead of regular 365. Yor are given some criteria to detect whether or not a year is a leap year. Implement them in a function which given a year as a number RETURN `True` if it is a leap year, `False` otherwise.\n",
    "\n",
    "**IMPORTANT: in Python there are predefined methods to detect leap years, but here you MUST write your own code!**\n",
    "\n",
    "1. If the year is evenly divisible by 4, go to step 2. Otherwise, go to step 5.\n",
    "2. If the year is evenly divisible by 100, go to step 3. Otherwise, go to step 4.\n",
    "3. If the year is evenly divisible by 400, go to step 4. Otherwise, go to step 5.\n",
    "4. The year is a leap year (it has 366 days)\n",
    "5. The year is not a leap year (it has 365 days)\n",
    "\n",
    "(if you're curios about calendars, see [this link](https://docs.microsoft.com/en-us/office/troubleshoot/excel/determine-a-leap-year))"
   ]
  },
  {
   "cell_type": "raw",
   "id": "7a32e2cb",
   "metadata": {
    "format": "text/html"
   },
   "source": [
    "<a  class=\"jupman-sol jupman-sol-toggler\" \n",
    " onclick=\"jupman.toggleSolution(this);\" \n",
    " data-jupman-show=\"Show solution\" data-jupman-hide=\"Hide\">Show solution</a><div class=\"jupman-sol jupman-sol-code\" style=\"display:none\">  "
   ]
  },
  {
   "cell_type": "code",
   "execution_count": 4,
   "metadata": {},
   "outputs": [],
   "source": [
    "def is_leap(year):\n",
    "    \n",
    "    if year % 4 == 0:\n",
    "        if year % 100 == 0:\n",
    "            return year % 400 == 0\n",
    "        else:\n",
    "            return True\n",
    "    else:\n",
    "        return False\n",
    "    \n",
    "\n",
    "\n",
    "assert is_leap(4)    == True\n",
    "assert is_leap(104)  == True\n",
    "assert is_leap(204)  == True\n",
    "assert is_leap(400)  == True\n",
    "assert is_leap(1600) == True\n",
    "assert is_leap(2000) == True\n",
    "assert is_leap(2400) == True\n",
    "assert is_leap(2000) == True\n",
    "assert is_leap(2004) == True\n",
    "assert is_leap(2008) == True\n",
    "assert is_leap(2012) == True\n",
    "\n",
    "assert is_leap(1)    == False\n",
    "assert is_leap(5)    == False\n",
    "assert is_leap(100)  == False\n",
    "assert is_leap(200)  == False\n",
    "assert is_leap(1700) == False\n",
    "assert is_leap(1800) == False\n",
    "assert is_leap(1900) == False\n",
    "assert is_leap(2100) == False\n",
    "assert is_leap(2200) == False\n",
    "assert is_leap(2300) == False\n",
    "assert is_leap(2500) == False\n",
    "assert is_leap(2600) == False"
   ]
  },
  {
   "cell_type": "raw",
   "id": "09220fcf",
   "metadata": {
    "format": "text/html"
   },
   "source": [
    "</div>"
   ]
  },
  {
   "cell_type": "code",
   "execution_count": 4,
   "metadata": {},
   "outputs": [],
   "source": [
    "def is_leap(year):\n",
    "    raise Exception('TODO IMPLEMENT ME !')\n",
    "\n",
    "\n",
    "assert is_leap(4)    == True\n",
    "assert is_leap(104)  == True\n",
    "assert is_leap(204)  == True\n",
    "assert is_leap(400)  == True\n",
    "assert is_leap(1600) == True\n",
    "assert is_leap(2000) == True\n",
    "assert is_leap(2400) == True\n",
    "assert is_leap(2000) == True\n",
    "assert is_leap(2004) == True\n",
    "assert is_leap(2008) == True\n",
    "assert is_leap(2012) == True\n",
    "\n",
    "assert is_leap(1)    == False\n",
    "assert is_leap(5)    == False\n",
    "assert is_leap(100)  == False\n",
    "assert is_leap(200)  == False\n",
    "assert is_leap(1700) == False\n",
    "assert is_leap(1800) == False\n",
    "assert is_leap(1900) == False\n",
    "assert is_leap(2100) == False\n",
    "assert is_leap(2200) == False\n",
    "assert is_leap(2300) == False\n",
    "assert is_leap(2500) == False\n",
    "assert is_leap(2600) == False"
   ]
  },
  {
   "cell_type": "markdown",
   "metadata": {},
   "source": [
    "## A.2 full_date\n",
    "\n",
    "✪✪ Write function `full_date` which takes some natural language text representing a complete date and outputs a string in the format `yyyy-mm-dd` like `2019-03-25`. \n",
    "\n",
    "- Dates will be expressed in Italian, so we report here the corresponding translations\n",
    "- your function should work regardless of capitalization of input\n",
    "- we assume the date to be always well formed \n",
    "\n",
    "Examples:\n",
    "\n",
    "At the begininning you always have day name (`Mercoledì` means _Wednesday_):\n",
    "\n",
    "```python         \n",
    ">>> full_date(\"Mercoledì 13 Novembre 2019\")\n",
    "\"2019-11-13\"\n",
    "```\n",
    "\n",
    "Right after day name, you _may_ also find a day phase, like `mattina` for morning:\n",
    "\n",
    "```python\n",
    ">>> full_date(\"Mercoledì mattina 13 Novembre 2019\")\n",
    "\"2019-11-13\"\n",
    "```\n",
    "\n",
    "Remember you can have lowercases and single digits which must be prepended by zero:\n",
    "\n",
    "```python\n",
    ">>> full_date(\"domenica 4 dicembre 1923\")\n",
    "\"1923-12-04\"\n",
    "```\n",
    "\n",
    "For more examples, see assertions."
   ]
  },
  {
   "cell_type": "code",
   "execution_count": 5,
   "metadata": {},
   "outputs": [],
   "source": [
    "\n",
    "days = ['lunedì', 'martedì', 'mercoledì', 'giovedì', 'venerdì', 'sabato', 'domenica']\n",
    "\n",
    "months = ['gennaio', 'febbraio', 'marzo'    , 'aprile' , 'maggio'  , 'giugno',\n",
    "          'luglio' , 'agosto'  , 'settembre', 'ottobre', 'novembre', 'dicembre' ]\n",
    "\n",
    "#             morning,   afternoon,   evening, night\n",
    "day_phase = ['mattina', 'pomeriggio', 'sera', 'notte'] \n"
   ]
  },
  {
   "cell_type": "raw",
   "id": "6d4f1157",
   "metadata": {
    "format": "text/html"
   },
   "source": [
    "<a  class=\"jupman-sol jupman-sol-toggler\" \n",
    " onclick=\"jupman.toggleSolution(this);\" \n",
    " data-jupman-show=\"Show solution\" data-jupman-hide=\"Hide\">Show solution</a><div class=\"jupman-sol jupman-sol-code\" style=\"display:none\">  "
   ]
  },
  {
   "cell_type": "code",
   "execution_count": 6,
   "metadata": {},
   "outputs": [],
   "source": [
    "def full_date(text):\n",
    "    \n",
    "    ntext = text.lower()\n",
    "    words = ntext.split()\n",
    "    i = 1\n",
    "    if words[i] in day_phase:\n",
    "        i += 1\n",
    "    day = int(words[i])\n",
    "    i += 1\n",
    "    \n",
    "    month = int(months.index(words[i])) + 1\n",
    "    i += 1\n",
    "\n",
    "    year = int(words[i])\n",
    "    \n",
    "    return \"{:04d}-{:02d}-{:02d}\".format(year, month, day)\n",
    "    \n",
    "\n",
    "assert full_date(\"Giovedì 14 novembre 2019\") == \"2019-11-14\"\n",
    "assert full_date(\"Giovedì 7 novembre 2019\") == \"2019-11-07\"\n",
    "assert full_date(\"Giovedì pomeriggio 14 novembre 2019\") == \"2019-11-14\"\n",
    "assert full_date(\"sabato mattina 25 marzo 2017\") == \"2017-03-25\"\n",
    "assert full_date(\"Mercoledì 13 Novembre 2019\") == \"2019-11-13\"\n",
    "assert full_date(\"domenica 4 dicembre 1923\") == \"1923-12-04\"\n"
   ]
  },
  {
   "cell_type": "raw",
   "id": "9e62398a",
   "metadata": {
    "format": "text/html"
   },
   "source": [
    "</div>"
   ]
  },
  {
   "cell_type": "code",
   "execution_count": 6,
   "metadata": {},
   "outputs": [],
   "source": [
    "def full_date(text):\n",
    "    raise Exception('TODO IMPLEMENT ME !')\n",
    "\n",
    "assert full_date(\"Giovedì 14 novembre 2019\") == \"2019-11-14\"\n",
    "assert full_date(\"Giovedì 7 novembre 2019\") == \"2019-11-07\"\n",
    "assert full_date(\"Giovedì pomeriggio 14 novembre 2019\") == \"2019-11-14\"\n",
    "assert full_date(\"sabato mattina 25 marzo 2017\") == \"2017-03-25\"\n",
    "assert full_date(\"Mercoledì 13 Novembre 2019\") == \"2019-11-13\"\n",
    "assert full_date(\"domenica 4 dicembre 1923\") == \"1923-12-04\"\n"
   ]
  },
  {
   "cell_type": "markdown",
   "metadata": {},
   "source": [
    "## A.3 partial_date\n",
    "\n",
    "✪✪✪ Write a function `partial_date` which takes a natural language text representing one or more dates, and RETURN only the FIRST date found,  in the format `yyyy-mm-dd`. If the FIRST date contains insufficient information to form a complete date, in the returned date leave the characters `'yyyy'` for unknown year, `'mm'` for unknown months and `'dd'` for unknown day. \n",
    "\n",
    "**NOTE**: Here we only care about FIRST date, **DO NOT** attempt to fetch eventual missing information from the second date, we will deal will that in a later exercise.\n",
    "\n",
    "Examples:\n",
    "\n",
    "```python\n",
    ">>> partial_date(\"Giovedì 7 novembre 2019\")\n",
    "\"2019-11-07\"\n",
    "\n",
    ">>> partial_date(\"venerdì 15 novembre\")\n",
    "\"yyyy-11-15\"\n",
    "\n",
    ">>> partial_date(\"venerdì pomeriggio 15 e sabato mattina 16 novembre 2019\")\n",
    "\"yyyy-mm-15\"\n",
    "```\n",
    "\n",
    "For more examples, see asserts."
   ]
  },
  {
   "cell_type": "code",
   "execution_count": 7,
   "metadata": {},
   "outputs": [],
   "source": [
    "connective_and = 'e'\n",
    "            \n",
    "connective_from = 'da'\n",
    "connective_to = 'a'\n",
    "\n",
    "days = ['lunedì', 'martedì', 'mercoledì', 'giovedì', 'venerdì', 'sabato', 'domenica']\n",
    "months = ['gennaio', 'febbraio', 'marzo'    , 'aprile' , 'maggio'  , 'giugno',\n",
    "          'luglio' , 'agosto'  , 'settembre', 'ottobre', 'novembre', 'dicembre' ]\n",
    "\n",
    "             # morning,   afternoon,   evening, night\n",
    "day_phases = ['mattina', 'pomeriggio', 'sera', 'notte'] "
   ]
  },
  {
   "cell_type": "raw",
   "id": "df725d9d",
   "metadata": {
    "format": "text/html"
   },
   "source": [
    "<a  class=\"jupman-sol jupman-sol-toggler\" \n",
    " onclick=\"jupman.toggleSolution(this);\" \n",
    " data-jupman-show=\"Show solution\" data-jupman-hide=\"Hide\">Show solution</a><div class=\"jupman-sol jupman-sol-code\" style=\"display:none\">  "
   ]
  },
  {
   "cell_type": "code",
   "execution_count": 8,
   "metadata": {},
   "outputs": [],
   "source": [
    "            \n",
    "def partial_date(text):\n",
    "    \n",
    "    if type(text) != str:\n",
    "        return 'yyyy-mm-dd'\n",
    "\n",
    "    year = 'yyyy'\n",
    "    month = 'mm'\n",
    "    day = 'dd'\n",
    "    \n",
    "    ntext = text.lower()\n",
    "    ret = []    \n",
    "    words = ntext.split()\n",
    "    \n",
    "    if len(words) > 0:\n",
    "        if words[0] == connective_from:\n",
    "            i = 1\n",
    "        else:\n",
    "            i = 0\n",
    "        if words[i] in days:\n",
    "            i = i + 1\n",
    "            if words[i] in day_phases:\n",
    "                i += 1\n",
    "            day = \"{:02d}\".format(int(words[i]))\n",
    "            i += 1\n",
    "            if i < len(words):\n",
    "                # 'e' case with double date \n",
    "                if words[i] in months:\n",
    "                    month = \"{:02d}\".format(months.index(words[i]) + 1)\n",
    "                    i += 1\n",
    "                    if i < len(words):                    \n",
    "                        if words[i].isdigit():\n",
    "                            year = \"{:04d}\".format(int(words[i]))\n",
    "                        \n",
    "    return \"%s-%s-%s\" % (year, month, day)\n",
    "    \n",
    "    \n",
    "# complete, uppercase day\n",
    "assert partial_date(\"Giovedì 7 novembre 2019\") == \"2019-11-07\"\n",
    "assert partial_date(\"Giovedì 14 novembre 2019\") == \"2019-11-14\"\n",
    "# lowercase day\n",
    "assert partial_date(\"mercoledì 13 novembre 2019\") == \"2019-11-13\"\n",
    "# lowercase, dayphase, missing month and year\n",
    "assert partial_date(\"venerdì pomeriggio 15\") == \"yyyy-mm-15\"\n",
    "# single day, lowercase, no year\n",
    "assert partial_date(\"venerdì 15 novembre\") == \"yyyy-11-15\"\n",
    "\n",
    "# no year,   hour / location to be discarded\n",
    "assert partial_date(\"venerdì 5 aprile alle 20:30 in via degli Olmi 26 (Trento sud)\")\\\n",
    "                    == \"yyyy-04-05\"\n",
    "\n",
    "# two dates, 'and' connective ('e'), day phase morning/afternoon ('mattina'/'pomeriggio')\n",
    "assert partial_date(\"venerdì pomeriggio 15 e sabato mattina 16 novembre 2019\") \\\n",
    "                    == \"yyyy-mm-15\"\n",
    "\n",
    "# two dates, begins with connective 'Da'\n",
    "assert partial_date(\"Da lunedì 25 novembre a domenica 01 dicembre 2019\") == \"yyyy-11-25\"\n",
    "assert partial_date(\"da giovedì 12 a domenica 15 dicembre 2019\") == \"yyyy-mm-12\"\n",
    "assert partial_date(\"da giovedì 9 a domenica 12 gennaio 2020\") == \"yyyy-mm-09\"\n",
    "assert partial_date(\"Da lunedì 04 a domenica 10 novembre 2019\") == \"yyyy-mm-04\""
   ]
  },
  {
   "cell_type": "raw",
   "id": "ad1fa4f7",
   "metadata": {
    "format": "text/html"
   },
   "source": [
    "</div>"
   ]
  },
  {
   "cell_type": "code",
   "execution_count": 8,
   "metadata": {},
   "outputs": [],
   "source": [
    "            \n",
    "def partial_date(text):\n",
    "    raise Exception('TODO IMPLEMENT ME !')\n",
    "    \n",
    "# complete, uppercase day\n",
    "assert partial_date(\"Giovedì 7 novembre 2019\") == \"2019-11-07\"\n",
    "assert partial_date(\"Giovedì 14 novembre 2019\") == \"2019-11-14\"\n",
    "# lowercase day\n",
    "assert partial_date(\"mercoledì 13 novembre 2019\") == \"2019-11-13\"\n",
    "# lowercase, dayphase, missing month and year\n",
    "assert partial_date(\"venerdì pomeriggio 15\") == \"yyyy-mm-15\"\n",
    "# single day, lowercase, no year\n",
    "assert partial_date(\"venerdì 15 novembre\") == \"yyyy-11-15\"\n",
    "\n",
    "# no year,   hour / location to be discarded\n",
    "assert partial_date(\"venerdì 5 aprile alle 20:30 in via degli Olmi 26 (Trento sud)\")\\\n",
    "                    == \"yyyy-04-05\"\n",
    "\n",
    "# two dates, 'and' connective ('e'), day phase morning/afternoon ('mattina'/'pomeriggio')\n",
    "assert partial_date(\"venerdì pomeriggio 15 e sabato mattina 16 novembre 2019\") \\\n",
    "                    == \"yyyy-mm-15\"\n",
    "\n",
    "# two dates, begins with connective 'Da'\n",
    "assert partial_date(\"Da lunedì 25 novembre a domenica 01 dicembre 2019\") == \"yyyy-11-25\"\n",
    "assert partial_date(\"da giovedì 12 a domenica 15 dicembre 2019\") == \"yyyy-mm-12\"\n",
    "assert partial_date(\"da giovedì 9 a domenica 12 gennaio 2020\") == \"yyyy-mm-09\"\n",
    "assert partial_date(\"Da lunedì 04 a domenica 10 novembre 2019\") == \"yyyy-mm-04\""
   ]
  },
  {
   "cell_type": "markdown",
   "metadata": {},
   "source": [
    "## A.4 parse_dates_and\n",
    "\n",
    "✪✪✪ Write a function which, given a string representing two possibly partial dates separated by the `e` connective (_and_), RETURN a tuple holding the two extracted dates each in the format `yyyy-mm-dd`.\n",
    "\n",
    "- **IMPORTANT**: Notice that the year or month of the first date might actually be indicated in the second date ! In this exercise we want missing information in the first date to be filled in with year and/or month taken from second date.\n",
    "\n",
    "- **HINT**: implement this function calling previously defined functions. If you do so, it will be fairly easy.\n",
    "\n",
    "Examples: \n",
    "\n",
    "```python\n",
    ">>> parse_dates_and(\"venerdì pomeriggio 15 e sabato mattina 16 novembre 2019\")\n",
    "(\"2019-11-15\", \"2019-11-16\")\n",
    "\n",
    ">>> parse_dates_and(\"lunedì 4 e domenica 10 novembre\")\n",
    "(\"yyyy-11-04\",\"yyyy-11-10\")\n",
    "\n",
    "```\n",
    "\n",
    "For more examples, see asserts.\n"
   ]
  },
  {
   "cell_type": "raw",
   "id": "0c50f390",
   "metadata": {
    "format": "text/html"
   },
   "source": [
    "<a  class=\"jupman-sol jupman-sol-toggler\" \n",
    " onclick=\"jupman.toggleSolution(this);\" \n",
    " data-jupman-show=\"Show solution\" data-jupman-hide=\"Hide\">Show solution</a><div class=\"jupman-sol jupman-sol-code\" style=\"display:none\">  "
   ]
  },
  {
   "cell_type": "code",
   "execution_count": 9,
   "metadata": {},
   "outputs": [],
   "source": [
    "\n",
    "def parse_dates_and(text):\n",
    "    \n",
    "    ntext = text.lower()\n",
    "        \n",
    "    strings = ntext.split(' ' + connective_and + ' ')\n",
    "    date_left = partial_date(strings[0])\n",
    "    date_right = partial_date(strings[1])\n",
    "    if 'yyyy' in date_left:\n",
    "        date_left = date_left.replace('yyyy', date_right[0:4])\n",
    "    if 'mm' in date_left:\n",
    "        date_left = date_left.replace('mm', date_right[5:7])\n",
    "    return (date_left, date_right)\n",
    "    \n",
    "    \n",
    "    \n",
    "\n",
    "# complete dates\n",
    "assert parse_dates_and(\"lunedì 25 aprile 2018 e domenica 01 dicembre 2019\") == (\"2018-04-25\",\"2019-12-01\")\n",
    "    \n",
    "# exactly two dates, day phase morning/afternoon ('mattina'/'pomeriggio')\n",
    "assert parse_dates_and(\"venerdì pomeriggio 15 e sabato mattina 16 novembre 2019\") == (\"2019-11-15\", \"2019-11-16\")\n",
    "\n",
    "# first date missing year\n",
    "assert parse_dates_and(\"lunedì 13 settembre e sabato 25 dicembre 2019\") == (\"2019-09-13\",\"2019-12-25\")\n",
    "\n",
    "# first date missing month and year\n",
    "assert parse_dates_and(\"Giovedì 12 e domenica 15 dicembre 2019\") == (\"2019-12-12\",\"2019-12-15\")\n",
    "\n",
    "assert parse_dates_and(\"giovedì 9 e domenica 12 gennaio 2020\") == (\"2020-01-09\", \"2020-01-12\")\n",
    "\n",
    "assert parse_dates_and(\"lunedì 4 e domenica 10 novembre 2019\") == (\"2019-11-04\",\"2019-11-10\")\n",
    "\n",
    "# first missing month and year, second missing year\n",
    "assert parse_dates_and(\"lunedì 4 e domenica 10 novembre\") == (\"yyyy-11-04\",\"yyyy-11-10\")\n",
    "\n",
    "# first missing month and year, second missing month and year \n",
    "assert parse_dates_and(\"lunedì 4 e domenica 10\") == (\"yyyy-mm-04\",\"yyyy-mm-10\")\n"
   ]
  },
  {
   "cell_type": "raw",
   "id": "6b6750f0",
   "metadata": {
    "format": "text/html"
   },
   "source": [
    "</div>"
   ]
  },
  {
   "cell_type": "code",
   "execution_count": 9,
   "metadata": {},
   "outputs": [],
   "source": [
    "\n",
    "def parse_dates_and(text):\n",
    "    raise Exception('TODO IMPLEMENT ME !')\n",
    "    \n",
    "\n",
    "# complete dates\n",
    "assert parse_dates_and(\"lunedì 25 aprile 2018 e domenica 01 dicembre 2019\") == (\"2018-04-25\",\"2019-12-01\")\n",
    "    \n",
    "# exactly two dates, day phase morning/afternoon ('mattina'/'pomeriggio')\n",
    "assert parse_dates_and(\"venerdì pomeriggio 15 e sabato mattina 16 novembre 2019\") == (\"2019-11-15\", \"2019-11-16\")\n",
    "\n",
    "# first date missing year\n",
    "assert parse_dates_and(\"lunedì 13 settembre e sabato 25 dicembre 2019\") == (\"2019-09-13\",\"2019-12-25\")\n",
    "\n",
    "# first date missing month and year\n",
    "assert parse_dates_and(\"Giovedì 12 e domenica 15 dicembre 2019\") == (\"2019-12-12\",\"2019-12-15\")\n",
    "\n",
    "assert parse_dates_and(\"giovedì 9 e domenica 12 gennaio 2020\") == (\"2020-01-09\", \"2020-01-12\")\n",
    "\n",
    "assert parse_dates_and(\"lunedì 4 e domenica 10 novembre 2019\") == (\"2019-11-04\",\"2019-11-10\")\n",
    "\n",
    "# first missing month and year, second missing year\n",
    "assert parse_dates_and(\"lunedì 4 e domenica 10 novembre\") == (\"yyyy-11-04\",\"yyyy-11-10\")\n",
    "\n",
    "# first missing month and year, second missing month and year \n",
    "assert parse_dates_and(\"lunedì 4 e domenica 10\") == (\"yyyy-mm-04\",\"yyyy-mm-10\")\n"
   ]
  },
  {
   "cell_type": "markdown",
   "metadata": {},
   "source": [
    "## A.5 Fake news  generator\n",
    "\n",
    "\n",
    "> [Functional illiteracy](https://en.wikipedia.org/wiki/Functional_illiteracy) is reading and writing skills that are inadequate \"to manage daily living and employment tasks that require reading skills beyond a basic level\" \n",
    "    \n",
    "✪✪ Knowing that functional illiteracy is on the rise, a news agency wants to fire obsolete human journalists and attract customers by feeding them with automatically generated _fake news_. You are asked to develop the algorithm for producing the texts: while ethically questionable, the company pays well, so you accept.\n",
    "\n",
    "Typically, a _fake news_ starts with a real subject, a real fact (the _antecedent_), and follows it with some invented statement (the _consequence_). You are provided by the company three databases, one with subjects, one with antecedents and one of consequences. To each antecedent and consequence is associated a topic.\n",
    "\n",
    "Write a function `fake_news` which takes the databases and  RETURN a list holding strings with all possible combinations of subjects, antecedents and consequences where the topic of antecedent matches the one of consequence. See desired output for more info.\n",
    "\n",
    "**NOTE**: Your code MUST work with _any_ database\n",
    "\n",
    "**Expected output**:\n",
    "\n",
    "\n",
    "```python\n",
    ">>> fake_news(subjects, antecedents,consequences)\n",
    "\n",
    "['Government passed fiscal reform, now spending is out of control',\n",
    " 'Government passed fiscal reform, this increased taxes by 10%',\n",
    " 'Government passed fiscal reform, this increased deficit by a staggering 20%',\n",
    " 'Government passed fiscal reform, as a consequence our GDP has fallen dramatically',\n",
    " 'Government passed jobs act, now spending is out of control',\n",
    " 'Government passed jobs act, this increased taxes by 10%',\n",
    " 'Government passed jobs act, this increased deficit by a staggering 20%',\n",
    " 'Government passed jobs act, as a consequence our GDP has fallen dramatically',\n",
    " 'Government regulated pollution emissions, businesses had to fire many employees',\n",
    " 'Government regulated pollution emissions, businesses are struggling to meet law requirements',\n",
    " 'Government restricted building in natural areas, businesses had to fire many employees',\n",
    " 'Government restricted building in natural areas, businesses are struggling to meet law requirements',\n",
    " 'Government introduced more controls in agrifood production, businesses had to fire many employees',\n",
    " 'Government introduced more controls in agrifood production, businesses are struggling to meet law requirements',\n",
    " 'Government changed immigration policy, immigrants are stealing our jobs',\n",
    " 'Party X passed fiscal reform, now spending is out of control',\n",
    " 'Party X passed fiscal reform, this increased taxes by 10%',\n",
    " 'Party X passed fiscal reform, this increased deficit by a staggering 20%',\n",
    " 'Party X passed fiscal reform, as a consequence our GDP has fallen dramatically',\n",
    " 'Party X passed jobs act, now spending is out of control',\n",
    " 'Party X passed jobs act, this increased taxes by 10%',\n",
    " 'Party X passed jobs act, this increased deficit by a staggering 20%',\n",
    " 'Party X passed jobs act, as a consequence our GDP has fallen dramatically',\n",
    " 'Party X regulated pollution emissions, businesses had to fire many employees',\n",
    " 'Party X regulated pollution emissions, businesses are struggling to meet law requirements',\n",
    " 'Party X restricted building in natural areas, businesses had to fire many employees',\n",
    " 'Party X restricted building in natural areas, businesses are struggling to meet law requirements',\n",
    " 'Party X introduced more controls in agrifood production, businesses had to fire many employees',\n",
    " 'Party X introduced more controls in agrifood production, businesses are struggling to meet law requirements',\n",
    " 'Party X changed immigration policy, immigrants are stealing our jobs']\n",
    "```"
   ]
  },
  {
   "cell_type": "raw",
   "id": "13457883",
   "metadata": {
    "format": "text/html"
   },
   "source": [
    "<a  class=\"jupman-sol jupman-sol-toggler\" \n",
    " onclick=\"jupman.toggleSolution(this);\" \n",
    " data-jupman-show=\"Show solution\" data-jupman-hide=\"Hide\">Show solution</a><div class=\"jupman-sol jupman-sol-code\" style=\"display:none\">  "
   ]
  },
  {
   "cell_type": "code",
   "execution_count": 10,
   "metadata": {},
   "outputs": [
    {
     "data": {
      "text/plain": [
       "['Government passed fiscal reform, now spending is out of control',\n",
       " 'Government passed fiscal reform, this increased taxes by 10%',\n",
       " 'Government passed fiscal reform, this increased deficit by a staggering 20%',\n",
       " 'Government passed fiscal reform, as a consequence our GDP has fallen dramatically',\n",
       " 'Government passed jobs act, now spending is out of control',\n",
       " 'Government passed jobs act, this increased taxes by 10%',\n",
       " 'Government passed jobs act, this increased deficit by a staggering 20%',\n",
       " 'Government passed jobs act, as a consequence our GDP has fallen dramatically',\n",
       " 'Government regulated pollution emissions, businesses had to fire many employees',\n",
       " 'Government regulated pollution emissions, businesses are struggling to meet law requirements',\n",
       " 'Government restricted building in natural areas, businesses had to fire many employees',\n",
       " 'Government restricted building in natural areas, businesses are struggling to meet law requirements',\n",
       " 'Government introduced more controls in agrifood production, businesses had to fire many employees',\n",
       " 'Government introduced more controls in agrifood production, businesses are struggling to meet law requirements',\n",
       " 'Government changed immigration policy, immigrants are stealing our jobs',\n",
       " 'Party X passed fiscal reform, now spending is out of control',\n",
       " 'Party X passed fiscal reform, this increased taxes by 10%',\n",
       " 'Party X passed fiscal reform, this increased deficit by a staggering 20%',\n",
       " 'Party X passed fiscal reform, as a consequence our GDP has fallen dramatically',\n",
       " 'Party X passed jobs act, now spending is out of control',\n",
       " 'Party X passed jobs act, this increased taxes by 10%',\n",
       " 'Party X passed jobs act, this increased deficit by a staggering 20%',\n",
       " 'Party X passed jobs act, as a consequence our GDP has fallen dramatically',\n",
       " 'Party X regulated pollution emissions, businesses had to fire many employees',\n",
       " 'Party X regulated pollution emissions, businesses are struggling to meet law requirements',\n",
       " 'Party X restricted building in natural areas, businesses had to fire many employees',\n",
       " 'Party X restricted building in natural areas, businesses are struggling to meet law requirements',\n",
       " 'Party X introduced more controls in agrifood production, businesses had to fire many employees',\n",
       " 'Party X introduced more controls in agrifood production, businesses are struggling to meet law requirements',\n",
       " 'Party X changed immigration policy, immigrants are stealing our jobs']"
      ]
     },
     "execution_count": 10,
     "metadata": {},
     "output_type": "execute_result"
    }
   ],
   "source": [
    "\n",
    "\n",
    "db_subjects = [\n",
    "    'Government',\n",
    "    'Party X',\n",
    "]\n",
    "\n",
    "db_antecedents = [\n",
    "    (\"passed fiscal reform\",\"economy\"),\n",
    "    (\"passed jobs act\",\"economy\"),\n",
    "    (\"regulated pollution emissions\", \"environment\"),\n",
    "    (\"restricted building in natural areas\", \"environment\"),\n",
    "    (\"introduced more controls in agrifood production\",\"environment\"),\n",
    "    (\"changed immigration policy\",\"foreign policy\"),\n",
    "]\n",
    "\n",
    "db_consequences = [\n",
    "    (\"economy\",\"now spending is out of control\"),\n",
    "    (\"economy\",\"this increased taxes by 10%\"),\n",
    "    (\"economy\",\"this increased deficit by a staggering 20%\"),\n",
    "    (\"economy\",\"as a consequence our GDP has fallen dramatically\"),\n",
    "    (\"environment\",\"businesses had to fire many employees\"),\n",
    "    (\"environment\",\"businesses are struggling to meet law requirements\"),\n",
    "    (\"foreign policy\",\"immigrants are stealing our jobs\"),\n",
    "]\n",
    "\n",
    "\n",
    "def fake_news(subjects, antecedents,consequences):\n",
    "    \n",
    "    ret = []\n",
    "    for subject in subjects:         \n",
    "        for ant in antecedents:\n",
    "            for con in consequences:\n",
    "                if ant[1] == con[0]:\n",
    "                    ret.append(subject + ' ' + ant[0] + ', ' + con[1])\n",
    "    return ret\n",
    "    \n",
    "\n",
    "    \n",
    "fake_news(db_subjects, db_antecedents, db_consequences)"
   ]
  },
  {
   "cell_type": "raw",
   "id": "1aa39ec7",
   "metadata": {
    "format": "text/html"
   },
   "source": [
    "</div>"
   ]
  },
  {
   "cell_type": "code",
   "execution_count": 10,
   "metadata": {},
   "outputs": [],
   "source": [
    "\n",
    "\n",
    "db_subjects = [\n",
    "    'Government',\n",
    "    'Party X',\n",
    "]\n",
    "\n",
    "db_antecedents = [\n",
    "    (\"passed fiscal reform\",\"economy\"),\n",
    "    (\"passed jobs act\",\"economy\"),\n",
    "    (\"regulated pollution emissions\", \"environment\"),\n",
    "    (\"restricted building in natural areas\", \"environment\"),\n",
    "    (\"introduced more controls in agrifood production\",\"environment\"),\n",
    "    (\"changed immigration policy\",\"foreign policy\"),\n",
    "]\n",
    "\n",
    "db_consequences = [\n",
    "    (\"economy\",\"now spending is out of control\"),\n",
    "    (\"economy\",\"this increased taxes by 10%\"),\n",
    "    (\"economy\",\"this increased deficit by a staggering 20%\"),\n",
    "    (\"economy\",\"as a consequence our GDP has fallen dramatically\"),\n",
    "    (\"environment\",\"businesses had to fire many employees\"),\n",
    "    (\"environment\",\"businesses are struggling to meet law requirements\"),\n",
    "    (\"foreign policy\",\"immigrants are stealing our jobs\"),\n",
    "]\n",
    "\n",
    "\n",
    "def fake_news(subjects, antecedents,consequences):\n",
    "    raise Exception('TODO IMPLEMENT ME !')\n",
    "\n",
    "    \n",
    "fake_news(db_subjects, db_antecedents, db_consequences)"
   ]
  }
 ],
 "metadata": {
  "celltoolbar": "Edit Metadata",
  "kernelspec": {
   "display_name": "Python 3 (ipykernel)",
   "language": "python",
   "name": "python3"
  },
  "language_info": {
   "codemirror_mode": {
    "name": "ipython",
    "version": 3
   },
   "file_extension": ".py",
   "mimetype": "text/x-python",
   "name": "python",
   "nbconvert_exporter": "python",
   "pygments_lexer": "ipython3",
   "version": "3.7.10"
  },
  "toc": {
   "base_numbering": 1,
   "nav_menu": {},
   "number_sections": false,
   "sideBar": true,
   "skip_h1_title": false,
   "title_cell": "Table of Contents",
   "title_sidebar": "Contents",
   "toc_cell": false,
   "toc_position": {},
   "toc_section_display": true,
   "toc_window_display": true
  }
 },
 "nbformat": 4,
 "nbformat_minor": 1
}
