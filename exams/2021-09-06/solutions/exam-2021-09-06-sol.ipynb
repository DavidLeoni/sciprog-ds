{
 "cells": [
  {
   "cell_type": "code",
   "execution_count": 1,
   "metadata": {
    "nbsphinx": "hidden"
   },
   "outputs": [],
   "source": [
    "#Please execute this cell\n",
    "import jupman;"
   ]
  },
  {
   "cell_type": "markdown",
   "metadata": {},
   "source": [
    "# Exam -  Mon 06, Sep 2021\n",
    "\n",
    "**Scientific Programming - Data Science Master @ University of Trento**\n",
    "\n",
    "## [Download exercises and solutions](../../../_static/generated/sciprog-ds-2021-09-06-exam.zip)"
   ]
  },
  {
   "cell_type": "markdown",
   "metadata": {},
   "source": [
    "## Part A - I CHING Divination\n",
    "\n",
    "Open Jupyter and start editing this notebook `exam-2021-09-06.ipynb`\n",
    "\n",
    "\n",
    "The I Ching, or Book of Changes, is a chinese divination manual and philosophical text  which is believed to be one of the world's oldest books, dating from over 3,000 years ago. \n",
    "\n",
    "The great mathematician Gottfried Wilhelm Leibniz (1646 - 1716) is considered the first information theorist, and extensively documented the binary numeral system. Leibniz was also interested in Chinese culture, and [saw in the I Ching diagrams](https://en.wikipedia.org/wiki/Gottfried_Wilhelm_Leibniz#Sinophile) showing solid and broken lines called yin and yang, which progressed in a sequence: that was unmistakably a binary encoding. \n",
    "\n",
    "You will parse a dataset of hexagrams and develop a divinator software which will determine the outcome of your exam.\n",
    "\n",
    "Data source: [Wikipedia, July 2021, Bagua page](https://en.wikipedia.org/wiki/Bagua)"
   ]
  },
  {
   "cell_type": "markdown",
   "metadata": {},
   "source": [
    "**Yin and yang**: Yin and yang are represented by lines: \n",
    "\n",
    "|name|line|bit|\n",
    "|----|-----|---|\n",
    "|yin |`- -`| 0 |\n",
    "|yang|`---`| 1 |"
   ]
  },
  {
   "cell_type": "markdown",
   "metadata": {},
   "source": [
    "**Trigrams**: Different constructions of three yin and yang lines lead to 8 trigrams. We can express a trigram as a sequence of bits, reading lines from bottom to top. For example _Fire_ is `101`, _Thunder_ is `100`.\n",
    "\n",
    "![iching-lookup-table-header.png](img/iching-lookup-table-header.png)"
   ]
  },
  {
   "cell_type": "markdown",
   "metadata": {},
   "source": [
    "**Hexagrams**: Combining a lower trigram with an upper trigram leads to 64 hexagrams. Each hexagram can be represented as a sequence of bits and the outcome of a divination. For example trigrams _Fire_ (lower) and _Thunder_ (upper) gives outcome hexagram _Abounding_: `101100`"
   ]
  },
  {
   "cell_type": "markdown",
   "metadata": {},
   "source": [
    "![iching-lookup-table.png](img/iching-lookup-table.png)"
   ]
  },
  {
   "cell_type": "markdown",
   "metadata": {},
   "source": [
    "## A1 load_db\n",
    "\n",
    "Parse [iching.csv](iching.csv) and output a dictionary mapping each sequence to a dictionary with all the information you can extract. Use CSV reader.\n",
    "\n",
    "- in headers and first column you will find a bit sequence like `011`\n",
    "- in body cells, you will **not** find a bit sequence: you will have to determine it according to the corresponding tri-sequences from the header and first column\n",
    "- note for hexagrams you must extract **only** `name-en`, ignore the decimal numbers\n",
    "- complete expected output is in file [expected_iching_db.py](expected_iching_db.py)"
   ]
  },
  {
   "cell_type": "raw",
   "id": "6c3a20c9",
   "metadata": {
    "format": "text/html"
   },
   "source": [
    "<a  class=\"jupman-sol jupman-sol-toggler\" \n",
    " onclick=\"jupman.toggleSolution(this);\" \n",
    " data-jupman-show=\"Show solution\" data-jupman-hide=\"Hide\">Show solution</a><div class=\"jupman-sol jupman-sol-code\" style=\"display:none\">  "
   ]
  },
  {
   "cell_type": "code",
   "execution_count": 2,
   "metadata": {
    "scrolled": false
   },
   "outputs": [],
   "source": [
    "import csv\n",
    "\n",
    "def load_db(filepath):\n",
    "    \n",
    "    with open(filepath, encoding='utf-8', newline='') as f:        \n",
    "        my_reader = csv.reader(f, delimiter=',')\n",
    "        header = next(my_reader)    \n",
    "        ret = {}\n",
    "        \n",
    "        linear = []\n",
    "        \n",
    "        for s in header[1:]:\n",
    "            diz = {}\n",
    "            tokens = s.split('\\n')\n",
    "            tks = tokens[0].split('\\xa0')\n",
    "            diz['name-en'] = tokens[2] \n",
    "            diz['name-ch'] = tks[0]\n",
    "            diz['spelling'] = tks[1]\n",
    "            code = tokens[1]\n",
    "            ret[code] = diz\n",
    "            linear.append(code)\n",
    "            \n",
    "        i = 1\n",
    "        for row in my_reader:                                \n",
    "            for j in range(1,len(row)):                \n",
    "                tokens = row[j].replace('\\n','').split()\n",
    "                num = int(tokens[0])\n",
    "                bottom = linear[i-1]\n",
    "                upper = linear[j-1]\n",
    "                ret[bottom + upper] = {\n",
    "                    'name-en':' '.join(tokens[1:])\n",
    "                }\n",
    "            i += 1            \n",
    "        return ret\n",
    "    \n",
    "\n",
    "iching_db = load_db('iching.csv')   \n",
    "iching_db\n"
   ]
  },
  {
   "cell_type": "raw",
   "id": "71b97fbf",
   "metadata": {
    "format": "text/html"
   },
   "source": [
    "</div>"
   ]
  },
  {
   "cell_type": "code",
   "execution_count": 2,
   "metadata": {
    "scrolled": false
   },
   "outputs": [],
   "source": [
    "import csv\n",
    "\n",
    "def load_db(filepath):\n",
    "    raise Exception('TODO IMPLEMENT ME !')\n",
    "\n",
    "iching_db = load_db('iching.csv')   \n",
    "iching_db\n"
   ]
  },
  {
   "cell_type": "code",
   "execution_count": 3,
   "metadata": {},
   "outputs": [
    {
     "name": "stdout",
     "output_type": "stream",
     "text": [
      "EXERPT:\n",
      "\n",
      "{'111': {'name-en': 'Heaven', 'name-ch': '乾', 'spelling': 'Qián'}\n",
      " '000': {'name-en': 'Earth', 'name-ch': '坤', 'spelling': 'Kūn'}\n",
      " '100': {'name-en': 'Thunder', 'name-ch': '震', 'spelling': 'Zhèn'}\n",
      " '010': {'name-en': 'Water', 'name-ch': '坎', 'spelling': 'Kǎn'}\n",
      " '001': {'name-en': 'Mountain', 'name-ch': '艮', 'spelling': 'Gèn'}\n",
      " '011': {'name-en': 'Air', 'name-ch': '巽', 'spelling': 'Xùn'}\n",
      " '101': {'name-en': 'Fire', 'name-ch': '離', 'spelling': 'Lí'}\n",
      " '110': {'name-en': 'Lake', 'name-ch': '兌', 'spelling': 'Duì'}\n",
      " '111111': {'name-en': 'Force'}\n",
      " '111000': {'name-en': 'Pervading'}\n",
      " '111100': {'name-en': 'Great Invigorating'}\n",
      " '111010': {'name-en': 'Attending'}\n",
      " '111001': {'name-en': 'Great Accumulating'}\n",
      " '111011': {'name-en': 'Small Harvest'}\n",
      " '111101': {'name-en': 'Great Possessing'}\n",
      "     .\n",
      "     .\n",
      "}\n"
     ]
    }
   ],
   "source": [],
   "transient": {
    "remove_source": true
   }
  },
  {
   "cell_type": "code",
   "execution_count": 4,
   "metadata": {},
   "outputs": [],
   "source": [
    "# EXECUTE FOR TESTING\n",
    "from pprint import pformat; from expected_iching_db import expected_iching_db\n",
    "for seq in expected_iching_db.keys():\n",
    "    if seq not in iching_db: print('\\nERROR: MISSING sequence', seq); break    \n",
    "    for k in expected_iching_db[seq]:\n",
    "        if k not in iching_db[seq]:\n",
    "            print('\\nERROR at sequence', seq,'\\n\\n   MISSING key:', k); break    \n",
    "        if expected_iching_db[seq][k] != iching_db[seq][k]:\n",
    "            print('\\nERROR at sequence', seq, 'key:',k)\n",
    "            print('  ACTUAL:\\n', pformat(iching_db[seq][k]))\n",
    "            print('  EXPECTED:\\n', pformat(expected_iching_db[seq][k]))\n",
    "            break"
   ]
  },
  {
   "cell_type": "markdown",
   "metadata": {},
   "source": [
    "## A2 divine\n",
    "\n",
    "A divination is done by flipping 3 coins to determine the bottom trigram (**bottom up order**), flipping other three coins for the upper trigram (again **bottom up order**), and then the union gives the resulting hexagram. Write a function that PRINTS the process as in the example and RETURNS a string of bits representing the resulting hexagram\n",
    "\n",
    "**HINT**: to flip coins use `random.randint(0,1)`\n",
    "\n",
    "\n",
    "<div class=\"alert alert-warning\">\n",
    "    \n",
    "**WARNING: DOUBLE CHECK THE ORDER IN WHICH LINES ARE VISUALIZED!**    \n",
    "    \n",
    "</div>    "
   ]
  },
  {
   "cell_type": "raw",
   "id": "95c1e1db",
   "metadata": {
    "format": "text/html"
   },
   "source": [
    "<a  class=\"jupman-sol jupman-sol-toggler\" \n",
    " onclick=\"jupman.toggleSolution(this);\" \n",
    " data-jupman-show=\"Show solution\" data-jupman-hide=\"Hide\">Show solution</a><div class=\"jupman-sol jupman-sol-code\" style=\"display:none\">  "
   ]
  },
  {
   "cell_type": "code",
   "execution_count": 5,
   "metadata": {},
   "outputs": [
    {
     "name": "stdout",
     "output_type": "stream",
     "text": [
      "\n",
      "Dear stranger, welcome to SCIPROG I CHING 易經 DIVINATOR\n",
      "\n",
      "Tell me your question...\n",
      "\n",
      "        Will I pass the exam?\n",
      "\n",
      "The coin says 'heads' : we get a yang ---\n",
      "The coin says 'tails' : we get a  yin - -\n",
      "The coin says 'heads' : we get a yang ---\n",
      "\n",
      "The sacred bottom trigram is:\n",
      "\n",
      "Fire\n",
      "\n",
      "   ---\n",
      "   - -\n",
      "   ---\n",
      "\n",
      "The coin says 'heads' : we get a yang ---\n",
      "The coin says 'tails' : we get a  yin - -\n",
      "The coin says 'tails' : we get a  yin - -\n",
      "\n",
      "The sacred upper trigram is:\n",
      "\n",
      "Thunder\n",
      "\n",
      "   - -\n",
      "   - -\n",
      "   ---\n",
      "\n",
      "The final response hexagram is...\n",
      "\n",
      "Abounding\n",
      "\n",
      "   - -\n",
      "   - -\n",
      "   ---\n",
      "   ---\n",
      "   - -\n",
      "   ---\n",
      "\n",
      "Returned: 101100\n"
     ]
    }
   ],
   "source": [
    "import random\n",
    "\n",
    "def divine(iching, question):\n",
    "    \n",
    "    #THE SEED DETERMINES FOLLOWING randint RESULTS\n",
    "    random.seed(109)      # Abounding\n",
    "                          # Thunder  \n",
    "                          # Fire\n",
    "        \n",
    "    #IMPORTANT: try also this seed to check lines visualization order\n",
    "    #random.seed(1)                                  \n",
    "    #\n",
    "    # Infiltrating 001011\n",
    "    # Mountain ---\n",
    "    #          ---\n",
    "    #          - -\n",
    "    # Air      ---\n",
    "    #          - -\n",
    "    #          - -            \n",
    "    \n",
    "    \n",
    "    print()\n",
    "    print(\"Dear stranger, welcome to SCIPROG I CHING 易經 DIVINATOR\")\n",
    "    print()\n",
    "    print(\"Tell me your question...\")\n",
    "    print()    \n",
    "    print('       ', question)\n",
    "    print()\n",
    "    \n",
    "    def get_trigram(part):\n",
    "        lst = []\n",
    "        stack = []\n",
    "        for i in range(3):\n",
    "            r = random.randint(0,1)\n",
    "            kind = 'yang' if r else ' yin'\n",
    "            line = '---' if r else '- -'\n",
    "            coin = \"'heads'\" if r else \"'tails'\"\n",
    "            print('The coin says', coin, ': we get a', kind, line)\n",
    "            stack.append(line)\n",
    "            lst.append(str(r))\n",
    "        stack.reverse()\n",
    "        digits = ''.join(lst)\n",
    "        print()    \n",
    "        print(\"The sacred\", part, \"trigram is:\",)\n",
    "        print()    \n",
    "\n",
    "        print(iching[digits]['name-en'])\n",
    "        print()\n",
    "        print('   ' + '\\n   '.join(stack))\n",
    "            \n",
    "        return (stack, ''.join(lst))\n",
    "    \n",
    "    bottom = get_trigram('bottom')\n",
    "    print()\n",
    "    upper = get_trigram('upper')        \n",
    "            \n",
    "    print()\n",
    "    print('The final response hexagram is...')\n",
    "    print()\n",
    "    print(iching[bottom[1] + upper[1]]['name-en'])\n",
    "    print()\n",
    "    print('   ' + '\\n   '.join(upper[0] + bottom[0]))\n",
    "        \n",
    "    return bottom[1] + upper[1]\n",
    "    \n",
    "\n",
    "divination = divine(iching_db, \"Will I pass the exam?\")\n",
    "print(\"\\nReturned:\", divination)"
   ]
  },
  {
   "cell_type": "raw",
   "id": "e077413d",
   "metadata": {
    "format": "text/html"
   },
   "source": [
    "</div>"
   ]
  },
  {
   "cell_type": "code",
   "execution_count": 5,
   "metadata": {},
   "outputs": [
    {
     "name": "stdout",
     "output_type": "stream",
     "text": [
      "\n",
      "Dear stranger, welcome to SCIPROG I CHING 易經 DIVINATOR\n",
      "\n",
      "Tell me your question...\n",
      "\n",
      "        Will I pass the exam?\n",
      "\n",
      "The coin says 'heads' : we get a yang ---\n",
      "The coin says 'tails' : we get a  yin - -\n",
      "The coin says 'heads' : we get a yang ---\n",
      "\n",
      "The sacred bottom trigram is:\n",
      "\n",
      "Fire\n",
      "\n",
      "   ---\n",
      "   - -\n",
      "   ---\n",
      "\n",
      "The coin says 'heads' : we get a yang ---\n",
      "The coin says 'tails' : we get a  yin - -\n",
      "The coin says 'tails' : we get a  yin - -\n",
      "\n",
      "The sacred upper trigram is:\n",
      "\n",
      "Thunder\n",
      "\n",
      "   - -\n",
      "   - -\n",
      "   ---\n",
      "\n",
      "The final response hexagram is...\n",
      "\n",
      "Abounding\n",
      "\n",
      "   - -\n",
      "   - -\n",
      "   ---\n",
      "   ---\n",
      "   - -\n",
      "   ---\n",
      "\n",
      "Returned: 101100\n"
     ]
    }
   ],
   "source": [
    "import random\n",
    "\n",
    "def divine(iching, question):\n",
    "    \n",
    "    #THE SEED DETERMINES FOLLOWING randint RESULTS\n",
    "    random.seed(109)      # Abounding\n",
    "                          # Thunder  \n",
    "                          # Fire\n",
    "        \n",
    "    #IMPORTANT: try also this seed to check lines visualization order\n",
    "    #random.seed(1)                                  \n",
    "    #\n",
    "    # Infiltrating 001011\n",
    "    # Mountain ---\n",
    "    #          ---\n",
    "    #          - -\n",
    "    # Air      ---\n",
    "    #          - -\n",
    "    #          - -            \n",
    "    \n",
    "    raise Exception('TODO IMPLEMENT ME !')\n",
    "\n",
    "divination = divine(iching_db, \"Will I pass the exam?\")\n",
    "print(\"\\nReturned:\", divination)"
   ]
  },
  {
   "cell_type": "markdown",
   "metadata": {},
   "source": [
    "## A3 plot_divination\n",
    "\n",
    "Given a divination as a string of bits, plot the divination. \n",
    "\n",
    "* first draw the lines, then the rest if you have time. \n",
    "* make it fancy with these [examples](https://en.softpython.org/visualization/visualization-sol.html#Fancy-plots)\n",
    "* to center text you can use these parameters: `ha='center', va='center'`"
   ]
  },
  {
   "cell_type": "raw",
   "id": "ee253cf1",
   "metadata": {
    "format": "text/html"
   },
   "source": [
    "<a  class=\"jupman-sol jupman-sol-toggler\" \n",
    " onclick=\"jupman.toggleSolution(this);\" \n",
    " data-jupman-show=\"Show solution\" data-jupman-hide=\"Hide\">Show solution</a><div class=\"jupman-sol jupman-sol-code\" style=\"display:none\">  "
   ]
  },
  {
   "cell_type": "code",
   "execution_count": 6,
   "metadata": {
    "scrolled": false
   },
   "outputs": [
    {
     "data": {
      "image/png": "[encoded data removed]",
      "text/plain": [
       "<Figure size 720x360 with 1 Axes>"
      ]
     },
     "metadata": {
      "needs_background": "light"
     },
     "output_type": "display_data"
    }
   ],
   "source": [
    "%matplotlib inline\n",
    "import matplotlib.pyplot as plt\n",
    "\n",
    "def plot_divination(iching, question, divination):\n",
    "    \n",
    "    \n",
    "    fig = plt.figure(figsize=(10,5))\n",
    "    \n",
    "    plt.xlim(0,750)\n",
    "    plt.ylim(0,700)\n",
    "    \n",
    "    xl = 150\n",
    "    yd = 50\n",
    "    segw = 100\n",
    "    midx = 400\n",
    "\n",
    "    def plot_trigram(seq, yl):\n",
    "        plt.text(xl-35,\n",
    "                 yl + yd*2,\n",
    "                 iching[seq]['name-en'],\n",
    "                 fontsize=25,\n",
    "                 fontweight='bold',\n",
    "                 color=\"darkgray\",\n",
    "                 ha='center',\n",
    "                 va='center')\n",
    "\n",
    "        lw = 15\n",
    "        for i in range(3):\n",
    "            h = yl + yd*(i+1)\n",
    "            if seq[i] == '0':\n",
    "                plt.plot([xl + segw,xl + segw*2], [h,h],\n",
    "                         color='black',\n",
    "                         linewidth=lw)                \n",
    "                \n",
    "                plt.plot([xl + segw*3, xl + segw*4], [h,h],\n",
    "                         color='black',\n",
    "                         linewidth=lw)\n",
    "            else:\n",
    "                plt.plot([xl + segw,xl + segw*4], [h,h],\n",
    "                         color='black',\n",
    "                         linewidth=lw)\n",
    "\n",
    "    plt.text(midx,\n",
    "             570,\n",
    "             question,\n",
    "             fontsize=26,\n",
    "             fontweight='bold',\n",
    "             color=\"CornflowerBlue\", \n",
    "             ha='center')\n",
    "                \n",
    "    plot_trigram(divination[:3], 0)\n",
    "    plot_trigram(divination[3:], 170)\n",
    "        \n",
    "    plt.text(midx,\n",
    "             420,\n",
    "             iching[divination]['name-en'],\n",
    "             fontsize=32,\n",
    "             fontweight='bold',\n",
    "             color=\"orange\",\n",
    "             ha='center')\n",
    "                \n",
    "    plt.show()\n",
    "    \n",
    "    \n",
    "plot_divination(iching_db, \"Will I pass Sciprog exam?\", '101100')  # Abounding\n",
    "#plot_divination(iching_db, \"Will I pass Sciprog exam?\", '111011') # Small Harvest\n",
    "#plot_divination(iching_db, \"Will I pass Sciprog exam?\",'001011')  # Infiltrating"
   ]
  },
  {
   "cell_type": "raw",
   "id": "77cb9b40",
   "metadata": {
    "format": "text/html"
   },
   "source": [
    "</div>"
   ]
  },
  {
   "cell_type": "code",
   "execution_count": 6,
   "metadata": {
    "scrolled": false
   },
   "outputs": [
    {
     "data": {
      "image/png": "[encoded data removed]",
      "text/plain": [
       "<Figure size 720x360 with 1 Axes>"
      ]
     },
     "metadata": {
      "needs_background": "light"
     },
     "output_type": "display_data"
    }
   ],
   "source": [
    "%matplotlib inline\n",
    "import matplotlib.pyplot as plt\n",
    "\n",
    "def plot_divination(iching, question, divination):\n",
    "    raise Exception('TODO IMPLEMENT ME !')\n",
    "    \n",
    "plot_divination(iching_db, \"Will I pass Sciprog exam?\", '101100')  # Abounding\n",
    "#plot_divination(iching_db, \"Will I pass Sciprog exam?\", '111011') # Small Harvest\n",
    "#plot_divination(iching_db, \"Will I pass Sciprog exam?\",'001011')  # Infiltrating"
   ]
  },
  {
   "cell_type": "markdown",
   "metadata": {},
   "source": [
    "## Part B\n",
    "\n",
    "* Open Visual Studio Code and start editing the folder on your desktop"
   ]
  },
  {
   "cell_type": "markdown",
   "metadata": {},
   "source": [
    "## B1 Theory\n",
    "\n",
    "**Write the solution in separate `theory.txt` file**"
   ]
  },
  {
   "cell_type": "markdown",
   "metadata": {},
   "source": [
    "### B1.1 Complexity\n",
    "\n",
    "**1.A:** Given a list `L` of $n$ elements, please compute the asymptotic computational complexity of the `my_fun` function, explaining your reasoning.\n",
    " \n",
    "\n",
    "```python\n",
    "def my_fun(L):\n",
    "    tmp = [1 for x in L]\n",
    "    n = sum(tmp)\n",
    "\n",
    "    for i in range(1, int(n/2)+1):\n",
    "        if L[i-1] != L[-i]:\n",
    "            return False\n",
    "        else:\n",
    "            return True\n",
    "```\n",
    "\n",
    "**1.B:** Do you have any idea to improve this code a little bit? "
   ]
  },
  {
   "cell_type": "markdown",
   "metadata": {},
   "source": [
    "### B1.2 nlogn\n",
    "\n",
    "What do we mean when we say that an algorithm has asymptotic computational complexity $O(n logn)$? What do we have to do to prove that an algorithm has asymptotic computational complexity $O(nlogn)$? "
   ]
  },
  {
   "cell_type": "markdown",
   "metadata": {},
   "source": [
    "## B2 Train race\n",
    "\n",
    "An important train race is taking place in Steam Land. Each train has a length and a velocity. A train is represented as a sequence of asterisks. A _train path_ is a list which holds all the train asterisks, and, if the train has moved _m_ positions so far, the path also holds _m_ dashes `-` before the asterisks. \n",
    "\n",
    "Open the file `train_race.py` and implement methods from class `TrainRace`, in particular:"
   ]
  },
  {
   "cell_type": "code",
   "execution_count": 7,
   "metadata": {},
   "outputs": [
    {
     "name": "stdout",
     "output_type": "stream",
     "text": [
      "def step(self):\n",
      "    \"\"\" Steps the simulation by moving each train toward right \n",
      "        by a number of cells given by its velocity.            \n",
      "        \n",
      "                    \n",
      "        *** MUST run in O(v) where v is the sum of all velocities     \n",
      "        \n",
      "        *** Complexity MUST *NOT* depend on train length nor dashes length\n",
      "        \n",
      "        *** For simplicity, ASSUME velocity is always \n",
      "            less or equal than train length                 \n",
      "        \n",
      "        ********      HAVE YOU READ THE REQUIREMENTS ABOVE ?   ********\n",
      "    \"\"\"\n"
     ]
    }
   ],
   "source": [],
   "transient": {
    "remove_source": true
   }
  },
  {
   "cell_type": "markdown",
   "metadata": {},
   "source": [
    "<div class=\"alert alert-warning\">\n",
    "    \n",
    "**WARNING: AVOID EXPENSIVE LIST METHODS / OPERATORS**    \n",
    "    \n",
    "Passing tests is easy, the hard part is to make it _fast_: will your program run fast with a train of one million asterisks? And with a train which made a million steps?\n",
    "    \n",
    "</div>"
   ]
  },
  {
   "cell_type": "markdown",
   "metadata": {},
   "source": [
    "**Testing**: `python3 -m unittest train_race_test.VelocityLessOrEqualThanTrainSizeTest`\n",
    "\n",
    "**Extra** (not required during the exam): make it work also when velocity can be greater than train size, then test with: \n",
    "\n",
    "`python3 -m unittest train_race_test.VelocityGreaterThanTrainSizeTest`\n",
    "\n",
    "**Example**:"
   ]
  },
  {
   "cell_type": "code",
   "execution_count": 8,
   "metadata": {},
   "outputs": [],
   "source": [
    "from train_race_sol import * \n",
    "\n",
    "       #train  lengths     velocities\n",
    "tr = TrainRace([5,3,6,3],  [2,1,3,2])"
   ]
  },
  {
   "cell_type": "code",
   "execution_count": 9,
   "metadata": {},
   "outputs": [
    {
     "data": {
      "text/plain": [
       "[['*', '*', '*', '*', '*'],\n",
       " ['*', '*', '*'],\n",
       " ['*', '*', '*', '*', '*', '*'],\n",
       " ['*', '*', '*']]"
      ]
     },
     "execution_count": 9,
     "metadata": {},
     "output_type": "execute_result"
    }
   ],
   "source": [
    "tr.get_paths()"
   ]
  },
  {
   "cell_type": "code",
   "execution_count": 10,
   "metadata": {},
   "outputs": [],
   "source": [
    "tr.step()   # returns NOTHING!"
   ]
  },
  {
   "cell_type": "code",
   "execution_count": 11,
   "metadata": {},
   "outputs": [
    {
     "data": {
      "text/plain": [
       "[['-', '-', '*', '*', '*', '*', '*'],\n",
       " ['-', '*', '*', '*'],\n",
       " ['-', '-', '-', '*', '*', '*', '*', '*', '*'],\n",
       " ['-', '-', '*', '*', '*']]"
      ]
     },
     "execution_count": 11,
     "metadata": {},
     "output_type": "execute_result"
    }
   ],
   "source": [
    "tr.get_paths()"
   ]
  },
  {
   "cell_type": "code",
   "execution_count": 12,
   "metadata": {},
   "outputs": [],
   "source": [
    "tr.step()"
   ]
  },
  {
   "cell_type": "code",
   "execution_count": 13,
   "metadata": {},
   "outputs": [
    {
     "data": {
      "text/plain": [
       "[['-', '-', '-', '-', '*', '*', '*', '*', '*'],\n",
       " ['-', '-', '*', '*', '*'],\n",
       " ['-', '-', '-', '-', '-', '-', '*', '*', '*', '*', '*', '*'],\n",
       " ['-', '-', '-', '-', '*', '*', '*']]"
      ]
     },
     "execution_count": 13,
     "metadata": {},
     "output_type": "execute_result"
    }
   ],
   "source": [
    "tr.get_paths()"
   ]
  },
  {
   "cell_type": "markdown",
   "metadata": {},
   "source": [
    "## B3 linked algebra\n",
    "\n",
    "Open `linked_list.py` and edit this method:"
   ]
  },
  {
   "cell_type": "code",
   "execution_count": 14,
   "metadata": {},
   "outputs": [
    {
     "name": "stdout",
     "output_type": "stream",
     "text": [
      "def linalg(self):\n",
      "    \"\"\" Assume nodes hold data as a string \"kc\" where k is a single digit \n",
      "        and c any character.\n",
      "        \n",
      "        MODIFY the linked list by stripping the k from original nodes, \n",
      "        and inserting k-1 new nodes next to each node.\n",
      "                \n",
      "        - ASSUME every k is >= 1\n",
      "        - MUST execute in O(s) where s is the sum of all k found.\n",
      "    \"\"\"\n"
     ]
    }
   ],
   "source": [],
   "transient": {
    "remove_source": true
   }
  },
  {
   "cell_type": "markdown",
   "metadata": {},
   "source": [
    "**Testing**: `python3 -m unittest linked_list_test`\n",
    "\n",
    "**Example:**"
   ]
  },
  {
   "cell_type": "code",
   "execution_count": 15,
   "metadata": {},
   "outputs": [
    {
     "name": "stdout",
     "output_type": "stream",
     "text": [
      "LinkedList: 3a,5b,2c\n"
     ]
    }
   ],
   "source": [
    "from linked_list_sol import *\n",
    "\n",
    "ll = LinkedList()\n",
    "\n",
    "ll.add('2c')\n",
    "ll.add('5b')\n",
    "ll.add('3a')\n",
    "\n",
    "print(ll)"
   ]
  },
  {
   "cell_type": "code",
   "execution_count": 16,
   "metadata": {},
   "outputs": [],
   "source": [
    "ll.linalg()   # returns NOTHING!"
   ]
  },
  {
   "cell_type": "code",
   "execution_count": 17,
   "metadata": {},
   "outputs": [
    {
     "name": "stdout",
     "output_type": "stream",
     "text": [
      "LinkedList: a,a,a,b,b,b,b,b,c,c\n"
     ]
    }
   ],
   "source": [
    "print(ll)"
   ]
  },
  {
   "cell_type": "markdown",
   "metadata": {},
   "source": [
    "with 3 nodes modified and 7 new nodes inserted"
   ]
  },
  {
   "cell_type": "code",
   "execution_count": 18,
   "metadata": {
    "nbsphinx": "hidden"
   },
   "outputs": [],
   "source": [],
   "transient": {
    "remove_source": true
   }
  }
 ],
 "metadata": {
  "celltoolbar": "Edit Metadata",
  "kernelspec": {
   "display_name": "Python 3 (ipykernel)",
   "language": "python",
   "name": "python3"
  },
  "language_info": {
   "codemirror_mode": {
    "name": "ipython",
    "version": 3
   },
   "file_extension": ".py",
   "mimetype": "text/x-python",
   "name": "python",
   "nbconvert_exporter": "python",
   "pygments_lexer": "ipython3",
   "version": "3.7.10"
  },
  "toc": {
   "base_numbering": 1,
   "nav_menu": {},
   "number_sections": false,
   "sideBar": true,
   "skip_h1_title": false,
   "title_cell": "Table of Contents",
   "title_sidebar": "Contents",
   "toc_cell": false,
   "toc_position": {},
   "toc_section_display": true,
   "toc_window_display": true
  }
 },
 "nbformat": 4,
 "nbformat_minor": 1
}
