{
 "cells": [
  {
   "cell_type": "code",
   "execution_count": 1,
   "metadata": {
    "nbsphinx": "hidden"
   },
   "outputs": [],
   "source": [
    "#Please execute this cell\n",
    "import jupman;"
   ]
  },
  {
   "cell_type": "markdown",
   "metadata": {},
   "source": [
    "# Exam -  Wed 09, Feb 2022\n",
    "\n",
    "**Scientific Programming - Data Science Master @ University of Trento**\n",
    "\n",
    "## [Download exercises and solutions](../../../_static/generated/sciprog-ds-2022-02-09-exam.zip) "
   ]
  },
  {
   "cell_type": "markdown",
   "metadata": {},
   "source": [
    "## Part A - Zoom surveillance\n",
    "\n",
    "\n",
    "<div class=\"alert alert-warning\">\n",
    "    \n",
    "**NOTICE: this part of the exam was** [ported to softpython](https://en.softpython.org/projects/zoom-surveillance/zoom-sol.html) **website**\n",
    "    \n",
    "There you can find a more curated version (notice it may be longer than here)\n",
    "</div>    \n",
    "\n",
    "Open Jupyter and start editing this notebook `exam-2022-02-09.ipynb`\n"
   ]
  },
  {
   "cell_type": "markdown",
   "metadata": {},
   "source": [
    "A training center holds online courses with Zoom software. Participants attendance is mandatory, and teachers want to determine who left, when and for what reason. Zoom allows to save a meeting log in a sort of CSV format which holds the timings of joins and leaves of each student. You will clean the file content and show relevant data in charts. \n",
    "\n",
    "### CSV format\n",
    "\n",
    "You are provided with the file  `UserQos_12345678901.csv`. Unfortunately, it is a weird CSV which actually looks like two completely different CSVs were merged together, one after the other. It contains the following:\n",
    "\n",
    "* 1st line: general meeting header\n",
    "* 2nd line: general meeting data\n",
    "* 3rd line: empty\n",
    "* 4th line completely different header for participant sessions for that meeting. Each session contains a join time and a leave time, and each participant can have multiple sessions in a meeting.\n",
    "* 5th line and following: sessions data\n",
    "\n",
    "The file has lots of useless fields, try to explore it and understand the format (use LibreOffice Calc to help yourself)"
   ]
  },
  {
   "cell_type": "markdown",
   "metadata": {},
   "source": [
    "Here we only show the few fields we are actually interested in, and examples of trasformations you should apply:\n",
    "\n",
    "From general meeting information section:\n",
    "\n",
    "- `Meeting ID`: `123 4567 8901`\n",
    "- `Topic`: `Hydraulics Exam`\n",
    "- `Start Time`: `\"Apr 17, 2020 02:00 PM\"` should become  `Apr 17, 2020` \n",
    "\n",
    "From participant sessions section:\n",
    "\n",
    "- `Participant`: `Luigi` \n",
    "- `Join Time`: `01:54 PM` should become `13:54` \n",
    "- `Leave Time`: `03:10 PM(Luigi got disconnected from the meeting.Reason: Network connection error. )` should be split into two fields, one for actual leave time in `15:10` format and another one for disconnection reason."
   ]
  },
  {
   "cell_type": "markdown",
   "metadata": {},
   "source": [
    "There are 3 possible disconnection reasons (try to come up with a general way to parse them - notice that there is no dot at the end of transformed string):\n",
    "\n",
    "- `(Luigi got disconnected from the meeting.Reason: Network connection error. )` should become `Network connection error`\n",
    "- `(Bowser left the meeting.Reason: Host closed the meeting. )` should become `Host closed the meeting`\n",
    "- `(Princess Toadstool left the meeting.Reason: left the meeting.)` should become `left the meeting`\n",
    "\n"
   ]
  },
  {
   "cell_type": "markdown",
   "metadata": {},
   "source": [
    "Your first goal will be to load the dataset and restructure the data so it looks like this:\n",
    "\n",
    "```python\n",
    "[['meeting_id', 'topic', 'date', 'participant', 'join_time', 'leave_time', 'reason'],\n",
    " ['123 4567 8901','Hydraulics Exam','Apr 17, 2020','Luigi','13:54','15:10','Network connection error'],\n",
    " ['123 4567 8901','Hydraulics Exam','Apr 17, 2020','Luigi','15:12','15:54','left the meeting'],\n",
    " ['123 4567 8901','Hydraulics Exam','Apr 17, 2020','Mario','14:02','14:16','Network connection error'],\n",
    " ['123 4567 8901','Hydraulics Exam','Apr 17, 2020','Mario','14:19','15:02','Network connection error'],\n",
    " ['123 4567 8901','Hydraulics Exam','Apr 17, 2020','Mario','15:04','15:50','Network connection error'],\n",
    " ['123 4567 8901','Hydraulics Exam','Apr 17, 2020','Mario','15:52','15:55','Network connection error'],\n",
    " ['123 4567 8901','Hydraulics Exam','Apr 17, 2020','Mario','15:56','16:00','Host closed the meeting'],\n",
    " ...\n",
    "]\n",
    "```"
   ]
  },
  {
   "cell_type": "markdown",
   "metadata": {},
   "source": [
    "To fix the times, you will first need to implement the following function."
   ]
  },
  {
   "cell_type": "markdown",
   "metadata": {},
   "source": [
    "### A1 time24"
   ]
  },
  {
   "cell_type": "raw",
   "id": "902e4225",
   "metadata": {
    "format": "text/html"
   },
   "source": [
    "<a  class=\"jupman-sol jupman-sol-toggler\" \n",
    " onclick=\"jupman.toggleSolution(this);\" \n",
    " data-jupman-show=\"Show solution\" data-jupman-hide=\"Hide\">Show solution</a><div class=\"jupman-sol jupman-sol-code\" style=\"display:none\">  "
   ]
  },
  {
   "cell_type": "code",
   "execution_count": 2,
   "metadata": {},
   "outputs": [],
   "source": [
    "def time24(t):\n",
    "    \"\"\" Takes a time string like '06:27 PM' and outputs a string like 18:27\n",
    "    \"\"\"\n",
    "    \n",
    "    if t.endswith('AM'):\n",
    "        if t.startswith('12:00'):\n",
    "            return '00:00'\n",
    "        else:\n",
    "            return t.replace(' AM', '')\n",
    "    else:\n",
    "        if t.startswith('12:00'):\n",
    "            return '12:00'\n",
    "            \n",
    "        h = '%0.d' % (int(t.split(':')[0]) + 12)\n",
    "        \n",
    "        return h + ':' + t.split(':')[1].replace(' PM','')\n",
    "    \n",
    "    \n",
    "assert time24('12:00 AM') == '00:00'  # midnight\n",
    "assert time24('01:06 AM') == '01:06' \n",
    "assert time24('09:45 AM') == '09:45'\n",
    "assert time24('12:00 PM') == '12:00'  # special case, it's actually midday\n",
    "assert time24('01:27 PM') == '13:27'\n",
    "assert time24('06:27 PM') == '18:27'\n",
    "assert time24('10:03 PM') == '22:03'"
   ]
  },
  {
   "cell_type": "raw",
   "id": "3debcfdf",
   "metadata": {
    "format": "text/html"
   },
   "source": [
    "</div>"
   ]
  },
  {
   "cell_type": "code",
   "execution_count": 2,
   "metadata": {},
   "outputs": [],
   "source": [
    "def time24(t):\n",
    "    \"\"\" Takes a time string like '06:27 PM' and outputs a string like 18:27\n",
    "    \"\"\"\n",
    "    raise Exception('TODO IMPLEMENT ME !')\n",
    "    \n",
    "assert time24('12:00 AM') == '00:00'  # midnight\n",
    "assert time24('01:06 AM') == '01:06' \n",
    "assert time24('09:45 AM') == '09:45'\n",
    "assert time24('12:00 PM') == '12:00'  # special case, it's actually midday\n",
    "assert time24('01:27 PM') == '13:27'\n",
    "assert time24('06:27 PM') == '18:27'\n",
    "assert time24('10:03 PM') == '22:03'"
   ]
  },
  {
   "cell_type": "markdown",
   "metadata": {},
   "source": [
    "### A2 load\n",
    "\n",
    "Implement a function which loads the file `UserQos_12345678901.csv` and RETURN a list of lists. \n",
    "\n",
    "To parse the file, you can use simple [CSV reader](https://en.softpython.org/formats/formats2-csv-sol.html) as seen in class (there is no need to use pandas)"
   ]
  },
  {
   "cell_type": "raw",
   "id": "9f6b1117",
   "metadata": {
    "format": "text/html"
   },
   "source": [
    "<a  class=\"jupman-sol jupman-sol-toggler\" \n",
    " onclick=\"jupman.toggleSolution(this);\" \n",
    " data-jupman-show=\"Show solution\" data-jupman-hide=\"Hide\">Show solution</a><div class=\"jupman-sol jupman-sol-code\" style=\"display:none\">  "
   ]
  },
  {
   "cell_type": "code",
   "execution_count": 3,
   "metadata": {},
   "outputs": [
    {
     "name": "stdout",
     "output_type": "stream",
     "text": [
      "[['meeting_id', 'topic', 'date', 'participant', 'join_time', 'leave_time', 'reason'],\n",
      " ['123 4567 8901', 'Hydraulics Exam', 'Apr 17, 2020', 'Luigi', '13:54', '15:10', 'Network connection error'],\n",
      " ['123 4567 8901', 'Hydraulics Exam', 'Apr 17, 2020', 'Luigi', '15:12', '15:54', 'left the meeting'],\n",
      " ['123 4567 8901', 'Hydraulics Exam', 'Apr 17, 2020', 'Mario', '14:02', '14:16', 'Network connection error'],\n",
      " ['123 4567 8901', 'Hydraulics Exam', 'Apr 17, 2020', 'Mario', '14:19', '15:02', 'Network connection error'],\n",
      " ['123 4567 8901', 'Hydraulics Exam', 'Apr 17, 2020', 'Mario', '15:04', '15:50', 'Network connection error'],\n",
      " ['123 4567 8901', 'Hydraulics Exam', 'Apr 17, 2020', 'Mario', '15:52', '15:55', 'Network connection error'],\n",
      " ['123 4567 8901', 'Hydraulics Exam', 'Apr 17, 2020', 'Mario', '15:56', '16:00', 'Host closed the meeting'],\n",
      " ['123 4567 8901', 'Hydraulics Exam', 'Apr 17, 2020', 'Bowser', '14:15', '14:30', 'Network connection error'],\n",
      " ['123 4567 8901', 'Hydraulics Exam', 'Apr 17, 2020', 'Bowser', '14:54', '15:03', 'Network connection error'],\n",
      " ['123 4567 8901', 'Hydraulics Exam', 'Apr 17, 2020', 'Bowser', '15:12', '15:40', 'Network connection error'],\n",
      " ['123 4567 8901', 'Hydraulics Exam', 'Apr 17, 2020', 'Bowser', '15:45', '16:00', 'Host closed the meeting'],\n",
      " ['123 4567 8901', 'Hydraulics Exam', 'Apr 17, 2020', 'Princess Toadstool', '13:56', '15:33', 'left the meeting'],\n",
      " ['123 4567 8901', 'Hydraulics Exam', 'Apr 17, 2020', 'Wario', '14:05', '14:10', 'Network connection error'],\n",
      " ['123 4567 8901', 'Hydraulics Exam', 'Apr 17, 2020', 'Wario', '14:15', '14:29', 'Network connection error'],\n",
      " ['123 4567 8901', 'Hydraulics Exam', 'Apr 17, 2020', 'Wario', '14:33', '15:10', 'left the meeting'],\n",
      " ['123 4567 8901', 'Hydraulics Exam', 'Apr 17, 2020', 'Wario', '15:25', '15:54', 'Network connection error'],\n",
      " ['123 4567 8901', 'Hydraulics Exam', 'Apr 17, 2020', 'Wario', '15:55', '16:00', 'Host closed the meeting']]\n"
     ]
    }
   ],
   "source": [
    "import csv\n",
    "\n",
    "def load(filepath): \n",
    "    \n",
    "    ret = []\n",
    "    with open(filepath, encoding='utf-8', newline='') as f:\n",
    "\n",
    "        lettore = csv.reader(f, delimiter=',')\n",
    "        next(lettore)\n",
    "        riga_meeting = next(lettore)\n",
    "        meeting_id = riga_meeting[0]            \n",
    "        topic = riga_meeting[1]\n",
    "        meeting_date = riga_meeting[7]        \n",
    "        next(lettore) # riga vuota\n",
    "        next(lettore) # secondo header        \n",
    "        ret.append(['meeting_id', 'topic','date', 'participant','join_time','leave_time','reason'])\n",
    "        for riga in lettore:            \n",
    "            session = {}\n",
    "            if len(riga) > 0:\n",
    "                ret.append([meeting_id,\n",
    "                            topic,\n",
    "                            meeting_date[:12],\n",
    "                            riga[0],                            \n",
    "                            time24(riga[10]), \n",
    "                            time24(riga[11].split('(')[0]),\n",
    "                            riga[11].split('Reason: ')[1].split('.')[0]])\n",
    "    return ret\n",
    "           \n",
    "\n",
    "meeting_log = load('UserQos_12345678901.csv')\n",
    "\n",
    "from pprint import pprint\n",
    "pprint(meeting_log, width=150)"
   ]
  },
  {
   "cell_type": "raw",
   "id": "e329566c",
   "metadata": {
    "format": "text/html"
   },
   "source": [
    "</div>"
   ]
  },
  {
   "cell_type": "code",
   "execution_count": 3,
   "metadata": {},
   "outputs": [
    {
     "name": "stdout",
     "output_type": "stream",
     "text": [
      "[['meeting_id', 'topic', 'date', 'participant', 'join_time', 'leave_time', 'reason'],\n",
      " ['123 4567 8901', 'Hydraulics Exam', 'Apr 17, 2020', 'Luigi', '13:54', '15:10', 'Network connection error'],\n",
      " ['123 4567 8901', 'Hydraulics Exam', 'Apr 17, 2020', 'Luigi', '15:12', '15:54', 'left the meeting'],\n",
      " ['123 4567 8901', 'Hydraulics Exam', 'Apr 17, 2020', 'Mario', '14:02', '14:16', 'Network connection error'],\n",
      " ['123 4567 8901', 'Hydraulics Exam', 'Apr 17, 2020', 'Mario', '14:19', '15:02', 'Network connection error'],\n",
      " ['123 4567 8901', 'Hydraulics Exam', 'Apr 17, 2020', 'Mario', '15:04', '15:50', 'Network connection error'],\n",
      " ['123 4567 8901', 'Hydraulics Exam', 'Apr 17, 2020', 'Mario', '15:52', '15:55', 'Network connection error'],\n",
      " ['123 4567 8901', 'Hydraulics Exam', 'Apr 17, 2020', 'Mario', '15:56', '16:00', 'Host closed the meeting'],\n",
      " ['123 4567 8901', 'Hydraulics Exam', 'Apr 17, 2020', 'Bowser', '14:15', '14:30', 'Network connection error'],\n",
      " ['123 4567 8901', 'Hydraulics Exam', 'Apr 17, 2020', 'Bowser', '14:54', '15:03', 'Network connection error'],\n",
      " ['123 4567 8901', 'Hydraulics Exam', 'Apr 17, 2020', 'Bowser', '15:12', '15:40', 'Network connection error'],\n",
      " ['123 4567 8901', 'Hydraulics Exam', 'Apr 17, 2020', 'Bowser', '15:45', '16:00', 'Host closed the meeting'],\n",
      " ['123 4567 8901', 'Hydraulics Exam', 'Apr 17, 2020', 'Princess Toadstool', '13:56', '15:33', 'left the meeting'],\n",
      " ['123 4567 8901', 'Hydraulics Exam', 'Apr 17, 2020', 'Wario', '14:05', '14:10', 'Network connection error'],\n",
      " ['123 4567 8901', 'Hydraulics Exam', 'Apr 17, 2020', 'Wario', '14:15', '14:29', 'Network connection error'],\n",
      " ['123 4567 8901', 'Hydraulics Exam', 'Apr 17, 2020', 'Wario', '14:33', '15:10', 'left the meeting'],\n",
      " ['123 4567 8901', 'Hydraulics Exam', 'Apr 17, 2020', 'Wario', '15:25', '15:54', 'Network connection error'],\n",
      " ['123 4567 8901', 'Hydraulics Exam', 'Apr 17, 2020', 'Wario', '15:55', '16:00', 'Host closed the meeting']]\n"
     ]
    }
   ],
   "source": [
    "import csv\n",
    "\n",
    "def load(filepath): \n",
    "    raise Exception('TODO IMPLEMENT ME !')       \n",
    "\n",
    "meeting_log = load('UserQos_12345678901.csv')\n",
    "\n",
    "from pprint import pprint\n",
    "pprint(meeting_log, width=150)"
   ]
  },
  {
   "cell_type": "code",
   "execution_count": 4,
   "metadata": {},
   "outputs": [],
   "source": [
    "EXPECTED_MEETING_LOG = \\\n",
    "[['meeting_id', 'topic', 'date', 'participant', 'join_time', 'leave_time', 'reason'],\n",
    " ['123 4567 8901', 'Hydraulics Exam', 'Apr 17, 2020', 'Luigi', '13:54', '15:10', 'Network connection error'],\n",
    " ['123 4567 8901', 'Hydraulics Exam', 'Apr 17, 2020', 'Luigi', '15:12', '15:54', 'left the meeting'],\n",
    " ['123 4567 8901', 'Hydraulics Exam', 'Apr 17, 2020', 'Mario', '14:02', '14:16', 'Network connection error'],\n",
    " ['123 4567 8901', 'Hydraulics Exam', 'Apr 17, 2020', 'Mario', '14:19', '15:02', 'Network connection error'],\n",
    " ['123 4567 8901', 'Hydraulics Exam', 'Apr 17, 2020', 'Mario', '15:04', '15:50', 'Network connection error'],\n",
    " ['123 4567 8901', 'Hydraulics Exam', 'Apr 17, 2020', 'Mario', '15:52', '15:55', 'Network connection error'],\n",
    " ['123 4567 8901', 'Hydraulics Exam', 'Apr 17, 2020', 'Mario', '15:56', '16:00', 'Host closed the meeting'],\n",
    " ['123 4567 8901', 'Hydraulics Exam', 'Apr 17, 2020', 'Bowser', '14:15', '14:30', 'Network connection error'],\n",
    " ['123 4567 8901', 'Hydraulics Exam', 'Apr 17, 2020', 'Bowser', '14:54', '15:03', 'Network connection error'],\n",
    " ['123 4567 8901', 'Hydraulics Exam', 'Apr 17, 2020', 'Bowser', '15:12', '15:40', 'Network connection error'],\n",
    " ['123 4567 8901', 'Hydraulics Exam', 'Apr 17, 2020', 'Bowser', '15:45', '16:00', 'Host closed the meeting'],\n",
    " ['123 4567 8901', 'Hydraulics Exam', 'Apr 17, 2020', 'Princess Toadstool', '13:56', '15:33', 'left the meeting'],\n",
    " ['123 4567 8901', 'Hydraulics Exam', 'Apr 17, 2020', 'Wario', '14:05', '14:10', 'Network connection error'],\n",
    " ['123 4567 8901', 'Hydraulics Exam', 'Apr 17, 2020', 'Wario', '14:15', '14:29', 'Network connection error'],\n",
    " ['123 4567 8901', 'Hydraulics Exam', 'Apr 17, 2020', 'Wario', '14:33', '15:10', 'left the meeting'],\n",
    " ['123 4567 8901', 'Hydraulics Exam', 'Apr 17, 2020', 'Wario', '15:25', '15:54', 'Network connection error'],\n",
    " ['123 4567 8901', 'Hydraulics Exam', 'Apr 17, 2020', 'Wario', '15:55', '16:00', 'Host closed the meeting']]\n",
    "\n",
    "assert meeting_log[0]   == EXPECTED_MEETING_LOG[0]    # header\n",
    "assert meeting_log[1]   == EXPECTED_MEETING_LOG[1]    # first Luigi row\n",
    "assert meeting_log[1:3] == EXPECTED_MEETING_LOG[1:3]  # Luigi rows\n",
    "assert meeting_log[:4]  == EXPECTED_MEETING_LOG[:4]   # until first Mario row included\n",
    "assert meeting_log      == EXPECTED_MEETING_LOG       # all table"
   ]
  },
  {
   "cell_type": "markdown",
   "metadata": {},
   "source": [
    "### A3.1 duration\n",
    "\n",
    "Given two times as strings `a` and `b` in format like `17:34`, RETURN the duration in minutes between them as an integer. \n",
    "\n",
    "To calculate gap durations, **we assume a meeting NEVER ends after midnight**"
   ]
  },
  {
   "cell_type": "raw",
   "id": "1823f7fd",
   "metadata": {
    "format": "text/html"
   },
   "source": [
    "<a  class=\"jupman-sol jupman-sol-toggler\" \n",
    " onclick=\"jupman.toggleSolution(this);\" \n",
    " data-jupman-show=\"Show solution\" data-jupman-hide=\"Hide\">Show solution</a><div class=\"jupman-sol jupman-sol-code\" style=\"display:none\">  "
   ]
  },
  {
   "cell_type": "code",
   "execution_count": 5,
   "metadata": {},
   "outputs": [],
   "source": [
    "def duration(a, b):\n",
    "    \n",
    "    asp = a.split(':')    \n",
    "    ta = int(asp[0])*60+int(asp[1]) \n",
    "    bsp = b.split(':')\n",
    "    tb = int(bsp[0])*60 + int(bsp[1])\n",
    "    return tb - ta\n",
    "    \n",
    "    \n",
    "assert duration('15:00','15:34') == 34\n",
    "assert duration('15:00','17:34') == 120 + 34\n",
    "assert duration('15:50','16:12') == 22\n",
    "assert duration('09:55','11:06') == 5 + 60 + 6\n",
    "assert duration('00:00','00:01') == 1\n",
    "#assert duration('11:58','00:01') == 3  # no need to support this case !!"
   ]
  },
  {
   "cell_type": "raw",
   "id": "954530fc",
   "metadata": {
    "format": "text/html"
   },
   "source": [
    "</div>"
   ]
  },
  {
   "cell_type": "code",
   "execution_count": 5,
   "metadata": {},
   "outputs": [],
   "source": [
    "def duration(a, b):\n",
    "    raise Exception('TODO IMPLEMENT ME !')\n",
    "    \n",
    "assert duration('15:00','15:34') == 34\n",
    "assert duration('15:00','17:34') == 120 + 34\n",
    "assert duration('15:50','16:12') == 22\n",
    "assert duration('09:55','11:06') == 5 + 60 + 6\n",
    "assert duration('00:00','00:01') == 1\n",
    "#assert duration('11:58','00:01') == 3  # no need to support this case !!"
   ]
  },
  {
   "cell_type": "markdown",
   "metadata": {},
   "source": [
    "### A3.2 calc_stats\n",
    "\n",
    "We want to know something about the time each participant has been disconnected from the exam. We call such intervals `gaps`, which are the difference between a session leave time and **successive** session join time.\n",
    "\n",
    "Implement the function `calc_stats` that given a cleaned log produced by `load`, RETURN a dictionary mapping each partecipant to a dictionary with these statistics:\n",
    "\n",
    "- `max_gap` : the longest time in minutes in which the participant has been disconnected\n",
    "- `gaps` : the number of disconnections happend to the participant during the meeting\n",
    "- `time_away` : the total time in minutes during which the participant has been disconnected during the meeting\n",
    "\n",
    "To calculate gap durations, **we assume a meeting NEVER ends after midnight**\n",
    "\n",
    "For the data format details, see `EXPECTED_STATS` below.\n",
    "\n",
    "<div class=\"alert alert-warning\">\n",
    "\n",
    "**To test the function, you DON'T NEED to have correctly implemented previous functions** \n",
    "\n",
    "</div>\n"
   ]
  },
  {
   "cell_type": "raw",
   "id": "2d93f8b7",
   "metadata": {
    "format": "text/html"
   },
   "source": [
    "<a  class=\"jupman-sol jupman-sol-toggler\" \n",
    " onclick=\"jupman.toggleSolution(this);\" \n",
    " data-jupman-show=\"Show solution\" data-jupman-hide=\"Hide\">Show solution</a><div class=\"jupman-sol jupman-sol-code\" style=\"display:none\">  "
   ]
  },
  {
   "cell_type": "code",
   "execution_count": 6,
   "metadata": {},
   "outputs": [
    {
     "data": {
      "text/plain": [
       "{'Luigi': {'max_gap': 2, 'gaps': 1, 'time_away': 2},\n",
       " 'Mario': {'max_gap': 3, 'gaps': 4, 'time_away': 8},\n",
       " 'Bowser': {'max_gap': 24, 'gaps': 3, 'time_away': 38},\n",
       " 'Princess Toadstool': {'max_gap': 0, 'gaps': 0, 'time_away': 0},\n",
       " 'Wario': {'max_gap': 15, 'gaps': 4, 'time_away': 25}}"
      ]
     },
     "execution_count": 6,
     "metadata": {},
     "output_type": "execute_result"
    }
   ],
   "source": [
    "\n",
    "def calc_stats(log):\n",
    "    \n",
    "    ret = {}\n",
    "    \n",
    "    last_sessions = {}\n",
    "    \n",
    "    first = True\n",
    "    for session in log:\n",
    "        if first:\n",
    "            first = False\n",
    "            continue\n",
    "        date = session[2]\n",
    "        participant = session[3]\n",
    "        join_time = session[4]\n",
    "        leave_time = session[5]\n",
    "        reason = session[6]\n",
    "        \n",
    "        if participant not in ret:\n",
    "            ret[participant] = {'max_gap': 0,\n",
    "                                'gaps': 0,\n",
    "                                'time_away':0\n",
    "                               }                                        \n",
    "        \n",
    "        if participant in last_sessions:\n",
    "            last_leave_time = last_sessions[participant][5]                        \n",
    "            gap = duration(last_leave_time, join_time)            \n",
    "            ret[participant]['max_gap'] = max(gap, ret[participant]['max_gap'])\n",
    "            ret[participant]['gaps'] += 1\n",
    "            ret[participant]['time_away'] += gap\n",
    "        \n",
    "        last_sessions[participant] = session\n",
    "    return ret\n",
    "    \n",
    "    \n",
    "\n",
    "stats = calc_stats(meeting_log)\n",
    "\n",
    "# in case you had trouble implementing load function, use this: \n",
    "#stats = calc_stats(EXPECTED_MEETING_LOG)\n",
    "\n",
    "stats"
   ]
  },
  {
   "cell_type": "raw",
   "id": "3b36d5e8",
   "metadata": {
    "format": "text/html"
   },
   "source": [
    "</div>"
   ]
  },
  {
   "cell_type": "code",
   "execution_count": 6,
   "metadata": {},
   "outputs": [
    {
     "data": {
      "text/plain": [
       "{'Luigi': {'max_gap': 2, 'gaps': 1, 'time_away': 2},\n",
       " 'Mario': {'max_gap': 3, 'gaps': 4, 'time_away': 8},\n",
       " 'Bowser': {'max_gap': 24, 'gaps': 3, 'time_away': 38},\n",
       " 'Princess Toadstool': {'max_gap': 0, 'gaps': 0, 'time_away': 0},\n",
       " 'Wario': {'max_gap': 15, 'gaps': 4, 'time_away': 25}}"
      ]
     },
     "execution_count": 6,
     "metadata": {},
     "output_type": "execute_result"
    }
   ],
   "source": [
    "\n",
    "def calc_stats(log):\n",
    "    raise Exception('TODO IMPLEMENT ME !')\n",
    "    \n",
    "\n",
    "stats = calc_stats(meeting_log)\n",
    "\n",
    "# in case you had trouble implementing load function, use this: \n",
    "#stats = calc_stats(EXPECTED_MEETING_LOG)\n",
    "\n",
    "stats"
   ]
  },
  {
   "cell_type": "code",
   "execution_count": 7,
   "metadata": {},
   "outputs": [],
   "source": [
    "EXPECTED_STATS = {'Bowser': {'gaps': 3, 'max_gap': 24, 'time_away': 38},\n",
    "                  'Luigi': {'gaps': 1, 'max_gap': 2,  'time_away': 2},\n",
    "                  'Mario': {'gaps': 4, 'max_gap': 3,  'time_away': 8},\n",
    "    'Princess Toadstool': {'gaps': 0, 'max_gap': 0,  'time_away': 0},\n",
    "                  'Wario': {'gaps': 4, 'max_gap': 15, 'time_away': 25}}\n",
    "\n",
    "assert stats == EXPECTED_STATS"
   ]
  },
  {
   "cell_type": "markdown",
   "metadata": {},
   "source": [
    "## Part B\n"
   ]
  },
  {
   "cell_type": "markdown",
   "metadata": {},
   "source": [
    "## B1 Theory\n",
    "\n",
    "**Write the solution in separate `theory.txt` file**\n",
    "\n",
    "### B1.1 myfun\n",
    "\n",
    "Given a list `L` of $n$ elements, please compute the asymptotic computational complexity of the `myfun` function, explaining your reasoning. "
   ]
  },
  {
   "cell_type": "code",
   "execution_count": 8,
   "metadata": {},
   "outputs": [],
   "source": [
    "def myfun(L):\n",
    "    n = len(L)\n",
    "    i = 1\n",
    "    s = 0\n",
    "    while i < n:\n",
    "        j = n\n",
    "        while j > 0:\n",
    "            for k in range(j, n, 2):\n",
    "                s += (i + j * k)\n",
    "            j = j//2\n",
    "        i = i*2        "
   ]
  },
  {
   "cell_type": "markdown",
   "metadata": {},
   "source": [
    "### B 1.2 nlogn\n",
    "\n",
    "What do we mean when we say that an algorithm has asymptotic computational complexity $O(n logn)$? What do we have to do to prove that an algorithm has asymptotic computational complexity $O(n logn)$?"
   ]
  },
  {
   "cell_type": "markdown",
   "metadata": {},
   "source": [
    "## B2 flatv\n",
    "\n",
    "* Open Visual Studio Code and start editing the folder on your desktop\n",
    "\n",
    "Open `linked_lists.py` and implement method `flatv`.\n",
    "\n",
    "Suppose a `LinkedList` only contains integer numbers, say 3,8,8,7,5,8,6,3,9.\n",
    "Implement method `flatv` which scans the list: when it finds the *first* occurence of a node which contains a number which is less then the previous one, and the  less than successive one, it inserts after the current one another node with the same data as the current one, and exits.\n",
    "\n",
    "Example: \n",
    "\n",
    "for Linked list 3,8,8,7,5,8,6,3,9 calling `flatv` should modify the linked list so that it becomes Linked list 3,8,8,7,5,5,8,6,3,9\n",
    "\n",
    "Note that it only modifies the first occurrence found 7,5,8 to 7,5,5,8  and the successive sequence 6,3,9  is not altered. Implement this method:\n",
    "\n",
    "```python\n",
    "    def flatv(self):\n",
    "```\n",
    "\n",
    "**Testing:** `python3 -m unittest lists_test.FlatvTest`    "
   ]
  },
  {
   "cell_type": "markdown",
   "metadata": {},
   "source": [
    "## B3 univalued_rec\n",
    "\n",
    "Open `bin_trees.py` and implement this method:\n",
    "\n",
    "```python\n",
    "    def univalued_rec(self):\n",
    "        \"\"\" RETURN True if the tree is univalued, otherwise RETURN False. \n",
    "\n",
    "            - a tree is univalued when all nodes have the same value as data\n",
    "            - MUST execute in O(n) where n is the number of nodes of the tree\n",
    "            - NOTE: with big trees a recursive solution would surely \n",
    "                    exceed the call stack, but here we don't mind\n",
    "        \"\"\"\n",
    "```\n",
    "\n",
    "**Testing**: `python3 -m unittest bin_tree_test.UnivaluedRecTest`\n",
    "\n",
    "**Example**: "
   ]
  },
  {
   "cell_type": "code",
   "execution_count": 9,
   "metadata": {},
   "outputs": [],
   "source": [
    "from bin_tree_test import bt"
   ]
  },
  {
   "cell_type": "code",
   "execution_count": 10,
   "metadata": {},
   "outputs": [
    {
     "name": "stdout",
     "output_type": "stream",
     "text": [
      "3\n",
      "├3\n",
      "└3\n",
      " ├3\n",
      " │├3\n",
      " ││├\n",
      " ││└3\n",
      " │└\n",
      " └\n"
     ]
    }
   ],
   "source": [
    "t = bt(3, bt(3), bt(3, bt(3, bt(3, None, bt(3)))))\n",
    "print(t)"
   ]
  },
  {
   "cell_type": "code",
   "execution_count": 11,
   "metadata": {},
   "outputs": [
    {
     "data": {
      "text/plain": [
       "True"
      ]
     },
     "execution_count": 11,
     "metadata": {},
     "output_type": "execute_result"
    }
   ],
   "source": [
    "t.univalued_rec()"
   ]
  },
  {
   "cell_type": "code",
   "execution_count": 12,
   "metadata": {},
   "outputs": [
    {
     "name": "stdout",
     "output_type": "stream",
     "text": [
      "2\n",
      "├3\n",
      "└6\n",
      " ├3\n",
      " │├3\n",
      " ││├\n",
      " ││└3\n",
      " │└\n",
      " └\n"
     ]
    }
   ],
   "source": [
    "t = bt(2, bt(3), bt(6, bt(3, bt(3, None, bt(3)))))\n",
    "print(t)"
   ]
  },
  {
   "cell_type": "code",
   "execution_count": 13,
   "metadata": {},
   "outputs": [
    {
     "data": {
      "text/plain": [
       "False"
      ]
     },
     "execution_count": 13,
     "metadata": {},
     "output_type": "execute_result"
    }
   ],
   "source": [
    "t.univalued_rec()"
   ]
  },
  {
   "cell_type": "code",
   "execution_count": 14,
   "metadata": {
    "nbsphinx": "hidden"
   },
   "outputs": [
    {
     "name": "stderr",
     "output_type": "stream",
     "text": [
      "...........\n",
      "----------------------------------------------------------------------\n",
      "Ran 11 tests in 0.012s\n",
      "\n",
      "OK\n",
      "........\n",
      "----------------------------------------------------------------------\n",
      "Ran 8 tests in 0.005s\n",
      "\n",
      "OK\n"
     ]
    }
   ],
   "source": [
    "#ignore this\n",
    "import jupman\n",
    "import lists_test\n",
    "jupman.run(lists_test)\n",
    "import bin_tree_test\n",
    "jupman.run(bin_tree_test)"
   ]
  },
  {
   "cell_type": "code",
   "execution_count": null,
   "metadata": {},
   "outputs": [],
   "source": []
  }
 ],
 "metadata": {
  "celltoolbar": "Edit Metadata",
  "kernelspec": {
   "display_name": "Python 3 (ipykernel)",
   "language": "python",
   "name": "python3"
  },
  "language_info": {
   "codemirror_mode": {
    "name": "ipython",
    "version": 3
   },
   "file_extension": ".py",
   "mimetype": "text/x-python",
   "name": "python",
   "nbconvert_exporter": "python",
   "pygments_lexer": "ipython3",
   "version": "3.7.10"
  },
  "toc": {
   "base_numbering": 1,
   "nav_menu": {},
   "number_sections": false,
   "sideBar": true,
   "skip_h1_title": false,
   "title_cell": "Table of Contents",
   "title_sidebar": "Contents",
   "toc_cell": false,
   "toc_position": {},
   "toc_section_display": true,
   "toc_window_display": true
  }
 },
 "nbformat": 4,
 "nbformat_minor": 1
}
