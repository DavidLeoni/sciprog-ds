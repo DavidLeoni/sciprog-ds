{
 "cells": [
  {
   "cell_type": "code",
   "execution_count": 1,
   "metadata": {
    "nbsphinx": "hidden"
   },
   "outputs": [],
   "source": [
    "#Please execute this cell\n",
    "import jupman;"
   ]
  },
  {
   "cell_type": "markdown",
   "metadata": {},
   "source": [
    "# Exam -  Wed 23, Jan 2019\n",
    "\n",
    "**Scientific Programming - Data Science Master @ University of Trento**\n",
    "\n",
    "## [Download exercises and solution](../../../_static/generated/sciprog-ds-2019-01-23-exam.zip)\n"
   ]
  },
  {
   "cell_type": "markdown",
   "metadata": {},
   "source": [
    "### What to do\n",
    "\n",
    "1) Download  `sciprog-ds-2019-01-23-exam.zip` and extract it <b>on your desktop</b>. Folder content should be like this:\n",
    "\n",
    "```\n",
    "sciprog-ds-2019-01-23-FIRSTNAME-LASTNAME-ID\n",
    "    exam-2019-01-23.ipynb\n",
    "    list.py\n",
    "    list_test.py\n",
    "    tree.py\n",
    "    tree_test.py\n",
    "    jupman.py\n",
    "    sciprog.py            \n",
    "```\n",
    "\n",
    "2) Rename `sciprog-ds-2019-01-23-FIRSTNAME-LASTNAME-ID` folder: put your name, lastname an id number, like `sciprog-ds-2019-01-23-john-doe-432432`\n",
    "\n",
    "From now on, you will be editing the files in that folder. At the end of the exam, that is what will be evaluated.\n",
    "\n",
    "3) Edit the files following the instructions in this worksheet for each exercise. Every exercise should take max 25 mins. If it takes longer, leave it and try another exercise.\n",
    "\n",
    "4) When done:\n",
    "\n",
    "- if you have unitn login:  zip and send to [examina.icts.unitn.it/studente](http://examina.icts.unitn.it/studente)\n",
    "  \n",
    "- If you don't have unitn login: tell instructors and we will download your work manually\n",
    " \n"
   ]
  },
  {
   "cell_type": "markdown",
   "metadata": {},
   "source": [
    "## Part A\n",
    "\n",
    "Open Jupyter and start editing this notebook `exam-2019-01-23.ipynb`\n"
   ]
  },
  {
   "cell_type": "markdown",
   "metadata": {},
   "source": [
    "## A.1 table_to_adj \n",
    "\n",
    "Suppose you have a table expressed as a list of lists with headers like this:\n"
   ]
  },
  {
   "cell_type": "code",
   "execution_count": 2,
   "metadata": {},
   "outputs": [],
   "source": [
    "m0 =    [\n",
    "            ['Identifier','Price','Quantity'],\n",
    "            ['a',1,1],  \n",
    "            ['b',5,8],\n",
    "            ['c',2,6],\n",
    "            ['d',8,5],\n",
    "            ['e',7,3]\n",
    "        ]\n"
   ]
  },
  {
   "cell_type": "markdown",
   "metadata": {},
   "source": [
    "where `a`, `b`, `c` etc are the row identifiers (imagine they represent items in a store), `Price` and `Quantity` are properties they might have. **NOTE**: here we put two properties, but they might have `n` properties !\n",
    "\n",
    "We want to transform such table into a graph-like format as a dictionary of lists, which relates store items as keys to the properties they might have. To include in the list both the property identifier and its value, we will use tuples. So you need to write a function that transforms the above input into this:"
   ]
  },
  {
   "cell_type": "code",
   "execution_count": 3,
   "metadata": {},
   "outputs": [],
   "source": [
    "res0 =  {\n",
    "            'a':[('Price',1),('Quantity',1)],\n",
    "            'b':[('Price',5),('Quantity',8)],\n",
    "            'c':[('Price',2),('Quantity',6)],\n",
    "            'd':[('Price',8),('Quantity',5)],\n",
    "            'e':[('Price',7),('Quantity',3)]\n",
    "        }"
   ]
  },
  {
   "cell_type": "raw",
   "id": "85df92db",
   "metadata": {
    "format": "text/html"
   },
   "source": [
    "<a  class=\"jupman-sol jupman-sol-toggler\" \n",
    " onclick=\"jupman.toggleSolution(this);\" \n",
    " data-jupman-show=\"Show solution\" data-jupman-hide=\"Hide\">Show solution</a><div class=\"jupman-sol jupman-sol-code\" style=\"display:none\">  "
   ]
  },
  {
   "cell_type": "code",
   "execution_count": 4,
   "metadata": {},
   "outputs": [],
   "source": [
    "def table_to_adj(table):\n",
    "    \n",
    "    ret = {}\n",
    "    headers = table[0]\n",
    "\n",
    "    for row in table[1:]: \n",
    "        lst = []\n",
    "        for j in range(1, len(row)):\n",
    "            lst.append((headers[j], row[j]))\n",
    "        ret[row[0]] = lst\n",
    "    return ret\n",
    "        \n",
    "    \n",
    "m0 = [\n",
    "        ['I','P','Q']\n",
    "     ]\n",
    "res0 = {}\n",
    "\n",
    "assert res0 == table_to_adj(m0)    \n",
    "\n",
    "m1 =    [\n",
    "            ['Identifier','Price','Quantity'],\n",
    "            ['a',1,1],  \n",
    "            ['b',5,8],\n",
    "            ['c',2,6],\n",
    "            ['d',8,5],\n",
    "            ['e',7,3]\n",
    "        ]\n",
    "res1 = {\n",
    "            'a':[('Price',1),('Quantity',1)],\n",
    "            'b':[('Price',5),('Quantity',8)],\n",
    "            'c':[('Price',2),('Quantity',6)],\n",
    "            'd':[('Price',8),('Quantity',5)],\n",
    "            'e':[('Price',7),('Quantity',3)]\n",
    "        }\n",
    "\n",
    "assert res1 == table_to_adj(m1)\n",
    "\n",
    "m2 =    [\n",
    "            ['I','P','Q'],\n",
    "            ['a','x','y'],  \n",
    "            ['b','w','z'],\n",
    "            ['c','z','x'],\n",
    "            ['d','w','w'],\n",
    "            ['e','y','x']\n",
    "        ]   \n",
    "res2 =  {\n",
    "            'a':[('P','x'),('Q','y')],\n",
    "            'b':[('P','w'),('Q','z')],\n",
    "            'c':[('P','z'),('Q','x')],\n",
    "            'd':[('P','w'),('Q','w')],\n",
    "            'e':[('P','y'),('Q','x')]\n",
    "        }\n",
    "\n",
    "assert res2 == table_to_adj(m2)\n",
    "\n",
    "m3 = [\n",
    "        ['I','P','Q', 'R'],\n",
    "        ['a','x','y', 'x'],\n",
    "        ['b','z','x', 'y'],\n",
    "]\n",
    "\n",
    "res3 = {\n",
    "            'a':[('P','x'),('Q','y'), ('R','x')],\n",
    "            'b':[('P','z'),('Q','x'), ('R','y')],\n",
    "    \n",
    "}\n",
    "\n",
    "\n",
    "assert res3 == table_to_adj(m3)\n"
   ]
  },
  {
   "cell_type": "raw",
   "id": "11823ae1",
   "metadata": {
    "format": "text/html"
   },
   "source": [
    "</div>"
   ]
  },
  {
   "cell_type": "code",
   "execution_count": 4,
   "metadata": {},
   "outputs": [],
   "source": [
    "def table_to_adj(table):\n",
    "    raise Exception('TODO IMPLEMENT ME !')    \n",
    "    \n",
    "m0 = [\n",
    "        ['I','P','Q']\n",
    "     ]\n",
    "res0 = {}\n",
    "\n",
    "assert res0 == table_to_adj(m0)    \n",
    "\n",
    "m1 =    [\n",
    "            ['Identifier','Price','Quantity'],\n",
    "            ['a',1,1],  \n",
    "            ['b',5,8],\n",
    "            ['c',2,6],\n",
    "            ['d',8,5],\n",
    "            ['e',7,3]\n",
    "        ]\n",
    "res1 = {\n",
    "            'a':[('Price',1),('Quantity',1)],\n",
    "            'b':[('Price',5),('Quantity',8)],\n",
    "            'c':[('Price',2),('Quantity',6)],\n",
    "            'd':[('Price',8),('Quantity',5)],\n",
    "            'e':[('Price',7),('Quantity',3)]\n",
    "        }\n",
    "\n",
    "assert res1 == table_to_adj(m1)\n",
    "\n",
    "m2 =    [\n",
    "            ['I','P','Q'],\n",
    "            ['a','x','y'],  \n",
    "            ['b','w','z'],\n",
    "            ['c','z','x'],\n",
    "            ['d','w','w'],\n",
    "            ['e','y','x']\n",
    "        ]   \n",
    "res2 =  {\n",
    "            'a':[('P','x'),('Q','y')],\n",
    "            'b':[('P','w'),('Q','z')],\n",
    "            'c':[('P','z'),('Q','x')],\n",
    "            'd':[('P','w'),('Q','w')],\n",
    "            'e':[('P','y'),('Q','x')]\n",
    "        }\n",
    "\n",
    "assert res2 == table_to_adj(m2)\n",
    "\n",
    "m3 = [\n",
    "        ['I','P','Q', 'R'],\n",
    "        ['a','x','y', 'x'],\n",
    "        ['b','z','x', 'y'],\n",
    "]\n",
    "\n",
    "res3 = {\n",
    "            'a':[('P','x'),('Q','y'), ('R','x')],\n",
    "            'b':[('P','z'),('Q','x'), ('R','y')],\n",
    "    \n",
    "}\n",
    "\n",
    "\n",
    "assert res3 == table_to_adj(m3)\n"
   ]
  },
  {
   "cell_type": "markdown",
   "metadata": {},
   "source": [
    "## A.2 bus stops"
   ]
  },
  {
   "cell_type": "markdown",
   "metadata": {},
   "source": [
    "<div class=\"alert alert-warning\">\n",
    "    \n",
    "**NOTICE: this part of the exam was ported to** [softpython](https://en.softpython.org/projects/bus-speed/bus-speed-sol.html) **website**\n",
    "    \n",
    "There you can find a more curated version (notice it may be longer than here)\n",
    "</div>    \n",
    "\n",
    "Today we will analzye intercity bus network in GTFS format taken from [dati.trentino.it](https://dati.trentino.it/dataset/trasporti-pubblici-del-trentino-formato-gtfs), MITT service.\n",
    "\n",
    "Original GTFS data was split in several files which we merged into dataset [data/network.csv](data/network.csv) containing the bus stop times of three extra-urban routes. To load it, we provide this function:"
   ]
  },
  {
   "cell_type": "code",
   "execution_count": 5,
   "metadata": {},
   "outputs": [],
   "source": [
    "def load_stops():\n",
    "    \"Loads file network.csv and RETURN a list of dictionaries with the stop times\"\n",
    "    \n",
    "    import csv\n",
    "    with open('data/network.csv', newline='', encoding='UTF-8') as csvfile:\n",
    "        reader = csv.DictReader(csvfile)\n",
    "        lst = []\n",
    "        for d in reader:\n",
    "            lst.append(d)\n",
    "    return lst"
   ]
  },
  {
   "cell_type": "code",
   "execution_count": 6,
   "metadata": {},
   "outputs": [
    {
     "data": {
      "text/plain": [
       "[OrderedDict([('', '1'),\n",
       "              ('route_id', '76'),\n",
       "              ('agency_id', '12'),\n",
       "              ('route_short_name', 'B202'),\n",
       "              ('route_long_name',\n",
       "               'Trento-Sardagna-Candriai-Vaneze-Vason-Viote'),\n",
       "              ('route_type', '3'),\n",
       "              ('service_id', '22018091220190621'),\n",
       "              ('trip_id', '0002402742018091220190621'),\n",
       "              ('trip_headsign', 'Trento-Autostaz.'),\n",
       "              ('direction_id', '0'),\n",
       "              ('arrival_time', '06:25:00'),\n",
       "              ('departure_time', '06:25:00'),\n",
       "              ('stop_id', '844'),\n",
       "              ('stop_sequence', '2'),\n",
       "              ('stop_code', '2620'),\n",
       "              ('stop_name', 'Sardagna'),\n",
       "              ('stop_desc', ''),\n",
       "              ('stop_lat', '46.064848'),\n",
       "              ('stop_lon', '11.09729'),\n",
       "              ('zone_id', '2620.0')]),\n",
       " OrderedDict([('', '2'),\n",
       "              ('route_id', '76'),\n",
       "              ('agency_id', '12'),\n",
       "              ('route_short_name', 'B202'),\n",
       "              ('route_long_name',\n",
       "               'Trento-Sardagna-Candriai-Vaneze-Vason-Viote'),\n",
       "              ('route_type', '3'),\n",
       "              ('service_id', '22018091220190621'),\n",
       "              ('trip_id', '0002402742018091220190621'),\n",
       "              ('trip_headsign', 'Trento-Autostaz.'),\n",
       "              ('direction_id', '0'),\n",
       "              ('arrival_time', '06:26:00'),\n",
       "              ('departure_time', '06:26:00'),\n",
       "              ('stop_id', '5203'),\n",
       "              ('stop_sequence', '3'),\n",
       "              ('stop_code', '2620VD'),\n",
       "              ('stop_name', 'Sardagna Civ. 22'),\n",
       "              ('stop_desc', ''),\n",
       "              ('stop_lat', '46.069494'),\n",
       "              ('stop_lon', '11.095252'),\n",
       "              ('zone_id', '2620.0')])]"
      ]
     },
     "execution_count": 6,
     "metadata": {},
     "output_type": "execute_result"
    }
   ],
   "source": [
    "stops = load_stops()\n",
    "\n",
    "stops[0:2]"
   ]
  },
  {
   "cell_type": "markdown",
   "metadata": {},
   "source": [
    "Of interest to you are the fields `route_short_name`, `arrival_time`, and `stop_lat` and `stop_lon` which provide the geographical coordinates of the stop. Stops are already sorted in the file from earliest to latest."
   ]
  },
  {
   "cell_type": "markdown",
   "metadata": {},
   "source": [
    "\n",
    "Given a `route_short_name`, like `B202`, we want to plot the graph of bus velocity measured in **km/hours** at each stop. We define velocity at stop `n` as \n",
    "\n",
    "$velocity_n = \\frac{\\Delta space_n}{\\Delta time_n }$\n",
    "\n",
    "\n",
    "where \n",
    "\n",
    "$\\Delta time_n = time_n - time_{n-1}$ as the time **in hours**  the bus takes between stop $n$ and stop $n-1$. \n",
    "\n",
    "and \n",
    "\n",
    "$\\Delta space_n = space_n - space_{n-1}$ is the distance the bus has moved between stop $n$ and stop $n-1$.\n",
    "\n",
    "We also set $velocity_0 = 0$\n",
    "\n",
    "**NOTE FOR TIME**:  When we say time in **hours**, it means that if you have the time as string `08:27:42`, its number in seconds since midnight is like:\n"
   ]
  },
  {
   "cell_type": "code",
   "execution_count": 7,
   "metadata": {},
   "outputs": [],
   "source": [
    "secs = 8*60*60+27*60+42"
   ]
  },
  {
   "cell_type": "markdown",
   "metadata": {},
   "source": [
    "and to calculate the time in **float hours** you need to divide `secs` by `60*60=3600`: "
   ]
  },
  {
   "cell_type": "code",
   "execution_count": 8,
   "metadata": {},
   "outputs": [
    {
     "data": {
      "text/plain": [
       "8.461666666666666"
      ]
     },
     "execution_count": 8,
     "metadata": {},
     "output_type": "execute_result"
    }
   ],
   "source": [
    "hours_float = secs / (60*60)\n",
    "hours_float"
   ]
  },
  {
   "cell_type": "markdown",
   "metadata": {},
   "source": [
    "**NOTE FOR SPACE**: Unfortunately, we could not find the actual distance as road length done by the bus between one stop and the next one. So, for the sake of the exercise, we will take the _geo distance_, that is, we will calculate it using the line distance between the points of the stops, using their geographical coordinates. The function to calculate the `geo_distance` is already implemented : "
   ]
  },
  {
   "cell_type": "code",
   "execution_count": 9,
   "metadata": {},
   "outputs": [],
   "source": [
    "def geo_distance(lat1, lon1, lat2, lon2):\n",
    "    \"\"\" Return the geo distance in kilometers\n",
    "        between the points 1 and 2 at provided geographical coordinates.\n",
    "        \n",
    "    \"\"\"\n",
    "    # Shamelessly copied from https://stackoverflow.com/a/19412565\n",
    "    \n",
    "    from math import sin, cos, sqrt, atan2, radians\n",
    "\n",
    "    # approximate radius of earth in km\n",
    "    R = 6373.0\n",
    "\n",
    "    lat1 = radians(lat1)\n",
    "    lon1 = radians(lon1)\n",
    "    lat2 = radians(lat2)\n",
    "    lon2 = radians(lon2)\n",
    "\n",
    "    dlon = lon2 - lon1\n",
    "    dlat = lat2 - lat1\n",
    "\n",
    "    a = sin(dlat / 2)**2 + cos(lat1) * cos(lat2) * sin(dlon / 2)**2\n",
    "    c = 2 * atan2(sqrt(a), sqrt(1 - a))\n",
    "\n",
    "    return R * c\n"
   ]
  },
  {
   "cell_type": "markdown",
   "metadata": {},
   "source": [
    "In the following we see the bus line `B102`, going from Sardagna to Trento.\n",
    "The graph should show something like the following.\n",
    "\n",
    "We can see that as long as the bus is taking stops within Sardagna town, velocity (always intended as air-line velocity ) is high, but when the bus has to go to Trento, since there are many twists and turns on the road, it takes a while to arrive even if in geo-distance Trento is near, so actual velocity decreases. In such case it would be much more convenient to take the cable car.\n",
    "\n",
    "These type of graphs might show places in the territory where shortcuts such as cable cars, tunnels or bridges might be helpful for transportation.\n"
   ]
  },
  {
   "cell_type": "raw",
   "id": "3768596d",
   "metadata": {
    "format": "text/html"
   },
   "source": [
    "<a  class=\"jupman-sol jupman-sol-toggler\" \n",
    " onclick=\"jupman.toggleSolution(this);\" \n",
    " data-jupman-show=\"Show solution\" data-jupman-hide=\"Hide\">Show solution</a><div class=\"jupman-sol jupman-sol-code\" style=\"display:none\">  "
   ]
  },
  {
   "cell_type": "code",
   "execution_count": 10,
   "metadata": {},
   "outputs": [],
   "source": [
    "def to_float_hour(time_string):\n",
    "    \"\"\" \n",
    "        Takes a time string in the format like 08:27:42\n",
    "        and RETURN the time since midnight in hours as a float (es 8.461666666666666)\n",
    "    \"\"\"\n",
    "    \n",
    "    hours = int(time_string[0:2])\n",
    "    mins = int(time_string[3:5])\n",
    "    secs = int(time_string[6:])\n",
    "    return (hours * 60 * 60 + mins * 60 + secs) / (60*60)\n",
    "    \n",
    "\n",
    "def plot(route_short_name):\n",
    "    \"\"\" Takes a route_short_name and *PLOTS* with matplotlib a graph of the velocity of \n",
    "        the the bus trip for that route \n",
    "        \n",
    "        - just use matplotlib, you *don't* need pandas and *don't* need numpy\n",
    "        - xs positions MUST be in *float hours*,  distanced at lengths proportional \n",
    "          to the actual time the bus arrives that stop\n",
    "        - xticks MUST show \n",
    "          - the stop name *NICELY* (with carriage returns)\n",
    "          - the time in *08:50:12 format* \n",
    "        - ys MUST show the velocity of the bus at that time\n",
    "        - assume velocity at stop 0 equals 0\n",
    "        - remember to set the figure width and heigth\n",
    "        - remember to set axis labels and title\n",
    "    \"\"\"\n",
    "    \n",
    "    stops = load_stops()\n",
    "\n",
    "    %matplotlib inline\n",
    "    import matplotlib.pyplot as plt\n",
    "    import numpy as np\n",
    "\n",
    "    xs = []\n",
    "    ys = []\n",
    "    ticks = []\n",
    "    seq = [d for d in stops if d['route_short_name'] == route_short_name]\n",
    "    d_prev = seq[0]\n",
    "    n = 0\n",
    "    for d in seq:\n",
    "        xs.append(to_float_hour(d['arrival_time']))\n",
    "        if n == 0:\n",
    "            v = 0\n",
    "        else:\n",
    "            delta_distance = geo_distance(float(d['stop_lat']), float(d['stop_lon']),\n",
    "                               float(d_prev['stop_lat']), float(d_prev['stop_lon']))\n",
    "            delta_time = (to_float_hour(d['arrival_time']) - to_float_hour(d_prev['arrival_time']))            \n",
    "            v = delta_distance / delta_time\n",
    "        ys.append(v)\n",
    "        ticks.append(\"%s\\n%s\" % (d['stop_name'].replace(' ','\\n').replace('-','\\n'), d['arrival_time']))\n",
    "        d_prev = d\n",
    "        n += 1\n",
    "\n",
    "    fig = plt.figure(figsize=(20,12))  # width: 20 inches, height 12 inches\n",
    "    plt.plot(xs, ys)\n",
    "\n",
    "\n",
    "    plt.title(\"%s stops SOLUTION\" % route_short_name)\n",
    "    plt.xlabel('stops')\n",
    "    plt.ylabel('velocity (Km/h)')\n",
    "\n",
    "    # FIRST NEEDS A SEQUENCE WITH THE POSITIONS, THEN A SEQUENCE OF SAME LENGTH WITH LABELS\n",
    "    plt.xticks(xs, ticks)\n",
    "    print('xs = %s' % xs)\n",
    "    print('ys = %s' % ys)\n",
    "    print('xticks = %s' % ticks)\n",
    "    plt.savefig('img/%s.png' % route_short_name)\n",
    "    plt.show()\n",
    "\n",
    "    "
   ]
  },
  {
   "cell_type": "raw",
   "id": "4c36af7c",
   "metadata": {
    "format": "text/html"
   },
   "source": [
    "</div>"
   ]
  },
  {
   "cell_type": "code",
   "execution_count": 10,
   "metadata": {},
   "outputs": [],
   "source": [
    "def to_float_hour(time_string):\n",
    "    \"\"\" \n",
    "        Takes a time string in the format like 08:27:42\n",
    "        and RETURN the time since midnight in hours as a float (es 8.461666666666666)\n",
    "    \"\"\"\n",
    "    raise Exception('TODO IMPLEMENT ME !')\n",
    "\n",
    "def plot(route_short_name):\n",
    "    \"\"\" Takes a route_short_name and *PLOTS* with matplotlib a graph of the velocity of \n",
    "        the the bus trip for that route \n",
    "        \n",
    "        - just use matplotlib, you *don't* need pandas and *don't* need numpy\n",
    "        - xs positions MUST be in *float hours*,  distanced at lengths proportional \n",
    "          to the actual time the bus arrives that stop\n",
    "        - xticks MUST show \n",
    "          - the stop name *NICELY* (with carriage returns)\n",
    "          - the time in *08:50:12 format* \n",
    "        - ys MUST show the velocity of the bus at that time\n",
    "        - assume velocity at stop 0 equals 0\n",
    "        - remember to set the figure width and heigth\n",
    "        - remember to set axis labels and title\n",
    "    \"\"\"\n",
    "    raise Exception('TODO IMPLEMENT ME !')"
   ]
  },
  {
   "cell_type": "markdown",
   "metadata": {},
   "source": [
    "```python\n",
    "plot('B202')\n",
    "```\n",
    "\n",
    "```\n",
    "xs = [6.416666666666667, 6.433333333333334, 6.45, 6.466666666666667, 6.516666666666667, 6.55, 6.566666666666666, 6.616666666666666, 6.65, 6.683333333333334]\n",
    "ys = [0, 32.410644806589666, 25.440452145453996, 29.058090168277648, 4.151814096935986, 7.514788081665398, 24.226499833822754, 3.8149164687282586, 34.89698602693173, 14.321244382769315]\n",
    "xticks = ['Sardagna\\n06:25:00', 'Sardagna\\nCiv.\\n22\\n06:26:00', 'Sardagna\\nCiv.20\\n06:27:00', 'Sardagna\\nMaso\\nScala\\n06:28:00', 'Trento\\nLoc.\\nS.Antonio\\n06:31:00', 'Trento\\nVia\\nSardagna\\nCiv.\\n104\\n06:33:00', 'Trento\\nMaso\\nPedrotti\\n06:34:00', 'Trento\\nLoc.Conotter\\n06:37:00', 'Trento\\nVia\\nBrescia\\n4\\n06:39:00', 'Trento\\nAutostaz.\\n06:41:00']\n",
    "\n",
    "```\n",
    "\n",
    "![B202 jiruiu9](img/B202.png)"
   ]
  },
  {
   "cell_type": "markdown",
   "metadata": {},
   "source": [
    "```python\n",
    "plot('B201')\n",
    "```\n",
    "```\n",
    "xs = [18.25, 18.283333333333335, 18.333333333333332, 18.533333333333335, 18.75, 19.166666666666668]\n",
    "ys = [0, 57.11513455659372, 27.731105466934423, 41.63842308087865, 28.5197376150513, 31.49374154105802]\n",
    "xticks = ['Tione\\nAutostazione\\n18:15:00', 'Zuclo\\nSs237\\n\"Superm.\\nLidl\"\\n18:17:00', 'Saone\\n18:20:00', 'Ponte\\nArche\\nAutost.\\n18:32:00', 'Sarche\\nCentro\\nComm.\\n18:45:00', 'Trento\\nAutostaz.\\n19:10:00']\n",
    "```\n",
    "![B201 ekjeriu9](img/B201.png)"
   ]
  },
  {
   "cell_type": "markdown",
   "metadata": {
    "scrolled": true
   },
   "source": [
    "```python\n",
    "plot('B301')\n",
    "```\n",
    "\n",
    "```\n",
    "xs = [17.583333333333332, 17.666666666666668, 17.733333333333334, 17.766666666666666, 17.8, 17.833333333333332, 17.883333333333333, 17.9, 17.916666666666668, 17.933333333333334, 17.983333333333334, 18.0, 18.05, 18.066666666666666, 18.083333333333332, 18.1, 18.133333333333333, 18.15, 18.166666666666668, 18.183333333333334, 18.25, 18.266666666666666, 18.3, 18.316666666666666, 18.35, 18.383333333333333, 18.4]\n",
    "ys = [0, 12.183536596091201, 11.250009180954352, 16.612469697023045, 20.32290877261807, 29.650645502388567, 43.45858933073937, 33.590326783093374, 51.14340770207765, 31.710506116846854, 24.12416002315475, 68.52690370810224, 66.54632979050625, 36.97129817779247, 29.62791050495846, 34.08490909322781, 29.184331044522004, 19.648559840967014, 37.7140096915846, 43.892216115372726, 33.48796397878209, 29.521341752309603, 32.83990219938084, 38.20505182104893, 27.292895333249888, 12.602972475349818, 28.804672730461583]\n",
    "xticks = ['Trento\\nAutostaz.\\n17:35:00', 'Trento\\nC.So\\nTre\\nNovembre\\n17:40:00', 'Trento\\nViale\\nVerona\\n17:44:00', 'Trento\\nS.Bartolameo\\n17:46:00', 'Trento\\nViale\\nVerona\\nBig\\nCenter\\n17:48:00', 'Trento\\nMan\\n17:50:00', 'Mattarello\\nLoc.Ronchi\\n17:53:00', 'Mattarello\\nVia\\nNazionale\\n17:54:00', 'Mattarello\\n17:55:00', 'Mattarello\\nEx\\nSt.Vestimenta\\n17:56:00', 'Acquaviva\\n17:59:00', 'Acquaviva\\nPizzeria\\n18:00:00', 'Besenello\\nPosta\\nVecchia\\n18:03:00', 'Besenello\\nFerm.\\nNord\\n18:04:00', 'Besenello\\n18:05:00', 'Besenello\\nFerm.\\nSud\\n18:06:00', 'Calliano\\nSp\\n49\\n\"Cimitero\"\\n18:08:00', 'Calliano\\n18:09:00', 'Calliano\\nGrafiche\\nManfrini\\n18:10:00', 'Castelpietra\\n18:11:00', 'Volano\\n18:15:00', 'Volano\\nVia\\nDes\\nTor\\n18:16:00', 'Ss.12\\nS.Ilario/Via\\nStroperi\\n18:18:00', 'S.Ilario\\n18:19:00', 'Rovereto\\nV.Le\\nTrento\\n18:21:00', 'Rovereto\\nVia\\nBarattieri\\n18:23:00', 'Rovereto\\nVia\\nManzoni\\n18:24:00']\n",
    "```\n",
    "\n",
    "![B301 i0909](img/B301.png)"
   ]
  },
  {
   "cell_type": "markdown",
   "metadata": {},
   "source": [
    "## Part B"
   ]
  },
  {
   "cell_type": "markdown",
   "metadata": {},
   "source": [
    "## B.1 Theory\n",
    "\n",
    "Let `L` a list of size `n`, and `i` and `j` two indeces. Return the computational complexity of function `fun()` with respect to n.\n",
    "\n",
    "```\n",
    "def fun(L,i,j):\n",
    "    if i==j:\n",
    "        return 0\n",
    "    else:\n",
    "        m = (i+j)//2\n",
    "        count = 0\n",
    "        for x in L[i:m]:\n",
    "          for y in L[m:j+1]:\n",
    "             if x==y:\n",
    "                count = count+1\n",
    "        left = fun(L,i,m)\n",
    "        right = fun(L,m+1,j)\n",
    "        return left+right+count \n",
    "```\n",
    "\n"
   ]
  },
  {
   "cell_type": "raw",
   "id": "d06558de",
   "metadata": {
    "format": "text/html"
   },
   "source": [
    "<a  class=\"jupman-sol jupman-sol-toggler\" \n",
    " onclick=\"jupman.toggleSolution(this);\" \n",
    " data-jupman-show=\"Show answer\" data-jupman-hide=\"Hide\">Show answer</a><div class=\"jupman-sol jupman-sol-question\" style=\"display:none\">  "
   ]
  },
  {
   "cell_type": "markdown",
   "metadata": {},
   "source": [
    "**ANSWER**: write solution here\n",
    "\n",
    "$O(n^2)$\n"
   ]
  },
  {
   "cell_type": "raw",
   "id": "2c5e2188",
   "metadata": {
    "format": "text/html"
   },
   "source": [
    "</div>"
   ]
  },
  {
   "cell_type": "markdown",
   "metadata": {},
   "source": [
    "## B.2 Linked List flatv\n",
    "\n",
    "Suppose a `LinkedList` only contains integer numbers, say 3,8,8,7,5,8,6,3,9.\n",
    "Implement method `flatv` which scans the list: when it finds the *first* occurence of a node which contains a number which is less then the previous one, and the  less than successive one, it inserts after the current one another node with the same data as the current one, and exits.\n",
    "\n",
    "Example: \n",
    "\n",
    "for Linked list 3,8,8,7,5,8,6,3,9\n",
    "\n",
    "calling `flatv` should modify the linked list so that it becomes\n",
    "\n",
    "Linked list 3,8,8,7,5,5,8,6,3,9\n",
    "\n",
    "Note that it only modifies the first occurrence found 7,5,8 to 7,5,5,8  and the successive sequence 6,3,9  is not altered\n",
    "\n",
    "Open `list.py` and implement this method:\n",
    "\n",
    "```python\n",
    "    def flatv(self):\n",
    "```\n"
   ]
  },
  {
   "cell_type": "markdown",
   "metadata": {},
   "source": [
    "## B.3 Generic Tree rightmost\n",
    "\n",
    "\n",
    "![generic tree labeled oi98fd](img/generic-tree-labeled.png)"
   ]
  },
  {
   "cell_type": "markdown",
   "metadata": {},
   "source": [
    "In the example above, the rightmost branch of `a` is given by the node sequence `a`,`d`,`n`\n",
    "\n",
    "Open `tree.py` and implement this method: \n",
    "\n",
    "```python\n",
    "def rightmost(self):\n",
    "        \"\"\" RETURN a list containing the *data* of the nodes \n",
    "            in the *rightmost* branch of the tree. \n",
    "\n",
    "            Example: \n",
    "\n",
    "            a\n",
    "            ├b\n",
    "            ├c\n",
    "            |└e\n",
    "            └d\n",
    "             ├f\n",
    "             └g\n",
    "              ├h\n",
    "              └i\n",
    "\n",
    "            should give\n",
    "\n",
    "            ['a','d','g','i']\n",
    "        \"\"\"\n",
    "```\n"
   ]
  },
  {
   "cell_type": "code",
   "execution_count": 11,
   "metadata": {
    "nbsphinx": "hidden"
   },
   "outputs": [
    {
     "name": "stderr",
     "output_type": "stream",
     "text": [
      "...........\n",
      "----------------------------------------------------------------------\n",
      "Ran 11 tests in 0.006s\n",
      "\n",
      "OK\n",
      "..........\n",
      "----------------------------------------------------------------------\n",
      "Ran 10 tests in 0.008s\n",
      "\n",
      "OK\n"
     ]
    }
   ],
   "source": [
    "import list_test\n",
    "jupman.run(list_test)\n",
    "import tree_test \n",
    "jupman.run(tree_test)"
   ]
  },
  {
   "cell_type": "code",
   "execution_count": null,
   "metadata": {},
   "outputs": [],
   "source": []
  }
 ],
 "metadata": {
  "celltoolbar": "Edit Metadata",
  "kernelspec": {
   "display_name": "Python 3 (ipykernel)",
   "language": "python",
   "name": "python3"
  },
  "language_info": {
   "codemirror_mode": {
    "name": "ipython",
    "version": 3
   },
   "file_extension": ".py",
   "mimetype": "text/x-python",
   "name": "python",
   "nbconvert_exporter": "python",
   "pygments_lexer": "ipython3",
   "version": "3.7.10"
  },
  "toc": {
   "base_numbering": 1,
   "nav_menu": {},
   "number_sections": false,
   "sideBar": true,
   "skip_h1_title": false,
   "title_cell": "Table of Contents",
   "title_sidebar": "Contents",
   "toc_cell": false,
   "toc_position": {},
   "toc_section_display": true,
   "toc_window_display": true
  }
 },
 "nbformat": 4,
 "nbformat_minor": 1
}
