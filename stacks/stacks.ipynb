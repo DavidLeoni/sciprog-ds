{
 "cells": [
  {
   "cell_type": "code",
   "execution_count": 1,
   "metadata": {},
   "outputs": [],
   "source": [
    "#jupman-preprocess\n",
    "#jupman-purge-io\n",
    "#Please execute this cell\n",
    "import sys;\n",
    "sys.path.append('../'); \n",
    "import jupman;"
   ]
  },
  {
   "cell_type": "markdown",
   "metadata": {},
   "source": [
    "#  Stacks\n",
    "\n",
    "\n",
    "## [Download exercises zip](../_static/generated/stacks.zip) \n",
    "\n",
    "[Browse files online](https://github.com/DavidLeoni/sciprog-ds/tree/master/stacks)"
   ]
  },
  {
   "cell_type": "markdown",
   "metadata": {},
   "source": [
    "## 0. Introduction\n",
    "\n",
    "### References\n",
    "\n",
    "* theory: https://sciproalgo2019.readthedocs.io/slides/Lecture5.pdf\n",
    "* [stack definition on the book](http://interactivepython.org/runestone/static/pythonds/BasicDS/WhatisaStack.html)\n",
    "\n",
    "and following sections :\n",
    "\n",
    "* [Stack Abstract Data Type](http://interactivepython.org/runestone/static/pythonds/BasicDS/TheStackAbstractDataType.html)\n",
    "* [Implementing a Stack in Python](http://interactivepython.org/runestone/static/pythonds/BasicDS/ImplementingaStackinPython.html)\n",
    "* [Simple Balanced Parenthesis](http://interactivepython.org/runestone/static/pythonds/BasicDS/SimpleBalancedParentheses.html)\n",
    "* <a href=\"https://runestone.academy/runestone/books/published/pythonds/BasicDS/BalancedSymbolsAGeneralCase.html\" target=\"_blank\">Balanced Symbols - a General Case</a>\n",
    "\n",
    "### What to do\n",
    "\n",
    "- unzip exercises in a folder, you should get something like this: \n",
    "\n",
    "```\n",
    "\n",
    "\n",
    "stacks\n",
    "    stacks.ipynb         \n",
    "    capped_stack.py\n",
    "    capped_stack_sol.py\n",
    "    capped_stack_test.py         \n",
    "    ...\n",
    "    jupman.py\n",
    "    sciprog.py         \n",
    "```\n",
    "\n",
    "\n",
    "- open the editor of your choice (for example Visual Studio Code, Spyder or PyCharme), you will edit the files ending in `.py` files\n",
    "- Go on reading this notebook, and follow instuctions inside\n"
   ]
  },
  {
   "cell_type": "markdown",
   "metadata": {},
   "source": [
    "## 1. CappedStack\n",
    "\n",
    "You will try to implement a so called _capped_ stack, which has a limit called _cap_ over which elements are discarded.\n",
    "\n",
    "\n",
    "![capped stack oioi43](img/capped-stack.png)\n",
    "\n",
    "* Your internal implementation will use python lists\n",
    "* Please name internal variables that you don't want to expose to class users by prepending them with one underscore `'_'`, like `_elements` or `_cap`\n",
    "    * The underscore is just a convention, class users will still be able to get internal variables by accessing them with field accessors like `mystack._elements`\n",
    "    * If users manipulate private fields and complain something is not working, you can tell them it's their fault!\n",
    "* try to write robust code. In general, when implementing code in the real world you might need to think more about boundary cases. In this case, we add the additional constraint that if you pass to the stack a negative or zero cap, your class initalization is expected to fail and raise a `ValueError`. \n",
    "* For easier inspection of the stack, implement also an `__str__` method so that calls to `print` show text like `CappedStack: cap=4 elements=['a', 'b']`\n"
   ]
  },
  {
   "cell_type": "markdown",
   "metadata": {},
   "source": [
    "<div class=\"alert alert-info\">\n",
    "\n",
    "**IMPORTANT**: you can exploit any Python feature you deem correct to implement \n",
    "the data structure. For example, internally you could represent the elements as a list\n",
    ", and use its own methods to grow it.\n",
    "</div>\n",
    "\n",
    "<div class=\"alert alert-info\">\n",
    "**QUESTION**: If we already have Python lists  that can more or less do the job of the stack, why do we \n",
    "    need to wrap them inside a Stack? Can't we just give our users a Python list?\n",
    "</div>\n",
    "\n",
    "<div class=\"alert alert-info\">\n",
    "\n",
    "**QUESTION**: When would you _not_ use a Python list to hold the data in the stack?\n",
    "</div>\n"
   ]
  },
  {
   "cell_type": "markdown",
   "metadata": {},
   "source": [
    "**Notice that**:\n",
    "\n",
    "* We tried to use <a href=\"https://www.python.org/dev/peps/pep-0008/#id45\" target=\"_blank\">pythonic names</a> for methods, so for example `isEmpty` was renamed to `is_empty`\n",
    "* In this case, when this stack is required to `pop` or `peek` but it is found to be empty, an `IndexError` is raised"
   ]
  },
  {
   "cell_type": "markdown",
   "metadata": {},
   "source": [
    "### CappedStack Examples\n",
    "\n",
    "To get an idea of the class to be made, in the terminal you may run the python interpreter and load the solution module like we are doing here:"
   ]
  },
  {
   "cell_type": "code",
   "execution_count": 2,
   "metadata": {},
   "outputs": [],
   "source": [
    "from capped_stack_sol import *"
   ]
  },
  {
   "cell_type": "code",
   "execution_count": 3,
   "metadata": {},
   "outputs": [],
   "source": [
    "s = CappedStack(2)"
   ]
  },
  {
   "cell_type": "code",
   "execution_count": 4,
   "metadata": {},
   "outputs": [
    {
     "name": "stdout",
     "output_type": "stream",
     "text": [
      "CappedStack: cap=2 elements=[]\n"
     ]
    }
   ],
   "source": [
    "print(s)"
   ]
  },
  {
   "cell_type": "code",
   "execution_count": 5,
   "metadata": {},
   "outputs": [],
   "source": [
    "s.push('a')"
   ]
  },
  {
   "cell_type": "code",
   "execution_count": 6,
   "metadata": {},
   "outputs": [
    {
     "name": "stdout",
     "output_type": "stream",
     "text": [
      "CappedStack: cap=2 elements=['a']\n"
     ]
    }
   ],
   "source": [
    "print(s)"
   ]
  },
  {
   "cell_type": "code",
   "execution_count": 7,
   "metadata": {},
   "outputs": [
    {
     "data": {
      "text/plain": [
       "'a'"
      ]
     },
     "execution_count": 7,
     "metadata": {},
     "output_type": "execute_result"
    }
   ],
   "source": [
    "s.peek()"
   ]
  },
  {
   "cell_type": "code",
   "execution_count": 8,
   "metadata": {},
   "outputs": [],
   "source": [
    "s.push('b')"
   ]
  },
  {
   "cell_type": "code",
   "execution_count": 9,
   "metadata": {},
   "outputs": [
    {
     "data": {
      "text/plain": [
       "'b'"
      ]
     },
     "execution_count": 9,
     "metadata": {},
     "output_type": "execute_result"
    }
   ],
   "source": [
    "s.peek()"
   ]
  },
  {
   "cell_type": "code",
   "execution_count": 10,
   "metadata": {},
   "outputs": [
    {
     "name": "stdout",
     "output_type": "stream",
     "text": [
      "CappedStack: cap=2 elements=['a', 'b']\n"
     ]
    }
   ],
   "source": [
    "print(s)"
   ]
  },
  {
   "cell_type": "code",
   "execution_count": 11,
   "metadata": {},
   "outputs": [
    {
     "data": {
      "text/plain": [
       "'b'"
      ]
     },
     "execution_count": 11,
     "metadata": {},
     "output_type": "execute_result"
    }
   ],
   "source": [
    "s.peek()"
   ]
  },
  {
   "cell_type": "code",
   "execution_count": 12,
   "metadata": {},
   "outputs": [],
   "source": [
    "s.push('c')  # exceeds cap, gets silently discarded"
   ]
  },
  {
   "cell_type": "code",
   "execution_count": 13,
   "metadata": {},
   "outputs": [
    {
     "name": "stdout",
     "output_type": "stream",
     "text": [
      "CappedStack: cap=2 elements=['a', 'b']\n"
     ]
    }
   ],
   "source": [
    "print(s)   # no c here ..."
   ]
  },
  {
   "cell_type": "code",
   "execution_count": 14,
   "metadata": {},
   "outputs": [
    {
     "data": {
      "text/plain": [
       "'b'"
      ]
     },
     "execution_count": 14,
     "metadata": {},
     "output_type": "execute_result"
    }
   ],
   "source": [
    "s.pop()"
   ]
  },
  {
   "cell_type": "code",
   "execution_count": 15,
   "metadata": {},
   "outputs": [
    {
     "name": "stdout",
     "output_type": "stream",
     "text": [
      "CappedStack: cap=2 elements=['a']\n"
     ]
    }
   ],
   "source": [
    "print(s)"
   ]
  },
  {
   "cell_type": "code",
   "execution_count": 16,
   "metadata": {},
   "outputs": [
    {
     "data": {
      "text/plain": [
       "'a'"
      ]
     },
     "execution_count": 16,
     "metadata": {},
     "output_type": "execute_result"
    }
   ],
   "source": [
    "s.pop()  "
   ]
  },
  {
   "cell_type": "markdown",
   "metadata": {},
   "source": [
    "```python\n",
    "s.pop()   # can't pop empty stack\n",
    "\n",
    "---------------------------------------------------------------------------\n",
    "IndexError                                Traceback (most recent call last)\n",
    "<ipython-input-41-c88c8c48122b> in <module>()\n",
    "----> 1 s.pop()\n",
    "\n",
    "~/Da/prj/sciprog-ds/prj/stacks/capped_stack_sol.py in pop(self)\n",
    "     63         #jupman-raise\n",
    "     64         if len(self._elements) == 0:\n",
    "---> 65             raise IndexError(\"Empty stack !\")\n",
    "     66         else:\n",
    "     67             return self._elements.pop()\n",
    "\n",
    "IndexError: Empty stack !\n",
    "```"
   ]
  },
  {
   "cell_type": "markdown",
   "metadata": {},
   "source": [
    "```python\n",
    "s.peek()     # can't peek empty stack\n",
    "\n",
    "\n",
    "---------------------------------------------------------------------------\n",
    "IndexError                                Traceback (most recent call last)\n",
    "<ipython-input-18-f056e7e54f5d> in <module>()\n",
    "----> 1 s.peek()\n",
    "\n",
    "~/Da/prj/sciprog-ds/prj/stacks/capped_stack_sol.py in peek(self)\n",
    "     77         #jupman-raise\n",
    "     78         if len(self._elements) == 0:\n",
    "---> 79             raise IndexError(\"Empty stack !\")\n",
    "     80 \n",
    "     81         return self._elements[-1]\n",
    "\n",
    "IndexError: Empty stack !\n",
    "\n",
    "```"
   ]
  },
  {
   "cell_type": "markdown",
   "metadata": {},
   "source": [
    "### Capped Stack basic methods\n",
    "\n",
    "Now open `capped_stack.py` and start implementing the methods in the order you find them.\n",
    "\n",
    "All basic methods are grouped within the CappedStackTest class: to execute single tests you can put the test method name after the test class name, see examples below."
   ]
  },
  {
   "cell_type": "markdown",
   "metadata": {},
   "source": [
    "### 1.1 `__init__`\n",
    "\n",
    "**Test**: `python3 -m unittest capped_stack_test.CappedStackTest.test_01_init`\n",
    "\n",
    "### 1.2 cap\n",
    "\n",
    "**Test**: `python3 -m unittest capped_stack_test.CappedStackTest.test_02_cap`\n",
    "\n",
    "### 1.3 size\n",
    "\n",
    "**Test**: `python3 -m unittest capped_stack_test.CappedStackTest.test_03_size`\n",
    "\n",
    "###  1.4 `__str__`\n",
    "**Test**: `python3 -m unittest capped_stack_test.CappedStackTest.test_04_str`\n",
    "\n",
    "### 1.5 is_empty\n",
    "\n",
    "**Test**: `python3 -m unittest capped_stack_test.CappedStackTest.test_05_is_empty`\n",
    "\n",
    "### 1.6 push\n",
    "\n",
    "**Test**: `python3 -m unittest capped_stack_test.CappedStackTest.test_06_push`\n",
    "\n",
    "### 1.7 peek\n",
    "\n",
    "**Test**: `python3 -m unittest capped_stack_test.CappedStackTest.test_07_peek`\n",
    "\n",
    "### 1.8 pop\n",
    "\n",
    "**Test**: `python3 -m unittest capped_stack_test.CappedStackTest.test_08_pop`\n"
   ]
  },
  {
   "cell_type": "markdown",
   "metadata": {},
   "source": [
    "\n",
    "\n",
    "\n",
    "### 1.9 peekn\n",
    "\n",
    "Implement the `peekn` method:\n",
    "\n",
    "```python\n",
    "    def peekn(self, n):\n",
    "        \"\"\"\n",
    "            RETURN a list with the n top elements, in the order in which they\n",
    "            were pushed. For example, if the stack is the following: \n",
    "            \n",
    "                e\n",
    "                d\n",
    "                c\n",
    "                b\n",
    "                a\n",
    "                \n",
    "            peekn(3) will return the list ['c','d','e']\n",
    "\n",
    "            - If there aren't enough element to peek, raises IndexError\n",
    "            - If n is negative, raises an IndexError\n",
    "\n",
    "        \"\"\"\n",
    "        raise Exception(\"TODO IMPLEMENT ME!\")\n",
    "```\n",
    "\n",
    "**Test**: `python3 -m unittest capped_stack_test.PeeknTest`\n",
    "\n"
   ]
  },
  {
   "cell_type": "markdown",
   "metadata": {},
   "source": [
    "### 1.10 popn\n",
    "\n",
    "Implement the `popn` method:\n",
    "\n",
    "```python\n",
    "    def popn(self, n):\n",
    "        \"\"\" Pops the top n elements, and RETURN them as a list, in the order in \n",
    "            which they where pushed. For example, with the following stack:\n",
    "            \n",
    "                e\n",
    "                d\n",
    "                c\n",
    "                b\n",
    "                a\n",
    "            \n",
    "            popn(3)\n",
    "            \n",
    "            will give back ['c','d','e'], and stack will become:\n",
    "            \n",
    "                b\n",
    "                a\n",
    "            \n",
    "            - If there aren't enough element to pop, raises an IndexError\n",
    "            - If n is negative, raises an IndexError\n",
    "        \"\"\"\n",
    "\n",
    "```\n",
    "\n",
    "**Test**: `python3 -m unittest capped_stack_test.PopnTest`\n",
    "\n"
   ]
  },
  {
   "cell_type": "markdown",
   "metadata": {},
   "source": [
    "### 1.11 set_cap\n",
    "\n",
    "Implement the `set_cap` method:\n",
    "\n",
    "```python\n",
    "    def set_cap(self, cap):\n",
    "        \"\"\" MODIFIES the cap, setting its value to the provided cap. \n",
    "        \n",
    "            If the cap is less then the stack size, all the elements above \n",
    "            the cap are removed from the stack.\n",
    "            \n",
    "            If cap < 1, raises an IndexError\n",
    "            Does *not* return anything!\n",
    "        \n",
    "            For example, with the following stack, and cap at position 7:\n",
    "            \n",
    "            cap ->  7\n",
    "                    6\n",
    "                    5  e\n",
    "                    4  d\n",
    "                    3  c\n",
    "                    2  b\n",
    "                    1  a\n",
    "                    \n",
    "            \n",
    "            calling method set_cap(3) will change the stack to this:\n",
    "            \n",
    "            cap ->  3  c\n",
    "                    2  b\n",
    "                    1  a                                \n",
    "            \n",
    "        \"\"\"\n",
    "    \n",
    "```\n",
    "\n",
    "**Test**: `python3 -m unittest capped_stack_test.SetCapTest`\n"
   ]
  },
  {
   "cell_type": "markdown",
   "metadata": {},
   "source": [
    "## 2. SortedStack\n",
    "\n",
    "\n",
    "You are given a class `SortedStack` that models a simple stack. This stack is similar to the `CappedStack` you already saw, the differences being:\n",
    "\n",
    "- **it can only contain integers**, trying to put other type of values will raise a `ValueError`\n",
    "- integers **must** be inserted sorted in the stack, either ascending or descending   \n",
    "- there is no cap\n",
    "\n",
    "```\n",
    "   Example:\n",
    "        \n",
    "        Ascending:       Descending\n",
    "           \n",
    "           8                 3\n",
    "           5                 5\n",
    "           3                 8\n",
    "```           "
   ]
  },
  {
   "cell_type": "code",
   "execution_count": 17,
   "metadata": {},
   "outputs": [],
   "source": [
    "from sorted_stack_sol import *"
   ]
  },
  {
   "cell_type": "markdown",
   "metadata": {},
   "source": [
    "To create a `SortedStack` sorted in ascending order, just call it passing `True`:"
   ]
  },
  {
   "cell_type": "code",
   "execution_count": 18,
   "metadata": {},
   "outputs": [
    {
     "name": "stdout",
     "output_type": "stream",
     "text": [
      "SortedStack (ascending):   elements=[]\n"
     ]
    }
   ],
   "source": [
    "s = SortedStack(True)\n",
    "print(s)"
   ]
  },
  {
   "cell_type": "code",
   "execution_count": 19,
   "metadata": {},
   "outputs": [
    {
     "name": "stdout",
     "output_type": "stream",
     "text": [
      "SortedStack (ascending):   elements=[5]\n"
     ]
    }
   ],
   "source": [
    "s.push(5)\n",
    "print(s)"
   ]
  },
  {
   "cell_type": "code",
   "execution_count": 20,
   "metadata": {},
   "outputs": [
    {
     "name": "stdout",
     "output_type": "stream",
     "text": [
      "SortedStack (ascending):   elements=[5, 7]\n"
     ]
    }
   ],
   "source": [
    "s.push(7)\n",
    "print(s)"
   ]
  },
  {
   "cell_type": "code",
   "execution_count": 21,
   "metadata": {},
   "outputs": [
    {
     "name": "stdout",
     "output_type": "stream",
     "text": [
      "7\n"
     ]
    }
   ],
   "source": [
    "print(s.pop())"
   ]
  },
  {
   "cell_type": "code",
   "execution_count": 22,
   "metadata": {},
   "outputs": [
    {
     "name": "stdout",
     "output_type": "stream",
     "text": [
      "SortedStack (ascending):   elements=[5]\n"
     ]
    }
   ],
   "source": [
    "print(s)"
   ]
  },
  {
   "cell_type": "code",
   "execution_count": 23,
   "metadata": {},
   "outputs": [
    {
     "name": "stdout",
     "output_type": "stream",
     "text": [
      "5\n"
     ]
    }
   ],
   "source": [
    "print(s.pop())"
   ]
  },
  {
   "cell_type": "code",
   "execution_count": 24,
   "metadata": {},
   "outputs": [
    {
     "name": "stdout",
     "output_type": "stream",
     "text": [
      "SortedStack (ascending):   elements=[]\n"
     ]
    }
   ],
   "source": [
    "print(s)"
   ]
  },
  {
   "cell_type": "markdown",
   "metadata": {},
   "source": [
    "For descending order, pass `False` when you create it:"
   ]
  },
  {
   "cell_type": "code",
   "execution_count": 25,
   "metadata": {},
   "outputs": [
    {
     "name": "stdout",
     "output_type": "stream",
     "text": [
      "SortedStack (descending):   elements=[7, 5, 4]\n"
     ]
    }
   ],
   "source": [
    "sd = SortedStack(False)\n",
    "sd.push(7)\n",
    "sd.push(5)\n",
    "sd.push(4)\n",
    "print(sd)"
   ]
  },
  {
   "cell_type": "markdown",
   "metadata": {},
   "source": [
    "### 2.1 transfer\n",
    "\n",
    "Now implement the `transfer` function. \n",
    "\n",
    "**NOTE**: function is external to class `SortedStack`, so you must **NOT** access fields which begin with underscore (like `_elements`), which are meant to be private !!\n",
    "\n",
    "```python\n",
    "\n",
    "def transfer(s):\n",
    "    \"\"\" Takes as input a SortedStack s (either ascending or descending) and \n",
    "        returns a new SortedStack with the same elements of s, but in reverse order. \n",
    "        At the end of the call s will be empty.\n",
    "        \n",
    "        Example:\n",
    "        \n",
    "            s       result\n",
    "            \n",
    "            2         5\n",
    "            3         3\n",
    "            5         2\n",
    "    \"\"\"\n",
    "    raise Exception(\"TODO IMPLEMENT ME !!\")\n",
    "    \n",
    "```\n",
    "\n",
    "**Testing**\n",
    "\n",
    "Once done, running this will run only the tests in `TransferTest` class and hopefully they will pass. \n",
    "\n",
    "**Notice that  `exercise1` is followed by a dot and test class name `.TransferTest` : **\n",
    "\n",
    "```bash\n",
    "\n",
    " python -m unittest sorted_stack_test.TransferTest\n",
    "\n",
    "```\n"
   ]
  },
  {
   "cell_type": "markdown",
   "metadata": {},
   "source": [
    "\n",
    "\n",
    "### 2.2 merge\n",
    "\n",
    "Implement following `merge` function. **NOTE**: function is external to class `SortedStack`.\n",
    "\n",
    "\n",
    "```python\n",
    "\n",
    "def merge(s1,s2):\n",
    "    \"\"\" Takes as input two SortedStacks having both ascending order, \n",
    "       and returns a new SortedStack sorted in descending order, which will be the sorted merge \n",
    "       of the two input stacks. MUST run in O(n1 + n2) time, where n1 and n2 are s1 and s2 sizes.\n",
    "       \n",
    "       If input stacks are not both ascending, raises ValueError.\n",
    "       At the end of the call the input stacks will be empty.\n",
    "      \n",
    "       \n",
    "       Example:\n",
    "       \n",
    "       s1 (asc)   s2 (asc)      result (desc)\n",
    "       \n",
    "          5          7             2\n",
    "          4          3             3\n",
    "          2                        4\n",
    "                                   5\n",
    "                                   7\n",
    "    \n",
    "    \"\"\"   \n",
    "    \n",
    "    raise Exception(\"TODO IMPLEMENT ME !\")\n",
    "```\n",
    "\n",
    "**Testing**: `python -m unittest sorted_stack_test.MergeTest`"
   ]
  },
  {
   "cell_type": "markdown",
   "metadata": {},
   "source": [
    "## 3. WStack\n",
    "\n",
    "\n",
    "**Using a text editor**, open file `wstack.py`. You will find a `WStack` class skeleton which represents a simple stack that can only contain integers.\n",
    "\n",
    "### 3.1 implement class WStack\n",
    "\n",
    "Fill in missing methods in class `WStack` in the order they are presented  so to have a `.weight()` method that returns the total sum of integers in the stack in `O(1)` time. "
   ]
  },
  {
   "cell_type": "markdown",
   "metadata": {},
   "source": [
    "Example:"
   ]
  },
  {
   "cell_type": "code",
   "execution_count": 26,
   "metadata": {},
   "outputs": [],
   "source": [
    "from wstack_sol import *"
   ]
  },
  {
   "cell_type": "code",
   "execution_count": 27,
   "metadata": {},
   "outputs": [],
   "source": [
    "s = WStack()"
   ]
  },
  {
   "cell_type": "code",
   "execution_count": 28,
   "metadata": {},
   "outputs": [
    {
     "name": "stdout",
     "output_type": "stream",
     "text": [
      "WStack: weight=0 elements=[]\n"
     ]
    }
   ],
   "source": [
    "print(s)"
   ]
  },
  {
   "cell_type": "code",
   "execution_count": 29,
   "metadata": {},
   "outputs": [],
   "source": [
    "s.push(7)"
   ]
  },
  {
   "cell_type": "code",
   "execution_count": 30,
   "metadata": {},
   "outputs": [
    {
     "name": "stdout",
     "output_type": "stream",
     "text": [
      "WStack: weight=7 elements=[7]\n"
     ]
    }
   ],
   "source": [
    "print(s)"
   ]
  },
  {
   "cell_type": "code",
   "execution_count": 31,
   "metadata": {},
   "outputs": [],
   "source": [
    "s.push(4)"
   ]
  },
  {
   "cell_type": "code",
   "execution_count": 32,
   "metadata": {},
   "outputs": [
    {
     "name": "stdout",
     "output_type": "stream",
     "text": [
      "WStack: weight=11 elements=[7, 4]\n"
     ]
    }
   ],
   "source": [
    "print(s)"
   ]
  },
  {
   "cell_type": "code",
   "execution_count": 33,
   "metadata": {},
   "outputs": [],
   "source": [
    "s.push(2)"
   ]
  },
  {
   "cell_type": "code",
   "execution_count": 34,
   "metadata": {},
   "outputs": [
    {
     "data": {
      "text/plain": [
       "2"
      ]
     },
     "execution_count": 34,
     "metadata": {},
     "output_type": "execute_result"
    }
   ],
   "source": [
    "s.pop()"
   ]
  },
  {
   "cell_type": "code",
   "execution_count": 35,
   "metadata": {},
   "outputs": [
    {
     "name": "stdout",
     "output_type": "stream",
     "text": [
      "WStack: weight=11 elements=[7, 4]\n"
     ]
    }
   ],
   "source": [
    "print(s)"
   ]
  },
  {
   "cell_type": "markdown",
   "metadata": {},
   "source": [
    "### 3.2 accumulate\n",
    "\n",
    "Implement function `accumulate`:\n",
    "\n",
    "```python\n",
    "def accumulate(stack1, stack2, min_amount):\n",
    "    \"\"\" Pushes on stack2 elements taken from stack1 until the weight of\n",
    "        stack2 is equal or exceeds the given min_amount\n",
    "\n",
    "        - if the given min_amount cannot possibly be reached because \n",
    "          stack1 has not enough weight, raises early ValueError without \n",
    "          changing stack1.\n",
    "        - DO NOT access internal fields of stacks, only use class methods.\n",
    "        - MUST perform in O(n) where n is the size of stack1\n",
    "        - NOTE: this function is defined *outside* the class !\n",
    "    \"\"\"\n",
    "```\n",
    "**Testing**: `python -m unittest wstack_test.AccumulateTest`"
   ]
  },
  {
   "cell_type": "markdown",
   "metadata": {},
   "source": [
    "**Example**:"
   ]
  },
  {
   "cell_type": "code",
   "execution_count": 36,
   "metadata": {},
   "outputs": [
    {
     "name": "stdout",
     "output_type": "stream",
     "text": [
      "WStack: weight=0 elements=[]\n"
     ]
    }
   ],
   "source": [
    "\n",
    "\n",
    "s1 = WStack()\n",
    "\n",
    "\n",
    "print(s1)\n"
   ]
  },
  {
   "cell_type": "code",
   "execution_count": 37,
   "metadata": {},
   "outputs": [],
   "source": [
    "s1.push(2)\n",
    "s1.push(9)\n",
    "s1.push(5)\n",
    "s1.push(3)\n"
   ]
  },
  {
   "cell_type": "code",
   "execution_count": 38,
   "metadata": {},
   "outputs": [
    {
     "name": "stdout",
     "output_type": "stream",
     "text": [
      "WStack: weight=19 elements=[2, 9, 5, 3]\n"
     ]
    }
   ],
   "source": [
    "print(s1)"
   ]
  },
  {
   "cell_type": "code",
   "execution_count": 39,
   "metadata": {},
   "outputs": [
    {
     "name": "stdout",
     "output_type": "stream",
     "text": [
      "WStack: weight=0 elements=[]\n"
     ]
    }
   ],
   "source": [
    "s2 = WStack()\n",
    "print(s2)"
   ]
  },
  {
   "cell_type": "code",
   "execution_count": 40,
   "metadata": {},
   "outputs": [],
   "source": [
    "s2.push(1)\n",
    "s2.push(7)\n",
    "s2.push(4)\n"
   ]
  },
  {
   "cell_type": "code",
   "execution_count": 41,
   "metadata": {},
   "outputs": [
    {
     "name": "stdout",
     "output_type": "stream",
     "text": [
      "WStack: weight=12 elements=[1, 7, 4]\n"
     ]
    }
   ],
   "source": [
    "print(s2)\n"
   ]
  },
  {
   "cell_type": "code",
   "execution_count": 42,
   "metadata": {},
   "outputs": [],
   "source": [
    "# attempts to reach in s2 a weight of at least 17"
   ]
  },
  {
   "cell_type": "code",
   "execution_count": 43,
   "metadata": {},
   "outputs": [],
   "source": [
    "accumulate(s1,s2,17)"
   ]
  },
  {
   "cell_type": "code",
   "execution_count": 44,
   "metadata": {},
   "outputs": [
    {
     "name": "stdout",
     "output_type": "stream",
     "text": [
      "WStack: weight=11 elements=[2, 9]\n"
     ]
    }
   ],
   "source": [
    "print(s1)"
   ]
  },
  {
   "cell_type": "markdown",
   "metadata": {},
   "source": [
    "Two top elements were taken from s1 and now s2 has a weight of 20, which is >= 17"
   ]
  },
  {
   "cell_type": "markdown",
   "metadata": {},
   "source": [
    "## 4. Backpack\n",
    "\n",
    "**Open a text editor** and edit file `backpack_sol.py`\n",
    "\n",
    "We can model a backpack as stack of elements, each being a tuple with a name and a weight.\n",
    "\n",
    "A sensible strategy to fill a backpack is to place heaviest elements to the bottom, so our backback will allow pushing an element only if that element weight is equal or lesser than current topmost element weight. \n",
    "\n",
    "The backpack has also a maximum weight: you can put any number of items you want, as long as its maximum weight is not exceeded.\n",
    "\n",
    "**Example**"
   ]
  },
  {
   "cell_type": "code",
   "execution_count": 45,
   "metadata": {},
   "outputs": [
    {
     "name": "stdout",
     "output_type": "stream",
     "text": [
      "DEBUG:  Pushing (a,10)\n"
     ]
    }
   ],
   "source": [
    "from backpack_sol import *\n",
    "\n",
    "bp = Backpack(30)  # max_weight = 30\n",
    "\n",
    "bp.push('a',10)   # item 'a' with weight 10"
   ]
  },
  {
   "cell_type": "code",
   "execution_count": 46,
   "metadata": {},
   "outputs": [
    {
     "name": "stdout",
     "output_type": "stream",
     "text": [
      "Backpack: weight=10 max_weight=30\n",
      "          elements=[('a', 10)]\n"
     ]
    }
   ],
   "source": [
    "print(bp)"
   ]
  },
  {
   "cell_type": "code",
   "execution_count": 47,
   "metadata": {},
   "outputs": [
    {
     "name": "stdout",
     "output_type": "stream",
     "text": [
      "DEBUG:  Pushing (b,8)\n"
     ]
    }
   ],
   "source": [
    "bp.push('b',8)   "
   ]
  },
  {
   "cell_type": "code",
   "execution_count": 48,
   "metadata": {},
   "outputs": [
    {
     "name": "stdout",
     "output_type": "stream",
     "text": [
      "Backpack: weight=18 max_weight=30\n",
      "          elements=[('a', 10), ('b', 8)]\n"
     ]
    }
   ],
   "source": [
    "print(bp)"
   ]
  },
  {
   "cell_type": "markdown",
   "metadata": {},
   "source": [
    "```python\n",
    ">>> bp.push('c', 11)\n",
    "\n",
    "DEBUG:  Pushing (c,11)\n",
    "\n",
    "ValueError: ('Pushing weight greater than top element weight! %s > %s', (11, 8))\n",
    "\n",
    "\n",
    "```"
   ]
  },
  {
   "cell_type": "code",
   "execution_count": 49,
   "metadata": {},
   "outputs": [
    {
     "name": "stdout",
     "output_type": "stream",
     "text": [
      "DEBUG:  Pushing (c,7)\n"
     ]
    }
   ],
   "source": [
    "bp.push('c', 7)"
   ]
  },
  {
   "cell_type": "code",
   "execution_count": 50,
   "metadata": {},
   "outputs": [
    {
     "name": "stdout",
     "output_type": "stream",
     "text": [
      "Backpack: weight=25 max_weight=30\n",
      "          elements=[('a', 10), ('b', 8), ('c', 7)]\n"
     ]
    }
   ],
   "source": [
    "print(bp)"
   ]
  },
  {
   "cell_type": "markdown",
   "metadata": {},
   "source": [
    "```python\n",
    "\n",
    ">>> bp.push('d', 6)  \n",
    "\n",
    "DEBUG:  Pushing (d,6)\n",
    "\n",
    "ValueError: Can't exceed max_weight ! (31 > 30)\n",
    "\n",
    "```"
   ]
  },
  {
   "cell_type": "markdown",
   "metadata": {},
   "source": [
    "### 4.1 class\n",
    "\n",
    "✪✪ Implement methods in the class `Backpack`, in the order they are shown. If you want, you can add debug prints by calling the `debug` function\n",
    "\n",
    "**IMPORTANT: the data structure should provide the total current weight in O(1)**, so make sure to add and update an appropriate field to meet this constraint.\n",
    "\n",
    "**Testing**: `python3 -m unittest backpack_test.BackpackTest`"
   ]
  },
  {
   "cell_type": "markdown",
   "metadata": {},
   "source": [
    "### 4.2 remove\n",
    "\n",
    "✪✪ Implement function `remove`: \n",
    "\n",
    "```python\n",
    "# NOTE: this function is implemented *outside* the class !\n",
    "\n",
    "def remove(backpack, el):\n",
    "    \"\"\"\n",
    "        Remove topmost occurrence of el found in the backpack, \n",
    "        and RETURN it (as a tuple name, weight)\n",
    "        \n",
    "        - if el is not found, raises ValueError        \n",
    "\n",
    "        - DO *NOT* ACCESS DIRECTLY FIELDS OF BACKPACK !!!\n",
    "          Instead, just call methods of the class!\n",
    "\n",
    "        - MUST perform in O(n), where n is the backpack size\n",
    "\n",
    "        - HINT: To remove el, you need to call Backpack.pop() until\n",
    "                the top element is what you are looking for. You need \n",
    "                to save somewhere the popped items except the one to \n",
    "                remove, and  then push them back again.\n",
    "    \n",
    "    \"\"\"\n",
    "\n",
    "```\n",
    "\n",
    "**Testing**: `python3 -m unittest backpack_test.RemoveTest`\n",
    "\n",
    "\n",
    "**Example**:\n"
   ]
  },
  {
   "cell_type": "code",
   "execution_count": 51,
   "metadata": {},
   "outputs": [
    {
     "name": "stdout",
     "output_type": "stream",
     "text": [
      "DEBUG:  Pushing (a,9)\n",
      "DEBUG:  Pushing (b,8)\n",
      "DEBUG:  Pushing (c,8)\n",
      "DEBUG:  Pushing (b,8)\n",
      "DEBUG:  Pushing (d,7)\n",
      "DEBUG:  Pushing (e,5)\n",
      "DEBUG:  Pushing (f,2)\n"
     ]
    }
   ],
   "source": [
    "bp = Backpack(50)\n",
    "\n",
    "bp.push('a',9)\n",
    "bp.push('b',8)\n",
    "bp.push('c',8)\n",
    "bp.push('b',8)\n",
    "bp.push('d',7)\n",
    "bp.push('e',5)\n",
    "bp.push('f',2)        "
   ]
  },
  {
   "cell_type": "code",
   "execution_count": 52,
   "metadata": {},
   "outputs": [
    {
     "name": "stdout",
     "output_type": "stream",
     "text": [
      "Backpack: weight=47 max_weight=50\n",
      "          elements=[('a', 9), ('b', 8), ('c', 8), ('b', 8), ('d', 7), ('e', 5), ('f', 2)]\n"
     ]
    }
   ],
   "source": [
    "print(bp)"
   ]
  },
  {
   "cell_type": "code",
   "execution_count": 53,
   "metadata": {},
   "outputs": [
    {
     "name": "stdout",
     "output_type": "stream",
     "text": [
      "DEBUG:  Popping ('f', 2) \n",
      "DEBUG:  Popping ('e', 5) \n",
      "DEBUG:  Popping ('d', 7) \n",
      "DEBUG:  Popping ('b', 8) \n",
      "DEBUG:  Pushing (d,7)\n",
      "DEBUG:  Pushing (e,5)\n",
      "DEBUG:  Pushing (f,2)\n"
     ]
    },
    {
     "data": {
      "text/plain": [
       "('b', 8)"
      ]
     },
     "execution_count": 53,
     "metadata": {},
     "output_type": "execute_result"
    }
   ],
   "source": [
    "remove(bp, 'b')"
   ]
  },
  {
   "cell_type": "code",
   "execution_count": 54,
   "metadata": {},
   "outputs": [
    {
     "name": "stdout",
     "output_type": "stream",
     "text": [
      "Backpack: weight=39 max_weight=50\n",
      "          elements=[('a', 9), ('b', 8), ('c', 8), ('d', 7), ('e', 5), ('f', 2)]\n"
     ]
    }
   ],
   "source": [
    "print(bp)"
   ]
  },
  {
   "cell_type": "code",
   "execution_count": 55,
   "metadata": {
    "scrolled": true
   },
   "outputs": [
    {
     "name": "stdout",
     "output_type": "stream",
     "text": [
      "WStack: weight=20 elements=[1, 7, 4, 3, 5]\n"
     ]
    }
   ],
   "source": [
    "print(s2)   "
   ]
  },
  {
   "cell_type": "markdown",
   "metadata": {},
   "source": [
    "## 5. Train race\n",
    "\n",
    "An important train race is taking place in Steam Land. Each train has a length and a velocity. A train is represented as a sequence of asterisks. A _train path_ is a list which holds all the train asterisks, and, if the train has moved _m_ positions so far, the path also holds _m_ dashes `-` before the asterisks. \n",
    "\n",
    "Open the file `train_race.py` and implement methods from class `TrainRace`, in particular:"
   ]
  },
  {
   "cell_type": "code",
   "execution_count": 56,
   "metadata": {},
   "outputs": [
    {
     "name": "stdout",
     "output_type": "stream",
     "text": [
      "def step(self):\n",
      "    \"\"\" Steps the simulation by moving each train toward right \n",
      "        by a number of cells given by its velocity.            \n",
      "        \n",
      "                    \n",
      "        *** MUST run in O(v) where v is the sum of all velocities     \n",
      "        \n",
      "        *** Complexity MUST *NOT* depend on train length nor dashes length\n",
      "        \n",
      "        *** For simplicity, ASSUME velocity is always \n",
      "            less or equal than train length                 \n",
      "        \n",
      "        ********      HAVE YOU READ THE REQUIREMENTS ABOVE ?   ********\n",
      "    \"\"\"\n"
     ]
    }
   ],
   "source": [
    "#jupman-purge-input\n",
    "from train_race_sol import * \n",
    "print(jupman.get_doc(TrainRace.step))"
   ]
  },
  {
   "cell_type": "markdown",
   "metadata": {},
   "source": [
    "<div class=\"alert alert-warning\">\n",
    "    \n",
    "**WARNING: AVOID EXPENSIVE LIST METHODS / OPERATORS**    \n",
    "    \n",
    "Passing tests is easy, the hard part is to make it _fast_: will your program run fast with a train of one million asterisks? And with a train which made a million steps?\n",
    "    \n",
    "</div>"
   ]
  },
  {
   "cell_type": "markdown",
   "metadata": {},
   "source": [
    "\n",
    "1) Assume velocity is always  less or equal than train length\n",
    "\n",
    "**Testing**: `python3 -m unittest train_race_test.VelocityLessOrEqualThanTrainSizeTest`\n",
    "\n",
    "\n",
    "2) make it work also when velocity can be greater than train size\n",
    "\n",
    "**Testing**: `python3 -m unittest train_race_test.VelocityGreaterThanTrainSizeTest`\n",
    "\n",
    "**Example:**"
   ]
  },
  {
   "cell_type": "code",
   "execution_count": 57,
   "metadata": {},
   "outputs": [],
   "source": [
    "from train_race_sol import * \n",
    "\n",
    "       #train  lengths     velocities\n",
    "tr = TrainRace([5,3,6,3],  [2,1,3,2])"
   ]
  },
  {
   "cell_type": "code",
   "execution_count": 58,
   "metadata": {},
   "outputs": [
    {
     "data": {
      "text/plain": [
       "[['*', '*', '*', '*', '*'],\n",
       " ['*', '*', '*'],\n",
       " ['*', '*', '*', '*', '*', '*'],\n",
       " ['*', '*', '*']]"
      ]
     },
     "execution_count": 58,
     "metadata": {},
     "output_type": "execute_result"
    }
   ],
   "source": [
    "tr.get_paths()"
   ]
  },
  {
   "cell_type": "code",
   "execution_count": 59,
   "metadata": {},
   "outputs": [],
   "source": [
    "tr.step()   # returns NOTHING!"
   ]
  },
  {
   "cell_type": "code",
   "execution_count": 60,
   "metadata": {},
   "outputs": [
    {
     "data": {
      "text/plain": [
       "[['-', '-', '*', '*', '*', '*', '*'],\n",
       " ['-', '*', '*', '*'],\n",
       " ['-', '-', '-', '*', '*', '*', '*', '*', '*'],\n",
       " ['-', '-', '*', '*', '*']]"
      ]
     },
     "execution_count": 60,
     "metadata": {},
     "output_type": "execute_result"
    }
   ],
   "source": [
    "tr.get_paths()"
   ]
  },
  {
   "cell_type": "code",
   "execution_count": 61,
   "metadata": {},
   "outputs": [],
   "source": [
    "tr.step()"
   ]
  },
  {
   "cell_type": "code",
   "execution_count": 62,
   "metadata": {
    "scrolled": true
   },
   "outputs": [
    {
     "data": {
      "text/plain": [
       "[['-', '-', '-', '-', '*', '*', '*', '*', '*'],\n",
       " ['-', '-', '*', '*', '*'],\n",
       " ['-', '-', '-', '-', '-', '-', '*', '*', '*', '*', '*', '*'],\n",
       " ['-', '-', '-', '-', '*', '*', '*']]"
      ]
     },
     "execution_count": 62,
     "metadata": {},
     "output_type": "execute_result"
    }
   ],
   "source": [
    "tr.get_paths()"
   ]
  },
  {
   "cell_type": "markdown",
   "metadata": {},
   "source": [
    "## 6. PyraStack\n",
    "\n",
    "You are given a PyraStack class which holds a list of lists called `_rows`. Internal lists only contain `-` character. Implement this method:"
   ]
  },
  {
   "cell_type": "code",
   "execution_count": 63,
   "metadata": {},
   "outputs": [
    {
     "name": "stdout",
     "output_type": "stream",
     "text": [
      "def drop(self, w):\n",
      "    \"\"\" Drops a block of size w on the pyrastack, trying to place it on\n",
      "        the top leftmost position without having missing blocks below.\n",
      "        If top row is not feasible, scans for the first available leftmost \n",
      "        place which can fully accomodate the block.            \n",
      "        \n",
      "        - if w is negative, raise ValueError\n",
      "        - if w is zero, no change is made\n",
      "        \n",
      "        - MUST run in O(h + w) where h is the stack height\n",
      "    \"\"\"\n"
     ]
    }
   ],
   "source": [
    "#jupman-purge-input\n",
    "import pyrastack_sol\n",
    "print(jupman.get_doc(pyrastack_sol.PyraStack.drop))"
   ]
  },
  {
   "cell_type": "markdown",
   "metadata": {},
   "source": [
    "<!-- **QUESTION**: would it be possible to obtain that complexity if _rows were a list of strings? -->\n",
    "**Example** (rows are **printed bottom-up**):"
   ]
  },
  {
   "cell_type": "code",
   "execution_count": 64,
   "metadata": {},
   "outputs": [
    {
     "name": "stdout",
     "output_type": "stream",
     "text": [
      "DEBUG:  Dropped 10, pyrastack is:\n",
      "        ----------\n",
      "DEBUG:  Dropped 7, pyrastack is:\n",
      "        -------\n",
      "        ----------\n",
      "DEBUG:  Dropped 5, pyrastack is:\n",
      "        -----\n",
      "        -------\n",
      "        ----------\n",
      "DEBUG:  Dropped 2, pyrastack is:\n",
      "        --\n",
      "        -----\n",
      "        -------\n",
      "        ----------\n",
      "DEBUG:  Dropped 3, pyrastack is:\n",
      "        -----\n",
      "        -----\n",
      "        -------\n",
      "        ----------\n",
      "DEBUG:  Dropped 6, pyrastack is:\n",
      "        -----\n",
      "        -----\n",
      "        -------\n",
      "        ----------------\n",
      "DEBUG:  Dropped 6, pyrastack is:\n",
      "        -----\n",
      "        -----\n",
      "        -------------\n",
      "        ----------------\n",
      "DEBUG:  Dropped 1, pyrastack is:\n",
      "        -\n",
      "        -----\n",
      "        -----\n",
      "        -------------\n",
      "        ----------------\n",
      "DEBUG:  Dropped 7, pyrastack is:\n",
      "        -\n",
      "        -----\n",
      "        ------------\n",
      "        -------------\n",
      "        ----------------\n",
      "_rows are:\n",
      "[['-', '-', '-', '-', '-', '-', '-', '-', '-', '-', '-', '-', '-', '-', '-', '-'],\n",
      " ['-', '-', '-', '-', '-', '-', '-', '-', '-', '-', '-', '-', '-'],\n",
      " ['-', '-', '-', '-', '-', '-', '-', '-', '-', '-', '-', '-'],\n",
      " ['-', '-', '-', '-', '-'],\n",
      " ['-']]\n"
     ]
    }
   ],
   "source": [
    "from pyrastack_sol import *\n",
    "\n",
    "s = PyraStack()\n",
    "s.drop(10)\n",
    "s.drop(7)\n",
    "s.drop(5)\n",
    "s.drop(2)\n",
    "s.drop(3)\n",
    "s.drop(6)\n",
    "s.drop(6)\n",
    "s.drop(1)\n",
    "s.drop(7)\n",
    "from pprint import pprint\n",
    "print(\"_rows are:\");pprint(s._rows, width=150)"
   ]
  },
  {
   "cell_type": "markdown",
   "metadata": {},
   "source": [
    "## 7. Tasks\n",
    "\n",
    "Very often, you begin to do a task just to discover it requires doing 3 other tasks, so you start carrying them out one at a time and discover one of them actually requires to do yet another two other subtasks....\n",
    "\n",
    "To represent the fact a task may have subtasks, we will use a dictionary mapping a task label to a list of subtasks, each represented as a label. For example:"
   ]
  },
  {
   "cell_type": "code",
   "execution_count": 65,
   "metadata": {},
   "outputs": [],
   "source": [
    "subtasks = {\n",
    "        'a':['b','g'],\n",
    "        'b':['c','d','e'],\n",
    "        'c':['f'],\n",
    "        'd':['g'],\n",
    "        'e':[],\n",
    "        'f':[],\n",
    "        'g':[]\n",
    "    }"
   ]
  },
  {
   "cell_type": "markdown",
   "metadata": {},
   "source": [
    "Task `a` requires subtasks `b` and`g` to be carried out (in this order), but task `b` requires subtasks `c`, `d` and `e` to be done. `c` requires `f` to be done, and `d`  requires `g`. \n",
    "\n",
    "You will have to implement a function called `do` and use a Stack data structure, which is already provided and you don't need to implement. Let's see an example of execution. \n",
    "\n",
    "**IMPORTANT**: In the execution example, there are many prints just to help you understand what's going on, but the only thing we actually care about is the final list returned by the function!\n",
    "\n",
    "**IMPORTANT**: notice subtasks are scheduled in reversed order, so the item on top of the stack will be the first to get executed !"
   ]
  },
  {
   "cell_type": "code",
   "execution_count": 66,
   "metadata": {},
   "outputs": [
    {
     "name": "stdout",
     "output_type": "stream",
     "text": [
      "DEBUG:  Stack:   elements=['a']\n",
      "DEBUG:  Doing task a, scheduling subtasks ['b', 'g']\n",
      "DEBUG:           Stack:   elements=['g', 'b']\n",
      "DEBUG:  Doing task b, scheduling subtasks ['c', 'd', 'e']\n",
      "DEBUG:           Stack:   elements=['g', 'e', 'd', 'c']\n",
      "DEBUG:  Doing task c, scheduling subtasks ['f']\n",
      "DEBUG:           Stack:   elements=['g', 'e', 'd', 'f']\n",
      "DEBUG:  Doing task f, scheduling subtasks []\n",
      "DEBUG:           Nothing else to do!\n",
      "DEBUG:           Stack:   elements=['g', 'e', 'd']\n",
      "DEBUG:  Doing task d, scheduling subtasks ['g']\n",
      "DEBUG:           Stack:   elements=['g', 'e', 'g']\n",
      "DEBUG:  Doing task g, scheduling subtasks []\n",
      "DEBUG:           Nothing else to do!\n",
      "DEBUG:           Stack:   elements=['g', 'e']\n",
      "DEBUG:  Doing task e, scheduling subtasks []\n",
      "DEBUG:           Nothing else to do!\n",
      "DEBUG:           Stack:   elements=['g']\n",
      "DEBUG:  Doing task g, scheduling subtasks []\n",
      "DEBUG:           Nothing else to do!\n",
      "DEBUG:           Stack:   elements=[]\n"
     ]
    },
    {
     "data": {
      "text/plain": [
       "['a', 'b', 'c', 'f', 'd', 'g', 'e', 'g']"
      ]
     },
     "execution_count": 66,
     "metadata": {},
     "output_type": "execute_result"
    }
   ],
   "source": [
    "from tasks_sol import *\n",
    "\n",
    "do('a', subtasks)"
   ]
  },
  {
   "cell_type": "markdown",
   "metadata": {},
   "source": [
    "The `Stack` you must use is simple and supports `push`, `pop`, and `is_empty` operations:"
   ]
  },
  {
   "cell_type": "code",
   "execution_count": 67,
   "metadata": {},
   "outputs": [],
   "source": [
    "s = Stack()"
   ]
  },
  {
   "cell_type": "code",
   "execution_count": 68,
   "metadata": {},
   "outputs": [
    {
     "name": "stdout",
     "output_type": "stream",
     "text": [
      "Stack:   elements=[]\n"
     ]
    }
   ],
   "source": [
    "print(s)"
   ]
  },
  {
   "cell_type": "code",
   "execution_count": 69,
   "metadata": {},
   "outputs": [
    {
     "data": {
      "text/plain": [
       "True"
      ]
     },
     "execution_count": 69,
     "metadata": {},
     "output_type": "execute_result"
    }
   ],
   "source": [
    "s.is_empty()"
   ]
  },
  {
   "cell_type": "code",
   "execution_count": 70,
   "metadata": {},
   "outputs": [],
   "source": [
    "s.push('a')"
   ]
  },
  {
   "cell_type": "code",
   "execution_count": 71,
   "metadata": {},
   "outputs": [
    {
     "name": "stdout",
     "output_type": "stream",
     "text": [
      "Stack:   elements=['a']\n"
     ]
    }
   ],
   "source": [
    "print(s) "
   ]
  },
  {
   "cell_type": "code",
   "execution_count": 72,
   "metadata": {},
   "outputs": [],
   "source": [
    "s.push('b')"
   ]
  },
  {
   "cell_type": "code",
   "execution_count": 73,
   "metadata": {},
   "outputs": [
    {
     "name": "stdout",
     "output_type": "stream",
     "text": [
      "Stack:   elements=['a', 'b']\n"
     ]
    }
   ],
   "source": [
    "print(s)"
   ]
  },
  {
   "cell_type": "code",
   "execution_count": 74,
   "metadata": {},
   "outputs": [
    {
     "data": {
      "text/plain": [
       "'b'"
      ]
     },
     "execution_count": 74,
     "metadata": {},
     "output_type": "execute_result"
    }
   ],
   "source": [
    "s.pop()"
   ]
  },
  {
   "cell_type": "code",
   "execution_count": 75,
   "metadata": {},
   "outputs": [
    {
     "name": "stdout",
     "output_type": "stream",
     "text": [
      "Stack:   elements=['a']\n"
     ]
    }
   ],
   "source": [
    "print(s)"
   ]
  },
  {
   "cell_type": "markdown",
   "metadata": {},
   "source": [
    "### 7.1 do\n",
    "\n",
    "Now open `tasks.py` and implement function `do`:\n",
    "\n",
    "```python\n",
    "def do(task, subtasks):\n",
    "    \"\"\" Takes a task to perform and a dictionary of subtasks, \n",
    "        and RETURN a list of performed tasks\n",
    "         \n",
    "        - To implement it, inside create a Stack instance and a while cycle. \n",
    "        - DO *NOT* use a recursive function\n",
    "        - Inside the function, you can use a print like \"I'm doing task a', \n",
    "          but that is only to help yourself in debugging, only the\n",
    "          list returned by the function will be considered in the evaluation!\n",
    "    \"\"\"\n",
    "\n",
    "```\n",
    "\n",
    "\n",
    "**Testing**: `python3 -m unittest tasks_test.DoTest`"
   ]
  },
  {
   "cell_type": "markdown",
   "metadata": {},
   "source": [
    "### 7.2 do_level\n",
    "\n",
    "In this exercise, you are asked to implement a slightly more complex version of the previous function where on the `Stack` you push two-valued tuples, containing the task label and the associated level. The first task has level 0, the immediate subtask has level 1, the subtask of the subtask has level 2 and so on and so forth. In the list returned by the function, you will put such tuples. \n",
    "\n",
    "One possibile use is to display the executed tasks as an indented tree, where the indentation is determined by the level. Here we see an example:\n",
    "\n",
    "**IMPORTANT**: Again, the prints are only to let you understand what's going on, and you are _not_ required to code them. The only thing that really matters is the list the function must return !"
   ]
  },
  {
   "cell_type": "code",
   "execution_count": 76,
   "metadata": {},
   "outputs": [
    {
     "name": "stdout",
     "output_type": "stream",
     "text": [
      "DEBUG:  \t\t\t\t\t\tStack:   elements=[('a', 0)]\n",
      "DEBUG:  I'm doing \ta\t\tlevel=0 Stack:   elements=[('g', 1), ('b', 1)]\n",
      "DEBUG:  I'm doing \t  b\t\tlevel=1 Stack:   elements=[('g', 1), ('e', 2), ('d', 2), ('c', 2)]\n",
      "DEBUG:  I'm doing \t    c\t\tlevel=2 Stack:   elements=[('g', 1), ('e', 2), ('d', 2), ('f', 3)]\n",
      "DEBUG:  I'm doing \t      f\t\tlevel=3 Stack:   elements=[('g', 1), ('e', 2), ('d', 2)]\n",
      "DEBUG:  I'm doing \t    d\t\tlevel=2 Stack:   elements=[('g', 1), ('e', 2), ('g', 3)]\n",
      "DEBUG:  I'm doing \t      g\t\tlevel=3 Stack:   elements=[('g', 1), ('e', 2)]\n",
      "DEBUG:  I'm doing \t    e\t\tlevel=2 Stack:   elements=[('g', 1)]\n",
      "DEBUG:  I'm doing \t  g\t\tlevel=1 Stack:   elements=[]\n"
     ]
    },
    {
     "data": {
      "text/plain": [
       "[('a', 0),\n",
       " ('b', 1),\n",
       " ('c', 2),\n",
       " ('f', 3),\n",
       " ('d', 2),\n",
       " ('g', 3),\n",
       " ('e', 2),\n",
       " ('g', 1)]"
      ]
     },
     "execution_count": 76,
     "metadata": {},
     "output_type": "execute_result"
    }
   ],
   "source": [
    "subtasks = {\n",
    "        'a':['b','g'],\n",
    "        'b':['c','d','e'],\n",
    "        'c':['f'],\n",
    "        'd':['g'],\n",
    "        'e':[],\n",
    "        'f':[],\n",
    "        'g':[]\n",
    "    }\n",
    "        \n",
    "do_level('a', subtasks)"
   ]
  },
  {
   "cell_type": "markdown",
   "metadata": {},
   "source": [
    "\n",
    "Now implement the function: \n",
    "\n",
    "```python\n",
    "def do_level(task, subtasks):\n",
    "    \"\"\" Takes a task to perform and a dictionary of subtasks, \n",
    "        and RETURN a list of performed tasks, as tuples (task label, level)\n",
    "         \n",
    "        - To implement it, use a Stack and a while cycle\n",
    "        - DO *NOT* use a recursive function\n",
    "        - Inside the function, you can use a print like \"I'm doing task a', \n",
    "          but that is only to help yourself in debugging, only the\n",
    "          list returned by the function will be considered in the evaluation\n",
    "    \"\"\"\n",
    "```\n",
    "\n",
    "**Testing**: `python3 -m unittest tasks_test.DoLevelTest`"
   ]
  },
  {
   "cell_type": "markdown",
   "metadata": {},
   "source": [
    "## 8. Stacktris\n",
    "\n",
    "**Open a text editor** and edit file `stacktris.py`\n",
    "\n",
    "A `Stacktris` is a data structure that operates like the famous game Tetris, with some restrictions:\n",
    "\n",
    "- Falling pieces can be either of length 1 or 2. We call them `1-block` and `2-block` respectively\n",
    "- The pit has a fixed width of 3 columns\n",
    "- `2-block`s can only be in horizontal\n",
    "\n",
    "We print a `Stacktris` like this: \n",
    "\n",
    "```\n",
    "\\ j 012\n",
    "i\n",
    "4  | 11|    # two 1-block\n",
    "3  | 22|    # one 2-block\n",
    "2  | 1 |    # one 1-block\n",
    "1  |22 |    # one 2-block\n",
    "0  |1 1|    # on the ground there are two 1-block\n",
    "```\n",
    "\n"
   ]
  },
  {
   "cell_type": "markdown",
   "metadata": {},
   "source": [
    "In Python, we model the `Stacktris` as a class holding in the variable `_stack` a list of lists of integers, which models the pit:\n",
    "\n",
    "```python\n",
    "\n",
    "class Stacktris:\n",
    "\n",
    "    def __init__(self):\n",
    "        \"\"\" Creates a Stacktris\n",
    "        \"\"\"\n",
    "        self._stack = []\n",
    "\n",
    "```\n",
    "\n",
    "So in the situation above the `_stack` variable would look like this (notice row order is inverted with respect to the print)\n",
    "\n",
    "```python\n",
    "[ \n",
    "    [1,0,1],\n",
    "    [2,2,0],\n",
    "    [0,1,0],\n",
    "    [0,2,2],\n",
    "    [0,1,1],\n",
    "]\n",
    "```\n",
    "\n",
    "The class has three methods of interest which you will implement,  `drop1(j)` ,  `drop2h(j)` and `_shorten`\n",
    "\n"
   ]
  },
  {
   "cell_type": "markdown",
   "metadata": {},
   "source": [
    "**Example**\n",
    "\n",
    "Let's see an example:"
   ]
  },
  {
   "cell_type": "code",
   "execution_count": 77,
   "metadata": {},
   "outputs": [],
   "source": [
    "from stacktris_sol import * \n",
    "\n",
    "st = Stacktris()"
   ]
  },
  {
   "cell_type": "markdown",
   "metadata": {},
   "source": [
    "At the beginning the pit is empty:"
   ]
  },
  {
   "cell_type": "code",
   "execution_count": 78,
   "metadata": {},
   "outputs": [
    {
     "data": {
      "text/plain": [
       "Stacktris: \n",
       "EMPTY"
      ]
     },
     "execution_count": 78,
     "metadata": {},
     "output_type": "execute_result"
    }
   ],
   "source": [
    "st"
   ]
  },
  {
   "cell_type": "markdown",
   "metadata": {},
   "source": [
    "We can start by dropping from the ceiling a block of dimension 1 into the last column at index `j=2`. By doing so, a new row will be created, and will be a list containing the numbers `[0,0,1]`\n",
    "\n",
    "**IMPORTANT**: zeroes are not displayed"
   ]
  },
  {
   "cell_type": "code",
   "execution_count": 79,
   "metadata": {},
   "outputs": [
    {
     "name": "stdout",
     "output_type": "stream",
     "text": [
      "DEBUG:  Stacktris: \n",
      "        |  1|\n",
      "        \n"
     ]
    },
    {
     "data": {
      "text/plain": [
       "[]"
      ]
     },
     "execution_count": 79,
     "metadata": {},
     "output_type": "execute_result"
    }
   ],
   "source": [
    "st.drop1(2)"
   ]
  },
  {
   "cell_type": "markdown",
   "metadata": {},
   "source": [
    "Now we drop an horizontal block of dimension 2 (a `2-block`) having the leftmost block at column `j=1`. Since below in the pit there is already the `1` block we previosly put, the new block will fall and stay upon it. Internally, we will add a new row as a python list containing the numbers `[0,2,2]`"
   ]
  },
  {
   "cell_type": "code",
   "execution_count": 80,
   "metadata": {
    "scrolled": true
   },
   "outputs": [
    {
     "name": "stdout",
     "output_type": "stream",
     "text": [
      "DEBUG:  Stacktris: \n",
      "        | 22|\n",
      "        |  1|\n",
      "        \n"
     ]
    },
    {
     "data": {
      "text/plain": [
       "[]"
      ]
     },
     "execution_count": 80,
     "metadata": {},
     "output_type": "execute_result"
    }
   ],
   "source": [
    "st.drop2h(1)"
   ]
  },
  {
   "cell_type": "markdown",
   "metadata": {},
   "source": [
    "We see the zeroth column is empty, so if we drop there a `1-block` it will fall to the ground. Internally, the zeroth list will become `[1,0,1]`:"
   ]
  },
  {
   "cell_type": "code",
   "execution_count": 81,
   "metadata": {},
   "outputs": [
    {
     "name": "stdout",
     "output_type": "stream",
     "text": [
      "DEBUG:  Stacktris: \n",
      "        | 22|\n",
      "        |1 1|\n",
      "        \n"
     ]
    },
    {
     "data": {
      "text/plain": [
       "[]"
      ]
     },
     "execution_count": 81,
     "metadata": {},
     "output_type": "execute_result"
    }
   ],
   "source": [
    "st.drop1(0)"
   ]
  },
  {
   "cell_type": "markdown",
   "metadata": {},
   "source": [
    "Now we drop again a `2-block` at column `j=2`, on top of the previously laid one. This will add a new row as list `[0,2,2]`."
   ]
  },
  {
   "cell_type": "code",
   "execution_count": 82,
   "metadata": {},
   "outputs": [
    {
     "name": "stdout",
     "output_type": "stream",
     "text": [
      "DEBUG:  Stacktris: \n",
      "        | 22|\n",
      "        | 22|\n",
      "        |1 1|\n",
      "        \n"
     ]
    },
    {
     "data": {
      "text/plain": [
       "[]"
      ]
     },
     "execution_count": 82,
     "metadata": {},
     "output_type": "execute_result"
    }
   ],
   "source": [
    "st.drop2h(1)"
   ]
  },
  {
   "cell_type": "markdown",
   "metadata": {},
   "source": [
    "In the game Tetris, when a row becomes completely filled it disappears. So if we drop a `1-block` to the leftmost column, the mid line should be removed. \n",
    "\n",
    "**NOTE**: The messages on the console are just debug print, the function `drop1` only returns the extracted line `[1,2,2]`:"
   ]
  },
  {
   "cell_type": "code",
   "execution_count": 83,
   "metadata": {},
   "outputs": [
    {
     "name": "stdout",
     "output_type": "stream",
     "text": [
      "DEBUG:  Stacktris: \n",
      "        | 22|\n",
      "        |122|\n",
      "        |1 1|\n",
      "        \n",
      "DEBUG:  POPPING [1, 2, 2]\n",
      "DEBUG:  Stacktris: \n",
      "        | 22|\n",
      "        |1 1|\n",
      "        \n"
     ]
    },
    {
     "data": {
      "text/plain": [
       "[1, 2, 2]"
      ]
     },
     "execution_count": 83,
     "metadata": {},
     "output_type": "execute_result"
    }
   ],
   "source": [
    "st.drop1(0)"
   ]
  },
  {
   "cell_type": "markdown",
   "metadata": {},
   "source": [
    "Now we insert another `2-block` starting at `j=0`. It will fall upon the previously laid one: "
   ]
  },
  {
   "cell_type": "code",
   "execution_count": 84,
   "metadata": {},
   "outputs": [
    {
     "name": "stdout",
     "output_type": "stream",
     "text": [
      "DEBUG:  Stacktris: \n",
      "        |22 |\n",
      "        | 22|\n",
      "        |1 1|\n",
      "        \n"
     ]
    },
    {
     "data": {
      "text/plain": [
       "[]"
      ]
     },
     "execution_count": 84,
     "metadata": {},
     "output_type": "execute_result"
    }
   ],
   "source": [
    "st.drop2h(0)"
   ]
  },
  {
   "cell_type": "markdown",
   "metadata": {},
   "source": [
    "We can complete teh topmost row by dropping a `1-block` to the rightmost column. As a result, the row will be removed from the stack and the row will be returned by the call to `drop1`:"
   ]
  },
  {
   "cell_type": "code",
   "execution_count": 85,
   "metadata": {},
   "outputs": [
    {
     "name": "stdout",
     "output_type": "stream",
     "text": [
      "DEBUG:  Stacktris: \n",
      "        |221|\n",
      "        | 22|\n",
      "        |1 1|\n",
      "        \n",
      "DEBUG:  POPPING [2, 2, 1]\n",
      "DEBUG:  Stacktris: \n",
      "        | 22|\n",
      "        |1 1|\n",
      "        \n"
     ]
    },
    {
     "data": {
      "text/plain": [
       "[2, 2, 1]"
      ]
     },
     "execution_count": 85,
     "metadata": {},
     "output_type": "execute_result"
    }
   ],
   "source": [
    "st.drop1(2)"
   ]
  },
  {
   "cell_type": "markdown",
   "metadata": {},
   "source": [
    "Another line completion with a `drop1` at column `j=0`:"
   ]
  },
  {
   "cell_type": "code",
   "execution_count": 86,
   "metadata": {},
   "outputs": [
    {
     "name": "stdout",
     "output_type": "stream",
     "text": [
      "DEBUG:  Stacktris: \n",
      "        |122|\n",
      "        |1 1|\n",
      "        \n",
      "DEBUG:  POPPING [1, 2, 2]\n",
      "DEBUG:  Stacktris: \n",
      "        |1 1|\n",
      "        \n"
     ]
    },
    {
     "data": {
      "text/plain": [
       "[1, 2, 2]"
      ]
     },
     "execution_count": 86,
     "metadata": {},
     "output_type": "execute_result"
    }
   ],
   "source": [
    "st.drop1(0)"
   ]
  },
  {
   "cell_type": "markdown",
   "metadata": {},
   "source": [
    "We can finally empty the Stacktris by dropping a `1-block` in the mod column:"
   ]
  },
  {
   "cell_type": "code",
   "execution_count": 87,
   "metadata": {},
   "outputs": [
    {
     "name": "stdout",
     "output_type": "stream",
     "text": [
      "DEBUG:  Stacktris: \n",
      "        |111|\n",
      "        \n",
      "DEBUG:  POPPING [1, 1, 1]\n",
      "DEBUG:  Stacktris: \n",
      "        EMPTY\n"
     ]
    },
    {
     "data": {
      "text/plain": [
       "[1, 1, 1]"
      ]
     },
     "execution_count": 87,
     "metadata": {},
     "output_type": "execute_result"
    }
   ],
   "source": [
    "st.drop1(1)"
   ]
  },
  {
   "cell_type": "markdown",
   "metadata": {},
   "source": [
    "### 8.1 _shorten\n",
    "\n",
    "Start by implementing this private method:\n",
    "\n",
    "```python\n",
    "    def _shorten(self):      \n",
    "        \"\"\" Scans the Stacktris from top to bottom searching for a completely filled line:\n",
    "            - if found, remove it from the Stacktris and return it as a list.\n",
    "            - if not found, return an empty list.\n",
    "        \"\"\"\n",
    "```\n",
    "If you wish, you can add debug prints but they are not mandatory\n",
    "\n",
    "**Testing**: `python3 -m unittest stacktris_test.ShortenTest`"
   ]
  },
  {
   "cell_type": "markdown",
   "metadata": {},
   "source": [
    "### 8.2 drop1\n",
    "\n",
    "Once you are done with the previous function, implement `drop1` method:\n",
    "\n",
    "**NOTE**: In the implementation, feel free to call the previously implemented `_shorten` method.\n",
    "\n",
    "```python\n",
    "    def drop1(self, j):\n",
    "        \"\"\" Drops a 1-block on column j. \n",
    "        \n",
    "             - If another block is found,  place the 1-block on top of that block,\n",
    "               otherwise place it on the ground.\n",
    "\n",
    "            - If, after the 1-block is placed, a row results completely filled, removes \n",
    "              the row and RETURN it. Otherwise, RETURN an empty list.\n",
    "\n",
    "            - if index `j` is outside bounds, raises ValueError\n",
    "        \"\"\"        \n",
    "\n",
    "```\n",
    "\n",
    "**Testing**: `python3 -m unittest stacktris_test.Drop1Test`"
   ]
  },
  {
   "cell_type": "markdown",
   "metadata": {},
   "source": [
    "### 6.3 drop2h\n",
    "\n",
    "Once you are done with the previous function, implement `drop2` method:\n",
    "\n",
    "\n",
    "```python\n",
    "\n",
    "    def drop2h(self, j):\n",
    "        \"\"\" Drops a 2-block horizontally with left block on column j, \n",
    "\n",
    "             - If another block is found,  place the 2-block on top of that block,\n",
    "               otherwise place it on the ground.\n",
    "\n",
    "            - If, after the 2-block is placed, a row results completely filled, \n",
    "              removes the row and RETURN it. Otherwise, RETURN an empty list.        \n",
    "        \n",
    "            - if index `j` is outside bounds, raises ValueError\n",
    "        \"\"\"        \n",
    "```\n",
    "\n",
    "**Testing**: `python3 -m unittest stacktris_test.Drop2hTest`"
   ]
  },
  {
   "cell_type": "code",
   "execution_count": 88,
   "metadata": {
    "scrolled": false
   },
   "outputs": [
    {
     "name": "stderr",
     "output_type": "stream",
     "text": [
      "................\n",
      "----------------------------------------------------------------------\n",
      "Ran 16 tests in 0.010s\n",
      "\n",
      "OK\n",
      ".......................\n",
      "----------------------------------------------------------------------\n",
      "Ran 23 tests in 0.022s\n",
      "\n",
      "OK\n",
      "..............\n",
      "----------------------------------------------------------------------\n",
      "Ran 14 tests in 0.013s\n",
      "\n",
      "OK\n",
      "..................\n",
      "----------------------------------------------------------------------\n",
      "Ran 18 tests in 0.012s\n",
      "\n",
      "OK\n",
      "............\n",
      "----------------------------------------------------------------------\n",
      "Ran 12 tests in 0.009s\n",
      "\n",
      "OK\n",
      ".........\n",
      "----------------------------------------------------------------------\n",
      "Ran 9 tests in 0.007s\n",
      "\n",
      "OK\n",
      "....................\n",
      "----------------------------------------------------------------------\n",
      "Ran 20 tests in 0.011s\n",
      "\n",
      "OK\n",
      "................................\n",
      "----------------------------------------------------------------------\n",
      "Ran 32 tests in 0.026s\n",
      "\n",
      "OK\n"
     ]
    }
   ],
   "source": [
    "#jupman-purge-io\n",
    "\n",
    "import capped_stack_test\n",
    "jupman.run(capped_stack_test)\n",
    "import sorted_stack_test\n",
    "jupman.run(sorted_stack_test)\n",
    "import wstack_test\n",
    "jupman.run(wstack_test)\n",
    "import backpack_sol\n",
    "backpack_sol.DEBUG = False\n",
    "import backpack_test\n",
    "jupman.run(backpack_test)\n",
    "import train_race_test\n",
    "jupman.run(train_race_test)\n",
    "import pyrastack_sol\n",
    "pyrastack_sol.DEBUG = False\n",
    "import pyrastack_test\n",
    "jupman.run(pyrastack_test)\n",
    "import tasks_sol\n",
    "tasks_sol.DEBUG = False\n",
    "import tasks_test\n",
    "jupman.run(tasks_test)\n",
    "import stacktris_sol\n",
    "stacktris_sol.DEBUG = False\n",
    "import stacktris_test\n",
    "jupman.run(stacktris_test)"
   ]
  },
  {
   "cell_type": "code",
   "execution_count": null,
   "metadata": {},
   "outputs": [],
   "source": []
  }
 ],
 "metadata": {
  "celltoolbar": "Edit Metadata",
  "kernelspec": {
   "display_name": "Python 3 (ipykernel)",
   "language": "python",
   "name": "python3"
  },
  "language_info": {
   "codemirror_mode": {
    "name": "ipython",
    "version": 3
   },
   "file_extension": ".py",
   "mimetype": "text/x-python",
   "name": "python",
   "nbconvert_exporter": "python",
   "pygments_lexer": "ipython3",
   "version": "3.7.10"
  },
  "toc": {
   "base_numbering": 1,
   "nav_menu": {},
   "number_sections": false,
   "sideBar": true,
   "skip_h1_title": false,
   "title_cell": "Table of Contents",
   "title_sidebar": "Contents",
   "toc_cell": false,
   "toc_position": {},
   "toc_section_display": true,
   "toc_window_display": true
  }
 },
 "nbformat": 4,
 "nbformat_minor": 2
}
