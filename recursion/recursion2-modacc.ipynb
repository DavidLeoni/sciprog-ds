{
 "cells": [
  {
   "cell_type": "code",
   "execution_count": 1,
   "id": "70e283ce-stripped",
   "metadata": {
    "nbsphinx": "hidden"
   },
   "outputs": [],
   "source": [],
   "transient": {
    "remove_source": true
   }
  },
  {
   "cell_type": "markdown",
   "id": "6ab6bbd2",
   "metadata": {},
   "source": [
    "# Recursion 2 - Accumulators and indexes\n",
    "\n",
    "\n",
    "So far in the SimpleFP model we have been creating a lot of new lists by concatenating with `+` operator and taking slices: this wasted a lot of memory and computation time.\n",
    "\n",
    "Let's try to improve performance by creating a new model we named **ModAcc** with these requirements:"
   ]
  },
  {
   "cell_type": "markdown",
   "id": "5ceb113d",
   "metadata": {},
   "source": [
    "\n",
    "**ALLOWED**:\n",
    "\n",
    "* **add helper functions** to easily pass extra variables\n",
    "* **add special accumulator parameters** to the helper function: feel free to MODIFY them (and only them!) by using `.append`, `.extend`, etc\n",
    "* **add indexes parameters** to the helper function to keep track where to look in the original list\n",
    "* getting length with `len(lst)`\n",
    "* `in` operator on dictionaries or sets"
   ]
  },
  {
   "cell_type": "markdown",
   "id": "d698cc01",
   "metadata": {},
   "source": [
    "**DO NOT use slices**\n",
    "\n",
    "**DO NOT** MODIFY input parameters!  \n",
    "\n",
    "**DO NOT** use `in` operator on sequences like strings, lists, tuples\n",
    "\n",
    "**DO NOT** use `*`  replication operator on lists\n",
    "\n",
    "**DO NOT** use predefined functions (`sum`, `max`, `min`, `range`, ....)\n",
    "\n",
    "**DO NOT** use methods!"
   ]
  },
  {
   "cell_type": "markdown",
   "id": "a6bb5bbe",
   "metadata": {},
   "source": [
    "<div class=\"alert alert-warning\">\n",
    "\n",
    "**DO NOT INITIALIZE AN ACCUMULATOR IN THE PARAMETER DECLARATION**     \n",
    "        \n",
    "* **NEVER** write stuff like: \n",
    "\n",
    "```python    \n",
    "def my_helper(lst, acc=[]):\n",
    "```    \n",
    "```python    \n",
    "def my_helper(lst, acc={}):\n",
    "```      \n",
    "    \n",
    "If you initialize to a  mutable data structure such as lists or dictionaries, Python will create exactly **one** memory region for **all** function invocations, which is quite counterintuitive and bug prone!\n",
    "\n",
    "</div>"
   ]
  },
  {
   "cell_type": "markdown",
   "id": "10c9c8ef",
   "metadata": {},
   "source": [
    "## Example - `adouble`\n",
    "\n",
    "Let's see an example by improving our `double` function  to take a `lst` of numbers and RETURN a NEW list with the numbers doubled:"
   ]
  },
  {
   "cell_type": "code",
   "execution_count": 2,
   "id": "e51b1f9e",
   "metadata": {
    "scrolled": true
   },
   "outputs": [
    {
     "data": {
      "text/html": [
       "\n",
       "        <script src=\"../_static/js/pytutor-embed.bundle.min.js\" type=\"application/javascript\"></script>\n",
       "     \n",
       "        <script id=\"json-jm4e31bc17-93c9-4b8e-9bec-04ecaf8bbdd8\" type=\"application/json\" >\n",
       "            {\"code\": \" \\ndef adouble_helper(lst, i, acc):   # we create a helper function\\n                                   # with index where to start looking\\n                                   # and accumulator variable\\n                                   # note acc is *not* initialized in the parameters\\n    if i == len(lst):   # base case compares index against end of list\\n        return acc      #    notice it returns the accumulator\\n    else:                       \\n        acc.append(lst[i]*2)    #  we first MODIFY the accumulator\\n        return adouble_helper(lst, i+1, acc)  # then do recursion by passing the modified accumulator\\n                                                # notice passed list is always the same,\\n                                                # what changes is the starting index        \\n    \\ndef adouble(lst):                            \\n    return adouble_helper(lst, 0, [])\\n\\nresult = adouble([7,9,5])\\nresult\", \"trace\": [{\"line\": 2, \"event\": \"step_line\", \"func_name\": \"<module>\", \"globals\": {}, \"ordered_globals\": [], \"stack_to_render\": [], \"heap\": {}, \"stdout\": \"\"}, {\"line\": 14, \"event\": \"step_line\", \"func_name\": \"<module>\", \"globals\": {\"adouble_helper\": [\"REF\", 1]}, \"ordered_globals\": [\"adouble_helper\"], \"stack_to_render\": [], \"heap\": {\"1\": [\"FUNCTION\", \"adouble_helper(lst, i, acc)\", null]}, \"stdout\": \"\"}, {\"line\": 17, \"event\": \"step_line\", \"func_name\": \"<module>\", \"globals\": {\"adouble_helper\": [\"REF\", 1], \"adouble\": [\"REF\", 2]}, \"ordered_globals\": [\"adouble_helper\", \"adouble\"], \"stack_to_render\": [], \"heap\": {\"1\": [\"FUNCTION\", \"adouble_helper(lst, i, acc)\", null], \"2\": [\"FUNCTION\", \"adouble(lst)\", null]}, \"stdout\": \"\"}, {\"line\": 14, \"event\": \"call\", \"func_name\": \"adouble\", \"globals\": {\"adouble_helper\": [\"REF\", 1], \"adouble\": [\"REF\", 2]}, \"ordered_globals\": [\"adouble_helper\", \"adouble\"], \"stack_to_render\": [{\"func_name\": \"adouble\", \"is_parent\": false, \"frame_id\": 1, \"parent_frame_id_list\": [], \"encoded_locals\": {\"lst\": [\"REF\", 3]}, \"ordered_varnames\": [\"lst\"], \"is_zombie\": false, \"is_highlighted\": true, \"unique_hash\": \"adouble_f1\"}], \"heap\": {\"3\": [\"LIST\", 7, 9, 5], \"1\": [\"FUNCTION\", \"adouble_helper(lst, i, acc)\", null], \"2\": [\"FUNCTION\", \"adouble(lst)\", null]}, \"stdout\": \"\"}, {\"line\": 15, \"event\": \"step_line\", \"func_name\": \"adouble\", \"globals\": {\"adouble_helper\": [\"REF\", 1], \"adouble\": [\"REF\", 2]}, \"ordered_globals\": [\"adouble_helper\", \"adouble\"], \"stack_to_render\": [{\"func_name\": \"adouble\", \"is_parent\": false, \"frame_id\": 1, \"parent_frame_id_list\": [], \"encoded_locals\": {\"lst\": [\"REF\", 3]}, \"ordered_varnames\": [\"lst\"], \"is_zombie\": false, \"is_highlighted\": true, \"unique_hash\": \"adouble_f1\"}], \"heap\": {\"3\": [\"LIST\", 7, 9, 5], \"1\": [\"FUNCTION\", \"adouble_helper(lst, i, acc)\", null], \"2\": [\"FUNCTION\", \"adouble(lst)\", null]}, \"stdout\": \"\"}, {\"line\": 2, \"event\": \"call\", \"func_name\": \"adouble_helper\", \"globals\": {\"adouble_helper\": [\"REF\", 1], \"adouble\": [\"REF\", 2]}, \"ordered_globals\": [\"adouble_helper\", \"adouble\"], \"stack_to_render\": [{\"func_name\": \"adouble\", \"is_parent\": false, \"frame_id\": 1, \"parent_frame_id_list\": [], \"encoded_locals\": {\"lst\": [\"REF\", 3]}, \"ordered_varnames\": [\"lst\"], \"is_zombie\": false, \"is_highlighted\": false, \"unique_hash\": \"adouble_f1\"}, {\"func_name\": \"adouble_helper\", \"is_parent\": false, \"frame_id\": 2, \"parent_frame_id_list\": [], \"encoded_locals\": {\"lst\": [\"REF\", 3], \"i\": 0, \"acc\": [\"REF\", 4]}, \"ordered_varnames\": [\"lst\", \"i\", \"acc\"], \"is_zombie\": false, \"is_highlighted\": true, \"unique_hash\": \"adouble_helper_f2\"}], \"heap\": {\"3\": [\"LIST\", 7, 9, 5], \"4\": [\"LIST\"], \"1\": [\"FUNCTION\", \"adouble_helper(lst, i, acc)\", null], \"2\": [\"FUNCTION\", \"adouble(lst)\", null]}, \"stdout\": \"\"}, {\"line\": 6, \"event\": \"step_line\", \"func_name\": \"adouble_helper\", \"globals\": {\"adouble_helper\": [\"REF\", 1], \"adouble\": [\"REF\", 2]}, \"ordered_globals\": [\"adouble_helper\", \"adouble\"], \"stack_to_render\": [{\"func_name\": \"adouble\", \"is_parent\": false, \"frame_id\": 1, \"parent_frame_id_list\": [], \"encoded_locals\": {\"lst\": [\"REF\", 3]}, \"ordered_varnames\": [\"lst\"], \"is_zombie\": false, \"is_highlighted\": false, \"unique_hash\": \"adouble_f1\"}, {\"func_name\": \"adouble_helper\", \"is_parent\": false, \"frame_id\": 2, \"parent_frame_id_list\": [], \"encoded_locals\": {\"lst\": [\"REF\", 3], \"i\": 0, \"acc\": [\"REF\", 4]}, \"ordered_varnames\": [\"lst\", \"i\", \"acc\"], \"is_zombie\": false, \"is_highlighted\": true, \"unique_hash\": \"adouble_helper_f2\"}], \"heap\": {\"3\": [\"LIST\", 7, 9, 5], \"4\": [\"LIST\"], \"1\": [\"FUNCTION\", \"adouble_helper(lst, i, acc)\", null], \"2\": [\"FUNCTION\", \"adouble(lst)\", null]}, \"stdout\": \"\"}, {\"line\": 9, \"event\": \"step_line\", \"func_name\": \"adouble_helper\", \"globals\": {\"adouble_helper\": [\"REF\", 1], \"adouble\": [\"REF\", 2]}, \"ordered_globals\": [\"adouble_helper\", \"adouble\"], \"stack_to_render\": [{\"func_name\": \"adouble\", \"is_parent\": false, \"frame_id\": 1, \"parent_frame_id_list\": [], \"encoded_locals\": {\"lst\": [\"REF\", 3]}, \"ordered_varnames\": [\"lst\"], \"is_zombie\": false, \"is_highlighted\": false, \"unique_hash\": \"adouble_f1\"}, {\"func_name\": \"adouble_helper\", \"is_parent\": false, \"frame_id\": 2, \"parent_frame_id_list\": [], \"encoded_locals\": {\"lst\": [\"REF\", 3], \"i\": 0, \"acc\": [\"REF\", 4]}, \"ordered_varnames\": [\"lst\", \"i\", \"acc\"], \"is_zombie\": false, \"is_highlighted\": true, \"unique_hash\": \"adouble_helper_f2\"}], \"heap\": {\"3\": [\"LIST\", 7, 9, 5], \"4\": [\"LIST\"], \"1\": [\"FUNCTION\", \"adouble_helper(lst, i, acc)\", null], \"2\": [\"FUNCTION\", \"adouble(lst)\", null]}, \"stdout\": \"\"}, {\"line\": 10, \"event\": \"step_line\", \"func_name\": \"adouble_helper\", \"globals\": {\"adouble_helper\": [\"REF\", 1], \"adouble\": [\"REF\", 2]}, \"ordered_globals\": [\"adouble_helper\", \"adouble\"], \"stack_to_render\": [{\"func_name\": \"adouble\", \"is_parent\": false, \"frame_id\": 1, \"parent_frame_id_list\": [], \"encoded_locals\": {\"lst\": [\"REF\", 3]}, \"ordered_varnames\": [\"lst\"], \"is_zombie\": false, \"is_highlighted\": false, \"unique_hash\": \"adouble_f1\"}, {\"func_name\": \"adouble_helper\", \"is_parent\": false, \"frame_id\": 2, \"parent_frame_id_list\": [], \"encoded_locals\": {\"lst\": [\"REF\", 3], \"i\": 0, \"acc\": [\"REF\", 4]}, \"ordered_varnames\": [\"lst\", \"i\", \"acc\"], \"is_zombie\": false, \"is_highlighted\": true, \"unique_hash\": \"adouble_helper_f2\"}], \"heap\": {\"3\": [\"LIST\", 7, 9, 5], \"4\": [\"LIST\", 14], \"1\": [\"FUNCTION\", \"adouble_helper(lst, i, acc)\", null], \"2\": [\"FUNCTION\", \"adouble(lst)\", null]}, \"stdout\": \"\"}, {\"line\": 2, \"event\": \"call\", \"func_name\": \"adouble_helper\", \"globals\": {\"adouble_helper\": [\"REF\", 1], \"adouble\": [\"REF\", 2]}, \"ordered_globals\": [\"adouble_helper\", \"adouble\"], \"stack_to_render\": [{\"func_name\": \"adouble\", \"is_parent\": false, \"frame_id\": 1, \"parent_frame_id_list\": [], \"encoded_locals\": {\"lst\": [\"REF\", 3]}, \"ordered_varnames\": [\"lst\"], \"is_zombie\": false, \"is_highlighted\": false, \"unique_hash\": \"adouble_f1\"}, {\"func_name\": \"adouble_helper\", \"is_parent\": false, \"frame_id\": 2, \"parent_frame_id_list\": [], \"encoded_locals\": {\"lst\": [\"REF\", 3], \"i\": 0, \"acc\": [\"REF\", 4]}, \"ordered_varnames\": [\"lst\", \"i\", \"acc\"], \"is_zombie\": false, \"is_highlighted\": false, \"unique_hash\": \"adouble_helper_f2\"}, {\"func_name\": \"adouble_helper\", \"is_parent\": false, \"frame_id\": 3, \"parent_frame_id_list\": [], \"encoded_locals\": {\"lst\": [\"REF\", 3], \"i\": 1, \"acc\": [\"REF\", 4]}, \"ordered_varnames\": [\"lst\", \"i\", \"acc\"], \"is_zombie\": false, \"is_highlighted\": true, \"unique_hash\": \"adouble_helper_f3\"}], \"heap\": {\"3\": [\"LIST\", 7, 9, 5], \"4\": [\"LIST\", 14], \"1\": [\"FUNCTION\", \"adouble_helper(lst, i, acc)\", null], \"2\": [\"FUNCTION\", \"adouble(lst)\", null]}, \"stdout\": \"\"}, {\"line\": 6, \"event\": \"step_line\", \"func_name\": \"adouble_helper\", \"globals\": {\"adouble_helper\": [\"REF\", 1], \"adouble\": [\"REF\", 2]}, \"ordered_globals\": [\"adouble_helper\", \"adouble\"], \"stack_to_render\": [{\"func_name\": \"adouble\", \"is_parent\": false, \"frame_id\": 1, \"parent_frame_id_list\": [], \"encoded_locals\": {\"lst\": [\"REF\", 3]}, \"ordered_varnames\": [\"lst\"], \"is_zombie\": false, \"is_highlighted\": false, \"unique_hash\": \"adouble_f1\"}, {\"func_name\": \"adouble_helper\", \"is_parent\": false, \"frame_id\": 2, \"parent_frame_id_list\": [], \"encoded_locals\": {\"lst\": [\"REF\", 3], \"i\": 0, \"acc\": [\"REF\", 4]}, \"ordered_varnames\": [\"lst\", \"i\", \"acc\"], \"is_zombie\": false, \"is_highlighted\": false, \"unique_hash\": \"adouble_helper_f2\"}, {\"func_name\": \"adouble_helper\", \"is_parent\": false, \"frame_id\": 3, \"parent_frame_id_list\": [], \"encoded_locals\": {\"lst\": [\"REF\", 3], \"i\": 1, \"acc\": [\"REF\", 4]}, \"ordered_varnames\": [\"lst\", \"i\", \"acc\"], \"is_zombie\": false, \"is_highlighted\": true, \"unique_hash\": \"adouble_helper_f3\"}], \"heap\": {\"3\": [\"LIST\", 7, 9, 5], \"4\": [\"LIST\", 14], \"1\": [\"FUNCTION\", \"adouble_helper(lst, i, acc)\", null], \"2\": [\"FUNCTION\", \"adouble(lst)\", null]}, \"stdout\": \"\"}, {\"line\": 9, \"event\": \"step_line\", \"func_name\": \"adouble_helper\", \"globals\": {\"adouble_helper\": [\"REF\", 1], \"adouble\": [\"REF\", 2]}, \"ordered_globals\": [\"adouble_helper\", \"adouble\"], \"stack_to_render\": [{\"func_name\": \"adouble\", \"is_parent\": false, \"frame_id\": 1, \"parent_frame_id_list\": [], \"encoded_locals\": {\"lst\": [\"REF\", 3]}, \"ordered_varnames\": [\"lst\"], \"is_zombie\": false, \"is_highlighted\": false, \"unique_hash\": \"adouble_f1\"}, {\"func_name\": \"adouble_helper\", \"is_parent\": false, \"frame_id\": 2, \"parent_frame_id_list\": [], \"encoded_locals\": {\"lst\": [\"REF\", 3], \"i\": 0, \"acc\": [\"REF\", 4]}, \"ordered_varnames\": [\"lst\", \"i\", \"acc\"], \"is_zombie\": false, \"is_highlighted\": false, \"unique_hash\": \"adouble_helper_f2\"}, {\"func_name\": \"adouble_helper\", \"is_parent\": false, \"frame_id\": 3, \"parent_frame_id_list\": [], \"encoded_locals\": {\"lst\": [\"REF\", 3], \"i\": 1, \"acc\": [\"REF\", 4]}, \"ordered_varnames\": [\"lst\", \"i\", \"acc\"], \"is_zombie\": false, \"is_highlighted\": true, \"unique_hash\": \"adouble_helper_f3\"}], \"heap\": {\"3\": [\"LIST\", 7, 9, 5], \"4\": [\"LIST\", 14], \"1\": [\"FUNCTION\", \"adouble_helper(lst, i, acc)\", null], \"2\": [\"FUNCTION\", \"adouble(lst)\", null]}, \"stdout\": \"\"}, {\"line\": 10, \"event\": \"step_line\", \"func_name\": \"adouble_helper\", \"globals\": {\"adouble_helper\": [\"REF\", 1], \"adouble\": [\"REF\", 2]}, \"ordered_globals\": [\"adouble_helper\", \"adouble\"], \"stack_to_render\": [{\"func_name\": \"adouble\", \"is_parent\": false, \"frame_id\": 1, \"parent_frame_id_list\": [], \"encoded_locals\": {\"lst\": [\"REF\", 3]}, \"ordered_varnames\": [\"lst\"], \"is_zombie\": false, \"is_highlighted\": false, \"unique_hash\": \"adouble_f1\"}, {\"func_name\": \"adouble_helper\", \"is_parent\": false, \"frame_id\": 2, \"parent_frame_id_list\": [], \"encoded_locals\": {\"lst\": [\"REF\", 3], \"i\": 0, \"acc\": [\"REF\", 4]}, \"ordered_varnames\": [\"lst\", \"i\", \"acc\"], \"is_zombie\": false, \"is_highlighted\": false, \"unique_hash\": \"adouble_helper_f2\"}, {\"func_name\": \"adouble_helper\", \"is_parent\": false, \"frame_id\": 3, \"parent_frame_id_list\": [], \"encoded_locals\": {\"lst\": [\"REF\", 3], \"i\": 1, \"acc\": [\"REF\", 4]}, \"ordered_varnames\": [\"lst\", \"i\", \"acc\"], \"is_zombie\": false, \"is_highlighted\": true, \"unique_hash\": \"adouble_helper_f3\"}], \"heap\": {\"3\": [\"LIST\", 7, 9, 5], \"4\": [\"LIST\", 14, 18], \"1\": [\"FUNCTION\", \"adouble_helper(lst, i, acc)\", null], \"2\": [\"FUNCTION\", \"adouble(lst)\", null]}, \"stdout\": \"\"}, {\"line\": 2, \"event\": \"call\", \"func_name\": \"adouble_helper\", \"globals\": {\"adouble_helper\": [\"REF\", 1], \"adouble\": [\"REF\", 2]}, \"ordered_globals\": [\"adouble_helper\", \"adouble\"], \"stack_to_render\": [{\"func_name\": \"adouble\", \"is_parent\": false, \"frame_id\": 1, \"parent_frame_id_list\": [], \"encoded_locals\": {\"lst\": [\"REF\", 3]}, \"ordered_varnames\": [\"lst\"], \"is_zombie\": false, \"is_highlighted\": false, \"unique_hash\": \"adouble_f1\"}, {\"func_name\": \"adouble_helper\", \"is_parent\": false, \"frame_id\": 2, \"parent_frame_id_list\": [], \"encoded_locals\": {\"lst\": [\"REF\", 3], \"i\": 0, \"acc\": [\"REF\", 4]}, \"ordered_varnames\": [\"lst\", \"i\", \"acc\"], \"is_zombie\": false, \"is_highlighted\": false, \"unique_hash\": \"adouble_helper_f2\"}, {\"func_name\": \"adouble_helper\", \"is_parent\": false, \"frame_id\": 3, \"parent_frame_id_list\": [], \"encoded_locals\": {\"lst\": [\"REF\", 3], \"i\": 1, \"acc\": [\"REF\", 4]}, \"ordered_varnames\": [\"lst\", \"i\", \"acc\"], \"is_zombie\": false, \"is_highlighted\": false, \"unique_hash\": \"adouble_helper_f3\"}, {\"func_name\": \"adouble_helper\", \"is_parent\": false, \"frame_id\": 4, \"parent_frame_id_list\": [], \"encoded_locals\": {\"lst\": [\"REF\", 3], \"i\": 2, \"acc\": [\"REF\", 4]}, \"ordered_varnames\": [\"lst\", \"i\", \"acc\"], \"is_zombie\": false, \"is_highlighted\": true, \"unique_hash\": \"adouble_helper_f4\"}], \"heap\": {\"3\": [\"LIST\", 7, 9, 5], \"4\": [\"LIST\", 14, 18], \"1\": [\"FUNCTION\", \"adouble_helper(lst, i, acc)\", null], \"2\": [\"FUNCTION\", \"adouble(lst)\", null]}, \"stdout\": \"\"}, {\"line\": 6, \"event\": \"step_line\", \"func_name\": \"adouble_helper\", \"globals\": {\"adouble_helper\": [\"REF\", 1], \"adouble\": [\"REF\", 2]}, \"ordered_globals\": [\"adouble_helper\", \"adouble\"], \"stack_to_render\": [{\"func_name\": \"adouble\", \"is_parent\": false, \"frame_id\": 1, \"parent_frame_id_list\": [], \"encoded_locals\": {\"lst\": [\"REF\", 3]}, \"ordered_varnames\": [\"lst\"], \"is_zombie\": false, \"is_highlighted\": false, \"unique_hash\": \"adouble_f1\"}, {\"func_name\": \"adouble_helper\", \"is_parent\": false, \"frame_id\": 2, \"parent_frame_id_list\": [], \"encoded_locals\": {\"lst\": [\"REF\", 3], \"i\": 0, \"acc\": [\"REF\", 4]}, \"ordered_varnames\": [\"lst\", \"i\", \"acc\"], \"is_zombie\": false, \"is_highlighted\": false, \"unique_hash\": \"adouble_helper_f2\"}, {\"func_name\": \"adouble_helper\", \"is_parent\": false, \"frame_id\": 3, \"parent_frame_id_list\": [], \"encoded_locals\": {\"lst\": [\"REF\", 3], \"i\": 1, \"acc\": [\"REF\", 4]}, \"ordered_varnames\": [\"lst\", \"i\", \"acc\"], \"is_zombie\": false, \"is_highlighted\": false, \"unique_hash\": \"adouble_helper_f3\"}, {\"func_name\": \"adouble_helper\", \"is_parent\": false, \"frame_id\": 4, \"parent_frame_id_list\": [], \"encoded_locals\": {\"lst\": [\"REF\", 3], \"i\": 2, \"acc\": [\"REF\", 4]}, \"ordered_varnames\": [\"lst\", \"i\", \"acc\"], \"is_zombie\": false, \"is_highlighted\": true, \"unique_hash\": \"adouble_helper_f4\"}], \"heap\": {\"3\": [\"LIST\", 7, 9, 5], \"4\": [\"LIST\", 14, 18], \"1\": [\"FUNCTION\", \"adouble_helper(lst, i, acc)\", null], \"2\": [\"FUNCTION\", \"adouble(lst)\", null]}, \"stdout\": \"\"}, {\"line\": 9, \"event\": \"step_line\", \"func_name\": \"adouble_helper\", \"globals\": {\"adouble_helper\": [\"REF\", 1], \"adouble\": [\"REF\", 2]}, \"ordered_globals\": [\"adouble_helper\", \"adouble\"], \"stack_to_render\": [{\"func_name\": \"adouble\", \"is_parent\": false, \"frame_id\": 1, \"parent_frame_id_list\": [], \"encoded_locals\": {\"lst\": [\"REF\", 3]}, \"ordered_varnames\": [\"lst\"], \"is_zombie\": false, \"is_highlighted\": false, \"unique_hash\": \"adouble_f1\"}, {\"func_name\": \"adouble_helper\", \"is_parent\": false, \"frame_id\": 2, \"parent_frame_id_list\": [], \"encoded_locals\": {\"lst\": [\"REF\", 3], \"i\": 0, \"acc\": [\"REF\", 4]}, \"ordered_varnames\": [\"lst\", \"i\", \"acc\"], \"is_zombie\": false, \"is_highlighted\": false, \"unique_hash\": \"adouble_helper_f2\"}, {\"func_name\": \"adouble_helper\", \"is_parent\": false, \"frame_id\": 3, \"parent_frame_id_list\": [], \"encoded_locals\": {\"lst\": [\"REF\", 3], \"i\": 1, \"acc\": [\"REF\", 4]}, \"ordered_varnames\": [\"lst\", \"i\", \"acc\"], \"is_zombie\": false, \"is_highlighted\": false, \"unique_hash\": \"adouble_helper_f3\"}, {\"func_name\": \"adouble_helper\", \"is_parent\": false, \"frame_id\": 4, \"parent_frame_id_list\": [], \"encoded_locals\": {\"lst\": [\"REF\", 3], \"i\": 2, \"acc\": [\"REF\", 4]}, \"ordered_varnames\": [\"lst\", \"i\", \"acc\"], \"is_zombie\": false, \"is_highlighted\": true, \"unique_hash\": \"adouble_helper_f4\"}], \"heap\": {\"3\": [\"LIST\", 7, 9, 5], \"4\": [\"LIST\", 14, 18], \"1\": [\"FUNCTION\", \"adouble_helper(lst, i, acc)\", null], \"2\": [\"FUNCTION\", \"adouble(lst)\", null]}, \"stdout\": \"\"}, {\"line\": 10, \"event\": \"step_line\", \"func_name\": \"adouble_helper\", \"globals\": {\"adouble_helper\": [\"REF\", 1], \"adouble\": [\"REF\", 2]}, \"ordered_globals\": [\"adouble_helper\", \"adouble\"], \"stack_to_render\": [{\"func_name\": \"adouble\", \"is_parent\": false, \"frame_id\": 1, \"parent_frame_id_list\": [], \"encoded_locals\": {\"lst\": [\"REF\", 3]}, \"ordered_varnames\": [\"lst\"], \"is_zombie\": false, \"is_highlighted\": false, \"unique_hash\": \"adouble_f1\"}, {\"func_name\": \"adouble_helper\", \"is_parent\": false, \"frame_id\": 2, \"parent_frame_id_list\": [], \"encoded_locals\": {\"lst\": [\"REF\", 3], \"i\": 0, \"acc\": [\"REF\", 4]}, \"ordered_varnames\": [\"lst\", \"i\", \"acc\"], \"is_zombie\": false, \"is_highlighted\": false, \"unique_hash\": \"adouble_helper_f2\"}, {\"func_name\": \"adouble_helper\", \"is_parent\": false, \"frame_id\": 3, \"parent_frame_id_list\": [], \"encoded_locals\": {\"lst\": [\"REF\", 3], \"i\": 1, \"acc\": [\"REF\", 4]}, \"ordered_varnames\": [\"lst\", \"i\", \"acc\"], \"is_zombie\": false, \"is_highlighted\": false, \"unique_hash\": \"adouble_helper_f3\"}, {\"func_name\": \"adouble_helper\", \"is_parent\": false, \"frame_id\": 4, \"parent_frame_id_list\": [], \"encoded_locals\": {\"lst\": [\"REF\", 3], \"i\": 2, \"acc\": [\"REF\", 4]}, \"ordered_varnames\": [\"lst\", \"i\", \"acc\"], \"is_zombie\": false, \"is_highlighted\": true, \"unique_hash\": \"adouble_helper_f4\"}], \"heap\": {\"3\": [\"LIST\", 7, 9, 5], \"4\": [\"LIST\", 14, 18, 10], \"1\": [\"FUNCTION\", \"adouble_helper(lst, i, acc)\", null], \"2\": [\"FUNCTION\", \"adouble(lst)\", null]}, \"stdout\": \"\"}, {\"line\": 2, \"event\": \"call\", \"func_name\": \"adouble_helper\", \"globals\": {\"adouble_helper\": [\"REF\", 1], \"adouble\": [\"REF\", 2]}, \"ordered_globals\": [\"adouble_helper\", \"adouble\"], \"stack_to_render\": [{\"func_name\": \"adouble\", \"is_parent\": false, \"frame_id\": 1, \"parent_frame_id_list\": [], \"encoded_locals\": {\"lst\": [\"REF\", 3]}, \"ordered_varnames\": [\"lst\"], \"is_zombie\": false, \"is_highlighted\": false, \"unique_hash\": \"adouble_f1\"}, {\"func_name\": \"adouble_helper\", \"is_parent\": false, \"frame_id\": 2, \"parent_frame_id_list\": [], \"encoded_locals\": {\"lst\": [\"REF\", 3], \"i\": 0, \"acc\": [\"REF\", 4]}, \"ordered_varnames\": [\"lst\", \"i\", \"acc\"], \"is_zombie\": false, \"is_highlighted\": false, \"unique_hash\": \"adouble_helper_f2\"}, {\"func_name\": \"adouble_helper\", \"is_parent\": false, \"frame_id\": 3, \"parent_frame_id_list\": [], \"encoded_locals\": {\"lst\": [\"REF\", 3], \"i\": 1, \"acc\": [\"REF\", 4]}, \"ordered_varnames\": [\"lst\", \"i\", \"acc\"], \"is_zombie\": false, \"is_highlighted\": false, \"unique_hash\": \"adouble_helper_f3\"}, {\"func_name\": \"adouble_helper\", \"is_parent\": false, \"frame_id\": 4, \"parent_frame_id_list\": [], \"encoded_locals\": {\"lst\": [\"REF\", 3], \"i\": 2, \"acc\": [\"REF\", 4]}, \"ordered_varnames\": [\"lst\", \"i\", \"acc\"], \"is_zombie\": false, \"is_highlighted\": false, \"unique_hash\": \"adouble_helper_f4\"}, {\"func_name\": \"adouble_helper\", \"is_parent\": false, \"frame_id\": 5, \"parent_frame_id_list\": [], \"encoded_locals\": {\"lst\": [\"REF\", 3], \"i\": 3, \"acc\": [\"REF\", 4]}, \"ordered_varnames\": [\"lst\", \"i\", \"acc\"], \"is_zombie\": false, \"is_highlighted\": true, \"unique_hash\": \"adouble_helper_f5\"}], \"heap\": {\"3\": [\"LIST\", 7, 9, 5], \"4\": [\"LIST\", 14, 18, 10], \"1\": [\"FUNCTION\", \"adouble_helper(lst, i, acc)\", null], \"2\": [\"FUNCTION\", \"adouble(lst)\", null]}, \"stdout\": \"\"}, {\"line\": 6, \"event\": \"step_line\", \"func_name\": \"adouble_helper\", \"globals\": {\"adouble_helper\": [\"REF\", 1], \"adouble\": [\"REF\", 2]}, \"ordered_globals\": [\"adouble_helper\", \"adouble\"], \"stack_to_render\": [{\"func_name\": \"adouble\", \"is_parent\": false, \"frame_id\": 1, \"parent_frame_id_list\": [], \"encoded_locals\": {\"lst\": [\"REF\", 3]}, \"ordered_varnames\": [\"lst\"], \"is_zombie\": false, \"is_highlighted\": false, \"unique_hash\": \"adouble_f1\"}, {\"func_name\": \"adouble_helper\", \"is_parent\": false, \"frame_id\": 2, \"parent_frame_id_list\": [], \"encoded_locals\": {\"lst\": [\"REF\", 3], \"i\": 0, \"acc\": [\"REF\", 4]}, \"ordered_varnames\": [\"lst\", \"i\", \"acc\"], \"is_zombie\": false, \"is_highlighted\": false, \"unique_hash\": \"adouble_helper_f2\"}, {\"func_name\": \"adouble_helper\", \"is_parent\": false, \"frame_id\": 3, \"parent_frame_id_list\": [], \"encoded_locals\": {\"lst\": [\"REF\", 3], \"i\": 1, \"acc\": [\"REF\", 4]}, \"ordered_varnames\": [\"lst\", \"i\", \"acc\"], \"is_zombie\": false, \"is_highlighted\": false, \"unique_hash\": \"adouble_helper_f3\"}, {\"func_name\": \"adouble_helper\", \"is_parent\": false, \"frame_id\": 4, \"parent_frame_id_list\": [], \"encoded_locals\": {\"lst\": [\"REF\", 3], \"i\": 2, \"acc\": [\"REF\", 4]}, \"ordered_varnames\": [\"lst\", \"i\", \"acc\"], \"is_zombie\": false, \"is_highlighted\": false, \"unique_hash\": \"adouble_helper_f4\"}, {\"func_name\": \"adouble_helper\", \"is_parent\": false, \"frame_id\": 5, \"parent_frame_id_list\": [], \"encoded_locals\": {\"lst\": [\"REF\", 3], \"i\": 3, \"acc\": [\"REF\", 4]}, \"ordered_varnames\": [\"lst\", \"i\", \"acc\"], \"is_zombie\": false, \"is_highlighted\": true, \"unique_hash\": \"adouble_helper_f5\"}], \"heap\": {\"3\": [\"LIST\", 7, 9, 5], \"4\": [\"LIST\", 14, 18, 10], \"1\": [\"FUNCTION\", \"adouble_helper(lst, i, acc)\", null], \"2\": [\"FUNCTION\", \"adouble(lst)\", null]}, \"stdout\": \"\"}, {\"line\": 7, \"event\": \"step_line\", \"func_name\": \"adouble_helper\", \"globals\": {\"adouble_helper\": [\"REF\", 1], \"adouble\": [\"REF\", 2]}, \"ordered_globals\": [\"adouble_helper\", \"adouble\"], \"stack_to_render\": [{\"func_name\": \"adouble\", \"is_parent\": false, \"frame_id\": 1, \"parent_frame_id_list\": [], \"encoded_locals\": {\"lst\": [\"REF\", 3]}, \"ordered_varnames\": [\"lst\"], \"is_zombie\": false, \"is_highlighted\": false, \"unique_hash\": \"adouble_f1\"}, {\"func_name\": \"adouble_helper\", \"is_parent\": false, \"frame_id\": 2, \"parent_frame_id_list\": [], \"encoded_locals\": {\"lst\": [\"REF\", 3], \"i\": 0, \"acc\": [\"REF\", 4]}, \"ordered_varnames\": [\"lst\", \"i\", \"acc\"], \"is_zombie\": false, \"is_highlighted\": false, \"unique_hash\": \"adouble_helper_f2\"}, {\"func_name\": \"adouble_helper\", \"is_parent\": false, \"frame_id\": 3, \"parent_frame_id_list\": [], \"encoded_locals\": {\"lst\": [\"REF\", 3], \"i\": 1, \"acc\": [\"REF\", 4]}, \"ordered_varnames\": [\"lst\", \"i\", \"acc\"], \"is_zombie\": false, \"is_highlighted\": false, \"unique_hash\": \"adouble_helper_f3\"}, {\"func_name\": \"adouble_helper\", \"is_parent\": false, \"frame_id\": 4, \"parent_frame_id_list\": [], \"encoded_locals\": {\"lst\": [\"REF\", 3], \"i\": 2, \"acc\": [\"REF\", 4]}, \"ordered_varnames\": [\"lst\", \"i\", \"acc\"], \"is_zombie\": false, \"is_highlighted\": false, \"unique_hash\": \"adouble_helper_f4\"}, {\"func_name\": \"adouble_helper\", \"is_parent\": false, \"frame_id\": 5, \"parent_frame_id_list\": [], \"encoded_locals\": {\"lst\": [\"REF\", 3], \"i\": 3, \"acc\": [\"REF\", 4]}, \"ordered_varnames\": [\"lst\", \"i\", \"acc\"], \"is_zombie\": false, \"is_highlighted\": true, \"unique_hash\": \"adouble_helper_f5\"}], \"heap\": {\"3\": [\"LIST\", 7, 9, 5], \"4\": [\"LIST\", 14, 18, 10], \"1\": [\"FUNCTION\", \"adouble_helper(lst, i, acc)\", null], \"2\": [\"FUNCTION\", \"adouble(lst)\", null]}, \"stdout\": \"\"}, {\"line\": 7, \"event\": \"return\", \"func_name\": \"adouble_helper\", \"globals\": {\"adouble_helper\": [\"REF\", 1], \"adouble\": [\"REF\", 2]}, \"ordered_globals\": [\"adouble_helper\", \"adouble\"], \"stack_to_render\": [{\"func_name\": \"adouble\", \"is_parent\": false, \"frame_id\": 1, \"parent_frame_id_list\": [], \"encoded_locals\": {\"lst\": [\"REF\", 3]}, \"ordered_varnames\": [\"lst\"], \"is_zombie\": false, \"is_highlighted\": false, \"unique_hash\": \"adouble_f1\"}, {\"func_name\": \"adouble_helper\", \"is_parent\": false, \"frame_id\": 2, \"parent_frame_id_list\": [], \"encoded_locals\": {\"lst\": [\"REF\", 3], \"i\": 0, \"acc\": [\"REF\", 4]}, \"ordered_varnames\": [\"lst\", \"i\", \"acc\"], \"is_zombie\": false, \"is_highlighted\": false, \"unique_hash\": \"adouble_helper_f2\"}, {\"func_name\": \"adouble_helper\", \"is_parent\": false, \"frame_id\": 3, \"parent_frame_id_list\": [], \"encoded_locals\": {\"lst\": [\"REF\", 3], \"i\": 1, \"acc\": [\"REF\", 4]}, \"ordered_varnames\": [\"lst\", \"i\", \"acc\"], \"is_zombie\": false, \"is_highlighted\": false, \"unique_hash\": \"adouble_helper_f3\"}, {\"func_name\": \"adouble_helper\", \"is_parent\": false, \"frame_id\": 4, \"parent_frame_id_list\": [], \"encoded_locals\": {\"lst\": [\"REF\", 3], \"i\": 2, \"acc\": [\"REF\", 4]}, \"ordered_varnames\": [\"lst\", \"i\", \"acc\"], \"is_zombie\": false, \"is_highlighted\": false, \"unique_hash\": \"adouble_helper_f4\"}, {\"func_name\": \"adouble_helper\", \"is_parent\": false, \"frame_id\": 5, \"parent_frame_id_list\": [], \"encoded_locals\": {\"lst\": [\"REF\", 3], \"i\": 3, \"acc\": [\"REF\", 4], \"__return__\": [\"REF\", 4]}, \"ordered_varnames\": [\"lst\", \"i\", \"acc\", \"__return__\"], \"is_zombie\": false, \"is_highlighted\": true, \"unique_hash\": \"adouble_helper_f5\"}], \"heap\": {\"3\": [\"LIST\", 7, 9, 5], \"4\": [\"LIST\", 14, 18, 10], \"1\": [\"FUNCTION\", \"adouble_helper(lst, i, acc)\", null], \"2\": [\"FUNCTION\", \"adouble(lst)\", null]}, \"stdout\": \"\"}, {\"line\": 10, \"event\": \"return\", \"func_name\": \"adouble_helper\", \"globals\": {\"adouble_helper\": [\"REF\", 1], \"adouble\": [\"REF\", 2]}, \"ordered_globals\": [\"adouble_helper\", \"adouble\"], \"stack_to_render\": [{\"func_name\": \"adouble\", \"is_parent\": false, \"frame_id\": 1, \"parent_frame_id_list\": [], \"encoded_locals\": {\"lst\": [\"REF\", 3]}, \"ordered_varnames\": [\"lst\"], \"is_zombie\": false, \"is_highlighted\": false, \"unique_hash\": \"adouble_f1\"}, {\"func_name\": \"adouble_helper\", \"is_parent\": false, \"frame_id\": 2, \"parent_frame_id_list\": [], \"encoded_locals\": {\"lst\": [\"REF\", 3], \"i\": 0, \"acc\": [\"REF\", 4]}, \"ordered_varnames\": [\"lst\", \"i\", \"acc\"], \"is_zombie\": false, \"is_highlighted\": false, \"unique_hash\": \"adouble_helper_f2\"}, {\"func_name\": \"adouble_helper\", \"is_parent\": false, \"frame_id\": 3, \"parent_frame_id_list\": [], \"encoded_locals\": {\"lst\": [\"REF\", 3], \"i\": 1, \"acc\": [\"REF\", 4]}, \"ordered_varnames\": [\"lst\", \"i\", \"acc\"], \"is_zombie\": false, \"is_highlighted\": false, \"unique_hash\": \"adouble_helper_f3\"}, {\"func_name\": \"adouble_helper\", \"is_parent\": false, \"frame_id\": 4, \"parent_frame_id_list\": [], \"encoded_locals\": {\"lst\": [\"REF\", 3], \"i\": 2, \"acc\": [\"REF\", 4], \"__return__\": [\"REF\", 4]}, \"ordered_varnames\": [\"lst\", \"i\", \"acc\", \"__return__\"], \"is_zombie\": false, \"is_highlighted\": true, \"unique_hash\": \"adouble_helper_f4\"}], \"heap\": {\"3\": [\"LIST\", 7, 9, 5], \"4\": [\"LIST\", 14, 18, 10], \"1\": [\"FUNCTION\", \"adouble_helper(lst, i, acc)\", null], \"2\": [\"FUNCTION\", \"adouble(lst)\", null]}, \"stdout\": \"\"}, {\"line\": 10, \"event\": \"return\", \"func_name\": \"adouble_helper\", \"globals\": {\"adouble_helper\": [\"REF\", 1], \"adouble\": [\"REF\", 2]}, \"ordered_globals\": [\"adouble_helper\", \"adouble\"], \"stack_to_render\": [{\"func_name\": \"adouble\", \"is_parent\": false, \"frame_id\": 1, \"parent_frame_id_list\": [], \"encoded_locals\": {\"lst\": [\"REF\", 3]}, \"ordered_varnames\": [\"lst\"], \"is_zombie\": false, \"is_highlighted\": false, \"unique_hash\": \"adouble_f1\"}, {\"func_name\": \"adouble_helper\", \"is_parent\": false, \"frame_id\": 2, \"parent_frame_id_list\": [], \"encoded_locals\": {\"lst\": [\"REF\", 3], \"i\": 0, \"acc\": [\"REF\", 4]}, \"ordered_varnames\": [\"lst\", \"i\", \"acc\"], \"is_zombie\": false, \"is_highlighted\": false, \"unique_hash\": \"adouble_helper_f2\"}, {\"func_name\": \"adouble_helper\", \"is_parent\": false, \"frame_id\": 3, \"parent_frame_id_list\": [], \"encoded_locals\": {\"lst\": [\"REF\", 3], \"i\": 1, \"acc\": [\"REF\", 4], \"__return__\": [\"REF\", 4]}, \"ordered_varnames\": [\"lst\", \"i\", \"acc\", \"__return__\"], \"is_zombie\": false, \"is_highlighted\": true, \"unique_hash\": \"adouble_helper_f3\"}], \"heap\": {\"3\": [\"LIST\", 7, 9, 5], \"4\": [\"LIST\", 14, 18, 10], \"1\": [\"FUNCTION\", \"adouble_helper(lst, i, acc)\", null], \"2\": [\"FUNCTION\", \"adouble(lst)\", null]}, \"stdout\": \"\"}, {\"line\": 10, \"event\": \"return\", \"func_name\": \"adouble_helper\", \"globals\": {\"adouble_helper\": [\"REF\", 1], \"adouble\": [\"REF\", 2]}, \"ordered_globals\": [\"adouble_helper\", \"adouble\"], \"stack_to_render\": [{\"func_name\": \"adouble\", \"is_parent\": false, \"frame_id\": 1, \"parent_frame_id_list\": [], \"encoded_locals\": {\"lst\": [\"REF\", 3]}, \"ordered_varnames\": [\"lst\"], \"is_zombie\": false, \"is_highlighted\": false, \"unique_hash\": \"adouble_f1\"}, {\"func_name\": \"adouble_helper\", \"is_parent\": false, \"frame_id\": 2, \"parent_frame_id_list\": [], \"encoded_locals\": {\"lst\": [\"REF\", 3], \"i\": 0, \"acc\": [\"REF\", 4], \"__return__\": [\"REF\", 4]}, \"ordered_varnames\": [\"lst\", \"i\", \"acc\", \"__return__\"], \"is_zombie\": false, \"is_highlighted\": true, \"unique_hash\": \"adouble_helper_f2\"}], \"heap\": {\"3\": [\"LIST\", 7, 9, 5], \"4\": [\"LIST\", 14, 18, 10], \"1\": [\"FUNCTION\", \"adouble_helper(lst, i, acc)\", null], \"2\": [\"FUNCTION\", \"adouble(lst)\", null]}, \"stdout\": \"\"}, {\"line\": 15, \"event\": \"return\", \"func_name\": \"adouble\", \"globals\": {\"adouble_helper\": [\"REF\", 1], \"adouble\": [\"REF\", 2]}, \"ordered_globals\": [\"adouble_helper\", \"adouble\"], \"stack_to_render\": [{\"func_name\": \"adouble\", \"is_parent\": false, \"frame_id\": 1, \"parent_frame_id_list\": [], \"encoded_locals\": {\"lst\": [\"REF\", 3], \"__return__\": [\"REF\", 4]}, \"ordered_varnames\": [\"lst\", \"__return__\"], \"is_zombie\": false, \"is_highlighted\": true, \"unique_hash\": \"adouble_f1\"}], \"heap\": {\"3\": [\"LIST\", 7, 9, 5], \"4\": [\"LIST\", 14, 18, 10], \"1\": [\"FUNCTION\", \"adouble_helper(lst, i, acc)\", null], \"2\": [\"FUNCTION\", \"adouble(lst)\", null]}, \"stdout\": \"\"}, {\"line\": 18, \"event\": \"step_line\", \"func_name\": \"<module>\", \"globals\": {\"adouble_helper\": [\"REF\", 1], \"adouble\": [\"REF\", 2], \"result\": [\"REF\", 4]}, \"ordered_globals\": [\"adouble_helper\", \"adouble\", \"result\"], \"stack_to_render\": [], \"heap\": {\"1\": [\"FUNCTION\", \"adouble_helper(lst, i, acc)\", null], \"2\": [\"FUNCTION\", \"adouble(lst)\", null], \"4\": [\"LIST\", 14, 18, 10]}, \"stdout\": \"\"}, {\"line\": 18, \"event\": \"return\", \"func_name\": \"<module>\", \"globals\": {\"adouble_helper\": [\"REF\", 1], \"adouble\": [\"REF\", 2], \"result\": [\"REF\", 4]}, \"ordered_globals\": [\"adouble_helper\", \"adouble\", \"result\"], \"stack_to_render\": [], \"heap\": {\"1\": [\"FUNCTION\", \"adouble_helper(lst, i, acc)\", null], \"2\": [\"FUNCTION\", \"adouble(lst)\", null], \"4\": [\"LIST\", 14, 18, 10]}, \"stdout\": \"\"}]}\n",
       "        </script>\n",
       "        <div id=\"jm4e31bc17-93c9-4b8e-9bec-04ecaf8bbdd8\" class=\"pytutorVisualizer\"> </div>\n",
       " \n",
       "        <style>\n",
       "        .vizLayoutTd {\n",
       "            background-color: #fff !important;\n",
       "        }\n",
       "                            \n",
       "        #pyStdout {\n",
       "            min-height:25px;\n",
       "        }\n",
       "\n",
       "        /* 'Edit this code' link, hiding because replaces browser tab !!!*/\n",
       "        #editCodeLinkDiv {\n",
       "            display:none;  \n",
       "        }\n",
       "        </style>   \n",
       "                            \n",
       "        <script>\n",
       "        (function(){\n",
       "\n",
       "            var trace = JSON.parse(document.getElementById('json-jm4e31bc17-93c9-4b8e-9bec-04ecaf8bbdd8').innerHTML);                                        \n",
       "            // NOTE 1: id without #\n",
       "            // NOTE 2 - maybe there are more predictable ways, but this will work anyway\n",
       "            //        - id should be number\n",
       "            visualizerIdOverride = Math.trunc(Math.random() * 100000000000)\n",
       "            addVisualizerToPage(trace, 'jm4e31bc17-93c9-4b8e-9bec-04ecaf8bbdd8',{'embeddedMode' : false,\n",
       "                                             'visualizerIdOverride':visualizerIdOverride})  \n",
       "            \n",
       "            \n",
       "            // set overflow for pytuts - need to do in python as css \n",
       "            // does not allow parent selection\n",
       "            var pytuts = $('.pytutorVisualizer')\n",
       "            pytuts.closest('div.output_html.rendered_html.output_result')\n",
       "                    .css('overflow-x', 'visible')\n",
       "        \n",
       "            //pytuts.closest('div.output_html.rendered_html.output_result')\n",
       "            //      .css('background-color','red')                \n",
       "            \n",
       "        })()\n",
       "        </script>\n",
       "                \n",
       "                "
      ],
      "text/plain": [
       "<IPython.core.display.HTML object>"
      ]
     },
     "execution_count": 2,
     "metadata": {},
     "output_type": "execute_result"
    }
   ],
   "source": [
    "def adouble_helper(lst, i, acc):   # we create a helper function\n",
    "                                   # with index where to start looking\n",
    "                                   # and accumulator variable\n",
    "                                   # note acc is *not* initialized in the parameters\n",
    "    if i == len(lst):   # base case compares index against end of list\n",
    "        return acc      #    notice it returns the accumulator\n",
    "    else:                       \n",
    "        acc.append(lst[i]*2)    #  we first MODIFY the accumulator\n",
    "        return adouble_helper(lst, i+1, acc)  # then do recursion by passing the modified accumulator\n",
    "                                                # notice passed list is always the same,\n",
    "                                                # what changes is the starting index        \n",
    "    \n",
    "def adouble(lst):                            \n",
    "    return adouble_helper(lst, 0, [])\n",
    "\n",
    "result = adouble([7,9,5])\n",
    "result\n",
    "jupman.pytut()"
   ]
  },
  {
   "cell_type": "code",
   "execution_count": 3,
   "id": "7336d6fe-stripped",
   "metadata": {
    "nbsphinx": "hidden"
   },
   "outputs": [],
   "source": [],
   "transient": {
    "remove_source": true
   }
  },
  {
   "cell_type": "markdown",
   "id": "1afa08a8",
   "metadata": {},
   "source": [
    "## Exercise - debug adouble\n",
    "\n",
    "Add a `level` parameter and some debugging indented print to the function"
   ]
  },
  {
   "cell_type": "raw",
   "id": "a9d37247",
   "metadata": {
    "format": "text/html"
   },
   "source": [
    "<a  class=\"jupman-sol jupman-sol-toggler\" \n",
    " onclick=\"jupman.toggleSolution(this);\" \n",
    " data-jupman-show=\"Show solution\" data-jupman-hide=\"Hide\">Show solution</a><div class=\"jupman-sol jupman-sol-code\" style=\"display:none\">  "
   ]
  },
  {
   "cell_type": "code",
   "execution_count": 4,
   "id": "68cb7cad",
   "metadata": {},
   "outputs": [
    {
     "name": "stdout",
     "output_type": "stream",
     "text": [
      " i= 0  acc= []\n",
      "  i= 1  acc= [8]\n",
      "   i= 2  acc= [8, 18]\n",
      "    i= 3  acc= [8, 18, 2]\n",
      "     i= 4  acc= [8, 18, 2, 10]\n",
      "      i= 5  acc= [8, 18, 2, 10, 14]\n",
      "       i= 6  acc= [8, 18, 2, 10, 14, 6]\n",
      "      res= [8, 18, 2, 10, 14, 6]\n",
      "     res= [8, 18, 2, 10, 14, 6]\n",
      "    res= [8, 18, 2, 10, 14, 6]\n",
      "   res= [8, 18, 2, 10, 14, 6]\n",
      "  res= [8, 18, 2, 10, 14, 6]\n",
      " res= [8, 18, 2, 10, 14, 6]\n"
     ]
    },
    {
     "data": {
      "text/plain": [
       "[8, 18, 2, 10, 14, 6]"
      ]
     },
     "execution_count": 4,
     "metadata": {},
     "output_type": "execute_result"
    }
   ],
   "source": [
    "\n",
    "def adouble_helper(lst, i, acc, level=0):\n",
    "    print(' '*level, 'i=',i,' acc=', acc)\n",
    "    if i == len(lst):\n",
    "        return acc             \n",
    "    else:\n",
    "        acc.append(lst[i]*2)\n",
    "        res = adouble_helper(lst, i+1, acc, level=level+1)\n",
    "        print(' '*level, 'res=', res)\n",
    "        return res     \n",
    "    \n",
    "def adouble(lst):\n",
    "    return adouble_helper(lst, 0, [])\n",
    "\n",
    "\n",
    "result = adouble([4,9,1,5,7,3])\n",
    "result"
   ]
  },
  {
   "cell_type": "raw",
   "id": "a50dbc4f",
   "metadata": {
    "format": "text/html"
   },
   "source": [
    "</div>"
   ]
  },
  {
   "cell_type": "code",
   "execution_count": 4,
   "id": "68cb7cad-stripped",
   "metadata": {},
   "outputs": [
    {
     "name": "stdout",
     "output_type": "stream",
     "text": [
      " i= 0  acc= []\n",
      "  i= 1  acc= [8]\n",
      "   i= 2  acc= [8, 18]\n",
      "    i= 3  acc= [8, 18, 2]\n",
      "     i= 4  acc= [8, 18, 2, 10]\n",
      "      i= 5  acc= [8, 18, 2, 10, 14]\n",
      "       i= 6  acc= [8, 18, 2, 10, 14, 6]\n",
      "      res= [8, 18, 2, 10, 14, 6]\n",
      "     res= [8, 18, 2, 10, 14, 6]\n",
      "    res= [8, 18, 2, 10, 14, 6]\n",
      "   res= [8, 18, 2, 10, 14, 6]\n",
      "  res= [8, 18, 2, 10, 14, 6]\n",
      " res= [8, 18, 2, 10, 14, 6]\n"
     ]
    },
    {
     "data": {
      "text/plain": [
       "[8, 18, 2, 10, 14, 6]"
      ]
     },
     "execution_count": 4,
     "metadata": {},
     "output_type": "execute_result"
    }
   ],
   "source": [
    "\n",
    "result = adouble([4,9,1,5,7,3])\n",
    "result"
   ]
  },
  {
   "cell_type": "markdown",
   "id": "f7d7fd13",
   "metadata": {},
   "source": [
    "## Exercise - afilter_even\n",
    "\n",
    "Takes a `lst` of numbers, and RETURN a NEW list with only the even numbers"
   ]
  },
  {
   "cell_type": "raw",
   "id": "ca2467ae",
   "metadata": {
    "format": "text/html"
   },
   "source": [
    "<a  class=\"jupman-sol jupman-sol-toggler\" \n",
    " onclick=\"jupman.toggleSolution(this);\" \n",
    " data-jupman-show=\"Show solution\" data-jupman-hide=\"Hide\">Show solution</a><div class=\"jupman-sol jupman-sol-code\" style=\"display:none\">  "
   ]
  },
  {
   "cell_type": "code",
   "execution_count": 5,
   "id": "7fd2328e",
   "metadata": {},
   "outputs": [
    {
     "name": "stdout",
     "output_type": "stream",
     "text": [
      "[10, 4, 8, 6]\n"
     ]
    }
   ],
   "source": [
    "\n",
    "\n",
    "\n",
    "def afilter_even_helper(lst, i, acc):\n",
    "    \n",
    "    if i == len(lst):\n",
    "        return acc\n",
    "    else:\n",
    "        if lst[i] % 2 == 0:\n",
    "            acc.append(lst[i])\n",
    "            return afilter_even_helper(lst, i=i+1, acc=acc)\n",
    "        else:\n",
    "            return afilter_even_helper(lst, i=i+1, acc=acc)\n",
    "\n",
    "\n",
    "def afilter_even(lst):    \n",
    "    \n",
    "    return afilter_even_helper(lst, 0, [])\n",
    "    \n",
    "    \n",
    "result = afilter_even([3,7,10,5,4,8,6,11])\n",
    "print(result)  # [10,4,8,6]\n",
    "\n",
    "assert afilter_even([3]) == []\n",
    "assert afilter_even([4]) == [4]\n",
    "assert afilter_even([3,6]) == [6]\n",
    "assert afilter_even([8,3]) == [8]\n",
    "assert afilter_even([8,3,2]) == [8,2]\n",
    "assert afilter_even([7,7,8,3,2]) == [8,2]\n",
    "assert afilter_even([3,7,10,5,4,8,6,11]) == [10,4,8,6]"
   ]
  },
  {
   "cell_type": "raw",
   "id": "e3f84240",
   "metadata": {
    "format": "text/html"
   },
   "source": [
    "</div>"
   ]
  },
  {
   "cell_type": "code",
   "execution_count": 5,
   "id": "7fd2328e-stripped",
   "metadata": {},
   "outputs": [],
   "source": [
    "\n",
    "\n",
    "\n",
    "\n",
    "def afilter_even(lst):    \n",
    "    raise Exception('TODO IMPLEMENT ME !')\n",
    "    \n",
    "result = afilter_even([3,7,10,5,4,8,6,11])\n",
    "print(result)  # [10,4,8,6]\n",
    "\n",
    "assert afilter_even([3]) == []\n",
    "assert afilter_even([4]) == [4]\n",
    "assert afilter_even([3,6]) == [6]\n",
    "assert afilter_even([8,3]) == [8]\n",
    "assert afilter_even([8,3,2]) == [8,2]\n",
    "assert afilter_even([7,7,8,3,2]) == [8,2]\n",
    "assert afilter_even([3,7,10,5,4,8,6,11]) == [10,4,8,6]"
   ]
  },
  {
   "cell_type": "markdown",
   "id": "f394f30f",
   "metadata": {},
   "source": [
    "## Exercise - amerry\n",
    "\n",
    "Given a `lst` with an even number of elements, RETURN a NEW list holding two element lists with consecutive content taken from the original list."
   ]
  },
  {
   "cell_type": "raw",
   "id": "3367d9ac",
   "metadata": {
    "format": "text/html"
   },
   "source": [
    "<a  class=\"jupman-sol jupman-sol-toggler\" \n",
    " onclick=\"jupman.toggleSolution(this);\" \n",
    " data-jupman-show=\"Show solution\" data-jupman-hide=\"Hide\">Show solution</a><div class=\"jupman-sol jupman-sol-code\" style=\"display:none\">  "
   ]
  },
  {
   "cell_type": "code",
   "execution_count": 6,
   "id": "92529cd9",
   "metadata": {},
   "outputs": [
    {
     "name": "stdout",
     "output_type": "stream",
     "text": [
      "[['a', 'b'], ['c', 'c'], ['a', 'd'], ['b', 'a']]\n"
     ]
    }
   ],
   "source": [
    "\n",
    "\n",
    "\n",
    "def amerry_helper(lst, i, acc):    \n",
    "    if i == len(lst):\n",
    "        return acc\n",
    "    else:\n",
    "        acc.append([lst[i], lst[i+1]])\n",
    "        return  amerry_helper(lst, i+2, acc)\n",
    "\n",
    "\n",
    "def amerry(lst):\n",
    "    \n",
    "    return amerry_helper(lst, 0, [])\n",
    "    \n",
    "    \n",
    "result = amerry(['a','b','c','c','a','d','b','a'])\n",
    "print(result)  # [['a','b'],['c','c'],['a','d'],['b','a']]\n",
    "    \n",
    "assert amerry([]) == []\n",
    "assert amerry(['d','b']) == [['d','b']]\n",
    "assert amerry(['a','a','b','b']) == [['a','a'],['b','b']]\n",
    "assert amerry(['a','b','c','d']) == [['a','b'],['c','d']]\n",
    "assert amerry(['a','b','c','c','a','d','b','a']) == [['a','b'],['c','c'],['a','d'],['b','a']]"
   ]
  },
  {
   "cell_type": "raw",
   "id": "89d44126",
   "metadata": {
    "format": "text/html"
   },
   "source": [
    "</div>"
   ]
  },
  {
   "cell_type": "code",
   "execution_count": 6,
   "id": "92529cd9-stripped",
   "metadata": {},
   "outputs": [],
   "source": [
    "\n",
    "\n",
    "\n",
    "\n",
    "def amerry(lst):\n",
    "    raise Exception('TODO IMPLEMENT ME !')\n",
    "    \n",
    "result = amerry(['a','b','c','c','a','d','b','a'])\n",
    "print(result)  # [['a','b'],['c','c'],['a','d'],['b','a']]\n",
    "    \n",
    "assert amerry([]) == []\n",
    "assert amerry(['d','b']) == [['d','b']]\n",
    "assert amerry(['a','a','b','b']) == [['a','a'],['b','b']]\n",
    "assert amerry(['a','b','c','d']) == [['a','b'],['c','d']]\n",
    "assert amerry(['a','b','c','c','a','d','b','a']) == [['a','b'],['c','c'],['a','d'],['b','a']]"
   ]
  },
  {
   "cell_type": "markdown",
   "id": "1e2942f3",
   "metadata": {},
   "source": [
    "## Exercise - afib\n",
    "\n",
    "Given a number `n`, RETURN a NEW list with all the numbers of Fibonacci sequence:\n",
    "\n",
    "|$n$  | 0| 1| 2| 3| 4| 5| 6| 7| 8| 9| 10|\n",
    "|-----|--|--|--|--|--|--|--|--|--|--|---|\n",
    "|$x_n$| 0| 1| 1| 2| 3| 5| 8|13|21|34|...|\n",
    "\n",
    "Base cases:\n",
    "\n",
    "* $x_0$ = 0\n",
    "* $x_1$ = 1\n",
    "\n",
    "The next number is found by adding up the two numbers before it:\n",
    "\n",
    "- $x_2$ is 0+1\n",
    "- $x_3$ is 1+1\n",
    "- $x_4$ is 2+1\n",
    "- $x_5$ is 3+2\n",
    "- and so on..."
   ]
  },
  {
   "cell_type": "raw",
   "id": "99f9af2a",
   "metadata": {
    "format": "text/html"
   },
   "source": [
    "<a  class=\"jupman-sol jupman-sol-toggler\" \n",
    " onclick=\"jupman.toggleSolution(this);\" \n",
    " data-jupman-show=\"Show solution\" data-jupman-hide=\"Hide\">Show solution</a><div class=\"jupman-sol jupman-sol-code\" style=\"display:none\">  "
   ]
  },
  {
   "cell_type": "code",
   "execution_count": 7,
   "id": "eed55467",
   "metadata": {},
   "outputs": [
    {
     "name": "stdout",
     "output_type": "stream",
     "text": [
      "[0, 1, 1, 2, 3, 5, 8, 13]\n"
     ]
    }
   ],
   "source": [
    "\n",
    "def afib_helper(n, acc):\n",
    "    if n == 0:\n",
    "        acc.append(0)\n",
    "        return acc\n",
    "    elif n == 1:\n",
    "        acc.append(0)\n",
    "        acc.append(1)\n",
    "        return acc\n",
    "    else:\n",
    "        acc = afib_helper(n-1, acc)        \n",
    "        acc.append(acc[n-1] + acc[n-2])\n",
    "        return acc\n",
    "\n",
    "\n",
    "def afib(n):\n",
    "    \n",
    "    return afib_helper(n, [])\n",
    "    \n",
    "\n",
    "result = afib(7) \n",
    "print(result) # [0,1,1,2,3,5,8,13]\n",
    "    \n",
    "assert afib(0) == [0]\n",
    "assert afib(1) == [0,1]\n",
    "assert afib(2) == [0,1,1]\n",
    "assert afib(3) == [0,1,1,2]\n",
    "assert afib(4) == [0,1,1,2,3]\n",
    "assert afib(5) == [0,1,1,2,3,5]\n",
    "assert afib(6) == [0,1,1,2,3,5,8]\n",
    "assert afib(7) == [0,1,1,2,3,5,8,13]"
   ]
  },
  {
   "cell_type": "raw",
   "id": "1f85977b",
   "metadata": {
    "format": "text/html"
   },
   "source": [
    "</div>"
   ]
  },
  {
   "cell_type": "code",
   "execution_count": 7,
   "id": "eed55467-stripped",
   "metadata": {},
   "outputs": [
    {
     "name": "stdout",
     "output_type": "stream",
     "text": [
      "[0, 1, 1, 2, 3, 5, 8, 13]\n"
     ]
    }
   ],
   "source": [
    "\n",
    "\n",
    "def afib(n):\n",
    "    raise Exception('TODO IMPLEMENT ME !')\n",
    "\n",
    "result = afib(7) \n",
    "print(result) # [0,1,1,2,3,5,8,13]\n",
    "    \n",
    "assert afib(0) == [0]\n",
    "assert afib(1) == [0,1]\n",
    "assert afib(2) == [0,1,1]\n",
    "assert afib(3) == [0,1,1,2]\n",
    "assert afib(4) == [0,1,1,2,3]\n",
    "assert afib(5) == [0,1,1,2,3,5]\n",
    "assert afib(6) == [0,1,1,2,3,5,8]\n",
    "assert afib(7) == [0,1,1,2,3,5,8,13]"
   ]
  },
  {
   "cell_type": "markdown",
   "id": "d2ae1e1e",
   "metadata": {},
   "source": [
    "## Exercise - asearch\n",
    "\n",
    "Given an `el` to search and a `lst`, RETURN `True` if such element is present or `False` otherwise\n",
    "\n",
    "- **DO NOT** use `in` operator nor search methods like `.find`, `.index`, ....\n",
    "- you might consider shortening your code by using [Boolean evaluation order](https://en.softpython.org/basics/basics2-bools-sol.html#Evaluation-order)"
   ]
  },
  {
   "cell_type": "raw",
   "id": "52de87f0",
   "metadata": {
    "format": "text/html"
   },
   "source": [
    "<a  class=\"jupman-sol jupman-sol-toggler\" \n",
    " onclick=\"jupman.toggleSolution(this);\" \n",
    " data-jupman-show=\"Show solution\" data-jupman-hide=\"Hide\">Show solution</a><div class=\"jupman-sol jupman-sol-code\" style=\"display:none\">  "
   ]
  },
  {
   "cell_type": "code",
   "execution_count": 8,
   "id": "e08df314",
   "metadata": {},
   "outputs": [
    {
     "name": "stdout",
     "output_type": "stream",
     "text": [
      "True\n",
      "False\n"
     ]
    }
   ],
   "source": [
    "\n",
    "\n",
    "\n",
    "def asearch_helper(el, lst, i):\n",
    "    \n",
    "    if i == len(lst):\n",
    "        return False\n",
    "    else:\n",
    "        return lst[i] == el or asearch_helper(el,lst, i+1)  # early termination using  boolean evaluation order!    \n",
    "    \n",
    "\n",
    "def asearch(el, lst):\n",
    "    \n",
    "    return asearch_helper(el,lst, 0)\n",
    "    \n",
    "    \n",
    "print(asearch(7, [6,4,7,8]))   # True\n",
    "print(asearch(5, [6,4,7,8]))   # False\n",
    "    \n",
    "assert asearch(7, [6,4,7,8]) == True\n",
    "assert asearch(7, [8]) == False\n",
    "assert asearch(8, [8]) == True\n",
    "assert asearch(5, [8,5]) == True\n",
    "assert asearch(2, [8,5]) == False\n",
    "assert asearch(7, [7,8,5]) == True\n",
    "assert asearch(2, [8,2,5]) == True\n",
    "assert asearch(9, [7,8,9]) == True\n",
    "assert asearch(2, [8,9,5]) == False"
   ]
  },
  {
   "cell_type": "raw",
   "id": "5b278ee8",
   "metadata": {
    "format": "text/html"
   },
   "source": [
    "</div>"
   ]
  },
  {
   "cell_type": "code",
   "execution_count": 8,
   "id": "e08df314-stripped",
   "metadata": {},
   "outputs": [],
   "source": [
    "\n",
    "\n",
    "    \n",
    "\n",
    "def asearch(el, lst):\n",
    "    raise Exception('TODO IMPLEMENT ME !')\n",
    "    \n",
    "print(asearch(7, [6,4,7,8]))   # True\n",
    "print(asearch(5, [6,4,7,8]))   # False\n",
    "    \n",
    "assert asearch(7, [6,4,7,8]) == True\n",
    "assert asearch(7, [8]) == False\n",
    "assert asearch(8, [8]) == True\n",
    "assert asearch(5, [8,5]) == True\n",
    "assert asearch(2, [8,5]) == False\n",
    "assert asearch(7, [7,8,5]) == True\n",
    "assert asearch(2, [8,2,5]) == True\n",
    "assert asearch(9, [7,8,9]) == True\n",
    "assert asearch(2, [8,9,5]) == False"
   ]
  },
  {
   "cell_type": "markdown",
   "id": "a8be18de",
   "metadata": {},
   "source": [
    "## Exercise - abin_search\n",
    "\n",
    "If the list is already sorted we can write a faster search. Start looking in the middle of the list: if that cell is the searched element, you're done. Otherwise,  if searched element is lesser do recursion on left sublist, otherwise on right sublist.\n",
    "\n",
    "* `lst` is a list of $n$  **already sorted** elements \n",
    "* **HINT 1**: add indeces parameters `i` and `j` are indeces between `0` included and $n$ **included**\n",
    "* **HINT 2**: keep splitting the search interval in halves until you have a 1 element interval (or empty interval)\n",
    "\n",
    "**DO NOT** use `in` operator, `.find` nor `.index` methods"
   ]
  },
  {
   "cell_type": "raw",
   "id": "20f9352b",
   "metadata": {
    "format": "text/html"
   },
   "source": [
    "<a  class=\"jupman-sol jupman-sol-toggler\" \n",
    " onclick=\"jupman.toggleSolution(this);\" \n",
    " data-jupman-show=\"Show solution\" data-jupman-hide=\"Hide\">Show solution</a><div class=\"jupman-sol jupman-sol-code\" style=\"display:none\">  "
   ]
  },
  {
   "cell_type": "code",
   "execution_count": 9,
   "id": "4767a18a",
   "metadata": {},
   "outputs": [
    {
     "name": "stdout",
     "output_type": "stream",
     "text": [
      "True\n",
      "False\n"
     ]
    }
   ],
   "source": [
    "\n",
    "\n",
    "def abin_search_helper(el, lst, i, j):        \n",
    "    #print('i =', i, ' j =', j)    \n",
    "    interval = j - i\n",
    "    #print('interval =', interval)\n",
    "    k = (i + j) // 2\n",
    "    #print('k =', k)\n",
    "    \n",
    "    if interval <= 0:\n",
    "        return False    \n",
    "    elif el == lst[k]:\n",
    "        return True\n",
    "    #elif interval == 1:\n",
    "    #    return False\n",
    "    elif el < lst[k]:\n",
    "        return abin_search_helper(el, lst, 0, k)\n",
    "    else: # >\n",
    "        return abin_search_helper(el, lst, k+1, j)\n",
    "        \n",
    "        \n",
    "def abin_search(el, lst):\n",
    "    \n",
    "    return abin_search_helper(el, lst, 0, len(lst))\n",
    "    \n",
    "\n",
    "\n",
    "print(abin_search(33, [8,9,15,17,20,24,28,29,33,36,39])) # True\n",
    "print(abin_search(10, [8,9,15,17,20,24,28,29,33,36,39])) # False\n",
    "\n",
    "assert abin_search(5, [5]) == True\n",
    "assert abin_search(4, []) == False\n",
    "assert abin_search(3, [7]) == False\n",
    "assert abin_search(3, [3,7]) == True\n",
    "assert abin_search(3, [3,6]) == True\n",
    "assert abin_search(4, [2,9]) == False\n",
    "assert abin_search(5, [2,9]) == False\n",
    "assert abin_search(5, [5,7,9]) == True\n",
    "assert abin_search(7, [5,7,9]) == True\n",
    "assert abin_search(9, [5,7,9]) == True\n",
    "assert abin_search(4, [5,7,9]) == False\n",
    "assert abin_search(6, [5,7,9]) == False\n",
    "assert abin_search(8, [5,7,9]) == False\n",
    "assert abin_search(10, [5,7,9]) == False\n",
    "assert abin_search(33, [8,9,15,17,20,24,28,29,33,36,39]) == True\n",
    "assert abin_search(10, [8,9,15,17,20,24,28,29,33,36,39]) == False"
   ]
  },
  {
   "cell_type": "raw",
   "id": "17ea6ffc",
   "metadata": {
    "format": "text/html"
   },
   "source": [
    "</div>"
   ]
  },
  {
   "cell_type": "code",
   "execution_count": 9,
   "id": "4767a18a-stripped",
   "metadata": {},
   "outputs": [],
   "source": [
    "\n",
    "        \n",
    "        \n",
    "def abin_search(el, lst):\n",
    "    raise Exception('TODO IMPLEMENT ME !')\n",
    "\n",
    "\n",
    "print(abin_search(33, [8,9,15,17,20,24,28,29,33,36,39])) # True\n",
    "print(abin_search(10, [8,9,15,17,20,24,28,29,33,36,39])) # False\n",
    "\n",
    "assert abin_search(5, [5]) == True\n",
    "assert abin_search(4, []) == False\n",
    "assert abin_search(3, [7]) == False\n",
    "assert abin_search(3, [3,7]) == True\n",
    "assert abin_search(3, [3,6]) == True\n",
    "assert abin_search(4, [2,9]) == False\n",
    "assert abin_search(5, [2,9]) == False\n",
    "assert abin_search(5, [5,7,9]) == True\n",
    "assert abin_search(7, [5,7,9]) == True\n",
    "assert abin_search(9, [5,7,9]) == True\n",
    "assert abin_search(4, [5,7,9]) == False\n",
    "assert abin_search(6, [5,7,9]) == False\n",
    "assert abin_search(8, [5,7,9]) == False\n",
    "assert abin_search(10, [5,7,9]) == False\n",
    "assert abin_search(33, [8,9,15,17,20,24,28,29,33,36,39]) == True\n",
    "assert abin_search(10, [8,9,15,17,20,24,28,29,33,36,39]) == False"
   ]
  },
  {
   "cell_type": "markdown",
   "id": "56e16a6b",
   "metadata": {},
   "source": [
    "## Exercise - azip\n",
    "\n",
    "Given two lists, RETURN a NEW list having couples as tuples with elements taken pairwise from `lst1` and `lst2`\n",
    "\n",
    "* **DO NOT** use `zip` function"
   ]
  },
  {
   "cell_type": "raw",
   "id": "2387fe5b",
   "metadata": {
    "format": "text/html"
   },
   "source": [
    "<a  class=\"jupman-sol jupman-sol-toggler\" \n",
    " onclick=\"jupman.toggleSolution(this);\" \n",
    " data-jupman-show=\"Show solution\" data-jupman-hide=\"Hide\">Show solution</a><div class=\"jupman-sol jupman-sol-code\" style=\"display:none\">  "
   ]
  },
  {
   "cell_type": "code",
   "execution_count": 10,
   "id": "3392acd7",
   "metadata": {},
   "outputs": [
    {
     "name": "stdout",
     "output_type": "stream",
     "text": [
      "[(3, 'a'), (5, 'd'), (1, 'e'), (6, 'w')]\n"
     ]
    }
   ],
   "source": [
    "\n",
    "\n",
    "def azip_helper(lst1, lst2, i, acc):\n",
    "    \n",
    "    if i == len(lst1):\n",
    "        return acc\n",
    "    else:\n",
    "        acc.append((lst1[i], lst2[i]))\n",
    "        return azip_helper(lst1, lst2, i+1, acc)\n",
    "\n",
    "\n",
    "def azip(lst1, lst2):   \n",
    "    \n",
    "    return azip_helper(lst1, lst2, 0, [])\n",
    "    \n",
    "    \n",
    "result = azip([3,5,1,6], ['a','d','e','w'])    \n",
    "print(result)  # [(3,'a'), (5,'d'), (1,'e'), (6,'w')]\n",
    "    \n",
    "assert azip([], []) == []    \n",
    "assert azip(['a'], [0]) == [('a',0)]\n",
    "assert azip(['z','a'], [2,4]) == [('z',2), ('a',4)]\n",
    "assert azip([3,5,1,6], ['a','d','e','w']) == [(3,'a'), (5,'d'), (1,'e'), (6,'w')]"
   ]
  },
  {
   "cell_type": "raw",
   "id": "4b21f75c",
   "metadata": {
    "format": "text/html"
   },
   "source": [
    "</div>"
   ]
  },
  {
   "cell_type": "code",
   "execution_count": 10,
   "id": "3392acd7-stripped",
   "metadata": {},
   "outputs": [],
   "source": [
    "\n",
    "\n",
    "\n",
    "def azip(lst1, lst2):   \n",
    "    raise Exception('TODO IMPLEMENT ME !')\n",
    "    \n",
    "result = azip([3,5,1,6], ['a','d','e','w'])    \n",
    "print(result)  # [(3,'a'), (5,'d'), (1,'e'), (6,'w')]\n",
    "    \n",
    "assert azip([], []) == []    \n",
    "assert azip(['a'], [0]) == [('a',0)]\n",
    "assert azip(['z','a'], [2,4]) == [('z',2), ('a',4)]\n",
    "assert azip([3,5,1,6], ['a','d','e','w']) == [(3,'a'), (5,'d'), (1,'e'), (6,'w')]"
   ]
  },
  {
   "cell_type": "markdown",
   "id": "8cdfb56f",
   "metadata": {},
   "source": [
    "## Exercise - aunnest \n",
    "\n",
    "Given a `lst` of lists, RETURN a NEW list without sublists (also called _shallow unnest_)\n",
    "\n",
    "- assume sublists cannot have further sublists inside"
   ]
  },
  {
   "cell_type": "raw",
   "id": "3ea8dda2",
   "metadata": {
    "format": "text/html"
   },
   "source": [
    "<a  class=\"jupman-sol jupman-sol-toggler\" \n",
    " onclick=\"jupman.toggleSolution(this);\" \n",
    " data-jupman-show=\"Show solution\" data-jupman-hide=\"Hide\">Show solution</a><div class=\"jupman-sol jupman-sol-code\" style=\"display:none\">  "
   ]
  },
  {
   "cell_type": "code",
   "execution_count": 11,
   "id": "aec28ba4",
   "metadata": {},
   "outputs": [
    {
     "name": "stdout",
     "output_type": "stream",
     "text": [
      "[3, 2, 5, 2, 4, 0, 9, 5, 1]\n"
     ]
    }
   ],
   "source": [
    "\n",
    "\n",
    "\n",
    "def aunnest_helper(lst, i, acc):\n",
    "    \n",
    "    if i == len(lst):\n",
    "        return acc\n",
    "    else:\n",
    "        acc.extend(lst[i])\n",
    "        return aunnest_helper(lst, i+1, acc)\n",
    "\n",
    "    \n",
    "def aunnest(lst):\n",
    "    \n",
    "    return aunnest_helper(lst, 0, [])\n",
    "    \n",
    "    \n",
    "result = aunnest([[3,2,5], [2,4], [0,9,5,1]])    \n",
    "print(result)  # [3,2,5,2,4,0,9,5,1]\n",
    "    \n",
    "assert aunnest([]) == []\n",
    "assert aunnest([[]]) == []\n",
    "assert aunnest([[],[]]) == []\n",
    "assert aunnest([[],[4]]) == [4]\n",
    "assert aunnest([[3],[]]) == [3]\n",
    "assert aunnest([[3,2]]) == [3,2]\n",
    "assert aunnest([[3,2]]) == [3,2]\n",
    "assert aunnest([[3,2,5], [2,4], [0,9,5,1]]) == [3,2,5,2,4,0,9,5,1]"
   ]
  },
  {
   "cell_type": "raw",
   "id": "e0cf5261",
   "metadata": {
    "format": "text/html"
   },
   "source": [
    "</div>"
   ]
  },
  {
   "cell_type": "code",
   "execution_count": 11,
   "id": "aec28ba4-stripped",
   "metadata": {},
   "outputs": [],
   "source": [
    "\n",
    "\n",
    "\n",
    "    \n",
    "def aunnest(lst):\n",
    "    raise Exception('TODO IMPLEMENT ME !')\n",
    "    \n",
    "result = aunnest([[3,2,5], [2,4], [0,9,5,1]])    \n",
    "print(result)  # [3,2,5,2,4,0,9,5,1]\n",
    "    \n",
    "assert aunnest([]) == []\n",
    "assert aunnest([[]]) == []\n",
    "assert aunnest([[],[]]) == []\n",
    "assert aunnest([[],[4]]) == [4]\n",
    "assert aunnest([[3],[]]) == [3]\n",
    "assert aunnest([[3,2]]) == [3,2]\n",
    "assert aunnest([[3,2]]) == [3,2]\n",
    "assert aunnest([[3,2,5], [2,4], [0,9,5,1]]) == [3,2,5,2,4,0,9,5,1]"
   ]
  },
  {
   "cell_type": "markdown",
   "id": "0c7de787",
   "metadata": {},
   "source": [
    "## Exercise - arev\n",
    "\n",
    "Given a list, RETURN a NEW list reversed.\n",
    "\n",
    "- **DO NOT** use `reversed` function\n",
    "- **DO NOT** use slice stepping"
   ]
  },
  {
   "cell_type": "raw",
   "id": "653b6851",
   "metadata": {
    "format": "text/html"
   },
   "source": [
    "<a  class=\"jupman-sol jupman-sol-toggler\" \n",
    " onclick=\"jupman.toggleSolution(this);\" \n",
    " data-jupman-show=\"Show solution\" data-jupman-hide=\"Hide\">Show solution</a><div class=\"jupman-sol jupman-sol-code\" style=\"display:none\">  "
   ]
  },
  {
   "cell_type": "code",
   "execution_count": 12,
   "id": "2b526fd4",
   "metadata": {},
   "outputs": [
    {
     "name": "stdout",
     "output_type": "stream",
     "text": [
      "[6, 5, 7, 9, 4]\n"
     ]
    }
   ],
   "source": [
    "\n",
    "\n",
    "def arev_helper(lst, i, acc):    \n",
    "    if i == -1:\n",
    "        return acc\n",
    "    else:\n",
    "        acc.append(lst[i])\n",
    "        return arev_helper(lst, i-1,acc)\n",
    "    \n",
    "    \n",
    "def arev(lst):    \n",
    "    \n",
    "    return arev_helper(lst, len(lst)-1, [])\n",
    "    \n",
    "    \n",
    "result = arev([4,9,7,5,6])\n",
    "print(result)\n",
    "\n",
    "assert arev([]) == []\n",
    "assert arev([3]) == [3]\n",
    "assert arev([5,3]) == [3,5]\n",
    "assert arev([6,6,2]) == [2,6,6]\n",
    "assert arev([4,9,7,5,6]) == [6,5,7,9,4]"
   ]
  },
  {
   "cell_type": "raw",
   "id": "35dad7c9",
   "metadata": {
    "format": "text/html"
   },
   "source": [
    "</div>"
   ]
  },
  {
   "cell_type": "code",
   "execution_count": 12,
   "id": "2b526fd4-stripped",
   "metadata": {},
   "outputs": [],
   "source": [
    "\n",
    "    \n",
    "    \n",
    "def arev(lst):    \n",
    "    raise Exception('TODO IMPLEMENT ME !')\n",
    "    \n",
    "result = arev([4,9,7,5,6])\n",
    "print(result)\n",
    "\n",
    "assert arev([]) == []\n",
    "assert arev([3]) == [3]\n",
    "assert arev([5,3]) == [3,5]\n",
    "assert arev([6,6,2]) == [2,6,6]\n",
    "assert arev([4,9,7,5,6]) == [6,5,7,9,4]"
   ]
  },
  {
   "cell_type": "markdown",
   "id": "88eea617",
   "metadata": {},
   "source": [
    "## Exercise - apalindrome\n",
    "\n",
    "A string is palindrome if it reads the same backward as forward.\n",
    "\n",
    "Given a string `s`, return `True` if the string is palindrome, otherwise return `False`. \n",
    "\n",
    "* we assume the empty string is palindrome\n",
    "* here we use strings but same rules for lists apply\n",
    "* **DO NOT** use string methods (so no `.index()`, `.find()`, ...)"
   ]
  },
  {
   "cell_type": "raw",
   "id": "9c06561a",
   "metadata": {
    "format": "text/html"
   },
   "source": [
    "<a  class=\"jupman-sol jupman-sol-toggler\" \n",
    " onclick=\"jupman.toggleSolution(this);\" \n",
    " data-jupman-show=\"Show solution\" data-jupman-hide=\"Hide\">Show solution</a><div class=\"jupman-sol jupman-sol-code\" style=\"display:none\">  "
   ]
  },
  {
   "cell_type": "code",
   "execution_count": 13,
   "id": "c185e70c",
   "metadata": {},
   "outputs": [],
   "source": [
    "\n",
    "\n",
    "def apalindrome_helper(s, i):    \n",
    "    if i == len(s)//2:\n",
    "        return True\n",
    "    elif i == len(s)//2 + 1:\n",
    "        return True    \n",
    "    else:\n",
    "        if s[i] == s[-i-1]:\n",
    "            return apalindrome_helper(s, i+1)\n",
    "        else:\n",
    "            return False\n",
    "    \n",
    "    \n",
    "def apalindrome(s):\n",
    "    \n",
    "    return apalindrome_helper(s,0)\n",
    "    \n",
    "\n",
    "assert apalindrome('') == True    \n",
    "assert apalindrome('a') == True\n",
    "assert apalindrome('ab') == False\n",
    "assert apalindrome('cc') == True\n",
    "assert apalindrome('ddv') == False\n",
    "assert apalindrome('vddv') == True\n",
    "assert apalindrome('axyb') == False\n",
    "assert apalindrome('kayak') == True\n",
    "assert apalindrome('kayag') == False\n",
    "assert apalindrome('rotator') == True\n",
    "assert apalindrome('rotating') == False\n",
    "assert apalindrome('noon') == True\n",
    "assert apalindrome('soon') == False\n",
    "assert apalindrome('abcdba') == False"
   ]
  },
  {
   "cell_type": "raw",
   "id": "9226a790",
   "metadata": {
    "format": "text/html"
   },
   "source": [
    "</div>"
   ]
  },
  {
   "cell_type": "code",
   "execution_count": 13,
   "id": "c185e70c-stripped",
   "metadata": {},
   "outputs": [],
   "source": [
    "\n",
    "    \n",
    "    \n",
    "def apalindrome(s):\n",
    "    raise Exception('TODO IMPLEMENT ME !')\n",
    "\n",
    "assert apalindrome('') == True    \n",
    "assert apalindrome('a') == True\n",
    "assert apalindrome('ab') == False\n",
    "assert apalindrome('cc') == True\n",
    "assert apalindrome('ddv') == False\n",
    "assert apalindrome('vddv') == True\n",
    "assert apalindrome('axyb') == False\n",
    "assert apalindrome('kayak') == True\n",
    "assert apalindrome('kayag') == False\n",
    "assert apalindrome('rotator') == True\n",
    "assert apalindrome('rotating') == False\n",
    "assert apalindrome('noon') == True\n",
    "assert apalindrome('soon') == False\n",
    "assert apalindrome('abcdba') == False"
   ]
  },
  {
   "cell_type": "markdown",
   "id": "15e0a588",
   "metadata": {},
   "source": [
    "## Exercise - anest\n",
    "\n",
    "Given a `lst`, RETURN a NEW list of deeply right nested lists as in the example\n",
    "\n",
    "* **HINT**: you need to create a new list anyway at each helper call"
   ]
  },
  {
   "cell_type": "raw",
   "id": "b14cf209",
   "metadata": {
    "format": "text/html"
   },
   "source": [
    "<a  class=\"jupman-sol jupman-sol-toggler\" \n",
    " onclick=\"jupman.toggleSolution(this);\" \n",
    " data-jupman-show=\"Show solution\" data-jupman-hide=\"Hide\">Show solution</a><div class=\"jupman-sol jupman-sol-code\" style=\"display:none\">  "
   ]
  },
  {
   "cell_type": "code",
   "execution_count": 14,
   "id": "794bf7ec",
   "metadata": {},
   "outputs": [
    {
     "name": "stdout",
     "output_type": "stream",
     "text": [
      "['a', ['b', ['c', ['d', ['e', ['g', ['h']]]]]]]\n"
     ]
    }
   ],
   "source": [
    "\n",
    "\n",
    "def anest_helper(lst, i, acc):\n",
    "    if i == len(lst):\n",
    "        return acc\n",
    "    elif i == len(lst) - 1:\n",
    "        acc.append(lst[i])\n",
    "        return acc\n",
    "    else:\n",
    "        acc.append(lst[i])\n",
    "        res = anest_helper(lst, i+1, []) # we need to create a NEW list anyway\n",
    "        acc.append(res)        \n",
    "        return acc\n",
    "    \n",
    "\n",
    "def anest(lst):\n",
    "    \n",
    "    return anest_helper(lst, 0, [])\n",
    "    \n",
    "    \n",
    "result = anest(['a','b','c','d','e','g','h'])     \n",
    "print(result)  # ['a',['b',['c',['d',['e',['g',['h']]]]]]]\n",
    "    \n",
    "assert anest([]) == []\n",
    "assert anest(['a']) == ['a']\n",
    "assert anest(['a','b']) == ['a',['b']]\n",
    "assert anest(['a','b','c']) == ['a',['b',['c']]]\n",
    "assert anest(['x','x','y']) == ['x',['x',['y']]]\n",
    "assert anest(['a','b','c','d','e','g','h']) == ['a',['b',['c',['d',['e',['g',['h']]]]]]]"
   ]
  },
  {
   "cell_type": "raw",
   "id": "c69d72cb",
   "metadata": {
    "format": "text/html"
   },
   "source": [
    "</div>"
   ]
  },
  {
   "cell_type": "code",
   "execution_count": 14,
   "id": "794bf7ec-stripped",
   "metadata": {},
   "outputs": [],
   "source": [
    "\n",
    "    \n",
    "\n",
    "def anest(lst):\n",
    "    raise Exception('TODO IMPLEMENT ME !')\n",
    "    \n",
    "result = anest(['a','b','c','d','e','g','h'])     \n",
    "print(result)  # ['a',['b',['c',['d',['e',['g',['h']]]]]]]\n",
    "    \n",
    "assert anest([]) == []\n",
    "assert anest(['a']) == ['a']\n",
    "assert anest(['a','b']) == ['a',['b']]\n",
    "assert anest(['a','b','c']) == ['a',['b',['c']]]\n",
    "assert anest(['x','x','y']) == ['x',['x',['y']]]\n",
    "assert anest(['a','b','c','d','e','g','h']) == ['a',['b',['c',['d',['e',['g',['h']]]]]]]"
   ]
  },
  {
   "cell_type": "markdown",
   "id": "ad551b6b",
   "metadata": {},
   "source": [
    "## Exercise - apalace\n",
    "\n",
    "Given a `lst` of characters, RETURN a NEW list of deeply nested lists as in the example.\n",
    "\n",
    "* Pay attention to base cases, there are several\n",
    "* **HINT**: you need to create a new list anyway at each helper call"
   ]
  },
  {
   "cell_type": "raw",
   "id": "62f898d9",
   "metadata": {
    "format": "text/html"
   },
   "source": [
    "<a  class=\"jupman-sol jupman-sol-toggler\" \n",
    " onclick=\"jupman.toggleSolution(this);\" \n",
    " data-jupman-show=\"Show solution\" data-jupman-hide=\"Hide\">Show solution</a><div class=\"jupman-sol jupman-sol-code\" style=\"display:none\">  "
   ]
  },
  {
   "cell_type": "code",
   "execution_count": 15,
   "id": "4508af82",
   "metadata": {},
   "outputs": [
    {
     "name": "stdout",
     "output_type": "stream",
     "text": [
      "['a', ['b', ['c', ['d', ['e'], 'f'], 'g'], 'h'], 'i']\n"
     ]
    }
   ],
   "source": [
    "\n",
    "\n",
    "\n",
    "def apalace_helper(lst, i, acc):\n",
    "    if len(lst) == 0:\n",
    "        return acc\n",
    "    elif i == len(lst)//2 + 1:\n",
    "        return acc    \n",
    "    elif i == len(lst)//2:\n",
    "        acc.append(lst[i])\n",
    "        return acc\n",
    "    elif i == len(lst) - 2:\n",
    "        acc.append(lst[i])\n",
    "        acc.append(lst[i+1])\n",
    "        return acc\n",
    "    else:        \n",
    "        acc.append(lst[i])\n",
    "        res = apalace_helper(lst, i+1, [])  # we need to create a NEW list anyway\n",
    "        acc.append(res)\n",
    "        acc.append(lst[-i-1])        \n",
    "        return acc\n",
    "\n",
    "\n",
    "def apalace(lst):\n",
    "    \n",
    "    return apalace_helper(lst,0,[])\n",
    "        \n",
    "    \n",
    "result = apalace(['a','b','c','d','e','f','g','h','i']) \n",
    "print(result)   # ['a', ['b', ['c', ['d', ['e'], 'f'], 'g'], 'h'], 'i']     \n",
    "    \n",
    "assert apalace([])  == []     \n",
    "assert apalace(['a'])  == ['a']\n",
    "assert apalace(['a','b'])  == ['a','b']\n",
    "assert apalace(['b','a'])  == ['b','a']\n",
    "assert apalace(['c','b','a'])  == ['c',['b'],'a']\n",
    "assert apalace(['z','w','z'])  == ['z',['w'],'z']\n",
    "assert apalace(['p','x','y','z','q'])  == ['p',['x',['y'],'z'],'q']\n",
    "assert apalace(['a','b','c','d','e','f','g','h','i'])  == ['a', ['b', ['c', ['d', ['e'], 'f'], 'g'], 'h'], 'i'] "
   ]
  },
  {
   "cell_type": "raw",
   "id": "968f8340",
   "metadata": {
    "format": "text/html"
   },
   "source": [
    "</div>"
   ]
  },
  {
   "cell_type": "code",
   "execution_count": 15,
   "id": "4508af82-stripped",
   "metadata": {},
   "outputs": [],
   "source": [
    "\n",
    "\n",
    "\n",
    "\n",
    "def apalace(lst):\n",
    "    raise Exception('TODO IMPLEMENT ME !')    \n",
    "    \n",
    "result = apalace(['a','b','c','d','e','f','g','h','i']) \n",
    "print(result)   # ['a', ['b', ['c', ['d', ['e'], 'f'], 'g'], 'h'], 'i']     \n",
    "    \n",
    "assert apalace([])  == []     \n",
    "assert apalace(['a'])  == ['a']\n",
    "assert apalace(['a','b'])  == ['a','b']\n",
    "assert apalace(['b','a'])  == ['b','a']\n",
    "assert apalace(['c','b','a'])  == ['c',['b'],'a']\n",
    "assert apalace(['z','w','z'])  == ['z',['w'],'z']\n",
    "assert apalace(['p','x','y','z','q'])  == ['p',['x',['y'],'z'],'q']\n",
    "assert apalace(['a','b','c','d','e','f','g','h','i'])  == ['a', ['b', ['c', ['d', ['e'], 'f'], 'g'], 'h'], 'i'] "
   ]
  },
  {
   "cell_type": "markdown",
   "id": "dcd90f67",
   "metadata": {},
   "source": [
    "## Exercise - arep\n",
    "\n",
    "Given a list `la`, and a list `lb` of integer numbers $\\geq 0$, RETURN a NEW list where all elements of `la` are repeated the amount of times indicated in the corresponding cell of `lb`\n",
    "\n",
    "* assume `la` and `lb` have the same size\n",
    "* **DO NOT** use `*` replication operator\n",
    "* **HINT**: you will need an additional parameter `k` in the helper to keep track of the amount of repetitions left"
   ]
  },
  {
   "cell_type": "raw",
   "id": "6437e8f7",
   "metadata": {
    "format": "text/html"
   },
   "source": [
    "<a  class=\"jupman-sol jupman-sol-toggler\" \n",
    " onclick=\"jupman.toggleSolution(this);\" \n",
    " data-jupman-show=\"Show solution\" data-jupman-hide=\"Hide\">Show solution</a><div class=\"jupman-sol jupman-sol-code\" style=\"display:none\">  "
   ]
  },
  {
   "cell_type": "code",
   "execution_count": 16,
   "id": "f702c00f",
   "metadata": {},
   "outputs": [
    {
     "name": "stdout",
     "output_type": "stream",
     "text": [
      "['a', 'a', 'b', 'b', 'b', 'b', 'b', 'd', 'd', 'd']\n"
     ]
    }
   ],
   "source": [
    "\n",
    "\n",
    "def arep_helper(la, lb, i, k, acc):\n",
    "    if i == len(la):\n",
    "        return acc\n",
    "    elif k > 0:\n",
    "        acc.append(la[i])\n",
    "        return arep_helper(la, lb, i, k-1, acc)        \n",
    "    else:  # k == 0\n",
    "        if i + 1 < len(la):            \n",
    "            return arep_helper(la, lb, i+1, lb[i+1], acc)\n",
    "        else:\n",
    "            return acc\n",
    "\n",
    "\n",
    "def arep(la, lb):\n",
    "    \n",
    "    if len(la) == 0:\n",
    "        return []\n",
    "    else:        \n",
    "        return arep_helper(la,lb,0,lb[0],[])\n",
    "    \n",
    "    \n",
    "result = arep(['a','b','c','d'], [2,5,0,3]) \n",
    "print(result) # ['a','a','b','b','b','b','b','d','d','d']    \n",
    "    \n",
    "assert arep([], []) == []\n",
    "assert arep(['a'], [1]) == ['a']\n",
    "assert arep(['a'], [0]) == []\n",
    "assert arep(['b'], [2]) == ['b','b']\n",
    "assert arep(['a','b'], [1,1]) == ['a','b']\n",
    "assert arep(['a','b'], [1,2]) == ['a','b','b']\n",
    "assert arep(['a','b'], [2,1]) == ['a','a','b']\n",
    "assert arep(['a','b'], [2,0]) == ['a','a']\n",
    "assert arep(['a','b'], [0,2]) == ['b','b']\n",
    "assert arep(['a','b','c'], [1,1,1]) == ['a','b','c']\n",
    "assert arep(['a','b','c'], [0,1,1]) == ['b','c']\n",
    "assert arep(['a','b','c'], [0,1,0]) == ['b']\n",
    "assert arep(['a','b','c'], [3,1,2]) == ['a','a','a','b','c','c']\n",
    "assert arep(['a','b','c','d'], [2,5,0,3]) == ['a','a','b','b','b','b','b','d','d','d']"
   ]
  },
  {
   "cell_type": "raw",
   "id": "b836ed9c",
   "metadata": {
    "format": "text/html"
   },
   "source": [
    "</div>"
   ]
  },
  {
   "cell_type": "code",
   "execution_count": 16,
   "id": "f702c00f-stripped",
   "metadata": {},
   "outputs": [],
   "source": [
    "\n",
    "\n",
    "\n",
    "def arep(la, lb):\n",
    "    raise Exception('TODO IMPLEMENT ME !')\n",
    "    \n",
    "result = arep(['a','b','c','d'], [2,5,0,3]) \n",
    "print(result) # ['a','a','b','b','b','b','b','d','d','d']    \n",
    "    \n",
    "assert arep([], []) == []\n",
    "assert arep(['a'], [1]) == ['a']\n",
    "assert arep(['a'], [0]) == []\n",
    "assert arep(['b'], [2]) == ['b','b']\n",
    "assert arep(['a','b'], [1,1]) == ['a','b']\n",
    "assert arep(['a','b'], [1,2]) == ['a','b','b']\n",
    "assert arep(['a','b'], [2,1]) == ['a','a','b']\n",
    "assert arep(['a','b'], [2,0]) == ['a','a']\n",
    "assert arep(['a','b'], [0,2]) == ['b','b']\n",
    "assert arep(['a','b','c'], [1,1,1]) == ['a','b','c']\n",
    "assert arep(['a','b','c'], [0,1,1]) == ['b','c']\n",
    "assert arep(['a','b','c'], [0,1,0]) == ['b']\n",
    "assert arep(['a','b','c'], [3,1,2]) == ['a','a','a','b','c','c']\n",
    "assert arep(['a','b','c','d'], [2,5,0,3]) == ['a','a','b','b','b','b','b','d','d','d']"
   ]
  },
  {
   "cell_type": "markdown",
   "id": "a8ccdc8d",
   "metadata": {},
   "source": [
    "## Exercise - asortin\n",
    "\n",
    "Given two **already sorted** lists `la` and `lb` of arbitrary sizes, return `True` if all numbers of `la` are present in `lb`\n",
    "\n",
    "- assume empty list is always contained in any list\n",
    "- **DO NOT** use search methods (`find()`, `index()`, ...)\n",
    "- **HINT 1**: compare list heads one at a time, try thinking when you can return early\n",
    "- **HINT 2**: you will need a couple of indexes in the helper (you don't need an accumulator)"
   ]
  },
  {
   "cell_type": "raw",
   "id": "b92b70ef",
   "metadata": {
    "format": "text/html"
   },
   "source": [
    "<a  class=\"jupman-sol jupman-sol-toggler\" \n",
    " onclick=\"jupman.toggleSolution(this);\" \n",
    " data-jupman-show=\"Show solution\" data-jupman-hide=\"Hide\">Show solution</a><div class=\"jupman-sol jupman-sol-code\" style=\"display:none\">  "
   ]
  },
  {
   "cell_type": "code",
   "execution_count": 17,
   "id": "3e68a7de",
   "metadata": {},
   "outputs": [],
   "source": [
    "\n",
    "\n",
    "def asortin_helper(la, lb, i, j):    \n",
    "    if i == len(la):\n",
    "        return True\n",
    "    elif j == len(lb):\n",
    "        return False\n",
    "    elif la[i] < lb[j]:\n",
    "        return False\n",
    "    elif la[i] > lb[j]:\n",
    "        return asortin_helper(la, lb, i, j+1)\n",
    "    else:   # l[i] == lb[j]\n",
    "        return asortin_helper(la, lb, i+1, j)\n",
    "    \n",
    "    \n",
    "def asortin(la, lb):\n",
    "    \n",
    "   \n",
    "    return asortin_helper(la,lb,0,0)\n",
    "    \n",
    "    \n",
    "assert asortin([], []) == True        \n",
    "assert asortin([], [4,5,8,1]) == True    \n",
    "assert asortin([5], [5]) == True    \n",
    "assert asortin([5], [6]) == False\n",
    "assert asortin([3], [3,8]) == True\n",
    "assert asortin([8], [3,8]) == True\n",
    "assert asortin([2], [3,8]) == False\n",
    "assert asortin([7,9], [7,9]) == True\n",
    "assert asortin([7,9], [3,7,9]) == True\n",
    "assert asortin([7,9], [7,8,9]) == True\n",
    "assert asortin([7,9], [7,9,10]) == True\n",
    "assert asortin([5,8], [2,8]) == False\n",
    "assert asortin([5,8], [5,6]) == False\n",
    "assert asortin([5,8], [2,4,8]) == False\n",
    "assert asortin([5,8], [4,5,7]) == False\n",
    "assert asortin([3,5,6], [3,5,6]) == True\n",
    "assert asortin([3,5,6], [3,4,5,6]) == True\n",
    "assert asortin([3,5,6], [3,5,6,7]) == True\n",
    "assert asortin([4,6,11], [1,3,4,5,6,7,8,10,11,12]) == True"
   ]
  },
  {
   "cell_type": "raw",
   "id": "dd29f3d8",
   "metadata": {
    "format": "text/html"
   },
   "source": [
    "</div>"
   ]
  },
  {
   "cell_type": "code",
   "execution_count": 17,
   "id": "3e68a7de-stripped",
   "metadata": {},
   "outputs": [],
   "source": [
    "\n",
    "    \n",
    "    \n",
    "def asortin(la, lb):\n",
    "    raise Exception('TODO IMPLEMENT ME !')\n",
    "    \n",
    "assert asortin([], []) == True        \n",
    "assert asortin([], [4,5,8,1]) == True    \n",
    "assert asortin([5], [5]) == True    \n",
    "assert asortin([5], [6]) == False\n",
    "assert asortin([3], [3,8]) == True\n",
    "assert asortin([8], [3,8]) == True\n",
    "assert asortin([2], [3,8]) == False\n",
    "assert asortin([7,9], [7,9]) == True\n",
    "assert asortin([7,9], [3,7,9]) == True\n",
    "assert asortin([7,9], [7,8,9]) == True\n",
    "assert asortin([7,9], [7,9,10]) == True\n",
    "assert asortin([5,8], [2,8]) == False\n",
    "assert asortin([5,8], [5,6]) == False\n",
    "assert asortin([5,8], [2,4,8]) == False\n",
    "assert asortin([5,8], [4,5,7]) == False\n",
    "assert asortin([3,5,6], [3,5,6]) == True\n",
    "assert asortin([3,5,6], [3,4,5,6]) == True\n",
    "assert asortin([3,5,6], [3,5,6,7]) == True\n",
    "assert asortin([4,6,11], [1,3,4,5,6,7,8,10,11,12]) == True"
   ]
  },
  {
   "cell_type": "markdown",
   "id": "6fc2cce5",
   "metadata": {},
   "source": [
    "## Exercise - ahist\n",
    "\n",
    "Given a `lst`, RETURN a NEW dictionary with the counts of elements of `lst`\n",
    "\n",
    "* **DO NOT** use search methods (`.index`, `.count`, `.remove`...)"
   ]
  },
  {
   "cell_type": "raw",
   "id": "0b5ee220",
   "metadata": {
    "format": "text/html"
   },
   "source": [
    "<a  class=\"jupman-sol jupman-sol-toggler\" \n",
    " onclick=\"jupman.toggleSolution(this);\" \n",
    " data-jupman-show=\"Show solution\" data-jupman-hide=\"Hide\">Show solution</a><div class=\"jupman-sol jupman-sol-code\" style=\"display:none\">  "
   ]
  },
  {
   "cell_type": "code",
   "execution_count": 18,
   "id": "34a803db",
   "metadata": {},
   "outputs": [
    {
     "name": "stdout",
     "output_type": "stream",
     "text": [
      "{'a': 3, 'b': 4, 'c': 3, 'd': 1}\n"
     ]
    }
   ],
   "source": [
    "\n",
    "\n",
    "def ahist_helper(lst, i, acc):    \n",
    "    if i == len(lst):\n",
    "        return acc\n",
    "    else:\n",
    "        if lst[i] in acc:\n",
    "            acc[lst[i]] += 1\n",
    "        else:\n",
    "            acc[lst[i]] = 1\n",
    "        return ahist_helper(lst, i+1, acc)\n",
    "\n",
    "\n",
    "def ahist(lst):\n",
    "    \n",
    "    return ahist_helper(lst, 0, {})\n",
    "    \n",
    "\n",
    "result = ahist(['a','b','a','c','b','b','c','a','b','c','d'])\n",
    "print(result)  # {'a':3,\n",
    "               #  'b':4,\n",
    "               #  'c':3,\n",
    "               #  'd':1}    \n",
    "\n",
    "assert ahist([]) == {}\n",
    "assert ahist(['a']) == {'a':1}\n",
    "assert ahist(['a','a']) == {'a':2}\n",
    "assert ahist(['a','b']) == {'a':1,\n",
    "                            'b':1}\n",
    "assert ahist(['b','c']) == {'c':1,\n",
    "                            'b':1}\n",
    "assert ahist(['a','c','a']) == {'a':2,\n",
    "                                'c':1}\n",
    "assert ahist(['c','c','a']) == {'a':1,\n",
    "                                'c':2}\n",
    "assert ahist(['a','b','a','c','b','b','c','a','b','c','d']) == {'a':3,\n",
    "                                                                'b':4,\n",
    "                                                                'c':3,\n",
    "                                                                'd':1}"
   ]
  },
  {
   "cell_type": "raw",
   "id": "318e79dc",
   "metadata": {
    "format": "text/html"
   },
   "source": [
    "</div>"
   ]
  },
  {
   "cell_type": "code",
   "execution_count": 18,
   "id": "34a803db-stripped",
   "metadata": {},
   "outputs": [],
   "source": [
    "\n",
    "\n",
    "\n",
    "def ahist(lst):\n",
    "    raise Exception('TODO IMPLEMENT ME !')\n",
    "\n",
    "result = ahist(['a','b','a','c','b','b','c','a','b','c','d'])\n",
    "print(result)  # {'a':3,\n",
    "               #  'b':4,\n",
    "               #  'c':3,\n",
    "               #  'd':1}    \n",
    "\n",
    "assert ahist([]) == {}\n",
    "assert ahist(['a']) == {'a':1}\n",
    "assert ahist(['a','a']) == {'a':2}\n",
    "assert ahist(['a','b']) == {'a':1,\n",
    "                            'b':1}\n",
    "assert ahist(['b','c']) == {'c':1,\n",
    "                            'b':1}\n",
    "assert ahist(['a','c','a']) == {'a':2,\n",
    "                                'c':1}\n",
    "assert ahist(['c','c','a']) == {'a':1,\n",
    "                                'c':2}\n",
    "assert ahist(['a','b','a','c','b','b','c','a','b','c','d']) == {'a':3,\n",
    "                                                                'b':4,\n",
    "                                                                'c':3,\n",
    "                                                                'd':1}"
   ]
  },
  {
   "cell_type": "markdown",
   "id": "928de9a0",
   "metadata": {},
   "source": [
    "## Exercise - agap\n",
    "\n",
    "In a list $L$ containing $n≥2$ integers, a gap is an index $i$, $0< i < n$, such that $L[i−1]< L[i]$\n",
    "\n",
    "If $n≥2$ and $L[0]< L[n−1]$, $L$ contains at least one gap.\n",
    "\n",
    "Design an algorithm that, given a  list $L$ containing $n≥2$ integers such that $L[0]< L[n−1]$, finds a gap in the list.\n",
    "\n",
    "We wrote here the `gap` function as pseudocode, try coding it in Python:\n",
    "    \n",
    "![recursive gap jiuiu9](img/recursive-gap.png)"
   ]
  },
  {
   "cell_type": "markdown",
   "id": "8e1b82ea",
   "metadata": {},
   "source": [
    "Use the following skeleton and add some test. To understand what's going on, try copy-pasting in [Python tutor](http://pythontutor.com/visualize.html#mode=edit)"
   ]
  },
  {
   "cell_type": "markdown",
   "id": "a5781cd0",
   "metadata": {},
   "source": [
    "<div class=\"alert alert-warning\">\n",
    "\n",
    "**CAREFUL ABOUT** `agap` **ASSUMPTIONS!**\n",
    "    \n",
    "The specification of `agap` assumes the input is always a list of at least two elements, and that the first element is less or equal than the last one. _If these conditions are not met, function behaviour could be completely erroneus!_\n",
    "</div>"
   ]
  },
  {
   "cell_type": "markdown",
   "id": "d1237ad5",
   "metadata": {},
   "source": [
    "When preconditions are not met, execution could stop because of an error like index out of bounds, or, even worse, we might get back some wrong index as a gap! To prevent misuse of the function, a good idea can be putting a check at the beginning of the `agap` function. Such check should immediately stop the execution and raise an error if the parameters don't satisfy the preconditions. One way to do this could be adding some [assertion](https://sciprog.davidleoni.it/testing/testing.html#Assertions) that will make python interrupt execution and throw an error as soon it detects list `L` is too small or with wrong values\n",
    "* This kind of behaviour is also called _fail fast_, which is better than returning wrong values! \n",
    "* You can put any condition you want after `assert`, but ideally they should be fast to execute.\n",
    "* asserts might be better here than `raise Exception` constructs because asserts can be disabled with a flag passed to the interpreter. So, when you debug you can take advantage of them, and when the code is production quality and supposed to be bug free you can disable all assertions at once to gain in execution speed.\n"
   ]
  },
  {
   "cell_type": "markdown",
   "id": "8a585ee9",
   "metadata": {},
   "source": [
    "<div class=\"alert alert-info\">\n",
    "\n",
    "**GOOD PRACTICE**: Notice we wrote what the helper function is expected to receive as a comment. Writing down specs often helps understanding what the function is supposed to do, and helps users of your code as well!\n",
    "</div>\n",
    "\n"
   ]
  },
  {
   "cell_type": "markdown",
   "id": "9d07d33f",
   "metadata": {},
   "source": [
    "<div class=\"alert alert-info\" >\n",
    "    \n",
    "[VII COMMANDMENT](https://en.softpython.org/commandments.html#VII-COMMANDMENT): You shall also write on paper!\n",
    "</div>"
   ]
  },
  {
   "cell_type": "markdown",
   "id": "f666f90c",
   "metadata": {},
   "source": [
    "To get an idea of how `agap` is working, draw histograms on paper like the following, with different heights at index `m`:"
   ]
  },
  {
   "cell_type": "markdown",
   "id": "e41a0d69",
   "metadata": {},
   "source": [
    "![gap rec histogram 098983ju](img/gap-rec-histogram.png)"
   ]
  },
  {
   "cell_type": "markdown",
   "id": "f660c24a",
   "metadata": {},
   "source": [
    "Notice how at each recursive call, we end up with a histogram that is similar to the inital one, that is, it respects the same preconditions (a list of size $\\geq 2$ where first element is smaller or equal than the last one)"
   ]
  },
  {
   "cell_type": "raw",
   "id": "4c3ddae7",
   "metadata": {
    "format": "text/html"
   },
   "source": [
    "<a  class=\"jupman-sol jupman-sol-toggler\" \n",
    " onclick=\"jupman.toggleSolution(this);\" \n",
    " data-jupman-show=\"Show solution\" data-jupman-hide=\"Hide\">Show solution</a><div class=\"jupman-sol jupman-sol-code\" style=\"display:none\">  "
   ]
  },
  {
   "cell_type": "code",
   "execution_count": 19,
   "id": "3f724d65",
   "metadata": {},
   "outputs": [],
   "source": [
    "\n",
    "def agap_helper(L, i, j):\n",
    "    \n",
    "    if j == i+1:\n",
    "        return j\n",
    "    else:\n",
    "        m = (i+j) // 2\n",
    "        if L[m] < L[j]:\n",
    "            return agap_helper(L,m,j)\n",
    "        else:\n",
    "            return agap_helper(L,i,m)        \n",
    "    \n",
    "\n",
    "def agap(L):\n",
    "    \n",
    "    assert len(L) >= 2\n",
    "    assert L[0] <= L[len(L)-1]\n",
    "    return agap_helper(L, 0, len(L) - 1)\n",
    "    \n",
    "    \n",
    "\n",
    "\n",
    "    \n",
    "# try also to write asserts\n"
   ]
  },
  {
   "cell_type": "raw",
   "id": "cb27ecb9",
   "metadata": {
    "format": "text/html"
   },
   "source": [
    "</div>"
   ]
  },
  {
   "cell_type": "code",
   "execution_count": 19,
   "id": "3f724d65-stripped",
   "metadata": {},
   "outputs": [],
   "source": [
    "\n",
    "def agap_helper(L, i, j):\n",
    "    raise Exception('TODO IMPLEMENT ME !')\n",
    "\n",
    "def agap(L):\n",
    "    raise Exception('TODO IMPLEMENT ME !')\n",
    "    \n",
    "\n",
    "\n",
    "    \n",
    "# try also to write asserts\n"
   ]
  },
  {
   "cell_type": "markdown",
   "id": "43e6bae8",
   "metadata": {},
   "source": [
    "## Continue\n",
    "\n",
    "Go on with [divide and conquer strategy](https://sciprog.davidleoni.it/recursion/recursion3-divide.html)"
   ]
  }
 ],
 "metadata": {
  "kernelspec": {
   "display_name": "Python 3 (ipykernel)",
   "language": "python",
   "name": "python3"
  },
  "language_info": {
   "codemirror_mode": {
    "name": "ipython",
    "version": 3
   },
   "file_extension": ".py",
   "mimetype": "text/x-python",
   "name": "python",
   "nbconvert_exporter": "python",
   "pygments_lexer": "ipython3",
   "version": "3.7.10"
  },
  "toc": {
   "base_numbering": 1,
   "nav_menu": {},
   "number_sections": false,
   "sideBar": true,
   "skip_h1_title": false,
   "title_cell": "Table of Contents",
   "title_sidebar": "Contents",
   "toc_cell": false,
   "toc_position": {},
   "toc_section_display": true,
   "toc_window_display": true
  }
 },
 "nbformat": 4,
 "nbformat_minor": 5
}
