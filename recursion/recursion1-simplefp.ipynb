{
 "cells": [
  {
   "cell_type": "code",
   "execution_count": 1,
   "id": "853babbe-stripped",
   "metadata": {
    "nbsphinx": "hidden"
   },
   "outputs": [],
   "source": [],
   "transient": {
    "remove_source": true
   }
  },
  {
   "cell_type": "markdown",
   "id": "three-legislation",
   "metadata": {},
   "source": [
    "# Recursion 1 - Simple functional programming"
   ]
  },
  {
   "cell_type": "markdown",
   "id": "innovative-caribbean",
   "metadata": {},
   "source": [
    "In the past, you looped with `for` and `while` cycles: everything was so easy back then.\n",
    "\n",
    "Today you're gonna try a new thing called _recursion_. \n",
    "\n",
    "**References**: \n",
    "\n",
    "- [Andrea Passerini slides on programming paradigms](http://disi.unitn.it/~passerini/teaching/2021-2022/sci-pro/slides/A09-oop.pdf)\n",
    "- [Andrea Passerini slides on recursion theory](http://disi.unitn.it/~passerini/teaching/2021-2022/sci-pro/slides/A06-recursion.pdf)"
   ]
  },
  {
   "cell_type": "markdown",
   "id": "1220df9b",
   "metadata": {},
   "source": [
    "\n",
    "[Functional programming paradigm](https://en.wikipedia.org/wiki/Functional_programming) heavily relies upon recursion and is becoming quite popular (you will probably need using it during the master), so let's gain some basic understanding of its principles.  \n",
    "\n",
    "In a purely functional programming paradigm:\n",
    "\n",
    "- functions behave as mathematical ones: they always take some parameter and always return NEW data or pointers to (parts of) original input, without ever changing it\n",
    "- variables can be assigned only once\n",
    "- all looping is done via recursion\n",
    "- side effects are not allowed (will talk more about them later)\n",
    "\n",
    "Python was not designed to fully support functional programming, so if we adhere to its strictest  principles we will end up with inefficient code. Why whould we bother, then? The bright side is that by limiting what we can do we can focus on the _logic_ of recursion, without caring about performance issues (we will deal with them later).\n",
    "\n",
    "So first you will try to develop some functions in _SimpleFP_, a purely functional programming style we just invented for these worksheets."
   ]
  },
  {
   "cell_type": "markdown",
   "id": "1d7fec8f",
   "metadata": {},
   "source": [
    "### SimpleFP - how-to\n",
    "\n",
    "In this section we ask you to devise algorithms in which you:\n",
    "\n",
    "* never mutate data\n",
    "* always RETURN NEW data or pointers to (part of) input\n",
    "* assign variables only once\n",
    "* always return from each branch of functions\n",
    "* never use side-effects inside functions: a side-effect is something that is independent from function parameters and/or  modifies the environment without storing reusable values in memory. Examples:\n",
    "    * getting the current time or interactively asking `input` from the user implies a different result at each execution\n",
    "    * calling `print` only illuminates pixels on the screen without storing resuable values in memory.\n",
    "\n",
    "Your code is allowed to:\n",
    "    \n",
    "* be inefficient, both in memory and execution time\n",
    "* hit recursion stack limits imposed by Python: since we will only test with small data in practice this shouldn't happen anyway"
   ]
  },
  {
   "cell_type": "markdown",
   "id": "4a927e8d",
   "metadata": {},
   "source": [
    "### SimpleFP - variable assignment\n",
    "\n",
    "Assign variables **only once**.\n",
    "\n",
    "Avoid:"
   ]
  },
  {
   "cell_type": "code",
   "execution_count": 2,
   "id": "f191bafa",
   "metadata": {},
   "outputs": [],
   "source": [
    "x = 3\n",
    "x = x + 1  # don't"
   ]
  },
  {
   "cell_type": "markdown",
   "id": "b559794e",
   "metadata": {},
   "source": [
    "Instead, feel free to create new variables at will:"
   ]
  },
  {
   "cell_type": "code",
   "execution_count": 3,
   "id": "6cc30177",
   "metadata": {},
   "outputs": [],
   "source": [
    "x = 3\n",
    "y = x + 1   # ok"
   ]
  },
  {
   "cell_type": "markdown",
   "id": "48e2081b",
   "metadata": {},
   "source": [
    "### SimpleFP - list creation\n",
    "\n",
    "To create new list, use boxing, concatenation or slicing."
   ]
  },
  {
   "cell_type": "markdown",
   "id": "fd323fdd",
   "metadata": {},
   "source": [
    "### SimpleFP - boxing\n",
    "\n",
    "- wrap one or more objects with `[`, `]`"
   ]
  },
  {
   "cell_type": "code",
   "execution_count": 4,
   "id": "2abfe290",
   "metadata": {},
   "outputs": [],
   "source": [
    "la = ['a']          # list of one element\n",
    "lb = ['a','b','c']  # list of n elements"
   ]
  },
  {
   "cell_type": "markdown",
   "id": "6cddd830",
   "metadata": {},
   "source": [
    "### SimpleFP - concatenation \n",
    "\n",
    "To join two lists only use `+` operator,  which creates a NEW list.\n",
    "\n",
    "Avoid methods which modify lists:"
   ]
  },
  {
   "cell_type": "code",
   "execution_count": 5,
   "id": "e21e8574",
   "metadata": {},
   "outputs": [],
   "source": [
    "lst = ['a','b']\n",
    "lst.append('c')       # don't, it's mutating lst\n",
    "lst.append('d')\n",
    "lst.extend(['c','d']) # don't, it's mutating lst"
   ]
  },
  {
   "cell_type": "markdown",
   "id": "1ff8cda3",
   "metadata": {},
   "source": [
    "Instead, do:"
   ]
  },
  {
   "cell_type": "code",
   "execution_count": 6,
   "id": "7e364de1",
   "metadata": {},
   "outputs": [],
   "source": [
    "la = ['a','b']  \n",
    "lb = la + ['c','d']  # '+' creates a NEW list without modifying the operands\n",
    "                     # here also reassigns to a NEW variable\n",
    "lc = la + ['e']     # if you need to add only one element just wrap it in square brackets    "
   ]
  },
  {
   "cell_type": "markdown",
   "id": "c5b84630",
   "metadata": {},
   "source": [
    "\n",
    "### SimpleFP - accessing list elements\n",
    "\n",
    "You can take an element at any position"
   ]
  },
  {
   "cell_type": "code",
   "execution_count": 7,
   "id": "eb124ecd",
   "metadata": {},
   "outputs": [],
   "source": [
    "lst = [5,2,8,7,1,3]"
   ]
  },
  {
   "cell_type": "code",
   "execution_count": 8,
   "id": "4eed49a9",
   "metadata": {},
   "outputs": [
    {
     "data": {
      "text/plain": [
       "5"
      ]
     },
     "execution_count": 8,
     "metadata": {},
     "output_type": "execute_result"
    }
   ],
   "source": [
    "lst[0] "
   ]
  },
  {
   "cell_type": "code",
   "execution_count": 9,
   "id": "ea97bd1b",
   "metadata": {},
   "outputs": [
    {
     "data": {
      "text/plain": [
       "1"
      ]
     },
     "execution_count": 9,
     "metadata": {},
     "output_type": "execute_result"
    }
   ],
   "source": [
    "lst[4] "
   ]
  },
  {
   "cell_type": "markdown",
   "id": "8dca1c31",
   "metadata": {},
   "source": [
    "### SimpleFP - slicing\n",
    "\n",
    "To take sublists in this purely functional model we allow slicing, even if on Python lists it's quite inefficient as it creates entirely NEW lists.\n",
    "\n",
    "**DO NOT** use stepping"
   ]
  },
  {
   "cell_type": "code",
   "execution_count": 10,
   "id": "bb035d85",
   "metadata": {},
   "outputs": [
    {
     "data": {
      "text/plain": [
       "['b', 'c', 'd', 'e', 'f', 'g', 'h', 'i']"
      ]
     },
     "execution_count": 10,
     "metadata": {},
     "output_type": "execute_result"
    }
   ],
   "source": [
    "lst = ['a','b','c','d','e','f','g','h','i']\n",
    "lst[1:]   "
   ]
  },
  {
   "cell_type": "code",
   "execution_count": 11,
   "id": "c6399e9c",
   "metadata": {},
   "outputs": [
    {
     "data": {
      "text/plain": [
       "['e', 'f', 'g', 'h', 'i']"
      ]
     },
     "execution_count": 11,
     "metadata": {},
     "output_type": "execute_result"
    }
   ],
   "source": [
    "lst[len(lst)//2:]"
   ]
  },
  {
   "cell_type": "code",
   "execution_count": 12,
   "id": "05526b2d",
   "metadata": {},
   "outputs": [
    {
     "data": {
      "text/plain": [
       "['a', 'b', 'c', 'd']"
      ]
     },
     "execution_count": 12,
     "metadata": {},
     "output_type": "execute_result"
    }
   ],
   "source": [
    "lst[:len(lst)//2]"
   ]
  },
  {
   "cell_type": "code",
   "execution_count": 13,
   "id": "3d1d1eed",
   "metadata": {},
   "outputs": [
    {
     "data": {
      "text/plain": [
       "['a', 'c', 'e']"
      ]
     },
     "execution_count": 13,
     "metadata": {},
     "output_type": "execute_result"
    }
   ],
   "source": [
    "lst[0:5:2]  # don't use stepping"
   ]
  },
  {
   "cell_type": "markdown",
   "id": "93520e7c",
   "metadata": {},
   "source": [
    "**QUESTION**: If we used [numpy arrays](https://en.softpython.org/matrices-numpy/matrices-numpy1-sol.html#Slices), would we waste memory when slicing?"
   ]
  },
  {
   "cell_type": "raw",
   "id": "b3c70e41",
   "metadata": {
    "format": "text/html"
   },
   "source": [
    "<a  class=\"jupman-sol jupman-sol-toggler\" \n",
    " onclick=\"jupman.toggleSolution(this);\" \n",
    " data-jupman-show=\"Show answer\" data-jupman-hide=\"Hide\">Show answer</a><div class=\"jupman-sol jupman-sol-question\" style=\"display:none\">  "
   ]
  },
  {
   "cell_type": "markdown",
   "id": "eb9afcc2",
   "metadata": {},
   "source": [
    "**ANSWER**: no, numpy slicing (and only numpy slicing) provides a _view_ on the original data without copying, thus taking slices is a fast operation. Since in purely functional model we force ourselves to never modify data, we could consider access to original data as safe."
   ]
  },
  {
   "cell_type": "raw",
   "id": "1fd36253",
   "metadata": {
    "format": "text/html"
   },
   "source": [
    "</div>"
   ]
  },
  {
   "cell_type": "markdown",
   "id": "3c85fd1f",
   "metadata": {},
   "source": [
    "### SimpleFP - minimal instruction set\n",
    "\n",
    "To force you using recursion, we require these restrictions:\n",
    "\n",
    "**ONLY USE**:\n",
    "\n",
    "* list concatenation with `+`\n",
    "* getting length with `len(lst)`\n",
    "* `in` operator on dictionaries or sets\n",
    "\n",
    "**DO NOT** use `in` operator in sequences like strings, lists, tuples\n",
    "\n",
    "**DO NOT** use `*`  replication operator on lists\n",
    "\n",
    "**DO NOT** use predefined functions (`sum`, `max`, `min`, `range`, ....)\n",
    "\n",
    "**DO NOT** use methods!"
   ]
  },
  {
   "cell_type": "code",
   "execution_count": 14,
   "id": "092883d4-stripped",
   "metadata": {},
   "outputs": [],
   "source": [
    "\n",
    "5 in [3,5,2,6]       # don't\n",
    "[7,5,6,9] * 3        # don't\n",
    "sum([5,2,7,4])       # don't\n",
    "[3,5,2,5,4].count(5) # don't\n",
    "\n",
    "[3,4] + [9,2,3]  # ok\n",
    "len([3,5,1,6])   # ok\n",
    "'a' in {'a':4,   # ok\n",
    "        'b':9}   "
   ]
  },
  {
   "cell_type": "markdown",
   "id": "e68924a9",
   "metadata": {},
   "source": [
    "### SimpleFP - functions and conditionals\n",
    "\n",
    "In purely _functional_ programming we want of course... functions: we require they always get some input and always RETURN NEW data taken from (parts of) the input\n",
    "\n",
    "Avoid:"
   ]
  },
  {
   "cell_type": "code",
   "execution_count": 15,
   "id": "7ffdca6a",
   "metadata": {},
   "outputs": [],
   "source": [
    "x = 4\n",
    "\n",
    "def inc():            # bad, takes  no explicit input ....\n",
    "    return x + 1\n",
    "\n",
    "def app(lst):         \n",
    "    lst.append('a')   # bad, modifies input\n",
    "    \n",
    "def srt(lst):         \n",
    "    lst.sort()        # bad, modifies input    "
   ]
  },
  {
   "cell_type": "markdown",
   "id": "61b0b1ff",
   "metadata": {},
   "source": [
    "Instead, do:"
   ]
  },
  {
   "cell_type": "code",
   "execution_count": 16,
   "id": "e72ba08f",
   "metadata": {},
   "outputs": [],
   "source": [
    "def inc(x):   # ok, uses only input\n",
    "    return x + 3\n",
    "\n",
    "def app(lst):         \n",
    "    return lst + ['a']   # ok, creates a NEW list\n",
    "\n",
    "def srt(lst):         \n",
    "    return sorted(lst)   # ok, creates a NEW list \n",
    "                         # (note sorted must be explicitly allowed by text)"
   ]
  },
  {
   "cell_type": "markdown",
   "id": "d03e070b",
   "metadata": {},
   "source": [
    "### SimpleFP - recursion\n",
    "\n",
    "In a purely functional model we don't use loops at all! Instead, we prefer recursive calls. \n",
    "\n",
    "Always remember:\n",
    "\n",
    "- at least one base case\n",
    "- always return in each branch\n",
    "- at least one recursive call on smaller parts of the input\n",
    "- always return the proper type (you might need boxing)\n",
    "\n",
    "<div class=\"alert alert-warning\">\n",
    "    \n",
    "**DO NOT** use `for`, `while` nor list comprehensions\n",
    "    \n",
    "</div>    "
   ]
  },
  {
   "cell_type": "markdown",
   "id": "ec2ae480",
   "metadata": {},
   "source": [
    "### Simple FP - Example -  `scount`\n",
    "\n",
    "Suppose given a number `n`, you want to build a list with first numbers from `1` to `n` **without** using `range`"
   ]
  },
  {
   "cell_type": "code",
   "execution_count": 17,
   "id": "6eaff3bf",
   "metadata": {},
   "outputs": [
    {
     "data": {
      "text/html": [
       "\n",
       "        <script src=\"../_static/js/pytutor-embed.bundle.min.js\" type=\"application/javascript\"></script>\n",
       "     \n",
       "        <script id=\"json-jm07f9ad75-34a5-4b0a-95f7-373a67200f9b\" type=\"application/json\" >\n",
       "            {\"code\": \" \\ndef scount(n):        \\n    if n <= 0:      \\n        return []    \\n    else:\\n        return scount(n - 1) + [n]\\n    \\nscount(3)\", \"trace\": [{\"line\": 2, \"event\": \"step_line\", \"func_name\": \"<module>\", \"globals\": {}, \"ordered_globals\": [], \"stack_to_render\": [], \"heap\": {}, \"stdout\": \"\"}, {\"line\": 8, \"event\": \"step_line\", \"func_name\": \"<module>\", \"globals\": {\"scount\": [\"REF\", 1]}, \"ordered_globals\": [\"scount\"], \"stack_to_render\": [], \"heap\": {\"1\": [\"FUNCTION\", \"scount(n)\", null]}, \"stdout\": \"\"}, {\"line\": 2, \"event\": \"call\", \"func_name\": \"scount\", \"globals\": {\"scount\": [\"REF\", 1]}, \"ordered_globals\": [\"scount\"], \"stack_to_render\": [{\"func_name\": \"scount\", \"is_parent\": false, \"frame_id\": 1, \"parent_frame_id_list\": [], \"encoded_locals\": {\"n\": 3}, \"ordered_varnames\": [\"n\"], \"is_zombie\": false, \"is_highlighted\": true, \"unique_hash\": \"scount_f1\"}], \"heap\": {\"1\": [\"FUNCTION\", \"scount(n)\", null]}, \"stdout\": \"\"}, {\"line\": 3, \"event\": \"step_line\", \"func_name\": \"scount\", \"globals\": {\"scount\": [\"REF\", 1]}, \"ordered_globals\": [\"scount\"], \"stack_to_render\": [{\"func_name\": \"scount\", \"is_parent\": false, \"frame_id\": 1, \"parent_frame_id_list\": [], \"encoded_locals\": {\"n\": 3}, \"ordered_varnames\": [\"n\"], \"is_zombie\": false, \"is_highlighted\": true, \"unique_hash\": \"scount_f1\"}], \"heap\": {\"1\": [\"FUNCTION\", \"scount(n)\", null]}, \"stdout\": \"\"}, {\"line\": 6, \"event\": \"step_line\", \"func_name\": \"scount\", \"globals\": {\"scount\": [\"REF\", 1]}, \"ordered_globals\": [\"scount\"], \"stack_to_render\": [{\"func_name\": \"scount\", \"is_parent\": false, \"frame_id\": 1, \"parent_frame_id_list\": [], \"encoded_locals\": {\"n\": 3}, \"ordered_varnames\": [\"n\"], \"is_zombie\": false, \"is_highlighted\": true, \"unique_hash\": \"scount_f1\"}], \"heap\": {\"1\": [\"FUNCTION\", \"scount(n)\", null]}, \"stdout\": \"\"}, {\"line\": 2, \"event\": \"call\", \"func_name\": \"scount\", \"globals\": {\"scount\": [\"REF\", 1]}, \"ordered_globals\": [\"scount\"], \"stack_to_render\": [{\"func_name\": \"scount\", \"is_parent\": false, \"frame_id\": 1, \"parent_frame_id_list\": [], \"encoded_locals\": {\"n\": 3}, \"ordered_varnames\": [\"n\"], \"is_zombie\": false, \"is_highlighted\": false, \"unique_hash\": \"scount_f1\"}, {\"func_name\": \"scount\", \"is_parent\": false, \"frame_id\": 2, \"parent_frame_id_list\": [], \"encoded_locals\": {\"n\": 2}, \"ordered_varnames\": [\"n\"], \"is_zombie\": false, \"is_highlighted\": true, \"unique_hash\": \"scount_f2\"}], \"heap\": {\"1\": [\"FUNCTION\", \"scount(n)\", null]}, \"stdout\": \"\"}, {\"line\": 3, \"event\": \"step_line\", \"func_name\": \"scount\", \"globals\": {\"scount\": [\"REF\", 1]}, \"ordered_globals\": [\"scount\"], \"stack_to_render\": [{\"func_name\": \"scount\", \"is_parent\": false, \"frame_id\": 1, \"parent_frame_id_list\": [], \"encoded_locals\": {\"n\": 3}, \"ordered_varnames\": [\"n\"], \"is_zombie\": false, \"is_highlighted\": false, \"unique_hash\": \"scount_f1\"}, {\"func_name\": \"scount\", \"is_parent\": false, \"frame_id\": 2, \"parent_frame_id_list\": [], \"encoded_locals\": {\"n\": 2}, \"ordered_varnames\": [\"n\"], \"is_zombie\": false, \"is_highlighted\": true, \"unique_hash\": \"scount_f2\"}], \"heap\": {\"1\": [\"FUNCTION\", \"scount(n)\", null]}, \"stdout\": \"\"}, {\"line\": 6, \"event\": \"step_line\", \"func_name\": \"scount\", \"globals\": {\"scount\": [\"REF\", 1]}, \"ordered_globals\": [\"scount\"], \"stack_to_render\": [{\"func_name\": \"scount\", \"is_parent\": false, \"frame_id\": 1, \"parent_frame_id_list\": [], \"encoded_locals\": {\"n\": 3}, \"ordered_varnames\": [\"n\"], \"is_zombie\": false, \"is_highlighted\": false, \"unique_hash\": \"scount_f1\"}, {\"func_name\": \"scount\", \"is_parent\": false, \"frame_id\": 2, \"parent_frame_id_list\": [], \"encoded_locals\": {\"n\": 2}, \"ordered_varnames\": [\"n\"], \"is_zombie\": false, \"is_highlighted\": true, \"unique_hash\": \"scount_f2\"}], \"heap\": {\"1\": [\"FUNCTION\", \"scount(n)\", null]}, \"stdout\": \"\"}, {\"line\": 2, \"event\": \"call\", \"func_name\": \"scount\", \"globals\": {\"scount\": [\"REF\", 1]}, \"ordered_globals\": [\"scount\"], \"stack_to_render\": [{\"func_name\": \"scount\", \"is_parent\": false, \"frame_id\": 1, \"parent_frame_id_list\": [], \"encoded_locals\": {\"n\": 3}, \"ordered_varnames\": [\"n\"], \"is_zombie\": false, \"is_highlighted\": false, \"unique_hash\": \"scount_f1\"}, {\"func_name\": \"scount\", \"is_parent\": false, \"frame_id\": 2, \"parent_frame_id_list\": [], \"encoded_locals\": {\"n\": 2}, \"ordered_varnames\": [\"n\"], \"is_zombie\": false, \"is_highlighted\": false, \"unique_hash\": \"scount_f2\"}, {\"func_name\": \"scount\", \"is_parent\": false, \"frame_id\": 3, \"parent_frame_id_list\": [], \"encoded_locals\": {\"n\": 1}, \"ordered_varnames\": [\"n\"], \"is_zombie\": false, \"is_highlighted\": true, \"unique_hash\": \"scount_f3\"}], \"heap\": {\"1\": [\"FUNCTION\", \"scount(n)\", null]}, \"stdout\": \"\"}, {\"line\": 3, \"event\": \"step_line\", \"func_name\": \"scount\", \"globals\": {\"scount\": [\"REF\", 1]}, \"ordered_globals\": [\"scount\"], \"stack_to_render\": [{\"func_name\": \"scount\", \"is_parent\": false, \"frame_id\": 1, \"parent_frame_id_list\": [], \"encoded_locals\": {\"n\": 3}, \"ordered_varnames\": [\"n\"], \"is_zombie\": false, \"is_highlighted\": false, \"unique_hash\": \"scount_f1\"}, {\"func_name\": \"scount\", \"is_parent\": false, \"frame_id\": 2, \"parent_frame_id_list\": [], \"encoded_locals\": {\"n\": 2}, \"ordered_varnames\": [\"n\"], \"is_zombie\": false, \"is_highlighted\": false, \"unique_hash\": \"scount_f2\"}, {\"func_name\": \"scount\", \"is_parent\": false, \"frame_id\": 3, \"parent_frame_id_list\": [], \"encoded_locals\": {\"n\": 1}, \"ordered_varnames\": [\"n\"], \"is_zombie\": false, \"is_highlighted\": true, \"unique_hash\": \"scount_f3\"}], \"heap\": {\"1\": [\"FUNCTION\", \"scount(n)\", null]}, \"stdout\": \"\"}, {\"line\": 6, \"event\": \"step_line\", \"func_name\": \"scount\", \"globals\": {\"scount\": [\"REF\", 1]}, \"ordered_globals\": [\"scount\"], \"stack_to_render\": [{\"func_name\": \"scount\", \"is_parent\": false, \"frame_id\": 1, \"parent_frame_id_list\": [], \"encoded_locals\": {\"n\": 3}, \"ordered_varnames\": [\"n\"], \"is_zombie\": false, \"is_highlighted\": false, \"unique_hash\": \"scount_f1\"}, {\"func_name\": \"scount\", \"is_parent\": false, \"frame_id\": 2, \"parent_frame_id_list\": [], \"encoded_locals\": {\"n\": 2}, \"ordered_varnames\": [\"n\"], \"is_zombie\": false, \"is_highlighted\": false, \"unique_hash\": \"scount_f2\"}, {\"func_name\": \"scount\", \"is_parent\": false, \"frame_id\": 3, \"parent_frame_id_list\": [], \"encoded_locals\": {\"n\": 1}, \"ordered_varnames\": [\"n\"], \"is_zombie\": false, \"is_highlighted\": true, \"unique_hash\": \"scount_f3\"}], \"heap\": {\"1\": [\"FUNCTION\", \"scount(n)\", null]}, \"stdout\": \"\"}, {\"line\": 2, \"event\": \"call\", \"func_name\": \"scount\", \"globals\": {\"scount\": [\"REF\", 1]}, \"ordered_globals\": [\"scount\"], \"stack_to_render\": [{\"func_name\": \"scount\", \"is_parent\": false, \"frame_id\": 1, \"parent_frame_id_list\": [], \"encoded_locals\": {\"n\": 3}, \"ordered_varnames\": [\"n\"], \"is_zombie\": false, \"is_highlighted\": false, \"unique_hash\": \"scount_f1\"}, {\"func_name\": \"scount\", \"is_parent\": false, \"frame_id\": 2, \"parent_frame_id_list\": [], \"encoded_locals\": {\"n\": 2}, \"ordered_varnames\": [\"n\"], \"is_zombie\": false, \"is_highlighted\": false, \"unique_hash\": \"scount_f2\"}, {\"func_name\": \"scount\", \"is_parent\": false, \"frame_id\": 3, \"parent_frame_id_list\": [], \"encoded_locals\": {\"n\": 1}, \"ordered_varnames\": [\"n\"], \"is_zombie\": false, \"is_highlighted\": false, \"unique_hash\": \"scount_f3\"}, {\"func_name\": \"scount\", \"is_parent\": false, \"frame_id\": 4, \"parent_frame_id_list\": [], \"encoded_locals\": {\"n\": 0}, \"ordered_varnames\": [\"n\"], \"is_zombie\": false, \"is_highlighted\": true, \"unique_hash\": \"scount_f4\"}], \"heap\": {\"1\": [\"FUNCTION\", \"scount(n)\", null]}, \"stdout\": \"\"}, {\"line\": 3, \"event\": \"step_line\", \"func_name\": \"scount\", \"globals\": {\"scount\": [\"REF\", 1]}, \"ordered_globals\": [\"scount\"], \"stack_to_render\": [{\"func_name\": \"scount\", \"is_parent\": false, \"frame_id\": 1, \"parent_frame_id_list\": [], \"encoded_locals\": {\"n\": 3}, \"ordered_varnames\": [\"n\"], \"is_zombie\": false, \"is_highlighted\": false, \"unique_hash\": \"scount_f1\"}, {\"func_name\": \"scount\", \"is_parent\": false, \"frame_id\": 2, \"parent_frame_id_list\": [], \"encoded_locals\": {\"n\": 2}, \"ordered_varnames\": [\"n\"], \"is_zombie\": false, \"is_highlighted\": false, \"unique_hash\": \"scount_f2\"}, {\"func_name\": \"scount\", \"is_parent\": false, \"frame_id\": 3, \"parent_frame_id_list\": [], \"encoded_locals\": {\"n\": 1}, \"ordered_varnames\": [\"n\"], \"is_zombie\": false, \"is_highlighted\": false, \"unique_hash\": \"scount_f3\"}, {\"func_name\": \"scount\", \"is_parent\": false, \"frame_id\": 4, \"parent_frame_id_list\": [], \"encoded_locals\": {\"n\": 0}, \"ordered_varnames\": [\"n\"], \"is_zombie\": false, \"is_highlighted\": true, \"unique_hash\": \"scount_f4\"}], \"heap\": {\"1\": [\"FUNCTION\", \"scount(n)\", null]}, \"stdout\": \"\"}, {\"line\": 4, \"event\": \"step_line\", \"func_name\": \"scount\", \"globals\": {\"scount\": [\"REF\", 1]}, \"ordered_globals\": [\"scount\"], \"stack_to_render\": [{\"func_name\": \"scount\", \"is_parent\": false, \"frame_id\": 1, \"parent_frame_id_list\": [], \"encoded_locals\": {\"n\": 3}, \"ordered_varnames\": [\"n\"], \"is_zombie\": false, \"is_highlighted\": false, \"unique_hash\": \"scount_f1\"}, {\"func_name\": \"scount\", \"is_parent\": false, \"frame_id\": 2, \"parent_frame_id_list\": [], \"encoded_locals\": {\"n\": 2}, \"ordered_varnames\": [\"n\"], \"is_zombie\": false, \"is_highlighted\": false, \"unique_hash\": \"scount_f2\"}, {\"func_name\": \"scount\", \"is_parent\": false, \"frame_id\": 3, \"parent_frame_id_list\": [], \"encoded_locals\": {\"n\": 1}, \"ordered_varnames\": [\"n\"], \"is_zombie\": false, \"is_highlighted\": false, \"unique_hash\": \"scount_f3\"}, {\"func_name\": \"scount\", \"is_parent\": false, \"frame_id\": 4, \"parent_frame_id_list\": [], \"encoded_locals\": {\"n\": 0}, \"ordered_varnames\": [\"n\"], \"is_zombie\": false, \"is_highlighted\": true, \"unique_hash\": \"scount_f4\"}], \"heap\": {\"1\": [\"FUNCTION\", \"scount(n)\", null]}, \"stdout\": \"\"}, {\"line\": 4, \"event\": \"return\", \"func_name\": \"scount\", \"globals\": {\"scount\": [\"REF\", 1]}, \"ordered_globals\": [\"scount\"], \"stack_to_render\": [{\"func_name\": \"scount\", \"is_parent\": false, \"frame_id\": 1, \"parent_frame_id_list\": [], \"encoded_locals\": {\"n\": 3}, \"ordered_varnames\": [\"n\"], \"is_zombie\": false, \"is_highlighted\": false, \"unique_hash\": \"scount_f1\"}, {\"func_name\": \"scount\", \"is_parent\": false, \"frame_id\": 2, \"parent_frame_id_list\": [], \"encoded_locals\": {\"n\": 2}, \"ordered_varnames\": [\"n\"], \"is_zombie\": false, \"is_highlighted\": false, \"unique_hash\": \"scount_f2\"}, {\"func_name\": \"scount\", \"is_parent\": false, \"frame_id\": 3, \"parent_frame_id_list\": [], \"encoded_locals\": {\"n\": 1}, \"ordered_varnames\": [\"n\"], \"is_zombie\": false, \"is_highlighted\": false, \"unique_hash\": \"scount_f3\"}, {\"func_name\": \"scount\", \"is_parent\": false, \"frame_id\": 4, \"parent_frame_id_list\": [], \"encoded_locals\": {\"n\": 0, \"__return__\": [\"REF\", 2]}, \"ordered_varnames\": [\"n\", \"__return__\"], \"is_zombie\": false, \"is_highlighted\": true, \"unique_hash\": \"scount_f4\"}], \"heap\": {\"2\": [\"LIST\"], \"1\": [\"FUNCTION\", \"scount(n)\", null]}, \"stdout\": \"\"}, {\"line\": 6, \"event\": \"return\", \"func_name\": \"scount\", \"globals\": {\"scount\": [\"REF\", 1]}, \"ordered_globals\": [\"scount\"], \"stack_to_render\": [{\"func_name\": \"scount\", \"is_parent\": false, \"frame_id\": 1, \"parent_frame_id_list\": [], \"encoded_locals\": {\"n\": 3}, \"ordered_varnames\": [\"n\"], \"is_zombie\": false, \"is_highlighted\": false, \"unique_hash\": \"scount_f1\"}, {\"func_name\": \"scount\", \"is_parent\": false, \"frame_id\": 2, \"parent_frame_id_list\": [], \"encoded_locals\": {\"n\": 2}, \"ordered_varnames\": [\"n\"], \"is_zombie\": false, \"is_highlighted\": false, \"unique_hash\": \"scount_f2\"}, {\"func_name\": \"scount\", \"is_parent\": false, \"frame_id\": 3, \"parent_frame_id_list\": [], \"encoded_locals\": {\"n\": 1, \"__return__\": [\"REF\", 3]}, \"ordered_varnames\": [\"n\", \"__return__\"], \"is_zombie\": false, \"is_highlighted\": true, \"unique_hash\": \"scount_f3\"}], \"heap\": {\"3\": [\"LIST\", 1], \"1\": [\"FUNCTION\", \"scount(n)\", null]}, \"stdout\": \"\"}, {\"line\": 6, \"event\": \"return\", \"func_name\": \"scount\", \"globals\": {\"scount\": [\"REF\", 1]}, \"ordered_globals\": [\"scount\"], \"stack_to_render\": [{\"func_name\": \"scount\", \"is_parent\": false, \"frame_id\": 1, \"parent_frame_id_list\": [], \"encoded_locals\": {\"n\": 3}, \"ordered_varnames\": [\"n\"], \"is_zombie\": false, \"is_highlighted\": false, \"unique_hash\": \"scount_f1\"}, {\"func_name\": \"scount\", \"is_parent\": false, \"frame_id\": 2, \"parent_frame_id_list\": [], \"encoded_locals\": {\"n\": 2, \"__return__\": [\"REF\", 4]}, \"ordered_varnames\": [\"n\", \"__return__\"], \"is_zombie\": false, \"is_highlighted\": true, \"unique_hash\": \"scount_f2\"}], \"heap\": {\"4\": [\"LIST\", 1, 2], \"1\": [\"FUNCTION\", \"scount(n)\", null]}, \"stdout\": \"\"}, {\"line\": 6, \"event\": \"return\", \"func_name\": \"scount\", \"globals\": {\"scount\": [\"REF\", 1]}, \"ordered_globals\": [\"scount\"], \"stack_to_render\": [{\"func_name\": \"scount\", \"is_parent\": false, \"frame_id\": 1, \"parent_frame_id_list\": [], \"encoded_locals\": {\"n\": 3, \"__return__\": [\"REF\", 5]}, \"ordered_varnames\": [\"n\", \"__return__\"], \"is_zombie\": false, \"is_highlighted\": true, \"unique_hash\": \"scount_f1\"}], \"heap\": {\"5\": [\"LIST\", 1, 2, 3], \"1\": [\"FUNCTION\", \"scount(n)\", null]}, \"stdout\": \"\"}, {\"line\": 8, \"event\": \"return\", \"func_name\": \"<module>\", \"globals\": {\"scount\": [\"REF\", 1]}, \"ordered_globals\": [\"scount\"], \"stack_to_render\": [], \"heap\": {\"1\": [\"FUNCTION\", \"scount(n)\", null]}, \"stdout\": \"\"}]}\n",
       "        </script>\n",
       "        <div id=\"jm07f9ad75-34a5-4b0a-95f7-373a67200f9b\" class=\"pytutorVisualizer\"> </div>\n",
       " \n",
       "        <style>\n",
       "        .vizLayoutTd {\n",
       "            background-color: #fff !important;\n",
       "        }\n",
       "                            \n",
       "        #pyStdout {\n",
       "            min-height:25px;\n",
       "        }\n",
       "\n",
       "        /* 'Edit this code' link, hiding because replaces browser tab !!!*/\n",
       "        #editCodeLinkDiv {\n",
       "            display:none;  \n",
       "        }\n",
       "        </style>   \n",
       "                            \n",
       "        <script>\n",
       "        (function(){\n",
       "\n",
       "            var trace = JSON.parse(document.getElementById('json-jm07f9ad75-34a5-4b0a-95f7-373a67200f9b').innerHTML);                                        \n",
       "            // NOTE 1: id without #\n",
       "            // NOTE 2 - maybe there are more predictable ways, but this will work anyway\n",
       "            //        - id should be number\n",
       "            visualizerIdOverride = Math.trunc(Math.random() * 100000000000)\n",
       "            addVisualizerToPage(trace, 'jm07f9ad75-34a5-4b0a-95f7-373a67200f9b',{'embeddedMode' : false,\n",
       "                                             'visualizerIdOverride':visualizerIdOverride})  \n",
       "            \n",
       "            \n",
       "            // set overflow for pytuts - need to do in python as css \n",
       "            // does not allow parent selection\n",
       "            var pytuts = $('.pytutorVisualizer')\n",
       "            pytuts.closest('div.output_html.rendered_html.output_result')\n",
       "                    .css('overflow-x', 'visible')\n",
       "        \n",
       "            //pytuts.closest('div.output_html.rendered_html.output_result')\n",
       "            //      .css('background-color','red')                \n",
       "            \n",
       "        })()\n",
       "        </script>\n",
       "                \n",
       "                "
      ],
      "text/plain": [
       "<IPython.core.display.HTML object>"
      ]
     },
     "execution_count": 17,
     "metadata": {},
     "output_type": "execute_result"
    }
   ],
   "source": [
    "def scount(n):        \n",
    "    if n <= 0:      \n",
    "        return []    \n",
    "    else:\n",
    "        return scount(n - 1) + [n]\n",
    "    \n",
    "scount(3)\n",
    "jupman.pytut()"
   ]
  },
  {
   "cell_type": "code",
   "execution_count": 18,
   "id": "0438c76b-stripped",
   "metadata": {
    "nbsphinx": "hidden"
   },
   "outputs": [],
   "source": [],
   "transient": {
    "remove_source": true
   }
  },
  {
   "cell_type": "markdown",
   "id": "88343ac0",
   "metadata": {},
   "source": [
    "### Simple FP - debugging\n",
    "\n",
    "To debug you can and should of course use [Python tutor](https://pythontutor.com/). \n",
    "\n",
    "Another trick could be to pass an additional optional parameter called `level` and do some indented `print` like so:\n",
    "\n",
    "<div class=\"alert alert-warning\">\n",
    "\n",
    "**IMPORTANT:** `print` **is ONLY for debugging!**\n",
    "    \n",
    "`print` by definition illuminates the pixels on your screen and doesn't produce any reusable value in memory. So your functions are still required to always RETURN proper values!\n",
    "</div>    "
   ]
  },
  {
   "cell_type": "code",
   "execution_count": 19,
   "id": "d4d536d9",
   "metadata": {},
   "outputs": [
    {
     "name": "stdout",
     "output_type": "stream",
     "text": [
      " n= 3\n",
      "  n= 2\n",
      "   n= 1\n",
      "    n= 0\n"
     ]
    },
    {
     "data": {
      "text/plain": [
       "[1, 2, 3]"
      ]
     },
     "execution_count": 19,
     "metadata": {},
     "output_type": "execute_result"
    }
   ],
   "source": [
    "def scount(n, level=0):\n",
    "    print(' ' * level, 'n=', n)\n",
    "    if n <= 0:\n",
    "        return []    \n",
    "    else:\n",
    "        return scount(n - 1, level + 1) + [n]    \n",
    "scount(3)"
   ]
  },
  {
   "cell_type": "code",
   "execution_count": 20,
   "id": "a86b0594-stripped",
   "metadata": {
    "nbsphinx": "hidden"
   },
   "outputs": [],
   "source": [],
   "transient": {
    "remove_source": true
   }
  },
  {
   "cell_type": "markdown",
   "id": "e2a15d13",
   "metadata": {},
   "source": [
    "**Decomposing computation**: Furthermore, you can try separate the steps in smaller parts and print intermediate results. Here we added the extra variable `res` and printed it after the recursive call:"
   ]
  },
  {
   "cell_type": "code",
   "execution_count": 21,
   "id": "ff099b3d",
   "metadata": {},
   "outputs": [
    {
     "name": "stdout",
     "output_type": "stream",
     "text": [
      " n= 5\n",
      "  n= 4\n",
      "   n= 3\n",
      "    n= 2\n",
      "     n= 1\n",
      "      n= 0\n",
      "     res= []\n",
      "    res= [1]\n",
      "   res= [1, 2]\n",
      "  res= [1, 2, 3]\n",
      " res= [1, 2, 3, 4]\n"
     ]
    },
    {
     "data": {
      "text/plain": [
       "[1, 2, 3, 4, 5]"
      ]
     },
     "execution_count": 21,
     "metadata": {},
     "output_type": "execute_result"
    }
   ],
   "source": [
    "def scount(n, level=0):\n",
    "    print(' ' * level, 'n=', n)\n",
    "    if n <= 0:\n",
    "        return []    \n",
    "    else:\n",
    "        res = scount(n - 1, level + 1)\n",
    "        print(' ' * level, 'res=', res)\n",
    "        return res + [n]    \n",
    "scount(5)"
   ]
  },
  {
   "cell_type": "code",
   "execution_count": 22,
   "id": "03be4bad-stripped",
   "metadata": {
    "nbsphinx": "hidden"
   },
   "outputs": [],
   "source": [],
   "transient": {
    "remove_source": true
   }
  },
  {
   "cell_type": "markdown",
   "id": "2b397452",
   "metadata": {},
   "source": [
    "### SimpleFP: a recursion scheme\n",
    "    \n",
    "Suppose we now want to get a list as input and return another one.\n",
    "\n",
    "For this first section, we will follow a simple scheme:\n",
    " \n",
    "1. check sequence length\n",
    "2. if base case, immediately return something\n",
    "3. otherwise, do recursion on the rest of the sequence\n",
    "4. combine recursion result in some way with first element\n",
    "5. return the combination result"
   ]
  },
  {
   "cell_type": "markdown",
   "id": "1c698c6c",
   "metadata": {},
   "source": [
    "### Example - `sdouble`\n",
    "\n",
    "Let's see how to write a function which takes a `lst` of numbers and RETURN a NEW list with the numbers doubled. You might write stuff like this:"
   ]
  },
  {
   "cell_type": "code",
   "execution_count": 23,
   "id": "5e340de0",
   "metadata": {},
   "outputs": [
    {
     "data": {
      "text/html": [
       "\n",
       "        <script src=\"../_static/js/pytutor-embed.bundle.min.js\" type=\"application/javascript\"></script>\n",
       "     \n",
       "        <script id=\"json-jm9cd469c1-9ef9-450f-ac0b-d2a1c68131aa\" type=\"application/json\" >\n",
       "            {\"code\": \" \\ndef sdouble(lst):                \\n    if len(lst) == 0:\\n        return []              # base case\\n    else:\\n        return [lst[0]*2] + sdouble(lst[1:])    # returning operation containing \\n                                                # a recursive call on a smaller input\\n        \\nresult = sdouble([7,9,5])\", \"trace\": [{\"line\": 2, \"event\": \"step_line\", \"func_name\": \"<module>\", \"globals\": {}, \"ordered_globals\": [], \"stack_to_render\": [], \"heap\": {}, \"stdout\": \"\"}, {\"line\": 9, \"event\": \"step_line\", \"func_name\": \"<module>\", \"globals\": {\"sdouble\": [\"REF\", 1]}, \"ordered_globals\": [\"sdouble\"], \"stack_to_render\": [], \"heap\": {\"1\": [\"FUNCTION\", \"sdouble(lst)\", null]}, \"stdout\": \"\"}, {\"line\": 2, \"event\": \"call\", \"func_name\": \"sdouble\", \"globals\": {\"sdouble\": [\"REF\", 1]}, \"ordered_globals\": [\"sdouble\"], \"stack_to_render\": [{\"func_name\": \"sdouble\", \"is_parent\": false, \"frame_id\": 1, \"parent_frame_id_list\": [], \"encoded_locals\": {\"lst\": [\"REF\", 2]}, \"ordered_varnames\": [\"lst\"], \"is_zombie\": false, \"is_highlighted\": true, \"unique_hash\": \"sdouble_f1\"}], \"heap\": {\"2\": [\"LIST\", 7, 9, 5], \"1\": [\"FUNCTION\", \"sdouble(lst)\", null]}, \"stdout\": \"\"}, {\"line\": 3, \"event\": \"step_line\", \"func_name\": \"sdouble\", \"globals\": {\"sdouble\": [\"REF\", 1]}, \"ordered_globals\": [\"sdouble\"], \"stack_to_render\": [{\"func_name\": \"sdouble\", \"is_parent\": false, \"frame_id\": 1, \"parent_frame_id_list\": [], \"encoded_locals\": {\"lst\": [\"REF\", 2]}, \"ordered_varnames\": [\"lst\"], \"is_zombie\": false, \"is_highlighted\": true, \"unique_hash\": \"sdouble_f1\"}], \"heap\": {\"2\": [\"LIST\", 7, 9, 5], \"1\": [\"FUNCTION\", \"sdouble(lst)\", null]}, \"stdout\": \"\"}, {\"line\": 6, \"event\": \"step_line\", \"func_name\": \"sdouble\", \"globals\": {\"sdouble\": [\"REF\", 1]}, \"ordered_globals\": [\"sdouble\"], \"stack_to_render\": [{\"func_name\": \"sdouble\", \"is_parent\": false, \"frame_id\": 1, \"parent_frame_id_list\": [], \"encoded_locals\": {\"lst\": [\"REF\", 2]}, \"ordered_varnames\": [\"lst\"], \"is_zombie\": false, \"is_highlighted\": true, \"unique_hash\": \"sdouble_f1\"}], \"heap\": {\"2\": [\"LIST\", 7, 9, 5], \"1\": [\"FUNCTION\", \"sdouble(lst)\", null]}, \"stdout\": \"\"}, {\"line\": 2, \"event\": \"call\", \"func_name\": \"sdouble\", \"globals\": {\"sdouble\": [\"REF\", 1]}, \"ordered_globals\": [\"sdouble\"], \"stack_to_render\": [{\"func_name\": \"sdouble\", \"is_parent\": false, \"frame_id\": 1, \"parent_frame_id_list\": [], \"encoded_locals\": {\"lst\": [\"REF\", 2]}, \"ordered_varnames\": [\"lst\"], \"is_zombie\": false, \"is_highlighted\": false, \"unique_hash\": \"sdouble_f1\"}, {\"func_name\": \"sdouble\", \"is_parent\": false, \"frame_id\": 2, \"parent_frame_id_list\": [], \"encoded_locals\": {\"lst\": [\"REF\", 3]}, \"ordered_varnames\": [\"lst\"], \"is_zombie\": false, \"is_highlighted\": true, \"unique_hash\": \"sdouble_f2\"}], \"heap\": {\"3\": [\"LIST\", 9, 5], \"2\": [\"LIST\", 7, 9, 5], \"1\": [\"FUNCTION\", \"sdouble(lst)\", null]}, \"stdout\": \"\"}, {\"line\": 3, \"event\": \"step_line\", \"func_name\": \"sdouble\", \"globals\": {\"sdouble\": [\"REF\", 1]}, \"ordered_globals\": [\"sdouble\"], \"stack_to_render\": [{\"func_name\": \"sdouble\", \"is_parent\": false, \"frame_id\": 1, \"parent_frame_id_list\": [], \"encoded_locals\": {\"lst\": [\"REF\", 2]}, \"ordered_varnames\": [\"lst\"], \"is_zombie\": false, \"is_highlighted\": false, \"unique_hash\": \"sdouble_f1\"}, {\"func_name\": \"sdouble\", \"is_parent\": false, \"frame_id\": 2, \"parent_frame_id_list\": [], \"encoded_locals\": {\"lst\": [\"REF\", 3]}, \"ordered_varnames\": [\"lst\"], \"is_zombie\": false, \"is_highlighted\": true, \"unique_hash\": \"sdouble_f2\"}], \"heap\": {\"3\": [\"LIST\", 9, 5], \"2\": [\"LIST\", 7, 9, 5], \"1\": [\"FUNCTION\", \"sdouble(lst)\", null]}, \"stdout\": \"\"}, {\"line\": 6, \"event\": \"step_line\", \"func_name\": \"sdouble\", \"globals\": {\"sdouble\": [\"REF\", 1]}, \"ordered_globals\": [\"sdouble\"], \"stack_to_render\": [{\"func_name\": \"sdouble\", \"is_parent\": false, \"frame_id\": 1, \"parent_frame_id_list\": [], \"encoded_locals\": {\"lst\": [\"REF\", 2]}, \"ordered_varnames\": [\"lst\"], \"is_zombie\": false, \"is_highlighted\": false, \"unique_hash\": \"sdouble_f1\"}, {\"func_name\": \"sdouble\", \"is_parent\": false, \"frame_id\": 2, \"parent_frame_id_list\": [], \"encoded_locals\": {\"lst\": [\"REF\", 3]}, \"ordered_varnames\": [\"lst\"], \"is_zombie\": false, \"is_highlighted\": true, \"unique_hash\": \"sdouble_f2\"}], \"heap\": {\"3\": [\"LIST\", 9, 5], \"2\": [\"LIST\", 7, 9, 5], \"1\": [\"FUNCTION\", \"sdouble(lst)\", null]}, \"stdout\": \"\"}, {\"line\": 2, \"event\": \"call\", \"func_name\": \"sdouble\", \"globals\": {\"sdouble\": [\"REF\", 1]}, \"ordered_globals\": [\"sdouble\"], \"stack_to_render\": [{\"func_name\": \"sdouble\", \"is_parent\": false, \"frame_id\": 1, \"parent_frame_id_list\": [], \"encoded_locals\": {\"lst\": [\"REF\", 2]}, \"ordered_varnames\": [\"lst\"], \"is_zombie\": false, \"is_highlighted\": false, \"unique_hash\": \"sdouble_f1\"}, {\"func_name\": \"sdouble\", \"is_parent\": false, \"frame_id\": 2, \"parent_frame_id_list\": [], \"encoded_locals\": {\"lst\": [\"REF\", 3]}, \"ordered_varnames\": [\"lst\"], \"is_zombie\": false, \"is_highlighted\": false, \"unique_hash\": \"sdouble_f2\"}, {\"func_name\": \"sdouble\", \"is_parent\": false, \"frame_id\": 3, \"parent_frame_id_list\": [], \"encoded_locals\": {\"lst\": [\"REF\", 4]}, \"ordered_varnames\": [\"lst\"], \"is_zombie\": false, \"is_highlighted\": true, \"unique_hash\": \"sdouble_f3\"}], \"heap\": {\"4\": [\"LIST\", 5], \"3\": [\"LIST\", 9, 5], \"2\": [\"LIST\", 7, 9, 5], \"1\": [\"FUNCTION\", \"sdouble(lst)\", null]}, \"stdout\": \"\"}, {\"line\": 3, \"event\": \"step_line\", \"func_name\": \"sdouble\", \"globals\": {\"sdouble\": [\"REF\", 1]}, \"ordered_globals\": [\"sdouble\"], \"stack_to_render\": [{\"func_name\": \"sdouble\", \"is_parent\": false, \"frame_id\": 1, \"parent_frame_id_list\": [], \"encoded_locals\": {\"lst\": [\"REF\", 2]}, \"ordered_varnames\": [\"lst\"], \"is_zombie\": false, \"is_highlighted\": false, \"unique_hash\": \"sdouble_f1\"}, {\"func_name\": \"sdouble\", \"is_parent\": false, \"frame_id\": 2, \"parent_frame_id_list\": [], \"encoded_locals\": {\"lst\": [\"REF\", 3]}, \"ordered_varnames\": [\"lst\"], \"is_zombie\": false, \"is_highlighted\": false, \"unique_hash\": \"sdouble_f2\"}, {\"func_name\": \"sdouble\", \"is_parent\": false, \"frame_id\": 3, \"parent_frame_id_list\": [], \"encoded_locals\": {\"lst\": [\"REF\", 4]}, \"ordered_varnames\": [\"lst\"], \"is_zombie\": false, \"is_highlighted\": true, \"unique_hash\": \"sdouble_f3\"}], \"heap\": {\"4\": [\"LIST\", 5], \"3\": [\"LIST\", 9, 5], \"2\": [\"LIST\", 7, 9, 5], \"1\": [\"FUNCTION\", \"sdouble(lst)\", null]}, \"stdout\": \"\"}, {\"line\": 6, \"event\": \"step_line\", \"func_name\": \"sdouble\", \"globals\": {\"sdouble\": [\"REF\", 1]}, \"ordered_globals\": [\"sdouble\"], \"stack_to_render\": [{\"func_name\": \"sdouble\", \"is_parent\": false, \"frame_id\": 1, \"parent_frame_id_list\": [], \"encoded_locals\": {\"lst\": [\"REF\", 2]}, \"ordered_varnames\": [\"lst\"], \"is_zombie\": false, \"is_highlighted\": false, \"unique_hash\": \"sdouble_f1\"}, {\"func_name\": \"sdouble\", \"is_parent\": false, \"frame_id\": 2, \"parent_frame_id_list\": [], \"encoded_locals\": {\"lst\": [\"REF\", 3]}, \"ordered_varnames\": [\"lst\"], \"is_zombie\": false, \"is_highlighted\": false, \"unique_hash\": \"sdouble_f2\"}, {\"func_name\": \"sdouble\", \"is_parent\": false, \"frame_id\": 3, \"parent_frame_id_list\": [], \"encoded_locals\": {\"lst\": [\"REF\", 4]}, \"ordered_varnames\": [\"lst\"], \"is_zombie\": false, \"is_highlighted\": true, \"unique_hash\": \"sdouble_f3\"}], \"heap\": {\"4\": [\"LIST\", 5], \"3\": [\"LIST\", 9, 5], \"2\": [\"LIST\", 7, 9, 5], \"1\": [\"FUNCTION\", \"sdouble(lst)\", null]}, \"stdout\": \"\"}, {\"line\": 2, \"event\": \"call\", \"func_name\": \"sdouble\", \"globals\": {\"sdouble\": [\"REF\", 1]}, \"ordered_globals\": [\"sdouble\"], \"stack_to_render\": [{\"func_name\": \"sdouble\", \"is_parent\": false, \"frame_id\": 1, \"parent_frame_id_list\": [], \"encoded_locals\": {\"lst\": [\"REF\", 2]}, \"ordered_varnames\": [\"lst\"], \"is_zombie\": false, \"is_highlighted\": false, \"unique_hash\": \"sdouble_f1\"}, {\"func_name\": \"sdouble\", \"is_parent\": false, \"frame_id\": 2, \"parent_frame_id_list\": [], \"encoded_locals\": {\"lst\": [\"REF\", 3]}, \"ordered_varnames\": [\"lst\"], \"is_zombie\": false, \"is_highlighted\": false, \"unique_hash\": \"sdouble_f2\"}, {\"func_name\": \"sdouble\", \"is_parent\": false, \"frame_id\": 3, \"parent_frame_id_list\": [], \"encoded_locals\": {\"lst\": [\"REF\", 4]}, \"ordered_varnames\": [\"lst\"], \"is_zombie\": false, \"is_highlighted\": false, \"unique_hash\": \"sdouble_f3\"}, {\"func_name\": \"sdouble\", \"is_parent\": false, \"frame_id\": 4, \"parent_frame_id_list\": [], \"encoded_locals\": {\"lst\": [\"REF\", 5]}, \"ordered_varnames\": [\"lst\"], \"is_zombie\": false, \"is_highlighted\": true, \"unique_hash\": \"sdouble_f4\"}], \"heap\": {\"5\": [\"LIST\"], \"4\": [\"LIST\", 5], \"3\": [\"LIST\", 9, 5], \"2\": [\"LIST\", 7, 9, 5], \"1\": [\"FUNCTION\", \"sdouble(lst)\", null]}, \"stdout\": \"\"}, {\"line\": 3, \"event\": \"step_line\", \"func_name\": \"sdouble\", \"globals\": {\"sdouble\": [\"REF\", 1]}, \"ordered_globals\": [\"sdouble\"], \"stack_to_render\": [{\"func_name\": \"sdouble\", \"is_parent\": false, \"frame_id\": 1, \"parent_frame_id_list\": [], \"encoded_locals\": {\"lst\": [\"REF\", 2]}, \"ordered_varnames\": [\"lst\"], \"is_zombie\": false, \"is_highlighted\": false, \"unique_hash\": \"sdouble_f1\"}, {\"func_name\": \"sdouble\", \"is_parent\": false, \"frame_id\": 2, \"parent_frame_id_list\": [], \"encoded_locals\": {\"lst\": [\"REF\", 3]}, \"ordered_varnames\": [\"lst\"], \"is_zombie\": false, \"is_highlighted\": false, \"unique_hash\": \"sdouble_f2\"}, {\"func_name\": \"sdouble\", \"is_parent\": false, \"frame_id\": 3, \"parent_frame_id_list\": [], \"encoded_locals\": {\"lst\": [\"REF\", 4]}, \"ordered_varnames\": [\"lst\"], \"is_zombie\": false, \"is_highlighted\": false, \"unique_hash\": \"sdouble_f3\"}, {\"func_name\": \"sdouble\", \"is_parent\": false, \"frame_id\": 4, \"parent_frame_id_list\": [], \"encoded_locals\": {\"lst\": [\"REF\", 5]}, \"ordered_varnames\": [\"lst\"], \"is_zombie\": false, \"is_highlighted\": true, \"unique_hash\": \"sdouble_f4\"}], \"heap\": {\"5\": [\"LIST\"], \"4\": [\"LIST\", 5], \"3\": [\"LIST\", 9, 5], \"2\": [\"LIST\", 7, 9, 5], \"1\": [\"FUNCTION\", \"sdouble(lst)\", null]}, \"stdout\": \"\"}, {\"line\": 4, \"event\": \"step_line\", \"func_name\": \"sdouble\", \"globals\": {\"sdouble\": [\"REF\", 1]}, \"ordered_globals\": [\"sdouble\"], \"stack_to_render\": [{\"func_name\": \"sdouble\", \"is_parent\": false, \"frame_id\": 1, \"parent_frame_id_list\": [], \"encoded_locals\": {\"lst\": [\"REF\", 2]}, \"ordered_varnames\": [\"lst\"], \"is_zombie\": false, \"is_highlighted\": false, \"unique_hash\": \"sdouble_f1\"}, {\"func_name\": \"sdouble\", \"is_parent\": false, \"frame_id\": 2, \"parent_frame_id_list\": [], \"encoded_locals\": {\"lst\": [\"REF\", 3]}, \"ordered_varnames\": [\"lst\"], \"is_zombie\": false, \"is_highlighted\": false, \"unique_hash\": \"sdouble_f2\"}, {\"func_name\": \"sdouble\", \"is_parent\": false, \"frame_id\": 3, \"parent_frame_id_list\": [], \"encoded_locals\": {\"lst\": [\"REF\", 4]}, \"ordered_varnames\": [\"lst\"], \"is_zombie\": false, \"is_highlighted\": false, \"unique_hash\": \"sdouble_f3\"}, {\"func_name\": \"sdouble\", \"is_parent\": false, \"frame_id\": 4, \"parent_frame_id_list\": [], \"encoded_locals\": {\"lst\": [\"REF\", 5]}, \"ordered_varnames\": [\"lst\"], \"is_zombie\": false, \"is_highlighted\": true, \"unique_hash\": \"sdouble_f4\"}], \"heap\": {\"5\": [\"LIST\"], \"4\": [\"LIST\", 5], \"3\": [\"LIST\", 9, 5], \"2\": [\"LIST\", 7, 9, 5], \"1\": [\"FUNCTION\", \"sdouble(lst)\", null]}, \"stdout\": \"\"}, {\"line\": 4, \"event\": \"return\", \"func_name\": \"sdouble\", \"globals\": {\"sdouble\": [\"REF\", 1]}, \"ordered_globals\": [\"sdouble\"], \"stack_to_render\": [{\"func_name\": \"sdouble\", \"is_parent\": false, \"frame_id\": 1, \"parent_frame_id_list\": [], \"encoded_locals\": {\"lst\": [\"REF\", 2]}, \"ordered_varnames\": [\"lst\"], \"is_zombie\": false, \"is_highlighted\": false, \"unique_hash\": \"sdouble_f1\"}, {\"func_name\": \"sdouble\", \"is_parent\": false, \"frame_id\": 2, \"parent_frame_id_list\": [], \"encoded_locals\": {\"lst\": [\"REF\", 3]}, \"ordered_varnames\": [\"lst\"], \"is_zombie\": false, \"is_highlighted\": false, \"unique_hash\": \"sdouble_f2\"}, {\"func_name\": \"sdouble\", \"is_parent\": false, \"frame_id\": 3, \"parent_frame_id_list\": [], \"encoded_locals\": {\"lst\": [\"REF\", 4]}, \"ordered_varnames\": [\"lst\"], \"is_zombie\": false, \"is_highlighted\": false, \"unique_hash\": \"sdouble_f3\"}, {\"func_name\": \"sdouble\", \"is_parent\": false, \"frame_id\": 4, \"parent_frame_id_list\": [], \"encoded_locals\": {\"lst\": [\"REF\", 5], \"__return__\": [\"REF\", 6]}, \"ordered_varnames\": [\"lst\", \"__return__\"], \"is_zombie\": false, \"is_highlighted\": true, \"unique_hash\": \"sdouble_f4\"}], \"heap\": {\"5\": [\"LIST\"], \"6\": [\"LIST\"], \"4\": [\"LIST\", 5], \"3\": [\"LIST\", 9, 5], \"2\": [\"LIST\", 7, 9, 5], \"1\": [\"FUNCTION\", \"sdouble(lst)\", null]}, \"stdout\": \"\"}, {\"line\": 6, \"event\": \"return\", \"func_name\": \"sdouble\", \"globals\": {\"sdouble\": [\"REF\", 1]}, \"ordered_globals\": [\"sdouble\"], \"stack_to_render\": [{\"func_name\": \"sdouble\", \"is_parent\": false, \"frame_id\": 1, \"parent_frame_id_list\": [], \"encoded_locals\": {\"lst\": [\"REF\", 2]}, \"ordered_varnames\": [\"lst\"], \"is_zombie\": false, \"is_highlighted\": false, \"unique_hash\": \"sdouble_f1\"}, {\"func_name\": \"sdouble\", \"is_parent\": false, \"frame_id\": 2, \"parent_frame_id_list\": [], \"encoded_locals\": {\"lst\": [\"REF\", 3]}, \"ordered_varnames\": [\"lst\"], \"is_zombie\": false, \"is_highlighted\": false, \"unique_hash\": \"sdouble_f2\"}, {\"func_name\": \"sdouble\", \"is_parent\": false, \"frame_id\": 3, \"parent_frame_id_list\": [], \"encoded_locals\": {\"lst\": [\"REF\", 4], \"__return__\": [\"REF\", 7]}, \"ordered_varnames\": [\"lst\", \"__return__\"], \"is_zombie\": false, \"is_highlighted\": true, \"unique_hash\": \"sdouble_f3\"}], \"heap\": {\"4\": [\"LIST\", 5], \"7\": [\"LIST\", 10], \"3\": [\"LIST\", 9, 5], \"2\": [\"LIST\", 7, 9, 5], \"1\": [\"FUNCTION\", \"sdouble(lst)\", null]}, \"stdout\": \"\"}, {\"line\": 6, \"event\": \"return\", \"func_name\": \"sdouble\", \"globals\": {\"sdouble\": [\"REF\", 1]}, \"ordered_globals\": [\"sdouble\"], \"stack_to_render\": [{\"func_name\": \"sdouble\", \"is_parent\": false, \"frame_id\": 1, \"parent_frame_id_list\": [], \"encoded_locals\": {\"lst\": [\"REF\", 2]}, \"ordered_varnames\": [\"lst\"], \"is_zombie\": false, \"is_highlighted\": false, \"unique_hash\": \"sdouble_f1\"}, {\"func_name\": \"sdouble\", \"is_parent\": false, \"frame_id\": 2, \"parent_frame_id_list\": [], \"encoded_locals\": {\"lst\": [\"REF\", 3], \"__return__\": [\"REF\", 8]}, \"ordered_varnames\": [\"lst\", \"__return__\"], \"is_zombie\": false, \"is_highlighted\": true, \"unique_hash\": \"sdouble_f2\"}], \"heap\": {\"3\": [\"LIST\", 9, 5], \"8\": [\"LIST\", 18, 10], \"2\": [\"LIST\", 7, 9, 5], \"1\": [\"FUNCTION\", \"sdouble(lst)\", null]}, \"stdout\": \"\"}, {\"line\": 6, \"event\": \"return\", \"func_name\": \"sdouble\", \"globals\": {\"sdouble\": [\"REF\", 1]}, \"ordered_globals\": [\"sdouble\"], \"stack_to_render\": [{\"func_name\": \"sdouble\", \"is_parent\": false, \"frame_id\": 1, \"parent_frame_id_list\": [], \"encoded_locals\": {\"lst\": [\"REF\", 2], \"__return__\": [\"REF\", 9]}, \"ordered_varnames\": [\"lst\", \"__return__\"], \"is_zombie\": false, \"is_highlighted\": true, \"unique_hash\": \"sdouble_f1\"}], \"heap\": {\"2\": [\"LIST\", 7, 9, 5], \"9\": [\"LIST\", 14, 18, 10], \"1\": [\"FUNCTION\", \"sdouble(lst)\", null]}, \"stdout\": \"\"}, {\"line\": 9, \"event\": \"return\", \"func_name\": \"<module>\", \"globals\": {\"sdouble\": [\"REF\", 1], \"result\": [\"REF\", 9]}, \"ordered_globals\": [\"sdouble\", \"result\"], \"stack_to_render\": [], \"heap\": {\"1\": [\"FUNCTION\", \"sdouble(lst)\", null], \"9\": [\"LIST\", 14, 18, 10]}, \"stdout\": \"\"}]}\n",
       "        </script>\n",
       "        <div id=\"jm9cd469c1-9ef9-450f-ac0b-d2a1c68131aa\" class=\"pytutorVisualizer\"> </div>\n",
       " \n",
       "        <style>\n",
       "        .vizLayoutTd {\n",
       "            background-color: #fff !important;\n",
       "        }\n",
       "                            \n",
       "        #pyStdout {\n",
       "            min-height:25px;\n",
       "        }\n",
       "\n",
       "        /* 'Edit this code' link, hiding because replaces browser tab !!!*/\n",
       "        #editCodeLinkDiv {\n",
       "            display:none;  \n",
       "        }\n",
       "        </style>   \n",
       "                            \n",
       "        <script>\n",
       "        (function(){\n",
       "\n",
       "            var trace = JSON.parse(document.getElementById('json-jm9cd469c1-9ef9-450f-ac0b-d2a1c68131aa').innerHTML);                                        \n",
       "            // NOTE 1: id without #\n",
       "            // NOTE 2 - maybe there are more predictable ways, but this will work anyway\n",
       "            //        - id should be number\n",
       "            visualizerIdOverride = Math.trunc(Math.random() * 100000000000)\n",
       "            addVisualizerToPage(trace, 'jm9cd469c1-9ef9-450f-ac0b-d2a1c68131aa',{'embeddedMode' : false,\n",
       "                                             'visualizerIdOverride':visualizerIdOverride})  \n",
       "            \n",
       "            \n",
       "            // set overflow for pytuts - need to do in python as css \n",
       "            // does not allow parent selection\n",
       "            var pytuts = $('.pytutorVisualizer')\n",
       "            pytuts.closest('div.output_html.rendered_html.output_result')\n",
       "                    .css('overflow-x', 'visible')\n",
       "        \n",
       "            //pytuts.closest('div.output_html.rendered_html.output_result')\n",
       "            //      .css('background-color','red')                \n",
       "            \n",
       "        })()\n",
       "        </script>\n",
       "                \n",
       "                "
      ],
      "text/plain": [
       "<IPython.core.display.HTML object>"
      ]
     },
     "execution_count": 23,
     "metadata": {},
     "output_type": "execute_result"
    }
   ],
   "source": [
    "def sdouble(lst):                \n",
    "    if len(lst) == 0:\n",
    "        return []              # base case\n",
    "    else:\n",
    "        return [lst[0]*2] + sdouble(lst[1:])    # returning operation containing \n",
    "                                                # a recursive call on a smaller input\n",
    "        \n",
    "result = sdouble([7,9,5])\n",
    "jupman.pytut()"
   ]
  },
  {
   "cell_type": "code",
   "execution_count": 24,
   "id": "39504324-stripped",
   "metadata": {
    "nbsphinx": "hidden"
   },
   "outputs": [],
   "source": [],
   "transient": {
    "remove_source": true
   }
  },
  {
   "cell_type": "markdown",
   "id": "6ebeab56",
   "metadata": {},
   "source": [
    "### Exercise - debug double\n",
    "\n",
    "Try placing extra debug prints and separating the steps in the code above"
   ]
  },
  {
   "cell_type": "raw",
   "id": "b6afc41c",
   "metadata": {
    "format": "text/html"
   },
   "source": [
    "<a  class=\"jupman-sol jupman-sol-toggler\" \n",
    " onclick=\"jupman.toggleSolution(this);\" \n",
    " data-jupman-show=\"Show solution\" data-jupman-hide=\"Hide\">Show solution</a><div class=\"jupman-sol jupman-sol-code\" style=\"display:none\">  "
   ]
  },
  {
   "cell_type": "code",
   "execution_count": 25,
   "id": "b4907530",
   "metadata": {},
   "outputs": [
    {
     "name": "stdout",
     "output_type": "stream",
     "text": [
      " lst= [4, 9, 1, 5, 7, 3]\n",
      "  lst= [9, 1, 5, 7, 3]\n",
      "   lst= [1, 5, 7, 3]\n",
      "    lst= [5, 7, 3]\n",
      "     lst= [7, 3]\n",
      "      lst= [3]\n",
      "       lst= []\n",
      "      res= []\n",
      "     res= [6]\n",
      "    res= [14, 6]\n",
      "   res= [10, 14, 6]\n",
      "  res= [2, 10, 14, 6]\n",
      " res= [18, 2, 10, 14, 6]\n"
     ]
    },
    {
     "data": {
      "text/plain": [
       "[8, 18, 2, 10, 14, 6]"
      ]
     },
     "execution_count": 25,
     "metadata": {},
     "output_type": "execute_result"
    }
   ],
   "source": [
    "\n",
    "def sdouble(lst, level=0):               \n",
    "    print(' '*level, 'lst=', lst)\n",
    "    if len(lst) == 0:\n",
    "        return []              # base case\n",
    "    else:\n",
    "        res = sdouble(lst[1:], level+1)\n",
    "        print(' '*level, 'res=', res)\n",
    "        return [lst[0]*2] + res     # returning operation containing \n",
    "                                    # a recursive call on a smaller input\n",
    "\n",
    "result = sdouble([4,9,1,5,7,3])\n",
    "result"
   ]
  },
  {
   "cell_type": "raw",
   "id": "6115e8d9",
   "metadata": {
    "format": "text/html"
   },
   "source": [
    "</div>"
   ]
  },
  {
   "cell_type": "code",
   "execution_count": 25,
   "id": "b4907530-stripped",
   "metadata": {},
   "outputs": [
    {
     "name": "stdout",
     "output_type": "stream",
     "text": [
      " lst= [4, 9, 1, 5, 7, 3]\n",
      "  lst= [9, 1, 5, 7, 3]\n",
      "   lst= [1, 5, 7, 3]\n",
      "    lst= [5, 7, 3]\n",
      "     lst= [7, 3]\n",
      "      lst= [3]\n",
      "       lst= []\n",
      "      res= []\n",
      "     res= [6]\n",
      "    res= [14, 6]\n",
      "   res= [10, 14, 6]\n",
      "  res= [2, 10, 14, 6]\n",
      " res= [18, 2, 10, 14, 6]\n"
     ]
    },
    {
     "data": {
      "text/plain": [
       "[8, 18, 2, 10, 14, 6]"
      ]
     },
     "execution_count": 25,
     "metadata": {},
     "output_type": "execute_result"
    }
   ],
   "source": [
    "\n",
    "result = sdouble([4,9,1,5,7,3])\n",
    "result"
   ]
  },
  {
   "cell_type": "code",
   "execution_count": 26,
   "id": "106e238e-stripped",
   "metadata": {
    "nbsphinx": "hidden"
   },
   "outputs": [],
   "source": [],
   "transient": {
    "remove_source": true
   }
  },
  {
   "cell_type": "markdown",
   "id": "9eb13825",
   "metadata": {},
   "source": [
    "### Exercise - sfilter_even\n",
    "\n",
    "Takes a `lst` of numbers, and RETURN a NEW list with only the even numbers"
   ]
  },
  {
   "cell_type": "raw",
   "id": "a9bf8dcb",
   "metadata": {
    "format": "text/html"
   },
   "source": [
    "<a  class=\"jupman-sol jupman-sol-toggler\" \n",
    " onclick=\"jupman.toggleSolution(this);\" \n",
    " data-jupman-show=\"Show solution\" data-jupman-hide=\"Hide\">Show solution</a><div class=\"jupman-sol jupman-sol-code\" style=\"display:none\">  "
   ]
  },
  {
   "cell_type": "code",
   "execution_count": 27,
   "id": "18c1a843",
   "metadata": {},
   "outputs": [
    {
     "name": "stdout",
     "output_type": "stream",
     "text": [
      "[10, 4, 8, 6]\n"
     ]
    }
   ],
   "source": [
    "\n",
    "\n",
    "def sfilter_even(lst):\n",
    "    \n",
    "    if len(lst) == 0:\n",
    "        return []\n",
    "    else:\n",
    "        if lst[0] % 2 == 0:\n",
    "            return [lst[0]] + sfilter_even(lst[1:])\n",
    "        else:\n",
    "            return sfilter_even(lst[1:])\n",
    "    \n",
    "\n",
    "result = sfilter_even([3,7,10,5,4,8,6,11])\n",
    "print(result) # [10, 4, 8, 6]\n",
    "\n",
    "assert sfilter_even([3]) == []\n",
    "assert sfilter_even([4]) == [4]\n",
    "assert sfilter_even([3,6]) == [6]\n",
    "assert sfilter_even([8,3]) == [8]\n",
    "assert sfilter_even([8,3,2]) == [8,2]\n",
    "assert sfilter_even([7,7,8,3,2]) == [8,2]\n",
    "assert sfilter_even([3,7,10,5,4,8,6,11]) == [10,4,8,6]"
   ]
  },
  {
   "cell_type": "raw",
   "id": "2646bc9b",
   "metadata": {
    "format": "text/html"
   },
   "source": [
    "</div>"
   ]
  },
  {
   "cell_type": "code",
   "execution_count": 27,
   "id": "18c1a843-stripped",
   "metadata": {},
   "outputs": [],
   "source": [
    "\n",
    "\n",
    "def sfilter_even(lst):\n",
    "    raise Exception('TODO IMPLEMENT ME !')\n",
    "\n",
    "result = sfilter_even([3,7,10,5,4,8,6,11])\n",
    "print(result) # [10, 4, 8, 6]\n",
    "\n",
    "assert sfilter_even([3]) == []\n",
    "assert sfilter_even([4]) == [4]\n",
    "assert sfilter_even([3,6]) == [6]\n",
    "assert sfilter_even([8,3]) == [8]\n",
    "assert sfilter_even([8,3,2]) == [8,2]\n",
    "assert sfilter_even([7,7,8,3,2]) == [8,2]\n",
    "assert sfilter_even([3,7,10,5,4,8,6,11]) == [10,4,8,6]"
   ]
  },
  {
   "cell_type": "markdown",
   "id": "52af542c",
   "metadata": {},
   "source": [
    "### Exercise - smerry\n",
    "\n",
    "Given a `lst` with an even number of elements, RETURN a NEW list holding two element lists with consecutive content taken from the original list."
   ]
  },
  {
   "cell_type": "raw",
   "id": "ca01c2fa",
   "metadata": {
    "format": "text/html"
   },
   "source": [
    "<a  class=\"jupman-sol jupman-sol-toggler\" \n",
    " onclick=\"jupman.toggleSolution(this);\" \n",
    " data-jupman-show=\"Show solution\" data-jupman-hide=\"Hide\">Show solution</a><div class=\"jupman-sol jupman-sol-code\" style=\"display:none\">  "
   ]
  },
  {
   "cell_type": "code",
   "execution_count": 28,
   "id": "7756a7d9",
   "metadata": {},
   "outputs": [
    {
     "name": "stdout",
     "output_type": "stream",
     "text": [
      "[['a', 'b'], ['c', 'c'], ['a', 'd'], ['b', 'a']]\n"
     ]
    }
   ],
   "source": [
    "\n",
    "def smerry(lst):\n",
    "    \n",
    "    if len(lst) == 0:\n",
    "        return []\n",
    "    else:\n",
    "        return [[lst[0], lst[1]]] + smerry(lst[2:])\n",
    "    \n",
    "    \n",
    "result = smerry(['a','b','c','c','a','d','b','a'])\n",
    "print(result)  # [['a','b'],['c','c'],['a','d'],['b','a']]\n",
    "    \n",
    "assert smerry([]) == []\n",
    "assert smerry(['d','b']) == [['d','b']]\n",
    "assert smerry(['a','a','b','b']) == [['a','a'],['b','b']]\n",
    "assert smerry(['a','b','c','d']) == [['a','b'],['c','d']]\n",
    "assert smerry(['a','b','c','c','a','d','b','a']) == [['a','b'],['c','c'],['a','d'],['b','a']]"
   ]
  },
  {
   "cell_type": "raw",
   "id": "c98a4044",
   "metadata": {
    "format": "text/html"
   },
   "source": [
    "</div>"
   ]
  },
  {
   "cell_type": "code",
   "execution_count": 28,
   "id": "7756a7d9-stripped",
   "metadata": {},
   "outputs": [],
   "source": [
    "\n",
    "def smerry(lst):\n",
    "    raise Exception('TODO IMPLEMENT ME !')\n",
    "    \n",
    "result = smerry(['a','b','c','c','a','d','b','a'])\n",
    "print(result)  # [['a','b'],['c','c'],['a','d'],['b','a']]\n",
    "    \n",
    "assert smerry([]) == []\n",
    "assert smerry(['d','b']) == [['d','b']]\n",
    "assert smerry(['a','a','b','b']) == [['a','a'],['b','b']]\n",
    "assert smerry(['a','b','c','d']) == [['a','b'],['c','d']]\n",
    "assert smerry(['a','b','c','c','a','d','b','a']) == [['a','b'],['c','c'],['a','d'],['b','a']]"
   ]
  },
  {
   "cell_type": "markdown",
   "id": "f049bada",
   "metadata": {},
   "source": [
    "### Exercise - ssum\n",
    "\n",
    "Takes a `lst` of numbers and RETURN the sum of all numbers.\n",
    "\n",
    "**DO NOT** use `sum` function ;-)"
   ]
  },
  {
   "cell_type": "raw",
   "id": "0e9cd26b",
   "metadata": {
    "format": "text/html"
   },
   "source": [
    "<a  class=\"jupman-sol jupman-sol-toggler\" \n",
    " onclick=\"jupman.toggleSolution(this);\" \n",
    " data-jupman-show=\"Show solution\" data-jupman-hide=\"Hide\">Show solution</a><div class=\"jupman-sol jupman-sol-code\" style=\"display:none\">  "
   ]
  },
  {
   "cell_type": "code",
   "execution_count": 29,
   "id": "c7bae669",
   "metadata": {},
   "outputs": [
    {
     "name": "stdout",
     "output_type": "stream",
     "text": [
      "15\n"
     ]
    }
   ],
   "source": [
    "\n",
    "def ssum(lst):\n",
    "    \n",
    "    if len(lst) == 0:\n",
    "        return 0\n",
    "    else:\n",
    "        return lst[0] + ssum(lst[1:])\n",
    "    \n",
    "    \n",
    "result = ssum([4,2,6,3])\n",
    "print(result)  # 15\n",
    "    \n",
    "assert ssum([4,2,6,3]) == 15\n",
    "assert ssum([]) == 0\n",
    "assert ssum([3]) == 3\n",
    "assert ssum([5,1]) == 6"
   ]
  },
  {
   "cell_type": "raw",
   "id": "65e52b65",
   "metadata": {
    "format": "text/html"
   },
   "source": [
    "</div>"
   ]
  },
  {
   "cell_type": "code",
   "execution_count": 29,
   "id": "c7bae669-stripped",
   "metadata": {},
   "outputs": [],
   "source": [
    "\n",
    "def ssum(lst):\n",
    "    raise Exception('TODO IMPLEMENT ME !')\n",
    "    \n",
    "result = ssum([4,2,6,3])\n",
    "print(result)  # 15\n",
    "    \n",
    "assert ssum([4,2,6,3]) == 15\n",
    "assert ssum([]) == 0\n",
    "assert ssum([3]) == 3\n",
    "assert ssum([5,1]) == 6"
   ]
  },
  {
   "cell_type": "markdown",
   "id": "214fa92c",
   "metadata": {},
   "source": [
    "### Exercise - smin\n",
    "\n",
    "Given a `lst` of numbers, RETURN the minimum\n",
    "\n",
    "- **DON'T** use `min` function..\n",
    "- **assume the list has at least one element**"
   ]
  },
  {
   "cell_type": "raw",
   "id": "315fb984",
   "metadata": {
    "format": "text/html"
   },
   "source": [
    "<a  class=\"jupman-sol jupman-sol-toggler\" \n",
    " onclick=\"jupman.toggleSolution(this);\" \n",
    " data-jupman-show=\"Show solution\" data-jupman-hide=\"Hide\">Show solution</a><div class=\"jupman-sol jupman-sol-code\" style=\"display:none\">  "
   ]
  },
  {
   "cell_type": "code",
   "execution_count": 30,
   "id": "5d2a902e",
   "metadata": {},
   "outputs": [
    {
     "name": "stdout",
     "output_type": "stream",
     "text": [
      "-10\n"
     ]
    }
   ],
   "source": [
    "\n",
    "import math\n",
    "def smin(lst):\n",
    "    \n",
    "    if  len(lst) == 1:\n",
    "        return lst[0]\n",
    "    else:        \n",
    "        res = smin(lst[1:])\n",
    "        if lst[0] < res:\n",
    "            return lst[0]\n",
    "        else:\n",
    "            return res\n",
    "    \n",
    "    \n",
    "result = smin([3,6,5,8,-3,8,-2,-10,4])\n",
    "print(result)  # -10\n",
    "\n",
    "assert smin([4]) == 4\n",
    "assert smin([4,1]) == 1\n",
    "assert smin([0,9]) == 0\n",
    "assert smin([6,8,5]) == 5\n",
    "assert smin([3,6,5,8,3,8,2,10,4]) == 2"
   ]
  },
  {
   "cell_type": "raw",
   "id": "d37807ea",
   "metadata": {
    "format": "text/html"
   },
   "source": [
    "</div>"
   ]
  },
  {
   "cell_type": "code",
   "execution_count": 30,
   "id": "5d2a902e-stripped",
   "metadata": {},
   "outputs": [],
   "source": [
    "\n",
    "import math\n",
    "def smin(lst):\n",
    "    raise Exception('TODO IMPLEMENT ME !')\n",
    "    \n",
    "result = smin([3,6,5,8,-3,8,-2,-10,4])\n",
    "print(result)  # -10\n",
    "\n",
    "assert smin([4]) == 4\n",
    "assert smin([4,1]) == 1\n",
    "assert smin([0,9]) == 0\n",
    "assert smin([6,8,5]) == 5\n",
    "assert smin([3,6,5,8,3,8,2,10,4]) == 2"
   ]
  },
  {
   "cell_type": "markdown",
   "id": "86d71c62",
   "metadata": {},
   "source": [
    "### Exercise - ssearch\n",
    "\n",
    "Given an `el` to search and a `lst`, RETURN `True` if such element is present or `False` otherwise\n",
    "\n",
    "- **DO NOT** use `in` operator nor search methods like `.find`, `.index`, ....\n",
    "- consider shortening your code by using [Boolean evaluation order](https://en.softpython.org/basics/basics2-bools-sol.html#Evaluation-order)"
   ]
  },
  {
   "cell_type": "raw",
   "id": "c4522db3",
   "metadata": {
    "format": "text/html"
   },
   "source": [
    "<a  class=\"jupman-sol jupman-sol-toggler\" \n",
    " onclick=\"jupman.toggleSolution(this);\" \n",
    " data-jupman-show=\"Show solution\" data-jupman-hide=\"Hide\">Show solution</a><div class=\"jupman-sol jupman-sol-code\" style=\"display:none\">  "
   ]
  },
  {
   "cell_type": "code",
   "execution_count": 31,
   "id": "9283095c",
   "metadata": {},
   "outputs": [
    {
     "name": "stdout",
     "output_type": "stream",
     "text": [
      "True\n",
      "False\n"
     ]
    }
   ],
   "source": [
    "\n",
    "def ssearch(el, lst):\n",
    "    \n",
    "    if len(lst) == 0:\n",
    "        return False\n",
    "    else:\n",
    "        return lst[0] == el or ssearch(el, lst[1:])  # early termination using  boolean evaluation order!    \n",
    "    \n",
    "\n",
    "print(ssearch(7, [6,4,7,8]))   # True\n",
    "print(ssearch(5, [6,4,7,8]))   # False\n",
    "    \n",
    "assert ssearch(7, [6,4,7,8]) == True\n",
    "assert ssearch(7, [8]) == False\n",
    "assert ssearch(8, [8]) == True\n",
    "assert ssearch(5, [8,5]) == True\n",
    "assert ssearch(2, [8,5]) == False\n",
    "assert ssearch(7, [7,8,5]) == True\n",
    "assert ssearch(2, [8,2,5]) == True\n",
    "assert ssearch(9, [7,8,9]) == True\n",
    "assert ssearch(2, [8,9,5]) == False"
   ]
  },
  {
   "cell_type": "raw",
   "id": "864e34a3",
   "metadata": {
    "format": "text/html"
   },
   "source": [
    "</div>"
   ]
  },
  {
   "cell_type": "code",
   "execution_count": 31,
   "id": "9283095c-stripped",
   "metadata": {},
   "outputs": [],
   "source": [
    "\n",
    "def ssearch(el, lst):\n",
    "    raise Exception('TODO IMPLEMENT ME !')\n",
    "\n",
    "print(ssearch(7, [6,4,7,8]))   # True\n",
    "print(ssearch(5, [6,4,7,8]))   # False\n",
    "    \n",
    "assert ssearch(7, [6,4,7,8]) == True\n",
    "assert ssearch(7, [8]) == False\n",
    "assert ssearch(8, [8]) == True\n",
    "assert ssearch(5, [8,5]) == True\n",
    "assert ssearch(2, [8,5]) == False\n",
    "assert ssearch(7, [7,8,5]) == True\n",
    "assert ssearch(2, [8,2,5]) == True\n",
    "assert ssearch(9, [7,8,9]) == True\n",
    "assert ssearch(2, [8,9,5]) == False"
   ]
  },
  {
   "cell_type": "markdown",
   "id": "2c54cc04",
   "metadata": {},
   "source": [
    "### Exercise - sbin_search\n",
    "\n",
    "If the list is already sorted we can write a faster search. Start looking in the middle of the list: if that cell is the searched element, you're done. Otherwise  if searched element is lesser do recursion on left sublist, otherwise on right sublist.\n",
    "\n",
    "* `lst` is a list of $n$  **already sorted** elements \n",
    "\n",
    "**DO NOT** use `in` operator, `.find` nor `.index` methods"
   ]
  },
  {
   "cell_type": "raw",
   "id": "e2058169",
   "metadata": {
    "format": "text/html"
   },
   "source": [
    "<a  class=\"jupman-sol jupman-sol-toggler\" \n",
    " onclick=\"jupman.toggleSolution(this);\" \n",
    " data-jupman-show=\"Show solution\" data-jupman-hide=\"Hide\">Show solution</a><div class=\"jupman-sol jupman-sol-code\" style=\"display:none\">  "
   ]
  },
  {
   "cell_type": "code",
   "execution_count": 32,
   "id": "275a6915",
   "metadata": {},
   "outputs": [
    {
     "name": "stdout",
     "output_type": "stream",
     "text": [
      "True\n",
      "False\n"
     ]
    }
   ],
   "source": [
    "\n",
    "\n",
    "def sbin_search(el, lst):\n",
    "    \n",
    "       \n",
    "    k = len(lst) // 2    \n",
    "    if len(lst) == 0:\n",
    "        return False    \n",
    "    elif el == lst[k]:\n",
    "        return True    \n",
    "    elif el < lst[k]:\n",
    "        return sbin_search(el, lst[:k])\n",
    "    else: # > \n",
    "        return sbin_search(el, lst[k+1:])        \n",
    "    \n",
    "    \n",
    "print(sbin_search(33, [8,9,15,17,20,24,28,29,33,36,39]))  # True\n",
    "print(sbin_search(10, [8,9,15,17,20,24,28,29,33,36,39]))  # False\n",
    "\n",
    "assert sbin_search(5, [5]) == True\n",
    "assert sbin_search(4, []) == False\n",
    "assert sbin_search(3, [7]) == False\n",
    "assert sbin_search(3, [3,7]) == True\n",
    "assert sbin_search(3, [3,6]) == True\n",
    "assert sbin_search(4, [2,9]) == False\n",
    "assert sbin_search(5, [2,9]) == False\n",
    "assert sbin_search(5, [5,7,9]) == True\n",
    "assert sbin_search(7, [5,7,9]) == True\n",
    "assert sbin_search(9, [5,7,9]) == True\n",
    "assert sbin_search(4, [5,7,9]) == False\n",
    "assert sbin_search(6, [5,7,9]) == False\n",
    "assert sbin_search(8, [5,7,9]) == False\n",
    "assert sbin_search(10, [5,7,9]) == False\n",
    "assert sbin_search(33, [8,9,15,17,20,24,28,29,33,36,39]) == True\n",
    "assert sbin_search(10, [8,9,15,17,20,24,28,29,33,36,39]) == False"
   ]
  },
  {
   "cell_type": "raw",
   "id": "e568daee",
   "metadata": {
    "format": "text/html"
   },
   "source": [
    "</div>"
   ]
  },
  {
   "cell_type": "code",
   "execution_count": 32,
   "id": "275a6915-stripped",
   "metadata": {},
   "outputs": [],
   "source": [
    "\n",
    "\n",
    "def sbin_search(el, lst):\n",
    "    raise Exception('TODO IMPLEMENT ME !')\n",
    "    \n",
    "print(sbin_search(33, [8,9,15,17,20,24,28,29,33,36,39]))  # True\n",
    "print(sbin_search(10, [8,9,15,17,20,24,28,29,33,36,39]))  # False\n",
    "\n",
    "assert sbin_search(5, [5]) == True\n",
    "assert sbin_search(4, []) == False\n",
    "assert sbin_search(3, [7]) == False\n",
    "assert sbin_search(3, [3,7]) == True\n",
    "assert sbin_search(3, [3,6]) == True\n",
    "assert sbin_search(4, [2,9]) == False\n",
    "assert sbin_search(5, [2,9]) == False\n",
    "assert sbin_search(5, [5,7,9]) == True\n",
    "assert sbin_search(7, [5,7,9]) == True\n",
    "assert sbin_search(9, [5,7,9]) == True\n",
    "assert sbin_search(4, [5,7,9]) == False\n",
    "assert sbin_search(6, [5,7,9]) == False\n",
    "assert sbin_search(8, [5,7,9]) == False\n",
    "assert sbin_search(10, [5,7,9]) == False\n",
    "assert sbin_search(33, [8,9,15,17,20,24,28,29,33,36,39]) == True\n",
    "assert sbin_search(10, [8,9,15,17,20,24,28,29,33,36,39]) == False"
   ]
  },
  {
   "cell_type": "markdown",
   "id": "3a808879",
   "metadata": {},
   "source": [
    "### Exercise - szip\n",
    "\n",
    "Given two lists, RETURN a NEW list having couples as tuples with elements taken pairwise from `lst1` and `lst2`\n",
    "\n",
    "* **DO NOT** use `zip` function"
   ]
  },
  {
   "cell_type": "raw",
   "id": "21183103",
   "metadata": {
    "format": "text/html"
   },
   "source": [
    "<a  class=\"jupman-sol jupman-sol-toggler\" \n",
    " onclick=\"jupman.toggleSolution(this);\" \n",
    " data-jupman-show=\"Show solution\" data-jupman-hide=\"Hide\">Show solution</a><div class=\"jupman-sol jupman-sol-code\" style=\"display:none\">  "
   ]
  },
  {
   "cell_type": "code",
   "execution_count": 33,
   "id": "defa5251",
   "metadata": {},
   "outputs": [
    {
     "name": "stdout",
     "output_type": "stream",
     "text": [
      "[(3, 'a'), (5, 'd'), (1, 'e'), (6, 'w')]\n"
     ]
    }
   ],
   "source": [
    "\n",
    "def szip(lst1, lst2):\n",
    "    \n",
    "    if len(lst1) == 0:\n",
    "        return []\n",
    "    else:\n",
    "        return [(lst1[0], lst2[0])] +  szip(lst1[1:], lst2[1:])\n",
    "    \n",
    "    \n",
    "result = szip([3,5,1,6], ['a','d','e','w'])    \n",
    "print(result)  # [(3,'a'), (5,'d'), (1,'e'), (6,'w')]\n",
    "    \n",
    "assert szip([], []) == []    \n",
    "assert szip(['a'], [0]) == [('a',0)]\n",
    "assert szip(['z','a'], [2,4]) == [('z',2), ('a',4)]\n",
    "assert szip([3,5,1,6], ['a','d','e','w']) == [(3,'a'), (5,'d'), (1,'e'), (6,'w')]"
   ]
  },
  {
   "cell_type": "raw",
   "id": "7a854ada",
   "metadata": {
    "format": "text/html"
   },
   "source": [
    "</div>"
   ]
  },
  {
   "cell_type": "code",
   "execution_count": 33,
   "id": "defa5251-stripped",
   "metadata": {},
   "outputs": [],
   "source": [
    "\n",
    "def szip(lst1, lst2):\n",
    "    raise Exception('TODO IMPLEMENT ME !')\n",
    "    \n",
    "result = szip([3,5,1,6], ['a','d','e','w'])    \n",
    "print(result)  # [(3,'a'), (5,'d'), (1,'e'), (6,'w')]\n",
    "    \n",
    "assert szip([], []) == []    \n",
    "assert szip(['a'], [0]) == [('a',0)]\n",
    "assert szip(['z','a'], [2,4]) == [('z',2), ('a',4)]\n",
    "assert szip([3,5,1,6], ['a','d','e','w']) == [(3,'a'), (5,'d'), (1,'e'), (6,'w')]"
   ]
  },
  {
   "cell_type": "markdown",
   "id": "b4153c75",
   "metadata": {},
   "source": [
    "### Exercise - sunnest \n",
    "\n",
    "Given a `lst` of lists, RETURN a NEW list without sublists (also called _shallow unnest_)\n",
    "\n",
    "- assume sublists cannot have further sublists inside"
   ]
  },
  {
   "cell_type": "raw",
   "id": "9a9f3ac3",
   "metadata": {
    "format": "text/html"
   },
   "source": [
    "<a  class=\"jupman-sol jupman-sol-toggler\" \n",
    " onclick=\"jupman.toggleSolution(this);\" \n",
    " data-jupman-show=\"Show solution\" data-jupman-hide=\"Hide\">Show solution</a><div class=\"jupman-sol jupman-sol-code\" style=\"display:none\">  "
   ]
  },
  {
   "cell_type": "code",
   "execution_count": 34,
   "id": "f6ea3800",
   "metadata": {},
   "outputs": [
    {
     "name": "stdout",
     "output_type": "stream",
     "text": [
      "[3, 2, 5, 2, 4, 0, 9, 5, 1]\n"
     ]
    }
   ],
   "source": [
    "\n",
    "def sunnest(lst):\n",
    "    \n",
    "    if len(lst) == 0:\n",
    "        return []\n",
    "    else:\n",
    "        return lst[0] + sunnest(lst[1:])\n",
    "    \n",
    "    \n",
    "result = sunnest([[3,2,5], [2,4], [0,9,5,1]])    \n",
    "print(result)  # [3,2,5,2,4,0,9,5,1]\n",
    "    \n",
    "assert sunnest([]) == []\n",
    "assert sunnest([[]]) == []\n",
    "assert sunnest([[],[]]) == []\n",
    "assert sunnest([[],[4]]) == [4]\n",
    "assert sunnest([[3],[]]) == [3]\n",
    "assert sunnest([[3,2]]) == [3,2]\n",
    "assert sunnest([[3,2]]) == [3,2]\n",
    "assert sunnest([[3,2,5], [2,4], [0,9,5,1]]) == [3,2,5,2,4,0,9,5,1]"
   ]
  },
  {
   "cell_type": "raw",
   "id": "b70649f2",
   "metadata": {
    "format": "text/html"
   },
   "source": [
    "</div>"
   ]
  },
  {
   "cell_type": "code",
   "execution_count": 34,
   "id": "f6ea3800-stripped",
   "metadata": {},
   "outputs": [],
   "source": [
    "\n",
    "def sunnest(lst):\n",
    "    raise Exception('TODO IMPLEMENT ME !')\n",
    "    \n",
    "result = sunnest([[3,2,5], [2,4], [0,9,5,1]])    \n",
    "print(result)  # [3,2,5,2,4,0,9,5,1]\n",
    "    \n",
    "assert sunnest([]) == []\n",
    "assert sunnest([[]]) == []\n",
    "assert sunnest([[],[]]) == []\n",
    "assert sunnest([[],[4]]) == [4]\n",
    "assert sunnest([[3],[]]) == [3]\n",
    "assert sunnest([[3,2]]) == [3,2]\n",
    "assert sunnest([[3,2]]) == [3,2]\n",
    "assert sunnest([[3,2,5], [2,4], [0,9,5,1]]) == [3,2,5,2,4,0,9,5,1]"
   ]
  },
  {
   "cell_type": "markdown",
   "id": "939d336a",
   "metadata": {},
   "source": [
    "### Exercise - sfib\n",
    "\n",
    "Given a number `n`, RETURN a NEW list with all the numbers of Fibonacci sequence:\n",
    "\n",
    "|$n$  | 0| 1| 2| 3| 4| 5| 6| 7| 8| 9| 10|\n",
    "|-----|--|--|--|--|--|--|--|--|--|--|---|\n",
    "|$x_n$| 0| 1| 1| 2| 3| 5| 8|13|21|34|...|\n",
    "\n",
    "Base cases:\n",
    "\n",
    "* $x_0$ = 0\n",
    "* $x_1$ = 1\n",
    "\n",
    "The next number is found by adding up the two numbers before it:\n",
    "\n",
    "- $x_2$ is 0+1\n",
    "- $x_3$ is 1+1\n",
    "- $x_4$ is 2+1\n",
    "- $x_5$ is 3+2\n",
    "- and so on..."
   ]
  },
  {
   "cell_type": "raw",
   "id": "b103fe2f",
   "metadata": {
    "format": "text/html"
   },
   "source": [
    "<a  class=\"jupman-sol jupman-sol-toggler\" \n",
    " onclick=\"jupman.toggleSolution(this);\" \n",
    " data-jupman-show=\"Show solution\" data-jupman-hide=\"Hide\">Show solution</a><div class=\"jupman-sol jupman-sol-code\" style=\"display:none\">  "
   ]
  },
  {
   "cell_type": "code",
   "execution_count": 35,
   "id": "b0787ddb",
   "metadata": {},
   "outputs": [
    {
     "name": "stdout",
     "output_type": "stream",
     "text": [
      "[0, 1, 1, 2, 3, 5, 8, 13]\n"
     ]
    }
   ],
   "source": [
    "def sfib(n):\n",
    "    \n",
    "    if n == 0:        \n",
    "        return [0]\n",
    "    elif n == 1:        \n",
    "        return [0,1]\n",
    "    else:\n",
    "        prev = sfib(n-1)\n",
    "        return prev + [prev[n-1] + prev[n-2]]\n",
    "    \n",
    "\n",
    "result = sfib(7) \n",
    "print(result) # [0,1,1,2,3,5,8,13]\n",
    "    \n",
    "assert sfib(0) == [0]\n",
    "assert sfib(1) == [0,1]\n",
    "assert sfib(2) == [0,1,1]\n",
    "assert sfib(3) == [0,1,1,2]\n",
    "assert sfib(4) == [0,1,1,2,3]\n",
    "assert sfib(5) == [0,1,1,2,3,5]\n",
    "assert sfib(6) == [0,1,1,2,3,5,8]\n",
    "assert sfib(7) == [0,1,1,2,3,5,8,13]"
   ]
  },
  {
   "cell_type": "raw",
   "id": "e0570548",
   "metadata": {
    "format": "text/html"
   },
   "source": [
    "</div>"
   ]
  },
  {
   "cell_type": "code",
   "execution_count": 35,
   "id": "b0787ddb-stripped",
   "metadata": {},
   "outputs": [
    {
     "name": "stdout",
     "output_type": "stream",
     "text": [
      "[0, 1, 1, 2, 3, 5, 8, 13]\n"
     ]
    }
   ],
   "source": [
    "def sfib(n):\n",
    "    raise Exception('TODO IMPLEMENT ME !')\n",
    "\n",
    "result = sfib(7) \n",
    "print(result) # [0,1,1,2,3,5,8,13]\n",
    "    \n",
    "assert sfib(0) == [0]\n",
    "assert sfib(1) == [0,1]\n",
    "assert sfib(2) == [0,1,1]\n",
    "assert sfib(3) == [0,1,1,2]\n",
    "assert sfib(4) == [0,1,1,2,3]\n",
    "assert sfib(5) == [0,1,1,2,3,5]\n",
    "assert sfib(6) == [0,1,1,2,3,5,8]\n",
    "assert sfib(7) == [0,1,1,2,3,5,8,13]"
   ]
  },
  {
   "cell_type": "markdown",
   "id": "f7c874e2",
   "metadata": {},
   "source": [
    "### Exercise - sall\n",
    "\n",
    "Given a `lst` of booleans, RETURN `True` if all elements are `True`, otherwise RETURN `False`\n",
    "\n",
    "* **DO NOT** use `all` function\n",
    "* assume `sall` of empty list is `True`\n",
    "* **HINT**: consider exploiting [Boolean evaluation order](https://en.softpython.org/basics/basics2-bools-sol.html#Evaluation-order) to shorten your code"
   ]
  },
  {
   "cell_type": "raw",
   "id": "6a9fe23f",
   "metadata": {
    "format": "text/html"
   },
   "source": [
    "<a  class=\"jupman-sol jupman-sol-toggler\" \n",
    " onclick=\"jupman.toggleSolution(this);\" \n",
    " data-jupman-show=\"Show solution\" data-jupman-hide=\"Hide\">Show solution</a><div class=\"jupman-sol jupman-sol-code\" style=\"display:none\">  "
   ]
  },
  {
   "cell_type": "code",
   "execution_count": 36,
   "id": "1e7c6c4c",
   "metadata": {},
   "outputs": [],
   "source": [
    "\n",
    "def sall(lst):\n",
    "    \n",
    "    if len(lst) == 0:\n",
    "        return True\n",
    "    else:\n",
    "        return lst[0] and sall(lst[1:])  # note if lst[0] is False evaluation stops immediately\n",
    "        \n",
    "    \n",
    "assert sall([]) == True\n",
    "assert sall([True]) == True\n",
    "assert sall([False]) == False\n",
    "assert sall([False, False]) == False\n",
    "assert sall([False, True]) == False\n",
    "assert sall([True, False]) == False\n",
    "assert sall([True, True]) == True\n",
    "assert sall([False, False, False]) == False\n",
    "assert sall([False, False, True]) == False\n",
    "assert sall([False, True, False]) == False\n",
    "assert sall([False, True, True]) == False\n",
    "assert sall([True, False, False]) == False\n",
    "assert sall([True, False, True]) == False\n",
    "assert sall([True, True, False]) == False\n",
    "assert sall([True, True, True]) == True"
   ]
  },
  {
   "cell_type": "raw",
   "id": "f5ac380d",
   "metadata": {
    "format": "text/html"
   },
   "source": [
    "</div>"
   ]
  },
  {
   "cell_type": "code",
   "execution_count": 36,
   "id": "1e7c6c4c-stripped",
   "metadata": {},
   "outputs": [],
   "source": [
    "\n",
    "def sall(lst):\n",
    "    raise Exception('TODO IMPLEMENT ME !')    \n",
    "    \n",
    "assert sall([]) == True\n",
    "assert sall([True]) == True\n",
    "assert sall([False]) == False\n",
    "assert sall([False, False]) == False\n",
    "assert sall([False, True]) == False\n",
    "assert sall([True, False]) == False\n",
    "assert sall([True, True]) == True\n",
    "assert sall([False, False, False]) == False\n",
    "assert sall([False, False, True]) == False\n",
    "assert sall([False, True, False]) == False\n",
    "assert sall([False, True, True]) == False\n",
    "assert sall([True, False, False]) == False\n",
    "assert sall([True, False, True]) == False\n",
    "assert sall([True, True, False]) == False\n",
    "assert sall([True, True, True]) == True"
   ]
  },
  {
   "cell_type": "markdown",
   "id": "8c2bc44d",
   "metadata": {},
   "source": [
    "### Exercise - srev\n",
    "\n",
    "Given a list, RETURN a NEW list reversed.\n",
    "\n",
    "- **DO NOT** use `reversed` function\n",
    "- **DO NOT** use slice stepping"
   ]
  },
  {
   "cell_type": "raw",
   "id": "e8e6beee",
   "metadata": {
    "format": "text/html"
   },
   "source": [
    "<a  class=\"jupman-sol jupman-sol-toggler\" \n",
    " onclick=\"jupman.toggleSolution(this);\" \n",
    " data-jupman-show=\"Show solution\" data-jupman-hide=\"Hide\">Show solution</a><div class=\"jupman-sol jupman-sol-code\" style=\"display:none\">  "
   ]
  },
  {
   "cell_type": "code",
   "execution_count": 37,
   "id": "65f53da2",
   "metadata": {},
   "outputs": [
    {
     "name": "stdout",
     "output_type": "stream",
     "text": [
      "[6, 5, 7, 9, 4]\n"
     ]
    }
   ],
   "source": [
    "\n",
    "def srev(lst):\n",
    "    \n",
    "    if len(lst) == 0:\n",
    "        return []\n",
    "    else:\n",
    "        return srev(lst[1:]) + [lst[0]]\n",
    "    \n",
    "    \n",
    "result = srev([4,9,7,5,6])\n",
    "print(result)\n",
    "\n",
    "assert srev([]) == []\n",
    "assert srev([3]) == [3]\n",
    "assert srev([5,3]) == [3,5]\n",
    "assert srev([6,6,2]) == [2,6,6]\n",
    "assert srev([4,9,7,5,6]) == [6,5,7,9,4]"
   ]
  },
  {
   "cell_type": "raw",
   "id": "16a0f36f",
   "metadata": {
    "format": "text/html"
   },
   "source": [
    "</div>"
   ]
  },
  {
   "cell_type": "code",
   "execution_count": 37,
   "id": "65f53da2-stripped",
   "metadata": {},
   "outputs": [],
   "source": [
    "\n",
    "def srev(lst):\n",
    "    raise Exception('TODO IMPLEMENT ME !')\n",
    "    \n",
    "result = srev([4,9,7,5,6])\n",
    "print(result)\n",
    "\n",
    "assert srev([]) == []\n",
    "assert srev([3]) == [3]\n",
    "assert srev([5,3]) == [3,5]\n",
    "assert srev([6,6,2]) == [2,6,6]\n",
    "assert srev([4,9,7,5,6]) == [6,5,7,9,4]"
   ]
  },
  {
   "cell_type": "markdown",
   "id": "9204684b",
   "metadata": {},
   "source": [
    "### Exercise - spalindrome\n",
    "\n",
    "A string is palindrome if it reads the same backward as forward.\n",
    "\n",
    "Given a string `s`, return `True` if the string is palindrome, otherwise return `False`. \n",
    "\n",
    "\n",
    "* we assume the empty string is palindrome\n",
    "* here we use strings but same rules for lists apply\n",
    "* **DO NOT** use string methods (so no `.index()`, `.find()`, ...)\n"
   ]
  },
  {
   "cell_type": "raw",
   "id": "38d326fb",
   "metadata": {
    "format": "text/html"
   },
   "source": [
    "<a  class=\"jupman-sol jupman-sol-toggler\" \n",
    " onclick=\"jupman.toggleSolution(this);\" \n",
    " data-jupman-show=\"Show solution\" data-jupman-hide=\"Hide\">Show solution</a><div class=\"jupman-sol jupman-sol-code\" style=\"display:none\">  "
   ]
  },
  {
   "cell_type": "code",
   "execution_count": 38,
   "id": "df8ca731",
   "metadata": {},
   "outputs": [],
   "source": [
    "\n",
    "def spalindrome(s):\n",
    "    \n",
    "    if len(s) == 0:\n",
    "        return True\n",
    "    elif len(s) == 1:\n",
    "        return True    \n",
    "    else:\n",
    "        if s[0] == s[-1]:\n",
    "            return spalindrome(s[1:-1])\n",
    "        else:\n",
    "            return False\n",
    "    \n",
    "\n",
    "assert spalindrome('') == True    \n",
    "assert spalindrome('a') == True\n",
    "assert spalindrome('ab') == False\n",
    "assert spalindrome('cc') == True\n",
    "assert spalindrome('ddv') == False\n",
    "assert spalindrome('vddv') == True\n",
    "assert spalindrome('axyb') == False\n",
    "assert spalindrome('kayak') == True\n",
    "assert spalindrome('kayag') == False\n",
    "assert spalindrome('rotator') == True\n",
    "assert spalindrome('rotating') == False\n",
    "assert spalindrome('noon') == True\n",
    "assert spalindrome('soon') == False\n",
    "assert spalindrome('abcdba') == False"
   ]
  },
  {
   "cell_type": "raw",
   "id": "cde6331d",
   "metadata": {
    "format": "text/html"
   },
   "source": [
    "</div>"
   ]
  },
  {
   "cell_type": "code",
   "execution_count": 38,
   "id": "df8ca731-stripped",
   "metadata": {},
   "outputs": [],
   "source": [
    "\n",
    "def spalindrome(s):\n",
    "    raise Exception('TODO IMPLEMENT ME !')\n",
    "\n",
    "assert spalindrome('') == True    \n",
    "assert spalindrome('a') == True\n",
    "assert spalindrome('ab') == False\n",
    "assert spalindrome('cc') == True\n",
    "assert spalindrome('ddv') == False\n",
    "assert spalindrome('vddv') == True\n",
    "assert spalindrome('axyb') == False\n",
    "assert spalindrome('kayak') == True\n",
    "assert spalindrome('kayag') == False\n",
    "assert spalindrome('rotator') == True\n",
    "assert spalindrome('rotating') == False\n",
    "assert spalindrome('noon') == True\n",
    "assert spalindrome('soon') == False\n",
    "assert spalindrome('abcdba') == False"
   ]
  },
  {
   "cell_type": "markdown",
   "id": "f11a55cf",
   "metadata": {},
   "source": [
    "### Exercise - snest\n",
    "\n",
    "Given a `lst`, RETURN a NEW list of deeply right nested lists as in the example"
   ]
  },
  {
   "cell_type": "raw",
   "id": "eb458e89",
   "metadata": {
    "format": "text/html"
   },
   "source": [
    "<a  class=\"jupman-sol jupman-sol-toggler\" \n",
    " onclick=\"jupman.toggleSolution(this);\" \n",
    " data-jupman-show=\"Show solution\" data-jupman-hide=\"Hide\">Show solution</a><div class=\"jupman-sol jupman-sol-code\" style=\"display:none\">  "
   ]
  },
  {
   "cell_type": "code",
   "execution_count": 39,
   "id": "0d3fb4a5",
   "metadata": {},
   "outputs": [
    {
     "name": "stdout",
     "output_type": "stream",
     "text": [
      "['a', ['b', ['c', ['d', ['e', ['g', ['h']]]]]]]\n"
     ]
    }
   ],
   "source": [
    "\n",
    "def snest(lst):\n",
    "    \n",
    "    if len(lst) == 0:\n",
    "        return []\n",
    "    elif len(lst) == 1:\n",
    "        return [lst[0]]\n",
    "    else:\n",
    "        return [lst[0], snest(lst[1:])]\n",
    "    \n",
    "    \n",
    "result = snest(['a','b','c','d','e','g','h'])     \n",
    "print(result)  # ['a',['b',['c',['d',['e',['g',['h']]]]]]]\n",
    "    \n",
    "assert snest([]) == []\n",
    "assert snest(['a']) == ['a']\n",
    "assert snest(['a','b']) == ['a',['b']]\n",
    "assert snest(['a','b','c']) == ['a',['b',['c']]]\n",
    "assert snest(['x','x','y']) == ['x',['x',['y']]]\n",
    "assert snest(['a','b','c','d','e','g','h']) == ['a',['b',['c',['d',['e',['g',['h']]]]]]]"
   ]
  },
  {
   "cell_type": "raw",
   "id": "41183e87",
   "metadata": {
    "format": "text/html"
   },
   "source": [
    "</div>"
   ]
  },
  {
   "cell_type": "code",
   "execution_count": 39,
   "id": "0d3fb4a5-stripped",
   "metadata": {},
   "outputs": [],
   "source": [
    "\n",
    "def snest(lst):\n",
    "    raise Exception('TODO IMPLEMENT ME !')\n",
    "    \n",
    "result = snest(['a','b','c','d','e','g','h'])     \n",
    "print(result)  # ['a',['b',['c',['d',['e',['g',['h']]]]]]]\n",
    "    \n",
    "assert snest([]) == []\n",
    "assert snest(['a']) == ['a']\n",
    "assert snest(['a','b']) == ['a',['b']]\n",
    "assert snest(['a','b','c']) == ['a',['b',['c']]]\n",
    "assert snest(['x','x','y']) == ['x',['x',['y']]]\n",
    "assert snest(['a','b','c','d','e','g','h']) == ['a',['b',['c',['d',['e',['g',['h']]]]]]]"
   ]
  },
  {
   "cell_type": "markdown",
   "id": "f8590412",
   "metadata": {},
   "source": [
    "### Exercise - spalace\n",
    "\n",
    "Given a `lst` of characters, RETURN a NEW list of deeply nested lists as in the example.\n",
    "\n",
    "* Pay attention to base cases, there are several"
   ]
  },
  {
   "cell_type": "raw",
   "id": "56d141a4",
   "metadata": {
    "format": "text/html"
   },
   "source": [
    "<a  class=\"jupman-sol jupman-sol-toggler\" \n",
    " onclick=\"jupman.toggleSolution(this);\" \n",
    " data-jupman-show=\"Show solution\" data-jupman-hide=\"Hide\">Show solution</a><div class=\"jupman-sol jupman-sol-code\" style=\"display:none\">  "
   ]
  },
  {
   "cell_type": "code",
   "execution_count": 40,
   "id": "51d8c4c5",
   "metadata": {},
   "outputs": [
    {
     "name": "stdout",
     "output_type": "stream",
     "text": [
      "['a', ['b', ['c', ['d', ['e'], 'f'], 'g'], 'h'], 'i']\n"
     ]
    }
   ],
   "source": [
    "\n",
    "\n",
    "def spalace(lst):\n",
    "    \n",
    "    if len(lst) == 0:\n",
    "        return []\n",
    "    elif len(lst) == 1:\n",
    "        return [lst[0]]\n",
    "    elif len(lst) == 2:\n",
    "        return [lst[0],lst[1]]\n",
    "    else:        \n",
    "        return [lst[0], spalace(lst[1:-1]),lst[-1]]\n",
    "    \n",
    "    \n",
    "result = spalace(['a','b','c','d','e','f','g','h','i']) \n",
    "print(result)   # ['a', ['b', ['c', ['d', ['e'], 'f'], 'g'], 'h'], 'i']     \n",
    "    \n",
    "assert spalace([])  == []     \n",
    "assert spalace(['a'])  == ['a']\n",
    "assert spalace(['a','b'])  == ['a','b']\n",
    "assert spalace(['b','a'])  == ['b','a']\n",
    "assert spalace(['c','b','a'])  == ['c',['b'],'a']\n",
    "assert spalace(['z','w','z'])  == ['z',['w'],'z']\n",
    "assert spalace(['p','x','y','z','q'])  == ['p',['x',['y'],'z'],'q']\n",
    "assert spalace(['a','b','c','d','e','f','g','h','i'])  == ['a', ['b', ['c', ['d', ['e'], 'f'], 'g'], 'h'], 'i'] "
   ]
  },
  {
   "cell_type": "raw",
   "id": "0f591927",
   "metadata": {
    "format": "text/html"
   },
   "source": [
    "</div>"
   ]
  },
  {
   "cell_type": "code",
   "execution_count": 40,
   "id": "51d8c4c5-stripped",
   "metadata": {},
   "outputs": [],
   "source": [
    "\n",
    "\n",
    "def spalace(lst):\n",
    "    raise Exception('TODO IMPLEMENT ME !')\n",
    "    \n",
    "result = spalace(['a','b','c','d','e','f','g','h','i']) \n",
    "print(result)   # ['a', ['b', ['c', ['d', ['e'], 'f'], 'g'], 'h'], 'i']     \n",
    "    \n",
    "assert spalace([])  == []     \n",
    "assert spalace(['a'])  == ['a']\n",
    "assert spalace(['a','b'])  == ['a','b']\n",
    "assert spalace(['b','a'])  == ['b','a']\n",
    "assert spalace(['c','b','a'])  == ['c',['b'],'a']\n",
    "assert spalace(['z','w','z'])  == ['z',['w'],'z']\n",
    "assert spalace(['p','x','y','z','q'])  == ['p',['x',['y'],'z'],'q']\n",
    "assert spalace(['a','b','c','d','e','f','g','h','i'])  == ['a', ['b', ['c', ['d', ['e'], 'f'], 'g'], 'h'], 'i'] "
   ]
  },
  {
   "cell_type": "markdown",
   "id": "923a4364",
   "metadata": {},
   "source": [
    "### Exercise - srep\n",
    "\n",
    "Given a list `la`, and a list `lb` of integer numbers $\\geq 0$, RETURN a NEW list where all elements of `la` are repeated the amount of times indicated in the corresponding cell of `lb`\n",
    "\n",
    "* assume `la` and `lb` have the same size\n",
    "* **DO NOT** use `*` replication operator"
   ]
  },
  {
   "cell_type": "raw",
   "id": "bd2bf7c3",
   "metadata": {
    "format": "text/html"
   },
   "source": [
    "<a  class=\"jupman-sol jupman-sol-toggler\" \n",
    " onclick=\"jupman.toggleSolution(this);\" \n",
    " data-jupman-show=\"Show solution\" data-jupman-hide=\"Hide\">Show solution</a><div class=\"jupman-sol jupman-sol-code\" style=\"display:none\">  "
   ]
  },
  {
   "cell_type": "code",
   "execution_count": 41,
   "id": "06e02c30",
   "metadata": {},
   "outputs": [
    {
     "name": "stdout",
     "output_type": "stream",
     "text": [
      "['a', 'a', 'b', 'b', 'b', 'b', 'b', 'd', 'd', 'd']\n"
     ]
    }
   ],
   "source": [
    "\n",
    "def srep(la, lb):\n",
    "    \n",
    "    if len(la) == 0:\n",
    "        return []\n",
    "    elif lb[0] > 0:\n",
    "        return [la[0]] + srep(la, [lb[0]-1] + lb[1:])\n",
    "    else:  # == 0\n",
    "        return srep(la[1:], lb[1:])\n",
    "    \n",
    "    \n",
    "result = srep(['a','b','c','d'], [2,5,0,3]) \n",
    "print(result) # ['a','a','b','b','b','b','b','d','d','d']    \n",
    "    \n",
    "assert srep([], []) == []\n",
    "assert srep(['a'], [1]) == ['a']\n",
    "assert srep(['a'], [0]) == []\n",
    "assert srep(['b'], [2]) == ['b','b']\n",
    "assert srep(['a','b'], [1,1]) == ['a','b']\n",
    "assert srep(['a','b'], [1,2]) == ['a','b','b']\n",
    "assert srep(['a','b'], [2,1]) == ['a','a','b']\n",
    "assert srep(['a','b'], [2,0]) == ['a','a']\n",
    "assert srep(['a','b'], [0,2]) == ['b','b']\n",
    "assert srep(['a','b','c'], [1,1,1]) == ['a','b','c']\n",
    "assert srep(['a','b','c'], [0,1,1]) == ['b','c']\n",
    "assert srep(['a','b','c'], [0,1,0]) == ['b']\n",
    "assert srep(['a','b','c'], [3,1,2]) == ['a','a','a','b','c','c']\n",
    "assert srep(['a','b','c','d'], [2,5,0,3]) == ['a','a','b','b','b','b','b','d','d','d']"
   ]
  },
  {
   "cell_type": "raw",
   "id": "897a10aa",
   "metadata": {
    "format": "text/html"
   },
   "source": [
    "</div>"
   ]
  },
  {
   "cell_type": "code",
   "execution_count": 41,
   "id": "06e02c30-stripped",
   "metadata": {},
   "outputs": [],
   "source": [
    "\n",
    "def srep(la, lb):\n",
    "    raise Exception('TODO IMPLEMENT ME !')\n",
    "    \n",
    "result = srep(['a','b','c','d'], [2,5,0,3]) \n",
    "print(result) # ['a','a','b','b','b','b','b','d','d','d']    \n",
    "    \n",
    "assert srep([], []) == []\n",
    "assert srep(['a'], [1]) == ['a']\n",
    "assert srep(['a'], [0]) == []\n",
    "assert srep(['b'], [2]) == ['b','b']\n",
    "assert srep(['a','b'], [1,1]) == ['a','b']\n",
    "assert srep(['a','b'], [1,2]) == ['a','b','b']\n",
    "assert srep(['a','b'], [2,1]) == ['a','a','b']\n",
    "assert srep(['a','b'], [2,0]) == ['a','a']\n",
    "assert srep(['a','b'], [0,2]) == ['b','b']\n",
    "assert srep(['a','b','c'], [1,1,1]) == ['a','b','c']\n",
    "assert srep(['a','b','c'], [0,1,1]) == ['b','c']\n",
    "assert srep(['a','b','c'], [0,1,0]) == ['b']\n",
    "assert srep(['a','b','c'], [3,1,2]) == ['a','a','a','b','c','c']\n",
    "assert srep(['a','b','c','d'], [2,5,0,3]) == ['a','a','b','b','b','b','b','d','d','d']"
   ]
  },
  {
   "cell_type": "markdown",
   "id": "2dec9d27",
   "metadata": {},
   "source": [
    "### Exercise - ssortin\n",
    "\n",
    "Given two **already sorted** lists `la` and `lb` of arbitrary sizes, return `True` if all numbers of `la` are present in `lb`\n",
    "\n",
    "- assume empty list is always contained in any list\n",
    "- **DO NOT** use search methods (`find()`, `index()`, ...)\n",
    "- **HINT 1**: compare list heads one at a time, try thinking when you can return early\n",
    "- **HINT 2**: you will need to progress lists at different times"
   ]
  },
  {
   "cell_type": "raw",
   "id": "d75aada2",
   "metadata": {
    "format": "text/html"
   },
   "source": [
    "<a  class=\"jupman-sol jupman-sol-toggler\" \n",
    " onclick=\"jupman.toggleSolution(this);\" \n",
    " data-jupman-show=\"Show solution\" data-jupman-hide=\"Hide\">Show solution</a><div class=\"jupman-sol jupman-sol-code\" style=\"display:none\">  "
   ]
  },
  {
   "cell_type": "code",
   "execution_count": 42,
   "id": "74702414",
   "metadata": {},
   "outputs": [],
   "source": [
    "\n",
    "def ssortin(la, lb):\n",
    "    \n",
    "    if len(la) == 0:\n",
    "        return True\n",
    "    elif len(lb) == 0:\n",
    "        return False\n",
    "    elif la[0] < lb[0]:\n",
    "        return False\n",
    "    elif la[0] > lb[0]:\n",
    "        return ssortin(la, lb[1:])\n",
    "    else:   # l[0] == lb[0]            \n",
    "        return ssortin(la[1:], lb[1:])\n",
    "    \n",
    "    \n",
    "assert ssortin([], []) == True        \n",
    "assert ssortin([], [4,5,8,1]) == True    \n",
    "assert ssortin([5], [5]) == True    \n",
    "assert ssortin([5], [6]) == False\n",
    "assert ssortin([3], [3,8]) == True\n",
    "assert ssortin([8], [3,8]) == True\n",
    "assert ssortin([2], [3,8]) == False\n",
    "assert ssortin([7,9], [7,9]) == True\n",
    "assert ssortin([7,9], [3,7,9]) == True\n",
    "assert ssortin([7,9], [7,8,9]) == True\n",
    "assert ssortin([7,9], [7,9,10]) == True\n",
    "assert ssortin([5,8], [2,8]) == False\n",
    "assert ssortin([5,8], [5,6]) == False\n",
    "assert ssortin([5,8], [2,4,8]) == False\n",
    "assert ssortin([5,8], [4,5,7]) == False\n",
    "assert ssortin([3,5,6], [3,5,6]) == True\n",
    "assert ssortin([3,5,6], [3,4,5,6]) == True\n",
    "assert ssortin([3,5,6], [3,5,6,7]) == True\n",
    "assert ssortin([4,6,11], [1,3,4,5,6,7,8,10,11,12]) == True"
   ]
  },
  {
   "cell_type": "raw",
   "id": "13f11973",
   "metadata": {
    "format": "text/html"
   },
   "source": [
    "</div>"
   ]
  },
  {
   "cell_type": "code",
   "execution_count": 42,
   "id": "74702414-stripped",
   "metadata": {},
   "outputs": [],
   "source": [
    "\n",
    "def ssortin(la, lb):\n",
    "    raise Exception('TODO IMPLEMENT ME !')\n",
    "    \n",
    "assert ssortin([], []) == True        \n",
    "assert ssortin([], [4,5,8,1]) == True    \n",
    "assert ssortin([5], [5]) == True    \n",
    "assert ssortin([5], [6]) == False\n",
    "assert ssortin([3], [3,8]) == True\n",
    "assert ssortin([8], [3,8]) == True\n",
    "assert ssortin([2], [3,8]) == False\n",
    "assert ssortin([7,9], [7,9]) == True\n",
    "assert ssortin([7,9], [3,7,9]) == True\n",
    "assert ssortin([7,9], [7,8,9]) == True\n",
    "assert ssortin([7,9], [7,9,10]) == True\n",
    "assert ssortin([5,8], [2,8]) == False\n",
    "assert ssortin([5,8], [5,6]) == False\n",
    "assert ssortin([5,8], [2,4,8]) == False\n",
    "assert ssortin([5,8], [4,5,7]) == False\n",
    "assert ssortin([3,5,6], [3,5,6]) == True\n",
    "assert ssortin([3,5,6], [3,4,5,6]) == True\n",
    "assert ssortin([3,5,6], [3,5,6,7]) == True\n",
    "assert ssortin([4,6,11], [1,3,4,5,6,7,8,10,11,12]) == True"
   ]
  },
  {
   "cell_type": "markdown",
   "id": "c9261c42",
   "metadata": {},
   "source": [
    "## Continue\n",
    "\n",
    "Go on with [accumulators worksheet](https://sciprog.davidleoni.it/recursion/recursion2-modacc.html)"
   ]
  }
 ],
 "metadata": {
  "celltoolbar": "Edit Metadata",
  "kernelspec": {
   "display_name": "Python 3 (ipykernel)",
   "language": "python",
   "name": "python3"
  },
  "language_info": {
   "codemirror_mode": {
    "name": "ipython",
    "version": 3
   },
   "file_extension": ".py",
   "mimetype": "text/x-python",
   "name": "python",
   "nbconvert_exporter": "python",
   "pygments_lexer": "ipython3",
   "version": "3.7.10"
  },
  "toc": {
   "base_numbering": 1,
   "nav_menu": {},
   "number_sections": false,
   "sideBar": true,
   "skip_h1_title": false,
   "title_cell": "Table of Contents",
   "title_sidebar": "Contents",
   "toc_cell": false,
   "toc_position": {
    "height": "calc(100% - 180px)",
    "left": "10px",
    "top": "150px",
    "width": "256px"
   },
   "toc_section_display": true,
   "toc_window_display": true
  }
 },
 "nbformat": 4,
 "nbformat_minor": 5
}
