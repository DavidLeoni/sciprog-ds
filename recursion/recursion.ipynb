{
 "cells": [
  {
   "cell_type": "code",
   "execution_count": 1,
   "id": "853babbe-stripped",
   "metadata": {
    "nbsphinx": "hidden"
   },
   "outputs": [],
   "source": [],
   "transient": {
    "remove_source": true
   }
  },
  {
   "cell_type": "markdown",
   "id": "three-legislation",
   "metadata": {},
   "source": [
    "# Recursion\n",
    "\n",
    "[Browse files online](https://github.com/DavidLeoni/sciprog-ds/tree/master/recursion)"
   ]
  },
  {
   "cell_type": "markdown",
   "id": "innovative-caribbean",
   "metadata": {},
   "source": [
    "In the past, you used looping with `for` and `while` cycles: everything was so easy back then.\n",
    "\n",
    "Today you're gonna try a new thing called _recursion_. \n",
    "\n",
    "**References**: \n",
    "\n",
    "- [Andrea Passerini slides on programming paradigms](http://disi.unitn.it/~passerini/teaching/2021-2022/sci-pro/slides/A09-oop.pdf)\n",
    "- [Andrea Passerini slides on recursion theory](http://disi.unitn.it/~passerini/teaching/2021-2022/sci-pro/slides/A06-recursion.pdf)"
   ]
  },
  {
   "cell_type": "markdown",
   "id": "1220df9b",
   "metadata": {},
   "source": [
    "## Simple functional programming\n",
    "\n",
    "[Functional programming paradigm](https://en.wikipedia.org/wiki/Functional_programming)  heavily relies upon recursion. Functional programming is becoming quite popular and you will probably need to use it during the master, so it might be a good idea to first gain some understanding of its principles.\n",
    "\n",
    "In a purely functional programming paradigm:\n",
    "\n",
    "- functions behave as mathematical ones: they always take some parameter and always return NEW data or pointers to (parts of) original input, without ever changing it\n",
    "- variables can be assigned only once\n",
    "- all looping is done via recursion\n",
    "- side effects are not allowed (will talk more about them later)\n",
    "\n",
    "Python was not designed to fully support functional programming, so if we adhere to its strictest  principles we will end up with inefficient code. Why whould we bother, then? The bright side is that by limiting what we can do we can focus on the _logic_ of recursion, without caring about performance issues (we will deal with them later).\n",
    "\n",
    "So first we will try to develop some functions in a purely functional programming style we invented, let's call it _SimpleFP_."
   ]
  },
  {
   "cell_type": "markdown",
   "id": "1d7fec8f",
   "metadata": {},
   "source": [
    "### SimpleFP - how-to\n",
    "\n",
    "In this section we ask you to devise algorithms in which you:\n",
    "\n",
    "* never mutate data\n",
    "* always RETURN NEW data or pointers to (part of) input\n",
    "* assign variables only once\n",
    "* always return from each branch of functions\n",
    "* never use side-effects inside functions: a side-effect is something that is independent from function parameters and/or  modifies the environment without storing reusable values in memory. Examples:\n",
    "    * getting the current time or interactively asking `input` from the user implies a different result at each execution\n",
    "    * calling `print` only illuminates pixels on the screen without storing resuable values in memory.\n",
    "* your code can be inefficient, both in memory and execution time\n",
    "* your code may hit recursion stack limits imposed by Python: since we will only test with small data in practice this shouldn't happen anyway\n"
   ]
  },
  {
   "cell_type": "markdown",
   "id": "4a927e8d",
   "metadata": {},
   "source": [
    "### SimpleFP - variable assignment\n",
    "\n",
    "Assign variables **only once**\n",
    "\n",
    "Avoid:"
   ]
  },
  {
   "cell_type": "code",
   "execution_count": 2,
   "id": "f191bafa",
   "metadata": {},
   "outputs": [],
   "source": [
    "x = 3\n",
    "x = x + 1  # don't"
   ]
  },
  {
   "cell_type": "markdown",
   "id": "b559794e",
   "metadata": {},
   "source": [
    "Instead, feel free to create new variables at will:"
   ]
  },
  {
   "cell_type": "code",
   "execution_count": 3,
   "id": "6cc30177",
   "metadata": {},
   "outputs": [],
   "source": [
    "x = 3\n",
    "y = x + 1   # ok"
   ]
  },
  {
   "cell_type": "markdown",
   "id": "48e2081b",
   "metadata": {},
   "source": [
    "### SimpleFP - list creation\n",
    "\n",
    "To create new list, you can use use boxing, concatenation, slicing."
   ]
  },
  {
   "cell_type": "markdown",
   "id": "fd323fdd",
   "metadata": {},
   "source": [
    "### SimpleFP - boxing\n",
    "\n",
    "- wrap one or more objects with `[`, `]`"
   ]
  },
  {
   "cell_type": "code",
   "execution_count": 4,
   "id": "2abfe290",
   "metadata": {},
   "outputs": [],
   "source": [
    "la = ['a']          # list of one element\n",
    "lb = ['a','b','c']  # list of n elements"
   ]
  },
  {
   "cell_type": "markdown",
   "id": "6cddd830",
   "metadata": {},
   "source": [
    "### SimpleFP - concatenation \n",
    "\n",
    "To join two lists only use `+` operator which we know creates a NEW list.\n",
    "\n",
    "Avoid methods which modify lists:"
   ]
  },
  {
   "cell_type": "code",
   "execution_count": 5,
   "id": "e21e8574",
   "metadata": {},
   "outputs": [],
   "source": [
    "lst = ['a','b']\n",
    "lst.append('c')       # don't, it's mutating lst\n",
    "lst.append('d')\n",
    "lst.extend(['c','d']) # don't, it's mutating lst"
   ]
  },
  {
   "cell_type": "markdown",
   "id": "1ff8cda3",
   "metadata": {},
   "source": [
    "Instead, do:"
   ]
  },
  {
   "cell_type": "code",
   "execution_count": 6,
   "id": "7e364de1",
   "metadata": {},
   "outputs": [],
   "source": [
    "la = ['a','b']  \n",
    "lb = la + ['c','d']  # '+' creates a NEW list without modifying the operands\n",
    "                     # here also reassigns to a NEW variable\n",
    "lc = la + ['e']   # if you need to add only one element just wrap it in square brackets    "
   ]
  },
  {
   "cell_type": "markdown",
   "id": "c5b84630",
   "metadata": {},
   "source": [
    "\n",
    "### SimpleFP - accessing list elements\n",
    "\n",
    "You can take an element at any position"
   ]
  },
  {
   "cell_type": "code",
   "execution_count": 7,
   "id": "eb124ecd",
   "metadata": {},
   "outputs": [],
   "source": [
    "lst = [5,2,8,7,1,3]"
   ]
  },
  {
   "cell_type": "code",
   "execution_count": 8,
   "id": "4eed49a9",
   "metadata": {},
   "outputs": [
    {
     "data": {
      "text/plain": [
       "5"
      ]
     },
     "execution_count": 8,
     "metadata": {},
     "output_type": "execute_result"
    }
   ],
   "source": [
    "lst[0] "
   ]
  },
  {
   "cell_type": "code",
   "execution_count": 9,
   "id": "ea97bd1b",
   "metadata": {},
   "outputs": [
    {
     "data": {
      "text/plain": [
       "1"
      ]
     },
     "execution_count": 9,
     "metadata": {},
     "output_type": "execute_result"
    }
   ],
   "source": [
    "lst[4] "
   ]
  },
  {
   "cell_type": "markdown",
   "id": "8dca1c31",
   "metadata": {},
   "source": [
    "### SimpleFP - slicing\n",
    "\n",
    "To take sublists in this purely functional model we allow slicing, even if on Python lists is quite inefficient because it creates entirely NEW lists."
   ]
  },
  {
   "cell_type": "code",
   "execution_count": 10,
   "id": "bb035d85",
   "metadata": {},
   "outputs": [
    {
     "data": {
      "text/plain": [
       "['b', 'c', 'd', 'e', 'f', 'g', 'h', 'i']"
      ]
     },
     "execution_count": 10,
     "metadata": {},
     "output_type": "execute_result"
    }
   ],
   "source": [
    "lst = ['a','b','c','d','e','f','g','h','i']\n",
    "lst[1:]   "
   ]
  },
  {
   "cell_type": "code",
   "execution_count": 11,
   "id": "c6399e9c",
   "metadata": {},
   "outputs": [
    {
     "data": {
      "text/plain": [
       "['e', 'f', 'g', 'h', 'i']"
      ]
     },
     "execution_count": 11,
     "metadata": {},
     "output_type": "execute_result"
    }
   ],
   "source": [
    "lst[len(lst)//2:]"
   ]
  },
  {
   "cell_type": "code",
   "execution_count": 12,
   "id": "05526b2d",
   "metadata": {},
   "outputs": [
    {
     "data": {
      "text/plain": [
       "['a', 'b', 'c', 'd']"
      ]
     },
     "execution_count": 12,
     "metadata": {},
     "output_type": "execute_result"
    }
   ],
   "source": [
    "lst[:len(lst)//2]"
   ]
  },
  {
   "cell_type": "markdown",
   "id": "93520e7c",
   "metadata": {},
   "source": [
    "**QUESTION**: If we used [numpy arrays](https://en.softpython.org/matrices-numpy/matrices-numpy1-sol.html#Slices), would we waste memory when slicing?"
   ]
  },
  {
   "cell_type": "raw",
   "id": "1dae29d0",
   "metadata": {
    "format": "text/html"
   },
   "source": [
    "<a  class=\"jupman-sol jupman-sol-toggler\" \n",
    " onclick=\"jupman.toggleSolution(this);\" \n",
    " data-jupman-show=\"Show answer\" data-jupman-hide=\"Hide\">Show answer</a><div class=\"jupman-sol jupman-sol-question\" style=\"display:none\">  "
   ]
  },
  {
   "cell_type": "markdown",
   "id": "eb9afcc2",
   "metadata": {},
   "source": [
    "**ANSWER**: no, numpy slicing (and only numpy slicing) provides a _view_ on the original data without copying, thus taking slices is a fast operation. Since in purely functional model we force ourselves to never modify data, we can consider original data as safe."
   ]
  },
  {
   "cell_type": "raw",
   "id": "fc557a28",
   "metadata": {
    "format": "text/html"
   },
   "source": [
    "</div>"
   ]
  },
  {
   "cell_type": "markdown",
   "id": "3c85fd1f",
   "metadata": {},
   "source": [
    "### SimpleFP - almost no operators / predefined functions\n",
    "\n",
    "To force you using recursion, we require these restrictions:\n",
    "\n",
    "* **DO NOT** use `in` operator in sequences like strings, lists, tuples. Still, you can and should use it in dictionaries and sets.\n",
    "* **DO NOT** use `*`  replication operator on lists\n",
    "* **DO NOT** use `sum`, `max`,`min` functions\n",
    "* **YOU CAN** only use concatenation with `+` and getting length with `len(lst)`"
   ]
  },
  {
   "cell_type": "code",
   "execution_count": 13,
   "id": "092883d4",
   "metadata": {},
   "outputs": [
    {
     "data": {
      "text/plain": [
       "4"
      ]
     },
     "execution_count": 13,
     "metadata": {},
     "output_type": "execute_result"
    }
   ],
   "source": [
    "5 in ([3,5,2,6])  # don't\n",
    "[7,5,6,9] * 3     # don't\n",
    "sum([5,2,7,4])    # don't\n",
    "\n",
    "[3,4] + [9,2,3]  # ok\n",
    "len([3,5,1,6])   # ok"
   ]
  },
  {
   "cell_type": "markdown",
   "id": "e68924a9",
   "metadata": {},
   "source": [
    "### SimpleFP - functions and conditionals\n",
    "\n",
    "In purely _functional_ programming of course we want... functions: we require they always get some input and always RETURN NEW data taken from (parts of) the input\n",
    "\n",
    "Avoid:"
   ]
  },
  {
   "cell_type": "code",
   "execution_count": 14,
   "id": "7ffdca6a",
   "metadata": {},
   "outputs": [],
   "source": [
    "x = 4\n",
    "\n",
    "def inc():            # bad, takes  no explicit input ....\n",
    "    return x + 1\n",
    "\n",
    "def app(lst):         \n",
    "    lst.append('a')   # bad, modifies input\n",
    "    \n",
    "def srt(lst):         \n",
    "    lst.sort()        # bad, modifies input    "
   ]
  },
  {
   "cell_type": "markdown",
   "id": "61b0b1ff",
   "metadata": {},
   "source": [
    "Instead, do:"
   ]
  },
  {
   "cell_type": "code",
   "execution_count": 15,
   "id": "e72ba08f",
   "metadata": {},
   "outputs": [],
   "source": [
    "def inc(x):   # ok, uses only input\n",
    "    return x + 3\n",
    "\n",
    "def app(lst):         \n",
    "    return lst + ['a']   # ok, creates a NEW list\n",
    "\n",
    "def srt(lst):         \n",
    "    return sorted(lst)   # ok, creates a NEW list"
   ]
  },
  {
   "cell_type": "markdown",
   "id": "d03e070b",
   "metadata": {},
   "source": [
    "### SimpleFP - recursion\n",
    "\n",
    "In a purely functional model we don't use loops at all! Instead, we prefer recursive calls. \n",
    "\n",
    "Always remember:\n",
    "\n",
    "- at least one base case\n",
    "- always return in each branch\n",
    "- at least one recursive call on smaller parts of the input\n",
    "- always return the proper type (you might need boxing)\n",
    "\n",
    "<div class=\"alert alert-warning\">\n",
    "    \n",
    "**DO NOT** use `for`, `while` nor list comprehensions\n",
    "    \n",
    "</div>    "
   ]
  },
  {
   "cell_type": "markdown",
   "id": "ec2ae480",
   "metadata": {},
   "source": [
    "### Simple FP - Example -  `scount`\n",
    "\n",
    "Suppose given a number `n`, you want to build a list with first numbers from `1` to `n` **without** using `range`"
   ]
  },
  {
   "cell_type": "code",
   "execution_count": 16,
   "id": "6eaff3bf",
   "metadata": {},
   "outputs": [
    {
     "data": {
      "text/html": [
       "\n",
       "        <script src=\"../_static/js/pytutor-embed.bundle.min.js\" type=\"application/javascript\"></script>\n",
       "     \n",
       "        <script id=\"json-jm219cdfab-90b9-43c7-8aed-798f18c95344\" type=\"application/json\" >\n",
       "            {\"code\": \" \\ndef scount(n):        \\n    if n <= 0:      \\n        return []    \\n    else:\\n        return scount(n - 1) + [n]\\n    \\nscount(5)\", \"trace\": [{\"line\": 2, \"event\": \"step_line\", \"func_name\": \"<module>\", \"globals\": {}, \"ordered_globals\": [], \"stack_to_render\": [], \"heap\": {}, \"stdout\": \"\"}, {\"line\": 8, \"event\": \"step_line\", \"func_name\": \"<module>\", \"globals\": {\"scount\": [\"REF\", 1]}, \"ordered_globals\": [\"scount\"], \"stack_to_render\": [], \"heap\": {\"1\": [\"FUNCTION\", \"scount(n)\", null]}, \"stdout\": \"\"}, {\"line\": 2, \"event\": \"call\", \"func_name\": \"scount\", \"globals\": {\"scount\": [\"REF\", 1]}, \"ordered_globals\": [\"scount\"], \"stack_to_render\": [{\"func_name\": \"scount\", \"is_parent\": false, \"frame_id\": 1, \"parent_frame_id_list\": [], \"encoded_locals\": {\"n\": 5}, \"ordered_varnames\": [\"n\"], \"is_zombie\": false, \"is_highlighted\": true, \"unique_hash\": \"scount_f1\"}], \"heap\": {\"1\": [\"FUNCTION\", \"scount(n)\", null]}, \"stdout\": \"\"}, {\"line\": 3, \"event\": \"step_line\", \"func_name\": \"scount\", \"globals\": {\"scount\": [\"REF\", 1]}, \"ordered_globals\": [\"scount\"], \"stack_to_render\": [{\"func_name\": \"scount\", \"is_parent\": false, \"frame_id\": 1, \"parent_frame_id_list\": [], \"encoded_locals\": {\"n\": 5}, \"ordered_varnames\": [\"n\"], \"is_zombie\": false, \"is_highlighted\": true, \"unique_hash\": \"scount_f1\"}], \"heap\": {\"1\": [\"FUNCTION\", \"scount(n)\", null]}, \"stdout\": \"\"}, {\"line\": 6, \"event\": \"step_line\", \"func_name\": \"scount\", \"globals\": {\"scount\": [\"REF\", 1]}, \"ordered_globals\": [\"scount\"], \"stack_to_render\": [{\"func_name\": \"scount\", \"is_parent\": false, \"frame_id\": 1, \"parent_frame_id_list\": [], \"encoded_locals\": {\"n\": 5}, \"ordered_varnames\": [\"n\"], \"is_zombie\": false, \"is_highlighted\": true, \"unique_hash\": \"scount_f1\"}], \"heap\": {\"1\": [\"FUNCTION\", \"scount(n)\", null]}, \"stdout\": \"\"}, {\"line\": 2, \"event\": \"call\", \"func_name\": \"scount\", \"globals\": {\"scount\": [\"REF\", 1]}, \"ordered_globals\": [\"scount\"], \"stack_to_render\": [{\"func_name\": \"scount\", \"is_parent\": false, \"frame_id\": 1, \"parent_frame_id_list\": [], \"encoded_locals\": {\"n\": 5}, \"ordered_varnames\": [\"n\"], \"is_zombie\": false, \"is_highlighted\": false, \"unique_hash\": \"scount_f1\"}, {\"func_name\": \"scount\", \"is_parent\": false, \"frame_id\": 2, \"parent_frame_id_list\": [], \"encoded_locals\": {\"n\": 4}, \"ordered_varnames\": [\"n\"], \"is_zombie\": false, \"is_highlighted\": true, \"unique_hash\": \"scount_f2\"}], \"heap\": {\"1\": [\"FUNCTION\", \"scount(n)\", null]}, \"stdout\": \"\"}, {\"line\": 3, \"event\": \"step_line\", \"func_name\": \"scount\", \"globals\": {\"scount\": [\"REF\", 1]}, \"ordered_globals\": [\"scount\"], \"stack_to_render\": [{\"func_name\": \"scount\", \"is_parent\": false, \"frame_id\": 1, \"parent_frame_id_list\": [], \"encoded_locals\": {\"n\": 5}, \"ordered_varnames\": [\"n\"], \"is_zombie\": false, \"is_highlighted\": false, \"unique_hash\": \"scount_f1\"}, {\"func_name\": \"scount\", \"is_parent\": false, \"frame_id\": 2, \"parent_frame_id_list\": [], \"encoded_locals\": {\"n\": 4}, \"ordered_varnames\": [\"n\"], \"is_zombie\": false, \"is_highlighted\": true, \"unique_hash\": \"scount_f2\"}], \"heap\": {\"1\": [\"FUNCTION\", \"scount(n)\", null]}, \"stdout\": \"\"}, {\"line\": 6, \"event\": \"step_line\", \"func_name\": \"scount\", \"globals\": {\"scount\": [\"REF\", 1]}, \"ordered_globals\": [\"scount\"], \"stack_to_render\": [{\"func_name\": \"scount\", \"is_parent\": false, \"frame_id\": 1, \"parent_frame_id_list\": [], \"encoded_locals\": {\"n\": 5}, \"ordered_varnames\": [\"n\"], \"is_zombie\": false, \"is_highlighted\": false, \"unique_hash\": \"scount_f1\"}, {\"func_name\": \"scount\", \"is_parent\": false, \"frame_id\": 2, \"parent_frame_id_list\": [], \"encoded_locals\": {\"n\": 4}, \"ordered_varnames\": [\"n\"], \"is_zombie\": false, \"is_highlighted\": true, \"unique_hash\": \"scount_f2\"}], \"heap\": {\"1\": [\"FUNCTION\", \"scount(n)\", null]}, \"stdout\": \"\"}, {\"line\": 2, \"event\": \"call\", \"func_name\": \"scount\", \"globals\": {\"scount\": [\"REF\", 1]}, \"ordered_globals\": [\"scount\"], \"stack_to_render\": [{\"func_name\": \"scount\", \"is_parent\": false, \"frame_id\": 1, \"parent_frame_id_list\": [], \"encoded_locals\": {\"n\": 5}, \"ordered_varnames\": [\"n\"], \"is_zombie\": false, \"is_highlighted\": false, \"unique_hash\": \"scount_f1\"}, {\"func_name\": \"scount\", \"is_parent\": false, \"frame_id\": 2, \"parent_frame_id_list\": [], \"encoded_locals\": {\"n\": 4}, \"ordered_varnames\": [\"n\"], \"is_zombie\": false, \"is_highlighted\": false, \"unique_hash\": \"scount_f2\"}, {\"func_name\": \"scount\", \"is_parent\": false, \"frame_id\": 3, \"parent_frame_id_list\": [], \"encoded_locals\": {\"n\": 3}, \"ordered_varnames\": [\"n\"], \"is_zombie\": false, \"is_highlighted\": true, \"unique_hash\": \"scount_f3\"}], \"heap\": {\"1\": [\"FUNCTION\", \"scount(n)\", null]}, \"stdout\": \"\"}, {\"line\": 3, \"event\": \"step_line\", \"func_name\": \"scount\", \"globals\": {\"scount\": [\"REF\", 1]}, \"ordered_globals\": [\"scount\"], \"stack_to_render\": [{\"func_name\": \"scount\", \"is_parent\": false, \"frame_id\": 1, \"parent_frame_id_list\": [], \"encoded_locals\": {\"n\": 5}, \"ordered_varnames\": [\"n\"], \"is_zombie\": false, \"is_highlighted\": false, \"unique_hash\": \"scount_f1\"}, {\"func_name\": \"scount\", \"is_parent\": false, \"frame_id\": 2, \"parent_frame_id_list\": [], \"encoded_locals\": {\"n\": 4}, \"ordered_varnames\": [\"n\"], \"is_zombie\": false, \"is_highlighted\": false, \"unique_hash\": \"scount_f2\"}, {\"func_name\": \"scount\", \"is_parent\": false, \"frame_id\": 3, \"parent_frame_id_list\": [], \"encoded_locals\": {\"n\": 3}, \"ordered_varnames\": [\"n\"], \"is_zombie\": false, \"is_highlighted\": true, \"unique_hash\": \"scount_f3\"}], \"heap\": {\"1\": [\"FUNCTION\", \"scount(n)\", null]}, \"stdout\": \"\"}, {\"line\": 6, \"event\": \"step_line\", \"func_name\": \"scount\", \"globals\": {\"scount\": [\"REF\", 1]}, \"ordered_globals\": [\"scount\"], \"stack_to_render\": [{\"func_name\": \"scount\", \"is_parent\": false, \"frame_id\": 1, \"parent_frame_id_list\": [], \"encoded_locals\": {\"n\": 5}, \"ordered_varnames\": [\"n\"], \"is_zombie\": false, \"is_highlighted\": false, \"unique_hash\": \"scount_f1\"}, {\"func_name\": \"scount\", \"is_parent\": false, \"frame_id\": 2, \"parent_frame_id_list\": [], \"encoded_locals\": {\"n\": 4}, \"ordered_varnames\": [\"n\"], \"is_zombie\": false, \"is_highlighted\": false, \"unique_hash\": \"scount_f2\"}, {\"func_name\": \"scount\", \"is_parent\": false, \"frame_id\": 3, \"parent_frame_id_list\": [], \"encoded_locals\": {\"n\": 3}, \"ordered_varnames\": [\"n\"], \"is_zombie\": false, \"is_highlighted\": true, \"unique_hash\": \"scount_f3\"}], \"heap\": {\"1\": [\"FUNCTION\", \"scount(n)\", null]}, \"stdout\": \"\"}, {\"line\": 2, \"event\": \"call\", \"func_name\": \"scount\", \"globals\": {\"scount\": [\"REF\", 1]}, \"ordered_globals\": [\"scount\"], \"stack_to_render\": [{\"func_name\": \"scount\", \"is_parent\": false, \"frame_id\": 1, \"parent_frame_id_list\": [], \"encoded_locals\": {\"n\": 5}, \"ordered_varnames\": [\"n\"], \"is_zombie\": false, \"is_highlighted\": false, \"unique_hash\": \"scount_f1\"}, {\"func_name\": \"scount\", \"is_parent\": false, \"frame_id\": 2, \"parent_frame_id_list\": [], \"encoded_locals\": {\"n\": 4}, \"ordered_varnames\": [\"n\"], \"is_zombie\": false, \"is_highlighted\": false, \"unique_hash\": \"scount_f2\"}, {\"func_name\": \"scount\", \"is_parent\": false, \"frame_id\": 3, \"parent_frame_id_list\": [], \"encoded_locals\": {\"n\": 3}, \"ordered_varnames\": [\"n\"], \"is_zombie\": false, \"is_highlighted\": false, \"unique_hash\": \"scount_f3\"}, {\"func_name\": \"scount\", \"is_parent\": false, \"frame_id\": 4, \"parent_frame_id_list\": [], \"encoded_locals\": {\"n\": 2}, \"ordered_varnames\": [\"n\"], \"is_zombie\": false, \"is_highlighted\": true, \"unique_hash\": \"scount_f4\"}], \"heap\": {\"1\": [\"FUNCTION\", \"scount(n)\", null]}, \"stdout\": \"\"}, {\"line\": 3, \"event\": \"step_line\", \"func_name\": \"scount\", \"globals\": {\"scount\": [\"REF\", 1]}, \"ordered_globals\": [\"scount\"], \"stack_to_render\": [{\"func_name\": \"scount\", \"is_parent\": false, \"frame_id\": 1, \"parent_frame_id_list\": [], \"encoded_locals\": {\"n\": 5}, \"ordered_varnames\": [\"n\"], \"is_zombie\": false, \"is_highlighted\": false, \"unique_hash\": \"scount_f1\"}, {\"func_name\": \"scount\", \"is_parent\": false, \"frame_id\": 2, \"parent_frame_id_list\": [], \"encoded_locals\": {\"n\": 4}, \"ordered_varnames\": [\"n\"], \"is_zombie\": false, \"is_highlighted\": false, \"unique_hash\": \"scount_f2\"}, {\"func_name\": \"scount\", \"is_parent\": false, \"frame_id\": 3, \"parent_frame_id_list\": [], \"encoded_locals\": {\"n\": 3}, \"ordered_varnames\": [\"n\"], \"is_zombie\": false, \"is_highlighted\": false, \"unique_hash\": \"scount_f3\"}, {\"func_name\": \"scount\", \"is_parent\": false, \"frame_id\": 4, \"parent_frame_id_list\": [], \"encoded_locals\": {\"n\": 2}, \"ordered_varnames\": [\"n\"], \"is_zombie\": false, \"is_highlighted\": true, \"unique_hash\": \"scount_f4\"}], \"heap\": {\"1\": [\"FUNCTION\", \"scount(n)\", null]}, \"stdout\": \"\"}, {\"line\": 6, \"event\": \"step_line\", \"func_name\": \"scount\", \"globals\": {\"scount\": [\"REF\", 1]}, \"ordered_globals\": [\"scount\"], \"stack_to_render\": [{\"func_name\": \"scount\", \"is_parent\": false, \"frame_id\": 1, \"parent_frame_id_list\": [], \"encoded_locals\": {\"n\": 5}, \"ordered_varnames\": [\"n\"], \"is_zombie\": false, \"is_highlighted\": false, \"unique_hash\": \"scount_f1\"}, {\"func_name\": \"scount\", \"is_parent\": false, \"frame_id\": 2, \"parent_frame_id_list\": [], \"encoded_locals\": {\"n\": 4}, \"ordered_varnames\": [\"n\"], \"is_zombie\": false, \"is_highlighted\": false, \"unique_hash\": \"scount_f2\"}, {\"func_name\": \"scount\", \"is_parent\": false, \"frame_id\": 3, \"parent_frame_id_list\": [], \"encoded_locals\": {\"n\": 3}, \"ordered_varnames\": [\"n\"], \"is_zombie\": false, \"is_highlighted\": false, \"unique_hash\": \"scount_f3\"}, {\"func_name\": \"scount\", \"is_parent\": false, \"frame_id\": 4, \"parent_frame_id_list\": [], \"encoded_locals\": {\"n\": 2}, \"ordered_varnames\": [\"n\"], \"is_zombie\": false, \"is_highlighted\": true, \"unique_hash\": \"scount_f4\"}], \"heap\": {\"1\": [\"FUNCTION\", \"scount(n)\", null]}, \"stdout\": \"\"}, {\"line\": 2, \"event\": \"call\", \"func_name\": \"scount\", \"globals\": {\"scount\": [\"REF\", 1]}, \"ordered_globals\": [\"scount\"], \"stack_to_render\": [{\"func_name\": \"scount\", \"is_parent\": false, \"frame_id\": 1, \"parent_frame_id_list\": [], \"encoded_locals\": {\"n\": 5}, \"ordered_varnames\": [\"n\"], \"is_zombie\": false, \"is_highlighted\": false, \"unique_hash\": \"scount_f1\"}, {\"func_name\": \"scount\", \"is_parent\": false, \"frame_id\": 2, \"parent_frame_id_list\": [], \"encoded_locals\": {\"n\": 4}, \"ordered_varnames\": [\"n\"], \"is_zombie\": false, \"is_highlighted\": false, \"unique_hash\": \"scount_f2\"}, {\"func_name\": \"scount\", \"is_parent\": false, \"frame_id\": 3, \"parent_frame_id_list\": [], \"encoded_locals\": {\"n\": 3}, \"ordered_varnames\": [\"n\"], \"is_zombie\": false, \"is_highlighted\": false, \"unique_hash\": \"scount_f3\"}, {\"func_name\": \"scount\", \"is_parent\": false, \"frame_id\": 4, \"parent_frame_id_list\": [], \"encoded_locals\": {\"n\": 2}, \"ordered_varnames\": [\"n\"], \"is_zombie\": false, \"is_highlighted\": false, \"unique_hash\": \"scount_f4\"}, {\"func_name\": \"scount\", \"is_parent\": false, \"frame_id\": 5, \"parent_frame_id_list\": [], \"encoded_locals\": {\"n\": 1}, \"ordered_varnames\": [\"n\"], \"is_zombie\": false, \"is_highlighted\": true, \"unique_hash\": \"scount_f5\"}], \"heap\": {\"1\": [\"FUNCTION\", \"scount(n)\", null]}, \"stdout\": \"\"}, {\"line\": 3, \"event\": \"step_line\", \"func_name\": \"scount\", \"globals\": {\"scount\": [\"REF\", 1]}, \"ordered_globals\": [\"scount\"], \"stack_to_render\": [{\"func_name\": \"scount\", \"is_parent\": false, \"frame_id\": 1, \"parent_frame_id_list\": [], \"encoded_locals\": {\"n\": 5}, \"ordered_varnames\": [\"n\"], \"is_zombie\": false, \"is_highlighted\": false, \"unique_hash\": \"scount_f1\"}, {\"func_name\": \"scount\", \"is_parent\": false, \"frame_id\": 2, \"parent_frame_id_list\": [], \"encoded_locals\": {\"n\": 4}, \"ordered_varnames\": [\"n\"], \"is_zombie\": false, \"is_highlighted\": false, \"unique_hash\": \"scount_f2\"}, {\"func_name\": \"scount\", \"is_parent\": false, \"frame_id\": 3, \"parent_frame_id_list\": [], \"encoded_locals\": {\"n\": 3}, \"ordered_varnames\": [\"n\"], \"is_zombie\": false, \"is_highlighted\": false, \"unique_hash\": \"scount_f3\"}, {\"func_name\": \"scount\", \"is_parent\": false, \"frame_id\": 4, \"parent_frame_id_list\": [], \"encoded_locals\": {\"n\": 2}, \"ordered_varnames\": [\"n\"], \"is_zombie\": false, \"is_highlighted\": false, \"unique_hash\": \"scount_f4\"}, {\"func_name\": \"scount\", \"is_parent\": false, \"frame_id\": 5, \"parent_frame_id_list\": [], \"encoded_locals\": {\"n\": 1}, \"ordered_varnames\": [\"n\"], \"is_zombie\": false, \"is_highlighted\": true, \"unique_hash\": \"scount_f5\"}], \"heap\": {\"1\": [\"FUNCTION\", \"scount(n)\", null]}, \"stdout\": \"\"}, {\"line\": 6, \"event\": \"step_line\", \"func_name\": \"scount\", \"globals\": {\"scount\": [\"REF\", 1]}, \"ordered_globals\": [\"scount\"], \"stack_to_render\": [{\"func_name\": \"scount\", \"is_parent\": false, \"frame_id\": 1, \"parent_frame_id_list\": [], \"encoded_locals\": {\"n\": 5}, \"ordered_varnames\": [\"n\"], \"is_zombie\": false, \"is_highlighted\": false, \"unique_hash\": \"scount_f1\"}, {\"func_name\": \"scount\", \"is_parent\": false, \"frame_id\": 2, \"parent_frame_id_list\": [], \"encoded_locals\": {\"n\": 4}, \"ordered_varnames\": [\"n\"], \"is_zombie\": false, \"is_highlighted\": false, \"unique_hash\": \"scount_f2\"}, {\"func_name\": \"scount\", \"is_parent\": false, \"frame_id\": 3, \"parent_frame_id_list\": [], \"encoded_locals\": {\"n\": 3}, \"ordered_varnames\": [\"n\"], \"is_zombie\": false, \"is_highlighted\": false, \"unique_hash\": \"scount_f3\"}, {\"func_name\": \"scount\", \"is_parent\": false, \"frame_id\": 4, \"parent_frame_id_list\": [], \"encoded_locals\": {\"n\": 2}, \"ordered_varnames\": [\"n\"], \"is_zombie\": false, \"is_highlighted\": false, \"unique_hash\": \"scount_f4\"}, {\"func_name\": \"scount\", \"is_parent\": false, \"frame_id\": 5, \"parent_frame_id_list\": [], \"encoded_locals\": {\"n\": 1}, \"ordered_varnames\": [\"n\"], \"is_zombie\": false, \"is_highlighted\": true, \"unique_hash\": \"scount_f5\"}], \"heap\": {\"1\": [\"FUNCTION\", \"scount(n)\", null]}, \"stdout\": \"\"}, {\"line\": 2, \"event\": \"call\", \"func_name\": \"scount\", \"globals\": {\"scount\": [\"REF\", 1]}, \"ordered_globals\": [\"scount\"], \"stack_to_render\": [{\"func_name\": \"scount\", \"is_parent\": false, \"frame_id\": 1, \"parent_frame_id_list\": [], \"encoded_locals\": {\"n\": 5}, \"ordered_varnames\": [\"n\"], \"is_zombie\": false, \"is_highlighted\": false, \"unique_hash\": \"scount_f1\"}, {\"func_name\": \"scount\", \"is_parent\": false, \"frame_id\": 2, \"parent_frame_id_list\": [], \"encoded_locals\": {\"n\": 4}, \"ordered_varnames\": [\"n\"], \"is_zombie\": false, \"is_highlighted\": false, \"unique_hash\": \"scount_f2\"}, {\"func_name\": \"scount\", \"is_parent\": false, \"frame_id\": 3, \"parent_frame_id_list\": [], \"encoded_locals\": {\"n\": 3}, \"ordered_varnames\": [\"n\"], \"is_zombie\": false, \"is_highlighted\": false, \"unique_hash\": \"scount_f3\"}, {\"func_name\": \"scount\", \"is_parent\": false, \"frame_id\": 4, \"parent_frame_id_list\": [], \"encoded_locals\": {\"n\": 2}, \"ordered_varnames\": [\"n\"], \"is_zombie\": false, \"is_highlighted\": false, \"unique_hash\": \"scount_f4\"}, {\"func_name\": \"scount\", \"is_parent\": false, \"frame_id\": 5, \"parent_frame_id_list\": [], \"encoded_locals\": {\"n\": 1}, \"ordered_varnames\": [\"n\"], \"is_zombie\": false, \"is_highlighted\": false, \"unique_hash\": \"scount_f5\"}, {\"func_name\": \"scount\", \"is_parent\": false, \"frame_id\": 6, \"parent_frame_id_list\": [], \"encoded_locals\": {\"n\": 0}, \"ordered_varnames\": [\"n\"], \"is_zombie\": false, \"is_highlighted\": true, \"unique_hash\": \"scount_f6\"}], \"heap\": {\"1\": [\"FUNCTION\", \"scount(n)\", null]}, \"stdout\": \"\"}, {\"line\": 3, \"event\": \"step_line\", \"func_name\": \"scount\", \"globals\": {\"scount\": [\"REF\", 1]}, \"ordered_globals\": [\"scount\"], \"stack_to_render\": [{\"func_name\": \"scount\", \"is_parent\": false, \"frame_id\": 1, \"parent_frame_id_list\": [], \"encoded_locals\": {\"n\": 5}, \"ordered_varnames\": [\"n\"], \"is_zombie\": false, \"is_highlighted\": false, \"unique_hash\": \"scount_f1\"}, {\"func_name\": \"scount\", \"is_parent\": false, \"frame_id\": 2, \"parent_frame_id_list\": [], \"encoded_locals\": {\"n\": 4}, \"ordered_varnames\": [\"n\"], \"is_zombie\": false, \"is_highlighted\": false, \"unique_hash\": \"scount_f2\"}, {\"func_name\": \"scount\", \"is_parent\": false, \"frame_id\": 3, \"parent_frame_id_list\": [], \"encoded_locals\": {\"n\": 3}, \"ordered_varnames\": [\"n\"], \"is_zombie\": false, \"is_highlighted\": false, \"unique_hash\": \"scount_f3\"}, {\"func_name\": \"scount\", \"is_parent\": false, \"frame_id\": 4, \"parent_frame_id_list\": [], \"encoded_locals\": {\"n\": 2}, \"ordered_varnames\": [\"n\"], \"is_zombie\": false, \"is_highlighted\": false, \"unique_hash\": \"scount_f4\"}, {\"func_name\": \"scount\", \"is_parent\": false, \"frame_id\": 5, \"parent_frame_id_list\": [], \"encoded_locals\": {\"n\": 1}, \"ordered_varnames\": [\"n\"], \"is_zombie\": false, \"is_highlighted\": false, \"unique_hash\": \"scount_f5\"}, {\"func_name\": \"scount\", \"is_parent\": false, \"frame_id\": 6, \"parent_frame_id_list\": [], \"encoded_locals\": {\"n\": 0}, \"ordered_varnames\": [\"n\"], \"is_zombie\": false, \"is_highlighted\": true, \"unique_hash\": \"scount_f6\"}], \"heap\": {\"1\": [\"FUNCTION\", \"scount(n)\", null]}, \"stdout\": \"\"}, {\"line\": 4, \"event\": \"step_line\", \"func_name\": \"scount\", \"globals\": {\"scount\": [\"REF\", 1]}, \"ordered_globals\": [\"scount\"], \"stack_to_render\": [{\"func_name\": \"scount\", \"is_parent\": false, \"frame_id\": 1, \"parent_frame_id_list\": [], \"encoded_locals\": {\"n\": 5}, \"ordered_varnames\": [\"n\"], \"is_zombie\": false, \"is_highlighted\": false, \"unique_hash\": \"scount_f1\"}, {\"func_name\": \"scount\", \"is_parent\": false, \"frame_id\": 2, \"parent_frame_id_list\": [], \"encoded_locals\": {\"n\": 4}, \"ordered_varnames\": [\"n\"], \"is_zombie\": false, \"is_highlighted\": false, \"unique_hash\": \"scount_f2\"}, {\"func_name\": \"scount\", \"is_parent\": false, \"frame_id\": 3, \"parent_frame_id_list\": [], \"encoded_locals\": {\"n\": 3}, \"ordered_varnames\": [\"n\"], \"is_zombie\": false, \"is_highlighted\": false, \"unique_hash\": \"scount_f3\"}, {\"func_name\": \"scount\", \"is_parent\": false, \"frame_id\": 4, \"parent_frame_id_list\": [], \"encoded_locals\": {\"n\": 2}, \"ordered_varnames\": [\"n\"], \"is_zombie\": false, \"is_highlighted\": false, \"unique_hash\": \"scount_f4\"}, {\"func_name\": \"scount\", \"is_parent\": false, \"frame_id\": 5, \"parent_frame_id_list\": [], \"encoded_locals\": {\"n\": 1}, \"ordered_varnames\": [\"n\"], \"is_zombie\": false, \"is_highlighted\": false, \"unique_hash\": \"scount_f5\"}, {\"func_name\": \"scount\", \"is_parent\": false, \"frame_id\": 6, \"parent_frame_id_list\": [], \"encoded_locals\": {\"n\": 0}, \"ordered_varnames\": [\"n\"], \"is_zombie\": false, \"is_highlighted\": true, \"unique_hash\": \"scount_f6\"}], \"heap\": {\"1\": [\"FUNCTION\", \"scount(n)\", null]}, \"stdout\": \"\"}, {\"line\": 4, \"event\": \"return\", \"func_name\": \"scount\", \"globals\": {\"scount\": [\"REF\", 1]}, \"ordered_globals\": [\"scount\"], \"stack_to_render\": [{\"func_name\": \"scount\", \"is_parent\": false, \"frame_id\": 1, \"parent_frame_id_list\": [], \"encoded_locals\": {\"n\": 5}, \"ordered_varnames\": [\"n\"], \"is_zombie\": false, \"is_highlighted\": false, \"unique_hash\": \"scount_f1\"}, {\"func_name\": \"scount\", \"is_parent\": false, \"frame_id\": 2, \"parent_frame_id_list\": [], \"encoded_locals\": {\"n\": 4}, \"ordered_varnames\": [\"n\"], \"is_zombie\": false, \"is_highlighted\": false, \"unique_hash\": \"scount_f2\"}, {\"func_name\": \"scount\", \"is_parent\": false, \"frame_id\": 3, \"parent_frame_id_list\": [], \"encoded_locals\": {\"n\": 3}, \"ordered_varnames\": [\"n\"], \"is_zombie\": false, \"is_highlighted\": false, \"unique_hash\": \"scount_f3\"}, {\"func_name\": \"scount\", \"is_parent\": false, \"frame_id\": 4, \"parent_frame_id_list\": [], \"encoded_locals\": {\"n\": 2}, \"ordered_varnames\": [\"n\"], \"is_zombie\": false, \"is_highlighted\": false, \"unique_hash\": \"scount_f4\"}, {\"func_name\": \"scount\", \"is_parent\": false, \"frame_id\": 5, \"parent_frame_id_list\": [], \"encoded_locals\": {\"n\": 1}, \"ordered_varnames\": [\"n\"], \"is_zombie\": false, \"is_highlighted\": false, \"unique_hash\": \"scount_f5\"}, {\"func_name\": \"scount\", \"is_parent\": false, \"frame_id\": 6, \"parent_frame_id_list\": [], \"encoded_locals\": {\"n\": 0, \"__return__\": [\"REF\", 2]}, \"ordered_varnames\": [\"n\", \"__return__\"], \"is_zombie\": false, \"is_highlighted\": true, \"unique_hash\": \"scount_f6\"}], \"heap\": {\"2\": [\"LIST\"], \"1\": [\"FUNCTION\", \"scount(n)\", null]}, \"stdout\": \"\"}, {\"line\": 6, \"event\": \"return\", \"func_name\": \"scount\", \"globals\": {\"scount\": [\"REF\", 1]}, \"ordered_globals\": [\"scount\"], \"stack_to_render\": [{\"func_name\": \"scount\", \"is_parent\": false, \"frame_id\": 1, \"parent_frame_id_list\": [], \"encoded_locals\": {\"n\": 5}, \"ordered_varnames\": [\"n\"], \"is_zombie\": false, \"is_highlighted\": false, \"unique_hash\": \"scount_f1\"}, {\"func_name\": \"scount\", \"is_parent\": false, \"frame_id\": 2, \"parent_frame_id_list\": [], \"encoded_locals\": {\"n\": 4}, \"ordered_varnames\": [\"n\"], \"is_zombie\": false, \"is_highlighted\": false, \"unique_hash\": \"scount_f2\"}, {\"func_name\": \"scount\", \"is_parent\": false, \"frame_id\": 3, \"parent_frame_id_list\": [], \"encoded_locals\": {\"n\": 3}, \"ordered_varnames\": [\"n\"], \"is_zombie\": false, \"is_highlighted\": false, \"unique_hash\": \"scount_f3\"}, {\"func_name\": \"scount\", \"is_parent\": false, \"frame_id\": 4, \"parent_frame_id_list\": [], \"encoded_locals\": {\"n\": 2}, \"ordered_varnames\": [\"n\"], \"is_zombie\": false, \"is_highlighted\": false, \"unique_hash\": \"scount_f4\"}, {\"func_name\": \"scount\", \"is_parent\": false, \"frame_id\": 5, \"parent_frame_id_list\": [], \"encoded_locals\": {\"n\": 1, \"__return__\": [\"REF\", 3]}, \"ordered_varnames\": [\"n\", \"__return__\"], \"is_zombie\": false, \"is_highlighted\": true, \"unique_hash\": \"scount_f5\"}], \"heap\": {\"3\": [\"LIST\", 1], \"1\": [\"FUNCTION\", \"scount(n)\", null]}, \"stdout\": \"\"}, {\"line\": 6, \"event\": \"return\", \"func_name\": \"scount\", \"globals\": {\"scount\": [\"REF\", 1]}, \"ordered_globals\": [\"scount\"], \"stack_to_render\": [{\"func_name\": \"scount\", \"is_parent\": false, \"frame_id\": 1, \"parent_frame_id_list\": [], \"encoded_locals\": {\"n\": 5}, \"ordered_varnames\": [\"n\"], \"is_zombie\": false, \"is_highlighted\": false, \"unique_hash\": \"scount_f1\"}, {\"func_name\": \"scount\", \"is_parent\": false, \"frame_id\": 2, \"parent_frame_id_list\": [], \"encoded_locals\": {\"n\": 4}, \"ordered_varnames\": [\"n\"], \"is_zombie\": false, \"is_highlighted\": false, \"unique_hash\": \"scount_f2\"}, {\"func_name\": \"scount\", \"is_parent\": false, \"frame_id\": 3, \"parent_frame_id_list\": [], \"encoded_locals\": {\"n\": 3}, \"ordered_varnames\": [\"n\"], \"is_zombie\": false, \"is_highlighted\": false, \"unique_hash\": \"scount_f3\"}, {\"func_name\": \"scount\", \"is_parent\": false, \"frame_id\": 4, \"parent_frame_id_list\": [], \"encoded_locals\": {\"n\": 2, \"__return__\": [\"REF\", 4]}, \"ordered_varnames\": [\"n\", \"__return__\"], \"is_zombie\": false, \"is_highlighted\": true, \"unique_hash\": \"scount_f4\"}], \"heap\": {\"4\": [\"LIST\", 1, 2], \"1\": [\"FUNCTION\", \"scount(n)\", null]}, \"stdout\": \"\"}, {\"line\": 6, \"event\": \"return\", \"func_name\": \"scount\", \"globals\": {\"scount\": [\"REF\", 1]}, \"ordered_globals\": [\"scount\"], \"stack_to_render\": [{\"func_name\": \"scount\", \"is_parent\": false, \"frame_id\": 1, \"parent_frame_id_list\": [], \"encoded_locals\": {\"n\": 5}, \"ordered_varnames\": [\"n\"], \"is_zombie\": false, \"is_highlighted\": false, \"unique_hash\": \"scount_f1\"}, {\"func_name\": \"scount\", \"is_parent\": false, \"frame_id\": 2, \"parent_frame_id_list\": [], \"encoded_locals\": {\"n\": 4}, \"ordered_varnames\": [\"n\"], \"is_zombie\": false, \"is_highlighted\": false, \"unique_hash\": \"scount_f2\"}, {\"func_name\": \"scount\", \"is_parent\": false, \"frame_id\": 3, \"parent_frame_id_list\": [], \"encoded_locals\": {\"n\": 3, \"__return__\": [\"REF\", 5]}, \"ordered_varnames\": [\"n\", \"__return__\"], \"is_zombie\": false, \"is_highlighted\": true, \"unique_hash\": \"scount_f3\"}], \"heap\": {\"5\": [\"LIST\", 1, 2, 3], \"1\": [\"FUNCTION\", \"scount(n)\", null]}, \"stdout\": \"\"}, {\"line\": 6, \"event\": \"return\", \"func_name\": \"scount\", \"globals\": {\"scount\": [\"REF\", 1]}, \"ordered_globals\": [\"scount\"], \"stack_to_render\": [{\"func_name\": \"scount\", \"is_parent\": false, \"frame_id\": 1, \"parent_frame_id_list\": [], \"encoded_locals\": {\"n\": 5}, \"ordered_varnames\": [\"n\"], \"is_zombie\": false, \"is_highlighted\": false, \"unique_hash\": \"scount_f1\"}, {\"func_name\": \"scount\", \"is_parent\": false, \"frame_id\": 2, \"parent_frame_id_list\": [], \"encoded_locals\": {\"n\": 4, \"__return__\": [\"REF\", 6]}, \"ordered_varnames\": [\"n\", \"__return__\"], \"is_zombie\": false, \"is_highlighted\": true, \"unique_hash\": \"scount_f2\"}], \"heap\": {\"6\": [\"LIST\", 1, 2, 3, 4], \"1\": [\"FUNCTION\", \"scount(n)\", null]}, \"stdout\": \"\"}, {\"line\": 6, \"event\": \"return\", \"func_name\": \"scount\", \"globals\": {\"scount\": [\"REF\", 1]}, \"ordered_globals\": [\"scount\"], \"stack_to_render\": [{\"func_name\": \"scount\", \"is_parent\": false, \"frame_id\": 1, \"parent_frame_id_list\": [], \"encoded_locals\": {\"n\": 5, \"__return__\": [\"REF\", 7]}, \"ordered_varnames\": [\"n\", \"__return__\"], \"is_zombie\": false, \"is_highlighted\": true, \"unique_hash\": \"scount_f1\"}], \"heap\": {\"7\": [\"LIST\", 1, 2, 3, 4, 5], \"1\": [\"FUNCTION\", \"scount(n)\", null]}, \"stdout\": \"\"}, {\"line\": 8, \"event\": \"return\", \"func_name\": \"<module>\", \"globals\": {\"scount\": [\"REF\", 1]}, \"ordered_globals\": [\"scount\"], \"stack_to_render\": [], \"heap\": {\"1\": [\"FUNCTION\", \"scount(n)\", null]}, \"stdout\": \"\"}]}\n",
       "        </script>\n",
       "        <div id=\"jm219cdfab-90b9-43c7-8aed-798f18c95344\" class=\"pytutorVisualizer\"> </div>\n",
       " \n",
       "        <style>\n",
       "        .vizLayoutTd {\n",
       "            background-color: #fff !important;\n",
       "        }\n",
       "                            \n",
       "        #pyStdout {\n",
       "            min-height:25px;\n",
       "        }\n",
       "\n",
       "        /* 'Edit this code' link, hiding because replaces browser tab !!!*/\n",
       "        #editCodeLinkDiv {\n",
       "            display:none;  \n",
       "        }\n",
       "        </style>   \n",
       "                            \n",
       "        <script>\n",
       "        (function(){\n",
       "\n",
       "            var trace = JSON.parse(document.getElementById('json-jm219cdfab-90b9-43c7-8aed-798f18c95344').innerHTML);                                        \n",
       "            // NOTE 1: id without #\n",
       "            // NOTE 2 - maybe there are more predictable ways, but this will work anyway\n",
       "            //        - id should be number\n",
       "            visualizerIdOverride = Math.trunc(Math.random() * 100000000000)\n",
       "            addVisualizerToPage(trace, 'jm219cdfab-90b9-43c7-8aed-798f18c95344',{'embeddedMode' : false,\n",
       "                                             'visualizerIdOverride':visualizerIdOverride})  \n",
       "            \n",
       "            \n",
       "            // set overflow for pytuts - need to do in python as css \n",
       "            // does not allow parent selection\n",
       "            var pytuts = $('.pytutorVisualizer')\n",
       "            pytuts.closest('div.output_html.rendered_html.output_result')\n",
       "                    .css('overflow-x', 'visible')\n",
       "        \n",
       "            //pytuts.closest('div.output_html.rendered_html.output_result')\n",
       "            //      .css('background-color','red')                \n",
       "            \n",
       "        })()\n",
       "        </script>\n",
       "                \n",
       "                "
      ],
      "text/plain": [
       "<IPython.core.display.HTML object>"
      ]
     },
     "execution_count": 16,
     "metadata": {},
     "output_type": "execute_result"
    }
   ],
   "source": [
    "def scount(n):        \n",
    "    if n <= 0:      \n",
    "        return []    \n",
    "    else:\n",
    "        return scount(n - 1) + [n]\n",
    "    \n",
    "scount(5)\n",
    "jupman.pytut()"
   ]
  },
  {
   "cell_type": "code",
   "execution_count": 17,
   "id": "0438c76b-stripped",
   "metadata": {
    "nbsphinx": "hidden"
   },
   "outputs": [],
   "source": [],
   "transient": {
    "remove_source": true
   }
  },
  {
   "cell_type": "markdown",
   "id": "88343ac0",
   "metadata": {},
   "source": [
    "### Simple FP - debugging\n",
    "\n",
    "To debug you can and should of course use [Python tutor](https://pythontutor.com/). \n",
    "\n",
    "Another trick could be to pass an additional optional parameter called `level` and do some indented `print` like so:\n",
    "\n",
    "<div class=\"alert alert-warning\">\n",
    "\n",
    "**IMPORTANT:** `print` **is ONLY for debugging!**\n",
    "    \n",
    "`print` by definition illuminates the pixels on your screen and doesn't produce any reusable value in memory. So your functions are still required to always RETURN proper values!\n",
    "</div>    "
   ]
  },
  {
   "cell_type": "code",
   "execution_count": 18,
   "id": "d4d536d9",
   "metadata": {},
   "outputs": [
    {
     "name": "stdout",
     "output_type": "stream",
     "text": [
      " n= 5\n",
      "  n= 4\n",
      "   n= 3\n",
      "    n= 2\n",
      "     n= 1\n",
      "      n= 0\n"
     ]
    },
    {
     "data": {
      "text/plain": [
       "[1, 2, 3, 4, 5]"
      ]
     },
     "execution_count": 18,
     "metadata": {},
     "output_type": "execute_result"
    }
   ],
   "source": [
    "def scount(n, level=0):\n",
    "    print(' ' * level, 'n=', n)\n",
    "    if n <= 0:\n",
    "        return []    \n",
    "    else:\n",
    "        return scount(n - 1, level + 1) + [n]    \n",
    "scount(5)"
   ]
  },
  {
   "cell_type": "code",
   "execution_count": 19,
   "id": "a86b0594-stripped",
   "metadata": {
    "nbsphinx": "hidden"
   },
   "outputs": [],
   "source": [],
   "transient": {
    "remove_source": true
   }
  },
  {
   "cell_type": "markdown",
   "id": "e2a15d13",
   "metadata": {},
   "source": [
    "**Decomposing computation**: Furthermore, you can try separate the steps in smaller parts and print intermediate results. Here we added the extra variable `res` and printed it after the recursive call:"
   ]
  },
  {
   "cell_type": "code",
   "execution_count": 20,
   "id": "ff099b3d",
   "metadata": {},
   "outputs": [
    {
     "name": "stdout",
     "output_type": "stream",
     "text": [
      " n= 5\n",
      "  n= 4\n",
      "   n= 3\n",
      "    n= 2\n",
      "     n= 1\n",
      "      n= 0\n",
      "     res= []\n",
      "    res= [1]\n",
      "   res= [1, 2]\n",
      "  res= [1, 2, 3]\n",
      " res= [1, 2, 3, 4]\n"
     ]
    },
    {
     "data": {
      "text/plain": [
       "[1, 2, 3, 4, 5]"
      ]
     },
     "execution_count": 20,
     "metadata": {},
     "output_type": "execute_result"
    }
   ],
   "source": [
    "def scount(n, level=0):\n",
    "    print(' ' * level, 'n=', n)\n",
    "    if n <= 0:\n",
    "        return []    \n",
    "    else:\n",
    "        res = scount(n - 1, level + 1)\n",
    "        print(' ' * level, 'res=', res)\n",
    "        return res + [n]    \n",
    "scount(5)"
   ]
  },
  {
   "cell_type": "code",
   "execution_count": 21,
   "id": "03be4bad-stripped",
   "metadata": {
    "nbsphinx": "hidden"
   },
   "outputs": [],
   "source": [],
   "transient": {
    "remove_source": true
   }
  },
  {
   "cell_type": "markdown",
   "id": "2b397452",
   "metadata": {},
   "source": [
    "### SimpleFP: a recursion scheme\n",
    "    \n",
    "Suppose now we want to get as input a list and return another one.\n",
    "\n",
    "For this first section, a simple scheme to follow will be:\n",
    " \n",
    "1. check sequence length\n",
    "2. if base case, immediately return something\n",
    "3. otherwise do recursion on the rest of the sequence\n",
    "4. combine recursion result in some way with first element\n",
    "5. return the combination result"
   ]
  },
  {
   "cell_type": "markdown",
   "id": "1c698c6c",
   "metadata": {},
   "source": [
    "### Example - `sdouble`\n",
    "\n",
    "Let's see how to write a function which takes a `lst` of numbers and RETURN a NEW list with the numbers doubled. You might write stuff like this:"
   ]
  },
  {
   "cell_type": "code",
   "execution_count": 22,
   "id": "5e340de0",
   "metadata": {},
   "outputs": [
    {
     "data": {
      "text/html": [
       "\n",
       "        <script src=\"../_static/js/pytutor-embed.bundle.min.js\" type=\"application/javascript\"></script>\n",
       "     \n",
       "        <script id=\"json-jmfeea00e9-c152-4068-8aa7-cb87db00b41c\" type=\"application/json\" >\n",
       "            {\"code\": \" \\ndef sdouble(lst):                \\n    if len(lst) == 0:\\n        return []              # base case\\n    else:\\n        return [lst[0]*2] + sdouble(lst[1:])    # returning operation containing \\n                                                # a recursive call on a smaller input\\n        \\nresult = sdouble([4,9,1,5,7,3])\", \"trace\": [{\"line\": 2, \"event\": \"step_line\", \"func_name\": \"<module>\", \"globals\": {}, \"ordered_globals\": [], \"stack_to_render\": [], \"heap\": {}, \"stdout\": \"\"}, {\"line\": 9, \"event\": \"step_line\", \"func_name\": \"<module>\", \"globals\": {\"sdouble\": [\"REF\", 1]}, \"ordered_globals\": [\"sdouble\"], \"stack_to_render\": [], \"heap\": {\"1\": [\"FUNCTION\", \"sdouble(lst)\", null]}, \"stdout\": \"\"}, {\"line\": 2, \"event\": \"call\", \"func_name\": \"sdouble\", \"globals\": {\"sdouble\": [\"REF\", 1]}, \"ordered_globals\": [\"sdouble\"], \"stack_to_render\": [{\"func_name\": \"sdouble\", \"is_parent\": false, \"frame_id\": 1, \"parent_frame_id_list\": [], \"encoded_locals\": {\"lst\": [\"REF\", 2]}, \"ordered_varnames\": [\"lst\"], \"is_zombie\": false, \"is_highlighted\": true, \"unique_hash\": \"sdouble_f1\"}], \"heap\": {\"2\": [\"LIST\", 4, 9, 1, 5, 7, 3], \"1\": [\"FUNCTION\", \"sdouble(lst)\", null]}, \"stdout\": \"\"}, {\"line\": 3, \"event\": \"step_line\", \"func_name\": \"sdouble\", \"globals\": {\"sdouble\": [\"REF\", 1]}, \"ordered_globals\": [\"sdouble\"], \"stack_to_render\": [{\"func_name\": \"sdouble\", \"is_parent\": false, \"frame_id\": 1, \"parent_frame_id_list\": [], \"encoded_locals\": {\"lst\": [\"REF\", 2]}, \"ordered_varnames\": [\"lst\"], \"is_zombie\": false, \"is_highlighted\": true, \"unique_hash\": \"sdouble_f1\"}], \"heap\": {\"2\": [\"LIST\", 4, 9, 1, 5, 7, 3], \"1\": [\"FUNCTION\", \"sdouble(lst)\", null]}, \"stdout\": \"\"}, {\"line\": 6, \"event\": \"step_line\", \"func_name\": \"sdouble\", \"globals\": {\"sdouble\": [\"REF\", 1]}, \"ordered_globals\": [\"sdouble\"], \"stack_to_render\": [{\"func_name\": \"sdouble\", \"is_parent\": false, \"frame_id\": 1, \"parent_frame_id_list\": [], \"encoded_locals\": {\"lst\": [\"REF\", 2]}, \"ordered_varnames\": [\"lst\"], \"is_zombie\": false, \"is_highlighted\": true, \"unique_hash\": \"sdouble_f1\"}], \"heap\": {\"2\": [\"LIST\", 4, 9, 1, 5, 7, 3], \"1\": [\"FUNCTION\", \"sdouble(lst)\", null]}, \"stdout\": \"\"}, {\"line\": 2, \"event\": \"call\", \"func_name\": \"sdouble\", \"globals\": {\"sdouble\": [\"REF\", 1]}, \"ordered_globals\": [\"sdouble\"], \"stack_to_render\": [{\"func_name\": \"sdouble\", \"is_parent\": false, \"frame_id\": 1, \"parent_frame_id_list\": [], \"encoded_locals\": {\"lst\": [\"REF\", 2]}, \"ordered_varnames\": [\"lst\"], \"is_zombie\": false, \"is_highlighted\": false, \"unique_hash\": \"sdouble_f1\"}, {\"func_name\": \"sdouble\", \"is_parent\": false, \"frame_id\": 2, \"parent_frame_id_list\": [], \"encoded_locals\": {\"lst\": [\"REF\", 3]}, \"ordered_varnames\": [\"lst\"], \"is_zombie\": false, \"is_highlighted\": true, \"unique_hash\": \"sdouble_f2\"}], \"heap\": {\"3\": [\"LIST\", 9, 1, 5, 7, 3], \"2\": [\"LIST\", 4, 9, 1, 5, 7, 3], \"1\": [\"FUNCTION\", \"sdouble(lst)\", null]}, \"stdout\": \"\"}, {\"line\": 3, \"event\": \"step_line\", \"func_name\": \"sdouble\", \"globals\": {\"sdouble\": [\"REF\", 1]}, \"ordered_globals\": [\"sdouble\"], \"stack_to_render\": [{\"func_name\": \"sdouble\", \"is_parent\": false, \"frame_id\": 1, \"parent_frame_id_list\": [], \"encoded_locals\": {\"lst\": [\"REF\", 2]}, \"ordered_varnames\": [\"lst\"], \"is_zombie\": false, \"is_highlighted\": false, \"unique_hash\": \"sdouble_f1\"}, {\"func_name\": \"sdouble\", \"is_parent\": false, \"frame_id\": 2, \"parent_frame_id_list\": [], \"encoded_locals\": {\"lst\": [\"REF\", 3]}, \"ordered_varnames\": [\"lst\"], \"is_zombie\": false, \"is_highlighted\": true, \"unique_hash\": \"sdouble_f2\"}], \"heap\": {\"3\": [\"LIST\", 9, 1, 5, 7, 3], \"2\": [\"LIST\", 4, 9, 1, 5, 7, 3], \"1\": [\"FUNCTION\", \"sdouble(lst)\", null]}, \"stdout\": \"\"}, {\"line\": 6, \"event\": \"step_line\", \"func_name\": \"sdouble\", \"globals\": {\"sdouble\": [\"REF\", 1]}, \"ordered_globals\": [\"sdouble\"], \"stack_to_render\": [{\"func_name\": \"sdouble\", \"is_parent\": false, \"frame_id\": 1, \"parent_frame_id_list\": [], \"encoded_locals\": {\"lst\": [\"REF\", 2]}, \"ordered_varnames\": [\"lst\"], \"is_zombie\": false, \"is_highlighted\": false, \"unique_hash\": \"sdouble_f1\"}, {\"func_name\": \"sdouble\", \"is_parent\": false, \"frame_id\": 2, \"parent_frame_id_list\": [], \"encoded_locals\": {\"lst\": [\"REF\", 3]}, \"ordered_varnames\": [\"lst\"], \"is_zombie\": false, \"is_highlighted\": true, \"unique_hash\": \"sdouble_f2\"}], \"heap\": {\"3\": [\"LIST\", 9, 1, 5, 7, 3], \"2\": [\"LIST\", 4, 9, 1, 5, 7, 3], \"1\": [\"FUNCTION\", \"sdouble(lst)\", null]}, \"stdout\": \"\"}, {\"line\": 2, \"event\": \"call\", \"func_name\": \"sdouble\", \"globals\": {\"sdouble\": [\"REF\", 1]}, \"ordered_globals\": [\"sdouble\"], \"stack_to_render\": [{\"func_name\": \"sdouble\", \"is_parent\": false, \"frame_id\": 1, \"parent_frame_id_list\": [], \"encoded_locals\": {\"lst\": [\"REF\", 2]}, \"ordered_varnames\": [\"lst\"], \"is_zombie\": false, \"is_highlighted\": false, \"unique_hash\": \"sdouble_f1\"}, {\"func_name\": \"sdouble\", \"is_parent\": false, \"frame_id\": 2, \"parent_frame_id_list\": [], \"encoded_locals\": {\"lst\": [\"REF\", 3]}, \"ordered_varnames\": [\"lst\"], \"is_zombie\": false, \"is_highlighted\": false, \"unique_hash\": \"sdouble_f2\"}, {\"func_name\": \"sdouble\", \"is_parent\": false, \"frame_id\": 3, \"parent_frame_id_list\": [], \"encoded_locals\": {\"lst\": [\"REF\", 4]}, \"ordered_varnames\": [\"lst\"], \"is_zombie\": false, \"is_highlighted\": true, \"unique_hash\": \"sdouble_f3\"}], \"heap\": {\"4\": [\"LIST\", 1, 5, 7, 3], \"3\": [\"LIST\", 9, 1, 5, 7, 3], \"2\": [\"LIST\", 4, 9, 1, 5, 7, 3], \"1\": [\"FUNCTION\", \"sdouble(lst)\", null]}, \"stdout\": \"\"}, {\"line\": 3, \"event\": \"step_line\", \"func_name\": \"sdouble\", \"globals\": {\"sdouble\": [\"REF\", 1]}, \"ordered_globals\": [\"sdouble\"], \"stack_to_render\": [{\"func_name\": \"sdouble\", \"is_parent\": false, \"frame_id\": 1, \"parent_frame_id_list\": [], \"encoded_locals\": {\"lst\": [\"REF\", 2]}, \"ordered_varnames\": [\"lst\"], \"is_zombie\": false, \"is_highlighted\": false, \"unique_hash\": \"sdouble_f1\"}, {\"func_name\": \"sdouble\", \"is_parent\": false, \"frame_id\": 2, \"parent_frame_id_list\": [], \"encoded_locals\": {\"lst\": [\"REF\", 3]}, \"ordered_varnames\": [\"lst\"], \"is_zombie\": false, \"is_highlighted\": false, \"unique_hash\": \"sdouble_f2\"}, {\"func_name\": \"sdouble\", \"is_parent\": false, \"frame_id\": 3, \"parent_frame_id_list\": [], \"encoded_locals\": {\"lst\": [\"REF\", 4]}, \"ordered_varnames\": [\"lst\"], \"is_zombie\": false, \"is_highlighted\": true, \"unique_hash\": \"sdouble_f3\"}], \"heap\": {\"4\": [\"LIST\", 1, 5, 7, 3], \"3\": [\"LIST\", 9, 1, 5, 7, 3], \"2\": [\"LIST\", 4, 9, 1, 5, 7, 3], \"1\": [\"FUNCTION\", \"sdouble(lst)\", null]}, \"stdout\": \"\"}, {\"line\": 6, \"event\": \"step_line\", \"func_name\": \"sdouble\", \"globals\": {\"sdouble\": [\"REF\", 1]}, \"ordered_globals\": [\"sdouble\"], \"stack_to_render\": [{\"func_name\": \"sdouble\", \"is_parent\": false, \"frame_id\": 1, \"parent_frame_id_list\": [], \"encoded_locals\": {\"lst\": [\"REF\", 2]}, \"ordered_varnames\": [\"lst\"], \"is_zombie\": false, \"is_highlighted\": false, \"unique_hash\": \"sdouble_f1\"}, {\"func_name\": \"sdouble\", \"is_parent\": false, \"frame_id\": 2, \"parent_frame_id_list\": [], \"encoded_locals\": {\"lst\": [\"REF\", 3]}, \"ordered_varnames\": [\"lst\"], \"is_zombie\": false, \"is_highlighted\": false, \"unique_hash\": \"sdouble_f2\"}, {\"func_name\": \"sdouble\", \"is_parent\": false, \"frame_id\": 3, \"parent_frame_id_list\": [], \"encoded_locals\": {\"lst\": [\"REF\", 4]}, \"ordered_varnames\": [\"lst\"], \"is_zombie\": false, \"is_highlighted\": true, \"unique_hash\": \"sdouble_f3\"}], \"heap\": {\"4\": [\"LIST\", 1, 5, 7, 3], \"3\": [\"LIST\", 9, 1, 5, 7, 3], \"2\": [\"LIST\", 4, 9, 1, 5, 7, 3], \"1\": [\"FUNCTION\", \"sdouble(lst)\", null]}, \"stdout\": \"\"}, {\"line\": 2, \"event\": \"call\", \"func_name\": \"sdouble\", \"globals\": {\"sdouble\": [\"REF\", 1]}, \"ordered_globals\": [\"sdouble\"], \"stack_to_render\": [{\"func_name\": \"sdouble\", \"is_parent\": false, \"frame_id\": 1, \"parent_frame_id_list\": [], \"encoded_locals\": {\"lst\": [\"REF\", 2]}, \"ordered_varnames\": [\"lst\"], \"is_zombie\": false, \"is_highlighted\": false, \"unique_hash\": \"sdouble_f1\"}, {\"func_name\": \"sdouble\", \"is_parent\": false, \"frame_id\": 2, \"parent_frame_id_list\": [], \"encoded_locals\": {\"lst\": [\"REF\", 3]}, \"ordered_varnames\": [\"lst\"], \"is_zombie\": false, \"is_highlighted\": false, \"unique_hash\": \"sdouble_f2\"}, {\"func_name\": \"sdouble\", \"is_parent\": false, \"frame_id\": 3, \"parent_frame_id_list\": [], \"encoded_locals\": {\"lst\": [\"REF\", 4]}, \"ordered_varnames\": [\"lst\"], \"is_zombie\": false, \"is_highlighted\": false, \"unique_hash\": \"sdouble_f3\"}, {\"func_name\": \"sdouble\", \"is_parent\": false, \"frame_id\": 4, \"parent_frame_id_list\": [], \"encoded_locals\": {\"lst\": [\"REF\", 5]}, \"ordered_varnames\": [\"lst\"], \"is_zombie\": false, \"is_highlighted\": true, \"unique_hash\": \"sdouble_f4\"}], \"heap\": {\"5\": [\"LIST\", 5, 7, 3], \"4\": [\"LIST\", 1, 5, 7, 3], \"3\": [\"LIST\", 9, 1, 5, 7, 3], \"2\": [\"LIST\", 4, 9, 1, 5, 7, 3], \"1\": [\"FUNCTION\", \"sdouble(lst)\", null]}, \"stdout\": \"\"}, {\"line\": 3, \"event\": \"step_line\", \"func_name\": \"sdouble\", \"globals\": {\"sdouble\": [\"REF\", 1]}, \"ordered_globals\": [\"sdouble\"], \"stack_to_render\": [{\"func_name\": \"sdouble\", \"is_parent\": false, \"frame_id\": 1, \"parent_frame_id_list\": [], \"encoded_locals\": {\"lst\": [\"REF\", 2]}, \"ordered_varnames\": [\"lst\"], \"is_zombie\": false, \"is_highlighted\": false, \"unique_hash\": \"sdouble_f1\"}, {\"func_name\": \"sdouble\", \"is_parent\": false, \"frame_id\": 2, \"parent_frame_id_list\": [], \"encoded_locals\": {\"lst\": [\"REF\", 3]}, \"ordered_varnames\": [\"lst\"], \"is_zombie\": false, \"is_highlighted\": false, \"unique_hash\": \"sdouble_f2\"}, {\"func_name\": \"sdouble\", \"is_parent\": false, \"frame_id\": 3, \"parent_frame_id_list\": [], \"encoded_locals\": {\"lst\": [\"REF\", 4]}, \"ordered_varnames\": [\"lst\"], \"is_zombie\": false, \"is_highlighted\": false, \"unique_hash\": \"sdouble_f3\"}, {\"func_name\": \"sdouble\", \"is_parent\": false, \"frame_id\": 4, \"parent_frame_id_list\": [], \"encoded_locals\": {\"lst\": [\"REF\", 5]}, \"ordered_varnames\": [\"lst\"], \"is_zombie\": false, \"is_highlighted\": true, \"unique_hash\": \"sdouble_f4\"}], \"heap\": {\"5\": [\"LIST\", 5, 7, 3], \"4\": [\"LIST\", 1, 5, 7, 3], \"3\": [\"LIST\", 9, 1, 5, 7, 3], \"2\": [\"LIST\", 4, 9, 1, 5, 7, 3], \"1\": [\"FUNCTION\", \"sdouble(lst)\", null]}, \"stdout\": \"\"}, {\"line\": 6, \"event\": \"step_line\", \"func_name\": \"sdouble\", \"globals\": {\"sdouble\": [\"REF\", 1]}, \"ordered_globals\": [\"sdouble\"], \"stack_to_render\": [{\"func_name\": \"sdouble\", \"is_parent\": false, \"frame_id\": 1, \"parent_frame_id_list\": [], \"encoded_locals\": {\"lst\": [\"REF\", 2]}, \"ordered_varnames\": [\"lst\"], \"is_zombie\": false, \"is_highlighted\": false, \"unique_hash\": \"sdouble_f1\"}, {\"func_name\": \"sdouble\", \"is_parent\": false, \"frame_id\": 2, \"parent_frame_id_list\": [], \"encoded_locals\": {\"lst\": [\"REF\", 3]}, \"ordered_varnames\": [\"lst\"], \"is_zombie\": false, \"is_highlighted\": false, \"unique_hash\": \"sdouble_f2\"}, {\"func_name\": \"sdouble\", \"is_parent\": false, \"frame_id\": 3, \"parent_frame_id_list\": [], \"encoded_locals\": {\"lst\": [\"REF\", 4]}, \"ordered_varnames\": [\"lst\"], \"is_zombie\": false, \"is_highlighted\": false, \"unique_hash\": \"sdouble_f3\"}, {\"func_name\": \"sdouble\", \"is_parent\": false, \"frame_id\": 4, \"parent_frame_id_list\": [], \"encoded_locals\": {\"lst\": [\"REF\", 5]}, \"ordered_varnames\": [\"lst\"], \"is_zombie\": false, \"is_highlighted\": true, \"unique_hash\": \"sdouble_f4\"}], \"heap\": {\"5\": [\"LIST\", 5, 7, 3], \"4\": [\"LIST\", 1, 5, 7, 3], \"3\": [\"LIST\", 9, 1, 5, 7, 3], \"2\": [\"LIST\", 4, 9, 1, 5, 7, 3], \"1\": [\"FUNCTION\", \"sdouble(lst)\", null]}, \"stdout\": \"\"}, {\"line\": 2, \"event\": \"call\", \"func_name\": \"sdouble\", \"globals\": {\"sdouble\": [\"REF\", 1]}, \"ordered_globals\": [\"sdouble\"], \"stack_to_render\": [{\"func_name\": \"sdouble\", \"is_parent\": false, \"frame_id\": 1, \"parent_frame_id_list\": [], \"encoded_locals\": {\"lst\": [\"REF\", 2]}, \"ordered_varnames\": [\"lst\"], \"is_zombie\": false, \"is_highlighted\": false, \"unique_hash\": \"sdouble_f1\"}, {\"func_name\": \"sdouble\", \"is_parent\": false, \"frame_id\": 2, \"parent_frame_id_list\": [], \"encoded_locals\": {\"lst\": [\"REF\", 3]}, \"ordered_varnames\": [\"lst\"], \"is_zombie\": false, \"is_highlighted\": false, \"unique_hash\": \"sdouble_f2\"}, {\"func_name\": \"sdouble\", \"is_parent\": false, \"frame_id\": 3, \"parent_frame_id_list\": [], \"encoded_locals\": {\"lst\": [\"REF\", 4]}, \"ordered_varnames\": [\"lst\"], \"is_zombie\": false, \"is_highlighted\": false, \"unique_hash\": \"sdouble_f3\"}, {\"func_name\": \"sdouble\", \"is_parent\": false, \"frame_id\": 4, \"parent_frame_id_list\": [], \"encoded_locals\": {\"lst\": [\"REF\", 5]}, \"ordered_varnames\": [\"lst\"], \"is_zombie\": false, \"is_highlighted\": false, \"unique_hash\": \"sdouble_f4\"}, {\"func_name\": \"sdouble\", \"is_parent\": false, \"frame_id\": 5, \"parent_frame_id_list\": [], \"encoded_locals\": {\"lst\": [\"REF\", 6]}, \"ordered_varnames\": [\"lst\"], \"is_zombie\": false, \"is_highlighted\": true, \"unique_hash\": \"sdouble_f5\"}], \"heap\": {\"6\": [\"LIST\", 7, 3], \"5\": [\"LIST\", 5, 7, 3], \"4\": [\"LIST\", 1, 5, 7, 3], \"3\": [\"LIST\", 9, 1, 5, 7, 3], \"2\": [\"LIST\", 4, 9, 1, 5, 7, 3], \"1\": [\"FUNCTION\", \"sdouble(lst)\", null]}, \"stdout\": \"\"}, {\"line\": 3, \"event\": \"step_line\", \"func_name\": \"sdouble\", \"globals\": {\"sdouble\": [\"REF\", 1]}, \"ordered_globals\": [\"sdouble\"], \"stack_to_render\": [{\"func_name\": \"sdouble\", \"is_parent\": false, \"frame_id\": 1, \"parent_frame_id_list\": [], \"encoded_locals\": {\"lst\": [\"REF\", 2]}, \"ordered_varnames\": [\"lst\"], \"is_zombie\": false, \"is_highlighted\": false, \"unique_hash\": \"sdouble_f1\"}, {\"func_name\": \"sdouble\", \"is_parent\": false, \"frame_id\": 2, \"parent_frame_id_list\": [], \"encoded_locals\": {\"lst\": [\"REF\", 3]}, \"ordered_varnames\": [\"lst\"], \"is_zombie\": false, \"is_highlighted\": false, \"unique_hash\": \"sdouble_f2\"}, {\"func_name\": \"sdouble\", \"is_parent\": false, \"frame_id\": 3, \"parent_frame_id_list\": [], \"encoded_locals\": {\"lst\": [\"REF\", 4]}, \"ordered_varnames\": [\"lst\"], \"is_zombie\": false, \"is_highlighted\": false, \"unique_hash\": \"sdouble_f3\"}, {\"func_name\": \"sdouble\", \"is_parent\": false, \"frame_id\": 4, \"parent_frame_id_list\": [], \"encoded_locals\": {\"lst\": [\"REF\", 5]}, \"ordered_varnames\": [\"lst\"], \"is_zombie\": false, \"is_highlighted\": false, \"unique_hash\": \"sdouble_f4\"}, {\"func_name\": \"sdouble\", \"is_parent\": false, \"frame_id\": 5, \"parent_frame_id_list\": [], \"encoded_locals\": {\"lst\": [\"REF\", 6]}, \"ordered_varnames\": [\"lst\"], \"is_zombie\": false, \"is_highlighted\": true, \"unique_hash\": \"sdouble_f5\"}], \"heap\": {\"6\": [\"LIST\", 7, 3], \"5\": [\"LIST\", 5, 7, 3], \"4\": [\"LIST\", 1, 5, 7, 3], \"3\": [\"LIST\", 9, 1, 5, 7, 3], \"2\": [\"LIST\", 4, 9, 1, 5, 7, 3], \"1\": [\"FUNCTION\", \"sdouble(lst)\", null]}, \"stdout\": \"\"}, {\"line\": 6, \"event\": \"step_line\", \"func_name\": \"sdouble\", \"globals\": {\"sdouble\": [\"REF\", 1]}, \"ordered_globals\": [\"sdouble\"], \"stack_to_render\": [{\"func_name\": \"sdouble\", \"is_parent\": false, \"frame_id\": 1, \"parent_frame_id_list\": [], \"encoded_locals\": {\"lst\": [\"REF\", 2]}, \"ordered_varnames\": [\"lst\"], \"is_zombie\": false, \"is_highlighted\": false, \"unique_hash\": \"sdouble_f1\"}, {\"func_name\": \"sdouble\", \"is_parent\": false, \"frame_id\": 2, \"parent_frame_id_list\": [], \"encoded_locals\": {\"lst\": [\"REF\", 3]}, \"ordered_varnames\": [\"lst\"], \"is_zombie\": false, \"is_highlighted\": false, \"unique_hash\": \"sdouble_f2\"}, {\"func_name\": \"sdouble\", \"is_parent\": false, \"frame_id\": 3, \"parent_frame_id_list\": [], \"encoded_locals\": {\"lst\": [\"REF\", 4]}, \"ordered_varnames\": [\"lst\"], \"is_zombie\": false, \"is_highlighted\": false, \"unique_hash\": \"sdouble_f3\"}, {\"func_name\": \"sdouble\", \"is_parent\": false, \"frame_id\": 4, \"parent_frame_id_list\": [], \"encoded_locals\": {\"lst\": [\"REF\", 5]}, \"ordered_varnames\": [\"lst\"], \"is_zombie\": false, \"is_highlighted\": false, \"unique_hash\": \"sdouble_f4\"}, {\"func_name\": \"sdouble\", \"is_parent\": false, \"frame_id\": 5, \"parent_frame_id_list\": [], \"encoded_locals\": {\"lst\": [\"REF\", 6]}, \"ordered_varnames\": [\"lst\"], \"is_zombie\": false, \"is_highlighted\": true, \"unique_hash\": \"sdouble_f5\"}], \"heap\": {\"6\": [\"LIST\", 7, 3], \"5\": [\"LIST\", 5, 7, 3], \"4\": [\"LIST\", 1, 5, 7, 3], \"3\": [\"LIST\", 9, 1, 5, 7, 3], \"2\": [\"LIST\", 4, 9, 1, 5, 7, 3], \"1\": [\"FUNCTION\", \"sdouble(lst)\", null]}, \"stdout\": \"\"}, {\"line\": 2, \"event\": \"call\", \"func_name\": \"sdouble\", \"globals\": {\"sdouble\": [\"REF\", 1]}, \"ordered_globals\": [\"sdouble\"], \"stack_to_render\": [{\"func_name\": \"sdouble\", \"is_parent\": false, \"frame_id\": 1, \"parent_frame_id_list\": [], \"encoded_locals\": {\"lst\": [\"REF\", 2]}, \"ordered_varnames\": [\"lst\"], \"is_zombie\": false, \"is_highlighted\": false, \"unique_hash\": \"sdouble_f1\"}, {\"func_name\": \"sdouble\", \"is_parent\": false, \"frame_id\": 2, \"parent_frame_id_list\": [], \"encoded_locals\": {\"lst\": [\"REF\", 3]}, \"ordered_varnames\": [\"lst\"], \"is_zombie\": false, \"is_highlighted\": false, \"unique_hash\": \"sdouble_f2\"}, {\"func_name\": \"sdouble\", \"is_parent\": false, \"frame_id\": 3, \"parent_frame_id_list\": [], \"encoded_locals\": {\"lst\": [\"REF\", 4]}, \"ordered_varnames\": [\"lst\"], \"is_zombie\": false, \"is_highlighted\": false, \"unique_hash\": \"sdouble_f3\"}, {\"func_name\": \"sdouble\", \"is_parent\": false, \"frame_id\": 4, \"parent_frame_id_list\": [], \"encoded_locals\": {\"lst\": [\"REF\", 5]}, \"ordered_varnames\": [\"lst\"], \"is_zombie\": false, \"is_highlighted\": false, \"unique_hash\": \"sdouble_f4\"}, {\"func_name\": \"sdouble\", \"is_parent\": false, \"frame_id\": 5, \"parent_frame_id_list\": [], \"encoded_locals\": {\"lst\": [\"REF\", 6]}, \"ordered_varnames\": [\"lst\"], \"is_zombie\": false, \"is_highlighted\": false, \"unique_hash\": \"sdouble_f5\"}, {\"func_name\": \"sdouble\", \"is_parent\": false, \"frame_id\": 6, \"parent_frame_id_list\": [], \"encoded_locals\": {\"lst\": [\"REF\", 7]}, \"ordered_varnames\": [\"lst\"], \"is_zombie\": false, \"is_highlighted\": true, \"unique_hash\": \"sdouble_f6\"}], \"heap\": {\"7\": [\"LIST\", 3], \"6\": [\"LIST\", 7, 3], \"5\": [\"LIST\", 5, 7, 3], \"4\": [\"LIST\", 1, 5, 7, 3], \"3\": [\"LIST\", 9, 1, 5, 7, 3], \"2\": [\"LIST\", 4, 9, 1, 5, 7, 3], \"1\": [\"FUNCTION\", \"sdouble(lst)\", null]}, \"stdout\": \"\"}, {\"line\": 3, \"event\": \"step_line\", \"func_name\": \"sdouble\", \"globals\": {\"sdouble\": [\"REF\", 1]}, \"ordered_globals\": [\"sdouble\"], \"stack_to_render\": [{\"func_name\": \"sdouble\", \"is_parent\": false, \"frame_id\": 1, \"parent_frame_id_list\": [], \"encoded_locals\": {\"lst\": [\"REF\", 2]}, \"ordered_varnames\": [\"lst\"], \"is_zombie\": false, \"is_highlighted\": false, \"unique_hash\": \"sdouble_f1\"}, {\"func_name\": \"sdouble\", \"is_parent\": false, \"frame_id\": 2, \"parent_frame_id_list\": [], \"encoded_locals\": {\"lst\": [\"REF\", 3]}, \"ordered_varnames\": [\"lst\"], \"is_zombie\": false, \"is_highlighted\": false, \"unique_hash\": \"sdouble_f2\"}, {\"func_name\": \"sdouble\", \"is_parent\": false, \"frame_id\": 3, \"parent_frame_id_list\": [], \"encoded_locals\": {\"lst\": [\"REF\", 4]}, \"ordered_varnames\": [\"lst\"], \"is_zombie\": false, \"is_highlighted\": false, \"unique_hash\": \"sdouble_f3\"}, {\"func_name\": \"sdouble\", \"is_parent\": false, \"frame_id\": 4, \"parent_frame_id_list\": [], \"encoded_locals\": {\"lst\": [\"REF\", 5]}, \"ordered_varnames\": [\"lst\"], \"is_zombie\": false, \"is_highlighted\": false, \"unique_hash\": \"sdouble_f4\"}, {\"func_name\": \"sdouble\", \"is_parent\": false, \"frame_id\": 5, \"parent_frame_id_list\": [], \"encoded_locals\": {\"lst\": [\"REF\", 6]}, \"ordered_varnames\": [\"lst\"], \"is_zombie\": false, \"is_highlighted\": false, \"unique_hash\": \"sdouble_f5\"}, {\"func_name\": \"sdouble\", \"is_parent\": false, \"frame_id\": 6, \"parent_frame_id_list\": [], \"encoded_locals\": {\"lst\": [\"REF\", 7]}, \"ordered_varnames\": [\"lst\"], \"is_zombie\": false, \"is_highlighted\": true, \"unique_hash\": \"sdouble_f6\"}], \"heap\": {\"7\": [\"LIST\", 3], \"6\": [\"LIST\", 7, 3], \"5\": [\"LIST\", 5, 7, 3], \"4\": [\"LIST\", 1, 5, 7, 3], \"3\": [\"LIST\", 9, 1, 5, 7, 3], \"2\": [\"LIST\", 4, 9, 1, 5, 7, 3], \"1\": [\"FUNCTION\", \"sdouble(lst)\", null]}, \"stdout\": \"\"}, {\"line\": 6, \"event\": \"step_line\", \"func_name\": \"sdouble\", \"globals\": {\"sdouble\": [\"REF\", 1]}, \"ordered_globals\": [\"sdouble\"], \"stack_to_render\": [{\"func_name\": \"sdouble\", \"is_parent\": false, \"frame_id\": 1, \"parent_frame_id_list\": [], \"encoded_locals\": {\"lst\": [\"REF\", 2]}, \"ordered_varnames\": [\"lst\"], \"is_zombie\": false, \"is_highlighted\": false, \"unique_hash\": \"sdouble_f1\"}, {\"func_name\": \"sdouble\", \"is_parent\": false, \"frame_id\": 2, \"parent_frame_id_list\": [], \"encoded_locals\": {\"lst\": [\"REF\", 3]}, \"ordered_varnames\": [\"lst\"], \"is_zombie\": false, \"is_highlighted\": false, \"unique_hash\": \"sdouble_f2\"}, {\"func_name\": \"sdouble\", \"is_parent\": false, \"frame_id\": 3, \"parent_frame_id_list\": [], \"encoded_locals\": {\"lst\": [\"REF\", 4]}, \"ordered_varnames\": [\"lst\"], \"is_zombie\": false, \"is_highlighted\": false, \"unique_hash\": \"sdouble_f3\"}, {\"func_name\": \"sdouble\", \"is_parent\": false, \"frame_id\": 4, \"parent_frame_id_list\": [], \"encoded_locals\": {\"lst\": [\"REF\", 5]}, \"ordered_varnames\": [\"lst\"], \"is_zombie\": false, \"is_highlighted\": false, \"unique_hash\": \"sdouble_f4\"}, {\"func_name\": \"sdouble\", \"is_parent\": false, \"frame_id\": 5, \"parent_frame_id_list\": [], \"encoded_locals\": {\"lst\": [\"REF\", 6]}, \"ordered_varnames\": [\"lst\"], \"is_zombie\": false, \"is_highlighted\": false, \"unique_hash\": \"sdouble_f5\"}, {\"func_name\": \"sdouble\", \"is_parent\": false, \"frame_id\": 6, \"parent_frame_id_list\": [], \"encoded_locals\": {\"lst\": [\"REF\", 7]}, \"ordered_varnames\": [\"lst\"], \"is_zombie\": false, \"is_highlighted\": true, \"unique_hash\": \"sdouble_f6\"}], \"heap\": {\"7\": [\"LIST\", 3], \"6\": [\"LIST\", 7, 3], \"5\": [\"LIST\", 5, 7, 3], \"4\": [\"LIST\", 1, 5, 7, 3], \"3\": [\"LIST\", 9, 1, 5, 7, 3], \"2\": [\"LIST\", 4, 9, 1, 5, 7, 3], \"1\": [\"FUNCTION\", \"sdouble(lst)\", null]}, \"stdout\": \"\"}, {\"line\": 2, \"event\": \"call\", \"func_name\": \"sdouble\", \"globals\": {\"sdouble\": [\"REF\", 1]}, \"ordered_globals\": [\"sdouble\"], \"stack_to_render\": [{\"func_name\": \"sdouble\", \"is_parent\": false, \"frame_id\": 1, \"parent_frame_id_list\": [], \"encoded_locals\": {\"lst\": [\"REF\", 2]}, \"ordered_varnames\": [\"lst\"], \"is_zombie\": false, \"is_highlighted\": false, \"unique_hash\": \"sdouble_f1\"}, {\"func_name\": \"sdouble\", \"is_parent\": false, \"frame_id\": 2, \"parent_frame_id_list\": [], \"encoded_locals\": {\"lst\": [\"REF\", 3]}, \"ordered_varnames\": [\"lst\"], \"is_zombie\": false, \"is_highlighted\": false, \"unique_hash\": \"sdouble_f2\"}, {\"func_name\": \"sdouble\", \"is_parent\": false, \"frame_id\": 3, \"parent_frame_id_list\": [], \"encoded_locals\": {\"lst\": [\"REF\", 4]}, \"ordered_varnames\": [\"lst\"], \"is_zombie\": false, \"is_highlighted\": false, \"unique_hash\": \"sdouble_f3\"}, {\"func_name\": \"sdouble\", \"is_parent\": false, \"frame_id\": 4, \"parent_frame_id_list\": [], \"encoded_locals\": {\"lst\": [\"REF\", 5]}, \"ordered_varnames\": [\"lst\"], \"is_zombie\": false, \"is_highlighted\": false, \"unique_hash\": \"sdouble_f4\"}, {\"func_name\": \"sdouble\", \"is_parent\": false, \"frame_id\": 5, \"parent_frame_id_list\": [], \"encoded_locals\": {\"lst\": [\"REF\", 6]}, \"ordered_varnames\": [\"lst\"], \"is_zombie\": false, \"is_highlighted\": false, \"unique_hash\": \"sdouble_f5\"}, {\"func_name\": \"sdouble\", \"is_parent\": false, \"frame_id\": 6, \"parent_frame_id_list\": [], \"encoded_locals\": {\"lst\": [\"REF\", 7]}, \"ordered_varnames\": [\"lst\"], \"is_zombie\": false, \"is_highlighted\": false, \"unique_hash\": \"sdouble_f6\"}, {\"func_name\": \"sdouble\", \"is_parent\": false, \"frame_id\": 7, \"parent_frame_id_list\": [], \"encoded_locals\": {\"lst\": [\"REF\", 8]}, \"ordered_varnames\": [\"lst\"], \"is_zombie\": false, \"is_highlighted\": true, \"unique_hash\": \"sdouble_f7\"}], \"heap\": {\"8\": [\"LIST\"], \"7\": [\"LIST\", 3], \"6\": [\"LIST\", 7, 3], \"5\": [\"LIST\", 5, 7, 3], \"4\": [\"LIST\", 1, 5, 7, 3], \"3\": [\"LIST\", 9, 1, 5, 7, 3], \"2\": [\"LIST\", 4, 9, 1, 5, 7, 3], \"1\": [\"FUNCTION\", \"sdouble(lst)\", null]}, \"stdout\": \"\"}, {\"line\": 3, \"event\": \"step_line\", \"func_name\": \"sdouble\", \"globals\": {\"sdouble\": [\"REF\", 1]}, \"ordered_globals\": [\"sdouble\"], \"stack_to_render\": [{\"func_name\": \"sdouble\", \"is_parent\": false, \"frame_id\": 1, \"parent_frame_id_list\": [], \"encoded_locals\": {\"lst\": [\"REF\", 2]}, \"ordered_varnames\": [\"lst\"], \"is_zombie\": false, \"is_highlighted\": false, \"unique_hash\": \"sdouble_f1\"}, {\"func_name\": \"sdouble\", \"is_parent\": false, \"frame_id\": 2, \"parent_frame_id_list\": [], \"encoded_locals\": {\"lst\": [\"REF\", 3]}, \"ordered_varnames\": [\"lst\"], \"is_zombie\": false, \"is_highlighted\": false, \"unique_hash\": \"sdouble_f2\"}, {\"func_name\": \"sdouble\", \"is_parent\": false, \"frame_id\": 3, \"parent_frame_id_list\": [], \"encoded_locals\": {\"lst\": [\"REF\", 4]}, \"ordered_varnames\": [\"lst\"], \"is_zombie\": false, \"is_highlighted\": false, \"unique_hash\": \"sdouble_f3\"}, {\"func_name\": \"sdouble\", \"is_parent\": false, \"frame_id\": 4, \"parent_frame_id_list\": [], \"encoded_locals\": {\"lst\": [\"REF\", 5]}, \"ordered_varnames\": [\"lst\"], \"is_zombie\": false, \"is_highlighted\": false, \"unique_hash\": \"sdouble_f4\"}, {\"func_name\": \"sdouble\", \"is_parent\": false, \"frame_id\": 5, \"parent_frame_id_list\": [], \"encoded_locals\": {\"lst\": [\"REF\", 6]}, \"ordered_varnames\": [\"lst\"], \"is_zombie\": false, \"is_highlighted\": false, \"unique_hash\": \"sdouble_f5\"}, {\"func_name\": \"sdouble\", \"is_parent\": false, \"frame_id\": 6, \"parent_frame_id_list\": [], \"encoded_locals\": {\"lst\": [\"REF\", 7]}, \"ordered_varnames\": [\"lst\"], \"is_zombie\": false, \"is_highlighted\": false, \"unique_hash\": \"sdouble_f6\"}, {\"func_name\": \"sdouble\", \"is_parent\": false, \"frame_id\": 7, \"parent_frame_id_list\": [], \"encoded_locals\": {\"lst\": [\"REF\", 8]}, \"ordered_varnames\": [\"lst\"], \"is_zombie\": false, \"is_highlighted\": true, \"unique_hash\": \"sdouble_f7\"}], \"heap\": {\"8\": [\"LIST\"], \"7\": [\"LIST\", 3], \"6\": [\"LIST\", 7, 3], \"5\": [\"LIST\", 5, 7, 3], \"4\": [\"LIST\", 1, 5, 7, 3], \"3\": [\"LIST\", 9, 1, 5, 7, 3], \"2\": [\"LIST\", 4, 9, 1, 5, 7, 3], \"1\": [\"FUNCTION\", \"sdouble(lst)\", null]}, \"stdout\": \"\"}, {\"line\": 4, \"event\": \"step_line\", \"func_name\": \"sdouble\", \"globals\": {\"sdouble\": [\"REF\", 1]}, \"ordered_globals\": [\"sdouble\"], \"stack_to_render\": [{\"func_name\": \"sdouble\", \"is_parent\": false, \"frame_id\": 1, \"parent_frame_id_list\": [], \"encoded_locals\": {\"lst\": [\"REF\", 2]}, \"ordered_varnames\": [\"lst\"], \"is_zombie\": false, \"is_highlighted\": false, \"unique_hash\": \"sdouble_f1\"}, {\"func_name\": \"sdouble\", \"is_parent\": false, \"frame_id\": 2, \"parent_frame_id_list\": [], \"encoded_locals\": {\"lst\": [\"REF\", 3]}, \"ordered_varnames\": [\"lst\"], \"is_zombie\": false, \"is_highlighted\": false, \"unique_hash\": \"sdouble_f2\"}, {\"func_name\": \"sdouble\", \"is_parent\": false, \"frame_id\": 3, \"parent_frame_id_list\": [], \"encoded_locals\": {\"lst\": [\"REF\", 4]}, \"ordered_varnames\": [\"lst\"], \"is_zombie\": false, \"is_highlighted\": false, \"unique_hash\": \"sdouble_f3\"}, {\"func_name\": \"sdouble\", \"is_parent\": false, \"frame_id\": 4, \"parent_frame_id_list\": [], \"encoded_locals\": {\"lst\": [\"REF\", 5]}, \"ordered_varnames\": [\"lst\"], \"is_zombie\": false, \"is_highlighted\": false, \"unique_hash\": \"sdouble_f4\"}, {\"func_name\": \"sdouble\", \"is_parent\": false, \"frame_id\": 5, \"parent_frame_id_list\": [], \"encoded_locals\": {\"lst\": [\"REF\", 6]}, \"ordered_varnames\": [\"lst\"], \"is_zombie\": false, \"is_highlighted\": false, \"unique_hash\": \"sdouble_f5\"}, {\"func_name\": \"sdouble\", \"is_parent\": false, \"frame_id\": 6, \"parent_frame_id_list\": [], \"encoded_locals\": {\"lst\": [\"REF\", 7]}, \"ordered_varnames\": [\"lst\"], \"is_zombie\": false, \"is_highlighted\": false, \"unique_hash\": \"sdouble_f6\"}, {\"func_name\": \"sdouble\", \"is_parent\": false, \"frame_id\": 7, \"parent_frame_id_list\": [], \"encoded_locals\": {\"lst\": [\"REF\", 8]}, \"ordered_varnames\": [\"lst\"], \"is_zombie\": false, \"is_highlighted\": true, \"unique_hash\": \"sdouble_f7\"}], \"heap\": {\"8\": [\"LIST\"], \"7\": [\"LIST\", 3], \"6\": [\"LIST\", 7, 3], \"5\": [\"LIST\", 5, 7, 3], \"4\": [\"LIST\", 1, 5, 7, 3], \"3\": [\"LIST\", 9, 1, 5, 7, 3], \"2\": [\"LIST\", 4, 9, 1, 5, 7, 3], \"1\": [\"FUNCTION\", \"sdouble(lst)\", null]}, \"stdout\": \"\"}, {\"line\": 4, \"event\": \"return\", \"func_name\": \"sdouble\", \"globals\": {\"sdouble\": [\"REF\", 1]}, \"ordered_globals\": [\"sdouble\"], \"stack_to_render\": [{\"func_name\": \"sdouble\", \"is_parent\": false, \"frame_id\": 1, \"parent_frame_id_list\": [], \"encoded_locals\": {\"lst\": [\"REF\", 2]}, \"ordered_varnames\": [\"lst\"], \"is_zombie\": false, \"is_highlighted\": false, \"unique_hash\": \"sdouble_f1\"}, {\"func_name\": \"sdouble\", \"is_parent\": false, \"frame_id\": 2, \"parent_frame_id_list\": [], \"encoded_locals\": {\"lst\": [\"REF\", 3]}, \"ordered_varnames\": [\"lst\"], \"is_zombie\": false, \"is_highlighted\": false, \"unique_hash\": \"sdouble_f2\"}, {\"func_name\": \"sdouble\", \"is_parent\": false, \"frame_id\": 3, \"parent_frame_id_list\": [], \"encoded_locals\": {\"lst\": [\"REF\", 4]}, \"ordered_varnames\": [\"lst\"], \"is_zombie\": false, \"is_highlighted\": false, \"unique_hash\": \"sdouble_f3\"}, {\"func_name\": \"sdouble\", \"is_parent\": false, \"frame_id\": 4, \"parent_frame_id_list\": [], \"encoded_locals\": {\"lst\": [\"REF\", 5]}, \"ordered_varnames\": [\"lst\"], \"is_zombie\": false, \"is_highlighted\": false, \"unique_hash\": \"sdouble_f4\"}, {\"func_name\": \"sdouble\", \"is_parent\": false, \"frame_id\": 5, \"parent_frame_id_list\": [], \"encoded_locals\": {\"lst\": [\"REF\", 6]}, \"ordered_varnames\": [\"lst\"], \"is_zombie\": false, \"is_highlighted\": false, \"unique_hash\": \"sdouble_f5\"}, {\"func_name\": \"sdouble\", \"is_parent\": false, \"frame_id\": 6, \"parent_frame_id_list\": [], \"encoded_locals\": {\"lst\": [\"REF\", 7]}, \"ordered_varnames\": [\"lst\"], \"is_zombie\": false, \"is_highlighted\": false, \"unique_hash\": \"sdouble_f6\"}, {\"func_name\": \"sdouble\", \"is_parent\": false, \"frame_id\": 7, \"parent_frame_id_list\": [], \"encoded_locals\": {\"lst\": [\"REF\", 8], \"__return__\": [\"REF\", 9]}, \"ordered_varnames\": [\"lst\", \"__return__\"], \"is_zombie\": false, \"is_highlighted\": true, \"unique_hash\": \"sdouble_f7\"}], \"heap\": {\"8\": [\"LIST\"], \"9\": [\"LIST\"], \"7\": [\"LIST\", 3], \"6\": [\"LIST\", 7, 3], \"5\": [\"LIST\", 5, 7, 3], \"4\": [\"LIST\", 1, 5, 7, 3], \"3\": [\"LIST\", 9, 1, 5, 7, 3], \"2\": [\"LIST\", 4, 9, 1, 5, 7, 3], \"1\": [\"FUNCTION\", \"sdouble(lst)\", null]}, \"stdout\": \"\"}, {\"line\": 6, \"event\": \"return\", \"func_name\": \"sdouble\", \"globals\": {\"sdouble\": [\"REF\", 1]}, \"ordered_globals\": [\"sdouble\"], \"stack_to_render\": [{\"func_name\": \"sdouble\", \"is_parent\": false, \"frame_id\": 1, \"parent_frame_id_list\": [], \"encoded_locals\": {\"lst\": [\"REF\", 2]}, \"ordered_varnames\": [\"lst\"], \"is_zombie\": false, \"is_highlighted\": false, \"unique_hash\": \"sdouble_f1\"}, {\"func_name\": \"sdouble\", \"is_parent\": false, \"frame_id\": 2, \"parent_frame_id_list\": [], \"encoded_locals\": {\"lst\": [\"REF\", 3]}, \"ordered_varnames\": [\"lst\"], \"is_zombie\": false, \"is_highlighted\": false, \"unique_hash\": \"sdouble_f2\"}, {\"func_name\": \"sdouble\", \"is_parent\": false, \"frame_id\": 3, \"parent_frame_id_list\": [], \"encoded_locals\": {\"lst\": [\"REF\", 4]}, \"ordered_varnames\": [\"lst\"], \"is_zombie\": false, \"is_highlighted\": false, \"unique_hash\": \"sdouble_f3\"}, {\"func_name\": \"sdouble\", \"is_parent\": false, \"frame_id\": 4, \"parent_frame_id_list\": [], \"encoded_locals\": {\"lst\": [\"REF\", 5]}, \"ordered_varnames\": [\"lst\"], \"is_zombie\": false, \"is_highlighted\": false, \"unique_hash\": \"sdouble_f4\"}, {\"func_name\": \"sdouble\", \"is_parent\": false, \"frame_id\": 5, \"parent_frame_id_list\": [], \"encoded_locals\": {\"lst\": [\"REF\", 6]}, \"ordered_varnames\": [\"lst\"], \"is_zombie\": false, \"is_highlighted\": false, \"unique_hash\": \"sdouble_f5\"}, {\"func_name\": \"sdouble\", \"is_parent\": false, \"frame_id\": 6, \"parent_frame_id_list\": [], \"encoded_locals\": {\"lst\": [\"REF\", 7], \"__return__\": [\"REF\", 10]}, \"ordered_varnames\": [\"lst\", \"__return__\"], \"is_zombie\": false, \"is_highlighted\": true, \"unique_hash\": \"sdouble_f6\"}], \"heap\": {\"7\": [\"LIST\", 3], \"10\": [\"LIST\", 6], \"6\": [\"LIST\", 7, 3], \"5\": [\"LIST\", 5, 7, 3], \"4\": [\"LIST\", 1, 5, 7, 3], \"3\": [\"LIST\", 9, 1, 5, 7, 3], \"2\": [\"LIST\", 4, 9, 1, 5, 7, 3], \"1\": [\"FUNCTION\", \"sdouble(lst)\", null]}, \"stdout\": \"\"}, {\"line\": 6, \"event\": \"return\", \"func_name\": \"sdouble\", \"globals\": {\"sdouble\": [\"REF\", 1]}, \"ordered_globals\": [\"sdouble\"], \"stack_to_render\": [{\"func_name\": \"sdouble\", \"is_parent\": false, \"frame_id\": 1, \"parent_frame_id_list\": [], \"encoded_locals\": {\"lst\": [\"REF\", 2]}, \"ordered_varnames\": [\"lst\"], \"is_zombie\": false, \"is_highlighted\": false, \"unique_hash\": \"sdouble_f1\"}, {\"func_name\": \"sdouble\", \"is_parent\": false, \"frame_id\": 2, \"parent_frame_id_list\": [], \"encoded_locals\": {\"lst\": [\"REF\", 3]}, \"ordered_varnames\": [\"lst\"], \"is_zombie\": false, \"is_highlighted\": false, \"unique_hash\": \"sdouble_f2\"}, {\"func_name\": \"sdouble\", \"is_parent\": false, \"frame_id\": 3, \"parent_frame_id_list\": [], \"encoded_locals\": {\"lst\": [\"REF\", 4]}, \"ordered_varnames\": [\"lst\"], \"is_zombie\": false, \"is_highlighted\": false, \"unique_hash\": \"sdouble_f3\"}, {\"func_name\": \"sdouble\", \"is_parent\": false, \"frame_id\": 4, \"parent_frame_id_list\": [], \"encoded_locals\": {\"lst\": [\"REF\", 5]}, \"ordered_varnames\": [\"lst\"], \"is_zombie\": false, \"is_highlighted\": false, \"unique_hash\": \"sdouble_f4\"}, {\"func_name\": \"sdouble\", \"is_parent\": false, \"frame_id\": 5, \"parent_frame_id_list\": [], \"encoded_locals\": {\"lst\": [\"REF\", 6], \"__return__\": [\"REF\", 11]}, \"ordered_varnames\": [\"lst\", \"__return__\"], \"is_zombie\": false, \"is_highlighted\": true, \"unique_hash\": \"sdouble_f5\"}], \"heap\": {\"6\": [\"LIST\", 7, 3], \"11\": [\"LIST\", 14, 6], \"5\": [\"LIST\", 5, 7, 3], \"4\": [\"LIST\", 1, 5, 7, 3], \"3\": [\"LIST\", 9, 1, 5, 7, 3], \"2\": [\"LIST\", 4, 9, 1, 5, 7, 3], \"1\": [\"FUNCTION\", \"sdouble(lst)\", null]}, \"stdout\": \"\"}, {\"line\": 6, \"event\": \"return\", \"func_name\": \"sdouble\", \"globals\": {\"sdouble\": [\"REF\", 1]}, \"ordered_globals\": [\"sdouble\"], \"stack_to_render\": [{\"func_name\": \"sdouble\", \"is_parent\": false, \"frame_id\": 1, \"parent_frame_id_list\": [], \"encoded_locals\": {\"lst\": [\"REF\", 2]}, \"ordered_varnames\": [\"lst\"], \"is_zombie\": false, \"is_highlighted\": false, \"unique_hash\": \"sdouble_f1\"}, {\"func_name\": \"sdouble\", \"is_parent\": false, \"frame_id\": 2, \"parent_frame_id_list\": [], \"encoded_locals\": {\"lst\": [\"REF\", 3]}, \"ordered_varnames\": [\"lst\"], \"is_zombie\": false, \"is_highlighted\": false, \"unique_hash\": \"sdouble_f2\"}, {\"func_name\": \"sdouble\", \"is_parent\": false, \"frame_id\": 3, \"parent_frame_id_list\": [], \"encoded_locals\": {\"lst\": [\"REF\", 4]}, \"ordered_varnames\": [\"lst\"], \"is_zombie\": false, \"is_highlighted\": false, \"unique_hash\": \"sdouble_f3\"}, {\"func_name\": \"sdouble\", \"is_parent\": false, \"frame_id\": 4, \"parent_frame_id_list\": [], \"encoded_locals\": {\"lst\": [\"REF\", 5], \"__return__\": [\"REF\", 12]}, \"ordered_varnames\": [\"lst\", \"__return__\"], \"is_zombie\": false, \"is_highlighted\": true, \"unique_hash\": \"sdouble_f4\"}], \"heap\": {\"5\": [\"LIST\", 5, 7, 3], \"12\": [\"LIST\", 10, 14, 6], \"4\": [\"LIST\", 1, 5, 7, 3], \"3\": [\"LIST\", 9, 1, 5, 7, 3], \"2\": [\"LIST\", 4, 9, 1, 5, 7, 3], \"1\": [\"FUNCTION\", \"sdouble(lst)\", null]}, \"stdout\": \"\"}, {\"line\": 6, \"event\": \"return\", \"func_name\": \"sdouble\", \"globals\": {\"sdouble\": [\"REF\", 1]}, \"ordered_globals\": [\"sdouble\"], \"stack_to_render\": [{\"func_name\": \"sdouble\", \"is_parent\": false, \"frame_id\": 1, \"parent_frame_id_list\": [], \"encoded_locals\": {\"lst\": [\"REF\", 2]}, \"ordered_varnames\": [\"lst\"], \"is_zombie\": false, \"is_highlighted\": false, \"unique_hash\": \"sdouble_f1\"}, {\"func_name\": \"sdouble\", \"is_parent\": false, \"frame_id\": 2, \"parent_frame_id_list\": [], \"encoded_locals\": {\"lst\": [\"REF\", 3]}, \"ordered_varnames\": [\"lst\"], \"is_zombie\": false, \"is_highlighted\": false, \"unique_hash\": \"sdouble_f2\"}, {\"func_name\": \"sdouble\", \"is_parent\": false, \"frame_id\": 3, \"parent_frame_id_list\": [], \"encoded_locals\": {\"lst\": [\"REF\", 4], \"__return__\": [\"REF\", 13]}, \"ordered_varnames\": [\"lst\", \"__return__\"], \"is_zombie\": false, \"is_highlighted\": true, \"unique_hash\": \"sdouble_f3\"}], \"heap\": {\"4\": [\"LIST\", 1, 5, 7, 3], \"13\": [\"LIST\", 2, 10, 14, 6], \"3\": [\"LIST\", 9, 1, 5, 7, 3], \"2\": [\"LIST\", 4, 9, 1, 5, 7, 3], \"1\": [\"FUNCTION\", \"sdouble(lst)\", null]}, \"stdout\": \"\"}, {\"line\": 6, \"event\": \"return\", \"func_name\": \"sdouble\", \"globals\": {\"sdouble\": [\"REF\", 1]}, \"ordered_globals\": [\"sdouble\"], \"stack_to_render\": [{\"func_name\": \"sdouble\", \"is_parent\": false, \"frame_id\": 1, \"parent_frame_id_list\": [], \"encoded_locals\": {\"lst\": [\"REF\", 2]}, \"ordered_varnames\": [\"lst\"], \"is_zombie\": false, \"is_highlighted\": false, \"unique_hash\": \"sdouble_f1\"}, {\"func_name\": \"sdouble\", \"is_parent\": false, \"frame_id\": 2, \"parent_frame_id_list\": [], \"encoded_locals\": {\"lst\": [\"REF\", 3], \"__return__\": [\"REF\", 14]}, \"ordered_varnames\": [\"lst\", \"__return__\"], \"is_zombie\": false, \"is_highlighted\": true, \"unique_hash\": \"sdouble_f2\"}], \"heap\": {\"3\": [\"LIST\", 9, 1, 5, 7, 3], \"14\": [\"LIST\", 18, 2, 10, 14, 6], \"2\": [\"LIST\", 4, 9, 1, 5, 7, 3], \"1\": [\"FUNCTION\", \"sdouble(lst)\", null]}, \"stdout\": \"\"}, {\"line\": 6, \"event\": \"return\", \"func_name\": \"sdouble\", \"globals\": {\"sdouble\": [\"REF\", 1]}, \"ordered_globals\": [\"sdouble\"], \"stack_to_render\": [{\"func_name\": \"sdouble\", \"is_parent\": false, \"frame_id\": 1, \"parent_frame_id_list\": [], \"encoded_locals\": {\"lst\": [\"REF\", 2], \"__return__\": [\"REF\", 15]}, \"ordered_varnames\": [\"lst\", \"__return__\"], \"is_zombie\": false, \"is_highlighted\": true, \"unique_hash\": \"sdouble_f1\"}], \"heap\": {\"2\": [\"LIST\", 4, 9, 1, 5, 7, 3], \"15\": [\"LIST\", 8, 18, 2, 10, 14, 6], \"1\": [\"FUNCTION\", \"sdouble(lst)\", null]}, \"stdout\": \"\"}, {\"line\": 9, \"event\": \"return\", \"func_name\": \"<module>\", \"globals\": {\"sdouble\": [\"REF\", 1], \"result\": [\"REF\", 15]}, \"ordered_globals\": [\"sdouble\", \"result\"], \"stack_to_render\": [], \"heap\": {\"1\": [\"FUNCTION\", \"sdouble(lst)\", null], \"15\": [\"LIST\", 8, 18, 2, 10, 14, 6]}, \"stdout\": \"\"}]}\n",
       "        </script>\n",
       "        <div id=\"jmfeea00e9-c152-4068-8aa7-cb87db00b41c\" class=\"pytutorVisualizer\"> </div>\n",
       " \n",
       "        <style>\n",
       "        .vizLayoutTd {\n",
       "            background-color: #fff !important;\n",
       "        }\n",
       "                            \n",
       "        #pyStdout {\n",
       "            min-height:25px;\n",
       "        }\n",
       "\n",
       "        /* 'Edit this code' link, hiding because replaces browser tab !!!*/\n",
       "        #editCodeLinkDiv {\n",
       "            display:none;  \n",
       "        }\n",
       "        </style>   \n",
       "                            \n",
       "        <script>\n",
       "        (function(){\n",
       "\n",
       "            var trace = JSON.parse(document.getElementById('json-jmfeea00e9-c152-4068-8aa7-cb87db00b41c').innerHTML);                                        \n",
       "            // NOTE 1: id without #\n",
       "            // NOTE 2 - maybe there are more predictable ways, but this will work anyway\n",
       "            //        - id should be number\n",
       "            visualizerIdOverride = Math.trunc(Math.random() * 100000000000)\n",
       "            addVisualizerToPage(trace, 'jmfeea00e9-c152-4068-8aa7-cb87db00b41c',{'embeddedMode' : false,\n",
       "                                             'visualizerIdOverride':visualizerIdOverride})  \n",
       "            \n",
       "            \n",
       "            // set overflow for pytuts - need to do in python as css \n",
       "            // does not allow parent selection\n",
       "            var pytuts = $('.pytutorVisualizer')\n",
       "            pytuts.closest('div.output_html.rendered_html.output_result')\n",
       "                    .css('overflow-x', 'visible')\n",
       "        \n",
       "            //pytuts.closest('div.output_html.rendered_html.output_result')\n",
       "            //      .css('background-color','red')                \n",
       "            \n",
       "        })()\n",
       "        </script>\n",
       "                \n",
       "                "
      ],
      "text/plain": [
       "<IPython.core.display.HTML object>"
      ]
     },
     "execution_count": 22,
     "metadata": {},
     "output_type": "execute_result"
    }
   ],
   "source": [
    "def sdouble(lst):                \n",
    "    if len(lst) == 0:\n",
    "        return []              # base case\n",
    "    else:\n",
    "        return [lst[0]*2] + sdouble(lst[1:])    # returning operation containing \n",
    "                                                # a recursive call on a smaller input\n",
    "        \n",
    "result = sdouble([4,9,1,5,7,3])\n",
    "jupman.pytut()"
   ]
  },
  {
   "cell_type": "code",
   "execution_count": 23,
   "id": "39504324-stripped",
   "metadata": {
    "nbsphinx": "hidden"
   },
   "outputs": [],
   "source": [],
   "transient": {
    "remove_source": true
   }
  },
  {
   "cell_type": "markdown",
   "id": "6ebeab56",
   "metadata": {},
   "source": [
    "### Exercise - debug double\n",
    "\n",
    "Try placing extra debug prints and separating the steps in the code above"
   ]
  },
  {
   "cell_type": "raw",
   "id": "d4af1be8",
   "metadata": {
    "format": "text/html"
   },
   "source": [
    "<a  class=\"jupman-sol jupman-sol-toggler\" \n",
    " onclick=\"jupman.toggleSolution(this);\" \n",
    " data-jupman-show=\"Show solution\" data-jupman-hide=\"Hide\">Show solution</a><div class=\"jupman-sol jupman-sol-code\" style=\"display:none\">  "
   ]
  },
  {
   "cell_type": "code",
   "execution_count": 24,
   "id": "b4907530",
   "metadata": {},
   "outputs": [
    {
     "name": "stdout",
     "output_type": "stream",
     "text": [
      " lst= [4, 9, 1, 5, 7, 3]\n",
      "  lst= [9, 1, 5, 7, 3]\n",
      "   lst= [1, 5, 7, 3]\n",
      "    lst= [5, 7, 3]\n",
      "     lst= [7, 3]\n",
      "      lst= [3]\n",
      "       lst= []\n",
      "      res= []\n",
      "     res= [6]\n",
      "    res= [14, 6]\n",
      "   res= [10, 14, 6]\n",
      "  res= [2, 10, 14, 6]\n",
      " res= [18, 2, 10, 14, 6]\n"
     ]
    },
    {
     "data": {
      "text/plain": [
       "[8, 18, 2, 10, 14, 6]"
      ]
     },
     "execution_count": 24,
     "metadata": {},
     "output_type": "execute_result"
    }
   ],
   "source": [
    "\n",
    "def sdouble(lst, level=0):               # OK!\n",
    "    print(' '*level, 'lst=', lst)\n",
    "    if len(lst) == 0:\n",
    "        return []              # base case\n",
    "    else:\n",
    "        res = sdouble(lst[1:], level+1)\n",
    "        print(' '*level, 'res=', res)\n",
    "        return [lst[0]*2] + res     # returning operation containing \n",
    "                                               # a recursive call on a smaller input\n",
    "\n",
    "result = sdouble([4,9,1,5,7,3])\n",
    "result"
   ]
  },
  {
   "cell_type": "raw",
   "id": "25fd3e56",
   "metadata": {
    "format": "text/html"
   },
   "source": [
    "</div>"
   ]
  },
  {
   "cell_type": "code",
   "execution_count": 24,
   "id": "b4907530-stripped",
   "metadata": {},
   "outputs": [
    {
     "name": "stdout",
     "output_type": "stream",
     "text": [
      " lst= [4, 9, 1, 5, 7, 3]\n",
      "  lst= [9, 1, 5, 7, 3]\n",
      "   lst= [1, 5, 7, 3]\n",
      "    lst= [5, 7, 3]\n",
      "     lst= [7, 3]\n",
      "      lst= [3]\n",
      "       lst= []\n",
      "      res= []\n",
      "     res= [6]\n",
      "    res= [14, 6]\n",
      "   res= [10, 14, 6]\n",
      "  res= [2, 10, 14, 6]\n",
      " res= [18, 2, 10, 14, 6]\n"
     ]
    },
    {
     "data": {
      "text/plain": [
       "[8, 18, 2, 10, 14, 6]"
      ]
     },
     "execution_count": 24,
     "metadata": {},
     "output_type": "execute_result"
    }
   ],
   "source": [
    "\n",
    "result = sdouble([4,9,1,5,7,3])\n",
    "result"
   ]
  },
  {
   "cell_type": "code",
   "execution_count": 25,
   "id": "106e238e-stripped",
   "metadata": {
    "nbsphinx": "hidden"
   },
   "outputs": [],
   "source": [],
   "transient": {
    "remove_source": true
   }
  },
  {
   "cell_type": "markdown",
   "id": "9eb13825",
   "metadata": {},
   "source": [
    "### Exercise - sfilter_even\n",
    "\n",
    "Takes a `lst` of numbers, and RETURN a NEW list with only the even numbers"
   ]
  },
  {
   "cell_type": "raw",
   "id": "1990106c",
   "metadata": {
    "format": "text/html"
   },
   "source": [
    "<a  class=\"jupman-sol jupman-sol-toggler\" \n",
    " onclick=\"jupman.toggleSolution(this);\" \n",
    " data-jupman-show=\"Show solution\" data-jupman-hide=\"Hide\">Show solution</a><div class=\"jupman-sol jupman-sol-code\" style=\"display:none\">  "
   ]
  },
  {
   "cell_type": "code",
   "execution_count": 26,
   "id": "18c1a843",
   "metadata": {},
   "outputs": [
    {
     "name": "stdout",
     "output_type": "stream",
     "text": [
      "[10, 4, 8, 6]\n"
     ]
    }
   ],
   "source": [
    "\n",
    "\n",
    "def sfilter_even(lst):\n",
    "    \n",
    "    if len(lst) == 0:\n",
    "        return []\n",
    "    else:\n",
    "        if lst[0] % 2 == 0:\n",
    "            return [lst[0]] + sfilter_even(lst[1:])\n",
    "        else:\n",
    "            return sfilter_even(lst[1:])\n",
    "    \n",
    "\n",
    "result = sfilter_even([3,7,10,5,4,8,6,11])\n",
    "print(result) # [10, 4, 8, 6]\n",
    "\n",
    "assert sfilter_even([3]) == []\n",
    "assert sfilter_even([4]) == [4]\n",
    "assert sfilter_even([3,6]) == [6]\n",
    "assert sfilter_even([8,3]) == [8]\n",
    "assert sfilter_even([8,3,2]) == [8,2]\n",
    "assert sfilter_even([7,7,8,3,2]) == [8,2]\n",
    "assert sfilter_even([3,7,10,5,4,8,6,11]) == [10,4,8,6]"
   ]
  },
  {
   "cell_type": "raw",
   "id": "2a5c1932",
   "metadata": {
    "format": "text/html"
   },
   "source": [
    "</div>"
   ]
  },
  {
   "cell_type": "code",
   "execution_count": 26,
   "id": "18c1a843-stripped",
   "metadata": {},
   "outputs": [],
   "source": [
    "\n",
    "\n",
    "def sfilter_even(lst):\n",
    "    raise Exception('TODO IMPLEMENT ME !')\n",
    "\n",
    "result = sfilter_even([3,7,10,5,4,8,6,11])\n",
    "print(result) # [10, 4, 8, 6]\n",
    "\n",
    "assert sfilter_even([3]) == []\n",
    "assert sfilter_even([4]) == [4]\n",
    "assert sfilter_even([3,6]) == [6]\n",
    "assert sfilter_even([8,3]) == [8]\n",
    "assert sfilter_even([8,3,2]) == [8,2]\n",
    "assert sfilter_even([7,7,8,3,2]) == [8,2]\n",
    "assert sfilter_even([3,7,10,5,4,8,6,11]) == [10,4,8,6]"
   ]
  },
  {
   "cell_type": "markdown",
   "id": "52af542c",
   "metadata": {},
   "source": [
    "### Exercise - smerry\n",
    "\n",
    "Given a `lst` with an even number of elements, RETURN a NEW list holding two element lists with consecutive content taken from the original list."
   ]
  },
  {
   "cell_type": "raw",
   "id": "9d2e0276",
   "metadata": {
    "format": "text/html"
   },
   "source": [
    "<a  class=\"jupman-sol jupman-sol-toggler\" \n",
    " onclick=\"jupman.toggleSolution(this);\" \n",
    " data-jupman-show=\"Show solution\" data-jupman-hide=\"Hide\">Show solution</a><div class=\"jupman-sol jupman-sol-code\" style=\"display:none\">  "
   ]
  },
  {
   "cell_type": "code",
   "execution_count": 27,
   "id": "7756a7d9",
   "metadata": {},
   "outputs": [
    {
     "name": "stdout",
     "output_type": "stream",
     "text": [
      "[['a', 'b'], ['c', 'c'], ['a', 'd'], ['b', 'a']]\n"
     ]
    }
   ],
   "source": [
    "\n",
    "def smerry(lst):\n",
    "    \n",
    "    if len(lst) == 0:\n",
    "        return []\n",
    "    else:\n",
    "        return [[lst[0], lst[1]]] + smerry(lst[2:])\n",
    "    \n",
    "    \n",
    "result = smerry(['a','b','c','c','a','d','b','a'])\n",
    "print(result)  # [['a','b'],['c','c'],['a','d'],['b','a']]\n",
    "    \n",
    "assert smerry([]) == []\n",
    "assert smerry(['d','b']) == [['d','b']]\n",
    "assert smerry(['a','a','b','b']) == [['a','a'],['b','b']]\n",
    "assert smerry(['a','b','c','d']) == [['a','b'],['c','d']]\n",
    "assert smerry(['a','b','c','c','a','d','b','a']) == [['a','b'],['c','c'],['a','d'],['b','a']]"
   ]
  },
  {
   "cell_type": "raw",
   "id": "40183e93",
   "metadata": {
    "format": "text/html"
   },
   "source": [
    "</div>"
   ]
  },
  {
   "cell_type": "code",
   "execution_count": 27,
   "id": "7756a7d9-stripped",
   "metadata": {},
   "outputs": [],
   "source": [
    "\n",
    "def smerry(lst):\n",
    "    raise Exception('TODO IMPLEMENT ME !')\n",
    "    \n",
    "result = smerry(['a','b','c','c','a','d','b','a'])\n",
    "print(result)  # [['a','b'],['c','c'],['a','d'],['b','a']]\n",
    "    \n",
    "assert smerry([]) == []\n",
    "assert smerry(['d','b']) == [['d','b']]\n",
    "assert smerry(['a','a','b','b']) == [['a','a'],['b','b']]\n",
    "assert smerry(['a','b','c','d']) == [['a','b'],['c','d']]\n",
    "assert smerry(['a','b','c','c','a','d','b','a']) == [['a','b'],['c','c'],['a','d'],['b','a']]"
   ]
  },
  {
   "cell_type": "markdown",
   "id": "f049bada",
   "metadata": {},
   "source": [
    "### Exercise - ssum\n",
    "\n",
    "Takes a `lst` of numbers and RETURN the sum of all numbers.\n",
    "\n",
    "**DO NOT** use `sum` function ;-)"
   ]
  },
  {
   "cell_type": "raw",
   "id": "34eb80b3",
   "metadata": {
    "format": "text/html"
   },
   "source": [
    "<a  class=\"jupman-sol jupman-sol-toggler\" \n",
    " onclick=\"jupman.toggleSolution(this);\" \n",
    " data-jupman-show=\"Show solution\" data-jupman-hide=\"Hide\">Show solution</a><div class=\"jupman-sol jupman-sol-code\" style=\"display:none\">  "
   ]
  },
  {
   "cell_type": "code",
   "execution_count": 28,
   "id": "c7bae669",
   "metadata": {},
   "outputs": [
    {
     "name": "stdout",
     "output_type": "stream",
     "text": [
      "15\n"
     ]
    }
   ],
   "source": [
    "\n",
    "def ssum(lst):\n",
    "    \n",
    "    if len(lst) == 0:\n",
    "        return 0\n",
    "    else:\n",
    "        return lst[0] + ssum(lst[1:])\n",
    "    \n",
    "    \n",
    "result = ssum([4,2,6,3])\n",
    "print(result)  # 15\n",
    "    \n",
    "assert ssum([4,2,6,3]) == 15\n",
    "assert ssum([]) == 0\n",
    "assert ssum([3]) == 3\n",
    "assert ssum([5,1]) == 6"
   ]
  },
  {
   "cell_type": "raw",
   "id": "8dd4681a",
   "metadata": {
    "format": "text/html"
   },
   "source": [
    "</div>"
   ]
  },
  {
   "cell_type": "code",
   "execution_count": 28,
   "id": "c7bae669-stripped",
   "metadata": {},
   "outputs": [],
   "source": [
    "\n",
    "def ssum(lst):\n",
    "    raise Exception('TODO IMPLEMENT ME !')\n",
    "    \n",
    "result = ssum([4,2,6,3])\n",
    "print(result)  # 15\n",
    "    \n",
    "assert ssum([4,2,6,3]) == 15\n",
    "assert ssum([]) == 0\n",
    "assert ssum([3]) == 3\n",
    "assert ssum([5,1]) == 6"
   ]
  },
  {
   "cell_type": "markdown",
   "id": "214fa92c",
   "metadata": {},
   "source": [
    "### Exercise - smin\n",
    "\n",
    "Given a `lst` of numbers, RETURN the minimum\n",
    "\n",
    "- **DON'T** use `min` function..\n",
    "- **assume the list has at least one element**"
   ]
  },
  {
   "cell_type": "raw",
   "id": "711de519",
   "metadata": {
    "format": "text/html"
   },
   "source": [
    "<a  class=\"jupman-sol jupman-sol-toggler\" \n",
    " onclick=\"jupman.toggleSolution(this);\" \n",
    " data-jupman-show=\"Show solution\" data-jupman-hide=\"Hide\">Show solution</a><div class=\"jupman-sol jupman-sol-code\" style=\"display:none\">  "
   ]
  },
  {
   "cell_type": "code",
   "execution_count": 29,
   "id": "5d2a902e",
   "metadata": {},
   "outputs": [
    {
     "name": "stdout",
     "output_type": "stream",
     "text": [
      "-10\n"
     ]
    }
   ],
   "source": [
    "\n",
    "import math\n",
    "def smin(lst):\n",
    "    \n",
    "    if  len(lst) == 1:\n",
    "        return lst[0]\n",
    "    else:        \n",
    "        res = smin(lst[1:])\n",
    "        if lst[0] < res:\n",
    "            return lst[0]\n",
    "        else:\n",
    "            return res\n",
    "    \n",
    "    \n",
    "result = smin([3,6,5,8,-3,8,-2,-10,4])\n",
    "print(result)  # -10\n",
    "\n",
    "assert smin([4]) == 4\n",
    "assert smin([4,1]) == 1\n",
    "assert smin([0,9]) == 0\n",
    "assert smin([6,8,5]) == 5\n",
    "assert smin([3,6,5,8,3,8,2,10,4]) == 2"
   ]
  },
  {
   "cell_type": "raw",
   "id": "6d0878e0",
   "metadata": {
    "format": "text/html"
   },
   "source": [
    "</div>"
   ]
  },
  {
   "cell_type": "code",
   "execution_count": 29,
   "id": "5d2a902e-stripped",
   "metadata": {},
   "outputs": [],
   "source": [
    "\n",
    "import math\n",
    "def smin(lst):\n",
    "    raise Exception('TODO IMPLEMENT ME !')\n",
    "    \n",
    "result = smin([3,6,5,8,-3,8,-2,-10,4])\n",
    "print(result)  # -10\n",
    "\n",
    "assert smin([4]) == 4\n",
    "assert smin([4,1]) == 1\n",
    "assert smin([0,9]) == 0\n",
    "assert smin([6,8,5]) == 5\n",
    "assert smin([3,6,5,8,3,8,2,10,4]) == 2"
   ]
  },
  {
   "cell_type": "markdown",
   "id": "86d71c62",
   "metadata": {},
   "source": [
    "### Exercise - ssearch\n",
    "\n",
    "Given a `lst` and an `el` to search, RETURN `True` if such element is present or `False` otherwise\n",
    "\n",
    "- **DO NOT** use `in` operator nor search methods like `.find`, `.index`, ....\n",
    "- you might consider shortening your code by using [Boolean evaluation order](https://en.softpython.org/basics/basics2-bools-sol.html#Evaluation-order)"
   ]
  },
  {
   "cell_type": "raw",
   "id": "986fc1c3",
   "metadata": {
    "format": "text/html"
   },
   "source": [
    "<a  class=\"jupman-sol jupman-sol-toggler\" \n",
    " onclick=\"jupman.toggleSolution(this);\" \n",
    " data-jupman-show=\"Show solution\" data-jupman-hide=\"Hide\">Show solution</a><div class=\"jupman-sol jupman-sol-code\" style=\"display:none\">  "
   ]
  },
  {
   "cell_type": "code",
   "execution_count": 30,
   "id": "9283095c",
   "metadata": {},
   "outputs": [
    {
     "name": "stdout",
     "output_type": "stream",
     "text": [
      "True\n",
      "False\n"
     ]
    }
   ],
   "source": [
    "\n",
    "def ssearch(lst, el):\n",
    "    \n",
    "    if len(lst) == 0:\n",
    "        return False\n",
    "    else:\n",
    "        return lst[0] == el or ssearch(lst[1:], el)  # early termination using  boolean evaluation order!    \n",
    "    \n",
    "\n",
    "print(ssearch([6,4,7,8],7))   # True\n",
    "print(ssearch([6,4,7,8],5))   # False\n",
    "    \n",
    "assert ssearch([6,4,7,8],7) == True\n",
    "assert ssearch([8],7) == False\n",
    "assert ssearch([8],8) == True\n",
    "assert ssearch([8,5],5) == True\n",
    "assert ssearch([8,5],2) == False\n",
    "assert ssearch([7,8,5],7) == True\n",
    "assert ssearch([8,2,5],2) == True\n",
    "assert ssearch([7,8,9],9) == True\n",
    "assert ssearch([8,9,5],2) == False"
   ]
  },
  {
   "cell_type": "raw",
   "id": "232da099",
   "metadata": {
    "format": "text/html"
   },
   "source": [
    "</div>"
   ]
  },
  {
   "cell_type": "code",
   "execution_count": 30,
   "id": "9283095c-stripped",
   "metadata": {},
   "outputs": [],
   "source": [
    "\n",
    "def ssearch(lst, el):\n",
    "    raise Exception('TODO IMPLEMENT ME !')\n",
    "\n",
    "print(ssearch([6,4,7,8],7))   # True\n",
    "print(ssearch([6,4,7,8],5))   # False\n",
    "    \n",
    "assert ssearch([6,4,7,8],7) == True\n",
    "assert ssearch([8],7) == False\n",
    "assert ssearch([8],8) == True\n",
    "assert ssearch([8,5],5) == True\n",
    "assert ssearch([8,5],2) == False\n",
    "assert ssearch([7,8,5],7) == True\n",
    "assert ssearch([8,2,5],2) == True\n",
    "assert ssearch([7,8,9],9) == True\n",
    "assert ssearch([8,9,5],2) == False"
   ]
  },
  {
   "cell_type": "markdown",
   "id": "3a808879",
   "metadata": {},
   "source": [
    "### Exercise - szip\n",
    "\n",
    "Given two lists, RETURN a NEW list having two-element tuples with elements taken pairwise from `lst1` and `lst2`\n",
    "\n",
    "* **DO NOT** use `zip` function..."
   ]
  },
  {
   "cell_type": "raw",
   "id": "85d11005",
   "metadata": {
    "format": "text/html"
   },
   "source": [
    "<a  class=\"jupman-sol jupman-sol-toggler\" \n",
    " onclick=\"jupman.toggleSolution(this);\" \n",
    " data-jupman-show=\"Show solution\" data-jupman-hide=\"Hide\">Show solution</a><div class=\"jupman-sol jupman-sol-code\" style=\"display:none\">  "
   ]
  },
  {
   "cell_type": "code",
   "execution_count": 31,
   "id": "defa5251",
   "metadata": {},
   "outputs": [
    {
     "name": "stdout",
     "output_type": "stream",
     "text": [
      "[(3, 'a'), (5, 'd'), (1, 'e'), (6, 'w')]\n"
     ]
    }
   ],
   "source": [
    "\n",
    "def szip(lst1, lst2):\n",
    "    \n",
    "    if len(lst1) == 0:\n",
    "        return []\n",
    "    else:\n",
    "        return [(lst1[0], lst2[0])] +  szip(lst1[1:], lst2[1:])\n",
    "    \n",
    "    \n",
    "result = szip([3,5,1,6], ['a','d','e','w'])    \n",
    "print(result)  # [(3,'a'), (5,'d'), (1,'e'), (6,'w')]\n",
    "    \n",
    "assert szip(['a'], [0]) == [('a',0)]\n",
    "assert szip(['z','a'], [2,4]) == [('z',2), ('a',4)]\n",
    "assert szip([3,5,1,6], ['a','d','e','w']) == [(3,'a'), (5,'d'), (1,'e'), (6,'w')]"
   ]
  },
  {
   "cell_type": "raw",
   "id": "d750d87a",
   "metadata": {
    "format": "text/html"
   },
   "source": [
    "</div>"
   ]
  },
  {
   "cell_type": "code",
   "execution_count": 31,
   "id": "defa5251-stripped",
   "metadata": {},
   "outputs": [],
   "source": [
    "\n",
    "def szip(lst1, lst2):\n",
    "    raise Exception('TODO IMPLEMENT ME !')\n",
    "    \n",
    "result = szip([3,5,1,6], ['a','d','e','w'])    \n",
    "print(result)  # [(3,'a'), (5,'d'), (1,'e'), (6,'w')]\n",
    "    \n",
    "assert szip(['a'], [0]) == [('a',0)]\n",
    "assert szip(['z','a'], [2,4]) == [('z',2), ('a',4)]\n",
    "assert szip([3,5,1,6], ['a','d','e','w']) == [(3,'a'), (5,'d'), (1,'e'), (6,'w')]"
   ]
  },
  {
   "cell_type": "markdown",
   "id": "b4153c75",
   "metadata": {},
   "source": [
    "### Exercise - sunnest \n",
    "\n",
    "Given a `lst` of lists, RETURN a NEW list without sublists (also called _shallow unnest_)\n",
    "\n",
    "- assume sublists cannot have further sublists inside"
   ]
  },
  {
   "cell_type": "raw",
   "id": "bc803ad2",
   "metadata": {
    "format": "text/html"
   },
   "source": [
    "<a  class=\"jupman-sol jupman-sol-toggler\" \n",
    " onclick=\"jupman.toggleSolution(this);\" \n",
    " data-jupman-show=\"Show solution\" data-jupman-hide=\"Hide\">Show solution</a><div class=\"jupman-sol jupman-sol-code\" style=\"display:none\">  "
   ]
  },
  {
   "cell_type": "code",
   "execution_count": 32,
   "id": "f6ea3800",
   "metadata": {},
   "outputs": [
    {
     "name": "stdout",
     "output_type": "stream",
     "text": [
      "[3, 2, 5, 2, 4, 0, 9, 5, 1]\n"
     ]
    }
   ],
   "source": [
    "\n",
    "def sunnest(lst):\n",
    "    \n",
    "    if len(lst) == 0:\n",
    "        return []\n",
    "    else:\n",
    "        return lst[0] + sunnest(lst[1:])\n",
    "    \n",
    "    \n",
    "result = sunnest([[3,2,5], [2,4], [0,9,5,1]])    \n",
    "print(result)  # [3,2,5,2,4,0,9,5,1]\n",
    "    \n",
    "assert sunnest([]) == []\n",
    "assert sunnest([[]]) == []\n",
    "assert sunnest([[],[]]) == []\n",
    "assert sunnest([[],[4]]) == [4]\n",
    "assert sunnest([[3],[]]) == [3]\n",
    "assert sunnest([[3,2]]) == [3,2]\n",
    "assert sunnest([[3,2]]) == [3,2]\n",
    "assert sunnest([[3,2,5], [2,4], [0,9,5,1]]) == [3,2,5,2,4,0,9,5,1]"
   ]
  },
  {
   "cell_type": "raw",
   "id": "0e61bad4",
   "metadata": {
    "format": "text/html"
   },
   "source": [
    "</div>"
   ]
  },
  {
   "cell_type": "code",
   "execution_count": 32,
   "id": "f6ea3800-stripped",
   "metadata": {},
   "outputs": [],
   "source": [
    "\n",
    "def sunnest(lst):\n",
    "    raise Exception('TODO IMPLEMENT ME !')\n",
    "    \n",
    "result = sunnest([[3,2,5], [2,4], [0,9,5,1]])    \n",
    "print(result)  # [3,2,5,2,4,0,9,5,1]\n",
    "    \n",
    "assert sunnest([]) == []\n",
    "assert sunnest([[]]) == []\n",
    "assert sunnest([[],[]]) == []\n",
    "assert sunnest([[],[4]]) == [4]\n",
    "assert sunnest([[3],[]]) == [3]\n",
    "assert sunnest([[3,2]]) == [3,2]\n",
    "assert sunnest([[3,2]]) == [3,2]\n",
    "assert sunnest([[3,2,5], [2,4], [0,9,5,1]]) == [3,2,5,2,4,0,9,5,1]"
   ]
  },
  {
   "cell_type": "markdown",
   "id": "f7c874e2",
   "metadata": {},
   "source": [
    "### Exercise - sall\n",
    "\n",
    "Given a `lst` of booleans, RETURN `True` if all elements are `True`, otherwise RETURN `False`.\n",
    "\n",
    "* **DO NOT** use `all` function\n",
    "* assume `sall` of empty list is `True`"
   ]
  },
  {
   "cell_type": "raw",
   "id": "29f74822",
   "metadata": {
    "format": "text/html"
   },
   "source": [
    "<a  class=\"jupman-sol jupman-sol-toggler\" \n",
    " onclick=\"jupman.toggleSolution(this);\" \n",
    " data-jupman-show=\"Show solution\" data-jupman-hide=\"Hide\">Show solution</a><div class=\"jupman-sol jupman-sol-code\" style=\"display:none\">  "
   ]
  },
  {
   "cell_type": "code",
   "execution_count": 33,
   "id": "1e7c6c4c",
   "metadata": {},
   "outputs": [],
   "source": [
    "\n",
    "def sall(lst):\n",
    "    \n",
    "    if len(lst) == 0:\n",
    "        return True\n",
    "    else:\n",
    "        return lst[0] and sall(lst[1:])\n",
    "        \n",
    "    \n",
    "assert sall([]) == True\n",
    "assert sall([True]) == True\n",
    "assert sall([False]) == False\n",
    "assert sall([False, False]) == False\n",
    "assert sall([False, True]) == False\n",
    "assert sall([True, False]) == False\n",
    "assert sall([True, True]) == True\n",
    "assert sall([False, False, False]) == False\n",
    "assert sall([False, False, True]) == False\n",
    "assert sall([False, True, False]) == False\n",
    "assert sall([False, True, True]) == False\n",
    "assert sall([True, False, False]) == False\n",
    "assert sall([True, False, True]) == False\n",
    "assert sall([True, True, False]) == False\n",
    "assert sall([True, True, True]) == True"
   ]
  },
  {
   "cell_type": "raw",
   "id": "b4edd5f6",
   "metadata": {
    "format": "text/html"
   },
   "source": [
    "</div>"
   ]
  },
  {
   "cell_type": "code",
   "execution_count": 33,
   "id": "1e7c6c4c-stripped",
   "metadata": {},
   "outputs": [],
   "source": [
    "\n",
    "def sall(lst):\n",
    "    raise Exception('TODO IMPLEMENT ME !')    \n",
    "    \n",
    "assert sall([]) == True\n",
    "assert sall([True]) == True\n",
    "assert sall([False]) == False\n",
    "assert sall([False, False]) == False\n",
    "assert sall([False, True]) == False\n",
    "assert sall([True, False]) == False\n",
    "assert sall([True, True]) == True\n",
    "assert sall([False, False, False]) == False\n",
    "assert sall([False, False, True]) == False\n",
    "assert sall([False, True, False]) == False\n",
    "assert sall([False, True, True]) == False\n",
    "assert sall([True, False, False]) == False\n",
    "assert sall([True, False, True]) == False\n",
    "assert sall([True, True, False]) == False\n",
    "assert sall([True, True, True]) == True"
   ]
  },
  {
   "cell_type": "markdown",
   "id": "6ab6bbd2",
   "metadata": {},
   "source": [
    "## Accumulators \n",
    "\n",
    "So far in the SimpleFP model we have been creating a lot of new lists by concatenating with `+` operator and taking slices: this wasted a lot of memory and computation time.\n",
    "\n",
    "Let's try to improve performance by creating a new model we will call **ModAcc** with these requirements:\n",
    "\n",
    "- avoid slices: instead, add indexes to the function parameters to keep track where to look in the original list\n",
    "- use special so-called _accumulator variables_ which you can feel free to MODIFY by using `.append`, `.extend`, etc\n",
    "- adopt helper functions to easily pass extra variables"
   ]
  },
  {
   "cell_type": "markdown",
   "id": "a6bb5bbe",
   "metadata": {},
   "source": [
    "<div class=\"alert alert-warning\">\n",
    "\n",
    "**NEVER INITIALIZE AN ACCUMULATOR IN THE PARAMETER DECLARATION**     \n",
    "        \n",
    "* **DO NOT** write stuff like: \n",
    "\n",
    "```python    \n",
    "def my_helper(lst, acc=[]):\n",
    "```    \n",
    "```python    \n",
    "def my_helper(lst, acc={}):\n",
    "```      \n",
    "    \n",
    "If you initialize to a  mutable data structure such as lists or dictionaries, Python will create exactly **one** memory region for **all** function invocations, which is quite counterintuitive and bug prone!\n",
    "\n",
    "</div>"
   ]
  },
  {
   "cell_type": "markdown",
   "id": "5ceb113d",
   "metadata": {},
   "source": [
    "With the above exceptions, all other SimpleFP restrictions still apply to ModRec:\n",
    "\n",
    "* **DO NOT** use `for`, `while` nor list comprehensions\n",
    "* **DO NOT** use `in` operator in sequences like strings, lists, tuples. Still, you can and should use it in dictionaries and sets.\n",
    "* **DO NOT** use `*`  replication operator on lists\n",
    "* **DO NOT** use `sum`, `max`,`min` functions"
   ]
  },
  {
   "cell_type": "markdown",
   "id": "10c9c8ef",
   "metadata": {},
   "source": [
    "### Example - `adouble`\n",
    "\n",
    "Let's see an example by improving our `double` function:"
   ]
  },
  {
   "cell_type": "code",
   "execution_count": 34,
   "id": "e51b1f9e",
   "metadata": {},
   "outputs": [
    {
     "data": {
      "text/plain": [
       "[8, 18, 2, 10, 14, 6]"
      ]
     },
     "execution_count": 34,
     "metadata": {},
     "output_type": "execute_result"
    }
   ],
   "source": [
    "def adouble_helper(lst, i, acc): # we create a helper function\n",
    "                                   # with index where to start looking\n",
    "                                   # and accumulator variable\n",
    "                                   # note acc is *not* initialized in the parameters\n",
    "    if i == len(lst):   # base case compares index against end of list\n",
    "        return acc      #    notice it returns the accumulator\n",
    "    else:                       \n",
    "        acc.append(lst[i]*2)    #  we first MODIFY the accumulator\n",
    "        return adouble_helper(lst, i+1, acc)  # then do recursion by passing the modified accumulator\n",
    "                                                # notice passed list is always the same,\n",
    "                                                # what changes is the starting index        \n",
    "    \n",
    "def adouble(lst):                            \n",
    "    return adouble_helper(lst, 0, [])\n",
    "\n",
    "result = adouble([4,9,1,5,7,3])\n",
    "result"
   ]
  },
  {
   "cell_type": "markdown",
   "id": "1afa08a8",
   "metadata": {},
   "source": [
    "### Exercise - debug adouble\n",
    "\n",
    "Add a `level` parameter and some debugging indented print to the function"
   ]
  },
  {
   "cell_type": "raw",
   "id": "1813f30d",
   "metadata": {
    "format": "text/html"
   },
   "source": [
    "<a  class=\"jupman-sol jupman-sol-toggler\" \n",
    " onclick=\"jupman.toggleSolution(this);\" \n",
    " data-jupman-show=\"Show solution\" data-jupman-hide=\"Hide\">Show solution</a><div class=\"jupman-sol jupman-sol-code\" style=\"display:none\">  "
   ]
  },
  {
   "cell_type": "code",
   "execution_count": 35,
   "id": "68cb7cad",
   "metadata": {},
   "outputs": [
    {
     "name": "stdout",
     "output_type": "stream",
     "text": [
      " acc= []\n",
      "  acc= [8]\n",
      "   acc= [8, 18]\n",
      "    acc= [8, 18, 2]\n",
      "     acc= [8, 18, 2, 10]\n",
      "      acc= [8, 18, 2, 10, 14]\n",
      "       acc= [8, 18, 2, 10, 14, 6]\n",
      "      res= [8, 18, 2, 10, 14, 6]\n",
      "     res= [8, 18, 2, 10, 14, 6]\n",
      "    res= [8, 18, 2, 10, 14, 6]\n",
      "   res= [8, 18, 2, 10, 14, 6]\n",
      "  res= [8, 18, 2, 10, 14, 6]\n",
      " res= [8, 18, 2, 10, 14, 6]\n"
     ]
    },
    {
     "data": {
      "text/plain": [
       "[8, 18, 2, 10, 14, 6]"
      ]
     },
     "execution_count": 35,
     "metadata": {},
     "output_type": "execute_result"
    }
   ],
   "source": [
    "\n",
    "def adouble_helper(lst, i, acc, level=0):\n",
    "    print(' '*level, 'acc=', acc)\n",
    "    if i == len(lst):\n",
    "        return acc             \n",
    "    else:\n",
    "        acc.append(lst[i]*2)\n",
    "        res = adouble_helper(lst, i+1, acc, level=level+1)\n",
    "        print(' '*level, 'res=', res)\n",
    "        return res     \n",
    "    \n",
    "def adouble(lst):\n",
    "    return adouble_helper(lst, 0, [])\n",
    "\n",
    "\n",
    "result = adouble([4,9,1,5,7,3])\n",
    "result"
   ]
  },
  {
   "cell_type": "raw",
   "id": "fe928815",
   "metadata": {
    "format": "text/html"
   },
   "source": [
    "</div>"
   ]
  },
  {
   "cell_type": "code",
   "execution_count": 35,
   "id": "68cb7cad-stripped",
   "metadata": {},
   "outputs": [
    {
     "name": "stdout",
     "output_type": "stream",
     "text": [
      " acc= []\n",
      "  acc= [8]\n",
      "   acc= [8, 18]\n",
      "    acc= [8, 18, 2]\n",
      "     acc= [8, 18, 2, 10]\n",
      "      acc= [8, 18, 2, 10, 14]\n",
      "       acc= [8, 18, 2, 10, 14, 6]\n",
      "      res= [8, 18, 2, 10, 14, 6]\n",
      "     res= [8, 18, 2, 10, 14, 6]\n",
      "    res= [8, 18, 2, 10, 14, 6]\n",
      "   res= [8, 18, 2, 10, 14, 6]\n",
      "  res= [8, 18, 2, 10, 14, 6]\n",
      " res= [8, 18, 2, 10, 14, 6]\n"
     ]
    },
    {
     "data": {
      "text/plain": [
       "[8, 18, 2, 10, 14, 6]"
      ]
     },
     "execution_count": 35,
     "metadata": {},
     "output_type": "execute_result"
    }
   ],
   "source": [
    "\n",
    "result = adouble([4,9,1,5,7,3])\n",
    "result"
   ]
  },
  {
   "cell_type": "markdown",
   "id": "f7d7fd13",
   "metadata": {},
   "source": [
    "### Exercise - afilter_even"
   ]
  },
  {
   "cell_type": "raw",
   "id": "92962a93",
   "metadata": {
    "format": "text/html"
   },
   "source": [
    "<a  class=\"jupman-sol jupman-sol-toggler\" \n",
    " onclick=\"jupman.toggleSolution(this);\" \n",
    " data-jupman-show=\"Show solution\" data-jupman-hide=\"Hide\">Show solution</a><div class=\"jupman-sol jupman-sol-code\" style=\"display:none\">  "
   ]
  },
  {
   "cell_type": "code",
   "execution_count": 36,
   "id": "7fd2328e",
   "metadata": {},
   "outputs": [
    {
     "name": "stdout",
     "output_type": "stream",
     "text": [
      "[10, 4, 8, 6]\n"
     ]
    }
   ],
   "source": [
    "\n",
    "\n",
    "\n",
    "def afilter_even_helper(lst, i, acc):\n",
    "    \n",
    "    if i == len(lst):\n",
    "        return acc\n",
    "    else:\n",
    "        if lst[i] % 2 == 0:\n",
    "            acc.append(lst[i])\n",
    "            return afilter_even_helper(lst, i=i+1, acc=acc)\n",
    "        else:\n",
    "            return afilter_even_helper(lst, i=i+1, acc=acc)\n",
    "\n",
    "\n",
    "def afilter_even(lst):    \n",
    "    \n",
    "    return afilter_even_helper(lst, 0, [])\n",
    "    \n",
    "    \n",
    "result = afilter_even([3,7,10,5,4,8,6,11])\n",
    "print(result)\n",
    "\n",
    "assert afilter_even([3]) == []\n",
    "assert afilter_even([4]) == [4]\n",
    "assert afilter_even([3,6]) == [6]\n",
    "assert afilter_even([8,3]) == [8]\n",
    "assert afilter_even([8,3,2]) == [8,2]\n",
    "assert afilter_even([7,7,8,3,2]) == [8,2]\n",
    "assert afilter_even([3,7,10,5,4,8,6,11]) == [10,4,8,6]"
   ]
  },
  {
   "cell_type": "raw",
   "id": "6be95ba8",
   "metadata": {
    "format": "text/html"
   },
   "source": [
    "</div>"
   ]
  },
  {
   "cell_type": "code",
   "execution_count": 36,
   "id": "7fd2328e-stripped",
   "metadata": {},
   "outputs": [],
   "source": [
    "\n",
    "\n",
    "\n",
    "\n",
    "def afilter_even(lst):    \n",
    "    raise Exception('TODO IMPLEMENT ME !')\n",
    "    \n",
    "result = afilter_even([3,7,10,5,4,8,6,11])\n",
    "print(result)\n",
    "\n",
    "assert afilter_even([3]) == []\n",
    "assert afilter_even([4]) == [4]\n",
    "assert afilter_even([3,6]) == [6]\n",
    "assert afilter_even([8,3]) == [8]\n",
    "assert afilter_even([8,3,2]) == [8,2]\n",
    "assert afilter_even([7,7,8,3,2]) == [8,2]\n",
    "assert afilter_even([3,7,10,5,4,8,6,11]) == [10,4,8,6]"
   ]
  },
  {
   "cell_type": "markdown",
   "id": "f394f30f",
   "metadata": {},
   "source": [
    "### Exercise - amerry\n",
    "\n",
    "Given a `lst` with an even number of elements, RETURN a NEW list holding two element lists with consecutive content taken from the original list.\n",
    "\n",
    "Implement it respecting  **ModRec** requirements"
   ]
  },
  {
   "cell_type": "raw",
   "id": "04f37925",
   "metadata": {
    "format": "text/html"
   },
   "source": [
    "<a  class=\"jupman-sol jupman-sol-toggler\" \n",
    " onclick=\"jupman.toggleSolution(this);\" \n",
    " data-jupman-show=\"Show solution\" data-jupman-hide=\"Hide\">Show solution</a><div class=\"jupman-sol jupman-sol-code\" style=\"display:none\">  "
   ]
  },
  {
   "cell_type": "code",
   "execution_count": 37,
   "id": "92529cd9",
   "metadata": {},
   "outputs": [
    {
     "name": "stdout",
     "output_type": "stream",
     "text": [
      "[['a', 'b'], ['c', 'c'], ['a', 'd'], ['b', 'a']]\n"
     ]
    }
   ],
   "source": [
    "\n",
    "\n",
    "\n",
    "def amerry_helper(lst, i, acc):    \n",
    "    if i == len(lst):\n",
    "        return acc\n",
    "    else:\n",
    "        acc.append([lst[i], lst[i+1]])\n",
    "        return  amerry_helper(lst, i+2, acc)\n",
    "\n",
    "\n",
    "def amerry(lst):\n",
    "    \n",
    "    return amerry_helper(lst, 0, [])\n",
    "    \n",
    "    \n",
    "result = amerry(['a','b','c','c','a','d','b','a'])\n",
    "print(result)  # [['a','b'],['c','c'],['a','d'],['b','a']]\n",
    "    \n",
    "assert amerry([]) == []\n",
    "assert amerry(['d','b']) == [['d','b']]\n",
    "assert amerry(['a','a','b','b']) == [['a','a'],['b','b']]\n",
    "assert amerry(['a','b','c','d']) == [['a','b'],['c','d']]\n",
    "assert amerry(['a','b','c','c','a','d','b','a']) == [['a','b'],['c','c'],['a','d'],['b','a']]"
   ]
  },
  {
   "cell_type": "raw",
   "id": "27645515",
   "metadata": {
    "format": "text/html"
   },
   "source": [
    "</div>"
   ]
  },
  {
   "cell_type": "code",
   "execution_count": 37,
   "id": "92529cd9-stripped",
   "metadata": {},
   "outputs": [],
   "source": [
    "\n",
    "\n",
    "\n",
    "\n",
    "def amerry(lst):\n",
    "    raise Exception('TODO IMPLEMENT ME !')\n",
    "    \n",
    "result = amerry(['a','b','c','c','a','d','b','a'])\n",
    "print(result)  # [['a','b'],['c','c'],['a','d'],['b','a']]\n",
    "    \n",
    "assert amerry([]) == []\n",
    "assert amerry(['d','b']) == [['d','b']]\n",
    "assert amerry(['a','a','b','b']) == [['a','a'],['b','b']]\n",
    "assert amerry(['a','b','c','d']) == [['a','b'],['c','d']]\n",
    "assert amerry(['a','b','c','c','a','d','b','a']) == [['a','b'],['c','c'],['a','d'],['b','a']]"
   ]
  },
  {
   "cell_type": "markdown",
   "id": "d2ae1e1e",
   "metadata": {},
   "source": [
    "### Exercise - asearch\n",
    "\n",
    "Given a `lst` and an `el` to search, RETURN `True` if such element is present or `False` otherwise\n",
    "\n",
    "- **DO NOT** use `in` operator nor search methods like `.find`, `.index`, ....\n",
    "- you might consider shortening your code by using [Boolean evaluation order](https://en.softpython.org/basics/basics2-bools-sol.html#Evaluation-order)\n",
    "\n",
    "Implement it respecting  **ModRec** requirements"
   ]
  },
  {
   "cell_type": "raw",
   "id": "86ab08bb",
   "metadata": {
    "format": "text/html"
   },
   "source": [
    "<a  class=\"jupman-sol jupman-sol-toggler\" \n",
    " onclick=\"jupman.toggleSolution(this);\" \n",
    " data-jupman-show=\"Show solution\" data-jupman-hide=\"Hide\">Show solution</a><div class=\"jupman-sol jupman-sol-code\" style=\"display:none\">  "
   ]
  },
  {
   "cell_type": "code",
   "execution_count": 38,
   "id": "e08df314",
   "metadata": {},
   "outputs": [
    {
     "name": "stdout",
     "output_type": "stream",
     "text": [
      "True\n",
      "False\n"
     ]
    }
   ],
   "source": [
    "\n",
    "\n",
    "\n",
    "def asearch_helper(lst, el, i):\n",
    "    \n",
    "    if i == len(lst):\n",
    "        return False\n",
    "    else:\n",
    "        return lst[i] == el or asearch_helper(lst, el, i+1)  # early termination using  boolean evaluation order!    \n",
    "    \n",
    "\n",
    "def asearch(lst, el):\n",
    "    \n",
    "    return asearch_helper(lst,el,0)\n",
    "    \n",
    "    \n",
    "print(asearch([6,4,7,8],7))   # True\n",
    "print(asearch([6,4,7,8],5))   # False\n",
    "    \n",
    "assert asearch([6,4,7,8],7) == True\n",
    "assert asearch([8],7) == False\n",
    "assert asearch([8],8) == True\n",
    "assert asearch([8,5],5) == True\n",
    "assert asearch([8,5],2) == False\n",
    "assert asearch([7,8,5],7) == True\n",
    "assert asearch([8,2,5],2) == True\n",
    "assert asearch([7,8,9],9) == True\n",
    "assert asearch([8,9,5],2) == False"
   ]
  },
  {
   "cell_type": "raw",
   "id": "87c63e8a",
   "metadata": {
    "format": "text/html"
   },
   "source": [
    "</div>"
   ]
  },
  {
   "cell_type": "code",
   "execution_count": 38,
   "id": "e08df314-stripped",
   "metadata": {},
   "outputs": [],
   "source": [
    "\n",
    "\n",
    "    \n",
    "\n",
    "def asearch(lst, el):\n",
    "    raise Exception('TODO IMPLEMENT ME !')\n",
    "    \n",
    "print(asearch([6,4,7,8],7))   # True\n",
    "print(asearch([6,4,7,8],5))   # False\n",
    "    \n",
    "assert asearch([6,4,7,8],7) == True\n",
    "assert asearch([8],7) == False\n",
    "assert asearch([8],8) == True\n",
    "assert asearch([8,5],5) == True\n",
    "assert asearch([8,5],2) == False\n",
    "assert asearch([7,8,5],7) == True\n",
    "assert asearch([8,2,5],2) == True\n",
    "assert asearch([7,8,9],9) == True\n",
    "assert asearch([8,9,5],2) == False"
   ]
  },
  {
   "cell_type": "markdown",
   "id": "56e16a6b",
   "metadata": {},
   "source": [
    "### Exercise - azip\n",
    "\n",
    "Given two lists, RETURN a NEW list having two-elementt tuples with elements taken pairwise from `lst1` and `lst2`\n",
    "\n",
    "* **DO NOT** use `zip` function..."
   ]
  },
  {
   "cell_type": "raw",
   "id": "52da59c0",
   "metadata": {
    "format": "text/html"
   },
   "source": [
    "<a  class=\"jupman-sol jupman-sol-toggler\" \n",
    " onclick=\"jupman.toggleSolution(this);\" \n",
    " data-jupman-show=\"Show solution\" data-jupman-hide=\"Hide\">Show solution</a><div class=\"jupman-sol jupman-sol-code\" style=\"display:none\">  "
   ]
  },
  {
   "cell_type": "code",
   "execution_count": 39,
   "id": "3392acd7",
   "metadata": {},
   "outputs": [
    {
     "name": "stdout",
     "output_type": "stream",
     "text": [
      "[(3, 'a'), (5, 'd'), (1, 'e'), (6, 'w')]\n"
     ]
    }
   ],
   "source": [
    "\n",
    "\n",
    "\n",
    "def azip_helper(lst1, lst2, i, acc):\n",
    "    \n",
    "    if i == len(lst1):\n",
    "        return acc\n",
    "    else:\n",
    "        acc.append((lst1[i], lst2[i]))\n",
    "        return azip_helper(lst1, lst2, i+1, acc)\n",
    "\n",
    "\n",
    "def azip(lst1, lst2):   \n",
    "    \n",
    "    return azip_helper(lst1, lst2, 0, [])\n",
    "    \n",
    "    \n",
    "result = azip([3,5,1,6], ['a','d','e','w'])    \n",
    "print(result)  # [(3,'a'), (5,'d'), (1,'e'), (6,'w')]\n",
    "    \n",
    "assert azip(['a'], [0]) == [('a',0)]\n",
    "assert azip(['z','a'], [2,4]) == [('z',2), ('a',4)]\n",
    "assert azip([3,5,1,6], ['a','d','e','w']) == [(3,'a'), (5,'d'), (1,'e'), (6,'w')]"
   ]
  },
  {
   "cell_type": "raw",
   "id": "340ad781",
   "metadata": {
    "format": "text/html"
   },
   "source": [
    "</div>"
   ]
  },
  {
   "cell_type": "code",
   "execution_count": 39,
   "id": "3392acd7-stripped",
   "metadata": {},
   "outputs": [],
   "source": [
    "\n",
    "\n",
    "\n",
    "\n",
    "def azip(lst1, lst2):   \n",
    "    raise Exception('TODO IMPLEMENT ME !')\n",
    "    \n",
    "result = azip([3,5,1,6], ['a','d','e','w'])    \n",
    "print(result)  # [(3,'a'), (5,'d'), (1,'e'), (6,'w')]\n",
    "    \n",
    "assert azip(['a'], [0]) == [('a',0)]\n",
    "assert azip(['z','a'], [2,4]) == [('z',2), ('a',4)]\n",
    "assert azip([3,5,1,6], ['a','d','e','w']) == [(3,'a'), (5,'d'), (1,'e'), (6,'w')]"
   ]
  },
  {
   "cell_type": "markdown",
   "id": "8cdfb56f",
   "metadata": {},
   "source": [
    "### Exercise - aunnest \n",
    "\n",
    "Given a `lst` of lists, RETURN a NEW list without sublists (also called _shallow unnest_)\n",
    "\n",
    "- assume sublists cannot have further sublists inside"
   ]
  },
  {
   "cell_type": "raw",
   "id": "f4784cb7",
   "metadata": {
    "format": "text/html"
   },
   "source": [
    "<a  class=\"jupman-sol jupman-sol-toggler\" \n",
    " onclick=\"jupman.toggleSolution(this);\" \n",
    " data-jupman-show=\"Show solution\" data-jupman-hide=\"Hide\">Show solution</a><div class=\"jupman-sol jupman-sol-code\" style=\"display:none\">  "
   ]
  },
  {
   "cell_type": "code",
   "execution_count": 40,
   "id": "aec28ba4",
   "metadata": {},
   "outputs": [
    {
     "name": "stdout",
     "output_type": "stream",
     "text": [
      "[3, 2, 5, 2, 4, 0, 9, 5, 1]\n"
     ]
    }
   ],
   "source": [
    "\n",
    "\n",
    "\n",
    "def aunnest_helper(lst, i, acc):\n",
    "    \n",
    "    if i == len(lst):\n",
    "        return acc\n",
    "    else:\n",
    "        acc.extend(lst[i])\n",
    "        return aunnest_helper(lst, i+1, acc)\n",
    "\n",
    "    \n",
    "def aunnest(lst):\n",
    "    \n",
    "    return aunnest_helper(lst, 0, [])\n",
    "    \n",
    "    \n",
    "result = aunnest([[3,2,5], [2,4], [0,9,5,1]])    \n",
    "print(result)  # [3,2,5,2,4,0,9,5,1]\n",
    "    \n",
    "assert aunnest([]) == []\n",
    "assert aunnest([[]]) == []\n",
    "assert aunnest([[],[]]) == []\n",
    "assert aunnest([[],[4]]) == [4]\n",
    "assert aunnest([[3],[]]) == [3]\n",
    "assert aunnest([[3,2]]) == [3,2]\n",
    "assert aunnest([[3,2]]) == [3,2]\n",
    "assert aunnest([[3,2,5], [2,4], [0,9,5,1]]) == [3,2,5,2,4,0,9,5,1]"
   ]
  },
  {
   "cell_type": "raw",
   "id": "fb902595",
   "metadata": {
    "format": "text/html"
   },
   "source": [
    "</div>"
   ]
  },
  {
   "cell_type": "code",
   "execution_count": 40,
   "id": "aec28ba4-stripped",
   "metadata": {},
   "outputs": [],
   "source": [
    "\n",
    "\n",
    "\n",
    "    \n",
    "def aunnest(lst):\n",
    "    raise Exception('TODO IMPLEMENT ME !')\n",
    "    \n",
    "result = aunnest([[3,2,5], [2,4], [0,9,5,1]])    \n",
    "print(result)  # [3,2,5,2,4,0,9,5,1]\n",
    "    \n",
    "assert aunnest([]) == []\n",
    "assert aunnest([[]]) == []\n",
    "assert aunnest([[],[]]) == []\n",
    "assert aunnest([[],[4]]) == [4]\n",
    "assert aunnest([[3],[]]) == [3]\n",
    "assert aunnest([[3,2]]) == [3,2]\n",
    "assert aunnest([[3,2]]) == [3,2]\n",
    "assert aunnest([[3,2,5], [2,4], [0,9,5,1]]) == [3,2,5,2,4,0,9,5,1]"
   ]
  },
  {
   "cell_type": "markdown",
   "id": "93747be9",
   "metadata": {},
   "source": [
    "## multiple recursion, binary searches\n",
    "\n",
    "To be done.."
   ]
  }
 ],
 "metadata": {
  "celltoolbar": "Edit Metadata",
  "kernelspec": {
   "display_name": "Python 3 (ipykernel)",
   "language": "python",
   "name": "python3"
  },
  "language_info": {
   "codemirror_mode": {
    "name": "ipython",
    "version": 3
   },
   "file_extension": ".py",
   "mimetype": "text/x-python",
   "name": "python",
   "nbconvert_exporter": "python",
   "pygments_lexer": "ipython3",
   "version": "3.7.10"
  },
  "toc": {
   "base_numbering": 1,
   "nav_menu": {},
   "number_sections": false,
   "sideBar": true,
   "skip_h1_title": false,
   "title_cell": "Table of Contents",
   "title_sidebar": "Contents",
   "toc_cell": false,
   "toc_position": {
    "height": "calc(100% - 180px)",
    "left": "10px",
    "top": "150px",
    "width": "256px"
   },
   "toc_section_display": true,
   "toc_window_display": true
  }
 },
 "nbformat": 4,
 "nbformat_minor": 5
}
