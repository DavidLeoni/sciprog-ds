{
 "cells": [
  {
   "cell_type": "code",
   "execution_count": 1,
   "id": "cff0bd09-stripped",
   "metadata": {
    "nbsphinx": "hidden"
   },
   "outputs": [],
   "source": [],
   "transient": {
    "remove_source": true
   }
  },
  {
   "cell_type": "markdown",
   "id": "6625ddcf",
   "metadata": {},
   "source": [
    "# Recursion 3 - Divide and conquer \n",
    "\n",
    "\n",
    "When confronted with a problem, we can try to solve it by splitting its dimension in half (or more), look for solutions in each of the halves with two recursive calls, and then decide what to do with the found solutions, if any.\n",
    "\n",
    "Why should we do this?  So far we wrote sequential algorithms that basically exploit only one CPU core on one computer, but modern CPUs have multiple cores and data centers multiple servers. If we could keep busy all the CPU cores on all the servers our algorithms would perform way faster. \n",
    "\n",
    "By partitioning a problem into completely separate parts with a divide and conquer strategy, we might hope it becomes amenable to parallelization. To understand if a strategy really separates the problem into clear-cut parts, without possibility of i.e. recursive calls overwriting data which should only be read by other calls, we might ask ourselves the following question: if we swapped the recursive calls, would we get a different result? If the answer is no, the program is probably going to be a good candidate for parallelization.\n",
    "\n",
    "Note in these worksheets we only care about the logic and will not actually see how to execute programs in parallel - if interested, search for multithreading programming or big data frameworks such as [Spark](https://towardsdatascience.com/a-neanderthals-guide-to-apache-spark-in-python-9ef1f156d427)) \n",
    "\n",
    "\n",
    "## Managing solutions\n",
    "\n",
    "After we split a problem in halves and do recursive calls on each halve, several cases may occur:\n",
    "\n",
    "1. No solution is found\n",
    "2. One solution is found\n",
    "3. Two solutions are found\n",
    "\n",
    "case 1): we can only give up\n",
    "\n",
    "case 2): we have only one solution, so we can just return that one\n",
    "\n",
    "case 3): we have two solutions, so we need to decide what is the purpose of the algorithm\n",
    "\n",
    "Is the purpose to ...\n",
    "\n",
    "- find _all_ possible solutions? Then we return both of them. \n",
    "\n",
    "- find the _best_ solution, according to some measure of 'goodness'? Then we measure each of the solutions and give back the highest scoring one.\n",
    "\n",
    "- provide a _combination_ of existing solutions, according to some mixing method? Then we combine the found solutions and give them back"
   ]
  },
  {
   "cell_type": "markdown",
   "id": "d95364ff",
   "metadata": {},
   "source": [
    "## Divide and conquer - SimpleFP style"
   ]
  },
  {
   "cell_type": "markdown",
   "id": "ae984bf7",
   "metadata": {},
   "source": [
    "### Example - `dsdouble`\n",
    "\n",
    "Suppose we are tasked with reimplementing the `double` like this:\n",
    "\n",
    "Take a `lst` of numbers and RETURN a NEW list with the numbers doubled as in SimpleFP style but this time following a divide and conquer strategy.\n",
    "\n",
    "Let's first focus on the logic, without caring about performance: we will divide the input in half, compute the doubled version of the halved lists (that is, find two solutions), and then join them at the end (combine the found solutions). \n",
    "\n",
    "Notice the two recursive calls here are done sequentially one after each other, but if we wanted nothing would prevent us from executing them in parallel (in other words, if you swapped the two recursive calls, you would obtain exactly the same result)"
   ]
  },
  {
   "cell_type": "code",
   "execution_count": 2,
   "id": "6912eace",
   "metadata": {},
   "outputs": [
    {
     "data": {
      "text/html": [
       "\n",
       "        <script src=\"../_static/js/pytutor-embed.bundle.min.js\" type=\"application/javascript\"></script>\n",
       "     \n",
       "        <script id=\"json-jm2acaf145-62b1-4425-9eec-53771063a37d\" type=\"application/json\" >\n",
       "            {\"code\": \" \\ndef dsdouble(lst):    \\n    if len(lst) == 0:            # base case\\n        return []                \\n    elif len(lst) == 1:          # base case\\n        return [lst[0] * 2]      \\n    else:\\n        left = dsdouble(lst[:len(lst)//2])   \\n        right = dsdouble(lst[len(lst)//2:])\\n        return left + right\\n    \\nresult = dsdouble([4,6,2,7,3])\", \"trace\": [{\"line\": 2, \"event\": \"step_line\", \"func_name\": \"<module>\", \"globals\": {}, \"ordered_globals\": [], \"stack_to_render\": [], \"heap\": {}, \"stdout\": \"\"}, {\"line\": 12, \"event\": \"step_line\", \"func_name\": \"<module>\", \"globals\": {\"dsdouble\": [\"REF\", 1]}, \"ordered_globals\": [\"dsdouble\"], \"stack_to_render\": [], \"heap\": {\"1\": [\"FUNCTION\", \"dsdouble(lst)\", null]}, \"stdout\": \"\"}, {\"line\": 2, \"event\": \"call\", \"func_name\": \"dsdouble\", \"globals\": {\"dsdouble\": [\"REF\", 1]}, \"ordered_globals\": [\"dsdouble\"], \"stack_to_render\": [{\"func_name\": \"dsdouble\", \"is_parent\": false, \"frame_id\": 1, \"parent_frame_id_list\": [], \"encoded_locals\": {\"lst\": [\"REF\", 2]}, \"ordered_varnames\": [\"lst\"], \"is_zombie\": false, \"is_highlighted\": true, \"unique_hash\": \"dsdouble_f1\"}], \"heap\": {\"2\": [\"LIST\", 4, 6, 2, 7, 3], \"1\": [\"FUNCTION\", \"dsdouble(lst)\", null]}, \"stdout\": \"\"}, {\"line\": 3, \"event\": \"step_line\", \"func_name\": \"dsdouble\", \"globals\": {\"dsdouble\": [\"REF\", 1]}, \"ordered_globals\": [\"dsdouble\"], \"stack_to_render\": [{\"func_name\": \"dsdouble\", \"is_parent\": false, \"frame_id\": 1, \"parent_frame_id_list\": [], \"encoded_locals\": {\"lst\": [\"REF\", 2]}, \"ordered_varnames\": [\"lst\"], \"is_zombie\": false, \"is_highlighted\": true, \"unique_hash\": \"dsdouble_f1\"}], \"heap\": {\"2\": [\"LIST\", 4, 6, 2, 7, 3], \"1\": [\"FUNCTION\", \"dsdouble(lst)\", null]}, \"stdout\": \"\"}, {\"line\": 5, \"event\": \"step_line\", \"func_name\": \"dsdouble\", \"globals\": {\"dsdouble\": [\"REF\", 1]}, \"ordered_globals\": [\"dsdouble\"], \"stack_to_render\": [{\"func_name\": \"dsdouble\", \"is_parent\": false, \"frame_id\": 1, \"parent_frame_id_list\": [], \"encoded_locals\": {\"lst\": [\"REF\", 2]}, \"ordered_varnames\": [\"lst\"], \"is_zombie\": false, \"is_highlighted\": true, \"unique_hash\": \"dsdouble_f1\"}], \"heap\": {\"2\": [\"LIST\", 4, 6, 2, 7, 3], \"1\": [\"FUNCTION\", \"dsdouble(lst)\", null]}, \"stdout\": \"\"}, {\"line\": 8, \"event\": \"step_line\", \"func_name\": \"dsdouble\", \"globals\": {\"dsdouble\": [\"REF\", 1]}, \"ordered_globals\": [\"dsdouble\"], \"stack_to_render\": [{\"func_name\": \"dsdouble\", \"is_parent\": false, \"frame_id\": 1, \"parent_frame_id_list\": [], \"encoded_locals\": {\"lst\": [\"REF\", 2]}, \"ordered_varnames\": [\"lst\"], \"is_zombie\": false, \"is_highlighted\": true, \"unique_hash\": \"dsdouble_f1\"}], \"heap\": {\"2\": [\"LIST\", 4, 6, 2, 7, 3], \"1\": [\"FUNCTION\", \"dsdouble(lst)\", null]}, \"stdout\": \"\"}, {\"line\": 2, \"event\": \"call\", \"func_name\": \"dsdouble\", \"globals\": {\"dsdouble\": [\"REF\", 1]}, \"ordered_globals\": [\"dsdouble\"], \"stack_to_render\": [{\"func_name\": \"dsdouble\", \"is_parent\": false, \"frame_id\": 1, \"parent_frame_id_list\": [], \"encoded_locals\": {\"lst\": [\"REF\", 2]}, \"ordered_varnames\": [\"lst\"], \"is_zombie\": false, \"is_highlighted\": false, \"unique_hash\": \"dsdouble_f1\"}, {\"func_name\": \"dsdouble\", \"is_parent\": false, \"frame_id\": 2, \"parent_frame_id_list\": [], \"encoded_locals\": {\"lst\": [\"REF\", 3]}, \"ordered_varnames\": [\"lst\"], \"is_zombie\": false, \"is_highlighted\": true, \"unique_hash\": \"dsdouble_f2\"}], \"heap\": {\"3\": [\"LIST\", 4, 6], \"2\": [\"LIST\", 4, 6, 2, 7, 3], \"1\": [\"FUNCTION\", \"dsdouble(lst)\", null]}, \"stdout\": \"\"}, {\"line\": 3, \"event\": \"step_line\", \"func_name\": \"dsdouble\", \"globals\": {\"dsdouble\": [\"REF\", 1]}, \"ordered_globals\": [\"dsdouble\"], \"stack_to_render\": [{\"func_name\": \"dsdouble\", \"is_parent\": false, \"frame_id\": 1, \"parent_frame_id_list\": [], \"encoded_locals\": {\"lst\": [\"REF\", 2]}, \"ordered_varnames\": [\"lst\"], \"is_zombie\": false, \"is_highlighted\": false, \"unique_hash\": \"dsdouble_f1\"}, {\"func_name\": \"dsdouble\", \"is_parent\": false, \"frame_id\": 2, \"parent_frame_id_list\": [], \"encoded_locals\": {\"lst\": [\"REF\", 3]}, \"ordered_varnames\": [\"lst\"], \"is_zombie\": false, \"is_highlighted\": true, \"unique_hash\": \"dsdouble_f2\"}], \"heap\": {\"3\": [\"LIST\", 4, 6], \"2\": [\"LIST\", 4, 6, 2, 7, 3], \"1\": [\"FUNCTION\", \"dsdouble(lst)\", null]}, \"stdout\": \"\"}, {\"line\": 5, \"event\": \"step_line\", \"func_name\": \"dsdouble\", \"globals\": {\"dsdouble\": [\"REF\", 1]}, \"ordered_globals\": [\"dsdouble\"], \"stack_to_render\": [{\"func_name\": \"dsdouble\", \"is_parent\": false, \"frame_id\": 1, \"parent_frame_id_list\": [], \"encoded_locals\": {\"lst\": [\"REF\", 2]}, \"ordered_varnames\": [\"lst\"], \"is_zombie\": false, \"is_highlighted\": false, \"unique_hash\": \"dsdouble_f1\"}, {\"func_name\": \"dsdouble\", \"is_parent\": false, \"frame_id\": 2, \"parent_frame_id_list\": [], \"encoded_locals\": {\"lst\": [\"REF\", 3]}, \"ordered_varnames\": [\"lst\"], \"is_zombie\": false, \"is_highlighted\": true, \"unique_hash\": \"dsdouble_f2\"}], \"heap\": {\"3\": [\"LIST\", 4, 6], \"2\": [\"LIST\", 4, 6, 2, 7, 3], \"1\": [\"FUNCTION\", \"dsdouble(lst)\", null]}, \"stdout\": \"\"}, {\"line\": 8, \"event\": \"step_line\", \"func_name\": \"dsdouble\", \"globals\": {\"dsdouble\": [\"REF\", 1]}, \"ordered_globals\": [\"dsdouble\"], \"stack_to_render\": [{\"func_name\": \"dsdouble\", \"is_parent\": false, \"frame_id\": 1, \"parent_frame_id_list\": [], \"encoded_locals\": {\"lst\": [\"REF\", 2]}, \"ordered_varnames\": [\"lst\"], \"is_zombie\": false, \"is_highlighted\": false, \"unique_hash\": \"dsdouble_f1\"}, {\"func_name\": \"dsdouble\", \"is_parent\": false, \"frame_id\": 2, \"parent_frame_id_list\": [], \"encoded_locals\": {\"lst\": [\"REF\", 3]}, \"ordered_varnames\": [\"lst\"], \"is_zombie\": false, \"is_highlighted\": true, \"unique_hash\": \"dsdouble_f2\"}], \"heap\": {\"3\": [\"LIST\", 4, 6], \"2\": [\"LIST\", 4, 6, 2, 7, 3], \"1\": [\"FUNCTION\", \"dsdouble(lst)\", null]}, \"stdout\": \"\"}, {\"line\": 2, \"event\": \"call\", \"func_name\": \"dsdouble\", \"globals\": {\"dsdouble\": [\"REF\", 1]}, \"ordered_globals\": [\"dsdouble\"], \"stack_to_render\": [{\"func_name\": \"dsdouble\", \"is_parent\": false, \"frame_id\": 1, \"parent_frame_id_list\": [], \"encoded_locals\": {\"lst\": [\"REF\", 2]}, \"ordered_varnames\": [\"lst\"], \"is_zombie\": false, \"is_highlighted\": false, \"unique_hash\": \"dsdouble_f1\"}, {\"func_name\": \"dsdouble\", \"is_parent\": false, \"frame_id\": 2, \"parent_frame_id_list\": [], \"encoded_locals\": {\"lst\": [\"REF\", 3]}, \"ordered_varnames\": [\"lst\"], \"is_zombie\": false, \"is_highlighted\": false, \"unique_hash\": \"dsdouble_f2\"}, {\"func_name\": \"dsdouble\", \"is_parent\": false, \"frame_id\": 3, \"parent_frame_id_list\": [], \"encoded_locals\": {\"lst\": [\"REF\", 4]}, \"ordered_varnames\": [\"lst\"], \"is_zombie\": false, \"is_highlighted\": true, \"unique_hash\": \"dsdouble_f3\"}], \"heap\": {\"4\": [\"LIST\", 4], \"3\": [\"LIST\", 4, 6], \"2\": [\"LIST\", 4, 6, 2, 7, 3], \"1\": [\"FUNCTION\", \"dsdouble(lst)\", null]}, \"stdout\": \"\"}, {\"line\": 3, \"event\": \"step_line\", \"func_name\": \"dsdouble\", \"globals\": {\"dsdouble\": [\"REF\", 1]}, \"ordered_globals\": [\"dsdouble\"], \"stack_to_render\": [{\"func_name\": \"dsdouble\", \"is_parent\": false, \"frame_id\": 1, \"parent_frame_id_list\": [], \"encoded_locals\": {\"lst\": [\"REF\", 2]}, \"ordered_varnames\": [\"lst\"], \"is_zombie\": false, \"is_highlighted\": false, \"unique_hash\": \"dsdouble_f1\"}, {\"func_name\": \"dsdouble\", \"is_parent\": false, \"frame_id\": 2, \"parent_frame_id_list\": [], \"encoded_locals\": {\"lst\": [\"REF\", 3]}, \"ordered_varnames\": [\"lst\"], \"is_zombie\": false, \"is_highlighted\": false, \"unique_hash\": \"dsdouble_f2\"}, {\"func_name\": \"dsdouble\", \"is_parent\": false, \"frame_id\": 3, \"parent_frame_id_list\": [], \"encoded_locals\": {\"lst\": [\"REF\", 4]}, \"ordered_varnames\": [\"lst\"], \"is_zombie\": false, \"is_highlighted\": true, \"unique_hash\": \"dsdouble_f3\"}], \"heap\": {\"4\": [\"LIST\", 4], \"3\": [\"LIST\", 4, 6], \"2\": [\"LIST\", 4, 6, 2, 7, 3], \"1\": [\"FUNCTION\", \"dsdouble(lst)\", null]}, \"stdout\": \"\"}, {\"line\": 5, \"event\": \"step_line\", \"func_name\": \"dsdouble\", \"globals\": {\"dsdouble\": [\"REF\", 1]}, \"ordered_globals\": [\"dsdouble\"], \"stack_to_render\": [{\"func_name\": \"dsdouble\", \"is_parent\": false, \"frame_id\": 1, \"parent_frame_id_list\": [], \"encoded_locals\": {\"lst\": [\"REF\", 2]}, \"ordered_varnames\": [\"lst\"], \"is_zombie\": false, \"is_highlighted\": false, \"unique_hash\": \"dsdouble_f1\"}, {\"func_name\": \"dsdouble\", \"is_parent\": false, \"frame_id\": 2, \"parent_frame_id_list\": [], \"encoded_locals\": {\"lst\": [\"REF\", 3]}, \"ordered_varnames\": [\"lst\"], \"is_zombie\": false, \"is_highlighted\": false, \"unique_hash\": \"dsdouble_f2\"}, {\"func_name\": \"dsdouble\", \"is_parent\": false, \"frame_id\": 3, \"parent_frame_id_list\": [], \"encoded_locals\": {\"lst\": [\"REF\", 4]}, \"ordered_varnames\": [\"lst\"], \"is_zombie\": false, \"is_highlighted\": true, \"unique_hash\": \"dsdouble_f3\"}], \"heap\": {\"4\": [\"LIST\", 4], \"3\": [\"LIST\", 4, 6], \"2\": [\"LIST\", 4, 6, 2, 7, 3], \"1\": [\"FUNCTION\", \"dsdouble(lst)\", null]}, \"stdout\": \"\"}, {\"line\": 6, \"event\": \"step_line\", \"func_name\": \"dsdouble\", \"globals\": {\"dsdouble\": [\"REF\", 1]}, \"ordered_globals\": [\"dsdouble\"], \"stack_to_render\": [{\"func_name\": \"dsdouble\", \"is_parent\": false, \"frame_id\": 1, \"parent_frame_id_list\": [], \"encoded_locals\": {\"lst\": [\"REF\", 2]}, \"ordered_varnames\": [\"lst\"], \"is_zombie\": false, \"is_highlighted\": false, \"unique_hash\": \"dsdouble_f1\"}, {\"func_name\": \"dsdouble\", \"is_parent\": false, \"frame_id\": 2, \"parent_frame_id_list\": [], \"encoded_locals\": {\"lst\": [\"REF\", 3]}, \"ordered_varnames\": [\"lst\"], \"is_zombie\": false, \"is_highlighted\": false, \"unique_hash\": \"dsdouble_f2\"}, {\"func_name\": \"dsdouble\", \"is_parent\": false, \"frame_id\": 3, \"parent_frame_id_list\": [], \"encoded_locals\": {\"lst\": [\"REF\", 4]}, \"ordered_varnames\": [\"lst\"], \"is_zombie\": false, \"is_highlighted\": true, \"unique_hash\": \"dsdouble_f3\"}], \"heap\": {\"4\": [\"LIST\", 4], \"3\": [\"LIST\", 4, 6], \"2\": [\"LIST\", 4, 6, 2, 7, 3], \"1\": [\"FUNCTION\", \"dsdouble(lst)\", null]}, \"stdout\": \"\"}, {\"line\": 6, \"event\": \"return\", \"func_name\": \"dsdouble\", \"globals\": {\"dsdouble\": [\"REF\", 1]}, \"ordered_globals\": [\"dsdouble\"], \"stack_to_render\": [{\"func_name\": \"dsdouble\", \"is_parent\": false, \"frame_id\": 1, \"parent_frame_id_list\": [], \"encoded_locals\": {\"lst\": [\"REF\", 2]}, \"ordered_varnames\": [\"lst\"], \"is_zombie\": false, \"is_highlighted\": false, \"unique_hash\": \"dsdouble_f1\"}, {\"func_name\": \"dsdouble\", \"is_parent\": false, \"frame_id\": 2, \"parent_frame_id_list\": [], \"encoded_locals\": {\"lst\": [\"REF\", 3]}, \"ordered_varnames\": [\"lst\"], \"is_zombie\": false, \"is_highlighted\": false, \"unique_hash\": \"dsdouble_f2\"}, {\"func_name\": \"dsdouble\", \"is_parent\": false, \"frame_id\": 3, \"parent_frame_id_list\": [], \"encoded_locals\": {\"lst\": [\"REF\", 4], \"__return__\": [\"REF\", 5]}, \"ordered_varnames\": [\"lst\", \"__return__\"], \"is_zombie\": false, \"is_highlighted\": true, \"unique_hash\": \"dsdouble_f3\"}], \"heap\": {\"4\": [\"LIST\", 4], \"5\": [\"LIST\", 8], \"3\": [\"LIST\", 4, 6], \"2\": [\"LIST\", 4, 6, 2, 7, 3], \"1\": [\"FUNCTION\", \"dsdouble(lst)\", null]}, \"stdout\": \"\"}, {\"line\": 9, \"event\": \"step_line\", \"func_name\": \"dsdouble\", \"globals\": {\"dsdouble\": [\"REF\", 1]}, \"ordered_globals\": [\"dsdouble\"], \"stack_to_render\": [{\"func_name\": \"dsdouble\", \"is_parent\": false, \"frame_id\": 1, \"parent_frame_id_list\": [], \"encoded_locals\": {\"lst\": [\"REF\", 2]}, \"ordered_varnames\": [\"lst\"], \"is_zombie\": false, \"is_highlighted\": false, \"unique_hash\": \"dsdouble_f1\"}, {\"func_name\": \"dsdouble\", \"is_parent\": false, \"frame_id\": 2, \"parent_frame_id_list\": [], \"encoded_locals\": {\"lst\": [\"REF\", 3], \"left\": [\"REF\", 5]}, \"ordered_varnames\": [\"lst\", \"left\"], \"is_zombie\": false, \"is_highlighted\": true, \"unique_hash\": \"dsdouble_f2\"}], \"heap\": {\"3\": [\"LIST\", 4, 6], \"5\": [\"LIST\", 8], \"2\": [\"LIST\", 4, 6, 2, 7, 3], \"1\": [\"FUNCTION\", \"dsdouble(lst)\", null]}, \"stdout\": \"\"}, {\"line\": 2, \"event\": \"call\", \"func_name\": \"dsdouble\", \"globals\": {\"dsdouble\": [\"REF\", 1]}, \"ordered_globals\": [\"dsdouble\"], \"stack_to_render\": [{\"func_name\": \"dsdouble\", \"is_parent\": false, \"frame_id\": 1, \"parent_frame_id_list\": [], \"encoded_locals\": {\"lst\": [\"REF\", 2]}, \"ordered_varnames\": [\"lst\"], \"is_zombie\": false, \"is_highlighted\": false, \"unique_hash\": \"dsdouble_f1\"}, {\"func_name\": \"dsdouble\", \"is_parent\": false, \"frame_id\": 2, \"parent_frame_id_list\": [], \"encoded_locals\": {\"lst\": [\"REF\", 3], \"left\": [\"REF\", 5]}, \"ordered_varnames\": [\"lst\", \"left\"], \"is_zombie\": false, \"is_highlighted\": false, \"unique_hash\": \"dsdouble_f2\"}, {\"func_name\": \"dsdouble\", \"is_parent\": false, \"frame_id\": 4, \"parent_frame_id_list\": [], \"encoded_locals\": {\"lst\": [\"REF\", 6]}, \"ordered_varnames\": [\"lst\"], \"is_zombie\": false, \"is_highlighted\": true, \"unique_hash\": \"dsdouble_f4\"}], \"heap\": {\"6\": [\"LIST\", 6], \"3\": [\"LIST\", 4, 6], \"5\": [\"LIST\", 8], \"2\": [\"LIST\", 4, 6, 2, 7, 3], \"1\": [\"FUNCTION\", \"dsdouble(lst)\", null]}, \"stdout\": \"\"}, {\"line\": 3, \"event\": \"step_line\", \"func_name\": \"dsdouble\", \"globals\": {\"dsdouble\": [\"REF\", 1]}, \"ordered_globals\": [\"dsdouble\"], \"stack_to_render\": [{\"func_name\": \"dsdouble\", \"is_parent\": false, \"frame_id\": 1, \"parent_frame_id_list\": [], \"encoded_locals\": {\"lst\": [\"REF\", 2]}, \"ordered_varnames\": [\"lst\"], \"is_zombie\": false, \"is_highlighted\": false, \"unique_hash\": \"dsdouble_f1\"}, {\"func_name\": \"dsdouble\", \"is_parent\": false, \"frame_id\": 2, \"parent_frame_id_list\": [], \"encoded_locals\": {\"lst\": [\"REF\", 3], \"left\": [\"REF\", 5]}, \"ordered_varnames\": [\"lst\", \"left\"], \"is_zombie\": false, \"is_highlighted\": false, \"unique_hash\": \"dsdouble_f2\"}, {\"func_name\": \"dsdouble\", \"is_parent\": false, \"frame_id\": 4, \"parent_frame_id_list\": [], \"encoded_locals\": {\"lst\": [\"REF\", 6]}, \"ordered_varnames\": [\"lst\"], \"is_zombie\": false, \"is_highlighted\": true, \"unique_hash\": \"dsdouble_f4\"}], \"heap\": {\"6\": [\"LIST\", 6], \"3\": [\"LIST\", 4, 6], \"5\": [\"LIST\", 8], \"2\": [\"LIST\", 4, 6, 2, 7, 3], \"1\": [\"FUNCTION\", \"dsdouble(lst)\", null]}, \"stdout\": \"\"}, {\"line\": 5, \"event\": \"step_line\", \"func_name\": \"dsdouble\", \"globals\": {\"dsdouble\": [\"REF\", 1]}, \"ordered_globals\": [\"dsdouble\"], \"stack_to_render\": [{\"func_name\": \"dsdouble\", \"is_parent\": false, \"frame_id\": 1, \"parent_frame_id_list\": [], \"encoded_locals\": {\"lst\": [\"REF\", 2]}, \"ordered_varnames\": [\"lst\"], \"is_zombie\": false, \"is_highlighted\": false, \"unique_hash\": \"dsdouble_f1\"}, {\"func_name\": \"dsdouble\", \"is_parent\": false, \"frame_id\": 2, \"parent_frame_id_list\": [], \"encoded_locals\": {\"lst\": [\"REF\", 3], \"left\": [\"REF\", 5]}, \"ordered_varnames\": [\"lst\", \"left\"], \"is_zombie\": false, \"is_highlighted\": false, \"unique_hash\": \"dsdouble_f2\"}, {\"func_name\": \"dsdouble\", \"is_parent\": false, \"frame_id\": 4, \"parent_frame_id_list\": [], \"encoded_locals\": {\"lst\": [\"REF\", 6]}, \"ordered_varnames\": [\"lst\"], \"is_zombie\": false, \"is_highlighted\": true, \"unique_hash\": \"dsdouble_f4\"}], \"heap\": {\"6\": [\"LIST\", 6], \"3\": [\"LIST\", 4, 6], \"5\": [\"LIST\", 8], \"2\": [\"LIST\", 4, 6, 2, 7, 3], \"1\": [\"FUNCTION\", \"dsdouble(lst)\", null]}, \"stdout\": \"\"}, {\"line\": 6, \"event\": \"step_line\", \"func_name\": \"dsdouble\", \"globals\": {\"dsdouble\": [\"REF\", 1]}, \"ordered_globals\": [\"dsdouble\"], \"stack_to_render\": [{\"func_name\": \"dsdouble\", \"is_parent\": false, \"frame_id\": 1, \"parent_frame_id_list\": [], \"encoded_locals\": {\"lst\": [\"REF\", 2]}, \"ordered_varnames\": [\"lst\"], \"is_zombie\": false, \"is_highlighted\": false, \"unique_hash\": \"dsdouble_f1\"}, {\"func_name\": \"dsdouble\", \"is_parent\": false, \"frame_id\": 2, \"parent_frame_id_list\": [], \"encoded_locals\": {\"lst\": [\"REF\", 3], \"left\": [\"REF\", 5]}, \"ordered_varnames\": [\"lst\", \"left\"], \"is_zombie\": false, \"is_highlighted\": false, \"unique_hash\": \"dsdouble_f2\"}, {\"func_name\": \"dsdouble\", \"is_parent\": false, \"frame_id\": 4, \"parent_frame_id_list\": [], \"encoded_locals\": {\"lst\": [\"REF\", 6]}, \"ordered_varnames\": [\"lst\"], \"is_zombie\": false, \"is_highlighted\": true, \"unique_hash\": \"dsdouble_f4\"}], \"heap\": {\"6\": [\"LIST\", 6], \"3\": [\"LIST\", 4, 6], \"5\": [\"LIST\", 8], \"2\": [\"LIST\", 4, 6, 2, 7, 3], \"1\": [\"FUNCTION\", \"dsdouble(lst)\", null]}, \"stdout\": \"\"}, {\"line\": 6, \"event\": \"return\", \"func_name\": \"dsdouble\", \"globals\": {\"dsdouble\": [\"REF\", 1]}, \"ordered_globals\": [\"dsdouble\"], \"stack_to_render\": [{\"func_name\": \"dsdouble\", \"is_parent\": false, \"frame_id\": 1, \"parent_frame_id_list\": [], \"encoded_locals\": {\"lst\": [\"REF\", 2]}, \"ordered_varnames\": [\"lst\"], \"is_zombie\": false, \"is_highlighted\": false, \"unique_hash\": \"dsdouble_f1\"}, {\"func_name\": \"dsdouble\", \"is_parent\": false, \"frame_id\": 2, \"parent_frame_id_list\": [], \"encoded_locals\": {\"lst\": [\"REF\", 3], \"left\": [\"REF\", 5]}, \"ordered_varnames\": [\"lst\", \"left\"], \"is_zombie\": false, \"is_highlighted\": false, \"unique_hash\": \"dsdouble_f2\"}, {\"func_name\": \"dsdouble\", \"is_parent\": false, \"frame_id\": 4, \"parent_frame_id_list\": [], \"encoded_locals\": {\"lst\": [\"REF\", 6], \"__return__\": [\"REF\", 7]}, \"ordered_varnames\": [\"lst\", \"__return__\"], \"is_zombie\": false, \"is_highlighted\": true, \"unique_hash\": \"dsdouble_f4\"}], \"heap\": {\"6\": [\"LIST\", 6], \"7\": [\"LIST\", 12], \"3\": [\"LIST\", 4, 6], \"5\": [\"LIST\", 8], \"2\": [\"LIST\", 4, 6, 2, 7, 3], \"1\": [\"FUNCTION\", \"dsdouble(lst)\", null]}, \"stdout\": \"\"}, {\"line\": 10, \"event\": \"step_line\", \"func_name\": \"dsdouble\", \"globals\": {\"dsdouble\": [\"REF\", 1]}, \"ordered_globals\": [\"dsdouble\"], \"stack_to_render\": [{\"func_name\": \"dsdouble\", \"is_parent\": false, \"frame_id\": 1, \"parent_frame_id_list\": [], \"encoded_locals\": {\"lst\": [\"REF\", 2]}, \"ordered_varnames\": [\"lst\"], \"is_zombie\": false, \"is_highlighted\": false, \"unique_hash\": \"dsdouble_f1\"}, {\"func_name\": \"dsdouble\", \"is_parent\": false, \"frame_id\": 2, \"parent_frame_id_list\": [], \"encoded_locals\": {\"lst\": [\"REF\", 3], \"left\": [\"REF\", 5], \"right\": [\"REF\", 7]}, \"ordered_varnames\": [\"lst\", \"left\", \"right\"], \"is_zombie\": false, \"is_highlighted\": true, \"unique_hash\": \"dsdouble_f2\"}], \"heap\": {\"3\": [\"LIST\", 4, 6], \"5\": [\"LIST\", 8], \"7\": [\"LIST\", 12], \"2\": [\"LIST\", 4, 6, 2, 7, 3], \"1\": [\"FUNCTION\", \"dsdouble(lst)\", null]}, \"stdout\": \"\"}, {\"line\": 10, \"event\": \"return\", \"func_name\": \"dsdouble\", \"globals\": {\"dsdouble\": [\"REF\", 1]}, \"ordered_globals\": [\"dsdouble\"], \"stack_to_render\": [{\"func_name\": \"dsdouble\", \"is_parent\": false, \"frame_id\": 1, \"parent_frame_id_list\": [], \"encoded_locals\": {\"lst\": [\"REF\", 2]}, \"ordered_varnames\": [\"lst\"], \"is_zombie\": false, \"is_highlighted\": false, \"unique_hash\": \"dsdouble_f1\"}, {\"func_name\": \"dsdouble\", \"is_parent\": false, \"frame_id\": 2, \"parent_frame_id_list\": [], \"encoded_locals\": {\"lst\": [\"REF\", 3], \"left\": [\"REF\", 5], \"right\": [\"REF\", 7], \"__return__\": [\"REF\", 8]}, \"ordered_varnames\": [\"lst\", \"left\", \"right\", \"__return__\"], \"is_zombie\": false, \"is_highlighted\": true, \"unique_hash\": \"dsdouble_f2\"}], \"heap\": {\"3\": [\"LIST\", 4, 6], \"5\": [\"LIST\", 8], \"7\": [\"LIST\", 12], \"8\": [\"LIST\", 8, 12], \"2\": [\"LIST\", 4, 6, 2, 7, 3], \"1\": [\"FUNCTION\", \"dsdouble(lst)\", null]}, \"stdout\": \"\"}, {\"line\": 9, \"event\": \"step_line\", \"func_name\": \"dsdouble\", \"globals\": {\"dsdouble\": [\"REF\", 1]}, \"ordered_globals\": [\"dsdouble\"], \"stack_to_render\": [{\"func_name\": \"dsdouble\", \"is_parent\": false, \"frame_id\": 1, \"parent_frame_id_list\": [], \"encoded_locals\": {\"lst\": [\"REF\", 2], \"left\": [\"REF\", 8]}, \"ordered_varnames\": [\"lst\", \"left\"], \"is_zombie\": false, \"is_highlighted\": true, \"unique_hash\": \"dsdouble_f1\"}], \"heap\": {\"2\": [\"LIST\", 4, 6, 2, 7, 3], \"8\": [\"LIST\", 8, 12], \"1\": [\"FUNCTION\", \"dsdouble(lst)\", null]}, \"stdout\": \"\"}, {\"line\": 2, \"event\": \"call\", \"func_name\": \"dsdouble\", \"globals\": {\"dsdouble\": [\"REF\", 1]}, \"ordered_globals\": [\"dsdouble\"], \"stack_to_render\": [{\"func_name\": \"dsdouble\", \"is_parent\": false, \"frame_id\": 1, \"parent_frame_id_list\": [], \"encoded_locals\": {\"lst\": [\"REF\", 2], \"left\": [\"REF\", 8]}, \"ordered_varnames\": [\"lst\", \"left\"], \"is_zombie\": false, \"is_highlighted\": false, \"unique_hash\": \"dsdouble_f1\"}, {\"func_name\": \"dsdouble\", \"is_parent\": false, \"frame_id\": 5, \"parent_frame_id_list\": [], \"encoded_locals\": {\"lst\": [\"REF\", 9]}, \"ordered_varnames\": [\"lst\"], \"is_zombie\": false, \"is_highlighted\": true, \"unique_hash\": \"dsdouble_f5\"}], \"heap\": {\"9\": [\"LIST\", 2, 7, 3], \"2\": [\"LIST\", 4, 6, 2, 7, 3], \"8\": [\"LIST\", 8, 12], \"1\": [\"FUNCTION\", \"dsdouble(lst)\", null]}, \"stdout\": \"\"}, {\"line\": 3, \"event\": \"step_line\", \"func_name\": \"dsdouble\", \"globals\": {\"dsdouble\": [\"REF\", 1]}, \"ordered_globals\": [\"dsdouble\"], \"stack_to_render\": [{\"func_name\": \"dsdouble\", \"is_parent\": false, \"frame_id\": 1, \"parent_frame_id_list\": [], \"encoded_locals\": {\"lst\": [\"REF\", 2], \"left\": [\"REF\", 8]}, \"ordered_varnames\": [\"lst\", \"left\"], \"is_zombie\": false, \"is_highlighted\": false, \"unique_hash\": \"dsdouble_f1\"}, {\"func_name\": \"dsdouble\", \"is_parent\": false, \"frame_id\": 5, \"parent_frame_id_list\": [], \"encoded_locals\": {\"lst\": [\"REF\", 9]}, \"ordered_varnames\": [\"lst\"], \"is_zombie\": false, \"is_highlighted\": true, \"unique_hash\": \"dsdouble_f5\"}], \"heap\": {\"9\": [\"LIST\", 2, 7, 3], \"2\": [\"LIST\", 4, 6, 2, 7, 3], \"8\": [\"LIST\", 8, 12], \"1\": [\"FUNCTION\", \"dsdouble(lst)\", null]}, \"stdout\": \"\"}, {\"line\": 5, \"event\": \"step_line\", \"func_name\": \"dsdouble\", \"globals\": {\"dsdouble\": [\"REF\", 1]}, \"ordered_globals\": [\"dsdouble\"], \"stack_to_render\": [{\"func_name\": \"dsdouble\", \"is_parent\": false, \"frame_id\": 1, \"parent_frame_id_list\": [], \"encoded_locals\": {\"lst\": [\"REF\", 2], \"left\": [\"REF\", 8]}, \"ordered_varnames\": [\"lst\", \"left\"], \"is_zombie\": false, \"is_highlighted\": false, \"unique_hash\": \"dsdouble_f1\"}, {\"func_name\": \"dsdouble\", \"is_parent\": false, \"frame_id\": 5, \"parent_frame_id_list\": [], \"encoded_locals\": {\"lst\": [\"REF\", 9]}, \"ordered_varnames\": [\"lst\"], \"is_zombie\": false, \"is_highlighted\": true, \"unique_hash\": \"dsdouble_f5\"}], \"heap\": {\"9\": [\"LIST\", 2, 7, 3], \"2\": [\"LIST\", 4, 6, 2, 7, 3], \"8\": [\"LIST\", 8, 12], \"1\": [\"FUNCTION\", \"dsdouble(lst)\", null]}, \"stdout\": \"\"}, {\"line\": 8, \"event\": \"step_line\", \"func_name\": \"dsdouble\", \"globals\": {\"dsdouble\": [\"REF\", 1]}, \"ordered_globals\": [\"dsdouble\"], \"stack_to_render\": [{\"func_name\": \"dsdouble\", \"is_parent\": false, \"frame_id\": 1, \"parent_frame_id_list\": [], \"encoded_locals\": {\"lst\": [\"REF\", 2], \"left\": [\"REF\", 8]}, \"ordered_varnames\": [\"lst\", \"left\"], \"is_zombie\": false, \"is_highlighted\": false, \"unique_hash\": \"dsdouble_f1\"}, {\"func_name\": \"dsdouble\", \"is_parent\": false, \"frame_id\": 5, \"parent_frame_id_list\": [], \"encoded_locals\": {\"lst\": [\"REF\", 9]}, \"ordered_varnames\": [\"lst\"], \"is_zombie\": false, \"is_highlighted\": true, \"unique_hash\": \"dsdouble_f5\"}], \"heap\": {\"9\": [\"LIST\", 2, 7, 3], \"2\": [\"LIST\", 4, 6, 2, 7, 3], \"8\": [\"LIST\", 8, 12], \"1\": [\"FUNCTION\", \"dsdouble(lst)\", null]}, \"stdout\": \"\"}, {\"line\": 2, \"event\": \"call\", \"func_name\": \"dsdouble\", \"globals\": {\"dsdouble\": [\"REF\", 1]}, \"ordered_globals\": [\"dsdouble\"], \"stack_to_render\": [{\"func_name\": \"dsdouble\", \"is_parent\": false, \"frame_id\": 1, \"parent_frame_id_list\": [], \"encoded_locals\": {\"lst\": [\"REF\", 2], \"left\": [\"REF\", 8]}, \"ordered_varnames\": [\"lst\", \"left\"], \"is_zombie\": false, \"is_highlighted\": false, \"unique_hash\": \"dsdouble_f1\"}, {\"func_name\": \"dsdouble\", \"is_parent\": false, \"frame_id\": 5, \"parent_frame_id_list\": [], \"encoded_locals\": {\"lst\": [\"REF\", 9]}, \"ordered_varnames\": [\"lst\"], \"is_zombie\": false, \"is_highlighted\": false, \"unique_hash\": \"dsdouble_f5\"}, {\"func_name\": \"dsdouble\", \"is_parent\": false, \"frame_id\": 6, \"parent_frame_id_list\": [], \"encoded_locals\": {\"lst\": [\"REF\", 10]}, \"ordered_varnames\": [\"lst\"], \"is_zombie\": false, \"is_highlighted\": true, \"unique_hash\": \"dsdouble_f6\"}], \"heap\": {\"10\": [\"LIST\", 2], \"9\": [\"LIST\", 2, 7, 3], \"2\": [\"LIST\", 4, 6, 2, 7, 3], \"8\": [\"LIST\", 8, 12], \"1\": [\"FUNCTION\", \"dsdouble(lst)\", null]}, \"stdout\": \"\"}, {\"line\": 3, \"event\": \"step_line\", \"func_name\": \"dsdouble\", \"globals\": {\"dsdouble\": [\"REF\", 1]}, \"ordered_globals\": [\"dsdouble\"], \"stack_to_render\": [{\"func_name\": \"dsdouble\", \"is_parent\": false, \"frame_id\": 1, \"parent_frame_id_list\": [], \"encoded_locals\": {\"lst\": [\"REF\", 2], \"left\": [\"REF\", 8]}, \"ordered_varnames\": [\"lst\", \"left\"], \"is_zombie\": false, \"is_highlighted\": false, \"unique_hash\": \"dsdouble_f1\"}, {\"func_name\": \"dsdouble\", \"is_parent\": false, \"frame_id\": 5, \"parent_frame_id_list\": [], \"encoded_locals\": {\"lst\": [\"REF\", 9]}, \"ordered_varnames\": [\"lst\"], \"is_zombie\": false, \"is_highlighted\": false, \"unique_hash\": \"dsdouble_f5\"}, {\"func_name\": \"dsdouble\", \"is_parent\": false, \"frame_id\": 6, \"parent_frame_id_list\": [], \"encoded_locals\": {\"lst\": [\"REF\", 10]}, \"ordered_varnames\": [\"lst\"], \"is_zombie\": false, \"is_highlighted\": true, \"unique_hash\": \"dsdouble_f6\"}], \"heap\": {\"10\": [\"LIST\", 2], \"9\": [\"LIST\", 2, 7, 3], \"2\": [\"LIST\", 4, 6, 2, 7, 3], \"8\": [\"LIST\", 8, 12], \"1\": [\"FUNCTION\", \"dsdouble(lst)\", null]}, \"stdout\": \"\"}, {\"line\": 5, \"event\": \"step_line\", \"func_name\": \"dsdouble\", \"globals\": {\"dsdouble\": [\"REF\", 1]}, \"ordered_globals\": [\"dsdouble\"], \"stack_to_render\": [{\"func_name\": \"dsdouble\", \"is_parent\": false, \"frame_id\": 1, \"parent_frame_id_list\": [], \"encoded_locals\": {\"lst\": [\"REF\", 2], \"left\": [\"REF\", 8]}, \"ordered_varnames\": [\"lst\", \"left\"], \"is_zombie\": false, \"is_highlighted\": false, \"unique_hash\": \"dsdouble_f1\"}, {\"func_name\": \"dsdouble\", \"is_parent\": false, \"frame_id\": 5, \"parent_frame_id_list\": [], \"encoded_locals\": {\"lst\": [\"REF\", 9]}, \"ordered_varnames\": [\"lst\"], \"is_zombie\": false, \"is_highlighted\": false, \"unique_hash\": \"dsdouble_f5\"}, {\"func_name\": \"dsdouble\", \"is_parent\": false, \"frame_id\": 6, \"parent_frame_id_list\": [], \"encoded_locals\": {\"lst\": [\"REF\", 10]}, \"ordered_varnames\": [\"lst\"], \"is_zombie\": false, \"is_highlighted\": true, \"unique_hash\": \"dsdouble_f6\"}], \"heap\": {\"10\": [\"LIST\", 2], \"9\": [\"LIST\", 2, 7, 3], \"2\": [\"LIST\", 4, 6, 2, 7, 3], \"8\": [\"LIST\", 8, 12], \"1\": [\"FUNCTION\", \"dsdouble(lst)\", null]}, \"stdout\": \"\"}, {\"line\": 6, \"event\": \"step_line\", \"func_name\": \"dsdouble\", \"globals\": {\"dsdouble\": [\"REF\", 1]}, \"ordered_globals\": [\"dsdouble\"], \"stack_to_render\": [{\"func_name\": \"dsdouble\", \"is_parent\": false, \"frame_id\": 1, \"parent_frame_id_list\": [], \"encoded_locals\": {\"lst\": [\"REF\", 2], \"left\": [\"REF\", 8]}, \"ordered_varnames\": [\"lst\", \"left\"], \"is_zombie\": false, \"is_highlighted\": false, \"unique_hash\": \"dsdouble_f1\"}, {\"func_name\": \"dsdouble\", \"is_parent\": false, \"frame_id\": 5, \"parent_frame_id_list\": [], \"encoded_locals\": {\"lst\": [\"REF\", 9]}, \"ordered_varnames\": [\"lst\"], \"is_zombie\": false, \"is_highlighted\": false, \"unique_hash\": \"dsdouble_f5\"}, {\"func_name\": \"dsdouble\", \"is_parent\": false, \"frame_id\": 6, \"parent_frame_id_list\": [], \"encoded_locals\": {\"lst\": [\"REF\", 10]}, \"ordered_varnames\": [\"lst\"], \"is_zombie\": false, \"is_highlighted\": true, \"unique_hash\": \"dsdouble_f6\"}], \"heap\": {\"10\": [\"LIST\", 2], \"9\": [\"LIST\", 2, 7, 3], \"2\": [\"LIST\", 4, 6, 2, 7, 3], \"8\": [\"LIST\", 8, 12], \"1\": [\"FUNCTION\", \"dsdouble(lst)\", null]}, \"stdout\": \"\"}, {\"line\": 6, \"event\": \"return\", \"func_name\": \"dsdouble\", \"globals\": {\"dsdouble\": [\"REF\", 1]}, \"ordered_globals\": [\"dsdouble\"], \"stack_to_render\": [{\"func_name\": \"dsdouble\", \"is_parent\": false, \"frame_id\": 1, \"parent_frame_id_list\": [], \"encoded_locals\": {\"lst\": [\"REF\", 2], \"left\": [\"REF\", 8]}, \"ordered_varnames\": [\"lst\", \"left\"], \"is_zombie\": false, \"is_highlighted\": false, \"unique_hash\": \"dsdouble_f1\"}, {\"func_name\": \"dsdouble\", \"is_parent\": false, \"frame_id\": 5, \"parent_frame_id_list\": [], \"encoded_locals\": {\"lst\": [\"REF\", 9]}, \"ordered_varnames\": [\"lst\"], \"is_zombie\": false, \"is_highlighted\": false, \"unique_hash\": \"dsdouble_f5\"}, {\"func_name\": \"dsdouble\", \"is_parent\": false, \"frame_id\": 6, \"parent_frame_id_list\": [], \"encoded_locals\": {\"lst\": [\"REF\", 10], \"__return__\": [\"REF\", 11]}, \"ordered_varnames\": [\"lst\", \"__return__\"], \"is_zombie\": false, \"is_highlighted\": true, \"unique_hash\": \"dsdouble_f6\"}], \"heap\": {\"10\": [\"LIST\", 2], \"11\": [\"LIST\", 4], \"9\": [\"LIST\", 2, 7, 3], \"2\": [\"LIST\", 4, 6, 2, 7, 3], \"8\": [\"LIST\", 8, 12], \"1\": [\"FUNCTION\", \"dsdouble(lst)\", null]}, \"stdout\": \"\"}, {\"line\": 9, \"event\": \"step_line\", \"func_name\": \"dsdouble\", \"globals\": {\"dsdouble\": [\"REF\", 1]}, \"ordered_globals\": [\"dsdouble\"], \"stack_to_render\": [{\"func_name\": \"dsdouble\", \"is_parent\": false, \"frame_id\": 1, \"parent_frame_id_list\": [], \"encoded_locals\": {\"lst\": [\"REF\", 2], \"left\": [\"REF\", 8]}, \"ordered_varnames\": [\"lst\", \"left\"], \"is_zombie\": false, \"is_highlighted\": false, \"unique_hash\": \"dsdouble_f1\"}, {\"func_name\": \"dsdouble\", \"is_parent\": false, \"frame_id\": 5, \"parent_frame_id_list\": [], \"encoded_locals\": {\"lst\": [\"REF\", 9], \"left\": [\"REF\", 11]}, \"ordered_varnames\": [\"lst\", \"left\"], \"is_zombie\": false, \"is_highlighted\": true, \"unique_hash\": \"dsdouble_f5\"}], \"heap\": {\"9\": [\"LIST\", 2, 7, 3], \"11\": [\"LIST\", 4], \"2\": [\"LIST\", 4, 6, 2, 7, 3], \"8\": [\"LIST\", 8, 12], \"1\": [\"FUNCTION\", \"dsdouble(lst)\", null]}, \"stdout\": \"\"}, {\"line\": 2, \"event\": \"call\", \"func_name\": \"dsdouble\", \"globals\": {\"dsdouble\": [\"REF\", 1]}, \"ordered_globals\": [\"dsdouble\"], \"stack_to_render\": [{\"func_name\": \"dsdouble\", \"is_parent\": false, \"frame_id\": 1, \"parent_frame_id_list\": [], \"encoded_locals\": {\"lst\": [\"REF\", 2], \"left\": [\"REF\", 8]}, \"ordered_varnames\": [\"lst\", \"left\"], \"is_zombie\": false, \"is_highlighted\": false, \"unique_hash\": \"dsdouble_f1\"}, {\"func_name\": \"dsdouble\", \"is_parent\": false, \"frame_id\": 5, \"parent_frame_id_list\": [], \"encoded_locals\": {\"lst\": [\"REF\", 9], \"left\": [\"REF\", 11]}, \"ordered_varnames\": [\"lst\", \"left\"], \"is_zombie\": false, \"is_highlighted\": false, \"unique_hash\": \"dsdouble_f5\"}, {\"func_name\": \"dsdouble\", \"is_parent\": false, \"frame_id\": 7, \"parent_frame_id_list\": [], \"encoded_locals\": {\"lst\": [\"REF\", 12]}, \"ordered_varnames\": [\"lst\"], \"is_zombie\": false, \"is_highlighted\": true, \"unique_hash\": \"dsdouble_f7\"}], \"heap\": {\"12\": [\"LIST\", 7, 3], \"9\": [\"LIST\", 2, 7, 3], \"11\": [\"LIST\", 4], \"2\": [\"LIST\", 4, 6, 2, 7, 3], \"8\": [\"LIST\", 8, 12], \"1\": [\"FUNCTION\", \"dsdouble(lst)\", null]}, \"stdout\": \"\"}, {\"line\": 3, \"event\": \"step_line\", \"func_name\": \"dsdouble\", \"globals\": {\"dsdouble\": [\"REF\", 1]}, \"ordered_globals\": [\"dsdouble\"], \"stack_to_render\": [{\"func_name\": \"dsdouble\", \"is_parent\": false, \"frame_id\": 1, \"parent_frame_id_list\": [], \"encoded_locals\": {\"lst\": [\"REF\", 2], \"left\": [\"REF\", 8]}, \"ordered_varnames\": [\"lst\", \"left\"], \"is_zombie\": false, \"is_highlighted\": false, \"unique_hash\": \"dsdouble_f1\"}, {\"func_name\": \"dsdouble\", \"is_parent\": false, \"frame_id\": 5, \"parent_frame_id_list\": [], \"encoded_locals\": {\"lst\": [\"REF\", 9], \"left\": [\"REF\", 11]}, \"ordered_varnames\": [\"lst\", \"left\"], \"is_zombie\": false, \"is_highlighted\": false, \"unique_hash\": \"dsdouble_f5\"}, {\"func_name\": \"dsdouble\", \"is_parent\": false, \"frame_id\": 7, \"parent_frame_id_list\": [], \"encoded_locals\": {\"lst\": [\"REF\", 12]}, \"ordered_varnames\": [\"lst\"], \"is_zombie\": false, \"is_highlighted\": true, \"unique_hash\": \"dsdouble_f7\"}], \"heap\": {\"12\": [\"LIST\", 7, 3], \"9\": [\"LIST\", 2, 7, 3], \"11\": [\"LIST\", 4], \"2\": [\"LIST\", 4, 6, 2, 7, 3], \"8\": [\"LIST\", 8, 12], \"1\": [\"FUNCTION\", \"dsdouble(lst)\", null]}, \"stdout\": \"\"}, {\"line\": 5, \"event\": \"step_line\", \"func_name\": \"dsdouble\", \"globals\": {\"dsdouble\": [\"REF\", 1]}, \"ordered_globals\": [\"dsdouble\"], \"stack_to_render\": [{\"func_name\": \"dsdouble\", \"is_parent\": false, \"frame_id\": 1, \"parent_frame_id_list\": [], \"encoded_locals\": {\"lst\": [\"REF\", 2], \"left\": [\"REF\", 8]}, \"ordered_varnames\": [\"lst\", \"left\"], \"is_zombie\": false, \"is_highlighted\": false, \"unique_hash\": \"dsdouble_f1\"}, {\"func_name\": \"dsdouble\", \"is_parent\": false, \"frame_id\": 5, \"parent_frame_id_list\": [], \"encoded_locals\": {\"lst\": [\"REF\", 9], \"left\": [\"REF\", 11]}, \"ordered_varnames\": [\"lst\", \"left\"], \"is_zombie\": false, \"is_highlighted\": false, \"unique_hash\": \"dsdouble_f5\"}, {\"func_name\": \"dsdouble\", \"is_parent\": false, \"frame_id\": 7, \"parent_frame_id_list\": [], \"encoded_locals\": {\"lst\": [\"REF\", 12]}, \"ordered_varnames\": [\"lst\"], \"is_zombie\": false, \"is_highlighted\": true, \"unique_hash\": \"dsdouble_f7\"}], \"heap\": {\"12\": [\"LIST\", 7, 3], \"9\": [\"LIST\", 2, 7, 3], \"11\": [\"LIST\", 4], \"2\": [\"LIST\", 4, 6, 2, 7, 3], \"8\": [\"LIST\", 8, 12], \"1\": [\"FUNCTION\", \"dsdouble(lst)\", null]}, \"stdout\": \"\"}, {\"line\": 8, \"event\": \"step_line\", \"func_name\": \"dsdouble\", \"globals\": {\"dsdouble\": [\"REF\", 1]}, \"ordered_globals\": [\"dsdouble\"], \"stack_to_render\": [{\"func_name\": \"dsdouble\", \"is_parent\": false, \"frame_id\": 1, \"parent_frame_id_list\": [], \"encoded_locals\": {\"lst\": [\"REF\", 2], \"left\": [\"REF\", 8]}, \"ordered_varnames\": [\"lst\", \"left\"], \"is_zombie\": false, \"is_highlighted\": false, \"unique_hash\": \"dsdouble_f1\"}, {\"func_name\": \"dsdouble\", \"is_parent\": false, \"frame_id\": 5, \"parent_frame_id_list\": [], \"encoded_locals\": {\"lst\": [\"REF\", 9], \"left\": [\"REF\", 11]}, \"ordered_varnames\": [\"lst\", \"left\"], \"is_zombie\": false, \"is_highlighted\": false, \"unique_hash\": \"dsdouble_f5\"}, {\"func_name\": \"dsdouble\", \"is_parent\": false, \"frame_id\": 7, \"parent_frame_id_list\": [], \"encoded_locals\": {\"lst\": [\"REF\", 12]}, \"ordered_varnames\": [\"lst\"], \"is_zombie\": false, \"is_highlighted\": true, \"unique_hash\": \"dsdouble_f7\"}], \"heap\": {\"12\": [\"LIST\", 7, 3], \"9\": [\"LIST\", 2, 7, 3], \"11\": [\"LIST\", 4], \"2\": [\"LIST\", 4, 6, 2, 7, 3], \"8\": [\"LIST\", 8, 12], \"1\": [\"FUNCTION\", \"dsdouble(lst)\", null]}, \"stdout\": \"\"}, {\"line\": 2, \"event\": \"call\", \"func_name\": \"dsdouble\", \"globals\": {\"dsdouble\": [\"REF\", 1]}, \"ordered_globals\": [\"dsdouble\"], \"stack_to_render\": [{\"func_name\": \"dsdouble\", \"is_parent\": false, \"frame_id\": 1, \"parent_frame_id_list\": [], \"encoded_locals\": {\"lst\": [\"REF\", 2], \"left\": [\"REF\", 8]}, \"ordered_varnames\": [\"lst\", \"left\"], \"is_zombie\": false, \"is_highlighted\": false, \"unique_hash\": \"dsdouble_f1\"}, {\"func_name\": \"dsdouble\", \"is_parent\": false, \"frame_id\": 5, \"parent_frame_id_list\": [], \"encoded_locals\": {\"lst\": [\"REF\", 9], \"left\": [\"REF\", 11]}, \"ordered_varnames\": [\"lst\", \"left\"], \"is_zombie\": false, \"is_highlighted\": false, \"unique_hash\": \"dsdouble_f5\"}, {\"func_name\": \"dsdouble\", \"is_parent\": false, \"frame_id\": 7, \"parent_frame_id_list\": [], \"encoded_locals\": {\"lst\": [\"REF\", 12]}, \"ordered_varnames\": [\"lst\"], \"is_zombie\": false, \"is_highlighted\": false, \"unique_hash\": \"dsdouble_f7\"}, {\"func_name\": \"dsdouble\", \"is_parent\": false, \"frame_id\": 8, \"parent_frame_id_list\": [], \"encoded_locals\": {\"lst\": [\"REF\", 13]}, \"ordered_varnames\": [\"lst\"], \"is_zombie\": false, \"is_highlighted\": true, \"unique_hash\": \"dsdouble_f8\"}], \"heap\": {\"13\": [\"LIST\", 7], \"12\": [\"LIST\", 7, 3], \"9\": [\"LIST\", 2, 7, 3], \"11\": [\"LIST\", 4], \"2\": [\"LIST\", 4, 6, 2, 7, 3], \"8\": [\"LIST\", 8, 12], \"1\": [\"FUNCTION\", \"dsdouble(lst)\", null]}, \"stdout\": \"\"}, {\"line\": 3, \"event\": \"step_line\", \"func_name\": \"dsdouble\", \"globals\": {\"dsdouble\": [\"REF\", 1]}, \"ordered_globals\": [\"dsdouble\"], \"stack_to_render\": [{\"func_name\": \"dsdouble\", \"is_parent\": false, \"frame_id\": 1, \"parent_frame_id_list\": [], \"encoded_locals\": {\"lst\": [\"REF\", 2], \"left\": [\"REF\", 8]}, \"ordered_varnames\": [\"lst\", \"left\"], \"is_zombie\": false, \"is_highlighted\": false, \"unique_hash\": \"dsdouble_f1\"}, {\"func_name\": \"dsdouble\", \"is_parent\": false, \"frame_id\": 5, \"parent_frame_id_list\": [], \"encoded_locals\": {\"lst\": [\"REF\", 9], \"left\": [\"REF\", 11]}, \"ordered_varnames\": [\"lst\", \"left\"], \"is_zombie\": false, \"is_highlighted\": false, \"unique_hash\": \"dsdouble_f5\"}, {\"func_name\": \"dsdouble\", \"is_parent\": false, \"frame_id\": 7, \"parent_frame_id_list\": [], \"encoded_locals\": {\"lst\": [\"REF\", 12]}, \"ordered_varnames\": [\"lst\"], \"is_zombie\": false, \"is_highlighted\": false, \"unique_hash\": \"dsdouble_f7\"}, {\"func_name\": \"dsdouble\", \"is_parent\": false, \"frame_id\": 8, \"parent_frame_id_list\": [], \"encoded_locals\": {\"lst\": [\"REF\", 13]}, \"ordered_varnames\": [\"lst\"], \"is_zombie\": false, \"is_highlighted\": true, \"unique_hash\": \"dsdouble_f8\"}], \"heap\": {\"13\": [\"LIST\", 7], \"12\": [\"LIST\", 7, 3], \"9\": [\"LIST\", 2, 7, 3], \"11\": [\"LIST\", 4], \"2\": [\"LIST\", 4, 6, 2, 7, 3], \"8\": [\"LIST\", 8, 12], \"1\": [\"FUNCTION\", \"dsdouble(lst)\", null]}, \"stdout\": \"\"}, {\"line\": 5, \"event\": \"step_line\", \"func_name\": \"dsdouble\", \"globals\": {\"dsdouble\": [\"REF\", 1]}, \"ordered_globals\": [\"dsdouble\"], \"stack_to_render\": [{\"func_name\": \"dsdouble\", \"is_parent\": false, \"frame_id\": 1, \"parent_frame_id_list\": [], \"encoded_locals\": {\"lst\": [\"REF\", 2], \"left\": [\"REF\", 8]}, \"ordered_varnames\": [\"lst\", \"left\"], \"is_zombie\": false, \"is_highlighted\": false, \"unique_hash\": \"dsdouble_f1\"}, {\"func_name\": \"dsdouble\", \"is_parent\": false, \"frame_id\": 5, \"parent_frame_id_list\": [], \"encoded_locals\": {\"lst\": [\"REF\", 9], \"left\": [\"REF\", 11]}, \"ordered_varnames\": [\"lst\", \"left\"], \"is_zombie\": false, \"is_highlighted\": false, \"unique_hash\": \"dsdouble_f5\"}, {\"func_name\": \"dsdouble\", \"is_parent\": false, \"frame_id\": 7, \"parent_frame_id_list\": [], \"encoded_locals\": {\"lst\": [\"REF\", 12]}, \"ordered_varnames\": [\"lst\"], \"is_zombie\": false, \"is_highlighted\": false, \"unique_hash\": \"dsdouble_f7\"}, {\"func_name\": \"dsdouble\", \"is_parent\": false, \"frame_id\": 8, \"parent_frame_id_list\": [], \"encoded_locals\": {\"lst\": [\"REF\", 13]}, \"ordered_varnames\": [\"lst\"], \"is_zombie\": false, \"is_highlighted\": true, \"unique_hash\": \"dsdouble_f8\"}], \"heap\": {\"13\": [\"LIST\", 7], \"12\": [\"LIST\", 7, 3], \"9\": [\"LIST\", 2, 7, 3], \"11\": [\"LIST\", 4], \"2\": [\"LIST\", 4, 6, 2, 7, 3], \"8\": [\"LIST\", 8, 12], \"1\": [\"FUNCTION\", \"dsdouble(lst)\", null]}, \"stdout\": \"\"}, {\"line\": 6, \"event\": \"step_line\", \"func_name\": \"dsdouble\", \"globals\": {\"dsdouble\": [\"REF\", 1]}, \"ordered_globals\": [\"dsdouble\"], \"stack_to_render\": [{\"func_name\": \"dsdouble\", \"is_parent\": false, \"frame_id\": 1, \"parent_frame_id_list\": [], \"encoded_locals\": {\"lst\": [\"REF\", 2], \"left\": [\"REF\", 8]}, \"ordered_varnames\": [\"lst\", \"left\"], \"is_zombie\": false, \"is_highlighted\": false, \"unique_hash\": \"dsdouble_f1\"}, {\"func_name\": \"dsdouble\", \"is_parent\": false, \"frame_id\": 5, \"parent_frame_id_list\": [], \"encoded_locals\": {\"lst\": [\"REF\", 9], \"left\": [\"REF\", 11]}, \"ordered_varnames\": [\"lst\", \"left\"], \"is_zombie\": false, \"is_highlighted\": false, \"unique_hash\": \"dsdouble_f5\"}, {\"func_name\": \"dsdouble\", \"is_parent\": false, \"frame_id\": 7, \"parent_frame_id_list\": [], \"encoded_locals\": {\"lst\": [\"REF\", 12]}, \"ordered_varnames\": [\"lst\"], \"is_zombie\": false, \"is_highlighted\": false, \"unique_hash\": \"dsdouble_f7\"}, {\"func_name\": \"dsdouble\", \"is_parent\": false, \"frame_id\": 8, \"parent_frame_id_list\": [], \"encoded_locals\": {\"lst\": [\"REF\", 13]}, \"ordered_varnames\": [\"lst\"], \"is_zombie\": false, \"is_highlighted\": true, \"unique_hash\": \"dsdouble_f8\"}], \"heap\": {\"13\": [\"LIST\", 7], \"12\": [\"LIST\", 7, 3], \"9\": [\"LIST\", 2, 7, 3], \"11\": [\"LIST\", 4], \"2\": [\"LIST\", 4, 6, 2, 7, 3], \"8\": [\"LIST\", 8, 12], \"1\": [\"FUNCTION\", \"dsdouble(lst)\", null]}, \"stdout\": \"\"}, {\"line\": 6, \"event\": \"return\", \"func_name\": \"dsdouble\", \"globals\": {\"dsdouble\": [\"REF\", 1]}, \"ordered_globals\": [\"dsdouble\"], \"stack_to_render\": [{\"func_name\": \"dsdouble\", \"is_parent\": false, \"frame_id\": 1, \"parent_frame_id_list\": [], \"encoded_locals\": {\"lst\": [\"REF\", 2], \"left\": [\"REF\", 8]}, \"ordered_varnames\": [\"lst\", \"left\"], \"is_zombie\": false, \"is_highlighted\": false, \"unique_hash\": \"dsdouble_f1\"}, {\"func_name\": \"dsdouble\", \"is_parent\": false, \"frame_id\": 5, \"parent_frame_id_list\": [], \"encoded_locals\": {\"lst\": [\"REF\", 9], \"left\": [\"REF\", 11]}, \"ordered_varnames\": [\"lst\", \"left\"], \"is_zombie\": false, \"is_highlighted\": false, \"unique_hash\": \"dsdouble_f5\"}, {\"func_name\": \"dsdouble\", \"is_parent\": false, \"frame_id\": 7, \"parent_frame_id_list\": [], \"encoded_locals\": {\"lst\": [\"REF\", 12]}, \"ordered_varnames\": [\"lst\"], \"is_zombie\": false, \"is_highlighted\": false, \"unique_hash\": \"dsdouble_f7\"}, {\"func_name\": \"dsdouble\", \"is_parent\": false, \"frame_id\": 8, \"parent_frame_id_list\": [], \"encoded_locals\": {\"lst\": [\"REF\", 13], \"__return__\": [\"REF\", 14]}, \"ordered_varnames\": [\"lst\", \"__return__\"], \"is_zombie\": false, \"is_highlighted\": true, \"unique_hash\": \"dsdouble_f8\"}], \"heap\": {\"13\": [\"LIST\", 7], \"14\": [\"LIST\", 14], \"12\": [\"LIST\", 7, 3], \"9\": [\"LIST\", 2, 7, 3], \"11\": [\"LIST\", 4], \"2\": [\"LIST\", 4, 6, 2, 7, 3], \"8\": [\"LIST\", 8, 12], \"1\": [\"FUNCTION\", \"dsdouble(lst)\", null]}, \"stdout\": \"\"}, {\"line\": 9, \"event\": \"step_line\", \"func_name\": \"dsdouble\", \"globals\": {\"dsdouble\": [\"REF\", 1]}, \"ordered_globals\": [\"dsdouble\"], \"stack_to_render\": [{\"func_name\": \"dsdouble\", \"is_parent\": false, \"frame_id\": 1, \"parent_frame_id_list\": [], \"encoded_locals\": {\"lst\": [\"REF\", 2], \"left\": [\"REF\", 8]}, \"ordered_varnames\": [\"lst\", \"left\"], \"is_zombie\": false, \"is_highlighted\": false, \"unique_hash\": \"dsdouble_f1\"}, {\"func_name\": \"dsdouble\", \"is_parent\": false, \"frame_id\": 5, \"parent_frame_id_list\": [], \"encoded_locals\": {\"lst\": [\"REF\", 9], \"left\": [\"REF\", 11]}, \"ordered_varnames\": [\"lst\", \"left\"], \"is_zombie\": false, \"is_highlighted\": false, \"unique_hash\": \"dsdouble_f5\"}, {\"func_name\": \"dsdouble\", \"is_parent\": false, \"frame_id\": 7, \"parent_frame_id_list\": [], \"encoded_locals\": {\"lst\": [\"REF\", 12], \"left\": [\"REF\", 14]}, \"ordered_varnames\": [\"lst\", \"left\"], \"is_zombie\": false, \"is_highlighted\": true, \"unique_hash\": \"dsdouble_f7\"}], \"heap\": {\"12\": [\"LIST\", 7, 3], \"14\": [\"LIST\", 14], \"9\": [\"LIST\", 2, 7, 3], \"11\": [\"LIST\", 4], \"2\": [\"LIST\", 4, 6, 2, 7, 3], \"8\": [\"LIST\", 8, 12], \"1\": [\"FUNCTION\", \"dsdouble(lst)\", null]}, \"stdout\": \"\"}, {\"line\": 2, \"event\": \"call\", \"func_name\": \"dsdouble\", \"globals\": {\"dsdouble\": [\"REF\", 1]}, \"ordered_globals\": [\"dsdouble\"], \"stack_to_render\": [{\"func_name\": \"dsdouble\", \"is_parent\": false, \"frame_id\": 1, \"parent_frame_id_list\": [], \"encoded_locals\": {\"lst\": [\"REF\", 2], \"left\": [\"REF\", 8]}, \"ordered_varnames\": [\"lst\", \"left\"], \"is_zombie\": false, \"is_highlighted\": false, \"unique_hash\": \"dsdouble_f1\"}, {\"func_name\": \"dsdouble\", \"is_parent\": false, \"frame_id\": 5, \"parent_frame_id_list\": [], \"encoded_locals\": {\"lst\": [\"REF\", 9], \"left\": [\"REF\", 11]}, \"ordered_varnames\": [\"lst\", \"left\"], \"is_zombie\": false, \"is_highlighted\": false, \"unique_hash\": \"dsdouble_f5\"}, {\"func_name\": \"dsdouble\", \"is_parent\": false, \"frame_id\": 7, \"parent_frame_id_list\": [], \"encoded_locals\": {\"lst\": [\"REF\", 12], \"left\": [\"REF\", 14]}, \"ordered_varnames\": [\"lst\", \"left\"], \"is_zombie\": false, \"is_highlighted\": false, \"unique_hash\": \"dsdouble_f7\"}, {\"func_name\": \"dsdouble\", \"is_parent\": false, \"frame_id\": 9, \"parent_frame_id_list\": [], \"encoded_locals\": {\"lst\": [\"REF\", 15]}, \"ordered_varnames\": [\"lst\"], \"is_zombie\": false, \"is_highlighted\": true, \"unique_hash\": \"dsdouble_f9\"}], \"heap\": {\"15\": [\"LIST\", 3], \"12\": [\"LIST\", 7, 3], \"14\": [\"LIST\", 14], \"9\": [\"LIST\", 2, 7, 3], \"11\": [\"LIST\", 4], \"2\": [\"LIST\", 4, 6, 2, 7, 3], \"8\": [\"LIST\", 8, 12], \"1\": [\"FUNCTION\", \"dsdouble(lst)\", null]}, \"stdout\": \"\"}, {\"line\": 3, \"event\": \"step_line\", \"func_name\": \"dsdouble\", \"globals\": {\"dsdouble\": [\"REF\", 1]}, \"ordered_globals\": [\"dsdouble\"], \"stack_to_render\": [{\"func_name\": \"dsdouble\", \"is_parent\": false, \"frame_id\": 1, \"parent_frame_id_list\": [], \"encoded_locals\": {\"lst\": [\"REF\", 2], \"left\": [\"REF\", 8]}, \"ordered_varnames\": [\"lst\", \"left\"], \"is_zombie\": false, \"is_highlighted\": false, \"unique_hash\": \"dsdouble_f1\"}, {\"func_name\": \"dsdouble\", \"is_parent\": false, \"frame_id\": 5, \"parent_frame_id_list\": [], \"encoded_locals\": {\"lst\": [\"REF\", 9], \"left\": [\"REF\", 11]}, \"ordered_varnames\": [\"lst\", \"left\"], \"is_zombie\": false, \"is_highlighted\": false, \"unique_hash\": \"dsdouble_f5\"}, {\"func_name\": \"dsdouble\", \"is_parent\": false, \"frame_id\": 7, \"parent_frame_id_list\": [], \"encoded_locals\": {\"lst\": [\"REF\", 12], \"left\": [\"REF\", 14]}, \"ordered_varnames\": [\"lst\", \"left\"], \"is_zombie\": false, \"is_highlighted\": false, \"unique_hash\": \"dsdouble_f7\"}, {\"func_name\": \"dsdouble\", \"is_parent\": false, \"frame_id\": 9, \"parent_frame_id_list\": [], \"encoded_locals\": {\"lst\": [\"REF\", 15]}, \"ordered_varnames\": [\"lst\"], \"is_zombie\": false, \"is_highlighted\": true, \"unique_hash\": \"dsdouble_f9\"}], \"heap\": {\"15\": [\"LIST\", 3], \"12\": [\"LIST\", 7, 3], \"14\": [\"LIST\", 14], \"9\": [\"LIST\", 2, 7, 3], \"11\": [\"LIST\", 4], \"2\": [\"LIST\", 4, 6, 2, 7, 3], \"8\": [\"LIST\", 8, 12], \"1\": [\"FUNCTION\", \"dsdouble(lst)\", null]}, \"stdout\": \"\"}, {\"line\": 5, \"event\": \"step_line\", \"func_name\": \"dsdouble\", \"globals\": {\"dsdouble\": [\"REF\", 1]}, \"ordered_globals\": [\"dsdouble\"], \"stack_to_render\": [{\"func_name\": \"dsdouble\", \"is_parent\": false, \"frame_id\": 1, \"parent_frame_id_list\": [], \"encoded_locals\": {\"lst\": [\"REF\", 2], \"left\": [\"REF\", 8]}, \"ordered_varnames\": [\"lst\", \"left\"], \"is_zombie\": false, \"is_highlighted\": false, \"unique_hash\": \"dsdouble_f1\"}, {\"func_name\": \"dsdouble\", \"is_parent\": false, \"frame_id\": 5, \"parent_frame_id_list\": [], \"encoded_locals\": {\"lst\": [\"REF\", 9], \"left\": [\"REF\", 11]}, \"ordered_varnames\": [\"lst\", \"left\"], \"is_zombie\": false, \"is_highlighted\": false, \"unique_hash\": \"dsdouble_f5\"}, {\"func_name\": \"dsdouble\", \"is_parent\": false, \"frame_id\": 7, \"parent_frame_id_list\": [], \"encoded_locals\": {\"lst\": [\"REF\", 12], \"left\": [\"REF\", 14]}, \"ordered_varnames\": [\"lst\", \"left\"], \"is_zombie\": false, \"is_highlighted\": false, \"unique_hash\": \"dsdouble_f7\"}, {\"func_name\": \"dsdouble\", \"is_parent\": false, \"frame_id\": 9, \"parent_frame_id_list\": [], \"encoded_locals\": {\"lst\": [\"REF\", 15]}, \"ordered_varnames\": [\"lst\"], \"is_zombie\": false, \"is_highlighted\": true, \"unique_hash\": \"dsdouble_f9\"}], \"heap\": {\"15\": [\"LIST\", 3], \"12\": [\"LIST\", 7, 3], \"14\": [\"LIST\", 14], \"9\": [\"LIST\", 2, 7, 3], \"11\": [\"LIST\", 4], \"2\": [\"LIST\", 4, 6, 2, 7, 3], \"8\": [\"LIST\", 8, 12], \"1\": [\"FUNCTION\", \"dsdouble(lst)\", null]}, \"stdout\": \"\"}, {\"line\": 6, \"event\": \"step_line\", \"func_name\": \"dsdouble\", \"globals\": {\"dsdouble\": [\"REF\", 1]}, \"ordered_globals\": [\"dsdouble\"], \"stack_to_render\": [{\"func_name\": \"dsdouble\", \"is_parent\": false, \"frame_id\": 1, \"parent_frame_id_list\": [], \"encoded_locals\": {\"lst\": [\"REF\", 2], \"left\": [\"REF\", 8]}, \"ordered_varnames\": [\"lst\", \"left\"], \"is_zombie\": false, \"is_highlighted\": false, \"unique_hash\": \"dsdouble_f1\"}, {\"func_name\": \"dsdouble\", \"is_parent\": false, \"frame_id\": 5, \"parent_frame_id_list\": [], \"encoded_locals\": {\"lst\": [\"REF\", 9], \"left\": [\"REF\", 11]}, \"ordered_varnames\": [\"lst\", \"left\"], \"is_zombie\": false, \"is_highlighted\": false, \"unique_hash\": \"dsdouble_f5\"}, {\"func_name\": \"dsdouble\", \"is_parent\": false, \"frame_id\": 7, \"parent_frame_id_list\": [], \"encoded_locals\": {\"lst\": [\"REF\", 12], \"left\": [\"REF\", 14]}, \"ordered_varnames\": [\"lst\", \"left\"], \"is_zombie\": false, \"is_highlighted\": false, \"unique_hash\": \"dsdouble_f7\"}, {\"func_name\": \"dsdouble\", \"is_parent\": false, \"frame_id\": 9, \"parent_frame_id_list\": [], \"encoded_locals\": {\"lst\": [\"REF\", 15]}, \"ordered_varnames\": [\"lst\"], \"is_zombie\": false, \"is_highlighted\": true, \"unique_hash\": \"dsdouble_f9\"}], \"heap\": {\"15\": [\"LIST\", 3], \"12\": [\"LIST\", 7, 3], \"14\": [\"LIST\", 14], \"9\": [\"LIST\", 2, 7, 3], \"11\": [\"LIST\", 4], \"2\": [\"LIST\", 4, 6, 2, 7, 3], \"8\": [\"LIST\", 8, 12], \"1\": [\"FUNCTION\", \"dsdouble(lst)\", null]}, \"stdout\": \"\"}, {\"line\": 6, \"event\": \"return\", \"func_name\": \"dsdouble\", \"globals\": {\"dsdouble\": [\"REF\", 1]}, \"ordered_globals\": [\"dsdouble\"], \"stack_to_render\": [{\"func_name\": \"dsdouble\", \"is_parent\": false, \"frame_id\": 1, \"parent_frame_id_list\": [], \"encoded_locals\": {\"lst\": [\"REF\", 2], \"left\": [\"REF\", 8]}, \"ordered_varnames\": [\"lst\", \"left\"], \"is_zombie\": false, \"is_highlighted\": false, \"unique_hash\": \"dsdouble_f1\"}, {\"func_name\": \"dsdouble\", \"is_parent\": false, \"frame_id\": 5, \"parent_frame_id_list\": [], \"encoded_locals\": {\"lst\": [\"REF\", 9], \"left\": [\"REF\", 11]}, \"ordered_varnames\": [\"lst\", \"left\"], \"is_zombie\": false, \"is_highlighted\": false, \"unique_hash\": \"dsdouble_f5\"}, {\"func_name\": \"dsdouble\", \"is_parent\": false, \"frame_id\": 7, \"parent_frame_id_list\": [], \"encoded_locals\": {\"lst\": [\"REF\", 12], \"left\": [\"REF\", 14]}, \"ordered_varnames\": [\"lst\", \"left\"], \"is_zombie\": false, \"is_highlighted\": false, \"unique_hash\": \"dsdouble_f7\"}, {\"func_name\": \"dsdouble\", \"is_parent\": false, \"frame_id\": 9, \"parent_frame_id_list\": [], \"encoded_locals\": {\"lst\": [\"REF\", 15], \"__return__\": [\"REF\", 16]}, \"ordered_varnames\": [\"lst\", \"__return__\"], \"is_zombie\": false, \"is_highlighted\": true, \"unique_hash\": \"dsdouble_f9\"}], \"heap\": {\"15\": [\"LIST\", 3], \"16\": [\"LIST\", 6], \"12\": [\"LIST\", 7, 3], \"14\": [\"LIST\", 14], \"9\": [\"LIST\", 2, 7, 3], \"11\": [\"LIST\", 4], \"2\": [\"LIST\", 4, 6, 2, 7, 3], \"8\": [\"LIST\", 8, 12], \"1\": [\"FUNCTION\", \"dsdouble(lst)\", null]}, \"stdout\": \"\"}, {\"line\": 10, \"event\": \"step_line\", \"func_name\": \"dsdouble\", \"globals\": {\"dsdouble\": [\"REF\", 1]}, \"ordered_globals\": [\"dsdouble\"], \"stack_to_render\": [{\"func_name\": \"dsdouble\", \"is_parent\": false, \"frame_id\": 1, \"parent_frame_id_list\": [], \"encoded_locals\": {\"lst\": [\"REF\", 2], \"left\": [\"REF\", 8]}, \"ordered_varnames\": [\"lst\", \"left\"], \"is_zombie\": false, \"is_highlighted\": false, \"unique_hash\": \"dsdouble_f1\"}, {\"func_name\": \"dsdouble\", \"is_parent\": false, \"frame_id\": 5, \"parent_frame_id_list\": [], \"encoded_locals\": {\"lst\": [\"REF\", 9], \"left\": [\"REF\", 11]}, \"ordered_varnames\": [\"lst\", \"left\"], \"is_zombie\": false, \"is_highlighted\": false, \"unique_hash\": \"dsdouble_f5\"}, {\"func_name\": \"dsdouble\", \"is_parent\": false, \"frame_id\": 7, \"parent_frame_id_list\": [], \"encoded_locals\": {\"lst\": [\"REF\", 12], \"left\": [\"REF\", 14], \"right\": [\"REF\", 16]}, \"ordered_varnames\": [\"lst\", \"left\", \"right\"], \"is_zombie\": false, \"is_highlighted\": true, \"unique_hash\": \"dsdouble_f7\"}], \"heap\": {\"12\": [\"LIST\", 7, 3], \"14\": [\"LIST\", 14], \"16\": [\"LIST\", 6], \"9\": [\"LIST\", 2, 7, 3], \"11\": [\"LIST\", 4], \"2\": [\"LIST\", 4, 6, 2, 7, 3], \"8\": [\"LIST\", 8, 12], \"1\": [\"FUNCTION\", \"dsdouble(lst)\", null]}, \"stdout\": \"\"}, {\"line\": 10, \"event\": \"return\", \"func_name\": \"dsdouble\", \"globals\": {\"dsdouble\": [\"REF\", 1]}, \"ordered_globals\": [\"dsdouble\"], \"stack_to_render\": [{\"func_name\": \"dsdouble\", \"is_parent\": false, \"frame_id\": 1, \"parent_frame_id_list\": [], \"encoded_locals\": {\"lst\": [\"REF\", 2], \"left\": [\"REF\", 8]}, \"ordered_varnames\": [\"lst\", \"left\"], \"is_zombie\": false, \"is_highlighted\": false, \"unique_hash\": \"dsdouble_f1\"}, {\"func_name\": \"dsdouble\", \"is_parent\": false, \"frame_id\": 5, \"parent_frame_id_list\": [], \"encoded_locals\": {\"lst\": [\"REF\", 9], \"left\": [\"REF\", 11]}, \"ordered_varnames\": [\"lst\", \"left\"], \"is_zombie\": false, \"is_highlighted\": false, \"unique_hash\": \"dsdouble_f5\"}, {\"func_name\": \"dsdouble\", \"is_parent\": false, \"frame_id\": 7, \"parent_frame_id_list\": [], \"encoded_locals\": {\"lst\": [\"REF\", 12], \"left\": [\"REF\", 14], \"right\": [\"REF\", 16], \"__return__\": [\"REF\", 17]}, \"ordered_varnames\": [\"lst\", \"left\", \"right\", \"__return__\"], \"is_zombie\": false, \"is_highlighted\": true, \"unique_hash\": \"dsdouble_f7\"}], \"heap\": {\"12\": [\"LIST\", 7, 3], \"14\": [\"LIST\", 14], \"16\": [\"LIST\", 6], \"17\": [\"LIST\", 14, 6], \"9\": [\"LIST\", 2, 7, 3], \"11\": [\"LIST\", 4], \"2\": [\"LIST\", 4, 6, 2, 7, 3], \"8\": [\"LIST\", 8, 12], \"1\": [\"FUNCTION\", \"dsdouble(lst)\", null]}, \"stdout\": \"\"}, {\"line\": 10, \"event\": \"step_line\", \"func_name\": \"dsdouble\", \"globals\": {\"dsdouble\": [\"REF\", 1]}, \"ordered_globals\": [\"dsdouble\"], \"stack_to_render\": [{\"func_name\": \"dsdouble\", \"is_parent\": false, \"frame_id\": 1, \"parent_frame_id_list\": [], \"encoded_locals\": {\"lst\": [\"REF\", 2], \"left\": [\"REF\", 8]}, \"ordered_varnames\": [\"lst\", \"left\"], \"is_zombie\": false, \"is_highlighted\": false, \"unique_hash\": \"dsdouble_f1\"}, {\"func_name\": \"dsdouble\", \"is_parent\": false, \"frame_id\": 5, \"parent_frame_id_list\": [], \"encoded_locals\": {\"lst\": [\"REF\", 9], \"left\": [\"REF\", 11], \"right\": [\"REF\", 17]}, \"ordered_varnames\": [\"lst\", \"left\", \"right\"], \"is_zombie\": false, \"is_highlighted\": true, \"unique_hash\": \"dsdouble_f5\"}], \"heap\": {\"9\": [\"LIST\", 2, 7, 3], \"11\": [\"LIST\", 4], \"17\": [\"LIST\", 14, 6], \"2\": [\"LIST\", 4, 6, 2, 7, 3], \"8\": [\"LIST\", 8, 12], \"1\": [\"FUNCTION\", \"dsdouble(lst)\", null]}, \"stdout\": \"\"}, {\"line\": 10, \"event\": \"return\", \"func_name\": \"dsdouble\", \"globals\": {\"dsdouble\": [\"REF\", 1]}, \"ordered_globals\": [\"dsdouble\"], \"stack_to_render\": [{\"func_name\": \"dsdouble\", \"is_parent\": false, \"frame_id\": 1, \"parent_frame_id_list\": [], \"encoded_locals\": {\"lst\": [\"REF\", 2], \"left\": [\"REF\", 8]}, \"ordered_varnames\": [\"lst\", \"left\"], \"is_zombie\": false, \"is_highlighted\": false, \"unique_hash\": \"dsdouble_f1\"}, {\"func_name\": \"dsdouble\", \"is_parent\": false, \"frame_id\": 5, \"parent_frame_id_list\": [], \"encoded_locals\": {\"lst\": [\"REF\", 9], \"left\": [\"REF\", 11], \"right\": [\"REF\", 17], \"__return__\": [\"REF\", 18]}, \"ordered_varnames\": [\"lst\", \"left\", \"right\", \"__return__\"], \"is_zombie\": false, \"is_highlighted\": true, \"unique_hash\": \"dsdouble_f5\"}], \"heap\": {\"9\": [\"LIST\", 2, 7, 3], \"11\": [\"LIST\", 4], \"17\": [\"LIST\", 14, 6], \"18\": [\"LIST\", 4, 14, 6], \"2\": [\"LIST\", 4, 6, 2, 7, 3], \"8\": [\"LIST\", 8, 12], \"1\": [\"FUNCTION\", \"dsdouble(lst)\", null]}, \"stdout\": \"\"}, {\"line\": 10, \"event\": \"step_line\", \"func_name\": \"dsdouble\", \"globals\": {\"dsdouble\": [\"REF\", 1]}, \"ordered_globals\": [\"dsdouble\"], \"stack_to_render\": [{\"func_name\": \"dsdouble\", \"is_parent\": false, \"frame_id\": 1, \"parent_frame_id_list\": [], \"encoded_locals\": {\"lst\": [\"REF\", 2], \"left\": [\"REF\", 8], \"right\": [\"REF\", 18]}, \"ordered_varnames\": [\"lst\", \"left\", \"right\"], \"is_zombie\": false, \"is_highlighted\": true, \"unique_hash\": \"dsdouble_f1\"}], \"heap\": {\"2\": [\"LIST\", 4, 6, 2, 7, 3], \"8\": [\"LIST\", 8, 12], \"18\": [\"LIST\", 4, 14, 6], \"1\": [\"FUNCTION\", \"dsdouble(lst)\", null]}, \"stdout\": \"\"}, {\"line\": 10, \"event\": \"return\", \"func_name\": \"dsdouble\", \"globals\": {\"dsdouble\": [\"REF\", 1]}, \"ordered_globals\": [\"dsdouble\"], \"stack_to_render\": [{\"func_name\": \"dsdouble\", \"is_parent\": false, \"frame_id\": 1, \"parent_frame_id_list\": [], \"encoded_locals\": {\"lst\": [\"REF\", 2], \"left\": [\"REF\", 8], \"right\": [\"REF\", 18], \"__return__\": [\"REF\", 19]}, \"ordered_varnames\": [\"lst\", \"left\", \"right\", \"__return__\"], \"is_zombie\": false, \"is_highlighted\": true, \"unique_hash\": \"dsdouble_f1\"}], \"heap\": {\"2\": [\"LIST\", 4, 6, 2, 7, 3], \"8\": [\"LIST\", 8, 12], \"18\": [\"LIST\", 4, 14, 6], \"19\": [\"LIST\", 8, 12, 4, 14, 6], \"1\": [\"FUNCTION\", \"dsdouble(lst)\", null]}, \"stdout\": \"\"}, {\"line\": 12, \"event\": \"return\", \"func_name\": \"<module>\", \"globals\": {\"dsdouble\": [\"REF\", 1], \"result\": [\"REF\", 19]}, \"ordered_globals\": [\"dsdouble\", \"result\"], \"stack_to_render\": [], \"heap\": {\"1\": [\"FUNCTION\", \"dsdouble(lst)\", null], \"19\": [\"LIST\", 8, 12, 4, 14, 6]}, \"stdout\": \"\"}]}\n",
       "        </script>\n",
       "        <div id=\"jm2acaf145-62b1-4425-9eec-53771063a37d\" class=\"pytutorVisualizer\"> </div>\n",
       " \n",
       "        <style>\n",
       "        .vizLayoutTd {\n",
       "            background-color: #fff !important;\n",
       "        }\n",
       "                            \n",
       "        #pyStdout {\n",
       "            min-height:25px;\n",
       "        }\n",
       "\n",
       "        /* 'Edit this code' link, hiding because replaces browser tab !!!*/\n",
       "        #editCodeLinkDiv {\n",
       "            display:none;  \n",
       "        }\n",
       "        </style>   \n",
       "                            \n",
       "        <script>\n",
       "        (function(){\n",
       "\n",
       "            var trace = JSON.parse(document.getElementById('json-jm2acaf145-62b1-4425-9eec-53771063a37d').innerHTML);                                        \n",
       "            // NOTE 1: id without #\n",
       "            // NOTE 2 - maybe there are more predictable ways, but this will work anyway\n",
       "            //        - id should be number\n",
       "            visualizerIdOverride = Math.trunc(Math.random() * 100000000000)\n",
       "            addVisualizerToPage(trace, 'jm2acaf145-62b1-4425-9eec-53771063a37d',{'embeddedMode' : false,\n",
       "                                             'visualizerIdOverride':visualizerIdOverride})  \n",
       "            \n",
       "            \n",
       "            // set overflow for pytuts - need to do in python as css \n",
       "            // does not allow parent selection\n",
       "            var pytuts = $('.pytutorVisualizer')\n",
       "            pytuts.closest('div.output_html.rendered_html.output_result')\n",
       "                    .css('overflow-x', 'visible')\n",
       "        \n",
       "            //pytuts.closest('div.output_html.rendered_html.output_result')\n",
       "            //      .css('background-color','red')                \n",
       "            \n",
       "        })()\n",
       "        </script>\n",
       "                \n",
       "                "
      ],
      "text/plain": [
       "<IPython.core.display.HTML object>"
      ]
     },
     "execution_count": 2,
     "metadata": {},
     "output_type": "execute_result"
    }
   ],
   "source": [
    "def dsdouble(lst):    \n",
    "    if len(lst) == 0:            # base case\n",
    "        return []                \n",
    "    elif len(lst) == 1:          # base case\n",
    "        return [lst[0] * 2]      \n",
    "    else:\n",
    "        left = dsdouble(lst[:len(lst)//2])   \n",
    "        right = dsdouble(lst[len(lst)//2:])\n",
    "        return left + right\n",
    "    \n",
    "result = dsdouble([4,6,2,7,3])\n",
    "jupman.pytut()"
   ]
  },
  {
   "cell_type": "code",
   "execution_count": 3,
   "id": "4549a311-stripped",
   "metadata": {
    "nbsphinx": "hidden"
   },
   "outputs": [],
   "source": [],
   "transient": {
    "remove_source": true
   }
  },
  {
   "cell_type": "markdown",
   "id": "65fc8524",
   "metadata": {},
   "source": [
    "### Exercise - debug dsdouble\n",
    "\n",
    "Add a `level` parameter and some debugging indented print to the function"
   ]
  },
  {
   "cell_type": "raw",
   "id": "713abac3",
   "metadata": {
    "format": "text/html"
   },
   "source": [
    "<a  class=\"jupman-sol jupman-sol-toggler\" \n",
    " onclick=\"jupman.toggleSolution(this);\" \n",
    " data-jupman-show=\"Show solution\" data-jupman-hide=\"Hide\">Show solution</a><div class=\"jupman-sol jupman-sol-code\" style=\"display:none\">  "
   ]
  },
  {
   "cell_type": "code",
   "execution_count": 4,
   "id": "6863a9b7",
   "metadata": {},
   "outputs": [
    {
     "name": "stdout",
     "output_type": "stream",
     "text": [
      " lst= [4, 6, 2, 7, 3]\n",
      " left call\n",
      "   lst= [4, 6]\n",
      "   left call\n",
      "     lst= [4]\n",
      "   left= [8]\n",
      "   right call\n",
      "     lst= [6]\n",
      "   right= [12]\n",
      " left= [8, 12]\n",
      " right call\n",
      "   lst= [2, 7, 3]\n",
      "   left call\n",
      "     lst= [2]\n",
      "   left= [4]\n",
      "   right call\n",
      "     lst= [7, 3]\n",
      "     left call\n",
      "       lst= [7]\n",
      "     left= [14]\n",
      "     right call\n",
      "       lst= [3]\n",
      "     right= [6]\n",
      "   right= [14, 6]\n",
      " right= [4, 14, 6]\n",
      "final result= [8, 12, 4, 14, 6]\n"
     ]
    }
   ],
   "source": [
    "\n",
    "def dsdouble(lst, level=0):\n",
    "    print('  '*level, 'lst=', lst)\n",
    "    if len(lst) == 0:\n",
    "        return []\n",
    "    elif len(lst) == 1:\n",
    "        return [lst[0] * 2]\n",
    "    else:\n",
    "        print('  '*level, 'left call')\n",
    "        left = dsdouble(lst[:len(lst)//2], level + 1)   \n",
    "        print('  ' * level, 'left=', left)\n",
    "        print('  '*level, 'right call')\n",
    "        right = dsdouble(lst[len(lst)//2:], level + 1)\n",
    "        print('  ' * level, 'right=', right)\n",
    "        return left + right\n",
    "\n",
    "\n",
    "result = dsdouble([4,6,2,7,3])\n",
    "print('final result=', result)"
   ]
  },
  {
   "cell_type": "raw",
   "id": "1ef9c28a",
   "metadata": {
    "format": "text/html"
   },
   "source": [
    "</div>"
   ]
  },
  {
   "cell_type": "code",
   "execution_count": 4,
   "id": "6863a9b7-stripped",
   "metadata": {},
   "outputs": [
    {
     "name": "stdout",
     "output_type": "stream",
     "text": [
      " lst= [4, 6, 2, 7, 3]\n",
      " left call\n",
      "   lst= [4, 6]\n",
      "   left call\n",
      "     lst= [4]\n",
      "   left= [8]\n",
      "   right call\n",
      "     lst= [6]\n",
      "   right= [12]\n",
      " left= [8, 12]\n",
      " right call\n",
      "   lst= [2, 7, 3]\n",
      "   left call\n",
      "     lst= [2]\n",
      "   left= [4]\n",
      "   right call\n",
      "     lst= [7, 3]\n",
      "     left call\n",
      "       lst= [7]\n",
      "     left= [14]\n",
      "     right call\n",
      "       lst= [3]\n",
      "     right= [6]\n",
      "   right= [14, 6]\n",
      " right= [4, 14, 6]\n",
      "final result= [8, 12, 4, 14, 6]\n"
     ]
    }
   ],
   "source": [
    "\n",
    "\n",
    "result = dsdouble([4,6,2,7,3])\n",
    "print('final result=', result)"
   ]
  },
  {
   "cell_type": "code",
   "execution_count": 5,
   "id": "baa8e09f-stripped",
   "metadata": {
    "nbsphinx": "hidden"
   },
   "outputs": [],
   "source": [],
   "transient": {
    "remove_source": true
   }
  },
  {
   "cell_type": "markdown",
   "id": "e0444238",
   "metadata": {},
   "source": [
    "### Exercise - dssum\n",
    "\n",
    "Takes a `lst` of numbers and RETURN the sum of all numbers.\n",
    "\n",
    "* **USE** SimpleFP style with a divide and conquer strategy.\n",
    "* **DO NOT** use `sum` function ;-)"
   ]
  },
  {
   "cell_type": "raw",
   "id": "7d7dd2b1",
   "metadata": {
    "format": "text/html"
   },
   "source": [
    "<a  class=\"jupman-sol jupman-sol-toggler\" \n",
    " onclick=\"jupman.toggleSolution(this);\" \n",
    " data-jupman-show=\"Show solution\" data-jupman-hide=\"Hide\">Show solution</a><div class=\"jupman-sol jupman-sol-code\" style=\"display:none\">  "
   ]
  },
  {
   "cell_type": "code",
   "execution_count": 6,
   "id": "e85d1aa4",
   "metadata": {},
   "outputs": [
    {
     "name": "stdout",
     "output_type": "stream",
     "text": [
      "15\n"
     ]
    }
   ],
   "source": [
    "\n",
    "def dssum(lst):\n",
    "    \n",
    "    if len(lst) == 0:\n",
    "        return 0\n",
    "    else:\n",
    "        return lst[0] + dssum(lst[1:])\n",
    "    \n",
    "    if len(lst) == 0:\n",
    "        return 0        \n",
    "    else:\n",
    "        k = len(lst) // 2\n",
    "        res1 = dssum(lst[:k])\n",
    "        res2 = dssum(lst[k:])\n",
    "        return res1 + lst[k] + res2\n",
    "    \n",
    "    \n",
    "result = dssum([4,2,6,3])\n",
    "print(result)  # 15\n",
    "    \n",
    "assert dssum([4,2,6,3]) == 15\n",
    "assert dssum([]) == 0\n",
    "assert dssum([3]) == 3\n",
    "assert dssum([5,1]) == 6"
   ]
  },
  {
   "cell_type": "raw",
   "id": "b5654507",
   "metadata": {
    "format": "text/html"
   },
   "source": [
    "</div>"
   ]
  },
  {
   "cell_type": "code",
   "execution_count": 6,
   "id": "e85d1aa4-stripped",
   "metadata": {},
   "outputs": [],
   "source": [
    "\n",
    "def dssum(lst):\n",
    "    raise Exception('TODO IMPLEMENT ME !')\n",
    "    \n",
    "result = dssum([4,2,6,3])\n",
    "print(result)  # 15\n",
    "    \n",
    "assert dssum([4,2,6,3]) == 15\n",
    "assert dssum([]) == 0\n",
    "assert dssum([3]) == 3\n",
    "assert dssum([5,1]) == 6"
   ]
  },
  {
   "cell_type": "markdown",
   "id": "2340c948",
   "metadata": {},
   "source": [
    "### Exercise - dsmin\n",
    "\n",
    "Given a `lst` of numbers, RETURN the minimum\n",
    "\n",
    "- **assume the list has at least one element**\n",
    "- **USE** SimpleFP style with a divide and conquer strategy\n",
    "- **DON'T** use `min` function.."
   ]
  },
  {
   "cell_type": "raw",
   "id": "91900d27",
   "metadata": {
    "format": "text/html"
   },
   "source": [
    "<a  class=\"jupman-sol jupman-sol-toggler\" \n",
    " onclick=\"jupman.toggleSolution(this);\" \n",
    " data-jupman-show=\"Show solution\" data-jupman-hide=\"Hide\">Show solution</a><div class=\"jupman-sol jupman-sol-code\" style=\"display:none\">  "
   ]
  },
  {
   "cell_type": "code",
   "execution_count": 7,
   "id": "13d53f8d",
   "metadata": {},
   "outputs": [
    {
     "name": "stdout",
     "output_type": "stream",
     "text": [
      "-10\n"
     ]
    }
   ],
   "source": [
    "\n",
    "\n",
    "def dsmin(lst):    \n",
    "    \n",
    "    if len(lst) == 1:\n",
    "        return lst[0]\n",
    "    else:\n",
    "        k = len(lst) // 2\n",
    "        res1 = dsmin(lst[:k])\n",
    "        res2 = dsmin(lst[k:])\n",
    "        if res1 < res2:\n",
    "            return res1\n",
    "        else:\n",
    "            return res2\n",
    "    \n",
    "    \n",
    "result = dsmin([3,6,5,8,-3,8,-2,-10,4])\n",
    "print(result)  # -10\n",
    "\n",
    "assert dsmin([4]) == 4\n",
    "assert dsmin([4,1]) == 1\n",
    "assert dsmin([0,9]) == 0\n",
    "assert dsmin([6,8,5]) == 5\n",
    "assert dsmin([3,6,5,8,3,8,2,10,4]) == 2"
   ]
  },
  {
   "cell_type": "raw",
   "id": "09ea870e",
   "metadata": {
    "format": "text/html"
   },
   "source": [
    "</div>"
   ]
  },
  {
   "cell_type": "code",
   "execution_count": 7,
   "id": "13d53f8d-stripped",
   "metadata": {},
   "outputs": [],
   "source": [
    "\n",
    "\n",
    "def dsmin(lst):    \n",
    "    raise Exception('TODO IMPLEMENT ME !')\n",
    "    \n",
    "result = dsmin([3,6,5,8,-3,8,-2,-10,4])\n",
    "print(result)  # -10\n",
    "\n",
    "assert dsmin([4]) == 4\n",
    "assert dsmin([4,1]) == 1\n",
    "assert dsmin([0,9]) == 0\n",
    "assert dsmin([6,8,5]) == 5\n",
    "assert dsmin([3,6,5,8,3,8,2,10,4]) == 2"
   ]
  },
  {
   "cell_type": "markdown",
   "id": "91fdc331",
   "metadata": {},
   "source": [
    "### Exercise - dszip\n",
    "\n",
    "Given two lists, RETURN a NEW list having two-element tuples with elements taken pairwise from `lst1` and `lst2`\n",
    "\n",
    "* **USE** SimpleFP style with a divide and conquer strategy\n",
    "* **DO NOT** use `zip` function"
   ]
  },
  {
   "cell_type": "raw",
   "id": "b0423dc1",
   "metadata": {
    "format": "text/html"
   },
   "source": [
    "<a  class=\"jupman-sol jupman-sol-toggler\" \n",
    " onclick=\"jupman.toggleSolution(this);\" \n",
    " data-jupman-show=\"Show solution\" data-jupman-hide=\"Hide\">Show solution</a><div class=\"jupman-sol jupman-sol-code\" style=\"display:none\">  "
   ]
  },
  {
   "cell_type": "code",
   "execution_count": 8,
   "id": "110a1a2e",
   "metadata": {},
   "outputs": [
    {
     "name": "stdout",
     "output_type": "stream",
     "text": [
      "[(3, 'a'), (5, 'd'), (1, 'e'), (6, 'w')]\n"
     ]
    }
   ],
   "source": [
    "\n",
    "def dszip(lst1, lst2):\n",
    "    \n",
    "    if len(lst1) == 0:\n",
    "        return []\n",
    "    else:\n",
    "        k = len(lst1) // 2\n",
    "        mt = [(lst1[k], lst2[k])]\n",
    "        res1 = dszip(lst1[:k], lst2[:k])\n",
    "        res2 = dszip(lst1[k+1:], lst2[k+1:])\n",
    "        return res1 + mt + res2        \n",
    "    \n",
    "    \n",
    "result = dszip([3,5,1,6], ['a','d','e','w'])    \n",
    "print(result)  # [(3,'a'), (5,'d'), (1,'e'), (6,'w')]\n",
    "\n",
    "assert dszip([], []) == []\n",
    "assert dszip(['a'], [0]) == [('a',0)]\n",
    "assert dszip(['z','a'], [2,4]) == [('z',2), ('a',4)]\n",
    "assert dszip([3,5,1,6], ['a','d','e','w']) == [(3,'a'), (5,'d'), (1,'e'), (6,'w')]"
   ]
  },
  {
   "cell_type": "raw",
   "id": "3f9735aa",
   "metadata": {
    "format": "text/html"
   },
   "source": [
    "</div>"
   ]
  },
  {
   "cell_type": "code",
   "execution_count": 8,
   "id": "110a1a2e-stripped",
   "metadata": {},
   "outputs": [],
   "source": [
    "\n",
    "def dszip(lst1, lst2):\n",
    "    raise Exception('TODO IMPLEMENT ME !')\n",
    "    \n",
    "result = dszip([3,5,1,6], ['a','d','e','w'])    \n",
    "print(result)  # [(3,'a'), (5,'d'), (1,'e'), (6,'w')]\n",
    "\n",
    "assert dszip([], []) == []\n",
    "assert dszip(['a'], [0]) == [('a',0)]\n",
    "assert dszip(['z','a'], [2,4]) == [('z',2), ('a',4)]\n",
    "assert dszip([3,5,1,6], ['a','d','e','w']) == [(3,'a'), (5,'d'), (1,'e'), (6,'w')]"
   ]
  },
  {
   "cell_type": "markdown",
   "id": "ecb157d7",
   "metadata": {},
   "source": [
    "### Exercise - dsunnest \n",
    "\n",
    "Given a `lst` of lists, RETURN a NEW list without sublists (also called _shallow unnest_)\n",
    "\n",
    "* assume sublists cannot have further sublists inside\n",
    "* **USE** SimpleFP style with a divide and conquer strategy"
   ]
  },
  {
   "cell_type": "raw",
   "id": "b555ae6e",
   "metadata": {
    "format": "text/html"
   },
   "source": [
    "<a  class=\"jupman-sol jupman-sol-toggler\" \n",
    " onclick=\"jupman.toggleSolution(this);\" \n",
    " data-jupman-show=\"Show solution\" data-jupman-hide=\"Hide\">Show solution</a><div class=\"jupman-sol jupman-sol-code\" style=\"display:none\">  "
   ]
  },
  {
   "cell_type": "code",
   "execution_count": 9,
   "id": "0f939192",
   "metadata": {},
   "outputs": [
    {
     "name": "stdout",
     "output_type": "stream",
     "text": [
      "[3, 2, 5, 2, 4, 0, 9, 5, 1]\n"
     ]
    }
   ],
   "source": [
    "\n",
    "def dsunnest(lst):\n",
    "    \n",
    "    if len(lst) == 0:\n",
    "        return []\n",
    "    else:\n",
    "        k = len(lst) // 2\n",
    "        res1 = dsunnest(lst[:k])\n",
    "        res2 = dsunnest(lst[k+1:])\n",
    "        return res1 + lst[k] + res2        \n",
    "        \n",
    "result = dsunnest([[3,2,5], [2,4], [0,9,5,1]])    \n",
    "print(result)  # [3,2,5,2,4,0,9,5,1]\n",
    "    \n",
    "assert dsunnest([]) == []\n",
    "assert dsunnest([[]]) == []\n",
    "assert dsunnest([[],[]]) == []\n",
    "assert dsunnest([[],[4]]) == [4]\n",
    "assert dsunnest([[3],[]]) == [3]\n",
    "assert dsunnest([[3,2]]) == [3,2]\n",
    "assert dsunnest([[3,2]]) == [3,2]\n",
    "assert dsunnest([[3,2,5], [2,4], [0,9,5,1]]) == [3,2,5,2,4,0,9,5,1]"
   ]
  },
  {
   "cell_type": "raw",
   "id": "e8cab388",
   "metadata": {
    "format": "text/html"
   },
   "source": [
    "</div>"
   ]
  },
  {
   "cell_type": "code",
   "execution_count": 9,
   "id": "0f939192-stripped",
   "metadata": {},
   "outputs": [],
   "source": [
    "\n",
    "def dsunnest(lst):\n",
    "    raise Exception('TODO IMPLEMENT ME !')    \n",
    "result = dsunnest([[3,2,5], [2,4], [0,9,5,1]])    \n",
    "print(result)  # [3,2,5,2,4,0,9,5,1]\n",
    "    \n",
    "assert dsunnest([]) == []\n",
    "assert dsunnest([[]]) == []\n",
    "assert dsunnest([[],[]]) == []\n",
    "assert dsunnest([[],[4]]) == [4]\n",
    "assert dsunnest([[3],[]]) == [3]\n",
    "assert dsunnest([[3,2]]) == [3,2]\n",
    "assert dsunnest([[3,2]]) == [3,2]\n",
    "assert dsunnest([[3,2,5], [2,4], [0,9,5,1]]) == [3,2,5,2,4,0,9,5,1]"
   ]
  },
  {
   "cell_type": "markdown",
   "id": "4f033603",
   "metadata": {},
   "source": [
    "### Exercise - dsall\n",
    "\n",
    "Given a `lst` of booleans, RETURN `True` if all elements are `True`, otherwise RETURN `False`\n",
    "\n",
    "* **DO NOT** use `all` function\n",
    "* assume `dsall` of empty list is `True`\n",
    "* **USE** SimpleFP style with a divide and conquer strategy\n",
    "* **HINT**: consider exploiting [Boolean evaluation order](https://en.softpython.org/basics/basics2-bools-sol.html#Evaluation-order) to shorten your code"
   ]
  },
  {
   "cell_type": "raw",
   "id": "a8bd9a6c",
   "metadata": {
    "format": "text/html"
   },
   "source": [
    "<a  class=\"jupman-sol jupman-sol-toggler\" \n",
    " onclick=\"jupman.toggleSolution(this);\" \n",
    " data-jupman-show=\"Show solution\" data-jupman-hide=\"Hide\">Show solution</a><div class=\"jupman-sol jupman-sol-code\" style=\"display:none\">  "
   ]
  },
  {
   "cell_type": "code",
   "execution_count": 10,
   "id": "f7516fa8",
   "metadata": {},
   "outputs": [],
   "source": [
    "\n",
    "def dsall(lst):\n",
    "    \n",
    "    if len(lst) == 0:\n",
    "        return True\n",
    "    else:\n",
    "        k = len(lst) // 2        \n",
    "        # note that the first expression to become zero prevents further execution of the following ones\n",
    "        # because of boolean evaluation order\n",
    "        return lst[k] and dsall(lst[:k]) and dsall(lst[k+1:])  \n",
    "        \n",
    "    \n",
    "assert dsall([]) == True\n",
    "assert dsall([True]) == True\n",
    "assert dsall([False]) == False\n",
    "assert dsall([False, False]) == False\n",
    "assert dsall([False, True]) == False\n",
    "assert dsall([True, False]) == False\n",
    "assert dsall([True, True]) == True\n",
    "assert dsall([False, False, False]) == False\n",
    "assert dsall([False, False, True]) == False\n",
    "assert dsall([False, True, False]) == False\n",
    "assert dsall([False, True, True]) == False\n",
    "assert dsall([True, False, False]) == False\n",
    "assert dsall([True, False, True]) == False\n",
    "assert dsall([True, True, False]) == False\n",
    "assert dsall([True, True, True]) == True"
   ]
  },
  {
   "cell_type": "raw",
   "id": "1275a9c6",
   "metadata": {
    "format": "text/html"
   },
   "source": [
    "</div>"
   ]
  },
  {
   "cell_type": "code",
   "execution_count": 10,
   "id": "f7516fa8-stripped",
   "metadata": {},
   "outputs": [],
   "source": [
    "\n",
    "def dsall(lst):\n",
    "    raise Exception('TODO IMPLEMENT ME !')    \n",
    "    \n",
    "assert dsall([]) == True\n",
    "assert dsall([True]) == True\n",
    "assert dsall([False]) == False\n",
    "assert dsall([False, False]) == False\n",
    "assert dsall([False, True]) == False\n",
    "assert dsall([True, False]) == False\n",
    "assert dsall([True, True]) == True\n",
    "assert dsall([False, False, False]) == False\n",
    "assert dsall([False, False, True]) == False\n",
    "assert dsall([False, True, False]) == False\n",
    "assert dsall([False, True, True]) == False\n",
    "assert dsall([True, False, False]) == False\n",
    "assert dsall([True, False, True]) == False\n",
    "assert dsall([True, True, False]) == False\n",
    "assert dsall([True, True, True]) == True"
   ]
  },
  {
   "cell_type": "markdown",
   "id": "89964dbe",
   "metadata": {},
   "source": [
    "### Exercise - dsrev\n",
    "\n",
    "Given a list, RETURN a NEW list reversed.\n",
    "\n",
    "* **USE** SimpleFP style with a divide and conquer strategy\n",
    "- **DO NOT** use `reversed` function\n"
   ]
  },
  {
   "cell_type": "raw",
   "id": "6012ab79",
   "metadata": {
    "format": "text/html"
   },
   "source": [
    "<a  class=\"jupman-sol jupman-sol-toggler\" \n",
    " onclick=\"jupman.toggleSolution(this);\" \n",
    " data-jupman-show=\"Show solution\" data-jupman-hide=\"Hide\">Show solution</a><div class=\"jupman-sol jupman-sol-code\" style=\"display:none\">  "
   ]
  },
  {
   "cell_type": "code",
   "execution_count": 11,
   "id": "be413582",
   "metadata": {},
   "outputs": [
    {
     "name": "stdout",
     "output_type": "stream",
     "text": [
      "[6, 5, 7, 9, 4]\n"
     ]
    }
   ],
   "source": [
    "\n",
    "def dsrev(lst):\n",
    "    \n",
    "    if len(lst) == 0:\n",
    "        return []\n",
    "    else:\n",
    "        k = len(lst) // 2\n",
    "        res1 = dsrev(lst[:k])\n",
    "        res2 = dsrev(lst[k+1:])\n",
    "        return res2 + [lst[k]] + res1\n",
    "    \n",
    "    \n",
    "result = dsrev([4,9,7,5,6])\n",
    "print(result)\n",
    "\n",
    "assert dsrev([]) == []\n",
    "assert dsrev([3]) == [3]\n",
    "assert dsrev([5,3]) == [3,5]\n",
    "assert dsrev([6,6,2]) == [2,6,6]\n",
    "assert dsrev([4,9,7,5,6]) == [6,5,7,9,4]"
   ]
  },
  {
   "cell_type": "raw",
   "id": "36e9a192",
   "metadata": {
    "format": "text/html"
   },
   "source": [
    "</div>"
   ]
  },
  {
   "cell_type": "code",
   "execution_count": 11,
   "id": "be413582-stripped",
   "metadata": {},
   "outputs": [],
   "source": [
    "\n",
    "def dsrev(lst):\n",
    "    raise Exception('TODO IMPLEMENT ME !')\n",
    "    \n",
    "result = dsrev([4,9,7,5,6])\n",
    "print(result)\n",
    "\n",
    "assert dsrev([]) == []\n",
    "assert dsrev([3]) == [3]\n",
    "assert dsrev([5,3]) == [3,5]\n",
    "assert dsrev([6,6,2]) == [2,6,6]\n",
    "assert dsrev([4,9,7,5,6]) == [6,5,7,9,4]"
   ]
  },
  {
   "cell_type": "markdown",
   "id": "ff9cdac4",
   "metadata": {},
   "source": [
    "### Exercise - dsrep\n",
    "\n",
    "Given a list `la`, and a list `lb` of integer numbers $\\geq 0$, RETURN a NEW list where all elements of `la` are repeated the amount of times indicated in the corresponding cell of `lb`.\n",
    "A bit hard, but gives satisfaction.\n",
    "\n",
    "* assume `la` and `lb` have the same size\n",
    "* **USE** SimpleFP style with a divide and conquer strategy\n",
    "* **DO NOT** use `*` replication operator\n",
    "* **HINT**: since both lists have equal length, you can apply splitting logic to both\n"
   ]
  },
  {
   "cell_type": "raw",
   "id": "f884713c",
   "metadata": {
    "format": "text/html"
   },
   "source": [
    "<a  class=\"jupman-sol jupman-sol-toggler\" \n",
    " onclick=\"jupman.toggleSolution(this);\" \n",
    " data-jupman-show=\"Show solution\" data-jupman-hide=\"Hide\">Show solution</a><div class=\"jupman-sol jupman-sol-code\" style=\"display:none\">  "
   ]
  },
  {
   "cell_type": "code",
   "execution_count": 12,
   "id": "8ae7bf73",
   "metadata": {},
   "outputs": [
    {
     "name": "stdout",
     "output_type": "stream",
     "text": [
      "['a', 'a', 'b', 'b', 'b', 'b', 'b', 'd', 'd', 'd']\n"
     ]
    }
   ],
   "source": [
    "\n",
    "\n",
    "def dsrep(la, lb):\n",
    "    \n",
    "    \n",
    "    if len(la) == 0:\n",
    "        return []\n",
    "    else:\n",
    "        k = len(la) // 2\n",
    "        if lb[k] == 0:                        \n",
    "            res1 = dsrep(la[:k], lb[:k])\n",
    "            res2 = dsrep(la[k+1:], lb[k+1:])\n",
    "            return res1 + res2\n",
    "        else:            \n",
    "            res1 = dsrep(la[:k], lb[:k])\n",
    "            res2 = dsrep(la[k:], [lb[k]-1] + lb[k+1:])\n",
    "            return res1 + [la[k]] + res2                        \n",
    "    \n",
    "    \n",
    "result = dsrep(['a','b','c','d'], [2,5,0,3]) \n",
    "print(result) # ['a','a','b','b','b','b','b','d','d','d']    \n",
    "    \n",
    "assert dsrep([], []) == []\n",
    "assert dsrep(['a'], [1]) == ['a']\n",
    "assert dsrep(['a'], [0]) == []\n",
    "assert dsrep(['b'], [2]) == ['b','b']\n",
    "assert dsrep(['a','b'], [1,1]) == ['a','b']\n",
    "assert dsrep(['a','b'], [1,2]) == ['a','b','b']\n",
    "assert dsrep(['a','b'], [2,1]) == ['a','a','b']\n",
    "assert dsrep(['a','b'], [2,0]) == ['a','a']\n",
    "assert dsrep(['a','b'], [0,2]) == ['b','b']\n",
    "assert dsrep(['a','b','c'], [1,1,1]) == ['a','b','c']\n",
    "assert dsrep(['a','b','c'], [0,1,1]) == ['b','c']\n",
    "assert dsrep(['a','b','c'], [0,1,0]) == ['b']\n",
    "assert dsrep(['a','b','c'], [3,1,2]) == ['a','a','a','b','c','c']\n",
    "assert dsrep(['a','b','c','d'], [2,5,0,3]) == ['a','a','b','b','b','b','b','d','d','d']"
   ]
  },
  {
   "cell_type": "raw",
   "id": "03263bdf",
   "metadata": {
    "format": "text/html"
   },
   "source": [
    "</div>"
   ]
  },
  {
   "cell_type": "code",
   "execution_count": 12,
   "id": "8ae7bf73-stripped",
   "metadata": {},
   "outputs": [],
   "source": [
    "\n",
    "\n",
    "def dsrep(la, lb):\n",
    "    raise Exception('TODO IMPLEMENT ME !')\n",
    "    \n",
    "result = dsrep(['a','b','c','d'], [2,5,0,3]) \n",
    "print(result) # ['a','a','b','b','b','b','b','d','d','d']    \n",
    "    \n",
    "assert dsrep([], []) == []\n",
    "assert dsrep(['a'], [1]) == ['a']\n",
    "assert dsrep(['a'], [0]) == []\n",
    "assert dsrep(['b'], [2]) == ['b','b']\n",
    "assert dsrep(['a','b'], [1,1]) == ['a','b']\n",
    "assert dsrep(['a','b'], [1,2]) == ['a','b','b']\n",
    "assert dsrep(['a','b'], [2,1]) == ['a','a','b']\n",
    "assert dsrep(['a','b'], [2,0]) == ['a','a']\n",
    "assert dsrep(['a','b'], [0,2]) == ['b','b']\n",
    "assert dsrep(['a','b','c'], [1,1,1]) == ['a','b','c']\n",
    "assert dsrep(['a','b','c'], [0,1,1]) == ['b','c']\n",
    "assert dsrep(['a','b','c'], [0,1,0]) == ['b']\n",
    "assert dsrep(['a','b','c'], [3,1,2]) == ['a','a','a','b','c','c']\n",
    "assert dsrep(['a','b','c','d'], [2,5,0,3]) == ['a','a','b','b','b','b','b','d','d','d']"
   ]
  },
  {
   "cell_type": "markdown",
   "id": "62646198",
   "metadata": {},
   "source": [
    "## Divide and conquer - Accumulator style\n",
    "\n",
    "So far we've been creating lists at each call, thus wasting lots of memory and computation time. \n",
    "\n",
    "Let's first try using indeces with a simple example:"
   ]
  },
  {
   "cell_type": "markdown",
   "id": "22411a92",
   "metadata": {},
   "source": [
    "### Example - `dacount`\n",
    "\n",
    "Suppose given a number `n`, you want to build a list with first numbers from `1` to `n` **without** using `range` and using ModAcc style with a divide and conquer strategy\n",
    "\n",
    "Notie a couple of things:\n",
    "\n",
    "1. to promote parallelism, ideally it should be possibile to execute left and right calls independently of their order: to allow for this you should first allocate all the needed space in the accumulator. Since for us it's a special variable, you can preallocate space using the `*` operator before calling the helpers.\n",
    "2. since `acc` is created in the main function and keeps getting modified, we dropped the `return` statements in the helper"
   ]
  },
  {
   "cell_type": "code",
   "execution_count": 13,
   "id": "ef2f9122",
   "metadata": {},
   "outputs": [
    {
     "name": "stdout",
     "output_type": "stream",
     "text": [
      "[1, 2, 3, 4, 5]\n"
     ]
    },
    {
     "data": {
      "text/html": [
       "\n",
       "        <script src=\"../_static/js/pytutor-embed.bundle.min.js\" type=\"application/javascript\"></script>\n",
       "     \n",
       "        <script id=\"json-jm0b337da6-13a9-4fc7-a41a-864f5128bc3b\" type=\"application/json\" >\n",
       "            {\"code\": \" \\ndef dacount_helper(i, j, acc):\\n    if i > j:\\n        pass\\n    elif i == j:\\n        acc[i - 1] = i\\n    else:         \\n        k = (i + j) // 2\\n        dacount_helper(i, k, acc)    # no need to return\\n        dacount_helper(k+1, j, acc)  # no need to return\\n\\ndef dacount(n):\\n    acc = [0]*n  # let's create space to be filled in later\\n                 # (acc is special so let's allow us the freedom of using * operator)\\n    dacount_helper(1,n, acc)\\n    return acc\\n    \\nresult = dacount(5)\\nprint(result)\", \"trace\": [{\"line\": 2, \"event\": \"step_line\", \"func_name\": \"<module>\", \"globals\": {}, \"ordered_globals\": [], \"stack_to_render\": [], \"heap\": {}, \"stdout\": \"\"}, {\"line\": 12, \"event\": \"step_line\", \"func_name\": \"<module>\", \"globals\": {\"dacount_helper\": [\"REF\", 1]}, \"ordered_globals\": [\"dacount_helper\"], \"stack_to_render\": [], \"heap\": {\"1\": [\"FUNCTION\", \"dacount_helper(i, j, acc)\", null]}, \"stdout\": \"\"}, {\"line\": 18, \"event\": \"step_line\", \"func_name\": \"<module>\", \"globals\": {\"dacount_helper\": [\"REF\", 1], \"dacount\": [\"REF\", 2]}, \"ordered_globals\": [\"dacount_helper\", \"dacount\"], \"stack_to_render\": [], \"heap\": {\"1\": [\"FUNCTION\", \"dacount_helper(i, j, acc)\", null], \"2\": [\"FUNCTION\", \"dacount(n)\", null]}, \"stdout\": \"\"}, {\"line\": 12, \"event\": \"call\", \"func_name\": \"dacount\", \"globals\": {\"dacount_helper\": [\"REF\", 1], \"dacount\": [\"REF\", 2]}, \"ordered_globals\": [\"dacount_helper\", \"dacount\"], \"stack_to_render\": [{\"func_name\": \"dacount\", \"is_parent\": false, \"frame_id\": 1, \"parent_frame_id_list\": [], \"encoded_locals\": {\"n\": 5}, \"ordered_varnames\": [\"n\"], \"is_zombie\": false, \"is_highlighted\": true, \"unique_hash\": \"dacount_f1\"}], \"heap\": {\"1\": [\"FUNCTION\", \"dacount_helper(i, j, acc)\", null], \"2\": [\"FUNCTION\", \"dacount(n)\", null]}, \"stdout\": \"\"}, {\"line\": 13, \"event\": \"step_line\", \"func_name\": \"dacount\", \"globals\": {\"dacount_helper\": [\"REF\", 1], \"dacount\": [\"REF\", 2]}, \"ordered_globals\": [\"dacount_helper\", \"dacount\"], \"stack_to_render\": [{\"func_name\": \"dacount\", \"is_parent\": false, \"frame_id\": 1, \"parent_frame_id_list\": [], \"encoded_locals\": {\"n\": 5}, \"ordered_varnames\": [\"n\"], \"is_zombie\": false, \"is_highlighted\": true, \"unique_hash\": \"dacount_f1\"}], \"heap\": {\"1\": [\"FUNCTION\", \"dacount_helper(i, j, acc)\", null], \"2\": [\"FUNCTION\", \"dacount(n)\", null]}, \"stdout\": \"\"}, {\"line\": 15, \"event\": \"step_line\", \"func_name\": \"dacount\", \"globals\": {\"dacount_helper\": [\"REF\", 1], \"dacount\": [\"REF\", 2]}, \"ordered_globals\": [\"dacount_helper\", \"dacount\"], \"stack_to_render\": [{\"func_name\": \"dacount\", \"is_parent\": false, \"frame_id\": 1, \"parent_frame_id_list\": [], \"encoded_locals\": {\"n\": 5, \"acc\": [\"REF\", 3]}, \"ordered_varnames\": [\"n\", \"acc\"], \"is_zombie\": false, \"is_highlighted\": true, \"unique_hash\": \"dacount_f1\"}], \"heap\": {\"3\": [\"LIST\", 0, 0, 0, 0, 0], \"1\": [\"FUNCTION\", \"dacount_helper(i, j, acc)\", null], \"2\": [\"FUNCTION\", \"dacount(n)\", null]}, \"stdout\": \"\"}, {\"line\": 2, \"event\": \"call\", \"func_name\": \"dacount_helper\", \"globals\": {\"dacount_helper\": [\"REF\", 1], \"dacount\": [\"REF\", 2]}, \"ordered_globals\": [\"dacount_helper\", \"dacount\"], \"stack_to_render\": [{\"func_name\": \"dacount\", \"is_parent\": false, \"frame_id\": 1, \"parent_frame_id_list\": [], \"encoded_locals\": {\"n\": 5, \"acc\": [\"REF\", 3]}, \"ordered_varnames\": [\"n\", \"acc\"], \"is_zombie\": false, \"is_highlighted\": false, \"unique_hash\": \"dacount_f1\"}, {\"func_name\": \"dacount_helper\", \"is_parent\": false, \"frame_id\": 2, \"parent_frame_id_list\": [], \"encoded_locals\": {\"i\": 1, \"j\": 5, \"acc\": [\"REF\", 3]}, \"ordered_varnames\": [\"i\", \"j\", \"acc\"], \"is_zombie\": false, \"is_highlighted\": true, \"unique_hash\": \"dacount_helper_f2\"}], \"heap\": {\"3\": [\"LIST\", 0, 0, 0, 0, 0], \"1\": [\"FUNCTION\", \"dacount_helper(i, j, acc)\", null], \"2\": [\"FUNCTION\", \"dacount(n)\", null]}, \"stdout\": \"\"}, {\"line\": 3, \"event\": \"step_line\", \"func_name\": \"dacount_helper\", \"globals\": {\"dacount_helper\": [\"REF\", 1], \"dacount\": [\"REF\", 2]}, \"ordered_globals\": [\"dacount_helper\", \"dacount\"], \"stack_to_render\": [{\"func_name\": \"dacount\", \"is_parent\": false, \"frame_id\": 1, \"parent_frame_id_list\": [], \"encoded_locals\": {\"n\": 5, \"acc\": [\"REF\", 3]}, \"ordered_varnames\": [\"n\", \"acc\"], \"is_zombie\": false, \"is_highlighted\": false, \"unique_hash\": \"dacount_f1\"}, {\"func_name\": \"dacount_helper\", \"is_parent\": false, \"frame_id\": 2, \"parent_frame_id_list\": [], \"encoded_locals\": {\"i\": 1, \"j\": 5, \"acc\": [\"REF\", 3]}, \"ordered_varnames\": [\"i\", \"j\", \"acc\"], \"is_zombie\": false, \"is_highlighted\": true, \"unique_hash\": \"dacount_helper_f2\"}], \"heap\": {\"3\": [\"LIST\", 0, 0, 0, 0, 0], \"1\": [\"FUNCTION\", \"dacount_helper(i, j, acc)\", null], \"2\": [\"FUNCTION\", \"dacount(n)\", null]}, \"stdout\": \"\"}, {\"line\": 5, \"event\": \"step_line\", \"func_name\": \"dacount_helper\", \"globals\": {\"dacount_helper\": [\"REF\", 1], \"dacount\": [\"REF\", 2]}, \"ordered_globals\": [\"dacount_helper\", \"dacount\"], \"stack_to_render\": [{\"func_name\": \"dacount\", \"is_parent\": false, \"frame_id\": 1, \"parent_frame_id_list\": [], \"encoded_locals\": {\"n\": 5, \"acc\": [\"REF\", 3]}, \"ordered_varnames\": [\"n\", \"acc\"], \"is_zombie\": false, \"is_highlighted\": false, \"unique_hash\": \"dacount_f1\"}, {\"func_name\": \"dacount_helper\", \"is_parent\": false, \"frame_id\": 2, \"parent_frame_id_list\": [], \"encoded_locals\": {\"i\": 1, \"j\": 5, \"acc\": [\"REF\", 3]}, \"ordered_varnames\": [\"i\", \"j\", \"acc\"], \"is_zombie\": false, \"is_highlighted\": true, \"unique_hash\": \"dacount_helper_f2\"}], \"heap\": {\"3\": [\"LIST\", 0, 0, 0, 0, 0], \"1\": [\"FUNCTION\", \"dacount_helper(i, j, acc)\", null], \"2\": [\"FUNCTION\", \"dacount(n)\", null]}, \"stdout\": \"\"}, {\"line\": 8, \"event\": \"step_line\", \"func_name\": \"dacount_helper\", \"globals\": {\"dacount_helper\": [\"REF\", 1], \"dacount\": [\"REF\", 2]}, \"ordered_globals\": [\"dacount_helper\", \"dacount\"], \"stack_to_render\": [{\"func_name\": \"dacount\", \"is_parent\": false, \"frame_id\": 1, \"parent_frame_id_list\": [], \"encoded_locals\": {\"n\": 5, \"acc\": [\"REF\", 3]}, \"ordered_varnames\": [\"n\", \"acc\"], \"is_zombie\": false, \"is_highlighted\": false, \"unique_hash\": \"dacount_f1\"}, {\"func_name\": \"dacount_helper\", \"is_parent\": false, \"frame_id\": 2, \"parent_frame_id_list\": [], \"encoded_locals\": {\"i\": 1, \"j\": 5, \"acc\": [\"REF\", 3]}, \"ordered_varnames\": [\"i\", \"j\", \"acc\"], \"is_zombie\": false, \"is_highlighted\": true, \"unique_hash\": \"dacount_helper_f2\"}], \"heap\": {\"3\": [\"LIST\", 0, 0, 0, 0, 0], \"1\": [\"FUNCTION\", \"dacount_helper(i, j, acc)\", null], \"2\": [\"FUNCTION\", \"dacount(n)\", null]}, \"stdout\": \"\"}, {\"line\": 9, \"event\": \"step_line\", \"func_name\": \"dacount_helper\", \"globals\": {\"dacount_helper\": [\"REF\", 1], \"dacount\": [\"REF\", 2]}, \"ordered_globals\": [\"dacount_helper\", \"dacount\"], \"stack_to_render\": [{\"func_name\": \"dacount\", \"is_parent\": false, \"frame_id\": 1, \"parent_frame_id_list\": [], \"encoded_locals\": {\"n\": 5, \"acc\": [\"REF\", 3]}, \"ordered_varnames\": [\"n\", \"acc\"], \"is_zombie\": false, \"is_highlighted\": false, \"unique_hash\": \"dacount_f1\"}, {\"func_name\": \"dacount_helper\", \"is_parent\": false, \"frame_id\": 2, \"parent_frame_id_list\": [], \"encoded_locals\": {\"i\": 1, \"j\": 5, \"acc\": [\"REF\", 3], \"k\": 3}, \"ordered_varnames\": [\"i\", \"j\", \"acc\", \"k\"], \"is_zombie\": false, \"is_highlighted\": true, \"unique_hash\": \"dacount_helper_f2\"}], \"heap\": {\"3\": [\"LIST\", 0, 0, 0, 0, 0], \"1\": [\"FUNCTION\", \"dacount_helper(i, j, acc)\", null], \"2\": [\"FUNCTION\", \"dacount(n)\", null]}, \"stdout\": \"\"}, {\"line\": 2, \"event\": \"call\", \"func_name\": \"dacount_helper\", \"globals\": {\"dacount_helper\": [\"REF\", 1], \"dacount\": [\"REF\", 2]}, \"ordered_globals\": [\"dacount_helper\", \"dacount\"], \"stack_to_render\": [{\"func_name\": \"dacount\", \"is_parent\": false, \"frame_id\": 1, \"parent_frame_id_list\": [], \"encoded_locals\": {\"n\": 5, \"acc\": [\"REF\", 3]}, \"ordered_varnames\": [\"n\", \"acc\"], \"is_zombie\": false, \"is_highlighted\": false, \"unique_hash\": \"dacount_f1\"}, {\"func_name\": \"dacount_helper\", \"is_parent\": false, \"frame_id\": 2, \"parent_frame_id_list\": [], \"encoded_locals\": {\"i\": 1, \"j\": 5, \"acc\": [\"REF\", 3], \"k\": 3}, \"ordered_varnames\": [\"i\", \"j\", \"acc\", \"k\"], \"is_zombie\": false, \"is_highlighted\": false, \"unique_hash\": \"dacount_helper_f2\"}, {\"func_name\": \"dacount_helper\", \"is_parent\": false, \"frame_id\": 3, \"parent_frame_id_list\": [], \"encoded_locals\": {\"i\": 1, \"j\": 3, \"acc\": [\"REF\", 3]}, \"ordered_varnames\": [\"i\", \"j\", \"acc\"], \"is_zombie\": false, \"is_highlighted\": true, \"unique_hash\": \"dacount_helper_f3\"}], \"heap\": {\"3\": [\"LIST\", 0, 0, 0, 0, 0], \"1\": [\"FUNCTION\", \"dacount_helper(i, j, acc)\", null], \"2\": [\"FUNCTION\", \"dacount(n)\", null]}, \"stdout\": \"\"}, {\"line\": 3, \"event\": \"step_line\", \"func_name\": \"dacount_helper\", \"globals\": {\"dacount_helper\": [\"REF\", 1], \"dacount\": [\"REF\", 2]}, \"ordered_globals\": [\"dacount_helper\", \"dacount\"], \"stack_to_render\": [{\"func_name\": \"dacount\", \"is_parent\": false, \"frame_id\": 1, \"parent_frame_id_list\": [], \"encoded_locals\": {\"n\": 5, \"acc\": [\"REF\", 3]}, \"ordered_varnames\": [\"n\", \"acc\"], \"is_zombie\": false, \"is_highlighted\": false, \"unique_hash\": \"dacount_f1\"}, {\"func_name\": \"dacount_helper\", \"is_parent\": false, \"frame_id\": 2, \"parent_frame_id_list\": [], \"encoded_locals\": {\"i\": 1, \"j\": 5, \"acc\": [\"REF\", 3], \"k\": 3}, \"ordered_varnames\": [\"i\", \"j\", \"acc\", \"k\"], \"is_zombie\": false, \"is_highlighted\": false, \"unique_hash\": \"dacount_helper_f2\"}, {\"func_name\": \"dacount_helper\", \"is_parent\": false, \"frame_id\": 3, \"parent_frame_id_list\": [], \"encoded_locals\": {\"i\": 1, \"j\": 3, \"acc\": [\"REF\", 3]}, \"ordered_varnames\": [\"i\", \"j\", \"acc\"], \"is_zombie\": false, \"is_highlighted\": true, \"unique_hash\": \"dacount_helper_f3\"}], \"heap\": {\"3\": [\"LIST\", 0, 0, 0, 0, 0], \"1\": [\"FUNCTION\", \"dacount_helper(i, j, acc)\", null], \"2\": [\"FUNCTION\", \"dacount(n)\", null]}, \"stdout\": \"\"}, {\"line\": 5, \"event\": \"step_line\", \"func_name\": \"dacount_helper\", \"globals\": {\"dacount_helper\": [\"REF\", 1], \"dacount\": [\"REF\", 2]}, \"ordered_globals\": [\"dacount_helper\", \"dacount\"], \"stack_to_render\": [{\"func_name\": \"dacount\", \"is_parent\": false, \"frame_id\": 1, \"parent_frame_id_list\": [], \"encoded_locals\": {\"n\": 5, \"acc\": [\"REF\", 3]}, \"ordered_varnames\": [\"n\", \"acc\"], \"is_zombie\": false, \"is_highlighted\": false, \"unique_hash\": \"dacount_f1\"}, {\"func_name\": \"dacount_helper\", \"is_parent\": false, \"frame_id\": 2, \"parent_frame_id_list\": [], \"encoded_locals\": {\"i\": 1, \"j\": 5, \"acc\": [\"REF\", 3], \"k\": 3}, \"ordered_varnames\": [\"i\", \"j\", \"acc\", \"k\"], \"is_zombie\": false, \"is_highlighted\": false, \"unique_hash\": \"dacount_helper_f2\"}, {\"func_name\": \"dacount_helper\", \"is_parent\": false, \"frame_id\": 3, \"parent_frame_id_list\": [], \"encoded_locals\": {\"i\": 1, \"j\": 3, \"acc\": [\"REF\", 3]}, \"ordered_varnames\": [\"i\", \"j\", \"acc\"], \"is_zombie\": false, \"is_highlighted\": true, \"unique_hash\": \"dacount_helper_f3\"}], \"heap\": {\"3\": [\"LIST\", 0, 0, 0, 0, 0], \"1\": [\"FUNCTION\", \"dacount_helper(i, j, acc)\", null], \"2\": [\"FUNCTION\", \"dacount(n)\", null]}, \"stdout\": \"\"}, {\"line\": 8, \"event\": \"step_line\", \"func_name\": \"dacount_helper\", \"globals\": {\"dacount_helper\": [\"REF\", 1], \"dacount\": [\"REF\", 2]}, \"ordered_globals\": [\"dacount_helper\", \"dacount\"], \"stack_to_render\": [{\"func_name\": \"dacount\", \"is_parent\": false, \"frame_id\": 1, \"parent_frame_id_list\": [], \"encoded_locals\": {\"n\": 5, \"acc\": [\"REF\", 3]}, \"ordered_varnames\": [\"n\", \"acc\"], \"is_zombie\": false, \"is_highlighted\": false, \"unique_hash\": \"dacount_f1\"}, {\"func_name\": \"dacount_helper\", \"is_parent\": false, \"frame_id\": 2, \"parent_frame_id_list\": [], \"encoded_locals\": {\"i\": 1, \"j\": 5, \"acc\": [\"REF\", 3], \"k\": 3}, \"ordered_varnames\": [\"i\", \"j\", \"acc\", \"k\"], \"is_zombie\": false, \"is_highlighted\": false, \"unique_hash\": \"dacount_helper_f2\"}, {\"func_name\": \"dacount_helper\", \"is_parent\": false, \"frame_id\": 3, \"parent_frame_id_list\": [], \"encoded_locals\": {\"i\": 1, \"j\": 3, \"acc\": [\"REF\", 3]}, \"ordered_varnames\": [\"i\", \"j\", \"acc\"], \"is_zombie\": false, \"is_highlighted\": true, \"unique_hash\": \"dacount_helper_f3\"}], \"heap\": {\"3\": [\"LIST\", 0, 0, 0, 0, 0], \"1\": [\"FUNCTION\", \"dacount_helper(i, j, acc)\", null], \"2\": [\"FUNCTION\", \"dacount(n)\", null]}, \"stdout\": \"\"}, {\"line\": 9, \"event\": \"step_line\", \"func_name\": \"dacount_helper\", \"globals\": {\"dacount_helper\": [\"REF\", 1], \"dacount\": [\"REF\", 2]}, \"ordered_globals\": [\"dacount_helper\", \"dacount\"], \"stack_to_render\": [{\"func_name\": \"dacount\", \"is_parent\": false, \"frame_id\": 1, \"parent_frame_id_list\": [], \"encoded_locals\": {\"n\": 5, \"acc\": [\"REF\", 3]}, \"ordered_varnames\": [\"n\", \"acc\"], \"is_zombie\": false, \"is_highlighted\": false, \"unique_hash\": \"dacount_f1\"}, {\"func_name\": \"dacount_helper\", \"is_parent\": false, \"frame_id\": 2, \"parent_frame_id_list\": [], \"encoded_locals\": {\"i\": 1, \"j\": 5, \"acc\": [\"REF\", 3], \"k\": 3}, \"ordered_varnames\": [\"i\", \"j\", \"acc\", \"k\"], \"is_zombie\": false, \"is_highlighted\": false, \"unique_hash\": \"dacount_helper_f2\"}, {\"func_name\": \"dacount_helper\", \"is_parent\": false, \"frame_id\": 3, \"parent_frame_id_list\": [], \"encoded_locals\": {\"i\": 1, \"j\": 3, \"acc\": [\"REF\", 3], \"k\": 2}, \"ordered_varnames\": [\"i\", \"j\", \"acc\", \"k\"], \"is_zombie\": false, \"is_highlighted\": true, \"unique_hash\": \"dacount_helper_f3\"}], \"heap\": {\"3\": [\"LIST\", 0, 0, 0, 0, 0], \"1\": [\"FUNCTION\", \"dacount_helper(i, j, acc)\", null], \"2\": [\"FUNCTION\", \"dacount(n)\", null]}, \"stdout\": \"\"}, {\"line\": 2, \"event\": \"call\", \"func_name\": \"dacount_helper\", \"globals\": {\"dacount_helper\": [\"REF\", 1], \"dacount\": [\"REF\", 2]}, \"ordered_globals\": [\"dacount_helper\", \"dacount\"], \"stack_to_render\": [{\"func_name\": \"dacount\", \"is_parent\": false, \"frame_id\": 1, \"parent_frame_id_list\": [], \"encoded_locals\": {\"n\": 5, \"acc\": [\"REF\", 3]}, \"ordered_varnames\": [\"n\", \"acc\"], \"is_zombie\": false, \"is_highlighted\": false, \"unique_hash\": \"dacount_f1\"}, {\"func_name\": \"dacount_helper\", \"is_parent\": false, \"frame_id\": 2, \"parent_frame_id_list\": [], \"encoded_locals\": {\"i\": 1, \"j\": 5, \"acc\": [\"REF\", 3], \"k\": 3}, \"ordered_varnames\": [\"i\", \"j\", \"acc\", \"k\"], \"is_zombie\": false, \"is_highlighted\": false, \"unique_hash\": \"dacount_helper_f2\"}, {\"func_name\": \"dacount_helper\", \"is_parent\": false, \"frame_id\": 3, \"parent_frame_id_list\": [], \"encoded_locals\": {\"i\": 1, \"j\": 3, \"acc\": [\"REF\", 3], \"k\": 2}, \"ordered_varnames\": [\"i\", \"j\", \"acc\", \"k\"], \"is_zombie\": false, \"is_highlighted\": false, \"unique_hash\": \"dacount_helper_f3\"}, {\"func_name\": \"dacount_helper\", \"is_parent\": false, \"frame_id\": 4, \"parent_frame_id_list\": [], \"encoded_locals\": {\"i\": 1, \"j\": 2, \"acc\": [\"REF\", 3]}, \"ordered_varnames\": [\"i\", \"j\", \"acc\"], \"is_zombie\": false, \"is_highlighted\": true, \"unique_hash\": \"dacount_helper_f4\"}], \"heap\": {\"3\": [\"LIST\", 0, 0, 0, 0, 0], \"1\": [\"FUNCTION\", \"dacount_helper(i, j, acc)\", null], \"2\": [\"FUNCTION\", \"dacount(n)\", null]}, \"stdout\": \"\"}, {\"line\": 3, \"event\": \"step_line\", \"func_name\": \"dacount_helper\", \"globals\": {\"dacount_helper\": [\"REF\", 1], \"dacount\": [\"REF\", 2]}, \"ordered_globals\": [\"dacount_helper\", \"dacount\"], \"stack_to_render\": [{\"func_name\": \"dacount\", \"is_parent\": false, \"frame_id\": 1, \"parent_frame_id_list\": [], \"encoded_locals\": {\"n\": 5, \"acc\": [\"REF\", 3]}, \"ordered_varnames\": [\"n\", \"acc\"], \"is_zombie\": false, \"is_highlighted\": false, \"unique_hash\": \"dacount_f1\"}, {\"func_name\": \"dacount_helper\", \"is_parent\": false, \"frame_id\": 2, \"parent_frame_id_list\": [], \"encoded_locals\": {\"i\": 1, \"j\": 5, \"acc\": [\"REF\", 3], \"k\": 3}, \"ordered_varnames\": [\"i\", \"j\", \"acc\", \"k\"], \"is_zombie\": false, \"is_highlighted\": false, \"unique_hash\": \"dacount_helper_f2\"}, {\"func_name\": \"dacount_helper\", \"is_parent\": false, \"frame_id\": 3, \"parent_frame_id_list\": [], \"encoded_locals\": {\"i\": 1, \"j\": 3, \"acc\": [\"REF\", 3], \"k\": 2}, \"ordered_varnames\": [\"i\", \"j\", \"acc\", \"k\"], \"is_zombie\": false, \"is_highlighted\": false, \"unique_hash\": \"dacount_helper_f3\"}, {\"func_name\": \"dacount_helper\", \"is_parent\": false, \"frame_id\": 4, \"parent_frame_id_list\": [], \"encoded_locals\": {\"i\": 1, \"j\": 2, \"acc\": [\"REF\", 3]}, \"ordered_varnames\": [\"i\", \"j\", \"acc\"], \"is_zombie\": false, \"is_highlighted\": true, \"unique_hash\": \"dacount_helper_f4\"}], \"heap\": {\"3\": [\"LIST\", 0, 0, 0, 0, 0], \"1\": [\"FUNCTION\", \"dacount_helper(i, j, acc)\", null], \"2\": [\"FUNCTION\", \"dacount(n)\", null]}, \"stdout\": \"\"}, {\"line\": 5, \"event\": \"step_line\", \"func_name\": \"dacount_helper\", \"globals\": {\"dacount_helper\": [\"REF\", 1], \"dacount\": [\"REF\", 2]}, \"ordered_globals\": [\"dacount_helper\", \"dacount\"], \"stack_to_render\": [{\"func_name\": \"dacount\", \"is_parent\": false, \"frame_id\": 1, \"parent_frame_id_list\": [], \"encoded_locals\": {\"n\": 5, \"acc\": [\"REF\", 3]}, \"ordered_varnames\": [\"n\", \"acc\"], \"is_zombie\": false, \"is_highlighted\": false, \"unique_hash\": \"dacount_f1\"}, {\"func_name\": \"dacount_helper\", \"is_parent\": false, \"frame_id\": 2, \"parent_frame_id_list\": [], \"encoded_locals\": {\"i\": 1, \"j\": 5, \"acc\": [\"REF\", 3], \"k\": 3}, \"ordered_varnames\": [\"i\", \"j\", \"acc\", \"k\"], \"is_zombie\": false, \"is_highlighted\": false, \"unique_hash\": \"dacount_helper_f2\"}, {\"func_name\": \"dacount_helper\", \"is_parent\": false, \"frame_id\": 3, \"parent_frame_id_list\": [], \"encoded_locals\": {\"i\": 1, \"j\": 3, \"acc\": [\"REF\", 3], \"k\": 2}, \"ordered_varnames\": [\"i\", \"j\", \"acc\", \"k\"], \"is_zombie\": false, \"is_highlighted\": false, \"unique_hash\": \"dacount_helper_f3\"}, {\"func_name\": \"dacount_helper\", \"is_parent\": false, \"frame_id\": 4, \"parent_frame_id_list\": [], \"encoded_locals\": {\"i\": 1, \"j\": 2, \"acc\": [\"REF\", 3]}, \"ordered_varnames\": [\"i\", \"j\", \"acc\"], \"is_zombie\": false, \"is_highlighted\": true, \"unique_hash\": \"dacount_helper_f4\"}], \"heap\": {\"3\": [\"LIST\", 0, 0, 0, 0, 0], \"1\": [\"FUNCTION\", \"dacount_helper(i, j, acc)\", null], \"2\": [\"FUNCTION\", \"dacount(n)\", null]}, \"stdout\": \"\"}, {\"line\": 8, \"event\": \"step_line\", \"func_name\": \"dacount_helper\", \"globals\": {\"dacount_helper\": [\"REF\", 1], \"dacount\": [\"REF\", 2]}, \"ordered_globals\": [\"dacount_helper\", \"dacount\"], \"stack_to_render\": [{\"func_name\": \"dacount\", \"is_parent\": false, \"frame_id\": 1, \"parent_frame_id_list\": [], \"encoded_locals\": {\"n\": 5, \"acc\": [\"REF\", 3]}, \"ordered_varnames\": [\"n\", \"acc\"], \"is_zombie\": false, \"is_highlighted\": false, \"unique_hash\": \"dacount_f1\"}, {\"func_name\": \"dacount_helper\", \"is_parent\": false, \"frame_id\": 2, \"parent_frame_id_list\": [], \"encoded_locals\": {\"i\": 1, \"j\": 5, \"acc\": [\"REF\", 3], \"k\": 3}, \"ordered_varnames\": [\"i\", \"j\", \"acc\", \"k\"], \"is_zombie\": false, \"is_highlighted\": false, \"unique_hash\": \"dacount_helper_f2\"}, {\"func_name\": \"dacount_helper\", \"is_parent\": false, \"frame_id\": 3, \"parent_frame_id_list\": [], \"encoded_locals\": {\"i\": 1, \"j\": 3, \"acc\": [\"REF\", 3], \"k\": 2}, \"ordered_varnames\": [\"i\", \"j\", \"acc\", \"k\"], \"is_zombie\": false, \"is_highlighted\": false, \"unique_hash\": \"dacount_helper_f3\"}, {\"func_name\": \"dacount_helper\", \"is_parent\": false, \"frame_id\": 4, \"parent_frame_id_list\": [], \"encoded_locals\": {\"i\": 1, \"j\": 2, \"acc\": [\"REF\", 3]}, \"ordered_varnames\": [\"i\", \"j\", \"acc\"], \"is_zombie\": false, \"is_highlighted\": true, \"unique_hash\": \"dacount_helper_f4\"}], \"heap\": {\"3\": [\"LIST\", 0, 0, 0, 0, 0], \"1\": [\"FUNCTION\", \"dacount_helper(i, j, acc)\", null], \"2\": [\"FUNCTION\", \"dacount(n)\", null]}, \"stdout\": \"\"}, {\"line\": 9, \"event\": \"step_line\", \"func_name\": \"dacount_helper\", \"globals\": {\"dacount_helper\": [\"REF\", 1], \"dacount\": [\"REF\", 2]}, \"ordered_globals\": [\"dacount_helper\", \"dacount\"], \"stack_to_render\": [{\"func_name\": \"dacount\", \"is_parent\": false, \"frame_id\": 1, \"parent_frame_id_list\": [], \"encoded_locals\": {\"n\": 5, \"acc\": [\"REF\", 3]}, \"ordered_varnames\": [\"n\", \"acc\"], \"is_zombie\": false, \"is_highlighted\": false, \"unique_hash\": \"dacount_f1\"}, {\"func_name\": \"dacount_helper\", \"is_parent\": false, \"frame_id\": 2, \"parent_frame_id_list\": [], \"encoded_locals\": {\"i\": 1, \"j\": 5, \"acc\": [\"REF\", 3], \"k\": 3}, \"ordered_varnames\": [\"i\", \"j\", \"acc\", \"k\"], \"is_zombie\": false, \"is_highlighted\": false, \"unique_hash\": \"dacount_helper_f2\"}, {\"func_name\": \"dacount_helper\", \"is_parent\": false, \"frame_id\": 3, \"parent_frame_id_list\": [], \"encoded_locals\": {\"i\": 1, \"j\": 3, \"acc\": [\"REF\", 3], \"k\": 2}, \"ordered_varnames\": [\"i\", \"j\", \"acc\", \"k\"], \"is_zombie\": false, \"is_highlighted\": false, \"unique_hash\": \"dacount_helper_f3\"}, {\"func_name\": \"dacount_helper\", \"is_parent\": false, \"frame_id\": 4, \"parent_frame_id_list\": [], \"encoded_locals\": {\"i\": 1, \"j\": 2, \"acc\": [\"REF\", 3], \"k\": 1}, \"ordered_varnames\": [\"i\", \"j\", \"acc\", \"k\"], \"is_zombie\": false, \"is_highlighted\": true, \"unique_hash\": \"dacount_helper_f4\"}], \"heap\": {\"3\": [\"LIST\", 0, 0, 0, 0, 0], \"1\": [\"FUNCTION\", \"dacount_helper(i, j, acc)\", null], \"2\": [\"FUNCTION\", \"dacount(n)\", null]}, \"stdout\": \"\"}, {\"line\": 2, \"event\": \"call\", \"func_name\": \"dacount_helper\", \"globals\": {\"dacount_helper\": [\"REF\", 1], \"dacount\": [\"REF\", 2]}, \"ordered_globals\": [\"dacount_helper\", \"dacount\"], \"stack_to_render\": [{\"func_name\": \"dacount\", \"is_parent\": false, \"frame_id\": 1, \"parent_frame_id_list\": [], \"encoded_locals\": {\"n\": 5, \"acc\": [\"REF\", 3]}, \"ordered_varnames\": [\"n\", \"acc\"], \"is_zombie\": false, \"is_highlighted\": false, \"unique_hash\": \"dacount_f1\"}, {\"func_name\": \"dacount_helper\", \"is_parent\": false, \"frame_id\": 2, \"parent_frame_id_list\": [], \"encoded_locals\": {\"i\": 1, \"j\": 5, \"acc\": [\"REF\", 3], \"k\": 3}, \"ordered_varnames\": [\"i\", \"j\", \"acc\", \"k\"], \"is_zombie\": false, \"is_highlighted\": false, \"unique_hash\": \"dacount_helper_f2\"}, {\"func_name\": \"dacount_helper\", \"is_parent\": false, \"frame_id\": 3, \"parent_frame_id_list\": [], \"encoded_locals\": {\"i\": 1, \"j\": 3, \"acc\": [\"REF\", 3], \"k\": 2}, \"ordered_varnames\": [\"i\", \"j\", \"acc\", \"k\"], \"is_zombie\": false, \"is_highlighted\": false, \"unique_hash\": \"dacount_helper_f3\"}, {\"func_name\": \"dacount_helper\", \"is_parent\": false, \"frame_id\": 4, \"parent_frame_id_list\": [], \"encoded_locals\": {\"i\": 1, \"j\": 2, \"acc\": [\"REF\", 3], \"k\": 1}, \"ordered_varnames\": [\"i\", \"j\", \"acc\", \"k\"], \"is_zombie\": false, \"is_highlighted\": false, \"unique_hash\": \"dacount_helper_f4\"}, {\"func_name\": \"dacount_helper\", \"is_parent\": false, \"frame_id\": 5, \"parent_frame_id_list\": [], \"encoded_locals\": {\"i\": 1, \"j\": 1, \"acc\": [\"REF\", 3]}, \"ordered_varnames\": [\"i\", \"j\", \"acc\"], \"is_zombie\": false, \"is_highlighted\": true, \"unique_hash\": \"dacount_helper_f5\"}], \"heap\": {\"3\": [\"LIST\", 0, 0, 0, 0, 0], \"1\": [\"FUNCTION\", \"dacount_helper(i, j, acc)\", null], \"2\": [\"FUNCTION\", \"dacount(n)\", null]}, \"stdout\": \"\"}, {\"line\": 3, \"event\": \"step_line\", \"func_name\": \"dacount_helper\", \"globals\": {\"dacount_helper\": [\"REF\", 1], \"dacount\": [\"REF\", 2]}, \"ordered_globals\": [\"dacount_helper\", \"dacount\"], \"stack_to_render\": [{\"func_name\": \"dacount\", \"is_parent\": false, \"frame_id\": 1, \"parent_frame_id_list\": [], \"encoded_locals\": {\"n\": 5, \"acc\": [\"REF\", 3]}, \"ordered_varnames\": [\"n\", \"acc\"], \"is_zombie\": false, \"is_highlighted\": false, \"unique_hash\": \"dacount_f1\"}, {\"func_name\": \"dacount_helper\", \"is_parent\": false, \"frame_id\": 2, \"parent_frame_id_list\": [], \"encoded_locals\": {\"i\": 1, \"j\": 5, \"acc\": [\"REF\", 3], \"k\": 3}, \"ordered_varnames\": [\"i\", \"j\", \"acc\", \"k\"], \"is_zombie\": false, \"is_highlighted\": false, \"unique_hash\": \"dacount_helper_f2\"}, {\"func_name\": \"dacount_helper\", \"is_parent\": false, \"frame_id\": 3, \"parent_frame_id_list\": [], \"encoded_locals\": {\"i\": 1, \"j\": 3, \"acc\": [\"REF\", 3], \"k\": 2}, \"ordered_varnames\": [\"i\", \"j\", \"acc\", \"k\"], \"is_zombie\": false, \"is_highlighted\": false, \"unique_hash\": \"dacount_helper_f3\"}, {\"func_name\": \"dacount_helper\", \"is_parent\": false, \"frame_id\": 4, \"parent_frame_id_list\": [], \"encoded_locals\": {\"i\": 1, \"j\": 2, \"acc\": [\"REF\", 3], \"k\": 1}, \"ordered_varnames\": [\"i\", \"j\", \"acc\", \"k\"], \"is_zombie\": false, \"is_highlighted\": false, \"unique_hash\": \"dacount_helper_f4\"}, {\"func_name\": \"dacount_helper\", \"is_parent\": false, \"frame_id\": 5, \"parent_frame_id_list\": [], \"encoded_locals\": {\"i\": 1, \"j\": 1, \"acc\": [\"REF\", 3]}, \"ordered_varnames\": [\"i\", \"j\", \"acc\"], \"is_zombie\": false, \"is_highlighted\": true, \"unique_hash\": \"dacount_helper_f5\"}], \"heap\": {\"3\": [\"LIST\", 0, 0, 0, 0, 0], \"1\": [\"FUNCTION\", \"dacount_helper(i, j, acc)\", null], \"2\": [\"FUNCTION\", \"dacount(n)\", null]}, \"stdout\": \"\"}, {\"line\": 5, \"event\": \"step_line\", \"func_name\": \"dacount_helper\", \"globals\": {\"dacount_helper\": [\"REF\", 1], \"dacount\": [\"REF\", 2]}, \"ordered_globals\": [\"dacount_helper\", \"dacount\"], \"stack_to_render\": [{\"func_name\": \"dacount\", \"is_parent\": false, \"frame_id\": 1, \"parent_frame_id_list\": [], \"encoded_locals\": {\"n\": 5, \"acc\": [\"REF\", 3]}, \"ordered_varnames\": [\"n\", \"acc\"], \"is_zombie\": false, \"is_highlighted\": false, \"unique_hash\": \"dacount_f1\"}, {\"func_name\": \"dacount_helper\", \"is_parent\": false, \"frame_id\": 2, \"parent_frame_id_list\": [], \"encoded_locals\": {\"i\": 1, \"j\": 5, \"acc\": [\"REF\", 3], \"k\": 3}, \"ordered_varnames\": [\"i\", \"j\", \"acc\", \"k\"], \"is_zombie\": false, \"is_highlighted\": false, \"unique_hash\": \"dacount_helper_f2\"}, {\"func_name\": \"dacount_helper\", \"is_parent\": false, \"frame_id\": 3, \"parent_frame_id_list\": [], \"encoded_locals\": {\"i\": 1, \"j\": 3, \"acc\": [\"REF\", 3], \"k\": 2}, \"ordered_varnames\": [\"i\", \"j\", \"acc\", \"k\"], \"is_zombie\": false, \"is_highlighted\": false, \"unique_hash\": \"dacount_helper_f3\"}, {\"func_name\": \"dacount_helper\", \"is_parent\": false, \"frame_id\": 4, \"parent_frame_id_list\": [], \"encoded_locals\": {\"i\": 1, \"j\": 2, \"acc\": [\"REF\", 3], \"k\": 1}, \"ordered_varnames\": [\"i\", \"j\", \"acc\", \"k\"], \"is_zombie\": false, \"is_highlighted\": false, \"unique_hash\": \"dacount_helper_f4\"}, {\"func_name\": \"dacount_helper\", \"is_parent\": false, \"frame_id\": 5, \"parent_frame_id_list\": [], \"encoded_locals\": {\"i\": 1, \"j\": 1, \"acc\": [\"REF\", 3]}, \"ordered_varnames\": [\"i\", \"j\", \"acc\"], \"is_zombie\": false, \"is_highlighted\": true, \"unique_hash\": \"dacount_helper_f5\"}], \"heap\": {\"3\": [\"LIST\", 0, 0, 0, 0, 0], \"1\": [\"FUNCTION\", \"dacount_helper(i, j, acc)\", null], \"2\": [\"FUNCTION\", \"dacount(n)\", null]}, \"stdout\": \"\"}, {\"line\": 6, \"event\": \"step_line\", \"func_name\": \"dacount_helper\", \"globals\": {\"dacount_helper\": [\"REF\", 1], \"dacount\": [\"REF\", 2]}, \"ordered_globals\": [\"dacount_helper\", \"dacount\"], \"stack_to_render\": [{\"func_name\": \"dacount\", \"is_parent\": false, \"frame_id\": 1, \"parent_frame_id_list\": [], \"encoded_locals\": {\"n\": 5, \"acc\": [\"REF\", 3]}, \"ordered_varnames\": [\"n\", \"acc\"], \"is_zombie\": false, \"is_highlighted\": false, \"unique_hash\": \"dacount_f1\"}, {\"func_name\": \"dacount_helper\", \"is_parent\": false, \"frame_id\": 2, \"parent_frame_id_list\": [], \"encoded_locals\": {\"i\": 1, \"j\": 5, \"acc\": [\"REF\", 3], \"k\": 3}, \"ordered_varnames\": [\"i\", \"j\", \"acc\", \"k\"], \"is_zombie\": false, \"is_highlighted\": false, \"unique_hash\": \"dacount_helper_f2\"}, {\"func_name\": \"dacount_helper\", \"is_parent\": false, \"frame_id\": 3, \"parent_frame_id_list\": [], \"encoded_locals\": {\"i\": 1, \"j\": 3, \"acc\": [\"REF\", 3], \"k\": 2}, \"ordered_varnames\": [\"i\", \"j\", \"acc\", \"k\"], \"is_zombie\": false, \"is_highlighted\": false, \"unique_hash\": \"dacount_helper_f3\"}, {\"func_name\": \"dacount_helper\", \"is_parent\": false, \"frame_id\": 4, \"parent_frame_id_list\": [], \"encoded_locals\": {\"i\": 1, \"j\": 2, \"acc\": [\"REF\", 3], \"k\": 1}, \"ordered_varnames\": [\"i\", \"j\", \"acc\", \"k\"], \"is_zombie\": false, \"is_highlighted\": false, \"unique_hash\": \"dacount_helper_f4\"}, {\"func_name\": \"dacount_helper\", \"is_parent\": false, \"frame_id\": 5, \"parent_frame_id_list\": [], \"encoded_locals\": {\"i\": 1, \"j\": 1, \"acc\": [\"REF\", 3]}, \"ordered_varnames\": [\"i\", \"j\", \"acc\"], \"is_zombie\": false, \"is_highlighted\": true, \"unique_hash\": \"dacount_helper_f5\"}], \"heap\": {\"3\": [\"LIST\", 0, 0, 0, 0, 0], \"1\": [\"FUNCTION\", \"dacount_helper(i, j, acc)\", null], \"2\": [\"FUNCTION\", \"dacount(n)\", null]}, \"stdout\": \"\"}, {\"line\": 6, \"event\": \"return\", \"func_name\": \"dacount_helper\", \"globals\": {\"dacount_helper\": [\"REF\", 1], \"dacount\": [\"REF\", 2]}, \"ordered_globals\": [\"dacount_helper\", \"dacount\"], \"stack_to_render\": [{\"func_name\": \"dacount\", \"is_parent\": false, \"frame_id\": 1, \"parent_frame_id_list\": [], \"encoded_locals\": {\"n\": 5, \"acc\": [\"REF\", 3]}, \"ordered_varnames\": [\"n\", \"acc\"], \"is_zombie\": false, \"is_highlighted\": false, \"unique_hash\": \"dacount_f1\"}, {\"func_name\": \"dacount_helper\", \"is_parent\": false, \"frame_id\": 2, \"parent_frame_id_list\": [], \"encoded_locals\": {\"i\": 1, \"j\": 5, \"acc\": [\"REF\", 3], \"k\": 3}, \"ordered_varnames\": [\"i\", \"j\", \"acc\", \"k\"], \"is_zombie\": false, \"is_highlighted\": false, \"unique_hash\": \"dacount_helper_f2\"}, {\"func_name\": \"dacount_helper\", \"is_parent\": false, \"frame_id\": 3, \"parent_frame_id_list\": [], \"encoded_locals\": {\"i\": 1, \"j\": 3, \"acc\": [\"REF\", 3], \"k\": 2}, \"ordered_varnames\": [\"i\", \"j\", \"acc\", \"k\"], \"is_zombie\": false, \"is_highlighted\": false, \"unique_hash\": \"dacount_helper_f3\"}, {\"func_name\": \"dacount_helper\", \"is_parent\": false, \"frame_id\": 4, \"parent_frame_id_list\": [], \"encoded_locals\": {\"i\": 1, \"j\": 2, \"acc\": [\"REF\", 3], \"k\": 1}, \"ordered_varnames\": [\"i\", \"j\", \"acc\", \"k\"], \"is_zombie\": false, \"is_highlighted\": false, \"unique_hash\": \"dacount_helper_f4\"}, {\"func_name\": \"dacount_helper\", \"is_parent\": false, \"frame_id\": 5, \"parent_frame_id_list\": [], \"encoded_locals\": {\"i\": 1, \"j\": 1, \"acc\": [\"REF\", 3], \"__return__\": null}, \"ordered_varnames\": [\"i\", \"j\", \"acc\", \"__return__\"], \"is_zombie\": false, \"is_highlighted\": true, \"unique_hash\": \"dacount_helper_f5\"}], \"heap\": {\"3\": [\"LIST\", 1, 0, 0, 0, 0], \"1\": [\"FUNCTION\", \"dacount_helper(i, j, acc)\", null], \"2\": [\"FUNCTION\", \"dacount(n)\", null]}, \"stdout\": \"\"}, {\"line\": 10, \"event\": \"step_line\", \"func_name\": \"dacount_helper\", \"globals\": {\"dacount_helper\": [\"REF\", 1], \"dacount\": [\"REF\", 2]}, \"ordered_globals\": [\"dacount_helper\", \"dacount\"], \"stack_to_render\": [{\"func_name\": \"dacount\", \"is_parent\": false, \"frame_id\": 1, \"parent_frame_id_list\": [], \"encoded_locals\": {\"n\": 5, \"acc\": [\"REF\", 3]}, \"ordered_varnames\": [\"n\", \"acc\"], \"is_zombie\": false, \"is_highlighted\": false, \"unique_hash\": \"dacount_f1\"}, {\"func_name\": \"dacount_helper\", \"is_parent\": false, \"frame_id\": 2, \"parent_frame_id_list\": [], \"encoded_locals\": {\"i\": 1, \"j\": 5, \"acc\": [\"REF\", 3], \"k\": 3}, \"ordered_varnames\": [\"i\", \"j\", \"acc\", \"k\"], \"is_zombie\": false, \"is_highlighted\": false, \"unique_hash\": \"dacount_helper_f2\"}, {\"func_name\": \"dacount_helper\", \"is_parent\": false, \"frame_id\": 3, \"parent_frame_id_list\": [], \"encoded_locals\": {\"i\": 1, \"j\": 3, \"acc\": [\"REF\", 3], \"k\": 2}, \"ordered_varnames\": [\"i\", \"j\", \"acc\", \"k\"], \"is_zombie\": false, \"is_highlighted\": false, \"unique_hash\": \"dacount_helper_f3\"}, {\"func_name\": \"dacount_helper\", \"is_parent\": false, \"frame_id\": 4, \"parent_frame_id_list\": [], \"encoded_locals\": {\"i\": 1, \"j\": 2, \"acc\": [\"REF\", 3], \"k\": 1}, \"ordered_varnames\": [\"i\", \"j\", \"acc\", \"k\"], \"is_zombie\": false, \"is_highlighted\": true, \"unique_hash\": \"dacount_helper_f4\"}], \"heap\": {\"3\": [\"LIST\", 1, 0, 0, 0, 0], \"1\": [\"FUNCTION\", \"dacount_helper(i, j, acc)\", null], \"2\": [\"FUNCTION\", \"dacount(n)\", null]}, \"stdout\": \"\"}, {\"line\": 2, \"event\": \"call\", \"func_name\": \"dacount_helper\", \"globals\": {\"dacount_helper\": [\"REF\", 1], \"dacount\": [\"REF\", 2]}, \"ordered_globals\": [\"dacount_helper\", \"dacount\"], \"stack_to_render\": [{\"func_name\": \"dacount\", \"is_parent\": false, \"frame_id\": 1, \"parent_frame_id_list\": [], \"encoded_locals\": {\"n\": 5, \"acc\": [\"REF\", 3]}, \"ordered_varnames\": [\"n\", \"acc\"], \"is_zombie\": false, \"is_highlighted\": false, \"unique_hash\": \"dacount_f1\"}, {\"func_name\": \"dacount_helper\", \"is_parent\": false, \"frame_id\": 2, \"parent_frame_id_list\": [], \"encoded_locals\": {\"i\": 1, \"j\": 5, \"acc\": [\"REF\", 3], \"k\": 3}, \"ordered_varnames\": [\"i\", \"j\", \"acc\", \"k\"], \"is_zombie\": false, \"is_highlighted\": false, \"unique_hash\": \"dacount_helper_f2\"}, {\"func_name\": \"dacount_helper\", \"is_parent\": false, \"frame_id\": 3, \"parent_frame_id_list\": [], \"encoded_locals\": {\"i\": 1, \"j\": 3, \"acc\": [\"REF\", 3], \"k\": 2}, \"ordered_varnames\": [\"i\", \"j\", \"acc\", \"k\"], \"is_zombie\": false, \"is_highlighted\": false, \"unique_hash\": \"dacount_helper_f3\"}, {\"func_name\": \"dacount_helper\", \"is_parent\": false, \"frame_id\": 4, \"parent_frame_id_list\": [], \"encoded_locals\": {\"i\": 1, \"j\": 2, \"acc\": [\"REF\", 3], \"k\": 1}, \"ordered_varnames\": [\"i\", \"j\", \"acc\", \"k\"], \"is_zombie\": false, \"is_highlighted\": false, \"unique_hash\": \"dacount_helper_f4\"}, {\"func_name\": \"dacount_helper\", \"is_parent\": false, \"frame_id\": 6, \"parent_frame_id_list\": [], \"encoded_locals\": {\"i\": 2, \"j\": 2, \"acc\": [\"REF\", 3]}, \"ordered_varnames\": [\"i\", \"j\", \"acc\"], \"is_zombie\": false, \"is_highlighted\": true, \"unique_hash\": \"dacount_helper_f6\"}], \"heap\": {\"3\": [\"LIST\", 1, 0, 0, 0, 0], \"1\": [\"FUNCTION\", \"dacount_helper(i, j, acc)\", null], \"2\": [\"FUNCTION\", \"dacount(n)\", null]}, \"stdout\": \"\"}, {\"line\": 3, \"event\": \"step_line\", \"func_name\": \"dacount_helper\", \"globals\": {\"dacount_helper\": [\"REF\", 1], \"dacount\": [\"REF\", 2]}, \"ordered_globals\": [\"dacount_helper\", \"dacount\"], \"stack_to_render\": [{\"func_name\": \"dacount\", \"is_parent\": false, \"frame_id\": 1, \"parent_frame_id_list\": [], \"encoded_locals\": {\"n\": 5, \"acc\": [\"REF\", 3]}, \"ordered_varnames\": [\"n\", \"acc\"], \"is_zombie\": false, \"is_highlighted\": false, \"unique_hash\": \"dacount_f1\"}, {\"func_name\": \"dacount_helper\", \"is_parent\": false, \"frame_id\": 2, \"parent_frame_id_list\": [], \"encoded_locals\": {\"i\": 1, \"j\": 5, \"acc\": [\"REF\", 3], \"k\": 3}, \"ordered_varnames\": [\"i\", \"j\", \"acc\", \"k\"], \"is_zombie\": false, \"is_highlighted\": false, \"unique_hash\": \"dacount_helper_f2\"}, {\"func_name\": \"dacount_helper\", \"is_parent\": false, \"frame_id\": 3, \"parent_frame_id_list\": [], \"encoded_locals\": {\"i\": 1, \"j\": 3, \"acc\": [\"REF\", 3], \"k\": 2}, \"ordered_varnames\": [\"i\", \"j\", \"acc\", \"k\"], \"is_zombie\": false, \"is_highlighted\": false, \"unique_hash\": \"dacount_helper_f3\"}, {\"func_name\": \"dacount_helper\", \"is_parent\": false, \"frame_id\": 4, \"parent_frame_id_list\": [], \"encoded_locals\": {\"i\": 1, \"j\": 2, \"acc\": [\"REF\", 3], \"k\": 1}, \"ordered_varnames\": [\"i\", \"j\", \"acc\", \"k\"], \"is_zombie\": false, \"is_highlighted\": false, \"unique_hash\": \"dacount_helper_f4\"}, {\"func_name\": \"dacount_helper\", \"is_parent\": false, \"frame_id\": 6, \"parent_frame_id_list\": [], \"encoded_locals\": {\"i\": 2, \"j\": 2, \"acc\": [\"REF\", 3]}, \"ordered_varnames\": [\"i\", \"j\", \"acc\"], \"is_zombie\": false, \"is_highlighted\": true, \"unique_hash\": \"dacount_helper_f6\"}], \"heap\": {\"3\": [\"LIST\", 1, 0, 0, 0, 0], \"1\": [\"FUNCTION\", \"dacount_helper(i, j, acc)\", null], \"2\": [\"FUNCTION\", \"dacount(n)\", null]}, \"stdout\": \"\"}, {\"line\": 5, \"event\": \"step_line\", \"func_name\": \"dacount_helper\", \"globals\": {\"dacount_helper\": [\"REF\", 1], \"dacount\": [\"REF\", 2]}, \"ordered_globals\": [\"dacount_helper\", \"dacount\"], \"stack_to_render\": [{\"func_name\": \"dacount\", \"is_parent\": false, \"frame_id\": 1, \"parent_frame_id_list\": [], \"encoded_locals\": {\"n\": 5, \"acc\": [\"REF\", 3]}, \"ordered_varnames\": [\"n\", \"acc\"], \"is_zombie\": false, \"is_highlighted\": false, \"unique_hash\": \"dacount_f1\"}, {\"func_name\": \"dacount_helper\", \"is_parent\": false, \"frame_id\": 2, \"parent_frame_id_list\": [], \"encoded_locals\": {\"i\": 1, \"j\": 5, \"acc\": [\"REF\", 3], \"k\": 3}, \"ordered_varnames\": [\"i\", \"j\", \"acc\", \"k\"], \"is_zombie\": false, \"is_highlighted\": false, \"unique_hash\": \"dacount_helper_f2\"}, {\"func_name\": \"dacount_helper\", \"is_parent\": false, \"frame_id\": 3, \"parent_frame_id_list\": [], \"encoded_locals\": {\"i\": 1, \"j\": 3, \"acc\": [\"REF\", 3], \"k\": 2}, \"ordered_varnames\": [\"i\", \"j\", \"acc\", \"k\"], \"is_zombie\": false, \"is_highlighted\": false, \"unique_hash\": \"dacount_helper_f3\"}, {\"func_name\": \"dacount_helper\", \"is_parent\": false, \"frame_id\": 4, \"parent_frame_id_list\": [], \"encoded_locals\": {\"i\": 1, \"j\": 2, \"acc\": [\"REF\", 3], \"k\": 1}, \"ordered_varnames\": [\"i\", \"j\", \"acc\", \"k\"], \"is_zombie\": false, \"is_highlighted\": false, \"unique_hash\": \"dacount_helper_f4\"}, {\"func_name\": \"dacount_helper\", \"is_parent\": false, \"frame_id\": 6, \"parent_frame_id_list\": [], \"encoded_locals\": {\"i\": 2, \"j\": 2, \"acc\": [\"REF\", 3]}, \"ordered_varnames\": [\"i\", \"j\", \"acc\"], \"is_zombie\": false, \"is_highlighted\": true, \"unique_hash\": \"dacount_helper_f6\"}], \"heap\": {\"3\": [\"LIST\", 1, 0, 0, 0, 0], \"1\": [\"FUNCTION\", \"dacount_helper(i, j, acc)\", null], \"2\": [\"FUNCTION\", \"dacount(n)\", null]}, \"stdout\": \"\"}, {\"line\": 6, \"event\": \"step_line\", \"func_name\": \"dacount_helper\", \"globals\": {\"dacount_helper\": [\"REF\", 1], \"dacount\": [\"REF\", 2]}, \"ordered_globals\": [\"dacount_helper\", \"dacount\"], \"stack_to_render\": [{\"func_name\": \"dacount\", \"is_parent\": false, \"frame_id\": 1, \"parent_frame_id_list\": [], \"encoded_locals\": {\"n\": 5, \"acc\": [\"REF\", 3]}, \"ordered_varnames\": [\"n\", \"acc\"], \"is_zombie\": false, \"is_highlighted\": false, \"unique_hash\": \"dacount_f1\"}, {\"func_name\": \"dacount_helper\", \"is_parent\": false, \"frame_id\": 2, \"parent_frame_id_list\": [], \"encoded_locals\": {\"i\": 1, \"j\": 5, \"acc\": [\"REF\", 3], \"k\": 3}, \"ordered_varnames\": [\"i\", \"j\", \"acc\", \"k\"], \"is_zombie\": false, \"is_highlighted\": false, \"unique_hash\": \"dacount_helper_f2\"}, {\"func_name\": \"dacount_helper\", \"is_parent\": false, \"frame_id\": 3, \"parent_frame_id_list\": [], \"encoded_locals\": {\"i\": 1, \"j\": 3, \"acc\": [\"REF\", 3], \"k\": 2}, \"ordered_varnames\": [\"i\", \"j\", \"acc\", \"k\"], \"is_zombie\": false, \"is_highlighted\": false, \"unique_hash\": \"dacount_helper_f3\"}, {\"func_name\": \"dacount_helper\", \"is_parent\": false, \"frame_id\": 4, \"parent_frame_id_list\": [], \"encoded_locals\": {\"i\": 1, \"j\": 2, \"acc\": [\"REF\", 3], \"k\": 1}, \"ordered_varnames\": [\"i\", \"j\", \"acc\", \"k\"], \"is_zombie\": false, \"is_highlighted\": false, \"unique_hash\": \"dacount_helper_f4\"}, {\"func_name\": \"dacount_helper\", \"is_parent\": false, \"frame_id\": 6, \"parent_frame_id_list\": [], \"encoded_locals\": {\"i\": 2, \"j\": 2, \"acc\": [\"REF\", 3]}, \"ordered_varnames\": [\"i\", \"j\", \"acc\"], \"is_zombie\": false, \"is_highlighted\": true, \"unique_hash\": \"dacount_helper_f6\"}], \"heap\": {\"3\": [\"LIST\", 1, 0, 0, 0, 0], \"1\": [\"FUNCTION\", \"dacount_helper(i, j, acc)\", null], \"2\": [\"FUNCTION\", \"dacount(n)\", null]}, \"stdout\": \"\"}, {\"line\": 6, \"event\": \"return\", \"func_name\": \"dacount_helper\", \"globals\": {\"dacount_helper\": [\"REF\", 1], \"dacount\": [\"REF\", 2]}, \"ordered_globals\": [\"dacount_helper\", \"dacount\"], \"stack_to_render\": [{\"func_name\": \"dacount\", \"is_parent\": false, \"frame_id\": 1, \"parent_frame_id_list\": [], \"encoded_locals\": {\"n\": 5, \"acc\": [\"REF\", 3]}, \"ordered_varnames\": [\"n\", \"acc\"], \"is_zombie\": false, \"is_highlighted\": false, \"unique_hash\": \"dacount_f1\"}, {\"func_name\": \"dacount_helper\", \"is_parent\": false, \"frame_id\": 2, \"parent_frame_id_list\": [], \"encoded_locals\": {\"i\": 1, \"j\": 5, \"acc\": [\"REF\", 3], \"k\": 3}, \"ordered_varnames\": [\"i\", \"j\", \"acc\", \"k\"], \"is_zombie\": false, \"is_highlighted\": false, \"unique_hash\": \"dacount_helper_f2\"}, {\"func_name\": \"dacount_helper\", \"is_parent\": false, \"frame_id\": 3, \"parent_frame_id_list\": [], \"encoded_locals\": {\"i\": 1, \"j\": 3, \"acc\": [\"REF\", 3], \"k\": 2}, \"ordered_varnames\": [\"i\", \"j\", \"acc\", \"k\"], \"is_zombie\": false, \"is_highlighted\": false, \"unique_hash\": \"dacount_helper_f3\"}, {\"func_name\": \"dacount_helper\", \"is_parent\": false, \"frame_id\": 4, \"parent_frame_id_list\": [], \"encoded_locals\": {\"i\": 1, \"j\": 2, \"acc\": [\"REF\", 3], \"k\": 1}, \"ordered_varnames\": [\"i\", \"j\", \"acc\", \"k\"], \"is_zombie\": false, \"is_highlighted\": false, \"unique_hash\": \"dacount_helper_f4\"}, {\"func_name\": \"dacount_helper\", \"is_parent\": false, \"frame_id\": 6, \"parent_frame_id_list\": [], \"encoded_locals\": {\"i\": 2, \"j\": 2, \"acc\": [\"REF\", 3], \"__return__\": null}, \"ordered_varnames\": [\"i\", \"j\", \"acc\", \"__return__\"], \"is_zombie\": false, \"is_highlighted\": true, \"unique_hash\": \"dacount_helper_f6\"}], \"heap\": {\"3\": [\"LIST\", 1, 2, 0, 0, 0], \"1\": [\"FUNCTION\", \"dacount_helper(i, j, acc)\", null], \"2\": [\"FUNCTION\", \"dacount(n)\", null]}, \"stdout\": \"\"}, {\"line\": 10, \"event\": \"return\", \"func_name\": \"dacount_helper\", \"globals\": {\"dacount_helper\": [\"REF\", 1], \"dacount\": [\"REF\", 2]}, \"ordered_globals\": [\"dacount_helper\", \"dacount\"], \"stack_to_render\": [{\"func_name\": \"dacount\", \"is_parent\": false, \"frame_id\": 1, \"parent_frame_id_list\": [], \"encoded_locals\": {\"n\": 5, \"acc\": [\"REF\", 3]}, \"ordered_varnames\": [\"n\", \"acc\"], \"is_zombie\": false, \"is_highlighted\": false, \"unique_hash\": \"dacount_f1\"}, {\"func_name\": \"dacount_helper\", \"is_parent\": false, \"frame_id\": 2, \"parent_frame_id_list\": [], \"encoded_locals\": {\"i\": 1, \"j\": 5, \"acc\": [\"REF\", 3], \"k\": 3}, \"ordered_varnames\": [\"i\", \"j\", \"acc\", \"k\"], \"is_zombie\": false, \"is_highlighted\": false, \"unique_hash\": \"dacount_helper_f2\"}, {\"func_name\": \"dacount_helper\", \"is_parent\": false, \"frame_id\": 3, \"parent_frame_id_list\": [], \"encoded_locals\": {\"i\": 1, \"j\": 3, \"acc\": [\"REF\", 3], \"k\": 2}, \"ordered_varnames\": [\"i\", \"j\", \"acc\", \"k\"], \"is_zombie\": false, \"is_highlighted\": false, \"unique_hash\": \"dacount_helper_f3\"}, {\"func_name\": \"dacount_helper\", \"is_parent\": false, \"frame_id\": 4, \"parent_frame_id_list\": [], \"encoded_locals\": {\"i\": 1, \"j\": 2, \"acc\": [\"REF\", 3], \"k\": 1, \"__return__\": null}, \"ordered_varnames\": [\"i\", \"j\", \"acc\", \"k\", \"__return__\"], \"is_zombie\": false, \"is_highlighted\": true, \"unique_hash\": \"dacount_helper_f4\"}], \"heap\": {\"3\": [\"LIST\", 1, 2, 0, 0, 0], \"1\": [\"FUNCTION\", \"dacount_helper(i, j, acc)\", null], \"2\": [\"FUNCTION\", \"dacount(n)\", null]}, \"stdout\": \"\"}, {\"line\": 10, \"event\": \"step_line\", \"func_name\": \"dacount_helper\", \"globals\": {\"dacount_helper\": [\"REF\", 1], \"dacount\": [\"REF\", 2]}, \"ordered_globals\": [\"dacount_helper\", \"dacount\"], \"stack_to_render\": [{\"func_name\": \"dacount\", \"is_parent\": false, \"frame_id\": 1, \"parent_frame_id_list\": [], \"encoded_locals\": {\"n\": 5, \"acc\": [\"REF\", 3]}, \"ordered_varnames\": [\"n\", \"acc\"], \"is_zombie\": false, \"is_highlighted\": false, \"unique_hash\": \"dacount_f1\"}, {\"func_name\": \"dacount_helper\", \"is_parent\": false, \"frame_id\": 2, \"parent_frame_id_list\": [], \"encoded_locals\": {\"i\": 1, \"j\": 5, \"acc\": [\"REF\", 3], \"k\": 3}, \"ordered_varnames\": [\"i\", \"j\", \"acc\", \"k\"], \"is_zombie\": false, \"is_highlighted\": false, \"unique_hash\": \"dacount_helper_f2\"}, {\"func_name\": \"dacount_helper\", \"is_parent\": false, \"frame_id\": 3, \"parent_frame_id_list\": [], \"encoded_locals\": {\"i\": 1, \"j\": 3, \"acc\": [\"REF\", 3], \"k\": 2}, \"ordered_varnames\": [\"i\", \"j\", \"acc\", \"k\"], \"is_zombie\": false, \"is_highlighted\": true, \"unique_hash\": \"dacount_helper_f3\"}], \"heap\": {\"3\": [\"LIST\", 1, 2, 0, 0, 0], \"1\": [\"FUNCTION\", \"dacount_helper(i, j, acc)\", null], \"2\": [\"FUNCTION\", \"dacount(n)\", null]}, \"stdout\": \"\"}, {\"line\": 2, \"event\": \"call\", \"func_name\": \"dacount_helper\", \"globals\": {\"dacount_helper\": [\"REF\", 1], \"dacount\": [\"REF\", 2]}, \"ordered_globals\": [\"dacount_helper\", \"dacount\"], \"stack_to_render\": [{\"func_name\": \"dacount\", \"is_parent\": false, \"frame_id\": 1, \"parent_frame_id_list\": [], \"encoded_locals\": {\"n\": 5, \"acc\": [\"REF\", 3]}, \"ordered_varnames\": [\"n\", \"acc\"], \"is_zombie\": false, \"is_highlighted\": false, \"unique_hash\": \"dacount_f1\"}, {\"func_name\": \"dacount_helper\", \"is_parent\": false, \"frame_id\": 2, \"parent_frame_id_list\": [], \"encoded_locals\": {\"i\": 1, \"j\": 5, \"acc\": [\"REF\", 3], \"k\": 3}, \"ordered_varnames\": [\"i\", \"j\", \"acc\", \"k\"], \"is_zombie\": false, \"is_highlighted\": false, \"unique_hash\": \"dacount_helper_f2\"}, {\"func_name\": \"dacount_helper\", \"is_parent\": false, \"frame_id\": 3, \"parent_frame_id_list\": [], \"encoded_locals\": {\"i\": 1, \"j\": 3, \"acc\": [\"REF\", 3], \"k\": 2}, \"ordered_varnames\": [\"i\", \"j\", \"acc\", \"k\"], \"is_zombie\": false, \"is_highlighted\": false, \"unique_hash\": \"dacount_helper_f3\"}, {\"func_name\": \"dacount_helper\", \"is_parent\": false, \"frame_id\": 7, \"parent_frame_id_list\": [], \"encoded_locals\": {\"i\": 3, \"j\": 3, \"acc\": [\"REF\", 3]}, \"ordered_varnames\": [\"i\", \"j\", \"acc\"], \"is_zombie\": false, \"is_highlighted\": true, \"unique_hash\": \"dacount_helper_f7\"}], \"heap\": {\"3\": [\"LIST\", 1, 2, 0, 0, 0], \"1\": [\"FUNCTION\", \"dacount_helper(i, j, acc)\", null], \"2\": [\"FUNCTION\", \"dacount(n)\", null]}, \"stdout\": \"\"}, {\"line\": 3, \"event\": \"step_line\", \"func_name\": \"dacount_helper\", \"globals\": {\"dacount_helper\": [\"REF\", 1], \"dacount\": [\"REF\", 2]}, \"ordered_globals\": [\"dacount_helper\", \"dacount\"], \"stack_to_render\": [{\"func_name\": \"dacount\", \"is_parent\": false, \"frame_id\": 1, \"parent_frame_id_list\": [], \"encoded_locals\": {\"n\": 5, \"acc\": [\"REF\", 3]}, \"ordered_varnames\": [\"n\", \"acc\"], \"is_zombie\": false, \"is_highlighted\": false, \"unique_hash\": \"dacount_f1\"}, {\"func_name\": \"dacount_helper\", \"is_parent\": false, \"frame_id\": 2, \"parent_frame_id_list\": [], \"encoded_locals\": {\"i\": 1, \"j\": 5, \"acc\": [\"REF\", 3], \"k\": 3}, \"ordered_varnames\": [\"i\", \"j\", \"acc\", \"k\"], \"is_zombie\": false, \"is_highlighted\": false, \"unique_hash\": \"dacount_helper_f2\"}, {\"func_name\": \"dacount_helper\", \"is_parent\": false, \"frame_id\": 3, \"parent_frame_id_list\": [], \"encoded_locals\": {\"i\": 1, \"j\": 3, \"acc\": [\"REF\", 3], \"k\": 2}, \"ordered_varnames\": [\"i\", \"j\", \"acc\", \"k\"], \"is_zombie\": false, \"is_highlighted\": false, \"unique_hash\": \"dacount_helper_f3\"}, {\"func_name\": \"dacount_helper\", \"is_parent\": false, \"frame_id\": 7, \"parent_frame_id_list\": [], \"encoded_locals\": {\"i\": 3, \"j\": 3, \"acc\": [\"REF\", 3]}, \"ordered_varnames\": [\"i\", \"j\", \"acc\"], \"is_zombie\": false, \"is_highlighted\": true, \"unique_hash\": \"dacount_helper_f7\"}], \"heap\": {\"3\": [\"LIST\", 1, 2, 0, 0, 0], \"1\": [\"FUNCTION\", \"dacount_helper(i, j, acc)\", null], \"2\": [\"FUNCTION\", \"dacount(n)\", null]}, \"stdout\": \"\"}, {\"line\": 5, \"event\": \"step_line\", \"func_name\": \"dacount_helper\", \"globals\": {\"dacount_helper\": [\"REF\", 1], \"dacount\": [\"REF\", 2]}, \"ordered_globals\": [\"dacount_helper\", \"dacount\"], \"stack_to_render\": [{\"func_name\": \"dacount\", \"is_parent\": false, \"frame_id\": 1, \"parent_frame_id_list\": [], \"encoded_locals\": {\"n\": 5, \"acc\": [\"REF\", 3]}, \"ordered_varnames\": [\"n\", \"acc\"], \"is_zombie\": false, \"is_highlighted\": false, \"unique_hash\": \"dacount_f1\"}, {\"func_name\": \"dacount_helper\", \"is_parent\": false, \"frame_id\": 2, \"parent_frame_id_list\": [], \"encoded_locals\": {\"i\": 1, \"j\": 5, \"acc\": [\"REF\", 3], \"k\": 3}, \"ordered_varnames\": [\"i\", \"j\", \"acc\", \"k\"], \"is_zombie\": false, \"is_highlighted\": false, \"unique_hash\": \"dacount_helper_f2\"}, {\"func_name\": \"dacount_helper\", \"is_parent\": false, \"frame_id\": 3, \"parent_frame_id_list\": [], \"encoded_locals\": {\"i\": 1, \"j\": 3, \"acc\": [\"REF\", 3], \"k\": 2}, \"ordered_varnames\": [\"i\", \"j\", \"acc\", \"k\"], \"is_zombie\": false, \"is_highlighted\": false, \"unique_hash\": \"dacount_helper_f3\"}, {\"func_name\": \"dacount_helper\", \"is_parent\": false, \"frame_id\": 7, \"parent_frame_id_list\": [], \"encoded_locals\": {\"i\": 3, \"j\": 3, \"acc\": [\"REF\", 3]}, \"ordered_varnames\": [\"i\", \"j\", \"acc\"], \"is_zombie\": false, \"is_highlighted\": true, \"unique_hash\": \"dacount_helper_f7\"}], \"heap\": {\"3\": [\"LIST\", 1, 2, 0, 0, 0], \"1\": [\"FUNCTION\", \"dacount_helper(i, j, acc)\", null], \"2\": [\"FUNCTION\", \"dacount(n)\", null]}, \"stdout\": \"\"}, {\"line\": 6, \"event\": \"step_line\", \"func_name\": \"dacount_helper\", \"globals\": {\"dacount_helper\": [\"REF\", 1], \"dacount\": [\"REF\", 2]}, \"ordered_globals\": [\"dacount_helper\", \"dacount\"], \"stack_to_render\": [{\"func_name\": \"dacount\", \"is_parent\": false, \"frame_id\": 1, \"parent_frame_id_list\": [], \"encoded_locals\": {\"n\": 5, \"acc\": [\"REF\", 3]}, \"ordered_varnames\": [\"n\", \"acc\"], \"is_zombie\": false, \"is_highlighted\": false, \"unique_hash\": \"dacount_f1\"}, {\"func_name\": \"dacount_helper\", \"is_parent\": false, \"frame_id\": 2, \"parent_frame_id_list\": [], \"encoded_locals\": {\"i\": 1, \"j\": 5, \"acc\": [\"REF\", 3], \"k\": 3}, \"ordered_varnames\": [\"i\", \"j\", \"acc\", \"k\"], \"is_zombie\": false, \"is_highlighted\": false, \"unique_hash\": \"dacount_helper_f2\"}, {\"func_name\": \"dacount_helper\", \"is_parent\": false, \"frame_id\": 3, \"parent_frame_id_list\": [], \"encoded_locals\": {\"i\": 1, \"j\": 3, \"acc\": [\"REF\", 3], \"k\": 2}, \"ordered_varnames\": [\"i\", \"j\", \"acc\", \"k\"], \"is_zombie\": false, \"is_highlighted\": false, \"unique_hash\": \"dacount_helper_f3\"}, {\"func_name\": \"dacount_helper\", \"is_parent\": false, \"frame_id\": 7, \"parent_frame_id_list\": [], \"encoded_locals\": {\"i\": 3, \"j\": 3, \"acc\": [\"REF\", 3]}, \"ordered_varnames\": [\"i\", \"j\", \"acc\"], \"is_zombie\": false, \"is_highlighted\": true, \"unique_hash\": \"dacount_helper_f7\"}], \"heap\": {\"3\": [\"LIST\", 1, 2, 0, 0, 0], \"1\": [\"FUNCTION\", \"dacount_helper(i, j, acc)\", null], \"2\": [\"FUNCTION\", \"dacount(n)\", null]}, \"stdout\": \"\"}, {\"line\": 6, \"event\": \"return\", \"func_name\": \"dacount_helper\", \"globals\": {\"dacount_helper\": [\"REF\", 1], \"dacount\": [\"REF\", 2]}, \"ordered_globals\": [\"dacount_helper\", \"dacount\"], \"stack_to_render\": [{\"func_name\": \"dacount\", \"is_parent\": false, \"frame_id\": 1, \"parent_frame_id_list\": [], \"encoded_locals\": {\"n\": 5, \"acc\": [\"REF\", 3]}, \"ordered_varnames\": [\"n\", \"acc\"], \"is_zombie\": false, \"is_highlighted\": false, \"unique_hash\": \"dacount_f1\"}, {\"func_name\": \"dacount_helper\", \"is_parent\": false, \"frame_id\": 2, \"parent_frame_id_list\": [], \"encoded_locals\": {\"i\": 1, \"j\": 5, \"acc\": [\"REF\", 3], \"k\": 3}, \"ordered_varnames\": [\"i\", \"j\", \"acc\", \"k\"], \"is_zombie\": false, \"is_highlighted\": false, \"unique_hash\": \"dacount_helper_f2\"}, {\"func_name\": \"dacount_helper\", \"is_parent\": false, \"frame_id\": 3, \"parent_frame_id_list\": [], \"encoded_locals\": {\"i\": 1, \"j\": 3, \"acc\": [\"REF\", 3], \"k\": 2}, \"ordered_varnames\": [\"i\", \"j\", \"acc\", \"k\"], \"is_zombie\": false, \"is_highlighted\": false, \"unique_hash\": \"dacount_helper_f3\"}, {\"func_name\": \"dacount_helper\", \"is_parent\": false, \"frame_id\": 7, \"parent_frame_id_list\": [], \"encoded_locals\": {\"i\": 3, \"j\": 3, \"acc\": [\"REF\", 3], \"__return__\": null}, \"ordered_varnames\": [\"i\", \"j\", \"acc\", \"__return__\"], \"is_zombie\": false, \"is_highlighted\": true, \"unique_hash\": \"dacount_helper_f7\"}], \"heap\": {\"3\": [\"LIST\", 1, 2, 3, 0, 0], \"1\": [\"FUNCTION\", \"dacount_helper(i, j, acc)\", null], \"2\": [\"FUNCTION\", \"dacount(n)\", null]}, \"stdout\": \"\"}, {\"line\": 10, \"event\": \"return\", \"func_name\": \"dacount_helper\", \"globals\": {\"dacount_helper\": [\"REF\", 1], \"dacount\": [\"REF\", 2]}, \"ordered_globals\": [\"dacount_helper\", \"dacount\"], \"stack_to_render\": [{\"func_name\": \"dacount\", \"is_parent\": false, \"frame_id\": 1, \"parent_frame_id_list\": [], \"encoded_locals\": {\"n\": 5, \"acc\": [\"REF\", 3]}, \"ordered_varnames\": [\"n\", \"acc\"], \"is_zombie\": false, \"is_highlighted\": false, \"unique_hash\": \"dacount_f1\"}, {\"func_name\": \"dacount_helper\", \"is_parent\": false, \"frame_id\": 2, \"parent_frame_id_list\": [], \"encoded_locals\": {\"i\": 1, \"j\": 5, \"acc\": [\"REF\", 3], \"k\": 3}, \"ordered_varnames\": [\"i\", \"j\", \"acc\", \"k\"], \"is_zombie\": false, \"is_highlighted\": false, \"unique_hash\": \"dacount_helper_f2\"}, {\"func_name\": \"dacount_helper\", \"is_parent\": false, \"frame_id\": 3, \"parent_frame_id_list\": [], \"encoded_locals\": {\"i\": 1, \"j\": 3, \"acc\": [\"REF\", 3], \"k\": 2, \"__return__\": null}, \"ordered_varnames\": [\"i\", \"j\", \"acc\", \"k\", \"__return__\"], \"is_zombie\": false, \"is_highlighted\": true, \"unique_hash\": \"dacount_helper_f3\"}], \"heap\": {\"3\": [\"LIST\", 1, 2, 3, 0, 0], \"1\": [\"FUNCTION\", \"dacount_helper(i, j, acc)\", null], \"2\": [\"FUNCTION\", \"dacount(n)\", null]}, \"stdout\": \"\"}, {\"line\": 10, \"event\": \"step_line\", \"func_name\": \"dacount_helper\", \"globals\": {\"dacount_helper\": [\"REF\", 1], \"dacount\": [\"REF\", 2]}, \"ordered_globals\": [\"dacount_helper\", \"dacount\"], \"stack_to_render\": [{\"func_name\": \"dacount\", \"is_parent\": false, \"frame_id\": 1, \"parent_frame_id_list\": [], \"encoded_locals\": {\"n\": 5, \"acc\": [\"REF\", 3]}, \"ordered_varnames\": [\"n\", \"acc\"], \"is_zombie\": false, \"is_highlighted\": false, \"unique_hash\": \"dacount_f1\"}, {\"func_name\": \"dacount_helper\", \"is_parent\": false, \"frame_id\": 2, \"parent_frame_id_list\": [], \"encoded_locals\": {\"i\": 1, \"j\": 5, \"acc\": [\"REF\", 3], \"k\": 3}, \"ordered_varnames\": [\"i\", \"j\", \"acc\", \"k\"], \"is_zombie\": false, \"is_highlighted\": true, \"unique_hash\": \"dacount_helper_f2\"}], \"heap\": {\"3\": [\"LIST\", 1, 2, 3, 0, 0], \"1\": [\"FUNCTION\", \"dacount_helper(i, j, acc)\", null], \"2\": [\"FUNCTION\", \"dacount(n)\", null]}, \"stdout\": \"\"}, {\"line\": 2, \"event\": \"call\", \"func_name\": \"dacount_helper\", \"globals\": {\"dacount_helper\": [\"REF\", 1], \"dacount\": [\"REF\", 2]}, \"ordered_globals\": [\"dacount_helper\", \"dacount\"], \"stack_to_render\": [{\"func_name\": \"dacount\", \"is_parent\": false, \"frame_id\": 1, \"parent_frame_id_list\": [], \"encoded_locals\": {\"n\": 5, \"acc\": [\"REF\", 3]}, \"ordered_varnames\": [\"n\", \"acc\"], \"is_zombie\": false, \"is_highlighted\": false, \"unique_hash\": \"dacount_f1\"}, {\"func_name\": \"dacount_helper\", \"is_parent\": false, \"frame_id\": 2, \"parent_frame_id_list\": [], \"encoded_locals\": {\"i\": 1, \"j\": 5, \"acc\": [\"REF\", 3], \"k\": 3}, \"ordered_varnames\": [\"i\", \"j\", \"acc\", \"k\"], \"is_zombie\": false, \"is_highlighted\": false, \"unique_hash\": \"dacount_helper_f2\"}, {\"func_name\": \"dacount_helper\", \"is_parent\": false, \"frame_id\": 8, \"parent_frame_id_list\": [], \"encoded_locals\": {\"i\": 4, \"j\": 5, \"acc\": [\"REF\", 3]}, \"ordered_varnames\": [\"i\", \"j\", \"acc\"], \"is_zombie\": false, \"is_highlighted\": true, \"unique_hash\": \"dacount_helper_f8\"}], \"heap\": {\"3\": [\"LIST\", 1, 2, 3, 0, 0], \"1\": [\"FUNCTION\", \"dacount_helper(i, j, acc)\", null], \"2\": [\"FUNCTION\", \"dacount(n)\", null]}, \"stdout\": \"\"}, {\"line\": 3, \"event\": \"step_line\", \"func_name\": \"dacount_helper\", \"globals\": {\"dacount_helper\": [\"REF\", 1], \"dacount\": [\"REF\", 2]}, \"ordered_globals\": [\"dacount_helper\", \"dacount\"], \"stack_to_render\": [{\"func_name\": \"dacount\", \"is_parent\": false, \"frame_id\": 1, \"parent_frame_id_list\": [], \"encoded_locals\": {\"n\": 5, \"acc\": [\"REF\", 3]}, \"ordered_varnames\": [\"n\", \"acc\"], \"is_zombie\": false, \"is_highlighted\": false, \"unique_hash\": \"dacount_f1\"}, {\"func_name\": \"dacount_helper\", \"is_parent\": false, \"frame_id\": 2, \"parent_frame_id_list\": [], \"encoded_locals\": {\"i\": 1, \"j\": 5, \"acc\": [\"REF\", 3], \"k\": 3}, \"ordered_varnames\": [\"i\", \"j\", \"acc\", \"k\"], \"is_zombie\": false, \"is_highlighted\": false, \"unique_hash\": \"dacount_helper_f2\"}, {\"func_name\": \"dacount_helper\", \"is_parent\": false, \"frame_id\": 8, \"parent_frame_id_list\": [], \"encoded_locals\": {\"i\": 4, \"j\": 5, \"acc\": [\"REF\", 3]}, \"ordered_varnames\": [\"i\", \"j\", \"acc\"], \"is_zombie\": false, \"is_highlighted\": true, \"unique_hash\": \"dacount_helper_f8\"}], \"heap\": {\"3\": [\"LIST\", 1, 2, 3, 0, 0], \"1\": [\"FUNCTION\", \"dacount_helper(i, j, acc)\", null], \"2\": [\"FUNCTION\", \"dacount(n)\", null]}, \"stdout\": \"\"}, {\"line\": 5, \"event\": \"step_line\", \"func_name\": \"dacount_helper\", \"globals\": {\"dacount_helper\": [\"REF\", 1], \"dacount\": [\"REF\", 2]}, \"ordered_globals\": [\"dacount_helper\", \"dacount\"], \"stack_to_render\": [{\"func_name\": \"dacount\", \"is_parent\": false, \"frame_id\": 1, \"parent_frame_id_list\": [], \"encoded_locals\": {\"n\": 5, \"acc\": [\"REF\", 3]}, \"ordered_varnames\": [\"n\", \"acc\"], \"is_zombie\": false, \"is_highlighted\": false, \"unique_hash\": \"dacount_f1\"}, {\"func_name\": \"dacount_helper\", \"is_parent\": false, \"frame_id\": 2, \"parent_frame_id_list\": [], \"encoded_locals\": {\"i\": 1, \"j\": 5, \"acc\": [\"REF\", 3], \"k\": 3}, \"ordered_varnames\": [\"i\", \"j\", \"acc\", \"k\"], \"is_zombie\": false, \"is_highlighted\": false, \"unique_hash\": \"dacount_helper_f2\"}, {\"func_name\": \"dacount_helper\", \"is_parent\": false, \"frame_id\": 8, \"parent_frame_id_list\": [], \"encoded_locals\": {\"i\": 4, \"j\": 5, \"acc\": [\"REF\", 3]}, \"ordered_varnames\": [\"i\", \"j\", \"acc\"], \"is_zombie\": false, \"is_highlighted\": true, \"unique_hash\": \"dacount_helper_f8\"}], \"heap\": {\"3\": [\"LIST\", 1, 2, 3, 0, 0], \"1\": [\"FUNCTION\", \"dacount_helper(i, j, acc)\", null], \"2\": [\"FUNCTION\", \"dacount(n)\", null]}, \"stdout\": \"\"}, {\"line\": 8, \"event\": \"step_line\", \"func_name\": \"dacount_helper\", \"globals\": {\"dacount_helper\": [\"REF\", 1], \"dacount\": [\"REF\", 2]}, \"ordered_globals\": [\"dacount_helper\", \"dacount\"], \"stack_to_render\": [{\"func_name\": \"dacount\", \"is_parent\": false, \"frame_id\": 1, \"parent_frame_id_list\": [], \"encoded_locals\": {\"n\": 5, \"acc\": [\"REF\", 3]}, \"ordered_varnames\": [\"n\", \"acc\"], \"is_zombie\": false, \"is_highlighted\": false, \"unique_hash\": \"dacount_f1\"}, {\"func_name\": \"dacount_helper\", \"is_parent\": false, \"frame_id\": 2, \"parent_frame_id_list\": [], \"encoded_locals\": {\"i\": 1, \"j\": 5, \"acc\": [\"REF\", 3], \"k\": 3}, \"ordered_varnames\": [\"i\", \"j\", \"acc\", \"k\"], \"is_zombie\": false, \"is_highlighted\": false, \"unique_hash\": \"dacount_helper_f2\"}, {\"func_name\": \"dacount_helper\", \"is_parent\": false, \"frame_id\": 8, \"parent_frame_id_list\": [], \"encoded_locals\": {\"i\": 4, \"j\": 5, \"acc\": [\"REF\", 3]}, \"ordered_varnames\": [\"i\", \"j\", \"acc\"], \"is_zombie\": false, \"is_highlighted\": true, \"unique_hash\": \"dacount_helper_f8\"}], \"heap\": {\"3\": [\"LIST\", 1, 2, 3, 0, 0], \"1\": [\"FUNCTION\", \"dacount_helper(i, j, acc)\", null], \"2\": [\"FUNCTION\", \"dacount(n)\", null]}, \"stdout\": \"\"}, {\"line\": 9, \"event\": \"step_line\", \"func_name\": \"dacount_helper\", \"globals\": {\"dacount_helper\": [\"REF\", 1], \"dacount\": [\"REF\", 2]}, \"ordered_globals\": [\"dacount_helper\", \"dacount\"], \"stack_to_render\": [{\"func_name\": \"dacount\", \"is_parent\": false, \"frame_id\": 1, \"parent_frame_id_list\": [], \"encoded_locals\": {\"n\": 5, \"acc\": [\"REF\", 3]}, \"ordered_varnames\": [\"n\", \"acc\"], \"is_zombie\": false, \"is_highlighted\": false, \"unique_hash\": \"dacount_f1\"}, {\"func_name\": \"dacount_helper\", \"is_parent\": false, \"frame_id\": 2, \"parent_frame_id_list\": [], \"encoded_locals\": {\"i\": 1, \"j\": 5, \"acc\": [\"REF\", 3], \"k\": 3}, \"ordered_varnames\": [\"i\", \"j\", \"acc\", \"k\"], \"is_zombie\": false, \"is_highlighted\": false, \"unique_hash\": \"dacount_helper_f2\"}, {\"func_name\": \"dacount_helper\", \"is_parent\": false, \"frame_id\": 8, \"parent_frame_id_list\": [], \"encoded_locals\": {\"i\": 4, \"j\": 5, \"acc\": [\"REF\", 3], \"k\": 4}, \"ordered_varnames\": [\"i\", \"j\", \"acc\", \"k\"], \"is_zombie\": false, \"is_highlighted\": true, \"unique_hash\": \"dacount_helper_f8\"}], \"heap\": {\"3\": [\"LIST\", 1, 2, 3, 0, 0], \"1\": [\"FUNCTION\", \"dacount_helper(i, j, acc)\", null], \"2\": [\"FUNCTION\", \"dacount(n)\", null]}, \"stdout\": \"\"}, {\"line\": 2, \"event\": \"call\", \"func_name\": \"dacount_helper\", \"globals\": {\"dacount_helper\": [\"REF\", 1], \"dacount\": [\"REF\", 2]}, \"ordered_globals\": [\"dacount_helper\", \"dacount\"], \"stack_to_render\": [{\"func_name\": \"dacount\", \"is_parent\": false, \"frame_id\": 1, \"parent_frame_id_list\": [], \"encoded_locals\": {\"n\": 5, \"acc\": [\"REF\", 3]}, \"ordered_varnames\": [\"n\", \"acc\"], \"is_zombie\": false, \"is_highlighted\": false, \"unique_hash\": \"dacount_f1\"}, {\"func_name\": \"dacount_helper\", \"is_parent\": false, \"frame_id\": 2, \"parent_frame_id_list\": [], \"encoded_locals\": {\"i\": 1, \"j\": 5, \"acc\": [\"REF\", 3], \"k\": 3}, \"ordered_varnames\": [\"i\", \"j\", \"acc\", \"k\"], \"is_zombie\": false, \"is_highlighted\": false, \"unique_hash\": \"dacount_helper_f2\"}, {\"func_name\": \"dacount_helper\", \"is_parent\": false, \"frame_id\": 8, \"parent_frame_id_list\": [], \"encoded_locals\": {\"i\": 4, \"j\": 5, \"acc\": [\"REF\", 3], \"k\": 4}, \"ordered_varnames\": [\"i\", \"j\", \"acc\", \"k\"], \"is_zombie\": false, \"is_highlighted\": false, \"unique_hash\": \"dacount_helper_f8\"}, {\"func_name\": \"dacount_helper\", \"is_parent\": false, \"frame_id\": 9, \"parent_frame_id_list\": [], \"encoded_locals\": {\"i\": 4, \"j\": 4, \"acc\": [\"REF\", 3]}, \"ordered_varnames\": [\"i\", \"j\", \"acc\"], \"is_zombie\": false, \"is_highlighted\": true, \"unique_hash\": \"dacount_helper_f9\"}], \"heap\": {\"3\": [\"LIST\", 1, 2, 3, 0, 0], \"1\": [\"FUNCTION\", \"dacount_helper(i, j, acc)\", null], \"2\": [\"FUNCTION\", \"dacount(n)\", null]}, \"stdout\": \"\"}, {\"line\": 3, \"event\": \"step_line\", \"func_name\": \"dacount_helper\", \"globals\": {\"dacount_helper\": [\"REF\", 1], \"dacount\": [\"REF\", 2]}, \"ordered_globals\": [\"dacount_helper\", \"dacount\"], \"stack_to_render\": [{\"func_name\": \"dacount\", \"is_parent\": false, \"frame_id\": 1, \"parent_frame_id_list\": [], \"encoded_locals\": {\"n\": 5, \"acc\": [\"REF\", 3]}, \"ordered_varnames\": [\"n\", \"acc\"], \"is_zombie\": false, \"is_highlighted\": false, \"unique_hash\": \"dacount_f1\"}, {\"func_name\": \"dacount_helper\", \"is_parent\": false, \"frame_id\": 2, \"parent_frame_id_list\": [], \"encoded_locals\": {\"i\": 1, \"j\": 5, \"acc\": [\"REF\", 3], \"k\": 3}, \"ordered_varnames\": [\"i\", \"j\", \"acc\", \"k\"], \"is_zombie\": false, \"is_highlighted\": false, \"unique_hash\": \"dacount_helper_f2\"}, {\"func_name\": \"dacount_helper\", \"is_parent\": false, \"frame_id\": 8, \"parent_frame_id_list\": [], \"encoded_locals\": {\"i\": 4, \"j\": 5, \"acc\": [\"REF\", 3], \"k\": 4}, \"ordered_varnames\": [\"i\", \"j\", \"acc\", \"k\"], \"is_zombie\": false, \"is_highlighted\": false, \"unique_hash\": \"dacount_helper_f8\"}, {\"func_name\": \"dacount_helper\", \"is_parent\": false, \"frame_id\": 9, \"parent_frame_id_list\": [], \"encoded_locals\": {\"i\": 4, \"j\": 4, \"acc\": [\"REF\", 3]}, \"ordered_varnames\": [\"i\", \"j\", \"acc\"], \"is_zombie\": false, \"is_highlighted\": true, \"unique_hash\": \"dacount_helper_f9\"}], \"heap\": {\"3\": [\"LIST\", 1, 2, 3, 0, 0], \"1\": [\"FUNCTION\", \"dacount_helper(i, j, acc)\", null], \"2\": [\"FUNCTION\", \"dacount(n)\", null]}, \"stdout\": \"\"}, {\"line\": 5, \"event\": \"step_line\", \"func_name\": \"dacount_helper\", \"globals\": {\"dacount_helper\": [\"REF\", 1], \"dacount\": [\"REF\", 2]}, \"ordered_globals\": [\"dacount_helper\", \"dacount\"], \"stack_to_render\": [{\"func_name\": \"dacount\", \"is_parent\": false, \"frame_id\": 1, \"parent_frame_id_list\": [], \"encoded_locals\": {\"n\": 5, \"acc\": [\"REF\", 3]}, \"ordered_varnames\": [\"n\", \"acc\"], \"is_zombie\": false, \"is_highlighted\": false, \"unique_hash\": \"dacount_f1\"}, {\"func_name\": \"dacount_helper\", \"is_parent\": false, \"frame_id\": 2, \"parent_frame_id_list\": [], \"encoded_locals\": {\"i\": 1, \"j\": 5, \"acc\": [\"REF\", 3], \"k\": 3}, \"ordered_varnames\": [\"i\", \"j\", \"acc\", \"k\"], \"is_zombie\": false, \"is_highlighted\": false, \"unique_hash\": \"dacount_helper_f2\"}, {\"func_name\": \"dacount_helper\", \"is_parent\": false, \"frame_id\": 8, \"parent_frame_id_list\": [], \"encoded_locals\": {\"i\": 4, \"j\": 5, \"acc\": [\"REF\", 3], \"k\": 4}, \"ordered_varnames\": [\"i\", \"j\", \"acc\", \"k\"], \"is_zombie\": false, \"is_highlighted\": false, \"unique_hash\": \"dacount_helper_f8\"}, {\"func_name\": \"dacount_helper\", \"is_parent\": false, \"frame_id\": 9, \"parent_frame_id_list\": [], \"encoded_locals\": {\"i\": 4, \"j\": 4, \"acc\": [\"REF\", 3]}, \"ordered_varnames\": [\"i\", \"j\", \"acc\"], \"is_zombie\": false, \"is_highlighted\": true, \"unique_hash\": \"dacount_helper_f9\"}], \"heap\": {\"3\": [\"LIST\", 1, 2, 3, 0, 0], \"1\": [\"FUNCTION\", \"dacount_helper(i, j, acc)\", null], \"2\": [\"FUNCTION\", \"dacount(n)\", null]}, \"stdout\": \"\"}, {\"line\": 6, \"event\": \"step_line\", \"func_name\": \"dacount_helper\", \"globals\": {\"dacount_helper\": [\"REF\", 1], \"dacount\": [\"REF\", 2]}, \"ordered_globals\": [\"dacount_helper\", \"dacount\"], \"stack_to_render\": [{\"func_name\": \"dacount\", \"is_parent\": false, \"frame_id\": 1, \"parent_frame_id_list\": [], \"encoded_locals\": {\"n\": 5, \"acc\": [\"REF\", 3]}, \"ordered_varnames\": [\"n\", \"acc\"], \"is_zombie\": false, \"is_highlighted\": false, \"unique_hash\": \"dacount_f1\"}, {\"func_name\": \"dacount_helper\", \"is_parent\": false, \"frame_id\": 2, \"parent_frame_id_list\": [], \"encoded_locals\": {\"i\": 1, \"j\": 5, \"acc\": [\"REF\", 3], \"k\": 3}, \"ordered_varnames\": [\"i\", \"j\", \"acc\", \"k\"], \"is_zombie\": false, \"is_highlighted\": false, \"unique_hash\": \"dacount_helper_f2\"}, {\"func_name\": \"dacount_helper\", \"is_parent\": false, \"frame_id\": 8, \"parent_frame_id_list\": [], \"encoded_locals\": {\"i\": 4, \"j\": 5, \"acc\": [\"REF\", 3], \"k\": 4}, \"ordered_varnames\": [\"i\", \"j\", \"acc\", \"k\"], \"is_zombie\": false, \"is_highlighted\": false, \"unique_hash\": \"dacount_helper_f8\"}, {\"func_name\": \"dacount_helper\", \"is_parent\": false, \"frame_id\": 9, \"parent_frame_id_list\": [], \"encoded_locals\": {\"i\": 4, \"j\": 4, \"acc\": [\"REF\", 3]}, \"ordered_varnames\": [\"i\", \"j\", \"acc\"], \"is_zombie\": false, \"is_highlighted\": true, \"unique_hash\": \"dacount_helper_f9\"}], \"heap\": {\"3\": [\"LIST\", 1, 2, 3, 0, 0], \"1\": [\"FUNCTION\", \"dacount_helper(i, j, acc)\", null], \"2\": [\"FUNCTION\", \"dacount(n)\", null]}, \"stdout\": \"\"}, {\"line\": 6, \"event\": \"return\", \"func_name\": \"dacount_helper\", \"globals\": {\"dacount_helper\": [\"REF\", 1], \"dacount\": [\"REF\", 2]}, \"ordered_globals\": [\"dacount_helper\", \"dacount\"], \"stack_to_render\": [{\"func_name\": \"dacount\", \"is_parent\": false, \"frame_id\": 1, \"parent_frame_id_list\": [], \"encoded_locals\": {\"n\": 5, \"acc\": [\"REF\", 3]}, \"ordered_varnames\": [\"n\", \"acc\"], \"is_zombie\": false, \"is_highlighted\": false, \"unique_hash\": \"dacount_f1\"}, {\"func_name\": \"dacount_helper\", \"is_parent\": false, \"frame_id\": 2, \"parent_frame_id_list\": [], \"encoded_locals\": {\"i\": 1, \"j\": 5, \"acc\": [\"REF\", 3], \"k\": 3}, \"ordered_varnames\": [\"i\", \"j\", \"acc\", \"k\"], \"is_zombie\": false, \"is_highlighted\": false, \"unique_hash\": \"dacount_helper_f2\"}, {\"func_name\": \"dacount_helper\", \"is_parent\": false, \"frame_id\": 8, \"parent_frame_id_list\": [], \"encoded_locals\": {\"i\": 4, \"j\": 5, \"acc\": [\"REF\", 3], \"k\": 4}, \"ordered_varnames\": [\"i\", \"j\", \"acc\", \"k\"], \"is_zombie\": false, \"is_highlighted\": false, \"unique_hash\": \"dacount_helper_f8\"}, {\"func_name\": \"dacount_helper\", \"is_parent\": false, \"frame_id\": 9, \"parent_frame_id_list\": [], \"encoded_locals\": {\"i\": 4, \"j\": 4, \"acc\": [\"REF\", 3], \"__return__\": null}, \"ordered_varnames\": [\"i\", \"j\", \"acc\", \"__return__\"], \"is_zombie\": false, \"is_highlighted\": true, \"unique_hash\": \"dacount_helper_f9\"}], \"heap\": {\"3\": [\"LIST\", 1, 2, 3, 4, 0], \"1\": [\"FUNCTION\", \"dacount_helper(i, j, acc)\", null], \"2\": [\"FUNCTION\", \"dacount(n)\", null]}, \"stdout\": \"\"}, {\"line\": 10, \"event\": \"step_line\", \"func_name\": \"dacount_helper\", \"globals\": {\"dacount_helper\": [\"REF\", 1], \"dacount\": [\"REF\", 2]}, \"ordered_globals\": [\"dacount_helper\", \"dacount\"], \"stack_to_render\": [{\"func_name\": \"dacount\", \"is_parent\": false, \"frame_id\": 1, \"parent_frame_id_list\": [], \"encoded_locals\": {\"n\": 5, \"acc\": [\"REF\", 3]}, \"ordered_varnames\": [\"n\", \"acc\"], \"is_zombie\": false, \"is_highlighted\": false, \"unique_hash\": \"dacount_f1\"}, {\"func_name\": \"dacount_helper\", \"is_parent\": false, \"frame_id\": 2, \"parent_frame_id_list\": [], \"encoded_locals\": {\"i\": 1, \"j\": 5, \"acc\": [\"REF\", 3], \"k\": 3}, \"ordered_varnames\": [\"i\", \"j\", \"acc\", \"k\"], \"is_zombie\": false, \"is_highlighted\": false, \"unique_hash\": \"dacount_helper_f2\"}, {\"func_name\": \"dacount_helper\", \"is_parent\": false, \"frame_id\": 8, \"parent_frame_id_list\": [], \"encoded_locals\": {\"i\": 4, \"j\": 5, \"acc\": [\"REF\", 3], \"k\": 4}, \"ordered_varnames\": [\"i\", \"j\", \"acc\", \"k\"], \"is_zombie\": false, \"is_highlighted\": true, \"unique_hash\": \"dacount_helper_f8\"}], \"heap\": {\"3\": [\"LIST\", 1, 2, 3, 4, 0], \"1\": [\"FUNCTION\", \"dacount_helper(i, j, acc)\", null], \"2\": [\"FUNCTION\", \"dacount(n)\", null]}, \"stdout\": \"\"}, {\"line\": 2, \"event\": \"call\", \"func_name\": \"dacount_helper\", \"globals\": {\"dacount_helper\": [\"REF\", 1], \"dacount\": [\"REF\", 2]}, \"ordered_globals\": [\"dacount_helper\", \"dacount\"], \"stack_to_render\": [{\"func_name\": \"dacount\", \"is_parent\": false, \"frame_id\": 1, \"parent_frame_id_list\": [], \"encoded_locals\": {\"n\": 5, \"acc\": [\"REF\", 3]}, \"ordered_varnames\": [\"n\", \"acc\"], \"is_zombie\": false, \"is_highlighted\": false, \"unique_hash\": \"dacount_f1\"}, {\"func_name\": \"dacount_helper\", \"is_parent\": false, \"frame_id\": 2, \"parent_frame_id_list\": [], \"encoded_locals\": {\"i\": 1, \"j\": 5, \"acc\": [\"REF\", 3], \"k\": 3}, \"ordered_varnames\": [\"i\", \"j\", \"acc\", \"k\"], \"is_zombie\": false, \"is_highlighted\": false, \"unique_hash\": \"dacount_helper_f2\"}, {\"func_name\": \"dacount_helper\", \"is_parent\": false, \"frame_id\": 8, \"parent_frame_id_list\": [], \"encoded_locals\": {\"i\": 4, \"j\": 5, \"acc\": [\"REF\", 3], \"k\": 4}, \"ordered_varnames\": [\"i\", \"j\", \"acc\", \"k\"], \"is_zombie\": false, \"is_highlighted\": false, \"unique_hash\": \"dacount_helper_f8\"}, {\"func_name\": \"dacount_helper\", \"is_parent\": false, \"frame_id\": 10, \"parent_frame_id_list\": [], \"encoded_locals\": {\"i\": 5, \"j\": 5, \"acc\": [\"REF\", 3]}, \"ordered_varnames\": [\"i\", \"j\", \"acc\"], \"is_zombie\": false, \"is_highlighted\": true, \"unique_hash\": \"dacount_helper_f10\"}], \"heap\": {\"3\": [\"LIST\", 1, 2, 3, 4, 0], \"1\": [\"FUNCTION\", \"dacount_helper(i, j, acc)\", null], \"2\": [\"FUNCTION\", \"dacount(n)\", null]}, \"stdout\": \"\"}, {\"line\": 3, \"event\": \"step_line\", \"func_name\": \"dacount_helper\", \"globals\": {\"dacount_helper\": [\"REF\", 1], \"dacount\": [\"REF\", 2]}, \"ordered_globals\": [\"dacount_helper\", \"dacount\"], \"stack_to_render\": [{\"func_name\": \"dacount\", \"is_parent\": false, \"frame_id\": 1, \"parent_frame_id_list\": [], \"encoded_locals\": {\"n\": 5, \"acc\": [\"REF\", 3]}, \"ordered_varnames\": [\"n\", \"acc\"], \"is_zombie\": false, \"is_highlighted\": false, \"unique_hash\": \"dacount_f1\"}, {\"func_name\": \"dacount_helper\", \"is_parent\": false, \"frame_id\": 2, \"parent_frame_id_list\": [], \"encoded_locals\": {\"i\": 1, \"j\": 5, \"acc\": [\"REF\", 3], \"k\": 3}, \"ordered_varnames\": [\"i\", \"j\", \"acc\", \"k\"], \"is_zombie\": false, \"is_highlighted\": false, \"unique_hash\": \"dacount_helper_f2\"}, {\"func_name\": \"dacount_helper\", \"is_parent\": false, \"frame_id\": 8, \"parent_frame_id_list\": [], \"encoded_locals\": {\"i\": 4, \"j\": 5, \"acc\": [\"REF\", 3], \"k\": 4}, \"ordered_varnames\": [\"i\", \"j\", \"acc\", \"k\"], \"is_zombie\": false, \"is_highlighted\": false, \"unique_hash\": \"dacount_helper_f8\"}, {\"func_name\": \"dacount_helper\", \"is_parent\": false, \"frame_id\": 10, \"parent_frame_id_list\": [], \"encoded_locals\": {\"i\": 5, \"j\": 5, \"acc\": [\"REF\", 3]}, \"ordered_varnames\": [\"i\", \"j\", \"acc\"], \"is_zombie\": false, \"is_highlighted\": true, \"unique_hash\": \"dacount_helper_f10\"}], \"heap\": {\"3\": [\"LIST\", 1, 2, 3, 4, 0], \"1\": [\"FUNCTION\", \"dacount_helper(i, j, acc)\", null], \"2\": [\"FUNCTION\", \"dacount(n)\", null]}, \"stdout\": \"\"}, {\"line\": 5, \"event\": \"step_line\", \"func_name\": \"dacount_helper\", \"globals\": {\"dacount_helper\": [\"REF\", 1], \"dacount\": [\"REF\", 2]}, \"ordered_globals\": [\"dacount_helper\", \"dacount\"], \"stack_to_render\": [{\"func_name\": \"dacount\", \"is_parent\": false, \"frame_id\": 1, \"parent_frame_id_list\": [], \"encoded_locals\": {\"n\": 5, \"acc\": [\"REF\", 3]}, \"ordered_varnames\": [\"n\", \"acc\"], \"is_zombie\": false, \"is_highlighted\": false, \"unique_hash\": \"dacount_f1\"}, {\"func_name\": \"dacount_helper\", \"is_parent\": false, \"frame_id\": 2, \"parent_frame_id_list\": [], \"encoded_locals\": {\"i\": 1, \"j\": 5, \"acc\": [\"REF\", 3], \"k\": 3}, \"ordered_varnames\": [\"i\", \"j\", \"acc\", \"k\"], \"is_zombie\": false, \"is_highlighted\": false, \"unique_hash\": \"dacount_helper_f2\"}, {\"func_name\": \"dacount_helper\", \"is_parent\": false, \"frame_id\": 8, \"parent_frame_id_list\": [], \"encoded_locals\": {\"i\": 4, \"j\": 5, \"acc\": [\"REF\", 3], \"k\": 4}, \"ordered_varnames\": [\"i\", \"j\", \"acc\", \"k\"], \"is_zombie\": false, \"is_highlighted\": false, \"unique_hash\": \"dacount_helper_f8\"}, {\"func_name\": \"dacount_helper\", \"is_parent\": false, \"frame_id\": 10, \"parent_frame_id_list\": [], \"encoded_locals\": {\"i\": 5, \"j\": 5, \"acc\": [\"REF\", 3]}, \"ordered_varnames\": [\"i\", \"j\", \"acc\"], \"is_zombie\": false, \"is_highlighted\": true, \"unique_hash\": \"dacount_helper_f10\"}], \"heap\": {\"3\": [\"LIST\", 1, 2, 3, 4, 0], \"1\": [\"FUNCTION\", \"dacount_helper(i, j, acc)\", null], \"2\": [\"FUNCTION\", \"dacount(n)\", null]}, \"stdout\": \"\"}, {\"line\": 6, \"event\": \"step_line\", \"func_name\": \"dacount_helper\", \"globals\": {\"dacount_helper\": [\"REF\", 1], \"dacount\": [\"REF\", 2]}, \"ordered_globals\": [\"dacount_helper\", \"dacount\"], \"stack_to_render\": [{\"func_name\": \"dacount\", \"is_parent\": false, \"frame_id\": 1, \"parent_frame_id_list\": [], \"encoded_locals\": {\"n\": 5, \"acc\": [\"REF\", 3]}, \"ordered_varnames\": [\"n\", \"acc\"], \"is_zombie\": false, \"is_highlighted\": false, \"unique_hash\": \"dacount_f1\"}, {\"func_name\": \"dacount_helper\", \"is_parent\": false, \"frame_id\": 2, \"parent_frame_id_list\": [], \"encoded_locals\": {\"i\": 1, \"j\": 5, \"acc\": [\"REF\", 3], \"k\": 3}, \"ordered_varnames\": [\"i\", \"j\", \"acc\", \"k\"], \"is_zombie\": false, \"is_highlighted\": false, \"unique_hash\": \"dacount_helper_f2\"}, {\"func_name\": \"dacount_helper\", \"is_parent\": false, \"frame_id\": 8, \"parent_frame_id_list\": [], \"encoded_locals\": {\"i\": 4, \"j\": 5, \"acc\": [\"REF\", 3], \"k\": 4}, \"ordered_varnames\": [\"i\", \"j\", \"acc\", \"k\"], \"is_zombie\": false, \"is_highlighted\": false, \"unique_hash\": \"dacount_helper_f8\"}, {\"func_name\": \"dacount_helper\", \"is_parent\": false, \"frame_id\": 10, \"parent_frame_id_list\": [], \"encoded_locals\": {\"i\": 5, \"j\": 5, \"acc\": [\"REF\", 3]}, \"ordered_varnames\": [\"i\", \"j\", \"acc\"], \"is_zombie\": false, \"is_highlighted\": true, \"unique_hash\": \"dacount_helper_f10\"}], \"heap\": {\"3\": [\"LIST\", 1, 2, 3, 4, 0], \"1\": [\"FUNCTION\", \"dacount_helper(i, j, acc)\", null], \"2\": [\"FUNCTION\", \"dacount(n)\", null]}, \"stdout\": \"\"}, {\"line\": 6, \"event\": \"return\", \"func_name\": \"dacount_helper\", \"globals\": {\"dacount_helper\": [\"REF\", 1], \"dacount\": [\"REF\", 2]}, \"ordered_globals\": [\"dacount_helper\", \"dacount\"], \"stack_to_render\": [{\"func_name\": \"dacount\", \"is_parent\": false, \"frame_id\": 1, \"parent_frame_id_list\": [], \"encoded_locals\": {\"n\": 5, \"acc\": [\"REF\", 3]}, \"ordered_varnames\": [\"n\", \"acc\"], \"is_zombie\": false, \"is_highlighted\": false, \"unique_hash\": \"dacount_f1\"}, {\"func_name\": \"dacount_helper\", \"is_parent\": false, \"frame_id\": 2, \"parent_frame_id_list\": [], \"encoded_locals\": {\"i\": 1, \"j\": 5, \"acc\": [\"REF\", 3], \"k\": 3}, \"ordered_varnames\": [\"i\", \"j\", \"acc\", \"k\"], \"is_zombie\": false, \"is_highlighted\": false, \"unique_hash\": \"dacount_helper_f2\"}, {\"func_name\": \"dacount_helper\", \"is_parent\": false, \"frame_id\": 8, \"parent_frame_id_list\": [], \"encoded_locals\": {\"i\": 4, \"j\": 5, \"acc\": [\"REF\", 3], \"k\": 4}, \"ordered_varnames\": [\"i\", \"j\", \"acc\", \"k\"], \"is_zombie\": false, \"is_highlighted\": false, \"unique_hash\": \"dacount_helper_f8\"}, {\"func_name\": \"dacount_helper\", \"is_parent\": false, \"frame_id\": 10, \"parent_frame_id_list\": [], \"encoded_locals\": {\"i\": 5, \"j\": 5, \"acc\": [\"REF\", 3], \"__return__\": null}, \"ordered_varnames\": [\"i\", \"j\", \"acc\", \"__return__\"], \"is_zombie\": false, \"is_highlighted\": true, \"unique_hash\": \"dacount_helper_f10\"}], \"heap\": {\"3\": [\"LIST\", 1, 2, 3, 4, 5], \"1\": [\"FUNCTION\", \"dacount_helper(i, j, acc)\", null], \"2\": [\"FUNCTION\", \"dacount(n)\", null]}, \"stdout\": \"\"}, {\"line\": 10, \"event\": \"return\", \"func_name\": \"dacount_helper\", \"globals\": {\"dacount_helper\": [\"REF\", 1], \"dacount\": [\"REF\", 2]}, \"ordered_globals\": [\"dacount_helper\", \"dacount\"], \"stack_to_render\": [{\"func_name\": \"dacount\", \"is_parent\": false, \"frame_id\": 1, \"parent_frame_id_list\": [], \"encoded_locals\": {\"n\": 5, \"acc\": [\"REF\", 3]}, \"ordered_varnames\": [\"n\", \"acc\"], \"is_zombie\": false, \"is_highlighted\": false, \"unique_hash\": \"dacount_f1\"}, {\"func_name\": \"dacount_helper\", \"is_parent\": false, \"frame_id\": 2, \"parent_frame_id_list\": [], \"encoded_locals\": {\"i\": 1, \"j\": 5, \"acc\": [\"REF\", 3], \"k\": 3}, \"ordered_varnames\": [\"i\", \"j\", \"acc\", \"k\"], \"is_zombie\": false, \"is_highlighted\": false, \"unique_hash\": \"dacount_helper_f2\"}, {\"func_name\": \"dacount_helper\", \"is_parent\": false, \"frame_id\": 8, \"parent_frame_id_list\": [], \"encoded_locals\": {\"i\": 4, \"j\": 5, \"acc\": [\"REF\", 3], \"k\": 4, \"__return__\": null}, \"ordered_varnames\": [\"i\", \"j\", \"acc\", \"k\", \"__return__\"], \"is_zombie\": false, \"is_highlighted\": true, \"unique_hash\": \"dacount_helper_f8\"}], \"heap\": {\"3\": [\"LIST\", 1, 2, 3, 4, 5], \"1\": [\"FUNCTION\", \"dacount_helper(i, j, acc)\", null], \"2\": [\"FUNCTION\", \"dacount(n)\", null]}, \"stdout\": \"\"}, {\"line\": 10, \"event\": \"return\", \"func_name\": \"dacount_helper\", \"globals\": {\"dacount_helper\": [\"REF\", 1], \"dacount\": [\"REF\", 2]}, \"ordered_globals\": [\"dacount_helper\", \"dacount\"], \"stack_to_render\": [{\"func_name\": \"dacount\", \"is_parent\": false, \"frame_id\": 1, \"parent_frame_id_list\": [], \"encoded_locals\": {\"n\": 5, \"acc\": [\"REF\", 3]}, \"ordered_varnames\": [\"n\", \"acc\"], \"is_zombie\": false, \"is_highlighted\": false, \"unique_hash\": \"dacount_f1\"}, {\"func_name\": \"dacount_helper\", \"is_parent\": false, \"frame_id\": 2, \"parent_frame_id_list\": [], \"encoded_locals\": {\"i\": 1, \"j\": 5, \"acc\": [\"REF\", 3], \"k\": 3, \"__return__\": null}, \"ordered_varnames\": [\"i\", \"j\", \"acc\", \"k\", \"__return__\"], \"is_zombie\": false, \"is_highlighted\": true, \"unique_hash\": \"dacount_helper_f2\"}], \"heap\": {\"3\": [\"LIST\", 1, 2, 3, 4, 5], \"1\": [\"FUNCTION\", \"dacount_helper(i, j, acc)\", null], \"2\": [\"FUNCTION\", \"dacount(n)\", null]}, \"stdout\": \"\"}, {\"line\": 16, \"event\": \"step_line\", \"func_name\": \"dacount\", \"globals\": {\"dacount_helper\": [\"REF\", 1], \"dacount\": [\"REF\", 2]}, \"ordered_globals\": [\"dacount_helper\", \"dacount\"], \"stack_to_render\": [{\"func_name\": \"dacount\", \"is_parent\": false, \"frame_id\": 1, \"parent_frame_id_list\": [], \"encoded_locals\": {\"n\": 5, \"acc\": [\"REF\", 3]}, \"ordered_varnames\": [\"n\", \"acc\"], \"is_zombie\": false, \"is_highlighted\": true, \"unique_hash\": \"dacount_f1\"}], \"heap\": {\"3\": [\"LIST\", 1, 2, 3, 4, 5], \"1\": [\"FUNCTION\", \"dacount_helper(i, j, acc)\", null], \"2\": [\"FUNCTION\", \"dacount(n)\", null]}, \"stdout\": \"\"}, {\"line\": 16, \"event\": \"return\", \"func_name\": \"dacount\", \"globals\": {\"dacount_helper\": [\"REF\", 1], \"dacount\": [\"REF\", 2]}, \"ordered_globals\": [\"dacount_helper\", \"dacount\"], \"stack_to_render\": [{\"func_name\": \"dacount\", \"is_parent\": false, \"frame_id\": 1, \"parent_frame_id_list\": [], \"encoded_locals\": {\"n\": 5, \"acc\": [\"REF\", 3], \"__return__\": [\"REF\", 3]}, \"ordered_varnames\": [\"n\", \"acc\", \"__return__\"], \"is_zombie\": false, \"is_highlighted\": true, \"unique_hash\": \"dacount_f1\"}], \"heap\": {\"3\": [\"LIST\", 1, 2, 3, 4, 5], \"1\": [\"FUNCTION\", \"dacount_helper(i, j, acc)\", null], \"2\": [\"FUNCTION\", \"dacount(n)\", null]}, \"stdout\": \"\"}, {\"line\": 19, \"event\": \"step_line\", \"func_name\": \"<module>\", \"globals\": {\"dacount_helper\": [\"REF\", 1], \"dacount\": [\"REF\", 2], \"result\": [\"REF\", 3]}, \"ordered_globals\": [\"dacount_helper\", \"dacount\", \"result\"], \"stack_to_render\": [], \"heap\": {\"1\": [\"FUNCTION\", \"dacount_helper(i, j, acc)\", null], \"2\": [\"FUNCTION\", \"dacount(n)\", null], \"3\": [\"LIST\", 1, 2, 3, 4, 5]}, \"stdout\": \"\"}, {\"line\": 19, \"event\": \"return\", \"func_name\": \"<module>\", \"globals\": {\"dacount_helper\": [\"REF\", 1], \"dacount\": [\"REF\", 2], \"result\": [\"REF\", 3]}, \"ordered_globals\": [\"dacount_helper\", \"dacount\", \"result\"], \"stack_to_render\": [], \"heap\": {\"1\": [\"FUNCTION\", \"dacount_helper(i, j, acc)\", null], \"2\": [\"FUNCTION\", \"dacount(n)\", null], \"3\": [\"LIST\", 1, 2, 3, 4, 5]}, \"stdout\": \"[1, 2, 3, 4, 5]\\n\"}]}\n",
       "        </script>\n",
       "        <div id=\"jm0b337da6-13a9-4fc7-a41a-864f5128bc3b\" class=\"pytutorVisualizer\"> </div>\n",
       " \n",
       "        <style>\n",
       "        .vizLayoutTd {\n",
       "            background-color: #fff !important;\n",
       "        }\n",
       "                            \n",
       "        #pyStdout {\n",
       "            min-height:25px;\n",
       "        }\n",
       "\n",
       "        /* 'Edit this code' link, hiding because replaces browser tab !!!*/\n",
       "        #editCodeLinkDiv {\n",
       "            display:none;  \n",
       "        }\n",
       "        </style>   \n",
       "                            \n",
       "        <script>\n",
       "        (function(){\n",
       "\n",
       "            var trace = JSON.parse(document.getElementById('json-jm0b337da6-13a9-4fc7-a41a-864f5128bc3b').innerHTML);                                        \n",
       "            // NOTE 1: id without #\n",
       "            // NOTE 2 - maybe there are more predictable ways, but this will work anyway\n",
       "            //        - id should be number\n",
       "            visualizerIdOverride = Math.trunc(Math.random() * 100000000000)\n",
       "            addVisualizerToPage(trace, 'jm0b337da6-13a9-4fc7-a41a-864f5128bc3b',{'embeddedMode' : false,\n",
       "                                             'visualizerIdOverride':visualizerIdOverride})  \n",
       "            \n",
       "            \n",
       "            // set overflow for pytuts - need to do in python as css \n",
       "            // does not allow parent selection\n",
       "            var pytuts = $('.pytutorVisualizer')\n",
       "            pytuts.closest('div.output_html.rendered_html.output_result')\n",
       "                    .css('overflow-x', 'visible')\n",
       "        \n",
       "            //pytuts.closest('div.output_html.rendered_html.output_result')\n",
       "            //      .css('background-color','red')                \n",
       "            \n",
       "        })()\n",
       "        </script>\n",
       "                \n",
       "                "
      ],
      "text/plain": [
       "<IPython.core.display.HTML object>"
      ]
     },
     "execution_count": 13,
     "metadata": {},
     "output_type": "execute_result"
    }
   ],
   "source": [
    "def dacount_helper(i, j, acc):\n",
    "    if i > j:\n",
    "        pass\n",
    "    elif i == j:\n",
    "        acc[i - 1] = i\n",
    "    else:         \n",
    "        k = (i + j) // 2\n",
    "        dacount_helper(i, k, acc)    # no need to return\n",
    "        dacount_helper(k+1, j, acc)  # no need to return\n",
    "\n",
    "def dacount(n):\n",
    "    acc = [0]*n  # let's create space to be filled in later\n",
    "                 # (acc is special so let's allow us the freedom of using * operator)\n",
    "    dacount_helper(1,n, acc)\n",
    "    return acc\n",
    "    \n",
    "result = dacount(5)\n",
    "print(result)\n",
    "jupman.pytut()"
   ]
  },
  {
   "cell_type": "code",
   "execution_count": 14,
   "id": "7c6715a1-stripped",
   "metadata": {
    "nbsphinx": "hidden"
   },
   "outputs": [],
   "source": [],
   "transient": {
    "remove_source": true
   }
  },
  {
   "cell_type": "markdown",
   "id": "7e11855f",
   "metadata": {},
   "source": [
    "### Example - `dadouble`\n",
    "\n",
    "Let's see now how we could use indeces and accumulators with  our `double` function:\n",
    "\n",
    "Take a `lst` of numbers and RETURN a NEW list with the numbers doubled, following the **ModAcc** style with a Divide and Conquer strategy\n",
    "\n",
    "Again, notice we preallocated the accumulator in the main function and dropped the return instructions in the helper"
   ]
  },
  {
   "cell_type": "code",
   "execution_count": 15,
   "id": "c2afb12e",
   "metadata": {},
   "outputs": [
    {
     "name": "stdout",
     "output_type": "stream",
     "text": [
      "[8, 12, 4]\n"
     ]
    },
    {
     "data": {
      "text/html": [
       "\n",
       "        <script src=\"../_static/js/pytutor-embed.bundle.min.js\" type=\"application/javascript\"></script>\n",
       "     \n",
       "        <script id=\"json-jm461abfb8-2d6e-48f4-ba9d-2be3993d175a\" type=\"application/json\" >\n",
       "            {\"code\": \" \\ndef dadouble_helper(lst, i,j,acc):\\n    if i >= j:    # note the >= in this case\\n        return acc\\n    else:\\n        k = (i + j) // 2\\n        acc[k] = lst[k] * 2\\n        dadouble_helper(lst, i, k, acc)        \\n        dadouble_helper(lst, k+1, j, acc)\\n        return acc\\n    \\ndef dadouble(lst):\\n    acc = [None]*len(lst)  # let's create space to be filled in later\\n                           # (acc is special so let's allow us the freedom of using * operator)\\n    dadouble_helper(lst, 0, len(lst), acc)   \\n    return acc\\n\\nresult = dadouble([4,6,2])\\nprint(result)\", \"trace\": [{\"line\": 2, \"event\": \"step_line\", \"func_name\": \"<module>\", \"globals\": {}, \"ordered_globals\": [], \"stack_to_render\": [], \"heap\": {}, \"stdout\": \"\"}, {\"line\": 12, \"event\": \"step_line\", \"func_name\": \"<module>\", \"globals\": {\"dadouble_helper\": [\"REF\", 1]}, \"ordered_globals\": [\"dadouble_helper\"], \"stack_to_render\": [], \"heap\": {\"1\": [\"FUNCTION\", \"dadouble_helper(lst, i, j, acc)\", null]}, \"stdout\": \"\"}, {\"line\": 18, \"event\": \"step_line\", \"func_name\": \"<module>\", \"globals\": {\"dadouble_helper\": [\"REF\", 1], \"dadouble\": [\"REF\", 2]}, \"ordered_globals\": [\"dadouble_helper\", \"dadouble\"], \"stack_to_render\": [], \"heap\": {\"1\": [\"FUNCTION\", \"dadouble_helper(lst, i, j, acc)\", null], \"2\": [\"FUNCTION\", \"dadouble(lst)\", null]}, \"stdout\": \"\"}, {\"line\": 12, \"event\": \"call\", \"func_name\": \"dadouble\", \"globals\": {\"dadouble_helper\": [\"REF\", 1], \"dadouble\": [\"REF\", 2]}, \"ordered_globals\": [\"dadouble_helper\", \"dadouble\"], \"stack_to_render\": [{\"func_name\": \"dadouble\", \"is_parent\": false, \"frame_id\": 1, \"parent_frame_id_list\": [], \"encoded_locals\": {\"lst\": [\"REF\", 3]}, \"ordered_varnames\": [\"lst\"], \"is_zombie\": false, \"is_highlighted\": true, \"unique_hash\": \"dadouble_f1\"}], \"heap\": {\"3\": [\"LIST\", 4, 6, 2], \"1\": [\"FUNCTION\", \"dadouble_helper(lst, i, j, acc)\", null], \"2\": [\"FUNCTION\", \"dadouble(lst)\", null]}, \"stdout\": \"\"}, {\"line\": 13, \"event\": \"step_line\", \"func_name\": \"dadouble\", \"globals\": {\"dadouble_helper\": [\"REF\", 1], \"dadouble\": [\"REF\", 2]}, \"ordered_globals\": [\"dadouble_helper\", \"dadouble\"], \"stack_to_render\": [{\"func_name\": \"dadouble\", \"is_parent\": false, \"frame_id\": 1, \"parent_frame_id_list\": [], \"encoded_locals\": {\"lst\": [\"REF\", 3]}, \"ordered_varnames\": [\"lst\"], \"is_zombie\": false, \"is_highlighted\": true, \"unique_hash\": \"dadouble_f1\"}], \"heap\": {\"3\": [\"LIST\", 4, 6, 2], \"1\": [\"FUNCTION\", \"dadouble_helper(lst, i, j, acc)\", null], \"2\": [\"FUNCTION\", \"dadouble(lst)\", null]}, \"stdout\": \"\"}, {\"line\": 15, \"event\": \"step_line\", \"func_name\": \"dadouble\", \"globals\": {\"dadouble_helper\": [\"REF\", 1], \"dadouble\": [\"REF\", 2]}, \"ordered_globals\": [\"dadouble_helper\", \"dadouble\"], \"stack_to_render\": [{\"func_name\": \"dadouble\", \"is_parent\": false, \"frame_id\": 1, \"parent_frame_id_list\": [], \"encoded_locals\": {\"lst\": [\"REF\", 3], \"acc\": [\"REF\", 4]}, \"ordered_varnames\": [\"lst\", \"acc\"], \"is_zombie\": false, \"is_highlighted\": true, \"unique_hash\": \"dadouble_f1\"}], \"heap\": {\"3\": [\"LIST\", 4, 6, 2], \"4\": [\"LIST\", null, null, null], \"1\": [\"FUNCTION\", \"dadouble_helper(lst, i, j, acc)\", null], \"2\": [\"FUNCTION\", \"dadouble(lst)\", null]}, \"stdout\": \"\"}, {\"line\": 2, \"event\": \"call\", \"func_name\": \"dadouble_helper\", \"globals\": {\"dadouble_helper\": [\"REF\", 1], \"dadouble\": [\"REF\", 2]}, \"ordered_globals\": [\"dadouble_helper\", \"dadouble\"], \"stack_to_render\": [{\"func_name\": \"dadouble\", \"is_parent\": false, \"frame_id\": 1, \"parent_frame_id_list\": [], \"encoded_locals\": {\"lst\": [\"REF\", 3], \"acc\": [\"REF\", 4]}, \"ordered_varnames\": [\"lst\", \"acc\"], \"is_zombie\": false, \"is_highlighted\": false, \"unique_hash\": \"dadouble_f1\"}, {\"func_name\": \"dadouble_helper\", \"is_parent\": false, \"frame_id\": 2, \"parent_frame_id_list\": [], \"encoded_locals\": {\"lst\": [\"REF\", 3], \"i\": 0, \"j\": 3, \"acc\": [\"REF\", 4]}, \"ordered_varnames\": [\"lst\", \"i\", \"j\", \"acc\"], \"is_zombie\": false, \"is_highlighted\": true, \"unique_hash\": \"dadouble_helper_f2\"}], \"heap\": {\"3\": [\"LIST\", 4, 6, 2], \"4\": [\"LIST\", null, null, null], \"1\": [\"FUNCTION\", \"dadouble_helper(lst, i, j, acc)\", null], \"2\": [\"FUNCTION\", \"dadouble(lst)\", null]}, \"stdout\": \"\"}, {\"line\": 3, \"event\": \"step_line\", \"func_name\": \"dadouble_helper\", \"globals\": {\"dadouble_helper\": [\"REF\", 1], \"dadouble\": [\"REF\", 2]}, \"ordered_globals\": [\"dadouble_helper\", \"dadouble\"], \"stack_to_render\": [{\"func_name\": \"dadouble\", \"is_parent\": false, \"frame_id\": 1, \"parent_frame_id_list\": [], \"encoded_locals\": {\"lst\": [\"REF\", 3], \"acc\": [\"REF\", 4]}, \"ordered_varnames\": [\"lst\", \"acc\"], \"is_zombie\": false, \"is_highlighted\": false, \"unique_hash\": \"dadouble_f1\"}, {\"func_name\": \"dadouble_helper\", \"is_parent\": false, \"frame_id\": 2, \"parent_frame_id_list\": [], \"encoded_locals\": {\"lst\": [\"REF\", 3], \"i\": 0, \"j\": 3, \"acc\": [\"REF\", 4]}, \"ordered_varnames\": [\"lst\", \"i\", \"j\", \"acc\"], \"is_zombie\": false, \"is_highlighted\": true, \"unique_hash\": \"dadouble_helper_f2\"}], \"heap\": {\"3\": [\"LIST\", 4, 6, 2], \"4\": [\"LIST\", null, null, null], \"1\": [\"FUNCTION\", \"dadouble_helper(lst, i, j, acc)\", null], \"2\": [\"FUNCTION\", \"dadouble(lst)\", null]}, \"stdout\": \"\"}, {\"line\": 6, \"event\": \"step_line\", \"func_name\": \"dadouble_helper\", \"globals\": {\"dadouble_helper\": [\"REF\", 1], \"dadouble\": [\"REF\", 2]}, \"ordered_globals\": [\"dadouble_helper\", \"dadouble\"], \"stack_to_render\": [{\"func_name\": \"dadouble\", \"is_parent\": false, \"frame_id\": 1, \"parent_frame_id_list\": [], \"encoded_locals\": {\"lst\": [\"REF\", 3], \"acc\": [\"REF\", 4]}, \"ordered_varnames\": [\"lst\", \"acc\"], \"is_zombie\": false, \"is_highlighted\": false, \"unique_hash\": \"dadouble_f1\"}, {\"func_name\": \"dadouble_helper\", \"is_parent\": false, \"frame_id\": 2, \"parent_frame_id_list\": [], \"encoded_locals\": {\"lst\": [\"REF\", 3], \"i\": 0, \"j\": 3, \"acc\": [\"REF\", 4]}, \"ordered_varnames\": [\"lst\", \"i\", \"j\", \"acc\"], \"is_zombie\": false, \"is_highlighted\": true, \"unique_hash\": \"dadouble_helper_f2\"}], \"heap\": {\"3\": [\"LIST\", 4, 6, 2], \"4\": [\"LIST\", null, null, null], \"1\": [\"FUNCTION\", \"dadouble_helper(lst, i, j, acc)\", null], \"2\": [\"FUNCTION\", \"dadouble(lst)\", null]}, \"stdout\": \"\"}, {\"line\": 7, \"event\": \"step_line\", \"func_name\": \"dadouble_helper\", \"globals\": {\"dadouble_helper\": [\"REF\", 1], \"dadouble\": [\"REF\", 2]}, \"ordered_globals\": [\"dadouble_helper\", \"dadouble\"], \"stack_to_render\": [{\"func_name\": \"dadouble\", \"is_parent\": false, \"frame_id\": 1, \"parent_frame_id_list\": [], \"encoded_locals\": {\"lst\": [\"REF\", 3], \"acc\": [\"REF\", 4]}, \"ordered_varnames\": [\"lst\", \"acc\"], \"is_zombie\": false, \"is_highlighted\": false, \"unique_hash\": \"dadouble_f1\"}, {\"func_name\": \"dadouble_helper\", \"is_parent\": false, \"frame_id\": 2, \"parent_frame_id_list\": [], \"encoded_locals\": {\"lst\": [\"REF\", 3], \"i\": 0, \"j\": 3, \"acc\": [\"REF\", 4], \"k\": 1}, \"ordered_varnames\": [\"lst\", \"i\", \"j\", \"acc\", \"k\"], \"is_zombie\": false, \"is_highlighted\": true, \"unique_hash\": \"dadouble_helper_f2\"}], \"heap\": {\"3\": [\"LIST\", 4, 6, 2], \"4\": [\"LIST\", null, null, null], \"1\": [\"FUNCTION\", \"dadouble_helper(lst, i, j, acc)\", null], \"2\": [\"FUNCTION\", \"dadouble(lst)\", null]}, \"stdout\": \"\"}, {\"line\": 8, \"event\": \"step_line\", \"func_name\": \"dadouble_helper\", \"globals\": {\"dadouble_helper\": [\"REF\", 1], \"dadouble\": [\"REF\", 2]}, \"ordered_globals\": [\"dadouble_helper\", \"dadouble\"], \"stack_to_render\": [{\"func_name\": \"dadouble\", \"is_parent\": false, \"frame_id\": 1, \"parent_frame_id_list\": [], \"encoded_locals\": {\"lst\": [\"REF\", 3], \"acc\": [\"REF\", 4]}, \"ordered_varnames\": [\"lst\", \"acc\"], \"is_zombie\": false, \"is_highlighted\": false, \"unique_hash\": \"dadouble_f1\"}, {\"func_name\": \"dadouble_helper\", \"is_parent\": false, \"frame_id\": 2, \"parent_frame_id_list\": [], \"encoded_locals\": {\"lst\": [\"REF\", 3], \"i\": 0, \"j\": 3, \"acc\": [\"REF\", 4], \"k\": 1}, \"ordered_varnames\": [\"lst\", \"i\", \"j\", \"acc\", \"k\"], \"is_zombie\": false, \"is_highlighted\": true, \"unique_hash\": \"dadouble_helper_f2\"}], \"heap\": {\"3\": [\"LIST\", 4, 6, 2], \"4\": [\"LIST\", null, 12, null], \"1\": [\"FUNCTION\", \"dadouble_helper(lst, i, j, acc)\", null], \"2\": [\"FUNCTION\", \"dadouble(lst)\", null]}, \"stdout\": \"\"}, {\"line\": 2, \"event\": \"call\", \"func_name\": \"dadouble_helper\", \"globals\": {\"dadouble_helper\": [\"REF\", 1], \"dadouble\": [\"REF\", 2]}, \"ordered_globals\": [\"dadouble_helper\", \"dadouble\"], \"stack_to_render\": [{\"func_name\": \"dadouble\", \"is_parent\": false, \"frame_id\": 1, \"parent_frame_id_list\": [], \"encoded_locals\": {\"lst\": [\"REF\", 3], \"acc\": [\"REF\", 4]}, \"ordered_varnames\": [\"lst\", \"acc\"], \"is_zombie\": false, \"is_highlighted\": false, \"unique_hash\": \"dadouble_f1\"}, {\"func_name\": \"dadouble_helper\", \"is_parent\": false, \"frame_id\": 2, \"parent_frame_id_list\": [], \"encoded_locals\": {\"lst\": [\"REF\", 3], \"i\": 0, \"j\": 3, \"acc\": [\"REF\", 4], \"k\": 1}, \"ordered_varnames\": [\"lst\", \"i\", \"j\", \"acc\", \"k\"], \"is_zombie\": false, \"is_highlighted\": false, \"unique_hash\": \"dadouble_helper_f2\"}, {\"func_name\": \"dadouble_helper\", \"is_parent\": false, \"frame_id\": 3, \"parent_frame_id_list\": [], \"encoded_locals\": {\"lst\": [\"REF\", 3], \"i\": 0, \"j\": 1, \"acc\": [\"REF\", 4]}, \"ordered_varnames\": [\"lst\", \"i\", \"j\", \"acc\"], \"is_zombie\": false, \"is_highlighted\": true, \"unique_hash\": \"dadouble_helper_f3\"}], \"heap\": {\"3\": [\"LIST\", 4, 6, 2], \"4\": [\"LIST\", null, 12, null], \"1\": [\"FUNCTION\", \"dadouble_helper(lst, i, j, acc)\", null], \"2\": [\"FUNCTION\", \"dadouble(lst)\", null]}, \"stdout\": \"\"}, {\"line\": 3, \"event\": \"step_line\", \"func_name\": \"dadouble_helper\", \"globals\": {\"dadouble_helper\": [\"REF\", 1], \"dadouble\": [\"REF\", 2]}, \"ordered_globals\": [\"dadouble_helper\", \"dadouble\"], \"stack_to_render\": [{\"func_name\": \"dadouble\", \"is_parent\": false, \"frame_id\": 1, \"parent_frame_id_list\": [], \"encoded_locals\": {\"lst\": [\"REF\", 3], \"acc\": [\"REF\", 4]}, \"ordered_varnames\": [\"lst\", \"acc\"], \"is_zombie\": false, \"is_highlighted\": false, \"unique_hash\": \"dadouble_f1\"}, {\"func_name\": \"dadouble_helper\", \"is_parent\": false, \"frame_id\": 2, \"parent_frame_id_list\": [], \"encoded_locals\": {\"lst\": [\"REF\", 3], \"i\": 0, \"j\": 3, \"acc\": [\"REF\", 4], \"k\": 1}, \"ordered_varnames\": [\"lst\", \"i\", \"j\", \"acc\", \"k\"], \"is_zombie\": false, \"is_highlighted\": false, \"unique_hash\": \"dadouble_helper_f2\"}, {\"func_name\": \"dadouble_helper\", \"is_parent\": false, \"frame_id\": 3, \"parent_frame_id_list\": [], \"encoded_locals\": {\"lst\": [\"REF\", 3], \"i\": 0, \"j\": 1, \"acc\": [\"REF\", 4]}, \"ordered_varnames\": [\"lst\", \"i\", \"j\", \"acc\"], \"is_zombie\": false, \"is_highlighted\": true, \"unique_hash\": \"dadouble_helper_f3\"}], \"heap\": {\"3\": [\"LIST\", 4, 6, 2], \"4\": [\"LIST\", null, 12, null], \"1\": [\"FUNCTION\", \"dadouble_helper(lst, i, j, acc)\", null], \"2\": [\"FUNCTION\", \"dadouble(lst)\", null]}, \"stdout\": \"\"}, {\"line\": 6, \"event\": \"step_line\", \"func_name\": \"dadouble_helper\", \"globals\": {\"dadouble_helper\": [\"REF\", 1], \"dadouble\": [\"REF\", 2]}, \"ordered_globals\": [\"dadouble_helper\", \"dadouble\"], \"stack_to_render\": [{\"func_name\": \"dadouble\", \"is_parent\": false, \"frame_id\": 1, \"parent_frame_id_list\": [], \"encoded_locals\": {\"lst\": [\"REF\", 3], \"acc\": [\"REF\", 4]}, \"ordered_varnames\": [\"lst\", \"acc\"], \"is_zombie\": false, \"is_highlighted\": false, \"unique_hash\": \"dadouble_f1\"}, {\"func_name\": \"dadouble_helper\", \"is_parent\": false, \"frame_id\": 2, \"parent_frame_id_list\": [], \"encoded_locals\": {\"lst\": [\"REF\", 3], \"i\": 0, \"j\": 3, \"acc\": [\"REF\", 4], \"k\": 1}, \"ordered_varnames\": [\"lst\", \"i\", \"j\", \"acc\", \"k\"], \"is_zombie\": false, \"is_highlighted\": false, \"unique_hash\": \"dadouble_helper_f2\"}, {\"func_name\": \"dadouble_helper\", \"is_parent\": false, \"frame_id\": 3, \"parent_frame_id_list\": [], \"encoded_locals\": {\"lst\": [\"REF\", 3], \"i\": 0, \"j\": 1, \"acc\": [\"REF\", 4]}, \"ordered_varnames\": [\"lst\", \"i\", \"j\", \"acc\"], \"is_zombie\": false, \"is_highlighted\": true, \"unique_hash\": \"dadouble_helper_f3\"}], \"heap\": {\"3\": [\"LIST\", 4, 6, 2], \"4\": [\"LIST\", null, 12, null], \"1\": [\"FUNCTION\", \"dadouble_helper(lst, i, j, acc)\", null], \"2\": [\"FUNCTION\", \"dadouble(lst)\", null]}, \"stdout\": \"\"}, {\"line\": 7, \"event\": \"step_line\", \"func_name\": \"dadouble_helper\", \"globals\": {\"dadouble_helper\": [\"REF\", 1], \"dadouble\": [\"REF\", 2]}, \"ordered_globals\": [\"dadouble_helper\", \"dadouble\"], \"stack_to_render\": [{\"func_name\": \"dadouble\", \"is_parent\": false, \"frame_id\": 1, \"parent_frame_id_list\": [], \"encoded_locals\": {\"lst\": [\"REF\", 3], \"acc\": [\"REF\", 4]}, \"ordered_varnames\": [\"lst\", \"acc\"], \"is_zombie\": false, \"is_highlighted\": false, \"unique_hash\": \"dadouble_f1\"}, {\"func_name\": \"dadouble_helper\", \"is_parent\": false, \"frame_id\": 2, \"parent_frame_id_list\": [], \"encoded_locals\": {\"lst\": [\"REF\", 3], \"i\": 0, \"j\": 3, \"acc\": [\"REF\", 4], \"k\": 1}, \"ordered_varnames\": [\"lst\", \"i\", \"j\", \"acc\", \"k\"], \"is_zombie\": false, \"is_highlighted\": false, \"unique_hash\": \"dadouble_helper_f2\"}, {\"func_name\": \"dadouble_helper\", \"is_parent\": false, \"frame_id\": 3, \"parent_frame_id_list\": [], \"encoded_locals\": {\"lst\": [\"REF\", 3], \"i\": 0, \"j\": 1, \"acc\": [\"REF\", 4], \"k\": 0}, \"ordered_varnames\": [\"lst\", \"i\", \"j\", \"acc\", \"k\"], \"is_zombie\": false, \"is_highlighted\": true, \"unique_hash\": \"dadouble_helper_f3\"}], \"heap\": {\"3\": [\"LIST\", 4, 6, 2], \"4\": [\"LIST\", null, 12, null], \"1\": [\"FUNCTION\", \"dadouble_helper(lst, i, j, acc)\", null], \"2\": [\"FUNCTION\", \"dadouble(lst)\", null]}, \"stdout\": \"\"}, {\"line\": 8, \"event\": \"step_line\", \"func_name\": \"dadouble_helper\", \"globals\": {\"dadouble_helper\": [\"REF\", 1], \"dadouble\": [\"REF\", 2]}, \"ordered_globals\": [\"dadouble_helper\", \"dadouble\"], \"stack_to_render\": [{\"func_name\": \"dadouble\", \"is_parent\": false, \"frame_id\": 1, \"parent_frame_id_list\": [], \"encoded_locals\": {\"lst\": [\"REF\", 3], \"acc\": [\"REF\", 4]}, \"ordered_varnames\": [\"lst\", \"acc\"], \"is_zombie\": false, \"is_highlighted\": false, \"unique_hash\": \"dadouble_f1\"}, {\"func_name\": \"dadouble_helper\", \"is_parent\": false, \"frame_id\": 2, \"parent_frame_id_list\": [], \"encoded_locals\": {\"lst\": [\"REF\", 3], \"i\": 0, \"j\": 3, \"acc\": [\"REF\", 4], \"k\": 1}, \"ordered_varnames\": [\"lst\", \"i\", \"j\", \"acc\", \"k\"], \"is_zombie\": false, \"is_highlighted\": false, \"unique_hash\": \"dadouble_helper_f2\"}, {\"func_name\": \"dadouble_helper\", \"is_parent\": false, \"frame_id\": 3, \"parent_frame_id_list\": [], \"encoded_locals\": {\"lst\": [\"REF\", 3], \"i\": 0, \"j\": 1, \"acc\": [\"REF\", 4], \"k\": 0}, \"ordered_varnames\": [\"lst\", \"i\", \"j\", \"acc\", \"k\"], \"is_zombie\": false, \"is_highlighted\": true, \"unique_hash\": \"dadouble_helper_f3\"}], \"heap\": {\"3\": [\"LIST\", 4, 6, 2], \"4\": [\"LIST\", 8, 12, null], \"1\": [\"FUNCTION\", \"dadouble_helper(lst, i, j, acc)\", null], \"2\": [\"FUNCTION\", \"dadouble(lst)\", null]}, \"stdout\": \"\"}, {\"line\": 2, \"event\": \"call\", \"func_name\": \"dadouble_helper\", \"globals\": {\"dadouble_helper\": [\"REF\", 1], \"dadouble\": [\"REF\", 2]}, \"ordered_globals\": [\"dadouble_helper\", \"dadouble\"], \"stack_to_render\": [{\"func_name\": \"dadouble\", \"is_parent\": false, \"frame_id\": 1, \"parent_frame_id_list\": [], \"encoded_locals\": {\"lst\": [\"REF\", 3], \"acc\": [\"REF\", 4]}, \"ordered_varnames\": [\"lst\", \"acc\"], \"is_zombie\": false, \"is_highlighted\": false, \"unique_hash\": \"dadouble_f1\"}, {\"func_name\": \"dadouble_helper\", \"is_parent\": false, \"frame_id\": 2, \"parent_frame_id_list\": [], \"encoded_locals\": {\"lst\": [\"REF\", 3], \"i\": 0, \"j\": 3, \"acc\": [\"REF\", 4], \"k\": 1}, \"ordered_varnames\": [\"lst\", \"i\", \"j\", \"acc\", \"k\"], \"is_zombie\": false, \"is_highlighted\": false, \"unique_hash\": \"dadouble_helper_f2\"}, {\"func_name\": \"dadouble_helper\", \"is_parent\": false, \"frame_id\": 3, \"parent_frame_id_list\": [], \"encoded_locals\": {\"lst\": [\"REF\", 3], \"i\": 0, \"j\": 1, \"acc\": [\"REF\", 4], \"k\": 0}, \"ordered_varnames\": [\"lst\", \"i\", \"j\", \"acc\", \"k\"], \"is_zombie\": false, \"is_highlighted\": false, \"unique_hash\": \"dadouble_helper_f3\"}, {\"func_name\": \"dadouble_helper\", \"is_parent\": false, \"frame_id\": 4, \"parent_frame_id_list\": [], \"encoded_locals\": {\"lst\": [\"REF\", 3], \"i\": 0, \"j\": 0, \"acc\": [\"REF\", 4]}, \"ordered_varnames\": [\"lst\", \"i\", \"j\", \"acc\"], \"is_zombie\": false, \"is_highlighted\": true, \"unique_hash\": \"dadouble_helper_f4\"}], \"heap\": {\"3\": [\"LIST\", 4, 6, 2], \"4\": [\"LIST\", 8, 12, null], \"1\": [\"FUNCTION\", \"dadouble_helper(lst, i, j, acc)\", null], \"2\": [\"FUNCTION\", \"dadouble(lst)\", null]}, \"stdout\": \"\"}, {\"line\": 3, \"event\": \"step_line\", \"func_name\": \"dadouble_helper\", \"globals\": {\"dadouble_helper\": [\"REF\", 1], \"dadouble\": [\"REF\", 2]}, \"ordered_globals\": [\"dadouble_helper\", \"dadouble\"], \"stack_to_render\": [{\"func_name\": \"dadouble\", \"is_parent\": false, \"frame_id\": 1, \"parent_frame_id_list\": [], \"encoded_locals\": {\"lst\": [\"REF\", 3], \"acc\": [\"REF\", 4]}, \"ordered_varnames\": [\"lst\", \"acc\"], \"is_zombie\": false, \"is_highlighted\": false, \"unique_hash\": \"dadouble_f1\"}, {\"func_name\": \"dadouble_helper\", \"is_parent\": false, \"frame_id\": 2, \"parent_frame_id_list\": [], \"encoded_locals\": {\"lst\": [\"REF\", 3], \"i\": 0, \"j\": 3, \"acc\": [\"REF\", 4], \"k\": 1}, \"ordered_varnames\": [\"lst\", \"i\", \"j\", \"acc\", \"k\"], \"is_zombie\": false, \"is_highlighted\": false, \"unique_hash\": \"dadouble_helper_f2\"}, {\"func_name\": \"dadouble_helper\", \"is_parent\": false, \"frame_id\": 3, \"parent_frame_id_list\": [], \"encoded_locals\": {\"lst\": [\"REF\", 3], \"i\": 0, \"j\": 1, \"acc\": [\"REF\", 4], \"k\": 0}, \"ordered_varnames\": [\"lst\", \"i\", \"j\", \"acc\", \"k\"], \"is_zombie\": false, \"is_highlighted\": false, \"unique_hash\": \"dadouble_helper_f3\"}, {\"func_name\": \"dadouble_helper\", \"is_parent\": false, \"frame_id\": 4, \"parent_frame_id_list\": [], \"encoded_locals\": {\"lst\": [\"REF\", 3], \"i\": 0, \"j\": 0, \"acc\": [\"REF\", 4]}, \"ordered_varnames\": [\"lst\", \"i\", \"j\", \"acc\"], \"is_zombie\": false, \"is_highlighted\": true, \"unique_hash\": \"dadouble_helper_f4\"}], \"heap\": {\"3\": [\"LIST\", 4, 6, 2], \"4\": [\"LIST\", 8, 12, null], \"1\": [\"FUNCTION\", \"dadouble_helper(lst, i, j, acc)\", null], \"2\": [\"FUNCTION\", \"dadouble(lst)\", null]}, \"stdout\": \"\"}, {\"line\": 4, \"event\": \"step_line\", \"func_name\": \"dadouble_helper\", \"globals\": {\"dadouble_helper\": [\"REF\", 1], \"dadouble\": [\"REF\", 2]}, \"ordered_globals\": [\"dadouble_helper\", \"dadouble\"], \"stack_to_render\": [{\"func_name\": \"dadouble\", \"is_parent\": false, \"frame_id\": 1, \"parent_frame_id_list\": [], \"encoded_locals\": {\"lst\": [\"REF\", 3], \"acc\": [\"REF\", 4]}, \"ordered_varnames\": [\"lst\", \"acc\"], \"is_zombie\": false, \"is_highlighted\": false, \"unique_hash\": \"dadouble_f1\"}, {\"func_name\": \"dadouble_helper\", \"is_parent\": false, \"frame_id\": 2, \"parent_frame_id_list\": [], \"encoded_locals\": {\"lst\": [\"REF\", 3], \"i\": 0, \"j\": 3, \"acc\": [\"REF\", 4], \"k\": 1}, \"ordered_varnames\": [\"lst\", \"i\", \"j\", \"acc\", \"k\"], \"is_zombie\": false, \"is_highlighted\": false, \"unique_hash\": \"dadouble_helper_f2\"}, {\"func_name\": \"dadouble_helper\", \"is_parent\": false, \"frame_id\": 3, \"parent_frame_id_list\": [], \"encoded_locals\": {\"lst\": [\"REF\", 3], \"i\": 0, \"j\": 1, \"acc\": [\"REF\", 4], \"k\": 0}, \"ordered_varnames\": [\"lst\", \"i\", \"j\", \"acc\", \"k\"], \"is_zombie\": false, \"is_highlighted\": false, \"unique_hash\": \"dadouble_helper_f3\"}, {\"func_name\": \"dadouble_helper\", \"is_parent\": false, \"frame_id\": 4, \"parent_frame_id_list\": [], \"encoded_locals\": {\"lst\": [\"REF\", 3], \"i\": 0, \"j\": 0, \"acc\": [\"REF\", 4]}, \"ordered_varnames\": [\"lst\", \"i\", \"j\", \"acc\"], \"is_zombie\": false, \"is_highlighted\": true, \"unique_hash\": \"dadouble_helper_f4\"}], \"heap\": {\"3\": [\"LIST\", 4, 6, 2], \"4\": [\"LIST\", 8, 12, null], \"1\": [\"FUNCTION\", \"dadouble_helper(lst, i, j, acc)\", null], \"2\": [\"FUNCTION\", \"dadouble(lst)\", null]}, \"stdout\": \"\"}, {\"line\": 4, \"event\": \"return\", \"func_name\": \"dadouble_helper\", \"globals\": {\"dadouble_helper\": [\"REF\", 1], \"dadouble\": [\"REF\", 2]}, \"ordered_globals\": [\"dadouble_helper\", \"dadouble\"], \"stack_to_render\": [{\"func_name\": \"dadouble\", \"is_parent\": false, \"frame_id\": 1, \"parent_frame_id_list\": [], \"encoded_locals\": {\"lst\": [\"REF\", 3], \"acc\": [\"REF\", 4]}, \"ordered_varnames\": [\"lst\", \"acc\"], \"is_zombie\": false, \"is_highlighted\": false, \"unique_hash\": \"dadouble_f1\"}, {\"func_name\": \"dadouble_helper\", \"is_parent\": false, \"frame_id\": 2, \"parent_frame_id_list\": [], \"encoded_locals\": {\"lst\": [\"REF\", 3], \"i\": 0, \"j\": 3, \"acc\": [\"REF\", 4], \"k\": 1}, \"ordered_varnames\": [\"lst\", \"i\", \"j\", \"acc\", \"k\"], \"is_zombie\": false, \"is_highlighted\": false, \"unique_hash\": \"dadouble_helper_f2\"}, {\"func_name\": \"dadouble_helper\", \"is_parent\": false, \"frame_id\": 3, \"parent_frame_id_list\": [], \"encoded_locals\": {\"lst\": [\"REF\", 3], \"i\": 0, \"j\": 1, \"acc\": [\"REF\", 4], \"k\": 0}, \"ordered_varnames\": [\"lst\", \"i\", \"j\", \"acc\", \"k\"], \"is_zombie\": false, \"is_highlighted\": false, \"unique_hash\": \"dadouble_helper_f3\"}, {\"func_name\": \"dadouble_helper\", \"is_parent\": false, \"frame_id\": 4, \"parent_frame_id_list\": [], \"encoded_locals\": {\"lst\": [\"REF\", 3], \"i\": 0, \"j\": 0, \"acc\": [\"REF\", 4], \"__return__\": [\"REF\", 4]}, \"ordered_varnames\": [\"lst\", \"i\", \"j\", \"acc\", \"__return__\"], \"is_zombie\": false, \"is_highlighted\": true, \"unique_hash\": \"dadouble_helper_f4\"}], \"heap\": {\"3\": [\"LIST\", 4, 6, 2], \"4\": [\"LIST\", 8, 12, null], \"1\": [\"FUNCTION\", \"dadouble_helper(lst, i, j, acc)\", null], \"2\": [\"FUNCTION\", \"dadouble(lst)\", null]}, \"stdout\": \"\"}, {\"line\": 9, \"event\": \"step_line\", \"func_name\": \"dadouble_helper\", \"globals\": {\"dadouble_helper\": [\"REF\", 1], \"dadouble\": [\"REF\", 2]}, \"ordered_globals\": [\"dadouble_helper\", \"dadouble\"], \"stack_to_render\": [{\"func_name\": \"dadouble\", \"is_parent\": false, \"frame_id\": 1, \"parent_frame_id_list\": [], \"encoded_locals\": {\"lst\": [\"REF\", 3], \"acc\": [\"REF\", 4]}, \"ordered_varnames\": [\"lst\", \"acc\"], \"is_zombie\": false, \"is_highlighted\": false, \"unique_hash\": \"dadouble_f1\"}, {\"func_name\": \"dadouble_helper\", \"is_parent\": false, \"frame_id\": 2, \"parent_frame_id_list\": [], \"encoded_locals\": {\"lst\": [\"REF\", 3], \"i\": 0, \"j\": 3, \"acc\": [\"REF\", 4], \"k\": 1}, \"ordered_varnames\": [\"lst\", \"i\", \"j\", \"acc\", \"k\"], \"is_zombie\": false, \"is_highlighted\": false, \"unique_hash\": \"dadouble_helper_f2\"}, {\"func_name\": \"dadouble_helper\", \"is_parent\": false, \"frame_id\": 3, \"parent_frame_id_list\": [], \"encoded_locals\": {\"lst\": [\"REF\", 3], \"i\": 0, \"j\": 1, \"acc\": [\"REF\", 4], \"k\": 0}, \"ordered_varnames\": [\"lst\", \"i\", \"j\", \"acc\", \"k\"], \"is_zombie\": false, \"is_highlighted\": true, \"unique_hash\": \"dadouble_helper_f3\"}], \"heap\": {\"3\": [\"LIST\", 4, 6, 2], \"4\": [\"LIST\", 8, 12, null], \"1\": [\"FUNCTION\", \"dadouble_helper(lst, i, j, acc)\", null], \"2\": [\"FUNCTION\", \"dadouble(lst)\", null]}, \"stdout\": \"\"}, {\"line\": 2, \"event\": \"call\", \"func_name\": \"dadouble_helper\", \"globals\": {\"dadouble_helper\": [\"REF\", 1], \"dadouble\": [\"REF\", 2]}, \"ordered_globals\": [\"dadouble_helper\", \"dadouble\"], \"stack_to_render\": [{\"func_name\": \"dadouble\", \"is_parent\": false, \"frame_id\": 1, \"parent_frame_id_list\": [], \"encoded_locals\": {\"lst\": [\"REF\", 3], \"acc\": [\"REF\", 4]}, \"ordered_varnames\": [\"lst\", \"acc\"], \"is_zombie\": false, \"is_highlighted\": false, \"unique_hash\": \"dadouble_f1\"}, {\"func_name\": \"dadouble_helper\", \"is_parent\": false, \"frame_id\": 2, \"parent_frame_id_list\": [], \"encoded_locals\": {\"lst\": [\"REF\", 3], \"i\": 0, \"j\": 3, \"acc\": [\"REF\", 4], \"k\": 1}, \"ordered_varnames\": [\"lst\", \"i\", \"j\", \"acc\", \"k\"], \"is_zombie\": false, \"is_highlighted\": false, \"unique_hash\": \"dadouble_helper_f2\"}, {\"func_name\": \"dadouble_helper\", \"is_parent\": false, \"frame_id\": 3, \"parent_frame_id_list\": [], \"encoded_locals\": {\"lst\": [\"REF\", 3], \"i\": 0, \"j\": 1, \"acc\": [\"REF\", 4], \"k\": 0}, \"ordered_varnames\": [\"lst\", \"i\", \"j\", \"acc\", \"k\"], \"is_zombie\": false, \"is_highlighted\": false, \"unique_hash\": \"dadouble_helper_f3\"}, {\"func_name\": \"dadouble_helper\", \"is_parent\": false, \"frame_id\": 5, \"parent_frame_id_list\": [], \"encoded_locals\": {\"lst\": [\"REF\", 3], \"i\": 1, \"j\": 1, \"acc\": [\"REF\", 4]}, \"ordered_varnames\": [\"lst\", \"i\", \"j\", \"acc\"], \"is_zombie\": false, \"is_highlighted\": true, \"unique_hash\": \"dadouble_helper_f5\"}], \"heap\": {\"3\": [\"LIST\", 4, 6, 2], \"4\": [\"LIST\", 8, 12, null], \"1\": [\"FUNCTION\", \"dadouble_helper(lst, i, j, acc)\", null], \"2\": [\"FUNCTION\", \"dadouble(lst)\", null]}, \"stdout\": \"\"}, {\"line\": 3, \"event\": \"step_line\", \"func_name\": \"dadouble_helper\", \"globals\": {\"dadouble_helper\": [\"REF\", 1], \"dadouble\": [\"REF\", 2]}, \"ordered_globals\": [\"dadouble_helper\", \"dadouble\"], \"stack_to_render\": [{\"func_name\": \"dadouble\", \"is_parent\": false, \"frame_id\": 1, \"parent_frame_id_list\": [], \"encoded_locals\": {\"lst\": [\"REF\", 3], \"acc\": [\"REF\", 4]}, \"ordered_varnames\": [\"lst\", \"acc\"], \"is_zombie\": false, \"is_highlighted\": false, \"unique_hash\": \"dadouble_f1\"}, {\"func_name\": \"dadouble_helper\", \"is_parent\": false, \"frame_id\": 2, \"parent_frame_id_list\": [], \"encoded_locals\": {\"lst\": [\"REF\", 3], \"i\": 0, \"j\": 3, \"acc\": [\"REF\", 4], \"k\": 1}, \"ordered_varnames\": [\"lst\", \"i\", \"j\", \"acc\", \"k\"], \"is_zombie\": false, \"is_highlighted\": false, \"unique_hash\": \"dadouble_helper_f2\"}, {\"func_name\": \"dadouble_helper\", \"is_parent\": false, \"frame_id\": 3, \"parent_frame_id_list\": [], \"encoded_locals\": {\"lst\": [\"REF\", 3], \"i\": 0, \"j\": 1, \"acc\": [\"REF\", 4], \"k\": 0}, \"ordered_varnames\": [\"lst\", \"i\", \"j\", \"acc\", \"k\"], \"is_zombie\": false, \"is_highlighted\": false, \"unique_hash\": \"dadouble_helper_f3\"}, {\"func_name\": \"dadouble_helper\", \"is_parent\": false, \"frame_id\": 5, \"parent_frame_id_list\": [], \"encoded_locals\": {\"lst\": [\"REF\", 3], \"i\": 1, \"j\": 1, \"acc\": [\"REF\", 4]}, \"ordered_varnames\": [\"lst\", \"i\", \"j\", \"acc\"], \"is_zombie\": false, \"is_highlighted\": true, \"unique_hash\": \"dadouble_helper_f5\"}], \"heap\": {\"3\": [\"LIST\", 4, 6, 2], \"4\": [\"LIST\", 8, 12, null], \"1\": [\"FUNCTION\", \"dadouble_helper(lst, i, j, acc)\", null], \"2\": [\"FUNCTION\", \"dadouble(lst)\", null]}, \"stdout\": \"\"}, {\"line\": 4, \"event\": \"step_line\", \"func_name\": \"dadouble_helper\", \"globals\": {\"dadouble_helper\": [\"REF\", 1], \"dadouble\": [\"REF\", 2]}, \"ordered_globals\": [\"dadouble_helper\", \"dadouble\"], \"stack_to_render\": [{\"func_name\": \"dadouble\", \"is_parent\": false, \"frame_id\": 1, \"parent_frame_id_list\": [], \"encoded_locals\": {\"lst\": [\"REF\", 3], \"acc\": [\"REF\", 4]}, \"ordered_varnames\": [\"lst\", \"acc\"], \"is_zombie\": false, \"is_highlighted\": false, \"unique_hash\": \"dadouble_f1\"}, {\"func_name\": \"dadouble_helper\", \"is_parent\": false, \"frame_id\": 2, \"parent_frame_id_list\": [], \"encoded_locals\": {\"lst\": [\"REF\", 3], \"i\": 0, \"j\": 3, \"acc\": [\"REF\", 4], \"k\": 1}, \"ordered_varnames\": [\"lst\", \"i\", \"j\", \"acc\", \"k\"], \"is_zombie\": false, \"is_highlighted\": false, \"unique_hash\": \"dadouble_helper_f2\"}, {\"func_name\": \"dadouble_helper\", \"is_parent\": false, \"frame_id\": 3, \"parent_frame_id_list\": [], \"encoded_locals\": {\"lst\": [\"REF\", 3], \"i\": 0, \"j\": 1, \"acc\": [\"REF\", 4], \"k\": 0}, \"ordered_varnames\": [\"lst\", \"i\", \"j\", \"acc\", \"k\"], \"is_zombie\": false, \"is_highlighted\": false, \"unique_hash\": \"dadouble_helper_f3\"}, {\"func_name\": \"dadouble_helper\", \"is_parent\": false, \"frame_id\": 5, \"parent_frame_id_list\": [], \"encoded_locals\": {\"lst\": [\"REF\", 3], \"i\": 1, \"j\": 1, \"acc\": [\"REF\", 4]}, \"ordered_varnames\": [\"lst\", \"i\", \"j\", \"acc\"], \"is_zombie\": false, \"is_highlighted\": true, \"unique_hash\": \"dadouble_helper_f5\"}], \"heap\": {\"3\": [\"LIST\", 4, 6, 2], \"4\": [\"LIST\", 8, 12, null], \"1\": [\"FUNCTION\", \"dadouble_helper(lst, i, j, acc)\", null], \"2\": [\"FUNCTION\", \"dadouble(lst)\", null]}, \"stdout\": \"\"}, {\"line\": 4, \"event\": \"return\", \"func_name\": \"dadouble_helper\", \"globals\": {\"dadouble_helper\": [\"REF\", 1], \"dadouble\": [\"REF\", 2]}, \"ordered_globals\": [\"dadouble_helper\", \"dadouble\"], \"stack_to_render\": [{\"func_name\": \"dadouble\", \"is_parent\": false, \"frame_id\": 1, \"parent_frame_id_list\": [], \"encoded_locals\": {\"lst\": [\"REF\", 3], \"acc\": [\"REF\", 4]}, \"ordered_varnames\": [\"lst\", \"acc\"], \"is_zombie\": false, \"is_highlighted\": false, \"unique_hash\": \"dadouble_f1\"}, {\"func_name\": \"dadouble_helper\", \"is_parent\": false, \"frame_id\": 2, \"parent_frame_id_list\": [], \"encoded_locals\": {\"lst\": [\"REF\", 3], \"i\": 0, \"j\": 3, \"acc\": [\"REF\", 4], \"k\": 1}, \"ordered_varnames\": [\"lst\", \"i\", \"j\", \"acc\", \"k\"], \"is_zombie\": false, \"is_highlighted\": false, \"unique_hash\": \"dadouble_helper_f2\"}, {\"func_name\": \"dadouble_helper\", \"is_parent\": false, \"frame_id\": 3, \"parent_frame_id_list\": [], \"encoded_locals\": {\"lst\": [\"REF\", 3], \"i\": 0, \"j\": 1, \"acc\": [\"REF\", 4], \"k\": 0}, \"ordered_varnames\": [\"lst\", \"i\", \"j\", \"acc\", \"k\"], \"is_zombie\": false, \"is_highlighted\": false, \"unique_hash\": \"dadouble_helper_f3\"}, {\"func_name\": \"dadouble_helper\", \"is_parent\": false, \"frame_id\": 5, \"parent_frame_id_list\": [], \"encoded_locals\": {\"lst\": [\"REF\", 3], \"i\": 1, \"j\": 1, \"acc\": [\"REF\", 4], \"__return__\": [\"REF\", 4]}, \"ordered_varnames\": [\"lst\", \"i\", \"j\", \"acc\", \"__return__\"], \"is_zombie\": false, \"is_highlighted\": true, \"unique_hash\": \"dadouble_helper_f5\"}], \"heap\": {\"3\": [\"LIST\", 4, 6, 2], \"4\": [\"LIST\", 8, 12, null], \"1\": [\"FUNCTION\", \"dadouble_helper(lst, i, j, acc)\", null], \"2\": [\"FUNCTION\", \"dadouble(lst)\", null]}, \"stdout\": \"\"}, {\"line\": 10, \"event\": \"step_line\", \"func_name\": \"dadouble_helper\", \"globals\": {\"dadouble_helper\": [\"REF\", 1], \"dadouble\": [\"REF\", 2]}, \"ordered_globals\": [\"dadouble_helper\", \"dadouble\"], \"stack_to_render\": [{\"func_name\": \"dadouble\", \"is_parent\": false, \"frame_id\": 1, \"parent_frame_id_list\": [], \"encoded_locals\": {\"lst\": [\"REF\", 3], \"acc\": [\"REF\", 4]}, \"ordered_varnames\": [\"lst\", \"acc\"], \"is_zombie\": false, \"is_highlighted\": false, \"unique_hash\": \"dadouble_f1\"}, {\"func_name\": \"dadouble_helper\", \"is_parent\": false, \"frame_id\": 2, \"parent_frame_id_list\": [], \"encoded_locals\": {\"lst\": [\"REF\", 3], \"i\": 0, \"j\": 3, \"acc\": [\"REF\", 4], \"k\": 1}, \"ordered_varnames\": [\"lst\", \"i\", \"j\", \"acc\", \"k\"], \"is_zombie\": false, \"is_highlighted\": false, \"unique_hash\": \"dadouble_helper_f2\"}, {\"func_name\": \"dadouble_helper\", \"is_parent\": false, \"frame_id\": 3, \"parent_frame_id_list\": [], \"encoded_locals\": {\"lst\": [\"REF\", 3], \"i\": 0, \"j\": 1, \"acc\": [\"REF\", 4], \"k\": 0}, \"ordered_varnames\": [\"lst\", \"i\", \"j\", \"acc\", \"k\"], \"is_zombie\": false, \"is_highlighted\": true, \"unique_hash\": \"dadouble_helper_f3\"}], \"heap\": {\"3\": [\"LIST\", 4, 6, 2], \"4\": [\"LIST\", 8, 12, null], \"1\": [\"FUNCTION\", \"dadouble_helper(lst, i, j, acc)\", null], \"2\": [\"FUNCTION\", \"dadouble(lst)\", null]}, \"stdout\": \"\"}, {\"line\": 10, \"event\": \"return\", \"func_name\": \"dadouble_helper\", \"globals\": {\"dadouble_helper\": [\"REF\", 1], \"dadouble\": [\"REF\", 2]}, \"ordered_globals\": [\"dadouble_helper\", \"dadouble\"], \"stack_to_render\": [{\"func_name\": \"dadouble\", \"is_parent\": false, \"frame_id\": 1, \"parent_frame_id_list\": [], \"encoded_locals\": {\"lst\": [\"REF\", 3], \"acc\": [\"REF\", 4]}, \"ordered_varnames\": [\"lst\", \"acc\"], \"is_zombie\": false, \"is_highlighted\": false, \"unique_hash\": \"dadouble_f1\"}, {\"func_name\": \"dadouble_helper\", \"is_parent\": false, \"frame_id\": 2, \"parent_frame_id_list\": [], \"encoded_locals\": {\"lst\": [\"REF\", 3], \"i\": 0, \"j\": 3, \"acc\": [\"REF\", 4], \"k\": 1}, \"ordered_varnames\": [\"lst\", \"i\", \"j\", \"acc\", \"k\"], \"is_zombie\": false, \"is_highlighted\": false, \"unique_hash\": \"dadouble_helper_f2\"}, {\"func_name\": \"dadouble_helper\", \"is_parent\": false, \"frame_id\": 3, \"parent_frame_id_list\": [], \"encoded_locals\": {\"lst\": [\"REF\", 3], \"i\": 0, \"j\": 1, \"acc\": [\"REF\", 4], \"k\": 0, \"__return__\": [\"REF\", 4]}, \"ordered_varnames\": [\"lst\", \"i\", \"j\", \"acc\", \"k\", \"__return__\"], \"is_zombie\": false, \"is_highlighted\": true, \"unique_hash\": \"dadouble_helper_f3\"}], \"heap\": {\"3\": [\"LIST\", 4, 6, 2], \"4\": [\"LIST\", 8, 12, null], \"1\": [\"FUNCTION\", \"dadouble_helper(lst, i, j, acc)\", null], \"2\": [\"FUNCTION\", \"dadouble(lst)\", null]}, \"stdout\": \"\"}, {\"line\": 9, \"event\": \"step_line\", \"func_name\": \"dadouble_helper\", \"globals\": {\"dadouble_helper\": [\"REF\", 1], \"dadouble\": [\"REF\", 2]}, \"ordered_globals\": [\"dadouble_helper\", \"dadouble\"], \"stack_to_render\": [{\"func_name\": \"dadouble\", \"is_parent\": false, \"frame_id\": 1, \"parent_frame_id_list\": [], \"encoded_locals\": {\"lst\": [\"REF\", 3], \"acc\": [\"REF\", 4]}, \"ordered_varnames\": [\"lst\", \"acc\"], \"is_zombie\": false, \"is_highlighted\": false, \"unique_hash\": \"dadouble_f1\"}, {\"func_name\": \"dadouble_helper\", \"is_parent\": false, \"frame_id\": 2, \"parent_frame_id_list\": [], \"encoded_locals\": {\"lst\": [\"REF\", 3], \"i\": 0, \"j\": 3, \"acc\": [\"REF\", 4], \"k\": 1}, \"ordered_varnames\": [\"lst\", \"i\", \"j\", \"acc\", \"k\"], \"is_zombie\": false, \"is_highlighted\": true, \"unique_hash\": \"dadouble_helper_f2\"}], \"heap\": {\"3\": [\"LIST\", 4, 6, 2], \"4\": [\"LIST\", 8, 12, null], \"1\": [\"FUNCTION\", \"dadouble_helper(lst, i, j, acc)\", null], \"2\": [\"FUNCTION\", \"dadouble(lst)\", null]}, \"stdout\": \"\"}, {\"line\": 2, \"event\": \"call\", \"func_name\": \"dadouble_helper\", \"globals\": {\"dadouble_helper\": [\"REF\", 1], \"dadouble\": [\"REF\", 2]}, \"ordered_globals\": [\"dadouble_helper\", \"dadouble\"], \"stack_to_render\": [{\"func_name\": \"dadouble\", \"is_parent\": false, \"frame_id\": 1, \"parent_frame_id_list\": [], \"encoded_locals\": {\"lst\": [\"REF\", 3], \"acc\": [\"REF\", 4]}, \"ordered_varnames\": [\"lst\", \"acc\"], \"is_zombie\": false, \"is_highlighted\": false, \"unique_hash\": \"dadouble_f1\"}, {\"func_name\": \"dadouble_helper\", \"is_parent\": false, \"frame_id\": 2, \"parent_frame_id_list\": [], \"encoded_locals\": {\"lst\": [\"REF\", 3], \"i\": 0, \"j\": 3, \"acc\": [\"REF\", 4], \"k\": 1}, \"ordered_varnames\": [\"lst\", \"i\", \"j\", \"acc\", \"k\"], \"is_zombie\": false, \"is_highlighted\": false, \"unique_hash\": \"dadouble_helper_f2\"}, {\"func_name\": \"dadouble_helper\", \"is_parent\": false, \"frame_id\": 6, \"parent_frame_id_list\": [], \"encoded_locals\": {\"lst\": [\"REF\", 3], \"i\": 2, \"j\": 3, \"acc\": [\"REF\", 4]}, \"ordered_varnames\": [\"lst\", \"i\", \"j\", \"acc\"], \"is_zombie\": false, \"is_highlighted\": true, \"unique_hash\": \"dadouble_helper_f6\"}], \"heap\": {\"3\": [\"LIST\", 4, 6, 2], \"4\": [\"LIST\", 8, 12, null], \"1\": [\"FUNCTION\", \"dadouble_helper(lst, i, j, acc)\", null], \"2\": [\"FUNCTION\", \"dadouble(lst)\", null]}, \"stdout\": \"\"}, {\"line\": 3, \"event\": \"step_line\", \"func_name\": \"dadouble_helper\", \"globals\": {\"dadouble_helper\": [\"REF\", 1], \"dadouble\": [\"REF\", 2]}, \"ordered_globals\": [\"dadouble_helper\", \"dadouble\"], \"stack_to_render\": [{\"func_name\": \"dadouble\", \"is_parent\": false, \"frame_id\": 1, \"parent_frame_id_list\": [], \"encoded_locals\": {\"lst\": [\"REF\", 3], \"acc\": [\"REF\", 4]}, \"ordered_varnames\": [\"lst\", \"acc\"], \"is_zombie\": false, \"is_highlighted\": false, \"unique_hash\": \"dadouble_f1\"}, {\"func_name\": \"dadouble_helper\", \"is_parent\": false, \"frame_id\": 2, \"parent_frame_id_list\": [], \"encoded_locals\": {\"lst\": [\"REF\", 3], \"i\": 0, \"j\": 3, \"acc\": [\"REF\", 4], \"k\": 1}, \"ordered_varnames\": [\"lst\", \"i\", \"j\", \"acc\", \"k\"], \"is_zombie\": false, \"is_highlighted\": false, \"unique_hash\": \"dadouble_helper_f2\"}, {\"func_name\": \"dadouble_helper\", \"is_parent\": false, \"frame_id\": 6, \"parent_frame_id_list\": [], \"encoded_locals\": {\"lst\": [\"REF\", 3], \"i\": 2, \"j\": 3, \"acc\": [\"REF\", 4]}, \"ordered_varnames\": [\"lst\", \"i\", \"j\", \"acc\"], \"is_zombie\": false, \"is_highlighted\": true, \"unique_hash\": \"dadouble_helper_f6\"}], \"heap\": {\"3\": [\"LIST\", 4, 6, 2], \"4\": [\"LIST\", 8, 12, null], \"1\": [\"FUNCTION\", \"dadouble_helper(lst, i, j, acc)\", null], \"2\": [\"FUNCTION\", \"dadouble(lst)\", null]}, \"stdout\": \"\"}, {\"line\": 6, \"event\": \"step_line\", \"func_name\": \"dadouble_helper\", \"globals\": {\"dadouble_helper\": [\"REF\", 1], \"dadouble\": [\"REF\", 2]}, \"ordered_globals\": [\"dadouble_helper\", \"dadouble\"], \"stack_to_render\": [{\"func_name\": \"dadouble\", \"is_parent\": false, \"frame_id\": 1, \"parent_frame_id_list\": [], \"encoded_locals\": {\"lst\": [\"REF\", 3], \"acc\": [\"REF\", 4]}, \"ordered_varnames\": [\"lst\", \"acc\"], \"is_zombie\": false, \"is_highlighted\": false, \"unique_hash\": \"dadouble_f1\"}, {\"func_name\": \"dadouble_helper\", \"is_parent\": false, \"frame_id\": 2, \"parent_frame_id_list\": [], \"encoded_locals\": {\"lst\": [\"REF\", 3], \"i\": 0, \"j\": 3, \"acc\": [\"REF\", 4], \"k\": 1}, \"ordered_varnames\": [\"lst\", \"i\", \"j\", \"acc\", \"k\"], \"is_zombie\": false, \"is_highlighted\": false, \"unique_hash\": \"dadouble_helper_f2\"}, {\"func_name\": \"dadouble_helper\", \"is_parent\": false, \"frame_id\": 6, \"parent_frame_id_list\": [], \"encoded_locals\": {\"lst\": [\"REF\", 3], \"i\": 2, \"j\": 3, \"acc\": [\"REF\", 4]}, \"ordered_varnames\": [\"lst\", \"i\", \"j\", \"acc\"], \"is_zombie\": false, \"is_highlighted\": true, \"unique_hash\": \"dadouble_helper_f6\"}], \"heap\": {\"3\": [\"LIST\", 4, 6, 2], \"4\": [\"LIST\", 8, 12, null], \"1\": [\"FUNCTION\", \"dadouble_helper(lst, i, j, acc)\", null], \"2\": [\"FUNCTION\", \"dadouble(lst)\", null]}, \"stdout\": \"\"}, {\"line\": 7, \"event\": \"step_line\", \"func_name\": \"dadouble_helper\", \"globals\": {\"dadouble_helper\": [\"REF\", 1], \"dadouble\": [\"REF\", 2]}, \"ordered_globals\": [\"dadouble_helper\", \"dadouble\"], \"stack_to_render\": [{\"func_name\": \"dadouble\", \"is_parent\": false, \"frame_id\": 1, \"parent_frame_id_list\": [], \"encoded_locals\": {\"lst\": [\"REF\", 3], \"acc\": [\"REF\", 4]}, \"ordered_varnames\": [\"lst\", \"acc\"], \"is_zombie\": false, \"is_highlighted\": false, \"unique_hash\": \"dadouble_f1\"}, {\"func_name\": \"dadouble_helper\", \"is_parent\": false, \"frame_id\": 2, \"parent_frame_id_list\": [], \"encoded_locals\": {\"lst\": [\"REF\", 3], \"i\": 0, \"j\": 3, \"acc\": [\"REF\", 4], \"k\": 1}, \"ordered_varnames\": [\"lst\", \"i\", \"j\", \"acc\", \"k\"], \"is_zombie\": false, \"is_highlighted\": false, \"unique_hash\": \"dadouble_helper_f2\"}, {\"func_name\": \"dadouble_helper\", \"is_parent\": false, \"frame_id\": 6, \"parent_frame_id_list\": [], \"encoded_locals\": {\"lst\": [\"REF\", 3], \"i\": 2, \"j\": 3, \"acc\": [\"REF\", 4], \"k\": 2}, \"ordered_varnames\": [\"lst\", \"i\", \"j\", \"acc\", \"k\"], \"is_zombie\": false, \"is_highlighted\": true, \"unique_hash\": \"dadouble_helper_f6\"}], \"heap\": {\"3\": [\"LIST\", 4, 6, 2], \"4\": [\"LIST\", 8, 12, null], \"1\": [\"FUNCTION\", \"dadouble_helper(lst, i, j, acc)\", null], \"2\": [\"FUNCTION\", \"dadouble(lst)\", null]}, \"stdout\": \"\"}, {\"line\": 8, \"event\": \"step_line\", \"func_name\": \"dadouble_helper\", \"globals\": {\"dadouble_helper\": [\"REF\", 1], \"dadouble\": [\"REF\", 2]}, \"ordered_globals\": [\"dadouble_helper\", \"dadouble\"], \"stack_to_render\": [{\"func_name\": \"dadouble\", \"is_parent\": false, \"frame_id\": 1, \"parent_frame_id_list\": [], \"encoded_locals\": {\"lst\": [\"REF\", 3], \"acc\": [\"REF\", 4]}, \"ordered_varnames\": [\"lst\", \"acc\"], \"is_zombie\": false, \"is_highlighted\": false, \"unique_hash\": \"dadouble_f1\"}, {\"func_name\": \"dadouble_helper\", \"is_parent\": false, \"frame_id\": 2, \"parent_frame_id_list\": [], \"encoded_locals\": {\"lst\": [\"REF\", 3], \"i\": 0, \"j\": 3, \"acc\": [\"REF\", 4], \"k\": 1}, \"ordered_varnames\": [\"lst\", \"i\", \"j\", \"acc\", \"k\"], \"is_zombie\": false, \"is_highlighted\": false, \"unique_hash\": \"dadouble_helper_f2\"}, {\"func_name\": \"dadouble_helper\", \"is_parent\": false, \"frame_id\": 6, \"parent_frame_id_list\": [], \"encoded_locals\": {\"lst\": [\"REF\", 3], \"i\": 2, \"j\": 3, \"acc\": [\"REF\", 4], \"k\": 2}, \"ordered_varnames\": [\"lst\", \"i\", \"j\", \"acc\", \"k\"], \"is_zombie\": false, \"is_highlighted\": true, \"unique_hash\": \"dadouble_helper_f6\"}], \"heap\": {\"3\": [\"LIST\", 4, 6, 2], \"4\": [\"LIST\", 8, 12, 4], \"1\": [\"FUNCTION\", \"dadouble_helper(lst, i, j, acc)\", null], \"2\": [\"FUNCTION\", \"dadouble(lst)\", null]}, \"stdout\": \"\"}, {\"line\": 2, \"event\": \"call\", \"func_name\": \"dadouble_helper\", \"globals\": {\"dadouble_helper\": [\"REF\", 1], \"dadouble\": [\"REF\", 2]}, \"ordered_globals\": [\"dadouble_helper\", \"dadouble\"], \"stack_to_render\": [{\"func_name\": \"dadouble\", \"is_parent\": false, \"frame_id\": 1, \"parent_frame_id_list\": [], \"encoded_locals\": {\"lst\": [\"REF\", 3], \"acc\": [\"REF\", 4]}, \"ordered_varnames\": [\"lst\", \"acc\"], \"is_zombie\": false, \"is_highlighted\": false, \"unique_hash\": \"dadouble_f1\"}, {\"func_name\": \"dadouble_helper\", \"is_parent\": false, \"frame_id\": 2, \"parent_frame_id_list\": [], \"encoded_locals\": {\"lst\": [\"REF\", 3], \"i\": 0, \"j\": 3, \"acc\": [\"REF\", 4], \"k\": 1}, \"ordered_varnames\": [\"lst\", \"i\", \"j\", \"acc\", \"k\"], \"is_zombie\": false, \"is_highlighted\": false, \"unique_hash\": \"dadouble_helper_f2\"}, {\"func_name\": \"dadouble_helper\", \"is_parent\": false, \"frame_id\": 6, \"parent_frame_id_list\": [], \"encoded_locals\": {\"lst\": [\"REF\", 3], \"i\": 2, \"j\": 3, \"acc\": [\"REF\", 4], \"k\": 2}, \"ordered_varnames\": [\"lst\", \"i\", \"j\", \"acc\", \"k\"], \"is_zombie\": false, \"is_highlighted\": false, \"unique_hash\": \"dadouble_helper_f6\"}, {\"func_name\": \"dadouble_helper\", \"is_parent\": false, \"frame_id\": 7, \"parent_frame_id_list\": [], \"encoded_locals\": {\"lst\": [\"REF\", 3], \"i\": 2, \"j\": 2, \"acc\": [\"REF\", 4]}, \"ordered_varnames\": [\"lst\", \"i\", \"j\", \"acc\"], \"is_zombie\": false, \"is_highlighted\": true, \"unique_hash\": \"dadouble_helper_f7\"}], \"heap\": {\"3\": [\"LIST\", 4, 6, 2], \"4\": [\"LIST\", 8, 12, 4], \"1\": [\"FUNCTION\", \"dadouble_helper(lst, i, j, acc)\", null], \"2\": [\"FUNCTION\", \"dadouble(lst)\", null]}, \"stdout\": \"\"}, {\"line\": 3, \"event\": \"step_line\", \"func_name\": \"dadouble_helper\", \"globals\": {\"dadouble_helper\": [\"REF\", 1], \"dadouble\": [\"REF\", 2]}, \"ordered_globals\": [\"dadouble_helper\", \"dadouble\"], \"stack_to_render\": [{\"func_name\": \"dadouble\", \"is_parent\": false, \"frame_id\": 1, \"parent_frame_id_list\": [], \"encoded_locals\": {\"lst\": [\"REF\", 3], \"acc\": [\"REF\", 4]}, \"ordered_varnames\": [\"lst\", \"acc\"], \"is_zombie\": false, \"is_highlighted\": false, \"unique_hash\": \"dadouble_f1\"}, {\"func_name\": \"dadouble_helper\", \"is_parent\": false, \"frame_id\": 2, \"parent_frame_id_list\": [], \"encoded_locals\": {\"lst\": [\"REF\", 3], \"i\": 0, \"j\": 3, \"acc\": [\"REF\", 4], \"k\": 1}, \"ordered_varnames\": [\"lst\", \"i\", \"j\", \"acc\", \"k\"], \"is_zombie\": false, \"is_highlighted\": false, \"unique_hash\": \"dadouble_helper_f2\"}, {\"func_name\": \"dadouble_helper\", \"is_parent\": false, \"frame_id\": 6, \"parent_frame_id_list\": [], \"encoded_locals\": {\"lst\": [\"REF\", 3], \"i\": 2, \"j\": 3, \"acc\": [\"REF\", 4], \"k\": 2}, \"ordered_varnames\": [\"lst\", \"i\", \"j\", \"acc\", \"k\"], \"is_zombie\": false, \"is_highlighted\": false, \"unique_hash\": \"dadouble_helper_f6\"}, {\"func_name\": \"dadouble_helper\", \"is_parent\": false, \"frame_id\": 7, \"parent_frame_id_list\": [], \"encoded_locals\": {\"lst\": [\"REF\", 3], \"i\": 2, \"j\": 2, \"acc\": [\"REF\", 4]}, \"ordered_varnames\": [\"lst\", \"i\", \"j\", \"acc\"], \"is_zombie\": false, \"is_highlighted\": true, \"unique_hash\": \"dadouble_helper_f7\"}], \"heap\": {\"3\": [\"LIST\", 4, 6, 2], \"4\": [\"LIST\", 8, 12, 4], \"1\": [\"FUNCTION\", \"dadouble_helper(lst, i, j, acc)\", null], \"2\": [\"FUNCTION\", \"dadouble(lst)\", null]}, \"stdout\": \"\"}, {\"line\": 4, \"event\": \"step_line\", \"func_name\": \"dadouble_helper\", \"globals\": {\"dadouble_helper\": [\"REF\", 1], \"dadouble\": [\"REF\", 2]}, \"ordered_globals\": [\"dadouble_helper\", \"dadouble\"], \"stack_to_render\": [{\"func_name\": \"dadouble\", \"is_parent\": false, \"frame_id\": 1, \"parent_frame_id_list\": [], \"encoded_locals\": {\"lst\": [\"REF\", 3], \"acc\": [\"REF\", 4]}, \"ordered_varnames\": [\"lst\", \"acc\"], \"is_zombie\": false, \"is_highlighted\": false, \"unique_hash\": \"dadouble_f1\"}, {\"func_name\": \"dadouble_helper\", \"is_parent\": false, \"frame_id\": 2, \"parent_frame_id_list\": [], \"encoded_locals\": {\"lst\": [\"REF\", 3], \"i\": 0, \"j\": 3, \"acc\": [\"REF\", 4], \"k\": 1}, \"ordered_varnames\": [\"lst\", \"i\", \"j\", \"acc\", \"k\"], \"is_zombie\": false, \"is_highlighted\": false, \"unique_hash\": \"dadouble_helper_f2\"}, {\"func_name\": \"dadouble_helper\", \"is_parent\": false, \"frame_id\": 6, \"parent_frame_id_list\": [], \"encoded_locals\": {\"lst\": [\"REF\", 3], \"i\": 2, \"j\": 3, \"acc\": [\"REF\", 4], \"k\": 2}, \"ordered_varnames\": [\"lst\", \"i\", \"j\", \"acc\", \"k\"], \"is_zombie\": false, \"is_highlighted\": false, \"unique_hash\": \"dadouble_helper_f6\"}, {\"func_name\": \"dadouble_helper\", \"is_parent\": false, \"frame_id\": 7, \"parent_frame_id_list\": [], \"encoded_locals\": {\"lst\": [\"REF\", 3], \"i\": 2, \"j\": 2, \"acc\": [\"REF\", 4]}, \"ordered_varnames\": [\"lst\", \"i\", \"j\", \"acc\"], \"is_zombie\": false, \"is_highlighted\": true, \"unique_hash\": \"dadouble_helper_f7\"}], \"heap\": {\"3\": [\"LIST\", 4, 6, 2], \"4\": [\"LIST\", 8, 12, 4], \"1\": [\"FUNCTION\", \"dadouble_helper(lst, i, j, acc)\", null], \"2\": [\"FUNCTION\", \"dadouble(lst)\", null]}, \"stdout\": \"\"}, {\"line\": 4, \"event\": \"return\", \"func_name\": \"dadouble_helper\", \"globals\": {\"dadouble_helper\": [\"REF\", 1], \"dadouble\": [\"REF\", 2]}, \"ordered_globals\": [\"dadouble_helper\", \"dadouble\"], \"stack_to_render\": [{\"func_name\": \"dadouble\", \"is_parent\": false, \"frame_id\": 1, \"parent_frame_id_list\": [], \"encoded_locals\": {\"lst\": [\"REF\", 3], \"acc\": [\"REF\", 4]}, \"ordered_varnames\": [\"lst\", \"acc\"], \"is_zombie\": false, \"is_highlighted\": false, \"unique_hash\": \"dadouble_f1\"}, {\"func_name\": \"dadouble_helper\", \"is_parent\": false, \"frame_id\": 2, \"parent_frame_id_list\": [], \"encoded_locals\": {\"lst\": [\"REF\", 3], \"i\": 0, \"j\": 3, \"acc\": [\"REF\", 4], \"k\": 1}, \"ordered_varnames\": [\"lst\", \"i\", \"j\", \"acc\", \"k\"], \"is_zombie\": false, \"is_highlighted\": false, \"unique_hash\": \"dadouble_helper_f2\"}, {\"func_name\": \"dadouble_helper\", \"is_parent\": false, \"frame_id\": 6, \"parent_frame_id_list\": [], \"encoded_locals\": {\"lst\": [\"REF\", 3], \"i\": 2, \"j\": 3, \"acc\": [\"REF\", 4], \"k\": 2}, \"ordered_varnames\": [\"lst\", \"i\", \"j\", \"acc\", \"k\"], \"is_zombie\": false, \"is_highlighted\": false, \"unique_hash\": \"dadouble_helper_f6\"}, {\"func_name\": \"dadouble_helper\", \"is_parent\": false, \"frame_id\": 7, \"parent_frame_id_list\": [], \"encoded_locals\": {\"lst\": [\"REF\", 3], \"i\": 2, \"j\": 2, \"acc\": [\"REF\", 4], \"__return__\": [\"REF\", 4]}, \"ordered_varnames\": [\"lst\", \"i\", \"j\", \"acc\", \"__return__\"], \"is_zombie\": false, \"is_highlighted\": true, \"unique_hash\": \"dadouble_helper_f7\"}], \"heap\": {\"3\": [\"LIST\", 4, 6, 2], \"4\": [\"LIST\", 8, 12, 4], \"1\": [\"FUNCTION\", \"dadouble_helper(lst, i, j, acc)\", null], \"2\": [\"FUNCTION\", \"dadouble(lst)\", null]}, \"stdout\": \"\"}, {\"line\": 9, \"event\": \"step_line\", \"func_name\": \"dadouble_helper\", \"globals\": {\"dadouble_helper\": [\"REF\", 1], \"dadouble\": [\"REF\", 2]}, \"ordered_globals\": [\"dadouble_helper\", \"dadouble\"], \"stack_to_render\": [{\"func_name\": \"dadouble\", \"is_parent\": false, \"frame_id\": 1, \"parent_frame_id_list\": [], \"encoded_locals\": {\"lst\": [\"REF\", 3], \"acc\": [\"REF\", 4]}, \"ordered_varnames\": [\"lst\", \"acc\"], \"is_zombie\": false, \"is_highlighted\": false, \"unique_hash\": \"dadouble_f1\"}, {\"func_name\": \"dadouble_helper\", \"is_parent\": false, \"frame_id\": 2, \"parent_frame_id_list\": [], \"encoded_locals\": {\"lst\": [\"REF\", 3], \"i\": 0, \"j\": 3, \"acc\": [\"REF\", 4], \"k\": 1}, \"ordered_varnames\": [\"lst\", \"i\", \"j\", \"acc\", \"k\"], \"is_zombie\": false, \"is_highlighted\": false, \"unique_hash\": \"dadouble_helper_f2\"}, {\"func_name\": \"dadouble_helper\", \"is_parent\": false, \"frame_id\": 6, \"parent_frame_id_list\": [], \"encoded_locals\": {\"lst\": [\"REF\", 3], \"i\": 2, \"j\": 3, \"acc\": [\"REF\", 4], \"k\": 2}, \"ordered_varnames\": [\"lst\", \"i\", \"j\", \"acc\", \"k\"], \"is_zombie\": false, \"is_highlighted\": true, \"unique_hash\": \"dadouble_helper_f6\"}], \"heap\": {\"3\": [\"LIST\", 4, 6, 2], \"4\": [\"LIST\", 8, 12, 4], \"1\": [\"FUNCTION\", \"dadouble_helper(lst, i, j, acc)\", null], \"2\": [\"FUNCTION\", \"dadouble(lst)\", null]}, \"stdout\": \"\"}, {\"line\": 2, \"event\": \"call\", \"func_name\": \"dadouble_helper\", \"globals\": {\"dadouble_helper\": [\"REF\", 1], \"dadouble\": [\"REF\", 2]}, \"ordered_globals\": [\"dadouble_helper\", \"dadouble\"], \"stack_to_render\": [{\"func_name\": \"dadouble\", \"is_parent\": false, \"frame_id\": 1, \"parent_frame_id_list\": [], \"encoded_locals\": {\"lst\": [\"REF\", 3], \"acc\": [\"REF\", 4]}, \"ordered_varnames\": [\"lst\", \"acc\"], \"is_zombie\": false, \"is_highlighted\": false, \"unique_hash\": \"dadouble_f1\"}, {\"func_name\": \"dadouble_helper\", \"is_parent\": false, \"frame_id\": 2, \"parent_frame_id_list\": [], \"encoded_locals\": {\"lst\": [\"REF\", 3], \"i\": 0, \"j\": 3, \"acc\": [\"REF\", 4], \"k\": 1}, \"ordered_varnames\": [\"lst\", \"i\", \"j\", \"acc\", \"k\"], \"is_zombie\": false, \"is_highlighted\": false, \"unique_hash\": \"dadouble_helper_f2\"}, {\"func_name\": \"dadouble_helper\", \"is_parent\": false, \"frame_id\": 6, \"parent_frame_id_list\": [], \"encoded_locals\": {\"lst\": [\"REF\", 3], \"i\": 2, \"j\": 3, \"acc\": [\"REF\", 4], \"k\": 2}, \"ordered_varnames\": [\"lst\", \"i\", \"j\", \"acc\", \"k\"], \"is_zombie\": false, \"is_highlighted\": false, \"unique_hash\": \"dadouble_helper_f6\"}, {\"func_name\": \"dadouble_helper\", \"is_parent\": false, \"frame_id\": 8, \"parent_frame_id_list\": [], \"encoded_locals\": {\"lst\": [\"REF\", 3], \"i\": 3, \"j\": 3, \"acc\": [\"REF\", 4]}, \"ordered_varnames\": [\"lst\", \"i\", \"j\", \"acc\"], \"is_zombie\": false, \"is_highlighted\": true, \"unique_hash\": \"dadouble_helper_f8\"}], \"heap\": {\"3\": [\"LIST\", 4, 6, 2], \"4\": [\"LIST\", 8, 12, 4], \"1\": [\"FUNCTION\", \"dadouble_helper(lst, i, j, acc)\", null], \"2\": [\"FUNCTION\", \"dadouble(lst)\", null]}, \"stdout\": \"\"}, {\"line\": 3, \"event\": \"step_line\", \"func_name\": \"dadouble_helper\", \"globals\": {\"dadouble_helper\": [\"REF\", 1], \"dadouble\": [\"REF\", 2]}, \"ordered_globals\": [\"dadouble_helper\", \"dadouble\"], \"stack_to_render\": [{\"func_name\": \"dadouble\", \"is_parent\": false, \"frame_id\": 1, \"parent_frame_id_list\": [], \"encoded_locals\": {\"lst\": [\"REF\", 3], \"acc\": [\"REF\", 4]}, \"ordered_varnames\": [\"lst\", \"acc\"], \"is_zombie\": false, \"is_highlighted\": false, \"unique_hash\": \"dadouble_f1\"}, {\"func_name\": \"dadouble_helper\", \"is_parent\": false, \"frame_id\": 2, \"parent_frame_id_list\": [], \"encoded_locals\": {\"lst\": [\"REF\", 3], \"i\": 0, \"j\": 3, \"acc\": [\"REF\", 4], \"k\": 1}, \"ordered_varnames\": [\"lst\", \"i\", \"j\", \"acc\", \"k\"], \"is_zombie\": false, \"is_highlighted\": false, \"unique_hash\": \"dadouble_helper_f2\"}, {\"func_name\": \"dadouble_helper\", \"is_parent\": false, \"frame_id\": 6, \"parent_frame_id_list\": [], \"encoded_locals\": {\"lst\": [\"REF\", 3], \"i\": 2, \"j\": 3, \"acc\": [\"REF\", 4], \"k\": 2}, \"ordered_varnames\": [\"lst\", \"i\", \"j\", \"acc\", \"k\"], \"is_zombie\": false, \"is_highlighted\": false, \"unique_hash\": \"dadouble_helper_f6\"}, {\"func_name\": \"dadouble_helper\", \"is_parent\": false, \"frame_id\": 8, \"parent_frame_id_list\": [], \"encoded_locals\": {\"lst\": [\"REF\", 3], \"i\": 3, \"j\": 3, \"acc\": [\"REF\", 4]}, \"ordered_varnames\": [\"lst\", \"i\", \"j\", \"acc\"], \"is_zombie\": false, \"is_highlighted\": true, \"unique_hash\": \"dadouble_helper_f8\"}], \"heap\": {\"3\": [\"LIST\", 4, 6, 2], \"4\": [\"LIST\", 8, 12, 4], \"1\": [\"FUNCTION\", \"dadouble_helper(lst, i, j, acc)\", null], \"2\": [\"FUNCTION\", \"dadouble(lst)\", null]}, \"stdout\": \"\"}, {\"line\": 4, \"event\": \"step_line\", \"func_name\": \"dadouble_helper\", \"globals\": {\"dadouble_helper\": [\"REF\", 1], \"dadouble\": [\"REF\", 2]}, \"ordered_globals\": [\"dadouble_helper\", \"dadouble\"], \"stack_to_render\": [{\"func_name\": \"dadouble\", \"is_parent\": false, \"frame_id\": 1, \"parent_frame_id_list\": [], \"encoded_locals\": {\"lst\": [\"REF\", 3], \"acc\": [\"REF\", 4]}, \"ordered_varnames\": [\"lst\", \"acc\"], \"is_zombie\": false, \"is_highlighted\": false, \"unique_hash\": \"dadouble_f1\"}, {\"func_name\": \"dadouble_helper\", \"is_parent\": false, \"frame_id\": 2, \"parent_frame_id_list\": [], \"encoded_locals\": {\"lst\": [\"REF\", 3], \"i\": 0, \"j\": 3, \"acc\": [\"REF\", 4], \"k\": 1}, \"ordered_varnames\": [\"lst\", \"i\", \"j\", \"acc\", \"k\"], \"is_zombie\": false, \"is_highlighted\": false, \"unique_hash\": \"dadouble_helper_f2\"}, {\"func_name\": \"dadouble_helper\", \"is_parent\": false, \"frame_id\": 6, \"parent_frame_id_list\": [], \"encoded_locals\": {\"lst\": [\"REF\", 3], \"i\": 2, \"j\": 3, \"acc\": [\"REF\", 4], \"k\": 2}, \"ordered_varnames\": [\"lst\", \"i\", \"j\", \"acc\", \"k\"], \"is_zombie\": false, \"is_highlighted\": false, \"unique_hash\": \"dadouble_helper_f6\"}, {\"func_name\": \"dadouble_helper\", \"is_parent\": false, \"frame_id\": 8, \"parent_frame_id_list\": [], \"encoded_locals\": {\"lst\": [\"REF\", 3], \"i\": 3, \"j\": 3, \"acc\": [\"REF\", 4]}, \"ordered_varnames\": [\"lst\", \"i\", \"j\", \"acc\"], \"is_zombie\": false, \"is_highlighted\": true, \"unique_hash\": \"dadouble_helper_f8\"}], \"heap\": {\"3\": [\"LIST\", 4, 6, 2], \"4\": [\"LIST\", 8, 12, 4], \"1\": [\"FUNCTION\", \"dadouble_helper(lst, i, j, acc)\", null], \"2\": [\"FUNCTION\", \"dadouble(lst)\", null]}, \"stdout\": \"\"}, {\"line\": 4, \"event\": \"return\", \"func_name\": \"dadouble_helper\", \"globals\": {\"dadouble_helper\": [\"REF\", 1], \"dadouble\": [\"REF\", 2]}, \"ordered_globals\": [\"dadouble_helper\", \"dadouble\"], \"stack_to_render\": [{\"func_name\": \"dadouble\", \"is_parent\": false, \"frame_id\": 1, \"parent_frame_id_list\": [], \"encoded_locals\": {\"lst\": [\"REF\", 3], \"acc\": [\"REF\", 4]}, \"ordered_varnames\": [\"lst\", \"acc\"], \"is_zombie\": false, \"is_highlighted\": false, \"unique_hash\": \"dadouble_f1\"}, {\"func_name\": \"dadouble_helper\", \"is_parent\": false, \"frame_id\": 2, \"parent_frame_id_list\": [], \"encoded_locals\": {\"lst\": [\"REF\", 3], \"i\": 0, \"j\": 3, \"acc\": [\"REF\", 4], \"k\": 1}, \"ordered_varnames\": [\"lst\", \"i\", \"j\", \"acc\", \"k\"], \"is_zombie\": false, \"is_highlighted\": false, \"unique_hash\": \"dadouble_helper_f2\"}, {\"func_name\": \"dadouble_helper\", \"is_parent\": false, \"frame_id\": 6, \"parent_frame_id_list\": [], \"encoded_locals\": {\"lst\": [\"REF\", 3], \"i\": 2, \"j\": 3, \"acc\": [\"REF\", 4], \"k\": 2}, \"ordered_varnames\": [\"lst\", \"i\", \"j\", \"acc\", \"k\"], \"is_zombie\": false, \"is_highlighted\": false, \"unique_hash\": \"dadouble_helper_f6\"}, {\"func_name\": \"dadouble_helper\", \"is_parent\": false, \"frame_id\": 8, \"parent_frame_id_list\": [], \"encoded_locals\": {\"lst\": [\"REF\", 3], \"i\": 3, \"j\": 3, \"acc\": [\"REF\", 4], \"__return__\": [\"REF\", 4]}, \"ordered_varnames\": [\"lst\", \"i\", \"j\", \"acc\", \"__return__\"], \"is_zombie\": false, \"is_highlighted\": true, \"unique_hash\": \"dadouble_helper_f8\"}], \"heap\": {\"3\": [\"LIST\", 4, 6, 2], \"4\": [\"LIST\", 8, 12, 4], \"1\": [\"FUNCTION\", \"dadouble_helper(lst, i, j, acc)\", null], \"2\": [\"FUNCTION\", \"dadouble(lst)\", null]}, \"stdout\": \"\"}, {\"line\": 10, \"event\": \"step_line\", \"func_name\": \"dadouble_helper\", \"globals\": {\"dadouble_helper\": [\"REF\", 1], \"dadouble\": [\"REF\", 2]}, \"ordered_globals\": [\"dadouble_helper\", \"dadouble\"], \"stack_to_render\": [{\"func_name\": \"dadouble\", \"is_parent\": false, \"frame_id\": 1, \"parent_frame_id_list\": [], \"encoded_locals\": {\"lst\": [\"REF\", 3], \"acc\": [\"REF\", 4]}, \"ordered_varnames\": [\"lst\", \"acc\"], \"is_zombie\": false, \"is_highlighted\": false, \"unique_hash\": \"dadouble_f1\"}, {\"func_name\": \"dadouble_helper\", \"is_parent\": false, \"frame_id\": 2, \"parent_frame_id_list\": [], \"encoded_locals\": {\"lst\": [\"REF\", 3], \"i\": 0, \"j\": 3, \"acc\": [\"REF\", 4], \"k\": 1}, \"ordered_varnames\": [\"lst\", \"i\", \"j\", \"acc\", \"k\"], \"is_zombie\": false, \"is_highlighted\": false, \"unique_hash\": \"dadouble_helper_f2\"}, {\"func_name\": \"dadouble_helper\", \"is_parent\": false, \"frame_id\": 6, \"parent_frame_id_list\": [], \"encoded_locals\": {\"lst\": [\"REF\", 3], \"i\": 2, \"j\": 3, \"acc\": [\"REF\", 4], \"k\": 2}, \"ordered_varnames\": [\"lst\", \"i\", \"j\", \"acc\", \"k\"], \"is_zombie\": false, \"is_highlighted\": true, \"unique_hash\": \"dadouble_helper_f6\"}], \"heap\": {\"3\": [\"LIST\", 4, 6, 2], \"4\": [\"LIST\", 8, 12, 4], \"1\": [\"FUNCTION\", \"dadouble_helper(lst, i, j, acc)\", null], \"2\": [\"FUNCTION\", \"dadouble(lst)\", null]}, \"stdout\": \"\"}, {\"line\": 10, \"event\": \"return\", \"func_name\": \"dadouble_helper\", \"globals\": {\"dadouble_helper\": [\"REF\", 1], \"dadouble\": [\"REF\", 2]}, \"ordered_globals\": [\"dadouble_helper\", \"dadouble\"], \"stack_to_render\": [{\"func_name\": \"dadouble\", \"is_parent\": false, \"frame_id\": 1, \"parent_frame_id_list\": [], \"encoded_locals\": {\"lst\": [\"REF\", 3], \"acc\": [\"REF\", 4]}, \"ordered_varnames\": [\"lst\", \"acc\"], \"is_zombie\": false, \"is_highlighted\": false, \"unique_hash\": \"dadouble_f1\"}, {\"func_name\": \"dadouble_helper\", \"is_parent\": false, \"frame_id\": 2, \"parent_frame_id_list\": [], \"encoded_locals\": {\"lst\": [\"REF\", 3], \"i\": 0, \"j\": 3, \"acc\": [\"REF\", 4], \"k\": 1}, \"ordered_varnames\": [\"lst\", \"i\", \"j\", \"acc\", \"k\"], \"is_zombie\": false, \"is_highlighted\": false, \"unique_hash\": \"dadouble_helper_f2\"}, {\"func_name\": \"dadouble_helper\", \"is_parent\": false, \"frame_id\": 6, \"parent_frame_id_list\": [], \"encoded_locals\": {\"lst\": [\"REF\", 3], \"i\": 2, \"j\": 3, \"acc\": [\"REF\", 4], \"k\": 2, \"__return__\": [\"REF\", 4]}, \"ordered_varnames\": [\"lst\", \"i\", \"j\", \"acc\", \"k\", \"__return__\"], \"is_zombie\": false, \"is_highlighted\": true, \"unique_hash\": \"dadouble_helper_f6\"}], \"heap\": {\"3\": [\"LIST\", 4, 6, 2], \"4\": [\"LIST\", 8, 12, 4], \"1\": [\"FUNCTION\", \"dadouble_helper(lst, i, j, acc)\", null], \"2\": [\"FUNCTION\", \"dadouble(lst)\", null]}, \"stdout\": \"\"}, {\"line\": 10, \"event\": \"step_line\", \"func_name\": \"dadouble_helper\", \"globals\": {\"dadouble_helper\": [\"REF\", 1], \"dadouble\": [\"REF\", 2]}, \"ordered_globals\": [\"dadouble_helper\", \"dadouble\"], \"stack_to_render\": [{\"func_name\": \"dadouble\", \"is_parent\": false, \"frame_id\": 1, \"parent_frame_id_list\": [], \"encoded_locals\": {\"lst\": [\"REF\", 3], \"acc\": [\"REF\", 4]}, \"ordered_varnames\": [\"lst\", \"acc\"], \"is_zombie\": false, \"is_highlighted\": false, \"unique_hash\": \"dadouble_f1\"}, {\"func_name\": \"dadouble_helper\", \"is_parent\": false, \"frame_id\": 2, \"parent_frame_id_list\": [], \"encoded_locals\": {\"lst\": [\"REF\", 3], \"i\": 0, \"j\": 3, \"acc\": [\"REF\", 4], \"k\": 1}, \"ordered_varnames\": [\"lst\", \"i\", \"j\", \"acc\", \"k\"], \"is_zombie\": false, \"is_highlighted\": true, \"unique_hash\": \"dadouble_helper_f2\"}], \"heap\": {\"3\": [\"LIST\", 4, 6, 2], \"4\": [\"LIST\", 8, 12, 4], \"1\": [\"FUNCTION\", \"dadouble_helper(lst, i, j, acc)\", null], \"2\": [\"FUNCTION\", \"dadouble(lst)\", null]}, \"stdout\": \"\"}, {\"line\": 10, \"event\": \"return\", \"func_name\": \"dadouble_helper\", \"globals\": {\"dadouble_helper\": [\"REF\", 1], \"dadouble\": [\"REF\", 2]}, \"ordered_globals\": [\"dadouble_helper\", \"dadouble\"], \"stack_to_render\": [{\"func_name\": \"dadouble\", \"is_parent\": false, \"frame_id\": 1, \"parent_frame_id_list\": [], \"encoded_locals\": {\"lst\": [\"REF\", 3], \"acc\": [\"REF\", 4]}, \"ordered_varnames\": [\"lst\", \"acc\"], \"is_zombie\": false, \"is_highlighted\": false, \"unique_hash\": \"dadouble_f1\"}, {\"func_name\": \"dadouble_helper\", \"is_parent\": false, \"frame_id\": 2, \"parent_frame_id_list\": [], \"encoded_locals\": {\"lst\": [\"REF\", 3], \"i\": 0, \"j\": 3, \"acc\": [\"REF\", 4], \"k\": 1, \"__return__\": [\"REF\", 4]}, \"ordered_varnames\": [\"lst\", \"i\", \"j\", \"acc\", \"k\", \"__return__\"], \"is_zombie\": false, \"is_highlighted\": true, \"unique_hash\": \"dadouble_helper_f2\"}], \"heap\": {\"3\": [\"LIST\", 4, 6, 2], \"4\": [\"LIST\", 8, 12, 4], \"1\": [\"FUNCTION\", \"dadouble_helper(lst, i, j, acc)\", null], \"2\": [\"FUNCTION\", \"dadouble(lst)\", null]}, \"stdout\": \"\"}, {\"line\": 16, \"event\": \"step_line\", \"func_name\": \"dadouble\", \"globals\": {\"dadouble_helper\": [\"REF\", 1], \"dadouble\": [\"REF\", 2]}, \"ordered_globals\": [\"dadouble_helper\", \"dadouble\"], \"stack_to_render\": [{\"func_name\": \"dadouble\", \"is_parent\": false, \"frame_id\": 1, \"parent_frame_id_list\": [], \"encoded_locals\": {\"lst\": [\"REF\", 3], \"acc\": [\"REF\", 4]}, \"ordered_varnames\": [\"lst\", \"acc\"], \"is_zombie\": false, \"is_highlighted\": true, \"unique_hash\": \"dadouble_f1\"}], \"heap\": {\"3\": [\"LIST\", 4, 6, 2], \"4\": [\"LIST\", 8, 12, 4], \"1\": [\"FUNCTION\", \"dadouble_helper(lst, i, j, acc)\", null], \"2\": [\"FUNCTION\", \"dadouble(lst)\", null]}, \"stdout\": \"\"}, {\"line\": 16, \"event\": \"return\", \"func_name\": \"dadouble\", \"globals\": {\"dadouble_helper\": [\"REF\", 1], \"dadouble\": [\"REF\", 2]}, \"ordered_globals\": [\"dadouble_helper\", \"dadouble\"], \"stack_to_render\": [{\"func_name\": \"dadouble\", \"is_parent\": false, \"frame_id\": 1, \"parent_frame_id_list\": [], \"encoded_locals\": {\"lst\": [\"REF\", 3], \"acc\": [\"REF\", 4], \"__return__\": [\"REF\", 4]}, \"ordered_varnames\": [\"lst\", \"acc\", \"__return__\"], \"is_zombie\": false, \"is_highlighted\": true, \"unique_hash\": \"dadouble_f1\"}], \"heap\": {\"3\": [\"LIST\", 4, 6, 2], \"4\": [\"LIST\", 8, 12, 4], \"1\": [\"FUNCTION\", \"dadouble_helper(lst, i, j, acc)\", null], \"2\": [\"FUNCTION\", \"dadouble(lst)\", null]}, \"stdout\": \"\"}, {\"line\": 19, \"event\": \"step_line\", \"func_name\": \"<module>\", \"globals\": {\"dadouble_helper\": [\"REF\", 1], \"dadouble\": [\"REF\", 2], \"result\": [\"REF\", 4]}, \"ordered_globals\": [\"dadouble_helper\", \"dadouble\", \"result\"], \"stack_to_render\": [], \"heap\": {\"1\": [\"FUNCTION\", \"dadouble_helper(lst, i, j, acc)\", null], \"2\": [\"FUNCTION\", \"dadouble(lst)\", null], \"4\": [\"LIST\", 8, 12, 4]}, \"stdout\": \"\"}, {\"line\": 19, \"event\": \"return\", \"func_name\": \"<module>\", \"globals\": {\"dadouble_helper\": [\"REF\", 1], \"dadouble\": [\"REF\", 2], \"result\": [\"REF\", 4]}, \"ordered_globals\": [\"dadouble_helper\", \"dadouble\", \"result\"], \"stack_to_render\": [], \"heap\": {\"1\": [\"FUNCTION\", \"dadouble_helper(lst, i, j, acc)\", null], \"2\": [\"FUNCTION\", \"dadouble(lst)\", null], \"4\": [\"LIST\", 8, 12, 4]}, \"stdout\": \"[8, 12, 4]\\n\"}]}\n",
       "        </script>\n",
       "        <div id=\"jm461abfb8-2d6e-48f4-ba9d-2be3993d175a\" class=\"pytutorVisualizer\"> </div>\n",
       " \n",
       "        <style>\n",
       "        .vizLayoutTd {\n",
       "            background-color: #fff !important;\n",
       "        }\n",
       "                            \n",
       "        #pyStdout {\n",
       "            min-height:25px;\n",
       "        }\n",
       "\n",
       "        /* 'Edit this code' link, hiding because replaces browser tab !!!*/\n",
       "        #editCodeLinkDiv {\n",
       "            display:none;  \n",
       "        }\n",
       "        </style>   \n",
       "                            \n",
       "        <script>\n",
       "        (function(){\n",
       "\n",
       "            var trace = JSON.parse(document.getElementById('json-jm461abfb8-2d6e-48f4-ba9d-2be3993d175a').innerHTML);                                        \n",
       "            // NOTE 1: id without #\n",
       "            // NOTE 2 - maybe there are more predictable ways, but this will work anyway\n",
       "            //        - id should be number\n",
       "            visualizerIdOverride = Math.trunc(Math.random() * 100000000000)\n",
       "            addVisualizerToPage(trace, 'jm461abfb8-2d6e-48f4-ba9d-2be3993d175a',{'embeddedMode' : false,\n",
       "                                             'visualizerIdOverride':visualizerIdOverride})  \n",
       "            \n",
       "            \n",
       "            // set overflow for pytuts - need to do in python as css \n",
       "            // does not allow parent selection\n",
       "            var pytuts = $('.pytutorVisualizer')\n",
       "            pytuts.closest('div.output_html.rendered_html.output_result')\n",
       "                    .css('overflow-x', 'visible')\n",
       "        \n",
       "            //pytuts.closest('div.output_html.rendered_html.output_result')\n",
       "            //      .css('background-color','red')                \n",
       "            \n",
       "        })()\n",
       "        </script>\n",
       "                \n",
       "                "
      ],
      "text/plain": [
       "<IPython.core.display.HTML object>"
      ]
     },
     "execution_count": 15,
     "metadata": {},
     "output_type": "execute_result"
    }
   ],
   "source": [
    "def dadouble_helper(lst, i,j,acc):\n",
    "    if i >= j:    # note the >= in this case\n",
    "        return acc\n",
    "    else:\n",
    "        k = (i + j) // 2\n",
    "        acc[k] = lst[k] * 2\n",
    "        dadouble_helper(lst, i, k, acc)        \n",
    "        dadouble_helper(lst, k+1, j, acc)\n",
    "        return acc\n",
    "    \n",
    "def dadouble(lst):\n",
    "    acc = [None]*len(lst)  # let's create space to be filled in later\n",
    "                           # (acc is special so let's allow us the freedom of using * operator)\n",
    "    dadouble_helper(lst, 0, len(lst), acc)   \n",
    "    return acc\n",
    "\n",
    "result = dadouble([4,6,2])\n",
    "print(result)\n",
    "\n",
    "jupman.pytut()"
   ]
  },
  {
   "cell_type": "code",
   "execution_count": 16,
   "id": "2c96e351-stripped",
   "metadata": {
    "nbsphinx": "hidden"
   },
   "outputs": [],
   "source": [],
   "transient": {
    "remove_source": true
   }
  },
  {
   "cell_type": "markdown",
   "id": "231f7b5e",
   "metadata": {},
   "source": [
    "### Exercise - debug dadouble\n",
    "\n",
    "Add a `level` parameter and some debugging indented print to the `dadouble` function."
   ]
  },
  {
   "cell_type": "raw",
   "id": "505d1053",
   "metadata": {
    "format": "text/html"
   },
   "source": [
    "<a  class=\"jupman-sol jupman-sol-toggler\" \n",
    " onclick=\"jupman.toggleSolution(this);\" \n",
    " data-jupman-show=\"Show solution\" data-jupman-hide=\"Hide\">Show solution</a><div class=\"jupman-sol jupman-sol-code\" style=\"display:none\">  "
   ]
  },
  {
   "cell_type": "code",
   "execution_count": 17,
   "id": "dbac0d92",
   "metadata": {},
   "outputs": [
    {
     "name": "stdout",
     "output_type": "stream",
     "text": [
      " i= 0 j= 5 acc= [None, None, None, None, None]\n",
      " left call\n",
      "   i= 0 j= 2 acc= [None, None, 4, None, None]\n",
      "   left call\n",
      "     i= 0 j= 1 acc= [None, 12, 4, None, None]\n",
      "     left call\n",
      "       i= 0 j= 0 acc= [8, 12, 4, None, None]\n",
      "     right call\n",
      "       i= 1 j= 1 acc= [8, 12, 4, None, None]\n",
      "   right call\n",
      "     i= 2 j= 2 acc= [8, 12, 4, None, None]\n",
      " right call\n",
      "   i= 3 j= 5 acc= [8, 12, 4, None, None]\n",
      "   left call\n",
      "     i= 3 j= 4 acc= [8, 12, 4, None, 6]\n",
      "     left call\n",
      "       i= 3 j= 3 acc= [8, 12, 4, 14, 6]\n",
      "     right call\n",
      "       i= 4 j= 4 acc= [8, 12, 4, 14, 6]\n",
      "   right call\n",
      "     i= 5 j= 5 acc= [8, 12, 4, 14, 6]\n",
      "Final result= [8, 12, 4, 14, 6]\n"
     ]
    }
   ],
   "source": [
    "\n",
    "def dadouble_helper(lst, i,j,acc, level):\n",
    "    print('  '*level, \"i=\", i, \"j=\",j, \"acc=\", acc)\n",
    "    if i >= j:   # note the >= in this case\n",
    "        return acc\n",
    "    else:\n",
    "        k = (i + j) // 2\n",
    "        acc[k] = lst[k] * 2\n",
    "        print('  '*level, \"left call\")\n",
    "        dadouble_helper(lst, i, k, acc, level + 1)\n",
    "        print('  '*level, \"right call\")\n",
    "        dadouble_helper(lst, k+1, j, acc, level + 1)\n",
    "        return acc\n",
    "    \n",
    "def dadouble(lst):\n",
    "    acc = [None]*len(lst)  # let's create space to be filled in later\n",
    "                           # (acc is special so let's allow us the freedom of using * operator)\n",
    "    dadouble_helper(lst, 0, len(lst), acc, 0)   \n",
    "    return acc\n",
    "\n",
    "\n",
    "result = dadouble([4,6,2,7,3])\n",
    "print(\"Final result=\", result)"
   ]
  },
  {
   "cell_type": "raw",
   "id": "cee700e9",
   "metadata": {
    "format": "text/html"
   },
   "source": [
    "</div>"
   ]
  },
  {
   "cell_type": "code",
   "execution_count": 17,
   "id": "dbac0d92-stripped",
   "metadata": {},
   "outputs": [
    {
     "name": "stdout",
     "output_type": "stream",
     "text": [
      " i= 0 j= 5 acc= [None, None, None, None, None]\n",
      " left call\n",
      "   i= 0 j= 2 acc= [None, None, 4, None, None]\n",
      "   left call\n",
      "     i= 0 j= 1 acc= [None, 12, 4, None, None]\n",
      "     left call\n",
      "       i= 0 j= 0 acc= [8, 12, 4, None, None]\n",
      "     right call\n",
      "       i= 1 j= 1 acc= [8, 12, 4, None, None]\n",
      "   right call\n",
      "     i= 2 j= 2 acc= [8, 12, 4, None, None]\n",
      " right call\n",
      "   i= 3 j= 5 acc= [8, 12, 4, None, None]\n",
      "   left call\n",
      "     i= 3 j= 4 acc= [8, 12, 4, None, 6]\n",
      "     left call\n",
      "       i= 3 j= 3 acc= [8, 12, 4, 14, 6]\n",
      "     right call\n",
      "       i= 4 j= 4 acc= [8, 12, 4, 14, 6]\n",
      "   right call\n",
      "     i= 5 j= 5 acc= [8, 12, 4, 14, 6]\n",
      "Final result= [8, 12, 4, 14, 6]\n"
     ]
    }
   ],
   "source": [
    "\n",
    "\n",
    "result = dadouble([4,6,2,7,3])\n",
    "print(\"Final result=\", result)"
   ]
  },
  {
   "cell_type": "code",
   "execution_count": 18,
   "id": "c647b828-stripped",
   "metadata": {
    "nbsphinx": "hidden"
   },
   "outputs": [],
   "source": [],
   "transient": {
    "remove_source": true
   }
  },
  {
   "cell_type": "markdown",
   "id": "c7dfba1d",
   "metadata": {},
   "source": [
    "### Exercise - dahist\n",
    "\n",
    "Given a `lst`, RETURN a NEW dictionary with the counts of elements of `lst`\n",
    "\n",
    "* **DO NOT** use search methods (`.index`, `.count`, `.remove`...)\n",
    "* NOTE in this case we can start with an empty dictionary "
   ]
  },
  {
   "cell_type": "raw",
   "id": "dbd07020",
   "metadata": {
    "format": "text/html"
   },
   "source": [
    "<a  class=\"jupman-sol jupman-sol-toggler\" \n",
    " onclick=\"jupman.toggleSolution(this);\" \n",
    " data-jupman-show=\"Show solution\" data-jupman-hide=\"Hide\">Show solution</a><div class=\"jupman-sol jupman-sol-code\" style=\"display:none\">  "
   ]
  },
  {
   "cell_type": "code",
   "execution_count": 19,
   "id": "db4e8588",
   "metadata": {},
   "outputs": [
    {
     "name": "stdout",
     "output_type": "stream",
     "text": [
      "{'b': 4, 'a': 3, 'c': 3, 'd': 1}\n"
     ]
    }
   ],
   "source": [
    "\n",
    "\n",
    "def dahist_helper(lst, i, j, acc):    \n",
    "    if i >= j:\n",
    "        return acc\n",
    "    else:\n",
    "        k = (i + j) // 2\n",
    "        if lst[k] in acc:\n",
    "            acc[lst[k]] += 1\n",
    "        else:\n",
    "            acc[lst[k]] = 1\n",
    "        res1 = dahist_helper(lst, i, k, acc)\n",
    "        res2 = dahist_helper(lst, k+1, j, acc)\n",
    "        return acc\n",
    "\n",
    "\n",
    "def dahist(lst):\n",
    "    \n",
    "    return dahist_helper(lst, 0, len(lst), {})\n",
    "    \n",
    "\n",
    "result = dahist(['a','b','a','c','b','b','c','a','b','c','d'])\n",
    "print(result)  # {'a':3,\n",
    "               #  'b':4,\n",
    "               #  'c':3,\n",
    "               #  'd':1}    \n",
    "\n",
    "assert dahist([]) == {}\n",
    "assert dahist(['a']) == {'a':1}\n",
    "assert dahist(['a','a']) == {'a':2}\n",
    "assert dahist(['a','b']) == {'a':1,\n",
    "                            'b':1}\n",
    "assert dahist(['b','c']) == {'c':1,\n",
    "                            'b':1}\n",
    "assert dahist(['a','c','a']) == {'a':2,\n",
    "                                'c':1}\n",
    "assert dahist(['c','c','a']) == {'a':1,\n",
    "                                'c':2}\n",
    "assert dahist(['a','b','a','c','b','b','c','a','b','c','d']) == {'a':3,\n",
    "                                                                 'b':4,\n",
    "                                                                 'c':3,\n",
    "                                                                 'd':1}"
   ]
  },
  {
   "cell_type": "raw",
   "id": "725b6679",
   "metadata": {
    "format": "text/html"
   },
   "source": [
    "</div>"
   ]
  },
  {
   "cell_type": "code",
   "execution_count": 19,
   "id": "db4e8588-stripped",
   "metadata": {},
   "outputs": [],
   "source": [
    "\n",
    "\n",
    "\n",
    "def dahist(lst):\n",
    "    raise Exception('TODO IMPLEMENT ME !')\n",
    "\n",
    "result = dahist(['a','b','a','c','b','b','c','a','b','c','d'])\n",
    "print(result)  # {'a':3,\n",
    "               #  'b':4,\n",
    "               #  'c':3,\n",
    "               #  'd':1}    \n",
    "\n",
    "assert dahist([]) == {}\n",
    "assert dahist(['a']) == {'a':1}\n",
    "assert dahist(['a','a']) == {'a':2}\n",
    "assert dahist(['a','b']) == {'a':1,\n",
    "                            'b':1}\n",
    "assert dahist(['b','c']) == {'c':1,\n",
    "                            'b':1}\n",
    "assert dahist(['a','c','a']) == {'a':2,\n",
    "                                'c':1}\n",
    "assert dahist(['c','c','a']) == {'a':1,\n",
    "                                'c':2}\n",
    "assert dahist(['a','b','a','c','b','b','c','a','b','c','d']) == {'a':3,\n",
    "                                                                 'b':4,\n",
    "                                                                 'c':3,\n",
    "                                                                 'd':1}"
   ]
  },
  {
   "cell_type": "markdown",
   "id": "a6b33953",
   "metadata": {},
   "source": [
    "### TODO will add more"
   ]
  },
  {
   "cell_type": "markdown",
   "id": "e7962d13",
   "metadata": {},
   "source": [
    "## More exercises\n",
    "\n",
    "[Computer Science Circles](https://cscircles.cemc.uwaterloo.ca/16-recursion/): nice chapter about recursion with some exercises\n",
    "\n",
    "[W3 Resources](https://www.w3resource.com/python-exercises/data-structures-and-algorithms/python-recursion.php): some recursion exercises\n",
    "\n",
    "[Edabit](https://edabit.com/challenges): Search by setting 'Recursion' as tag - notice many provided solutions are not actually in recursive format.\n",
    "\n",
    "Geeks for geeks:\n",
    "\n",
    "- [questions set 2](https://www.geeksforgeeks.org/practice-questions-for-recursion-set-2/?ref=rp)\n",
    "- [questions set 3](https://www.geeksforgeeks.org/practice-questions-for-recursion-set-3/?ref=lbp)\n",
    "- [questions set 4](https://www.geeksforgeeks.org/practice-questions-for-recursion-set-4/?ref=rp)\n",
    "- [questions set 5](https://www.geeksforgeeks.org/practice-questions-for-recursion-set-5/?ref=lbp)\n",
    "- [questions 6](https://www.geeksforgeeks.org/practice-questions-for-recursion-set-6/?ref=lbp)\n",
    "- [questions 7](https://www.geeksforgeeks.org/practice-questions-for-recursion-set-7/?ref=lbp)\n",
    "- [Length of a string](https://www.geeksforgeeks.org/program-for-length-of-a-string-using-recursion/)\n",
    "- [Recursive programs to find min and max](https://www.geeksforgeeks.org/recursive-programs-to-find-minimum-and-maximum-elements-of-array/?ref=rp)\n",
    "- [Print a pattern without using any loop](https://www.geeksforgeeks.org/print-a-pattern-without-using-any-loop/)\n",
    "- [Sum triangle from array](https://www.geeksforgeeks.org/sum-triangle-from-array/)\n",
    "- [Print all n-digit strictly increasing numbers](https://www.geeksforgeeks.org/print-all-n-digit-strictly-increasing-numbers/)\n",
    "- [Recursive insertion sort](https://www.geeksforgeeks.org/recursive-insertion-sort/?ref=rp)"
   ]
  },
  {
   "cell_type": "markdown",
   "id": "b3b3a115",
   "metadata": {},
   "source": [
    "## Continue\n",
    "\n",
    "Go on with the [challenges](https://sciprog.davidleoni.it/recursion/recursion4-chal.html)"
   ]
  }
 ],
 "metadata": {
  "kernelspec": {
   "display_name": "Python 3 (ipykernel)",
   "language": "python",
   "name": "python3"
  },
  "language_info": {
   "codemirror_mode": {
    "name": "ipython",
    "version": 3
   },
   "file_extension": ".py",
   "mimetype": "text/x-python",
   "name": "python",
   "nbconvert_exporter": "python",
   "pygments_lexer": "ipython3",
   "version": "3.7.10"
  },
  "toc": {
   "base_numbering": 1,
   "nav_menu": {},
   "number_sections": false,
   "sideBar": true,
   "skip_h1_title": false,
   "title_cell": "Table of Contents",
   "title_sidebar": "Contents",
   "toc_cell": false,
   "toc_position": {
    "height": "calc(100% - 180px)",
    "left": "10px",
    "top": "150px",
    "width": "288px"
   },
   "toc_section_display": true,
   "toc_window_display": true
  }
 },
 "nbformat": 4,
 "nbformat_minor": 5
}
