{
 "cells": [
  {
   "cell_type": "markdown",
   "metadata": {},
   "source": [
    "# Algorithm analysis\n",
    "\n",
    "## Introduction\n",
    "\n",
    "Life's too easy so let's complicate it, shall we?\n",
    "\n",
    "Are you ready to fight the invisible enemy of computational complexity? If not, please read the references first:\n",
    "\n",
    "- Erik Dassi's  algorithms slides 1 and 2\n",
    "- [Python DS Chapter 2.6: Algorithm analysis](https://runestone.academy/runestone/books/published/pythonds/AlgorithmAnalysis/toctree.html)\n"
   ]
  },
  {
   "cell_type": "markdown",
   "metadata": {},
   "source": [
    "\n",
    "## List performance\n",
    "\n",
    "Python lists are generic containers, they are useful in a variety of scenarios but sometimes their perfomance  can be disappointing, so it's best to know and avoid potentially expensive operations.\n",
    "Table from [the Python DS book Chapter 2.6: Lists](https://runestone.academy/runestone/books/published/pythonds/AlgorithmAnalysis/Lists.html):\n",
    "\n",
    "|Operation        |Big-O Efficiency|Operation        |Big-O Efficiency |\n",
    "|-----------------|----------------|-----------------|-----------------|\n",
    "|index []         | $O(1)$         |`in` (contains)  | $O(n)$          |\n",
    "|index assignment | $O(1)$         |get slice `[x:y]`| $O(k)$          |\n",
    "|append           | $O(1)$         |del slice        | $O(n)$          |\n",
    "|pop()            | $O(1)$         |set slice        | $O(n+k)$        |\n",
    "|pop(i)           | $O(n)$         |reverse          | $O(n)$          |\n",
    "|extend(lb)       | $O(m)$         |la `+` lb        | $O(n+m)$        | \n",
    "|insert(i,item)   | $O(n)$         |sort             | $O(n  \\log{n})$ |\n",
    "|del operator     | $O(n)$         |multiply         | $O(nk)$         |\n",
    "|remove           | $O(n)$         |min              | $O(n)$          |\n",
    "|iteration        | $O(n)$         |max              | $O(n)$          |\n",
    "|len(lst)         | $O(1)$         |sum              | $O(n)$          |\n",
    "|equality         | $O(n)$         |                 |                 |\n"
   ]
  },
  {
   "cell_type": "markdown",
   "metadata": {},
   "source": [
    "\n",
    "### Fast or not?\n",
    "\n",
    "Given a list `x` of $n$ characters, for each of the following expressions, try giving the complexity:\n",
    "\n",
    "1.  ```python\n",
    "    x[n // 2]\n",
    "    ```\n",
    "1.  ```python   \n",
    "    x[n // 2] = 'd'\n",
    "    ```\n",
    "1.  ```python   \n",
    "    x.append('c')\n",
    "    ```\n",
    "1.  ```python   \n",
    "    x.insert(0, 'd') \n",
    "    ```\n",
    "1.  ```python   \n",
    "    x + x\n",
    "    ```    \n",
    "1.  ```python   \n",
    "    x[3:5]\n",
    "    ```\n",
    "1.  ```python       \n",
    "    x.sort()\n",
    "    ```\n",
    "1.  ```python       \n",
    "    len(x)\n",
    "    ```\n",
    "1.  ```python   \n",
    "    x.pop(1)\n",
    "    ```\n",
    "1.  ```python       \n",
    "    x.pop(-1)\n",
    "    ```\n",
    "1.  ```python   \n",
    "    'z' in x\n",
    "    ```\n",
    "1.  ```python       \n",
    "    x.extend(1000)\n",
    "    ```        \n",
    "1.  ```python\n",
    "    y = [c for c in x]\n",
    "    ```    \n",
    "1.  ```python    \n",
    "    list(range(n)) == list(range(n))\n",
    "    ```"
   ]
  },
  {
   "cell_type": "markdown",
   "metadata": {},
   "source": [
    "### Sublist iteration performance\n",
    "\n",
    "`get slice` time complexity is $O(k)$, but what about memory? It's the same!\n",
    "\n",
    "So if you want to iterate a part of a list, beware of slicing! For example, depending pn Python version you have, slicing a list like this can occupy much more memory than necessary:"
   ]
  },
  {
   "cell_type": "code",
   "execution_count": 1,
   "metadata": {},
   "outputs": [
    {
     "name": "stdout",
     "output_type": "stream",
     "text": [
      "[200, 202, 204, 206, 208, 210, 212, 214, 216, 218, 220, 222, 224, 226, 228, 230, 232, 234, 236, 238, 240, 242, 244, 246, 248, 250, 252, 254, 256, 258, 260, 262, 264, 266, 268, 270, 272, 274, 276, 278, 280, 282, 284, 286, 288, 290, 292, 294, 296, 298, 300, 302, 304, 306, 308, 310, 312, 314, 316, 318, 320, 322, 324, 326, 328, 330, 332, 334, 336, 338, 340, 342, 344, 346, 348, 350, 352, 354, 356, 358, 360, 362, 364, 366, 368, 370, 372, 374, 376, 378, 380, 382, 384, 386, 388, 390, 392, 394, 396, 398]\n"
     ]
    }
   ],
   "source": [
    "                 #                               memory occupied\n",
    "r = range(1000)  # Python 2 creates a list:           O(n)\n",
    "                 # Python 3 creates a 'range' object: O(1)\n",
    "    \n",
    "#                                   same for range slices: memory occupied\n",
    "print([2*y for y in r[100:200]])  #  r[100:200] Python 2        O(k)\n",
    "                                  #             Python 3        O(1)"
   ]
  },
  {
   "cell_type": "markdown",
   "metadata": {},
   "source": [
    "The reason is that, according to your Python interpreter, slicing like `r[100:200]`at loop start can create a _new_ list. If we want to explicitly tell Python we just want to iterate through a sequence, we can use the so-called <a href=\"https://docs.python.org/2/library/itertools.html\" target=\"_blank\">itertools</a>. In particular, the <a href=\"https://docs.python.org/2/library/itertools.html#itertools.islice\" target=\"_blank\"> islice </a> method is handy, we can rewrite the list comprehension above with it like this:"
   ]
  },
  {
   "cell_type": "code",
   "execution_count": 2,
   "metadata": {
    "scrolled": true
   },
   "outputs": [
    {
     "name": "stdout",
     "output_type": "stream",
     "text": [
      "[200, 202, 204, 206, 208, 210, 212, 214, 216, 218, 220, 222, 224, 226, 228, 230, 232, 234, 236, 238, 240, 242, 244, 246, 248, 250, 252, 254, 256, 258, 260, 262, 264, 266, 268, 270, 272, 274, 276, 278, 280, 282, 284, 286, 288, 290, 292, 294, 296, 298, 300, 302, 304, 306, 308, 310, 312, 314, 316, 318, 320, 322, 324, 326, 328, 330, 332, 334, 336, 338, 340, 342, 344, 346, 348, 350, 352, 354, 356, 358, 360, 362, 364, 366, 368, 370, 372, 374, 376, 378, 380, 382, 384, 386, 388, 390, 392, 394, 396, 398]\n"
     ]
    }
   ],
   "source": [
    "import itertools\n",
    "\n",
    "r = range(1000)\n",
    "\n",
    "print([2*y for y in itertools.islice(r, 100, 200)])"
   ]
  },
  {
   "cell_type": "markdown",
   "metadata": {},
   "source": [
    "## Some formulas\n",
    "\n",
    "$$\n",
    "\\begin{gather*}\n",
    "& & & & && \\text{Complexity}\\\\\n",
    "1 + 2 + 3 + \\dots + n & = & \\sum_{i=1}^n{i} & = & \\frac{n^2+n}{2} && O(n^2) \\\\\n",
    "1^2 + 2^2 + 3^2 + \\dots + n^2 & = & \\sum_{i=1}^n{i^2} & = & \\frac{n(n+1)(2n+1)}{6}  && O(n^3) \\\\\n",
    "\\end{gather*}\n",
    "$$"
   ]
  },
  {
   "cell_type": "markdown",
   "metadata": {},
   "source": [
    "## Lists - exercises\n",
    "\n",
    "Who's the fastest? Let's start the racing game!\n",
    "\n",
    "For each of the following code samples, try giving the worst-case running time in Big O notation."
   ]
  },
  {
   "cell_type": "markdown",
   "metadata": {},
   "source": [
    "### Exercise - rollsroyce\n",
    "\n",
    "* `x` : int\n",
    "* `lst` : list of $n$ integers"
   ]
  },
  {
   "cell_type": "code",
   "execution_count": 3,
   "metadata": {},
   "outputs": [],
   "source": [
    "def rollsroyce(x, lst):\n",
    "    return x in lst"
   ]
  },
  {
   "cell_type": "raw",
   "id": "9155de95",
   "metadata": {
    "format": "text/html"
   },
   "source": [
    "<a  class=\"jupman-sol jupman-sol-toggler\" \n",
    " onclick=\"jupman.toggleSolution(this);\" \n",
    " data-jupman-show=\"Show answer\" data-jupman-hide=\"Hide\">Show answer</a><div class=\"jupman-sol jupman-sol-question\" style=\"display:none\">  "
   ]
  },
  {
   "cell_type": "markdown",
   "metadata": {},
   "source": [
    "**ANSWER**:  $O(n)$ if we assume integer comparison is $O(1)$, which typically is the case in most programs we write. Note that differently from most programming languages, Python actually allows _unbounded_ integers, but for the purposes of this course you can safely consider occupied memory for integers as constant."
   ]
  },
  {
   "cell_type": "raw",
   "id": "6f95ea48",
   "metadata": {
    "format": "text/html"
   },
   "source": [
    "</div>"
   ]
  },
  {
   "cell_type": "markdown",
   "metadata": {},
   "source": [
    "### Exercise - honda\n",
    "\n",
    "* `x`  : list of $m$ elements\n",
    "* `lst`: list of lists with $n$ rows and $m$ columns"
   ]
  },
  {
   "cell_type": "code",
   "execution_count": 4,
   "metadata": {},
   "outputs": [],
   "source": [
    "def honda(x, lst):\n",
    "    return x in lst"
   ]
  },
  {
   "cell_type": "raw",
   "id": "154963bd",
   "metadata": {
    "format": "text/html"
   },
   "source": [
    "<a  class=\"jupman-sol jupman-sol-toggler\" \n",
    " onclick=\"jupman.toggleSolution(this);\" \n",
    " data-jupman-show=\"Show answer\" data-jupman-hide=\"Hide\">Show answer</a><div class=\"jupman-sol jupman-sol-question\" style=\"display:none\">  "
   ]
  },
  {
   "cell_type": "markdown",
   "metadata": {},
   "source": [
    "**ANSWER**: $O(n m)$ \n",
    "\n",
    "In this case Python has to do a lot of work in performing comparisons:\n",
    "\n",
    "```\n",
    "          0,1,2,3,4 ... m\n",
    "       x=[3,4,2,6,7,2,6,8]\n",
    "       \n",
    "    lst=[[0,0,0,0,0,0,0,0],  # 0 \n",
    "         [1,1,1,1,1,1,1,1],  # 1\n",
    "         [2,2,2,2,2,2,2,2],  # 2\n",
    "         [3,3,3,3,3,3,3,3],  # 3\n",
    "         [4,4,4,4,4,4,4,4],  # 4\n",
    "         [5,5,5,5,5,5,5,5],  # 5\n",
    "         [6,6,6,6,6,6,6,6],  # 6\n",
    "         [3,4,2,6,7,2,6,8],  # n  <--- worst case scenario: matching list at the end           \n",
    "        ]                              (or not present at all), \n",
    "                                       need to compare all elements in all rows             \n",
    "```"
   ]
  },
  {
   "cell_type": "raw",
   "id": "f2eb4f69",
   "metadata": {
    "format": "text/html"
   },
   "source": [
    "</div>"
   ]
  },
  {
   "cell_type": "markdown",
   "metadata": {},
   "source": [
    "### Exercise - lamborghini\n",
    "\n",
    "* `lst` : list of $n$ elements\n",
    "* `m`   : int"
   ]
  },
  {
   "cell_type": "code",
   "execution_count": 5,
   "metadata": {},
   "outputs": [],
   "source": [
    "def lamborghini(lst, m):\n",
    "    return lst * m"
   ]
  },
  {
   "cell_type": "raw",
   "id": "cd3546ec",
   "metadata": {
    "format": "text/html"
   },
   "source": [
    "<a  class=\"jupman-sol jupman-sol-toggler\" \n",
    " onclick=\"jupman.toggleSolution(this);\" \n",
    " data-jupman-show=\"Show answer\" data-jupman-hide=\"Hide\">Show answer</a><div class=\"jupman-sol jupman-sol-question\" style=\"display:none\">  "
   ]
  },
  {
   "cell_type": "markdown",
   "metadata": {},
   "source": [
    "**ANSWER**: $O(n*m)$\n",
    "\n",
    "```python             \n",
    ">>> lamborghini(['a','b','c'], 5)\n",
    "\n",
    "#|-----n------|-------n------|-------n------|-------n------|-------n------|\n",
    "['a', 'b', 'c', 'a', 'b', 'c', 'a', 'b', 'c', 'a', 'b', 'c', 'a', 'b', 'c']\n",
    "```"
   ]
  },
  {
   "cell_type": "raw",
   "id": "99e66581",
   "metadata": {
    "format": "text/html"
   },
   "source": [
    "</div>"
   ]
  },
  {
   "cell_type": "markdown",
   "metadata": {},
   "source": [
    "### Exercise - maserati\n",
    "\n",
    "* `lst` : list of $n$ elements\n",
    "* `m`   : int"
   ]
  },
  {
   "cell_type": "code",
   "execution_count": 6,
   "metadata": {},
   "outputs": [],
   "source": [
    "def maserati(lst, m):\n",
    "    return [m for el in lst]"
   ]
  },
  {
   "cell_type": "raw",
   "id": "e7d03471",
   "metadata": {
    "format": "text/html"
   },
   "source": [
    "<a  class=\"jupman-sol jupman-sol-toggler\" \n",
    " onclick=\"jupman.toggleSolution(this);\" \n",
    " data-jupman-show=\"Show answer\" data-jupman-hide=\"Hide\">Show answer</a><div class=\"jupman-sol jupman-sol-question\" style=\"display:none\">  "
   ]
  },
  {
   "cell_type": "markdown",
   "metadata": {},
   "source": [
    "**ANSWER**: $O(n)$\n",
    "\n",
    "List comprehension:\n",
    "\n",
    "- visit `lst`: cost is $O(n)$        \n",
    "- generate a new list: in this case places constants in each cell, so cost is $O(n)$\n",
    "\n",
    "$O(n + n)=O(2n)=O(n)$ "
   ]
  },
  {
   "cell_type": "raw",
   "id": "acb96bab",
   "metadata": {
    "format": "text/html"
   },
   "source": [
    "</div>"
   ]
  },
  {
   "cell_type": "markdown",
   "metadata": {},
   "source": [
    "### Exercise - toyota\n",
    "\n",
    "* `lst` : list of $n$ elements\n",
    "* `m` : int\n",
    "\n",
    "**HINT**: try rewriting code as a `for`, then add costs"
   ]
  },
  {
   "cell_type": "code",
   "execution_count": 7,
   "metadata": {},
   "outputs": [],
   "source": [
    "def toyota(lst, m):\n",
    "    return [lst[:m] for el in lst]"
   ]
  },
  {
   "cell_type": "raw",
   "id": "3c3adb5f",
   "metadata": {
    "format": "text/html"
   },
   "source": [
    "<a  class=\"jupman-sol jupman-sol-toggler\" \n",
    " onclick=\"jupman.toggleSolution(this);\" \n",
    " data-jupman-show=\"Show answer\" data-jupman-hide=\"Hide\">Show answer</a><div class=\"jupman-sol jupman-sol-question\" style=\"display:none\">  "
   ]
  },
  {
   "cell_type": "markdown",
   "metadata": {},
   "source": [
    "**ANSWER**: $O(n  m)$\n",
    "\n",
    "We can rewrite the code like this:\n",
    "\n",
    "```python\n",
    "def toyota2(lst, m):\n",
    "    ret = []                 #  1\n",
    "    for el in lst:           #  n iterations\n",
    "        sub = lst[:m]        #      building m cells\n",
    "        ret.append(sub)      #      1\n",
    "    return ret               #  1\n",
    "\n",
    "```\n",
    "\n",
    "$$\n",
    "\\begin{align}\n",
    "O(1 + n(m + 1) + 1) &= O(1 + nm + n + 1)\\\\\n",
    "&=  O(nm + n )\\\\\n",
    "&= O(nm)\\\\\n",
    "\\end{align}\n",
    "$$"
   ]
  },
  {
   "cell_type": "raw",
   "id": "256542f1",
   "metadata": {
    "format": "text/html"
   },
   "source": [
    "</div>"
   ]
  },
  {
   "cell_type": "markdown",
   "metadata": {},
   "source": [
    "### Exercise - mercedes\n",
    "\n",
    "* `lst` : list of $n$ elements "
   ]
  },
  {
   "cell_type": "code",
   "execution_count": 8,
   "metadata": {},
   "outputs": [],
   "source": [
    "def mercedes(lst):\n",
    "    for i in range(len(lst)):\n",
    "        lst.append('z')\n",
    "    return lst"
   ]
  },
  {
   "cell_type": "raw",
   "id": "b6a30b5b",
   "metadata": {
    "format": "text/html"
   },
   "source": [
    "<a  class=\"jupman-sol jupman-sol-toggler\" \n",
    " onclick=\"jupman.toggleSolution(this);\" \n",
    " data-jupman-show=\"Show answer\" data-jupman-hide=\"Hide\">Show answer</a><div class=\"jupman-sol jupman-sol-question\" style=\"display:none\">  "
   ]
  },
  {
   "cell_type": "markdown",
   "metadata": {},
   "source": [
    "**ANSWER**: $O(n)$\n",
    "\n",
    "```python\n",
    "def mercedes(lst):\n",
    "    for i in range(len(lst)):      # n iterations\n",
    "        lst.append('z')            #     1 \n",
    "    return lst                     # 1\n",
    "```\n",
    "\n",
    "$O(n*1 + 1) = O(n)$\n",
    "\n",
    "Note `append` has an amortized cost of  $O(1)$,  so $n$ calls to `append` give $O(n)$"
   ]
  },
  {
   "cell_type": "raw",
   "id": "dfef02ff",
   "metadata": {
    "format": "text/html"
   },
   "source": [
    "</div>"
   ]
  },
  {
   "cell_type": "markdown",
   "metadata": {},
   "source": [
    "### Exercise - acura\n",
    "\n",
    "* `lst` : list of $n$ elements\n",
    "* `m` : int"
   ]
  },
  {
   "cell_type": "code",
   "execution_count": 9,
   "metadata": {},
   "outputs": [],
   "source": [
    "def acura(lst, m):\n",
    "    return lst[:m] + lst"
   ]
  },
  {
   "cell_type": "raw",
   "id": "26eaa61c",
   "metadata": {
    "format": "text/html"
   },
   "source": [
    "<a  class=\"jupman-sol jupman-sol-toggler\" \n",
    " onclick=\"jupman.toggleSolution(this);\" \n",
    " data-jupman-show=\"Show answer\" data-jupman-hide=\"Hide\">Show answer</a><div class=\"jupman-sol jupman-sol-question\" style=\"display:none\">  "
   ]
  },
  {
   "cell_type": "markdown",
   "metadata": {},
   "source": [
    "**ANSWER**: $O(n)$\n",
    "\n",
    "We can rewrite like this:\n",
    "\n",
    "```python\n",
    "def acura2(lst, m):\n",
    "    sub = lst[:m]     # m\n",
    "    ret = sub + lst   # m + n  \n",
    "    return ret        # 1\n",
    "```\n",
    "\n",
    "$O(m + m + n + 1) = O(n)$ in this case because the sublist is at most `n` long."
   ]
  },
  {
   "cell_type": "raw",
   "id": "1cf5d2ab",
   "metadata": {
    "format": "text/html"
   },
   "source": [
    "</div>"
   ]
  },
  {
   "cell_type": "markdown",
   "metadata": {},
   "source": [
    "### Exercise - alfaromeo\n",
    "\n",
    "* `lst` : list of $n$ elements"
   ]
  },
  {
   "cell_type": "code",
   "execution_count": 10,
   "metadata": {},
   "outputs": [],
   "source": [
    "def alfaromeo(lst):\n",
    "    return [(lst[0] + lst[-1]) for i in range(len(lst))]"
   ]
  },
  {
   "cell_type": "raw",
   "id": "451fc617",
   "metadata": {
    "format": "text/html"
   },
   "source": [
    "<a  class=\"jupman-sol jupman-sol-toggler\" \n",
    " onclick=\"jupman.toggleSolution(this);\" \n",
    " data-jupman-show=\"Show answer\" data-jupman-hide=\"Hide\">Show answer</a><div class=\"jupman-sol jupman-sol-question\" style=\"display:none\">  "
   ]
  },
  {
   "cell_type": "markdown",
   "metadata": {},
   "source": [
    "**ANSWER**: $O(n)$\n",
    "\n",
    "We can rewrite it like this:\n",
    "\n",
    "```python\n",
    "def alfaromeo2(lst):\n",
    "    ret = []                     # 1\n",
    "    for i in range(len(list)):   # n iterations\n",
    "        sub = lst[0] + lst[1]    #     access lst[0] : 1\n",
    "                                 #     access lst[1] : 1\n",
    "                                 #     build sub : 2\n",
    "        ret.append(sub)          #     1\n",
    "    return ret                   # 1\n",
    "```\n",
    "\n",
    "$O(1 + n(1 + 1 + 2) + 1) = O(4n + 2) = O(n)$"
   ]
  },
  {
   "cell_type": "raw",
   "id": "00d36d35",
   "metadata": {
    "format": "text/html"
   },
   "source": [
    "</div>"
   ]
  },
  {
   "cell_type": "markdown",
   "metadata": {},
   "source": [
    "### Exercise - jeep\n",
    "\n",
    "`lst` : list of $n$ elements"
   ]
  },
  {
   "cell_type": "code",
   "execution_count": 11,
   "metadata": {},
   "outputs": [],
   "source": [
    "\n",
    "def jeep(lst):\n",
    "    return [lst[:i] for i in range(1, len(lst))]\n"
   ]
  },
  {
   "cell_type": "raw",
   "id": "bfa5f27b",
   "metadata": {
    "format": "text/html"
   },
   "source": [
    "<a  class=\"jupman-sol jupman-sol-toggler\" \n",
    " onclick=\"jupman.toggleSolution(this);\" \n",
    " data-jupman-show=\"Show answer\" data-jupman-hide=\"Hide\">Show answer</a><div class=\"jupman-sol jupman-sol-question\" style=\"display:none\">  "
   ]
  },
  {
   "cell_type": "markdown",
   "metadata": {},
   "source": [
    "**ANSWER**: $O(n^2)$\n",
    "\n",
    "```python\n",
    "jeep(['a','b','c','d','e','f','g'])\n",
    "```\n",
    "\n",
    "Building lists: \n",
    "``` \n",
    " a            1\n",
    " ab           2 \n",
    " abc          3\n",
    " abcd         4 \n",
    " abcde        .\n",
    " abcdef       .\n",
    " abcdefg      n\n",
    " 1234..n\n",
    "```\n",
    "\n",
    "It looks like a square triangle with side `n`, so it takes $\\displaystyle\\sum_{i=1}^n{i}=\\frac{n^2+n}{2}$ operations\n",
    "\n",
    "Then it collects the $n$ sublists into one big list, costing $n$, so $\\displaystyle O\\left(\\frac{n^2+n}{2} + n\\right) = O(n^2/2) = O(n^2)$\n"
   ]
  },
  {
   "cell_type": "raw",
   "id": "bdcda204",
   "metadata": {
    "format": "text/html"
   },
   "source": [
    "</div>"
   ]
  },
  {
   "cell_type": "markdown",
   "metadata": {},
   "source": [
    "### Exercise - chevrolet\n",
    "\n",
    "`lst` : list of $n$ elements"
   ]
  },
  {
   "cell_type": "code",
   "execution_count": 12,
   "metadata": {},
   "outputs": [],
   "source": [
    "def chevrolet(lst):\n",
    "    for i in range(len(lst)):\n",
    "        lst.insert(0,'z')\n",
    "    return lst"
   ]
  },
  {
   "cell_type": "raw",
   "id": "403be41a",
   "metadata": {
    "format": "text/html"
   },
   "source": [
    "<a  class=\"jupman-sol jupman-sol-toggler\" \n",
    " onclick=\"jupman.toggleSolution(this);\" \n",
    " data-jupman-show=\"Show answer\" data-jupman-hide=\"Hide\">Show answer</a><div class=\"jupman-sol jupman-sol-question\" style=\"display:none\">  "
   ]
  },
  {
   "cell_type": "markdown",
   "metadata": {},
   "source": [
    "**ANSWER**: $O(n^2)$\n",
    "\n",
    "Calling `insert` inside the list at the beginning takes $O(n)$ since Python has to shift all the following elements of one position. In this case at each call the list grows, so we have a situation like this:\n",
    "\n",
    "```\n",
    ">>> chevrolet(['a','b','c','d','e'])\n",
    "\n",
    "# abcde\n",
    "# zabcde      n    1\n",
    "# zzabcde     n+1  2\n",
    "# zzzabcde    n+2  3\n",
    "# zzzzabcde   n+3  4\n",
    "# zzzzzabcde  n+4  n\n",
    "# |-n-||-n-|\n",
    "```\n",
    "\n",
    "It looks like a kind of $n*n$ block with a triangle attached to it, thus:\n",
    "\n",
    "$$\n",
    "\\begin{align}\n",
    "O(n^2 + \\frac{n^2 + n}{2}) = O(n^2)\n",
    "\\end{align}\n",
    "$$"
   ]
  },
  {
   "cell_type": "raw",
   "id": "92866a58",
   "metadata": {
    "format": "text/html"
   },
   "source": [
    "</div>"
   ]
  },
  {
   "cell_type": "markdown",
   "metadata": {},
   "source": [
    "### Exercise - kia\n",
    "\n",
    "`lst` : list of $n$ characters\n",
    "\n",
    "1. What is the _worst_ case complexity?\n",
    "1. What is the _best_ case complexity?"
   ]
  },
  {
   "cell_type": "code",
   "execution_count": 13,
   "metadata": {},
   "outputs": [],
   "source": [
    "def kia(lst):\n",
    "    for i in range(len(lst) // 2):\n",
    "        lst.remove('c')        "
   ]
  },
  {
   "cell_type": "raw",
   "id": "89b131c9",
   "metadata": {
    "format": "text/html"
   },
   "source": [
    "<a  class=\"jupman-sol jupman-sol-toggler\" \n",
    " onclick=\"jupman.toggleSolution(this);\" \n",
    " data-jupman-show=\"Show answer\" data-jupman-hide=\"Hide\">Show answer</a><div class=\"jupman-sol jupman-sol-question\" style=\"display:none\">  "
   ]
  },
  {
   "cell_type": "markdown",
   "metadata": {},
   "source": [
    "**ANSWER**: \n",
    "\n",
    "```python\n",
    "def kia(lst):\n",
    "                                       #  len(lst)//2 calculation :  1   \n",
    "    for i in range(len(lst) // 2):     #  n / 2  iterations\n",
    "        lst.remove('c')                #       n\n",
    "```\n",
    "\n",
    "1) worst case: if list has at least $n/2$ `'c'`, we have $O(1 + n/2 * n) = O(n^2/2) = O(n^2)$\n",
    "\n",
    "Note `remove` only removes the first element found, and raises an exception if not found. So to actually have `O(n^2)` complexity without the function terminating early, we would need to be in worst case scenario where we have `n//2` characters `'c'`  in our list \n",
    "\n",
    "2) best case: no `'c'` charactersare present, so `remove` searches all list in $O(n)$ and terminates immediately by raising an exception"
   ]
  },
  {
   "cell_type": "raw",
   "id": "c1861bf9",
   "metadata": {
    "format": "text/html"
   },
   "source": [
    "</div>"
   ]
  },
  {
   "cell_type": "markdown",
   "metadata": {},
   "source": [
    "### Exercise - aston_martin\n"
   ]
  },
  {
   "cell_type": "markdown",
   "metadata": {},
   "source": [
    "`lst`: list of $n$ elements"
   ]
  },
  {
   "cell_type": "code",
   "execution_count": 14,
   "metadata": {},
   "outputs": [],
   "source": [
    "def aston_martin(lst):    \n",
    "    ret = []                             \n",
    "    if lst[0] > 5:                       \n",
    "                                         \n",
    "        for i in range(len(lst)):        \n",
    "            for j in range(len(lst)):    \n",
    "                ret.append(lst[i])       \n",
    "    else:                                \n",
    "        for i in range(len(lst)):        \n",
    "            ret.append(lst[i] * 2)       \n",
    "    return ret                           "
   ]
  },
  {
   "cell_type": "raw",
   "id": "6ef7a7a8",
   "metadata": {
    "format": "text/html"
   },
   "source": [
    "<a  class=\"jupman-sol jupman-sol-toggler\" \n",
    " onclick=\"jupman.toggleSolution(this);\" \n",
    " data-jupman-show=\"Show answer\" data-jupman-hide=\"Hide\">Show answer</a><div class=\"jupman-sol jupman-sol-question\" style=\"display:none\">  "
   ]
  },
  {
   "cell_type": "markdown",
   "metadata": {},
   "source": [
    "**ANSWER**: $O(n^2)$\n",
    "\n",
    "```python\n",
    "def aston_martin(lst):\n",
    "    ret = []                             #   1\n",
    "    if lst[0] > 5:                       #   1        \n",
    "                                         #   THEN branch: \n",
    "        for i in range(len(lst)):        #       n iterations\n",
    "            for j in range(len(lst)):    #           n iterations\n",
    "                ret.append(lst[i])       #               append: 1, element access: 1\n",
    "    else:                                #   ELSE branch:\n",
    "        for i in range(len(lst)):        #       n iterations   \n",
    "            ret.append(lst[i] * 2)       #            access:1 , mul: 1, append: 1\n",
    "    return ret                           #   1\n",
    "```    \n",
    "$O(2 + \\max{(n*n*2, n*3)} + 1) = O(n^2)$"
   ]
  },
  {
   "cell_type": "raw",
   "id": "e5035050",
   "metadata": {
    "format": "text/html"
   },
   "source": [
    "</div>"
   ]
  },
  {
   "cell_type": "markdown",
   "metadata": {},
   "source": [
    "### Exercise - subaru\n",
    "\n",
    "* `mat` : list of $n$ lists of $n$ elements each\n",
    "\n",
    "\n",
    "1. What's the complexity?\n",
    "2. Follow up: Can you write a more perfomant version?"
   ]
  },
  {
   "cell_type": "code",
   "execution_count": 15,
   "metadata": {},
   "outputs": [],
   "source": [
    "def subaru(mat):\n",
    "    n = len(mat)\n",
    "    ret = []\n",
    "    for i in range(n):\n",
    "        for j in range(n):\n",
    "            if i == n - j - 1:\n",
    "                ret.append(mat[i][j])\n",
    "    return ret"
   ]
  },
  {
   "cell_type": "raw",
   "id": "cfac7646",
   "metadata": {
    "format": "text/html"
   },
   "source": [
    "<a  class=\"jupman-sol jupman-sol-toggler\" \n",
    " onclick=\"jupman.toggleSolution(this);\" \n",
    " data-jupman-show=\"Show answer\" data-jupman-hide=\"Hide\">Show answer</a><div class=\"jupman-sol jupman-sol-question\" style=\"display:none\">  "
   ]
  },
  {
   "cell_type": "markdown",
   "metadata": {},
   "source": [
    "**ANSWER**:\n",
    "\n",
    "1) it calculates the anti-diagonal in $O(n^2)$\n",
    "\n",
    "```python\n",
    "def subaru(mat):\n",
    "    n = len(mat)                        # 1\n",
    "    ret = []                            # 1\n",
    "    for i in range(n):                  # n iterations\n",
    "        for j in range(n):              #   n iterations\n",
    "            if i == n - j - 1:          #     minuses: 1 + 1, comparison: 1\n",
    "                ret.append(mat[i][j])   #     1 \n",
    "    return ret                          # 1 \n",
    "```\n",
    "\n",
    "$2 + O(n * n * 4) + 1 = O(n^2)$\n",
    "\n",
    "```python\n",
    "subaru([[1,4,5,7],\n",
    "        [1,4,9,5],\n",
    "        [3,4,8,2],\n",
    "        [2,6,1,5]])       \n",
    "[7, 9, 4, 2]\n",
    "```\n",
    "\n",
    "2) Since it's the anti-diagonal, we are basically extracting a line out of the matrix so we should try devising a linear time $O(n)$ algorithm, like this one:\n",
    "\n",
    "```python\n",
    "def subaru2(mat):\n",
    "    n = len(mat)                          # 1\n",
    "    ret = []                              # 1\n",
    "    for i in range(n):                    # n iterations        \n",
    "        ret.append(mat[i][n - i - 1])     #     append: 1 ,  minuses: 2, append: 1\n",
    "    return ret                            # 1 \n",
    "\n",
    "subaru2([[1,4,5,7],\n",
    "             [1,4,9,5],\n",
    "             [3,4,8,2],\n",
    "             [2,6,1,5]])\n",
    "\n",
    "[7, 9, 4, 2]\n",
    "```"
   ]
  },
  {
   "cell_type": "raw",
   "id": "66b372a7",
   "metadata": {
    "format": "text/html"
   },
   "source": [
    "</div>"
   ]
  },
  {
   "cell_type": "markdown",
   "metadata": {},
   "source": [
    "### Exercise - dodge\n",
    "\n",
    "* `mat` : list of $n$ lists of $m$ columns"
   ]
  },
  {
   "cell_type": "code",
   "execution_count": 16,
   "metadata": {},
   "outputs": [],
   "source": [
    "def dodge(mat):\n",
    "    n = len(mat)                        \n",
    "    m = len(mat[0])                     \n",
    "    ret = []                            \n",
    "    for i in range(n):                  \n",
    "        for j in range(1,m):\n",
    "            if max(mat[i][:j]) == 3:\n",
    "                ret.append(mat[i][j])   \n",
    "    return ret"
   ]
  },
  {
   "cell_type": "raw",
   "id": "38d9bbef",
   "metadata": {
    "format": "text/html"
   },
   "source": [
    "<a  class=\"jupman-sol jupman-sol-toggler\" \n",
    " onclick=\"jupman.toggleSolution(this);\" \n",
    " data-jupman-show=\"Show answer\" data-jupman-hide=\"Hide\">Show answer</a><div class=\"jupman-sol jupman-sol-question\" style=\"display:none\">  "
   ]
  },
  {
   "cell_type": "markdown",
   "metadata": {},
   "source": [
    "**ANSWER**: $O(nm^2)$\n",
    "\n",
    "We can rewrite the function like this:\n",
    "\n",
    "```python\n",
    "def dodge(mat):\n",
    "    n = len(mat)                        # 1\n",
    "    m = len(mat[0])                     # access: 1, len: 1 \n",
    "    ret = []                            # 1\n",
    "    for i in range(n):                  # n iterations\n",
    "        for j in range(1,m):            #    m iterations\n",
    "            sliced = mat[i][:j]         #       from 1 to m-1  ~ m       \n",
    "            mx = max(sliced)            #       from 1 to m-1  ~ m\n",
    "            if mx == 3:                 #       1\n",
    "                ret.append(mat[i][j])   #       append: 1 , access 1\n",
    "    return ret                          # 1\n",
    "```\n",
    "\n",
    "$O(4 + n*m*(m + m + 3) + 1) = O(nm^2 + 3nm) = O(nm^2)$"
   ]
  },
  {
   "cell_type": "raw",
   "id": "0f34175e",
   "metadata": {
    "format": "text/html"
   },
   "source": [
    "</div>"
   ]
  },
  {
   "cell_type": "markdown",
   "metadata": {},
   "source": [
    "### Exercise - lotus\n",
    "\n",
    "`lst` : list of $n$ elements"
   ]
  },
  {
   "cell_type": "code",
   "execution_count": 17,
   "metadata": {},
   "outputs": [],
   "source": [
    "def lotus(lst):\n",
    "    while len(lst) > 0:\n",
    "        el = lst.pop(len(lst) // 2)\n",
    "        ret.append(el)\n",
    "    return ret"
   ]
  },
  {
   "cell_type": "raw",
   "id": "f75fce5d",
   "metadata": {
    "format": "text/html"
   },
   "source": [
    "<a  class=\"jupman-sol jupman-sol-toggler\" \n",
    " onclick=\"jupman.toggleSolution(this);\" \n",
    " data-jupman-show=\"Show answer\" data-jupman-hide=\"Hide\">Show answer</a><div class=\"jupman-sol jupman-sol-question\" style=\"display:none\">  "
   ]
  },
  {
   "cell_type": "markdown",
   "metadata": {},
   "source": [
    "**ANSWER**: $O(n^2)$ \n",
    "\n",
    "```python\n",
    "def lotus(lst):\n",
    "    while len(lst) > 0:               # n iterations\n",
    "        el = lst.pop(len(lst) // 2)   #     middle pop: costs n, n-1, n-2, ..... 1   ~ n \n",
    "        ret.append(el)                #     1\n",
    "    return ret                        # 1\n",
    "```   \n",
    "\n",
    "$O(n * (n + 1) + 1) = O(n^2 + n) = O(n^2)$"
   ]
  },
  {
   "cell_type": "raw",
   "id": "24153ccc",
   "metadata": {
    "format": "text/html"
   },
   "source": [
    "</div>"
   ]
  },
  {
   "cell_type": "markdown",
   "metadata": {},
   "source": [
    "### Exercise - jaguar\n",
    "\n",
    "* `mat` : list of $n$ lists of $m$ columns"
   ]
  },
  {
   "cell_type": "code",
   "execution_count": 18,
   "metadata": {},
   "outputs": [],
   "source": [
    "def jaguar(mat):                                   \n",
    "    n = len(mat)                                \n",
    "    m = len(mat[0])                             \n",
    "    for i in range(1, n):                       \n",
    "        if mat[i-1][0] in mat[i]:               \n",
    "            for j in range(n-1,0,-1):           \n",
    "                mat[j] = [2*x for x in mat[j]]  \n",
    "                                                                                                \n",
    "    return mat                                  "
   ]
  },
  {
   "cell_type": "raw",
   "id": "eb02f640",
   "metadata": {
    "format": "text/html"
   },
   "source": [
    "<a  class=\"jupman-sol jupman-sol-toggler\" \n",
    " onclick=\"jupman.toggleSolution(this);\" \n",
    " data-jupman-show=\"Show answer\" data-jupman-hide=\"Hide\">Show answer</a><div class=\"jupman-sol jupman-sol-question\" style=\"display:none\">  "
   ]
  },
  {
   "cell_type": "markdown",
   "metadata": {},
   "source": [
    "**ANSWER**: $O(n^2m)$\n",
    "\n",
    "```python                                         \n",
    "def jaguar(mat):                                   \n",
    "    n = len(mat)                                # 1\n",
    "    m = len(mat[0])                             # access: 1 , len: 2\n",
    "    for i in range(1, n):                       # n - 1 iterations                    \n",
    "        if mat[i-1][0] in mat[i]:               #    if: 1 (in worst case always true)\n",
    "                                                #    in: m        \n",
    "            for j in range(n-1,0,-1):           #    n - 1 iterations                \n",
    "                mat[j] = [2*x for x in mat[j]]  #        m iterations\n",
    "                                                #             2*x:    1\n",
    "                                                #        assignment: 1\n",
    "    return mat                                  # 1 \n",
    "```\n",
    "$O(4 + (n-1)(m+1 + (n-1)(m*1 + 1)) + 1)$\n",
    "\n",
    "$= O(4+ n(m + nm))$\n",
    "\n",
    "$= O(nm + n^2m)$\n",
    "\n",
    "$= O(n^2m)$"
   ]
  },
  {
   "cell_type": "raw",
   "id": "6c77b128",
   "metadata": {
    "format": "text/html"
   },
   "source": [
    "</div>"
   ]
  },
  {
   "cell_type": "markdown",
   "metadata": {},
   "source": [
    "### Exercise - hyundai\n",
    "\n",
    "* `lst` : list of $n$ elements\n",
    "* `m`: integer,   $0 <= m <= n$"
   ]
  },
  {
   "cell_type": "code",
   "execution_count": 19,
   "metadata": {},
   "outputs": [],
   "source": [
    "def hyundai(lst, m):\n",
    "\n",
    "    lb = ['a' in range(m)]     \n",
    "    \n",
    "    lb.extend(lst)               \n",
    "            \n",
    "    for i in range(m):         \n",
    "        lb.remove('a')                                                "
   ]
  },
  {
   "cell_type": "raw",
   "id": "27090b65",
   "metadata": {
    "format": "text/html"
   },
   "source": [
    "<a  class=\"jupman-sol jupman-sol-toggler\" \n",
    " onclick=\"jupman.toggleSolution(this);\" \n",
    " data-jupman-show=\"Show answer\" data-jupman-hide=\"Hide\">Show answer</a><div class=\"jupman-sol jupman-sol-question\" style=\"display:none\">  "
   ]
  },
  {
   "cell_type": "markdown",
   "metadata": {},
   "source": [
    "**ANSWER**: $O(m^2n)$\n",
    "\n",
    "```python\n",
    "def hyundai(lst, m):\n",
    "    \n",
    "    lb = ['a' in range(m)]     # m\n",
    "    \n",
    "    lb.extend(lst)             # n  \n",
    "            \n",
    "    for i in range(m):         # m\n",
    "        lb.remove('a')         #     m + n, m-1 + n, m-2 + n, .... 3 + n, 2 + n, 1 + n\n",
    "                               #     we can roughly estimate ~ m + n \n",
    "```\n",
    "\n",
    "$O(m + n +  m(m+n)) = O(m+n+m^2n + mn) = O(m^2n)$\n",
    "\n",
    "Note `remove` removes the first element it finds, and upon unsuccessful search throws an exception. In order for the function to terminate properly, it would need to find  `'a'` character for `m` times, and each call will always take $O(m + n)$ even if searched chars are at the beginning,  as element removal requires Python to shift most elements of the list  in memory anyway."
   ]
  },
  {
   "cell_type": "raw",
   "id": "fe5c309c",
   "metadata": {
    "format": "text/html"
   },
   "source": [
    "</div>"
   ]
  },
  {
   "cell_type": "markdown",
   "metadata": {},
   "source": [
    "### Exercise - buick\n",
    "\n",
    "`lb` : list of $n$ **positive** integers\n",
    "\n",
    "**HINT**: Try giving a tight complexity bound for the function, considering we assume `lb` is only made of **positive** integers"
   ]
  },
  {
   "cell_type": "code",
   "execution_count": 20,
   "metadata": {},
   "outputs": [],
   "source": [
    "def buick(lb):    \n",
    "    la = []                                        \n",
    "    n = len(lb)                                    \n",
    "    while len(lb) > 0:                             \n",
    "        el = lb.pop()                              \n",
    "        la.insert(0,el)                            \n",
    "        if sum(la) == 10:                          \n",
    "            for i in range(n):                     \n",
    "                for j in range(n):                 \n",
    "                    la[0] += 1                     \n",
    "                                                   \n",
    "                                                   \n",
    "    return la                                      "
   ]
  },
  {
   "cell_type": "raw",
   "id": "c000beb9",
   "metadata": {
    "format": "text/html"
   },
   "source": [
    "<a  class=\"jupman-sol jupman-sol-toggler\" \n",
    " onclick=\"jupman.toggleSolution(this);\" \n",
    " data-jupman-show=\"Show answer\" data-jupman-hide=\"Hide\">Show answer</a><div class=\"jupman-sol jupman-sol-question\" style=\"display:none\">  "
   ]
  },
  {
   "cell_type": "markdown",
   "metadata": {},
   "source": [
    "**ANSWER**: $O(n^2)$\n",
    "\n",
    "```python\n",
    "def buick(lb):    \n",
    "    la = []                                        # 1 \n",
    "    n = len(lb)                                    # 1\n",
    "    while len(lb) > 0:                             # n iterations (lb will be popped until empty)\n",
    "        el = lb.pop()                              #    pop: 1  + assignment: 1\n",
    "        la.insert(0,el)                            #    from 1 to n        \n",
    "        if sum(la) == 10:                          #    sum: from 1 to n  + if: 1\n",
    "            for i in range(n):                     #    n iterations\n",
    "                for j in range(n):                 #       n iterations\n",
    "                    la[0] += 1                     #            1                \n",
    "                                                   #       but note because of the 'if' this double for\n",
    "                                                   #       is executed *at most once per function call*\n",
    "    return la                                      # 1\n",
    "```\n",
    "\n",
    "$O(2 + n(2 + n + n + 1) + n^2 + 1) = O(n^2)$ \n",
    "\n",
    "**NOTE:**  last $n^2$ is for the expensive double `for` and was put  *outside* the while cycle computation for the following reason: from function text we know it's already unlikely `la` sum is `10`. As soon as it becomes `10`, we are going to add stuff to it (we assume all input numbers are positive). Thus, the `if` will be entered *at most once per function call*.\n",
    "\n",
    "```python\n",
    "buick([1,9,8,1,4,7,2])\n",
    "buick([1,9,8,1,4,7,3]) # triggers the double for\n",
    "```"
   ]
  },
  {
   "cell_type": "raw",
   "id": "0647a5b4",
   "metadata": {
    "format": "text/html"
   },
   "source": [
    "</div>"
   ]
  },
  {
   "cell_type": "markdown",
   "metadata": {},
   "source": [
    "### Exercise - saab\n",
    "\n",
    "`lst` : list of $n$ integers\n",
    "\n",
    "a) To solve this properly you will need to resort to some classical analysis:\n",
    "\n",
    "1. for determining worst case, try proving the sum is less than another sum\n",
    "2. to see if the bound is tight, try determining the best case complexity $\\Omega$ by proving that the sum made by half of the terms (which half?) is greater than another sum: you should get the same result as worst case thus demonstrating you've got the $\\Theta$ complexity.\n",
    "\n",
    "b) Can we write a much faster function?"
   ]
  },
  {
   "cell_type": "code",
   "execution_count": 21,
   "metadata": {},
   "outputs": [],
   "source": [
    "def saab(lst):\n",
    "    \n",
    "    for i in range(1, len(lst)):        \n",
    "        lst.sort(lst[0:i])"
   ]
  },
  {
   "cell_type": "raw",
   "id": "61c0ad14",
   "metadata": {
    "format": "text/html"
   },
   "source": [
    "<a  class=\"jupman-sol jupman-sol-toggler\" \n",
    " onclick=\"jupman.toggleSolution(this);\" \n",
    " data-jupman-show=\"Show answer\" data-jupman-hide=\"Hide\">Show answer</a><div class=\"jupman-sol jupman-sol-question\" style=\"display:none\">  "
   ]
  },
  {
   "cell_type": "markdown",
   "metadata": {},
   "source": [
    "**ANSWER**: \n",
    "\n",
    "a)\n",
    "\n",
    "```python\n",
    "def saab(lst):\n",
    "    \n",
    "    for i in range(1,len(lst)):   # n iterations    \n",
    "        lst.sort(lst[0:i])        #      lst[0:i]: 0+1+2+3+...+ n \n",
    "                                  #      sort    : 1log1 , 2log2 , 3log3 , ... , nlogn\n",
    "```\n",
    "\n",
    "\n",
    "The sort line is a bit tricky. Let's try a rough upper bound:\n",
    "\n",
    "$$\\sum_{i=1}^n{i~\\log{i}} \\leq n(n~\\log{n}) \\leq n^2~\\log{n} = O(n^2~\\log{n})$$\n",
    "\n",
    "Is it tight? We need to verify if lower bound is _at least_ $\\Omega(n^2~\\log{n})$\n",
    "\n",
    "There are many methods, let's use classical analysis and try to majorate the sum by picking half of the summation interval:\n",
    "\n",
    "$$\n",
    "\\begin{align*}\n",
    "\\sum_{i=1}^n{i~\\log{i}} &\\geq  \\sum_{i=n/2}^n{i\\log{i}}                           \\\\ \n",
    "                        &\\geq  \\frac{n}{2} \\left( \\frac{n}{2}  \\log\\frac{n}{2}\\right) \\\\\n",
    "                        &\\geq  \\frac{n^2}{4} \\left(\\log{n}-\\log{2}\\right)             \\\\ \n",
    "                        &\\geq  \\frac{n^2}{4} \\left(\\log{n}  - 1\\right)\n",
    "\\end{align*}\n",
    "$$\n",
    "\n",
    "We see that even if we limit ourselves to sum half of the interval, the summation always exceeds the $\\Omega(n^2\\log{n})$ factor, hence a tight bound for complexity is $\\Theta\\left({n^2\\log{n}}\\right)$\n",
    "\n",
    "b) all this repeated sorting is of course useless, it's sufficient to just call `sort` once:\n",
    "\n",
    "```python\n",
    "def saab_fast(lst):\n",
    "    \n",
    "    lst.sort(lst)\n",
    "```\n",
    "which takes $O(n\\log{n})$"
   ]
  },
  {
   "cell_type": "raw",
   "id": "4bb390e2",
   "metadata": {
    "format": "text/html"
   },
   "source": [
    "</div>"
   ]
  },
  {
   "cell_type": "markdown",
   "metadata": {},
   "source": [
    "## Sets performance\n",
    "\n",
    "Let's review set _average_ operations costs from [Python official wiki](https://wiki.python.org/moin/TimeComplexity#set):\n",
    "\n",
    "|Operation            |Big-O Efficiency     |Operation            |Big-O Efficiency     |\n",
    "|---------------------|---------------------|---------------------|---------------------|\n",
    "|x in s               | $O(1)$              | union sa &#124; sb       |$O(n + m)$      |\n",
    "|intersection sa & sb | $O(min(n,m))$       | difference `sa-sb`  |$O(n)$               |\n",
    "|sa.difference_update(sb)| $O(m)$           | set(sequence)       |      $O(n)$         |\n",
    "| len(s)              |      $O(1)$         | min(s)              |      $O(n)$         |\n",
    "| sum(s)              |      $O(n)$         | max(s)              |      $O(n)$         |\n"
   ]
  },
  {
   "cell_type": "markdown",
   "metadata": {},
   "source": [
    "Sets are pretty fast but notice in degenerate cases we might still get $O(n)$ complexities instead of $O(1)$ (like when there too many keys collisions or with ill-devised hashing functions). For the purposes of this course but won't consider those occurrences. \n"
   ]
  },
  {
   "cell_type": "markdown",
   "metadata": {},
   "source": [
    "\n",
    "<div class=\"alert alert-warning\">\n",
    "\n",
    "**WARNING: LOOPING ON SETS IS SLOW!**\n",
    "\n",
    "A loop typically takes $O(n)$, but sets were designed to offer $O(1)$ read / write access by using the square brackets operator `[]` or containment operator `in`.            \n",
    "</div>\n",
    "\n",
    "<div class=\"alert alert-warning\">\n",
    "    \n",
    "If you're thinking about using a loop, **always** ask yourself if you could rewrite your algorithm in some other way\n",
    "</div>\n",
    "       \n",
    "<div class=\"alert alert-warning\">\n",
    "    \n",
    "**HAVE YOU READ THE WARNING ABOVE??**\n",
    "    \n",
    "People who don't understand it are usually condemned to a dreaded yet-another-retake-of-sciprog exam. _You're warned_.\n",
    "</div>    "
   ]
  },
  {
   "cell_type": "markdown",
   "metadata": {},
   "source": [
    "## Sets - exercises \n",
    "\n",
    "Find the worst case compexity in Big-O notation for each of the following exercises."
   ]
  },
  {
   "cell_type": "markdown",
   "metadata": {},
   "source": [
    "### Exercise - land_rover\n",
    "\n",
    "* `sa` : set of $n$ integers\n",
    "* `sb` : set of $m$ integers"
   ]
  },
  {
   "cell_type": "code",
   "execution_count": 22,
   "metadata": {},
   "outputs": [],
   "source": [
    "def land_rover(sa, sb):    \n",
    "    return [el in sa for el in sb]"
   ]
  },
  {
   "cell_type": "raw",
   "id": "ca8330a9",
   "metadata": {
    "format": "text/html"
   },
   "source": [
    "<a  class=\"jupman-sol jupman-sol-toggler\" \n",
    " onclick=\"jupman.toggleSolution(this);\" \n",
    " data-jupman-show=\"Show answer\" data-jupman-hide=\"Hide\">Show answer</a><div class=\"jupman-sol jupman-sol-question\" style=\"display:none\">  "
   ]
  },
  {
   "cell_type": "markdown",
   "metadata": {},
   "source": [
    "**ANSWER**: $O(m)$\n",
    "\n",
    "```python\n",
    "def land_rover(sa, sb):                  \n",
    "    return [el in sa for el in sb]          # list comprehension: m iterations\n",
    "                                            #     in set: 1\n",
    "\n",
    "```"
   ]
  },
  {
   "cell_type": "raw",
   "id": "ac735e37",
   "metadata": {
    "format": "text/html"
   },
   "source": [
    "</div>"
   ]
  },
  {
   "cell_type": "markdown",
   "metadata": {},
   "source": [
    "### Exercise - volkswagen\n",
    "\n",
    "* `la` : list of $n$ integers\n",
    "* `lb` : list of $m$ integers"
   ]
  },
  {
   "cell_type": "code",
   "execution_count": 23,
   "metadata": {},
   "outputs": [],
   "source": [
    "def volkswagen(la, lb):\n",
    "    sa = set(la)                     \n",
    "    sc = set()                       \n",
    "    for el in lb:                    \n",
    "        if el % 2 != 0:              \n",
    "            sc.add(el)               \n",
    "    return (sa | sc) - (sa & sc)     "
   ]
  },
  {
   "cell_type": "raw",
   "id": "0af261ec",
   "metadata": {
    "format": "text/html"
   },
   "source": [
    "<a  class=\"jupman-sol jupman-sol-toggler\" \n",
    " onclick=\"jupman.toggleSolution(this);\" \n",
    " data-jupman-show=\"Show answer\" data-jupman-hide=\"Hide\">Show answer</a><div class=\"jupman-sol jupman-sol-question\" style=\"display:none\">  "
   ]
  },
  {
   "cell_type": "markdown",
   "metadata": {},
   "source": [
    "**ANSWER**: $O(n+m)$\n",
    "\n",
    "```python\n",
    "def volkswagen(la, lb):\n",
    "    sa = set(la)                     # n\n",
    "    sc = set()                       # 1\n",
    "    for el in lb:                    # m iterations \n",
    "        if el % 2 != 0:              #     1\n",
    "            sc.add(el)               #     1  \n",
    "    return (sa | sc) - (sa & sc)     # union |       : n+m\n",
    "                                     # intersection &: min(n,m)  \n",
    "                                     # difference -  : left term costs n+m\n",
    "                                     #                 NOTE: sc can have at most m elements\n",
    "```\n",
    "\n",
    "$O(n+1+m(1+1) + (n+m)+min(n,m)+n+m)=O(n+m)$"
   ]
  },
  {
   "cell_type": "raw",
   "id": "f0e1faa2",
   "metadata": {
    "format": "text/html"
   },
   "source": [
    "</div>"
   ]
  },
  {
   "cell_type": "markdown",
   "metadata": {},
   "source": [
    "### Exercise - pontiac\n",
    "\n",
    "`mat` : list of $n$ lists of $m$ integers"
   ]
  },
  {
   "cell_type": "code",
   "execution_count": 24,
   "metadata": {},
   "outputs": [],
   "source": [
    "def pontiac(mat):    \n",
    "    ret = []\n",
    "    sets = [set(row) for row in mat]         \n",
    "    for i in range(len(mat)):                \n",
    "        for s in sets:                       \n",
    "            if mat[i][0]*2 in s:             \n",
    "                ret.append(mat[i][0])        \n",
    "    return ret              "
   ]
  },
  {
   "cell_type": "raw",
   "id": "e8c5cc94",
   "metadata": {
    "format": "text/html"
   },
   "source": [
    "<a  class=\"jupman-sol jupman-sol-toggler\" \n",
    " onclick=\"jupman.toggleSolution(this);\" \n",
    " data-jupman-show=\"Show answer\" data-jupman-hide=\"Hide\">Show answer</a><div class=\"jupman-sol jupman-sol-question\" style=\"display:none\">  "
   ]
  },
  {
   "cell_type": "markdown",
   "metadata": {},
   "source": [
    "**ANSWER**: $O(mn + n^2)$\n",
    "\n",
    "```python\n",
    "def pontiac(mat):\n",
    "    ret = []                                 # 1\n",
    "    sets = [set(row) for row in mat]         # m * n (creating a set of m elements n times)\n",
    "    for i in range(len(mat)):                # n iterations   \n",
    "        for s in sets:                       #    n  iterations\n",
    "            if mat[i][0]*2 in s:             #        set in:  1  , mat access: 1 , mul: 1\n",
    "                ret.append(mat[i][0])        #        access: 1 , append: 1\n",
    "    return ret                               # 1 \n",
    "\n",
    "pontiac([\n",
    "    [3,5,2,5,7,2],\n",
    "    [2,2,8,7,3,4],\n",
    "    [4,1,4,1,5,6],\n",
    "])\n",
    "\n",
    "```\n",
    "\n",
    "$O(1 + mn + n(n(3+2)))=O(mn + n^2)$"
   ]
  },
  {
   "cell_type": "raw",
   "id": "843aad6b",
   "metadata": {
    "format": "text/html"
   },
   "source": [
    "</div>"
   ]
  },
  {
   "cell_type": "markdown",
   "metadata": {},
   "source": [
    "### Exercise - volvo\n",
    "\n",
    "* `la` : list of $n$ integers\n",
    "* `lb` : list of $m$ integers"
   ]
  },
  {
   "cell_type": "code",
   "execution_count": 25,
   "metadata": {},
   "outputs": [],
   "source": [
    "\n",
    "def volvo(la, lb):\n",
    "    ret = set(lb)\n",
    "    for i in range(len(la)):\n",
    "        sli = la[i+1:]\n",
    "        if la[i] in sli:\n",
    "            ret.add(la[i])\n",
    "        for el in la:             \n",
    "            if el in ret:         \n",
    "                ret.add(el*2)     \n",
    "    return ret                    "
   ]
  },
  {
   "cell_type": "raw",
   "id": "f1a0fd02",
   "metadata": {
    "format": "text/html"
   },
   "source": [
    "<a  class=\"jupman-sol jupman-sol-toggler\" \n",
    " onclick=\"jupman.toggleSolution(this);\" \n",
    " data-jupman-show=\"Show answer\" data-jupman-hide=\"Hide\">Show answer</a><div class=\"jupman-sol jupman-sol-question\" style=\"display:none\">  "
   ]
  },
  {
   "cell_type": "markdown",
   "metadata": {},
   "source": [
    "**ANSWER**: $O(n^2 + m)$\n",
    "\n",
    "```python\n",
    "def volvo(la, lb):\n",
    "    ret = set(lb)                 #  m\n",
    "    for i in range(len(la)):      #  n iterations\n",
    "        sli = la[i+1:]            #      n-1, n-2,  ...... , 1              ~ n\n",
    "        if la[i] in sli:          #      in list:  n-1 , n-2 , ...... , 1   ~ n\n",
    "            ret.add(la[i])        #      la access: 1, set add: 1\n",
    "        for el in la:             #      n iterations\n",
    "            if el in ret:         #          in set: 1\n",
    "                ret.add(el*2)     #          set add: 1,  mul: 1 \n",
    "    return ret                    #  1\n",
    "\n",
    "volvo([7,6,8,4,6,7,6], [6,9,2,5,3,4,6])\n",
    "```\n",
    "\n",
    "$O(m+n(n+n+2+n(1+2))+1)$\n",
    "\n",
    "$= O(m+n(2n+3n+2))$\n",
    "\n",
    "$= O(m+n^2+n)$\n",
    "\n",
    "$=O(n^2 + m)$"
   ]
  },
  {
   "cell_type": "raw",
   "id": "c3165fc1",
   "metadata": {
    "format": "text/html"
   },
   "source": [
    "</div>"
   ]
  },
  {
   "cell_type": "markdown",
   "metadata": {},
   "source": [
    "### Exercise - chrysler\n",
    "\n"
   ]
  },
  {
   "cell_type": "markdown",
   "metadata": {},
   "source": [
    "`la`: list of $n$ integers\n",
    "\n",
    "**HINT 1**: remember the sum of first $n$ integers is $\\displaystyle\\sum_{i=1}^n{i}=\\frac{n^2+n}{2}$\n",
    "\n",
    "**HINT 2**: remember the sum of first $n$ squared integers is $\\displaystyle\\sum_{i=1}^n{i^2}=\\frac{n(n+1)(2n+1)}{6}$"
   ]
  },
  {
   "cell_type": "code",
   "execution_count": 26,
   "metadata": {},
   "outputs": [],
   "source": [
    "def chrysler(la):\n",
    "    \n",
    "    s = {0}                            \n",
    "    lb = []                            \n",
    "    for i in range(len(la)):           \n",
    "        lb.extend([la[i]] * i)         \n",
    "        if min(s) < 20:                \n",
    "            s = {x for x in la}        \n",
    "        s = s | set(lb)                \n",
    "    return s                              "
   ]
  },
  {
   "cell_type": "raw",
   "id": "e80daa71",
   "metadata": {
    "format": "text/html"
   },
   "source": [
    "<a  class=\"jupman-sol jupman-sol-toggler\" \n",
    " onclick=\"jupman.toggleSolution(this);\" \n",
    " data-jupman-show=\"Show answer\" data-jupman-hide=\"Hide\">Show answer</a><div class=\"jupman-sol jupman-sol-question\" style=\"display:none\">  "
   ]
  },
  {
   "cell_type": "markdown",
   "metadata": {},
   "source": [
    "**ANSWER**: $O(n^3)$\n",
    "\n",
    "\n",
    "```python\n",
    "def chrysler(la):\n",
    "    \n",
    "    s = {0}                            #   1\n",
    "    lb = []                            #   1\n",
    "    for i in range(len(la)):           #   n iterations\n",
    "        lb.extend([la[i]] * i)         #       list replication: 1 , 2 , 3 , .... , n  ~ n\n",
    "                                       #       extend:           1 , 2 , 3 , .... , n  ~ n\n",
    "        if min(s) < 20:                #       min: 1 , 2 , 3 , .... , n   ~ n\n",
    "            s = {x for x in la}        #       n\n",
    "        s = s | set(lb)                #       f(i)  <--- to be determined later ...\n",
    "    return s                           #   1\n",
    "```\n",
    "\n",
    "Let $k$ be the number of distinct elements of `la`: given how the algorithm is structured, in worst case `s` ends up containing $k$ elements.\n",
    "\n",
    "Let's try calculating $f(i)$: even we already know  `s` in the end will always contain `k` elements, Python will still need to convert `lb` to a set, and then do the union with `s`. At each iteration, the number of items to scan in `lb` will grow non-linearly:\n",
    "\n",
    "```python\n",
    "                 #                                sum of first i      iteration\n",
    "                 #  union      set conversion     natural numbers         i\n",
    "s = s | set(lb)  #  k + 1      +1                 = k + 1 + (1^2+1)/2     1\n",
    "                 #  k + 2      +1+2               = k + 2 + (2^2+2)/2     2\n",
    "                 #  k + 3      +1+2+3             = k + 3 + (3^2+3)/2     3\n",
    "                 #      .            .                                    .\n",
    "                 #  k + k            .                                    .\n",
    "                 #  k + k      +1+2+3+ .. +n      = k + k + (n^2+n)/2     n \n",
    "```\n",
    "\n",
    "Considering the whole $n$ iterations, we will get a sum of increasing squares, so that row alone will cost $g(n)$ like this:\n",
    "\n",
    "$$\n",
    "\\begin{align*}\n",
    "g(n) &= \\sum_{i=1}^n{f(i)} \\\\ \n",
    "  &= \\sum_{i=1}^n{\\left(k + \\min (i,k) + \\frac{i^2+i}{2}\\right) }  \\\\\n",
    "  &= \\sum_{i=1}^n{k} + \\sum_{i=1}^n {\\min (i,k)} + \\frac{1}{2} \\sum_{i=1}^n{i^2} + \\frac{1}{2} \\sum_{i=1}^n{i} \\\\\n",
    "  &\\leq n k + n k + \\frac{1}{2} \\frac{n(n+1)(2n+1)}{6} + \\frac{1}{2} \\frac{n^2 + n}{2}  \\\\\n",
    "  &\\leq nk + n k + \\frac{2n^3 + n^2 + 2n^2 + n}{12} + \\frac{n^2+n}{4}\n",
    "\\end{align*}\n",
    "$$\n",
    "\n",
    "Since $k \\leq n$ , the heavier term is $n^3$ thus we conclude:\n",
    "\n",
    "$$O(g(n)) = O(nk + n^3) = O(n^3)$$\n",
    "\n",
    "Plugging $g(n)$ in the whole algorithm context, we get:\n",
    "\n",
    "$$O(2+n(n + n + n + n) + g(n) + 1)= O(n^2 + n^3) = O(n^3)$$"
   ]
  },
  {
   "cell_type": "raw",
   "id": "ea72aa77",
   "metadata": {
    "format": "text/html"
   },
   "source": [
    "</div>"
   ]
  },
  {
   "cell_type": "markdown",
   "metadata": {},
   "source": [
    "## Dictionaries performance\n",
    "\n",
    "Let's review dictionary operations costs from [the Python DS book Chapter 3.7: Dictionaries](https://runestone.academy/runestone/books/published/pythonds/AlgorithmAnalysis/Dictionaries.html):\n",
    "\n",
    "\n",
    "|Operation               |Example                        |Big-O Efficiency|\n",
    "|------------------------|-------------------------------|----------------|\n",
    "|key containment         |`key in d`                     | $O(1)$         |\n",
    "|read a value given a key| `d[key]`                      | $O(1)$         |    \n",
    "|write an association    |`d[key] = value`               | $O(1)$         |\n",
    "|delete an association   |`del d[key]`                   | $O(1)$         |\n",
    "|iterating keys / 1      |`for key in d:`                | $O(n)$         |\n",
    "|iterating keys / 2      |`for key in d.keys():`         | $O(n)$         |\n",
    "|iterating values        |`for value in d.values():`     | $O(n)$         |\n",
    "|iterating associations  |`for key,value in d.items():`  | $O(n)$         |\n",
    "|shallow copy            |`d.copy()`                     | $O(n)$         | \n",
    "\n",
    "Dictionaries are pretty fast but notice in degenerate cases we might still get $O(n)$ complexity instead of $O(1)$, like when there too many keys collisions or with ill-devised hashing functions. For the purposes of this course but won't consider those occurrences. "
   ]
  },
  {
   "cell_type": "markdown",
   "metadata": {},
   "source": [
    "\n",
    "<div class=\"alert alert-warning\">\n",
    "\n",
    "**WARNING: LOOPING ON DICTIONARIES IS SLOW!**\n",
    "\n",
    "A loop typically takes $O(n)$, but dictionaries were designed to offer $O(1)$ read / write access by using the square brackets operator `[]` or containment operator `in`.            \n",
    "</div>\n",
    "\n",
    "<div class=\"alert alert-warning\">\n",
    "    \n",
    "If you're thinking about using a loop, **always** ask yourself if you could rewrite your algorithm in some other way\n",
    "</div>\n",
    "       \n",
    "<div class=\"alert alert-warning\">\n",
    "    \n",
    "**HAVE YOU READ THE WARNING ABOVE??**\n",
    "    \n",
    "People who don't understand it are usually condemned to a dreaded yet-another-retake-of-sciprog exam. _You're warned_.\n",
    "</div>    "
   ]
  },
  {
   "cell_type": "markdown",
   "metadata": {},
   "source": [
    "## Dictionaries - exercises\n",
    "\n",
    "Find the worst case compexity in Big-O notation for each of the following exercises."
   ]
  },
  {
   "cell_type": "markdown",
   "metadata": {},
   "source": [
    "### Exercise - tesla\n",
    "\n",
    "- `x` : int\n",
    "- `d`: dictionary with $n$ key/value mappings"
   ]
  },
  {
   "cell_type": "code",
   "execution_count": 27,
   "metadata": {},
   "outputs": [],
   "source": [
    "def tesla(x, d):\n",
    "    return x in d"
   ]
  },
  {
   "cell_type": "raw",
   "id": "67ac15d4",
   "metadata": {
    "format": "text/html"
   },
   "source": [
    "<a  class=\"jupman-sol jupman-sol-toggler\" \n",
    " onclick=\"jupman.toggleSolution(this);\" \n",
    " data-jupman-show=\"Show answer\" data-jupman-hide=\"Hide\">Show answer</a><div class=\"jupman-sol jupman-sol-question\" style=\"display:none\">  "
   ]
  },
  {
   "cell_type": "markdown",
   "metadata": {},
   "source": [
    "**ANSWER**: $O(1)$\n",
    "\n",
    "Searching keys `in` dictionaries is very fast because of hashing."
   ]
  },
  {
   "cell_type": "raw",
   "id": "f80a8ef4",
   "metadata": {
    "format": "text/html"
   },
   "source": [
    "</div>"
   ]
  },
  {
   "cell_type": "markdown",
   "metadata": {},
   "source": [
    "### Exercise - bmw\n",
    "\n",
    "* `d` : dictionary of $n$ key/value mappings\n",
    "* `el` : int"
   ]
  },
  {
   "cell_type": "code",
   "execution_count": 28,
   "metadata": {},
   "outputs": [],
   "source": [
    "def bmw(d, el):\n",
    "    \n",
    "    if el in d:\n",
    "        return d[el]\n",
    "    \n",
    "    return None"
   ]
  },
  {
   "cell_type": "raw",
   "id": "44351799",
   "metadata": {
    "format": "text/html"
   },
   "source": [
    "<a  class=\"jupman-sol jupman-sol-toggler\" \n",
    " onclick=\"jupman.toggleSolution(this);\" \n",
    " data-jupman-show=\"Show answer\" data-jupman-hide=\"Hide\">Show answer</a><div class=\"jupman-sol jupman-sol-question\" style=\"display:none\">  "
   ]
  },
  {
   "cell_type": "markdown",
   "metadata": {},
   "source": [
    "**ANSWER**: $O(1)$\n",
    "\n",
    "```python\n",
    "def bmw(d, el):\n",
    "    \n",
    "    if el in d:           # in dict: 1\n",
    "        return d[el]      # dict access: 1 , return 1 \n",
    "    \n",
    "    return None           # 1\n",
    "```    "
   ]
  },
  {
   "cell_type": "raw",
   "id": "bbfbb0b1",
   "metadata": {
    "format": "text/html"
   },
   "source": [
    "</div>"
   ]
  },
  {
   "cell_type": "markdown",
   "metadata": {},
   "source": [
    "### Exercise - nissan\n",
    "\n",
    "* `d` : dictionary of $n$ key/value mappings\n",
    "* `el` : int\n",
    "\n",
    "Does this code behaves differently from code before? Compare complexity."
   ]
  },
  {
   "cell_type": "code",
   "execution_count": 29,
   "metadata": {},
   "outputs": [],
   "source": [
    "def nissan(d, el):\n",
    "    \n",
    "    for k in d:\n",
    "        if el == k:\n",
    "            return d[el]\n",
    "    \n",
    "    return None"
   ]
  },
  {
   "cell_type": "raw",
   "id": "d5e36c4f",
   "metadata": {
    "format": "text/html"
   },
   "source": [
    "<a  class=\"jupman-sol jupman-sol-toggler\" \n",
    " onclick=\"jupman.toggleSolution(this);\" \n",
    " data-jupman-show=\"Show answer\" data-jupman-hide=\"Hide\">Show answer</a><div class=\"jupman-sol jupman-sol-question\" style=\"display:none\">  "
   ]
  },
  {
   "cell_type": "markdown",
   "metadata": {},
   "source": [
    "**ANSWER**: $O(n)$\n",
    "\n",
    "If we're lucky, we will find the object very soon, but if we aren't we will have to scan all of the dictionary, so worst case complexity is $O(n)$"
   ]
  },
  {
   "cell_type": "raw",
   "id": "360a3b3b",
   "metadata": {
    "format": "text/html"
   },
   "source": [
    "</div>"
   ]
  },
  {
   "cell_type": "markdown",
   "metadata": {},
   "source": [
    "### Exercise - ferrari\n",
    "\n",
    "* `x` : int\n",
    "* `d`: dictionary with $n$ key/value mappings\n",
    "\n",
    "Find the complexity and then ask yourself if we can do any better."
   ]
  },
  {
   "cell_type": "code",
   "execution_count": 30,
   "metadata": {},
   "outputs": [],
   "source": [
    "def ferrari(x, d):\n",
    "    return x in d.values()"
   ]
  },
  {
   "cell_type": "raw",
   "id": "d131c3bf",
   "metadata": {
    "format": "text/html"
   },
   "source": [
    "<a  class=\"jupman-sol jupman-sol-toggler\" \n",
    " onclick=\"jupman.toggleSolution(this);\" \n",
    " data-jupman-show=\"Show answer\" data-jupman-hide=\"Hide\">Show answer</a><div class=\"jupman-sol jupman-sol-question\" style=\"display:none\">  "
   ]
  },
  {
   "cell_type": "markdown",
   "metadata": {},
   "source": [
    "**ANSWER**: $O(n)$\n",
    "\n",
    "Value access is sequential, as they may contain duplicates or be mutable."
   ]
  },
  {
   "cell_type": "raw",
   "id": "a46c7694",
   "metadata": {
    "format": "text/html"
   },
   "source": [
    "</div>"
   ]
  },
  {
   "cell_type": "markdown",
   "metadata": {},
   "source": [
    "### Exercise - bentley\n",
    "\n",
    "* `x` : int\n",
    "* `d` : dictionary with $n$ key/value mappings"
   ]
  },
  {
   "cell_type": "code",
   "execution_count": 31,
   "metadata": {},
   "outputs": [],
   "source": [
    "def bentley(x, d):\n",
    "    \n",
    "    return x,x in d.items()"
   ]
  },
  {
   "cell_type": "raw",
   "id": "82a02095",
   "metadata": {
    "format": "text/html"
   },
   "source": [
    "<a  class=\"jupman-sol jupman-sol-toggler\" \n",
    " onclick=\"jupman.toggleSolution(this);\" \n",
    " data-jupman-show=\"Show answer\" data-jupman-hide=\"Hide\">Show answer</a><div class=\"jupman-sol jupman-sol-question\" style=\"display:none\">  "
   ]
  },
  {
   "cell_type": "markdown",
   "metadata": {},
   "source": [
    "**ANSWER**: $O(n)$\n",
    "\n",
    "`.items()` return a sequence, which needs to be scanned one by one."
   ]
  },
  {
   "cell_type": "raw",
   "id": "0ed4ecb4",
   "metadata": {
    "format": "text/html"
   },
   "source": [
    "</div>"
   ]
  },
  {
   "cell_type": "markdown",
   "metadata": {},
   "source": [
    "### Exercise - mclaren\n",
    "\n",
    "* `d` : dictionary of $n$ key/value mappings\n",
    "* `k` : int"
   ]
  },
  {
   "cell_type": "code",
   "execution_count": 32,
   "metadata": {},
   "outputs": [],
   "source": [
    "def mclaren(d,k):\n",
    "    ret = []\n",
    "    for i in range(k):\n",
    "        if i in d:\n",
    "            ret.append(d[i])\n",
    "    return ret"
   ]
  },
  {
   "cell_type": "raw",
   "id": "f02cd3ea",
   "metadata": {
    "format": "text/html"
   },
   "source": [
    "<a  class=\"jupman-sol jupman-sol-toggler\" \n",
    " onclick=\"jupman.toggleSolution(this);\" \n",
    " data-jupman-show=\"Show answer\" data-jupman-hide=\"Hide\">Show answer</a><div class=\"jupman-sol jupman-sol-question\" style=\"display:none\">  "
   ]
  },
  {
   "cell_type": "markdown",
   "metadata": {},
   "source": [
    "**ANSWER**: $O(k)$\n",
    "\n",
    "```python\n",
    "def mclaren(d,k):              # \n",
    "    ret = []                   # 1\n",
    "    for i in range(k):         # k iterations\n",
    "        if i in d:             #     1  (search in keys)\n",
    "            ret.append(d[i])   #     dictionary access: 1  ,  append: 1\n",
    "    return ret                 # 1\n",
    "```    \n",
    "$O(1 + k(1 + 2)) = O(k)$\n",
    "\n",
    "Under normal loads complexity here does not depend on dictionary size"
   ]
  },
  {
   "cell_type": "raw",
   "id": "32a94d03",
   "metadata": {
    "format": "text/html"
   },
   "source": [
    "</div>"
   ]
  },
  {
   "cell_type": "markdown",
   "metadata": {},
   "source": [
    "### Exercise - fiat\n",
    "\n",
    "* `d` : dictionary of $n$ key/value mappings\n",
    "* `k` : int\n",
    "\n",
    "Compare this function to previous one. Is there any difference?"
   ]
  },
  {
   "cell_type": "code",
   "execution_count": 33,
   "metadata": {},
   "outputs": [],
   "source": [
    "def fiat(d,k):\n",
    "    lst = list(d.items())\n",
    "    ret = []\n",
    "    for i,v in lst:\n",
    "        if i >= 0 and i < k:\n",
    "            ret.append(d[i])\n",
    "    return ret"
   ]
  },
  {
   "cell_type": "raw",
   "id": "66bdc0c4",
   "metadata": {
    "format": "text/html"
   },
   "source": [
    "<a  class=\"jupman-sol jupman-sol-toggler\" \n",
    " onclick=\"jupman.toggleSolution(this);\" \n",
    " data-jupman-show=\"Show answer\" data-jupman-hide=\"Hide\">Show answer</a><div class=\"jupman-sol jupman-sol-question\" style=\"display:none\">  "
   ]
  },
  {
   "cell_type": "markdown",
   "metadata": {},
   "source": [
    "**ANSWER**: $O(n)$\n",
    "\n",
    "```python\n",
    "def fiat(d,k):\n",
    "    lst = list(d.items())         #  list: n , items: n\n",
    "    ret = []                      #  1 \n",
    "    for i,v in lst:               #  n iterations \n",
    "        if i >= 0 and i < k:      #     comparisons: 1 + 1 , and: 1\n",
    "            ret.append(d[i])      #     dictionary access: 1 , append: 1 \n",
    "    return ret                    #  1\n",
    "```\n",
    "\n",
    "This function does the same same as the previous one, but performance is different (if $k < n$). Converting all items to `list` always takes an amount of time proportinal to _all_ key/mappings in the dictionary, so if we later search in the list we are defeating the purpose of dictionaries, which should be fast searching !\n",
    "\n",
    "$O(2n + 1 + n(3 + 2)) + 1) = O(n)$"
   ]
  },
  {
   "cell_type": "raw",
   "id": "0d7a0214",
   "metadata": {
    "format": "text/html"
   },
   "source": [
    "</div>"
   ]
  },
  {
   "cell_type": "markdown",
   "metadata": {},
   "source": [
    "### Exercise - mustang\n",
    "\n",
    "* `d` : dictionary of $n$ key/value mappings\n",
    "* `lst` : list of $m$ integers"
   ]
  },
  {
   "cell_type": "code",
   "execution_count": 34,
   "metadata": {},
   "outputs": [],
   "source": [
    "  \n",
    "def mustang(d, lst):\n",
    "\n",
    "    ret = {}                                 \n",
    "    for el in lst:                           \n",
    "                                             \n",
    "        if el in d:                          \n",
    "            if el in list(d.values()):       \n",
    "                ret[el] = True               \n",
    "        else:                                \n",
    "            ret[el] = False                  \n",
    "    return ret                               "
   ]
  },
  {
   "cell_type": "raw",
   "id": "fc958049",
   "metadata": {
    "format": "text/html"
   },
   "source": [
    "<a  class=\"jupman-sol jupman-sol-toggler\" \n",
    " onclick=\"jupman.toggleSolution(this);\" \n",
    " data-jupman-show=\"Show answer\" data-jupman-hide=\"Hide\">Show answer</a><div class=\"jupman-sol jupman-sol-question\" style=\"display:none\">  "
   ]
  },
  {
   "cell_type": "markdown",
   "metadata": {},
   "source": [
    "**ANSWER**: $O(mn)$\n",
    "\n",
    "```python\n",
    "def mustang(d, lst):\n",
    "    \n",
    "    ret = {}                                 #  1\n",
    "    for el in lst:                           #  m iterations                                             \n",
    "        if el in d:                          #  1\n",
    "                                             #  THEN branch\n",
    "            if el in list(d.values()):       #        values(): n ,  list : n, in list: n \n",
    "                ret[el] = True               #        1\n",
    "        else:                                #  ELSE branch\n",
    "            ret[el] = False                  #     1 \n",
    "    return ret                               #  1\n",
    "```\n",
    "\n",
    "$O(1 + m(1 + max(3n + 1, 1)) + 1) = O(m + m(3n+1)) = O(m n + m) = O(mn)$"
   ]
  },
  {
   "cell_type": "raw",
   "id": "84417856",
   "metadata": {
    "format": "text/html"
   },
   "source": [
    "</div>"
   ]
  },
  {
   "cell_type": "markdown",
   "metadata": {},
   "source": [
    "## Recursion\n",
    "\n",
    "**References**: \n",
    "\n",
    "- [Andrea Passerini slides on recursion theory](http://disi.unitn.it/~passerini/teaching/2020-2021/sci-pro/slides/A06-recursion.pdf)\n",
    "- [Recursion worksheets on sciprog](https://sciprog.davidleoni.it/recursion/recursion1-simplefp.html)\n",
    "\n",
    "When confronted with a problem, we can try to solve it by splitting its dimension in half (or more), look for solutions in each of the halves and then decide what to do with the found solutions, if any.\n",
    "\n",
    "Several cases may occur:\n",
    "\n",
    "1. No solution is found\n",
    "2. One solution is found\n",
    "3. Two solutions are found\n",
    "\n",
    "case 1): we can only give up\n",
    "\n",
    "case 2): we have only one solution, so we can just return that one\n",
    "\n",
    "case 3): we have two solutions, so we need to decide what is the purpose of the algorithm\n",
    "\n",
    "Is the purpose to ...\n",
    "\n",
    "- find all possible solutions? Then we return both of them. \n",
    "\n",
    "- find the _best_ solution, according to some measure of 'goodness'? Then we measure each of the solutions and give back the highest scoring one.\n",
    "\n",
    "- always provide a _combination_ of existing solutions, according to some combination method? Then we combine the found solutions and give them back"
   ]
  },
  {
   "cell_type": "markdown",
   "metadata": {},
   "source": [
    "### The Master Theorem\n",
    "\n",
    "To get a precise calculation of complexity of recursive algorithms, let's recall the Master Theorem: \n",
    "\n",
    "Let $a$ and $b$ two integer constants such that $\\normalsize a \\geq 1$ and $\\normalsize b \\geq 2$, and let $\\normalsize c, \\beta$ be two real constants such that $\\normalsize c > 0$ and $\\normalsize \\beta \\geq 0$. Let $\\normalsize T(n)$ be defined by the following recurrence:\n",
    "\n",
    "$$\\large\n",
    "T(n) =  \\begin{cases}\n",
    "a T(n/b)+cn^\\beta & n > 1 \\\\\n",
    "\\Theta(n) & n \\leq 1\n",
    "\\end{cases}\n",
    "$$\n",
    "\n",
    "Given $\\large {\\alpha = \\frac{\\log{a}}{\\log{b}} = \\log_b{a}}$, then:\n",
    "\n",
    "$$\\large\n",
    "T(n) =  \\begin{cases}\n",
    "\\Theta(n^\\alpha) & \\alpha > \\beta          \\\\\n",
    "\\Theta(n^\\alpha \\log{n}) & \\alpha = \\beta  \\\\\n",
    "\\Theta(n^\\beta) & \\alpha < \\beta   \n",
    "\\end{cases}\n",
    "$$\n",
    "\n",
    "The theorem covers cases when: \n",
    "\n",
    "- input of size $n$ is split in $b$ subproblems\n",
    "- the algorithm is applied recursively $n$ times\n",
    "- $\\normalsize cn^\\beta$ is the cost of the algorithm after the recursive steps"
   ]
  },
  {
   "cell_type": "markdown",
   "metadata": {},
   "source": [
    "## Recursion - exercises"
   ]
  },
  {
   "cell_type": "markdown",
   "metadata": {},
   "source": [
    "### Exercise - yamaha\n",
    "\n",
    "a) What does this function do? \n",
    "\n",
    "b) What's the time complexity? Give both an informal argument and a formal one using the Master Theorem.\n",
    "\n",
    "* `lst`: a list of $n$ numbers\n",
    "* `i`: an index from `0` to $n$ **included**\n",
    "\n",
    "`level` is the recursion level, we can use it to help ourselves while debugging"
   ]
  },
  {
   "cell_type": "code",
   "execution_count": 35,
   "metadata": {},
   "outputs": [
    {
     "name": "stdout",
     "output_type": "stream",
     "text": [
      " [5, 7, 2, 9]\n",
      " 4\n",
      "   [5, 7, 2, 9]\n",
      "   3\n",
      "     [5, 7, 2, 9]\n",
      "     2\n",
      "       [5, 7, 2, 9]\n",
      "       1\n",
      "         [5, 7, 2, 9]\n",
      "         0\n",
      "       5\n",
      "     12\n",
      "   14\n",
      " 23\n",
      "23\n"
     ]
    }
   ],
   "source": [
    "\n",
    "def yamaha(lst, i, level=0):    \n",
    "    print('  ' * level, lst)\n",
    "    print('  ' * level, i)\n",
    "    \n",
    "    if i == 0:\n",
    "        return 0\n",
    "    else:\n",
    "        q = lst[i-1] + yamaha(lst, i-1, level + 1)\n",
    "        print('  ' * level, q)\n",
    "        return q\n",
    "    \n",
    "print(yamaha([5,7,2,9], 4))"
   ]
  },
  {
   "cell_type": "code",
   "execution_count": 36,
   "metadata": {
    "nbsphinx": "hidden"
   },
   "outputs": [],
   "source": [],
   "transient": {
    "remove_source": true
   }
  },
  {
   "cell_type": "raw",
   "id": "be57b169",
   "metadata": {
    "format": "text/html"
   },
   "source": [
    "<a  class=\"jupman-sol jupman-sol-toggler\" \n",
    " onclick=\"jupman.toggleSolution(this);\" \n",
    " data-jupman-show=\"Show answer\" data-jupman-hide=\"Hide\">Show answer</a><div class=\"jupman-sol jupman-sol-question\" style=\"display:none\">  "
   ]
  },
  {
   "cell_type": "markdown",
   "metadata": {},
   "source": [
    "**ANSWER**: \n",
    "\n",
    "**Informal argument**: Since this is a simple function, just by inspecting it we can conclude it sums all the numbers. Since the list is always completely traversed we can state the complexity is $\\Theta(n)$ \n",
    "\n",
    "Notice that as all recursive functions in Python, we would be also limited by the amount of recursive calls that Python imposes, which was fixed by language designers to 1000 (Python is not a language optimized for recursive calls).\n",
    "\n",
    "**Formal argument** using the Master Theorem (Required during the exam!): TODO"
   ]
  },
  {
   "cell_type": "raw",
   "id": "ecb374ca",
   "metadata": {
    "format": "text/html"
   },
   "source": [
    "</div>"
   ]
  },
  {
   "cell_type": "markdown",
   "metadata": {},
   "source": [
    "### Exercise - cadillac\n",
    "\n",
    "Look at the following code:\n",
    "\n",
    "a) To get a better understanding, try adding an integer optional parameter `level=0` with the recursion level, and print the function passages indented according to the recursion `level`\n",
    "\n",
    "b) What is this function doing?\n",
    "\n",
    "c) Is recursion eventually terminating after some time?\n",
    "\n",
    "d) What's the time complexity? Try giving both an informal argument and a precise one using the Master Theorem"
   ]
  },
  {
   "cell_type": "markdown",
   "metadata": {},
   "source": [
    "* `lst` : list of $n$ integers"
   ]
  },
  {
   "cell_type": "code",
   "execution_count": 37,
   "metadata": {},
   "outputs": [],
   "source": [
    "def cadillac(lst):\n",
    "    \n",
    "    if len(lst) == 0:\n",
    "        return 0\n",
    "    \n",
    "    if len(lst) == 1:\n",
    "        return lst[0]\n",
    "    \n",
    "    k = len(lst) // 2    \n",
    "    p = cadillac(lst[:k])    \n",
    "    q = cadillac(lst[k:])\n",
    "    return p + q"
   ]
  },
  {
   "cell_type": "markdown",
   "metadata": {},
   "source": [
    "**a) Solution for code with added debug prints and** `level=0` **param**:"
   ]
  },
  {
   "cell_type": "raw",
   "id": "996906bf",
   "metadata": {
    "format": "text/html"
   },
   "source": [
    "<a  class=\"jupman-sol jupman-sol-toggler\" \n",
    " onclick=\"jupman.toggleSolution(this);\" \n",
    " data-jupman-show=\"Show solution\" data-jupman-hide=\"Hide\">Show solution</a><div class=\"jupman-sol jupman-sol-code\" style=\"display:none\">  "
   ]
  },
  {
   "cell_type": "code",
   "execution_count": 38,
   "metadata": {
    "scrolled": false
   },
   "outputs": [
    {
     "name": "stdout",
     "output_type": "stream",
     "text": [
      " [4, 2, 6, 2, 9, 4, 8, 1, 5, 7, 1]\n",
      "     [4, 2, 6, 2, 9]\n",
      "         [4, 2]\n",
      "             [4]\n",
      "         p= 4\n",
      "             [2]\n",
      "         q= 2\n",
      "     p= 6\n",
      "         [6, 2, 9]\n",
      "             [6]\n",
      "         p= 6\n",
      "             [2, 9]\n",
      "                 [2]\n",
      "             p= 2\n",
      "                 [9]\n",
      "             q= 9\n",
      "         q= 11\n",
      "     q= 17\n",
      " p= 23\n",
      "     [4, 8, 1, 5, 7, 1]\n",
      "         [4, 8, 1]\n",
      "             [4]\n",
      "         p= 4\n",
      "             [8, 1]\n",
      "                 [8]\n",
      "             p= 8\n",
      "                 [1]\n",
      "             q= 1\n",
      "         q= 9\n",
      "     p= 13\n",
      "         [5, 7, 1]\n",
      "             [5]\n",
      "         p= 5\n",
      "             [7, 1]\n",
      "                 [7]\n",
      "             p= 7\n",
      "                 [1]\n",
      "             q= 1\n",
      "         q= 8\n",
      "     q= 13\n",
      " q= 26\n",
      "49\n"
     ]
    }
   ],
   "source": [
    "def cadillac(lst, level=0):\n",
    "    \n",
    "    print('    '*level,lst)\n",
    "    \n",
    "    #  By repeatedly reducing input size, do we eventually end up in a branch with a return?\n",
    "    #  YES !\n",
    "    if len(lst) == 0:                 # 1\n",
    "        return 0                      # 1\n",
    "    \n",
    "    #  By repeatedly reducing input size, do we eventually end up in a branch with a return?\n",
    "    #  YES !\n",
    "    if len(lst) == 1:                 # 1\n",
    "        return lst[0]                 # 1\n",
    "\n",
    "    # Are we reducing input size when calling cadillac? \n",
    "    # YES !\n",
    "    k = len(lst) // 2                 # 1\n",
    "    p = cadillac(lst[:k], level + 1)   # slice creation: n/2  + recursive call cost:?\n",
    "    print('    '*level, 'p=', p)\n",
    "    q = cadillac(lst[k:], level + 1)   # slice creation: n/2  + recursive call cost:?\n",
    "    print('    '*level, 'q=', q)\n",
    "    return p + q                      # 1\n",
    "    \n",
    "\n",
    "res = cadillac([4,2,6,2,9,4,8,1,5,7,1])\n",
    "print(res)\n",
    "assert res == 49"
   ]
  },
  {
   "cell_type": "raw",
   "id": "7ab583cf",
   "metadata": {
    "format": "text/html"
   },
   "source": [
    "</div>"
   ]
  },
  {
   "cell_type": "code",
   "execution_count": 38,
   "metadata": {
    "scrolled": false
   },
   "outputs": [
    {
     "name": "stdout",
     "output_type": "stream",
     "text": [
      " [4, 2, 6, 2, 9, 4, 8, 1, 5, 7, 1]\n",
      "     [4, 2, 6, 2, 9]\n",
      "         [4, 2]\n",
      "             [4]\n",
      "         p= 4\n",
      "             [2]\n",
      "         q= 2\n",
      "     p= 6\n",
      "         [6, 2, 9]\n",
      "             [6]\n",
      "         p= 6\n",
      "             [2, 9]\n",
      "                 [2]\n",
      "             p= 2\n",
      "                 [9]\n",
      "             q= 9\n",
      "         q= 11\n",
      "     q= 17\n",
      " p= 23\n",
      "     [4, 8, 1, 5, 7, 1]\n",
      "         [4, 8, 1]\n",
      "             [4]\n",
      "         p= 4\n",
      "             [8, 1]\n",
      "                 [8]\n",
      "             p= 8\n",
      "                 [1]\n",
      "             q= 1\n",
      "         q= 9\n",
      "     p= 13\n",
      "         [5, 7, 1]\n",
      "             [5]\n",
      "         p= 5\n",
      "             [7, 1]\n",
      "                 [7]\n",
      "             p= 7\n",
      "                 [1]\n",
      "             q= 1\n",
      "         q= 8\n",
      "     q= 13\n",
      " q= 26\n",
      "49\n"
     ]
    }
   ],
   "source": [
    "def cadillac(lst, level=0):\n",
    "    raise Exception('TODO IMPLEMENT ME !')\n",
    "\n",
    "res = cadillac([4,2,6,2,9,4,8,1,5,7,1])\n",
    "print(res)\n",
    "assert res == 49"
   ]
  },
  {
   "cell_type": "markdown",
   "metadata": {},
   "source": [
    "**b,c,d) Answers to remaining questions:**"
   ]
  },
  {
   "cell_type": "raw",
   "id": "cdca65e2",
   "metadata": {
    "format": "text/html"
   },
   "source": [
    "<a  class=\"jupman-sol jupman-sol-toggler\" \n",
    " onclick=\"jupman.toggleSolution(this);\" \n",
    " data-jupman-show=\"Show answer\" data-jupman-hide=\"Hide\">Show answer</a><div class=\"jupman-sol jupman-sol-question\" style=\"display:none\">  "
   ]
  },
  {
   "cell_type": "markdown",
   "metadata": {},
   "source": [
    "**ANSWER**: \n",
    "\n",
    "b) It returns the sum of all numbers in $\\Theta(n \\log_2{n})$\n",
    "\n",
    "c) The answers to ask for termination are the following ones:\n",
    "\n",
    "1. By repeatedly reducing input size, do we eventually end up in a branch with a return?\n",
    "2. Are we reducing input size when calling cadillac? \n",
    "\n",
    "Since the answer to both is yes, we can conclude the function will always terminate\n",
    "\n",
    "d) **Informal argument**: we can picture the time spent in slice creation ad recursive calls like this:\n",
    "\n",
    "```\n",
    "                n                       recursion level\n",
    "|-------------------------------|       1  \n",
    "|---------------|---------------|       2\n",
    "|-------|-------|-------|-------|       3\n",
    "|---|---|---|---|---|---|---|---|       .\n",
    "|-|-|-|-|-|-|-|-|-|-|-|-|-|-|-|-|       log_2(n)\n",
    "\n",
    "```\n",
    "\n",
    "Think of the internal vertical bars as the costs for calculating splitting points, placing recursive calls and summing the results obtained from calls from level below. The horizontal dashes represent the cost of copying cells when we slice.\n",
    "\n",
    "It looks like a rectangle which is always fully traversed, thereafore to compute the complexity we can multiply the sides to get $\\Theta(n \\log_2{n})$\n",
    "\n",
    "\n",
    "**Formal argument (required during exam!)**:\n",
    "\n",
    "We can apply the Master Theorem like so:\n",
    "\n",
    "$\\normalsize a = 2$ (two calls)\n",
    "\n",
    "$\\normalsize b = 2$ (input size is split in half at each call)\n",
    "\n",
    "$\\normalsize c = 1$:  recursive calls arguments are *slices*, which means a copy of the list is made prior to the call so we have a dependency on $n$ (which wins over other rows with $O(1)$ complexity)\n",
    "\n",
    "$\\beta = 1$ (recursive operations depend linearly on input size)\n",
    "\n",
    "to get:\n",
    "\n",
    "$\\large T(n) =  2 T(n/2) + 1n^1$\n",
    "\n",
    "$\\large \\alpha = \\frac{log{a}} {log{b}} = \\frac{\\log{2}}{\\log{2}} = 1$\n",
    "\n",
    "We are in the case $\\normalsize \\alpha = \\beta$ as $\\normalsize 1 = 1$,  so we can confirm the estimation:\n",
    "\n",
    "$\\large T(n) = \\Theta(n^\\alpha \\log{n}) = \\Theta(n^1 \\log{n}) =  \\Theta(n\\log{n})$"
   ]
  },
  {
   "cell_type": "raw",
   "id": "2dc78ebe",
   "metadata": {
    "format": "text/html"
   },
   "source": [
    "</div>"
   ]
  },
  {
   "cell_type": "markdown",
   "metadata": {},
   "source": [
    "### Exercise - ducati\n",
    "\n",
    "The following function is similar to the previous one, but doesn't create slices\n",
    "\n",
    "* `lst` : list of $n$ integers\n",
    "* `i` : left integer index _included_\n",
    "* `j` : right integer index _excluded_\n",
    "\n",
    "\n",
    "a). Does it behave the same? \n",
    "\n",
    "b). What's the time complexity? Try giving both an informal argument and a precise one through the Master Theorem"
   ]
  },
  {
   "cell_type": "code",
   "execution_count": 39,
   "metadata": {},
   "outputs": [],
   "source": [
    "def ducati_rec(lst, i,j):    \n",
    "    interval =  j - i              \n",
    "    \n",
    "    if interval == 0:              \n",
    "        return 0                   \n",
    "    \n",
    "    if interval == 1:              \n",
    "        return lst[i]              \n",
    "    \n",
    "    k = i + (interval // 2)        \n",
    "    p = ducati_rec(lst,i,k)        \n",
    "    q = ducati_rec(lst,k,j)        \n",
    "    return p + q                       \n",
    "\n",
    "def ducati(lst):                   \n",
    "    return ducati_rec(lst,0,len(lst))    "
   ]
  },
  {
   "cell_type": "raw",
   "id": "b67fb124",
   "metadata": {
    "format": "text/html"
   },
   "source": [
    "<a  class=\"jupman-sol jupman-sol-toggler\" \n",
    " onclick=\"jupman.toggleSolution(this);\" \n",
    " data-jupman-show=\"Show answer\" data-jupman-hide=\"Hide\">Show answer</a><div class=\"jupman-sol jupman-sol-question\" style=\"display:none\">  "
   ]
  },
  {
   "cell_type": "markdown",
   "metadata": {},
   "source": [
    "**ANSWER**: \n",
    "\n",
    "a) It's still a sum of the elements, but executes faster, the complexity is $\\Theta(n)$\n",
    "\n",
    "b) **Informal argument**: notice this time we are not creating slices, we only calculate the splitting points $log_2(n)$, times and only at the very end of recursion we extract $n$ values from the list to sum them up, so splitting points are much sparser than the number of cells and we can see that visually represent the internal nodes of a full binary tree of height $\\log_2{n}$ which is always fully traversed, with the leaves being the single cells. [Discrete math theory](https://en.wikipedia.org/wiki/Binary_tree#Properties_of_binary_trees) tells us are the number of internal nodes of a full binary is number the leaves minus 1, so roughly complexity should be $O(n + n - 1) = O(n)$\n",
    "\n",
    "```\n",
    "                n                       recursion level\n",
    "|                               |       1  \n",
    "|               |               |       2\n",
    "|       |       |       |       |       3\n",
    "|   |   |   |   |   |   |   |   |       .\n",
    "|-|-|-|-|-|-|-|-|-|-|-|-|-|-|-|-|       log_2(n)\n",
    "\n",
    "```\n",
    "\n",
    "```python\n",
    "def ducati_rec(lst, i,j):    \n",
    "    interval =  j - i              # 1\n",
    "    \n",
    "    if interval == 0:              # 1\n",
    "        return 0                   # 1\n",
    "    \n",
    "    if interval == 1:              # 1\n",
    "        return lst[i]              # 1\n",
    "    \n",
    "    k = i + (interval // 2)        # 1\n",
    "    p = ducati_rec(lst,i,k)        # recursive call: ?\n",
    "    q = ducati_rec(lst,k,j)        # recursive call: ?\n",
    "    return p + q                   # 1    \n",
    "\n",
    "def ducati(lst):                         # 1\n",
    "    return ducati_rec(lst,0,len(lst))    # 1\n",
    "```\n",
    "\n",
    "**Formal argument (required during exam!)**:\n",
    "\n",
    "We can apply the Master Theorem like so:\n",
    "\n",
    "$\\normalsize a = 2$ (two calls)\n",
    "\n",
    "$\\normalsize b = 2$ (input size is split in half at each call)\n",
    "\n",
    "$\\normalsize c = 7$\n",
    "\n",
    "$\\beta = 0$ (although we have some constant time operations, they don't depend on input size)\n",
    "\n",
    "to get:\n",
    "\n",
    "$\\large T(n) =  2 T(n/2) + 7n^0$\n",
    "\n",
    "$\\large \\alpha = \\frac{log{a}} {log{b}} = \\frac{\\log{2}}{\\log{2}} = 1$\n",
    "\n",
    "We are in the case $\\normalsize \\alpha > \\beta$ as $\\normalsize 1 > 0$,  so we can confirm the estimation:\n",
    "\n",
    "$\\large T(n) = \\Theta(n^\\beta) = \\Theta(n^1) =  \\Theta(n)$"
   ]
  },
  {
   "cell_type": "raw",
   "id": "9aa6819e",
   "metadata": {
    "format": "text/html"
   },
   "source": [
    "</div>"
   ]
  },
  {
   "cell_type": "markdown",
   "metadata": {},
   "source": [
    "## Analysis - more exercises\n",
    "\n",
    "\n",
    "[Theory exercises (complexity, tree visits, graph visits) - by Alberto Montresor](https://drive.google.com/drive/folders/1RwjiSvIq60Z9mj_gCd5K2E6Bj9y1R0CL)\n"
   ]
  },
  {
   "cell_type": "code",
   "execution_count": null,
   "metadata": {},
   "outputs": [],
   "source": []
  }
 ],
 "metadata": {
  "celltoolbar": "Edit Metadata",
  "kernelspec": {
   "display_name": "Python 3 (ipykernel)",
   "language": "python",
   "name": "python3"
  },
  "language_info": {
   "codemirror_mode": {
    "name": "ipython",
    "version": 3
   },
   "file_extension": ".py",
   "mimetype": "text/x-python",
   "name": "python",
   "nbconvert_exporter": "python",
   "pygments_lexer": "ipython3",
   "version": "3.7.13"
  },
  "toc": {
   "base_numbering": 1,
   "nav_menu": {},
   "number_sections": false,
   "sideBar": true,
   "skip_h1_title": false,
   "title_cell": "Table of Contents",
   "title_sidebar": "Contents",
   "toc_cell": false,
   "toc_position": {},
   "toc_section_display": true,
   "toc_window_display": true
  }
 },
 "nbformat": 4,
 "nbformat_minor": 4
}
