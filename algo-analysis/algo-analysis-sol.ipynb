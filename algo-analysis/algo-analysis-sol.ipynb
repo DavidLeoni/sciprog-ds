{
 "cells": [
  {
   "cell_type": "markdown",
   "metadata": {},
   "source": [
    "# Algorithm analysis and recursion\n",
    "\n",
    "[Download exercises zip](../_static/generated/algo-analysis.zip)\n",
    "\n",
    "[Browse files online](https://github.com/DavidLeoni/sciprog-ds/tree/master/algo-analysis)\n",
    "\n",
    "## Introduction\n",
    "\n",
    "Life's too easy so let's complicate it, shall we?\n",
    "\n",
    "Are you ready to fight the invisible enemy of computational complexity? If not, please read the references first:\n",
    "\n",
    "- [Luca Bianco's Introduction to algorithms slides](https://sciproalgo2020.readthedocs.io/en/latest/slides/Lecture1.pdf)\n",
    "- [Luca Bianco's Algorithms and complexity slides](https://sciproalgo2020.readthedocs.io/en/latest/slides/Lecture2.pdf)\n",
    "- [Python DS Chapter 2.6: Algorithm analysis](https://runestone.academy/runestone/books/published/pythonds/AlgorithmAnalysis/toctree.html)\n"
   ]
  },
  {
   "cell_type": "markdown",
   "metadata": {},
   "source": [
    "\n",
    "## List performance\n",
    "\n",
    "Python lists are generic containers, they are useful in a variety of scenarios but sometimes their perfomance  can be disappointing, so it's best to know and avoid potentially expensive operations.\n",
    "Table from [the Python DS book Chapter 2.6: Lists](https://runestone.academy/runestone/books/published/pythonds/AlgorithmAnalysis/Lists.html):\n",
    "\n",
    "|Operation        |Big-O Efficiency|Operation        |Big-O Efficiency |\n",
    "|-----------------|----------------|-----------------|-----------------|\n",
    "|index []         | $O(1)$         |`in` (contains)  | $O(n)$          |\n",
    "|index assignment | $O(1)$         |get slice `[x:y]`| $O(k)$          |\n",
    "|append           | $O(1)$         |del slice        | $O(n)$          |\n",
    "|pop()            | $O(1)$         |set slice        | $O(n+k)$        |\n",
    "|pop(i)           | $O(n)$         |reverse          | $O(n)$          |\n",
    "|extend(lb)       | $O(m)$         |la `+` lb        | $O(n+m)$        | \n",
    "|insert(i,item)   | $O(n)$         |sort             | $O(n  \\log{n})$ |\n",
    "|del operator     | $O(n)$         |multiply         | $O(nk)$         |\n",
    "|remove           | $O(n)$         |min              | $O(n)$          |\n",
    "|iteration        | $O(n)$         |max              | $O(n)$          |\n",
    "|len(lst)         | $O(1)$         |sum              | $O(n)$          |\n",
    "|equality         | $O(n)$         |                 |                 |\n"
   ]
  },
  {
   "cell_type": "markdown",
   "metadata": {},
   "source": [
    "\n",
    "### Fast or not?\n",
    "\n",
    "Given a list `x` of $n$ characters, for each of the following expressions, try giving the complexity:\n",
    "\n",
    "1.  ```python\n",
    "    x[n // 2]\n",
    "    ```\n",
    "1.  ```python   \n",
    "    x[n // 2] = 'd'\n",
    "    ```\n",
    "1.  ```python   \n",
    "    x.append('c')\n",
    "    ```\n",
    "1.  ```python   \n",
    "    x.insert(0, 'd') \n",
    "    ```\n",
    "1.  ```python   \n",
    "    x + x\n",
    "    ```    \n",
    "1.  ```python   \n",
    "    x[3:5]\n",
    "    ```\n",
    "1.  ```python       \n",
    "    x.sort()\n",
    "    ```\n",
    "1.  ```python       \n",
    "    len(x)\n",
    "    ```\n",
    "1.  ```python   \n",
    "    x.pop(1)\n",
    "    ```\n",
    "1.  ```python       \n",
    "    x.pop(-1)\n",
    "    ```\n",
    "1.  ```python   \n",
    "    'z' in x\n",
    "    ```\n",
    "1.  ```python       \n",
    "    x.extend(1000)\n",
    "    ```        \n",
    "1.  ```python\n",
    "    y = [c for c in x]\n",
    "    ```    \n",
    "1.  ```python    \n",
    "    list(range(n)) == list(range(n))\n",
    "    ```"
   ]
  },
  {
   "cell_type": "markdown",
   "metadata": {},
   "source": [
    "### Sublist iteration performance\n",
    "\n",
    "`get slice` time complexity is $O(k)$, but what about memory? It's the same!\n",
    "\n",
    "So if you want to iterate a part of a list, beware of slicing! For example, depending pn Python version you have, slicing a list like this can occupy much more memory than necessary:"
   ]
  },
  {
   "cell_type": "code",
   "execution_count": 1,
   "metadata": {},
   "outputs": [
    {
     "name": "stdout",
     "output_type": "stream",
     "text": [
      "[200, 202, 204, 206, 208, 210, 212, 214, 216, 218, 220, 222, 224, 226, 228, 230, 232, 234, 236, 238, 240, 242, 244, 246, 248, 250, 252, 254, 256, 258, 260, 262, 264, 266, 268, 270, 272, 274, 276, 278, 280, 282, 284, 286, 288, 290, 292, 294, 296, 298, 300, 302, 304, 306, 308, 310, 312, 314, 316, 318, 320, 322, 324, 326, 328, 330, 332, 334, 336, 338, 340, 342, 344, 346, 348, 350, 352, 354, 356, 358, 360, 362, 364, 366, 368, 370, 372, 374, 376, 378, 380, 382, 384, 386, 388, 390, 392, 394, 396, 398]\n"
     ]
    }
   ],
   "source": [
    "                 #                               memory occupied\n",
    "r = range(1000)  # Python 2 creates a list:           O(n)\n",
    "                 # Python 3 creates a 'range' object: O(1)\n",
    "    \n",
    "#                                   same for range slices: memory occupied\n",
    "print([2*y for y in r[100:200]])  #  x[100:200] Python 2        O(k)\n",
    "                                  #             Python 3        O(1)"
   ]
  },
  {
   "cell_type": "markdown",
   "metadata": {},
   "source": [
    "The reason is that, according to your Python interpreter, slicing like `r[100:200]`at loop start can create a _new_ list. If we want to explicitly tell Python we just want to iterate through a sequence, we can use the so-called <a href=\"https://docs.python.org/2/library/itertools.html\" target=\"_blank\">itertools</a>. In particular, the <a href=\"https://docs.python.org/2/library/itertools.html#itertools.islice\" target=\"_blank\"> islice </a> method is handy, we can rewrite the list comprehension above with it like this:"
   ]
  },
  {
   "cell_type": "code",
   "execution_count": 2,
   "metadata": {
    "scrolled": true
   },
   "outputs": [
    {
     "name": "stdout",
     "output_type": "stream",
     "text": [
      "[200, 202, 204, 206, 208, 210, 212, 214, 216, 218, 220, 222, 224, 226, 228, 230, 232, 234, 236, 238, 240, 242, 244, 246, 248, 250, 252, 254, 256, 258, 260, 262, 264, 266, 268, 270, 272, 274, 276, 278, 280, 282, 284, 286, 288, 290, 292, 294, 296, 298, 300, 302, 304, 306, 308, 310, 312, 314, 316, 318, 320, 322, 324, 326, 328, 330, 332, 334, 336, 338, 340, 342, 344, 346, 348, 350, 352, 354, 356, 358, 360, 362, 364, 366, 368, 370, 372, 374, 376, 378, 380, 382, 384, 386, 388, 390, 392, 394, 396, 398]\n"
     ]
    }
   ],
   "source": [
    "import itertools\n",
    "\n",
    "r = range(1000)\n",
    "\n",
    "print([2*y for y in itertools.islice(r, 100, 200)])"
   ]
  },
  {
   "cell_type": "markdown",
   "metadata": {},
   "source": [
    "## Some formulas\n",
    "\n",
    "$$\n",
    "\\begin{gather*}\n",
    "& & & & && \\text{Complexity}\\\\\n",
    "1 + 2 + 3 + \\dots + n & = & \\sum_{i=1}^n{i} & = & \\frac{n^2+n}{2} && O(n^2) \\\\\n",
    "1^2 + 2^2 + 3^2 + \\dots + n^2 & = & \\sum_{i=1}^n{i^2} & = & \\frac{n(n+1)(2n+1)}{6}  && O(n^3) \\\\\n",
    "\\end{gather*}\n",
    "$$"
   ]
  },
  {
   "cell_type": "markdown",
   "metadata": {},
   "source": [
    "## Lists - exercises\n",
    "\n",
    "Who's the fastest? Let's start the racing game!\n",
    "\n",
    "For each of the following code samples, try giving the worst-case running time in Big O notation."
   ]
  },
  {
   "cell_type": "markdown",
   "metadata": {},
   "source": [
    "### Exercise - rollsroyce\n",
    "\n",
    "* `x` : int\n",
    "* `lst` : list of $n$ integers"
   ]
  },
  {
   "cell_type": "code",
   "execution_count": 3,
   "metadata": {},
   "outputs": [],
   "source": [
    "def rollsroyce(x, lst):\n",
    "    return x in lst"
   ]
  },
  {
   "cell_type": "raw",
   "id": "0523e07e",
   "metadata": {
    "format": "text/html"
   },
   "source": [
    "<a  class=\"jupman-sol jupman-sol-toggler\" \n",
    " onclick=\"jupman.toggleSolution(this);\" \n",
    " data-jupman-show=\"Show answer\" data-jupman-hide=\"Hide\">Show answer</a><div class=\"jupman-sol jupman-sol-question\" style=\"display:none\">  "
   ]
  },
  {
   "cell_type": "markdown",
   "metadata": {},
   "source": [
    "**ANSWER**:  $O(n)$ if we assume integer comparison is $O(1)$, which typically is the case in most programs we write. Note that differently from most programming languages, Python actually allows _unbounded_ integers, but for the purposes of this course you can safely consider occupied memory for integers as constant."
   ]
  },
  {
   "cell_type": "raw",
   "id": "d8bfed96",
   "metadata": {
    "format": "text/html"
   },
   "source": [
    "</div>"
   ]
  },
  {
   "cell_type": "markdown",
   "metadata": {},
   "source": [
    "### Exercise - honda\n",
    "\n",
    "* `x`  : list of $m$ elements\n",
    "* `lst`: list of lists with $n$ rows and $m$ columns"
   ]
  },
  {
   "cell_type": "code",
   "execution_count": 4,
   "metadata": {},
   "outputs": [],
   "source": [
    "def honda(x, lst):\n",
    "    return x in lst"
   ]
  },
  {
   "cell_type": "raw",
   "id": "dd3a94eb",
   "metadata": {
    "format": "text/html"
   },
   "source": [
    "<a  class=\"jupman-sol jupman-sol-toggler\" \n",
    " onclick=\"jupman.toggleSolution(this);\" \n",
    " data-jupman-show=\"Show answer\" data-jupman-hide=\"Hide\">Show answer</a><div class=\"jupman-sol jupman-sol-question\" style=\"display:none\">  "
   ]
  },
  {
   "cell_type": "markdown",
   "metadata": {},
   "source": [
    "**ANSWER**: $O(n m)$ \n",
    "\n",
    "In this case Python has to do a lot of work in performing comparisons:\n",
    "\n",
    "```\n",
    "          0,1,2,3,4 ... m\n",
    "       x=[3,4,2,6,7,2,6,8]\n",
    "       \n",
    "    lst=[[0,0,0,0,0,0,0,0],  # 0 \n",
    "         [1,1,1,1,1,1,1,1],  # 1\n",
    "         [2,2,2,2,2,2,2,2],  # 2\n",
    "         [3,3,3,3,3,3,3,3],  # 3\n",
    "         [4,4,4,4,4,4,4,4],  # 4\n",
    "         [5,5,5,5,5,5,5,5],  # 5\n",
    "         [6,6,6,6,6,6,6,6],  # 6\n",
    "         [3,4,2,6,7,2,6,8],  # n  <--- worst case scenario: matching list at the end           \n",
    "        ]                              (or not present at all), \n",
    "                                       need to compare all elements in all rows             \n",
    "```"
   ]
  },
  {
   "cell_type": "raw",
   "id": "7fd55e4a",
   "metadata": {
    "format": "text/html"
   },
   "source": [
    "</div>"
   ]
  },
  {
   "cell_type": "markdown",
   "metadata": {},
   "source": [
    "### Exercise - lamborghini\n",
    "\n",
    "* `lst` : list of $n$ elements\n",
    "* `m`   : int"
   ]
  },
  {
   "cell_type": "code",
   "execution_count": 5,
   "metadata": {},
   "outputs": [],
   "source": [
    "def lamborghini(lst, m):\n",
    "    return lst * m"
   ]
  },
  {
   "cell_type": "raw",
   "id": "21e775bd",
   "metadata": {
    "format": "text/html"
   },
   "source": [
    "<a  class=\"jupman-sol jupman-sol-toggler\" \n",
    " onclick=\"jupman.toggleSolution(this);\" \n",
    " data-jupman-show=\"Show answer\" data-jupman-hide=\"Hide\">Show answer</a><div class=\"jupman-sol jupman-sol-question\" style=\"display:none\">  "
   ]
  },
  {
   "cell_type": "markdown",
   "metadata": {},
   "source": [
    "**ANSWER**: $O(n*m)$\n",
    "\n",
    "```python             \n",
    ">>> lamborghini(['a','b','c'], 5)\n",
    "\n",
    "#|-----n------|-------n------|-------n------|-------n------|-------n------|\n",
    "['a', 'b', 'c', 'a', 'b', 'c', 'a', 'b', 'c', 'a', 'b', 'c', 'a', 'b', 'c']\n",
    "```"
   ]
  },
  {
   "cell_type": "raw",
   "id": "3313fa36",
   "metadata": {
    "format": "text/html"
   },
   "source": [
    "</div>"
   ]
  },
  {
   "cell_type": "markdown",
   "metadata": {},
   "source": [
    "### Exercise - maserati\n",
    "\n",
    "* `lst` : list of $n$ elements\n",
    "* `m`   : int"
   ]
  },
  {
   "cell_type": "code",
   "execution_count": 6,
   "metadata": {},
   "outputs": [],
   "source": [
    "def maserati(lst, m):\n",
    "    return [m for el in lst]"
   ]
  },
  {
   "cell_type": "raw",
   "id": "bd8944ba",
   "metadata": {
    "format": "text/html"
   },
   "source": [
    "<a  class=\"jupman-sol jupman-sol-toggler\" \n",
    " onclick=\"jupman.toggleSolution(this);\" \n",
    " data-jupman-show=\"Show answer\" data-jupman-hide=\"Hide\">Show answer</a><div class=\"jupman-sol jupman-sol-question\" style=\"display:none\">  "
   ]
  },
  {
   "cell_type": "markdown",
   "metadata": {},
   "source": [
    "**ANSWER**: $O(n)$\n",
    "\n",
    "List comprehension:\n",
    "\n",
    "- visit `lst`: cost is $O(n)$        \n",
    "- generate a new list: in this case places constants in each cell, so cost is $O(n)$\n",
    "\n",
    "$O(n + n)=O(2n)=O(n)$ "
   ]
  },
  {
   "cell_type": "raw",
   "id": "02521fb4",
   "metadata": {
    "format": "text/html"
   },
   "source": [
    "</div>"
   ]
  },
  {
   "cell_type": "markdown",
   "metadata": {},
   "source": [
    "### Exercise - toyota\n",
    "\n",
    "* `lst` : list of $n$ elements\n",
    "* `m` : int\n",
    "\n",
    "**HINT**: try rewriting code as a `for`, then add costs"
   ]
  },
  {
   "cell_type": "code",
   "execution_count": 7,
   "metadata": {},
   "outputs": [],
   "source": [
    "def toyota(lst, m):\n",
    "    return [lst[:m] for el in lst]"
   ]
  },
  {
   "cell_type": "raw",
   "id": "a24ec1f0",
   "metadata": {
    "format": "text/html"
   },
   "source": [
    "<a  class=\"jupman-sol jupman-sol-toggler\" \n",
    " onclick=\"jupman.toggleSolution(this);\" \n",
    " data-jupman-show=\"Show answer\" data-jupman-hide=\"Hide\">Show answer</a><div class=\"jupman-sol jupman-sol-question\" style=\"display:none\">  "
   ]
  },
  {
   "cell_type": "markdown",
   "metadata": {},
   "source": [
    "**ANSWER**: $O(n  m)$\n",
    "\n",
    "We can rewrite the code like this:\n",
    "\n",
    "```python\n",
    "def toyota2(lst, m):\n",
    "    ret = []                 #  1\n",
    "    for el in lst:           #  n iterations\n",
    "        sub = lst[:m]        #      building m cells\n",
    "        ret.append(sub)      #      1\n",
    "    return ret               #  1\n",
    "\n",
    "```\n",
    "\n",
    "$$\n",
    "\\begin{align}\n",
    "O(1 + n(m + 1) + 1) &= O(1 + nm + n + 1)\\\\\n",
    "&=  O(nm + n )\\\\\n",
    "&= O(nm)\\\\\n",
    "\\end{align}\n",
    "$$"
   ]
  },
  {
   "cell_type": "raw",
   "id": "f1d54af0",
   "metadata": {
    "format": "text/html"
   },
   "source": [
    "</div>"
   ]
  },
  {
   "cell_type": "markdown",
   "metadata": {},
   "source": [
    "### Exercise - mercedes\n",
    "\n",
    "* `lst` : list of $n$ elements "
   ]
  },
  {
   "cell_type": "code",
   "execution_count": 8,
   "metadata": {},
   "outputs": [],
   "source": [
    "def mercedes(lst):\n",
    "    for i in range(len(lst)):\n",
    "        lst.append('z')\n",
    "    return lst"
   ]
  },
  {
   "cell_type": "raw",
   "id": "3c1c88b5",
   "metadata": {
    "format": "text/html"
   },
   "source": [
    "<a  class=\"jupman-sol jupman-sol-toggler\" \n",
    " onclick=\"jupman.toggleSolution(this);\" \n",
    " data-jupman-show=\"Show answer\" data-jupman-hide=\"Hide\">Show answer</a><div class=\"jupman-sol jupman-sol-question\" style=\"display:none\">  "
   ]
  },
  {
   "cell_type": "markdown",
   "metadata": {},
   "source": [
    "**ANSWER**: $O(n)$\n",
    "\n",
    "```python\n",
    "def mercedes(lst):\n",
    "    for i in range(len(lst)):      # n iterations\n",
    "        lst.append('z')            #     1 \n",
    "    return lst                     # 1\n",
    "```\n",
    "\n",
    "$O(n*1 + 1) = O(n)$\n",
    "\n",
    "Note `append` has an amortized cost of  $O(1)$,  so $n$ calls to `append` give $O(n)$"
   ]
  },
  {
   "cell_type": "raw",
   "id": "886eae9f",
   "metadata": {
    "format": "text/html"
   },
   "source": [
    "</div>"
   ]
  },
  {
   "cell_type": "markdown",
   "metadata": {},
   "source": [
    "### Exercise - acura\n",
    "\n",
    "* `lst` : list of $n$ elements\n",
    "* `m` : int"
   ]
  },
  {
   "cell_type": "code",
   "execution_count": 9,
   "metadata": {},
   "outputs": [],
   "source": [
    "def acura(lst, m):\n",
    "    return lst[:m] + lst"
   ]
  },
  {
   "cell_type": "raw",
   "id": "98b42030",
   "metadata": {
    "format": "text/html"
   },
   "source": [
    "<a  class=\"jupman-sol jupman-sol-toggler\" \n",
    " onclick=\"jupman.toggleSolution(this);\" \n",
    " data-jupman-show=\"Show answer\" data-jupman-hide=\"Hide\">Show answer</a><div class=\"jupman-sol jupman-sol-question\" style=\"display:none\">  "
   ]
  },
  {
   "cell_type": "markdown",
   "metadata": {},
   "source": [
    "**ANSWER**: $O(n)$\n",
    "\n",
    "We can rewrite like this:\n",
    "\n",
    "```python\n",
    "def acura2(lst, m):\n",
    "    sub = lst[:m]     # m\n",
    "    ret = sub + lst   # m + n  \n",
    "    return ret        # 1\n",
    "```\n",
    "\n",
    "$O(m + m + n + 1) = O(n)$ in this case because the sublist is at most `n` long."
   ]
  },
  {
   "cell_type": "raw",
   "id": "6c1bd507",
   "metadata": {
    "format": "text/html"
   },
   "source": [
    "</div>"
   ]
  },
  {
   "cell_type": "markdown",
   "metadata": {},
   "source": [
    "### Exercise - alfaromeo\n",
    "\n",
    "* `lst` : list of $n$ elements"
   ]
  },
  {
   "cell_type": "code",
   "execution_count": 10,
   "metadata": {},
   "outputs": [],
   "source": [
    "def alfaromeo(lst):\n",
    "    return [(lst[0] + lst[-1]) for i in range(len(lst))]"
   ]
  },
  {
   "cell_type": "raw",
   "id": "49f05212",
   "metadata": {
    "format": "text/html"
   },
   "source": [
    "<a  class=\"jupman-sol jupman-sol-toggler\" \n",
    " onclick=\"jupman.toggleSolution(this);\" \n",
    " data-jupman-show=\"Show answer\" data-jupman-hide=\"Hide\">Show answer</a><div class=\"jupman-sol jupman-sol-question\" style=\"display:none\">  "
   ]
  },
  {
   "cell_type": "markdown",
   "metadata": {},
   "source": [
    "**ANSWER**: $O(n)$\n",
    "\n",
    "We can rewrite it like this:\n",
    "\n",
    "```python\n",
    "def alfaromeo2(lst):\n",
    "    ret = []                     # 1\n",
    "    for i in range(len(list)):   # n iterations\n",
    "        sub = lst[0] + lst[1]    #     access lst[0] : 1\n",
    "                                 #     access lst[1] : 1\n",
    "                                 #     build sub : 2\n",
    "        ret.append(sub)          #     1\n",
    "    return ret                   # 1\n",
    "```\n",
    "\n",
    "$O(1 + n(1 + 1 + 2) + 1) = O(4n + 2) = O(n)$"
   ]
  },
  {
   "cell_type": "raw",
   "id": "6349fde5",
   "metadata": {
    "format": "text/html"
   },
   "source": [
    "</div>"
   ]
  },
  {
   "cell_type": "markdown",
   "metadata": {},
   "source": [
    "### Exercise - jeep\n",
    "\n",
    "`lst` : list of $n$ elements"
   ]
  },
  {
   "cell_type": "code",
   "execution_count": 11,
   "metadata": {},
   "outputs": [],
   "source": [
    "def jeep(lst):\n",
    "    return [lst[:i] for i in range(len(1,lst))]"
   ]
  },
  {
   "cell_type": "raw",
   "id": "729a7c20",
   "metadata": {
    "format": "text/html"
   },
   "source": [
    "<a  class=\"jupman-sol jupman-sol-toggler\" \n",
    " onclick=\"jupman.toggleSolution(this);\" \n",
    " data-jupman-show=\"Show answer\" data-jupman-hide=\"Hide\">Show answer</a><div class=\"jupman-sol jupman-sol-question\" style=\"display:none\">  "
   ]
  },
  {
   "cell_type": "markdown",
   "metadata": {},
   "source": [
    "**ANSWER**: $O(n^2)$\n",
    "\n",
    "```python\n",
    "jeep(['a','b','c','d','e','f','g'])\n",
    "```\n",
    "\n",
    "Building lists: \n",
    "``` \n",
    " a            1\n",
    " ab           2 \n",
    " abc          3\n",
    " abcd         4 \n",
    " abcde        .\n",
    " abcdef       .\n",
    " abcdefg      n\n",
    " 1234..n\n",
    "```\n",
    "\n",
    "It looks like a square triangle with side `n`, so it takes $\\displaystyle\\sum_{i=1}^n{i}=\\frac{n^2+n}{2}$ operations\n",
    "\n",
    "Then it collects the $n$ sublists into one big list, costing $n$, so $\\displaystyle O\\left(\\frac{n^2+n}{2} + n\\right) = O(n^2/2) = O(n^2)$\n"
   ]
  },
  {
   "cell_type": "raw",
   "id": "eb69f67a",
   "metadata": {
    "format": "text/html"
   },
   "source": [
    "</div>"
   ]
  },
  {
   "cell_type": "markdown",
   "metadata": {},
   "source": [
    "### Exercise - chevrolet\n",
    "\n",
    "`lst` : list of $n$ elements"
   ]
  },
  {
   "cell_type": "code",
   "execution_count": 12,
   "metadata": {},
   "outputs": [],
   "source": [
    "def chevrolet(lst):\n",
    "    for i in range(len(lst)):\n",
    "        lst.insert(0,'z')\n",
    "    return lst"
   ]
  },
  {
   "cell_type": "raw",
   "id": "a7e0cea4",
   "metadata": {
    "format": "text/html"
   },
   "source": [
    "<a  class=\"jupman-sol jupman-sol-toggler\" \n",
    " onclick=\"jupman.toggleSolution(this);\" \n",
    " data-jupman-show=\"Show answer\" data-jupman-hide=\"Hide\">Show answer</a><div class=\"jupman-sol jupman-sol-question\" style=\"display:none\">  "
   ]
  },
  {
   "cell_type": "markdown",
   "metadata": {},
   "source": [
    "**ANSWER**: $O(n^2)$\n",
    "\n",
    "Calling `insert` inside the list at the beginning takes $O(n)$ since Python has to shift all the following elements of one position. In this case at each call the list grows, so we have a situation like this:\n",
    "\n",
    "```\n",
    ">>> chevrolet(['a','b','c','d','e'])\n",
    "\n",
    "# abcde\n",
    "# zabcde      n    1\n",
    "# zzabcde     n+1  2\n",
    "# zzzabcde    n+2  3\n",
    "# zzzzabcde   n+3  4\n",
    "# zzzzzabcde  n+4  n\n",
    "# |-n-||-n-|\n",
    "```\n",
    "\n",
    "It looks like a kind of $n*n$ block with a triangle attached to it, thus:\n",
    "\n",
    "$$\n",
    "\\begin{align}\n",
    "O(n^2 + \\frac{n^2 + n}{2}) = O(n^2)\n",
    "\\end{align}\n",
    "$$"
   ]
  },
  {
   "cell_type": "raw",
   "id": "dbe0a878",
   "metadata": {
    "format": "text/html"
   },
   "source": [
    "</div>"
   ]
  },
  {
   "cell_type": "markdown",
   "metadata": {},
   "source": [
    "### Exercise - kia\n",
    "\n",
    "`lst` : list of $n$ characters\n",
    "\n",
    "1. What is the _worst_ case complexity?\n",
    "1. What is the _best_ case complexity?"
   ]
  },
  {
   "cell_type": "code",
   "execution_count": 13,
   "metadata": {},
   "outputs": [],
   "source": [
    "def kia(lst):\n",
    "    for i in range(len(lst) // 2):\n",
    "        lst.remove('c')        "
   ]
  },
  {
   "cell_type": "raw",
   "id": "efd83c59",
   "metadata": {
    "format": "text/html"
   },
   "source": [
    "<a  class=\"jupman-sol jupman-sol-toggler\" \n",
    " onclick=\"jupman.toggleSolution(this);\" \n",
    " data-jupman-show=\"Show answer\" data-jupman-hide=\"Hide\">Show answer</a><div class=\"jupman-sol jupman-sol-question\" style=\"display:none\">  "
   ]
  },
  {
   "cell_type": "markdown",
   "metadata": {},
   "source": [
    "**ANSWER**: \n",
    "\n",
    "```python\n",
    "def kia(lst):\n",
    "                                       #  len(lst)//2 calculation :  1   \n",
    "    for i in range(len(lst) // 2):     #  n / 2  iterations\n",
    "        lst.remove('c')                #       n\n",
    "```\n",
    "\n",
    "1) worst case: if list has at least $n/2$ `'c'`, we have $O(1 + n/2 * n) = O(n^2/2) = O(n^2)$\n",
    "\n",
    "Note `remove` only removes the first element found, and raises an exception if not found. So to actually have `O(n^2)` complexity without the function terminating early, we would need to be in worst case scenario where we have `n//2` characters `'c'`  in our list \n",
    "\n",
    "2) best case: no `'c'` charactersare present, so `remove` searches all list in $O(n)$ and terminates immediately by raising an exception"
   ]
  },
  {
   "cell_type": "raw",
   "id": "79fa186b",
   "metadata": {
    "format": "text/html"
   },
   "source": [
    "</div>"
   ]
  },
  {
   "cell_type": "markdown",
   "metadata": {},
   "source": [
    "### Exercise - aston_martin\n"
   ]
  },
  {
   "cell_type": "markdown",
   "metadata": {},
   "source": [
    "`lst`: list of $n$ elements"
   ]
  },
  {
   "cell_type": "code",
   "execution_count": 14,
   "metadata": {},
   "outputs": [],
   "source": [
    "def aston_martin(lst):    \n",
    "    ret = []                             \n",
    "    if lst[0] > 5:                       \n",
    "                                         \n",
    "        for i in range(len(lst)):        \n",
    "            for j in range(len(lst)):    \n",
    "                ret.append(lst[i])       \n",
    "    else:                                \n",
    "        for i in range(len(lst)):        \n",
    "            ret.append(lst[i] * 2)       \n",
    "    return ret                           "
   ]
  },
  {
   "cell_type": "raw",
   "id": "01247877",
   "metadata": {
    "format": "text/html"
   },
   "source": [
    "<a  class=\"jupman-sol jupman-sol-toggler\" \n",
    " onclick=\"jupman.toggleSolution(this);\" \n",
    " data-jupman-show=\"Show answer\" data-jupman-hide=\"Hide\">Show answer</a><div class=\"jupman-sol jupman-sol-question\" style=\"display:none\">  "
   ]
  },
  {
   "cell_type": "markdown",
   "metadata": {},
   "source": [
    "**ANSWER**: $O(n^2)$\n",
    "\n",
    "```python\n",
    "def aston_martin(lst):\n",
    "    ret = []                             #   1\n",
    "    if lst[0] > 5:                       #   1        \n",
    "                                         #   THEN branch: \n",
    "        for i in range(len(lst)):        #       n iterations\n",
    "            for j in range(len(lst)):    #           n iterations\n",
    "                ret.append(lst[i])       #               append: 1, element access: 1\n",
    "    else:                                #   ELSE branch:\n",
    "        for i in range(len(lst)):        #       n iterations   \n",
    "            ret.append(lst[i] * 2)       #            access:1 , mul: 1, append: 1\n",
    "    return ret                           #   1\n",
    "```    \n",
    "$O(2 + \\max{(n*n*2, n*3)} + 1) = O(n^2)$"
   ]
  },
  {
   "cell_type": "raw",
   "id": "24200b9d",
   "metadata": {
    "format": "text/html"
   },
   "source": [
    "</div>"
   ]
  },
  {
   "cell_type": "markdown",
   "metadata": {},
   "source": [
    "### Exercise - subaru\n",
    "\n",
    "* `mat` : list of $n$ lists of $n$ elements each\n",
    "\n",
    "\n",
    "1. What's the complexity?\n",
    "2. Follow up: Can you write a more perfomant version?"
   ]
  },
  {
   "cell_type": "code",
   "execution_count": 15,
   "metadata": {},
   "outputs": [],
   "source": [
    "def subaru(mat):\n",
    "    n = len(mat)\n",
    "    ret = []\n",
    "    for i in range(n):\n",
    "        for j in range(n):\n",
    "            if i == n - j - 1:\n",
    "                ret.append(mat[i][j])\n",
    "    return ret"
   ]
  },
  {
   "cell_type": "raw",
   "id": "58a34280",
   "metadata": {
    "format": "text/html"
   },
   "source": [
    "<a  class=\"jupman-sol jupman-sol-toggler\" \n",
    " onclick=\"jupman.toggleSolution(this);\" \n",
    " data-jupman-show=\"Show answer\" data-jupman-hide=\"Hide\">Show answer</a><div class=\"jupman-sol jupman-sol-question\" style=\"display:none\">  "
   ]
  },
  {
   "cell_type": "markdown",
   "metadata": {},
   "source": [
    "**ANSWER**:\n",
    "\n",
    "1) it calculates the anti-diagonal in $O(n^2)$\n",
    "\n",
    "```python\n",
    "def subaru(mat):\n",
    "    n = len(mat)                        # 1\n",
    "    ret = []                            # 1\n",
    "    for i in range(n):                  # n iterations\n",
    "        for j in range(n):              #   n iterations\n",
    "            if i == n - j - 1:          #     minuses: 1 + 1, comparison: 1\n",
    "                ret.append(mat[i][j])   #     1 \n",
    "    return ret                          # 1 \n",
    "```\n",
    "\n",
    "$2 + O(n * n * 4) + 1 = O(n^2)$\n",
    "\n",
    "```python\n",
    "subaru([[1,4,5,7],\n",
    "        [1,4,9,5],\n",
    "        [3,4,8,2],\n",
    "        [2,6,1,5]])       \n",
    "[7, 9, 4, 2]\n",
    "```\n",
    "\n",
    "2) Since it's the anti-diagonal, we are basically extracting a line out of the matrix so we should try devising a linear time $O(n)$ algorithm, like this one:\n",
    "\n",
    "```python\n",
    "def subaru2(mat):\n",
    "    n = len(mat)                          # 1\n",
    "    ret = []                              # 1\n",
    "    for i in range(n):                    # n iterations        \n",
    "        ret.append(mat[i][n - i - 1])     #     append: 1 ,  minuses: 2, append: 1\n",
    "    return ret                            # 1 \n",
    "\n",
    "subaru2([[1,4,5,7],\n",
    "             [1,4,9,5],\n",
    "             [3,4,8,2],\n",
    "             [2,6,1,5]])\n",
    "\n",
    "[7, 9, 4, 2]\n",
    "```"
   ]
  },
  {
   "cell_type": "raw",
   "id": "cddbe512",
   "metadata": {
    "format": "text/html"
   },
   "source": [
    "</div>"
   ]
  },
  {
   "cell_type": "markdown",
   "metadata": {},
   "source": [
    "### Exercise - dodge\n",
    "\n",
    "* `mat` : list of $n$ lists of $m$ columns"
   ]
  },
  {
   "cell_type": "code",
   "execution_count": 16,
   "metadata": {},
   "outputs": [],
   "source": [
    "def dodge(mat):\n",
    "    n = len(mat)                        \n",
    "    m = len(mat[0])                     \n",
    "    ret = []                            \n",
    "    for i in range(n):                  \n",
    "        for j in range(1,m):\n",
    "            if max(mat[i][:j]) == 3:\n",
    "                ret.append(mat[i][j])   \n",
    "    return ret"
   ]
  },
  {
   "cell_type": "raw",
   "id": "ee1fa160",
   "metadata": {
    "format": "text/html"
   },
   "source": [
    "<a  class=\"jupman-sol jupman-sol-toggler\" \n",
    " onclick=\"jupman.toggleSolution(this);\" \n",
    " data-jupman-show=\"Show answer\" data-jupman-hide=\"Hide\">Show answer</a><div class=\"jupman-sol jupman-sol-question\" style=\"display:none\">  "
   ]
  },
  {
   "cell_type": "markdown",
   "metadata": {},
   "source": [
    "**ANSWER**: $O(nm^2)$\n",
    "\n",
    "We can rewrite the function like this:\n",
    "\n",
    "```python\n",
    "def dodge(mat):\n",
    "    n = len(mat)                        # 1\n",
    "    m = len(mat[0])                     # access: 1, len: 1 \n",
    "    ret = []                            # 1\n",
    "    for i in range(n):                  # n iterations\n",
    "        for j in range(1,m):            #    m iterations\n",
    "            sliced = mat[i][:j]         #       from 1 to m-1  ~ m       \n",
    "            mx = max(sliced)            #       from 1 to m-1  ~ m\n",
    "            if mx == 3:                 #       1\n",
    "                ret.append(mat[i][j])   #       append: 1 , access 1\n",
    "    return ret                          # 1\n",
    "```\n",
    "\n",
    "$O(4 + n*m*(m + m + 3) + 1) = O(nm^2 + 3nm) = O(nm^2)$"
   ]
  },
  {
   "cell_type": "raw",
   "id": "a83e0eb5",
   "metadata": {
    "format": "text/html"
   },
   "source": [
    "</div>"
   ]
  },
  {
   "cell_type": "markdown",
   "metadata": {},
   "source": [
    "### Exercise - lotus\n",
    "\n",
    "`lst` : list of $n$ elements"
   ]
  },
  {
   "cell_type": "code",
   "execution_count": 17,
   "metadata": {},
   "outputs": [],
   "source": [
    "def lotus(lst):\n",
    "    while len(lst) > 0:\n",
    "        el = lst.pop(len(lst) // 2)\n",
    "        ret.append(el)\n",
    "    return ret"
   ]
  },
  {
   "cell_type": "raw",
   "id": "6382aeef",
   "metadata": {
    "format": "text/html"
   },
   "source": [
    "<a  class=\"jupman-sol jupman-sol-toggler\" \n",
    " onclick=\"jupman.toggleSolution(this);\" \n",
    " data-jupman-show=\"Show answer\" data-jupman-hide=\"Hide\">Show answer</a><div class=\"jupman-sol jupman-sol-question\" style=\"display:none\">  "
   ]
  },
  {
   "cell_type": "markdown",
   "metadata": {},
   "source": [
    "**ANSWER**: $O(n^2)$ \n",
    "\n",
    "```python\n",
    "def lotus(lst):\n",
    "    while len(lst) > 0:               # n iterations\n",
    "        el = lst.pop(len(lst) // 2)   #     middle pop: costs n, n-1, n-2, ..... 1   ~ n \n",
    "        ret.append(el)                #     1\n",
    "    return ret                        # 1\n",
    "```   \n",
    "\n",
    "$O(n * (n + 1) + 1) = O(n^2 + n) = O(n^2)$"
   ]
  },
  {
   "cell_type": "raw",
   "id": "8974d313",
   "metadata": {
    "format": "text/html"
   },
   "source": [
    "</div>"
   ]
  },
  {
   "cell_type": "markdown",
   "metadata": {},
   "source": [
    "### Exercise - jaguar\n",
    "\n",
    "* `mat` : list of $n$ lists of $m$ columns"
   ]
  },
  {
   "cell_type": "code",
   "execution_count": 18,
   "metadata": {},
   "outputs": [],
   "source": [
    "def jaguar(mat):                                   \n",
    "    n = len(mat)                                \n",
    "    m = len(mat[0])                             \n",
    "    for i in range(1, n):                       \n",
    "        if mat[i-1][0] in mat[i]:               \n",
    "            for j in range(n-1,0,-1):           \n",
    "                mat[j] = [2*x for x in mat[j]]  \n",
    "                                                                                                \n",
    "    return mat                                  "
   ]
  },
  {
   "cell_type": "raw",
   "id": "6bb3b1da",
   "metadata": {
    "format": "text/html"
   },
   "source": [
    "<a  class=\"jupman-sol jupman-sol-toggler\" \n",
    " onclick=\"jupman.toggleSolution(this);\" \n",
    " data-jupman-show=\"Show answer\" data-jupman-hide=\"Hide\">Show answer</a><div class=\"jupman-sol jupman-sol-question\" style=\"display:none\">  "
   ]
  },
  {
   "cell_type": "markdown",
   "metadata": {},
   "source": [
    "**ANSWER**: $O(n^2m)$\n",
    "\n",
    "```python                                         \n",
    "def jaguar(mat):                                   \n",
    "    n = len(mat)                                # 1\n",
    "    m = len(mat[0])                             # access: 1 , len: 2\n",
    "    for i in range(1, n):                       # n - 1 iterations                    \n",
    "        if mat[i-1][0] in mat[i]:               #    if: 1 (in worst case always true)\n",
    "                                                #    in: m        \n",
    "            for j in range(n-1,0,-1):           #    n - 1 iterations                \n",
    "                mat[j] = [2*x for x in mat[j]]  #        m iterations\n",
    "                                                #             2*x:    1\n",
    "                                                #        assignment: 1\n",
    "    return mat                                  # 1 \n",
    "```\n",
    "$O(4 + (n-1)(m+1 + (n-1)(m*1 + 1)) + 1)$\n",
    "\n",
    "$= O(4+ n(m + nm))$\n",
    "\n",
    "$= O(nm + n^2m)$\n",
    "\n",
    "$= O(n^2m)$"
   ]
  },
  {
   "cell_type": "raw",
   "id": "d436b80e",
   "metadata": {
    "format": "text/html"
   },
   "source": [
    "</div>"
   ]
  },
  {
   "cell_type": "markdown",
   "metadata": {},
   "source": [
    "### Exercise - hyundai\n",
    "\n",
    "* `lst` : list of $n$ elements\n",
    "* `m`: integer,   $0 <= m <= n$"
   ]
  },
  {
   "cell_type": "code",
   "execution_count": 19,
   "metadata": {},
   "outputs": [],
   "source": [
    "def hyundai(lst, m):\n",
    "\n",
    "    lb = ['a' in range(m)]     \n",
    "    \n",
    "    lb.extend(lst)               \n",
    "            \n",
    "    for i in range(m):         \n",
    "        lb.remove('a')                                                "
   ]
  },
  {
   "cell_type": "raw",
   "id": "73f6a970",
   "metadata": {
    "format": "text/html"
   },
   "source": [
    "<a  class=\"jupman-sol jupman-sol-toggler\" \n",
    " onclick=\"jupman.toggleSolution(this);\" \n",
    " data-jupman-show=\"Show answer\" data-jupman-hide=\"Hide\">Show answer</a><div class=\"jupman-sol jupman-sol-question\" style=\"display:none\">  "
   ]
  },
  {
   "cell_type": "markdown",
   "metadata": {},
   "source": [
    "**ANSWER**: $O(m^2n)$\n",
    "\n",
    "```python\n",
    "def hyundai(lst, m):\n",
    "    \n",
    "    lb = ['a' in range(m)]     # m\n",
    "    \n",
    "    lb.extend(lst)             # n  \n",
    "            \n",
    "    for i in range(m):         # m\n",
    "        lb.remove('a')         #     m + n, m-1 + n, m-2 + n, .... 3 + n, 2 + n, 1 + n\n",
    "                               #     we can roughly estimate ~ m + n \n",
    "```\n",
    "\n",
    "$O(m + n +  m(m+n)) = O(m+n+m^2n + mn) = O(m^2n)$\n",
    "\n",
    "Note `remove` removes the first element it finds, and upon unsuccessful search throws an exception. In order for the function to terminate properly, it would need to find  `'a'` character for `m` times, and each call will always take $O(m + n)$ even if searched chars are at the beginning,  as element removal requires Python to shift most elements of the list  in memory anyway."
   ]
  },
  {
   "cell_type": "raw",
   "id": "38cf2ed0",
   "metadata": {
    "format": "text/html"
   },
   "source": [
    "</div>"
   ]
  },
  {
   "cell_type": "markdown",
   "metadata": {},
   "source": [
    "### Exercise - buick\n",
    "\n",
    "`lb` : list of $n$ **positive** integers\n",
    "\n",
    "**HINT**: Try giving a tight complexity bound for the function, considering we assume `lb` is only made of **positive** integers"
   ]
  },
  {
   "cell_type": "code",
   "execution_count": 1,
   "metadata": {},
   "outputs": [],
   "source": [
    "def buick(lb):    \n",
    "    la = []                                        \n",
    "    n = len(lb)                                    \n",
    "    while len(lb) > 0:                             \n",
    "        el = lb.pop()                              \n",
    "        la.insert(0,el)                            \n",
    "        if sum(la) == 10:                          \n",
    "            for i in range(n):                     \n",
    "                for j in range(n):                 \n",
    "                    la[0] += 1                     \n",
    "                                                   \n",
    "                                                   \n",
    "    return la                                      "
   ]
  },
  {
   "cell_type": "raw",
   "id": "b4b82a69",
   "metadata": {
    "format": "text/html"
   },
   "source": [
    "<a  class=\"jupman-sol jupman-sol-toggler\" \n",
    " onclick=\"jupman.toggleSolution(this);\" \n",
    " data-jupman-show=\"Show answer\" data-jupman-hide=\"Hide\">Show answer</a><div class=\"jupman-sol jupman-sol-question\" style=\"display:none\">  "
   ]
  },
  {
   "cell_type": "markdown",
   "metadata": {},
   "source": [
    "**ANSWER**: $O(n^2)$\n",
    "\n",
    "```python\n",
    "def buick(lb):    \n",
    "    la = []                                        # 1 \n",
    "    n = len(lb)                                    # 1\n",
    "    while len(lb) > 0:                             # n iterations (lb will be popped until empty)\n",
    "        el = lb.pop()                              #    pop: 1  + assignment: 1\n",
    "        la.insert(0,el)                            #    from 1 to n        \n",
    "        if sum(la) == 10:                          #    sum: from 1 to n  + if: 1\n",
    "            for i in range(n):                     #    n iterations\n",
    "                for j in range(n):                 #       n iterations\n",
    "                    la[0] += 1                     #            1                \n",
    "                                                   #       but note because of the 'if' this double for\n",
    "                                                   #       is executed *at most once per function call*\n",
    "    return la                                      # 1\n",
    "```\n",
    "\n",
    "$O(2 + n(2 + n + n + 1) + n^2 + 1) = O(n^2)$ \n",
    "\n",
    "**NOTE:**  last $n^2$ is for the expensive double `for` and was put  *outside* the while cycle computation for the following reason: from function text we know it's already unlikely `la` sum is `10`. As soon as it becomes `10`, we are going to add stuff to it (we assume all input numbers are positive). Thus, the `if` will be entered *at most once per function call*.\n",
    "\n",
    "```python\n",
    "buick([1,9,8,1,4,7,2])\n",
    "buick([1,9,8,1,4,7,3]) # triggers the double for\n",
    "```"
   ]
  },
  {
   "cell_type": "raw",
   "id": "facf9c04",
   "metadata": {
    "format": "text/html"
   },
   "source": [
    "</div>"
   ]
  },
  {
   "cell_type": "markdown",
   "metadata": {},
   "source": [
    "### Exercise - saab\n",
    "\n",
    "`lst` : list of $n$ integers\n",
    "\n",
    "a) To solve this properly you will need to resort to some classical analysis:\n",
    "\n",
    "1. for determining worst case, try proving the sum is less than another sum\n",
    "2. to see if the bound is tight, try determining the best case complexity $\\Omega$ by proving that the sum made by half of the terms (which half?) is greater than another sum: you should get the same result as worst case thus demonstrating you've got the $\\Theta$ complexity.\n",
    "\n",
    "b) Can we write a much faster function?"
   ]
  },
  {
   "cell_type": "code",
   "execution_count": 21,
   "metadata": {},
   "outputs": [],
   "source": [
    "def saab(lst):\n",
    "    \n",
    "    for i in range(1, len(lst)):        \n",
    "        lst.sort(lst[0:i])"
   ]
  },
  {
   "cell_type": "raw",
   "id": "98074211",
   "metadata": {
    "format": "text/html"
   },
   "source": [
    "<a  class=\"jupman-sol jupman-sol-toggler\" \n",
    " onclick=\"jupman.toggleSolution(this);\" \n",
    " data-jupman-show=\"Show answer\" data-jupman-hide=\"Hide\">Show answer</a><div class=\"jupman-sol jupman-sol-question\" style=\"display:none\">  "
   ]
  },
  {
   "cell_type": "markdown",
   "metadata": {},
   "source": [
    "**ANSWER**: \n",
    "\n",
    "a)\n",
    "\n",
    "```python\n",
    "def saab(lst):\n",
    "    \n",
    "    for i in range(1,len(lst)):   # n iterations    \n",
    "        lst.sort(lst[0:i])        #      lst[0:i]: 0+1+2+3+...+ n \n",
    "                                  #      sort    : 1log1 , 2log2 , 3log3 , ... , nlogn\n",
    "```\n",
    "\n",
    "\n",
    "The sort line is a bit tricky. Let's try a rough upper bound:\n",
    "\n",
    "$$\\sum_{i=1}^n{i~\\log{i}} \\leq n(n~\\log{n}) \\leq n^2~\\log{n} = O(n^2~\\log{n})$$\n",
    "\n",
    "Is it tight? We need to verify if lower bound is _at least_ $\\Omega(n^2~\\log{n})$\n",
    "\n",
    "There are many methods, let's use classical analysis and try to majorate the sum by picking half of the summation interval:\n",
    "\n",
    "$$\n",
    "\\begin{align*}\n",
    "\\sum_{i=1}^n{i~\\log{i}} &\\geq  \\sum_{i=n/2}^n{i\\log{i}}                           \\\\ \n",
    "                        &\\geq  \\frac{n}{2} \\left( \\frac{n}{2}  \\log\\frac{n}{2}\\right) \\\\\n",
    "                        &\\geq  \\frac{n^2}{4} \\left(\\log{n}-\\log{2}\\right)             \\\\ \n",
    "                        &\\geq  \\frac{n^2}{4} \\left(\\log{n}  - 1\\right)\n",
    "\\end{align*}\n",
    "$$\n",
    "\n",
    "We see that even if we limit ourselves to sum half of the interval, the summation always exceeds the $\\Omega(n^2\\log{n})$ factor, hence a tight bound for complexity is $\\Theta\\left({n^2\\log{n}}\\right)$\n",
    "\n",
    "b) all this repeated sorting is of course useless, it's sufficient to just call `sort` once:\n",
    "\n",
    "```python\n",
    "def saab_fast(lst):\n",
    "    \n",
    "    lst.sort(lst)\n",
    "```\n",
    "which takes $O(n\\log{n})$"
   ]
  },
  {
   "cell_type": "raw",
   "id": "18789ae4",
   "metadata": {
    "format": "text/html"
   },
   "source": [
    "</div>"
   ]
  },
  {
   "cell_type": "markdown",
   "metadata": {},
   "source": [
    "## Sets performance\n",
    "\n",
    "Let's review set _average_ operations costs from [Python official wiki](https://wiki.python.org/moin/TimeComplexity#set):\n",
    "\n",
    "|Operation            |Big-O Efficiency     |Operation            |Big-O Efficiency     |\n",
    "|---------------------|---------------------|---------------------|---------------------|\n",
    "|x in s               | $O(1)$              | union sa &#124; sb       |$O(n + m)$      |\n",
    "|intersection sa & sb | $O(min(n,m))$       | difference `sa-sb`  |$O(n)$               |\n",
    "|sa.difference_update(sb)| $O(m)$           | set(sequence)       |      $O(n)$         |\n",
    "| len(s)              |      $O(1)$         | min(s)              |      $O(n)$         |\n",
    "| sum(s)              |      $O(n)$         | max(s)              |      $O(n)$         |\n"
   ]
  },
  {
   "cell_type": "markdown",
   "metadata": {},
   "source": [
    "Sets are pretty fast but notice in degenerate cases we might still get $O(n)$ complexities instead of $O(1)$ (like when there too many keys collisions or with ill-devised hashing functions). For the purposes of this course but won't consider those occurrences. \n"
   ]
  },
  {
   "cell_type": "markdown",
   "metadata": {},
   "source": [
    "## Sets - exercises \n",
    "\n",
    "Find the worst case compexity in Big-O notation for each of the following exercises."
   ]
  },
  {
   "cell_type": "markdown",
   "metadata": {},
   "source": [
    "### Exercise - land_rover\n",
    "\n",
    "* `sa` : set of $n$ integers\n",
    "* `sb` : set of $m$ integers"
   ]
  },
  {
   "cell_type": "code",
   "execution_count": 22,
   "metadata": {},
   "outputs": [],
   "source": [
    "def land_rover(sa, sb):    \n",
    "    return [el in sa for el in sb]"
   ]
  },
  {
   "cell_type": "raw",
   "id": "2a3f1195",
   "metadata": {
    "format": "text/html"
   },
   "source": [
    "<a  class=\"jupman-sol jupman-sol-toggler\" \n",
    " onclick=\"jupman.toggleSolution(this);\" \n",
    " data-jupman-show=\"Show answer\" data-jupman-hide=\"Hide\">Show answer</a><div class=\"jupman-sol jupman-sol-question\" style=\"display:none\">  "
   ]
  },
  {
   "cell_type": "markdown",
   "metadata": {},
   "source": [
    "**ANSWER**: $O(m)$\n",
    "\n",
    "```python\n",
    "def land_rover(sa, sb):                  \n",
    "    return [el in sa for el in sb]          # list comprehension: m iterations\n",
    "                                            #     in set: 1\n",
    "\n",
    "```"
   ]
  },
  {
   "cell_type": "raw",
   "id": "7590a1ad",
   "metadata": {
    "format": "text/html"
   },
   "source": [
    "</div>"
   ]
  },
  {
   "cell_type": "markdown",
   "metadata": {},
   "source": [
    "### Exercise - volkswagen\n",
    "\n",
    "* `la` : list of $n$ integers\n",
    "* `lb` : list of $m$ integers"
   ]
  },
  {
   "cell_type": "code",
   "execution_count": 23,
   "metadata": {},
   "outputs": [],
   "source": [
    "def volkswagen(la, lb):\n",
    "    sa = set(la)                     \n",
    "    sc = set()                       \n",
    "    for el in lb:                    \n",
    "        if el % 2 != 0:              \n",
    "            sc.add(el)               \n",
    "    return (sa | sc) - (sa & sc)     "
   ]
  },
  {
   "cell_type": "raw",
   "id": "48366f6b",
   "metadata": {
    "format": "text/html"
   },
   "source": [
    "<a  class=\"jupman-sol jupman-sol-toggler\" \n",
    " onclick=\"jupman.toggleSolution(this);\" \n",
    " data-jupman-show=\"Show answer\" data-jupman-hide=\"Hide\">Show answer</a><div class=\"jupman-sol jupman-sol-question\" style=\"display:none\">  "
   ]
  },
  {
   "cell_type": "markdown",
   "metadata": {},
   "source": [
    "**ANSWER**: $O(n+m)$\n",
    "\n",
    "```python\n",
    "def volkswagen(la, lb):\n",
    "    sa = set(la)                     # n\n",
    "    sc = set()                       # 1\n",
    "    for el in lb:                    # m iterations \n",
    "        if el % 2 != 0:              #     1\n",
    "            sc.add(el)               #     1  \n",
    "    return (sa | sc) - (sa & sc)     # union |       : n+m\n",
    "                                     # intersection &: min(n,m)  \n",
    "                                     # difference -  : left term costs n+m\n",
    "                                     #                 NOTE: sc can have at most m elements\n",
    "```\n",
    "\n",
    "$O(n+1+m(1+1) + (n+m)+min(n,m)+n+m)=O(n+m)$"
   ]
  },
  {
   "cell_type": "raw",
   "id": "fbca8b6f",
   "metadata": {
    "format": "text/html"
   },
   "source": [
    "</div>"
   ]
  },
  {
   "cell_type": "markdown",
   "metadata": {},
   "source": [
    "### Exercise - pontiac\n",
    "\n",
    "`mat` : list of $n$ lists of $m$ integers"
   ]
  },
  {
   "cell_type": "code",
   "execution_count": 24,
   "metadata": {},
   "outputs": [],
   "source": [
    "def pontiac(mat):    \n",
    "    ret = []\n",
    "    sets = [set(row) for row in mat]         \n",
    "    for i in range(len(mat)):                \n",
    "        for s in sets:                       \n",
    "            if mat[i][0]*2 in s:             \n",
    "                ret.append(mat[i][0])        \n",
    "    return ret              "
   ]
  },
  {
   "cell_type": "raw",
   "id": "226e8b58",
   "metadata": {
    "format": "text/html"
   },
   "source": [
    "<a  class=\"jupman-sol jupman-sol-toggler\" \n",
    " onclick=\"jupman.toggleSolution(this);\" \n",
    " data-jupman-show=\"Show answer\" data-jupman-hide=\"Hide\">Show answer</a><div class=\"jupman-sol jupman-sol-question\" style=\"display:none\">  "
   ]
  },
  {
   "cell_type": "markdown",
   "metadata": {},
   "source": [
    "**ANSWER**: $O(mn + n^2)$\n",
    "\n",
    "```python\n",
    "def pontiac(mat):\n",
    "    ret = []                                 # 1\n",
    "    sets = [set(row) for row in mat]         # m * n (creating a set of m elements n times)\n",
    "    for i in range(len(mat)):                # n iterations   \n",
    "        for s in sets:                       #    n  iterations\n",
    "            if mat[i][0]*2 in s:             #        set in:  1  , mat access: 1 , mul: 1\n",
    "                ret.append(mat[i][0])        #        access: 1 , append: 1\n",
    "    return ret                               # 1 \n",
    "\n",
    "pontiac([\n",
    "    [3,5,2,5,7,2],\n",
    "    [2,2,8,7,3,4],\n",
    "    [4,1,4,1,5,6],\n",
    "])\n",
    "\n",
    "```\n",
    "\n",
    "$O(1 + mn + n(n(3+2)))=O(mn + n^2)$"
   ]
  },
  {
   "cell_type": "raw",
   "id": "e9e5577e",
   "metadata": {
    "format": "text/html"
   },
   "source": [
    "</div>"
   ]
  },
  {
   "cell_type": "markdown",
   "metadata": {},
   "source": [
    "### Exercise - volvo\n",
    "\n",
    "* `la` : list of $n$ integers\n",
    "* `lb` : list of $m$ integers"
   ]
  },
  {
   "cell_type": "code",
   "execution_count": 25,
   "metadata": {},
   "outputs": [],
   "source": [
    "\n",
    "def volvo(la, lb):\n",
    "    ret = set(lb)\n",
    "    for i in range(len(la)):\n",
    "        sli = la[i+1:]\n",
    "        if la[i] in sli:\n",
    "            ret.add(la[i])\n",
    "        for el in la:             \n",
    "            if el in ret:         \n",
    "                ret.add(el*2)     \n",
    "    return ret                    "
   ]
  },
  {
   "cell_type": "raw",
   "id": "9d821a37",
   "metadata": {
    "format": "text/html"
   },
   "source": [
    "<a  class=\"jupman-sol jupman-sol-toggler\" \n",
    " onclick=\"jupman.toggleSolution(this);\" \n",
    " data-jupman-show=\"Show answer\" data-jupman-hide=\"Hide\">Show answer</a><div class=\"jupman-sol jupman-sol-question\" style=\"display:none\">  "
   ]
  },
  {
   "cell_type": "markdown",
   "metadata": {},
   "source": [
    "**ANSWER**: $O(n^2 + m)$\n",
    "\n",
    "```python\n",
    "def volvo(la, lb):\n",
    "    ret = set(lb)                 #  m\n",
    "    for i in range(len(la)):      #  n iterations\n",
    "        sli = la[i+1:]            #      n-1, n-2,  ...... , 1              ~ n\n",
    "        if la[i] in sli:          #      in list:  n-1 , n-2 , ...... , 1   ~ n\n",
    "            ret.add(la[i])        #      la access: 1, set add: 1\n",
    "        for el in la:             #      n iterations\n",
    "            if el in ret:         #          in set: 1\n",
    "                ret.add(el*2)     #          set add: 1,  mul: 1 \n",
    "    return ret                    #  1\n",
    "\n",
    "volvo([7,6,8,4,6,7,6], [6,9,2,5,3,4,6])\n",
    "```\n",
    "\n",
    "$O(m+n(n+n+2+n(1+2))+1)$\n",
    "\n",
    "$= O(m+n(2n+3n+2))$\n",
    "\n",
    "$= O(m+n^2+n)$\n",
    "\n",
    "$=O(n^2 + m)$"
   ]
  },
  {
   "cell_type": "raw",
   "id": "392537b8",
   "metadata": {
    "format": "text/html"
   },
   "source": [
    "</div>"
   ]
  },
  {
   "cell_type": "markdown",
   "metadata": {},
   "source": [
    "### Exercise - chrysler\n",
    "\n"
   ]
  },
  {
   "cell_type": "markdown",
   "metadata": {},
   "source": [
    "`la`: list of $n$ integers\n",
    "\n",
    "**HINT 1**: remember the sum of first $n$ integers is $\\displaystyle\\sum_{i=1}^n{i}=\\frac{n^2+n}{2}$\n",
    "\n",
    "**HINT 2**: remember the sum of first $n$ squared integers is $\\displaystyle\\sum_{i=1}^n{i^2}=\\frac{n(n+1)(2n+1)}{6}$"
   ]
  },
  {
   "cell_type": "code",
   "execution_count": 26,
   "metadata": {},
   "outputs": [],
   "source": [
    "def chrysler(la):\n",
    "    \n",
    "    s = {0}                            \n",
    "    lb = []                            \n",
    "    for i in range(len(la)):           \n",
    "        lb.extend([la[i]] * i)         \n",
    "        if min(s) < 20:                \n",
    "            s = {x for x in la}        \n",
    "        s = s | set(lb)                \n",
    "    return s                              "
   ]
  },
  {
   "cell_type": "raw",
   "id": "15daa478",
   "metadata": {
    "format": "text/html"
   },
   "source": [
    "<a  class=\"jupman-sol jupman-sol-toggler\" \n",
    " onclick=\"jupman.toggleSolution(this);\" \n",
    " data-jupman-show=\"Show answer\" data-jupman-hide=\"Hide\">Show answer</a><div class=\"jupman-sol jupman-sol-question\" style=\"display:none\">  "
   ]
  },
  {
   "cell_type": "markdown",
   "metadata": {},
   "source": [
    "**ANSWER**: $O(n^3)$\n",
    "\n",
    "\n",
    "```python\n",
    "def chrysler(la):\n",
    "    \n",
    "    s = {0}                            #   1\n",
    "    lb = []                            #   1\n",
    "    for i in range(len(la)):           #   n iterations\n",
    "        lb.extend([la[i]] * i)         #       list replication: 1 , 2 , 3 , .... , n  ~ n\n",
    "                                       #       extend:           1 , 2 , 3 , .... , n  ~ n\n",
    "        if min(s) < 20:                #       min: 1 , 2 , 3 , .... , n   ~ n\n",
    "            s = {x for x in la}        #       n\n",
    "        s = s | set(lb)                #       f(i)  <--- to be determined later ...\n",
    "    return s                           #   1\n",
    "```\n",
    "\n",
    "Let $k$ be the number of distinct elements of `la`: given how the algorithm is structured, in worst case `s` ends up containing $k$ elements.\n",
    "\n",
    "Let's try calculating $f(i)$: even we already know  `s` in the end will always contain `k` elements, Python will still need to convert `lb` to a set, and then do the union with `s`. At each iteration, the number of items to scan in `lb` will grow non-linearly:\n",
    "\n",
    "```python\n",
    "                 #                                sum of first i      iteration\n",
    "                 #  union      set conversion     natural numbers         i\n",
    "s = s | set(lb)  #  k + 1      +1                 = k + 1 + (1^2+1)/2     1\n",
    "                 #  k + 2      +1+2               = k + 2 + (2^2+2)/2     2\n",
    "                 #  k + 3      +1+2+3             = k + 3 + (3^2+3)/2     3\n",
    "                 #      .            .                                    .\n",
    "                 #  k + k            .                                    .\n",
    "                 #  k + k      +1+2+3+ .. +n      = k + k + (n^2+n)/2     n \n",
    "```\n",
    "\n",
    "Considering the whole $n$ iterations, we will get a sum of increasing squares, so that row alone will cost $g(n)$ like this:\n",
    "\n",
    "$$\n",
    "\\begin{align*}\n",
    "g(n) &= \\sum_{i=1}^n{f(i)} \\\\ \n",
    "  &= \\sum_{i=1}^n{\\left(k + \\min (i,k) + \\frac{i^2+i}{2}\\right) }  \\\\\n",
    "  &= \\sum_{i=1}^n{k} + \\sum_{i=1}^n {\\min (i,k)} + \\frac{1}{2} \\sum_{i=1}^n{i^2} + \\frac{1}{2} \\sum_{i=1}^n{i} \\\\\n",
    "  &\\leq n k + n k + \\frac{1}{2} \\frac{n(n+1)(2n+1)}{6} + \\frac{1}{2} \\frac{n^2 + n}{2}  \\\\\n",
    "  &\\leq nk + n k + \\frac{2n^3 + n^2 + 2n^2 + n}{12} + \\frac{n^2+n}{4}\n",
    "\\end{align*}\n",
    "$$\n",
    "\n",
    "Since $k \\leq n$ , the heavier term is $n^3$ thus we conclude:\n",
    "\n",
    "$$O(g(n)) = O(nk + n^3) = O(n^3)$$\n",
    "\n",
    "Plugging $g(n)$ in the whole algorithm context, we get:\n",
    "\n",
    "$$O(2+n(n + n + n + n) + g(n) + 1)= O(n^2 + n^3) = O(n^3)$$"
   ]
  },
  {
   "cell_type": "raw",
   "id": "2222ccc4",
   "metadata": {
    "format": "text/html"
   },
   "source": [
    "</div>"
   ]
  },
  {
   "cell_type": "markdown",
   "metadata": {},
   "source": [
    "## Dictionaries performance\n",
    "\n",
    "Let's review dictionary operations costs from [the Python DS book Chapter 3.7: Dictionaries](https://runestone.academy/runestone/books/published/pythonds/AlgorithmAnalysis/Dictionaries.html):\n",
    "\n",
    "Dictionaries are pretty fast but notice in degenerate cases we might still get $O(n)$ complexity instead of $O(1)$ (like when there too many keys collisions or with ill-devised hashing functions). For the purposes of this course but won't consider those occurrences. \n",
    "\n",
    "\n",
    "|Operation        |Big-O Efficiency|Operation        |Big-O Efficiency |\n",
    "|-----------------|----------------|-----------------|-----------------|\n",
    "|copy             | $O(n)$         | `in` operator   | $O(1)$          |\n",
    "|get item         | $O(1)$         | set item        | $O(1)$          | \n",
    "|delete item      | $O(1)$         | iteration       | $O(n)$          |\n"
   ]
  },
  {
   "cell_type": "markdown",
   "metadata": {},
   "source": [
    "## Dictionaries - exercises\n",
    "\n",
    "Find the worst case compexity in Big-O notation for each of the following exercises."
   ]
  },
  {
   "cell_type": "markdown",
   "metadata": {},
   "source": [
    "### Exercise - tesla\n",
    "\n",
    "- `x` : int\n",
    "- `d`: dictionary with $n$ key/value mappings"
   ]
  },
  {
   "cell_type": "code",
   "execution_count": 27,
   "metadata": {},
   "outputs": [],
   "source": [
    "def tesla(x, d):\n",
    "    return x in d"
   ]
  },
  {
   "cell_type": "raw",
   "id": "09f65127",
   "metadata": {
    "format": "text/html"
   },
   "source": [
    "<a  class=\"jupman-sol jupman-sol-toggler\" \n",
    " onclick=\"jupman.toggleSolution(this);\" \n",
    " data-jupman-show=\"Show answer\" data-jupman-hide=\"Hide\">Show answer</a><div class=\"jupman-sol jupman-sol-question\" style=\"display:none\">  "
   ]
  },
  {
   "cell_type": "markdown",
   "metadata": {},
   "source": [
    "**ANSWER**: $O(1)$\n",
    "\n",
    "Searching keys `in` dictionaries is very fast because of hashing."
   ]
  },
  {
   "cell_type": "raw",
   "id": "ffbff193",
   "metadata": {
    "format": "text/html"
   },
   "source": [
    "</div>"
   ]
  },
  {
   "cell_type": "markdown",
   "metadata": {},
   "source": [
    "### Exercise - bmw\n",
    "\n",
    "* `d` : dictionary of $n$ key/value mappings\n",
    "* `el` : int"
   ]
  },
  {
   "cell_type": "code",
   "execution_count": 28,
   "metadata": {},
   "outputs": [],
   "source": [
    "def bmw(d, el):\n",
    "    \n",
    "    if el in d:\n",
    "        return d[el]\n",
    "    \n",
    "    return None"
   ]
  },
  {
   "cell_type": "raw",
   "id": "1289656c",
   "metadata": {
    "format": "text/html"
   },
   "source": [
    "<a  class=\"jupman-sol jupman-sol-toggler\" \n",
    " onclick=\"jupman.toggleSolution(this);\" \n",
    " data-jupman-show=\"Show answer\" data-jupman-hide=\"Hide\">Show answer</a><div class=\"jupman-sol jupman-sol-question\" style=\"display:none\">  "
   ]
  },
  {
   "cell_type": "markdown",
   "metadata": {},
   "source": [
    "**ANSWER**: $O(1)$\n",
    "\n",
    "```python\n",
    "def bmw(d, el):\n",
    "    \n",
    "    if el in d:           # in dict: 1\n",
    "        return d[el]      # dict access: 1 , return 1 \n",
    "    \n",
    "    return None           # 1\n",
    "```    "
   ]
  },
  {
   "cell_type": "raw",
   "id": "e7bc8ce6",
   "metadata": {
    "format": "text/html"
   },
   "source": [
    "</div>"
   ]
  },
  {
   "cell_type": "markdown",
   "metadata": {},
   "source": [
    "### Exercise - nissan\n",
    "\n",
    "* `d` : dictionary of $n$ key/value mappings\n",
    "* `el` : int\n",
    "\n",
    "Does this code behaves differently from code before? Compare complexity."
   ]
  },
  {
   "cell_type": "code",
   "execution_count": 29,
   "metadata": {},
   "outputs": [],
   "source": [
    "def nissan(d, el):\n",
    "    \n",
    "    for k in d:\n",
    "        if el == k:\n",
    "            return d[el]\n",
    "    \n",
    "    return None"
   ]
  },
  {
   "cell_type": "raw",
   "id": "0441b23e",
   "metadata": {
    "format": "text/html"
   },
   "source": [
    "<a  class=\"jupman-sol jupman-sol-toggler\" \n",
    " onclick=\"jupman.toggleSolution(this);\" \n",
    " data-jupman-show=\"Show answer\" data-jupman-hide=\"Hide\">Show answer</a><div class=\"jupman-sol jupman-sol-question\" style=\"display:none\">  "
   ]
  },
  {
   "cell_type": "markdown",
   "metadata": {},
   "source": [
    "**ANSWER**: $O(n)$\n",
    "\n",
    "If we're lucky, we will find the object very soon, but if we aren't we will have to scan all of the dictionary, so worst case complexity is $O(n)$"
   ]
  },
  {
   "cell_type": "raw",
   "id": "d8edbf43",
   "metadata": {
    "format": "text/html"
   },
   "source": [
    "</div>"
   ]
  },
  {
   "cell_type": "markdown",
   "metadata": {},
   "source": [
    "### Exercise - ferrari\n",
    "\n",
    "* `x` : int\n",
    "* `d`: dictionary with $n$ key/value mappings\n",
    "\n",
    "Find the complexity and then ask yourself if we can do any better."
   ]
  },
  {
   "cell_type": "code",
   "execution_count": 30,
   "metadata": {},
   "outputs": [],
   "source": [
    "def ferrari(x, d):\n",
    "    return x in d.values()"
   ]
  },
  {
   "cell_type": "raw",
   "id": "661513b4",
   "metadata": {
    "format": "text/html"
   },
   "source": [
    "<a  class=\"jupman-sol jupman-sol-toggler\" \n",
    " onclick=\"jupman.toggleSolution(this);\" \n",
    " data-jupman-show=\"Show answer\" data-jupman-hide=\"Hide\">Show answer</a><div class=\"jupman-sol jupman-sol-question\" style=\"display:none\">  "
   ]
  },
  {
   "cell_type": "markdown",
   "metadata": {},
   "source": [
    "**ANSWER**: $O(n)$\n",
    "\n",
    "Value access is sequential, as they may contain duplicates or be mutable."
   ]
  },
  {
   "cell_type": "raw",
   "id": "55b639c1",
   "metadata": {
    "format": "text/html"
   },
   "source": [
    "</div>"
   ]
  },
  {
   "cell_type": "markdown",
   "metadata": {},
   "source": [
    "### Exercise - bentley\n",
    "\n",
    "* `x` : int\n",
    "* `d` : dictionary with $n$ key/value mappings"
   ]
  },
  {
   "cell_type": "code",
   "execution_count": 31,
   "metadata": {},
   "outputs": [],
   "source": [
    "def bentley(x, d):\n",
    "    \n",
    "    return x,x in d.items()"
   ]
  },
  {
   "cell_type": "raw",
   "id": "69cafb55",
   "metadata": {
    "format": "text/html"
   },
   "source": [
    "<a  class=\"jupman-sol jupman-sol-toggler\" \n",
    " onclick=\"jupman.toggleSolution(this);\" \n",
    " data-jupman-show=\"Show answer\" data-jupman-hide=\"Hide\">Show answer</a><div class=\"jupman-sol jupman-sol-question\" style=\"display:none\">  "
   ]
  },
  {
   "cell_type": "markdown",
   "metadata": {},
   "source": [
    "**ANSWER**: $O(n)$\n",
    "\n",
    "`.items()` return a sequence, which needs to be scanned one by one."
   ]
  },
  {
   "cell_type": "raw",
   "id": "af5612af",
   "metadata": {
    "format": "text/html"
   },
   "source": [
    "</div>"
   ]
  },
  {
   "cell_type": "markdown",
   "metadata": {},
   "source": [
    "### Exercise - mclaren\n",
    "\n",
    "* `d` : dictionary of $n$ key/value mappings\n",
    "* `k` : int"
   ]
  },
  {
   "cell_type": "code",
   "execution_count": 32,
   "metadata": {},
   "outputs": [],
   "source": [
    "def mclaren(d,k):\n",
    "    ret = []\n",
    "    for i in range(k):\n",
    "        if i in d:\n",
    "            ret.append(d[i])\n",
    "    return ret"
   ]
  },
  {
   "cell_type": "raw",
   "id": "7c66c15a",
   "metadata": {
    "format": "text/html"
   },
   "source": [
    "<a  class=\"jupman-sol jupman-sol-toggler\" \n",
    " onclick=\"jupman.toggleSolution(this);\" \n",
    " data-jupman-show=\"Show answer\" data-jupman-hide=\"Hide\">Show answer</a><div class=\"jupman-sol jupman-sol-question\" style=\"display:none\">  "
   ]
  },
  {
   "cell_type": "markdown",
   "metadata": {},
   "source": [
    "**ANSWER**: $O(k)$\n",
    "\n",
    "```python\n",
    "def mclaren(d,k):              # \n",
    "    ret = []                   # 1\n",
    "    for i in range(k):         # k iterations\n",
    "        if i in d:             #     1  (search in keys)\n",
    "            ret.append(d[i])   #     dictionary access: 1  ,  append: 1\n",
    "    return ret                 # 1\n",
    "```    \n",
    "$O(1 + k(1 + 2)) = O(k)$\n",
    "\n",
    "Under normal loads complexity here does not depend on dictionary size"
   ]
  },
  {
   "cell_type": "raw",
   "id": "96357ee3",
   "metadata": {
    "format": "text/html"
   },
   "source": [
    "</div>"
   ]
  },
  {
   "cell_type": "markdown",
   "metadata": {},
   "source": [
    "### Exercise - fiat\n",
    "\n",
    "* `d` : dictionary of $n$ key/value mappings\n",
    "* `k` : int\n",
    "\n",
    "Compare this function to previous one. Is there any difference?"
   ]
  },
  {
   "cell_type": "code",
   "execution_count": 33,
   "metadata": {},
   "outputs": [],
   "source": [
    "def fiat(d,k):\n",
    "    lst = list(d.items())\n",
    "    ret = []\n",
    "    for i,v in lst:\n",
    "        if i >= 0 and i < k:\n",
    "            ret.append(d[i])\n",
    "    return ret"
   ]
  },
  {
   "cell_type": "raw",
   "id": "1af27061",
   "metadata": {
    "format": "text/html"
   },
   "source": [
    "<a  class=\"jupman-sol jupman-sol-toggler\" \n",
    " onclick=\"jupman.toggleSolution(this);\" \n",
    " data-jupman-show=\"Show answer\" data-jupman-hide=\"Hide\">Show answer</a><div class=\"jupman-sol jupman-sol-question\" style=\"display:none\">  "
   ]
  },
  {
   "cell_type": "markdown",
   "metadata": {},
   "source": [
    "**ANSWER**: $O(n)$\n",
    "\n",
    "```python\n",
    "def fiat(d,k):\n",
    "    lst = list(d.items())         #  list: n , items: n\n",
    "    ret = []                      #  1 \n",
    "    for i,v in lst:               #  n iterations \n",
    "        if i >= 0 and i < k:      #     comparisons: 1 + 1 , and: 1\n",
    "            ret.append(d[i])      #     dictionary access: 1 , append: 1 \n",
    "    return ret                    #  1\n",
    "```\n",
    "\n",
    "This function does the same same as the previous one, but performance is different (if $k < n$). Converting all items to `list` always takes an amount of time proportinal to _all_ key/mappings in the dictionary, so if we later search in the list we are defeating the purpose of dictionaries, which should be fast searching !\n",
    "\n",
    "$O(2n + 1 + n(3 + 2)) + 1) = O(n)$"
   ]
  },
  {
   "cell_type": "raw",
   "id": "ed005e9b",
   "metadata": {
    "format": "text/html"
   },
   "source": [
    "</div>"
   ]
  },
  {
   "cell_type": "markdown",
   "metadata": {},
   "source": [
    "### Exercise - mustang\n",
    "\n",
    "* `d` : dictionary of $n$ key/value mappings\n",
    "* `lst` : list of $m$ integers"
   ]
  },
  {
   "cell_type": "code",
   "execution_count": 34,
   "metadata": {},
   "outputs": [],
   "source": [
    "  \n",
    "def mustang(d, lst):\n",
    "\n",
    "    ret = {}                                 \n",
    "    for el in lst:                           \n",
    "                                             \n",
    "        if el in d:                          \n",
    "            if el in list(d.values()):       \n",
    "                ret[el] = True               \n",
    "        else:                                \n",
    "            ret[el] = False                  \n",
    "    return ret                               "
   ]
  },
  {
   "cell_type": "raw",
   "id": "98600af5",
   "metadata": {
    "format": "text/html"
   },
   "source": [
    "<a  class=\"jupman-sol jupman-sol-toggler\" \n",
    " onclick=\"jupman.toggleSolution(this);\" \n",
    " data-jupman-show=\"Show answer\" data-jupman-hide=\"Hide\">Show answer</a><div class=\"jupman-sol jupman-sol-question\" style=\"display:none\">  "
   ]
  },
  {
   "cell_type": "markdown",
   "metadata": {},
   "source": [
    "**ANSWER**: $O(mn)$\n",
    "\n",
    "```python\n",
    "def mustang(d, lst):\n",
    "    \n",
    "    ret = {}                                 #  1\n",
    "    for el in lst:                           #  m iterations                                             \n",
    "        if el in d:                          #  1\n",
    "                                             #  THEN branch\n",
    "            if el in list(d.values()):       #        values(): n ,  list : n, in list: n \n",
    "                ret[el] = True               #        1\n",
    "        else:                                #  ELSE branch\n",
    "            ret[el] = False                  #     1 \n",
    "    return ret                               #  1\n",
    "```\n",
    "\n",
    "$O(1 + m(1 + max(3n + 1, 1)) + 1) = O(m + m(3n+1)) = O(m n + m) = O(mn)$"
   ]
  },
  {
   "cell_type": "raw",
   "id": "a8d204be",
   "metadata": {
    "format": "text/html"
   },
   "source": [
    "</div>"
   ]
  },
  {
   "cell_type": "markdown",
   "metadata": {},
   "source": [
    "## Recursion\n",
    "\n",
    "**References**: \n",
    "\n",
    "- [Andrea Passerini slides on recursion theory](http://disi.unitn.it/~passerini/teaching/2020-2021/sci-pro/slides/A06-recursion.pdf)\n",
    "\n",
    "When confronted with a problem, we can try to solve it by splitting its dimension in half (or more), look for solutions in each of the halves and then decide what to do with the found solutions, if any.\n",
    "\n",
    "Several cases may occur:\n",
    "\n",
    "1. No solution is found\n",
    "2. One solution is found\n",
    "3. Two solutions are found\n",
    "\n",
    "case 1): we can only give up\n",
    "\n",
    "case 2): we have only one solution, so we can just return that one\n",
    "\n",
    "case 3): we have two solutions, so we need to decide what is the purpose of the algorithm\n",
    "\n",
    "Is the purpose to ...\n",
    "\n",
    "- find all possible solutions? Then we return both of them. \n",
    "\n",
    "- find the _best_ solution, according to some measure of 'goodness'? Then we measure each of the solutions and give back the highest scoring one.\n",
    "\n",
    "- always provide a _combination_ of existing solutions, according to some combination method? Then we combine the found solutions and give them back"
   ]
  },
  {
   "cell_type": "markdown",
   "metadata": {},
   "source": [
    "## Recursion - exercises"
   ]
  },
  {
   "cell_type": "markdown",
   "metadata": {},
   "source": [
    "### Exercise - gap_rec\n",
    "\n",
    "✪✪ In a list $L$ containing $n≥2$ integers, a gap is an index $i$, $0< i < n$, such that $L[i−1]< L[i]$\n",
    "\n",
    "If $n≥2$ and $L[0]< L[n−1]$, $L$ contains at least one gap\n",
    "\n",
    "Design an algorithm that, given a  list $L$ containing $n≥2$ integers such that $L[0]< L[n−1]$, finds a gap in the list.\n",
    "\n",
    "We wrote here the `gap` function as pseudocode, try coding it in Python:\n",
    "    \n",
    "![recursive gap jiuiu9](img/recursive-gap.png)"
   ]
  },
  {
   "cell_type": "markdown",
   "metadata": {},
   "source": [
    "Use the following skeleton and add some test. To understand what's going on, try copy-pasting in [Python tutor](http://pythontutor.com/visualize.html#mode=edit)\n",
    "\n",
    "Notice that\n",
    "\n",
    "* We created a function `gap_rec` to differentiate it from the iterative one\n",
    "* Users of `gap_rec` function might want to call it by passing just a list, in order to find any gap in the whole list. So for convenience the new function `gap_rec(L)` only accepts a list, without indexes `i` and `j`. This function just calls the other function `gap_rec_helper` that will actually contain the recursive calls. So your task is to translate the pseudocode of `gap` into the Python code of `gap_rec_helper`, which takes as input the array and the indexes as `gap` does. Adding a helper function is a frequent pattern you can find when programming recursive functions.\n"
   ]
  },
  {
   "cell_type": "markdown",
   "metadata": {},
   "source": [
    "<div class=\"alert alert-warning\">\n",
    "\n",
    "**CAREFUL ABOUT** `gap_rec` **ASSUMPTIONS!**\n",
    "    \n",
    "The specification of `gap_rec` assumes the input is always a list of at least two elements, and that the first element is less or equal than the last one. _If these conditions are not met, function behaviour could be completely erroneus!_\n",
    "</div>\n"
   ]
  },
  {
   "cell_type": "markdown",
   "metadata": {},
   "source": [
    "When preconditions are not met, execution could stop because of an error like index out of bounds, or, even worse, we might get back some wrong index as a gap! To prevent misuse of the function, a good idea can be putting a check at the beginning of the `gap_rec` function. Such check should immediately stop the execution and raise an error if the parameters don't satisfy the preconditions. One way to do this could be to to some [assertion](https://sciprog.davidleoni.it/testing/testing.html#Assertions) like this: \n",
    "    \n",
    "```python\n",
    "    def gap_rec(L, i , j):\n",
    "        assert len(L) >= 2\n",
    "        assert L[0] <= L[len(L)-1]        \n",
    "\n",
    "```\n",
    "    \n",
    "* These commands will make python interrupt execution and throw an error as soon it detects list `L` is too small or with wrong values\n",
    "* This kind of behaviour is also called _fail fast_, which is better than returning wrong values! \n",
    "* You can put any condition you want after `assert`, but ideally they should be fast to execute.\n",
    "* asserts might be better here than `raise Exception` constructs because asserts can be disabled with a flag passed to the interpreter. So, when you debug you can take advantage of them, and when the code is production quality and supposed to be bug free you can disable all assertions at once to gain in execution speed.\n"
   ]
  },
  {
   "cell_type": "markdown",
   "metadata": {},
   "source": [
    "<div class=\"alert alert-info\">\n",
    "\n",
    "**GOOD PRACTICE**: Notice we wrote what the helper function is expected to receive as a comment. Writing down specs often helps understanding what the function is supposed to do, and helps users of your code as well!\n",
    "</div>\n",
    "\n"
   ]
  },
  {
   "cell_type": "markdown",
   "metadata": {},
   "source": [
    "<div class=\"alert alert-info\" >\n",
    "    \n",
    "[VII COMMANDMENT](https://en.softpython.org/commandments.html#VII-COMMANDMENT): You shall also write on paper!\n",
    "</div>"
   ]
  },
  {
   "cell_type": "markdown",
   "metadata": {},
   "source": [
    "To get an idea of how `gap_rec` is working, draw histograms on paper like the following, with different heights at index `m`:"
   ]
  },
  {
   "cell_type": "markdown",
   "metadata": {},
   "source": [
    "![gap rec histogram 098983ju](img/gap-rec-histogram.png)"
   ]
  },
  {
   "cell_type": "markdown",
   "metadata": {},
   "source": [
    "Notice how at each recursive call, we end up with a histogram that is similar to the inital one, that is, it respects the same preconditions (a list of size >= 2 where first element is smaller or equal than the last one)"
   ]
  },
  {
   "cell_type": "raw",
   "id": "21078467",
   "metadata": {
    "format": "text/html"
   },
   "source": [
    "<a  class=\"jupman-sol jupman-sol-toggler\" \n",
    " onclick=\"jupman.toggleSolution(this);\" \n",
    " data-jupman-show=\"Show solution\" data-jupman-hide=\"Hide\">Show solution</a><div class=\"jupman-sol jupman-sol-code\" style=\"display:none\">  "
   ]
  },
  {
   "cell_type": "code",
   "execution_count": 35,
   "metadata": {},
   "outputs": [],
   "source": [
    "def gap_rec(L, i, j):\n",
    "    \n",
    "    if j == i+1:\n",
    "        return j\n",
    "    else:\n",
    "        m = (i+j) // 2\n",
    "        if L[m] < L[j]:\n",
    "            return gaprec(L,m,j)\n",
    "        else:\n",
    "            return gaprec(L,i,m)        \n",
    "    \n",
    "\n",
    "def gap(L):\n",
    "    \n",
    "    return gap_rec(L, 0, len(L) - 1)\n",
    "    \n",
    "    \n",
    "# try also to write asserts\n"
   ]
  },
  {
   "cell_type": "raw",
   "id": "f6582539",
   "metadata": {
    "format": "text/html"
   },
   "source": [
    "</div>"
   ]
  },
  {
   "cell_type": "code",
   "execution_count": 35,
   "metadata": {},
   "outputs": [],
   "source": [
    "def gap_rec(L, i, j):\n",
    "    raise Exception('TODO IMPLEMENT ME !')\n",
    "\n",
    "def gap(L):\n",
    "    raise Exception('TODO IMPLEMENT ME !')\n",
    "    \n",
    "# try also to write asserts\n"
   ]
  },
  {
   "cell_type": "markdown",
   "metadata": {},
   "source": [
    "### Exercise - yamaha\n",
    "\n",
    "What does this function do? What's the time complexity?\n",
    "\n",
    "* `lst`: a list of $n$ numbers\n",
    "* `i`: an index from `0` to $n$ **included**\n",
    "\n",
    "`level` is the recursion level, we can use it to help ourselves while debugging"
   ]
  },
  {
   "cell_type": "code",
   "execution_count": 36,
   "metadata": {},
   "outputs": [
    {
     "name": "stdout",
     "output_type": "stream",
     "text": [
      " [5, 7, 2, 9]\n",
      " 4\n",
      "   [5, 7, 2, 9]\n",
      "   3\n",
      "     [5, 7, 2, 9]\n",
      "     2\n",
      "       [5, 7, 2, 9]\n",
      "       1\n",
      "         [5, 7, 2, 9]\n",
      "         0\n",
      "       5\n",
      "     12\n",
      "   14\n",
      " 23\n",
      "23\n"
     ]
    }
   ],
   "source": [
    "\n",
    "def yamaha(lst, i, level=0):    \n",
    "    print('  ' * level, lst)\n",
    "    print('  ' * level, i)\n",
    "    \n",
    "    if i == 0:\n",
    "        return 0\n",
    "    else:\n",
    "        q = lst[i-1] + yamaha(lst, i-1, level + 1)\n",
    "        print('  ' * level, q)\n",
    "        return q\n",
    "    \n",
    "print(yamaha([5,7,2,9], 4))"
   ]
  },
  {
   "cell_type": "code",
   "execution_count": 37,
   "metadata": {
    "nbsphinx": "hidden"
   },
   "outputs": [
    {
     "name": "stdout",
     "output_type": "stream",
     "text": [
      " [5, 7, 2, 9]\n",
      " 4\n",
      "   [5, 7, 2, 9]\n",
      "   3\n",
      "     [5, 7, 2, 9]\n",
      "     2\n",
      "       [5, 7, 2, 9]\n",
      "       1\n",
      "         [5, 7, 2, 9]\n",
      "         0\n",
      "       5\n",
      "     12\n",
      "   14\n",
      " 23\n",
      " []\n",
      " 0\n",
      " [2]\n",
      " 0\n",
      " [5]\n",
      " 1\n",
      "   [5]\n",
      "   0\n",
      " 5\n"
     ]
    }
   ],
   "source": []
  },
  {
   "cell_type": "raw",
   "id": "e7623a44",
   "metadata": {
    "format": "text/html"
   },
   "source": [
    "<a  class=\"jupman-sol jupman-sol-toggler\" \n",
    " onclick=\"jupman.toggleSolution(this);\" \n",
    " data-jupman-show=\"Show answer\" data-jupman-hide=\"Hide\">Show answer</a><div class=\"jupman-sol jupman-sol-question\" style=\"display:none\">  "
   ]
  },
  {
   "cell_type": "markdown",
   "metadata": {},
   "source": [
    "**ANSWER**: It sums all the numbers in $O(n)$\n",
    "\n",
    "Notice that as all recursive functions in Python, we would be also limited by the amount of recursive calls that Python imposes, which was fixed by language designers to 1000 (Python is not a language optimized for recursive calls)."
   ]
  },
  {
   "cell_type": "raw",
   "id": "649ea3e4",
   "metadata": {
    "format": "text/html"
   },
   "source": [
    "</div>"
   ]
  },
  {
   "cell_type": "markdown",
   "metadata": {},
   "source": [
    "### Exercise - mul2\n",
    "\n",
    "Write a recursive function `mul_rec` which given a list RETURN a NEW list with all elements multiplied by two.\n",
    "\n",
    "**ONLY USE** `.append()` to build output list: in order to use it, you will need the parameter `acc`, which is a list into which you will accumulate the elements found during the recursion. At the end of recursion you will return `acc`\n",
    "\n",
    "**MUST** execute in $O(n)$\n",
    "\n",
    "**DO NOT** use `for`,  `while` cycles nor list comprehensions\n",
    "\n",
    "**DO NOT** use slices\n",
    "\n",
    "**DO NOT** use `in` operator, `.find` nor `.index` methods\n",
    "\n",
    "**DO NOT** use `.extend` method nor `+` operator - they're expensive !"
   ]
  },
  {
   "cell_type": "raw",
   "id": "6745ffdd",
   "metadata": {
    "format": "text/html"
   },
   "source": [
    "<a  class=\"jupman-sol jupman-sol-toggler\" \n",
    " onclick=\"jupman.toggleSolution(this);\" \n",
    " data-jupman-show=\"Show solution\" data-jupman-hide=\"Hide\">Show solution</a><div class=\"jupman-sol jupman-sol-code\" style=\"display:none\">  "
   ]
  },
  {
   "cell_type": "code",
   "execution_count": 38,
   "metadata": {},
   "outputs": [],
   "source": [
    "def mul2_rec(lst, acc):\n",
    "    \n",
    "    if len(acc) == len(lst):\n",
    "        return acc\n",
    "    else:\n",
    "        i = len(acc)\n",
    "        acc.append(lst[i] * 2)    \n",
    "        return mul2_rec(lst, acc)\n",
    "    \n",
    "\n",
    "def mul2(lst):\n",
    "    return mul2_rec(lst, [])\n",
    "    \n",
    "assert(mul2([])) == []\n",
    "assert(mul2([3])) == [6]\n",
    "assert(mul2([5,8])) == [10,16]\n",
    "\n",
    "nums = [4,6,2,7,3]\n",
    "assert(mul2(nums)) == [8,12,4,14,6]\n",
    "assert nums == [4,6,2,7,3]"
   ]
  },
  {
   "cell_type": "raw",
   "id": "d3e788ab",
   "metadata": {
    "format": "text/html"
   },
   "source": [
    "</div>"
   ]
  },
  {
   "cell_type": "code",
   "execution_count": 38,
   "metadata": {},
   "outputs": [],
   "source": [
    "def mul2_rec(lst, acc):\n",
    "    raise Exception('TODO IMPLEMENT ME !')\n",
    "\n",
    "def mul2(lst):\n",
    "    return mul2_rec(lst, [])\n",
    "    \n",
    "assert(mul2([])) == []\n",
    "assert(mul2([3])) == [6]\n",
    "assert(mul2([5,8])) == [10,16]\n",
    "\n",
    "nums = [4,6,2,7,3]\n",
    "assert(mul2(nums)) == [8,12,4,14,6]\n",
    "assert nums == [4,6,2,7,3]"
   ]
  },
  {
   "cell_type": "markdown",
   "metadata": {},
   "source": [
    "### Exercise - search_rec\n",
    "\n",
    "Write a recursive function which RETURN `True` if `el` is in the first `i` elements of `lst` and `False` otherwise\n",
    "\n",
    "* `lst` is a list of $n$  elements \n",
    "* `i`: an index from `0` to $n$ **included**\n",
    "\n",
    "\n",
    "**DO NOT** use `in` operator, `.find` nor `.index` methods\n",
    "\n",
    "**DO NOT** use `for`,  `while` cycles nor list comprehensions\n",
    "\n",
    "**DO NOT** use slices\n",
    "\n",
    "**MUST** execute in $O(n)$"
   ]
  },
  {
   "cell_type": "raw",
   "id": "7eae087e",
   "metadata": {
    "format": "text/html"
   },
   "source": [
    "<a  class=\"jupman-sol jupman-sol-toggler\" \n",
    " onclick=\"jupman.toggleSolution(this);\" \n",
    " data-jupman-show=\"Show solution\" data-jupman-hide=\"Hide\">Show solution</a><div class=\"jupman-sol jupman-sol-code\" style=\"display:none\">  "
   ]
  },
  {
   "cell_type": "code",
   "execution_count": 39,
   "metadata": {},
   "outputs": [],
   "source": [
    "def search_rec(el, lst, i):       \n",
    "    \n",
    "    if i <= 0: \n",
    "        return False\n",
    "    else:\n",
    "        if el == lst[i-1]:\n",
    "            return True\n",
    "        else:\n",
    "            return search_rec(el, lst, i - 1)\n",
    "    \n",
    "    \n",
    "def search(el, lst):\n",
    "    return find_rec(el, lst, len(lst))\n",
    "\n",
    "assert search_rec(6, [], 0) == False\n",
    "assert search_rec(5, [5], 0) == False\n",
    "assert search_rec(5, [5], 1) == True\n",
    "assert search_rec(2, [2,9], 0) == False\n",
    "assert search_rec(2, [2,9], 1) == True\n",
    "assert search_rec(2, [2,9], 2) == True\n",
    "assert search_rec(5, [9,5], 2) == True\n",
    "assert search_rec('c', [5,'r',6,'c'], 4) == True\n",
    "assert search_rec(2, [4,'z',8,3,2], 5) == True\n",
    "assert search_rec(7, [4,9,8,'x',2], 5) == False"
   ]
  },
  {
   "cell_type": "raw",
   "id": "1edfe8e0",
   "metadata": {
    "format": "text/html"
   },
   "source": [
    "</div>"
   ]
  },
  {
   "cell_type": "code",
   "execution_count": 39,
   "metadata": {},
   "outputs": [],
   "source": [
    "def search_rec(el, lst, i):       \n",
    "    raise Exception('TODO IMPLEMENT ME !')\n",
    "    \n",
    "def search(el, lst):\n",
    "    return find_rec(el, lst, len(lst))\n",
    "\n",
    "assert search_rec(6, [], 0) == False\n",
    "assert search_rec(5, [5], 0) == False\n",
    "assert search_rec(5, [5], 1) == True\n",
    "assert search_rec(2, [2,9], 0) == False\n",
    "assert search_rec(2, [2,9], 1) == True\n",
    "assert search_rec(2, [2,9], 2) == True\n",
    "assert search_rec(5, [9,5], 2) == True\n",
    "assert search_rec('c', [5,'r',6,'c'], 4) == True\n",
    "assert search_rec(2, [4,'z',8,3,2], 5) == True\n",
    "assert search_rec(7, [4,9,8,'x',2], 5) == False"
   ]
  },
  {
   "cell_type": "markdown",
   "metadata": {},
   "source": [
    "### Exercise - bin_search\n",
    "\n",
    "If the list is already sorted we can write a faster search: write a recursive function which RETURN `True` if `el` is in the subsequence `[i,j)` of `lst`,  and `False` otherwise\n",
    "\n",
    "* `lst` is a list of $n$  **already sorted** elements \n",
    "* `i` and `j` are indeces between `0` included and $n$ **included**\n",
    "\n",
    "**MUST execute in** $O(log(n))$: to obtain this complexity, you will need to keep splitting the search interval in halves until you have a 1 element interval (or empty interval)\n",
    "\n",
    "**DO NOT** use `in` operator, `.find` nor `.index` methods\n",
    "\n",
    "**DO NOT** use `for`,  `while` cycles nor list comprehensions\n",
    "\n",
    "**DO NOT** use slices"
   ]
  },
  {
   "cell_type": "raw",
   "id": "cd44d18c",
   "metadata": {
    "format": "text/html"
   },
   "source": [
    "<a  class=\"jupman-sol jupman-sol-toggler\" \n",
    " onclick=\"jupman.toggleSolution(this);\" \n",
    " data-jupman-show=\"Show solution\" data-jupman-hide=\"Hide\">Show solution</a><div class=\"jupman-sol jupman-sol-code\" style=\"display:none\">  "
   ]
  },
  {
   "cell_type": "code",
   "execution_count": 40,
   "metadata": {},
   "outputs": [
    {
     "name": "stdout",
     "output_type": "stream",
     "text": [
      "True\n"
     ]
    }
   ],
   "source": [
    "def bin_search_rec(el, lst, i, j):    \n",
    "    \n",
    "    #print('i =', i, ' j =', j)\n",
    "    \n",
    "    interval = j - i\n",
    "    #print('interval =', interval)\n",
    "    k = (i + j) // 2\n",
    "    #print('k =', k)\n",
    "    \n",
    "    if interval <= 0:\n",
    "        return False    \n",
    "    elif el == lst[k]:\n",
    "        return True\n",
    "    #elif interval == 1:\n",
    "    #    return False\n",
    "    elif el > lst[k]:\n",
    "        return bin_search_rec(el, lst, k+1, j)\n",
    "    else:\n",
    "        return bin_search_rec(el, lst, 0, k)\n",
    "    \n",
    "    \n",
    "def bin_search(el, lst):\n",
    "    return bin_search_rec(el, lst, 0, len(lst))\n",
    "\n",
    "\n",
    "print(bin_search(33, [8,9,15,17,20,24,28,29,33,36,39]))\n",
    "\n",
    "assert bin_search(5, [5]) == True\n",
    "assert bin_search(4, []) == False\n",
    "assert bin_search(3, [7]) == False\n",
    "assert bin_search(3, [3,7]) == True\n",
    "assert bin_search(3, [3,6]) == True\n",
    "assert bin_search(4, [2,9]) == False\n",
    "assert bin_search(5, [2,9]) == False\n",
    "assert bin_search(5, [5,7,9]) == True\n",
    "assert bin_search(7, [5,7,9]) == True\n",
    "assert bin_search(9, [5,7,9]) == True\n",
    "assert bin_search(4, [5,7,9]) == False\n",
    "assert bin_search(6, [5,7,9]) == False\n",
    "assert bin_search(8, [5,7,9]) == False\n",
    "assert bin_search(10, [5,7,9]) == False\n",
    "assert bin_search(33, [8,9,15,17,20,24,28,29,33,36,39]) == True\n",
    "assert bin_search(10, [8,9,15,17,20,24,28,29,33,36,39]) == False"
   ]
  },
  {
   "cell_type": "raw",
   "id": "ea96ab9e",
   "metadata": {
    "format": "text/html"
   },
   "source": [
    "</div>"
   ]
  },
  {
   "cell_type": "code",
   "execution_count": 40,
   "metadata": {},
   "outputs": [
    {
     "name": "stdout",
     "output_type": "stream",
     "text": [
      "True\n"
     ]
    }
   ],
   "source": [
    "def bin_search_rec(el, lst, i, j):    \n",
    "    raise Exception('TODO IMPLEMENT ME !')\n",
    "    \n",
    "def bin_search(el, lst):\n",
    "    return bin_search_rec(el, lst, 0, len(lst))\n",
    "\n",
    "\n",
    "print(bin_search(33, [8,9,15,17,20,24,28,29,33,36,39]))\n",
    "\n",
    "assert bin_search(5, [5]) == True\n",
    "assert bin_search(4, []) == False\n",
    "assert bin_search(3, [7]) == False\n",
    "assert bin_search(3, [3,7]) == True\n",
    "assert bin_search(3, [3,6]) == True\n",
    "assert bin_search(4, [2,9]) == False\n",
    "assert bin_search(5, [2,9]) == False\n",
    "assert bin_search(5, [5,7,9]) == True\n",
    "assert bin_search(7, [5,7,9]) == True\n",
    "assert bin_search(9, [5,7,9]) == True\n",
    "assert bin_search(4, [5,7,9]) == False\n",
    "assert bin_search(6, [5,7,9]) == False\n",
    "assert bin_search(8, [5,7,9]) == False\n",
    "assert bin_search(10, [5,7,9]) == False\n",
    "assert bin_search(33, [8,9,15,17,20,24,28,29,33,36,39]) == True\n",
    "assert bin_search(10, [8,9,15,17,20,24,28,29,33,36,39]) == False"
   ]
  },
  {
   "cell_type": "markdown",
   "metadata": {},
   "source": [
    "### Exercise - rev\n",
    "\n",
    "Write a recursive function `rev` which given a list and an index `i`, RETURN a NEW sublist with the elements starting from `i` included in reverse order.\n",
    "\n",
    "* `lst` is a list of $n$  integers\n",
    "* `i` is an index between `0` included and $n$ **included**\n",
    "\n",
    "```python\n",
    ">>> rev(['a','b','c','d','e'], i=0)\n",
    "['e', 'd', 'c', 'b', 'a']\n",
    ">>> rev(['a','b','c','d','e'], i=2)\n",
    "['e', 'd', 'c']\n",
    "```\n",
    "\n",
    "**ONLY USE** `.append()` to build return list\n",
    "\n",
    "**MUST** execute in $O(n)$\n",
    "\n",
    "**DO NOT** use `for`,  `while` cycles nor list comprehensions\n",
    "\n",
    "**DO NOT** use `.reverse()` nor `reversed()`\n",
    "\n",
    "**DO NOT** use slices\n",
    "\n",
    "**DO NOT** use `.extend` method nor `+` operator - they're expensive !\n",
    "\n",
    "**DO NOT** use `in` operator, `.find` nor `.index` methods"
   ]
  },
  {
   "cell_type": "raw",
   "id": "de96cec4",
   "metadata": {
    "format": "text/html"
   },
   "source": [
    "<a  class=\"jupman-sol jupman-sol-toggler\" \n",
    " onclick=\"jupman.toggleSolution(this);\" \n",
    " data-jupman-show=\"Show solution\" data-jupman-hide=\"Hide\">Show solution</a><div class=\"jupman-sol jupman-sol-code\" style=\"display:none\">  "
   ]
  },
  {
   "cell_type": "code",
   "execution_count": 41,
   "metadata": {},
   "outputs": [],
   "source": [
    "def rev(lst, i=0):\n",
    "    \n",
    "    if i == len(lst):\n",
    "        return []\n",
    "    else:\n",
    "        ret = rev(lst, i + 1)\n",
    "        ret.append(lst[i])\n",
    "        return ret\n",
    "    \n",
    "\n",
    "assert(rev([])) == []\n",
    "assert(rev(['z'])) == ['z']\n",
    "assert(rev(['a','z'])) == ['z','a']\n",
    "\n",
    "chars = ['a','b','c','d','e']\n",
    "assert(rev(chars)) == ['e', 'd', 'c', 'b', 'a']\n",
    "assert chars == ['a','b','c','d','e']"
   ]
  },
  {
   "cell_type": "raw",
   "id": "76da9e55",
   "metadata": {
    "format": "text/html"
   },
   "source": [
    "</div>"
   ]
  },
  {
   "cell_type": "code",
   "execution_count": 41,
   "metadata": {},
   "outputs": [],
   "source": [
    "def rev(lst, i=0):\n",
    "    raise Exception('TODO IMPLEMENT ME !')\n",
    "\n",
    "assert(rev([])) == []\n",
    "assert(rev(['z'])) == ['z']\n",
    "assert(rev(['a','z'])) == ['z','a']\n",
    "\n",
    "chars = ['a','b','c','d','e']\n",
    "assert(rev(chars)) == ['e', 'd', 'c', 'b', 'a']\n",
    "assert chars == ['a','b','c','d','e']"
   ]
  },
  {
   "cell_type": "markdown",
   "metadata": {},
   "source": [
    "###  Exercise - unnest\n",
    "\n",
    "Write  a recursive function `unnest_rec` which takes a list with an element and a nested list, and outputs a NEW list with all the nested elements in sequence.\n",
    "\n",
    "**DO NOT** use `for` nor `while` cycles or list comprehensions\n",
    "\n",
    "**DO NOT** use slices\n",
    "\n",
    "**MUST** execute in $O(n)$\n",
    "\n",
    "**NOTE 1**: if you use the `+` operator or `.extend` methods, you will likely get a $O(n^2)$ complexity (remember `+` takes $O(n)$ and `.extend` $O(m)$). \n",
    "\n",
    "`.append` would be much faster, but to do so you need the parameter `acc`, which is a list into which you will accumulate the elements found during the recursion. At the end of recursion you will return `acc`\n",
    "\n",
    "**NOTE 2**: last list contains only one element\n"
   ]
  },
  {
   "cell_type": "raw",
   "id": "a9c6d86e",
   "metadata": {
    "format": "text/html"
   },
   "source": [
    "<a  class=\"jupman-sol jupman-sol-toggler\" \n",
    " onclick=\"jupman.toggleSolution(this);\" \n",
    " data-jupman-show=\"Show solution\" data-jupman-hide=\"Hide\">Show solution</a><div class=\"jupman-sol jupman-sol-code\" style=\"display:none\">  "
   ]
  },
  {
   "cell_type": "code",
   "execution_count": 42,
   "metadata": {},
   "outputs": [
    {
     "name": "stdout",
     "output_type": "stream",
     "text": [
      "['a', 'b', 'c']\n"
     ]
    }
   ],
   "source": [
    "\n",
    "def unnest_rec(lst, acc):\n",
    "    \n",
    "    if len(lst) == 0:\n",
    "        return []    \n",
    "    acc.append(lst[0])    \n",
    "    if len(lst) == 1:                \n",
    "        return acc    \n",
    "    else:                \n",
    "        return unnest_rec(lst[1], acc)\n",
    "    \n",
    "    \n",
    "def unnest(lst):\n",
    "    return unnest_rec(lst, [])\n",
    "    \n",
    "print(unnest(['a',['b',['c']]]))    \n",
    "\n",
    "assert unnest([]) == []\n",
    "assert unnest(['a']) == ['a']\n",
    "assert unnest(['a',['b']]) == ['a', 'b']\n",
    "assert unnest(['a',['b',['c']]]) == ['a','b','c']\n",
    "assert unnest(['z',['q',['r']]]) == ['z','q','r']\n",
    "assert unnest(['a',['b',['c',['d',['e']]]]]) == ['a','b','c','d','e']"
   ]
  },
  {
   "cell_type": "raw",
   "id": "bc8ec29d",
   "metadata": {
    "format": "text/html"
   },
   "source": [
    "</div>"
   ]
  },
  {
   "cell_type": "code",
   "execution_count": 42,
   "metadata": {},
   "outputs": [
    {
     "name": "stdout",
     "output_type": "stream",
     "text": [
      "['a', 'b', 'c']\n"
     ]
    }
   ],
   "source": [
    "\n",
    "def unnest_rec(lst, acc):\n",
    "    raise Exception('TODO IMPLEMENT ME !')\n",
    "    \n",
    "def unnest(lst):\n",
    "    return unnest_rec(lst, [])\n",
    "    \n",
    "print(unnest(['a',['b',['c']]]))    \n",
    "\n",
    "assert unnest([]) == []\n",
    "assert unnest(['a']) == ['a']\n",
    "assert unnest(['a',['b']]) == ['a', 'b']\n",
    "assert unnest(['a',['b',['c']]]) == ['a','b','c']\n",
    "assert unnest(['z',['q',['r']]]) == ['z','q','r']\n",
    "assert unnest(['a',['b',['c',['d',['e']]]]]) == ['a','b','c','d','e']"
   ]
  },
  {
   "cell_type": "markdown",
   "metadata": {},
   "source": [
    "### Exercise - cadillac\n",
    "\n",
    "Look at the following code:\n",
    "\n",
    "1. Is recursion eventually terminating after some time?\n",
    "2. What's the time complexity? \n",
    "3. What is this function doing?\n",
    "\n",
    "To get a better understanding, try adding an integer optional parameter `level=0` with the recursion level, and print the function passages indented according to the recursion `level`"
   ]
  },
  {
   "cell_type": "markdown",
   "metadata": {},
   "source": [
    "* `lst` : list of $n$ integers"
   ]
  },
  {
   "cell_type": "code",
   "execution_count": 43,
   "metadata": {},
   "outputs": [],
   "source": [
    "def cadillac(lst):\n",
    "    \n",
    "    if len(lst) == 0:\n",
    "        return 0\n",
    "    \n",
    "    if len(lst) == 1:\n",
    "        return lst[0]\n",
    "    \n",
    "    k = len(lst) // 2    \n",
    "    p = cadillac(lst[:k])    \n",
    "    q = cadillac(lst[k:])\n",
    "    return p + q"
   ]
  },
  {
   "cell_type": "raw",
   "id": "019096f2",
   "metadata": {
    "format": "text/html"
   },
   "source": [
    "<a  class=\"jupman-sol jupman-sol-toggler\" \n",
    " onclick=\"jupman.toggleSolution(this);\" \n",
    " data-jupman-show=\"Show answer\" data-jupman-hide=\"Hide\">Show answer</a><div class=\"jupman-sol jupman-sol-question\" style=\"display:none\">  "
   ]
  },
  {
   "cell_type": "markdown",
   "metadata": {},
   "source": [
    "**ANSWER**: It returns the sum of all numbers in $O(n \\log_2{n})$\n",
    "\n",
    "We can picture the time spent in slice creation ad recursive calls like this:\n",
    "\n",
    "```\n",
    "                n                       recursion level\n",
    "|-------------------------------|       1  \n",
    "|---------------|---------------|       2\n",
    "|-------|-------|-------|-------|       3\n",
    "|---|---|---|---|---|---|---|---|       .\n",
    "|-|-|-|-|-|-|-|-|-|-|-|-|-|-|-|-|       log_2(n)\n",
    "\n",
    "```\n",
    "\n",
    "Think of the internal bars as the costs for calculating splitting points, placing recursive calls and summing the results obtained from calls from level below.\n",
    "\n",
    "It looks like a rectangle, thereafore to compute the complexity we can multiply the sides to get $O(n \\log_2{n})$\n",
    "\n",
    "The answers to ask for termination are the following ones:\n",
    "\n",
    "1. By repeatedly reducing input size, do we eventually end up in a branch with a return?\n",
    "2. Are we reducing input size when calling cadillac? \n",
    "\n",
    "Since the answer to both is yes, we can conclude the function will always terminate"
   ]
  },
  {
   "cell_type": "raw",
   "id": "1dab649d",
   "metadata": {
    "format": "text/html"
   },
   "source": [
    "</div>"
   ]
  },
  {
   "cell_type": "markdown",
   "metadata": {},
   "source": [
    "Code with added debug prints and `level=0` param:"
   ]
  },
  {
   "cell_type": "raw",
   "id": "7a07b660",
   "metadata": {
    "format": "text/html"
   },
   "source": [
    "<a  class=\"jupman-sol jupman-sol-toggler\" \n",
    " onclick=\"jupman.toggleSolution(this);\" \n",
    " data-jupman-show=\"Show solution\" data-jupman-hide=\"Hide\">Show solution</a><div class=\"jupman-sol jupman-sol-code\" style=\"display:none\">  "
   ]
  },
  {
   "cell_type": "code",
   "execution_count": 44,
   "metadata": {},
   "outputs": [
    {
     "name": "stdout",
     "output_type": "stream",
     "text": [
      " [4, 2, 6, 2, 9, 4, 8, 1, 5, 7, 1]\n",
      "     [4, 2, 6, 2, 9]\n",
      "         [4, 2]\n",
      "             [4]\n",
      "         p= 4\n",
      "             [2]\n",
      "         q= 2\n",
      "     p= 6\n",
      "         [6, 2, 9]\n",
      "             [6]\n",
      "         p= 6\n",
      "             [2, 9]\n",
      "                 [2]\n",
      "             p= 2\n",
      "                 [9]\n",
      "             q= 9\n",
      "         q= 11\n",
      "     q= 17\n",
      " p= 23\n",
      "     [4, 8, 1, 5, 7, 1]\n",
      "         [4, 8, 1]\n",
      "             [4]\n",
      "         p= 4\n",
      "             [8, 1]\n",
      "                 [8]\n",
      "             p= 8\n",
      "                 [1]\n",
      "             q= 1\n",
      "         q= 9\n",
      "     p= 13\n",
      "         [5, 7, 1]\n",
      "             [5]\n",
      "         p= 5\n",
      "             [7, 1]\n",
      "                 [7]\n",
      "             p= 7\n",
      "                 [1]\n",
      "             q= 1\n",
      "         q= 8\n",
      "     q= 13\n",
      " q= 26\n",
      "49\n"
     ]
    }
   ],
   "source": [
    "def cadillac(lst, level=0):\n",
    "    \n",
    "    print('    '*level,lst)\n",
    "    \n",
    "    #  By repeatedly reducing input size, do we eventually end up in a branch with a return?\n",
    "    #  YES !\n",
    "    if len(lst) == 0:                 # 1\n",
    "        return 0                      # 1\n",
    "    \n",
    "    #  By repeatedly reducing input size, do we eventually end up in a branch with a return?\n",
    "    #  YES !\n",
    "    if len(lst) == 1:                 # 1\n",
    "        return lst[0]                 # 1\n",
    "\n",
    "    # Are we reducing input size when calling cadillac? \n",
    "    # YES !\n",
    "    k = len(lst) // 2                 # 1\n",
    "    p = cadillac(lst[:k], level + 1)   # slice creation: n/2  + recursive call cost:?\n",
    "    print('    '*level, 'p=', p)\n",
    "    q = cadillac(lst[k:], level + 1)   # slice creation: n/2  + recursive call cost:?\n",
    "    print('    '*level, 'q=', q)\n",
    "    return p + q                      # 1\n",
    "    \n",
    "\n",
    "res = cadillac([4,2,6,2,9,4,8,1,5,7,1])\n",
    "print(res)\n",
    "assert res == 49"
   ]
  },
  {
   "cell_type": "raw",
   "id": "fc53a2a2",
   "metadata": {
    "format": "text/html"
   },
   "source": [
    "</div>"
   ]
  },
  {
   "cell_type": "code",
   "execution_count": 44,
   "metadata": {},
   "outputs": [
    {
     "name": "stdout",
     "output_type": "stream",
     "text": [
      " [4, 2, 6, 2, 9, 4, 8, 1, 5, 7, 1]\n",
      "     [4, 2, 6, 2, 9]\n",
      "         [4, 2]\n",
      "             [4]\n",
      "         p= 4\n",
      "             [2]\n",
      "         q= 2\n",
      "     p= 6\n",
      "         [6, 2, 9]\n",
      "             [6]\n",
      "         p= 6\n",
      "             [2, 9]\n",
      "                 [2]\n",
      "             p= 2\n",
      "                 [9]\n",
      "             q= 9\n",
      "         q= 11\n",
      "     q= 17\n",
      " p= 23\n",
      "     [4, 8, 1, 5, 7, 1]\n",
      "         [4, 8, 1]\n",
      "             [4]\n",
      "         p= 4\n",
      "             [8, 1]\n",
      "                 [8]\n",
      "             p= 8\n",
      "                 [1]\n",
      "             q= 1\n",
      "         q= 9\n",
      "     p= 13\n",
      "         [5, 7, 1]\n",
      "             [5]\n",
      "         p= 5\n",
      "             [7, 1]\n",
      "                 [7]\n",
      "             p= 7\n",
      "                 [1]\n",
      "             q= 1\n",
      "         q= 8\n",
      "     q= 13\n",
      " q= 26\n",
      "49\n"
     ]
    }
   ],
   "source": [
    "def cadillac(lst, level=0):\n",
    "    raise Exception('TODO IMPLEMENT ME !')\n",
    "\n",
    "res = cadillac([4,2,6,2,9,4,8,1,5,7,1])\n",
    "print(res)\n",
    "assert res == 49"
   ]
  },
  {
   "cell_type": "markdown",
   "metadata": {},
   "source": [
    "### Exercise - ducati\n",
    "\n",
    "The following function is similar to the previous one, but doesn't create slices\n",
    "\n",
    "* `lst` : list of $n$ integers\n",
    "* `i` : left integer index _included_\n",
    "* `j` : right integer index _excluded_\n",
    "\n",
    "\n",
    "1. Does it behave the same? \n",
    "2. What's the time complexity?"
   ]
  },
  {
   "cell_type": "code",
   "execution_count": 45,
   "metadata": {},
   "outputs": [],
   "source": [
    "def ducati_rec(lst, i,j):    \n",
    "    interval =  j - i              \n",
    "    \n",
    "    if interval == 0:              \n",
    "        return 0                   \n",
    "    \n",
    "    if interval == 1:              \n",
    "        return lst[i]              \n",
    "    \n",
    "    k = i + (interval // 2)        \n",
    "    p = ducati_rec(lst,i,k)        \n",
    "    q = ducati_rec(lst,k,j)        \n",
    "    return p + q                       \n",
    "\n",
    "def ducati(lst):                   \n",
    "    return ducati_rec(lst,0,len(lst))    "
   ]
  },
  {
   "cell_type": "raw",
   "id": "50a77a5f",
   "metadata": {
    "format": "text/html"
   },
   "source": [
    "<a  class=\"jupman-sol jupman-sol-toggler\" \n",
    " onclick=\"jupman.toggleSolution(this);\" \n",
    " data-jupman-show=\"Show answer\" data-jupman-hide=\"Hide\">Show answer</a><div class=\"jupman-sol jupman-sol-question\" style=\"display:none\">  "
   ]
  },
  {
   "cell_type": "markdown",
   "metadata": {},
   "source": [
    "**ANSWER**: It's still a sum of the elements, but executes faster, the complexity is $O(\\log{n} + n) = O(n)$\n",
    "\n",
    "Notice this time we are not creating slices, we only calculate the splitting points $log_2(n)$, times and only at the very end of recursion we extract $n$ values from the list to sum them up, so cost is the _maximum_ between the two:  $O(\\log{n} + n) = O(n)$\n",
    "\n",
    "```\n",
    "                n                       recursion level\n",
    "|                               |       1  \n",
    "|               |               |       2\n",
    "|       |       |       |       |       3\n",
    "|   |   |   |   |   |   |   |   |       .\n",
    "|-|-|-|-|-|-|-|-|-|-|-|-|-|-|-|-|       log_2(n)\n",
    "\n",
    "```\n",
    "\n",
    "```python\n",
    "def ducati_rec(lst, i,j):\n",
    "    #jupman-raise\n",
    "    interval =  j - i              # 1\n",
    "    \n",
    "    if interval == 0:              # 1\n",
    "        return 0                   # 1\n",
    "    \n",
    "    if interval == 1:              # 1\n",
    "        return lst[i]              # 1\n",
    "    \n",
    "    k = i + (interval // 2)        # 1\n",
    "    p = ducati_rec(lst,i,k)        # recursive call: ?\n",
    "    q = ducati_rec(lst,k,j)        # 1 \n",
    "    return p + q                   # 1\n",
    "    #/jupman-raise\n",
    "\n",
    "def ducati(lst):                         # 1\n",
    "    return ducati_rec(lst,0,len(lst))    # 1\n",
    "```"
   ]
  },
  {
   "cell_type": "raw",
   "id": "dcb67e62",
   "metadata": {
    "format": "text/html"
   },
   "source": [
    "</div>"
   ]
  },
  {
   "cell_type": "markdown",
   "metadata": {},
   "source": [
    "## Analysis - more exercises\n",
    "\n",
    "\n",
    "[Theory exercises (complexity, tree visits, graph visits) - by Alberto Montresor](https://drive.google.com/drive/folders/1RwjiSvIq60Z9mj_gCd5K2E6Bj9y1R0CL)\n",
    "\n",
    "\n",
    "## Recursion - more exercises\n",
    "\n",
    "[Computer Science Circles](https://cscircles.cemc.uwaterloo.ca/16-recursion/): nice chapter about recursion with some exercises\n",
    "\n",
    "[W3 Resources](https://www.w3resource.com/python-exercises/data-structures-and-algorithms/python-recursion.php): some recursion exercises\n",
    "\n",
    "[Edabit](https://edabit.com/challenges): Search by setting 'Recursion' as tag - notice many provided solutions are not actually in recursive format.\n",
    "\n",
    "Geeks for geeks (Pyhton solutions are typically provided down in the pages):\n",
    "\n",
    "- [questions set 2](https://www.geeksforgeeks.org/practice-questions-for-recursion-set-2/?ref=rp)\n",
    "- [questions set 3](https://www.geeksforgeeks.org/practice-questions-for-recursion-set-3/?ref=lbp)\n",
    "- [questions set 4](https://www.geeksforgeeks.org/practice-questions-for-recursion-set-4/?ref=rp)\n",
    "- [questions set 5](https://www.geeksforgeeks.org/practice-questions-for-recursion-set-5/?ref=lbp)\n",
    "- [questions 6](https://www.geeksforgeeks.org/practice-questions-for-recursion-set-6/?ref=lbp)\n",
    "- [questions 7](https://www.geeksforgeeks.org/practice-questions-for-recursion-set-7/?ref=lbp)\n",
    "- [Length of a string](https://www.geeksforgeeks.org/program-for-length-of-a-string-using-recursion/)\n",
    "- [Recursive programs to find min and max](https://www.geeksforgeeks.org/recursive-programs-to-find-minimum-and-maximum-elements-of-array/?ref=rp)\n",
    "- [Print a pattern without using any loop](https://www.geeksforgeeks.org/print-a-pattern-without-using-any-loop/)\n",
    "- [Sum triangle from array](https://www.geeksforgeeks.org/sum-triangle-from-array/)\n",
    "- [Print all n-digit strictly increasing numbers](https://www.geeksforgeeks.org/print-all-n-digit-strictly-increasing-numbers/)\n",
    "- [Recursive insertion sort](https://www.geeksforgeeks.org/recursive-insertion-sort/?ref=rp)\n"
   ]
  },
  {
   "cell_type": "code",
   "execution_count": null,
   "metadata": {},
   "outputs": [],
   "source": []
  }
 ],
 "metadata": {
  "celltoolbar": "Edit Metadata",
  "kernelspec": {
   "display_name": "Python 3",
   "language": "python",
   "name": "python3"
  },
  "language_info": {
   "codemirror_mode": {
    "name": "ipython",
    "version": 3
   },
   "file_extension": ".py",
   "mimetype": "text/x-python",
   "name": "python",
   "nbconvert_exporter": "python",
   "pygments_lexer": "ipython3",
   "version": "3.7.9"
  },
  "toc": {
   "base_numbering": 1,
   "nav_menu": {},
   "number_sections": false,
   "sideBar": true,
   "skip_h1_title": false,
   "title_cell": "Table of Contents",
   "title_sidebar": "Contents",
   "toc_cell": false,
   "toc_position": {},
   "toc_section_display": true,
   "toc_window_display": true
  }
 },
 "nbformat": 4,
 "nbformat_minor": 4
}
