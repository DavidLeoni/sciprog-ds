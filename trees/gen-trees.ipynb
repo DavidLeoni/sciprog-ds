{
 "cells": [
  {
   "cell_type": "code",
   "execution_count": 1,
   "metadata": {
    "nbsphinx": "hidden"
   },
   "outputs": [],
   "source": [],
   "transient": {
    "remove_source": true
   }
  },
  {
   "cell_type": "markdown",
   "metadata": {
    "collapsed": true
   },
   "source": [
    "\n",
    "# Generic Trees \n",
    "\n",
    "## [Download exercises zip](../_static/generated/trees.zip) \n",
    "(before editing read whole introduction sections 0.x)\n",
    "\n",
    "[Browse files online](https://github.com/DavidLeoni/sciprog-ds/tree/master/trees)\n",
    "\n",
    "## 0. Introduction\n",
    "\n",
    "Before tackling generic trees please see first [binary trees](https://sciprog.davidleoni.it/trees/bin-trees.html)\n",
    "\n",
    "### What to do\n",
    "\n",
    "- unzip exercises in a folder, you should get something like this: \n",
    "\n",
    "```\n",
    "trees\n",
    "   gen_tree.py               \n",
    "   gen_tree_sol.py            \n",
    "   gen_tree_test.py   \n",
    "   bin_tree_test.py\n",
    "   bin_tree.py               \n",
    "   bin_tree_sol.py   \n",
    "   jupman.py\n",
    "   sciprog.py\n",
    "   trees.ipynb     \n",
    "```\n",
    "\n",
    "\n",
    "- open the editor of your choice (for example Visual Studio Code, Spyder or PyCharme), you will edit the files ending in `.py` files\n",
    "- Go on reading this notebook, and follow instuctions inside.\n"
   ]
  },
  {
   "cell_type": "markdown",
   "metadata": {
    "collapsed": true
   },
   "source": [
    "\n",
    "### 0.1 References\n",
    "\n",
    "See\n",
    "\n",
    "* Luca Bianco [Generic Tree theory](https://sciproalgo2020.readthedocs.io/en/latest/slides/Lecture6.pdf) \n",
    "* [Trees on the book](https://runestone.academy/runestone/books/published/pythonds/Trees/toctree.html)\n",
    "    * In particular, [Vocabulary and definitions](https://runestone.academy/runestone/books/published/pythonds/Trees/VocabularyandDefinitions.html)\n",
    "\n",
    "![labeled iiuiue9](img/gt-labeled.png)"
   ]
  },
  {
   "cell_type": "markdown",
   "metadata": {},
   "source": [
    "In this worksheet we are going to provide an implementation of a `GenericTree` class:\n",
    "\n",
    "* Why `GenericTree` ? Because many object hierarchies in real life tend to have many interlinked pointers this, in one form or another \n",
    "* Differently from the `LinkedList`, which actually had two classes `Node` and `LinkedList` that was pointing to the first node, in this case we just have one `GenericTree` class. So to grow a tree like the above one in the picture, for each of the boxes that you see we will need to create one instance of `GenericTree` and link it to the other instances.\n",
    "* Ordinary simple trees just hold pointers to the children. In this case, we have an enriched tree which holds ponters also up to the  _parent_ and on the right to the _siblings_. Whenever we are going to manipulate the tree, we need to take good care of updating these pointers. \n",
    "\n",
    "<div class=\"alert alert-info\">\n",
    "\n",
    "**Do we need sidelinks and backlinks ?**: \n",
    "\n",
    "Here we use sidelinks and backlinks like `_sibling` and `_parent` for exercise purposes, but keep in mind such extra links need to be properly managed  when you write algorithms and thus increase the likelihood of introducing bugs.\n",
    "\n",
    "As a general rule of thumb, if you are to design a data structure, always first try to start making it unidirectional (like for example the BinTree we've seen before). Then, if you notice you really need extra links (for example to quickly traverse a tree from a node up to the root), you can always add them in a later development iteration.  \n",
    "\n",
    "</div>\n",
    "\n",
    "\n",
    "\n"
   ]
  },
  {
   "cell_type": "markdown",
   "metadata": {},
   "source": [
    "\n",
    "\n",
    "<div class=\"alert alert-info\">\n",
    "\n",
    "**ROOT NODE**: In this context, we call a node _root_ \n",
    "        if has no incoming edges _and_ it has no parent nor sibling\n",
    "</div>\n",
    "\n",
    "<div class=\"alert alert-info\">\n",
    "\n",
    "**DETACHING A NODE**: In this context, when we _detach_ a node from a tree, \n",
    "the node  becomes the _root_ of a new tree, which means it will have no \n",
    "link anymore with the tree it was in.\n",
    "</div>"
   ]
  },
  {
   "cell_type": "markdown",
   "metadata": {},
   "source": [
    "### 0.2 Code skeleton\n",
    "\n",
    "Look at the files:\n",
    "\n",
    "* `trees/gen_tree.py`    : the exercise to edit\n",
    "* `trees/gen_tree_test.py`: the tests to run. Do not modify this file.\n",
    "\n",
    "\n",
    "Before starting to implement methods in `GenericTree` class, read all the following sub sections (starting with '0.x')\n"
   ]
  },
  {
   "cell_type": "markdown",
   "metadata": {},
   "source": [
    "\n",
    "### 0.3 Building trees\n",
    "\n",
    "Let's learn how to build `GenericTree`. For these trials, feel free to launch a Python 3 interpreter and load this module: "
   ]
  },
  {
   "cell_type": "code",
   "execution_count": 2,
   "metadata": {},
   "outputs": [],
   "source": [
    "from gen_tree_sol import *"
   ]
  },
  {
   "cell_type": "markdown",
   "metadata": {},
   "source": [
    "\n",
    "### 0.3.1 Pointers\n",
    "\n",
    "A `GenericTree` class holds 3 pointers that link it to the other nodes: `_child`, `_sibling` and `_parent`.\n",
    "So this time we have to manage more pointers, in particular beware of the `_parent` one which as a matter of fact creates cycles in the structure.\n",
    "\n",
    "It also holds a value `data` which is provided by the user to store arbitrary data (could be ints, strings, lists, even other trees, we don't care):\n",
    "\n",
    "```python\n",
    "\n",
    "class GenericTree:\n",
    "    \n",
    "    def __init__(self, data):\n",
    "        self._data = data\n",
    "        self._child = None\n",
    "        self._sibling = None\n",
    "        self._parent = None   \n",
    "```\n",
    "\n",
    "To create a tree of one node, just call the constructor passing whatever you want like this:\n"
   ]
  },
  {
   "cell_type": "code",
   "execution_count": 3,
   "metadata": {},
   "outputs": [],
   "source": [
    "tblah = GenericTree(\"blah\")\n",
    "tn = GenericTree(5)"
   ]
  },
  {
   "cell_type": "markdown",
   "metadata": {},
   "source": [
    "\n",
    "Note that with the provided constructor you can't pass children.\n",
    "\n",
    "### 0.3.2 Building with `insert_child`\n",
    "\n",
    "To grow a `GenericTree`, as basic building block you will have to implement `insert_child`:\n",
    "\n",
    "```python\n",
    "    def insert_child(self, new_child):        \n",
    "        \"\"\" Inserts new_child at the beginning of the children sequence. \"\"\"               \n",
    "```\n",
    "\n",
    "<div class=\"alert alert-warning\">\n",
    "\n",
    "**WARNING**: here we insert a **node** !!\n",
    "\n",
    "Differently from the `BinTree`, this time instead of passing _data_ we pass a _node_. This can cause more troubles than before, as when we add a `new_child` we must be careful it doesn't have wrong pointers. For example, think the case when you insert node B as child of node A, but by mistake you previously set B `_child` field to point to A. Such a cycle  would not be a tree anymore and would basically disrupt any algorithm you would try to run.\n",
    "</div>\n",
    "\n",
    "You can call it like this:"
   ]
  },
  {
   "cell_type": "code",
   "execution_count": 4,
   "metadata": {},
   "outputs": [
    {
     "name": "stdout",
     "output_type": "stream",
     "text": [
      "a\n"
     ]
    }
   ],
   "source": [
    "\n",
    "ta = GenericTree('a')\n",
    "print(ta)   # 'a' is the root\n"
   ]
  },
  {
   "cell_type": "code",
   "execution_count": 5,
   "metadata": {},
   "outputs": [
    {
     "name": "stdout",
     "output_type": "stream",
     "text": [
      "a\n",
      "└b\n"
     ]
    }
   ],
   "source": [
    "   \n",
    "tb = GenericTree('b')\n",
    "ta.insert_child(tb)\n",
    "print(ta)"
   ]
  },
  {
   "cell_type": "markdown",
   "metadata": {},
   "source": [
    "```\n",
    "a     'a' is the root \n",
    "└b    'b' is the child . The '└' means just that it is also the last child of the siblings sequence\n",
    "```"
   ]
  },
  {
   "cell_type": "code",
   "execution_count": 6,
   "metadata": {},
   "outputs": [
    {
     "name": "stdout",
     "output_type": "stream",
     "text": [
      "a\n",
      "├c\n",
      "└b\n"
     ]
    }
   ],
   "source": [
    "tc = GenericTree('c')\n",
    "ta.insert_child(tc)\n",
    "print(ta)"
   ]
  },
  {
   "cell_type": "markdown",
   "metadata": {},
   "source": [
    "```\n",
    "a          # 'a' is the root \n",
    "├c         # 'c' is inserted as the first child (would be shown on the left in the graph image)\n",
    "└b         # 'b' is now the next sibling of c  The '\\' means just that it \n",
    "           #  is also the last child of the siblings sequence\n",
    "```\n"
   ]
  },
  {
   "cell_type": "code",
   "execution_count": 7,
   "metadata": {},
   "outputs": [
    {
     "name": "stdout",
     "output_type": "stream",
     "text": [
      "a\n",
      "├c\n",
      "│└d\n",
      "└b\n"
     ]
    }
   ],
   "source": [
    "td = GenericTree('d')\n",
    "tc.insert_child(td)\n",
    "print(ta)"
   ]
  },
  {
   "cell_type": "markdown",
   "metadata": {},
   "source": [
    "```\n",
    "a         # 'a' is the root \n",
    "├c        # 'c' is the first child of 'a'\n",
    "|└d       # 'd' is the first child of 'c'\n",
    "└b        # 'b' is the next sibling of c\n",
    "```"
   ]
  },
  {
   "cell_type": "markdown",
   "metadata": {},
   "source": [
    "\n",
    "### 0.3.3 Building with `gt`\n",
    "\n",
    "If you need to test your data structure, we provide you with this handy function `gt` in `gen_tree_test` module that allows to easily construct trees from other trees.\n",
    "\n",
    "<br/>\n",
    "\n",
    "<div class=\"alert alert-warning\">\n",
    "\n",
    "**WARNING:** DO NOT USE `gt` inside your implementation code !!!! `gt` is just meant for testing.\n",
    "</div>\n",
    "\n",
    "```python\n",
    "def gt(*args):\n",
    "    \"\"\" Shorthand function that returns a GenericTree containing the provided \n",
    "        data and children. First parameter is the data, the following ones are the children.\n",
    "```"
   ]
  },
  {
   "cell_type": "code",
   "execution_count": 8,
   "metadata": {},
   "outputs": [
    {
     "name": "stdout",
     "output_type": "stream",
     "text": [
      "a\n"
     ]
    }
   ],
   "source": [
    "# first remember to import it from gen_tree_test:\n",
    "\n",
    "from gen_tree_test import gt\n",
    "\n",
    "# NOTE: this function is _not_ a class method, you can directly invoke it like this:\n",
    "print(gt('a'))"
   ]
  },
  {
   "cell_type": "code",
   "execution_count": 9,
   "metadata": {},
   "outputs": [
    {
     "name": "stdout",
     "output_type": "stream",
     "text": [
      "a\n",
      "├b\n",
      "└c\n"
     ]
    }
   ],
   "source": [
    "# NOTE: the external call gt('a', ......... )  INCLUDES gt('b') and gt('c') in the parameters !\n",
    "\n",
    "print(gt('a', gt('b'), gt('c')))\n"
   ]
  },
  {
   "cell_type": "markdown",
   "metadata": {},
   "source": [
    "### 0.4 Displaying trees side by side with `str_trees`\n",
    "\n",
    "If you have a couple of trees, like the actual one you get from your method calls and the one you expect, it might be useful to display them side by side with the `str_trees` method in `gen_tree_test` module:"
   ]
  },
  {
   "cell_type": "code",
   "execution_count": 10,
   "metadata": {},
   "outputs": [
    {
     "name": "stdout",
     "output_type": "stream",
     "text": [
      "ACTUAL    EXPECTED\n",
      "a         x\n",
      "└b        ├y\n",
      "          └z\n",
      "\n"
     ]
    }
   ],
   "source": [
    "# first remember to import it:\n",
    "\n",
    "from gen_tree_test import str_trees\n",
    "\n",
    "# NOTE: this function is _not_ a class method, you can directly invoke it like this:\n",
    "print(str_trees(gt('a', gt('b')), gt('x', gt('y'), gt('z'))))"
   ]
  },
  {
   "cell_type": "markdown",
   "metadata": {},
   "source": [
    "###  0.5 Look at the tests\n",
    "\n",
    "Have a look at the `gen_tree_test.py` file header, notice it imports `GenericTree` class from exercises file `gen_tree`:\n",
    "\n",
    "```python\n",
    "from gen_tree import *\n",
    "import unittest\n",
    "```\n",
    "\n",
    "### 0.6 Look at gen_tree_test.GenericTreeTest\n",
    "\n",
    "Have a quick look at `GenericTreeTest` definitions inside `gen_tree_test` :\n",
    "\n",
    "```python\n",
    "class GenericTreeTest(unittest.TestCase):\n",
    "\n",
    "    def assertReturnNone(self, ret, function_name):\n",
    "        \"\"\" Asserts method result ret equals None \"\"\"\n",
    "\n",
    "    def assertRoot(self, t):\n",
    "        \"\"\" Checks provided node t is a root, if not raises Exception \"\"\"\n",
    "\n",
    "    def assertTreeEqual(self, t1, t2):\n",
    "        \"\"\" Asserts the trees t1 and t2 are equal \"\"\"\n",
    "```\n",
    "\n",
    "We see we added extra asserts you will later find used around in test methods. Of these ones, the most important is `assertTreeEqual`: when you have complex data structures like trees, it is helpful being able to compare the tree you obtain from your method calls to the tree you expect. This assertion we created provides a way to quickly display such differences. "
   ]
  },
  {
   "cell_type": "markdown",
   "metadata": {},
   "source": [
    "\n",
    "\n",
    "## 1 Implement basic methods \n",
    "\n",
    "![labeled 99f9guggo](img/gt-labeled.png)\n",
    "\n",
    "Start editing `gen_tree.py`, implementing methods in `GenericTree` in the order you find them in the next points.\n",
    "\n",
    "<br/>\n",
    "<div class=\"alert alert-info\">\n",
    "\n",
    "**IMPORTANT**: All methods and functions without written inside `raise Exception(\"TODO IMPLEMENT ME!\")` are already provided and you don't need to edit them !\n",
    "</div>\n",
    "\n",
    "\n"
   ]
  },
  {
   "cell_type": "markdown",
   "metadata": {},
   "source": [
    "### 1.1 insert_child\n",
    "\n",
    "Implement method `insert_child`, which is the basic building block for our `GenericTree`:\n",
    "\n",
    "<div class=\"alert alert-warning\">\n",
    "\n",
    "**WARNING**: here we insert a **node** !!\n",
    "\n",
    "Differently from the `BinTree`, this time instead of passing _data_ we pass a _node_. This implies that inside the `insert_child` method you will have to take care of pointers of `new_child`: for example, you will need to set the `_parent` pointer of `new_child` to point to the current node you are attaching to (that is, `self`)\n",
    "</div>\n",
    "\n",
    "```python\n",
    "    def insert_child(self, new_child):        \n",
    "        \"\"\" Inserts new_child at the beginning of the children sequence. \"\"\"\n",
    "```\n",
    "\n",
    "**IMPORTANT**: before proceding, make sure the tests for it pass by running:\n",
    "\n",
    "`python3 -m unittest gen_tree_test.InsertChildTest`\n",
    "\n",
    "**QUESTION**: Look at the tests, they are quite thourough and verbose. Why ?\n",
    "\n"
   ]
  },
  {
   "cell_type": "markdown",
   "metadata": {},
   "source": [
    "###  1.2 insert_children\n",
    "\n",
    "Implement `insert_children`:\n",
    "\n",
    "```python\n",
    "    def insert_children(self, new_children):        \n",
    "        \"\"\" Takes a list of children and inserts them at the beginning of the \n",
    "            current children sequence,\n",
    "            \n",
    "            NOTE: in the new sequence new_children appear in the order they \n",
    "                  are passed to the function!\n",
    "            \n",
    "        \n",
    "            For example:\n",
    "                >>> t = gt('a', gt('b'), gt('c))\n",
    "                >>> print t\n",
    "                \n",
    "                a\n",
    "                ├b                                \n",
    "                └c\n",
    "\n",
    "                >>>  t.insert_children([gt('d'), gt('e')])\n",
    "                >>> print t               \n",
    "                \n",
    "                a\n",
    "                ├d\n",
    "                ├e\n",
    "                ├b                \n",
    "                └c\n",
    "        \"\"\"\n",
    "```\n",
    "\n",
    "\n",
    "**HINT 1**: try to reuse `insert_child`, but note it inserts only to the left. Calling it on the input sequence you would get wrong ordering in the tree. \n",
    "\n",
    "<br/>\n",
    "<div class=\"alert alert-warning\">\n",
    "\n",
    "**WARNING**: Function description does not say anything about changing the input `new_children`, so users calling your method don't expect you to modify it ! However, you can internally produce a new Python list out of the input one, if you wish to. \n",
    "</div>\n",
    "\n",
    "**Testing:**  `python3 -m unittest gen_tree_test.InsertChildrenTest`\n",
    "\n"
   ]
  },
  {
   "cell_type": "markdown",
   "metadata": {},
   "source": [
    "###  1.3 insert_sibling\n",
    "\n",
    "\n",
    "Implement `insert_sibling`:\n",
    "\n",
    "```python\n",
    "    def insert_sibling(self, new_sibling):\n",
    "        \"\"\" Inserts new_sibling as the *immediate* next sibling.\n",
    "            \n",
    "            If self is a root, raises an Exception \n",
    "        \"\"\"\n",
    "```\n",
    "\n",
    "**Testing:**  `python3 -m unittest tree_test.InsertSiblingTest`\n",
    "\n",
    "**Examples:**\n",
    "\n"
   ]
  },
  {
   "cell_type": "code",
   "execution_count": 11,
   "metadata": {},
   "outputs": [
    {
     "name": "stdout",
     "output_type": "stream",
     "text": [
      "a\n",
      "├b\n",
      "└c\n"
     ]
    }
   ],
   "source": [
    "tb = gt('b')\n",
    "ta = gt('a', tb, gt('c'))\n",
    "print(ta)"
   ]
  },
  {
   "cell_type": "code",
   "execution_count": 12,
   "metadata": {},
   "outputs": [
    {
     "name": "stdout",
     "output_type": "stream",
     "text": [
      "x\n",
      "└y\n"
     ]
    }
   ],
   "source": [
    "tx = gt('x', gt('y'))\n",
    "print(tx)"
   ]
  },
  {
   "cell_type": "code",
   "execution_count": 13,
   "metadata": {},
   "outputs": [
    {
     "name": "stdout",
     "output_type": "stream",
     "text": [
      "a\n",
      "├b\n",
      "├x\n",
      "│└y\n",
      "└c\n"
     ]
    }
   ],
   "source": [
    "tb.insert_sibling(tx)\n",
    "print(ta)"
   ]
  },
  {
   "cell_type": "markdown",
   "metadata": {},
   "source": [
    "**QUESTION**: if you call `insert_sibling` an a root node such as `ta`, you should get an Exception. Why? Does it make sense to have parentless brothers ?\n",
    "\n",
    "```python\n",
    "ta.insert_sibling(g('z'))\n",
    "```\n",
    "\n",
    "```\n",
    "---------------------------------------------------------------------------\n",
    "Exception                                 Traceback (most recent call last)\n",
    "<ipython-input-35-a1e4ba8b1ee5> in <module>()\n",
    "----> 1 ta.insert_sibling(gt('z'))\n",
    "\n",
    "~/Da/prj/sciprolab2/prj/trees/tree_sol.py in insert_sibling(self, new_sibling)\n",
    "    128         \"\"\"\n",
    "    129         if (self.is_root()):\n",
    "--> 130             raise Exception(\"Can't add siblings to a root node !!\")\n",
    "    131 \n",
    "    132         new_sibling._parent = self._parent\n",
    "\n",
    "Exception: Can't add siblings to a root node !!\n",
    "```"
   ]
  },
  {
   "cell_type": "markdown",
   "metadata": {},
   "source": [
    "\n",
    "### 1.4 `insert_siblings`\n",
    "\n",
    "\n",
    "**Testing:**  `python3 -m unittest tree_test.InsertSiblingsTest`\n",
    "\n",
    "###  1.5 `detach_child`\n",
    "\n",
    "**QUESTION**: does a detached child have still any parent or sibling ?\n",
    "\n",
    "**Testing:**  `python3 -m unittest tree_test.DetachChildTest`\n",
    "\n",
    "### 1.6 `detach_sibling`\n",
    "\n",
    "**Testing:**  `python3 -m unittest tree_test.DetachSiblingTest`\n",
    "\n",
    "### 1.7 `detach`\n",
    "\n",
    "**Testing:**  `python3 -m unittest tree_test.DetachTest`\n",
    "\n",
    "### 1.8 `ancestors`\n",
    "\n",
    "![labeled iu9ug8g9](img/gt-labeled.png)\n",
    "\n",
    "Implement `ancestors`:\n",
    "\n",
    "```python\n",
    "def ancestors(self):\n",
    "        \"\"\" Return the ancestors up until the root as a Python list.             \n",
    "            First item in the list will be the parent of this node.\n",
    "\n",
    "            NOTE: this function return the *nodes*, not the data.\n",
    "        \"\"\"\n",
    "```\n",
    "\n",
    "**Testing:** `python3 -m unittest gen_tree_test.AncestorsTest`\n",
    "\n",
    "**Examples:**\n",
    "\n",
    "- ancestors of p:  f, b, a\n",
    "- ancestors of h:  c, a\n",
    "- ancestors of a:  empty list\n",
    "\n"
   ]
  },
  {
   "cell_type": "markdown",
   "metadata": {},
   "source": [
    "## 2 Implement more complex functions\n",
    "\n",
    "After you understood well and implemented the previous methods, you can continue with the following ones:\n",
    "\n",
    "### 2.1 `grandchildren`\n",
    "\n",
    "Implement the `grandchildren` method. *NOTE*: it returns the data inside the nodes, NOT the nodes !!!!!\n",
    "\n",
    "```python\n",
    "    def grandchildren(self):\n",
    "        \"\"\" Returns a python list containing the data of all the\n",
    "            grandchildren of this node.\n",
    "            \n",
    "            - Data must be from left to right order in the tree horizontal\n",
    "              representation (or up to down in the vertical representation). \n",
    "            - If there are no grandchildren, returns an empty array.\n",
    "            \n",
    "            For example, for this tree:\n",
    "            \n",
    "            a\n",
    "            ├b\n",
    "            │├c\n",
    "            │└d\n",
    "            │ └g\n",
    "            ├e\n",
    "            └f\n",
    "             └h  \n",
    "            \n",
    "            Returns ['c','d','h']\n",
    "        \"\"\"        \n",
    "```\n",
    "\n",
    "**Testing**: `python3 -m unittest gen_tree_test.ZagTest`\n",
    "\n",
    "**Examples**:  \n"
   ]
  },
  {
   "cell_type": "code",
   "execution_count": 14,
   "metadata": {},
   "outputs": [
    {
     "name": "stdout",
     "output_type": "stream",
     "text": [
      "a\n",
      "└b\n",
      " └c\n"
     ]
    }
   ],
   "source": [
    "ta = gt('a', gt('b', gt('c')))\n",
    "print(ta)"
   ]
  },
  {
   "cell_type": "code",
   "execution_count": 15,
   "metadata": {},
   "outputs": [
    {
     "name": "stdout",
     "output_type": "stream",
     "text": [
      "['c']\n"
     ]
    }
   ],
   "source": [
    "print(ta.grandchildren())"
   ]
  },
  {
   "cell_type": "code",
   "execution_count": 16,
   "metadata": {},
   "outputs": [
    {
     "name": "stdout",
     "output_type": "stream",
     "text": [
      "a\n",
      "└b\n"
     ]
    }
   ],
   "source": [
    "ta = gt('a', gt('b'))\n",
    "print(ta)"
   ]
  },
  {
   "cell_type": "code",
   "execution_count": 17,
   "metadata": {},
   "outputs": [
    {
     "name": "stdout",
     "output_type": "stream",
     "text": [
      "[]\n"
     ]
    }
   ],
   "source": [
    "print(ta.grandchildren())"
   ]
  },
  {
   "cell_type": "code",
   "execution_count": 18,
   "metadata": {},
   "outputs": [
    {
     "name": "stdout",
     "output_type": "stream",
     "text": [
      "a\n",
      "├b\n",
      "│├c\n",
      "│└d\n",
      "└e\n",
      " └f\n"
     ]
    }
   ],
   "source": [
    "ta = gt('a', gt('b', gt('c'), gt('d')), gt('e', gt('f')) )\n",
    "print(ta)"
   ]
  },
  {
   "cell_type": "code",
   "execution_count": 19,
   "metadata": {},
   "outputs": [
    {
     "name": "stdout",
     "output_type": "stream",
     "text": [
      "['c', 'd', 'f']\n"
     ]
    }
   ],
   "source": [
    "print(ta.grandchildren())"
   ]
  },
  {
   "cell_type": "markdown",
   "metadata": {},
   "source": [
    "###  2.2 Zig Zag\n",
    "\n",
    "Here you will be visiting a generic tree in various ways.\n",
    "\n",
    "![labeled jii4u43](img/gt-labeled.png)\n",
    "\n",
    "\n",
    "#### 2.2.1 zig\n",
    "\n",
    "The method zig must return as output a list of data of the root and all the nodes in the chain of child attributes. Basically, you just have to follow the red lines and gather data in a list, until there are no more red lines to follow. \n",
    "\n",
    "**Testing**: `python3 -m unittest tree_test.ZigTest`\n",
    "\n",
    "**Examples**: in the labeled tree in the image, these would be the results of calling zig on various nodes:\n",
    "\n",
    "    From a: ['a','b', 'e']\n",
    "    From b: ['b', 'e']\n",
    "    From c: ['c', 'g']\n",
    "    From h: ['h']\n",
    "    From q: ['h']\n",
    "    \n",
    "    \n"
   ]
  },
  {
   "cell_type": "markdown",
   "metadata": {},
   "source": [
    "\n",
    "#### 2.2.2 zag\n",
    "\n",
    "This function is quite similar to zig, but this time it gathers data going right, along the sibling arrows. \n",
    "\n",
    "**Testing**: `python3 -m unittest gen_tree_test.ZagTest`\n",
    "\n",
    "**Examples**:  in the labeled tree in the image, these would be the results of calling zag on various nodes:\n",
    "\n",
    "    From a : ['a']\n",
    "    From b : ['b', 'c', 'd']\n",
    "    From o : ['o', 'p']\n"
   ]
  },
  {
   "cell_type": "markdown",
   "metadata": {},
   "source": [
    "####  2.2.3 zigzag\n",
    "\n",
    "As you are surely thinking, zig and zag alone are boring. So let's mix the concepts, and go zigzaging. This time you will write a function zigzag, that first zigs collecting data along the child vertical red chain as much as it can. Then, if the last node links to at least a sibling, the method continues to collect data along the siblings horizontal chain as much as it can. At this point, if it finds a child, it goes zigging again along the child vertical red chain as much as it can, and then horizontal zaging, and so on. It continues zig-zaging like this until it reaches a node that has no child nor sibling: when this happens returns the list of data found so far.\n",
    "\n",
    "**Testing**: `python3 -m unittest tree_test.ZigZagTest`\n",
    "\n",
    "**Examples**: in the labeled tree in the image, these would be the results of calling zigzag on various nodes:\n",
    "\n",
    "    From a: ['a', 'b', 'e', 'f', 'o']\n",
    "    From c: ['c', 'g', 'h', 'i', 'q'] NOTE: if node h had a child z, the process would still proceed to i\n",
    "    From d: ['d', 'm', 'n']\n",
    "    From o: ['o', 'p']\n",
    "    From n: ['n']\n"
   ]
  },
  {
   "cell_type": "markdown",
   "metadata": {},
   "source": [
    "### 2.3 uncles\n",
    "\n",
    "Implement the `uncles` method:\n",
    "\n",
    "```python\n",
    "    def uncles(self):\n",
    "        \"\"\" RETURN a python list containing the data of all the uncles\n",
    "            of this node (that is, *all* the siblings of its parent).\n",
    "            \n",
    "            NOTE: returns also the father siblings which are *BEFORE*\n",
    "                  the father !! \n",
    "            \n",
    "            - Data must be from left to right order in the tree horizontal\n",
    "              representation (or up to down in the vertical representation)\n",
    "            - If there are no uncles, returns an empty array.\n",
    "            \n",
    "            For example, for this tree:\n",
    "            \n",
    "            a\n",
    "            ├b\n",
    "            │├c\n",
    "            │└d\n",
    "            │ └g\n",
    "            ├e\n",
    "            │└h  \n",
    "            └f\n",
    "            \n",
    "            calling this method on 'h' returns ['b','f']\n",
    "        \"\"\"        \n",
    "```\n",
    "**Testing**: `python3 -m unittest gen_tree_test.UnclesTest`\n",
    "\n",
    "**Example usages:**"
   ]
  },
  {
   "cell_type": "code",
   "execution_count": 20,
   "metadata": {},
   "outputs": [
    {
     "name": "stdout",
     "output_type": "stream",
     "text": [
      "a\n",
      "├b\n",
      "├c\n",
      "│└d\n",
      "└e\n"
     ]
    }
   ],
   "source": [
    "td = gt('d')\n",
    "tb = gt('b')\n",
    "ta = gt('a', tb,  gt('c', td), gt('e'))\n",
    "print(ta)"
   ]
  },
  {
   "cell_type": "code",
   "execution_count": 21,
   "metadata": {},
   "outputs": [
    {
     "name": "stdout",
     "output_type": "stream",
     "text": [
      "['b', 'e']\n"
     ]
    }
   ],
   "source": [
    "print(td.uncles())"
   ]
  },
  {
   "cell_type": "code",
   "execution_count": 22,
   "metadata": {},
   "outputs": [
    {
     "name": "stdout",
     "output_type": "stream",
     "text": [
      "[]\n"
     ]
    }
   ],
   "source": [
    "print(tb.uncles())"
   ]
  },
  {
   "cell_type": "markdown",
   "metadata": {},
   "source": [
    "###  2.4 common_ancestor\n",
    "\n",
    "![labeled iiug9f9](img/gt-labeled.png)\n",
    "\n",
    "Implement the method `common_ancestor`:\n",
    "\n",
    "```python\n",
    "    def common_ancestor(self, gt2):\n",
    "        \"\"\" RETURN the first common ancestor of current node and the provided \n",
    "            gt2 node\n",
    "            \n",
    "            - If gt2 is not a node of the same tree, raises LookupError\n",
    "\n",
    "            NOTE: this function returns a *node*, not the data.\n",
    "\n",
    "            Ideally, this method should perform in O(h) where h is the height \n",
    "            of the tree. \n",
    "            \n",
    "            HINT: you should use a Python Set). If you can't figure out how \n",
    "                  to make it that fast, try to make it at worst O(h^2)\n",
    "\n",
    "        \"\"\"        \n",
    "\n",
    "```\n",
    "\n",
    "**Testing**: `python3 -m unittest gen_tree_test.CommonAncestorTest`\n",
    "\n",
    "**Examples:**\n",
    "\n",
    "- common ancestor of g and i: tree rooted at c\n",
    "- common_ancestor of g and q: tree rooted at c\n",
    "- common_ancestor of e and d: tree rooted at a"
   ]
  },
  {
   "cell_type": "markdown",
   "metadata": {},
   "source": [
    "### 2.5 mirror\n",
    "\n",
    "\n",
    "```python\n",
    "    def mirror(self):\n",
    "        \"\"\" Modifies this tree by mirroring it, that is, reverses the order\n",
    "            of all children of this node and of all its descendants\n",
    "            \n",
    "            - MUST work in O(n) where n is the number of nodes\n",
    "            - MUST change the order of nodes, NOT the data (so don't touch the\n",
    "                   data !)\n",
    "            - DON'T create new nodes            \n",
    "            - It is acceptable to use a recursive method.\n",
    "                    \n",
    "            \n",
    "            Example:\n",
    "            \n",
    "            a     <-    Becomes:    a\n",
    "            ├b                      ├i\n",
    "            │├c                     ├e\n",
    "            │└d                     │├h\n",
    "            ├e                      │├g\n",
    "            │├f                     │└f \n",
    "            │├g                     └b\n",
    "            │└h                      ├d\n",
    "            └i                       └c\n",
    "\n",
    "        \"\"\"\n",
    "```\n",
    "\n",
    "**Testing**: `python3 -m unittest gen_tree_test.MirrorTest`\n"
   ]
  },
  {
   "cell_type": "markdown",
   "metadata": {},
   "source": [
    "### 2.6 clone\n",
    "\n",
    "Implement the method clone:\n",
    "\n",
    "```python\n",
    "    def clone(self):\n",
    "        \"\"\" Clones this tree, by returning an *entirely* new tree which is an \n",
    "            exact copy of this tree (so returned node and *all* its descendants\n",
    "            must be new). \n",
    "\n",
    "            - MUST run in O(n) where n is the number of nodes\n",
    "            - a recursive method is acceptable.\n",
    "        \"\"\"        \n",
    "```\n",
    "\n",
    "**Testing**: `python3 -m unittest gen_tree_test.CloneTest`"
   ]
  },
  {
   "cell_type": "markdown",
   "metadata": {},
   "source": [
    "### 2.7 rightmost\n",
    "\n",
    "\n",
    "![labeled i99kfdf](img/gt-labeled.png)"
   ]
  },
  {
   "cell_type": "markdown",
   "metadata": {},
   "source": [
    "In the example above, the rightmost branch of `a` is given by the node sequence `a`,`d`,`n`\n",
    "\n",
    "Implement this method: \n",
    "\n",
    "```python\n",
    "def rightmost(self):\n",
    "        \"\"\" RETURN a list containing the *data* of the nodes \n",
    "            in the *rightmost* branch of the tree. \n",
    "\n",
    "            Example: \n",
    "\n",
    "            a\n",
    "            ├b\n",
    "            ├c\n",
    "            |└e\n",
    "            └d\n",
    "             ├f\n",
    "             └g\n",
    "              ├h\n",
    "              └i\n",
    "\n",
    "            should give\n",
    "\n",
    "            ['a','d','g','i']\n",
    "        \"\"\"\n",
    "```\n",
    "\n",
    "**Testing**: `python3 -m unittest gen_tree_test.RightmostTest`"
   ]
  },
  {
   "cell_type": "markdown",
   "metadata": {},
   "source": [
    "### 2.8 fill_left\n",
    "\n",
    "Open `tree.py` and implement `fill_left` method: \n",
    "\n",
    "```python\n",
    "    def fill_left(self, stuff):\n",
    "        \"\"\" MODIFIES the tree by filling the leftmost branch data\n",
    "            with values from provided array 'stuff'\n",
    "            \n",
    "            - if there aren't enough nodes to fill, raise ValueError\n",
    "            - root data is not modified\n",
    "            - *DO NOT* use recursion\n",
    "\n",
    "        \"\"\"\n",
    "```\n",
    "\n",
    "**Testing**: `python3 -m unittest gen_tree_test.FillLeftTest`\n",
    "\n",
    "**Example:**\n"
   ]
  },
  {
   "cell_type": "code",
   "execution_count": 23,
   "metadata": {},
   "outputs": [],
   "source": [
    "from gen_tree_test import gt\n",
    "from gen_tree_sol import *"
   ]
  },
  {
   "cell_type": "code",
   "execution_count": 24,
   "metadata": {},
   "outputs": [],
   "source": [
    "t  = gt('a', \n",
    "            gt('b', \n",
    "                    gt('e',\n",
    "                            gt('f'), \n",
    "                            gt('g', \n",
    "                                    gt('i')),\n",
    "                    gt('h')),\n",
    "            gt('c'),\n",
    "            gt('d')))\n"
   ]
  },
  {
   "cell_type": "code",
   "execution_count": 25,
   "metadata": {},
   "outputs": [
    {
     "name": "stdout",
     "output_type": "stream",
     "text": [
      "a\n",
      "└b\n",
      " ├e\n",
      " │├f\n",
      " │├g\n",
      " ││└i\n",
      " │└h\n",
      " ├c\n",
      " └d\n"
     ]
    }
   ],
   "source": [
    "print(t)"
   ]
  },
  {
   "cell_type": "code",
   "execution_count": 26,
   "metadata": {},
   "outputs": [],
   "source": [
    "t.fill_left(['x','y'])"
   ]
  },
  {
   "cell_type": "code",
   "execution_count": 27,
   "metadata": {},
   "outputs": [
    {
     "name": "stdout",
     "output_type": "stream",
     "text": [
      "a\n",
      "└x\n",
      " ├y\n",
      " │├f\n",
      " │├g\n",
      " ││└i\n",
      " │└h\n",
      " ├c\n",
      " └d\n"
     ]
    }
   ],
   "source": [
    "print(t)"
   ]
  },
  {
   "cell_type": "code",
   "execution_count": 28,
   "metadata": {},
   "outputs": [
    {
     "name": "stdout",
     "output_type": "stream",
     "text": [
      "a\n",
      "└W\n",
      " ├V\n",
      " │├T\n",
      " │├g\n",
      " ││└i\n",
      " │└h\n",
      " ├c\n",
      " └d\n"
     ]
    }
   ],
   "source": [
    "t.fill_left(['W','V','T'])\n",
    "print(t)"
   ]
  },
  {
   "cell_type": "markdown",
   "metadata": {},
   "source": [
    "### 2.9 follow\n",
    "\n",
    "Open `tree.py` and implement `follow` method: \n",
    "\n",
    "```python\n",
    "def follow(self, positions):\n",
    "        \"\"\" \n",
    "            RETURN an array of node data, representing a branch from the\n",
    "            root down to a certain depth.\n",
    "            The path to follow is determined by given positions, which\n",
    "            is an array of integer indeces, see example.\n",
    "\n",
    "            - if provided indeces lead to non-existing nodes, raise ValueError\n",
    "            - IMPORTANT: *DO NOT* use recursion, use a couple of while instead.\n",
    "            - IMPORTANT: *DO NOT* attempt to convert siblings to \n",
    "                         a python list !!!! Doing so will give you less points!\n",
    "\n",
    "        \"\"\"\n",
    "```\n",
    "\n",
    "**Example:**\n",
    "```\n",
    "\n",
    "\n",
    "              level  01234      \n",
    "\n",
    "                     a\n",
    "                     ├b\n",
    "                     ├c\n",
    "                     |└e\n",
    "                     | ├f\n",
    "                     | ├g\n",
    "                     | |└i\n",
    "                     | └h\n",
    "                     └d            \n",
    "\n",
    "                    RETURNS\n",
    "t.follow([])        [a]          root data is always present\n",
    "t.follow([0])       [a,b]        b is the 0-th child of a\n",
    "t.follow([2])       [a,d]        d is the 2-nd child of a \n",
    "t.follow([1,0,2])   [a,c,e,h]    c is the 1-st child of a \n",
    "                                 e is the 0-th child of c \n",
    "                                 h is the 2-nd child of e\n",
    "t.follow([1,0,1,0]) [a,c,e,g,i]  c is the 1-st child of a\n",
    "                                 e is the 0-th child of c \n",
    "                                 g is the 1-st child of e\n",
    "                                 i is the 0-th child of g\n",
    "```\n",
    "\n",
    "**Testing**: `python3 -m unittest gen_tree_test.FollowTest`\n"
   ]
  },
  {
   "cell_type": "markdown",
   "metadata": {},
   "source": [
    "### 2.10  is_triangle\n",
    "\n",
    "A _triangle_ is a node which has _exactly_ two children. \n",
    "\n",
    "Let's see some example: \n",
    "\n",
    "\n",
    "```\n",
    "         a\n",
    "       /   \\\n",
    "      /     \\\n",
    "     b ----- c\n",
    "    /|\\     /  \n",
    "   d-e-f   g\n",
    "          / \\\n",
    "         h---i\n",
    "            / \n",
    "           l\n",
    "```\n",
    "\n",
    "The tree above can also be represented like this:\n",
    "\n",
    "``` \n",
    "\n",
    "    a\n",
    "    ├b\n",
    "    │├d\n",
    "    │├e\n",
    "    │└f\n",
    "    └c\n",
    "     └g\n",
    "      ├h\n",
    "      └i\n",
    "       └l\n",
    "\n",
    "```    \n",
    "\n",
    "\n",
    "- node `a` is a triangle because has _exactly_ two children `b` and `c`, note it doesn't matter if `b` or `c` have children)\n",
    "- `b` is _not_ a triangle (has 3 children)\n",
    "- `c` and `i` are _not_ triangles (have only 1 child)\n",
    "- `g` is a triangle as it has _exactly_ two children `h` and `i`\n",
    "- `d`, `e`, `f`, `h` and `l` are not triangles, because they have zero children\n",
    "\n",
    "\n",
    "Now implement this method:"
   ]
  },
  {
   "cell_type": "markdown",
   "metadata": {},
   "source": [
    "```python\n",
    "    def is_triangle(self, elems):\n",
    "        \"\"\" RETURN True if this node is a triangle matching the data  \n",
    "            given by list elems. \n",
    "            \n",
    "            In order to match:\n",
    "            - first list item must be equal to this node data\n",
    "            - second list item must be equal to this node first child data\n",
    "            - third list item must be equal to this node second child data\n",
    "\n",
    "            - if elems has less than three elements, raises ValueError\n",
    "        \"\"\"\n",
    "```\n",
    "\n",
    "**Testing**: `python -m unittest gen_tree_test.IsTriangleTest`"
   ]
  },
  {
   "cell_type": "markdown",
   "metadata": {},
   "source": [
    "**Examples**: \n"
   ]
  },
  {
   "cell_type": "code",
   "execution_count": 29,
   "metadata": {},
   "outputs": [],
   "source": [
    "from gen_tree_test import gt"
   ]
  },
  {
   "cell_type": "code",
   "execution_count": 30,
   "metadata": {},
   "outputs": [
    {
     "data": {
      "text/plain": [
       "True"
      ]
     },
     "execution_count": 30,
     "metadata": {},
     "output_type": "execute_result"
    }
   ],
   "source": [
    "\n",
    "# this is the tree from the example above\n",
    "\n",
    "tb = gt('b', gt('d'), gt('e'), gt('f'))\n",
    "tg = gt('g', gt('h'), gt('i', gt('l')))\n",
    "ta = gt('a', tb, gt('c', tg))\n",
    "\n",
    "ta.is_triangle(['a','b','c'])    "
   ]
  },
  {
   "cell_type": "code",
   "execution_count": 31,
   "metadata": {},
   "outputs": [
    {
     "data": {
      "text/plain": [
       "False"
      ]
     },
     "execution_count": 31,
     "metadata": {},
     "output_type": "execute_result"
    }
   ],
   "source": [
    "ta.is_triangle(['b','c','a'])    "
   ]
  },
  {
   "cell_type": "code",
   "execution_count": 32,
   "metadata": {},
   "outputs": [
    {
     "data": {
      "text/plain": [
       "False"
      ]
     },
     "execution_count": 32,
     "metadata": {},
     "output_type": "execute_result"
    }
   ],
   "source": [
    "tb.is_triangle(['b','d','e'])    "
   ]
  },
  {
   "cell_type": "code",
   "execution_count": 33,
   "metadata": {},
   "outputs": [
    {
     "data": {
      "text/plain": [
       "True"
      ]
     },
     "execution_count": 33,
     "metadata": {},
     "output_type": "execute_result"
    }
   ],
   "source": [
    "tg.is_triangle(['g','h','i']) "
   ]
  },
  {
   "cell_type": "code",
   "execution_count": 34,
   "metadata": {},
   "outputs": [
    {
     "data": {
      "text/plain": [
       "False"
      ]
     },
     "execution_count": 34,
     "metadata": {},
     "output_type": "execute_result"
    }
   ],
   "source": [
    "tg.is_triangle(['g','i','h'])"
   ]
  },
  {
   "cell_type": "markdown",
   "metadata": {},
   "source": [
    "### 2.11 has_triangle\n",
    "\n",
    "Implement this method: \n",
    "\n",
    "\n",
    "```python\n",
    "\n",
    "    def has_triangle(self, elems):\n",
    "        \"\"\" RETURN True if this node *or one of its descendants* is a triangle\n",
    "            matching given elems. Otherwise, return False.\n",
    "\n",
    "            - a recursive solution is acceptable\n",
    "        \"\"\"\n",
    "```\n",
    "\n",
    "**Testing**: `python -m unittest gen_tree_test.HasTriangleTest`\n",
    "\n",
    "**Examples**:\n",
    "\n"
   ]
  },
  {
   "cell_type": "code",
   "execution_count": 35,
   "metadata": {},
   "outputs": [
    {
     "data": {
      "text/plain": [
       "True"
      ]
     },
     "execution_count": 35,
     "metadata": {},
     "output_type": "execute_result"
    }
   ],
   "source": [
    "\n",
    "# example tree seen at the beginning\n",
    "\n",
    "tb = gt('b', gt('d'), gt('e'), gt('f'))\n",
    "tg = gt('g', gt('h'), gt('i', gt('l')))\n",
    "tc = gt('c', tg)\n",
    "ta = gt('a', tb, tc)\n",
    "\n",
    "ta.has_triangle(['a','b','c'])\n"
   ]
  },
  {
   "cell_type": "code",
   "execution_count": 36,
   "metadata": {},
   "outputs": [
    {
     "data": {
      "text/plain": [
       "False"
      ]
     },
     "execution_count": 36,
     "metadata": {},
     "output_type": "execute_result"
    }
   ],
   "source": [
    "ta.has_triangle(['a','c','b'])    \n"
   ]
  },
  {
   "cell_type": "code",
   "execution_count": 37,
   "metadata": {},
   "outputs": [
    {
     "data": {
      "text/plain": [
       "False"
      ]
     },
     "execution_count": 37,
     "metadata": {},
     "output_type": "execute_result"
    }
   ],
   "source": [
    "ta.has_triangle(['b','c','a'])    \n"
   ]
  },
  {
   "cell_type": "code",
   "execution_count": 38,
   "metadata": {},
   "outputs": [
    {
     "data": {
      "text/plain": [
       "False"
      ]
     },
     "execution_count": 38,
     "metadata": {},
     "output_type": "execute_result"
    }
   ],
   "source": [
    "tb.is_triangle(['b','d','e'])   \n"
   ]
  },
  {
   "cell_type": "code",
   "execution_count": 39,
   "metadata": {},
   "outputs": [
    {
     "data": {
      "text/plain": [
       "True"
      ]
     },
     "execution_count": 39,
     "metadata": {},
     "output_type": "execute_result"
    }
   ],
   "source": [
    "tg.has_triangle(['g','h','i'])  \n"
   ]
  },
  {
   "cell_type": "code",
   "execution_count": 40,
   "metadata": {},
   "outputs": [
    {
     "data": {
      "text/plain": [
       "True"
      ]
     },
     "execution_count": 40,
     "metadata": {},
     "output_type": "execute_result"
    }
   ],
   "source": [
    "tc.has_triangle(['g','h','i'])  # check recursion \n"
   ]
  },
  {
   "cell_type": "code",
   "execution_count": 41,
   "metadata": {},
   "outputs": [
    {
     "data": {
      "text/plain": [
       "True"
      ]
     },
     "execution_count": 41,
     "metadata": {},
     "output_type": "execute_result"
    }
   ],
   "source": [
    "ta.has_triangle(['g','h','i'])  # check recursion     "
   ]
  },
  {
   "cell_type": "markdown",
   "metadata": {},
   "source": [
    "### 2.12 marvelous\n",
    "\n",
    "\n",
    "Edit this method:"
   ]
  },
  {
   "cell_type": "code",
   "execution_count": 42,
   "metadata": {},
   "outputs": [
    {
     "name": "stdout",
     "output_type": "stream",
     "text": [
      "def marvelous(self):\n",
      "    \"\"\" MODIFIES each node data replacing it with the concatenation \n",
      "        of its leaves data \n",
      "        \n",
      "        - MUST USE a recursive solution\n",
      "        - assume node data is always a string\n",
      "    \"\"\"\n"
     ]
    }
   ],
   "source": [],
   "transient": {
    "remove_source": true
   }
  },
  {
   "cell_type": "markdown",
   "metadata": {},
   "source": [
    "**Testing**: `python3 -m unittest generic_tree_test.MarvelousTest`\n",
    "\n",
    "**Example**: **NOTE: leaves may be any character!** Here we show them as uppercase but they might also be lowercase."
   ]
  },
  {
   "cell_type": "code",
   "execution_count": 43,
   "metadata": {},
   "outputs": [],
   "source": [
    "from gen_tree_sol import *\n",
    "from gen_tree_test import gt\n",
    "\n",
    "t = gt('a',\n",
    "          gt('b',\n",
    "                gt('M'),                \n",
    "                gt('A'),\n",
    "                gt('R')),\n",
    "          gt('c',\n",
    "                gt('e',\n",
    "                      gt('V'),),\n",
    "                gt('E')),\n",
    "          gt('d', \n",
    "                gt('L'),\n",
    "                gt('f', \n",
    "                      gt('O'),\n",
    "                      gt('U'),),\n",
    "                gt('S')))"
   ]
  },
  {
   "cell_type": "code",
   "execution_count": 44,
   "metadata": {},
   "outputs": [
    {
     "name": "stdout",
     "output_type": "stream",
     "text": [
      "a\n",
      "├b\n",
      "│├M\n",
      "│├A\n",
      "│└R\n",
      "├c\n",
      "│├e\n",
      "││└V\n",
      "│└E\n",
      "└d\n",
      " ├L\n",
      " ├f\n",
      " │├O\n",
      " │└U\n",
      " └S\n"
     ]
    }
   ],
   "source": [
    "print(t)"
   ]
  },
  {
   "cell_type": "code",
   "execution_count": 45,
   "metadata": {},
   "outputs": [
    {
     "name": "stdout",
     "output_type": "stream",
     "text": [
      "MARVELOUS\n",
      "├MAR\n",
      "│├M\n",
      "│├A\n",
      "│└R\n",
      "├VE\n",
      "│├V\n",
      "││└V\n",
      "│└E\n",
      "└LOUS\n",
      " ├L\n",
      " ├OU\n",
      " │├O\n",
      " │└U\n",
      " └S\n"
     ]
    }
   ],
   "source": [
    "t.marvelous()\n",
    "print(t)"
   ]
  },
  {
   "cell_type": "code",
   "execution_count": 46,
   "metadata": {
    "nbsphinx": "hidden"
   },
   "outputs": [],
   "source": [],
   "transient": {
    "remove_source": true
   }
  },
  {
   "cell_type": "code",
   "execution_count": null,
   "metadata": {},
   "outputs": [],
   "source": []
  }
 ],
 "metadata": {
  "celltoolbar": "Edit Metadata",
  "kernelspec": {
   "display_name": "Python 3 (ipykernel)",
   "language": "python",
   "name": "python3"
  },
  "language_info": {
   "codemirror_mode": {
    "name": "ipython",
    "version": 3
   },
   "file_extension": ".py",
   "mimetype": "text/x-python",
   "name": "python",
   "nbconvert_exporter": "python",
   "pygments_lexer": "ipython3",
   "version": "3.7.10"
  },
  "toc": {
   "base_numbering": 1,
   "nav_menu": {},
   "number_sections": false,
   "sideBar": true,
   "skip_h1_title": false,
   "title_cell": "Table of Contents",
   "title_sidebar": "Contents",
   "toc_cell": false,
   "toc_position": {
    "height": "calc(100% - 180px)",
    "left": "10px",
    "top": "150px",
    "width": "299px"
   },
   "toc_section_display": true,
   "toc_window_display": true
  }
 },
 "nbformat": 4,
 "nbformat_minor": 1
}
