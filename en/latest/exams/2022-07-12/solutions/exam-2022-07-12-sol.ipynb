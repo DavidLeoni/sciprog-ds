{
 "cells": [
  {
   "cell_type": "code",
   "execution_count": 1,
   "metadata": {
    "nbsphinx": "hidden"
   },
   "outputs": [],
   "source": [
    "#Please execute this cell\n",
    "import jupman;"
   ]
  },
  {
   "cell_type": "markdown",
   "metadata": {},
   "source": [
    "# Exam -  Tue 12, Jul 2022\n",
    "\n",
    "**Scientific Programming - Data Science Master @ University of Trento**\n",
    "\n",
    "## [Download exercises and solutions](../../../_static/generated/sciprog-ds-2022-07-12-exam.zip) \n"
   ]
  },
  {
   "cell_type": "markdown",
   "metadata": {},
   "source": [
    "## Part A - Music Sequencer\n",
    "\n",
    "<div class=\"alert alert-warning\">\n",
    "    \n",
    "**NOTICE: this part of the exam was ported to** [this page](https://en.softpython.org/projects/music-sequencer/music-sequencer-sol.html?highlight=music) **on softpython website**\n",
    "    \n",
    "There you can find a more curated version (notice it may be longer than here)\n",
    "</div>    \n",
    "\n",
    "Open Jupyter and start editing this notebook `exam-2022-07-12.ipynb`\n",
    "\n",
    "[ABC](http://abcnotation.com/wiki/abc:standard:v2.1#rrhythm) is a popular format to write music notation in plain text files, you can see an example by openining [tunes1.abc](tunes1.abc) with a text editor. A music sequencer is an editor software which typically displays notes as a matrix: you will parse simplified abc tunes and display their melodies in a matrix."
   ]
  },
  {
   "cell_type": "markdown",
   "metadata": {},
   "source": [
    "## A1 parse_melody\n",
    "\n",
    "Write a function which given a melody as a string of notes translates it to a list of tuples:\n",
    "\n",
    "```python\n",
    ">>> parse_melody(\"|A4      C2  E2 |C4      E D C2 |C3    B3    G2 |\")\n",
    "[(0, 8), (2, 4), (4, 4), (2, 8), (4, 2), (3, 2), (2, 4), (2, 6), (1, 6), (6, 4)]\n",
    "```\n",
    "\n",
    "Each melody note is followed by its duration. If no duration number is specified, we assume it is one. \n",
    "\n",
    "Each tuple first element represents a note as a number from `0` (`A`) to `6` (`G`) and the second element is the note length in the sequencer. We assume our sequencer has a resolution of two beats per note, so for us a note `A` would have length `2`, a note `A2` a length `4`, a note `A3` a length `6` and so on.\n",
    "\n",
    "* **DO NOT** care about spaces nor bars `|`, they have no meaning at all\n",
    "* **USE** `ord` python function to get a character position"
   ]
  },
  {
   "cell_type": "raw",
   "id": "55230479",
   "metadata": {
    "format": "text/html"
   },
   "source": [
    "<a  class=\"jupman-sol jupman-sol-toggler\" \n",
    " onclick=\"jupman.toggleSolution(this);\" \n",
    " data-jupman-show=\"Show solution\" data-jupman-hide=\"Hide\">Show solution</a><div class=\"jupman-sol jupman-sol-code\" style=\"display:none\">  "
   ]
  },
  {
   "cell_type": "code",
   "execution_count": 2,
   "metadata": {},
   "outputs": [
    {
     "name": "stdout",
     "output_type": "stream",
     "text": [
      "[(0, 8), (2, 4), (4, 4), (2, 8), (4, 2), (3, 2), (2, 4), (2, 6), (1, 6), (6, 4)]\n"
     ]
    }
   ],
   "source": [
    "\n",
    "\n",
    "def parse_melody(melody):    \n",
    "    \n",
    "    notes = melody.replace('|',' ').split()\n",
    "    \n",
    "    ret = []\n",
    "    for note in notes:        \n",
    "        n = ord(note[0])-ord('A')\n",
    "        if len(note) == 1:\n",
    "            ret.append((n,2))\n",
    "        else:\n",
    "            ret.append((n,2*int(note[1])))\n",
    "    \n",
    "    return ret\n",
    "    \n",
    "\n",
    "from pprint import pprint\n",
    "melody1 = \"|A4      C2  E2 |C4      E D C2 |C3    B3    G2 |\"\n",
    "pprint(parse_melody(melody1) )\n",
    "\n",
    "assert parse_melody(\"||\") == []\n",
    "assert parse_melody(\"|A|\") == [(0,2)]\n",
    "assert parse_melody(\"|A3|\") == [(0,6)]\n",
    "assert parse_melody(\"|A B|\") == [(0,2), (1,2)]\n",
    "assert parse_melody(\"|C D|\") == [(2,2), (3,2)]\n",
    "assert parse_melody(\" | G    F  |   \") == [(6,2), (5,2)]\n",
    "assert parse_melody(\"|D|B|\") == [(3,2), (1,2)]\n",
    "assert parse_melody(\"|D3 E4|\") == [(3,6),(4,8)]\n",
    "assert parse_melody(\"|F|A2 B|\") == [(5,2),(0,4),(1,2)]\n",
    "assert parse_melody(\"|A4      C2  E2 |C4      E D C2 |C3    B3    G2 |\") == \\\n",
    "       [(0, 8), (2, 4), (4, 4), (2, 8), (4, 2), (3, 2), (2, 4), (2, 6), (1, 6), (6, 4)]"
   ]
  },
  {
   "cell_type": "raw",
   "id": "c828eb03",
   "metadata": {
    "format": "text/html"
   },
   "source": [
    "</div>"
   ]
  },
  {
   "cell_type": "code",
   "execution_count": 2,
   "metadata": {},
   "outputs": [],
   "source": [
    "\n",
    "\n",
    "def parse_melody(melody):    \n",
    "    raise Exception('TODO IMPLEMENT ME !')\n",
    "\n",
    "from pprint import pprint\n",
    "melody1 = \"|A4      C2  E2 |C4      E D C2 |C3    B3    G2 |\"\n",
    "pprint(parse_melody(melody1) )\n",
    "\n",
    "assert parse_melody(\"||\") == []\n",
    "assert parse_melody(\"|A|\") == [(0,2)]\n",
    "assert parse_melody(\"|A3|\") == [(0,6)]\n",
    "assert parse_melody(\"|A B|\") == [(0,2), (1,2)]\n",
    "assert parse_melody(\"|C D|\") == [(2,2), (3,2)]\n",
    "assert parse_melody(\" | G    F  |   \") == [(6,2), (5,2)]\n",
    "assert parse_melody(\"|D|B|\") == [(3,2), (1,2)]\n",
    "assert parse_melody(\"|D3 E4|\") == [(3,6),(4,8)]\n",
    "assert parse_melody(\"|F|A2 B|\") == [(5,2),(0,4),(1,2)]\n",
    "assert parse_melody(\"|A4      C2  E2 |C4      E D C2 |C3    B3    G2 |\") == \\\n",
    "       [(0, 8), (2, 4), (4, 4), (2, 8), (4, 2), (3, 2), (2, 4), (2, 6), (1, 6), (6, 4)]"
   ]
  },
  {
   "cell_type": "markdown",
   "metadata": {},
   "source": [
    "## A2 parse_tunes\n",
    "\n",
    "An `.abc` file is a series of key:value fields. Keys are always one character long. Anything after a `%` is a comment and must be ignored\n",
    "\n",
    "File [tunes1.abc](tunes1.abc) EXCERPT:"
   ]
  },
  {
   "cell_type": "code",
   "execution_count": 3,
   "metadata": {},
   "outputs": [
    {
     "name": "stdout",
     "output_type": "stream",
     "text": [
      "%abc-2.1\n",
      "H:Tune made in a dark algorithmic night    % history and origin in header, so replicated in all tunes!\n",
      "O:Trento                                   \n",
      "\n",
      "X:1                      % index\n",
      "T:Algorave               % title\n",
      "C:The Lord of the Loop   % composer\n",
      "M:4/4                    % meter\n",
      "K:C                      % key\n",
      "|A4      C2  E2 |C4      E D C2 |C3    B3    G2 |   % melodies can also have a comment\n",
      "\n",
      "X:2                      \n",
      "T:Transpose Your Head\n",
      "C:Matrix Queen  \n",
      "O:Venice                 % overriding header\n",
      "M:3/4\n",
      "K:G\n",
      "|F2  G4     |E4      E F|A2  B2  D2 |D3    E3   |C3    C3   |   \n",
      "\n"
     ]
    }
   ],
   "source": [
    "with open(\"tunes1.abc\", encoding='utf-8') as f: print(''.join(f.readlines()[0:18]))"
   ]
  },
  {
   "cell_type": "markdown",
   "metadata": {},
   "source": [
    "First lines (3 in the example) are the file header, separated by tunes with a blank line.\n",
    "\n",
    "* first line must always be ignored\n",
    "* fields specified in the file header must be copied in all tunes.\n",
    "    * Note **a tune may override** a field (es `O:Venice`)\n",
    "\n",
    "After the first blank line, there is the first tune:\n",
    "\n",
    "* `X` is the tune index, convert it to integer\n",
    "* `M` is the meter, convert it to a tuple of two integers\n",
    "* `K` is the last field of metadata\n",
    "*  melody line has no field key, it always follows line with `K` and it immediately begins with a pipe: convert it to list by calling `parse_melody`\n",
    "\n",
    "Following tunes are separated by blank lines\n",
    "\n",
    "Write a function `parse_tunes` which parses the file and outputs a list of dictionaries, one per tune. Use provided `field_names` to obtain dictionary keys. Full expected db is in [expected_db1.py](expected_db1.py) file.\n",
    "\n",
    "<div class=\"alert alert-warning\">\n",
    "  \n",
    "**DO NOT write hundreds of** `ifs` \n",
    "    \n",
    "Special keys are listed above, all others should be treated in a generic way        \n",
    "</div>            \n",
    "\n",
    "<div class=\"alert alert-warning\">\n",
    "  \n",
    "**DO NOT assume header always contains** `'origin'` **and** `'history'`\n",
    "    \n",
    "It can contain _any_ field, which has to be then copied in all the tunes, see [tunes2.abc](tunes2.abc) for extra examples.\n",
    "</div>            "
   ]
  },
  {
   "cell_type": "markdown",
   "metadata": {},
   "source": [
    "**Example (EXCERPT)**:\n",
    "\n",
    "\n",
    "```python\n",
    ">>> tunes_db1 = parse_tunes('tunes1.abc')\n",
    ">>> pprint(tunes_db1[:2],width=150) \n",
    "[\n",
    " {'composer': 'The Lord of the Loop',\n",
    "  'history': 'Tune made in a dark algorithmic night',\n",
    "  'index': 1,\n",
    "  'key': 'C',\n",
    "  'melody': [(0, 8), (2, 4), (4, 4), (2, 8), (4, 2), (3, 2), (2, 4), (2, 6), (1, 6), (6, 4)],\n",
    "  'meter': (4, 4),\n",
    "  'origin': 'Trento',\n",
    "  'title': 'Algorave'\n",
    " },\n",
    " {'composer': 'Matrix Queen',\n",
    "  'history': 'Tune made in a dark algorithmic night',\n",
    "  'index': 2,\n",
    "  'key': 'G',\n",
    "  'melody': [(5, 4),(6, 8),(4, 8),(4, 2),(5, 2),(0, 4),(1, 4),(3, 4),(3, 6),(4, 6),(2, 6),(2, 6)],\n",
    "  'meter': (3, 4),\n",
    "  'origin': 'Venice',\n",
    "  'title': 'Transpose Your Head'\n",
    " }\n",
    "]\n",
    "\n",
    "```\n"
   ]
  },
  {
   "cell_type": "raw",
   "id": "b2ed3e3d",
   "metadata": {
    "format": "text/html"
   },
   "source": [
    "<a  class=\"jupman-sol jupman-sol-toggler\" \n",
    " onclick=\"jupman.toggleSolution(this);\" \n",
    " data-jupman-show=\"Show solution\" data-jupman-hide=\"Hide\">Show solution</a><div class=\"jupman-sol jupman-sol-code\" style=\"display:none\">  "
   ]
  },
  {
   "cell_type": "code",
   "execution_count": 4,
   "metadata": {},
   "outputs": [
    {
     "name": "stdout",
     "output_type": "stream",
     "text": [
      "[{'composer': 'The Lord of the Loop',\n",
      "  'history': 'Tune made in a dark algorithmic night',\n",
      "  'index': 1,\n",
      "  'key': 'C',\n",
      "  'melody': [(0, 8), (2, 4), (4, 4), (2, 8), (4, 2), (3, 2), (2, 4), (2, 6), (1, 6), (6, 4)],\n",
      "  'meter': (4, 4),\n",
      "  'origin': 'Trento',\n",
      "  'title': 'Algorave'},\n",
      " {'composer': 'Matrix Queen',\n",
      "  'history': 'Tune made in a dark algorithmic night',\n",
      "  'index': 2,\n",
      "  'key': 'G',\n",
      "  'melody': [(5, 4), (6, 8), (4, 8), (4, 2), (5, 2), (0, 4), (1, 4), (3, 4), (3, 6), (4, 6), (2, 6), (2, 6)],\n",
      "  'meter': (3, 4),\n",
      "  'origin': 'Venice',\n",
      "  'title': 'Transpose Your Head'},\n",
      " {'composer': 'anonymous truck driver',\n",
      "  'history': 'Tune made in a dark algorithmic night',\n",
      "  'index': 3,\n",
      "  'key': 'E',\n",
      "  'melody': [(6, 4), (1, 4), (3, 8), (3, 6), (4, 4), (4, 4), (3, 2), (6, 6), (1, 6), (6, 4)],\n",
      "  'meter': (4, 4),\n",
      "  'origin': 'Trento',\n",
      "  'title': 'Pedal to the Metal'}]\n"
     ]
    }
   ],
   "source": [
    "\n",
    "\n",
    "field_names = {\n",
    "    'C':'composer',\n",
    "    'D':'discography',\n",
    "    'H':'history',    \n",
    "    'K':'key',        \n",
    "    'M':'meter',    \n",
    "    'O':'origin',    \n",
    "    'T':'title',    \n",
    "    'X':'index',    \n",
    "}\n",
    "\n",
    "def parse_tunes(filename):\n",
    "    \n",
    "   \n",
    "    with open(filename, encoding='utf-8') as f:\n",
    "        f.readline()  # skips %abc-2.1\n",
    "        tunes = []\n",
    "        common = {}\n",
    "        line = f.readline()\n",
    "        while line != '':\n",
    "            clean_line = line.split('%')[0].strip()\n",
    "            if clean_line == '':\n",
    "                tune = common.copy()\n",
    "                tunes.append(tune)\n",
    "            else:                \n",
    "                # process value\n",
    "                k,v = clean_line.split(':')\n",
    "                if k == 'X':    # index\n",
    "                    vp = int(v)\n",
    "                elif k == 'K':  # key                          \n",
    "                    vp = v\n",
    "                    melody_line = f.readline()\n",
    "                    melody_line = melody_line.split('%')[0].strip()\n",
    "                    tune['melody'] = parse_melody(melody_line)\n",
    "                elif k == 'M':  # meter\n",
    "                    s = v.split('/')\n",
    "                    vp = (int(s[0]), int(s[1]))\n",
    "                else:\n",
    "                    vp = v\n",
    "                                                                        \n",
    "                if len(tunes) == 0: # header                    \n",
    "                    common[field_names[k]] = vp\n",
    "                else:               # tune\n",
    "                    tune[field_names[k]] = vp\n",
    "            line = f.readline()\n",
    "            \n",
    "        return tunes\n",
    "    \n",
    "    \n",
    "tunes_db1 = parse_tunes('tunes1.abc')\n",
    "pprint(tunes_db1[:3],width=150)\n"
   ]
  },
  {
   "cell_type": "raw",
   "id": "d1b61fc5",
   "metadata": {
    "format": "text/html"
   },
   "source": [
    "</div>"
   ]
  },
  {
   "cell_type": "code",
   "execution_count": 4,
   "metadata": {},
   "outputs": [],
   "source": [
    "\n",
    "\n",
    "field_names = {\n",
    "    'C':'composer',\n",
    "    'D':'discography',\n",
    "    'H':'history',    \n",
    "    'K':'key',        \n",
    "    'M':'meter',    \n",
    "    'O':'origin',    \n",
    "    'T':'title',    \n",
    "    'X':'index',    \n",
    "}\n",
    "\n",
    "def parse_tunes(filename):\n",
    "    raise Exception('TODO IMPLEMENT ME !')\n",
    "    \n",
    "tunes_db1 = parse_tunes('tunes1.abc')\n",
    "pprint(tunes_db1[:3],width=150)\n"
   ]
  },
  {
   "cell_type": "code",
   "execution_count": 5,
   "metadata": {},
   "outputs": [
    {
     "name": "stdout",
     "output_type": "stream",
     "text": [
      "[{'composer': 'Drum Shaman',\n",
      "  'discography': 'Sounds from the Jungle, 1968',\n",
      "  'history': 'Folk songs collected while travelling',\n",
      "  'index': 1,\n",
      "  'key': 'E',\n",
      "  'melody': [(6, 2),\n",
      "             (6, 4),\n",
      "             (6, 2),\n",
      "             (6, 2),\n",
      "             (0, 2),\n",
      "             (4, 4),\n",
      "             (4, 2),\n",
      "             (4, 2),\n",
      "             (3, 12)],\n",
      "  'meter': (4, 4),\n",
      "  'title': 'Jungle Beat'},\n",
      " {'composer': 'The Crazy Gipsy',\n",
      "  'history': 'Folk songs collected while travelling',\n",
      "  'index': 2,\n",
      "  'key': 'G',\n",
      "  'melody': [(0, 6), (0, 6), (6, 4), (4, 6), (0, 6), (6, 4)],\n",
      "  'meter': (2, 4),\n",
      "  'title': 'Byte Polka'}]\n"
     ]
    }
   ],
   "source": [
    "assert tunes_db1[0]['history']=='Tune made in a dark algorithmic night'\n",
    "assert tunes_db1[0]['origin']=='Trento'\n",
    "assert tunes_db1[0]['index']==1\n",
    "assert tunes_db1[0]['title']=='Algorave'\n",
    "assert tunes_db1[0]['composer']=='The Lord of the Loop'\n",
    "assert tunes_db1[0]['meter']==(4,4)\n",
    "assert tunes_db1[0]['key']== 'C'\n",
    "assert tunes_db1[0]['melody']==\\\n",
    "[(0, 8), (2, 4), (4, 4), (2, 8), (4, 2), (3, 2), (2, 4), (2, 6), (1, 6), (6, 4)]\n",
    "assert tunes_db1[1]['history']=='Tune made in a dark algorithmic night'  \n",
    "assert tunes_db1[1]['origin']=='Venice'   # tests override\n",
    "assert tunes_db1[1]['index']==2\n",
    "assert tunes_db1[1]['title']=='Transpose Your Head'\n",
    "assert tunes_db1[1]['composer']=='Matrix Queen'\n",
    "assert tunes_db1[1]['meter']==(3,4)\n",
    "assert tunes_db1[1]['key']== 'G'\n",
    "assert tunes_db1[1]['melody']==\\\n",
    "[(5, 4), (6, 8), (4, 8), (4, 2), (5, 2), (0, 4), (1, 4), (3, 4), (3, 6), (4, 6), (2, 6), (2, 6)]\n",
    "from expected_db1 import expected_db1\n",
    "assert len(tunes_db1) == len(expected_db1)\n",
    "assert tunes_db1 == expected_db1\n",
    "\n",
    "tunes_db2 = parse_tunes('tunes2.abc')\n",
    "pprint(tunes_db2)\n",
    "\n",
    "from expected_db2 import expected_db2\n",
    "assert tunes_db2 == expected_db2"
   ]
  },
  {
   "cell_type": "markdown",
   "metadata": {},
   "source": [
    "## A3 plot_tune\n",
    "\n",
    "\n",
    "Write a function which takes a tune dictionary from the db and outputs a plot where the ys are all the notes on keyboard (we assume 7 notes without black keys) and xs represent the duration of a note. If you didn't manage to implement it copy expected tune from [expected_db1.py](expected_db1.py))\n",
    "\n",
    "* use beats as xs, remembering the shortest note has two beats\n",
    "* to increase thickness, use `linewidth=5` parameter\n",
    "\n",
    "![expected-plot.png](expected-plot.png)"
   ]
  },
  {
   "cell_type": "raw",
   "id": "6e7cc066",
   "metadata": {
    "format": "text/html"
   },
   "source": [
    "<a  class=\"jupman-sol jupman-sol-toggler\" \n",
    " onclick=\"jupman.toggleSolution(this);\" \n",
    " data-jupman-show=\"Show solution\" data-jupman-hide=\"Hide\">Show solution</a><div class=\"jupman-sol jupman-sol-code\" style=\"display:none\">  "
   ]
  },
  {
   "cell_type": "code",
   "execution_count": 6,
   "metadata": {
    "scrolled": true
   },
   "outputs": [
    {
     "data": {
      "image/png": "[encoded data removed]",
      "text/plain": [
       "<Figure size 432x288 with 1 Axes>"
      ]
     },
     "metadata": {
      "needs_background": "light"
     },
     "output_type": "display_data"
    }
   ],
   "source": [
    "\n",
    "%matplotlib inline\n",
    "import matplotlib.pyplot as plt\n",
    "\n",
    "def plot_tune(tune):\n",
    "    \n",
    "   \n",
    "    \n",
    "    j = 0\n",
    "    for n,d in tune['melody']:\n",
    "        r = 6 - n\n",
    "        xs = [j, j+d-1]\n",
    "        ys = [r, r]\n",
    "        j += d    \n",
    "        plt.plot(xs, ys, linewidth=5)\n",
    "    \n",
    "    plt.title('%s \\nby \\n %s' %(tune['title'], tune['composer']))\n",
    "    plt.ylim(-0.5,6.5)\n",
    "    plt.yticks(range(7), [chr(ord('G')-i) for i in range(7)])\n",
    "    plt.xlabel('beats')\n",
    "    plt.ylabel('keyboard')\n",
    "    \n",
    "    \n",
    "    \n",
    "plot_tune(tunes_db1[0])"
   ]
  },
  {
   "cell_type": "raw",
   "id": "2c82ae03",
   "metadata": {
    "format": "text/html"
   },
   "source": [
    "</div>"
   ]
  },
  {
   "cell_type": "code",
   "execution_count": 6,
   "metadata": {
    "scrolled": true
   },
   "outputs": [],
   "source": [
    "\n",
    "%matplotlib inline\n",
    "import matplotlib.pyplot as plt\n",
    "\n",
    "def plot_tune(tune):\n",
    "    raise Exception('TODO IMPLEMENT ME !')\n",
    "    \n",
    "plot_tune(tunes_db1[0])"
   ]
  },
  {
   "cell_type": "markdown",
   "metadata": {},
   "source": [
    "## Part B\n",
    "\n",
    "* Open Visual Studio Code and start editing the folder on your desktop\n",
    "* For running tests: open _Accessories -> Terminal_ "
   ]
  },
  {
   "cell_type": "markdown",
   "metadata": {},
   "source": [
    "## B1.1 Theory\n",
    "\n",
    "**Write the solution in separate `theory.txt` file**\n",
    "\n",
    "Given a list `L` of $n$ elements, please compute the asymptotic computational complexity of the `myFun` function, explaining your reasoning. \n",
    "\n",
    "```python\n",
    "\n",
    "def myFun(L):\n",
    "    n = sum(L)\n",
    "    prods = {}\n",
    "    for i in range(len(L)):\n",
    "        prods[i] = 0\n",
    "        for j in range(len(L)):\n",
    "            prods[i] *= j\n",
    "    for k in range(len(L)//2):\n",
    "        prods[k] *= k\n",
    "    return prods\n",
    "\n",
    "myFun([3, 9, 7, 5, 18, 19, 20])\n",
    "```"
   ]
  },
  {
   "cell_type": "markdown",
   "metadata": {},
   "source": [
    "## B1.2 complexity\n",
    "\n",
    "What do we mean when we say that an algorithm has asymptotic computational complexity $O(n^3)$    ? What do we have to do to prove that an algorithm has asymptotic computational complexity $O(n^3)$ ?\n"
   ]
  },
  {
   "cell_type": "markdown",
   "metadata": {},
   "source": [
    "## B2 BinTree same_rec\n",
    "\n",
    "Open file `bin_tree.py` and implement this method:"
   ]
  },
  {
   "cell_type": "code",
   "execution_count": 7,
   "metadata": {
    "nbsphinx": "hidden"
   },
   "outputs": [],
   "source": [],
   "transient": {
    "remove_source": true
   }
  },
  {
   "cell_type": "code",
   "execution_count": 8,
   "metadata": {},
   "outputs": [
    {
     "name": "stdout",
     "output_type": "stream",
     "text": [
      "def same_rec(self, other):\n",
      "    \"\"\" RETURN True if this binary tree is equal to other binary tree,\n",
      "        otherwise return False.\n",
      "        \n",
      "        - MUST execute in O(n) where n is the number of nodes of the tree\n",
      "        - NOTE: with big trees a recursive solution would surely \n",
      "                exceed the call stack, but here we don't mind\n",
      "    \"\"\"\n"
     ]
    }
   ],
   "source": [],
   "transient": {
    "remove_source": true
   }
  },
  {
   "cell_type": "markdown",
   "metadata": {},
   "source": [
    "**Testing**: `python3 -m unittest bin_tree_test.SameRecTest`"
   ]
  },
  {
   "cell_type": "code",
   "execution_count": 9,
   "metadata": {},
   "outputs": [
    {
     "data": {
      "text/plain": [
       "True"
      ]
     },
     "execution_count": 9,
     "metadata": {},
     "output_type": "execute_result"
    }
   ],
   "source": [
    "from bin_tree_test import bt\n",
    "\n",
    "t1 = bt(7, \n",
    "            bt(5))\n",
    "t2 = bt(7, \n",
    "            bt(5))        \n",
    "t1.same_rec(t2)"
   ]
  },
  {
   "cell_type": "code",
   "execution_count": 10,
   "metadata": {},
   "outputs": [
    {
     "data": {
      "text/plain": [
       "False"
      ]
     },
     "execution_count": 10,
     "metadata": {},
     "output_type": "execute_result"
    }
   ],
   "source": [
    "t1 = bt(7, \n",
    "            None,\n",
    "            bt(9))\n",
    "t2 = bt(7, \n",
    "            bt(11,\n",
    "                   bt(7)))\n",
    "           \n",
    "t1.same_rec(t2)"
   ]
  },
  {
   "cell_type": "markdown",
   "metadata": {},
   "source": [
    "## B3 GenericTree follow\n",
    "\n",
    "Open file `gen_tree.py` and implement this method:"
   ]
  },
  {
   "cell_type": "code",
   "execution_count": 11,
   "metadata": {
    "nbsphinx": "hidden"
   },
   "outputs": [],
   "source": [],
   "transient": {
    "remove_source": true
   }
  },
  {
   "cell_type": "code",
   "execution_count": 12,
   "metadata": {},
   "outputs": [
    {
     "name": "stdout",
     "output_type": "stream",
     "text": [
      "def follow(self, positions):\n",
      "    \"\"\" RETURN an array of node data, representing a branch from the\n",
      "        root down to a certain depth.\n",
      "        The path to follow is determined by given positions, which\n",
      "        is an array of integer indeces, see example.\n",
      "        \n",
      "        - if provided indeces lead to non-existing nodes, raise ValueError\n",
      "        - IMPORTANT: *DO NOT* use recursion, use a couple of while instead.\n",
      "        - IMPORTANT: *DO NOT* attempt to convert siblings to \n",
      "                     a python list !!!! Doing so will give you less points!\n",
      "    \"\"\"\n"
     ]
    }
   ],
   "source": [],
   "transient": {
    "remove_source": true
   }
  },
  {
   "cell_type": "markdown",
   "metadata": {},
   "source": [
    "\n",
    "**Example:**\n",
    "```\n",
    "\n",
    "\n",
    "              level  01234      \n",
    "\n",
    "                     a\n",
    "                     ├b\n",
    "                     ├c\n",
    "                     |└e\n",
    "                     | ├f\n",
    "                     | ├g\n",
    "                     | |└i\n",
    "                     | └h\n",
    "                     └d            \n",
    "\n",
    "                    RETURNS\n",
    "t.follow([])        [a]          root data is always present\n",
    "t.follow([0])       [a,b]        b is the 0-th child of a\n",
    "t.follow([2])       [a,d]        d is the 2-nd child of a \n",
    "t.follow([1,0,2])   [a,c,e,h]    c is the 1-st child of a \n",
    "                                 e is the 0-th child of c \n",
    "                                 h is the 2-nd child of e\n",
    "t.follow([1,0,1,0]) [a,c,e,g,i]  c is the 1-st child of a\n",
    "                                 e is the 0-th child of c \n",
    "                                 g is the 1-st child of e\n",
    "                                 i is the 0-th child of g\n",
    "```\n",
    "\n",
    "**Testing**: `python3 -m unittest gen_tree_test.FollowTest`\n"
   ]
  },
  {
   "cell_type": "code",
   "execution_count": 13,
   "metadata": {
    "nbsphinx": "hidden"
   },
   "outputs": [
    {
     "name": "stderr",
     "output_type": "stream",
     "text": [
      ".......................\n",
      "----------------------------------------------------------------------\n",
      "Ran 23 tests in 0.021s\n",
      "\n",
      "OK\n",
      "............\n",
      "----------------------------------------------------------------------\n",
      "Ran 12 tests in 0.015s\n",
      "\n",
      "OK\n"
     ]
    }
   ],
   "source": [
    "#ignore this\n",
    "import jupman\n",
    "import bin_tree_test\n",
    "jupman.run(bin_tree_test)\n",
    "import gen_tree_test\n",
    "jupman.run(gen_tree_test)"
   ]
  },
  {
   "cell_type": "code",
   "execution_count": null,
   "metadata": {},
   "outputs": [],
   "source": []
  }
 ],
 "metadata": {
  "celltoolbar": "Edit Metadata",
  "kernelspec": {
   "display_name": "Python 3 (ipykernel)",
   "language": "python",
   "name": "python3"
  },
  "language_info": {
   "codemirror_mode": {
    "name": "ipython",
    "version": 3
   },
   "file_extension": ".py",
   "mimetype": "text/x-python",
   "name": "python",
   "nbconvert_exporter": "python",
   "pygments_lexer": "ipython3",
   "version": "3.7.13"
  },
  "toc": {
   "base_numbering": 1,
   "nav_menu": {},
   "number_sections": false,
   "sideBar": true,
   "skip_h1_title": false,
   "title_cell": "Table of Contents",
   "title_sidebar": "Contents",
   "toc_cell": false,
   "toc_position": {},
   "toc_section_display": true,
   "toc_window_display": true
  }
 },
 "nbformat": 4,
 "nbformat_minor": 1
}
