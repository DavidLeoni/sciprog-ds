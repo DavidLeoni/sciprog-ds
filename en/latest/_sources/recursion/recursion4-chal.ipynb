{
 "cells": [
  {
   "cell_type": "markdown",
   "id": "55f90545",
   "metadata": {},
   "source": [
    "# Recursion challenges\n",
    "\n",
    "While exporing the inner mysteries of recursion, your quest for knowledge has lead you to unspeakable torments few souls ever dared to challenge. \n",
    "\n",
    "Start solving them in SimpleFP style, then consider using ModAcc style with possibly Divide and Conquer strategy (where appropriate / feasible)."
   ]
  },
  {
   "cell_type": "markdown",
   "id": "bde68d17",
   "metadata": {},
   "source": [
    "## Challenge - Cthulhu \n",
    "\n",
    "Given an `lst` with an **even** nuber of elements, RETURN a NEW list with the elements from both sides alternated \n",
    "\n",
    "- **DO NOT** use slice stepping"
   ]
  },
  {
   "cell_type": "code",
   "execution_count": 1,
   "id": "aa79cb50-stripped",
   "metadata": {},
   "outputs": [],
   "source": [
    "\n",
    "\n",
    "    \n",
    "def cthu(lst):\n",
    "    raise Exception('TODO IMPLEMENT ME !')\n",
    "\n",
    "result = cthu(['a','b','c','d','e','f','g','h'])\n",
    "print(result)  # ['a', 'e', 'b', 'f', 'c', 'g', 'd', 'h']\n",
    "\n",
    "assert cthu([]) == []\n",
    "assert cthu(['a','b']) == ['a','b']\n",
    "assert cthu(['x','y','z','w']) == ['x','z','y','w']\n",
    "assert cthu(['x','y','t','z','w','g']) == ['x','z','y','w','t','g']\n",
    "assert cthu(['a','b','c','d','e','f','g','h']) == ['a', 'e', 'b', 'f', 'c', 'g', 'd', 'h']"
   ]
  },
  {
   "cell_type": "markdown",
   "id": "5251d08d",
   "metadata": {},
   "source": [
    "## Challenge - Ghatanothoa \n",
    "\n",
    "Given a list of characters, RETURN `True` if all `a` characters are both preceded and followed by `b` character(s)."
   ]
  },
  {
   "cell_type": "code",
   "execution_count": 2,
   "id": "11c8696b-stripped",
   "metadata": {},
   "outputs": [],
   "source": [
    "\n",
    "\n",
    "def ghat(lst):\n",
    "    raise Exception('TODO IMPLEMENT ME !')\n",
    "        \n",
    "\n",
    "result1 = ghat(['a','b','a','b','e','b','a','b'])\n",
    "print(result1) # True\n",
    "result2 = ghat(['c','a','b','a','b','a','b'])\n",
    "print(result2) # False\n",
    "\n",
    "assert ghat(['b','a','b']) == True\n",
    "assert ghat(['b','a','b','b']) == True\n",
    "assert ghat(['b','b','a','b','b']) == True\n",
    "assert ghat(['b','a','b','a']) == False\n",
    "assert ghat(['c','a','b','a']) == False\n",
    "assert ghat(['b','a','b','d']) == True\n",
    "assert ghat(['c','b','a','b']) == True\n",
    "assert ghat(['a','b','a','b']) == False\n",
    "assert ghat(['b','a','b','a','b']) == True\n",
    "assert ghat(['b','a','b','b','a','b']) == True\n",
    "assert ghat(['b','a','b','b','c','b','a','b','d']) == True\n",
    "assert ghat(['c','a','b','a','b','a','b']) == False"
   ]
  },
  {
   "cell_type": "markdown",
   "id": "d932a884",
   "metadata": {},
   "source": [
    "## Challenge - Hastur \n",
    "\n",
    "Given an `lst` alternating characters and sequences of dashes `-`, RETURN a NEW list of characters where dashes are replaced by the characters preceding them.\n",
    "\n",
    "* assume `lst` never begins with a character which is a dash"
   ]
  },
  {
   "cell_type": "code",
   "execution_count": 3,
   "id": "4c5ab095-stripped",
   "metadata": {},
   "outputs": [],
   "source": [
    "\n",
    "\n",
    "def hastur(lst):\n",
    "    raise Exception('TODO IMPLEMENT ME !')\n",
    "    \n",
    "result = hastur(['a','-','-','-','b','-','-','c','-','-','-','-'])\n",
    "print(result)  #  ['a', 'a', 'a', 'a', 'b', 'b', 'b', 'c', 'c', 'c', 'c', 'c']\n",
    "\n",
    "assert hastur([]) == []\n",
    "assert hastur(['a']) == ['a']\n",
    "assert hastur(['a','-']) == ['a','a']\n",
    "assert hastur(['a','-','b']) == ['a','a','b']\n",
    "assert hastur(['a','-','-']) == ['a','a','a']\n",
    "assert hastur(['a','b','-']) == ['a','b','b']\n",
    "assert hastur(['c','-','-','a']) == ['c','c','c','a']\n",
    "assert hastur(['c','-','-','-','b','-','a','-']) == ['c','c','c','c','b','b','a','a']\n",
    "assert hastur(['a','-','-','-','b','-','-','c','-','-','-','-']) == ['a', 'a', 'a', 'a', 'b', 'b', 'b', 'c', 'c', 'c', 'c', 'c']"
   ]
  },
  {
   "cell_type": "markdown",
   "id": "0fd25863",
   "metadata": {},
   "source": [
    "## Challenge - Tsathoggua \n",
    "\n",
    "Given a list of characters, RETURN the **length** of longest sequence of contiguous equal characters\n",
    "\n",
    "* **DO NOT** use `.count()` method\n",
    "* **DO NOT** use dictionaries"
   ]
  },
  {
   "cell_type": "code",
   "execution_count": 4,
   "id": "896f833d-stripped",
   "metadata": {},
   "outputs": [],
   "source": [
    "\n",
    "   \n",
    "\n",
    "def tsat(lst):    \n",
    "    raise Exception('TODO IMPLEMENT ME !')\n",
    "    \n",
    "result = tsat(['a','a','a','b','b','c','c','c','c','c','e','e','e','f','f','f','f'])\n",
    "print(result)  # 5        \n",
    "        \n",
    "assert tsat([]) == 0\n",
    "assert tsat(['a']) == 1\n",
    "assert tsat(['a','b']) == 1\n",
    "assert tsat(['a','b','b']) == 2\n",
    "assert tsat(['a','a','b']) == 2\n",
    "assert tsat(['a','b','c']) == 1\n",
    "assert tsat(['c','c','a']) == 2\n",
    "assert tsat(['c','c','c']) == 3\n",
    "assert tsat(['c','c','a','a','a','b','b']) == 3\n",
    "assert tsat(['c','c','a','a','a','a','b','b']) == 4\n",
    "assert tsat(['d','e','c','c','c','c','c','a','b','b']) == 5\n",
    "assert tsat(['e','e','e','e','b','b','b','b']) == 4\n",
    "assert tsat(['g','e','a','b','b','c','c']) == 2"
   ]
  },
  {
   "cell_type": "markdown",
   "id": "de515de3",
   "metadata": {},
   "source": [
    "## Challenge - Yig \n",
    "\n",
    "Given lists of numbers `la` and `lb` of equal size,  RETURN a NEW list with the pairwise greatest numbers"
   ]
  },
  {
   "cell_type": "code",
   "execution_count": 5,
   "id": "df46a5a6-stripped",
   "metadata": {},
   "outputs": [],
   "source": [
    "\n",
    "def yig(la, lb):\n",
    "    raise Exception('TODO IMPLEMENT ME !')        \n",
    "\n",
    "result = yig([5,2,7,2,4,8], [9,4,3,5,2,5])\n",
    "print(result)  # [9,4,7,5,4,8]\n",
    "        \n",
    "assert yig([], []) == []\n",
    "assert yig([3], [4]) == [4]\n",
    "assert yig([5], [2]) == [5]\n",
    "assert yig([0], [0]) == [0]\n",
    "assert yig([0,4], [7,3]) == [7,4]\n",
    "assert yig([9,4], [7,8]) == [9,8]\n",
    "assert yig([5,2,7,2,4,8], [9,4,3,5,2,5]) == [9,4,7,5,4,8]"
   ]
  },
  {
   "cell_type": "markdown",
   "id": "fc7de22a",
   "metadata": {},
   "source": [
    "## Challenge - Shub-Niggurath \n",
    "\n",
    "Given a list `la` and a list of numbers `lb`  such that the `sum(lb) == len(la)`, RETURN a NEW list of lists in which elements of `la` are grouped according to the sizes expressed in `lb`. "
   ]
  },
  {
   "cell_type": "code",
   "execution_count": 6,
   "id": "bb269ab0-stripped",
   "metadata": {},
   "outputs": [],
   "source": [
    "\n",
    "\n",
    "def shub(la, lb):\n",
    "    raise Exception('TODO IMPLEMENT ME !')\n",
    "    \n",
    "result = shub([5,9,6,2,3,1,4,7,5,2], [1,4,2,3])\n",
    "print(result) # [[5],[9,6,2,3],[1,4],[7,5,2]]    \n",
    "    \n",
    "assert shub([],[]) == []\n",
    "assert shub([3],[1]) == [[3]]\n",
    "assert shub([3,4],[2]) == [[3,4]]\n",
    "assert shub([5,8],[1,1]) == [[5],[8]]\n",
    "assert shub([5,8,6],[1,2]) == [[5],[8,6]]\n",
    "assert shub([5,8,6],[2,1]) == [[5,8],[6]]\n",
    "assert shub([5,8,6],[1,1,1]) == [[5],[8],[6]]\n",
    "assert shub([5,8,6,0],[1,1,2]) == [[5],[8],[6,0]]\n",
    "assert shub([5,8,6,0],[2,2]) == [[5,8],[6,0]]\n",
    "assert shub([7,4,6,2,9,4,2,1],[3,5]) == [[7,4,6],[2,9,4,2,1]]\n",
    "assert shub([5,9,6,2,3,1,4,7,5,2], [1,4,2,3]) == [[5],[9,6,2,3],[1,4],[7,5,2]]"
   ]
  },
  {
   "cell_type": "markdown",
   "id": "c1cf0534",
   "metadata": {},
   "source": [
    "## Challenge - Shoggoth\n",
    "\n",
    "Given a list of progressively nested lists which ultimately always contain at most two characters, RETURN a NEW list with all the characters"
   ]
  },
  {
   "cell_type": "code",
   "execution_count": 7,
   "id": "829576e3-stripped",
   "metadata": {},
   "outputs": [],
   "source": [
    "\n",
    "\n",
    "def sho(lst):\n",
    "    raise Exception('TODO IMPLEMENT ME !')\n",
    "\n",
    "result = sho(['s',['h',['o',['g','g'],'o'],'t'],'h'])\n",
    "print(result)  # ['s','h','o','g','g','o','t','h']\n",
    "\n",
    "assert sho([]) == []\n",
    "assert sho(['a','a']) == ['a','a']\n",
    "assert sho(['a',['b','c'],'d']) == ['a','b','c','d']\n",
    "assert sho(['a',['b',['z'],'c'],'d']) == ['a','b','z','c','d']\n",
    "assert sho(['a',['b',['x','y'],'c'],'d']) == ['a','b','x','y','c','d']\n",
    "assert sho(['a',['b',['x',['y'],'z'],'c'],'d']) == ['a','b','x','y','z','c','d']\n",
    "assert sho(['s',['h',['o',['g','g'],'o'],'t'],'h']) == ['s','h','o','g','g','o','t','h']"
   ]
  },
  {
   "cell_type": "markdown",
   "id": "7a0257d4",
   "metadata": {},
   "source": [
    "## Challenge - Azathoth \n",
    "\n",
    "Given a list of arbitrarily nested lists which eventually contain strings, RETURN a NEW list of strings\n",
    "\n",
    "**HINT**: you need double recursion, both in first element depth and in following elements in the sequence"
   ]
  },
  {
   "cell_type": "code",
   "execution_count": 8,
   "id": "9858b526-stripped",
   "metadata": {},
   "outputs": [],
   "source": [
    "\n",
    "def aza(lst):\n",
    "    raise Exception('TODO IMPLEMENT ME !')\n",
    "    \n",
    "result = aza([[['a']],[['z'],['a'],[['t','h']]],['o','t','h']])\n",
    "print(result) # ['a','z','a','t','h','o','t','h']    \n",
    "    \n",
    "assert aza([]) == []\n",
    "assert aza(['a']) == ['a']\n",
    "assert aza([['b']]) == ['b']\n",
    "assert aza([[['c']]]) == ['c']\n",
    "assert aza(['x','y']) == ['x','y']\n",
    "assert aza([['x'],'y']) == ['x','y']\n",
    "assert aza(['x',['y']]) == ['x','y']\n",
    "assert aza([['a'],['x']]) == ['a','x']\n",
    "assert aza([['a'],[['x']]]) == ['a','x']\n",
    "assert aza(['q','e','d']) == ['q','e','d']\n",
    "assert aza(['q',['e','d']]) == ['q','e','d']\n",
    "assert aza([['q','e'],'d']) == ['q','e','d']\n",
    "assert aza([['q','e','d']]) == ['q','e','d']\n",
    "assert aza([[['q'],'e',['d']]]) == ['q','e','d']\n",
    "assert aza([[['a']],[['z'],['a'],[['t','h']]],['o','t','h']]) == ['a','z','a','t','h','o','t','h']"
   ]
  },
  {
   "cell_type": "markdown",
   "id": "25706b3b",
   "metadata": {},
   "source": [
    "## References\n",
    "\n",
    "- _Unaussprechlichen Kulten_, by Friedrich von Junzt\n",
    "- _The Pnakotic Manuscripts_, unknown authors"
   ]
  },
  {
   "cell_type": "code",
   "execution_count": 9,
   "id": "daa0edd7-stripped",
   "metadata": {
    "nbsphinx": "hidden"
   },
   "outputs": [],
   "source": []
  }
 ],
 "metadata": {
  "kernelspec": {
   "display_name": "Python 3 (ipykernel)",
   "language": "python",
   "name": "python3"
  },
  "language_info": {
   "codemirror_mode": {
    "name": "ipython",
    "version": 3
   },
   "file_extension": ".py",
   "mimetype": "text/x-python",
   "name": "python",
   "nbconvert_exporter": "python",
   "pygments_lexer": "ipython3",
   "version": "3.7.10"
  },
  "toc": {
   "base_numbering": 1,
   "nav_menu": {},
   "number_sections": false,
   "sideBar": true,
   "skip_h1_title": false,
   "title_cell": "Table of Contents",
   "title_sidebar": "Contents",
   "toc_cell": false,
   "toc_position": {},
   "toc_section_display": true,
   "toc_window_display": true
  }
 },
 "nbformat": 4,
 "nbformat_minor": 5
}
