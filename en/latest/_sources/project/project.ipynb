{
 "cells": [
  {
   "cell_type": "markdown",
   "metadata": {},
   "source": [
    "# Jupman Project\n",
    "\n",
    "METTERE:\n",
    "\n",
    "TITOLO\n",
    "\n",
    "NOME - MATRICOLA\n",
    "\n",
    "DATA\n",
    "\n",
    "## Introduzione\n",
    "\n",
    "Descrivere \n",
    "\n",
    "* gli obbiettivi che ci si è posti\n",
    "* risultati attesi (i.e. file CSV con dati integrati da mostrare su Umap)\n",
    "* librerie Python utilizzate per il progetto\n"
   ]
  },
  {
   "cell_type": "markdown",
   "metadata": {},
   "source": [
    "\n",
    "## Sorgenti dati\n",
    "\n",
    "Descrivere le sorgenti dati (almeno due), mettendo:\n",
    "\n",
    "- nome origine e possibilmente URL\n",
    "- le licenze\n",
    "- encoding\n",
    "- dimensione in Kb (i file dovrebbero essere max 50 megabyte, se più grandi cercate un modo per ridurli e se avete problemi chiedete come fare)\n",
    "- schemi dei dati \n",
    "    - CSV: intestazione colonne, tipi delle colonne (stringa, numero, data ...)\n",
    "    - JSON: spiegare sommariamente le scheletro del JSON  ( se volete strafare scrivete un [JSON schema](http://json-schema.org), ma non l'abbiamo visto a lezione)\n",
    "    - XML: spiegare sommariamente le scheletro dell'XML (possibilmente guardate se l'XML già fornisce un [XML schema](https://en.wikipedia.org/wiki/XML_schema), ma non l'abbiamo fatto a lezione, se avete dubbi chiedete)\n",
    "    - SQL: mettere schema del DB (molti browser di database possono generare diagrammi per gli schemi)\n",
    "    - per altri formati: descrivere a parole\n",
    "- qualche dato di esempio\n",
    "\n",
    "* Se i dati sono da ottenere tramite [web API](https://en.wikipedia.org/wiki/Web_API), chiedersi se è possibile ottenere gratuitamente tutti i dati desiderati  entro i limiti d'uso dell'API\n",
    "\n",
    "\n",
    "**IMPORTANTE: ricordarsi di includere nella cartella del progetto una copia dei dati! Questa è fondamentale ai fini della riproducibilità del notebook, e vale in particolare per i dati ottenuti da Web API e pagine HTML, che possono variare nel tempo (i.e. dati meteo).**"
   ]
  },
  {
   "cell_type": "markdown",
   "metadata": {},
   "source": [
    "\n",
    "## Pulizia e integrazione dati\n",
    "\n",
    "Elencare eventuali problemi da correggere, e come li si è risolti. Esempi: \n",
    "\n",
    "- dati mal formattati\n",
    "- interpretazione dati mancanti, come li si è convertiti \n",
    "    - i valori assenti sono da assumersi uguali a 0, stringa vuota, `None`, lista vuota ? ...\n",
    "- Mappe con punti in posti assurdi\n",
    "\n",
    "\n"
   ]
  },
  {
   "cell_type": "markdown",
   "metadata": {},
   "source": [
    "## Analisi\n",
    "\n",
    "Mettere qualche analisi sui dati. Esempi:\n",
    "\n",
    "- mostrare raggruppamenti, grafici frequenze \n",
    "- correlazioni tra valori con Pandas\n",
    "- mostrare punti su mappa con UMap, notare raggruppamenti\n",
    "- ricavare qualche modello dai dati, con plot su grafico(es: relazione lineare pressione / temperatura)\n",
    "- mettere qualche widget per variare parametri del modello"
   ]
  },
  {
   "cell_type": "markdown",
   "metadata": {},
   "source": [
    "## Problematiche riscontrate\n",
    "\n",
    "Descrivere i problemi maggiori riscontrati nel progetto\n",
    "\n",
    "## Conclusioni\n",
    "\n",
    "Descrivere: \n",
    "\n",
    "- se si sono raggiunti gli obbiettivi posti\n",
    "- eventualmente cosa si potrebbe aggiungere di interessante \n",
    "\n"
   ]
  }
 ],
 "metadata": {
  "kernelspec": {
   "display_name": "Python 3",
   "language": "python",
   "name": "python3"
  },
  "language_info": {
   "codemirror_mode": {
    "name": "ipython",
    "version": 3
   },
   "file_extension": ".py",
   "mimetype": "text/x-python",
   "name": "python",
   "nbconvert_exporter": "python",
   "pygments_lexer": "ipython3",
   "version": "3.7.3"
  },
  "toc": {
   "base_numbering": 1,
   "nav_menu": {},
   "number_sections": false,
   "sideBar": true,
   "skip_h1_title": false,
   "title_cell": "Table of Contents",
   "title_sidebar": "Contents",
   "toc_cell": false,
   "toc_position": {},
   "toc_section_display": true,
   "toc_window_display": false
  }
 },
 "nbformat": 4,
 "nbformat_minor": 2
}
