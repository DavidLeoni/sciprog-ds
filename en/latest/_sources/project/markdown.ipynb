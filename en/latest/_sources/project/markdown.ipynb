{
 "cells": [
  {
   "cell_type": "markdown",
   "metadata": {},
   "source": [
    "# Markdown"
   ]
  },
  {
   "cell_type": "markdown",
   "metadata": {},
   "source": [
    "\n",
    "Per formattare il testo, Jupyter mette a disposizione un linguaggio chiamato Markdown. Perchè dovreste imparare Markdown? E' semplice, molto popolare  ed è probabile ritrovarlo in molti posti (blog, sistemi di documentazione tecnica, etc).\n",
    "\n",
    "Qua riporto solo informazioni essenziali, per altre potete consultare la [Guida di Jupyter (inglese)](http://jupyter-notebook.readthedocs.io/en/stable/examples/Notebook/Working%20With%20Markdown%20Cells.html)\n",
    "\n",
    "## Celle Markdown\n",
    "\n",
    "Per dire a Jupyter che una cella è codice Markdown e non Python, dal menu seleziona `Cell->Cell type->Markdown`. Una shortcut veloce è premere `Esc` seguito poi da il tasto `m`\n",
    "\n",
    "## Paragrafi\n",
    "\n",
    "Per suddividere paragrafi basta inserire una riga vuota:\n",
    "\n",
    "Per esempio, scrivendo così:\n",
    "\n",
    "```\n",
    "Lorem ipsum dolor sit amet, consectetur adipiscing elit, sed do eiusmod tempor incididunt ut labore et dolore magna aliqua. Ut enim ad minim veniam, quis nostrud exercitation ullamco laboris nisi ut aliquip ex ea commodo consequat.\n",
    "\n",
    "Duis aute irure dolor in reprehenderit in voluptate velit esse cillum dolore eu fugiat nulla pariatur. Excepteur sint occaecat cupidatat non proident, sunt in culpa qui officia deserunt mollit anim id est laborum.\n",
    "```\n",
    "\n",
    "Si ottiene questo:\n",
    "\n",
    "\n",
    "Lorem ipsum dolor sit amet, consectetur adipiscing elit, sed do eiusmod tempor incididunt ut labore et dolore magna aliqua. Ut enim ad minim veniam, quis nostrud exercitation ullamco laboris nisi ut aliquip ex ea commodo consequat.\n",
    "\n",
    "Duis aute irure dolor in reprehenderit in voluptate velit esse cillum dolore eu fugiat nulla pariatur. Excepteur sint occaecat cupidatat non proident, sunt in culpa qui officia deserunt mollit anim id est laborum.\n"
   ]
  },
  {
   "cell_type": "markdown",
   "metadata": {},
   "source": [
    "\n",
    "## Link\n",
    "\n",
    "Un link si scrive mettendo il testo visibile dall'utente tra parentesi quadre e l'indirizzo vero e proprio tra parentesi tonde:\n",
    "\n",
    "```\n",
    "[Questo è il testo del link](http://www.google.com)\n",
    "```\n",
    "\n",
    "Il risultato sarà il seguente:\n",
    "\n",
    "[Questo è il testo del link](http://www.google.com)"
   ]
  },
  {
   "cell_type": "markdown",
   "metadata": {},
   "source": [
    "## Liste\n",
    "\n",
    "Le liste si scrivono mettendo anteponendo ad ogni elemento un asterisco:\n",
    "\n",
    "Per esempio, scrivendo questo:\n",
    "\n",
    "```\n",
    "* Elemento 1\n",
    "* Elemento 2\n",
    "    * Sotto elemento \n",
    "    * Altro sotto elemento\n",
    "* Elemento 3\n",
    "```\n",
    "\n",
    "Verrà visualizzato così:\n",
    "\n",
    "* Elemento 1\n",
    "* Elemento 2\n",
    "    * Sotto elemento \n",
    "    * Altro sotto elemento\n",
    "* Elemento 3\n",
    "\n",
    "Potete anche usare liste numerate anteponendo agli elementi un numero e un punto. \n",
    "\n",
    "Per esempio, questo:\n",
    "\n",
    "```\n",
    "1. Elemento 1\n",
    "2. Elemento 2\n",
    "    1. Sotto elemento \n",
    "    2. Altro sotto elemento\n",
    "3. Elemento 3\n",
    "\n",
    "```\n",
    "\n",
    "Verrà visualizzato così:\n",
    "\n",
    "1. Elemento 1\n",
    "2. Elemento 2\n",
    "    1. Sotto elemento \n",
    "    2. Altro sotto elemento\n",
    "3. Elemento 3\n",
    " \n"
   ]
  },
  {
   "cell_type": "markdown",
   "metadata": {},
   "source": [
    "\n",
    "## Immagini\n",
    "\n",
    "Purtroppo Jupyter non supporta il copia e incolla di immagini, potete solo inserire dei link alle immagini stesse da mettere nella stessa cartella del notebook oppure in una sottocartella. \n",
    "\n",
    "Una volta che la cella viene eseguita, se il percorso al file è corretto apparirà l'immagine. Per indicare il percorso, scrivete punto esclamativo, parentesi quadre aperta-chiusa, e poi tra parentesi tonde il percorso del file, per es se l'immagine `notebook_icon.png` sta nella sotto-cartella `img`, scrivete così: \n",
    "\n",
    "```\n",
    "![](img/example.png)\n",
    "```\n",
    "\n",
    "Eseguendo la cella, apparirà l'immagine:\n",
    "\n",
    "![](img/example.png)\n",
    "\n",
    "Nota che potete usare qualunque formato di immagine (`jpg`, `png`, `bmp`, `svg`, per gli altri provate a vedere se vengono visualizzati).\n"
   ]
  },
  {
   "cell_type": "markdown",
   "metadata": {},
   "source": [
    "\n",
    "## Variabili e nomi tecnici\n",
    "\n",
    "Per visualizzare in evidenza variabili e nomi tecnici, come `x`, `faiQualcosa`, `percorso-di-file`, potete includere il nome tra due cosiddetti backtick  \\`\n",
    "\n",
    "**NOTA**: il backtick \\` NON è l'apice che usiamo di solito: `'`\n",
    "\n",
    "Per scrivere questo strano apice rovesciato, guardate qua, se non va fate copia e incolla !\n",
    "\n",
    "* Windows: \n",
    "    - se avete il tastierino numerico: tenere premuto `Alt Gr`, scrivere `96` sul tastierino numerico, rilasciare `Alt Gr`\n",
    "    - se non l'avete: provate a premere tasto windows + `\\` (in alto a sinistra)\n",
    "\n",
    "* Mac: `alt+9`\n",
    "* Linux: `Alt-Gr` + carattere apice normale `'`\n",
    "\n",
    "## Codice JSON / XML / Python\n",
    "\n",
    "Se in una cella Markdown volete visualizzare testo posizionato esattamente come lo scrivete, racchiudetelo in un blocco delimitato da file di tre tre backtick \\`\\`\\` : \n",
    "\n",
    "\\`\\`\\`\n",
    "```\n",
    " testo posizionato come \n",
    "     voglio \n",
    "  io\n",
    "```  \n",
    "\\`\\`\\`\n"
   ]
  },
  {
   "cell_type": "markdown",
   "metadata": {},
   "source": [
    "\n",
    "Risultato:\n",
    "\n",
    "```\n",
    "\n",
    " testo posizionato come \n",
    "     voglio \n",
    "  io\n",
    "\n",
    "```"
   ]
  },
  {
   "cell_type": "markdown",
   "metadata": {},
   "source": [
    "\n",
    "Il codice python / json / xml e altri possono essere formattati automaticamente da Jupyter. Basta scriveterlo in blocchi da tre backtick come prima e in più specificare il linguaggio subito dopo i primi tre backtick, per esempio un json scritto così:\n",
    "\n",
    "\\`\\`\\`json\n",
    "```\n",
    "{\n",
    "   \"a\" : [\"b\"],\n",
    "   \"c\" : {\n",
    "           \"d\":5\n",
    "         }\n",
    "   \n",
    "}\n",
    "\n",
    "```\n",
    "\\`\\`\\`\n",
    "\n",
    "Risulterà formattato in questo modo: \n",
    "\n",
    "```json\n",
    "{\n",
    "   \"a\" : [\"b\"],\n",
    "   \"c\" : {\n",
    "           \"d\":5\n",
    "         }\n",
    "   \n",
    "}\n",
    "```\n"
   ]
  },
  {
   "cell_type": "markdown",
   "metadata": {
    "collapsed": true
   },
   "source": [
    "## Formule matematiche\n",
    "\n",
    "E' possibile scrivere formule in [Latex](http://www.lorenzopantieri.net/LaTeX_files/ArteLaTeX.pdf#chapter.5) (ma non l'abbiamo visto a lezione) mettendole tra segni di dollaro `$`. Per esempio `$\\sum$` verrà visualizzato così:  $\\sum$"
   ]
  },
  {
   "cell_type": "markdown",
   "metadata": {},
   "source": [
    "\n",
    "\n",
    "\n"
   ]
  },
  {
   "cell_type": "markdown",
   "metadata": {},
   "source": [
    "\n",
    "#### Tabelle\n",
    "\n",
    "Scrivere tabelle piccole in Markdown è ancora fattibile:\n",
    "\n",
    "Per esempio, scrivere questo: \n",
    "\n",
    "```\n",
    "io |sono | una tabella\n",
    "---|-----|------------\n",
    "4|ciao|3\n",
    "2|hello world|7\n",
    "```\n",
    "\n",
    "risulta visualizzato così :\n",
    "\n",
    "io |sono | una tabella\n",
    "---|-----|------------\n",
    "4|ciao|3\n",
    "2|hello world|7\n",
    "\n",
    "\n",
    "ma per tabelle grandi Markdown è terribile. Quindi siete più che giustificati a usare alternative, per esempio allegare fogli Excel (anche se preferisco LibreOffice Calc col formato `.ods`, se proprio amate Excel perlomeno mandatemi un `.xls` e non un `.xlsx`). Potete anche prendere screenshot delle tabelle e includerli come immagini. \n",
    "\n"
   ]
  }
 ],
 "metadata": {
  "kernelspec": {
   "display_name": "Python 3",
   "language": "python",
   "name": "python3"
  },
  "language_info": {
   "codemirror_mode": {
    "name": "ipython",
    "version": 3
   },
   "file_extension": ".py",
   "mimetype": "text/x-python",
   "name": "python",
   "nbconvert_exporter": "python",
   "pygments_lexer": "ipython3",
   "version": "3.7.3"
  },
  "toc": {
   "base_numbering": 1,
   "nav_menu": {},
   "number_sections": false,
   "sideBar": true,
   "skip_h1_title": false,
   "title_cell": "Table of Contents",
   "title_sidebar": "Contents",
   "toc_cell": false,
   "toc_position": {},
   "toc_section_display": true,
   "toc_window_display": false
  }
 },
 "nbformat": 4,
 "nbformat_minor": 2
}
