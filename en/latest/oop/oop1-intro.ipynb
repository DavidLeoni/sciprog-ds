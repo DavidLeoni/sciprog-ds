{
 "cells": [
  {
   "cell_type": "markdown",
   "metadata": {},
   "source": [
    "# OOP \n",
    "\n",
    "## [Download exercises zip](../_static/generated/oop.zip)\n",
    "\n",
    "[Browse files online](https://github.com/DavidLeoni/sciprog-ds/tree/master/oop)\n",
    "\n",
    "\n",
    "## What to do\n",
    "\n",
    "- unzip exercises in a folder, you should get something like this: \n",
    "\n",
    "```\n",
    "oop\n",
    "   complex_number.py\n",
    "   complex_number_test.py\n",
    "   complex_number_sol.py    \n",
    "   multiset.py\n",
    "   multiset_test.py\n",
    "   multiset_sol.py\n",
    "   matrix.py      \n",
    "   oop.ipynb\n",
    "   jupman.py\n",
    "   sciprog.py         \n",
    "```\n",
    "\n",
    "This time you will not write in the notebook, instead you will edit `.py` files in Visual Studio Code.\n",
    "\n",
    "Now proceed reading."
   ]
  },
  {
   "cell_type": "markdown",
   "metadata": {},
   "source": [
    "\n",
    "\n",
    "## 1. Abstract Data Types (ADT) Theory\n",
    "\n",
    "### 1.1.  Intro\n",
    "\n",
    "* Theory from the slides: \n",
    "    * [Andrea Passerini - Programming paradagims, Object-Oriented Python](http://disi.unitn.it/~passerini/teaching/2020-2021/sci-pro/handouts/A09-oop.pdf)\n",
    "* Object Oriented programming on the [the book](https://runestone.academy/runestone/books/published/pythonds/Introduction/ObjectOrientedProgramminginPythonDefiningClasses.html) (In particular, [Fraction class](https://runestone.academy/runestone/books/published/pythonds/Introduction/ObjectOrientedProgramminginPythonDefiningClasses.html#a-fraction-class), in this course we won't focus on inheritance)\n",
    "\n",
    "\n",
    "### 1.2. Complex number theory\n",
    "\n",
    "![Complex number definition from Wikipedia](img/complex-numbers-definition.png)"
   ]
  },
  {
   "cell_type": "markdown",
   "metadata": {},
   "source": [
    "\n",
    "### 1.3. Datatypes the old way\n",
    "\n",
    "From the definition we see that to identify a complex number **we need two float values** . One number is for the **_real_ part**, and another number is for the **_imaginary_ part**. \n",
    "\n",
    "How can we represent this in Python? So far, you saw there are many ways to put two numbers together. One way could be to put the numbers in a list of two elements, and implicitly assume the first one is the _real_ and the second the _imaginary_ part:\n"
   ]
  },
  {
   "cell_type": "code",
   "execution_count": 1,
   "metadata": {},
   "outputs": [],
   "source": [
    "c = [3.0, 5.0] "
   ]
  },
  {
   "cell_type": "markdown",
   "metadata": {},
   "source": [
    "Or we could use a tuple:"
   ]
  },
  {
   "cell_type": "code",
   "execution_count": 2,
   "metadata": {},
   "outputs": [],
   "source": [
    "c = (3.0, 5.0)"
   ]
  },
  {
   "cell_type": "markdown",
   "metadata": {},
   "source": [
    "\n",
    "\n",
    "A problem with the previous representations is that a casual observer might not know exactly the meaning of the two numbers.  We could be more explicit and store the values into a dictionary, using keys to identify the two parts:"
   ]
  },
  {
   "cell_type": "code",
   "execution_count": 3,
   "metadata": {},
   "outputs": [],
   "source": [
    "c = {'real': 3.0, 'imaginary': 5.0}"
   ]
  },
  {
   "cell_type": "code",
   "execution_count": 4,
   "metadata": {},
   "outputs": [
    {
     "name": "stdout",
     "output_type": "stream",
     "text": [
      "{'real': 3.0, 'imaginary': 5.0}\n"
     ]
    }
   ],
   "source": [
    "print(c)"
   ]
  },
  {
   "cell_type": "code",
   "execution_count": 5,
   "metadata": {},
   "outputs": [
    {
     "name": "stdout",
     "output_type": "stream",
     "text": [
      "3.0\n"
     ]
    }
   ],
   "source": [
    "print(c['real'])"
   ]
  },
  {
   "cell_type": "code",
   "execution_count": 6,
   "metadata": {},
   "outputs": [
    {
     "name": "stdout",
     "output_type": "stream",
     "text": [
      "5.0\n"
     ]
    }
   ],
   "source": [
    "print(c['imaginary'])"
   ]
  },
  {
   "cell_type": "markdown",
   "metadata": {},
   "source": [
    "Now, writing the whole record ```{'real': 3.0, 'imaginary': 5.0}``` each time \n",
    "we want to create a complex number might be annoying and error prone. To help us, we can create a little shortcut \n",
    "function named `complex_number` that creates and returns the dictionary:"
   ]
  },
  {
   "cell_type": "code",
   "execution_count": 7,
   "metadata": {},
   "outputs": [],
   "source": [
    "def complex_number(real, imaginary):\n",
    "    d = {}\n",
    "    d['real'] = real\n",
    "    d['imaginary'] = imaginary\n",
    "    return d"
   ]
  },
  {
   "cell_type": "code",
   "execution_count": 8,
   "metadata": {},
   "outputs": [],
   "source": [
    "c = complex_number(3.0, 5.0)"
   ]
  },
  {
   "cell_type": "code",
   "execution_count": 9,
   "metadata": {},
   "outputs": [
    {
     "name": "stdout",
     "output_type": "stream",
     "text": [
      "{'real': 3.0, 'imaginary': 5.0}\n"
     ]
    }
   ],
   "source": [
    "print(c)"
   ]
  },
  {
   "cell_type": "markdown",
   "metadata": {},
   "source": [
    "To do something with our dictionary, we would then define functions, like for example `complex_str` to show them nicely:"
   ]
  },
  {
   "cell_type": "code",
   "execution_count": 10,
   "metadata": {},
   "outputs": [],
   "source": [
    "def complex_str(cn):\n",
    "    return str(cn['real']) + \" + \" + str(cn['imaginary']) + \"i\""
   ]
  },
  {
   "cell_type": "code",
   "execution_count": 11,
   "metadata": {},
   "outputs": [
    {
     "name": "stdout",
     "output_type": "stream",
     "text": [
      "3.0 + 5.0i\n"
     ]
    }
   ],
   "source": [
    "c = complex_number(3.0, 5.0)\n",
    "print(complex_str(c))"
   ]
  },
  {
   "cell_type": "markdown",
   "metadata": {},
   "source": [
    "We could do something more complex, like defining the `phase` of the complex number which returns a `float`:"
   ]
  },
  {
   "cell_type": "markdown",
   "metadata": {},
   "source": [
    "<div class=\"alert alert-info\">\n",
    "\n",
    "**IMPORTANT**: In these exercises, we care about programming, not complex numbers theory. There's no need to break your head over formulas!\n",
    "</div>"
   ]
  },
  {
   "cell_type": "code",
   "execution_count": 12,
   "metadata": {},
   "outputs": [],
   "source": [
    "import math\n",
    "def phase(cn):\n",
    "        \"\"\" Returns a float which is the phase (that is, the vector angle) of the complex number \n",
    "                    \n",
    "            See definition: https://en.wikipedia.org/wiki/Complex_number#Absolute_value_and_argument\n",
    "        \"\"\"\n",
    "        return math.atan2(cn['imaginary'], cn['real'])\n"
   ]
  },
  {
   "cell_type": "code",
   "execution_count": 13,
   "metadata": {},
   "outputs": [
    {
     "name": "stdout",
     "output_type": "stream",
     "text": [
      "1.0303768265243125\n"
     ]
    }
   ],
   "source": [
    "c = complex_number(3.0, 5.0)\n",
    "print(phase(c))"
   ]
  },
  {
   "cell_type": "markdown",
   "metadata": {},
   "source": [
    "We could even define functions that that take the complex number and some other parameter, for example we could define the `log` of complex numbers, which return another complex number (mathematically it would be infinitely many, but we just pick the first one in the series):"
   ]
  },
  {
   "cell_type": "code",
   "execution_count": 14,
   "metadata": {},
   "outputs": [],
   "source": [
    "import math\n",
    "def log(cn, base):\n",
    "        \"\"\" Returns another complex number which is the logarithm of this complex number \n",
    "            \n",
    "            See definition (accomodated for generic base b):\n",
    "            https://en.wikipedia.org/wiki/Complex_number#Natural_logarithm\n",
    "        \"\"\"      \n",
    "        return {'real':math.log(cn['real']) / math.log(base), \n",
    "                'imaginary' : phase(cn) / math.log(base)}"
   ]
  },
  {
   "cell_type": "code",
   "execution_count": 15,
   "metadata": {},
   "outputs": [
    {
     "name": "stdout",
     "output_type": "stream",
     "text": [
      "{'real': 1.5849625007211563, 'imaginary': 1.4865195378735334}\n"
     ]
    }
   ],
   "source": [
    "print(log(c,2))"
   ]
  },
  {
   "cell_type": "markdown",
   "metadata": {},
   "source": [
    "You see we got our dictionary representing a complex number. If we want a nicer display we can call on it the `complex_str` we defined:"
   ]
  },
  {
   "cell_type": "code",
   "execution_count": 16,
   "metadata": {},
   "outputs": [
    {
     "name": "stdout",
     "output_type": "stream",
     "text": [
      "1.5849625007211563 + 1.4865195378735334i\n"
     ]
    }
   ],
   "source": [
    "print(complex_str(log(c,2)))"
   ]
  },
  {
   "cell_type": "markdown",
   "metadata": {},
   "source": [
    "### 1.4. Finding the pattern\n",
    "\n",
    "So, what have we done so far?\n",
    "\n",
    "1) Decided a data format for the complex number, saw that the dictionary is quite convenient\n",
    "\n",
    "2) Defined a function to quickly create the dictionary:\n",
    "```python\n",
    "def complex_number(real, imaginary):\n",
    "```\n",
    "\n",
    "3) Defined some function like `phase` and `log` to do stuff on the complex number\n",
    "\n",
    "```python\n",
    "def phase(cn):\n",
    "def log(cn, base):\n",
    "```\n",
    "\n",
    "4) Defined a function `complex_str` to express the complex number as a readable string: \n",
    "\n",
    "```python\n",
    "def complex_str(cn):\n",
    "```\n",
    "\n",
    "Notice that: \n",
    "\n",
    "* all functions above take a `cn` complex number dictionary as first parameter\n",
    "* the functions `phase` and `log` are quite peculiar to complex number, and to know what they do you need to have deep knowledge of what a complex number is. \n",
    "* the function `complex_str` is more intuitive, because it covers the common need of giving a nice string representation to the data format we just defined. Also, we used the word `str` as part of the name to give a hint to the reader that probably the function behaves in a way similar to the Python function `str()`.\n",
    "\n",
    "\n",
    "When we encounter a new datatype in our programs, we often follow the procedure of thinking listed above. Such procedure is so common that software engineering people though convenient to provide a specific programming paradigm to represent it, called _Object Oriented_ programming. We are now going to rewrite the complex number example using such paradigm. \n"
   ]
  },
  {
   "cell_type": "markdown",
   "metadata": {},
   "source": [
    "### 1.5. Object Oriented Programming\n",
    "\n",
    "In Object Oriented Programming, we usually:\n",
    "\n",
    "1. introduce new datatypes by declaring a _class_, named for example `ComplexNumber`\n",
    "1. are given a dictionary and define how data is stored in the dictionary (i.e. in fields `real` and `imaginary`)\n",
    "2. define a way to _construct_ specific _instances_ , like `3 + 2i`, `5 + 6i` (instances are also called _objects_)\n",
    "3. define some _methods_ to operate on the _instances_ (like `phase`)\n",
    "4. define some special _methods_ to customize how Python treats _instances_ (for example for displaying them as strings when printing)\n",
    "\n",
    "Let's now create our first _class_."
   ]
  },
  {
   "cell_type": "markdown",
   "metadata": {},
   "source": [
    "## 2. ComplexNumber class"
   ]
  },
  {
   "cell_type": "markdown",
   "metadata": {},
   "source": [
    "### 2.1. Class declaration\n",
    "\n",
    "A minimal class declaration will at least declare the class name and the `__init__` method:\n"
   ]
  },
  {
   "cell_type": "code",
   "execution_count": 17,
   "metadata": {},
   "outputs": [],
   "source": [
    "class ComplexNumber:\n",
    "\n",
    "    def __init__(self, real, imaginary):\n",
    "        self.real = real\n",
    "        self.imaginary = imaginary       "
   ]
  },
  {
   "cell_type": "markdown",
   "metadata": {},
   "source": [
    "Here we declare to Python that we are starting defining a template for a new _class_ called `ComplexNumber`.\n",
    "This template will hold a collection of functions (called methods) that manipulate _instances_ of complex numbers \n",
    "(instances are `1.0 + 2.0i`, `3.0 + 4.0i`, ...).\n"
   ]
  },
  {
   "cell_type": "markdown",
   "metadata": {},
   "source": [
    "<div class=\"alert alert-info\">\n",
    "\n",
    "**IMPORTANT**: Although classes can have any name (i.e. `complex_number`, `complexNumber`, ...),\n",
    "by convention you _SHOULD_ use a camel cased name like `ComplexNumber`, with capital letters as initials and no underscores.\n",
    "\n",
    "</div>"
   ]
  },
  {
   "cell_type": "markdown",
   "metadata": {},
   "source": [
    "\n",
    "### 2.2. Constructor `__init__`\n",
    "\n",
    "With the dictonary model, to create complex numbers remember we defined that small utility function `complex_number`, where inside we were creating the dictionary:\n",
    "\n",
    "```python\n",
    "def complex_number(real, imaginary):\n",
    "    d = {}\n",
    "    d['real'] = real\n",
    "    d['imaginary'] = imaginary\n",
    "    return d\n",
    "```\n",
    "\n",
    "With classes, to create objects we have instead to define a so-called _constructor method_ called `__init__`:\n"
   ]
  },
  {
   "cell_type": "code",
   "execution_count": 18,
   "metadata": {},
   "outputs": [],
   "source": [
    "class ComplexNumber:\n",
    "\n",
    "    def __init__(self, real, imaginary):\n",
    "        self.real = real\n",
    "        self.imaginary = imaginary"
   ]
  },
  {
   "cell_type": "markdown",
   "metadata": {},
   "source": [
    "`__init__` is a very special method, that has the job to initialize an _instance_ of a complex number. It has three important features:\n",
    "\n",
    "a) it is defined like a function, inside the `ComplexNumber` declaration (as usual, indentation matters!)\n",
    "\n",
    "b) it always takes as first parameter `self`, which is an instance of a special kind of dictionary that will hold the fields of the complex number. Inside the previous `complex_number` function, we were creating a dictionary `d`. In `__init__` method, the dictionary instead is automatically created by Python and given to us in the form of parameter `self`\n",
    "\n",
    "c) `__init__` does not return anything: this is different from the previous `complex_number` function where instead we were returning the dictionary `d`.\n",
    "\n",
    "Later we will explain better these properties. For now, let's just concentrate on the names of things we see in the declaration.\n"
   ]
  },
  {
   "cell_type": "markdown",
   "metadata": {},
   "source": [
    "<div class=\"alert alert-warning\">\n",
    "\n",
    "**WARNING**: There can be only one constructor method per class, and MUST be named `__init__` \n",
    "</div>\n",
    "\n",
    "<div class=\"alert alert-warning\">\n",
    "\n",
    "**WARNING**: <code>__init__</code> MUST take at least one parameter, by convention it is usually named `self`\n",
    "</div>\n",
    "\n",
    "<div class=\"alert alert-info\">\n",
    "\n",
    "**IMPORTANT**: `self` could be any name!\n",
    "    \n",
    "Self is just a name we give to the first parameter. It could be any name our fantasy suggest and the program would behave exactly the same! \n",
    "    \n",
    "If the editor you are using will evidence it in some special color, it is because it is aware of the convention\n",
    "but _not_ because `self` is some special Python keyword. \n",
    "    \n",
    "</div>\n",
    "\n",
    "<div class=\"alert alert-info\">\n",
    "\n",
    "**IMPORTANT**: In general, any of the `__init__` parameters can have completely arbitrary names, so for example the following code snippet \n",
    "would work exactly the same as the initial definition:\n",
    "</div>\n"
   ]
  },
  {
   "cell_type": "code",
   "execution_count": 19,
   "metadata": {},
   "outputs": [],
   "source": [
    "class ComplexNumber:\n",
    "\n",
    "    def __init__(donald_duck, mickey_mouse, goofy):\n",
    "        donald_duck.real = mickey_mouse\n",
    "        donald_duck.imaginary = goofy"
   ]
  },
  {
   "cell_type": "markdown",
   "metadata": {},
   "source": [
    "Once the `__init__` method is defined, we can create a specific `ComplexNumber` _instance_ with a call like this:"
   ]
  },
  {
   "cell_type": "code",
   "execution_count": 20,
   "metadata": {},
   "outputs": [
    {
     "name": "stdout",
     "output_type": "stream",
     "text": [
      "<__main__.ComplexNumber object at 0x7f1fd825ded0>\n"
     ]
    }
   ],
   "source": [
    "c = ComplexNumber(3.0,5.0)\n",
    "print(c)"
   ]
  },
  {
   "cell_type": "markdown",
   "metadata": {},
   "source": [
    "What happend here? \n",
    "\n",
    "**init 2.2.1)** We told Python we want to create a new particular _instance_ of the template defined by _class_ `ComplexNumber`. As parameters for the instance we indicated `3.0` and `5.0`.\n"
   ]
  },
  {
   "cell_type": "markdown",
   "metadata": {},
   "source": [
    "<div class=\"alert alert-warning\">\n",
    "\n",
    "**WARNING**: you need round parenthesis to create the instance!\n",
    "    \n",
    "We used the name of the class `ComplexNumber` following it by an open round parenthesis and parameters like a function call: `c=ComplexNumber(3.0,5.0)`\n",
    "        \n",
    "Writing just `c = ComplexNumber` would _NOT_ instantiate anything and we would end up messing with the _template_ `ComplexNumber`, which is a collection of functions for complex numbers.\n",
    "</div>"
   ]
  },
  {
   "cell_type": "markdown",
   "metadata": {},
   "source": [
    "**init 2.2.2)** Python created a new special dictionary for the instance \n",
    "\n",
    "**init 2.2.3)** Python passed the special dictionary as first parameter of the method `__init__`, so it will be bound to parameter `self`. As second and third arguments passed _3.0_ and _5.0_, which will be bound respectively to parameters `real` and `imaginary`\n",
    "\n"
   ]
  },
  {
   "cell_type": "markdown",
   "metadata": {},
   "source": [
    "<div class=\"alert alert-warning\">\n",
    "\n",
    "**WARNING**: You don't need to pass a dictionary to instantiate a class!\n",
    "    \n",
    "When instantiating an object with a  call like `c=ComplexNumber(3.0,5.0)`  you  don't need to pass a dictionary as first parameter! Python will implicitly create it and pass it as first parameter to `__init__`\n",
    "</div>"
   ]
  },
  {
   "cell_type": "markdown",
   "metadata": {},
   "source": [
    "**init 2.2.4)** In the `__init__` method,  the instructions\n",
    "\n",
    "```python\n",
    "self.real = real\n",
    "self.imaginary = imaginary\n",
    "```\n",
    "first create a key in the dictionary called `real` associating to the key the value of the parameter `real` (in the call is _3.0)._ Then  the value _5.0_ is bound to the key `imaginary`.\n",
    "\n"
   ]
  },
  {
   "cell_type": "markdown",
   "metadata": {},
   "source": [
    "<div class=\"alert alert-info\">\n",
    "    \n",
    "**IMPORTANT:**  self is special!\n",
    "    \n",
    "We said Python provides `__init__` with a special kind of dictionary as first parameter. One of the reason it is special is that you can access keys using the dot like `self.my_key`. With ordinary dictionaries you would have to write the brackets like `self[\"my_key\"]`\n",
    "</div>"
   ]
  },
  {
   "cell_type": "markdown",
   "metadata": {},
   "source": [
    "<div class=\"alert alert-info\">\n",
    "    \n",
    "**IMPORTANT:**  like with dictionaries, we can arbitrarily choose the name of the keys, and which\n",
    "    values to associate to them.     \n",
    "</div>"
   ]
  },
  {
   "cell_type": "markdown",
   "metadata": {},
   "source": [
    "<div class=\"alert alert-info\">\n",
    "\n",
    "**IMPORTANT:**  In the following, we will often refer to keys of the <code>self</code> dictionary with \n",
    "    the terms _field_, and/or _attribute_.\n",
    "</div>"
   ]
  },
  {
   "cell_type": "markdown",
   "metadata": {},
   "source": [
    "Now one important word of wisdom: "
   ]
  },
  {
   "cell_type": "markdown",
   "metadata": {},
   "source": [
    "<div class=\"alert alert-info\">\n",
    "\n",
    "**!!!!!!**  [VIII COMMANDMENT](https://en.softpython.org/commandments.html#VIII-COMMANDMENT)  **: YOU SHALL NEVER EVER REASSIGN** `self` **!!!!!!!**    \n",
    "</div>"
   ]
  },
  {
   "cell_type": "markdown",
   "metadata": {},
   "source": [
    "Since self is a kind of dictionary, you might be tempted to do like this:"
   ]
  },
  {
   "cell_type": "code",
   "execution_count": 21,
   "metadata": {},
   "outputs": [],
   "source": [
    "class EvilComplexNumber:\n",
    "    def __init__(self, real, imaginary):        \n",
    "        self = {'real':real, 'imaginary':imaginary}  \n"
   ]
  },
  {
   "cell_type": "markdown",
   "metadata": {},
   "source": [
    "but to the outside world this will bring no effect. For example, let's say somebody from outside makes a call like this:"
   ]
  },
  {
   "cell_type": "code",
   "execution_count": 22,
   "metadata": {},
   "outputs": [],
   "source": [
    "ce = EvilComplexNumber(3.0, 5.0)\n"
   ]
  },
  {
   "cell_type": "markdown",
   "metadata": {},
   "source": [
    "At the first attempt of accessing any field, you would get an error because after the initalization `c` will point to the yet untouched `self` created by Python, and not to your dictionary (which at this point will be simply lost):"
   ]
  },
  {
   "cell_type": "markdown",
   "metadata": {},
   "source": [
    "```python\n",
    "print(ce.real)\n",
    "```\n",
    "AttributeError: EvilComplexNumber instance has no attribute 'real'         \n",
    "        \n"
   ]
  },
  {
   "cell_type": "markdown",
   "metadata": {},
   "source": [
    "\n",
    "In general, you _DO NOT_ reassign `self` to anything. Here are other example _DON'Ts_: \n",
    "\n",
    "```python\n",
    "self = ['666']  # self is only supposed to be a sort of dictionary which is passed by Python\n",
    "self = 6        # self is only supposed to be a sort of dictionary which is passed by Python\n",
    "```"
   ]
  },
  {
   "cell_type": "markdown",
   "metadata": {},
   "source": [
    "**init 2.2.5)** Python automatically returns from `__init__` the special dictionary `self`\n"
   ]
  },
  {
   "cell_type": "markdown",
   "metadata": {},
   "source": [
    "<div class=\"alert alert-warning\">\n",
    "\n",
    "**WARNING**: `__init__` must _*NOT*_ have a `return` statement !\n",
    "        \n",
    "Python will implicitly return `self` !\n",
    "</div>"
   ]
  },
  {
   "cell_type": "markdown",
   "metadata": {},
   "source": [
    "**init 2.2.6)** The result of the call (so the special dictionary) is bound to external variable 'c`:\n",
    "\n",
    "```python \n",
    "c = ComplexNumber(3.0, 5.0)\n",
    "```\n",
    "\n",
    "**init 2.2.7)** You can then start using `c` as any variable"
   ]
  },
  {
   "cell_type": "code",
   "execution_count": 23,
   "metadata": {},
   "outputs": [
    {
     "name": "stdout",
     "output_type": "stream",
     "text": [
      "<__main__.ComplexNumber object at 0x7f1fd825ded0>\n"
     ]
    }
   ],
   "source": [
    "print(c)"
   ]
  },
  {
   "cell_type": "markdown",
   "metadata": {},
   "source": [
    "From the output, you see we have indeed an _instance_ of the _class_ `ComplexNumber`. To see the difference between _instance_ and _class_, you can try printing the _class_ instead:\n"
   ]
  },
  {
   "cell_type": "code",
   "execution_count": 24,
   "metadata": {},
   "outputs": [
    {
     "name": "stdout",
     "output_type": "stream",
     "text": [
      "<class '__main__.ComplexNumber'>\n"
     ]
    }
   ],
   "source": [
    "print(ComplexNumber)"
   ]
  },
  {
   "cell_type": "markdown",
   "metadata": {},
   "source": [
    "<div class=\"alert alert-info\">\n",
    "\n",
    "**IMPORTANT**: instances are different from a class\n",
    "    \n",
    "You can create an infinite number of different _instances_ (i.e. `ComplexNumber(1.0, 1.0)`, `ComplexNumber(2.0, 2.0)`, `ComplexNumber(3.0, 3.0)`, ... ), but you will have only one _class_ definition for them (`ComplexNumber`).\n",
    "</div>"
   ]
  },
  {
   "cell_type": "markdown",
   "metadata": {},
   "source": [
    "We can now access the fields of the special dictionary by using the dot notation as we were doing with the 'self`:"
   ]
  },
  {
   "cell_type": "code",
   "execution_count": 25,
   "metadata": {},
   "outputs": [
    {
     "name": "stdout",
     "output_type": "stream",
     "text": [
      "3.0\n"
     ]
    }
   ],
   "source": [
    "print(c.real)"
   ]
  },
  {
   "cell_type": "code",
   "execution_count": 26,
   "metadata": {},
   "outputs": [
    {
     "name": "stdout",
     "output_type": "stream",
     "text": [
      "5.0\n"
     ]
    }
   ],
   "source": [
    "print(c.imaginary)"
   ]
  },
  {
   "cell_type": "markdown",
   "metadata": {},
   "source": [
    "If we want, we can also change them:"
   ]
  },
  {
   "cell_type": "code",
   "execution_count": 27,
   "metadata": {},
   "outputs": [
    {
     "name": "stdout",
     "output_type": "stream",
     "text": [
      "6.0\n"
     ]
    }
   ],
   "source": [
    "c.real = 6.0\n",
    "print(c.real)"
   ]
  },
  {
   "cell_type": "markdown",
   "metadata": {},
   "source": [
    "### 2.3. Defining methods\n",
    "\n",
    "#### 2.3.1 phase\n",
    "\n",
    "Let's make our class more interesting by adding the method `phase(self)` to operate on the complex number:"
   ]
  },
  {
   "cell_type": "code",
   "execution_count": 28,
   "metadata": {},
   "outputs": [],
   "source": [
    "import unittest\n",
    "import math\n",
    "\n",
    "class ComplexNumber:\n",
    "\n",
    "    def __init__(self, real, imaginary):\n",
    "        self.real = real\n",
    "        self.imaginary = imaginary\n",
    "\n",
    "    def phase(self):\n",
    "        \"\"\" Returns a float which is the phase (that is, the vector angle) of the complex number \n",
    "        \n",
    "            This method is something we introduce by ourselves, according to the definition:\n",
    "            https://en.wikipedia.org/wiki/Complex_number#Absolute_value_and_argument\n",
    "        \"\"\"\n",
    "        return math.atan2(self.imaginary, self.real)  "
   ]
  },
  {
   "cell_type": "markdown",
   "metadata": {},
   "source": [
    "The method takes as first parameter `self` which again is a special dictionary. We expect the dictionary to have already been initialized with some values for `real` and `imaginary` fields. We can access them with the dot notation as we did before:\n",
    "\n",
    "```python\n",
    "   return math.atan2(self.imaginary, self.real) \n",
    "```\n",
    "\n",
    "How can we call the method on instances of complex numbers? We can access the method name from an instance using the dot notation as we did with other keys:"
   ]
  },
  {
   "cell_type": "code",
   "execution_count": 29,
   "metadata": {},
   "outputs": [
    {
     "name": "stdout",
     "output_type": "stream",
     "text": [
      "1.0303768265243125\n"
     ]
    }
   ],
   "source": [
    "c = ComplexNumber(3.0,5.0)\n",
    "print(c.phase())"
   ]
  },
  {
   "cell_type": "markdown",
   "metadata": {},
   "source": [
    "What happens here? \n",
    "\n",
    "By writing `c.phase()` , we call the method `phase(self)` which we just defined. The method expects as first parameter `self` a class instance, but in the call `c.phase()` apparently we don't provide any parameter. Here some magic is going on, and Python implicitly is passing as first parameter the special dictionary bound to `c`. Then it executes the method and returns the desired float."
   ]
  },
  {
   "cell_type": "markdown",
   "metadata": {},
   "source": [
    "<div class=\"alert alert-warning\">\n",
    "\n",
    "**WARNING:** Put round parenthesis in method calls!\n",
    "\n",
    "When _calling_ a method, you MUST put the round parenthesis after the method name like in `c.phase()`! \n",
    "If you just write `c.phase` without parenthesis you will get back an address to the physical location of the method code: \n",
    "\n",
    "```\n",
    ">>> c.phase\n",
    "<bound method ComplexNumber.phase of <__main__.ComplexNumber instance at 0xb465a4cc>>\n",
    "```\n",
    "</div>"
   ]
  },
  {
   "cell_type": "markdown",
   "metadata": {},
   "source": [
    "#### 2.3.2 log\n",
    "\n",
    "We can also define methods that take more than one parameter, and also that create and return `ComplexNumber` instances, like for example the method `log(self, base)`:"
   ]
  },
  {
   "cell_type": "code",
   "execution_count": 30,
   "metadata": {},
   "outputs": [],
   "source": [
    "import math\n",
    "\n",
    "class ComplexNumber:\n",
    "\n",
    "    def __init__(self, real, imaginary):\n",
    "        self.real = real\n",
    "        self.imaginary = imaginary\n",
    "\n",
    "    def phase(self):\n",
    "        \"\"\" Returns a float which is the phase (that is, the vector angle) of the complex number \n",
    "        \n",
    "            This method is something we introduce by ourselves, according to the definition:\n",
    "            https://en.wikipedia.org/wiki/Complex_number#Absolute_value_and_argument\n",
    "        \"\"\"\n",
    "        return math.atan2(self.imaginary, self.real)    \n",
    "    \n",
    "    def log(self, base):\n",
    "        \"\"\" Returns another ComplexNumber which is the logarithm of this complex number \n",
    "            \n",
    "            This method is something we introduce by ourselves, according to the definition:\n",
    "            (accomodated for generic base b)\n",
    "            https://en.wikipedia.org/wiki/Complex_number#Natural_logarithm\n",
    "        \"\"\"      \n",
    "        return ComplexNumber(math.log(self.real) / math.log(base), self.phase() / math.log(base)) \n",
    " "
   ]
  },
  {
   "cell_type": "markdown",
   "metadata": {},
   "source": [
    "<div class=\"alert alert-warning\">\n",
    "    \n",
    "**WARNING:** _ALL_ METHODS MUST HAVE AT LEAST ONE PARAMETER, WHICH BY CONVENTION IS NAMED `self` !\n",
    "</div>"
   ]
  },
  {
   "cell_type": "markdown",
   "metadata": {},
   "source": [
    "To call `log`, you can do as with `phase` but this time you will need also to pass one parameter for the `base` parameter, in this case we use the exponential `math.e`:"
   ]
  },
  {
   "cell_type": "code",
   "execution_count": 31,
   "metadata": {},
   "outputs": [],
   "source": [
    "c = ComplexNumber(3.0, 5.0)\n",
    "logarithm = c.log(math.e)"
   ]
  },
  {
   "cell_type": "markdown",
   "metadata": {},
   "source": [
    "<div class=\"alert alert-warning\">\n",
    "\n",
    "**WARNING**: As before for `phase`, notice we didn't pass any dictionary as first parameter!  Python will implicitly pass as first argument the instance `c`  as `self`, and `math.e` as `base`\n",
    "</div>"
   ]
  },
  {
   "cell_type": "code",
   "execution_count": 32,
   "metadata": {},
   "outputs": [
    {
     "name": "stdout",
     "output_type": "stream",
     "text": [
      "<__main__.ComplexNumber object at 0x7f1fd823dbd0>\n"
     ]
    }
   ],
   "source": [
    "print(logarithm)"
   ]
  },
  {
   "cell_type": "markdown",
   "metadata": {
    "collapsed": true
   },
   "source": [
    "To see if the method worked and we got back  we got back a different complex number, we can print the single \n",
    "fields:"
   ]
  },
  {
   "cell_type": "code",
   "execution_count": 33,
   "metadata": {},
   "outputs": [
    {
     "name": "stdout",
     "output_type": "stream",
     "text": [
      "1.0986122886681098\n"
     ]
    }
   ],
   "source": [
    "print(logarithm.real)"
   ]
  },
  {
   "cell_type": "code",
   "execution_count": 34,
   "metadata": {},
   "outputs": [
    {
     "name": "stdout",
     "output_type": "stream",
     "text": [
      "1.0303768265243125\n"
     ]
    }
   ],
   "source": [
    "print(logarithm.imaginary)"
   ]
  },
  {
   "cell_type": "markdown",
   "metadata": {},
   "source": [
    "#### 2.3.3  `__str__`  for printing"
   ]
  },
  {
   "cell_type": "markdown",
   "metadata": {},
   "source": [
    "As we said, printing is not so informative: "
   ]
  },
  {
   "cell_type": "code",
   "execution_count": 35,
   "metadata": {},
   "outputs": [
    {
     "name": "stdout",
     "output_type": "stream",
     "text": [
      "<__main__.ComplexNumber object at 0x7f1fd82654d0>\n"
     ]
    }
   ],
   "source": [
    "print(ComplexNumber(3.0, 5.0))"
   ]
  },
  {
   "cell_type": "markdown",
   "metadata": {},
   "source": [
    "It would be nice to instruct Python to express the number like _\"3.0 + 5.0i\"_ whenever we want to see\n",
    "the `ComplexNumber` represented as a string. How can we do it? Luckily for us, defining the `__str__(self) method` (see bottom of class definition)\n",
    "\n",
    "<br/>\n",
    "<div class=\"alert alert-warning\">\n",
    "\n",
    "**WARNING**: There are **two** underscores `_` before and **two** underscores `_` after in `__str__` !\n",
    "</div>"
   ]
  },
  {
   "cell_type": "code",
   "execution_count": 36,
   "metadata": {},
   "outputs": [],
   "source": [
    "import math\n",
    "\n",
    "class ComplexNumber:\n",
    "\n",
    "    def __init__(self, real, imaginary):\n",
    "        self.real = real\n",
    "        self.imaginary = imaginary\n",
    "\n",
    "    def phase(self):\n",
    "        \"\"\" Returns a float which is the phase (that is, the vector angle) of the complex number \n",
    "        \n",
    "            This method is something we introduce by ourselves, according to the definition:\n",
    "            https://en.wikipedia.org/wiki/Complex_number#Absolute_value_and_argument\n",
    "        \"\"\"\n",
    "        return math.atan2(self.imaginary, self.real)    \n",
    "    \n",
    "    def log(self, base):\n",
    "        \"\"\" Returns another ComplexNumber which is the logarithm of this complex number \n",
    "            \n",
    "            This method is something we introduce by ourselves, according to the definition:\n",
    "            (accomodated for generic base b)\n",
    "            https://en.wikipedia.org/wiki/Complex_number#Natural_logarithm\n",
    "        \"\"\"      \n",
    "        return ComplexNumber(math.log(self.real) / math.log(base), self.phase() / math.log(base)) \n",
    "\n",
    "    def __str__(self):\n",
    "        return str(self.real) + \" + \" + str(self.imaginary) + \"i\"\n",
    " "
   ]
  },
  {
   "cell_type": "markdown",
   "metadata": {},
   "source": [
    "<div class=\"alert alert-info\">\n",
    "\n",
    "**IMPORTANT**: all methods starting and ending with a double underscore `__` have a special meaning in Python:\n",
    "        depending on their name, they override some default behaviour. In this case, with `__str__`\n",
    "        we are overriding how Python represents a `ComplexNumber` instance into a string.\n",
    "</div>\n",
    "\n",
    "<div class=\"alert alert-warning\">\n",
    "\n",
    "**WARNING:** follow the specs!\n",
    "\n",
    "Since we are overriding Python default behaviour, it is very important that we follow the specs of the method we are overriding _to the letter_. In our case, [the specs for \\_\\_str\\_\\_](https://docs.python.org/3/reference/datamodel.html#object.__str__) obviously state you MUST return a string. **Do read them!**\n",
    "</div>"
   ]
  },
  {
   "cell_type": "code",
   "execution_count": 37,
   "metadata": {},
   "outputs": [],
   "source": [
    "c = ComplexNumber(3.0, 5.0)"
   ]
  },
  {
   "cell_type": "markdown",
   "metadata": {},
   "source": [
    "We can also pretty print the whole complex number. Internally, `print` function will look if the class `ComplexNumber` has defined a method named `__str__`. If so, it will pass to the method the instance `c` as the first argument, which in our methods will end up in the  `self` parameter:"
   ]
  },
  {
   "cell_type": "code",
   "execution_count": 38,
   "metadata": {},
   "outputs": [
    {
     "name": "stdout",
     "output_type": "stream",
     "text": [
      "3.0 + 5.0i\n"
     ]
    }
   ],
   "source": [
    "print(c)"
   ]
  },
  {
   "cell_type": "code",
   "execution_count": 39,
   "metadata": {},
   "outputs": [
    {
     "name": "stdout",
     "output_type": "stream",
     "text": [
      "1.5849625007211563 + 1.4865195378735334i\n"
     ]
    }
   ],
   "source": [
    "print(c.log(2))"
   ]
  },
  {
   "cell_type": "markdown",
   "metadata": {},
   "source": [
    "Special Python methods are like any other method, so if we wish, we can also call them directly:"
   ]
  },
  {
   "cell_type": "code",
   "execution_count": 40,
   "metadata": {},
   "outputs": [
    {
     "data": {
      "text/plain": [
       "'3.0 + 5.0i'"
      ]
     },
     "execution_count": 40,
     "metadata": {},
     "output_type": "execute_result"
    }
   ],
   "source": [
    "c.__str__()"
   ]
  },
  {
   "cell_type": "markdown",
   "metadata": {},
   "source": [
    "**EXERCISE:** There is another method for getting a string representation of a Python object, called `__repr__`. Read carefully [\\_\\_repr\\_\\_ documentation](https://docs.python.org/3/reference/datamodel.html#object.__repr__) and implement the method. To try it and see if any difference appear with respect to str, call the standard Python functions `repr` and `str` like this:\n",
    "\n",
    "```\n",
    "c = ComplexNumber(3,5)\n",
    "print(repr(c))\n",
    "print(str(c))\n",
    "```\n",
    "\n",
    "**QUESTION**: Would `3.0 + 5.0i` be a valid Python expression ? Should we return it with `__repr__`? Read again also [\\_\\_str\\_\\_ documentation](https://docs.python.org/3/reference/datamodel.html#object.__str__) \n",
    "\n"
   ]
  },
  {
   "cell_type": "markdown",
   "metadata": {},
   "source": [
    "### 2.4. ComplexNumber code skeleton\n",
    "\n",
    "We are now ready to write methods on our own. Open Visual Studio Code (no jupyter in part B !) and proceed editing file `ComplexNumber.py` \n",
    "\n",
    "To see how to test, try running this in the console, tests should pass (if system doesn't find `python3` write `python`):\n",
    "\n",
    "\n",
    "```bash\n",
    "python3 -m unittest complex_number_test.ComplexNumberTest\n",
    "```"
   ]
  },
  {
   "cell_type": "markdown",
   "metadata": {},
   "source": [
    "### 2.5. Complex numbers magnitude\n",
    "\n",
    "![complex numbers magnitude 1 31231893123](img/complex-numbers-magnitude-1.png)\n",
    "![complex numbers magnitude 2 2312391232](img/complex-numbers-magnitude-2.png)"
   ]
  },
  {
   "cell_type": "markdown",
   "metadata": {},
   "source": [
    "Implement the `magnitude` method, using this signature:\n",
    "    \n",
    "```python\n",
    "    def magnitude(self):\n",
    "        \"\"\" Returns a float which is the magnitude (that is, the absolute value) of the complex number \n",
    "\n",
    "            This method is something we introduce by ourselves, according to the definition:\n",
    "            https://en.wikipedia.org/wiki/Complex_number#Absolute_value_and_argument\n",
    "        \"\"\"\n",
    "        raise Exception(\"TODO implement me!\")\n",
    "```    \n",
    "\n",
    "To test it,  check this test in `MagnitudeTest` class passes (notice the `almost` in `assertAlmostEquals` !!!):\n",
    "\n",
    "```python\n",
    "    def test_01_magnitude(self):\n",
    "        self.assertAlmostEqual(ComplexNumber(3.0,4.0).magnitude(),5, delta=0.001)                \n",
    "```\n",
    "\n",
    "To run the test, in the console type: \n",
    "\n",
    "```bash\n",
    "python3 -m unittest complex_number_test.MagnitudeTest\n",
    "```\n"
   ]
  },
  {
   "cell_type": "markdown",
   "metadata": {},
   "source": [
    "### 2.6. Complex numbers equality\n",
    "\n",
    "Here we will try to give you a glimpse of some aspects related to Python equality, and trying to respect interfaces when overriding methods. Equality can be a nasty subject, here we will treat it in a simplified form.\n",
    "\n",
    "First of all, try to execute this command, you should get back `False`\n"
   ]
  },
  {
   "cell_type": "code",
   "execution_count": 41,
   "metadata": {},
   "outputs": [
    {
     "data": {
      "text/plain": [
       "False"
      ]
     },
     "execution_count": 41,
     "metadata": {},
     "output_type": "execute_result"
    }
   ],
   "source": [
    "ComplexNumber(1,2) == ComplexNumber(1,2)"
   ]
  },
  {
   "cell_type": "markdown",
   "metadata": {},
   "source": [
    "\n",
    "How comes we get `False`? The reason is whenever we write `ComplexNumber(1,2)` we are creating a new object in memory. Such object will get assigned a unique address number in memory, and by default equality between class instances is calculated considering only equality among memory addresses. In this case we create one object to the left of the expression and another one to the right. So far we didn't tell Python how to deal with equality for `ComplexNumber` classes, so  default equality testing is used by checking memory addresses by implictly using the operator `is`. Since here the addresses point to different memory regions we get `False`.\n",
    "\n",
    "To get `True` as we expect, we need to implement `__eq__` special method. This method should tell Python to compare the fields within the objects, and not just the memory address. \n",
    "\n",
    "<div class=\"alert alert-info\">\n",
    "\n",
    "**REMEMBER**: as all methods starting and ending with a double underscore `__`, `__eq__` has a special meaning in Python:\n",
    "        depending on their name, they override some default behaviour. In this case, with `__eq__` we are overriding how Python checks equality. Please review [\\_\\_eq\\_\\_ documentation](https://docs.python.org/3/reference/datamodel.html#object.__eq__) before continuing.\n",
    "\n",
    "</div>\n",
    "\n",
    "**QUESTION**: What is the return type of `__eq__` ?\n",
    "\n",
    "\n",
    "![](img/complex-numbers-equality.png)"
   ]
  },
  {
   "cell_type": "markdown",
   "metadata": {},
   "source": [
    "* Implement equality for `ComplexNumber` more or less as it was done for `Fraction`\n",
    "\n",
    "    Use this method signature:\n",
    "    \n",
    "    ```python\n",
    "        def __eq__(self, other):\n",
    "    ```\n",
    "    \n",
    "    Since `__eq__` is a binary operation, here `self` will represent the object to the left of the `==`, and `other` the object to the right.\n",
    "    \n",
    "Use this simple test case to check for equality in class `EqTest`:\n",
    "\n",
    "```python\n",
    "    def test_01_integer_equality(self):\n",
    "        \"\"\"\n",
    "            Note all other tests depend on this test !\n",
    "            \n",
    "            We want also to test the constructor, so in c we set stuff by hand    \n",
    "        \"\"\"\n",
    "        c = ComplexNumber(0,0)\n",
    "        c.real = 1       \n",
    "        c.imaginary = 2        \n",
    "        self.assertEquals(c, ComplexNumber(1,2))     \n",
    "```  \n",
    "\n",
    "To run the test, in the console type: \n",
    "\n",
    "```bash\n",
    "python3 -m unittest complex_number_test.EqTest\n",
    "```"
   ]
  },
  {
   "cell_type": "markdown",
   "metadata": {},
   "source": [
    "* Beware  'equality' is tricky in Python for float numbers! Rule of thumb: when overriding `__eq__`, use 'dumb' equality, two things are the same only if their parts are literally equal \n",
    "* If instead you need to determine if two objects are similar, define other 'closeness' functions.\n",
    "* Once done, check again `ComplexNumber(1,2) == ComplexNumber(1,2)` command and see what happens, this time it should give back `True`.\n",
    "\n",
    "**QUESTION**: What about `ComplexNumber(1,2) != ComplexNumber(1,2)`? Does it behaves as expected? \n",
    "\n",
    "* (Non mandatory read) if you are interested in the gory details of equality, see\n",
    "    * [How to Override comparison operators in Python](http://jcalderone.livejournal.com/32837.html)\n",
    "    * [Messing with hashing](http://www.asmeurer.com/blog/posts/what-happens-when-you-mess-with-hashing-in-python/)\n",
    "    "
   ]
  },
  {
   "cell_type": "markdown",
   "metadata": {},
   "source": [
    "### 2.7. Complex numbers isclose\n",
    "\n",
    "Complex numbers can be represented as vectors, so intuitively we can determine if a complex number is close to another by checking that the distance between its vector tip and the the other tip is less than a given delta. There are more precise ways to calculate it, but here we prefer keeping the example simple."
   ]
  },
  {
   "cell_type": "markdown",
   "metadata": {},
   "source": [
    "Given two complex numbers\n",
    "\n",
    "$$z_1 = a + bi$$\n",
    "\n",
    "and \n",
    "\n",
    "$$z_2 = c + di$$\n",
    "\n",
    "We can consider them as close if they satisfy this condition:\n",
    "$$\\sqrt{(a-c)^2 + (b-d)^2} < delta$$\n",
    "\n",
    "* Implement the method in `ComplexNumber` class:\n",
    "\n",
    "```python\n",
    "    def isclose(self, c, delta):\n",
    "        \"\"\" Returns True if the complex number is within a delta distance from complex number c.                                \n",
    "        \"\"\"\n",
    "        raise Exception(\"TODO Implement me!\")\n",
    "```\n",
    "\n",
    "Check this test case  `IsCloseTest` class pass:\n",
    "\n",
    "```python\n",
    "    def test_01_isclose(self):\n",
    "        \"\"\"  Notice we use `assertTrue` because we expect `isclose` to return a `bool` value, and \n",
    "             we also test a case where we expect `False`\n",
    "        \"\"\"\n",
    "        self.assertTrue(ComplexNumber(1.0,1.0).isclose(ComplexNumber(1.0,1.1), 0.2))        \n",
    "        self.assertFalse(ComplexNumber(1.0,1.0).isclose(ComplexNumber(10.0,10.0), 0.2))\n",
    "```\n",
    "\n",
    "To run the test, in the console type: \n",
    "\n",
    "```bash\n",
    "python3 -m unittest complex_number_test.IscloseTest\n",
    "```\n",
    "\n",
    "\n"
   ]
  },
  {
   "cell_type": "markdown",
   "metadata": {},
   "source": [
    "<div class=\"alert alert-warning\">\n",
    "\n",
    "**REMEMBER**: Equality with `__eq__` and closeness functions like `isclose` \n",
    "are very different things. Equality should check if two objects have the same memory address or, alternatively, \n",
    "if they contain the same things, while closeness functions \n",
    "should check if two objects are similar. You should never use functions like `isclose` inside\n",
    "`__eq__` methods, unless you really know what you're doing.\n",
    "</div>"
   ]
  },
  {
   "cell_type": "markdown",
   "metadata": {},
   "source": [
    "### 2.8. Complex numbers addition\n",
    "\n",
    "![complex numbers addition 982323892](img/complex-numbers-addition.png)\n",
    "\n",
    "* `a` and `c` correspond to `real`, `b` and `d` correspond to `imaginary`\n",
    "* implement addition for `ComplexNumber` more or less as it was done for `Fraction` in theory slides\n",
    "* write some tests as well!\n",
    "\n",
    "Use this definition:\n",
    "\n",
    "```python\n",
    "def __add__(self, other):\n",
    "    raise Exception(\"TODO implement me!\")\n",
    "```"
   ]
  },
  {
   "cell_type": "markdown",
   "metadata": {},
   "source": [
    "Check these two tests pass in `AddTest` class: \n",
    "\n",
    "```python \n",
    "    def test_01_add_zero(self):\n",
    "        self.assertEquals(ComplexNumber(1,2) + ComplexNumber(0,0), ComplexNumber(1,2));\n",
    "        \n",
    "    def test_02_add_numbers(self):        \n",
    "        self.assertEquals(ComplexNumber(1,2) + ComplexNumber(3,4), ComplexNumber(4,6));\n",
    "```        \n",
    "\n",
    "\n",
    "To run the tests, type in the console: \n",
    "\n",
    "```bash\n",
    "python3 -m unittest complex_number_test.AddTest\n",
    "```\n",
    "\n",
    "**NOTE**: The other `RAddTest` (note the `R`) will **not** pass, to deal with it see next paragraph.\n"
   ]
  },
  {
   "cell_type": "markdown",
   "metadata": {},
   "source": [
    "### 2.9. Adding a scalar\n",
    "\n",
    "We defined addition among ComplexNumbers,  but what about addition among a ComplexNumber and an `int` or a `float`? \n",
    "\n",
    "Will this work? \n",
    "\n",
    "```python\n",
    "ComplexNumber(3,4) + 5\n",
    "```\n",
    "\n",
    "What about this?\n",
    "\n",
    "```python\n",
    "ComplexNumber(3,4) + 5.0\n",
    "```\n",
    "\n",
    "Try to add the following method to your class, and check if it does work with the scalar:"
   ]
  },
  {
   "cell_type": "code",
   "execution_count": 42,
   "metadata": {},
   "outputs": [],
   "source": [
    "    def __add__(self, other): \n",
    "         # checks other object is instance of the class ComplexNumber\n",
    "        if isinstance(other, ComplexNumber): \n",
    "            return ComplexNumber(self.real + other.real,self.imaginary + other.imaginary)\n",
    "        \n",
    "        # else checks the basic type of other is int or float \n",
    "        elif type(other) is int or type(other) is float:  \n",
    "            return ComplexNumber(self.real + other, self.imaginary)\n",
    "        \n",
    "        # other is of some type we don't know how to process. \n",
    "        # In this case the Python specs say we MUST return 'NotImplemented'\n",
    "        else:\n",
    "            return NotImplemented"
   ]
  },
  {
   "cell_type": "markdown",
   "metadata": {},
   "source": [
    "Hopefully now you have a better add. But what about this? Will this work?\n",
    "\n",
    "```python\n",
    "5 + ComplexNumber(3,4)\n",
    "```\n",
    "\n",
    "Answer: it won't, Python needs further instructions. Usually Python tries to see if the class of the object on left of the expression defines addition for operands _to the right_ of it. In this case on the left we have a `float` number, and float numbers don't define any way to deal to the right with your very own `ComplexNumber` class. So as a last resort Python tries to see if your `ComplexNumber` class has defined also a way to deal with operands _to the left_ of the `ComplexNumber`, by looking for the method  `__radd__` , which means _reverse addition_ . Here we implement it :\n",
    "    \n",
    "```python    \n",
    "    def __radd__(self, other):\n",
    "        \"\"\" Returns the result of expressions like    other + self      \"\"\"\n",
    "        if (type(other) is int or type(other) is float):\n",
    "            return ComplexNumber(self.real + other, self.imaginary)\n",
    "        else:\n",
    "            return NotImplemented\n",
    "```        "
   ]
  },
  {
   "cell_type": "markdown",
   "metadata": {},
   "source": [
    "To check it is working and everything is in order for addition, check these tests in `RaddTest` class pass:\n",
    "    \n",
    "```python\n",
    "\n",
    "    def test_01_add_scalar_right(self):        \n",
    "        self.assertEquals(ComplexNumber(1,2) + 3, ComplexNumber(4,2));        \n",
    "\n",
    "    def test_02_add_scalar_left(self):        \n",
    "        self.assertEquals(3 + ComplexNumber(1,2), ComplexNumber(4,2));        \n",
    "        \n",
    "    def test_03_add_negative(self):\n",
    "        self.assertEquals(ComplexNumber(-1,0) + ComplexNumber(0,-1), ComplexNumber(-1,-1));\n",
    "```"
   ]
  },
  {
   "cell_type": "markdown",
   "metadata": {},
   "source": [
    "### 2.10. Complex numbers multiplication\n",
    "\n",
    "![complex numbers multiplication 98322372373](img/complex-numbers-multiplication.png)\n",
    "\n",
    "* Implement multiplication for `ComplexNumber`, taking inspiration from previous `__add__` implementation\n",
    "* Can you extend multiplication to work with scalars (both left and right) as well?\n",
    "\n",
    "\n",
    "To implement `__mul__`, implement definition into `ComplexNumber` class: \n",
    "\n",
    "```python\n",
    "def __mul__(self, other):\n",
    "    raise Exception(\"TODO Implement me!\")\n",
    "```\n",
    "\n",
    "and make sure these tests cases pass in  `MulTest` class: \n",
    "\n",
    "```python\n",
    "    def test_01_mul_by_zero(self):\n",
    "        self.assertEquals(ComplexNumber(0,0) * ComplexNumber(1,2), ComplexNumber(0,0));\n",
    "        \n",
    "    def test_02_mul_just_real(self):\n",
    "        self.assertEquals(ComplexNumber(1,0) * ComplexNumber(2,0), ComplexNumber(2,0));\n",
    "\n",
    "    def test_03_mul_just_imaginary(self):\n",
    "        self.assertEquals(ComplexNumber(0,1) * ComplexNumber(0,2), ComplexNumber(-2,0));        \n",
    "\n",
    "    def test_04_mul_scalar_right(self):\n",
    "        self.assertEquals(ComplexNumber(1,2) * 3, ComplexNumber(3,6));\n",
    "\n",
    "    def test_05_mul_scalar_left(self):\n",
    "        self.assertEquals(3 * ComplexNumber(1,2), ComplexNumber(3,6));   \n",
    "```"
   ]
  },
  {
   "cell_type": "markdown",
   "metadata": {},
   "source": [
    "## 3. MultiSet\n",
    "\n",
    "You are going to implement a class called `MultiSet`, where you are only given the class skeleton, and you will need to determine which Python basic datastructures like `list`, `set`, `dict` (or combinations thereof) is best suited to actually hold the data. \n",
    "\n",
    "In math a multiset (or bag) generalizes a set by allowing multiple instances of the multiset's elements. \n",
    "\n",
    "The multiplicity of an element is the number of instances of the element in a specific multiset.\n",
    "\n",
    "For example:\n",
    "\n",
    "* The multiset `a, b` contains only elements `a` and `b`, each having multiplicity 1\n",
    "* In multiset `a, a, b`, `a` has multiplicity 2 and `b` has multiplicity 1\n",
    "* In multiset `a, a, a, b, b, b`, `a` and `b` both have multiplicity 3\n",
    "\n",
    "NOTE: order of insertion does not matter, so `a, a, b` and `a, b, a` are the same multiset,\n",
    "where `a` has multiplicity 2 and `b` has multiplicity 1.\n"
   ]
  },
  {
   "cell_type": "code",
   "execution_count": 43,
   "metadata": {},
   "outputs": [],
   "source": [
    "from multiset_sol import *"
   ]
  },
  {
   "cell_type": "markdown",
   "metadata": {},
   "source": [
    "## 3.1 `__init__`  `add` and `get`\n",
    "\n",
    "Now implement *all* of the following methods: `__init__`,  `add` and `get`:\n",
    "\n",
    "```python\n",
    "\n",
    "    def __init__(self):\n",
    "        \"\"\" Initializes the MultiSet as empty.\"\"\"\n",
    "        raise Exception(\"TODO IMPLEMENT ME !!!\")\n",
    "\n",
    "    def add(self, el):\n",
    "        \"\"\" Adds one instance of element el to the multiset \n",
    "\n",
    "            NOTE: MUST work in O(1)        \n",
    "        \"\"\"\n",
    "        raise Exception(\"TODO IMPLEMENT ME !!!\")\n",
    "\n",
    "    def get(self, el):\n",
    "        \"\"\" Returns the multiplicity of element el in the multiset. \n",
    "            \n",
    "            If no instance of el is present, return 0.\n",
    "\n",
    "            NOTE: MUST work in O(1)        \n",
    "        \"\"\"\n",
    "        raise Exception(\"TODO IMPLEMENT ME !!!\")\n",
    "    \n",
    "```\n",
    "\n",
    "**Testing**\n",
    "\n",
    "Once done, running this will run only the tests in `AddGetTest` class and hopefully they will pass. \n",
    "\n",
    "**Notice that**  `multiset_test` **is followed by a dot and test class name** `.AddGetTest` :\n",
    "\n",
    "```bash\n",
    "\n",
    " python3 -m unittest multiset_test.AddGetTest\n",
    "\n",
    "```\n"
   ]
  },
  {
   "cell_type": "markdown",
   "metadata": {},
   "source": [
    "\n",
    "\n",
    "## 3.2 `removen`\n",
    "\n",
    "Implement the following `removen` method:\n",
    "\n",
    "```python\n",
    "    def removen(self, el, n):\n",
    "        \"\"\" Removes n instances of element el from the multiset (that is, reduces el multiplicity by n)\n",
    "            \n",
    "            If n is negative, raises ValueError.            \n",
    "            If n represents a multiplicity bigger than the current multiplicity, raises LookupError\n",
    "            \n",
    "            NOTE: multiset multiplicities are never negative\n",
    "            NOTE: MUST work in O(1)\n",
    "        \"\"\"\n",
    "```\n",
    "\n",
    "**Testing**: `python3 -m unittest multiset_test.RemovenTest`"
   ]
  },
  {
   "cell_type": "markdown",
   "metadata": {},
   "source": [
    "## 4. Challenges\n",
    "\n",
    "Have a look at the [OOP Matrix Challenge](http://sciprog.davidleoni.it/oop/oop-matrix-chal.html)"
   ]
  },
  {
   "cell_type": "code",
   "execution_count": 44,
   "metadata": {
    "nbsphinx": "hidden"
   },
   "outputs": [
    {
     "name": "stderr",
     "output_type": "stream",
     "text": [
      ".................\n",
      "----------------------------------------------------------------------\n",
      "Ran 17 tests in 0.014s\n",
      "\n",
      "OK\n",
      ".......\n",
      "----------------------------------------------------------------------\n",
      "Ran 7 tests in 0.006s\n",
      "\n",
      "OK\n"
     ]
    }
   ],
   "source": [
    "#jupman-purge\n",
    "import sys\n",
    "sys.path.append('../')\n",
    "import jupman\n",
    "import complex_number_test\n",
    "jupman.run(complex_number_test)\n",
    "import multiset_test\n",
    "jupman.run(multiset_test)\n",
    "#/jupman-purge"
   ]
  },
  {
   "cell_type": "code",
   "execution_count": null,
   "metadata": {},
   "outputs": [],
   "source": []
  }
 ],
 "metadata": {
  "celltoolbar": "Edit Metadata",
  "kernelspec": {
   "display_name": "Python 3 (ipykernel)",
   "language": "python",
   "name": "python3"
  },
  "language_info": {
   "codemirror_mode": {
    "name": "ipython",
    "version": 3
   },
   "file_extension": ".py",
   "mimetype": "text/x-python",
   "name": "python",
   "nbconvert_exporter": "python",
   "pygments_lexer": "ipython3",
   "version": "3.7.10"
  },
  "toc": {
   "base_numbering": 1,
   "nav_menu": {},
   "number_sections": false,
   "sideBar": true,
   "skip_h1_title": false,
   "title_cell": "Table of Contents",
   "title_sidebar": "Contents",
   "toc_cell": false,
   "toc_position": {},
   "toc_section_display": true,
   "toc_window_display": true
  }
 },
 "nbformat": 4,
 "nbformat_minor": 1
}
