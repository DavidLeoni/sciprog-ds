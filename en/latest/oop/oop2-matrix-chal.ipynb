{
 "cells": [
  {
   "cell_type": "markdown",
   "metadata": {},
   "source": [
    "# OOP Matrix Challenge\n",
    "\n",
    "## [Download exercises zip](../_static/generated/oop.zip)\n",
    "\n",
    "[Browse files online](https://github.com/DavidLeoni/sciprog-ds/tree/master/oop)\n",
    "\n",
    "We want to model operations on IMMUTABLE matrices, the object oriented way.\n",
    "\n",
    "You have a generic interface called `Matrix` in file `matrix.py`, and you have to implement two descendants of the interface, `DenseMatrix` and `SparseMatrix`. \n",
    "<div class=\"alert alert-warning\">\n",
    "\n",
    "**IMPORTANT: work in group and share tests!**\n",
    "   \n",
    "You will make a lot of mistakes, some hard to debug: help yourself by writing test cases, we also invite you to share the tests (not the solutions!) with your fellow students.\n",
    "\n",
    "Please note there are many cornercases, even if stuff _seems_ to work there will probably occasions where it fails - you won't probably be able to find them all on your own.\n",
    "    \n",
    "</div>\n"
   ]
  },
  {
   "cell_type": "markdown",
   "metadata": {},
   "source": [
    "## What to do\n",
    "\n",
    "- unzip exercises in a folder, you should get something like this: \n",
    "\n",
    "```\n",
    "oop\n",
    "   matrix.py\n",
    "   oop-matrix-chal.ipynb\n",
    "   .\n",
    "   .\n",
    "```\n",
    "\n",
    "You can ignore the notebook, and edit `.py` files in Visual Studio Code."
   ]
  },
  {
   "cell_type": "markdown",
   "metadata": {},
   "source": [
    "## DenseMatrix\n",
    "\n",
    "Let's begin with the simpler implementation, which is `DenseMatrix`: you will code it by storing data inside lists of lists. \n",
    "\n",
    "Create a new file `dense_matrix.py` and declare a class `DenseMatrix` which inherits from `Matrix`. Copy inside all the methods definitions from `Matrix`."
   ]
  },
  {
   "cell_type": "markdown",
   "metadata": {},
   "source": [
    "```python\n",
    "\n",
    "from matrix import Matrix\n",
    "\n",
    "class DenseMatrix(Matrix):\n",
    "    \"\"\" A Matrix represented internally as a list of lists\n",
    "\n",
    "        When creating it from list of lists, perform a DEEP COPY of the input\n",
    "        and store it inside a private field you will call  _cells (use ONE underscore)\n",
    "    \"\"\"\n",
    "```"
   ]
  },
  {
   "cell_type": "markdown",
   "metadata": {},
   "source": [
    "## Constructors and printing\n",
    "\n",
    "Generally first methods we implement are the constructor and methods to show the class content such as `__str__` and `__repr__`. All methods are documented in the `matrix.py` interface, let's see now the constructor. Copy paste the following inside your `DenseMatrix` class."
   ]
  },
  {
   "cell_type": "markdown",
   "metadata": {},
   "source": [
    "```python\n",
    "def __init__(self, *args):\n",
    "        \"\"\"Initializes the Matrix with either:\n",
    "\n",
    "            One argument: a list of lists\n",
    "            Three arguments: number of rows\n",
    "                             number of columns\n",
    "                             a list of cell triplets (row_index,col_index,value)\n",
    "                            - if number of rows or columns is less than indeces found \n",
    "                              in triplets, raise Value Error\n",
    "\n",
    "            In both cases, provided data must allow the creation of a matrix with \n",
    "            at least one row and a column, otherwise raise ValueError\n",
    "        \"\"\"\n",
    "        raise Exception(\"Should be implemented in a descendant of Matrix!\")\n",
    "```    "
   ]
  },
  {
   "cell_type": "markdown",
   "metadata": {},
   "source": [
    "### Constructor as list of lists\n",
    "\n",
    "We see the the constructor takes the special `*args` argument, which means it can accept a variable number of arguments. To check for the two cases, you might write something like this:\n",
    "\n",
    "```python\n",
    "class DenseMatrix(Matrix):\n",
    "    def __init__(self, *args):\n",
    "\n",
    "        if len(args) == 1:   # list of lists\n",
    "            rows = args[0]            \n",
    "            # do something ...\n",
    "        elif len(args) == 3:\n",
    "            n,m,triplets = args\n",
    "            # do something\n",
    "        else:\n",
    "            raise ValueError('Expected one or three args!')\n",
    "    \n",
    "```\n",
    "\n",
    "You can start by handling only the one argument case, which we will interpret as a list of lists. You can store a  **deep** copy of the list of lists in a private field you can call `_cells`. Why should we store a deep copy? It's a form a so-called defensive-programming: if we store a copy, it's less likely that a user of our class will later mess with the instance internal data. If we store the data in a field beginning with one underscore `_`, we will signal external users we do not want them to directly access it (notice if they really want they will still be able to do it)"
   ]
  },
  {
   "cell_type": "code",
   "execution_count": 1,
   "metadata": {},
   "outputs": [],
   "source": [
    "from dense_matrix_chal_sol import *\n",
    "from sparse_matrix_chal_sol import *"
   ]
  },
  {
   "cell_type": "code",
   "execution_count": 2,
   "metadata": {},
   "outputs": [],
   "source": [
    "dma = DenseMatrix([ [0,6,8,0],\n",
    "                    [0,0,0,5],\n",
    "                    [9,0,7,0] ])"
   ]
  },
  {
   "cell_type": "code",
   "execution_count": 3,
   "metadata": {},
   "outputs": [
    {
     "data": {
      "text/plain": [
       "DenseMatrix([[0, 6, 8, 0], [0, 0, 0, 5], [9, 0, 7, 0]])"
      ]
     },
     "execution_count": 3,
     "metadata": {},
     "output_type": "execute_result"
    }
   ],
   "source": [
    "dma"
   ]
  },
  {
   "cell_type": "code",
   "execution_count": 4,
   "metadata": {},
   "outputs": [
    {
     "data": {
      "text/plain": [
       "type"
      ]
     },
     "execution_count": 4,
     "metadata": {},
     "output_type": "execute_result"
    }
   ],
   "source": [
    "type(DenseMatrix)"
   ]
  },
  {
   "cell_type": "markdown",
   "metadata": {},
   "source": [
    "### str and repr"
   ]
  },
  {
   "cell_type": "markdown",
   "metadata": {},
   "source": [
    "Implement `__str__` and `__repr__`"
   ]
  },
  {
   "cell_type": "markdown",
   "metadata": {},
   "source": [
    "```python\n",
    "    def __str__(self):\n",
    "        \"\"\" RETURN a nice human-readable formatted string, possibly like this:\n",
    "            \n",
    "              Matrix  [ [5,2,6,3],\n",
    "                        [8,4,7,4],\n",
    "                        [2,1,9,8] ]\n",
    "\n",
    "              - substitute Matrix with the descendant class name\n",
    "              - NOTE: sometimes this representation is impractical (i.e. sparse matrices \n",
    "                      with large n/m), in that case use another format of your choice\n",
    "        \"\"\"\n",
    "        raise Exception(\"Should be implemented in a descendant of Matrix!\")\n",
    "    \n",
    "    def __repr__(self):\n",
    "        \"\"\" RETURN one-line string representing a Python expression which would recreate the atrix\n",
    "        \"\"\"\n",
    "        raise Exception(\"Should be implemented in a descendant of Matrix!\")\n",
    "```        "
   ]
  },
  {
   "cell_type": "code",
   "execution_count": 5,
   "metadata": {},
   "outputs": [
    {
     "data": {
      "text/plain": [
       "'DenseMatrix [ [0, 6, 8, 0]\\n              [0, 0, 0, 5]\\n              [9, 0, 7, 0] ]'"
      ]
     },
     "execution_count": 5,
     "metadata": {},
     "output_type": "execute_result"
    }
   ],
   "source": [
    "str(dma)"
   ]
  },
  {
   "cell_type": "code",
   "execution_count": 6,
   "metadata": {},
   "outputs": [
    {
     "name": "stdout",
     "output_type": "stream",
     "text": [
      "DenseMatrix [ [0, 6, 8, 0]\n",
      "              [0, 0, 0, 5]\n",
      "              [9, 0, 7, 0] ]\n"
     ]
    }
   ],
   "source": [
    "print(dma)"
   ]
  },
  {
   "cell_type": "code",
   "execution_count": 7,
   "metadata": {},
   "outputs": [
    {
     "data": {
      "text/plain": [
       "'DenseMatrix([[0, 6, 8, 0], [0, 0, 0, 5], [9, 0, 7, 0]])'"
      ]
     },
     "execution_count": 7,
     "metadata": {},
     "output_type": "execute_result"
    }
   ],
   "source": [
    "repr(dma)"
   ]
  },
  {
   "cell_type": "code",
   "execution_count": 8,
   "metadata": {},
   "outputs": [
    {
     "data": {
      "text/plain": [
       "DenseMatrix([[0, 6, 8, 0], [0, 0, 0, 5], [9, 0, 7, 0]])"
      ]
     },
     "execution_count": 8,
     "metadata": {},
     "output_type": "execute_result"
    }
   ],
   "source": [
    "dma"
   ]
  },
  {
   "cell_type": "markdown",
   "metadata": {},
   "source": [
    "### constructor as list of triplets\n",
    "\n",
    "Now extend the constructor to handle also the list of triplets case:"
   ]
  },
  {
   "cell_type": "code",
   "execution_count": 9,
   "metadata": {},
   "outputs": [],
   "source": [
    "dmb = DenseMatrix(3,4, [(0,1,6),(0,2,8),(1,3,5),(2,0,9),(2,2,7)])"
   ]
  },
  {
   "cell_type": "code",
   "execution_count": 10,
   "metadata": {},
   "outputs": [
    {
     "data": {
      "text/plain": [
       "DenseMatrix([[0, 6, 8, 0], [0, 0, 0, 5], [9, 0, 7, 0]])"
      ]
     },
     "execution_count": 10,
     "metadata": {},
     "output_type": "execute_result"
    }
   ],
   "source": [
    "dmb"
   ]
  },
  {
   "cell_type": "code",
   "execution_count": 11,
   "metadata": {},
   "outputs": [
    {
     "name": "stdout",
     "output_type": "stream",
     "text": [
      "DenseMatrix [ [0, 6, 8, 0]\n",
      "              [0, 0, 0, 5]\n",
      "              [9, 0, 7, 0] ]\n"
     ]
    }
   ],
   "source": [
    "print(dmb)"
   ]
  },
  {
   "cell_type": "markdown",
   "metadata": {},
   "source": [
    "## shape\n",
    "\n",
    "Implement `shape` method:\n",
    "\n",
    "```python\n",
    "    def shape(self):\n",
    "        \"\"\"RETURN the number of rows and columns as a tuple\n",
    "        \"\"\"\n",
    "```"
   ]
  },
  {
   "cell_type": "code",
   "execution_count": 12,
   "metadata": {},
   "outputs": [
    {
     "data": {
      "text/plain": [
       "(3, 4)"
      ]
     },
     "execution_count": 12,
     "metadata": {},
     "output_type": "execute_result"
    }
   ],
   "source": [
    "dma.shape()  # NOTE the () "
   ]
  },
  {
   "cell_type": "markdown",
   "metadata": {},
   "source": [
    "## Brackets operator\n",
    "\n",
    "Override the square bracket operator by reimplementing the method `__getitem__`\n",
    "\n",
    "**IMPORTANT**: Read carefully [Python documentation](https://docs.python.org/3/reference/datamodel.html#object.__getitem__)!!\n",
    "\n",
    "\n",
    "```python\n",
    "    def __getitem__(self, key):\n",
    "        \"\"\"Overrides default bracket access behaviour. \n",
    "           key is whatever the user passes within the brackets, in our case \n",
    "           we want user to be able to write\n",
    "\n",
    "           my_mat[2,5]  to access element at row 2 and column 5\n",
    "\n",
    "           NOTE 1: if the user types 2,5 inside the brackets, Python will actually \n",
    "                 generate a TUPLE (2,5)  so that is the key type you should \n",
    "                 accept (a tuple of *exactly two* integers)\n",
    "           NOTE 2: Since this method signature is defined by Python documention:\n",
    "\n",
    "              https://docs.python.org/3/reference/datamodel.html#object.__getitem__\n",
    "  \n",
    "            you MUST write it respecting ALL the indications of the docs, in particular\n",
    "            think also about  what should happen in undesired scenarios when\n",
    "            the user enters a key of wrong type, wrong value, etc as described \n",
    "            in the documentation\n",
    "        \"\"\"\n",
    "```"
   ]
  },
  {
   "cell_type": "code",
   "execution_count": 13,
   "metadata": {},
   "outputs": [
    {
     "name": "stdout",
     "output_type": "stream",
     "text": [
      "DenseMatrix [ [0, 6, 8, 0]\n",
      "              [0, 0, 0, 5]\n",
      "              [9, 0, 7, 0] ]\n"
     ]
    }
   ],
   "source": [
    "print(dma)"
   ]
  },
  {
   "cell_type": "code",
   "execution_count": 14,
   "metadata": {},
   "outputs": [
    {
     "data": {
      "text/plain": [
       "6"
      ]
     },
     "execution_count": 14,
     "metadata": {},
     "output_type": "execute_result"
    }
   ],
   "source": [
    "dma[0,1]"
   ]
  },
  {
   "cell_type": "code",
   "execution_count": 15,
   "metadata": {},
   "outputs": [
    {
     "data": {
      "text/plain": [
       "8"
      ]
     },
     "execution_count": 15,
     "metadata": {},
     "output_type": "execute_result"
    }
   ],
   "source": [
    "dma[0,2]"
   ]
  },
  {
   "cell_type": "markdown",
   "metadata": {},
   "source": [
    "Negative indeces should also be supported:"
   ]
  },
  {
   "cell_type": "code",
   "execution_count": 16,
   "metadata": {},
   "outputs": [
    {
     "data": {
      "text/plain": [
       "6"
      ]
     },
     "execution_count": 16,
     "metadata": {},
     "output_type": "execute_result"
    }
   ],
   "source": [
    "dma[0,-3]"
   ]
  },
  {
   "cell_type": "markdown",
   "metadata": {},
   "source": [
    "## nonzero\n",
    "\n",
    "```python\n",
    "def nonzero(self):\n",
    "        \"\"\"Return a list of triplets (row index, column index, value) of non-zero cells,\n",
    "           in no particular order.           \n",
    "        \"\"\"\n",
    "```        "
   ]
  },
  {
   "cell_type": "markdown",
   "metadata": {},
   "source": [
    "Since we stored the rows in a private field `_cells`, we have to offer users other ways to access  data. For example, by calling `nonzero()` method users should be able to obtain non-zero values, as a list of triplets with row index, column index and value of cells.  You might wonder what the utility is, after  we already implemented the brackets operator: the reason will become clearer when you start implementing methods that need to visit a generic `Matrix`, like the following ones."
   ]
  },
  {
   "cell_type": "code",
   "execution_count": 17,
   "metadata": {},
   "outputs": [
    {
     "name": "stdout",
     "output_type": "stream",
     "text": [
      "DenseMatrix [ [0, 6, 8, 0]\n",
      "              [0, 0, 0, 5]\n",
      "              [9, 0, 7, 0] ]\n"
     ]
    }
   ],
   "source": [
    "print(dma)"
   ]
  },
  {
   "cell_type": "code",
   "execution_count": 18,
   "metadata": {},
   "outputs": [
    {
     "data": {
      "text/plain": [
       "[(0, 1, 6), (0, 2, 8), (1, 3, 5), (2, 0, 9), (2, 2, 7)]"
      ]
     },
     "execution_count": 18,
     "metadata": {},
     "output_type": "execute_result"
    }
   ],
   "source": [
    "dma.nonzero()"
   ]
  },
  {
   "cell_type": "markdown",
   "metadata": {},
   "source": [
    "## isclose\n",
    "\n",
    "Implement this method:\n",
    "\n",
    "<div class=\"alert alert-warning\">\n",
    "    \n",
    "**DO NOT MAKE ASSUMPTIONS ABOUT** `other` **CLASS!**\n",
    "    \n",
    "In the implementation, use `other` like if it were a generic `Matrix`, it might not always be a `DenseMatrix`. So the only way to access elements will be either by using the brackets operator or by calling `nonzero()`\n",
    "       \n",
    "</div>  \n",
    "\n",
    "```python\n",
    "def isclose(self, other, delta):\n",
    "        \"\"\" RETURN True if each cell in this matrix is within a delta distance\n",
    "            from other Matrix. RETURN False if any cell couple differs more than delta.\n",
    "\n",
    "            - if matrices have different dimensions, raise ValueError\n",
    "        \"\"\"\n",
    "```"
   ]
  },
  {
   "cell_type": "code",
   "execution_count": 19,
   "metadata": {},
   "outputs": [
    {
     "name": "stdout",
     "output_type": "stream",
     "text": [
      "DenseMatrix [ [0, 6, 8, 0]\n",
      "              [0, 0, 0, 5]\n",
      "              [9, 0, 7, 0] ]\n"
     ]
    }
   ],
   "source": [
    "print(dma)"
   ]
  },
  {
   "cell_type": "code",
   "execution_count": 20,
   "metadata": {},
   "outputs": [
    {
     "data": {
      "text/plain": [
       "True"
      ]
     },
     "execution_count": 20,
     "metadata": {},
     "output_type": "execute_result"
    }
   ],
   "source": [
    "dmd = DenseMatrix([ [0,     5.9,   8,   0],\n",
    "                    [0,       0, 0.1,   5],\n",
    "                    [9.15, -0.1,   7, 0.1] ])\n",
    "\n",
    "dma.isclose(dmd, 0.2)"
   ]
  },
  {
   "cell_type": "code",
   "execution_count": 21,
   "metadata": {},
   "outputs": [
    {
     "data": {
      "text/plain": [
       "False"
      ]
     },
     "execution_count": 21,
     "metadata": {},
     "output_type": "execute_result"
    }
   ],
   "source": [
    "dma.isclose(dmd, 0.05)"
   ]
  },
  {
   "cell_type": "markdown",
   "metadata": {},
   "source": [
    "## Equality "
   ]
  },
  {
   "cell_type": "markdown",
   "metadata": {},
   "source": [
    "Override `==` operator:"
   ]
  },
  {
   "cell_type": "code",
   "execution_count": 22,
   "metadata": {},
   "outputs": [
    {
     "data": {
      "text/plain": [
       "True"
      ]
     },
     "execution_count": 22,
     "metadata": {},
     "output_type": "execute_result"
    }
   ],
   "source": [
    "\n",
    "dma = DenseMatrix([ [0,6,8,0],\n",
    "                    [0,0,0,5],\n",
    "                    [9,0,7,0] ])\n",
    "\n",
    "dmb = DenseMatrix(3,4, [(0,1,6),(0,2,8),(1,3,5),(2,0,9),(2,2,7)])\n",
    "\n",
    "dma == dmb"
   ]
  },
  {
   "cell_type": "markdown",
   "metadata": {},
   "source": [
    "Notice in this case, since we want in general to check equality _to the last bit,_ we will want to check that `other` is actually a `DenseMatrix`, otherwise we will return `False`"
   ]
  },
  {
   "cell_type": "code",
   "execution_count": 23,
   "metadata": {},
   "outputs": [
    {
     "data": {
      "text/plain": [
       "False"
      ]
     },
     "execution_count": 23,
     "metadata": {},
     "output_type": "execute_result"
    }
   ],
   "source": [
    "dma == 'ciao'"
   ]
  },
  {
   "cell_type": "markdown",
   "metadata": {},
   "source": [
    "Equality with a different shape should just return `False`, without raising exceptions:"
   ]
  },
  {
   "cell_type": "code",
   "execution_count": 24,
   "metadata": {},
   "outputs": [
    {
     "data": {
      "text/plain": [
       "False"
      ]
     },
     "execution_count": 24,
     "metadata": {},
     "output_type": "execute_result"
    }
   ],
   "source": [
    "dma == DenseMatrix([[2,4],\n",
    "                    [9,3]])"
   ]
  },
  {
   "cell_type": "markdown",
   "metadata": {},
   "source": [
    "Equality with different numbers:"
   ]
  },
  {
   "cell_type": "code",
   "execution_count": 25,
   "metadata": {},
   "outputs": [
    {
     "data": {
      "text/plain": [
       "False"
      ]
     },
     "execution_count": 25,
     "metadata": {},
     "output_type": "execute_result"
    }
   ],
   "source": [
    "dmc = DenseMatrix([ [1,2,3,4],\n",
    "                    [6,7,8,9],\n",
    "                    [10,11,12,13] ])\n",
    "dma == dmc"
   ]
  },
  {
   "cell_type": "markdown",
   "metadata": {},
   "source": [
    "## Sum\n",
    "\n",
    "\n",
    "Override `+` operator so can sum other `Matrix` instances:\n",
    "\n",
    "<div class=\"alert alert-warning\">\n",
    "    \n",
    "**DO NOT MAKE ASSUMPTIONS ABOUT** `other` **CLASS!**\n",
    "    \n",
    "In the implementation, use `other` like if it were a generic `Matrix`, it might not always be a `DenseMatrix`. So the only way to access elements will be either by using the brackets operator or by calling `nonzero()`\n",
    "       \n",
    "</div>  "
   ]
  },
  {
   "cell_type": "code",
   "execution_count": 26,
   "metadata": {},
   "outputs": [],
   "source": [
    "dma = DenseMatrix([ [0,6,8,0],\n",
    "                    [0,0,0,5],\n",
    "                    [9,0,7,0] ])\n",
    "\n",
    "dmc = DenseMatrix([ [1,2,3,4],\n",
    "                    [6,7,8,9],\n",
    "                    [10,11,12,13] ])"
   ]
  },
  {
   "cell_type": "code",
   "execution_count": 27,
   "metadata": {},
   "outputs": [
    {
     "name": "stdout",
     "output_type": "stream",
     "text": [
      "DenseMatrix [ [1, 8, 11, 4]\n",
      "              [6, 7, 8, 14]\n",
      "              [19, 11, 19, 13] ]\n"
     ]
    }
   ],
   "source": [
    "print(dma + dmc)"
   ]
  },
  {
   "cell_type": "markdown",
   "metadata": {},
   "source": [
    "Note `dma` and `dmc` where **not** modified:"
   ]
  },
  {
   "cell_type": "code",
   "execution_count": 28,
   "metadata": {},
   "outputs": [
    {
     "name": "stdout",
     "output_type": "stream",
     "text": [
      "DenseMatrix [ [0, 6, 8, 0]\n",
      "              [0, 0, 0, 5]\n",
      "              [9, 0, 7, 0] ]\n"
     ]
    }
   ],
   "source": [
    "print(dma)"
   ]
  },
  {
   "cell_type": "code",
   "execution_count": 29,
   "metadata": {},
   "outputs": [
    {
     "name": "stdout",
     "output_type": "stream",
     "text": [
      "DenseMatrix [ [1, 2, 3, 4]\n",
      "              [6, 7, 8, 9]\n",
      "              [10, 11, 12, 13] ]\n"
     ]
    }
   ],
   "source": [
    "print(dmc)"
   ]
  },
  {
   "cell_type": "markdown",
   "metadata": {},
   "source": [
    "## Multiplication\n",
    "\n",
    "Override `*` operator so we can multiply by a scalar:"
   ]
  },
  {
   "cell_type": "code",
   "execution_count": 30,
   "metadata": {},
   "outputs": [
    {
     "name": "stdout",
     "output_type": "stream",
     "text": [
      "DenseMatrix [ [0, 12, 16, 0]\n",
      "              [0, 0, 0, 10]\n",
      "              [18, 0, 14, 0] ]\n"
     ]
    }
   ],
   "source": [
    "print(dma * 2)"
   ]
  },
  {
   "cell_type": "markdown",
   "metadata": {},
   "source": [
    "<div class=\"alert alert-warning\">\n",
    "    \n",
    "**DO NOT MAKE ASSUMPTIONS ABOUT** `other` **CLASS!**\n",
    "    \n",
    "In the implementation, use `other` like if it were a generic `Matrix`, it might not always be a `DenseMatrix`. So the only way to access elements will be either by using the brackets operator or by calling `nonzero()`\n",
    "       \n",
    "</div>  "
   ]
  },
  {
   "cell_type": "markdown",
   "metadata": {},
   "source": [
    "Again multiplication by a scalar does **not** modify the original:"
   ]
  },
  {
   "cell_type": "code",
   "execution_count": 31,
   "metadata": {},
   "outputs": [
    {
     "name": "stdout",
     "output_type": "stream",
     "text": [
      "DenseMatrix [ [0, 6, 8, 0]\n",
      "              [0, 0, 0, 5]\n",
      "              [9, 0, 7, 0] ]\n"
     ]
    }
   ],
   "source": [
    "print(dma)"
   ]
  },
  {
   "cell_type": "markdown",
   "metadata": {},
   "source": [
    "Multiplying a scalar by a matrix should also work:"
   ]
  },
  {
   "cell_type": "code",
   "execution_count": 32,
   "metadata": {},
   "outputs": [
    {
     "name": "stdout",
     "output_type": "stream",
     "text": [
      "DenseMatrix [ [0, 12, 16, 0]\n",
      "              [0, 0, 0, 10]\n",
      "              [18, 0, 14, 0] ]\n"
     ]
    }
   ],
   "source": [
    "print(2 * dma)"
   ]
  },
  {
   "cell_type": "markdown",
   "metadata": {},
   "source": [
    "Again original `dma` was not changed:"
   ]
  },
  {
   "cell_type": "code",
   "execution_count": 33,
   "metadata": {},
   "outputs": [
    {
     "name": "stdout",
     "output_type": "stream",
     "text": [
      "DenseMatrix [ [0, 6, 8, 0]\n",
      "              [0, 0, 0, 5]\n",
      "              [9, 0, 7, 0] ]\n"
     ]
    }
   ],
   "source": [
    "print(dma)"
   ]
  },
  {
   "cell_type": "markdown",
   "metadata": {},
   "source": [
    "### Matrix vector multiplication\n",
    "\n",
    "Next implement support for multiplication of a matrix by a properly dimensioned vector **on the right**, which must have the same number of rows as the matrix number of columns:\n",
    "\n",
    "``` \n",
    "     matrix   vector      result\n",
    " \n",
    "\\j    012\n",
    "i  0  aaa        v0       a00*v0 + a01*v1 + a02*v2\n",
    "   1  aaa        v1       a10*v0 + a11*v1 + a12*v2 \n",
    "   2  aaa        v2       a20*v0 + a21*v1 + a22*v2\n",
    "   3  aaa                 a30*v0 + a31*v1 + a32*v2 \n",
    "```\n",
    "\n",
    "The result will have the same number of rows as the matrix.\n",
    "\n",
    "<div class=\"alert alert-warning\">\n",
    "    \n",
    "**DO NOT MAKE ASSUMPTIONS ABOUT** `other` **CLASS!**\n",
    "    \n",
    "In the implementation, use `other` like if it were a generic `Matrix`, it might not always be a `DenseMatrix`. So the only way to access elements will be either by using the brackets operator or by calling `nonzero()`\n",
    "       \n",
    "</div>  \n"
   ]
  },
  {
   "cell_type": "code",
   "execution_count": 34,
   "metadata": {},
   "outputs": [],
   "source": [
    "dmveca = DenseMatrix([[1],[2],[3],[4]])"
   ]
  },
  {
   "cell_type": "code",
   "execution_count": 35,
   "metadata": {},
   "outputs": [
    {
     "name": "stdout",
     "output_type": "stream",
     "text": [
      "DenseMatrix [ [1]\n",
      "              [2]\n",
      "              [3]\n",
      "              [4] ]\n"
     ]
    }
   ],
   "source": [
    "print(dmveca)"
   ]
  },
  {
   "cell_type": "code",
   "execution_count": 36,
   "metadata": {},
   "outputs": [
    {
     "name": "stdout",
     "output_type": "stream",
     "text": [
      "DenseMatrix [ [0, 6, 8, 0]\n",
      "              [0, 0, 0, 5]\n",
      "              [9, 0, 7, 0] ]\n"
     ]
    }
   ],
   "source": [
    "print(dma)"
   ]
  },
  {
   "cell_type": "code",
   "execution_count": 37,
   "metadata": {},
   "outputs": [
    {
     "name": "stdout",
     "output_type": "stream",
     "text": [
      "DenseMatrix [ [36]\n",
      "              [20]\n",
      "              [30] ]\n"
     ]
    }
   ],
   "source": [
    "print(dma * dmveca)"
   ]
  },
  {
   "cell_type": "markdown",
   "metadata": {},
   "source": [
    "Multiplication by a vector does **not** modify the originals:"
   ]
  },
  {
   "cell_type": "code",
   "execution_count": 38,
   "metadata": {},
   "outputs": [
    {
     "name": "stdout",
     "output_type": "stream",
     "text": [
      "DenseMatrix [ [1]\n",
      "              [2]\n",
      "              [3]\n",
      "              [4] ]\n"
     ]
    }
   ],
   "source": [
    "print(dmveca)"
   ]
  },
  {
   "cell_type": "markdown",
   "metadata": {},
   "source": [
    "Notice dimensions must be compatible, this should **not**  work:\n",
    "\n",
    "```python\n",
    ">>> print(dma*DenseMatrix([[1],[2]]))\n",
    "\n",
    "---------------------------------------------------------------------------\n",
    "TypeError                                 Traceback (most recent call last)\n",
    "<ipython-input-33-bc850efec5f1> in <module>()\n",
    "----> 1 print(dma*DenseMatrix([[1],[2]]))\n",
    "\n",
    "TypeError: unsupported operand type(s) for *: 'DenseMatrix' and 'DenseMatrix'\n",
    "```"
   ]
  },
  {
   "cell_type": "markdown",
   "metadata": {},
   "source": [
    "### Vector matrix multiplication\n",
    "\n",
    "\n",
    "Next implement support for multiplication of a matrix by a properly dimensioned horizontal vector **on the left**, which must have the same number of columns as the matrix number of rows:\n",
    "\n",
    "``` \n",
    "  ector matrix result\n",
    " \n",
    "\\j  012   0123 0123 \n",
    "i   vvv 0 aaaa rrrr\n",
    "        1 aaaa              \n",
    "        2 aaaa     \n",
    "        \n",
    "        \n",
    "res = a00*v0+a10*v1+a20*v2, a01*v0+a11*v1+a21*v2, a02*v0+a12*v1+a22*v2, a03*v0+a13*v1+a23*v2        \n",
    "```\n",
    "\n",
    "The result will have the same number of columns as the matrix.\n",
    "\n",
    "<div class=\"alert alert-warning\">\n",
    "    \n",
    "**DO NOT MAKE ASSUMPTIONS ABOUT** `other` **CLASS!**\n",
    "    \n",
    "In the implementation, use `other` like if it were a generic `Matrix`, it might not always be a `DenseMatrix`. So the only way to access elements will be either by using the brackets operator or by calling `nonzero()`\n",
    "       \n",
    "</div>  "
   ]
  },
  {
   "cell_type": "code",
   "execution_count": 39,
   "metadata": {},
   "outputs": [
    {
     "name": "stdout",
     "output_type": "stream",
     "text": [
      "DenseMatrix [ [0, 6, 8, 0]\n",
      "              [0, 0, 0, 5]\n",
      "              [9, 0, 7, 0] ]\n"
     ]
    }
   ],
   "source": [
    "print(dma)"
   ]
  },
  {
   "cell_type": "code",
   "execution_count": 40,
   "metadata": {},
   "outputs": [],
   "source": [
    "dmvecb = DenseMatrix([[1,2,3]])"
   ]
  },
  {
   "cell_type": "code",
   "execution_count": 41,
   "metadata": {},
   "outputs": [
    {
     "name": "stdout",
     "output_type": "stream",
     "text": [
      "DenseMatrix [ [27, 6, 29, 10] ]\n"
     ]
    }
   ],
   "source": [
    "print(dmvecb * dma)"
   ]
  },
  {
   "cell_type": "markdown",
   "metadata": {},
   "source": [
    "### Matrix matrix multiplication\n",
    "\n",
    "This would be the general problem but for the purposes of this challenge, it is **not mandatory** to  support multiplication by a matrix, **even if they have compatible dimensions:**"
   ]
  },
  {
   "cell_type": "markdown",
   "metadata": {},
   "source": [
    "```python\n",
    ">>> print(dma*DenseMatrix([[3,2],\n",
    "                           [3,7],\n",
    "                           [2,8],\n",
    "                           [9,3],]))\n",
    "\n",
    "---------------------------------------------------------------------------\n",
    "TypeError                                 Traceback (most recent call last)\n",
    "<ipython-input-34-ed1ad440c418> in <module>()\n",
    "      2                        [3,7],\n",
    "      3                        [2,8],\n",
    "----> 4                        [9,3],]))\n",
    "\n",
    "TypeError: unsupported operand type(s) for *: 'DenseMatrix' and 'DenseMatrix'\n",
    "\n",
    "```"
   ]
  },
  {
   "cell_type": "markdown",
   "metadata": {},
   "source": [
    "## SparseMatrix\n",
    "\n",
    "If you've arrived so far, congratulations, that was quite a journey. But only half of it!  We've seen matrices as lists of lists for a long time, let's now see if we can save some space. Many real-world matrices have often most cells set to zero, so it would be convenient to avoid storing in memory those cells, and reserve space only for non-zero valued cells. There are many ways to do it (see [Wikipedia](https://en.wikipedia.org/wiki/Sparse_matrix)), in this challenge we will adopt the simplest which is the so-called [Dictionary of Keys](https://en.wikipedia.org/wiki/Sparse_matrix#Dictionary_of_keys_(DOK)) (DOK in short). DOK consists of a dictionary that maps (row, column)-pairs to the value of the elements. Elements that are missing from the dictionary are assumed to be zero. "
   ]
  },
  {
   "cell_type": "markdown",
   "metadata": {},
   "source": [
    "Now we can see the real reason why we supported also a constructor with triplets: if the goal of using a SparseMatrix is to avoid creating huge tables in memory, initializing it with a list of lists would defeat the purpose! In what follows, sometimes we may still use the list of lists initialization, but that would only be for clarity purposes."
   ]
  },
  {
   "cell_type": "markdown",
   "metadata": {},
   "source": [
    "## Sparse constructors and printing\n",
    "\n",
    "Create a new file `sparse_matrix.py` and copy inside this with the method definitions you find in  `matrix.py` as done before.\n",
    "\n",
    "```python\n",
    "from matrix import Matrix\n",
    "\n",
    "class SparseMatrix(Matrix):\n",
    "    \"\"\" A SparseMatrix is a matrix which contains very few non-zero elements.\n",
    "\n",
    "        In this implementation, storage is modelled as a dictionary of keys (DOK in short),\n",
    "        where each key is a tuple of cell coordinates which maps to a non-zero cell value.\n",
    "\n",
    "        NOTE: *NEVER* store zero-valued cells.\n",
    "    \"\"\"\n",
    "```\n",
    "\n",
    "\n",
    "Ffollow the same implementation order as before, so start with the constructor `__init__`, `__str__` and `__repr__` overrides. Note this time our class implementation will have a **dictionary** as private `_cells` field. \n",
    "\n",
    "With sparse matrices we can have a big 30x20 matrix and occupy very little memory:"
   ]
  },
  {
   "cell_type": "code",
   "execution_count": 42,
   "metadata": {},
   "outputs": [],
   "source": [
    "sma = SparseMatrix(30,20, [(26,17,3),(24,11,5)])"
   ]
  },
  {
   "cell_type": "markdown",
   "metadata": {},
   "source": [
    "You can save the shape inside a private `_shape` field."
   ]
  },
  {
   "cell_type": "markdown",
   "metadata": {},
   "source": [
    "Since shape can be much bigger than atcual data, with `__str__` you must show the internal dictionary **and** the shape:"
   ]
  },
  {
   "cell_type": "code",
   "execution_count": 43,
   "metadata": {},
   "outputs": [
    {
     "name": "stdout",
     "output_type": "stream",
     "text": [
      "SparseMatrix {\n",
      "    (24, 11): 5,\n",
      "    (26, 17): 3\n",
      "}\n",
      "shape: (30, 20)\n"
     ]
    }
   ],
   "source": [
    "print(sma)"
   ]
  },
  {
   "cell_type": "markdown",
   "metadata": {},
   "source": [
    "`__repr__` will show the triplets constructor:"
   ]
  },
  {
   "cell_type": "code",
   "execution_count": 44,
   "metadata": {},
   "outputs": [
    {
     "data": {
      "text/plain": [
       "'SparseMatrix(30,20, [(24, 11, 5), (26, 17, 3)])'"
      ]
     },
     "execution_count": 44,
     "metadata": {},
     "output_type": "execute_result"
    }
   ],
   "source": [
    "repr(sma)"
   ]
  },
  {
   "cell_type": "code",
   "execution_count": 45,
   "metadata": {},
   "outputs": [
    {
     "data": {
      "text/plain": [
       "SparseMatrix(30,20, [(24, 11, 5), (26, 17, 3)])"
      ]
     },
     "execution_count": 45,
     "metadata": {},
     "output_type": "execute_result"
    }
   ],
   "source": [
    "sma"
   ]
  },
  {
   "cell_type": "markdown",
   "metadata": {},
   "source": [
    "## Sparse shape\n",
    "\n",
    "Implement `shape()`:"
   ]
  },
  {
   "cell_type": "code",
   "execution_count": 46,
   "metadata": {},
   "outputs": [
    {
     "data": {
      "text/plain": [
       "(30, 20)"
      ]
     },
     "execution_count": 46,
     "metadata": {},
     "output_type": "execute_result"
    }
   ],
   "source": [
    "sma.shape()   # note the round brackets"
   ]
  },
  {
   "cell_type": "markdown",
   "metadata": {},
   "source": [
    "## Sparse Brackets operator\n",
    "\n",
    "\n",
    "Override the square bracket operator by reimplementing the method `__getitem__`\n",
    "\n",
    "<div class=\"alert alert-warning\">\n",
    "    \n",
    "**CAREFUL!**\n",
    "    \n",
    "Even more than before, you have to super-carefully read [Python documentation](https://docs.python.org/3/reference/datamodel.html#object.__getitem__)!!    \n",
    "\n",
    "To respect Python documentation, this time you can't rely on built-in errors and features of lists as you probably did in the `DenseMatrix` case, so you will have to write **a lot** of `if` that check for various possible errors (bad types, values, etc) and raise the appropriate errors (`IndexError`, `TypeError`, `KeyError`, etc)\n",
    "    \n",
    "</div>    \n",
    "\n",
    "\n",
    "Implement brackets operator:"
   ]
  },
  {
   "cell_type": "code",
   "execution_count": 47,
   "metadata": {},
   "outputs": [
    {
     "data": {
      "text/plain": [
       "5"
      ]
     },
     "execution_count": 47,
     "metadata": {},
     "output_type": "execute_result"
    }
   ],
   "source": [
    "sma[24,11]"
   ]
  },
  {
   "cell_type": "code",
   "execution_count": 48,
   "metadata": {},
   "outputs": [
    {
     "data": {
      "text/plain": [
       "3"
      ]
     },
     "execution_count": 48,
     "metadata": {},
     "output_type": "execute_result"
    }
   ],
   "source": [
    "sma[26,17]"
   ]
  },
  {
   "cell_type": "code",
   "execution_count": 49,
   "metadata": {},
   "outputs": [
    {
     "data": {
      "text/plain": [
       "0.0"
      ]
     },
     "execution_count": 49,
     "metadata": {},
     "output_type": "execute_result"
    }
   ],
   "source": [
    "sma[29,3]   # shouldn't explode"
   ]
  },
  {
   "cell_type": "markdown",
   "metadata": {},
   "source": [
    "Support negative numbers:"
   ]
  },
  {
   "cell_type": "code",
   "execution_count": 50,
   "metadata": {},
   "outputs": [
    {
     "data": {
      "text/plain": [
       "5"
      ]
     },
     "execution_count": 50,
     "metadata": {},
     "output_type": "execute_result"
    }
   ],
   "source": [
    "sma[-6,11]   "
   ]
  },
  {
   "cell_type": "code",
   "execution_count": 51,
   "metadata": {},
   "outputs": [
    {
     "data": {
      "text/plain": [
       "0.0"
      ]
     },
     "execution_count": 51,
     "metadata": {},
     "output_type": "execute_result"
    }
   ],
   "source": [
    "sma[29,-2]   "
   ]
  },
  {
   "cell_type": "markdown",
   "metadata": {},
   "source": [
    "## Sparse nonzero\n",
    "\n",
    "This is very important, as it allows iterating the data structure in an efficient way - depending on the shape, trying all the couples `i`, `j` with the square brackets might be prohibitively costly."
   ]
  },
  {
   "cell_type": "code",
   "execution_count": 52,
   "metadata": {},
   "outputs": [
    {
     "data": {
      "text/plain": [
       "[(24, 11, 5), (26, 17, 3)]"
      ]
     },
     "execution_count": 52,
     "metadata": {},
     "output_type": "execute_result"
    }
   ],
   "source": [
    "sma.nonzero()"
   ]
  },
  {
   "cell_type": "markdown",
   "metadata": {},
   "source": [
    "## Sparse isclose\n",
    "\n",
    "Be careful to write generic code, and **avoid iterating all possible i,j couples** - you should only look into nonzero ones."
   ]
  },
  {
   "cell_type": "code",
   "execution_count": 53,
   "metadata": {},
   "outputs": [
    {
     "name": "stdout",
     "output_type": "stream",
     "text": [
      "SparseMatrix {\n",
      "    (24, 11): 5,\n",
      "    (26, 17): 3\n",
      "}\n",
      "shape: (30, 20)\n"
     ]
    }
   ],
   "source": [
    "print(sma)"
   ]
  },
  {
   "cell_type": "code",
   "execution_count": 54,
   "metadata": {},
   "outputs": [
    {
     "data": {
      "text/plain": [
       "True"
      ]
     },
     "execution_count": 54,
     "metadata": {},
     "output_type": "execute_result"
    }
   ],
   "source": [
    "sma.isclose(SparseMatrix(30,20, [(24, 11, 4.9), (26, 17, 3.1)]), 0.2)"
   ]
  },
  {
   "cell_type": "code",
   "execution_count": 55,
   "metadata": {},
   "outputs": [
    {
     "data": {
      "text/plain": [
       "False"
      ]
     },
     "execution_count": 55,
     "metadata": {},
     "output_type": "execute_result"
    }
   ],
   "source": [
    "sma.isclose(SparseMatrix(30,20, [(24, 11, 4.9), (26, 17, 3.1)]), 0.05)"
   ]
  },
  {
   "cell_type": "code",
   "execution_count": 56,
   "metadata": {},
   "outputs": [
    {
     "data": {
      "text/plain": [
       "False"
      ]
     },
     "execution_count": 56,
     "metadata": {},
     "output_type": "execute_result"
    }
   ],
   "source": [
    "sma.isclose(SparseMatrix(30,20, [(24, 11, 4.9), (26, 17, 3.1), (13,18,0.5)]), 0.2)"
   ]
  },
  {
   "cell_type": "code",
   "execution_count": 57,
   "metadata": {},
   "outputs": [
    {
     "data": {
      "text/plain": [
       "True"
      ]
     },
     "execution_count": 57,
     "metadata": {},
     "output_type": "execute_result"
    }
   ],
   "source": [
    "sma.isclose(SparseMatrix(30,20, [(24, 11, 4.9), (26, 17, 3.1), (13,18,0.1)]), 0.2)"
   ]
  },
  {
   "cell_type": "code",
   "execution_count": 58,
   "metadata": {},
   "outputs": [
    {
     "data": {
      "text/plain": [
       "True"
      ]
     },
     "execution_count": 58,
     "metadata": {},
     "output_type": "execute_result"
    }
   ],
   "source": [
    "sma.isclose(SparseMatrix(30,20, [(24, 11, 4.9), (26, 17, 3.1), (13,18,-0.1)]), 0.2)"
   ]
  },
  {
   "cell_type": "markdown",
   "metadata": {},
   "source": [
    "The interesting part comes when we try `isclose` with _another_ class, like `DenseMatrix`. If you wrote general enough code, only assuming `other` is a generic `Matrix` the following should work without particular effort:"
   ]
  },
  {
   "cell_type": "code",
   "execution_count": 59,
   "metadata": {},
   "outputs": [],
   "source": [
    "smp = SparseMatrix([[1,    0,   3],\n",
    "                    [4,    5,   0]])\n",
    "dmp = DenseMatrix( [[1.1,  0.1, 2.9],\n",
    "                    [4.05, 4.9, -0.05]])"
   ]
  },
  {
   "cell_type": "code",
   "execution_count": 60,
   "metadata": {},
   "outputs": [
    {
     "data": {
      "text/plain": [
       "True"
      ]
     },
     "execution_count": 60,
     "metadata": {},
     "output_type": "execute_result"
    }
   ],
   "source": [
    "smp.isclose(dmp, 0.2)"
   ]
  },
  {
   "cell_type": "code",
   "execution_count": 61,
   "metadata": {},
   "outputs": [
    {
     "data": {
      "text/plain": [
       "False"
      ]
     },
     "execution_count": 61,
     "metadata": {},
     "output_type": "execute_result"
    }
   ],
   "source": [
    "smp.isclose(dmp, 0.05)"
   ]
  },
  {
   "cell_type": "code",
   "execution_count": 62,
   "metadata": {},
   "outputs": [
    {
     "data": {
      "text/plain": [
       "True"
      ]
     },
     "execution_count": 62,
     "metadata": {},
     "output_type": "execute_result"
    }
   ],
   "source": [
    "dmp.isclose(smp, 0.2)"
   ]
  },
  {
   "cell_type": "code",
   "execution_count": 63,
   "metadata": {},
   "outputs": [
    {
     "data": {
      "text/plain": [
       "False"
      ]
     },
     "execution_count": 63,
     "metadata": {},
     "output_type": "execute_result"
    }
   ],
   "source": [
    "dmp.isclose(smp, 0.05)"
   ]
  },
  {
   "cell_type": "markdown",
   "metadata": {},
   "source": [
    "## Sparse equality\n",
    "\n",
    "Be careful to write generic code, and **avoid iterating all possible i,j couples** - you should only look into nonzero ones."
   ]
  },
  {
   "cell_type": "code",
   "execution_count": 64,
   "metadata": {},
   "outputs": [
    {
     "data": {
      "text/plain": [
       "SparseMatrix(30,20, [(24, 11, 5), (26, 17, 3)])"
      ]
     },
     "execution_count": 64,
     "metadata": {},
     "output_type": "execute_result"
    }
   ],
   "source": [
    "sma"
   ]
  },
  {
   "cell_type": "code",
   "execution_count": 65,
   "metadata": {},
   "outputs": [],
   "source": [
    "smb = SparseMatrix(30,20, [(24, 11, 5), (26, 17, 3)])"
   ]
  },
  {
   "cell_type": "code",
   "execution_count": 66,
   "metadata": {},
   "outputs": [
    {
     "data": {
      "text/plain": [
       "True"
      ]
     },
     "execution_count": 66,
     "metadata": {},
     "output_type": "execute_result"
    }
   ],
   "source": [
    "sma == sma"
   ]
  },
  {
   "cell_type": "code",
   "execution_count": 67,
   "metadata": {},
   "outputs": [
    {
     "data": {
      "text/plain": [
       "True"
      ]
     },
     "execution_count": 67,
     "metadata": {},
     "output_type": "execute_result"
    }
   ],
   "source": [
    "sma == smb"
   ]
  },
  {
   "cell_type": "code",
   "execution_count": 68,
   "metadata": {},
   "outputs": [
    {
     "data": {
      "text/plain": [
       "False"
      ]
     },
     "execution_count": 68,
     "metadata": {},
     "output_type": "execute_result"
    }
   ],
   "source": [
    "sma == SparseMatrix(30,20, [(24, 11, 5), (26, 17, 123)])"
   ]
  },
  {
   "cell_type": "code",
   "execution_count": 69,
   "metadata": {},
   "outputs": [
    {
     "data": {
      "text/plain": [
       "False"
      ]
     },
     "execution_count": 69,
     "metadata": {},
     "output_type": "execute_result"
    }
   ],
   "source": [
    "sma == SparseMatrix(30,20, [(24, 11, 5), (26, 17, 3), (5,10,6)])"
   ]
  },
  {
   "cell_type": "markdown",
   "metadata": {},
   "source": [
    "Equality among different types should always be `False`, even if they descend from the same ancestor:"
   ]
  },
  {
   "cell_type": "code",
   "execution_count": 70,
   "metadata": {},
   "outputs": [
    {
     "data": {
      "text/plain": [
       "False"
      ]
     },
     "execution_count": 70,
     "metadata": {},
     "output_type": "execute_result"
    }
   ],
   "source": [
    "SparseMatrix([[1,2],[3,4]]) == DenseMatrix([[1,2],[3,4]]) "
   ]
  },
  {
   "cell_type": "code",
   "execution_count": 71,
   "metadata": {},
   "outputs": [
    {
     "data": {
      "text/plain": [
       "False"
      ]
     },
     "execution_count": 71,
     "metadata": {},
     "output_type": "execute_result"
    }
   ],
   "source": [
    "DenseMatrix([[1,2],[3,4]]) == SparseMatrix([[1,2],[3,4]])"
   ]
  },
  {
   "cell_type": "markdown",
   "metadata": {},
   "source": [
    "## Sparse sum\n",
    "\n",
    "Be careful to write generic code, and **avoid iterating all possible i,j couples** - you should only look into nonzero ones.\n"
   ]
  },
  {
   "cell_type": "code",
   "execution_count": 72,
   "metadata": {},
   "outputs": [],
   "source": [
    "smq = SparseMatrix([[1,2,0],\n",
    "                    [4,0,6]])\n",
    "dmq = DenseMatrix([[0,8,0], \n",
    "                   [0,7,3]])"
   ]
  },
  {
   "cell_type": "code",
   "execution_count": 73,
   "metadata": {},
   "outputs": [
    {
     "name": "stdout",
     "output_type": "stream",
     "text": [
      "SparseMatrix {\n",
      "    (0, 1): 4,\n",
      "    (1, 2): 12,\n",
      "    (1, 0): 8,\n",
      "    (0, 0): 2\n",
      "}\n",
      "shape: (2, 3)\n"
     ]
    }
   ],
   "source": [
    "print(smq + smq)"
   ]
  },
  {
   "cell_type": "markdown",
   "metadata": {},
   "source": [
    "Again the interesting bit is when you try summing among different classes:"
   ]
  },
  {
   "cell_type": "code",
   "execution_count": 74,
   "metadata": {},
   "outputs": [
    {
     "name": "stdout",
     "output_type": "stream",
     "text": [
      "SparseMatrix {\n",
      "    (0, 1): 10,\n",
      "    (1, 2): 9,\n",
      "    (1, 0): 4,\n",
      "    (0, 0): 1,\n",
      "    (1, 1): 7\n",
      "}\n",
      "shape: (2, 3)\n"
     ]
    }
   ],
   "source": [
    "print(smq + dmq)"
   ]
  },
  {
   "cell_type": "code",
   "execution_count": 75,
   "metadata": {},
   "outputs": [
    {
     "name": "stdout",
     "output_type": "stream",
     "text": [
      "DenseMatrix [ [1, 10, 0.0]\n",
      "              [4, 7.0, 9] ]\n"
     ]
    }
   ],
   "source": [
    "print(dmq + smq)"
   ]
  },
  {
   "cell_type": "markdown",
   "metadata": {},
   "source": [
    "## Sparse multiplication\n",
    "\n",
    "As always, be careful writing general code, and avoid iterating all possible i,j couples - you should only look into nonzero ones."
   ]
  },
  {
   "cell_type": "markdown",
   "metadata": {},
   "source": [
    "### Sparse matrix vector multiplication"
   ]
  },
  {
   "cell_type": "code",
   "execution_count": 76,
   "metadata": {},
   "outputs": [
    {
     "name": "stdout",
     "output_type": "stream",
     "text": [
      "SparseMatrix {\n",
      "    (1, 0): 4.0,\n",
      "    (0, 0): 10\n",
      "}\n",
      "shape: (2, 1)\n"
     ]
    }
   ],
   "source": [
    "smq = SparseMatrix([[1,0,3],\n",
    "                    [4,5,0]])\n",
    "\n",
    "smvecq = SparseMatrix([[1],\n",
    "                       [0],\n",
    "                       [3]])\n",
    "print(smq * smvecq)"
   ]
  },
  {
   "cell_type": "markdown",
   "metadata": {},
   "source": [
    "Let's try mixing types:"
   ]
  },
  {
   "cell_type": "code",
   "execution_count": 77,
   "metadata": {},
   "outputs": [
    {
     "name": "stdout",
     "output_type": "stream",
     "text": [
      "SparseMatrix {\n",
      "    (1, 0): 4,\n",
      "    (0, 0): 10\n",
      "}\n",
      "shape: (2, 1)\n"
     ]
    }
   ],
   "source": [
    "dmq = DenseMatrix([[1,0,3],\n",
    "                   [4,5,0]])\n",
    "\n",
    "dmvecq = DenseMatrix([[1],\n",
    "                      [0],\n",
    "                      [3]])\n",
    "print(smq * dmvecq) "
   ]
  },
  {
   "cell_type": "code",
   "execution_count": 78,
   "metadata": {},
   "outputs": [
    {
     "name": "stdout",
     "output_type": "stream",
     "text": [
      "DenseMatrix [ [10.0]\n",
      "              [4.0] ]\n"
     ]
    }
   ],
   "source": [
    "print(dmq * smvecq)"
   ]
  },
  {
   "cell_type": "markdown",
   "metadata": {},
   "source": [
    "### Sparse vector matrix multiplication"
   ]
  },
  {
   "cell_type": "code",
   "execution_count": 79,
   "metadata": {},
   "outputs": [
    {
     "name": "stdout",
     "output_type": "stream",
     "text": [
      "SparseMatrix {\n",
      "    (0, 1): 6,\n",
      "    (0, 3): 10,\n",
      "    (0, 2): 8.0\n",
      "}\n",
      "shape: (1, 4)\n"
     ]
    }
   ],
   "source": [
    "smvecr = SparseMatrix([[1,2,0]])\n",
    "\n",
    "smr = SparseMatrix([ [0, 6, 8, 0],\n",
    "                     [0, 0, 0, 5],\n",
    "                     [9, 0, 7, 0] ])\n",
    "\n",
    "print(smvecr * smr)"
   ]
  },
  {
   "cell_type": "markdown",
   "metadata": {},
   "source": [
    "Let's mix types:"
   ]
  },
  {
   "cell_type": "code",
   "execution_count": 80,
   "metadata": {},
   "outputs": [
    {
     "name": "stdout",
     "output_type": "stream",
     "text": [
      "SparseMatrix {\n",
      "    (0, 1): 6,\n",
      "    (0, 3): 10,\n",
      "    (0, 2): 8.0\n",
      "}\n",
      "shape: (1, 4)\n"
     ]
    }
   ],
   "source": [
    "dmvecr = DenseMatrix([[1,2,0]])\n",
    "\n",
    "dmr = DenseMatrix([ [0, 6, 8, 0],\n",
    "                    [0, 0, 0, 5],\n",
    "                    [9, 0, 7, 0] ])\n",
    "\n",
    "print(smvecr * dmr)"
   ]
  },
  {
   "cell_type": "code",
   "execution_count": 81,
   "metadata": {},
   "outputs": [
    {
     "name": "stdout",
     "output_type": "stream",
     "text": [
      "DenseMatrix [ [0, 6, 8, 10] ]\n"
     ]
    }
   ],
   "source": [
    "print(dmvecr * smr)"
   ]
  },
  {
   "cell_type": "code",
   "execution_count": 83,
   "metadata": {
    "nbsphinx": "hidden"
   },
   "outputs": [
    {
     "name": "stderr",
     "output_type": "stream",
     "text": [
      ".............\n",
      "----------------------------------------------------------------------\n",
      "Ran 13 tests in 0.010s\n",
      "\n",
      "OK\n"
     ]
    }
   ],
   "source": [
    "#jupman-purge\n",
    "import sys; sys.path.append('../'); import jupman\n",
    "import matrix_chal_test\n",
    "jupman.run(matrix_chal_test)\n",
    "#/jupman-purge"
   ]
  },
  {
   "cell_type": "code",
   "execution_count": null,
   "metadata": {},
   "outputs": [],
   "source": []
  }
 ],
 "metadata": {
  "celltoolbar": "Edit Metadata",
  "kernelspec": {
   "display_name": "Python 3",
   "language": "python",
   "name": "python3"
  },
  "language_info": {
   "codemirror_mode": {
    "name": "ipython",
    "version": 3
   },
   "file_extension": ".py",
   "mimetype": "text/x-python",
   "name": "python",
   "nbconvert_exporter": "python",
   "pygments_lexer": "ipython3",
   "version": "3.5.2"
  },
  "toc": {
   "base_numbering": 1,
   "nav_menu": {},
   "number_sections": false,
   "sideBar": true,
   "skip_h1_title": false,
   "title_cell": "Table of Contents",
   "title_sidebar": "Contents",
   "toc_cell": false,
   "toc_position": {},
   "toc_section_display": true,
   "toc_window_display": true
  }
 },
 "nbformat": 4,
 "nbformat_minor": 4
}
