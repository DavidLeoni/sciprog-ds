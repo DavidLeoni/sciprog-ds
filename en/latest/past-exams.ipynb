{
 "cells": [
  {
   "cell_type": "markdown",
   "metadata": {},
   "source": [
    "# Past Exams\n",
    "\n",
    "\n",
    "\n",
    "## Data science\n",
    "\n",
    "**NOTE**: 19-20 exams are very similar to 18-19,  the only difference being that **you might also get an exercise on Pandas.**"
   ]
  },
  {
   "cell_type": "raw",
   "metadata": {
    "raw_mimetype": "text/restructuredtext"
   },
   "source": [
    ".. toctree::\n",
    "    :maxdepth: 2\n",
    "    :glob:\n",
    "    :reversed:\n",
    "\n",
    "    exams/**/exam-*"
   ]
  },
  {
   "cell_type": "markdown",
   "metadata": {},
   "source": [
    "## 2017-18 (QCB)\n",
    "\n",
    "See QCB master past exams on [sciprolab2 Github](https://github.com/DavidLeoni/sciprolab2/tree/master/overlay/_static)\n",
    "\n",
    "**NOTE**: Those exams are useful, but for you there will be:\n",
    "\n",
    "- no biological examples\n",
    "- less dynamic programming\n",
    "- more exercises on graphs & matrices\n",
    "- exercise on pandas\n",
    "- custom DiGraph won't have Visit and VertexLog classes\n",
    "\n",
    "##  2016-17 (QCB)\n",
    "\n",
    "See [davidleoni.github.io/algolab/past-exams.html](https://davidleoni.github.io/algolab/past-exams.html)\n",
    "<div class=\"alert alert-warning\">\n",
    "\n",
    "**WARNING:**  keep in mind that 2016-17 exams are for Python 2 - in this course we use Python 3 <br/>\n",
    "\n",
    "</div>\n"
   ]
  },
  {
   "cell_type": "code",
   "execution_count": null,
   "metadata": {},
   "outputs": [],
   "source": []
  }
 ],
 "metadata": {
  "celltoolbar": "Raw Cell Format",
  "kernelspec": {
   "display_name": "Python 3 (ipykernel)",
   "language": "python",
   "name": "python3"
  },
  "language_info": {
   "codemirror_mode": {
    "name": "ipython",
    "version": 3
   },
   "file_extension": ".py",
   "mimetype": "text/x-python",
   "name": "python",
   "nbconvert_exporter": "python",
   "pygments_lexer": "ipython3",
   "version": "3.7.10"
  },
  "toc": {
   "base_numbering": 1,
   "nav_menu": {},
   "number_sections": false,
   "sideBar": true,
   "skip_h1_title": false,
   "title_cell": "Table of Contents",
   "title_sidebar": "Contents",
   "toc_cell": false,
   "toc_position": {},
   "toc_section_display": true,
   "toc_window_display": false
  }
 },
 "nbformat": 4,
 "nbformat_minor": 2
}
