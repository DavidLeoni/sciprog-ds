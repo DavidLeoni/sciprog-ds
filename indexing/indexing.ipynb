{
 "cells": [
  {
   "cell_type": "code",
   "execution_count": 35,
   "id": "e6160505",
   "metadata": {},
   "outputs": [],
   "source": []
  },
  {
   "cell_type": "code",
   "execution_count": 1,
   "id": "f6ea318f",
   "metadata": {
    "nbsphinx": "hidden"
   },
   "outputs": [],
   "source": [],
   "transient": {
    "remove_source": true
   }
  },
  {
   "cell_type": "markdown",
   "id": "9e86296e",
   "metadata": {},
   "source": [
    "# Indexing\n",
    "\n",
    "## [Download exercises zip](../_static/generated/indexing.zip)\n",
    "\n",
    "[Browse files online](https://github.com/DavidLeoni/sciprog-ds/tree/master/indexing)\n",
    "\n",
    "In this worksheet we will try to apply some indexing technique to improve our algorithms performance. Typically, if you want to avoid scanning an entire sequence repeatedly, a good idea might be to first preprocess it by indexing its contents in a dictionary which maps subsequence of elements to their positions.\n",
    "\n",
    "\n",
    "<div class=\"alert alert-warning\">\n",
    "    \n",
    "**THESE EXERCISES ARE ABOUT CUSTOM INDEXING, NOT STRINGS!**\n",
    "\n",
    "* **DO NOT** convert everything to a string, use regexes, nor use string methods like `.index()`, `.replace()`, etc\n",
    "</div>"
   ]
  },
  {
   "cell_type": "markdown",
   "id": "2969093d",
   "metadata": {},
   "source": [
    "\n",
    "\n",
    "## 1. Exercise - chains\n",
    "\n",
    "You will be doing exercises about chainable lists, using plain old Python lists: we just want to detect duplicates and chain sequences fast.\n",
    "\n",
    "Start editing the file `chains.py` and read the following.\n",
    "\n",
    "\n",
    "### 1.1  has_duplicates\n",
    "\n",
    "\n",
    "Implement this function:"
   ]
  },
  {
   "cell_type": "code",
   "execution_count": 2,
   "id": "30b70911",
   "metadata": {},
   "outputs": [
    {
     "name": "stdout",
     "output_type": "stream",
     "text": [
      "def has_duplicates(external_list):\n",
      "    \"\"\" Returns True if internal lists inside external_list contain duplicates, \n",
      "        False otherwise. See tests for more examples.\n",
      "        \n",
      "        INPUT: a list of list of strings, possibily containing repetitions, like:\n",
      "        \n",
      "            [\n",
      "                ['ab', 'c', 'de'],\n",
      "                ['v', 'a'],\n",
      "                ['c', 'de', 'b']\n",
      "            ]\n",
      "        \n",
      "        OUTPUT: Boolean  (in the example above it would be True)\n",
      "    \"\"\"\n"
     ]
    }
   ],
   "source": [],
   "transient": {
    "remove_source": true
   }
  },
  {
   "cell_type": "markdown",
   "id": "eb84a599",
   "metadata": {},
   "source": [
    "- **MUST RUN IN** $O(m*n)$, where $m$ is the number of internal lists and $n$ is \n",
    "  the length of the longest internal list (just to calculate complexity think \n",
    "  about the scenario where all lists have equal size)\n",
    "- **HINT**: Given the above constraint, whenever you find an item, you cannot \n",
    "  start another for loop to check if the item exists elsewhere - that would\n",
    "  cost around $O(m^2*n)$. Instead, you need to keep track of found items with \n",
    "  some other data structure of your choice, which must allow fast read \n",
    "  and writes.\n",
    "  \n",
    "**Testing**: `python3 -m unittest chains_test.TestHasDuplicates`\n"
   ]
  },
  {
   "cell_type": "markdown",
   "id": "6ac02340",
   "metadata": {},
   "source": [
    "\n",
    "### 1.2  chain\n",
    "\n",
    "Implement this function:"
   ]
  },
  {
   "cell_type": "code",
   "execution_count": 3,
   "id": "db343fcf",
   "metadata": {},
   "outputs": [
    {
     "name": "stdout",
     "output_type": "stream",
     "text": [
      "def chain(external_list):\n",
      "    \"\"\" Takes a list of list of strings and return a list containing all the strings \n",
      "        from external_list in sequence, joined by the ending and starting strings\n",
      "        of the internal lists. See tests for more examples.\n",
      "        \n",
      "        INPUT: a list of list of strings , like:\n",
      "        \n",
      "                [\n",
      "                    ['ab', 'c', 'de'],\n",
      "                    ['gh', 'i'],\n",
      "                    ['de', 'f', 'gh']\n",
      "                ]\n",
      "                \n",
      "        OUTPUT: a list of strings, like   ['ab', 'c', 'de', 'f', 'gh', 'i']\n",
      "    \"\"\"\n"
     ]
    }
   ],
   "source": [],
   "transient": {
    "remove_source": true
   }
  },
  {
   "cell_type": "markdown",
   "id": "c4dc4cc5",
   "metadata": {},
   "source": [
    "It is assumed that\n",
    "\n",
    "- `external_list` always contains at least one internal list\n",
    "- internal lists always contain at least two strings\n",
    "- no string is duplicated among all internal lists  \n",
    "\n",
    "Output sequence is constructed as follows:\n",
    "\n",
    "- it starts will all the items from the first internal list\n",
    "- successive items are taken from an internal list which starts with \n",
    "  a string equal to the previous taken internal list last string\n",
    "- sequence must not contain repetitions (so joint strings are taken \n",
    "  only once). \n",
    "- _all_ internal lists must be used. If this is not possible (because \n",
    "  there are no joint strings), raise `ValueError`      "
   ]
  },
  {
   "cell_type": "markdown",
   "id": "8b7a9bee",
   "metadata": {},
   "source": [
    "Be careful that:\n",
    "\n",
    "- **MUST BE WRITTEN WITH STANDARD PYTHON FUNCTIONS** \n",
    "- **MUST RUN IN** $O(m * n)$, where $m$ is the number of internal lists and $n$ is \n",
    "  the length of the longest internal list (just to calculate complexity think about\n",
    "  the scenario where all lists have equal size)\n",
    "- **HINT**: Given the above constraint, whenever you find a string, you \n",
    "  cannot start another for loop to check if the string exists elsewhere\n",
    "  (that would likely introduce a quadratic $m^2$ factor)\n",
    "  Instead, you need to first keep track of both starting strings and the list\n",
    "  they are contained within using some other data structure of your choice,\n",
    "  which must allow fast read and writes.\n",
    "- if possible avoid slicing (which doubles memory usage) and use `itertools.islice` instead\n",
    "\n",
    "**Testing**: `python3 -m unittest chains_test.TestChain`\n"
   ]
  },
  {
   "cell_type": "markdown",
   "id": "23841c8f",
   "metadata": {},
   "source": [
    "## 2. Exercise - Bank\n",
    "\n",
    "A bank stores all its transactions in a log: possible types of transactions are opening an account, transfering some amount of money, withdrawal, etc. For simplicity, we represent each transaction type with a character, and in the log which is a Python list we put only such characters (we don't care about their meaning).\n",
    "\n",
    "The bank knows some sequences of events are extremely rare, and probably denote suspicious activity. For simplicitly, we assume such sequences only contain three transactions and represent them in tuples called _triseqs_. \n",
    "\n",
    "Note this was given at an exam, we changed biseqs to triseqs to make it more realistic.\n",
    "\n",
    "<div class=\"alert alert-warning\">\n",
    "\n",
    "**A triseq can occur multiple times, but you can consider the number of repetitions negligible with respect to bank log size.**\n",
    "</div>"
   ]
  },
  {
   "cell_type": "markdown",
   "id": "1c71da79",
   "metadata": {},
   "source": [
    "Start editing `bank.py` and read the following"
   ]
  },
  {
   "cell_type": "markdown",
   "id": "56e1bac0",
   "metadata": {},
   "source": [
    "### 2.1 bank constructor,  log and pos\n",
    " \n",
    "Implement following methods, adding some appropriate indexing data structure.\n",
    "\n",
    "<div class=\"alert alert-warning\">\n",
    "    \n",
    "**BEFORE IMPLEMENTING, DOUBLE CHECK COMPLEXITY REQUIREMENTS!**\n",
    "    \n",
    "The idea is that given _an entire triseq_ (not just the first character !), we want to find all of its (rare) occurrences _very fast_ in $O(1)$\n",
    "\n",
    "Since performance is important here, passing tests does _not_ imply your work is correct!\n",
    "    \n",
    "</div>"
   ]
  },
  {
   "cell_type": "markdown",
   "id": "6cf8d0ae",
   "metadata": {},
   "source": [
    "\n",
    " \n",
    "```python \n",
    "\n",
    "class Bank:\n",
    "\n",
    "    def __init__(self):\n",
    "        \"\"\" Initializes an empty bank\n",
    "        \n",
    "            Add a data structure of your choice for indexing the log\n",
    "        \"\"\"\n",
    "        self._trans = []\n",
    "        raise Exception(\"TODO IMPLEMENT ME!\")\n",
    "        \n",
    "    def log(self, transaction):\n",
    "        \"\"\" Appends transaction to the log\n",
    "        \n",
    "            - REMEMBER to also update the index\n",
    "            - MUST EXECUTE IN O(1)\n",
    "        \"\"\"\n",
    "```        \n",
    " \n",
    "```python\n",
    "    def pos(self, triseq):\n",
    "        \"\"\" RETURN a NEW list with all the indeces where the sequence of \n",
    "            three transactions can be found\n",
    "        \n",
    "            - MUST execute in O(1)\n",
    "        \"\"\"\n",
    "```\n",
    "\n",
    "**Testing**: `python3 -m unittest bank_test.LogTest`\n",
    "\n",
    "**Example**:"
   ]
  },
  {
   "cell_type": "code",
   "execution_count": 4,
   "id": "a5cecd76",
   "metadata": {},
   "outputs": [
    {
     "name": "stdout",
     "output_type": "stream",
     "text": [
      "Bank: \n"
     ]
    }
   ],
   "source": [
    "from bank_sol import *\n",
    "\n",
    "bank = Bank()\n",
    "print(bank)"
   ]
  },
  {
   "cell_type": "code",
   "execution_count": 5,
   "id": "c5d13896",
   "metadata": {},
   "outputs": [],
   "source": [
    "bank.log('a')"
   ]
  },
  {
   "cell_type": "code",
   "execution_count": 6,
   "id": "d127c3aa",
   "metadata": {},
   "outputs": [
    {
     "name": "stdout",
     "output_type": "stream",
     "text": [
      "Bank: a\n"
     ]
    }
   ],
   "source": [
    "print(bank)"
   ]
  },
  {
   "cell_type": "code",
   "execution_count": 7,
   "id": "ac706a6b",
   "metadata": {},
   "outputs": [
    {
     "name": "stdout",
     "output_type": "stream",
     "text": [
      "[]\n"
     ]
    }
   ],
   "source": [
    "print(bank.pos( ('a','b','a') ))  # <-- a triseq is a tuple"
   ]
  },
  {
   "cell_type": "code",
   "execution_count": 8,
   "id": "30080c52",
   "metadata": {},
   "outputs": [],
   "source": [
    "bank.log('b')"
   ]
  },
  {
   "cell_type": "code",
   "execution_count": 9,
   "id": "19bda961",
   "metadata": {},
   "outputs": [
    {
     "name": "stdout",
     "output_type": "stream",
     "text": [
      "[]\n"
     ]
    }
   ],
   "source": [
    "print(bank.pos( ('a','b','a') ))"
   ]
  },
  {
   "cell_type": "code",
   "execution_count": 10,
   "id": "7327ad92",
   "metadata": {},
   "outputs": [],
   "source": [
    "bank.log('a')"
   ]
  },
  {
   "cell_type": "code",
   "execution_count": 11,
   "id": "57fde7b3",
   "metadata": {},
   "outputs": [
    {
     "name": "stdout",
     "output_type": "stream",
     "text": [
      "[0]\n"
     ]
    }
   ],
   "source": [
    "print(bank.pos( ('a','b','a') ))"
   ]
  },
  {
   "cell_type": "code",
   "execution_count": 12,
   "id": "21b5886d",
   "metadata": {},
   "outputs": [
    {
     "name": "stdout",
     "output_type": "stream",
     "text": [
      "Bank: a,b,a,a,a,b,a,a,a,b,a\n"
     ]
    }
   ],
   "source": [
    "bank.log('a')\n",
    "bank.log('a')\n",
    "bank.log('b')\n",
    "bank.log('a')\n",
    "bank.log('a')\n",
    "bank.log('a')\n",
    "bank.log('b')\n",
    "bank.log('a')\n",
    "print(bank)"
   ]
  },
  {
   "cell_type": "code",
   "execution_count": 13,
   "id": "5dec5724",
   "metadata": {},
   "outputs": [
    {
     "name": "stdout",
     "output_type": "stream",
     "text": [
      "[0, 4, 8]\n"
     ]
    }
   ],
   "source": [
    "print(bank.pos(('a','b','a')))"
   ]
  },
  {
   "cell_type": "code",
   "execution_count": 14,
   "id": "7086fd0c",
   "metadata": {},
   "outputs": [
    {
     "name": "stdout",
     "output_type": "stream",
     "text": [
      "[2, 6]\n"
     ]
    }
   ],
   "source": [
    "print(bank.pos(('a','a','a')))"
   ]
  },
  {
   "cell_type": "code",
   "execution_count": 15,
   "id": "3fb3d32e",
   "metadata": {},
   "outputs": [
    {
     "name": "stdout",
     "output_type": "stream",
     "text": [
      "[1, 5]\n"
     ]
    }
   ],
   "source": [
    "print(bank.pos(('b','a','a')))"
   ]
  },
  {
   "cell_type": "code",
   "execution_count": 16,
   "id": "1e993476",
   "metadata": {},
   "outputs": [
    {
     "name": "stdout",
     "output_type": "stream",
     "text": [
      "[]\n"
     ]
    }
   ],
   "source": [
    "print(bank.pos(('b','a','c')))"
   ]
  },
  {
   "cell_type": "markdown",
   "id": "6db97a5b",
   "metadata": {},
   "source": [
    "### 2.2 bank revert"
   ]
  },
  {
   "cell_type": "code",
   "execution_count": 17,
   "id": "0c16ec75",
   "metadata": {},
   "outputs": [
    {
     "name": "stdout",
     "output_type": "stream",
     "text": [
      "def revert(self):\n",
      "    \"\"\" Completely eliminates last transaction and RETURN it\n",
      "        \n",
      "        - if bank is empty, raises IndexError\n",
      "        \n",
      "        - REMEMBER to update any index referring to it\n",
      "        - *MUST* EXECUTE IN O(1)\n",
      "    \"\"\"\n"
     ]
    }
   ],
   "source": [],
   "transient": {
    "remove_source": true
   }
  },
  {
   "cell_type": "markdown",
   "id": "dff86ea3",
   "metadata": {},
   "source": [
    "**Testing**: `python3 -m unittest RevertTest`\n",
    "\n",
    "**Example:**"
   ]
  },
  {
   "cell_type": "code",
   "execution_count": 18,
   "id": "76542932",
   "metadata": {},
   "outputs": [
    {
     "name": "stdout",
     "output_type": "stream",
     "text": [
      "Bank: a,b,a,a,a,b,a,a\n"
     ]
    }
   ],
   "source": [
    "bank = Bank()\n",
    "bank.log('a')\n",
    "bank.log('b')\n",
    "bank.log('a')\n",
    "bank.log('a')\n",
    "bank.log('a')\n",
    "bank.log('b')\n",
    "bank.log('a')\n",
    "bank.log('a')\n",
    "print(bank)"
   ]
  },
  {
   "cell_type": "code",
   "execution_count": 19,
   "id": "b699e9a6",
   "metadata": {},
   "outputs": [
    {
     "name": "stdout",
     "output_type": "stream",
     "text": [
      "[1, 5]\n"
     ]
    }
   ],
   "source": [
    "print(bank.pos(('b','a','a')))"
   ]
  },
  {
   "cell_type": "code",
   "execution_count": 20,
   "id": "58715626",
   "metadata": {},
   "outputs": [
    {
     "data": {
      "text/plain": [
       "'a'"
      ]
     },
     "execution_count": 20,
     "metadata": {},
     "output_type": "execute_result"
    }
   ],
   "source": [
    "bank.revert()"
   ]
  },
  {
   "cell_type": "code",
   "execution_count": 21,
   "id": "7d64c806",
   "metadata": {},
   "outputs": [
    {
     "name": "stdout",
     "output_type": "stream",
     "text": [
      "Bank: a,b,a,a,a,b,a\n"
     ]
    }
   ],
   "source": [
    "print(bank)"
   ]
  },
  {
   "cell_type": "code",
   "execution_count": 22,
   "id": "056e8ef6",
   "metadata": {},
   "outputs": [
    {
     "name": "stdout",
     "output_type": "stream",
     "text": [
      "[1]\n"
     ]
    }
   ],
   "source": [
    "print(bank.pos(('b','a','a')))"
   ]
  },
  {
   "cell_type": "code",
   "execution_count": 23,
   "id": "d490e8d9",
   "metadata": {},
   "outputs": [
    {
     "data": {
      "text/plain": [
       "'a'"
      ]
     },
     "execution_count": 23,
     "metadata": {},
     "output_type": "execute_result"
    }
   ],
   "source": [
    "bank.revert()"
   ]
  },
  {
   "cell_type": "code",
   "execution_count": 24,
   "id": "db1e3873",
   "metadata": {},
   "outputs": [
    {
     "name": "stdout",
     "output_type": "stream",
     "text": [
      "Bank: a,b,a,a,a,b\n"
     ]
    }
   ],
   "source": [
    "print(bank)"
   ]
  },
  {
   "cell_type": "code",
   "execution_count": 25,
   "id": "f1cd7162",
   "metadata": {},
   "outputs": [
    {
     "name": "stdout",
     "output_type": "stream",
     "text": [
      "[1]\n"
     ]
    }
   ],
   "source": [
    "print(bank.pos(('b','a','a')))"
   ]
  },
  {
   "cell_type": "code",
   "execution_count": 26,
   "id": "49821586",
   "metadata": {},
   "outputs": [
    {
     "data": {
      "text/plain": [
       "'b'"
      ]
     },
     "execution_count": 26,
     "metadata": {},
     "output_type": "execute_result"
    }
   ],
   "source": [
    "bank.revert()"
   ]
  },
  {
   "cell_type": "code",
   "execution_count": 27,
   "id": "58c7da52",
   "metadata": {},
   "outputs": [
    {
     "name": "stdout",
     "output_type": "stream",
     "text": [
      "Bank: a,b,a,a,a\n"
     ]
    }
   ],
   "source": [
    "print(bank)"
   ]
  },
  {
   "cell_type": "code",
   "execution_count": 28,
   "id": "5908efa3",
   "metadata": {},
   "outputs": [
    {
     "name": "stdout",
     "output_type": "stream",
     "text": [
      "[1]\n"
     ]
    }
   ],
   "source": [
    "print(bank.pos(('b','a','a')))"
   ]
  },
  {
   "cell_type": "code",
   "execution_count": 29,
   "id": "ba31c3dd",
   "metadata": {},
   "outputs": [
    {
     "data": {
      "text/plain": [
       "'a'"
      ]
     },
     "execution_count": 29,
     "metadata": {},
     "output_type": "execute_result"
    }
   ],
   "source": [
    "bank.revert()"
   ]
  },
  {
   "cell_type": "code",
   "execution_count": 30,
   "id": "caf9abb2",
   "metadata": {},
   "outputs": [
    {
     "name": "stdout",
     "output_type": "stream",
     "text": [
      "Bank: a,b,a,a\n"
     ]
    }
   ],
   "source": [
    "print(bank)"
   ]
  },
  {
   "cell_type": "code",
   "execution_count": 31,
   "id": "96a829da",
   "metadata": {},
   "outputs": [
    {
     "name": "stdout",
     "output_type": "stream",
     "text": [
      "[1]\n"
     ]
    }
   ],
   "source": [
    "print(bank.pos(('b','a','a')))"
   ]
  },
  {
   "cell_type": "markdown",
   "id": "dc49d94f",
   "metadata": {},
   "source": [
    "###  2.3 bank max_interval\n",
    "\n",
    "Typically, there is a triseq which triggers a period of suspicious activity, and there is another triseq which ends it. So given a start and an end triseq, the bank wants a report of all the transactions that happened in between:"
   ]
  },
  {
   "cell_type": "code",
   "execution_count": 32,
   "id": "ddd8f031",
   "metadata": {},
   "outputs": [
    {
     "name": "stdout",
     "output_type": "stream",
     "text": [
      "def max_interval(self, tri_start, tri_end):\n",
      "    \"\"\" RETURN a list with all the transactions occurred between \n",
      "        the *largest* interval among tri-sequences tri_start and tri_end\n",
      "        \n",
      "        - tri_start and tri_end are EXCLUDED \n",
      "        - if tri_start / tri_end are not found, or if tri_end is before/includes tri_start, \n",
      "          raise LookupError\n",
      "        \n",
      "        \n",
      "        - DO *NOT* MODIFY the data structure\n",
      "        - MUST EXECUTE IN O(k) where k is the length of the *largest* interval you can return\n",
      "        - consider number of repetitions a negligible size\n",
      "    \"\"\"\n"
     ]
    }
   ],
   "source": [],
   "transient": {
    "remove_source": true
   }
  },
  {
   "cell_type": "markdown",
   "id": "577ed5b4",
   "metadata": {},
   "source": [
    "**Testing**: `python -m unittest bank_test.MaxIntervalTest`\n",
    "\n",
    "**Example**: "
   ]
  },
  {
   "cell_type": "code",
   "execution_count": 33,
   "id": "7cd6b852",
   "metadata": {},
   "outputs": [
    {
     "data": {
      "text/plain": [
       "['f', 'a', 'f', 'b', 'c', 'b']"
      ]
     },
     "execution_count": 33,
     "metadata": {},
     "output_type": "execute_result"
    }
   ],
   "source": [
    "bank = Bank()\n",
    "bank.log('c')\n",
    "bank.log('d')\n",
    "bank.log('c')\n",
    "bank.log('a') #      a\n",
    "bank.log('b') # <--- b \n",
    "bank.log('e') #      e\n",
    "bank.log('f') #      --- f     |\n",
    "bank.log('a') #          a     |\n",
    "bank.log('f') #          f     | k\n",
    "bank.log('b') #          b     |\n",
    "bank.log('c') #          c     |\n",
    "bank.log('b') #      --- b     |\n",
    "bank.log('a') # <--- a \n",
    "bank.log('f') #      f\n",
    "bank.log('b') #      b\n",
    "bank.log('e')\n",
    "bank.log('a')\n",
    "bank.log('b')\n",
    "bank.log('e')\n",
    "bank.log('l')\n",
    "bank.max_interval( ('a','b','e'), ('a','f','b') )"
   ]
  },
  {
   "cell_type": "code",
   "execution_count": 34,
   "id": "5e1afe91",
   "metadata": {
    "nbsphinx": "hidden"
   },
   "outputs": [],
   "source": [],
   "transient": {
    "remove_source": true
   }
  },
  {
   "cell_type": "code",
   "execution_count": null,
   "id": "6cd1614c",
   "metadata": {},
   "outputs": [],
   "source": []
  },
  {
   "cell_type": "code",
   "execution_count": null,
   "id": "de44fa5b",
   "metadata": {},
   "outputs": [],
   "source": []
  }
 ],
 "metadata": {
  "celltoolbar": "Edit Metadata",
  "kernelspec": {
   "display_name": "Python 3 (ipykernel)",
   "language": "python",
   "name": "python3"
  },
  "language_info": {
   "codemirror_mode": {
    "name": "ipython",
    "version": 3
   },
   "file_extension": ".py",
   "mimetype": "text/x-python",
   "name": "python",
   "nbconvert_exporter": "python",
   "pygments_lexer": "ipython3",
   "version": "3.7.10"
  },
  "toc": {
   "base_numbering": 1,
   "nav_menu": {},
   "number_sections": false,
   "sideBar": true,
   "skip_h1_title": false,
   "title_cell": "Table of Contents",
   "title_sidebar": "Contents",
   "toc_cell": false,
   "toc_position": {},
   "toc_section_display": true,
   "toc_window_display": true
  }
 },
 "nbformat": 4,
 "nbformat_minor": 5
}
