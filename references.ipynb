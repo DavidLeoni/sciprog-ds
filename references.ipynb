{
 "cells": [
  {
   "cell_type": "markdown",
   "metadata": {},
   "source": [
    "# Part B References"
   ]
  },
  {
   "cell_type": "markdown",
   "metadata": {},
   "source": [
    "* [Part B theory slides](https://sciproalgo2020.readthedocs.io/en/latest/) by Luca Bianco\n",
    "\n",
    "* [Problem Solving with Algorithms and Data Structures using Python](https://runestone.academy/runestone/static/pythonds/index.html) online book by Brad Miller and David Ranum\n",
    "\n",
    "* [Theory exercises (complexity, tree visits, graph visits) - by Alberto Montresor](https://drive.google.com/drive/folders/1RwjiSvIq60Z9mj_gCd5K2E6Bj9y1R0CL)\n"
   ]
  },
  {
   "cell_type": "markdown",
   "metadata": {},
   "source": [
    "## LeetCode for Part B\n",
    "\n",
    "In general: https://leetcode.com/problemset/all/ (sort by easy difficulty)\n",
    "\n",
    "### LeetCode LinkedLists\n",
    "\n",
    "* [Merge Two Sorted Lists](https://leetcode.com/problems/merge-two-sorted-lists/)\n",
    "* [Remove Duplicates from Sorted List](https://leetcode.com/problems/remove-duplicates-from-sorted-list/)\n",
    "* [Intersection of Two Linked Lists](https://leetcode.com/problems/intersection-of-two-linked-lists/)\n",
    "* [Linked List Cycle](https://leetcode.com/problems/linked-list-cycle/) NOTE: a solution which occupies $O(n)$ memory is easy - the follow up question requires $O(1)$ memory, for that you will probably need to look at the solution\n",
    "* [Palindrome Linked List](https://leetcode.com/problems/palindrome-linked-list/)\n",
    "* [Merge In Between Linked Lists](https://leetcode.com/problems/merge-in-between-linked-lists/)\n",
    "* [Odd Even Linked List](https://leetcode.com/problems/odd-even-linked-list/)\n",
    "* [Split Linked List in Parts](https://leetcode.com/problems/split-linked-list-in-parts/)\n",
    "* [Partition List](https://leetcode.com/problems/partition-list/)\n",
    "* [Reverse Linked List II](https://leetcode.com/problems/reverse-linked-list-ii/)\n",
    "* [Remove Duplicates from Sorted List II](https://leetcode.com/problems/remove-duplicates-from-sorted-list-ii/)\n",
    "* [Copy List with Random Pointer](https://leetcode.com/problems/copy-list-with-random-pointer/)\n",
    "\n",
    "\n",
    "### LeetCode Queues\n",
    "\n",
    "* [Number of Recent Calls](https://leetcode.com/problems/number-of-recent-calls/) notice you **only** need to return number of calls occurred during last 3000 ms, so please try avoiding storing all previous calls history\n",
    "* [Design Front Middle Back Queue](https://leetcode.com/problems/design-front-middle-back-queue/)\n"
   ]
  },
  {
   "cell_type": "markdown",
   "metadata": {},
   "source": [
    "### LeetCode Trees\n",
    "\n",
    "**NOTE 1**: on LeetCode `root` usually can also be `None`\n",
    "\n",
    "**NOTE 2**: on LeetCode `self` is reserved for the test runner, ignore it\n",
    "\n",
    "**NOTE 3**: if you try the algorithms on your computer, you will want to add these `__str__` and `__repr__` methods to `TreeNode`:\n",
    "\n",
    "```python\n",
    "class TreeNode:\n",
    "    def __init__(self, val=0, left=None, right=None):\n",
    "        self.val = val\n",
    "        self.left = left\n",
    "        self.right = right\n",
    "\n",
    "    def __str__(self):\n",
    "\n",
    "        \"\"\" Returns a pretty string of the tree \"\"\"\n",
    "        def str_branches(node, branches):\n",
    "            \"\"\" Returns a string with the tree pretty printed. \n",
    "\n",
    "                branches: a list of characters representing the parent branches. Characters can be either ` ` or '│'            \n",
    "            \"\"\"\n",
    "            strings = [str(node.val)]\n",
    "\n",
    "            i = 0           \n",
    "            if node.left != None or node.right != None:\n",
    "                for current in [node.left, node.right]:\n",
    "                    if i == 0:            \n",
    "                        joint = '├'\n",
    "                    else:\n",
    "                        joint = '└' \n",
    "\n",
    "                    strings.append('\\n')\n",
    "                    for b in branches:\n",
    "                        strings.append(b)\n",
    "                    strings.append(joint)\n",
    "                    if i == 0:\n",
    "                        branches.append('│')                    \n",
    "                    else:\n",
    "                        branches.append(' ')\n",
    "\n",
    "                    if current != None:                \n",
    "                        strings.append(str_branches(current, branches))\n",
    "                    branches.pop()                \n",
    "                    i += 1\n",
    "            return \"\".join(strings)\n",
    "        \n",
    "        return str_branches(self, [])\n",
    "\n",
    "    def __repr__(self):\n",
    "        return self.__str__()\n",
    "```\n"
   ]
  },
  {
   "cell_type": "markdown",
   "metadata": {},
   "source": [
    "\n",
    "**NOTE 4**: testcases are expressed as a list, which doesn't tell much how the tree is structured. To see a visualization of the tree, when you get an error you can copy paste the 'Input' testcase into this tab and turn on the _Tree Visualizer_ selector:\n",
    "\n",
    "![](_static/img/references/leetcode-tree.png)"
   ]
  },
  {
   "cell_type": "markdown",
   "metadata": {},
   "source": [
    "[Trees exercises](https://leetcode.com/tag/tree/) on LeetCode (sort by easy difficulty), for example: \n",
    "\n",
    "* [Merge Two Binary Trees](https://leetcode.com/problems/merge-two-binary-trees)\n",
    "* [Sum range of BST](https://leetcode.com/problems/range-sum-of-bst/)\n",
    "* [Invert Binary Tree](https://leetcode.com/problems/invert-binary-tree/)\n",
    "* [Minimum Depth of Binary Tree](https://leetcode.com/problems/minimum-depth-of-binary-tree/) \n",
    "* [Symmetric Tree](https://leetcode.com/problems/symmetric-tree/)\n",
    "* [Minimum Depth of Binary Tree](https://leetcode.com/problems/minimum-depth-of-binary-tree/) HINT: when you need to calculate a `min` of two numbers but one of them may be undefined, you can initialize them to `math.inf`\n",
    "* [Increasing Order Search Tree](https://leetcode.com/problems/increasing-order-search-tree/) \n",
    "* [Binary Tree Level Order Traversal](https://leetcode.com/problems/binary-tree-level-order-traversal) HINT: use a queue, for more info [see here](https://sciprog.davidleoni.it/trees/bin-trees.html#4.-Queue-visit)\n",
    "* [Average of Levels in Binary Tree](https://leetcode.com/problems/average-of-levels-in-binary-tree/) HINT: use a queue, for more info [see here](https://sciprog.davidleoni.it/trees/bin-trees.html#4.-Queue-visit)\n",
    "* [Cousins in Binary Tree](https://leetcode.com/problems/cousins-in-binary-tree/) NOTE: nodes have all **distinct** values, a queue visit might help\n",
    "* [Find Mode in Binary Search Tree](https://leetcode.com/problems/find-mode-in-binary-search-tree/) - you don't need to bother about the follow up question\n",
    "* [Path Sum](https://leetcode.com/problems/path-sum/)  **DO NOT** store in memory all possible paths to then calculate the sum of each, that would be a waste of space.\n",
    "* [Second Minimum Node In a Binary Tree](https://leetcode.com/problems/second-minimum-node-in-a-binary-tree)\n",
    "* [Lowest Common Ancestor of a Binary Search Tree](https://leetcode.com/problems/lowest-common-ancestor-of-a-binary-search-tree/)\n",
    "* [Balanced Binary Tree](https://leetcode.com/problems/balanced-binary-tree/)\n",
    "* [Binary Tree Tilt](https://leetcode.com/problems/binary-tree-tilt) \n",
    "\n",
    "### LeetCode Graphs\n",
    "\n",
    "* [Keys and rooms](https://leetcode.com/problems/keys-and-rooms)\n"
   ]
  },
  {
   "cell_type": "markdown",
   "metadata": {},
   "source": [
    "## Geeks for geeks\n",
    "\n",
    "**NOTE: required outputs are a bit strange, often times they ask you to print stuff while in fact you just need to return some data.**\n",
    "\n",
    "### Geeks for geeks Queues\n",
    "\n",
    "* [Interleave the first half of the queue with second half](https://www.geeksforgeeks.org/interleave-first-half-queue-second-half/) to implement it, use `Queue` object from python module [queue](https://docs.python.org/3/library/queue.html)\n",
    "* [Sorting a Queue without extra space](https://www.geeksforgeeks.org/sorting-queue-without-extra-space/) remember to use only the allowed operations !"
   ]
  },
  {
   "cell_type": "markdown",
   "metadata": {},
   "source": [
    "### Geeks for geeks Graphs\n",
    "\n",
    "**NOTE: if they require you to produce stuff like matrices they are shown as a line of numbers but you have to return the actual Python matrix**\n",
    "\n",
    "**DO NOT print anything**\n",
    "\n",
    "* [Distance of nearest cell having 1 in a binary matrix](https://practice.geeksforgeeks.org/problems/distance-of-nearest-cell-having-1-1587115620/1) - HINT: basically it's a BFS on a matrix\n",
    "\n",
    "* [Rotten Oranges](https://practice.geeksforgeeks.org/problems/rotten-oranges2536/1#) - HINT: basically it's a BFS on a matrix\n"
   ]
  },
  {
   "cell_type": "code",
   "execution_count": null,
   "metadata": {},
   "outputs": [],
   "source": []
  }
 ],
 "metadata": {
  "kernelspec": {
   "display_name": "Python 3 (ipykernel)",
   "language": "python",
   "name": "python3"
  },
  "language_info": {
   "codemirror_mode": {
    "name": "ipython",
    "version": 3
   },
   "file_extension": ".py",
   "mimetype": "text/x-python",
   "name": "python",
   "nbconvert_exporter": "python",
   "pygments_lexer": "ipython3",
   "version": "3.7.10"
  },
  "toc": {
   "base_numbering": 1,
   "nav_menu": {},
   "number_sections": false,
   "sideBar": true,
   "skip_h1_title": false,
   "title_cell": "Table of Contents",
   "title_sidebar": "Contents",
   "toc_cell": false,
   "toc_position": {},
   "toc_section_display": true,
   "toc_window_display": false
  }
 },
 "nbformat": 4,
 "nbformat_minor": 4
}
