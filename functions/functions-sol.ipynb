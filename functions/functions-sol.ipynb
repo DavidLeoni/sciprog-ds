{
 "cells": [
  {
   "cell_type": "code",
   "execution_count": 1,
   "metadata": {
    "nbsphinx": "hidden"
   },
   "outputs": [],
   "source": [
    "# Remember to execute this cell with Control+Enter\n",
    "import jupman;"
   ]
  },
  {
   "cell_type": "markdown",
   "metadata": {},
   "source": [
    "# Functions - solutions\n",
    "\n",
    "## [Download exercises zip](../_static/generated/functions.zip)\n",
    "\n",
    "[Browse files online](https://github.com/DavidLeoni/sciprog-ds/tree/master/functions)\n",
    "\n",
    "\n",
    "## Introduction\n",
    "\n",
    "**References**: \n",
    "\n",
    "A function takes some parameters and uses them to produce or report some result.\n",
    "\n",
    "In this notebook we will see how to define functions to reuse code, and talk about the scope of variables\n",
    "\n",
    "**References**\n",
    "\n",
    "- [Andrea Passerini slides A04](http://disi.unitn.it/~passerini/teaching/2019-2020/sci-pro/slides/A04-functions.pdf)\n",
    "- [Thinking in Python, Chapter 3, Functions](http://greenteapress.com/thinkpython2/html/thinkpython2004.html)\n",
    "- [Thinking in Python, Chapter 6, Fruitful functions](http://greenteapress.com/thinkpython2/html/thinkpython2007.html) \n",
    "    **NOTE**: in the book they use the weird term 'fruitful functions' for those functions which RETURN a value (mind you, RETURN a value, which is different from PRINTing it), and use also the term 'void functions' for functions which do not return anything but have some effect like PRINTing to screen. Please ignore these terms.\n"
   ]
  },
  {
   "cell_type": "markdown",
   "metadata": {},
   "source": [
    "### What to do\n",
    "\n",
    "- unzip exercises in a folder, you should get something like this: \n",
    "\n",
    "```\n",
    "-jupman.py\n",
    "-exercises\n",
    "     |- functions\n",
    "         |- functions.ipynb     \n",
    "         |- functions-sol.ipynb\n",
    "```\n",
    "\n",
    "<div class=\"alert alert-warning\">\n",
    "\n",
    "**WARNING**: to correctly visualize the notebook, it MUST be in an unzipped folder !\n",
    "</div>\n",
    "\n",
    "\n",
    "- open Jupyter Notebook from that folder. Two things should open, first a console and then browser. The browser should show a file list: navigate the list and open the notebook `functions/functions.ipynb`\n",
    "- Go on reading that notebook, and follow instuctions inside.\n",
    "\n",
    "Shortcut keys:\n",
    "\n",
    "- to execute Python code inside a Jupyter cell, press `Control + Enter`\n",
    "- to execute Python code inside a Jupyter cell AND select next cell, press `Shift + Enter`\n",
    "- to execute Python code inside a Jupyter cell AND a create a new cell aftwerwards, press `Alt + Enter`\n",
    "- If the notebooks look stuck, try to select `Kernel -> Restart`"
   ]
  },
  {
   "cell_type": "markdown",
   "metadata": {},
   "source": [
    "### What is a function ? \n",
    "\n",
    "A function is a block of code that has a name and that performs a task. A function can be thought of as a box that gets an input and returns an output. \n",
    "\n",
    "**Why should we use functions?** For a lot of reasons including: \n",
    "    \n",
    " 1. *Reduce code duplication*: put in functions parts of code that are needed several times in the whole program so that you don't need to repeat the same code over and over again;\n",
    "    \n",
    " 2. *Decompose a complex task*: make the code easier to write and understand by splitting the whole program in several easier functions;\n",
    "\n",
    "both things improve code readability and make your code easier to understand.\n",
    "\n",
    "The basic definition of a function is:\n",
    "\n",
    "```python\n",
    "def function_name(input) :\n",
    "    #code implementing the function\n",
    "    ...\n",
    "    ...\n",
    "    return return_value\n",
    "```\n",
    "\n",
    "Functions are defined with the **def** keyword that proceeds the *function_name* and then a list of parameters is passed in the brackets. A colon **:** is used to end the line holding the definition of the function. The code implementing the function is specified by using indentation. A function **might** or **might not** return a value. In the first case a **return** statement is used.\n",
    "\n",
    "\n",
    "**Example:** \n",
    "\n",
    "Define a function that implements the sum of two integer lists (note that there is no check that the two lists actually contain integers and that they have the same size)."
   ]
  },
  {
   "cell_type": "code",
   "execution_count": 2,
   "metadata": {},
   "outputs": [
    {
     "name": "stdout",
     "output_type": "stream",
     "text": [
      "La: [1, 2, 3, 4, 5, 6, 7, 8, 9]\n"
     ]
    }
   ],
   "source": [
    "def int_list_sum(la,lb):\n",
    "    \"\"\"implements the sum of two lists of integers having the same size  \n",
    "    \"\"\"\n",
    "    ret =[]\n",
    "    for i in range(len(la)):\n",
    "        ret.append(la[i] + lb[i])\n",
    "    return ret\n",
    "\n",
    "La = list(range(1,10))\n",
    "print(\"La:\", La)"
   ]
  },
  {
   "cell_type": "code",
   "execution_count": 3,
   "metadata": {},
   "outputs": [
    {
     "name": "stdout",
     "output_type": "stream",
     "text": [
      "Lb: [20, 21, 22, 23, 24, 25, 26, 27, 28, 29]\n"
     ]
    }
   ],
   "source": [
    "Lb = list(range(20,30))\n",
    "print(\"Lb:\", Lb)"
   ]
  },
  {
   "cell_type": "code",
   "execution_count": 4,
   "metadata": {},
   "outputs": [],
   "source": [
    "res = int_list_sum(La,Lb)"
   ]
  },
  {
   "cell_type": "code",
   "execution_count": 5,
   "metadata": {},
   "outputs": [
    {
     "name": "stdout",
     "output_type": "stream",
     "text": [
      "La+Lb: [21, 23, 25, 27, 29, 31, 33, 35, 37]\n"
     ]
    }
   ],
   "source": [
    "print(\"La+Lb:\", res)"
   ]
  },
  {
   "cell_type": "code",
   "execution_count": 6,
   "metadata": {},
   "outputs": [],
   "source": [
    "res = int_list_sum(La,La)"
   ]
  },
  {
   "cell_type": "code",
   "execution_count": 7,
   "metadata": {},
   "outputs": [
    {
     "name": "stdout",
     "output_type": "stream",
     "text": [
      "La+La [2, 4, 6, 8, 10, 12, 14, 16, 18]\n"
     ]
    }
   ],
   "source": [
    "print(\"La+La\", res)"
   ]
  },
  {
   "cell_type": "markdown",
   "metadata": {},
   "source": [
    "Note that once the function has been defined, it can be called as many times as wanted with different input parameters. Moreover, **a function does not do anything until it is actually called.**\n",
    "A function can return **0** (in this case the return value would be \"None\"), **1** or **more** results. Notice also that collecting the results of a function is **not mandatory**.\n",
    "\n",
    "**Example:**\n",
    "Let's write a function that, given a list of elements, prints only the even-placed ones without returning anything."
   ]
  },
  {
   "cell_type": "code",
   "execution_count": 8,
   "metadata": {},
   "outputs": [],
   "source": [
    "def get_even_placed(myList):\n",
    "    \"\"\"returns the even placed elements of myList\"\"\"\n",
    "    ret = [myList[i] for i in range(len(myList)) if i % 2 == 0]\n",
    "    print(ret)"
   ]
  },
  {
   "cell_type": "code",
   "execution_count": 9,
   "metadata": {},
   "outputs": [],
   "source": [
    "L1 = [\"hi\", \"there\", \"from\",\"python\",\"!\"]"
   ]
  },
  {
   "cell_type": "code",
   "execution_count": 10,
   "metadata": {},
   "outputs": [],
   "source": [
    "L2 = list(range(13))"
   ]
  },
  {
   "cell_type": "code",
   "execution_count": 11,
   "metadata": {},
   "outputs": [
    {
     "name": "stdout",
     "output_type": "stream",
     "text": [
      "L1: ['hi', 'there', 'from', 'python', '!']\n"
     ]
    }
   ],
   "source": [
    "print(\"L1:\", L1)"
   ]
  },
  {
   "cell_type": "code",
   "execution_count": 12,
   "metadata": {},
   "outputs": [
    {
     "name": "stdout",
     "output_type": "stream",
     "text": [
      "L2: [0, 1, 2, 3, 4, 5, 6, 7, 8, 9, 10, 11, 12]\n"
     ]
    }
   ],
   "source": [
    "print(\"L2:\", L2)"
   ]
  },
  {
   "cell_type": "code",
   "execution_count": 13,
   "metadata": {},
   "outputs": [
    {
     "name": "stdout",
     "output_type": "stream",
     "text": [
      "even L1:\n",
      "['hi', 'from', '!']\n"
     ]
    }
   ],
   "source": [
    "print(\"even L1:\")\n",
    "get_even_placed(L1)"
   ]
  },
  {
   "cell_type": "code",
   "execution_count": 14,
   "metadata": {},
   "outputs": [
    {
     "name": "stdout",
     "output_type": "stream",
     "text": [
      "even L2:\n",
      "[0, 2, 4, 6, 8, 10, 12]\n"
     ]
    }
   ],
   "source": [
    "print(\"even L2:\")       \n",
    "get_even_placed(L2)"
   ]
  },
  {
   "cell_type": "markdown",
   "metadata": {},
   "source": [
    "**Note that the function above is polymorphic** (i.e. it works on several data types, provided that we can iterate through them).\n",
    "\n",
    "**Example:**\n",
    "Let's write a function that, given a list of integers, returns the number of elements, the maximum and minimum."
   ]
  },
  {
   "cell_type": "code",
   "execution_count": 15,
   "metadata": {},
   "outputs": [
    {
     "name": "stdout",
     "output_type": "stream",
     "text": [
      "Original A: [7, 1, 125, 4, -1, 0] \n",
      "\n"
     ]
    }
   ],
   "source": [
    "def get_info(myList):\n",
    "    \"\"\"returns len of myList, min and max value (assumes elements are integers)\"\"\"\n",
    "    tmp = myList[:] #copy the input list\n",
    "    tmp.sort()\n",
    "    return len(tmp), tmp[0], tmp[-1] #return type is a tuple\n",
    "\n",
    "A = [7, 1, 125, 4, -1, 0]\n",
    "\n",
    "print(\"Original A:\", A, \"\\n\")"
   ]
  },
  {
   "cell_type": "code",
   "execution_count": 16,
   "metadata": {},
   "outputs": [],
   "source": [
    "result = get_info(A)"
   ]
  },
  {
   "cell_type": "code",
   "execution_count": 17,
   "metadata": {},
   "outputs": [
    {
     "name": "stdout",
     "output_type": "stream",
     "text": [
      "Len: 6 Min: -1 Max: 125 \n",
      "\n"
     ]
    }
   ],
   "source": [
    "print(\"Len:\", result[0], \"Min:\", result[1], \"Max:\",result[2], \"\\n\" )"
   ]
  },
  {
   "cell_type": "code",
   "execution_count": 18,
   "metadata": {},
   "outputs": [
    {
     "name": "stdout",
     "output_type": "stream",
     "text": [
      "A now: [7, 1, 125, 4, -1, 0]\n"
     ]
    }
   ],
   "source": [
    "print(\"A now:\", A)"
   ]
  },
  {
   "cell_type": "code",
   "execution_count": 19,
   "metadata": {},
   "outputs": [],
   "source": [
    "def my_sum(myList):\n",
    "    ret = 0\n",
    "    for el in myList:\n",
    "        ret += el # == ret = ret + el\n",
    "    return ret\n",
    "\n",
    "A = [1,2,3,4,5,6]\n",
    "B = [7, 9, 4]"
   ]
  },
  {
   "cell_type": "code",
   "execution_count": 20,
   "metadata": {},
   "outputs": [],
   "source": [
    "s = my_sum(A)"
   ]
  },
  {
   "cell_type": "code",
   "execution_count": 21,
   "metadata": {},
   "outputs": [
    {
     "name": "stdout",
     "output_type": "stream",
     "text": [
      "List A: [1, 2, 3, 4, 5, 6]\n",
      "Sum: 21\n"
     ]
    }
   ],
   "source": [
    "print(\"List A:\", A)\n",
    "print(\"Sum:\", s)"
   ]
  },
  {
   "cell_type": "code",
   "execution_count": 22,
   "metadata": {},
   "outputs": [],
   "source": [
    "s = my_sum(B)"
   ]
  },
  {
   "cell_type": "code",
   "execution_count": 23,
   "metadata": {},
   "outputs": [
    {
     "name": "stdout",
     "output_type": "stream",
     "text": [
      "List B: [7, 9, 4]\n",
      "Sum: 20\n"
     ]
    }
   ],
   "source": [
    "print(\"List B:\", B)\n",
    "print(\"Sum:\", s)"
   ]
  },
  {
   "cell_type": "markdown",
   "metadata": {},
   "source": [
    "Please note that the return value above is actually a tuple.\n",
    "Importantly enough, a function needs to be defined (i.e. its code has to be written) before it can actually be used. "
   ]
  },
  {
   "cell_type": "code",
   "execution_count": 24,
   "metadata": {},
   "outputs": [],
   "source": [
    "A = [1,2,3]\n",
    "my_sum(A)\n",
    "\n",
    "def my_sum(myList):\n",
    "    ret = 0\n",
    "    for el in myList:\n",
    "        ret += el\n",
    "    return ret"
   ]
  },
  {
   "cell_type": "markdown",
   "metadata": {},
   "source": [
    "## Namespace and variable scope\n",
    "\n",
    "**Namespaces** are mappings from *names* to objects, or in other words places where names are associated to objects. Namespaces can be considered as the context. According to Python's reference a **scope** is a *textual region of a Python program, where a namespace is directly accessible*, which means that Python will look into that *namespace* to find the object associated to a name. Four **namespaces** are made available by Python:\n",
    "\n",
    "1. **Local**: the innermost that contains local names (inside a function or a class);\n",
    "\n",
    "2. **Enclosing**: the scope of the enclosing function, \n",
    "it does not contain local nor global names (nested functions) ;\n",
    "\n",
    "3. **Global**: contains the global names;\n",
    "\n",
    "4. **Built-in**: contains all built in names \n",
    "(e.g. print, if, while, for,...)\n",
    "    \n",
    "When one refers to a name, Python tries to find it in the current namespace, if it is not found it continues looking in the namespace that contains it until the built-in namespace is reached. If the name is not found there either, the Python interpreter will throw a **NameError** exception, meaning it cannot find the name. The order in which namespaces are considered is: Local, Enclosing, Global and Built-in (LEGB).  \n",
    "\n",
    "Consider the following example:"
   ]
  },
  {
   "cell_type": "code",
   "execution_count": 25,
   "metadata": {},
   "outputs": [],
   "source": [
    "def my_function():\n",
    "    var = 1  #local variable\n",
    "    print(\"Local:\", var)\n",
    "    b = \"my string\"\n",
    "    print(\"Local:\", b)\n",
    "    \n"
   ]
  },
  {
   "cell_type": "markdown",
   "metadata": {},
   "source": [
    "```python\n",
    "var = 7 #global variable\n",
    "my_function()\n",
    "print(\"Global:\", var)\n",
    "print(b)\n",
    "```\n",
    "\n",
    "```python\n",
    "Local: 1\n",
    "Local: my string\n",
    "Global: 7\n",
    "\n",
    "---------------------------------------------------------------------------\n",
    "NameError                                 Traceback (most recent call last)\n",
    "<ipython-input-56-7dd8330a24f0> in <module>\n",
    "      8 my_function()\n",
    "      9 print(\"Global:\", var)\n",
    "---> 10 print(b)\n",
    "\n",
    "NameError: name 'b' is not defined\n",
    "\n",
    "```"
   ]
  },
  {
   "cell_type": "markdown",
   "metadata": {},
   "source": [
    "Variables defined within a function can only be seen within the function. That is why variable b is defined only within the function. Variables defined outside all functions are **global** to the whole program.\n",
    "The namespace of the local variable is within the function my_function, while outside it the variable will have its  global value.\n",
    "\n",
    "And the following:"
   ]
  },
  {
   "cell_type": "code",
   "execution_count": 26,
   "metadata": {},
   "outputs": [
    {
     "name": "stdout",
     "output_type": "stream",
     "text": [
      "Inner: 2\n",
      "Inner: This is B\n",
      "Outer: 1\n",
      "Global: 3\n",
      "Global: This is B\n"
     ]
    }
   ],
   "source": [
    "def outer_function():\n",
    "    var = 1 #outer\n",
    "    \n",
    "    def inner_function():\n",
    "        var = 2 #inner\n",
    "        print(\"Inner:\", var)\n",
    "        print(\"Inner:\", B)    \n",
    "    \n",
    "    inner_function()\n",
    "    print(\"Outer:\", var)\n",
    "    \n",
    "    \n",
    "var = 3 #global\n",
    "B = \"This is B\"\n",
    "outer_function()\n",
    "print(\"Global:\", var)\n",
    "print(\"Global:\", B)"
   ]
  },
  {
   "cell_type": "markdown",
   "metadata": {},
   "source": [
    "Note in particular that the variable B is global, therefore it is accessible everywhere and also inside the inner_function. On the contrary, the value of var defined within the inner_function is accessible only in the namespace defined by it, outside it will assume different values as shown in the example.\n",
    "\n",
    "In a nutshell, remember the three simple rules seen in the lecture. Within a **def**:\n",
    "\n",
    "    1. Name assignments create local names by default;\n",
    "    2. Name references search the following four scopes in the order: \n",
    "    local, enclosing functions (if any), then global and finally built-in (LEGB)\n",
    "    3. Names declared in global and nonlocal statements map assigned names to \n",
    "    enclosing module and function scopes."
   ]
  },
  {
   "cell_type": "markdown",
   "metadata": {},
   "source": [
    "## Argument passing\n",
    "\n",
    "Arguments are the parameters and data we pass to functions. When passing arguments, there are three important things to bear in mind are:\n",
    "\n",
    "1. Passing an argument is actually assigning an object to a local variable name;\n",
    "2. Assigning an object to a variable name within a function **does not affect the caller**;\n",
    "3. Changing a **mutable** object variable name within a function **affects the caller**\n",
    "\n",
    "Consider the following examples:"
   ]
  },
  {
   "cell_type": "code",
   "execution_count": 27,
   "metadata": {},
   "outputs": [
    {
     "name": "stdout",
     "output_type": "stream",
     "text": [
      "Local:  local value\n",
      "Global: global value\n",
      "Local:  local value\n"
     ]
    }
   ],
   "source": [
    "\"\"\"Assigning the argument does not affect the caller\"\"\"\n",
    "\n",
    "def my_f(x):\n",
    "    x = \"local value\" #local\n",
    "    print(\"Local: \", x)\n",
    "\n",
    "x = \"global value\" #global\n",
    "my_f(x)\n",
    "print(\"Global:\", x)\n",
    "my_f(x)\n",
    "\n"
   ]
  },
  {
   "cell_type": "code",
   "execution_count": 28,
   "metadata": {},
   "outputs": [
    {
     "name": "stdout",
     "output_type": "stream",
     "text": [
      "Global: ['old value', 'old value', 'old value', 'old value']\n",
      "Local:  ['old value', 'new value1', 'old value', 'new value2']\n",
      "Global now:  ['old value', 'new value1', 'old value', 'new value2']\n"
     ]
    }
   ],
   "source": [
    "\"\"\"Changing a mutable affects the caller\"\"\"\n",
    "\n",
    "def my_f(myList):\n",
    "    myList[1] = \"new value1\"\n",
    "    myList[3] = \"new value2\"\n",
    "    print(\"Local: \", myList)\n",
    "\n",
    "myList = [\"old value\"]*4\n",
    "print(\"Global:\", myList)\n",
    "my_f(myList)\n",
    "print(\"Global now: \", myList)"
   ]
  },
  {
   "cell_type": "markdown",
   "metadata": {},
   "source": [
    "Recall what seen in the lecture:\n",
    "\n",
    "![argument passing 312j23](img/argument_passing.png)\n",
    "\n",
    "The behaviour above is because **immutable objects** are passed **by value** (therefore it is like making a copy), while **mutable objects** are passed **by reference** (therefore changing them effectively changes the original object). \n",
    "\n",
    "To avoid making changes to a **mutable object** passed as parameter one needs to **explicitely make a copy** of it.\n",
    "\n",
    "Consider the example seen before.\n",
    "**Example:**\n",
    "Let's write a function that, given a list of integers, returns the number of elements, the maximum and minimum."
   ]
  },
  {
   "cell_type": "code",
   "execution_count": 29,
   "metadata": {},
   "outputs": [
    {
     "name": "stdout",
     "output_type": "stream",
     "text": [
      "A: [7, 1, 125, 4, -1, 0]\n"
     ]
    }
   ],
   "source": [
    "def get_info(myList):\n",
    "    \"\"\"returns len of myList, min and max value (assumes elements are integers)\"\"\"\n",
    "    myList.sort()\n",
    "    return len(myList), myList[0], myList[-1] #return type is a tuple\n",
    "\n",
    "\n",
    "def get_info_copy(myList):\n",
    "    \"\"\"returns len of myList, min and max value (assumes elements are integers)\"\"\"\n",
    "    tmp = myList[:] #copy the input list!!!!\n",
    "    tmp.sort()\n",
    "    return len(tmp), tmp[0], tmp[-1] #return type is a tuple\n",
    "\n",
    "A = [7, 1, 125, 4, -1, 0]\n",
    "B = [70, 10, 1250, 40, -10, 0, 10]\n",
    "\n",
    "print(\"A:\", A) \n",
    "result = get_info(A)"
   ]
  },
  {
   "cell_type": "code",
   "execution_count": 30,
   "metadata": {},
   "outputs": [
    {
     "name": "stdout",
     "output_type": "stream",
     "text": [
      "Len: 6 Min: -1 Max: 125\n"
     ]
    }
   ],
   "source": [
    "print(\"Len:\", result[0], \"Min:\", result[1], \"Max:\",result[2] )"
   ]
  },
  {
   "cell_type": "code",
   "execution_count": 31,
   "metadata": {},
   "outputs": [
    {
     "name": "stdout",
     "output_type": "stream",
     "text": [
      "A now: [-1, 0, 1, 4, 7, 125]\n"
     ]
    }
   ],
   "source": [
    "print(\"A now:\", A) #whoops A is changed!!!"
   ]
  },
  {
   "cell_type": "code",
   "execution_count": 32,
   "metadata": {},
   "outputs": [
    {
     "name": "stdout",
     "output_type": "stream",
     "text": [
      "\n",
      "B: [70, 10, 1250, 40, -10, 0, 10]\n"
     ]
    }
   ],
   "source": [
    "print(\"\\nB:\", B) "
   ]
  },
  {
   "cell_type": "code",
   "execution_count": 33,
   "metadata": {},
   "outputs": [],
   "source": [
    "result = get_info_copy(B)"
   ]
  },
  {
   "cell_type": "code",
   "execution_count": 34,
   "metadata": {},
   "outputs": [
    {
     "name": "stdout",
     "output_type": "stream",
     "text": [
      "Len: 7 Min: -10 Max: 1250\n"
     ]
    }
   ],
   "source": [
    "print(\"Len:\", result[0], \"Min:\", result[1], \"Max:\",result[2] )"
   ]
  },
  {
   "cell_type": "code",
   "execution_count": 35,
   "metadata": {},
   "outputs": [
    {
     "name": "stdout",
     "output_type": "stream",
     "text": [
      "B now: [70, 10, 1250, 40, -10, 0, 10]\n"
     ]
    }
   ],
   "source": [
    "print(\"B now:\", B) #B is not changed!!!"
   ]
  },
  {
   "cell_type": "markdown",
   "metadata": {},
   "source": [
    "### Positional arguments\n",
    "\n",
    "Arguments can be passed to functions following the order in which they appear in the function definition.\n",
    "\n",
    "Consider the following example:"
   ]
  },
  {
   "cell_type": "code",
   "execution_count": 36,
   "metadata": {},
   "outputs": [
    {
     "name": "stdout",
     "output_type": "stream",
     "text": [
      "1st param: A\n",
      "2nd param: B\n",
      "3rd param: C\n",
      "4th param: D\n"
     ]
    }
   ],
   "source": [
    "def print_parameters(a,b,c,d):\n",
    "    print(\"1st param:\", a)\n",
    "    print(\"2nd param:\", b)\n",
    "    print(\"3rd param:\", c)\n",
    "    print(\"4th param:\", d)\n",
    "\n",
    "print_parameters(\"A\", \"B\", \"C\", \"D\")"
   ]
  },
  {
   "cell_type": "markdown",
   "metadata": {},
   "source": [
    "### Passing arguments by keyword"
   ]
  },
  {
   "cell_type": "markdown",
   "metadata": {},
   "source": [
    "Given the name of an argument as specified in the definition of the function, parameters can be passed using the **name = value** syntax.\n",
    "\n",
    "For example:"
   ]
  },
  {
   "cell_type": "code",
   "execution_count": 37,
   "metadata": {},
   "outputs": [
    {
     "name": "stdout",
     "output_type": "stream",
     "text": [
      "1st param: 1\n",
      "2nd param: 2\n",
      "3rd param: 3\n",
      "4th param: 4\n"
     ]
    }
   ],
   "source": [
    "def print_parameters(a,b,c,d):\n",
    "    print(\"1st param:\", a)\n",
    "    print(\"2nd param:\", b)\n",
    "    print(\"3rd param:\", c)\n",
    "    print(\"4th param:\", d)\n",
    "    \n",
    "print_parameters(a = 1, c=3, d=4, b=2)"
   ]
  },
  {
   "cell_type": "code",
   "execution_count": 38,
   "metadata": {},
   "outputs": [
    {
     "name": "stdout",
     "output_type": "stream",
     "text": [
      "1st param: first\n",
      "2nd param: second\n",
      "3rd param: third\n",
      "4th param: fourth\n"
     ]
    }
   ],
   "source": [
    "print_parameters(\"first\",\"second\",d=\"fourth\",c=\"third\")"
   ]
  },
  {
   "cell_type": "markdown",
   "metadata": {},
   "source": [
    "Arguments passed positionally and by name can be used at the same time, but parameters passed by name must always be to the left of those passed by name. The following code in fact is not accepted by the Python interpreter:"
   ]
  },
  {
   "cell_type": "markdown",
   "metadata": {},
   "source": [
    "```python\n",
    "def print_parameters(a,b,c,d):\n",
    "    print(\"1st param:\", a)\n",
    "    print(\"2nd param:\", b)\n",
    "    print(\"3rd param:\", c)\n",
    "    print(\"4th param:\", d)\n",
    "    \n",
    "print_parameters(d=\"fourth\",c=\"third\", \"first\",\"second\")\n",
    "```\n",
    "\n",
    "```python\n",
    "File \"<ipython-input-60-4991b2c31842>\", line 7\n",
    "    print_parameters(d=\"fourth\",c=\"third\", \"first\",\"second\")\n",
    "                                          ^\n",
    "SyntaxError: positional argument follows keyword argument\n",
    "\n",
    "```"
   ]
  },
  {
   "cell_type": "markdown",
   "metadata": {},
   "source": [
    "### Specifying default values\n",
    "\n",
    "During the definition of a function it is possible to specify default values. The syntax is the following:\n",
    "```\n",
    "def my_function(par1 = val1, par2 = val2, par3 = val3):\n",
    "```\n",
    "\n",
    "Consider the following example:"
   ]
  },
  {
   "cell_type": "code",
   "execution_count": 39,
   "metadata": {},
   "outputs": [
    {
     "name": "stdout",
     "output_type": "stream",
     "text": [
      "a: param_A\n",
      "b: defaultB\n",
      "c: defaultC\n"
     ]
    }
   ],
   "source": [
    "def print_parameters(a=\"defaultA\", b=\"defaultB\",c=\"defaultC\"):\n",
    "    print(\"a:\",a)\n",
    "    print(\"b:\",b)\n",
    "    print(\"c:\",c)\n",
    "    \n",
    "print_parameters(\"param_A\")"
   ]
  },
  {
   "cell_type": "code",
   "execution_count": 40,
   "metadata": {},
   "outputs": [
    {
     "name": "stdout",
     "output_type": "stream",
     "text": [
      "a: defaultA\n",
      "b: PARAMETER_B\n",
      "c: defaultC\n"
     ]
    }
   ],
   "source": [
    "print_parameters(b=\"PARAMETER_B\")"
   ]
  },
  {
   "cell_type": "code",
   "execution_count": 41,
   "metadata": {},
   "outputs": [
    {
     "name": "stdout",
     "output_type": "stream",
     "text": [
      "a: defaultA\n",
      "b: defaultB\n",
      "c: defaultC\n"
     ]
    }
   ],
   "source": [
    "print_parameters()"
   ]
  },
  {
   "cell_type": "code",
   "execution_count": 42,
   "metadata": {},
   "outputs": [
    {
     "name": "stdout",
     "output_type": "stream",
     "text": [
      "a: defaultA\n",
      "b: PAR_B\n",
      "c: PARAMETER_C\n"
     ]
    }
   ],
   "source": [
    "print_parameters(c=\"PARAMETER_C\", b=\"PAR_B\")"
   ]
  },
  {
   "cell_type": "markdown",
   "metadata": {},
   "source": [
    "## Simple exercises"
   ]
  },
  {
   "cell_type": "markdown",
   "metadata": {},
   "source": [
    "\n",
    "### sum2\n",
    "\n",
    "✪ Write function `sum2` which given two numbers `x` and `y` RETURN their sum\n",
    "\n",
    "**QUESTION**: Why do we call it `sum2` instead of just `sum` ??"
   ]
  },
  {
   "cell_type": "code",
   "execution_count": 43,
   "metadata": {},
   "outputs": [
    {
     "data": {
      "text/plain": [
       "53"
      ]
     },
     "execution_count": 43,
     "metadata": {},
     "output_type": "execute_result"
    }
   ],
   "source": [
    "sum([2,51])"
   ]
  },
  {
   "cell_type": "raw",
   "id": "69835ac2",
   "metadata": {
    "format": "text/html"
   },
   "source": [
    "<a  class=\"jupman-sol jupman-sol-toggler\" \n",
    " onclick=\"jupman.toggleSolution(this);\" \n",
    " data-jupman-show=\"Show answer\" data-jupman-hide=\"Hide\">Show answer</a><div class=\"jupman-sol jupman-sol-question\" style=\"display:none\">  "
   ]
  },
  {
   "cell_type": "markdown",
   "metadata": {},
   "source": [
    "**ANSWER**: `sum` is already defined as standard python function, we do not want to overwrite it. Look at how in the following snippet it displays in green:\n",
    "\n",
    "```python\n",
    ">>> sum([5,8])\n",
    "13\n",
    "```"
   ]
  },
  {
   "cell_type": "raw",
   "id": "9bd1f6cf",
   "metadata": {
    "format": "text/html"
   },
   "source": [
    "</div>"
   ]
  },
  {
   "cell_type": "raw",
   "id": "262bf759",
   "metadata": {
    "format": "text/html"
   },
   "source": [
    "<a  class=\"jupman-sol jupman-sol-toggler\" \n",
    " onclick=\"jupman.toggleSolution(this);\" \n",
    " data-jupman-show=\"Show solution\" data-jupman-hide=\"Hide\">Show solution</a><div class=\"jupman-sol jupman-sol-code\" style=\"display:none\">  "
   ]
  },
  {
   "cell_type": "code",
   "execution_count": 44,
   "metadata": {},
   "outputs": [],
   "source": [
    "# write here\n",
    "\n",
    "def sum2(x,y):\n",
    "    return x + y"
   ]
  },
  {
   "cell_type": "raw",
   "id": "651650e1",
   "metadata": {
    "format": "text/html"
   },
   "source": [
    "</div>"
   ]
  },
  {
   "cell_type": "code",
   "execution_count": 44,
   "metadata": {},
   "outputs": [],
   "source": [
    "# write here\n",
    "\n"
   ]
  },
  {
   "cell_type": "code",
   "execution_count": 45,
   "metadata": {},
   "outputs": [
    {
     "name": "stdout",
     "output_type": "stream",
     "text": [
      "9\n"
     ]
    }
   ],
   "source": [
    "s = sum2(3,6)\n",
    "print(s)"
   ]
  },
  {
   "cell_type": "code",
   "execution_count": 46,
   "metadata": {},
   "outputs": [
    {
     "name": "stdout",
     "output_type": "stream",
     "text": [
      "2\n"
     ]
    }
   ],
   "source": [
    "s = sum2(-1,3)\n",
    "print(s)"
   ]
  },
  {
   "cell_type": "markdown",
   "metadata": {},
   "source": [
    "### comparep\n",
    "\n",
    "\n",
    "✪ Write a function `comparep` which given two numbers `x` and `y`, PRINTS `x is greater than y`, `x is less than y`, `x is equal to y`\n",
    "\n",
    "**NOTE**: in print, put real numbers. For example, comparep(10,5) should print: \n",
    "\n",
    "    10 is greater than 5\n",
    "\n",
    "HINT: to print numbers and text, use commas in `print`:\n",
    "\n",
    "```python\n",
    "print(x, \" is greater than \")\n",
    "```"
   ]
  },
  {
   "cell_type": "raw",
   "id": "fd52949f",
   "metadata": {
    "format": "text/html"
   },
   "source": [
    "<a  class=\"jupman-sol jupman-sol-toggler\" \n",
    " onclick=\"jupman.toggleSolution(this);\" \n",
    " data-jupman-show=\"Show solution\" data-jupman-hide=\"Hide\">Show solution</a><div class=\"jupman-sol jupman-sol-code\" style=\"display:none\">  "
   ]
  },
  {
   "cell_type": "code",
   "execution_count": 47,
   "metadata": {},
   "outputs": [],
   "source": [
    "# write here\n",
    "def comparep(x,y):\n",
    "    if x > y:\n",
    "        print(x, \" is greater than \", y)\n",
    "    elif x < y:\n",
    "        print(x, \" is less than \", y)\n",
    "    else:\n",
    "        print(x, \" is equal to \", y)"
   ]
  },
  {
   "cell_type": "raw",
   "id": "851ece55",
   "metadata": {
    "format": "text/html"
   },
   "source": [
    "</div>"
   ]
  },
  {
   "cell_type": "code",
   "execution_count": 47,
   "metadata": {},
   "outputs": [],
   "source": [
    "# write here\n",
    "\n"
   ]
  },
  {
   "cell_type": "code",
   "execution_count": 48,
   "metadata": {},
   "outputs": [
    {
     "name": "stdout",
     "output_type": "stream",
     "text": [
      "10  is greater than  5\n"
     ]
    }
   ],
   "source": [
    "comparep(10,5)"
   ]
  },
  {
   "cell_type": "code",
   "execution_count": 49,
   "metadata": {},
   "outputs": [
    {
     "name": "stdout",
     "output_type": "stream",
     "text": [
      "3  is less than  8\n"
     ]
    }
   ],
   "source": [
    "comparep(3,8)"
   ]
  },
  {
   "cell_type": "code",
   "execution_count": 50,
   "metadata": {},
   "outputs": [
    {
     "name": "stdout",
     "output_type": "stream",
     "text": [
      "3  is equal to  3\n"
     ]
    }
   ],
   "source": [
    "comparep(3,3)"
   ]
  },
  {
   "cell_type": "markdown",
   "metadata": {},
   "source": [
    "### comparer\n",
    "\n",
    "✪ Write function `comparer` which given two numbers `x` and`y` RETURN the STRING `'>'` if `x` is greater than `y`, the STRING `'<'`if `x` is less than `y` or the STRING `'=='` if `x` is equal to `y`\n"
   ]
  },
  {
   "cell_type": "raw",
   "id": "a1afb2e6",
   "metadata": {
    "format": "text/html"
   },
   "source": [
    "<a  class=\"jupman-sol jupman-sol-toggler\" \n",
    " onclick=\"jupman.toggleSolution(this);\" \n",
    " data-jupman-show=\"Show solution\" data-jupman-hide=\"Hide\">Show solution</a><div class=\"jupman-sol jupman-sol-code\" style=\"display:none\">  "
   ]
  },
  {
   "cell_type": "code",
   "execution_count": 51,
   "metadata": {},
   "outputs": [],
   "source": [
    "# write here\n",
    "def comparer(x,y):\n",
    "    if x > y:\n",
    "        return '>'\n",
    "    elif x < y:\n",
    "        return '<'\n",
    "    else:\n",
    "        return '=='"
   ]
  },
  {
   "cell_type": "raw",
   "id": "5d260596",
   "metadata": {
    "format": "text/html"
   },
   "source": [
    "</div>"
   ]
  },
  {
   "cell_type": "code",
   "execution_count": 51,
   "metadata": {},
   "outputs": [],
   "source": [
    "# write here\n",
    "\n"
   ]
  },
  {
   "cell_type": "code",
   "execution_count": 52,
   "metadata": {},
   "outputs": [
    {
     "name": "stdout",
     "output_type": "stream",
     "text": [
      ">\n"
     ]
    }
   ],
   "source": [
    "c = comparer(10,5)\n",
    "print(c)"
   ]
  },
  {
   "cell_type": "code",
   "execution_count": 53,
   "metadata": {},
   "outputs": [
    {
     "name": "stdout",
     "output_type": "stream",
     "text": [
      "<\n"
     ]
    }
   ],
   "source": [
    "c = comparer(3,7)\n",
    "print(c)"
   ]
  },
  {
   "cell_type": "code",
   "execution_count": 54,
   "metadata": {},
   "outputs": [
    {
     "name": "stdout",
     "output_type": "stream",
     "text": [
      "==\n"
     ]
    }
   ],
   "source": [
    "c = comparer(3,3)\n",
    "print(c)"
   ]
  },
  {
   "cell_type": "markdown",
   "metadata": {},
   "source": [
    "### even\n",
    "\n",
    "✪ Write a function `even` which given a number `x`, RETURN `True` if  `x` is even, otherwise RETURN `False`\n",
    "\n",
    "**HINT**: a number is even when the rest of division by two is zero. To obtaing the reminder of division, write `x % 2`"
   ]
  },
  {
   "cell_type": "code",
   "execution_count": 55,
   "metadata": {},
   "outputs": [
    {
     "data": {
      "text/plain": [
       "0"
      ]
     },
     "execution_count": 55,
     "metadata": {},
     "output_type": "execute_result"
    }
   ],
   "source": [
    "# Example:\n",
    "2 % 2"
   ]
  },
  {
   "cell_type": "code",
   "execution_count": 56,
   "metadata": {},
   "outputs": [
    {
     "data": {
      "text/plain": [
       "1"
      ]
     },
     "execution_count": 56,
     "metadata": {},
     "output_type": "execute_result"
    }
   ],
   "source": [
    "3 % 2"
   ]
  },
  {
   "cell_type": "code",
   "execution_count": 57,
   "metadata": {},
   "outputs": [
    {
     "data": {
      "text/plain": [
       "0"
      ]
     },
     "execution_count": 57,
     "metadata": {},
     "output_type": "execute_result"
    }
   ],
   "source": [
    "4 % 2"
   ]
  },
  {
   "cell_type": "code",
   "execution_count": 58,
   "metadata": {},
   "outputs": [
    {
     "data": {
      "text/plain": [
       "1"
      ]
     },
     "execution_count": 58,
     "metadata": {},
     "output_type": "execute_result"
    }
   ],
   "source": [
    "5 % 2"
   ]
  },
  {
   "cell_type": "raw",
   "id": "37fe28fd",
   "metadata": {
    "format": "text/html"
   },
   "source": [
    "<a  class=\"jupman-sol jupman-sol-toggler\" \n",
    " onclick=\"jupman.toggleSolution(this);\" \n",
    " data-jupman-show=\"Show solution\" data-jupman-hide=\"Hide\">Show solution</a><div class=\"jupman-sol jupman-sol-code\" style=\"display:none\">  "
   ]
  },
  {
   "cell_type": "code",
   "execution_count": 59,
   "metadata": {},
   "outputs": [],
   "source": [
    "# write here\n",
    "def even(x):\n",
    "    return x % 2 == 0"
   ]
  },
  {
   "cell_type": "raw",
   "id": "de25c0f9",
   "metadata": {
    "format": "text/html"
   },
   "source": [
    "</div>"
   ]
  },
  {
   "cell_type": "code",
   "execution_count": 59,
   "metadata": {},
   "outputs": [],
   "source": [
    "# write here\n",
    "\n"
   ]
  },
  {
   "cell_type": "code",
   "execution_count": 60,
   "metadata": {},
   "outputs": [
    {
     "name": "stdout",
     "output_type": "stream",
     "text": [
      "True\n"
     ]
    }
   ],
   "source": [
    "p = even(2)\n",
    "print(p)"
   ]
  },
  {
   "cell_type": "code",
   "execution_count": 61,
   "metadata": {},
   "outputs": [
    {
     "name": "stdout",
     "output_type": "stream",
     "text": [
      "False\n"
     ]
    }
   ],
   "source": [
    "p = even(3)\n",
    "print(p)"
   ]
  },
  {
   "cell_type": "code",
   "execution_count": 62,
   "metadata": {},
   "outputs": [
    {
     "name": "stdout",
     "output_type": "stream",
     "text": [
      "True\n"
     ]
    }
   ],
   "source": [
    "p = even(4)\n",
    "print(p)"
   ]
  },
  {
   "cell_type": "code",
   "execution_count": 63,
   "metadata": {},
   "outputs": [
    {
     "name": "stdout",
     "output_type": "stream",
     "text": [
      "False\n"
     ]
    }
   ],
   "source": [
    "p = even(5)\n",
    "print(p)"
   ]
  },
  {
   "cell_type": "code",
   "execution_count": 64,
   "metadata": {},
   "outputs": [
    {
     "name": "stdout",
     "output_type": "stream",
     "text": [
      "True\n"
     ]
    }
   ],
   "source": [
    "p = even(0)\n",
    "print(p)"
   ]
  },
  {
   "cell_type": "markdown",
   "metadata": {},
   "source": [
    "### gre\n",
    "\n",
    "✪ Write a function `gre` that given two numbers `x` and `y`, RETURN the greatest number.\n",
    "\n",
    "If they are equal, RETURN any number."
   ]
  },
  {
   "cell_type": "raw",
   "id": "ba5d371c",
   "metadata": {
    "format": "text/html"
   },
   "source": [
    "<a  class=\"jupman-sol jupman-sol-toggler\" \n",
    " onclick=\"jupman.toggleSolution(this);\" \n",
    " data-jupman-show=\"Show solution\" data-jupman-hide=\"Hide\">Show solution</a><div class=\"jupman-sol jupman-sol-code\" style=\"display:none\">  "
   ]
  },
  {
   "cell_type": "code",
   "execution_count": 65,
   "metadata": {},
   "outputs": [],
   "source": [
    "# write here\n",
    "\n",
    "def gre(x,y):\n",
    "    if x > y:\n",
    "        return x\n",
    "    else:\n",
    "        return y"
   ]
  },
  {
   "cell_type": "raw",
   "id": "c1d42dd7",
   "metadata": {
    "format": "text/html"
   },
   "source": [
    "</div>"
   ]
  },
  {
   "cell_type": "code",
   "execution_count": 65,
   "metadata": {},
   "outputs": [],
   "source": [
    "# write here\n",
    "\n"
   ]
  },
  {
   "cell_type": "code",
   "execution_count": 66,
   "metadata": {},
   "outputs": [
    {
     "name": "stdout",
     "output_type": "stream",
     "text": [
      "5\n"
     ]
    }
   ],
   "source": [
    "m = gre(3,5)\n",
    "print(m)"
   ]
  },
  {
   "cell_type": "code",
   "execution_count": 67,
   "metadata": {},
   "outputs": [
    {
     "name": "stdout",
     "output_type": "stream",
     "text": [
      "6\n"
     ]
    }
   ],
   "source": [
    "m = gre(6,2)\n",
    "print(m)"
   ]
  },
  {
   "cell_type": "code",
   "execution_count": 68,
   "metadata": {},
   "outputs": [
    {
     "name": "stdout",
     "output_type": "stream",
     "text": [
      "4\n"
     ]
    }
   ],
   "source": [
    "m = gre(4,4)\n",
    "print(m)"
   ]
  },
  {
   "cell_type": "code",
   "execution_count": 69,
   "metadata": {},
   "outputs": [
    {
     "name": "stdout",
     "output_type": "stream",
     "text": [
      "2\n"
     ]
    }
   ],
   "source": [
    "m = gre(-5,2)\n",
    "print(m)"
   ]
  },
  {
   "cell_type": "code",
   "execution_count": 70,
   "metadata": {},
   "outputs": [
    {
     "name": "stdout",
     "output_type": "stream",
     "text": [
      "-3\n"
     ]
    }
   ],
   "source": [
    "m = gre(-5, -3)\n",
    "print(m)"
   ]
  },
  {
   "cell_type": "markdown",
   "metadata": {},
   "source": [
    "\n",
    "### is_vocal\n",
    "\n",
    "✪ Write a function `is_vocal` in which a character `car` is passed as parameter, and PRINTs `'yes'` if the carachter is a vocal, otherwise PRINTs `'no'` (using the `prints`).\n",
    "\n",
    "\n",
    "```python\n",
    ">>> is_vocal(\"a\")\n",
    "'yes'\n",
    "\n",
    ">>> is_vocal(\"c\")\n",
    "'no'\n",
    "```"
   ]
  },
  {
   "cell_type": "raw",
   "id": "cc003571",
   "metadata": {
    "format": "text/html"
   },
   "source": [
    "<a  class=\"jupman-sol jupman-sol-toggler\" \n",
    " onclick=\"jupman.toggleSolution(this);\" \n",
    " data-jupman-show=\"Show solution\" data-jupman-hide=\"Hide\">Show solution</a><div class=\"jupman-sol jupman-sol-code\" style=\"display:none\">  "
   ]
  },
  {
   "cell_type": "code",
   "execution_count": 71,
   "metadata": {},
   "outputs": [],
   "source": [
    "# write here\n",
    "\n",
    "def is_vocal(char):\n",
    "    if char == 'a' or char == 'e' or char == 'i' or char == 'o' or char == 'u':\n",
    "        print('yes')\n",
    "    else:\n",
    "        print('no')\n",
    "    "
   ]
  },
  {
   "cell_type": "raw",
   "id": "6c4d10bd",
   "metadata": {
    "format": "text/html"
   },
   "source": [
    "</div>"
   ]
  },
  {
   "cell_type": "code",
   "execution_count": 71,
   "metadata": {},
   "outputs": [],
   "source": [
    "# write here\n",
    "\n"
   ]
  },
  {
   "cell_type": "markdown",
   "metadata": {},
   "source": [
    "### sphere_volume\n",
    "\n",
    "✪ The volume of a sphere of radius `r` is $4/3 π r^3$\n",
    "\n",
    "Write a function `sphere_volume(radius)` which given a `radius` of a sphere, PRINTs the volume.\n",
    "\n",
    "**NOTE**: assume pi = 3.14\n",
    "\n",
    "```python\n",
    ">>> sphere_volume(4)\n",
    "267.94666666666666\n",
    "```\n"
   ]
  },
  {
   "cell_type": "raw",
   "id": "741d748c",
   "metadata": {
    "format": "text/html"
   },
   "source": [
    "<a  class=\"jupman-sol jupman-sol-toggler\" \n",
    " onclick=\"jupman.toggleSolution(this);\" \n",
    " data-jupman-show=\"Show solution\" data-jupman-hide=\"Hide\">Show solution</a><div class=\"jupman-sol jupman-sol-code\" style=\"display:none\">  "
   ]
  },
  {
   "cell_type": "code",
   "execution_count": 72,
   "metadata": {},
   "outputs": [],
   "source": [
    "# write here\n",
    "\n",
    "def sphere_volume(radius):\n",
    "    print((4/3)*3.14*(radius**3))\n"
   ]
  },
  {
   "cell_type": "raw",
   "id": "d8c86741",
   "metadata": {
    "format": "text/html"
   },
   "source": [
    "</div>"
   ]
  },
  {
   "cell_type": "code",
   "execution_count": 72,
   "metadata": {},
   "outputs": [],
   "source": [
    "# write here\n",
    "\n"
   ]
  },
  {
   "cell_type": "markdown",
   "metadata": {},
   "source": [
    "### ciri\n",
    "\n",
    "✪ Write a function `ciri(name)` which takes as parameter the string `name` and RETURN `True` if it is equal to the name `'Cirillo'`\n",
    "\n",
    "\n",
    "```python\n",
    ">>> r = ciri(\"Cirillo\")\n",
    ">>> r\n",
    "True\n",
    "\n",
    ">>> r = ciri(\"Cirillo\")\n",
    ">>> r\n",
    "False\n",
    "```"
   ]
  },
  {
   "cell_type": "raw",
   "id": "84cc02a5",
   "metadata": {
    "format": "text/html"
   },
   "source": [
    "<a  class=\"jupman-sol jupman-sol-toggler\" \n",
    " onclick=\"jupman.toggleSolution(this);\" \n",
    " data-jupman-show=\"Show solution\" data-jupman-hide=\"Hide\">Show solution</a><div class=\"jupman-sol jupman-sol-code\" style=\"display:none\">  "
   ]
  },
  {
   "cell_type": "code",
   "execution_count": 73,
   "metadata": {},
   "outputs": [],
   "source": [
    "# write here\n",
    "\n",
    "def ciri(name):\n",
    "    if name == \"Cirillo\":\n",
    "        return True\n",
    "    else:\n",
    "        return False\n"
   ]
  },
  {
   "cell_type": "raw",
   "id": "ebf9a989",
   "metadata": {
    "format": "text/html"
   },
   "source": [
    "</div>"
   ]
  },
  {
   "cell_type": "code",
   "execution_count": 73,
   "metadata": {},
   "outputs": [],
   "source": [
    "# write here\n",
    "\n"
   ]
  },
  {
   "cell_type": "markdown",
   "metadata": {},
   "source": [
    "### age\n",
    "\n",
    "✪ Write a function `age` which takes as parameter `year` of birth and RETURN the age of the person\n",
    "\n",
    "**Suppose the current year is known, so to represent it in the function body use a constant like `2019`:\n",
    "\n",
    "```python\n",
    ">>> a = age(2003)\n",
    ">>> print(a)\n",
    "16\n",
    "```"
   ]
  },
  {
   "cell_type": "raw",
   "id": "565228da",
   "metadata": {
    "format": "text/html"
   },
   "source": [
    "<a  class=\"jupman-sol jupman-sol-toggler\" \n",
    " onclick=\"jupman.toggleSolution(this);\" \n",
    " data-jupman-show=\"Show solution\" data-jupman-hide=\"Hide\">Show solution</a><div class=\"jupman-sol jupman-sol-code\" style=\"display:none\">  "
   ]
  },
  {
   "cell_type": "code",
   "execution_count": 74,
   "metadata": {},
   "outputs": [],
   "source": [
    "# write here\n",
    "\n",
    "def age(year):\n",
    "    return 2019 - year"
   ]
  },
  {
   "cell_type": "raw",
   "id": "ccde08ff",
   "metadata": {
    "format": "text/html"
   },
   "source": [
    "</div>"
   ]
  },
  {
   "cell_type": "code",
   "execution_count": 74,
   "metadata": {},
   "outputs": [],
   "source": [
    "# write here\n",
    "\n"
   ]
  },
  {
   "cell_type": "markdown",
   "metadata": {},
   "source": [
    "## Verify comprehension\n",
    "\n",
    "\n",
    "Following exercises require you to know:\n",
    "\n",
    "<div class=\"alert alert-warning\">\n",
    "\n",
    "**ATTENTION**\n",
    "\n",
    "Following exercises require you to know:\n",
    "\n",
    "<ul>\n",
    "<li>Complex statements: [Andrea Passerini slides A03](http://disi.unitn.it/~passerini/teaching/2019-2020/sci-pro/slides/A03-controlflow.pdf)</li>\n",
    "<li>[Tests with asserts](https://sciprog.davidleoni.it/errors-and-testing/errors-and-testing-sol.html#Testing-with-asserts): Following exercises contain automated tests to help you spot errors. To understand how to do them, read before [Error handling and testing](https://sciprog.davidleoni.it/errors-and-testing/errors-and-testing-sol.html)</li>\n",
    "</ul>\n",
    "</div>\n"
   ]
  },
  {
   "cell_type": "markdown",
   "metadata": {},
   "source": [
    "### gre3\n",
    "\n",
    "✪✪ Write a function `gre3(a,b,c)` which takes three numbers and RETURN the greatest among them\n",
    "\n",
    "\n",
    "Examples:\n",
    "\n",
    "```python\n",
    ">>> gre3(1,2,4)\n",
    "4\n",
    "\n",
    ">>> gre3(5,7,3)\n",
    "7\n",
    "\n",
    ">>> gre3(4,4,4)\n",
    "4\n",
    "```"
   ]
  },
  {
   "cell_type": "code",
   "execution_count": 75,
   "metadata": {},
   "outputs": [],
   "source": [
    "# write ehere\n",
    "\n",
    "def gre3(a,b,c):\n",
    "    if a > b:\n",
    "        if a>c:\n",
    "            return a\n",
    "        else:\n",
    "            return c\n",
    "    else:\n",
    "        if b > c:\n",
    "            return b\n",
    "        else:\n",
    "            return c\n",
    "\n",
    "assert gre3(1,2,4) == 4\n",
    "assert gre3(5,7,3) == 7\n",
    "assert gre3(4,4,4) == 4"
   ]
  },
  {
   "cell_type": "markdown",
   "metadata": {},
   "source": [
    "\n",
    "### final_price\n",
    "\n",
    "✪✪ The cover price of a book is € 24,95, but a library obtains 40% of discount. Shipping costs  are € 3 for first copy and 75 cents for each additional copy. How much `n` copies cost ?\n",
    "\n",
    "Write a function `final_price(n)` which RETURN the price.\n",
    "\n",
    "**ATTENTION 1**: For numbers Python wants a dot, NOT the comma !\n",
    "\n",
    "**ATTENTION 2**: If you ordered zero books, how much should you pay ?\n",
    "\n",
    "**HINT**: the 40% of 24,95 can be calculated  by multiplying the price by 0.40\n",
    "\n",
    "```python\n",
    ">>> p = final_price(10)\n",
    ">>> print(p)\n",
    "\n",
    "159.45\n",
    "\n",
    ">>> p = final_price(0)\n",
    ">>> print(p)\n",
    "\n",
    "0\n",
    "\n",
    "```"
   ]
  },
  {
   "cell_type": "raw",
   "id": "bbbc9d5a",
   "metadata": {
    "format": "text/html"
   },
   "source": [
    "<a  class=\"jupman-sol jupman-sol-toggler\" \n",
    " onclick=\"jupman.toggleSolution(this);\" \n",
    " data-jupman-show=\"Show solution\" data-jupman-hide=\"Hide\">Show solution</a><div class=\"jupman-sol jupman-sol-code\" style=\"display:none\">  "
   ]
  },
  {
   "cell_type": "code",
   "execution_count": 76,
   "metadata": {},
   "outputs": [],
   "source": [
    "def final_price(n):\n",
    "    \n",
    "    if n == 0:\n",
    "        return 0\n",
    "    else:\n",
    "        return n* 24.95*0.6 + 3 +(n-1)*0.75\n",
    "    \n",
    "\n",
    "assert final_price(10) == 159.45\n",
    "assert final_price(0) == 0"
   ]
  },
  {
   "cell_type": "raw",
   "id": "daa275a1",
   "metadata": {
    "format": "text/html"
   },
   "source": [
    "</div>"
   ]
  },
  {
   "cell_type": "code",
   "execution_count": 76,
   "metadata": {},
   "outputs": [],
   "source": [
    "def final_price(n):\n",
    "    raise Exception('TODO IMPLEMENT ME !')\n",
    "\n",
    "assert final_price(10) == 159.45\n",
    "assert final_price(0) == 0"
   ]
  },
  {
   "cell_type": "markdown",
   "metadata": {},
   "source": [
    "### arrival_time\n",
    "\n",
    "✪✪✪ By running slowly you take 8 minutes and 15 seconds per mile, and by running with moderate rhythm you take 7 minutes and 12 seconds per mile.\n",
    "\n",
    "Write a function `arrival_time(n,m)` which, supposing you start at 6:52, given `n` miles run with slow rhythm and `m` with moderate rhythm, PRINTs arrival time.\n",
    "\n",
    "\n",
    "* **HINT 1**: to calculate an integer division, use`//`\n",
    "* **HINT 2**: to calculate the reminder of integer division, use the module operator `%`\n",
    "\n",
    "```python\n",
    ">>> arrival_time(2,2)\n",
    "7:22\n",
    "```"
   ]
  },
  {
   "cell_type": "raw",
   "id": "3979962f",
   "metadata": {
    "format": "text/html"
   },
   "source": [
    "<a  class=\"jupman-sol jupman-sol-toggler\" \n",
    " onclick=\"jupman.toggleSolution(this);\" \n",
    " data-jupman-show=\"Show solution\" data-jupman-hide=\"Hide\">Show solution</a><div class=\"jupman-sol jupman-sol-code\" style=\"display:none\">  "
   ]
  },
  {
   "cell_type": "code",
   "execution_count": 77,
   "metadata": {},
   "outputs": [],
   "source": [
    "def arrival_time(n,m):\n",
    "    \n",
    "    starting_hours = 6\n",
    "    starting_minutes = 52\n",
    "\n",
    "    # passed seconds\n",
    "    seconds = n * 495 + m * 432\n",
    "    \n",
    "    # passed time\n",
    "    seconds_two = seconds % 60\n",
    "    minutes = seconds // 60\n",
    "    hours = minutes // 60\n",
    "    \n",
    "\n",
    "    arrival_hours= hours + starting_hours\n",
    "    arrival_minutes= minutes + starting_minutes\n",
    "\n",
    "    final_minutes = arrival_minutes % 60\n",
    "    final_hours = arrival_minutes // 60 + arrival_hours\n",
    "\n",
    "    return str(final_hours) + \":\" + str(final_minutes)\n",
    "    \n",
    "\n",
    "assert arrival_time(0,0) == '6:52'\n",
    "assert arrival_time(2,2) == '7:22'\n",
    "assert arrival_time(2,5) == '7:44'\n",
    "assert arrival_time(8,5) == '9:34'"
   ]
  },
  {
   "cell_type": "raw",
   "id": "2d2afc31",
   "metadata": {
    "format": "text/html"
   },
   "source": [
    "</div>"
   ]
  },
  {
   "cell_type": "code",
   "execution_count": 77,
   "metadata": {},
   "outputs": [],
   "source": [
    "def arrival_time(n,m):\n",
    "    raise Exception('TODO IMPLEMENT ME !')\n",
    "\n",
    "assert arrival_time(0,0) == '6:52'\n",
    "assert arrival_time(2,2) == '7:22'\n",
    "assert arrival_time(2,5) == '7:44'\n",
    "assert arrival_time(8,5) == '9:34'"
   ]
  },
  {
   "cell_type": "code",
   "execution_count": null,
   "metadata": {},
   "outputs": [],
   "source": []
  },
  {
   "cell_type": "markdown",
   "metadata": {},
   "source": [
    "## Lambda functions"
   ]
  },
  {
   "cell_type": "markdown",
   "metadata": {},
   "source": [
    "Lambda functions are functions which:\n",
    "\n",
    "- have no name\n",
    "- are defined on one line, typically right where they are needed\n",
    "- their body is an expression, thus you need no `return`\n",
    "\n",
    "Let's create a lambda function which takes a number `x` and doubles it:"
   ]
  },
  {
   "cell_type": "code",
   "execution_count": 78,
   "metadata": {},
   "outputs": [
    {
     "data": {
      "text/plain": [
       "<function __main__.<lambda>(x)>"
      ]
     },
     "execution_count": 78,
     "metadata": {},
     "output_type": "execute_result"
    }
   ],
   "source": [
    "lambda x: x*2"
   ]
  },
  {
   "cell_type": "markdown",
   "metadata": {},
   "source": [
    "As you see, Python created a function object, which gets displayed by Jupyter. Unfortunately, at this point the function object got lost, because that is what happens to any object created by an expression that is not assigned to a variable.\n",
    "\n",
    "To be able to call the function, we will thus convenient to assign such function object to a variable, say `f`:"
   ]
  },
  {
   "cell_type": "code",
   "execution_count": 79,
   "metadata": {},
   "outputs": [],
   "source": [
    "f = lambda x: x*2"
   ]
  },
  {
   "cell_type": "code",
   "execution_count": 80,
   "metadata": {},
   "outputs": [
    {
     "data": {
      "text/plain": [
       "<function __main__.<lambda>(x)>"
      ]
     },
     "execution_count": 80,
     "metadata": {},
     "output_type": "execute_result"
    }
   ],
   "source": [
    "f"
   ]
  },
  {
   "cell_type": "markdown",
   "metadata": {},
   "source": [
    "Great, now we have a function we can call as many times as we want:"
   ]
  },
  {
   "cell_type": "code",
   "execution_count": 81,
   "metadata": {},
   "outputs": [
    {
     "data": {
      "text/plain": [
       "10"
      ]
     },
     "execution_count": 81,
     "metadata": {},
     "output_type": "execute_result"
    }
   ],
   "source": [
    "f(5)"
   ]
  },
  {
   "cell_type": "code",
   "execution_count": 82,
   "metadata": {},
   "outputs": [
    {
     "data": {
      "text/plain": [
       "14"
      ]
     },
     "execution_count": 82,
     "metadata": {},
     "output_type": "execute_result"
    }
   ],
   "source": [
    "f(7)"
   ]
  },
  {
   "cell_type": "markdown",
   "metadata": {},
   "source": [
    "So writing"
   ]
  },
  {
   "cell_type": "code",
   "execution_count": 83,
   "metadata": {},
   "outputs": [],
   "source": [
    "def f(x):\n",
    "    return x*2"
   ]
  },
  {
   "cell_type": "markdown",
   "metadata": {},
   "source": [
    "or "
   ]
  },
  {
   "cell_type": "code",
   "execution_count": 84,
   "metadata": {},
   "outputs": [],
   "source": [
    "f = lambda x: x*2"
   ]
  },
  {
   "cell_type": "markdown",
   "metadata": {},
   "source": [
    "are completely equivalent forms, the main difference being with `def` we can write functions with bodies on multiple lines. Lambdas may appear limited, so why should we use them? Sometimes they allow for very concise code. For example, imagine you have a list of tuples holding animals and their lifespan: "
   ]
  },
  {
   "cell_type": "code",
   "execution_count": 85,
   "metadata": {},
   "outputs": [],
   "source": [
    "animals = [('dog', 12), ('cat', 14), ('pelican', 30), ('eagle', 25), ('squirrel', 6)]"
   ]
  },
  {
   "cell_type": "markdown",
   "metadata": {},
   "source": [
    "If you want to sort them, you can try the `.sort` method but it will not work:"
   ]
  },
  {
   "cell_type": "code",
   "execution_count": 86,
   "metadata": {},
   "outputs": [],
   "source": [
    "animals.sort()"
   ]
  },
  {
   "cell_type": "code",
   "execution_count": 87,
   "metadata": {},
   "outputs": [
    {
     "data": {
      "text/plain": [
       "[('cat', 14), ('dog', 12), ('eagle', 25), ('pelican', 30), ('squirrel', 6)]"
      ]
     },
     "execution_count": 87,
     "metadata": {},
     "output_type": "execute_result"
    }
   ],
   "source": [
    "animals"
   ]
  },
  {
   "cell_type": "markdown",
   "metadata": {},
   "source": [
    "Clearly, this is not what we wanted. To get proper ordering, we need to tell python that when it considers a tuple for comparison, it should extract the lifespan number. To do so, Pyhton provides us with `key` parameter, which we must pass a function that takes as argument the list element under consideration (in this case a tuple) and will return a trasformation of it (in this case the number at 1-th position):"
   ]
  },
  {
   "cell_type": "code",
   "execution_count": 88,
   "metadata": {},
   "outputs": [],
   "source": [
    "animals.sort(key=lambda t: t[1])"
   ]
  },
  {
   "cell_type": "code",
   "execution_count": 89,
   "metadata": {},
   "outputs": [
    {
     "data": {
      "text/plain": [
       "[('squirrel', 6), ('dog', 12), ('cat', 14), ('eagle', 25), ('pelican', 30)]"
      ]
     },
     "execution_count": 89,
     "metadata": {},
     "output_type": "execute_result"
    }
   ],
   "source": [
    "animals"
   ]
  },
  {
   "cell_type": "markdown",
   "metadata": {},
   "source": [
    "Now we got the ordering we wanted. We could have written the thing as "
   ]
  },
  {
   "cell_type": "code",
   "execution_count": 90,
   "metadata": {},
   "outputs": [
    {
     "data": {
      "text/plain": [
       "[('squirrel', 6), ('dog', 12), ('cat', 14), ('eagle', 25), ('pelican', 30)]"
      ]
     },
     "execution_count": 90,
     "metadata": {},
     "output_type": "execute_result"
    }
   ],
   "source": [
    "def myf(t):\n",
    "    return t[1]\n",
    "\n",
    "animals.sort(key=myf)\n",
    "animals"
   ]
  },
  {
   "cell_type": "markdown",
   "metadata": {},
   "source": [
    "but lambdas clearly save some keyboard typing\n",
    "\n",
    "Notice lambdas can take multiple parameters:"
   ]
  },
  {
   "cell_type": "code",
   "execution_count": 91,
   "metadata": {
    "scrolled": true
   },
   "outputs": [
    {
     "data": {
      "text/plain": [
       "10"
      ]
     },
     "execution_count": 91,
     "metadata": {},
     "output_type": "execute_result"
    }
   ],
   "source": [
    "mymul = lambda x,y: x * y\n",
    "\n",
    "mymul(2,5)"
   ]
  },
  {
   "cell_type": "markdown",
   "metadata": {},
   "source": [
    "### Exercises: lambdas"
   ]
  },
  {
   "cell_type": "markdown",
   "metadata": {},
   "source": [
    "### apply_borders \n",
    "\n",
    "✪ Write a function `apply_borders` which takes a function `f` as parameter and a sequence, and RETURN a tuple holding two elements:\n",
    "\n",
    "- first element is obtained by applying `f` to the first element of the sequence\n",
    "- second element is obtained by appling `f` to the last element of the sequence\n",
    "\n",
    "Example: \n",
    "\n",
    "```python\n",
    ">>> apply_borders(lambda x: x.upper(), ['the', 'river', 'is', 'very', 'long'])\n",
    "('THE', 'LONG')\n",
    ">>> apply_borders(lambda x: x[0], ['the', 'river', 'is', 'very', 'long'])\n",
    "('t', 'l')\n",
    "```"
   ]
  },
  {
   "cell_type": "raw",
   "id": "77f76760",
   "metadata": {
    "format": "text/html"
   },
   "source": [
    "<a  class=\"jupman-sol jupman-sol-toggler\" \n",
    " onclick=\"jupman.toggleSolution(this);\" \n",
    " data-jupman-show=\"Show solution\" data-jupman-hide=\"Hide\">Show solution</a><div class=\"jupman-sol jupman-sol-code\" style=\"display:none\">  "
   ]
  },
  {
   "cell_type": "code",
   "execution_count": 92,
   "metadata": {},
   "outputs": [],
   "source": [
    "# write here\n",
    "\n",
    "def apply_borders(f, seq):\n",
    "    return ( f(seq[0]),   f(seq[-1]) )"
   ]
  },
  {
   "cell_type": "raw",
   "id": "4feb0de9",
   "metadata": {
    "format": "text/html"
   },
   "source": [
    "</div>"
   ]
  },
  {
   "cell_type": "code",
   "execution_count": 92,
   "metadata": {},
   "outputs": [],
   "source": [
    "# write here\n",
    "\n"
   ]
  },
  {
   "cell_type": "code",
   "execution_count": 93,
   "metadata": {},
   "outputs": [
    {
     "name": "stdout",
     "output_type": "stream",
     "text": [
      "('THE', 'LONG')\n",
      "('t', 'l')\n"
     ]
    }
   ],
   "source": [
    "print(apply_borders(lambda x: x.upper(), ['the', 'river', 'is', 'very', 'long']))\n",
    "print(apply_borders(lambda x: x[0], ['the', 'river', 'is', 'very', 'long']))"
   ]
  },
  {
   "cell_type": "markdown",
   "metadata": {},
   "source": [
    "### process\n",
    "\n",
    "✪✪ Write a lambda expression to be passed as first parameter of the function `process` defined down here, so that a call to process generates a list as shown here:\n",
    "\n",
    "```python\n",
    ">>> f = PUT_YOUR_LAMBDA_FUNCTION\n",
    ">>> process(f, ['d','b','a','c','e','f'], ['q','s','p','t','r','n'])\n",
    "['An', 'Bp', 'Cq', 'Dr', 'Es', 'Ft']\n",
    "```\n",
    "\n",
    "**NOTE**: `process` is already defined, you do not need to change it"
   ]
  },
  {
   "cell_type": "raw",
   "id": "1ee2af7e",
   "metadata": {
    "format": "text/html"
   },
   "source": [
    "<a  class=\"jupman-sol jupman-sol-toggler\" \n",
    " onclick=\"jupman.toggleSolution(this);\" \n",
    " data-jupman-show=\"Show solution\" data-jupman-hide=\"Hide\">Show solution</a><div class=\"jupman-sol jupman-sol-code\" style=\"display:none\">  "
   ]
  },
  {
   "cell_type": "code",
   "execution_count": 94,
   "metadata": {},
   "outputs": [],
   "source": [
    "def process(f, lista, listb):\n",
    "    orda = list(sorted(lista))\n",
    "    ordb = list(sorted(listb))\n",
    "    ret = []\n",
    "    for i in range(len(lista)):\n",
    "        ret.append(f(orda[i], ordb[i]))\n",
    "    return ret    \n",
    "\n",
    "# write here the f = lambda ...\n",
    "f = lambda x,y: x.upper() + y"
   ]
  },
  {
   "cell_type": "raw",
   "id": "3c505930",
   "metadata": {
    "format": "text/html"
   },
   "source": [
    "</div>"
   ]
  },
  {
   "cell_type": "code",
   "execution_count": 94,
   "metadata": {},
   "outputs": [],
   "source": [
    "def process(f, lista, listb):\n",
    "    orda = list(sorted(lista))\n",
    "    ordb = list(sorted(listb))\n",
    "    ret = []\n",
    "    for i in range(len(lista)):\n",
    "        ret.append(f(orda[i], ordb[i]))\n",
    "    return ret    \n",
    "\n",
    "# write here the f = lambda ...\n",
    "\n"
   ]
  },
  {
   "cell_type": "code",
   "execution_count": 95,
   "metadata": {},
   "outputs": [
    {
     "data": {
      "text/plain": [
       "['An', 'Bp', 'Cq', 'Dr', 'Es', 'Ft']"
      ]
     },
     "execution_count": 95,
     "metadata": {},
     "output_type": "execute_result"
    }
   ],
   "source": [
    "process(f, ['d','b','a','c','e','f'], ['q','s','p','t','r','n'])"
   ]
  }
 ],
 "metadata": {
  "kernelspec": {
   "display_name": "Python 3 (ipykernel)",
   "language": "python",
   "name": "python3"
  },
  "language_info": {
   "codemirror_mode": {
    "name": "ipython",
    "version": 3
   },
   "file_extension": ".py",
   "mimetype": "text/x-python",
   "name": "python",
   "nbconvert_exporter": "python",
   "pygments_lexer": "ipython3",
   "version": "3.7.10"
  },
  "toc": {
   "base_numbering": 1,
   "nav_menu": {},
   "number_sections": false,
   "sideBar": true,
   "skip_h1_title": false,
   "title_cell": "Table of Contents",
   "title_sidebar": "Contents",
   "toc_cell": false,
   "toc_position": {},
   "toc_section_display": true,
   "toc_window_display": true
  }
 },
 "nbformat": 4,
 "nbformat_minor": 2
}
